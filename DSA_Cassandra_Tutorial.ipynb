{
  "nbformat": 4,
  "nbformat_minor": 0,
  "metadata": {
    "colab": {
      "name": "DSA Cassandra_Tutorial.ipynb",
      "provenance": [],
      "include_colab_link": true
    },
    "kernelspec": {
      "name": "python3",
      "display_name": "Python 3"
    }
  },
  "cells": [
    {
      "cell_type": "markdown",
      "metadata": {
        "id": "view-in-github",
        "colab_type": "text"
      },
      "source": [
        "<a href=\"https://colab.research.google.com/github/aicharya/DSA_Python/blob/master/DSA_Cassandra_Tutorial.ipynb\" target=\"_parent\"><img src=\"https://colab.research.google.com/assets/colab-badge.svg\" alt=\"Open In Colab\"/></a>"
      ]
    },
    {
      "cell_type": "markdown",
      "metadata": {
        "id": "6zR21vW7S1yf",
        "colab_type": "text"
      },
      "source": [
        "# DataScienceAcademy\n",
        "\n",
        "https://bit.ly/DSAcasandra\n",
        "\n",
        "https://datascience.one"
      ]
    },
    {
      "cell_type": "markdown",
      "metadata": {
        "id": "tH2xGvu-TJS7",
        "colab_type": "text"
      },
      "source": [
        "## Cassandra Tutorial"
      ]
    },
    {
      "cell_type": "code",
      "metadata": {
        "id": "IsWgJP1fS6pY",
        "colab_type": "code",
        "colab": {
          "base_uri": "https://localhost:8080/",
          "height": 34
        },
        "outputId": "53de33d3-5cee-46c1-e17b-2e0d310c8e45"
      },
      "source": [
        "ls"
      ],
      "execution_count": null,
      "outputs": [
        {
          "output_type": "stream",
          "text": [
            "\u001b[0m\u001b[01;34msample_data\u001b[0m/  secure-connect-dsadb.zip\n"
          ],
          "name": "stdout"
        }
      ]
    },
    {
      "cell_type": "code",
      "metadata": {
        "id": "JgQqfte5VA9o",
        "colab_type": "code",
        "colab": {
          "base_uri": "https://localhost:8080/",
          "height": 193
        },
        "outputId": "9ab3992b-23ea-4ee6-8b99-f51ce315959c"
      },
      "source": [
        "!pip install cassandra-driver"
      ],
      "execution_count": null,
      "outputs": [
        {
          "output_type": "stream",
          "text": [
            "Collecting cassandra-driver\n",
            "\u001b[?25l  Downloading https://files.pythonhosted.org/packages/d0/55/7b49947ae739a4e93d2174e2ddd1dd9b9baac5ba7016ce6c16b394e696cd/cassandra_driver-3.24.0-cp36-cp36m-manylinux1_x86_64.whl (3.8MB)\n",
            "\u001b[K     |████████████████████████████████| 3.8MB 105kB/s \n",
            "\u001b[?25hRequirement already satisfied: six>=1.9 in /usr/local/lib/python3.6/dist-packages (from cassandra-driver) (1.15.0)\n",
            "Collecting geomet<0.3,>=0.1\n",
            "  Downloading https://files.pythonhosted.org/packages/c9/81/156ca48f950f833ddc392f8e3677ca50a18cb9d5db38ccb4ecea55a9303f/geomet-0.2.1.post1-py3-none-any.whl\n",
            "Requirement already satisfied: click in /usr/local/lib/python3.6/dist-packages (from geomet<0.3,>=0.1->cassandra-driver) (7.1.2)\n",
            "Installing collected packages: geomet, cassandra-driver\n",
            "Successfully installed cassandra-driver-3.24.0 geomet-0.2.1.post1\n"
          ],
          "name": "stdout"
        }
      ]
    },
    {
      "cell_type": "code",
      "metadata": {
        "id": "AeqJCZ2bU0Ka",
        "colab_type": "code",
        "colab": {}
      },
      "source": [
        "from cassandra.cluster import Cluster\n",
        "from cassandra.auth import PlainTextAuthProvider\n",
        "\n",
        "cloud_config = {\n",
        "    'secure_connect_bundle': 'secure-connect-dsadb.zip'\n",
        "}\n",
        "auth_provider = PlainTextAuthProvider(username='dsauser', password='dsapass123!')\n",
        "cluster = Cluster(cloud=cloud_config, auth_provider=auth_provider)\n",
        "session = cluster.connect()\n"
      ],
      "execution_count": null,
      "outputs": []
    },
    {
      "cell_type": "markdown",
      "metadata": {
        "id": "mEkml_Sb4RCC",
        "colab_type": "text"
      },
      "source": [
        "#### Session Keyspace\n",
        "\n",
        "The connect() method takes an optional keyspace argument which sets the default keyspace for all queries made through that Session"
      ]
    },
    {
      "cell_type": "code",
      "metadata": {
        "id": "96KM6r8vhOYq",
        "colab_type": "code",
        "colab": {}
      },
      "source": [
        "session = cluster.connect('dsakeyspace')"
      ],
      "execution_count": null,
      "outputs": []
    },
    {
      "cell_type": "markdown",
      "metadata": {
        "id": "6IZK8lrr4vE6",
        "colab_type": "text"
      },
      "source": [
        "#### Create Table\n",
        "To create a table, use session object to execute CQL query for creating a table.\n",
        "#### Syntax\n",
        "create table tablename(attribute_name datatype..);"
      ]
    },
    {
      "cell_type": "code",
      "metadata": {
        "id": "s5ZtIWsI4HOd",
        "colab_type": "code",
        "colab": {
          "base_uri": "https://localhost:8080/",
          "height": 34
        },
        "outputId": "c74217d6-5085-4d55-ab7f-81ea71352335"
      },
      "source": [
        "qry= '''\n",
        "create table students (\n",
        "   studentID int,\n",
        "   name text,\n",
        "   age int,\n",
        "   marks int,\n",
        "   primary key(studentID)\n",
        ");'''\n",
        "session.execute(qry)"
      ],
      "execution_count": null,
      "outputs": [
        {
          "output_type": "execute_result",
          "data": {
            "text/plain": [
              "<cassandra.cluster.ResultSet at 0x7f0dafad93c8>"
            ]
          },
          "metadata": {
            "tags": []
          },
          "execution_count": 79
        }
      ]
    },
    {
      "cell_type": "markdown",
      "metadata": {
        "id": "QBnNCh8n5LSn",
        "colab_type": "text"
      },
      "source": [
        "#### Insert Query\n"
      ]
    },
    {
      "cell_type": "code",
      "metadata": {
        "id": "COi_9W4d4s37",
        "colab_type": "code",
        "colab": {
          "base_uri": "https://localhost:8080/",
          "height": 34
        },
        "outputId": "18712c3a-96e1-41e5-f5d7-86eb171fc5ce"
      },
      "source": [
        "session.execute(\"insert into students (studentID, name, age, marks) values (1, 'Minu',20, 200);\")"
      ],
      "execution_count": null,
      "outputs": [
        {
          "output_type": "execute_result",
          "data": {
            "text/plain": [
              "<cassandra.cluster.ResultSet at 0x7f0dbb060d68>"
            ]
          },
          "metadata": {
            "tags": []
          },
          "execution_count": 86
        }
      ]
    },
    {
      "cell_type": "markdown",
      "metadata": {
        "id": "i9v00kJP5mXI",
        "colab_type": "text"
      },
      "source": [
        "#### Select Statement"
      ]
    },
    {
      "cell_type": "code",
      "metadata": {
        "id": "4Uz7RlAM5odB",
        "colab_type": "code",
        "colab": {
          "base_uri": "https://localhost:8080/",
          "height": 34
        },
        "outputId": "29e19915-71cb-41be-d6e5-167d56c44f8e"
      },
      "source": [
        "rows=session.execute(\"select * from students;\")\n",
        "for row in rows:\n",
        "  print(row)"
      ],
      "execution_count": null,
      "outputs": [
        {
          "output_type": "stream",
          "text": [
            "Row(studentid=1, age=20, marks=200, name='Minu')\n"
          ],
          "name": "stdout"
        }
      ]
    },
    {
      "cell_type": "markdown",
      "metadata": {
        "id": "1vsNFfK--8fV",
        "colab_type": "text"
      },
      "source": [
        "Cassandra’s SELECT query supports use of WHERE clause to apply filter on result set to be fetched. Traditional logical operators like <, > == etc. are recognized."
      ]
    },
    {
      "cell_type": "code",
      "metadata": {
        "id": "0RyuUsh35rDo",
        "colab_type": "code",
        "colab": {
          "base_uri": "https://localhost:8080/",
          "height": 34
        },
        "outputId": "98f797f9-de85-459f-a3bf-b1b327aec37f"
      },
      "source": [
        "rows=session.execute(\"select * from students WHERE age>10 allow filtering;\")\n",
        "for row in rows:\n",
        "  print(row)"
      ],
      "execution_count": null,
      "outputs": [
        {
          "output_type": "stream",
          "text": [
            "Row(studentid=1, age=20, marks=200, name='Karthik')\n"
          ],
          "name": "stdout"
        }
      ]
    },
    {
      "cell_type": "markdown",
      "metadata": {
        "id": "GlMdwCX8U1bi",
        "colab_type": "text"
      },
      "source": [
        "#### Update "
      ]
    },
    {
      "cell_type": "code",
      "metadata": {
        "id": "Z7Faz6dUU5X4",
        "colab_type": "code",
        "colab": {
          "base_uri": "https://localhost:8080/",
          "height": 34
        },
        "outputId": "06c039f4-4e7c-404c-a9e3-76bdfc85c284"
      },
      "source": [
        "session.execute(\"UPDATE students SET name='Karthik' WHERE studentid=1;\")"
      ],
      "execution_count": null,
      "outputs": [
        {
          "output_type": "execute_result",
          "data": {
            "text/plain": [
              "<cassandra.cluster.ResultSet at 0x7f0da55c08d0>"
            ]
          },
          "metadata": {
            "tags": []
          },
          "execution_count": 92
        }
      ]
    },
    {
      "cell_type": "markdown",
      "metadata": {
        "id": "G8ew1xaj-YLu",
        "colab_type": "text"
      },
      "source": [
        "#### Alter Table\n",
        "ALTER TABLE table name ADD  new column datatype;"
      ]
    },
    {
      "cell_type": "code",
      "metadata": {
        "id": "CFqm4W-E-GFV",
        "colab_type": "code",
        "colab": {
          "base_uri": "https://localhost:8080/",
          "height": 34
        },
        "outputId": "d15ae938-5a36-4307-e19a-6563b70bb7d2"
      },
      "source": [
        "session.execute(\"ALTER TABLE students ADD place text\")"
      ],
      "execution_count": null,
      "outputs": [
        {
          "output_type": "execute_result",
          "data": {
            "text/plain": [
              "<cassandra.cluster.ResultSet at 0x7f0da55adb00>"
            ]
          },
          "metadata": {
            "tags": []
          },
          "execution_count": 94
        }
      ]
    },
    {
      "cell_type": "code",
      "metadata": {
        "id": "u4JnriDiWSCk",
        "colab_type": "code",
        "colab": {
          "base_uri": "https://localhost:8080/",
          "height": 34
        },
        "outputId": "24adec05-8ae4-4847-b43a-4dd296d091dc"
      },
      "source": [
        "session.execute(\"insert into students (studentID, name, age, marks,place) values (1, 'Jeny',20, 200,'TVM');\")"
      ],
      "execution_count": null,
      "outputs": [
        {
          "output_type": "execute_result",
          "data": {
            "text/plain": [
              "<cassandra.cluster.ResultSet at 0x7f0dafadcd68>"
            ]
          },
          "metadata": {
            "tags": []
          },
          "execution_count": 95
        }
      ]
    },
    {
      "cell_type": "code",
      "metadata": {
        "id": "8Oooptd8Whag",
        "colab_type": "code",
        "colab": {}
      },
      "source": [
        "rows=session.execute(\"select * from students\")\n",
        "for row in rows:\n",
        "  print(row)"
      ],
      "execution_count": null,
      "outputs": []
    },
    {
      "cell_type": "markdown",
      "metadata": {
        "id": "YPbkepogXQrG",
        "colab_type": "text"
      },
      "source": [
        "#### TRUNCATE"
      ]
    },
    {
      "cell_type": "code",
      "metadata": {
        "id": "36JtgdG2XTMM",
        "colab_type": "code",
        "colab": {
          "base_uri": "https://localhost:8080/",
          "height": 34
        },
        "outputId": "1b0edabc-3a50-491b-bc5f-b82816acb209"
      },
      "source": [
        "session.execute(\"TRUNCATE students;\")\n"
      ],
      "execution_count": null,
      "outputs": [
        {
          "output_type": "execute_result",
          "data": {
            "text/plain": [
              "<cassandra.cluster.ResultSet at 0x7f0da55adef0>"
            ]
          },
          "metadata": {
            "tags": []
          },
          "execution_count": 97
        }
      ]
    },
    {
      "cell_type": "code",
      "metadata": {
        "id": "n9gN3aFUXeAh",
        "colab_type": "code",
        "colab": {}
      },
      "source": [
        "rows=session.execute(\"select * from students WHERE age>10 allow filtering;\")\n",
        "for row in rows:\n",
        "  print(row)"
      ],
      "execution_count": null,
      "outputs": []
    },
    {
      "cell_type": "markdown",
      "metadata": {
        "id": "7XnmRV6YUxJ4",
        "colab_type": "text"
      },
      "source": [
        "#### Drop Table"
      ]
    },
    {
      "cell_type": "code",
      "metadata": {
        "id": "MeMyXQhdUEnA",
        "colab_type": "code",
        "colab": {
          "base_uri": "https://localhost:8080/",
          "height": 34
        },
        "outputId": "1afbdba9-126c-409a-e6ae-4b477ca81378"
      },
      "source": [
        "session.execute(\"DROP TABLE students;\")\n"
      ],
      "execution_count": null,
      "outputs": [
        {
          "output_type": "execute_result",
          "data": {
            "text/plain": [
              "<cassandra.cluster.ResultSet at 0x7f0da55e2400>"
            ]
          },
          "metadata": {
            "tags": []
          },
          "execution_count": 100
        }
      ]
    },
    {
      "cell_type": "code",
      "metadata": {
        "id": "RRE-koYYUOWH",
        "colab_type": "code",
        "colab": {}
      },
      "source": [
        ""
      ],
      "execution_count": null,
      "outputs": []
    }
  ]
}