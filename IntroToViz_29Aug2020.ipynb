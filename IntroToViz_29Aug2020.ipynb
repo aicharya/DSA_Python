{
  "nbformat": 4,
  "nbformat_minor": 0,
  "metadata": {
    "colab": {
      "name": "IntroToViz_29Aug2020.ipynb",
      "provenance": [],
      "authorship_tag": "ABX9TyNEMzpvg+m4TnvuzGE7E74B",
      "include_colab_link": true
    },
    "kernelspec": {
      "name": "python3",
      "display_name": "Python 3"
    }
  },
  "cells": [
    {
      "cell_type": "markdown",
      "metadata": {
        "id": "view-in-github",
        "colab_type": "text"
      },
      "source": [
        "<a href=\"https://colab.research.google.com/github/aicharya/DSA_Python/blob/master/IntroToViz_29Aug2020.ipynb\" target=\"_parent\"><img src=\"https://colab.research.google.com/assets/colab-badge.svg\" alt=\"Open In Colab\"/></a>"
      ]
    },
    {
      "cell_type": "markdown",
      "metadata": {
        "id": "6n_gkhWPhUKL",
        "colab_type": "text"
      },
      "source": [
        "Data Visualization\n",
        "Tableau\n",
        "PowerBI\n",
        "D3.js\n",
        "\n",
        "Matplotlib\n",
        "\n",
        "Seaborn\n",
        "\n",
        "Plotly dash\n",
        "\n",
        "Focus is on Matplotlib\n",
        "\n",
        "ggplot2 tutorial [r-statistics.co]\n",
        "\n",
        "Visualization Wheel\n",
        "\n",
        "Multi dimensionality\n",
        "\n",
        "data-link ratio\n",
        "\n",
        "Representation Python Week 1\n",
        "\n"
      ]
    },
    {
      "cell_type": "markdown",
      "metadata": {
        "id": "iB30uDEyn6o0",
        "colab_type": "text"
      },
      "source": [
        "Quantified self . com"
      ]
    },
    {
      "cell_type": "markdown",
      "metadata": {
        "id": "MbunWt-2snQ1",
        "colab_type": "text"
      },
      "source": [
        "sparktweet"
      ]
    }
  ]
}