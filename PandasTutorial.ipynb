{
  "nbformat": 4,
  "nbformat_minor": 0,
  "metadata": {
    "kernelspec": {
      "display_name": "Python 3",
      "language": "python",
      "name": "python3"
    },
    "language_info": {
      "codemirror_mode": {
        "name": "ipython",
        "version": 3
      },
      "file_extension": ".py",
      "mimetype": "text/x-python",
      "name": "python",
      "nbconvert_exporter": "python",
      "pygments_lexer": "ipython3",
      "version": "3.5.2"
    },
    "colab": {
      "name": "PandasTutorial.ipynb",
      "provenance": [],
      "include_colab_link": true
    }
  },
  "cells": [
    {
      "cell_type": "markdown",
      "metadata": {
        "id": "view-in-github",
        "colab_type": "text"
      },
      "source": [
        "<a href=\"https://colab.research.google.com/github/aicharya/DSA_Python/blob/master/PandasTutorial.ipynb\" target=\"_parent\"><img src=\"https://colab.research.google.com/assets/colab-badge.svg\" alt=\"Open In Colab\"/></a>"
      ]
    },
    {
      "cell_type": "markdown",
      "metadata": {
        "id": "NqL0b2QZOyST",
        "colab_type": "text"
      },
      "source": [
        "# Pandas Tutorial Concise Version"
      ]
    },
    {
      "cell_type": "code",
      "metadata": {
        "id": "00KsBsGrOySU",
        "colab_type": "code",
        "colab": {}
      },
      "source": [
        "#import pandas"
      ],
      "execution_count": null,
      "outputs": []
    },
    {
      "cell_type": "code",
      "metadata": {
        "id": "xlJvnSSDOySX",
        "colab_type": "code",
        "colab": {}
      },
      "source": [
        "import pandas as pd\n",
        "import numpy as np\n",
        "import matplotlib.pyplot as plt"
      ],
      "execution_count": null,
      "outputs": []
    },
    {
      "cell_type": "markdown",
      "metadata": {
        "id": "_TvmXomhOySa",
        "colab_type": "text"
      },
      "source": [
        "## Object Creation -  Series"
      ]
    },
    {
      "cell_type": "markdown",
      "metadata": {
        "id": "XD96b6GaOySa",
        "colab_type": "text"
      },
      "source": [
        "Creating a Series by passing a list of values, letting pandas create a default integer index:"
      ]
    },
    {
      "cell_type": "markdown",
      "metadata": {
        "id": "ATMaj5ruOySa",
        "colab_type": "text"
      },
      "source": [
        "\n",
        "class pandas.Series(data=None, index=None, dtype=None, name=None, copy=False, fastpath=False)\n",
        "\n",
        "One-dimensional ndarray with axis labels (including time series).\n",
        "\n",
        "Labels need not be unique but must be a hashable type. The object supports both integer- and label-based indexing and provides a host of methods for performing operations involving the index. Statistical methods from ndarray have been overridden to automatically exclude missing data (currently represented as NaN).\n",
        "\n",
        "Operations between Series (+, -, /, , *) align values based on their associated index values– they need not be the same length. The result index will be the sorted union of the two indexes.\n",
        "    \n",
        "Parameters:\t\n",
        "\n",
        "data : array-like, dict, or scalar value: Contains data stored in Series\n",
        "\n",
        "index : array-like or Index (1d): Values must be hashable and have the same length as data. Non-unique index values are allowed. Will default to RangeIndex(len(data)) if not provided. If both a dict and index sequence are used, the index will override the keys found in the dict.\n",
        "\n",
        "dtype : numpy.dtype or None: If None, dtype will be inferred\n",
        "\n",
        "copy : boolean, default False: Copy input data\n",
        "\n",
        "\n",
        "For more refer: https://pandas.pydata.org/pandas-docs/stable/generated/pandas.Series.html#pandas.Series\n"
      ]
    },
    {
      "cell_type": "code",
      "metadata": {
        "id": "2YsngUVnOySb",
        "colab_type": "code",
        "colab": {}
      },
      "source": [
        "?pd.Series"
      ],
      "execution_count": null,
      "outputs": []
    },
    {
      "cell_type": "code",
      "metadata": {
        "id": "494acJ7wOySd",
        "colab_type": "code",
        "colab": {}
      },
      "source": [
        "s = pd.Series([1,3,5,np.nan,6,8])"
      ],
      "execution_count": null,
      "outputs": []
    },
    {
      "cell_type": "code",
      "metadata": {
        "id": "vQQb7XgvOySf",
        "colab_type": "code",
        "colab": {},
        "outputId": "f23effdb-4c61-420b-f89b-03134dfbad55"
      },
      "source": [
        "s"
      ],
      "execution_count": null,
      "outputs": [
        {
          "output_type": "execute_result",
          "data": {
            "text/plain": [
              "0    1.0\n",
              "1    3.0\n",
              "2    5.0\n",
              "3    NaN\n",
              "4    6.0\n",
              "5    8.0\n",
              "dtype: float64"
            ]
          },
          "metadata": {
            "tags": []
          },
          "execution_count": 10
        }
      ]
    },
    {
      "cell_type": "code",
      "metadata": {
        "id": "96pE_AW8OySi",
        "colab_type": "code",
        "colab": {},
        "outputId": "9cdb5294-b6bf-4596-f23b-aecd9fe2529f"
      },
      "source": [
        "ind1=[\"India\",\"Pakistan\",\"Bangladesh\",\"srilanka\",\"china\",\"nepal\"]\n",
        "\n",
        "s2 = pd.Series([1,3,5,np.nan,6,8], index=ind1)\n",
        "print(s2)"
      ],
      "execution_count": null,
      "outputs": [
        {
          "output_type": "stream",
          "text": [
            "India         1.0\n",
            "Pakistan      3.0\n",
            "Bangladesh    5.0\n",
            "srilanka      NaN\n",
            "china         6.0\n",
            "nepal         8.0\n",
            "dtype: float64\n"
          ],
          "name": "stdout"
        }
      ]
    },
    {
      "cell_type": "markdown",
      "metadata": {
        "id": "LQhLSdqVOySn",
        "colab_type": "text"
      },
      "source": [
        "## Object Creation - DataFrame"
      ]
    },
    {
      "cell_type": "markdown",
      "metadata": {
        "id": "l-JxvXYgOySn",
        "colab_type": "text"
      },
      "source": [
        "pandas.DataFrame\n",
        "\n",
        "class pandas.DataFrame(data=None, index=None, columns=None, dtype=None, copy=False)\n",
        "\n",
        "Two-dimensional size-mutable, potentially heterogeneous tabular data structure with labeled axes (rows and columns). Arithmetic operations align on both row and column labels. Can be thought of as a dict-like container for Series objects. The primary pandas data structure\n",
        "    \n",
        "  \n",
        "Parameters:\t\n",
        "\n",
        "data : numpy ndarray (structured or homogeneous), dict, or DataFrame: Dict can contain Series, arrays, constants, or list-like objects\n",
        "\n",
        "index : Index or array-like: Index to use for resulting frame. Will default to np.arange(n) if no indexing information part of input data and no index provided\n",
        "\n",
        "columns : Index or array-like: Column labels to use for resulting frame. Will default to np.arange(n) if no column labels are provided\n",
        "\n",
        "dtype : dtype, default None: Data type to force. Only a single dtype is allowed. If None, infer\n",
        "\n",
        "copy : boolean, default False: Copy data from inputs. Only affects DataFrame / 2d ndarray input\n",
        "\n",
        "For more refer: https://pandas.pydata.org/pandas-docs/stable/generated/pandas.DataFrame.html#pandas.DataFrame\n"
      ]
    },
    {
      "cell_type": "markdown",
      "metadata": {
        "id": "1JrfgH0FOySn",
        "colab_type": "text"
      },
      "source": [
        "Creating a DataFrame by passing a numpy array, with a datetime index and labeled columns:"
      ]
    },
    {
      "cell_type": "code",
      "metadata": {
        "scrolled": true,
        "id": "Za0LMoSiOySo",
        "colab_type": "code",
        "colab": {},
        "outputId": "1b3e26b0-d986-4363-a61f-766349ce27fe"
      },
      "source": [
        "dates = pd.date_range('20130101', periods=6)\n",
        "dates\n"
      ],
      "execution_count": null,
      "outputs": [
        {
          "output_type": "execute_result",
          "data": {
            "text/plain": [
              "DatetimeIndex(['2013-01-01', '2013-01-02', '2013-01-03', '2013-01-04',\n",
              "               '2013-01-05', '2013-01-06'],\n",
              "              dtype='datetime64[ns]', freq='D')"
            ]
          },
          "metadata": {
            "tags": []
          },
          "execution_count": 13
        }
      ]
    },
    {
      "cell_type": "code",
      "metadata": {
        "scrolled": false,
        "id": "UEVpGgHNOySq",
        "colab_type": "code",
        "colab": {},
        "outputId": "b7a585b3-19cb-4dcb-f105-12414fa333a0"
      },
      "source": [
        "np.random.randn(6,4)"
      ],
      "execution_count": null,
      "outputs": [
        {
          "output_type": "execute_result",
          "data": {
            "text/plain": [
              "array([[ 1.14325825, -0.88384058,  2.05971863, -1.07892285],\n",
              "       [-0.971091  ,  0.71208858,  1.19860165, -0.18547212],\n",
              "       [ 0.00432018, -0.64281724, -1.77391524,  1.1863704 ],\n",
              "       [ 1.40127131, -1.04889335, -0.63281016, -0.51692319],\n",
              "       [-0.30170373, -1.3378684 , -0.76829572,  1.69130339],\n",
              "       [ 2.0539057 , -1.6836392 , -0.29389145, -1.02901675]])"
            ]
          },
          "metadata": {
            "tags": []
          },
          "execution_count": 16
        }
      ]
    },
    {
      "cell_type": "code",
      "metadata": {
        "scrolled": true,
        "id": "aXZac9a0OySs",
        "colab_type": "code",
        "colab": {},
        "outputId": "5cb847f7-c169-4095-b12a-0f854fa677b0"
      },
      "source": [
        "df = pd.DataFrame(np.random.randn(6,4), index=dates, columns=list('ABCD'))\n",
        "df"
      ],
      "execution_count": null,
      "outputs": [
        {
          "output_type": "execute_result",
          "data": {
            "text/html": [
              "<div>\n",
              "<style>\n",
              "    .dataframe thead tr:only-child th {\n",
              "        text-align: right;\n",
              "    }\n",
              "\n",
              "    .dataframe thead th {\n",
              "        text-align: left;\n",
              "    }\n",
              "\n",
              "    .dataframe tbody tr th {\n",
              "        vertical-align: top;\n",
              "    }\n",
              "</style>\n",
              "<table border=\"1\" class=\"dataframe\">\n",
              "  <thead>\n",
              "    <tr style=\"text-align: right;\">\n",
              "      <th></th>\n",
              "      <th>A</th>\n",
              "      <th>B</th>\n",
              "      <th>C</th>\n",
              "      <th>D</th>\n",
              "    </tr>\n",
              "  </thead>\n",
              "  <tbody>\n",
              "    <tr>\n",
              "      <th>2013-01-01</th>\n",
              "      <td>1.545821</td>\n",
              "      <td>-0.694317</td>\n",
              "      <td>0.732410</td>\n",
              "      <td>0.789461</td>\n",
              "    </tr>\n",
              "    <tr>\n",
              "      <th>2013-01-02</th>\n",
              "      <td>-0.962319</td>\n",
              "      <td>0.396033</td>\n",
              "      <td>-0.176609</td>\n",
              "      <td>1.012175</td>\n",
              "    </tr>\n",
              "    <tr>\n",
              "      <th>2013-01-03</th>\n",
              "      <td>-0.050927</td>\n",
              "      <td>-1.867463</td>\n",
              "      <td>0.592592</td>\n",
              "      <td>1.038723</td>\n",
              "    </tr>\n",
              "    <tr>\n",
              "      <th>2013-01-04</th>\n",
              "      <td>1.435120</td>\n",
              "      <td>1.116273</td>\n",
              "      <td>-0.844474</td>\n",
              "      <td>0.589837</td>\n",
              "    </tr>\n",
              "    <tr>\n",
              "      <th>2013-01-05</th>\n",
              "      <td>-1.318908</td>\n",
              "      <td>-0.828981</td>\n",
              "      <td>0.783919</td>\n",
              "      <td>-1.489118</td>\n",
              "    </tr>\n",
              "    <tr>\n",
              "      <th>2013-01-06</th>\n",
              "      <td>-0.456069</td>\n",
              "      <td>-0.256165</td>\n",
              "      <td>-0.271569</td>\n",
              "      <td>0.070510</td>\n",
              "    </tr>\n",
              "  </tbody>\n",
              "</table>\n",
              "</div>"
            ],
            "text/plain": [
              "                   A         B         C         D\n",
              "2013-01-01  1.545821 -0.694317  0.732410  0.789461\n",
              "2013-01-02 -0.962319  0.396033 -0.176609  1.012175\n",
              "2013-01-03 -0.050927 -1.867463  0.592592  1.038723\n",
              "2013-01-04  1.435120  1.116273 -0.844474  0.589837\n",
              "2013-01-05 -1.318908 -0.828981  0.783919 -1.489118\n",
              "2013-01-06 -0.456069 -0.256165 -0.271569  0.070510"
            ]
          },
          "metadata": {
            "tags": []
          },
          "execution_count": 21
        }
      ]
    },
    {
      "cell_type": "code",
      "metadata": {
        "id": "hokxCMeoOySu",
        "colab_type": "code",
        "colab": {}
      },
      "source": [
        "dict1={'a':\"john\",'b':[0,1], \"c\":[\"foo\",\"bar\"]}"
      ],
      "execution_count": null,
      "outputs": []
    },
    {
      "cell_type": "code",
      "metadata": {
        "id": "BqiftsfHOySw",
        "colab_type": "code",
        "colab": {}
      },
      "source": [
        "df01=pd.DataFrame(dict1)"
      ],
      "execution_count": null,
      "outputs": []
    },
    {
      "cell_type": "code",
      "metadata": {
        "id": "iGHgl8OoOySy",
        "colab_type": "code",
        "colab": {},
        "outputId": "a1f3c9aa-d6aa-4f8d-f7c2-2ae9b66427ae"
      },
      "source": [
        "df01"
      ],
      "execution_count": null,
      "outputs": [
        {
          "output_type": "execute_result",
          "data": {
            "text/html": [
              "<div>\n",
              "<style>\n",
              "    .dataframe thead tr:only-child th {\n",
              "        text-align: right;\n",
              "    }\n",
              "\n",
              "    .dataframe thead th {\n",
              "        text-align: left;\n",
              "    }\n",
              "\n",
              "    .dataframe tbody tr th {\n",
              "        vertical-align: top;\n",
              "    }\n",
              "</style>\n",
              "<table border=\"1\" class=\"dataframe\">\n",
              "  <thead>\n",
              "    <tr style=\"text-align: right;\">\n",
              "      <th></th>\n",
              "      <th>a</th>\n",
              "      <th>b</th>\n",
              "      <th>c</th>\n",
              "    </tr>\n",
              "  </thead>\n",
              "  <tbody>\n",
              "    <tr>\n",
              "      <th>0</th>\n",
              "      <td>john</td>\n",
              "      <td>0</td>\n",
              "      <td>foo</td>\n",
              "    </tr>\n",
              "    <tr>\n",
              "      <th>1</th>\n",
              "      <td>john</td>\n",
              "      <td>1</td>\n",
              "      <td>bar</td>\n",
              "    </tr>\n",
              "  </tbody>\n",
              "</table>\n",
              "</div>"
            ],
            "text/plain": [
              "      a  b    c\n",
              "0  john  0  foo\n",
              "1  john  1  bar"
            ]
          },
          "metadata": {
            "tags": []
          },
          "execution_count": 26
        }
      ]
    },
    {
      "cell_type": "markdown",
      "metadata": {
        "id": "EcD1rtF1OyS1",
        "colab_type": "text"
      },
      "source": [
        "Creating a `DataFrame` by passing a dict of objects that can be converted to series-like."
      ]
    },
    {
      "cell_type": "code",
      "metadata": {
        "id": "FKcXoDVXOyS1",
        "colab_type": "code",
        "colab": {}
      },
      "source": [
        "df2 = pd.DataFrame({'A' : 1.,\n",
        "                    'B' : pd.Timestamp('20130102'),\n",
        "                    'C' : pd.Series(1,index=list(range(4)),dtype='float32'),\n",
        "                    'D' : np.array([3] * 4,dtype='int32'),\n",
        "                    'E' : pd.Categorical([\"test\",\"train\",\"test\",\"train\"]),\n",
        "                    'F' : 'foo' })"
      ],
      "execution_count": null,
      "outputs": []
    },
    {
      "cell_type": "code",
      "metadata": {
        "id": "b9IqsppsOyS3",
        "colab_type": "code",
        "colab": {},
        "outputId": "a6a2dcdf-5f2f-4db1-c109-dd67bb0acecd"
      },
      "source": [
        "df2"
      ],
      "execution_count": null,
      "outputs": [
        {
          "output_type": "execute_result",
          "data": {
            "text/html": [
              "<div>\n",
              "<style>\n",
              "    .dataframe thead tr:only-child th {\n",
              "        text-align: right;\n",
              "    }\n",
              "\n",
              "    .dataframe thead th {\n",
              "        text-align: left;\n",
              "    }\n",
              "\n",
              "    .dataframe tbody tr th {\n",
              "        vertical-align: top;\n",
              "    }\n",
              "</style>\n",
              "<table border=\"1\" class=\"dataframe\">\n",
              "  <thead>\n",
              "    <tr style=\"text-align: right;\">\n",
              "      <th></th>\n",
              "      <th>A</th>\n",
              "      <th>B</th>\n",
              "      <th>C</th>\n",
              "      <th>D</th>\n",
              "      <th>E</th>\n",
              "      <th>F</th>\n",
              "    </tr>\n",
              "  </thead>\n",
              "  <tbody>\n",
              "    <tr>\n",
              "      <th>0</th>\n",
              "      <td>1.0</td>\n",
              "      <td>2013-01-02</td>\n",
              "      <td>1.0</td>\n",
              "      <td>3</td>\n",
              "      <td>test</td>\n",
              "      <td>foo</td>\n",
              "    </tr>\n",
              "    <tr>\n",
              "      <th>1</th>\n",
              "      <td>1.0</td>\n",
              "      <td>2013-01-02</td>\n",
              "      <td>1.0</td>\n",
              "      <td>3</td>\n",
              "      <td>train</td>\n",
              "      <td>foo</td>\n",
              "    </tr>\n",
              "    <tr>\n",
              "      <th>2</th>\n",
              "      <td>1.0</td>\n",
              "      <td>2013-01-02</td>\n",
              "      <td>1.0</td>\n",
              "      <td>3</td>\n",
              "      <td>test</td>\n",
              "      <td>foo</td>\n",
              "    </tr>\n",
              "    <tr>\n",
              "      <th>3</th>\n",
              "      <td>1.0</td>\n",
              "      <td>2013-01-02</td>\n",
              "      <td>1.0</td>\n",
              "      <td>3</td>\n",
              "      <td>train</td>\n",
              "      <td>foo</td>\n",
              "    </tr>\n",
              "  </tbody>\n",
              "</table>\n",
              "</div>"
            ],
            "text/plain": [
              "     A          B    C  D      E    F\n",
              "0  1.0 2013-01-02  1.0  3   test  foo\n",
              "1  1.0 2013-01-02  1.0  3  train  foo\n",
              "2  1.0 2013-01-02  1.0  3   test  foo\n",
              "3  1.0 2013-01-02  1.0  3  train  foo"
            ]
          },
          "metadata": {
            "tags": []
          },
          "execution_count": 29
        }
      ]
    },
    {
      "cell_type": "markdown",
      "metadata": {
        "id": "XCMGOXrXOyS5",
        "colab_type": "text"
      },
      "source": [
        "Having specific [dtypes](http://pandas.pydata.org/pandas-docs/stable/basics.html#basics-dtypes)"
      ]
    },
    {
      "cell_type": "code",
      "metadata": {
        "id": "aWsGM9PfOyS5",
        "colab_type": "code",
        "colab": {},
        "outputId": "39c6d2a2-79d3-41e8-cef7-206dafba2b0c"
      },
      "source": [
        "df2.dtypes"
      ],
      "execution_count": null,
      "outputs": [
        {
          "output_type": "execute_result",
          "data": {
            "text/plain": [
              "A           float64\n",
              "B    datetime64[ns]\n",
              "C           float32\n",
              "D             int32\n",
              "E          category\n",
              "F            object\n",
              "dtype: object"
            ]
          },
          "metadata": {
            "tags": []
          },
          "execution_count": 30
        }
      ]
    },
    {
      "cell_type": "markdown",
      "metadata": {
        "id": "gamYU1VcOyS7",
        "colab_type": "text"
      },
      "source": [
        "If you’re using IPython, tab completion for column names (as well as public attributes) is automatically enabled. Here’s a subset of the attributes that will be completed:"
      ]
    },
    {
      "cell_type": "code",
      "metadata": {
        "id": "ROxtGz34OyS8",
        "colab_type": "code",
        "colab": {}
      },
      "source": [
        ""
      ],
      "execution_count": null,
      "outputs": []
    },
    {
      "cell_type": "markdown",
      "metadata": {
        "id": "6vDGWWK6OyS-",
        "colab_type": "text"
      },
      "source": [
        "```\n",
        "df2.<TAB>\n",
        "\n",
        "df2.A                  df2.boxplot\n",
        "df2.abs                df2.C\n",
        "df2.add                df2.clip\n",
        "df2.add_prefix         df2.clip_lower\n",
        "df2.add_suffix         df2.clip_upper\n",
        "df2.align              df2.columns\n",
        "df2.all                df2.combine\n",
        "df2.any                df2.combineAdd\n",
        "df2.append             df2.combine_first\n",
        "df2.apply              df2.combineMult\n",
        "df2.applymap           df2.compound\n",
        "df2.as_blocks          df2.consolidate\n",
        "df2.asfreq             df2.convert_objects\n",
        "df2.as_matrix          df2.copy\n",
        "df2.astype             df2.corr\n",
        "df2.at                 df2.corrwith\n",
        "df2.at_time            df2.count\n",
        "df2.axes               df2.cov\n",
        "df2.B                  df2.cummax\n",
        "df2.between_time       df2.cummin\n",
        "df2.bfill              df2.cumprod\n",
        "df2.blocks             df2.cumsum\n",
        "df2.bool               df2.D\n",
        "```"
      ]
    },
    {
      "cell_type": "markdown",
      "metadata": {
        "id": "G0djQwn9OyS-",
        "colab_type": "text"
      },
      "source": [
        "As you can see, the columns A, B, C, and D are automatically tab completed. E is there as well; the rest of the attributes have been truncated for brevity."
      ]
    },
    {
      "cell_type": "markdown",
      "metadata": {
        "id": "FfaVmfuAOyS_",
        "colab_type": "text"
      },
      "source": [
        "## Viewing Data"
      ]
    },
    {
      "cell_type": "markdown",
      "metadata": {
        "id": "o9OeP3ViOyS_",
        "colab_type": "text"
      },
      "source": [
        "Seeing the top & bottom rows of the frame"
      ]
    },
    {
      "cell_type": "code",
      "metadata": {
        "scrolled": true,
        "id": "wE6bVe3DOyS_",
        "colab_type": "code",
        "colab": {},
        "outputId": "98655c9b-fd13-4f66-db16-7f23954046fa"
      },
      "source": [
        "df.head(3)"
      ],
      "execution_count": null,
      "outputs": [
        {
          "output_type": "execute_result",
          "data": {
            "text/html": [
              "<div>\n",
              "<style>\n",
              "    .dataframe thead tr:only-child th {\n",
              "        text-align: right;\n",
              "    }\n",
              "\n",
              "    .dataframe thead th {\n",
              "        text-align: left;\n",
              "    }\n",
              "\n",
              "    .dataframe tbody tr th {\n",
              "        vertical-align: top;\n",
              "    }\n",
              "</style>\n",
              "<table border=\"1\" class=\"dataframe\">\n",
              "  <thead>\n",
              "    <tr style=\"text-align: right;\">\n",
              "      <th></th>\n",
              "      <th>A</th>\n",
              "      <th>B</th>\n",
              "      <th>C</th>\n",
              "      <th>D</th>\n",
              "    </tr>\n",
              "  </thead>\n",
              "  <tbody>\n",
              "    <tr>\n",
              "      <th>2013-01-01</th>\n",
              "      <td>1.545821</td>\n",
              "      <td>-0.694317</td>\n",
              "      <td>0.732410</td>\n",
              "      <td>0.789461</td>\n",
              "    </tr>\n",
              "    <tr>\n",
              "      <th>2013-01-02</th>\n",
              "      <td>-0.962319</td>\n",
              "      <td>0.396033</td>\n",
              "      <td>-0.176609</td>\n",
              "      <td>1.012175</td>\n",
              "    </tr>\n",
              "    <tr>\n",
              "      <th>2013-01-03</th>\n",
              "      <td>-0.050927</td>\n",
              "      <td>-1.867463</td>\n",
              "      <td>0.592592</td>\n",
              "      <td>1.038723</td>\n",
              "    </tr>\n",
              "  </tbody>\n",
              "</table>\n",
              "</div>"
            ],
            "text/plain": [
              "                   A         B         C         D\n",
              "2013-01-01  1.545821 -0.694317  0.732410  0.789461\n",
              "2013-01-02 -0.962319  0.396033 -0.176609  1.012175\n",
              "2013-01-03 -0.050927 -1.867463  0.592592  1.038723"
            ]
          },
          "metadata": {
            "tags": []
          },
          "execution_count": 34
        }
      ]
    },
    {
      "cell_type": "code",
      "metadata": {
        "id": "VoP7m3v4OyTB",
        "colab_type": "code",
        "colab": {},
        "outputId": "c6746abb-4f23-46ea-9efc-e19080628565"
      },
      "source": [
        "df.tail(3)"
      ],
      "execution_count": null,
      "outputs": [
        {
          "output_type": "execute_result",
          "data": {
            "text/html": [
              "<div>\n",
              "<style>\n",
              "    .dataframe thead tr:only-child th {\n",
              "        text-align: right;\n",
              "    }\n",
              "\n",
              "    .dataframe thead th {\n",
              "        text-align: left;\n",
              "    }\n",
              "\n",
              "    .dataframe tbody tr th {\n",
              "        vertical-align: top;\n",
              "    }\n",
              "</style>\n",
              "<table border=\"1\" class=\"dataframe\">\n",
              "  <thead>\n",
              "    <tr style=\"text-align: right;\">\n",
              "      <th></th>\n",
              "      <th>A</th>\n",
              "      <th>B</th>\n",
              "      <th>C</th>\n",
              "      <th>D</th>\n",
              "    </tr>\n",
              "  </thead>\n",
              "  <tbody>\n",
              "    <tr>\n",
              "      <th>2013-01-04</th>\n",
              "      <td>1.435120</td>\n",
              "      <td>1.116273</td>\n",
              "      <td>-0.844474</td>\n",
              "      <td>0.589837</td>\n",
              "    </tr>\n",
              "    <tr>\n",
              "      <th>2013-01-05</th>\n",
              "      <td>-1.318908</td>\n",
              "      <td>-0.828981</td>\n",
              "      <td>0.783919</td>\n",
              "      <td>-1.489118</td>\n",
              "    </tr>\n",
              "    <tr>\n",
              "      <th>2013-01-06</th>\n",
              "      <td>-0.456069</td>\n",
              "      <td>-0.256165</td>\n",
              "      <td>-0.271569</td>\n",
              "      <td>0.070510</td>\n",
              "    </tr>\n",
              "  </tbody>\n",
              "</table>\n",
              "</div>"
            ],
            "text/plain": [
              "                   A         B         C         D\n",
              "2013-01-04  1.435120  1.116273 -0.844474  0.589837\n",
              "2013-01-05 -1.318908 -0.828981  0.783919 -1.489118\n",
              "2013-01-06 -0.456069 -0.256165 -0.271569  0.070510"
            ]
          },
          "metadata": {
            "tags": []
          },
          "execution_count": 35
        }
      ]
    },
    {
      "cell_type": "markdown",
      "metadata": {
        "id": "ljjsbOVzOyTD",
        "colab_type": "text"
      },
      "source": [
        "Display the index, columns, and the underlying numpy data"
      ]
    },
    {
      "cell_type": "code",
      "metadata": {
        "id": "J-IhVPerOyTD",
        "colab_type": "code",
        "colab": {},
        "outputId": "b856c2d9-b411-4433-e124-7d3e6f2649d5"
      },
      "source": [
        "df.index"
      ],
      "execution_count": null,
      "outputs": [
        {
          "output_type": "execute_result",
          "data": {
            "text/plain": [
              "DatetimeIndex(['2013-01-01', '2013-01-02', '2013-01-03', '2013-01-04',\n",
              "               '2013-01-05', '2013-01-06'],\n",
              "              dtype='datetime64[ns]', freq='D')"
            ]
          },
          "metadata": {
            "tags": []
          },
          "execution_count": 36
        }
      ]
    },
    {
      "cell_type": "code",
      "metadata": {
        "id": "JeJ-fQw5OyTF",
        "colab_type": "code",
        "colab": {},
        "outputId": "65c0f5b2-39bf-4bc4-e5df-ed75184fdf24"
      },
      "source": [
        "df.columns"
      ],
      "execution_count": null,
      "outputs": [
        {
          "output_type": "execute_result",
          "data": {
            "text/plain": [
              "Index(['A', 'B', 'C', 'D'], dtype='object')"
            ]
          },
          "metadata": {
            "tags": []
          },
          "execution_count": 37
        }
      ]
    },
    {
      "cell_type": "code",
      "metadata": {
        "id": "UI0cEwNxOyTH",
        "colab_type": "code",
        "colab": {},
        "outputId": "c0472bf7-728f-46ac-d22f-2fbb98e6bec9"
      },
      "source": [
        "df.values"
      ],
      "execution_count": null,
      "outputs": [
        {
          "output_type": "execute_result",
          "data": {
            "text/plain": [
              "array([[ 1.54582136, -0.69431718,  0.7324097 ,  0.78946149],\n",
              "       [-0.96231912,  0.39603321, -0.17660944,  1.01217499],\n",
              "       [-0.05092654, -1.86746311,  0.59259182,  1.03872336],\n",
              "       [ 1.43511978,  1.11627318, -0.84447444,  0.5898374 ],\n",
              "       [-1.31890841, -0.82898132,  0.78391933, -1.48911804],\n",
              "       [-0.45606898, -0.25616505, -0.2715686 ,  0.07050972]])"
            ]
          },
          "metadata": {
            "tags": []
          },
          "execution_count": 38
        }
      ]
    },
    {
      "cell_type": "markdown",
      "metadata": {
        "id": "EPAt11y6OyTJ",
        "colab_type": "text"
      },
      "source": [
        "Describe shows a quick statistic summary of your data"
      ]
    },
    {
      "cell_type": "code",
      "metadata": {
        "id": "WdFcJKXrOyTM",
        "colab_type": "code",
        "colab": {},
        "outputId": "c588710e-2b27-404f-d80f-48f0baea7b16"
      },
      "source": [
        "df.describe()"
      ],
      "execution_count": null,
      "outputs": [
        {
          "output_type": "execute_result",
          "data": {
            "text/html": [
              "<div>\n",
              "<style>\n",
              "    .dataframe thead tr:only-child th {\n",
              "        text-align: right;\n",
              "    }\n",
              "\n",
              "    .dataframe thead th {\n",
              "        text-align: left;\n",
              "    }\n",
              "\n",
              "    .dataframe tbody tr th {\n",
              "        vertical-align: top;\n",
              "    }\n",
              "</style>\n",
              "<table border=\"1\" class=\"dataframe\">\n",
              "  <thead>\n",
              "    <tr style=\"text-align: right;\">\n",
              "      <th></th>\n",
              "      <th>A</th>\n",
              "      <th>B</th>\n",
              "      <th>C</th>\n",
              "      <th>D</th>\n",
              "    </tr>\n",
              "  </thead>\n",
              "  <tbody>\n",
              "    <tr>\n",
              "      <th>count</th>\n",
              "      <td>6.000000</td>\n",
              "      <td>6.000000</td>\n",
              "      <td>6.000000</td>\n",
              "      <td>6.000000</td>\n",
              "    </tr>\n",
              "    <tr>\n",
              "      <th>mean</th>\n",
              "      <td>0.032120</td>\n",
              "      <td>-0.355770</td>\n",
              "      <td>0.136045</td>\n",
              "      <td>0.335265</td>\n",
              "    </tr>\n",
              "    <tr>\n",
              "      <th>std</th>\n",
              "      <td>1.209885</td>\n",
              "      <td>1.035934</td>\n",
              "      <td>0.664702</td>\n",
              "      <td>0.961523</td>\n",
              "    </tr>\n",
              "    <tr>\n",
              "      <th>min</th>\n",
              "      <td>-1.318908</td>\n",
              "      <td>-1.867463</td>\n",
              "      <td>-0.844474</td>\n",
              "      <td>-1.489118</td>\n",
              "    </tr>\n",
              "    <tr>\n",
              "      <th>25%</th>\n",
              "      <td>-0.835757</td>\n",
              "      <td>-0.795315</td>\n",
              "      <td>-0.247829</td>\n",
              "      <td>0.200342</td>\n",
              "    </tr>\n",
              "    <tr>\n",
              "      <th>50%</th>\n",
              "      <td>-0.253498</td>\n",
              "      <td>-0.475241</td>\n",
              "      <td>0.207991</td>\n",
              "      <td>0.689649</td>\n",
              "    </tr>\n",
              "    <tr>\n",
              "      <th>75%</th>\n",
              "      <td>1.063608</td>\n",
              "      <td>0.232984</td>\n",
              "      <td>0.697455</td>\n",
              "      <td>0.956497</td>\n",
              "    </tr>\n",
              "    <tr>\n",
              "      <th>max</th>\n",
              "      <td>1.545821</td>\n",
              "      <td>1.116273</td>\n",
              "      <td>0.783919</td>\n",
              "      <td>1.038723</td>\n",
              "    </tr>\n",
              "  </tbody>\n",
              "</table>\n",
              "</div>"
            ],
            "text/plain": [
              "              A         B         C         D\n",
              "count  6.000000  6.000000  6.000000  6.000000\n",
              "mean   0.032120 -0.355770  0.136045  0.335265\n",
              "std    1.209885  1.035934  0.664702  0.961523\n",
              "min   -1.318908 -1.867463 -0.844474 -1.489118\n",
              "25%   -0.835757 -0.795315 -0.247829  0.200342\n",
              "50%   -0.253498 -0.475241  0.207991  0.689649\n",
              "75%    1.063608  0.232984  0.697455  0.956497\n",
              "max    1.545821  1.116273  0.783919  1.038723"
            ]
          },
          "metadata": {
            "tags": []
          },
          "execution_count": 40
        }
      ]
    },
    {
      "cell_type": "markdown",
      "metadata": {
        "id": "HhmT1gRjOyTO",
        "colab_type": "text"
      },
      "source": [
        "Transposing your data"
      ]
    },
    {
      "cell_type": "code",
      "metadata": {
        "scrolled": true,
        "id": "7IqBheb8OyTO",
        "colab_type": "code",
        "colab": {},
        "outputId": "d33492f9-d948-4163-828a-55d2649f9cff"
      },
      "source": [
        "df.T"
      ],
      "execution_count": null,
      "outputs": [
        {
          "output_type": "execute_result",
          "data": {
            "text/html": [
              "<div>\n",
              "<style>\n",
              "    .dataframe thead tr:only-child th {\n",
              "        text-align: right;\n",
              "    }\n",
              "\n",
              "    .dataframe thead th {\n",
              "        text-align: left;\n",
              "    }\n",
              "\n",
              "    .dataframe tbody tr th {\n",
              "        vertical-align: top;\n",
              "    }\n",
              "</style>\n",
              "<table border=\"1\" class=\"dataframe\">\n",
              "  <thead>\n",
              "    <tr style=\"text-align: right;\">\n",
              "      <th></th>\n",
              "      <th>2013-01-01 00:00:00</th>\n",
              "      <th>2013-01-02 00:00:00</th>\n",
              "      <th>2013-01-03 00:00:00</th>\n",
              "      <th>2013-01-04 00:00:00</th>\n",
              "      <th>2013-01-05 00:00:00</th>\n",
              "      <th>2013-01-06 00:00:00</th>\n",
              "    </tr>\n",
              "  </thead>\n",
              "  <tbody>\n",
              "    <tr>\n",
              "      <th>A</th>\n",
              "      <td>1.545821</td>\n",
              "      <td>-0.962319</td>\n",
              "      <td>-0.050927</td>\n",
              "      <td>1.435120</td>\n",
              "      <td>-1.318908</td>\n",
              "      <td>-0.456069</td>\n",
              "    </tr>\n",
              "    <tr>\n",
              "      <th>B</th>\n",
              "      <td>-0.694317</td>\n",
              "      <td>0.396033</td>\n",
              "      <td>-1.867463</td>\n",
              "      <td>1.116273</td>\n",
              "      <td>-0.828981</td>\n",
              "      <td>-0.256165</td>\n",
              "    </tr>\n",
              "    <tr>\n",
              "      <th>C</th>\n",
              "      <td>0.732410</td>\n",
              "      <td>-0.176609</td>\n",
              "      <td>0.592592</td>\n",
              "      <td>-0.844474</td>\n",
              "      <td>0.783919</td>\n",
              "      <td>-0.271569</td>\n",
              "    </tr>\n",
              "    <tr>\n",
              "      <th>D</th>\n",
              "      <td>0.789461</td>\n",
              "      <td>1.012175</td>\n",
              "      <td>1.038723</td>\n",
              "      <td>0.589837</td>\n",
              "      <td>-1.489118</td>\n",
              "      <td>0.070510</td>\n",
              "    </tr>\n",
              "  </tbody>\n",
              "</table>\n",
              "</div>"
            ],
            "text/plain": [
              "   2013-01-01  2013-01-02  2013-01-03  2013-01-04  2013-01-05  2013-01-06\n",
              "A    1.545821   -0.962319   -0.050927    1.435120   -1.318908   -0.456069\n",
              "B   -0.694317    0.396033   -1.867463    1.116273   -0.828981   -0.256165\n",
              "C    0.732410   -0.176609    0.592592   -0.844474    0.783919   -0.271569\n",
              "D    0.789461    1.012175    1.038723    0.589837   -1.489118    0.070510"
            ]
          },
          "metadata": {
            "tags": []
          },
          "execution_count": 41
        }
      ]
    },
    {
      "cell_type": "code",
      "metadata": {
        "id": "86kHAzEaOyTR",
        "colab_type": "code",
        "colab": {}
      },
      "source": [
        "#df"
      ],
      "execution_count": null,
      "outputs": []
    },
    {
      "cell_type": "markdown",
      "metadata": {
        "id": "fan1dMKxOyTT",
        "colab_type": "text"
      },
      "source": [
        "Sorting by an axis"
      ]
    },
    {
      "cell_type": "code",
      "metadata": {
        "id": "h6tePQYCOyTT",
        "colab_type": "code",
        "colab": {},
        "outputId": "d517b6d8-83cb-4ee4-b17d-ec81a51143da"
      },
      "source": [
        "df.sort_index(axis=0, ascending=False)"
      ],
      "execution_count": null,
      "outputs": [
        {
          "output_type": "execute_result",
          "data": {
            "text/html": [
              "<div>\n",
              "<style>\n",
              "    .dataframe thead tr:only-child th {\n",
              "        text-align: right;\n",
              "    }\n",
              "\n",
              "    .dataframe thead th {\n",
              "        text-align: left;\n",
              "    }\n",
              "\n",
              "    .dataframe tbody tr th {\n",
              "        vertical-align: top;\n",
              "    }\n",
              "</style>\n",
              "<table border=\"1\" class=\"dataframe\">\n",
              "  <thead>\n",
              "    <tr style=\"text-align: right;\">\n",
              "      <th></th>\n",
              "      <th>A</th>\n",
              "      <th>B</th>\n",
              "      <th>C</th>\n",
              "      <th>D</th>\n",
              "    </tr>\n",
              "  </thead>\n",
              "  <tbody>\n",
              "    <tr>\n",
              "      <th>2013-01-06</th>\n",
              "      <td>-0.456069</td>\n",
              "      <td>-0.256165</td>\n",
              "      <td>-0.271569</td>\n",
              "      <td>0.070510</td>\n",
              "    </tr>\n",
              "    <tr>\n",
              "      <th>2013-01-05</th>\n",
              "      <td>-1.318908</td>\n",
              "      <td>-0.828981</td>\n",
              "      <td>0.783919</td>\n",
              "      <td>-1.489118</td>\n",
              "    </tr>\n",
              "    <tr>\n",
              "      <th>2013-01-04</th>\n",
              "      <td>1.435120</td>\n",
              "      <td>1.116273</td>\n",
              "      <td>-0.844474</td>\n",
              "      <td>0.589837</td>\n",
              "    </tr>\n",
              "    <tr>\n",
              "      <th>2013-01-03</th>\n",
              "      <td>-0.050927</td>\n",
              "      <td>-1.867463</td>\n",
              "      <td>0.592592</td>\n",
              "      <td>1.038723</td>\n",
              "    </tr>\n",
              "    <tr>\n",
              "      <th>2013-01-02</th>\n",
              "      <td>-0.962319</td>\n",
              "      <td>0.396033</td>\n",
              "      <td>-0.176609</td>\n",
              "      <td>1.012175</td>\n",
              "    </tr>\n",
              "    <tr>\n",
              "      <th>2013-01-01</th>\n",
              "      <td>1.545821</td>\n",
              "      <td>-0.694317</td>\n",
              "      <td>0.732410</td>\n",
              "      <td>0.789461</td>\n",
              "    </tr>\n",
              "  </tbody>\n",
              "</table>\n",
              "</div>"
            ],
            "text/plain": [
              "                   A         B         C         D\n",
              "2013-01-06 -0.456069 -0.256165 -0.271569  0.070510\n",
              "2013-01-05 -1.318908 -0.828981  0.783919 -1.489118\n",
              "2013-01-04  1.435120  1.116273 -0.844474  0.589837\n",
              "2013-01-03 -0.050927 -1.867463  0.592592  1.038723\n",
              "2013-01-02 -0.962319  0.396033 -0.176609  1.012175\n",
              "2013-01-01  1.545821 -0.694317  0.732410  0.789461"
            ]
          },
          "metadata": {
            "tags": []
          },
          "execution_count": 48
        }
      ]
    },
    {
      "cell_type": "code",
      "metadata": {
        "id": "VYMJxqleOyTV",
        "colab_type": "code",
        "colab": {}
      },
      "source": [
        "#df.sort_values"
      ],
      "execution_count": null,
      "outputs": []
    },
    {
      "cell_type": "markdown",
      "metadata": {
        "id": "FgwaSDYrOyTX",
        "colab_type": "text"
      },
      "source": [
        "Sorting by values"
      ]
    },
    {
      "cell_type": "code",
      "metadata": {
        "id": "CYDRKiu3OyTX",
        "colab_type": "code",
        "colab": {},
        "outputId": "1489a99d-b861-4aa1-8d24-fa52bb85c624"
      },
      "source": [
        "df.sort_values(by='B' , ascending=False)\n"
      ],
      "execution_count": null,
      "outputs": [
        {
          "output_type": "execute_result",
          "data": {
            "text/html": [
              "<div>\n",
              "<style>\n",
              "    .dataframe thead tr:only-child th {\n",
              "        text-align: right;\n",
              "    }\n",
              "\n",
              "    .dataframe thead th {\n",
              "        text-align: left;\n",
              "    }\n",
              "\n",
              "    .dataframe tbody tr th {\n",
              "        vertical-align: top;\n",
              "    }\n",
              "</style>\n",
              "<table border=\"1\" class=\"dataframe\">\n",
              "  <thead>\n",
              "    <tr style=\"text-align: right;\">\n",
              "      <th></th>\n",
              "      <th>A</th>\n",
              "      <th>B</th>\n",
              "      <th>C</th>\n",
              "      <th>D</th>\n",
              "    </tr>\n",
              "  </thead>\n",
              "  <tbody>\n",
              "    <tr>\n",
              "      <th>2013-01-06</th>\n",
              "      <td>-0.262767</td>\n",
              "      <td>1.650756</td>\n",
              "      <td>0.824836</td>\n",
              "      <td>-0.994350</td>\n",
              "    </tr>\n",
              "    <tr>\n",
              "      <th>2013-01-05</th>\n",
              "      <td>0.386847</td>\n",
              "      <td>0.885761</td>\n",
              "      <td>1.154757</td>\n",
              "      <td>-0.096099</td>\n",
              "    </tr>\n",
              "    <tr>\n",
              "      <th>2013-01-02</th>\n",
              "      <td>-2.870506</td>\n",
              "      <td>0.217154</td>\n",
              "      <td>0.484818</td>\n",
              "      <td>1.653484</td>\n",
              "    </tr>\n",
              "    <tr>\n",
              "      <th>2013-01-03</th>\n",
              "      <td>-0.387578</td>\n",
              "      <td>0.036334</td>\n",
              "      <td>0.042390</td>\n",
              "      <td>-2.644709</td>\n",
              "    </tr>\n",
              "    <tr>\n",
              "      <th>2013-01-04</th>\n",
              "      <td>-0.494736</td>\n",
              "      <td>-0.380090</td>\n",
              "      <td>1.460528</td>\n",
              "      <td>0.366185</td>\n",
              "    </tr>\n",
              "    <tr>\n",
              "      <th>2013-01-01</th>\n",
              "      <td>-0.116285</td>\n",
              "      <td>-1.474959</td>\n",
              "      <td>-0.980324</td>\n",
              "      <td>-1.330070</td>\n",
              "    </tr>\n",
              "  </tbody>\n",
              "</table>\n",
              "</div>"
            ],
            "text/plain": [
              "                   A         B         C         D\n",
              "2013-01-06 -0.262767  1.650756  0.824836 -0.994350\n",
              "2013-01-05  0.386847  0.885761  1.154757 -0.096099\n",
              "2013-01-02 -2.870506  0.217154  0.484818  1.653484\n",
              "2013-01-03 -0.387578  0.036334  0.042390 -2.644709\n",
              "2013-01-04 -0.494736 -0.380090  1.460528  0.366185\n",
              "2013-01-01 -0.116285 -1.474959 -0.980324 -1.330070"
            ]
          },
          "metadata": {
            "tags": []
          },
          "execution_count": 200
        }
      ]
    },
    {
      "cell_type": "code",
      "metadata": {
        "scrolled": true,
        "id": "lQkVlhqZOyTZ",
        "colab_type": "code",
        "colab": {},
        "outputId": "e85faf48-ed8a-42c6-8cfb-258e0b1bfa52"
      },
      "source": [
        "df.sort_values(by='2013-01-06' , ascending=False, axis=1)"
      ],
      "execution_count": null,
      "outputs": [
        {
          "output_type": "execute_result",
          "data": {
            "text/html": [
              "<div>\n",
              "<style>\n",
              "    .dataframe thead tr:only-child th {\n",
              "        text-align: right;\n",
              "    }\n",
              "\n",
              "    .dataframe thead th {\n",
              "        text-align: left;\n",
              "    }\n",
              "\n",
              "    .dataframe tbody tr th {\n",
              "        vertical-align: top;\n",
              "    }\n",
              "</style>\n",
              "<table border=\"1\" class=\"dataframe\">\n",
              "  <thead>\n",
              "    <tr style=\"text-align: right;\">\n",
              "      <th></th>\n",
              "      <th>B</th>\n",
              "      <th>C</th>\n",
              "      <th>A</th>\n",
              "      <th>D</th>\n",
              "    </tr>\n",
              "  </thead>\n",
              "  <tbody>\n",
              "    <tr>\n",
              "      <th>2013-01-01</th>\n",
              "      <td>-1.474959</td>\n",
              "      <td>-0.980324</td>\n",
              "      <td>-0.116285</td>\n",
              "      <td>-1.330070</td>\n",
              "    </tr>\n",
              "    <tr>\n",
              "      <th>2013-01-02</th>\n",
              "      <td>0.217154</td>\n",
              "      <td>0.484818</td>\n",
              "      <td>-2.870506</td>\n",
              "      <td>1.653484</td>\n",
              "    </tr>\n",
              "    <tr>\n",
              "      <th>2013-01-03</th>\n",
              "      <td>0.036334</td>\n",
              "      <td>0.042390</td>\n",
              "      <td>-0.387578</td>\n",
              "      <td>-2.644709</td>\n",
              "    </tr>\n",
              "    <tr>\n",
              "      <th>2013-01-04</th>\n",
              "      <td>-0.380090</td>\n",
              "      <td>1.460528</td>\n",
              "      <td>-0.494736</td>\n",
              "      <td>0.366185</td>\n",
              "    </tr>\n",
              "    <tr>\n",
              "      <th>2013-01-05</th>\n",
              "      <td>0.885761</td>\n",
              "      <td>1.154757</td>\n",
              "      <td>0.386847</td>\n",
              "      <td>-0.096099</td>\n",
              "    </tr>\n",
              "    <tr>\n",
              "      <th>2013-01-06</th>\n",
              "      <td>1.650756</td>\n",
              "      <td>0.824836</td>\n",
              "      <td>-0.262767</td>\n",
              "      <td>-0.994350</td>\n",
              "    </tr>\n",
              "  </tbody>\n",
              "</table>\n",
              "</div>"
            ],
            "text/plain": [
              "                   B         C         A         D\n",
              "2013-01-01 -1.474959 -0.980324 -0.116285 -1.330070\n",
              "2013-01-02  0.217154  0.484818 -2.870506  1.653484\n",
              "2013-01-03  0.036334  0.042390 -0.387578 -2.644709\n",
              "2013-01-04 -0.380090  1.460528 -0.494736  0.366185\n",
              "2013-01-05  0.885761  1.154757  0.386847 -0.096099\n",
              "2013-01-06  1.650756  0.824836 -0.262767 -0.994350"
            ]
          },
          "metadata": {
            "tags": []
          },
          "execution_count": 201
        }
      ]
    },
    {
      "cell_type": "code",
      "metadata": {
        "id": "9_G0C7OlOyTb",
        "colab_type": "code",
        "colab": {},
        "outputId": "c2a97b6d-d354-4162-cd18-e4da3a40b771"
      },
      "source": [
        "type(df)"
      ],
      "execution_count": null,
      "outputs": [
        {
          "output_type": "execute_result",
          "data": {
            "text/plain": [
              "pandas.core.frame.DataFrame"
            ]
          },
          "metadata": {
            "tags": []
          },
          "execution_count": 49
        }
      ]
    },
    {
      "cell_type": "code",
      "metadata": {
        "id": "qjrbrS3WOyTd",
        "colab_type": "code",
        "colab": {},
        "outputId": "ae1cf726-d33a-47b7-85a0-4ec94e3c381c"
      },
      "source": [
        "type(s)"
      ],
      "execution_count": null,
      "outputs": [
        {
          "output_type": "execute_result",
          "data": {
            "text/plain": [
              "pandas.core.series.Series"
            ]
          },
          "metadata": {
            "tags": []
          },
          "execution_count": 50
        }
      ]
    },
    {
      "cell_type": "markdown",
      "metadata": {
        "id": "VKW0iqKROyTe",
        "colab_type": "text"
      },
      "source": [
        "## Selection"
      ]
    },
    {
      "cell_type": "markdown",
      "metadata": {
        "id": "56pCuReaOyTe",
        "colab_type": "text"
      },
      "source": [
        "**Note:** While standard Python / Numpy expressions for selecting and setting are intuitive and come in handy for interactive work, for production code, the optimized pandas data access methods, `.at`, `.iat`, `.loc`, `.iloc` and `.ix` are recommended."
      ]
    },
    {
      "cell_type": "markdown",
      "metadata": {
        "id": "yWOftljcOyTf",
        "colab_type": "text"
      },
      "source": [
        "See the indexing documentation [Indexing and Selecting Data](http://pandas.pydata.org/pandas-docs/stable/indexing.html#indexing) and [MultiIndex / Advanced Indexing](http://pandas.pydata.org/pandas-docs/stable/advanced.html#advanced)"
      ]
    },
    {
      "cell_type": "markdown",
      "metadata": {
        "id": "Iny6sPzYOyTf",
        "colab_type": "text"
      },
      "source": [
        "### Getting"
      ]
    },
    {
      "cell_type": "markdown",
      "metadata": {
        "id": "Dvejy6mxOyTf",
        "colab_type": "text"
      },
      "source": [
        "Selecting a single column, which yields a `Series`, equivalent to `df.A`"
      ]
    },
    {
      "cell_type": "code",
      "metadata": {
        "id": "1s3Sl7m2OyTg",
        "colab_type": "code",
        "colab": {},
        "outputId": "49301e56-9a69-45fd-e247-df5e66c53cab"
      },
      "source": [
        "df"
      ],
      "execution_count": null,
      "outputs": [
        {
          "output_type": "execute_result",
          "data": {
            "text/html": [
              "<div>\n",
              "<style>\n",
              "    .dataframe thead tr:only-child th {\n",
              "        text-align: right;\n",
              "    }\n",
              "\n",
              "    .dataframe thead th {\n",
              "        text-align: left;\n",
              "    }\n",
              "\n",
              "    .dataframe tbody tr th {\n",
              "        vertical-align: top;\n",
              "    }\n",
              "</style>\n",
              "<table border=\"1\" class=\"dataframe\">\n",
              "  <thead>\n",
              "    <tr style=\"text-align: right;\">\n",
              "      <th></th>\n",
              "      <th>A</th>\n",
              "      <th>B</th>\n",
              "      <th>C</th>\n",
              "      <th>D</th>\n",
              "    </tr>\n",
              "  </thead>\n",
              "  <tbody>\n",
              "    <tr>\n",
              "      <th>2013-01-01</th>\n",
              "      <td>1.545821</td>\n",
              "      <td>-0.694317</td>\n",
              "      <td>0.732410</td>\n",
              "      <td>0.789461</td>\n",
              "    </tr>\n",
              "    <tr>\n",
              "      <th>2013-01-02</th>\n",
              "      <td>-0.962319</td>\n",
              "      <td>0.396033</td>\n",
              "      <td>-0.176609</td>\n",
              "      <td>1.012175</td>\n",
              "    </tr>\n",
              "    <tr>\n",
              "      <th>2013-01-03</th>\n",
              "      <td>-0.050927</td>\n",
              "      <td>-1.867463</td>\n",
              "      <td>0.592592</td>\n",
              "      <td>1.038723</td>\n",
              "    </tr>\n",
              "    <tr>\n",
              "      <th>2013-01-04</th>\n",
              "      <td>1.435120</td>\n",
              "      <td>1.116273</td>\n",
              "      <td>-0.844474</td>\n",
              "      <td>0.589837</td>\n",
              "    </tr>\n",
              "    <tr>\n",
              "      <th>2013-01-05</th>\n",
              "      <td>-1.318908</td>\n",
              "      <td>-0.828981</td>\n",
              "      <td>0.783919</td>\n",
              "      <td>-1.489118</td>\n",
              "    </tr>\n",
              "    <tr>\n",
              "      <th>2013-01-06</th>\n",
              "      <td>-0.456069</td>\n",
              "      <td>-0.256165</td>\n",
              "      <td>-0.271569</td>\n",
              "      <td>0.070510</td>\n",
              "    </tr>\n",
              "  </tbody>\n",
              "</table>\n",
              "</div>"
            ],
            "text/plain": [
              "                   A         B         C         D\n",
              "2013-01-01  1.545821 -0.694317  0.732410  0.789461\n",
              "2013-01-02 -0.962319  0.396033 -0.176609  1.012175\n",
              "2013-01-03 -0.050927 -1.867463  0.592592  1.038723\n",
              "2013-01-04  1.435120  1.116273 -0.844474  0.589837\n",
              "2013-01-05 -1.318908 -0.828981  0.783919 -1.489118\n",
              "2013-01-06 -0.456069 -0.256165 -0.271569  0.070510"
            ]
          },
          "metadata": {
            "tags": []
          },
          "execution_count": 53
        }
      ]
    },
    {
      "cell_type": "code",
      "metadata": {
        "id": "gGeN8xlROyTh",
        "colab_type": "code",
        "colab": {},
        "outputId": "45d985a6-c804-4134-be9c-570fc90c72b0"
      },
      "source": [
        "df['A']"
      ],
      "execution_count": null,
      "outputs": [
        {
          "output_type": "execute_result",
          "data": {
            "text/plain": [
              "2013-01-01    1.545821\n",
              "2013-01-02   -0.962319\n",
              "2013-01-03   -0.050927\n",
              "2013-01-04    1.435120\n",
              "2013-01-05   -1.318908\n",
              "2013-01-06   -0.456069\n",
              "Freq: D, Name: A, dtype: float64"
            ]
          },
          "metadata": {
            "tags": []
          },
          "execution_count": 54
        }
      ]
    },
    {
      "cell_type": "code",
      "metadata": {
        "id": "f9depIu2OyTj",
        "colab_type": "code",
        "colab": {},
        "outputId": "d244cb38-8583-4a81-f8de-5120252c688d"
      },
      "source": [
        "type(df[\"A\"])"
      ],
      "execution_count": null,
      "outputs": [
        {
          "output_type": "execute_result",
          "data": {
            "text/plain": [
              "pandas.core.series.Series"
            ]
          },
          "metadata": {
            "tags": []
          },
          "execution_count": 55
        }
      ]
    },
    {
      "cell_type": "code",
      "metadata": {
        "id": "XVV3B5tdOyTl",
        "colab_type": "code",
        "colab": {},
        "outputId": "94f54dff-5f3c-435a-95f2-1615aabd092d"
      },
      "source": [
        "df.A"
      ],
      "execution_count": null,
      "outputs": [
        {
          "output_type": "execute_result",
          "data": {
            "text/plain": [
              "2013-01-01    1.545821\n",
              "2013-01-02   -0.962319\n",
              "2013-01-03   -0.050927\n",
              "2013-01-04    1.435120\n",
              "2013-01-05   -1.318908\n",
              "2013-01-06   -0.456069\n",
              "Freq: D, Name: A, dtype: float64"
            ]
          },
          "metadata": {
            "tags": []
          },
          "execution_count": 57
        }
      ]
    },
    {
      "cell_type": "markdown",
      "metadata": {
        "id": "G0dFKernOyTn",
        "colab_type": "text"
      },
      "source": [
        "Selecting via [], which slices the rows."
      ]
    },
    {
      "cell_type": "code",
      "metadata": {
        "id": "GClCZCkYOyTo",
        "colab_type": "code",
        "colab": {},
        "outputId": "eadc7c47-22d6-43ef-8c12-755bfb3e2d87"
      },
      "source": [
        "df[0:3]"
      ],
      "execution_count": null,
      "outputs": [
        {
          "output_type": "execute_result",
          "data": {
            "text/html": [
              "<div>\n",
              "<style>\n",
              "    .dataframe thead tr:only-child th {\n",
              "        text-align: right;\n",
              "    }\n",
              "\n",
              "    .dataframe thead th {\n",
              "        text-align: left;\n",
              "    }\n",
              "\n",
              "    .dataframe tbody tr th {\n",
              "        vertical-align: top;\n",
              "    }\n",
              "</style>\n",
              "<table border=\"1\" class=\"dataframe\">\n",
              "  <thead>\n",
              "    <tr style=\"text-align: right;\">\n",
              "      <th></th>\n",
              "      <th>A</th>\n",
              "      <th>B</th>\n",
              "      <th>C</th>\n",
              "      <th>D</th>\n",
              "    </tr>\n",
              "  </thead>\n",
              "  <tbody>\n",
              "    <tr>\n",
              "      <th>2013-01-01</th>\n",
              "      <td>1.545821</td>\n",
              "      <td>-0.694317</td>\n",
              "      <td>0.732410</td>\n",
              "      <td>0.789461</td>\n",
              "    </tr>\n",
              "    <tr>\n",
              "      <th>2013-01-02</th>\n",
              "      <td>-0.962319</td>\n",
              "      <td>0.396033</td>\n",
              "      <td>-0.176609</td>\n",
              "      <td>1.012175</td>\n",
              "    </tr>\n",
              "    <tr>\n",
              "      <th>2013-01-03</th>\n",
              "      <td>-0.050927</td>\n",
              "      <td>-1.867463</td>\n",
              "      <td>0.592592</td>\n",
              "      <td>1.038723</td>\n",
              "    </tr>\n",
              "  </tbody>\n",
              "</table>\n",
              "</div>"
            ],
            "text/plain": [
              "                   A         B         C         D\n",
              "2013-01-01  1.545821 -0.694317  0.732410  0.789461\n",
              "2013-01-02 -0.962319  0.396033 -0.176609  1.012175\n",
              "2013-01-03 -0.050927 -1.867463  0.592592  1.038723"
            ]
          },
          "metadata": {
            "tags": []
          },
          "execution_count": 58
        }
      ]
    },
    {
      "cell_type": "code",
      "metadata": {
        "id": "38XSBCibOyTq",
        "colab_type": "code",
        "colab": {},
        "outputId": "a0f9099d-5210-4ba4-8e64-42dfb8c7e71b"
      },
      "source": [
        "df['20130102':'20130104']"
      ],
      "execution_count": null,
      "outputs": [
        {
          "output_type": "execute_result",
          "data": {
            "text/html": [
              "<div>\n",
              "<style>\n",
              "    .dataframe thead tr:only-child th {\n",
              "        text-align: right;\n",
              "    }\n",
              "\n",
              "    .dataframe thead th {\n",
              "        text-align: left;\n",
              "    }\n",
              "\n",
              "    .dataframe tbody tr th {\n",
              "        vertical-align: top;\n",
              "    }\n",
              "</style>\n",
              "<table border=\"1\" class=\"dataframe\">\n",
              "  <thead>\n",
              "    <tr style=\"text-align: right;\">\n",
              "      <th></th>\n",
              "      <th>A</th>\n",
              "      <th>B</th>\n",
              "      <th>C</th>\n",
              "      <th>D</th>\n",
              "    </tr>\n",
              "  </thead>\n",
              "  <tbody>\n",
              "    <tr>\n",
              "      <th>2013-01-02</th>\n",
              "      <td>-0.962319</td>\n",
              "      <td>0.396033</td>\n",
              "      <td>-0.176609</td>\n",
              "      <td>1.012175</td>\n",
              "    </tr>\n",
              "    <tr>\n",
              "      <th>2013-01-03</th>\n",
              "      <td>-0.050927</td>\n",
              "      <td>-1.867463</td>\n",
              "      <td>0.592592</td>\n",
              "      <td>1.038723</td>\n",
              "    </tr>\n",
              "    <tr>\n",
              "      <th>2013-01-04</th>\n",
              "      <td>1.435120</td>\n",
              "      <td>1.116273</td>\n",
              "      <td>-0.844474</td>\n",
              "      <td>0.589837</td>\n",
              "    </tr>\n",
              "  </tbody>\n",
              "</table>\n",
              "</div>"
            ],
            "text/plain": [
              "                   A         B         C         D\n",
              "2013-01-02 -0.962319  0.396033 -0.176609  1.012175\n",
              "2013-01-03 -0.050927 -1.867463  0.592592  1.038723\n",
              "2013-01-04  1.435120  1.116273 -0.844474  0.589837"
            ]
          },
          "metadata": {
            "tags": []
          },
          "execution_count": 59
        }
      ]
    },
    {
      "cell_type": "markdown",
      "metadata": {
        "id": "5bWzQqX3OyTs",
        "colab_type": "text"
      },
      "source": [
        "### Selecting by Label"
      ]
    },
    {
      "cell_type": "markdown",
      "metadata": {
        "id": "2i2qViHMOyTs",
        "colab_type": "text"
      },
      "source": [
        "See more in [Selection by Label](http://pandas.pydata.org/pandas-docs/stable/indexing.html#indexing-label)"
      ]
    },
    {
      "cell_type": "markdown",
      "metadata": {
        "id": "bk0UWJLxOyTt",
        "colab_type": "text"
      },
      "source": [
        "For getting a cross section using a label"
      ]
    },
    {
      "cell_type": "code",
      "metadata": {
        "id": "JzzclRxEOyTt",
        "colab_type": "code",
        "colab": {}
      },
      "source": [
        "?df.loc"
      ],
      "execution_count": null,
      "outputs": []
    },
    {
      "cell_type": "code",
      "metadata": {
        "id": "F3eYZ1lLOyTv",
        "colab_type": "code",
        "colab": {},
        "outputId": "ddb3e1a3-9891-496b-f2de-0330d129370e"
      },
      "source": [
        "dates[0]"
      ],
      "execution_count": null,
      "outputs": [
        {
          "output_type": "execute_result",
          "data": {
            "text/plain": [
              "Timestamp('2013-01-01 00:00:00', freq='D')"
            ]
          },
          "metadata": {
            "tags": []
          },
          "execution_count": 210
        }
      ]
    },
    {
      "cell_type": "code",
      "metadata": {
        "id": "kOiAxDcLOyTz",
        "colab_type": "code",
        "colab": {},
        "outputId": "912b1c1c-969e-43c2-ff73-56fc6df176b8"
      },
      "source": [
        "dates[0:4]"
      ],
      "execution_count": null,
      "outputs": [
        {
          "output_type": "execute_result",
          "data": {
            "text/plain": [
              "DatetimeIndex(['2013-01-01', '2013-01-02', '2013-01-03', '2013-01-04'], dtype='datetime64[ns]', freq='D')"
            ]
          },
          "metadata": {
            "tags": []
          },
          "execution_count": 211
        }
      ]
    },
    {
      "cell_type": "code",
      "metadata": {
        "scrolled": true,
        "id": "P5l9A81BOyT1",
        "colab_type": "code",
        "colab": {},
        "outputId": "a8c49f6d-b3aa-4bb5-a7b9-a1a66a609503"
      },
      "source": [
        "df.loc[dates[0:4]]"
      ],
      "execution_count": null,
      "outputs": [
        {
          "output_type": "execute_result",
          "data": {
            "text/html": [
              "<div>\n",
              "<style>\n",
              "    .dataframe thead tr:only-child th {\n",
              "        text-align: right;\n",
              "    }\n",
              "\n",
              "    .dataframe thead th {\n",
              "        text-align: left;\n",
              "    }\n",
              "\n",
              "    .dataframe tbody tr th {\n",
              "        vertical-align: top;\n",
              "    }\n",
              "</style>\n",
              "<table border=\"1\" class=\"dataframe\">\n",
              "  <thead>\n",
              "    <tr style=\"text-align: right;\">\n",
              "      <th></th>\n",
              "      <th>A</th>\n",
              "      <th>B</th>\n",
              "      <th>C</th>\n",
              "      <th>D</th>\n",
              "    </tr>\n",
              "  </thead>\n",
              "  <tbody>\n",
              "    <tr>\n",
              "      <th>2013-01-01</th>\n",
              "      <td>1.545821</td>\n",
              "      <td>-0.694317</td>\n",
              "      <td>0.732410</td>\n",
              "      <td>0.789461</td>\n",
              "    </tr>\n",
              "    <tr>\n",
              "      <th>2013-01-02</th>\n",
              "      <td>-0.962319</td>\n",
              "      <td>0.396033</td>\n",
              "      <td>-0.176609</td>\n",
              "      <td>1.012175</td>\n",
              "    </tr>\n",
              "    <tr>\n",
              "      <th>2013-01-03</th>\n",
              "      <td>-0.050927</td>\n",
              "      <td>-1.867463</td>\n",
              "      <td>0.592592</td>\n",
              "      <td>1.038723</td>\n",
              "    </tr>\n",
              "    <tr>\n",
              "      <th>2013-01-04</th>\n",
              "      <td>1.435120</td>\n",
              "      <td>1.116273</td>\n",
              "      <td>-0.844474</td>\n",
              "      <td>0.589837</td>\n",
              "    </tr>\n",
              "  </tbody>\n",
              "</table>\n",
              "</div>"
            ],
            "text/plain": [
              "                   A         B         C         D\n",
              "2013-01-01  1.545821 -0.694317  0.732410  0.789461\n",
              "2013-01-02 -0.962319  0.396033 -0.176609  1.012175\n",
              "2013-01-03 -0.050927 -1.867463  0.592592  1.038723\n",
              "2013-01-04  1.435120  1.116273 -0.844474  0.589837"
            ]
          },
          "metadata": {
            "tags": []
          },
          "execution_count": 62
        }
      ]
    },
    {
      "cell_type": "markdown",
      "metadata": {
        "id": "E170ZtJpOyT5",
        "colab_type": "text"
      },
      "source": [
        "Selecting on a multi-axis by label"
      ]
    },
    {
      "cell_type": "code",
      "metadata": {
        "id": "TMah_ol0OyT6",
        "colab_type": "code",
        "colab": {},
        "outputId": "0ab939fd-4d4f-4b11-8c61-2ddec4863830"
      },
      "source": [
        "df.loc[:,['A','B']]"
      ],
      "execution_count": null,
      "outputs": [
        {
          "output_type": "execute_result",
          "data": {
            "text/html": [
              "<div>\n",
              "<style>\n",
              "    .dataframe thead tr:only-child th {\n",
              "        text-align: right;\n",
              "    }\n",
              "\n",
              "    .dataframe thead th {\n",
              "        text-align: left;\n",
              "    }\n",
              "\n",
              "    .dataframe tbody tr th {\n",
              "        vertical-align: top;\n",
              "    }\n",
              "</style>\n",
              "<table border=\"1\" class=\"dataframe\">\n",
              "  <thead>\n",
              "    <tr style=\"text-align: right;\">\n",
              "      <th></th>\n",
              "      <th>A</th>\n",
              "      <th>B</th>\n",
              "    </tr>\n",
              "  </thead>\n",
              "  <tbody>\n",
              "    <tr>\n",
              "      <th>2013-01-01</th>\n",
              "      <td>1.545821</td>\n",
              "      <td>-0.694317</td>\n",
              "    </tr>\n",
              "    <tr>\n",
              "      <th>2013-01-02</th>\n",
              "      <td>-0.962319</td>\n",
              "      <td>0.396033</td>\n",
              "    </tr>\n",
              "    <tr>\n",
              "      <th>2013-01-03</th>\n",
              "      <td>-0.050927</td>\n",
              "      <td>-1.867463</td>\n",
              "    </tr>\n",
              "    <tr>\n",
              "      <th>2013-01-04</th>\n",
              "      <td>1.435120</td>\n",
              "      <td>1.116273</td>\n",
              "    </tr>\n",
              "    <tr>\n",
              "      <th>2013-01-05</th>\n",
              "      <td>-1.318908</td>\n",
              "      <td>-0.828981</td>\n",
              "    </tr>\n",
              "    <tr>\n",
              "      <th>2013-01-06</th>\n",
              "      <td>-0.456069</td>\n",
              "      <td>-0.256165</td>\n",
              "    </tr>\n",
              "  </tbody>\n",
              "</table>\n",
              "</div>"
            ],
            "text/plain": [
              "                   A         B\n",
              "2013-01-01  1.545821 -0.694317\n",
              "2013-01-02 -0.962319  0.396033\n",
              "2013-01-03 -0.050927 -1.867463\n",
              "2013-01-04  1.435120  1.116273\n",
              "2013-01-05 -1.318908 -0.828981\n",
              "2013-01-06 -0.456069 -0.256165"
            ]
          },
          "metadata": {
            "tags": []
          },
          "execution_count": 68
        }
      ]
    },
    {
      "cell_type": "markdown",
      "metadata": {
        "id": "5IFZZdfXOyT8",
        "colab_type": "text"
      },
      "source": [
        "Showing label slicing, both endpoints are included"
      ]
    },
    {
      "cell_type": "code",
      "metadata": {
        "id": "CXnAmalROyT8",
        "colab_type": "code",
        "colab": {},
        "outputId": "b3eff47f-d5ae-48a1-ccf3-5c52230435a9"
      },
      "source": [
        "df.loc['20130102':'20130104',['A','B']]"
      ],
      "execution_count": null,
      "outputs": [
        {
          "output_type": "execute_result",
          "data": {
            "text/html": [
              "<div>\n",
              "<style>\n",
              "    .dataframe thead tr:only-child th {\n",
              "        text-align: right;\n",
              "    }\n",
              "\n",
              "    .dataframe thead th {\n",
              "        text-align: left;\n",
              "    }\n",
              "\n",
              "    .dataframe tbody tr th {\n",
              "        vertical-align: top;\n",
              "    }\n",
              "</style>\n",
              "<table border=\"1\" class=\"dataframe\">\n",
              "  <thead>\n",
              "    <tr style=\"text-align: right;\">\n",
              "      <th></th>\n",
              "      <th>A</th>\n",
              "      <th>B</th>\n",
              "    </tr>\n",
              "  </thead>\n",
              "  <tbody>\n",
              "    <tr>\n",
              "      <th>2013-01-02</th>\n",
              "      <td>-0.962319</td>\n",
              "      <td>0.396033</td>\n",
              "    </tr>\n",
              "    <tr>\n",
              "      <th>2013-01-03</th>\n",
              "      <td>-0.050927</td>\n",
              "      <td>-1.867463</td>\n",
              "    </tr>\n",
              "    <tr>\n",
              "      <th>2013-01-04</th>\n",
              "      <td>1.435120</td>\n",
              "      <td>1.116273</td>\n",
              "    </tr>\n",
              "  </tbody>\n",
              "</table>\n",
              "</div>"
            ],
            "text/plain": [
              "                   A         B\n",
              "2013-01-02 -0.962319  0.396033\n",
              "2013-01-03 -0.050927 -1.867463\n",
              "2013-01-04  1.435120  1.116273"
            ]
          },
          "metadata": {
            "tags": []
          },
          "execution_count": 69
        }
      ]
    },
    {
      "cell_type": "markdown",
      "metadata": {
        "id": "oVJRdoLeOyT-",
        "colab_type": "text"
      },
      "source": [
        "Reduction in the dimensions of the returned object"
      ]
    },
    {
      "cell_type": "code",
      "metadata": {
        "id": "RQMi4tQfOyT-",
        "colab_type": "code",
        "colab": {},
        "outputId": "876e0049-1ff1-4542-bc67-2f34162cb5d9"
      },
      "source": [
        "df.loc['20130102',['A','B']]"
      ],
      "execution_count": null,
      "outputs": [
        {
          "output_type": "execute_result",
          "data": {
            "text/plain": [
              "A   -2.870506\n",
              "B    0.217154\n",
              "Name: 2013-01-02 00:00:00, dtype: float64"
            ]
          },
          "metadata": {
            "tags": []
          },
          "execution_count": 215
        }
      ]
    },
    {
      "cell_type": "markdown",
      "metadata": {
        "id": "6qSL9kPgOyUA",
        "colab_type": "text"
      },
      "source": [
        "For getting a scalar value"
      ]
    },
    {
      "cell_type": "code",
      "metadata": {
        "id": "DOpxtrKuOyUA",
        "colab_type": "code",
        "colab": {},
        "outputId": "088c034f-cde3-45f8-f00c-98fbb5534d3b"
      },
      "source": [
        "df.loc[dates[0],'A']"
      ],
      "execution_count": null,
      "outputs": [
        {
          "output_type": "execute_result",
          "data": {
            "text/plain": [
              "-0.1162853262272988"
            ]
          },
          "metadata": {
            "tags": []
          },
          "execution_count": 216
        }
      ]
    },
    {
      "cell_type": "markdown",
      "metadata": {
        "id": "Oi4aSG4YOyUE",
        "colab_type": "text"
      },
      "source": [
        "For getting fast access to a scalar (equiv to the prior method)"
      ]
    },
    {
      "cell_type": "code",
      "metadata": {
        "id": "iwlGQ82DOyUF",
        "colab_type": "code",
        "colab": {},
        "outputId": "a0847e2d-1ee8-49b0-a1d1-56d52a6f2bfc"
      },
      "source": [
        "df.at[dates[0],'A']"
      ],
      "execution_count": null,
      "outputs": [
        {
          "output_type": "execute_result",
          "data": {
            "text/plain": [
              "-0.1162853262272988"
            ]
          },
          "metadata": {
            "tags": []
          },
          "execution_count": 217
        }
      ]
    },
    {
      "cell_type": "markdown",
      "metadata": {
        "id": "0BtIkydjOyUJ",
        "colab_type": "text"
      },
      "source": [
        "### Selection by position"
      ]
    },
    {
      "cell_type": "markdown",
      "metadata": {
        "id": "1gCzF_d4OyUJ",
        "colab_type": "text"
      },
      "source": [
        "Pandas provides a suite of methods in order to get purely integer based indexing. The semantics follow closely python and numpy slicing. These are 0-based indexing. When slicing, the start bounds is included, while the upper bound is excluded. Trying to use a non-integer, even a valid label will raise an IndexError.\n",
        "\n",
        "The .iloc attribute is the primary access method. The following are valid inputs:\n",
        "\n",
        "    An integer e.g. 5\n",
        "    A list or array of integers [4, 3, 0]\n",
        "    A slice object with ints 1:7\n",
        "    A boolean array\n",
        "    A callable, see Selection By Callable\n"
      ]
    },
    {
      "cell_type": "code",
      "metadata": {
        "id": "MjIJYw1nOyUK",
        "colab_type": "code",
        "colab": {},
        "outputId": "54cefdd4-862c-4bbc-e6e8-2ceda64dbb18"
      },
      "source": [
        "df"
      ],
      "execution_count": null,
      "outputs": [
        {
          "output_type": "execute_result",
          "data": {
            "text/html": [
              "<div>\n",
              "<style>\n",
              "    .dataframe thead tr:only-child th {\n",
              "        text-align: right;\n",
              "    }\n",
              "\n",
              "    .dataframe thead th {\n",
              "        text-align: left;\n",
              "    }\n",
              "\n",
              "    .dataframe tbody tr th {\n",
              "        vertical-align: top;\n",
              "    }\n",
              "</style>\n",
              "<table border=\"1\" class=\"dataframe\">\n",
              "  <thead>\n",
              "    <tr style=\"text-align: right;\">\n",
              "      <th></th>\n",
              "      <th>A</th>\n",
              "      <th>B</th>\n",
              "      <th>C</th>\n",
              "      <th>D</th>\n",
              "    </tr>\n",
              "  </thead>\n",
              "  <tbody>\n",
              "    <tr>\n",
              "      <th>2013-01-01</th>\n",
              "      <td>-0.116285</td>\n",
              "      <td>-1.474959</td>\n",
              "      <td>-0.980324</td>\n",
              "      <td>-1.330070</td>\n",
              "    </tr>\n",
              "    <tr>\n",
              "      <th>2013-01-02</th>\n",
              "      <td>-2.870506</td>\n",
              "      <td>0.217154</td>\n",
              "      <td>0.484818</td>\n",
              "      <td>1.653484</td>\n",
              "    </tr>\n",
              "    <tr>\n",
              "      <th>2013-01-03</th>\n",
              "      <td>-0.387578</td>\n",
              "      <td>0.036334</td>\n",
              "      <td>0.042390</td>\n",
              "      <td>-2.644709</td>\n",
              "    </tr>\n",
              "    <tr>\n",
              "      <th>2013-01-04</th>\n",
              "      <td>-0.494736</td>\n",
              "      <td>-0.380090</td>\n",
              "      <td>1.460528</td>\n",
              "      <td>0.366185</td>\n",
              "    </tr>\n",
              "    <tr>\n",
              "      <th>2013-01-05</th>\n",
              "      <td>0.386847</td>\n",
              "      <td>0.885761</td>\n",
              "      <td>1.154757</td>\n",
              "      <td>-0.096099</td>\n",
              "    </tr>\n",
              "    <tr>\n",
              "      <th>2013-01-06</th>\n",
              "      <td>-0.262767</td>\n",
              "      <td>1.650756</td>\n",
              "      <td>0.824836</td>\n",
              "      <td>-0.994350</td>\n",
              "    </tr>\n",
              "  </tbody>\n",
              "</table>\n",
              "</div>"
            ],
            "text/plain": [
              "                   A         B         C         D\n",
              "2013-01-01 -0.116285 -1.474959 -0.980324 -1.330070\n",
              "2013-01-02 -2.870506  0.217154  0.484818  1.653484\n",
              "2013-01-03 -0.387578  0.036334  0.042390 -2.644709\n",
              "2013-01-04 -0.494736 -0.380090  1.460528  0.366185\n",
              "2013-01-05  0.386847  0.885761  1.154757 -0.096099\n",
              "2013-01-06 -0.262767  1.650756  0.824836 -0.994350"
            ]
          },
          "metadata": {
            "tags": []
          },
          "execution_count": 218
        }
      ]
    },
    {
      "cell_type": "markdown",
      "metadata": {
        "id": "u0MHN-XiOyUN",
        "colab_type": "text"
      },
      "source": [
        "Select via the position of the passed integers"
      ]
    },
    {
      "cell_type": "code",
      "metadata": {
        "id": "3-btbg1OOyUN",
        "colab_type": "code",
        "colab": {},
        "outputId": "c4ae0e05-ae7d-4842-b79b-b08d90e003ec"
      },
      "source": [
        "df.iloc[3]"
      ],
      "execution_count": null,
      "outputs": [
        {
          "output_type": "execute_result",
          "data": {
            "text/plain": [
              "A    1.435120\n",
              "B    1.116273\n",
              "C   -0.844474\n",
              "D    0.589837\n",
              "Name: 2013-01-04 00:00:00, dtype: float64"
            ]
          },
          "metadata": {
            "tags": []
          },
          "execution_count": 71
        }
      ]
    },
    {
      "cell_type": "markdown",
      "metadata": {
        "id": "RNIBzSw4OyUQ",
        "colab_type": "text"
      },
      "source": [
        "By integer slices, acting similar to numpy/python"
      ]
    },
    {
      "cell_type": "code",
      "metadata": {
        "id": "lj5PQ6zGOyUQ",
        "colab_type": "code",
        "colab": {},
        "outputId": "6214f18a-cb1e-4828-eb54-59314cebed2e"
      },
      "source": [
        "df.iloc[3:5,0:2]"
      ],
      "execution_count": null,
      "outputs": [
        {
          "output_type": "execute_result",
          "data": {
            "text/html": [
              "<div>\n",
              "<style>\n",
              "    .dataframe thead tr:only-child th {\n",
              "        text-align: right;\n",
              "    }\n",
              "\n",
              "    .dataframe thead th {\n",
              "        text-align: left;\n",
              "    }\n",
              "\n",
              "    .dataframe tbody tr th {\n",
              "        vertical-align: top;\n",
              "    }\n",
              "</style>\n",
              "<table border=\"1\" class=\"dataframe\">\n",
              "  <thead>\n",
              "    <tr style=\"text-align: right;\">\n",
              "      <th></th>\n",
              "      <th>A</th>\n",
              "      <th>B</th>\n",
              "    </tr>\n",
              "  </thead>\n",
              "  <tbody>\n",
              "    <tr>\n",
              "      <th>2013-01-04</th>\n",
              "      <td>1.435120</td>\n",
              "      <td>1.116273</td>\n",
              "    </tr>\n",
              "    <tr>\n",
              "      <th>2013-01-05</th>\n",
              "      <td>-1.318908</td>\n",
              "      <td>-0.828981</td>\n",
              "    </tr>\n",
              "  </tbody>\n",
              "</table>\n",
              "</div>"
            ],
            "text/plain": [
              "                   A         B\n",
              "2013-01-04  1.435120  1.116273\n",
              "2013-01-05 -1.318908 -0.828981"
            ]
          },
          "metadata": {
            "tags": []
          },
          "execution_count": 72
        }
      ]
    },
    {
      "cell_type": "markdown",
      "metadata": {
        "id": "9J_gr5OyOyUT",
        "colab_type": "text"
      },
      "source": [
        "By lists of integer position locations, similar to the numpy/python style"
      ]
    },
    {
      "cell_type": "code",
      "metadata": {
        "id": "B8oc-pGtOyUT",
        "colab_type": "code",
        "colab": {},
        "outputId": "9097cb7f-1692-4126-ebcb-906c47201b84"
      },
      "source": [
        "df.iloc[[1,2,4],[0,2]]"
      ],
      "execution_count": null,
      "outputs": [
        {
          "output_type": "execute_result",
          "data": {
            "text/html": [
              "<div>\n",
              "<style>\n",
              "    .dataframe thead tr:only-child th {\n",
              "        text-align: right;\n",
              "    }\n",
              "\n",
              "    .dataframe thead th {\n",
              "        text-align: left;\n",
              "    }\n",
              "\n",
              "    .dataframe tbody tr th {\n",
              "        vertical-align: top;\n",
              "    }\n",
              "</style>\n",
              "<table border=\"1\" class=\"dataframe\">\n",
              "  <thead>\n",
              "    <tr style=\"text-align: right;\">\n",
              "      <th></th>\n",
              "      <th>A</th>\n",
              "      <th>C</th>\n",
              "    </tr>\n",
              "  </thead>\n",
              "  <tbody>\n",
              "    <tr>\n",
              "      <th>2013-01-02</th>\n",
              "      <td>-2.870506</td>\n",
              "      <td>0.484818</td>\n",
              "    </tr>\n",
              "    <tr>\n",
              "      <th>2013-01-03</th>\n",
              "      <td>-0.387578</td>\n",
              "      <td>0.042390</td>\n",
              "    </tr>\n",
              "    <tr>\n",
              "      <th>2013-01-05</th>\n",
              "      <td>0.386847</td>\n",
              "      <td>1.154757</td>\n",
              "    </tr>\n",
              "  </tbody>\n",
              "</table>\n",
              "</div>"
            ],
            "text/plain": [
              "                   A         C\n",
              "2013-01-02 -2.870506  0.484818\n",
              "2013-01-03 -0.387578  0.042390\n",
              "2013-01-05  0.386847  1.154757"
            ]
          },
          "metadata": {
            "tags": []
          },
          "execution_count": 221
        }
      ]
    },
    {
      "cell_type": "markdown",
      "metadata": {
        "id": "lbLqvcQ_OyUW",
        "colab_type": "text"
      },
      "source": [
        "For slicing rows explicitly"
      ]
    },
    {
      "cell_type": "code",
      "metadata": {
        "id": "jlTIprsbOyUW",
        "colab_type": "code",
        "colab": {},
        "outputId": "9ef1c0b0-1ae2-4bf6-ddc2-c0e54a6dbf7b"
      },
      "source": [
        "df.iloc[1:3,:]"
      ],
      "execution_count": null,
      "outputs": [
        {
          "output_type": "execute_result",
          "data": {
            "text/html": [
              "<div>\n",
              "<style>\n",
              "    .dataframe thead tr:only-child th {\n",
              "        text-align: right;\n",
              "    }\n",
              "\n",
              "    .dataframe thead th {\n",
              "        text-align: left;\n",
              "    }\n",
              "\n",
              "    .dataframe tbody tr th {\n",
              "        vertical-align: top;\n",
              "    }\n",
              "</style>\n",
              "<table border=\"1\" class=\"dataframe\">\n",
              "  <thead>\n",
              "    <tr style=\"text-align: right;\">\n",
              "      <th></th>\n",
              "      <th>A</th>\n",
              "      <th>B</th>\n",
              "      <th>C</th>\n",
              "      <th>D</th>\n",
              "    </tr>\n",
              "  </thead>\n",
              "  <tbody>\n",
              "    <tr>\n",
              "      <th>2013-01-02</th>\n",
              "      <td>-2.870506</td>\n",
              "      <td>0.217154</td>\n",
              "      <td>0.484818</td>\n",
              "      <td>1.653484</td>\n",
              "    </tr>\n",
              "    <tr>\n",
              "      <th>2013-01-03</th>\n",
              "      <td>-0.387578</td>\n",
              "      <td>0.036334</td>\n",
              "      <td>0.042390</td>\n",
              "      <td>-2.644709</td>\n",
              "    </tr>\n",
              "  </tbody>\n",
              "</table>\n",
              "</div>"
            ],
            "text/plain": [
              "                   A         B         C         D\n",
              "2013-01-02 -2.870506  0.217154  0.484818  1.653484\n",
              "2013-01-03 -0.387578  0.036334  0.042390 -2.644709"
            ]
          },
          "metadata": {
            "tags": []
          },
          "execution_count": 222
        }
      ]
    },
    {
      "cell_type": "markdown",
      "metadata": {
        "id": "0w9Tn65eOyUc",
        "colab_type": "text"
      },
      "source": [
        "For slicing columns explicitly"
      ]
    },
    {
      "cell_type": "code",
      "metadata": {
        "id": "HDFn4SBiOyUc",
        "colab_type": "code",
        "colab": {},
        "outputId": "4fe521c0-761c-43fd-f651-02663847930f"
      },
      "source": [
        "df.iloc[:,1:3]"
      ],
      "execution_count": null,
      "outputs": [
        {
          "output_type": "execute_result",
          "data": {
            "text/html": [
              "<div>\n",
              "<style>\n",
              "    .dataframe thead tr:only-child th {\n",
              "        text-align: right;\n",
              "    }\n",
              "\n",
              "    .dataframe thead th {\n",
              "        text-align: left;\n",
              "    }\n",
              "\n",
              "    .dataframe tbody tr th {\n",
              "        vertical-align: top;\n",
              "    }\n",
              "</style>\n",
              "<table border=\"1\" class=\"dataframe\">\n",
              "  <thead>\n",
              "    <tr style=\"text-align: right;\">\n",
              "      <th></th>\n",
              "      <th>B</th>\n",
              "      <th>C</th>\n",
              "    </tr>\n",
              "  </thead>\n",
              "  <tbody>\n",
              "    <tr>\n",
              "      <th>2013-01-01</th>\n",
              "      <td>-1.474959</td>\n",
              "      <td>-0.980324</td>\n",
              "    </tr>\n",
              "    <tr>\n",
              "      <th>2013-01-02</th>\n",
              "      <td>0.217154</td>\n",
              "      <td>0.484818</td>\n",
              "    </tr>\n",
              "    <tr>\n",
              "      <th>2013-01-03</th>\n",
              "      <td>0.036334</td>\n",
              "      <td>0.042390</td>\n",
              "    </tr>\n",
              "    <tr>\n",
              "      <th>2013-01-04</th>\n",
              "      <td>-0.380090</td>\n",
              "      <td>1.460528</td>\n",
              "    </tr>\n",
              "    <tr>\n",
              "      <th>2013-01-05</th>\n",
              "      <td>0.885761</td>\n",
              "      <td>1.154757</td>\n",
              "    </tr>\n",
              "    <tr>\n",
              "      <th>2013-01-06</th>\n",
              "      <td>1.650756</td>\n",
              "      <td>0.824836</td>\n",
              "    </tr>\n",
              "  </tbody>\n",
              "</table>\n",
              "</div>"
            ],
            "text/plain": [
              "                   B         C\n",
              "2013-01-01 -1.474959 -0.980324\n",
              "2013-01-02  0.217154  0.484818\n",
              "2013-01-03  0.036334  0.042390\n",
              "2013-01-04 -0.380090  1.460528\n",
              "2013-01-05  0.885761  1.154757\n",
              "2013-01-06  1.650756  0.824836"
            ]
          },
          "metadata": {
            "tags": []
          },
          "execution_count": 223
        }
      ]
    },
    {
      "cell_type": "markdown",
      "metadata": {
        "id": "yPml5TYNOyUe",
        "colab_type": "text"
      },
      "source": [
        "For getting a value explicitly"
      ]
    },
    {
      "cell_type": "code",
      "metadata": {
        "id": "njPkqPMxOyUe",
        "colab_type": "code",
        "colab": {},
        "outputId": "3d9d676d-0ce8-475c-c96a-cacc81b56e5b"
      },
      "source": [
        "df.iloc[1,1]"
      ],
      "execution_count": null,
      "outputs": [
        {
          "output_type": "execute_result",
          "data": {
            "text/plain": [
              "0.21715395388644865"
            ]
          },
          "metadata": {
            "tags": []
          },
          "execution_count": 224
        }
      ]
    },
    {
      "cell_type": "markdown",
      "metadata": {
        "id": "xvThuxm0OyUg",
        "colab_type": "text"
      },
      "source": [
        "For getting fast access to a scalar (equiv to the prior method)"
      ]
    },
    {
      "cell_type": "code",
      "metadata": {
        "id": "O_bfRTATOyUg",
        "colab_type": "code",
        "colab": {},
        "outputId": "0396f6c7-110f-4cb1-d944-cea36ee363fe"
      },
      "source": [
        "df.iat[1,1]"
      ],
      "execution_count": null,
      "outputs": [
        {
          "output_type": "execute_result",
          "data": {
            "text/plain": [
              "0.21715395388644865"
            ]
          },
          "metadata": {
            "tags": []
          },
          "execution_count": 225
        }
      ]
    },
    {
      "cell_type": "markdown",
      "metadata": {
        "id": "ipNQo0TNOyUi",
        "colab_type": "text"
      },
      "source": [
        "### Boolean Indexing"
      ]
    },
    {
      "cell_type": "markdown",
      "metadata": {
        "id": "EjFC4627OyUj",
        "colab_type": "text"
      },
      "source": [
        "Using a single column’s values to select data."
      ]
    },
    {
      "cell_type": "code",
      "metadata": {
        "id": "4fLnWnawOyUj",
        "colab_type": "code",
        "colab": {},
        "outputId": "c12e78e8-c8af-4313-aca9-7130a559b4b0"
      },
      "source": [
        "df[df.A > 0]"
      ],
      "execution_count": null,
      "outputs": [
        {
          "output_type": "execute_result",
          "data": {
            "text/html": [
              "<div>\n",
              "<style>\n",
              "    .dataframe thead tr:only-child th {\n",
              "        text-align: right;\n",
              "    }\n",
              "\n",
              "    .dataframe thead th {\n",
              "        text-align: left;\n",
              "    }\n",
              "\n",
              "    .dataframe tbody tr th {\n",
              "        vertical-align: top;\n",
              "    }\n",
              "</style>\n",
              "<table border=\"1\" class=\"dataframe\">\n",
              "  <thead>\n",
              "    <tr style=\"text-align: right;\">\n",
              "      <th></th>\n",
              "      <th>A</th>\n",
              "      <th>B</th>\n",
              "      <th>C</th>\n",
              "      <th>D</th>\n",
              "    </tr>\n",
              "  </thead>\n",
              "  <tbody>\n",
              "    <tr>\n",
              "      <th>2013-01-01</th>\n",
              "      <td>1.545821</td>\n",
              "      <td>-0.694317</td>\n",
              "      <td>0.732410</td>\n",
              "      <td>0.789461</td>\n",
              "    </tr>\n",
              "    <tr>\n",
              "      <th>2013-01-04</th>\n",
              "      <td>1.435120</td>\n",
              "      <td>1.116273</td>\n",
              "      <td>-0.844474</td>\n",
              "      <td>0.589837</td>\n",
              "    </tr>\n",
              "  </tbody>\n",
              "</table>\n",
              "</div>"
            ],
            "text/plain": [
              "                   A         B         C         D\n",
              "2013-01-01  1.545821 -0.694317  0.732410  0.789461\n",
              "2013-01-04  1.435120  1.116273 -0.844474  0.589837"
            ]
          },
          "metadata": {
            "tags": []
          },
          "execution_count": 73
        }
      ]
    },
    {
      "cell_type": "markdown",
      "metadata": {
        "id": "pJlaCZm1OyUk",
        "colab_type": "text"
      },
      "source": [
        "A `where` operation for getting."
      ]
    },
    {
      "cell_type": "code",
      "metadata": {
        "scrolled": true,
        "id": "tGwIv5dYOyUl",
        "colab_type": "code",
        "colab": {},
        "outputId": "20d9c1e8-5749-4e69-c700-a1b4f9730f18"
      },
      "source": [
        "df[df > 0]"
      ],
      "execution_count": null,
      "outputs": [
        {
          "output_type": "execute_result",
          "data": {
            "text/html": [
              "<div>\n",
              "<style>\n",
              "    .dataframe thead tr:only-child th {\n",
              "        text-align: right;\n",
              "    }\n",
              "\n",
              "    .dataframe thead th {\n",
              "        text-align: left;\n",
              "    }\n",
              "\n",
              "    .dataframe tbody tr th {\n",
              "        vertical-align: top;\n",
              "    }\n",
              "</style>\n",
              "<table border=\"1\" class=\"dataframe\">\n",
              "  <thead>\n",
              "    <tr style=\"text-align: right;\">\n",
              "      <th></th>\n",
              "      <th>A</th>\n",
              "      <th>B</th>\n",
              "      <th>C</th>\n",
              "      <th>D</th>\n",
              "    </tr>\n",
              "  </thead>\n",
              "  <tbody>\n",
              "    <tr>\n",
              "      <th>2013-01-01</th>\n",
              "      <td>NaN</td>\n",
              "      <td>NaN</td>\n",
              "      <td>NaN</td>\n",
              "      <td>NaN</td>\n",
              "    </tr>\n",
              "    <tr>\n",
              "      <th>2013-01-02</th>\n",
              "      <td>NaN</td>\n",
              "      <td>0.217154</td>\n",
              "      <td>0.484818</td>\n",
              "      <td>1.653484</td>\n",
              "    </tr>\n",
              "    <tr>\n",
              "      <th>2013-01-03</th>\n",
              "      <td>NaN</td>\n",
              "      <td>0.036334</td>\n",
              "      <td>0.042390</td>\n",
              "      <td>NaN</td>\n",
              "    </tr>\n",
              "    <tr>\n",
              "      <th>2013-01-04</th>\n",
              "      <td>NaN</td>\n",
              "      <td>NaN</td>\n",
              "      <td>1.460528</td>\n",
              "      <td>0.366185</td>\n",
              "    </tr>\n",
              "    <tr>\n",
              "      <th>2013-01-05</th>\n",
              "      <td>0.386847</td>\n",
              "      <td>0.885761</td>\n",
              "      <td>1.154757</td>\n",
              "      <td>NaN</td>\n",
              "    </tr>\n",
              "    <tr>\n",
              "      <th>2013-01-06</th>\n",
              "      <td>NaN</td>\n",
              "      <td>1.650756</td>\n",
              "      <td>0.824836</td>\n",
              "      <td>NaN</td>\n",
              "    </tr>\n",
              "  </tbody>\n",
              "</table>\n",
              "</div>"
            ],
            "text/plain": [
              "                   A         B         C         D\n",
              "2013-01-01       NaN       NaN       NaN       NaN\n",
              "2013-01-02       NaN  0.217154  0.484818  1.653484\n",
              "2013-01-03       NaN  0.036334  0.042390       NaN\n",
              "2013-01-04       NaN       NaN  1.460528  0.366185\n",
              "2013-01-05  0.386847  0.885761  1.154757       NaN\n",
              "2013-01-06       NaN  1.650756  0.824836       NaN"
            ]
          },
          "metadata": {
            "tags": []
          },
          "execution_count": 227
        }
      ]
    },
    {
      "cell_type": "code",
      "metadata": {
        "id": "UpbNTMMEOyUn",
        "colab_type": "code",
        "colab": {},
        "outputId": "eb1fdb4a-8d05-4834-b7b1-bd7f5e2ab17a"
      },
      "source": [
        "np.nan==None"
      ],
      "execution_count": null,
      "outputs": [
        {
          "output_type": "execute_result",
          "data": {
            "text/plain": [
              "False"
            ]
          },
          "metadata": {
            "tags": []
          },
          "execution_count": 228
        }
      ]
    },
    {
      "cell_type": "code",
      "metadata": {
        "id": "g_2116rLOyUo",
        "colab_type": "code",
        "colab": {},
        "outputId": "2a9fc0d8-17ae-43e0-d4ad-892cef3abe2e"
      },
      "source": [
        "np.nan==np.nan"
      ],
      "execution_count": null,
      "outputs": [
        {
          "output_type": "execute_result",
          "data": {
            "text/plain": [
              "False"
            ]
          },
          "metadata": {
            "tags": []
          },
          "execution_count": 229
        }
      ]
    },
    {
      "cell_type": "code",
      "metadata": {
        "id": "qM2i31N4OyUp",
        "colab_type": "code",
        "colab": {},
        "outputId": "d679c44e-4ea0-48e7-dee9-792820263985"
      },
      "source": [
        "np.isnan(np.nan)"
      ],
      "execution_count": null,
      "outputs": [
        {
          "output_type": "execute_result",
          "data": {
            "text/plain": [
              "True"
            ]
          },
          "metadata": {
            "tags": []
          },
          "execution_count": 230
        }
      ]
    },
    {
      "cell_type": "markdown",
      "metadata": {
        "id": "727hgH4bOyUr",
        "colab_type": "text"
      },
      "source": [
        "### Using the isin() method for filtering:"
      ]
    },
    {
      "cell_type": "markdown",
      "metadata": {
        "id": "cLiC8pQGOyUr",
        "colab_type": "text"
      },
      "source": [
        "Series.isin(values)\n",
        "Return a boolean Series showing whether each element in the Series is exactly contained in the passed sequence of values.\n",
        "    \n",
        "    \n",
        "Parameters:\t\n",
        "\n",
        "values : set or list-like: The sequence of values to test. Passing in a single string will raise a TypeError. Instead, turn a single string into a list of one element.\n",
        "\n",
        "  \n",
        "Returns: isin : Series (bool dtype)\n",
        "\n",
        "Raises:\tTypeError: If values is a string\n",
        "\n"
      ]
    },
    {
      "cell_type": "code",
      "metadata": {
        "id": "JM81fJh-OyUr",
        "colab_type": "code",
        "colab": {}
      },
      "source": [
        "df2 = df.copy()"
      ],
      "execution_count": null,
      "outputs": []
    },
    {
      "cell_type": "code",
      "metadata": {
        "id": "rMjwxjzpOyUs",
        "colab_type": "code",
        "colab": {},
        "outputId": "992e12c3-9fc2-4986-a952-56930b089c8e"
      },
      "source": [
        "df2"
      ],
      "execution_count": null,
      "outputs": [
        {
          "output_type": "execute_result",
          "data": {
            "text/html": [
              "<div>\n",
              "<style>\n",
              "    .dataframe thead tr:only-child th {\n",
              "        text-align: right;\n",
              "    }\n",
              "\n",
              "    .dataframe thead th {\n",
              "        text-align: left;\n",
              "    }\n",
              "\n",
              "    .dataframe tbody tr th {\n",
              "        vertical-align: top;\n",
              "    }\n",
              "</style>\n",
              "<table border=\"1\" class=\"dataframe\">\n",
              "  <thead>\n",
              "    <tr style=\"text-align: right;\">\n",
              "      <th></th>\n",
              "      <th>A</th>\n",
              "      <th>B</th>\n",
              "      <th>C</th>\n",
              "      <th>D</th>\n",
              "    </tr>\n",
              "  </thead>\n",
              "  <tbody>\n",
              "    <tr>\n",
              "      <th>2013-01-01</th>\n",
              "      <td>-0.116285</td>\n",
              "      <td>-1.474959</td>\n",
              "      <td>-0.980324</td>\n",
              "      <td>-1.330070</td>\n",
              "    </tr>\n",
              "    <tr>\n",
              "      <th>2013-01-02</th>\n",
              "      <td>-2.870506</td>\n",
              "      <td>0.217154</td>\n",
              "      <td>0.484818</td>\n",
              "      <td>1.653484</td>\n",
              "    </tr>\n",
              "    <tr>\n",
              "      <th>2013-01-03</th>\n",
              "      <td>-0.387578</td>\n",
              "      <td>0.036334</td>\n",
              "      <td>0.042390</td>\n",
              "      <td>-2.644709</td>\n",
              "    </tr>\n",
              "    <tr>\n",
              "      <th>2013-01-04</th>\n",
              "      <td>-0.494736</td>\n",
              "      <td>-0.380090</td>\n",
              "      <td>1.460528</td>\n",
              "      <td>0.366185</td>\n",
              "    </tr>\n",
              "    <tr>\n",
              "      <th>2013-01-05</th>\n",
              "      <td>0.386847</td>\n",
              "      <td>0.885761</td>\n",
              "      <td>1.154757</td>\n",
              "      <td>-0.096099</td>\n",
              "    </tr>\n",
              "    <tr>\n",
              "      <th>2013-01-06</th>\n",
              "      <td>-0.262767</td>\n",
              "      <td>1.650756</td>\n",
              "      <td>0.824836</td>\n",
              "      <td>-0.994350</td>\n",
              "    </tr>\n",
              "  </tbody>\n",
              "</table>\n",
              "</div>"
            ],
            "text/plain": [
              "                   A         B         C         D\n",
              "2013-01-01 -0.116285 -1.474959 -0.980324 -1.330070\n",
              "2013-01-02 -2.870506  0.217154  0.484818  1.653484\n",
              "2013-01-03 -0.387578  0.036334  0.042390 -2.644709\n",
              "2013-01-04 -0.494736 -0.380090  1.460528  0.366185\n",
              "2013-01-05  0.386847  0.885761  1.154757 -0.096099\n",
              "2013-01-06 -0.262767  1.650756  0.824836 -0.994350"
            ]
          },
          "metadata": {
            "tags": []
          },
          "execution_count": 232
        }
      ]
    },
    {
      "cell_type": "code",
      "metadata": {
        "id": "HPqaeC_5OyUt",
        "colab_type": "code",
        "colab": {}
      },
      "source": [
        "df2['E'] = ['one', 'one','two','three','four','three']"
      ],
      "execution_count": null,
      "outputs": []
    },
    {
      "cell_type": "code",
      "metadata": {
        "scrolled": false,
        "id": "1F55J2rNOyUu",
        "colab_type": "code",
        "colab": {},
        "outputId": "b2322727-eb9e-4d2c-fd18-4605b56f8790"
      },
      "source": [
        "df2"
      ],
      "execution_count": null,
      "outputs": [
        {
          "output_type": "execute_result",
          "data": {
            "text/html": [
              "<div>\n",
              "<style>\n",
              "    .dataframe thead tr:only-child th {\n",
              "        text-align: right;\n",
              "    }\n",
              "\n",
              "    .dataframe thead th {\n",
              "        text-align: left;\n",
              "    }\n",
              "\n",
              "    .dataframe tbody tr th {\n",
              "        vertical-align: top;\n",
              "    }\n",
              "</style>\n",
              "<table border=\"1\" class=\"dataframe\">\n",
              "  <thead>\n",
              "    <tr style=\"text-align: right;\">\n",
              "      <th></th>\n",
              "      <th>A</th>\n",
              "      <th>B</th>\n",
              "      <th>C</th>\n",
              "      <th>D</th>\n",
              "      <th>E</th>\n",
              "    </tr>\n",
              "  </thead>\n",
              "  <tbody>\n",
              "    <tr>\n",
              "      <th>2013-01-01</th>\n",
              "      <td>-0.116285</td>\n",
              "      <td>-1.474959</td>\n",
              "      <td>-0.980324</td>\n",
              "      <td>-1.330070</td>\n",
              "      <td>one</td>\n",
              "    </tr>\n",
              "    <tr>\n",
              "      <th>2013-01-02</th>\n",
              "      <td>-2.870506</td>\n",
              "      <td>0.217154</td>\n",
              "      <td>0.484818</td>\n",
              "      <td>1.653484</td>\n",
              "      <td>one</td>\n",
              "    </tr>\n",
              "    <tr>\n",
              "      <th>2013-01-03</th>\n",
              "      <td>-0.387578</td>\n",
              "      <td>0.036334</td>\n",
              "      <td>0.042390</td>\n",
              "      <td>-2.644709</td>\n",
              "      <td>two</td>\n",
              "    </tr>\n",
              "    <tr>\n",
              "      <th>2013-01-04</th>\n",
              "      <td>-0.494736</td>\n",
              "      <td>-0.380090</td>\n",
              "      <td>1.460528</td>\n",
              "      <td>0.366185</td>\n",
              "      <td>three</td>\n",
              "    </tr>\n",
              "    <tr>\n",
              "      <th>2013-01-05</th>\n",
              "      <td>0.386847</td>\n",
              "      <td>0.885761</td>\n",
              "      <td>1.154757</td>\n",
              "      <td>-0.096099</td>\n",
              "      <td>four</td>\n",
              "    </tr>\n",
              "    <tr>\n",
              "      <th>2013-01-06</th>\n",
              "      <td>-0.262767</td>\n",
              "      <td>1.650756</td>\n",
              "      <td>0.824836</td>\n",
              "      <td>-0.994350</td>\n",
              "      <td>three</td>\n",
              "    </tr>\n",
              "  </tbody>\n",
              "</table>\n",
              "</div>"
            ],
            "text/plain": [
              "                   A         B         C         D      E\n",
              "2013-01-01 -0.116285 -1.474959 -0.980324 -1.330070    one\n",
              "2013-01-02 -2.870506  0.217154  0.484818  1.653484    one\n",
              "2013-01-03 -0.387578  0.036334  0.042390 -2.644709    two\n",
              "2013-01-04 -0.494736 -0.380090  1.460528  0.366185  three\n",
              "2013-01-05  0.386847  0.885761  1.154757 -0.096099   four\n",
              "2013-01-06 -0.262767  1.650756  0.824836 -0.994350  three"
            ]
          },
          "metadata": {
            "tags": []
          },
          "execution_count": 234
        }
      ]
    },
    {
      "cell_type": "code",
      "metadata": {
        "id": "slVhiYMJOyUx",
        "colab_type": "code",
        "colab": {},
        "outputId": "ca6fde28-909d-460a-8b3e-9a80f3757184"
      },
      "source": [
        "df2['E'].isin(['two','four'])"
      ],
      "execution_count": null,
      "outputs": [
        {
          "output_type": "execute_result",
          "data": {
            "text/plain": [
              "2013-01-01    False\n",
              "2013-01-02    False\n",
              "2013-01-03     True\n",
              "2013-01-04    False\n",
              "2013-01-05     True\n",
              "2013-01-06    False\n",
              "Freq: D, Name: E, dtype: bool"
            ]
          },
          "metadata": {
            "tags": []
          },
          "execution_count": 235
        }
      ]
    },
    {
      "cell_type": "code",
      "metadata": {
        "id": "whEtC3Q3OyUy",
        "colab_type": "code",
        "colab": {},
        "outputId": "612d1d1e-3ee4-4d9b-a85c-5fa771a337fe"
      },
      "source": [
        "df2[df2['E'].isin(['two','four'])]"
      ],
      "execution_count": null,
      "outputs": [
        {
          "output_type": "execute_result",
          "data": {
            "text/html": [
              "<div>\n",
              "<style>\n",
              "    .dataframe thead tr:only-child th {\n",
              "        text-align: right;\n",
              "    }\n",
              "\n",
              "    .dataframe thead th {\n",
              "        text-align: left;\n",
              "    }\n",
              "\n",
              "    .dataframe tbody tr th {\n",
              "        vertical-align: top;\n",
              "    }\n",
              "</style>\n",
              "<table border=\"1\" class=\"dataframe\">\n",
              "  <thead>\n",
              "    <tr style=\"text-align: right;\">\n",
              "      <th></th>\n",
              "      <th>A</th>\n",
              "      <th>B</th>\n",
              "      <th>C</th>\n",
              "      <th>D</th>\n",
              "      <th>E</th>\n",
              "    </tr>\n",
              "  </thead>\n",
              "  <tbody>\n",
              "    <tr>\n",
              "      <th>2013-01-03</th>\n",
              "      <td>-0.387578</td>\n",
              "      <td>0.036334</td>\n",
              "      <td>0.042390</td>\n",
              "      <td>-2.644709</td>\n",
              "      <td>two</td>\n",
              "    </tr>\n",
              "    <tr>\n",
              "      <th>2013-01-05</th>\n",
              "      <td>0.386847</td>\n",
              "      <td>0.885761</td>\n",
              "      <td>1.154757</td>\n",
              "      <td>-0.096099</td>\n",
              "      <td>four</td>\n",
              "    </tr>\n",
              "  </tbody>\n",
              "</table>\n",
              "</div>"
            ],
            "text/plain": [
              "                   A         B         C         D     E\n",
              "2013-01-03 -0.387578  0.036334  0.042390 -2.644709   two\n",
              "2013-01-05  0.386847  0.885761  1.154757 -0.096099  four"
            ]
          },
          "metadata": {
            "tags": []
          },
          "execution_count": 236
        }
      ]
    },
    {
      "cell_type": "code",
      "metadata": {
        "id": "zzrT8ZdkOyU0",
        "colab_type": "code",
        "colab": {},
        "outputId": "9d938e59-a9d5-4ba8-c564-2dfa4cdba194"
      },
      "source": [
        "df2[(df2[\"A\"]>1) | (df2['E'].isin(['two','four']))]"
      ],
      "execution_count": null,
      "outputs": [
        {
          "output_type": "execute_result",
          "data": {
            "text/html": [
              "<div>\n",
              "<style>\n",
              "    .dataframe thead tr:only-child th {\n",
              "        text-align: right;\n",
              "    }\n",
              "\n",
              "    .dataframe thead th {\n",
              "        text-align: left;\n",
              "    }\n",
              "\n",
              "    .dataframe tbody tr th {\n",
              "        vertical-align: top;\n",
              "    }\n",
              "</style>\n",
              "<table border=\"1\" class=\"dataframe\">\n",
              "  <thead>\n",
              "    <tr style=\"text-align: right;\">\n",
              "      <th></th>\n",
              "      <th>A</th>\n",
              "      <th>B</th>\n",
              "      <th>C</th>\n",
              "      <th>D</th>\n",
              "      <th>E</th>\n",
              "    </tr>\n",
              "  </thead>\n",
              "  <tbody>\n",
              "    <tr>\n",
              "      <th>2013-01-03</th>\n",
              "      <td>-0.387578</td>\n",
              "      <td>0.036334</td>\n",
              "      <td>0.042390</td>\n",
              "      <td>-2.644709</td>\n",
              "      <td>two</td>\n",
              "    </tr>\n",
              "    <tr>\n",
              "      <th>2013-01-05</th>\n",
              "      <td>0.386847</td>\n",
              "      <td>0.885761</td>\n",
              "      <td>1.154757</td>\n",
              "      <td>-0.096099</td>\n",
              "      <td>four</td>\n",
              "    </tr>\n",
              "  </tbody>\n",
              "</table>\n",
              "</div>"
            ],
            "text/plain": [
              "                   A         B         C         D     E\n",
              "2013-01-03 -0.387578  0.036334  0.042390 -2.644709   two\n",
              "2013-01-05  0.386847  0.885761  1.154757 -0.096099  four"
            ]
          },
          "metadata": {
            "tags": []
          },
          "execution_count": 237
        }
      ]
    },
    {
      "cell_type": "code",
      "metadata": {
        "id": "lQb6l-FHOyU3",
        "colab_type": "code",
        "colab": {},
        "outputId": "85b81e45-5bfe-4bd5-aec7-25f3ed27c363"
      },
      "source": [
        "df2[(df2[\"A\"]>1) & (df2['E'].isin(['two','four']))]"
      ],
      "execution_count": null,
      "outputs": [
        {
          "output_type": "execute_result",
          "data": {
            "text/html": [
              "<div>\n",
              "<style>\n",
              "    .dataframe thead tr:only-child th {\n",
              "        text-align: right;\n",
              "    }\n",
              "\n",
              "    .dataframe thead th {\n",
              "        text-align: left;\n",
              "    }\n",
              "\n",
              "    .dataframe tbody tr th {\n",
              "        vertical-align: top;\n",
              "    }\n",
              "</style>\n",
              "<table border=\"1\" class=\"dataframe\">\n",
              "  <thead>\n",
              "    <tr style=\"text-align: right;\">\n",
              "      <th></th>\n",
              "      <th>A</th>\n",
              "      <th>B</th>\n",
              "      <th>C</th>\n",
              "      <th>D</th>\n",
              "      <th>E</th>\n",
              "    </tr>\n",
              "  </thead>\n",
              "  <tbody>\n",
              "  </tbody>\n",
              "</table>\n",
              "</div>"
            ],
            "text/plain": [
              "Empty DataFrame\n",
              "Columns: [A, B, C, D, E]\n",
              "Index: []"
            ]
          },
          "metadata": {
            "tags": []
          },
          "execution_count": 238
        }
      ]
    },
    {
      "cell_type": "markdown",
      "metadata": {
        "id": "F338EDHiOyU4",
        "colab_type": "text"
      },
      "source": [
        "### Setting"
      ]
    },
    {
      "cell_type": "markdown",
      "metadata": {
        "id": "bSHXgSKaOyU4",
        "colab_type": "text"
      },
      "source": [
        "Setting a new column automatically aligns the data by the indexes"
      ]
    },
    {
      "cell_type": "code",
      "metadata": {
        "id": "mfubX_GdOyU5",
        "colab_type": "code",
        "colab": {}
      },
      "source": [
        "s1 = pd.Series([1,2,3,4,5,6], index=pd.date_range('20130102', periods=6))"
      ],
      "execution_count": null,
      "outputs": []
    },
    {
      "cell_type": "code",
      "metadata": {
        "id": "rQ2VJ0JgOyU7",
        "colab_type": "code",
        "colab": {},
        "outputId": "bb94746a-3c1b-495a-868c-4b02383924c0"
      },
      "source": [
        "s1"
      ],
      "execution_count": null,
      "outputs": [
        {
          "output_type": "execute_result",
          "data": {
            "text/plain": [
              "2013-01-02    1\n",
              "2013-01-03    2\n",
              "2013-01-04    3\n",
              "2013-01-05    4\n",
              "2013-01-06    5\n",
              "2013-01-07    6\n",
              "Freq: D, dtype: int64"
            ]
          },
          "metadata": {
            "tags": []
          },
          "execution_count": 240
        }
      ]
    },
    {
      "cell_type": "code",
      "metadata": {
        "id": "-xWpR0f0OyVB",
        "colab_type": "code",
        "colab": {}
      },
      "source": [
        "df['F'] = s1"
      ],
      "execution_count": null,
      "outputs": []
    },
    {
      "cell_type": "code",
      "metadata": {
        "id": "uQeMcj4NOyVC",
        "colab_type": "code",
        "colab": {},
        "outputId": "fe9ffb8a-d944-4cd9-91db-d782d185e372"
      },
      "source": [
        "df"
      ],
      "execution_count": null,
      "outputs": [
        {
          "output_type": "execute_result",
          "data": {
            "text/html": [
              "<div>\n",
              "<style>\n",
              "    .dataframe thead tr:only-child th {\n",
              "        text-align: right;\n",
              "    }\n",
              "\n",
              "    .dataframe thead th {\n",
              "        text-align: left;\n",
              "    }\n",
              "\n",
              "    .dataframe tbody tr th {\n",
              "        vertical-align: top;\n",
              "    }\n",
              "</style>\n",
              "<table border=\"1\" class=\"dataframe\">\n",
              "  <thead>\n",
              "    <tr style=\"text-align: right;\">\n",
              "      <th></th>\n",
              "      <th>A</th>\n",
              "      <th>B</th>\n",
              "      <th>C</th>\n",
              "      <th>D</th>\n",
              "      <th>F</th>\n",
              "    </tr>\n",
              "  </thead>\n",
              "  <tbody>\n",
              "    <tr>\n",
              "      <th>2013-01-01</th>\n",
              "      <td>-0.116285</td>\n",
              "      <td>-1.474959</td>\n",
              "      <td>-0.980324</td>\n",
              "      <td>-1.330070</td>\n",
              "      <td>NaN</td>\n",
              "    </tr>\n",
              "    <tr>\n",
              "      <th>2013-01-02</th>\n",
              "      <td>-2.870506</td>\n",
              "      <td>0.217154</td>\n",
              "      <td>0.484818</td>\n",
              "      <td>1.653484</td>\n",
              "      <td>1.0</td>\n",
              "    </tr>\n",
              "    <tr>\n",
              "      <th>2013-01-03</th>\n",
              "      <td>-0.387578</td>\n",
              "      <td>0.036334</td>\n",
              "      <td>0.042390</td>\n",
              "      <td>-2.644709</td>\n",
              "      <td>2.0</td>\n",
              "    </tr>\n",
              "    <tr>\n",
              "      <th>2013-01-04</th>\n",
              "      <td>-0.494736</td>\n",
              "      <td>-0.380090</td>\n",
              "      <td>1.460528</td>\n",
              "      <td>0.366185</td>\n",
              "      <td>3.0</td>\n",
              "    </tr>\n",
              "    <tr>\n",
              "      <th>2013-01-05</th>\n",
              "      <td>0.386847</td>\n",
              "      <td>0.885761</td>\n",
              "      <td>1.154757</td>\n",
              "      <td>-0.096099</td>\n",
              "      <td>4.0</td>\n",
              "    </tr>\n",
              "    <tr>\n",
              "      <th>2013-01-06</th>\n",
              "      <td>-0.262767</td>\n",
              "      <td>1.650756</td>\n",
              "      <td>0.824836</td>\n",
              "      <td>-0.994350</td>\n",
              "      <td>5.0</td>\n",
              "    </tr>\n",
              "  </tbody>\n",
              "</table>\n",
              "</div>"
            ],
            "text/plain": [
              "                   A         B         C         D    F\n",
              "2013-01-01 -0.116285 -1.474959 -0.980324 -1.330070  NaN\n",
              "2013-01-02 -2.870506  0.217154  0.484818  1.653484  1.0\n",
              "2013-01-03 -0.387578  0.036334  0.042390 -2.644709  2.0\n",
              "2013-01-04 -0.494736 -0.380090  1.460528  0.366185  3.0\n",
              "2013-01-05  0.386847  0.885761  1.154757 -0.096099  4.0\n",
              "2013-01-06 -0.262767  1.650756  0.824836 -0.994350  5.0"
            ]
          },
          "metadata": {
            "tags": []
          },
          "execution_count": 242
        }
      ]
    },
    {
      "cell_type": "markdown",
      "metadata": {
        "id": "QvdI0jkBOyVD",
        "colab_type": "text"
      },
      "source": [
        "Setting values by label"
      ]
    },
    {
      "cell_type": "code",
      "metadata": {
        "id": "K-3DH1qOOyVE",
        "colab_type": "code",
        "colab": {}
      },
      "source": [
        "df.at[dates[0],'A'] = 0"
      ],
      "execution_count": null,
      "outputs": []
    },
    {
      "cell_type": "code",
      "metadata": {
        "id": "d1xVKE61OyVF",
        "colab_type": "code",
        "colab": {},
        "outputId": "928c9972-b769-4a28-93d0-af86dab50a67"
      },
      "source": [
        "dates[0]"
      ],
      "execution_count": null,
      "outputs": [
        {
          "output_type": "execute_result",
          "data": {
            "text/plain": [
              "Timestamp('2013-01-01 00:00:00', freq='D')"
            ]
          },
          "metadata": {
            "tags": []
          },
          "execution_count": 244
        }
      ]
    },
    {
      "cell_type": "code",
      "metadata": {
        "id": "aGZv8VyQOyVH",
        "colab_type": "code",
        "colab": {},
        "outputId": "aec4a1af-9289-44a4-fa9d-3b21c836bb24"
      },
      "source": [
        "df"
      ],
      "execution_count": null,
      "outputs": [
        {
          "output_type": "execute_result",
          "data": {
            "text/html": [
              "<div>\n",
              "<style>\n",
              "    .dataframe thead tr:only-child th {\n",
              "        text-align: right;\n",
              "    }\n",
              "\n",
              "    .dataframe thead th {\n",
              "        text-align: left;\n",
              "    }\n",
              "\n",
              "    .dataframe tbody tr th {\n",
              "        vertical-align: top;\n",
              "    }\n",
              "</style>\n",
              "<table border=\"1\" class=\"dataframe\">\n",
              "  <thead>\n",
              "    <tr style=\"text-align: right;\">\n",
              "      <th></th>\n",
              "      <th>A</th>\n",
              "      <th>B</th>\n",
              "      <th>C</th>\n",
              "      <th>D</th>\n",
              "      <th>F</th>\n",
              "    </tr>\n",
              "  </thead>\n",
              "  <tbody>\n",
              "    <tr>\n",
              "      <th>2013-01-01</th>\n",
              "      <td>0.000000</td>\n",
              "      <td>-1.474959</td>\n",
              "      <td>-0.980324</td>\n",
              "      <td>-1.330070</td>\n",
              "      <td>NaN</td>\n",
              "    </tr>\n",
              "    <tr>\n",
              "      <th>2013-01-02</th>\n",
              "      <td>-2.870506</td>\n",
              "      <td>0.217154</td>\n",
              "      <td>0.484818</td>\n",
              "      <td>1.653484</td>\n",
              "      <td>1.0</td>\n",
              "    </tr>\n",
              "    <tr>\n",
              "      <th>2013-01-03</th>\n",
              "      <td>-0.387578</td>\n",
              "      <td>0.036334</td>\n",
              "      <td>0.042390</td>\n",
              "      <td>-2.644709</td>\n",
              "      <td>2.0</td>\n",
              "    </tr>\n",
              "    <tr>\n",
              "      <th>2013-01-04</th>\n",
              "      <td>-0.494736</td>\n",
              "      <td>-0.380090</td>\n",
              "      <td>1.460528</td>\n",
              "      <td>0.366185</td>\n",
              "      <td>3.0</td>\n",
              "    </tr>\n",
              "    <tr>\n",
              "      <th>2013-01-05</th>\n",
              "      <td>0.386847</td>\n",
              "      <td>0.885761</td>\n",
              "      <td>1.154757</td>\n",
              "      <td>-0.096099</td>\n",
              "      <td>4.0</td>\n",
              "    </tr>\n",
              "    <tr>\n",
              "      <th>2013-01-06</th>\n",
              "      <td>-0.262767</td>\n",
              "      <td>1.650756</td>\n",
              "      <td>0.824836</td>\n",
              "      <td>-0.994350</td>\n",
              "      <td>5.0</td>\n",
              "    </tr>\n",
              "  </tbody>\n",
              "</table>\n",
              "</div>"
            ],
            "text/plain": [
              "                   A         B         C         D    F\n",
              "2013-01-01  0.000000 -1.474959 -0.980324 -1.330070  NaN\n",
              "2013-01-02 -2.870506  0.217154  0.484818  1.653484  1.0\n",
              "2013-01-03 -0.387578  0.036334  0.042390 -2.644709  2.0\n",
              "2013-01-04 -0.494736 -0.380090  1.460528  0.366185  3.0\n",
              "2013-01-05  0.386847  0.885761  1.154757 -0.096099  4.0\n",
              "2013-01-06 -0.262767  1.650756  0.824836 -0.994350  5.0"
            ]
          },
          "metadata": {
            "tags": []
          },
          "execution_count": 245
        }
      ]
    },
    {
      "cell_type": "markdown",
      "metadata": {
        "id": "JKn80h1dOyVK",
        "colab_type": "text"
      },
      "source": [
        "Setting values by position"
      ]
    },
    {
      "cell_type": "code",
      "metadata": {
        "id": "ebrUMPQlOyVL",
        "colab_type": "code",
        "colab": {}
      },
      "source": [
        "df.iat[0,1] = 0"
      ],
      "execution_count": null,
      "outputs": []
    },
    {
      "cell_type": "code",
      "metadata": {
        "id": "obfoGlwWOyVM",
        "colab_type": "code",
        "colab": {},
        "outputId": "c6d8a3f2-18ac-4822-bade-1bbfee1354ae"
      },
      "source": [
        "df"
      ],
      "execution_count": null,
      "outputs": [
        {
          "output_type": "execute_result",
          "data": {
            "text/html": [
              "<div>\n",
              "<style>\n",
              "    .dataframe thead tr:only-child th {\n",
              "        text-align: right;\n",
              "    }\n",
              "\n",
              "    .dataframe thead th {\n",
              "        text-align: left;\n",
              "    }\n",
              "\n",
              "    .dataframe tbody tr th {\n",
              "        vertical-align: top;\n",
              "    }\n",
              "</style>\n",
              "<table border=\"1\" class=\"dataframe\">\n",
              "  <thead>\n",
              "    <tr style=\"text-align: right;\">\n",
              "      <th></th>\n",
              "      <th>A</th>\n",
              "      <th>B</th>\n",
              "      <th>C</th>\n",
              "      <th>D</th>\n",
              "      <th>F</th>\n",
              "    </tr>\n",
              "  </thead>\n",
              "  <tbody>\n",
              "    <tr>\n",
              "      <th>2013-01-01</th>\n",
              "      <td>0.000000</td>\n",
              "      <td>0.000000</td>\n",
              "      <td>-0.980324</td>\n",
              "      <td>-1.330070</td>\n",
              "      <td>NaN</td>\n",
              "    </tr>\n",
              "    <tr>\n",
              "      <th>2013-01-02</th>\n",
              "      <td>-2.870506</td>\n",
              "      <td>0.217154</td>\n",
              "      <td>0.484818</td>\n",
              "      <td>1.653484</td>\n",
              "      <td>1.0</td>\n",
              "    </tr>\n",
              "    <tr>\n",
              "      <th>2013-01-03</th>\n",
              "      <td>-0.387578</td>\n",
              "      <td>0.036334</td>\n",
              "      <td>0.042390</td>\n",
              "      <td>-2.644709</td>\n",
              "      <td>2.0</td>\n",
              "    </tr>\n",
              "    <tr>\n",
              "      <th>2013-01-04</th>\n",
              "      <td>-0.494736</td>\n",
              "      <td>-0.380090</td>\n",
              "      <td>1.460528</td>\n",
              "      <td>0.366185</td>\n",
              "      <td>3.0</td>\n",
              "    </tr>\n",
              "    <tr>\n",
              "      <th>2013-01-05</th>\n",
              "      <td>0.386847</td>\n",
              "      <td>0.885761</td>\n",
              "      <td>1.154757</td>\n",
              "      <td>-0.096099</td>\n",
              "      <td>4.0</td>\n",
              "    </tr>\n",
              "    <tr>\n",
              "      <th>2013-01-06</th>\n",
              "      <td>-0.262767</td>\n",
              "      <td>1.650756</td>\n",
              "      <td>0.824836</td>\n",
              "      <td>-0.994350</td>\n",
              "      <td>5.0</td>\n",
              "    </tr>\n",
              "  </tbody>\n",
              "</table>\n",
              "</div>"
            ],
            "text/plain": [
              "                   A         B         C         D    F\n",
              "2013-01-01  0.000000  0.000000 -0.980324 -1.330070  NaN\n",
              "2013-01-02 -2.870506  0.217154  0.484818  1.653484  1.0\n",
              "2013-01-03 -0.387578  0.036334  0.042390 -2.644709  2.0\n",
              "2013-01-04 -0.494736 -0.380090  1.460528  0.366185  3.0\n",
              "2013-01-05  0.386847  0.885761  1.154757 -0.096099  4.0\n",
              "2013-01-06 -0.262767  1.650756  0.824836 -0.994350  5.0"
            ]
          },
          "metadata": {
            "tags": []
          },
          "execution_count": 247
        }
      ]
    },
    {
      "cell_type": "markdown",
      "metadata": {
        "id": "TZo2UTZIOyVO",
        "colab_type": "text"
      },
      "source": [
        "Setting by assigning with a numpy array"
      ]
    },
    {
      "cell_type": "code",
      "metadata": {
        "id": "OY0GMp6iOyVO",
        "colab_type": "code",
        "colab": {}
      },
      "source": [
        "df.loc[:,'D'] = np.array([5] * len(df))"
      ],
      "execution_count": null,
      "outputs": []
    },
    {
      "cell_type": "code",
      "metadata": {
        "id": "m7PL1Gx0OyVP",
        "colab_type": "code",
        "colab": {},
        "outputId": "50b59552-0d54-43c1-ce86-65a1ec2b86e4"
      },
      "source": [
        "np.array([5] * len(df))"
      ],
      "execution_count": null,
      "outputs": [
        {
          "output_type": "execute_result",
          "data": {
            "text/plain": [
              "array([5, 5, 5, 5, 5, 5])"
            ]
          },
          "metadata": {
            "tags": []
          },
          "execution_count": 249
        }
      ]
    },
    {
      "cell_type": "markdown",
      "metadata": {
        "id": "UU9QC7o2OyVR",
        "colab_type": "text"
      },
      "source": [
        "The result of the prior setting operations"
      ]
    },
    {
      "cell_type": "code",
      "metadata": {
        "id": "mQCVhRKmOyVR",
        "colab_type": "code",
        "colab": {},
        "outputId": "60bdd5eb-e665-4a9a-dbcb-23339334426d"
      },
      "source": [
        "df"
      ],
      "execution_count": null,
      "outputs": [
        {
          "output_type": "execute_result",
          "data": {
            "text/html": [
              "<div>\n",
              "<style>\n",
              "    .dataframe thead tr:only-child th {\n",
              "        text-align: right;\n",
              "    }\n",
              "\n",
              "    .dataframe thead th {\n",
              "        text-align: left;\n",
              "    }\n",
              "\n",
              "    .dataframe tbody tr th {\n",
              "        vertical-align: top;\n",
              "    }\n",
              "</style>\n",
              "<table border=\"1\" class=\"dataframe\">\n",
              "  <thead>\n",
              "    <tr style=\"text-align: right;\">\n",
              "      <th></th>\n",
              "      <th>A</th>\n",
              "      <th>B</th>\n",
              "      <th>C</th>\n",
              "      <th>D</th>\n",
              "      <th>F</th>\n",
              "    </tr>\n",
              "  </thead>\n",
              "  <tbody>\n",
              "    <tr>\n",
              "      <th>2013-01-01</th>\n",
              "      <td>0.000000</td>\n",
              "      <td>0.000000</td>\n",
              "      <td>-0.980324</td>\n",
              "      <td>5</td>\n",
              "      <td>NaN</td>\n",
              "    </tr>\n",
              "    <tr>\n",
              "      <th>2013-01-02</th>\n",
              "      <td>-2.870506</td>\n",
              "      <td>0.217154</td>\n",
              "      <td>0.484818</td>\n",
              "      <td>5</td>\n",
              "      <td>1.0</td>\n",
              "    </tr>\n",
              "    <tr>\n",
              "      <th>2013-01-03</th>\n",
              "      <td>-0.387578</td>\n",
              "      <td>0.036334</td>\n",
              "      <td>0.042390</td>\n",
              "      <td>5</td>\n",
              "      <td>2.0</td>\n",
              "    </tr>\n",
              "    <tr>\n",
              "      <th>2013-01-04</th>\n",
              "      <td>-0.494736</td>\n",
              "      <td>-0.380090</td>\n",
              "      <td>1.460528</td>\n",
              "      <td>5</td>\n",
              "      <td>3.0</td>\n",
              "    </tr>\n",
              "    <tr>\n",
              "      <th>2013-01-05</th>\n",
              "      <td>0.386847</td>\n",
              "      <td>0.885761</td>\n",
              "      <td>1.154757</td>\n",
              "      <td>5</td>\n",
              "      <td>4.0</td>\n",
              "    </tr>\n",
              "    <tr>\n",
              "      <th>2013-01-06</th>\n",
              "      <td>-0.262767</td>\n",
              "      <td>1.650756</td>\n",
              "      <td>0.824836</td>\n",
              "      <td>5</td>\n",
              "      <td>5.0</td>\n",
              "    </tr>\n",
              "  </tbody>\n",
              "</table>\n",
              "</div>"
            ],
            "text/plain": [
              "                   A         B         C  D    F\n",
              "2013-01-01  0.000000  0.000000 -0.980324  5  NaN\n",
              "2013-01-02 -2.870506  0.217154  0.484818  5  1.0\n",
              "2013-01-03 -0.387578  0.036334  0.042390  5  2.0\n",
              "2013-01-04 -0.494736 -0.380090  1.460528  5  3.0\n",
              "2013-01-05  0.386847  0.885761  1.154757  5  4.0\n",
              "2013-01-06 -0.262767  1.650756  0.824836  5  5.0"
            ]
          },
          "metadata": {
            "tags": []
          },
          "execution_count": 250
        }
      ]
    },
    {
      "cell_type": "markdown",
      "metadata": {
        "id": "cQRtca60OyVS",
        "colab_type": "text"
      },
      "source": [
        "A `where` operation with setting."
      ]
    },
    {
      "cell_type": "markdown",
      "metadata": {
        "id": "HBnPm8inOyVS",
        "colab_type": "text"
      },
      "source": [
        "## Missing Data"
      ]
    },
    {
      "cell_type": "markdown",
      "metadata": {
        "id": "JX07dQDfOyVT",
        "colab_type": "text"
      },
      "source": [
        "pandas primarily uses the value np.nan to represent missing data. It is by default not included in computations. \n",
        "\n",
        "By “missing” we simply mean NA (“not available”) or “not present for whatever reason”. Many data sets simply arrive with missing data, either because it exists and was not collected or it never existed. For example, in a collection of financial time series, some of the time series might start on different dates. Thus, values prior to the start date would generally be marked as missing.\n",
        "\n",
        "In pandas, one of the most common ways that missing data is introduced into a data set is by reindexing."
      ]
    },
    {
      "cell_type": "markdown",
      "metadata": {
        "id": "rapiSnGwOyVT",
        "colab_type": "text"
      },
      "source": [
        "Reindexing allows you to change/add/delete the index on a specified axis. This returns a copy of the data."
      ]
    },
    {
      "cell_type": "code",
      "metadata": {
        "id": "p5Er_fNyOyVT",
        "colab_type": "code",
        "colab": {},
        "outputId": "eb129ce9-e1ad-4a0a-8dc2-b329d3ad2d40"
      },
      "source": [
        "df"
      ],
      "execution_count": null,
      "outputs": [
        {
          "output_type": "execute_result",
          "data": {
            "text/html": [
              "<div>\n",
              "<style>\n",
              "    .dataframe thead tr:only-child th {\n",
              "        text-align: right;\n",
              "    }\n",
              "\n",
              "    .dataframe thead th {\n",
              "        text-align: left;\n",
              "    }\n",
              "\n",
              "    .dataframe tbody tr th {\n",
              "        vertical-align: top;\n",
              "    }\n",
              "</style>\n",
              "<table border=\"1\" class=\"dataframe\">\n",
              "  <thead>\n",
              "    <tr style=\"text-align: right;\">\n",
              "      <th></th>\n",
              "      <th>A</th>\n",
              "      <th>B</th>\n",
              "      <th>C</th>\n",
              "      <th>D</th>\n",
              "      <th>F</th>\n",
              "    </tr>\n",
              "  </thead>\n",
              "  <tbody>\n",
              "    <tr>\n",
              "      <th>2013-01-01</th>\n",
              "      <td>0.000000</td>\n",
              "      <td>0.000000</td>\n",
              "      <td>-0.980324</td>\n",
              "      <td>5</td>\n",
              "      <td>NaN</td>\n",
              "    </tr>\n",
              "    <tr>\n",
              "      <th>2013-01-02</th>\n",
              "      <td>-2.870506</td>\n",
              "      <td>0.217154</td>\n",
              "      <td>0.484818</td>\n",
              "      <td>5</td>\n",
              "      <td>1.0</td>\n",
              "    </tr>\n",
              "    <tr>\n",
              "      <th>2013-01-03</th>\n",
              "      <td>-0.387578</td>\n",
              "      <td>0.036334</td>\n",
              "      <td>0.042390</td>\n",
              "      <td>5</td>\n",
              "      <td>2.0</td>\n",
              "    </tr>\n",
              "    <tr>\n",
              "      <th>2013-01-04</th>\n",
              "      <td>-0.494736</td>\n",
              "      <td>-0.380090</td>\n",
              "      <td>1.460528</td>\n",
              "      <td>5</td>\n",
              "      <td>3.0</td>\n",
              "    </tr>\n",
              "    <tr>\n",
              "      <th>2013-01-05</th>\n",
              "      <td>0.386847</td>\n",
              "      <td>0.885761</td>\n",
              "      <td>1.154757</td>\n",
              "      <td>5</td>\n",
              "      <td>4.0</td>\n",
              "    </tr>\n",
              "    <tr>\n",
              "      <th>2013-01-06</th>\n",
              "      <td>-0.262767</td>\n",
              "      <td>1.650756</td>\n",
              "      <td>0.824836</td>\n",
              "      <td>5</td>\n",
              "      <td>5.0</td>\n",
              "    </tr>\n",
              "  </tbody>\n",
              "</table>\n",
              "</div>"
            ],
            "text/plain": [
              "                   A         B         C  D    F\n",
              "2013-01-01  0.000000  0.000000 -0.980324  5  NaN\n",
              "2013-01-02 -2.870506  0.217154  0.484818  5  1.0\n",
              "2013-01-03 -0.387578  0.036334  0.042390  5  2.0\n",
              "2013-01-04 -0.494736 -0.380090  1.460528  5  3.0\n",
              "2013-01-05  0.386847  0.885761  1.154757  5  4.0\n",
              "2013-01-06 -0.262767  1.650756  0.824836  5  5.0"
            ]
          },
          "metadata": {
            "tags": []
          },
          "execution_count": 251
        }
      ]
    },
    {
      "cell_type": "code",
      "metadata": {
        "id": "obLaIn-EOyVU",
        "colab_type": "code",
        "colab": {}
      },
      "source": [
        "df1 = df.reindex(index=dates[0:4], columns=list(df.columns) + ['E'])"
      ],
      "execution_count": null,
      "outputs": []
    },
    {
      "cell_type": "code",
      "metadata": {
        "id": "YZ-StOHPOyVV",
        "colab_type": "code",
        "colab": {},
        "outputId": "e6ec73a1-1e8e-4638-c194-72e48dc35a23"
      },
      "source": [
        "df1"
      ],
      "execution_count": null,
      "outputs": [
        {
          "output_type": "execute_result",
          "data": {
            "text/html": [
              "<div>\n",
              "<style>\n",
              "    .dataframe thead tr:only-child th {\n",
              "        text-align: right;\n",
              "    }\n",
              "\n",
              "    .dataframe thead th {\n",
              "        text-align: left;\n",
              "    }\n",
              "\n",
              "    .dataframe tbody tr th {\n",
              "        vertical-align: top;\n",
              "    }\n",
              "</style>\n",
              "<table border=\"1\" class=\"dataframe\">\n",
              "  <thead>\n",
              "    <tr style=\"text-align: right;\">\n",
              "      <th></th>\n",
              "      <th>A</th>\n",
              "      <th>B</th>\n",
              "      <th>C</th>\n",
              "      <th>D</th>\n",
              "      <th>F</th>\n",
              "      <th>E</th>\n",
              "    </tr>\n",
              "  </thead>\n",
              "  <tbody>\n",
              "    <tr>\n",
              "      <th>2013-01-01</th>\n",
              "      <td>0.000000</td>\n",
              "      <td>0.000000</td>\n",
              "      <td>-0.980324</td>\n",
              "      <td>5</td>\n",
              "      <td>NaN</td>\n",
              "      <td>NaN</td>\n",
              "    </tr>\n",
              "    <tr>\n",
              "      <th>2013-01-02</th>\n",
              "      <td>-2.870506</td>\n",
              "      <td>0.217154</td>\n",
              "      <td>0.484818</td>\n",
              "      <td>5</td>\n",
              "      <td>1.0</td>\n",
              "      <td>NaN</td>\n",
              "    </tr>\n",
              "    <tr>\n",
              "      <th>2013-01-03</th>\n",
              "      <td>-0.387578</td>\n",
              "      <td>0.036334</td>\n",
              "      <td>0.042390</td>\n",
              "      <td>5</td>\n",
              "      <td>2.0</td>\n",
              "      <td>NaN</td>\n",
              "    </tr>\n",
              "    <tr>\n",
              "      <th>2013-01-04</th>\n",
              "      <td>-0.494736</td>\n",
              "      <td>-0.380090</td>\n",
              "      <td>1.460528</td>\n",
              "      <td>5</td>\n",
              "      <td>3.0</td>\n",
              "      <td>NaN</td>\n",
              "    </tr>\n",
              "  </tbody>\n",
              "</table>\n",
              "</div>"
            ],
            "text/plain": [
              "                   A         B         C  D    F   E\n",
              "2013-01-01  0.000000  0.000000 -0.980324  5  NaN NaN\n",
              "2013-01-02 -2.870506  0.217154  0.484818  5  1.0 NaN\n",
              "2013-01-03 -0.387578  0.036334  0.042390  5  2.0 NaN\n",
              "2013-01-04 -0.494736 -0.380090  1.460528  5  3.0 NaN"
            ]
          },
          "metadata": {
            "tags": []
          },
          "execution_count": 253
        }
      ]
    },
    {
      "cell_type": "code",
      "metadata": {
        "id": "F5-tC1T_OyVX",
        "colab_type": "code",
        "colab": {}
      },
      "source": [
        ""
      ],
      "execution_count": null,
      "outputs": []
    },
    {
      "cell_type": "code",
      "metadata": {
        "id": "UII2x98TOyVY",
        "colab_type": "code",
        "colab": {}
      },
      "source": [
        "df1.loc[dates[0]:dates[1],'E'] = 1"
      ],
      "execution_count": null,
      "outputs": []
    },
    {
      "cell_type": "code",
      "metadata": {
        "id": "-dFhEH6lOyVZ",
        "colab_type": "code",
        "colab": {},
        "outputId": "a013cd74-687f-48cf-a275-863d4cb3f9af"
      },
      "source": [
        "df1"
      ],
      "execution_count": null,
      "outputs": [
        {
          "output_type": "execute_result",
          "data": {
            "text/html": [
              "<div>\n",
              "<style>\n",
              "    .dataframe thead tr:only-child th {\n",
              "        text-align: right;\n",
              "    }\n",
              "\n",
              "    .dataframe thead th {\n",
              "        text-align: left;\n",
              "    }\n",
              "\n",
              "    .dataframe tbody tr th {\n",
              "        vertical-align: top;\n",
              "    }\n",
              "</style>\n",
              "<table border=\"1\" class=\"dataframe\">\n",
              "  <thead>\n",
              "    <tr style=\"text-align: right;\">\n",
              "      <th></th>\n",
              "      <th>A</th>\n",
              "      <th>B</th>\n",
              "      <th>C</th>\n",
              "      <th>D</th>\n",
              "      <th>F</th>\n",
              "      <th>E</th>\n",
              "    </tr>\n",
              "  </thead>\n",
              "  <tbody>\n",
              "    <tr>\n",
              "      <th>2013-01-01</th>\n",
              "      <td>0.000000</td>\n",
              "      <td>0.000000</td>\n",
              "      <td>-0.980324</td>\n",
              "      <td>5</td>\n",
              "      <td>NaN</td>\n",
              "      <td>1.0</td>\n",
              "    </tr>\n",
              "    <tr>\n",
              "      <th>2013-01-02</th>\n",
              "      <td>-2.870506</td>\n",
              "      <td>0.217154</td>\n",
              "      <td>0.484818</td>\n",
              "      <td>5</td>\n",
              "      <td>1.0</td>\n",
              "      <td>1.0</td>\n",
              "    </tr>\n",
              "    <tr>\n",
              "      <th>2013-01-03</th>\n",
              "      <td>-0.387578</td>\n",
              "      <td>0.036334</td>\n",
              "      <td>0.042390</td>\n",
              "      <td>5</td>\n",
              "      <td>2.0</td>\n",
              "      <td>NaN</td>\n",
              "    </tr>\n",
              "    <tr>\n",
              "      <th>2013-01-04</th>\n",
              "      <td>-0.494736</td>\n",
              "      <td>-0.380090</td>\n",
              "      <td>1.460528</td>\n",
              "      <td>5</td>\n",
              "      <td>3.0</td>\n",
              "      <td>NaN</td>\n",
              "    </tr>\n",
              "  </tbody>\n",
              "</table>\n",
              "</div>"
            ],
            "text/plain": [
              "                   A         B         C  D    F    E\n",
              "2013-01-01  0.000000  0.000000 -0.980324  5  NaN  1.0\n",
              "2013-01-02 -2.870506  0.217154  0.484818  5  1.0  1.0\n",
              "2013-01-03 -0.387578  0.036334  0.042390  5  2.0  NaN\n",
              "2013-01-04 -0.494736 -0.380090  1.460528  5  3.0  NaN"
            ]
          },
          "metadata": {
            "tags": []
          },
          "execution_count": 255
        }
      ]
    },
    {
      "cell_type": "markdown",
      "metadata": {
        "id": "p-y6yoBROyVa",
        "colab_type": "text"
      },
      "source": [
        "To drop any rows that have missing data."
      ]
    },
    {
      "cell_type": "code",
      "metadata": {
        "id": "Ux-9_BGiOyVb",
        "colab_type": "code",
        "colab": {},
        "outputId": "333f5735-1ea6-4655-fc93-d8792c9b5112"
      },
      "source": [
        "df1.dropna(how='any')"
      ],
      "execution_count": null,
      "outputs": [
        {
          "output_type": "execute_result",
          "data": {
            "text/html": [
              "<div>\n",
              "<style>\n",
              "    .dataframe thead tr:only-child th {\n",
              "        text-align: right;\n",
              "    }\n",
              "\n",
              "    .dataframe thead th {\n",
              "        text-align: left;\n",
              "    }\n",
              "\n",
              "    .dataframe tbody tr th {\n",
              "        vertical-align: top;\n",
              "    }\n",
              "</style>\n",
              "<table border=\"1\" class=\"dataframe\">\n",
              "  <thead>\n",
              "    <tr style=\"text-align: right;\">\n",
              "      <th></th>\n",
              "      <th>A</th>\n",
              "      <th>B</th>\n",
              "      <th>C</th>\n",
              "      <th>D</th>\n",
              "      <th>F</th>\n",
              "      <th>E</th>\n",
              "    </tr>\n",
              "  </thead>\n",
              "  <tbody>\n",
              "    <tr>\n",
              "      <th>2013-01-02</th>\n",
              "      <td>-2.870506</td>\n",
              "      <td>0.217154</td>\n",
              "      <td>0.484818</td>\n",
              "      <td>5</td>\n",
              "      <td>1.0</td>\n",
              "      <td>1.0</td>\n",
              "    </tr>\n",
              "  </tbody>\n",
              "</table>\n",
              "</div>"
            ],
            "text/plain": [
              "                   A         B         C  D    F    E\n",
              "2013-01-02 -2.870506  0.217154  0.484818  5  1.0  1.0"
            ]
          },
          "metadata": {
            "tags": []
          },
          "execution_count": 256
        }
      ]
    },
    {
      "cell_type": "code",
      "metadata": {
        "id": "h3P7Xof8OyVc",
        "colab_type": "code",
        "colab": {},
        "outputId": "3c672301-c80f-4ac3-b8b1-5f17128fd55a"
      },
      "source": [
        "df1"
      ],
      "execution_count": null,
      "outputs": [
        {
          "output_type": "execute_result",
          "data": {
            "text/html": [
              "<div>\n",
              "<style>\n",
              "    .dataframe thead tr:only-child th {\n",
              "        text-align: right;\n",
              "    }\n",
              "\n",
              "    .dataframe thead th {\n",
              "        text-align: left;\n",
              "    }\n",
              "\n",
              "    .dataframe tbody tr th {\n",
              "        vertical-align: top;\n",
              "    }\n",
              "</style>\n",
              "<table border=\"1\" class=\"dataframe\">\n",
              "  <thead>\n",
              "    <tr style=\"text-align: right;\">\n",
              "      <th></th>\n",
              "      <th>A</th>\n",
              "      <th>B</th>\n",
              "      <th>C</th>\n",
              "      <th>D</th>\n",
              "      <th>F</th>\n",
              "      <th>E</th>\n",
              "    </tr>\n",
              "  </thead>\n",
              "  <tbody>\n",
              "    <tr>\n",
              "      <th>2013-01-01</th>\n",
              "      <td>0.000000</td>\n",
              "      <td>0.000000</td>\n",
              "      <td>-0.980324</td>\n",
              "      <td>5</td>\n",
              "      <td>NaN</td>\n",
              "      <td>1.0</td>\n",
              "    </tr>\n",
              "    <tr>\n",
              "      <th>2013-01-02</th>\n",
              "      <td>-2.870506</td>\n",
              "      <td>0.217154</td>\n",
              "      <td>0.484818</td>\n",
              "      <td>5</td>\n",
              "      <td>1.0</td>\n",
              "      <td>1.0</td>\n",
              "    </tr>\n",
              "    <tr>\n",
              "      <th>2013-01-03</th>\n",
              "      <td>-0.387578</td>\n",
              "      <td>0.036334</td>\n",
              "      <td>0.042390</td>\n",
              "      <td>5</td>\n",
              "      <td>2.0</td>\n",
              "      <td>NaN</td>\n",
              "    </tr>\n",
              "    <tr>\n",
              "      <th>2013-01-04</th>\n",
              "      <td>-0.494736</td>\n",
              "      <td>-0.380090</td>\n",
              "      <td>1.460528</td>\n",
              "      <td>5</td>\n",
              "      <td>3.0</td>\n",
              "      <td>NaN</td>\n",
              "    </tr>\n",
              "  </tbody>\n",
              "</table>\n",
              "</div>"
            ],
            "text/plain": [
              "                   A         B         C  D    F    E\n",
              "2013-01-01  0.000000  0.000000 -0.980324  5  NaN  1.0\n",
              "2013-01-02 -2.870506  0.217154  0.484818  5  1.0  1.0\n",
              "2013-01-03 -0.387578  0.036334  0.042390  5  2.0  NaN\n",
              "2013-01-04 -0.494736 -0.380090  1.460528  5  3.0  NaN"
            ]
          },
          "metadata": {
            "tags": []
          },
          "execution_count": 257
        }
      ]
    },
    {
      "cell_type": "markdown",
      "metadata": {
        "id": "D1pn93WvOyVf",
        "colab_type": "text"
      },
      "source": [
        "Filling missin data"
      ]
    },
    {
      "cell_type": "code",
      "metadata": {
        "id": "h0DJ4FBJOyVf",
        "colab_type": "code",
        "colab": {},
        "outputId": "334e7eff-309f-427a-970b-b510248f927f"
      },
      "source": [
        "df1.fillna(value=5)"
      ],
      "execution_count": null,
      "outputs": [
        {
          "output_type": "execute_result",
          "data": {
            "text/html": [
              "<div>\n",
              "<style>\n",
              "    .dataframe thead tr:only-child th {\n",
              "        text-align: right;\n",
              "    }\n",
              "\n",
              "    .dataframe thead th {\n",
              "        text-align: left;\n",
              "    }\n",
              "\n",
              "    .dataframe tbody tr th {\n",
              "        vertical-align: top;\n",
              "    }\n",
              "</style>\n",
              "<table border=\"1\" class=\"dataframe\">\n",
              "  <thead>\n",
              "    <tr style=\"text-align: right;\">\n",
              "      <th></th>\n",
              "      <th>A</th>\n",
              "      <th>B</th>\n",
              "      <th>C</th>\n",
              "      <th>D</th>\n",
              "      <th>F</th>\n",
              "      <th>E</th>\n",
              "    </tr>\n",
              "  </thead>\n",
              "  <tbody>\n",
              "    <tr>\n",
              "      <th>2013-01-01</th>\n",
              "      <td>0.000000</td>\n",
              "      <td>0.000000</td>\n",
              "      <td>-0.980324</td>\n",
              "      <td>5</td>\n",
              "      <td>5.0</td>\n",
              "      <td>1.0</td>\n",
              "    </tr>\n",
              "    <tr>\n",
              "      <th>2013-01-02</th>\n",
              "      <td>-2.870506</td>\n",
              "      <td>0.217154</td>\n",
              "      <td>0.484818</td>\n",
              "      <td>5</td>\n",
              "      <td>1.0</td>\n",
              "      <td>1.0</td>\n",
              "    </tr>\n",
              "    <tr>\n",
              "      <th>2013-01-03</th>\n",
              "      <td>-0.387578</td>\n",
              "      <td>0.036334</td>\n",
              "      <td>0.042390</td>\n",
              "      <td>5</td>\n",
              "      <td>2.0</td>\n",
              "      <td>5.0</td>\n",
              "    </tr>\n",
              "    <tr>\n",
              "      <th>2013-01-04</th>\n",
              "      <td>-0.494736</td>\n",
              "      <td>-0.380090</td>\n",
              "      <td>1.460528</td>\n",
              "      <td>5</td>\n",
              "      <td>3.0</td>\n",
              "      <td>5.0</td>\n",
              "    </tr>\n",
              "  </tbody>\n",
              "</table>\n",
              "</div>"
            ],
            "text/plain": [
              "                   A         B         C  D    F    E\n",
              "2013-01-01  0.000000  0.000000 -0.980324  5  5.0  1.0\n",
              "2013-01-02 -2.870506  0.217154  0.484818  5  1.0  1.0\n",
              "2013-01-03 -0.387578  0.036334  0.042390  5  2.0  5.0\n",
              "2013-01-04 -0.494736 -0.380090  1.460528  5  3.0  5.0"
            ]
          },
          "metadata": {
            "tags": []
          },
          "execution_count": 258
        }
      ]
    },
    {
      "cell_type": "markdown",
      "metadata": {
        "id": "-5lpOp4FOyVh",
        "colab_type": "text"
      },
      "source": [
        "To get the boolean mask where values are `nan`"
      ]
    },
    {
      "cell_type": "code",
      "metadata": {
        "id": "wuFIpXv8OyVj",
        "colab_type": "code",
        "colab": {},
        "outputId": "8017bb9e-a9c3-4b1a-d31c-7876d832f767"
      },
      "source": [
        "pd.isnull(df1)"
      ],
      "execution_count": null,
      "outputs": [
        {
          "output_type": "execute_result",
          "data": {
            "text/html": [
              "<div>\n",
              "<style>\n",
              "    .dataframe thead tr:only-child th {\n",
              "        text-align: right;\n",
              "    }\n",
              "\n",
              "    .dataframe thead th {\n",
              "        text-align: left;\n",
              "    }\n",
              "\n",
              "    .dataframe tbody tr th {\n",
              "        vertical-align: top;\n",
              "    }\n",
              "</style>\n",
              "<table border=\"1\" class=\"dataframe\">\n",
              "  <thead>\n",
              "    <tr style=\"text-align: right;\">\n",
              "      <th></th>\n",
              "      <th>A</th>\n",
              "      <th>B</th>\n",
              "      <th>C</th>\n",
              "      <th>D</th>\n",
              "      <th>F</th>\n",
              "      <th>E</th>\n",
              "    </tr>\n",
              "  </thead>\n",
              "  <tbody>\n",
              "    <tr>\n",
              "      <th>2013-01-01</th>\n",
              "      <td>False</td>\n",
              "      <td>False</td>\n",
              "      <td>False</td>\n",
              "      <td>False</td>\n",
              "      <td>True</td>\n",
              "      <td>False</td>\n",
              "    </tr>\n",
              "    <tr>\n",
              "      <th>2013-01-02</th>\n",
              "      <td>False</td>\n",
              "      <td>False</td>\n",
              "      <td>False</td>\n",
              "      <td>False</td>\n",
              "      <td>False</td>\n",
              "      <td>False</td>\n",
              "    </tr>\n",
              "    <tr>\n",
              "      <th>2013-01-03</th>\n",
              "      <td>False</td>\n",
              "      <td>False</td>\n",
              "      <td>False</td>\n",
              "      <td>False</td>\n",
              "      <td>False</td>\n",
              "      <td>True</td>\n",
              "    </tr>\n",
              "    <tr>\n",
              "      <th>2013-01-04</th>\n",
              "      <td>False</td>\n",
              "      <td>False</td>\n",
              "      <td>False</td>\n",
              "      <td>False</td>\n",
              "      <td>False</td>\n",
              "      <td>True</td>\n",
              "    </tr>\n",
              "  </tbody>\n",
              "</table>\n",
              "</div>"
            ],
            "text/plain": [
              "                A      B      C      D      F      E\n",
              "2013-01-01  False  False  False  False   True  False\n",
              "2013-01-02  False  False  False  False  False  False\n",
              "2013-01-03  False  False  False  False  False   True\n",
              "2013-01-04  False  False  False  False  False   True"
            ]
          },
          "metadata": {
            "tags": []
          },
          "execution_count": 259
        }
      ]
    },
    {
      "cell_type": "markdown",
      "metadata": {
        "id": "FWagwstaOyVl",
        "colab_type": "text"
      },
      "source": [
        "## Operations"
      ]
    },
    {
      "cell_type": "markdown",
      "metadata": {
        "id": "ULyHenvEOyVl",
        "colab_type": "text"
      },
      "source": [
        "Flexible binary operations\n",
        "\n",
        "With binary operations between pandas data structures, there are two key points of interest:\n",
        "\n",
        "(a) Broadcasting behavior between higher- (e.g. DataFrame) and lower-dimensional (e.g. Series) objects.\n",
        "\n",
        "(b) Missing data in computations\n",
        "\n",
        "Matching / broadcasting behavior\n",
        "\n",
        "DataFrame has the methods add(), sub(), mul(), div() and related functions radd(), rsub(), etc., for carrying out binary operations. For broadcasting behavior, Series input is of primary interest. Using these functions, you can use to either match on the index or columns via the axis keyword:"
      ]
    },
    {
      "cell_type": "code",
      "metadata": {
        "id": "al_sYOTPOyVl",
        "colab_type": "code",
        "colab": {}
      },
      "source": [
        ""
      ],
      "execution_count": null,
      "outputs": []
    },
    {
      "cell_type": "markdown",
      "metadata": {
        "id": "95YxEkz2OyVn",
        "colab_type": "text"
      },
      "source": [
        "### Stats"
      ]
    },
    {
      "cell_type": "markdown",
      "metadata": {
        "id": "LgD9Um6MOyVn",
        "colab_type": "text"
      },
      "source": [
        "Operations in general exclude missing data."
      ]
    },
    {
      "cell_type": "markdown",
      "metadata": {
        "id": "tBy50ktOOyVn",
        "colab_type": "text"
      },
      "source": [
        "Performing a descriptive statistic"
      ]
    },
    {
      "cell_type": "code",
      "metadata": {
        "id": "rw4eO567OyVo",
        "colab_type": "code",
        "colab": {},
        "outputId": "08651ddb-17f3-407a-bd6c-8df96c0a0462"
      },
      "source": [
        "df.mean(axis=0)"
      ],
      "execution_count": null,
      "outputs": [
        {
          "output_type": "execute_result",
          "data": {
            "text/plain": [
              "A   -0.604790\n",
              "B    0.401652\n",
              "C    0.497834\n",
              "D    5.000000\n",
              "F    3.000000\n",
              "dtype: float64"
            ]
          },
          "metadata": {
            "tags": []
          },
          "execution_count": 260
        }
      ]
    },
    {
      "cell_type": "code",
      "metadata": {
        "id": "fXCxGpiLOyVo",
        "colab_type": "code",
        "colab": {},
        "outputId": "f5526c05-66ba-416c-9258-33fa379c082e"
      },
      "source": [
        "df.sum(axis=1)"
      ],
      "execution_count": null,
      "outputs": [
        {
          "output_type": "execute_result",
          "data": {
            "text/plain": [
              "2013-01-01     4.019676\n",
              "2013-01-02     3.831466\n",
              "2013-01-03     6.691146\n",
              "2013-01-04     8.585702\n",
              "2013-01-05    11.427365\n",
              "2013-01-06    12.212825\n",
              "Freq: D, dtype: float64"
            ]
          },
          "metadata": {
            "tags": []
          },
          "execution_count": 261
        }
      ]
    },
    {
      "cell_type": "markdown",
      "metadata": {
        "id": "TqCM7NtqOyVp",
        "colab_type": "text"
      },
      "source": [
        "Same operation on the other axis"
      ]
    },
    {
      "cell_type": "code",
      "metadata": {
        "id": "f8PbL8bMOyVq",
        "colab_type": "code",
        "colab": {},
        "outputId": "be048761-907a-4488-8bba-0cb06ea860c6"
      },
      "source": [
        "df.mean(1)\n"
      ],
      "execution_count": null,
      "outputs": [
        {
          "output_type": "execute_result",
          "data": {
            "text/plain": [
              "2013-01-01    1.004919\n",
              "2013-01-02    0.766293\n",
              "2013-01-03    1.338229\n",
              "2013-01-04    1.717140\n",
              "2013-01-05    2.285473\n",
              "2013-01-06    2.442565\n",
              "Freq: D, dtype: float64"
            ]
          },
          "metadata": {
            "tags": []
          },
          "execution_count": 262
        }
      ]
    },
    {
      "cell_type": "markdown",
      "metadata": {
        "id": "NcdvQlZgOyVr",
        "colab_type": "text"
      },
      "source": [
        "Operating with objects that have different dimensionality and need alignment. In addition, pandas automatically broadcasts along the specified dimension."
      ]
    },
    {
      "cell_type": "code",
      "metadata": {
        "id": "pYZoyM76OyVr",
        "colab_type": "code",
        "colab": {}
      },
      "source": [
        "s = pd.Series([1,3,5,np.nan,6,8], index=dates).shift(2)"
      ],
      "execution_count": null,
      "outputs": []
    },
    {
      "cell_type": "code",
      "metadata": {
        "scrolled": true,
        "id": "VCs6n1VHOyVs",
        "colab_type": "code",
        "colab": {},
        "outputId": "21877dc3-e9c9-44df-c45f-fd7663c57692"
      },
      "source": [
        "s"
      ],
      "execution_count": null,
      "outputs": [
        {
          "output_type": "execute_result",
          "data": {
            "text/plain": [
              "2013-01-01    NaN\n",
              "2013-01-02    NaN\n",
              "2013-01-03    1.0\n",
              "2013-01-04    3.0\n",
              "2013-01-05    5.0\n",
              "2013-01-06    NaN\n",
              "Freq: D, dtype: float64"
            ]
          },
          "metadata": {
            "tags": []
          },
          "execution_count": 264
        }
      ]
    },
    {
      "cell_type": "code",
      "metadata": {
        "id": "lT8dUtQaOyVt",
        "colab_type": "code",
        "colab": {},
        "outputId": "5de4c44a-fbe4-4924-a492-dba7e5c92f76"
      },
      "source": [
        "df"
      ],
      "execution_count": null,
      "outputs": [
        {
          "output_type": "execute_result",
          "data": {
            "text/html": [
              "<div>\n",
              "<style>\n",
              "    .dataframe thead tr:only-child th {\n",
              "        text-align: right;\n",
              "    }\n",
              "\n",
              "    .dataframe thead th {\n",
              "        text-align: left;\n",
              "    }\n",
              "\n",
              "    .dataframe tbody tr th {\n",
              "        vertical-align: top;\n",
              "    }\n",
              "</style>\n",
              "<table border=\"1\" class=\"dataframe\">\n",
              "  <thead>\n",
              "    <tr style=\"text-align: right;\">\n",
              "      <th></th>\n",
              "      <th>A</th>\n",
              "      <th>B</th>\n",
              "      <th>C</th>\n",
              "      <th>D</th>\n",
              "      <th>F</th>\n",
              "    </tr>\n",
              "  </thead>\n",
              "  <tbody>\n",
              "    <tr>\n",
              "      <th>2013-01-01</th>\n",
              "      <td>0.000000</td>\n",
              "      <td>0.000000</td>\n",
              "      <td>-0.980324</td>\n",
              "      <td>5</td>\n",
              "      <td>NaN</td>\n",
              "    </tr>\n",
              "    <tr>\n",
              "      <th>2013-01-02</th>\n",
              "      <td>-2.870506</td>\n",
              "      <td>0.217154</td>\n",
              "      <td>0.484818</td>\n",
              "      <td>5</td>\n",
              "      <td>1.0</td>\n",
              "    </tr>\n",
              "    <tr>\n",
              "      <th>2013-01-03</th>\n",
              "      <td>-0.387578</td>\n",
              "      <td>0.036334</td>\n",
              "      <td>0.042390</td>\n",
              "      <td>5</td>\n",
              "      <td>2.0</td>\n",
              "    </tr>\n",
              "    <tr>\n",
              "      <th>2013-01-04</th>\n",
              "      <td>-0.494736</td>\n",
              "      <td>-0.380090</td>\n",
              "      <td>1.460528</td>\n",
              "      <td>5</td>\n",
              "      <td>3.0</td>\n",
              "    </tr>\n",
              "    <tr>\n",
              "      <th>2013-01-05</th>\n",
              "      <td>0.386847</td>\n",
              "      <td>0.885761</td>\n",
              "      <td>1.154757</td>\n",
              "      <td>5</td>\n",
              "      <td>4.0</td>\n",
              "    </tr>\n",
              "    <tr>\n",
              "      <th>2013-01-06</th>\n",
              "      <td>-0.262767</td>\n",
              "      <td>1.650756</td>\n",
              "      <td>0.824836</td>\n",
              "      <td>5</td>\n",
              "      <td>5.0</td>\n",
              "    </tr>\n",
              "  </tbody>\n",
              "</table>\n",
              "</div>"
            ],
            "text/plain": [
              "                   A         B         C  D    F\n",
              "2013-01-01  0.000000  0.000000 -0.980324  5  NaN\n",
              "2013-01-02 -2.870506  0.217154  0.484818  5  1.0\n",
              "2013-01-03 -0.387578  0.036334  0.042390  5  2.0\n",
              "2013-01-04 -0.494736 -0.380090  1.460528  5  3.0\n",
              "2013-01-05  0.386847  0.885761  1.154757  5  4.0\n",
              "2013-01-06 -0.262767  1.650756  0.824836  5  5.0"
            ]
          },
          "metadata": {
            "tags": []
          },
          "execution_count": 265
        }
      ]
    },
    {
      "cell_type": "code",
      "metadata": {
        "id": "p7w5QGSfOyVu",
        "colab_type": "code",
        "colab": {},
        "outputId": "26d0c285-3f2f-40be-fd51-bcea14915dc9"
      },
      "source": [
        "df.sub(s, axis='index')"
      ],
      "execution_count": null,
      "outputs": [
        {
          "output_type": "execute_result",
          "data": {
            "text/html": [
              "<div>\n",
              "<style>\n",
              "    .dataframe thead tr:only-child th {\n",
              "        text-align: right;\n",
              "    }\n",
              "\n",
              "    .dataframe thead th {\n",
              "        text-align: left;\n",
              "    }\n",
              "\n",
              "    .dataframe tbody tr th {\n",
              "        vertical-align: top;\n",
              "    }\n",
              "</style>\n",
              "<table border=\"1\" class=\"dataframe\">\n",
              "  <thead>\n",
              "    <tr style=\"text-align: right;\">\n",
              "      <th></th>\n",
              "      <th>A</th>\n",
              "      <th>B</th>\n",
              "      <th>C</th>\n",
              "      <th>D</th>\n",
              "      <th>F</th>\n",
              "    </tr>\n",
              "  </thead>\n",
              "  <tbody>\n",
              "    <tr>\n",
              "      <th>2013-01-01</th>\n",
              "      <td>NaN</td>\n",
              "      <td>NaN</td>\n",
              "      <td>NaN</td>\n",
              "      <td>NaN</td>\n",
              "      <td>NaN</td>\n",
              "    </tr>\n",
              "    <tr>\n",
              "      <th>2013-01-02</th>\n",
              "      <td>NaN</td>\n",
              "      <td>NaN</td>\n",
              "      <td>NaN</td>\n",
              "      <td>NaN</td>\n",
              "      <td>NaN</td>\n",
              "    </tr>\n",
              "    <tr>\n",
              "      <th>2013-01-03</th>\n",
              "      <td>-1.387578</td>\n",
              "      <td>-0.963666</td>\n",
              "      <td>-0.957610</td>\n",
              "      <td>4.0</td>\n",
              "      <td>1.0</td>\n",
              "    </tr>\n",
              "    <tr>\n",
              "      <th>2013-01-04</th>\n",
              "      <td>-3.494736</td>\n",
              "      <td>-3.380090</td>\n",
              "      <td>-1.539472</td>\n",
              "      <td>2.0</td>\n",
              "      <td>0.0</td>\n",
              "    </tr>\n",
              "    <tr>\n",
              "      <th>2013-01-05</th>\n",
              "      <td>-4.613153</td>\n",
              "      <td>-4.114239</td>\n",
              "      <td>-3.845243</td>\n",
              "      <td>0.0</td>\n",
              "      <td>-1.0</td>\n",
              "    </tr>\n",
              "    <tr>\n",
              "      <th>2013-01-06</th>\n",
              "      <td>NaN</td>\n",
              "      <td>NaN</td>\n",
              "      <td>NaN</td>\n",
              "      <td>NaN</td>\n",
              "      <td>NaN</td>\n",
              "    </tr>\n",
              "  </tbody>\n",
              "</table>\n",
              "</div>"
            ],
            "text/plain": [
              "                   A         B         C    D    F\n",
              "2013-01-01       NaN       NaN       NaN  NaN  NaN\n",
              "2013-01-02       NaN       NaN       NaN  NaN  NaN\n",
              "2013-01-03 -1.387578 -0.963666 -0.957610  4.0  1.0\n",
              "2013-01-04 -3.494736 -3.380090 -1.539472  2.0  0.0\n",
              "2013-01-05 -4.613153 -4.114239 -3.845243  0.0 -1.0\n",
              "2013-01-06       NaN       NaN       NaN  NaN  NaN"
            ]
          },
          "metadata": {
            "tags": []
          },
          "execution_count": 266
        }
      ]
    },
    {
      "cell_type": "code",
      "metadata": {
        "id": "bnuFKo-9OyVv",
        "colab_type": "code",
        "colab": {},
        "outputId": "9c7c1172-009e-4340-bd4e-d26b99ba86e6"
      },
      "source": [
        "s2 = pd.Series([1,3,5,6,8], index=[list(\"ABCDF\")])\n",
        "df.sub(s2)"
      ],
      "execution_count": null,
      "outputs": [
        {
          "output_type": "execute_result",
          "data": {
            "text/html": [
              "<div>\n",
              "<style>\n",
              "    .dataframe thead tr:only-child th {\n",
              "        text-align: right;\n",
              "    }\n",
              "\n",
              "    .dataframe thead th {\n",
              "        text-align: left;\n",
              "    }\n",
              "\n",
              "    .dataframe tbody tr th {\n",
              "        vertical-align: top;\n",
              "    }\n",
              "</style>\n",
              "<table border=\"1\" class=\"dataframe\">\n",
              "  <thead>\n",
              "    <tr style=\"text-align: right;\">\n",
              "      <th></th>\n",
              "      <th>A</th>\n",
              "      <th>B</th>\n",
              "      <th>C</th>\n",
              "      <th>D</th>\n",
              "      <th>F</th>\n",
              "    </tr>\n",
              "  </thead>\n",
              "  <tbody>\n",
              "    <tr>\n",
              "      <th>2013-01-01</th>\n",
              "      <td>-1.000000</td>\n",
              "      <td>-3.000000</td>\n",
              "      <td>-5.980324</td>\n",
              "      <td>-1</td>\n",
              "      <td>NaN</td>\n",
              "    </tr>\n",
              "    <tr>\n",
              "      <th>2013-01-02</th>\n",
              "      <td>-3.870506</td>\n",
              "      <td>-2.782846</td>\n",
              "      <td>-4.515182</td>\n",
              "      <td>-1</td>\n",
              "      <td>-7.0</td>\n",
              "    </tr>\n",
              "    <tr>\n",
              "      <th>2013-01-03</th>\n",
              "      <td>-1.387578</td>\n",
              "      <td>-2.963666</td>\n",
              "      <td>-4.957610</td>\n",
              "      <td>-1</td>\n",
              "      <td>-6.0</td>\n",
              "    </tr>\n",
              "    <tr>\n",
              "      <th>2013-01-04</th>\n",
              "      <td>-1.494736</td>\n",
              "      <td>-3.380090</td>\n",
              "      <td>-3.539472</td>\n",
              "      <td>-1</td>\n",
              "      <td>-5.0</td>\n",
              "    </tr>\n",
              "    <tr>\n",
              "      <th>2013-01-05</th>\n",
              "      <td>-0.613153</td>\n",
              "      <td>-2.114239</td>\n",
              "      <td>-3.845243</td>\n",
              "      <td>-1</td>\n",
              "      <td>-4.0</td>\n",
              "    </tr>\n",
              "    <tr>\n",
              "      <th>2013-01-06</th>\n",
              "      <td>-1.262767</td>\n",
              "      <td>-1.349244</td>\n",
              "      <td>-4.175164</td>\n",
              "      <td>-1</td>\n",
              "      <td>-3.0</td>\n",
              "    </tr>\n",
              "  </tbody>\n",
              "</table>\n",
              "</div>"
            ],
            "text/plain": [
              "                   A         B         C  D    F\n",
              "2013-01-01 -1.000000 -3.000000 -5.980324 -1  NaN\n",
              "2013-01-02 -3.870506 -2.782846 -4.515182 -1 -7.0\n",
              "2013-01-03 -1.387578 -2.963666 -4.957610 -1 -6.0\n",
              "2013-01-04 -1.494736 -3.380090 -3.539472 -1 -5.0\n",
              "2013-01-05 -0.613153 -2.114239 -3.845243 -1 -4.0\n",
              "2013-01-06 -1.262767 -1.349244 -4.175164 -1 -3.0"
            ]
          },
          "metadata": {
            "tags": []
          },
          "execution_count": 267
        }
      ]
    },
    {
      "cell_type": "markdown",
      "metadata": {
        "id": "BLCtwSxBOyVx",
        "colab_type": "text"
      },
      "source": [
        "### Apply"
      ]
    },
    {
      "cell_type": "markdown",
      "metadata": {
        "id": "nTGUXLwhOyVx",
        "colab_type": "text"
      },
      "source": [
        "Applying functions to the data"
      ]
    },
    {
      "cell_type": "code",
      "metadata": {
        "scrolled": false,
        "id": "4vpne6hTOyVx",
        "colab_type": "code",
        "colab": {},
        "outputId": "c49af1de-cac9-453f-fec8-06c488be20f5"
      },
      "source": [
        "df"
      ],
      "execution_count": null,
      "outputs": [
        {
          "output_type": "execute_result",
          "data": {
            "text/html": [
              "<div>\n",
              "<style>\n",
              "    .dataframe thead tr:only-child th {\n",
              "        text-align: right;\n",
              "    }\n",
              "\n",
              "    .dataframe thead th {\n",
              "        text-align: left;\n",
              "    }\n",
              "\n",
              "    .dataframe tbody tr th {\n",
              "        vertical-align: top;\n",
              "    }\n",
              "</style>\n",
              "<table border=\"1\" class=\"dataframe\">\n",
              "  <thead>\n",
              "    <tr style=\"text-align: right;\">\n",
              "      <th></th>\n",
              "      <th>A</th>\n",
              "      <th>B</th>\n",
              "      <th>C</th>\n",
              "      <th>D</th>\n",
              "      <th>F</th>\n",
              "    </tr>\n",
              "  </thead>\n",
              "  <tbody>\n",
              "    <tr>\n",
              "      <th>2013-01-01</th>\n",
              "      <td>0.000000</td>\n",
              "      <td>0.000000</td>\n",
              "      <td>-0.980324</td>\n",
              "      <td>5</td>\n",
              "      <td>NaN</td>\n",
              "    </tr>\n",
              "    <tr>\n",
              "      <th>2013-01-02</th>\n",
              "      <td>-2.870506</td>\n",
              "      <td>0.217154</td>\n",
              "      <td>0.484818</td>\n",
              "      <td>5</td>\n",
              "      <td>1.0</td>\n",
              "    </tr>\n",
              "    <tr>\n",
              "      <th>2013-01-03</th>\n",
              "      <td>-0.387578</td>\n",
              "      <td>0.036334</td>\n",
              "      <td>0.042390</td>\n",
              "      <td>5</td>\n",
              "      <td>2.0</td>\n",
              "    </tr>\n",
              "    <tr>\n",
              "      <th>2013-01-04</th>\n",
              "      <td>-0.494736</td>\n",
              "      <td>-0.380090</td>\n",
              "      <td>1.460528</td>\n",
              "      <td>5</td>\n",
              "      <td>3.0</td>\n",
              "    </tr>\n",
              "    <tr>\n",
              "      <th>2013-01-05</th>\n",
              "      <td>0.386847</td>\n",
              "      <td>0.885761</td>\n",
              "      <td>1.154757</td>\n",
              "      <td>5</td>\n",
              "      <td>4.0</td>\n",
              "    </tr>\n",
              "    <tr>\n",
              "      <th>2013-01-06</th>\n",
              "      <td>-0.262767</td>\n",
              "      <td>1.650756</td>\n",
              "      <td>0.824836</td>\n",
              "      <td>5</td>\n",
              "      <td>5.0</td>\n",
              "    </tr>\n",
              "  </tbody>\n",
              "</table>\n",
              "</div>"
            ],
            "text/plain": [
              "                   A         B         C  D    F\n",
              "2013-01-01  0.000000  0.000000 -0.980324  5  NaN\n",
              "2013-01-02 -2.870506  0.217154  0.484818  5  1.0\n",
              "2013-01-03 -0.387578  0.036334  0.042390  5  2.0\n",
              "2013-01-04 -0.494736 -0.380090  1.460528  5  3.0\n",
              "2013-01-05  0.386847  0.885761  1.154757  5  4.0\n",
              "2013-01-06 -0.262767  1.650756  0.824836  5  5.0"
            ]
          },
          "metadata": {
            "tags": []
          },
          "execution_count": 268
        }
      ]
    },
    {
      "cell_type": "code",
      "metadata": {
        "id": "atsKXguUOyVz",
        "colab_type": "code",
        "colab": {}
      },
      "source": [
        ""
      ],
      "execution_count": null,
      "outputs": []
    },
    {
      "cell_type": "code",
      "metadata": {
        "scrolled": true,
        "id": "GZNGl0YqOyV2",
        "colab_type": "code",
        "colab": {},
        "outputId": "9d64f5e9-6171-463d-dd93-42cd14227602"
      },
      "source": [
        "df.apply(np.cumsum)"
      ],
      "execution_count": null,
      "outputs": [
        {
          "output_type": "execute_result",
          "data": {
            "text/html": [
              "<div>\n",
              "<style>\n",
              "    .dataframe thead tr:only-child th {\n",
              "        text-align: right;\n",
              "    }\n",
              "\n",
              "    .dataframe thead th {\n",
              "        text-align: left;\n",
              "    }\n",
              "\n",
              "    .dataframe tbody tr th {\n",
              "        vertical-align: top;\n",
              "    }\n",
              "</style>\n",
              "<table border=\"1\" class=\"dataframe\">\n",
              "  <thead>\n",
              "    <tr style=\"text-align: right;\">\n",
              "      <th></th>\n",
              "      <th>A</th>\n",
              "      <th>B</th>\n",
              "      <th>C</th>\n",
              "      <th>D</th>\n",
              "      <th>F</th>\n",
              "    </tr>\n",
              "  </thead>\n",
              "  <tbody>\n",
              "    <tr>\n",
              "      <th>2013-01-01</th>\n",
              "      <td>0.000000</td>\n",
              "      <td>0.000000</td>\n",
              "      <td>-0.980324</td>\n",
              "      <td>5</td>\n",
              "      <td>NaN</td>\n",
              "    </tr>\n",
              "    <tr>\n",
              "      <th>2013-01-02</th>\n",
              "      <td>-2.870506</td>\n",
              "      <td>0.217154</td>\n",
              "      <td>-0.495506</td>\n",
              "      <td>10</td>\n",
              "      <td>1.0</td>\n",
              "    </tr>\n",
              "    <tr>\n",
              "      <th>2013-01-03</th>\n",
              "      <td>-3.258084</td>\n",
              "      <td>0.253488</td>\n",
              "      <td>-0.453116</td>\n",
              "      <td>15</td>\n",
              "      <td>3.0</td>\n",
              "    </tr>\n",
              "    <tr>\n",
              "      <th>2013-01-04</th>\n",
              "      <td>-3.752820</td>\n",
              "      <td>-0.126603</td>\n",
              "      <td>1.007412</td>\n",
              "      <td>20</td>\n",
              "      <td>6.0</td>\n",
              "    </tr>\n",
              "    <tr>\n",
              "      <th>2013-01-05</th>\n",
              "      <td>-3.365974</td>\n",
              "      <td>0.759159</td>\n",
              "      <td>2.162169</td>\n",
              "      <td>25</td>\n",
              "      <td>10.0</td>\n",
              "    </tr>\n",
              "    <tr>\n",
              "      <th>2013-01-06</th>\n",
              "      <td>-3.628741</td>\n",
              "      <td>2.409914</td>\n",
              "      <td>2.987005</td>\n",
              "      <td>30</td>\n",
              "      <td>15.0</td>\n",
              "    </tr>\n",
              "  </tbody>\n",
              "</table>\n",
              "</div>"
            ],
            "text/plain": [
              "                   A         B         C   D     F\n",
              "2013-01-01  0.000000  0.000000 -0.980324   5   NaN\n",
              "2013-01-02 -2.870506  0.217154 -0.495506  10   1.0\n",
              "2013-01-03 -3.258084  0.253488 -0.453116  15   3.0\n",
              "2013-01-04 -3.752820 -0.126603  1.007412  20   6.0\n",
              "2013-01-05 -3.365974  0.759159  2.162169  25  10.0\n",
              "2013-01-06 -3.628741  2.409914  2.987005  30  15.0"
            ]
          },
          "metadata": {
            "tags": []
          },
          "execution_count": 269
        }
      ]
    },
    {
      "cell_type": "code",
      "metadata": {
        "id": "L2dX2Eo-OyV3",
        "colab_type": "code",
        "colab": {},
        "outputId": "6010a7cc-bae6-4d17-d0ec-afe060aa0499"
      },
      "source": [
        "df"
      ],
      "execution_count": null,
      "outputs": [
        {
          "output_type": "execute_result",
          "data": {
            "text/html": [
              "<div>\n",
              "<style>\n",
              "    .dataframe thead tr:only-child th {\n",
              "        text-align: right;\n",
              "    }\n",
              "\n",
              "    .dataframe thead th {\n",
              "        text-align: left;\n",
              "    }\n",
              "\n",
              "    .dataframe tbody tr th {\n",
              "        vertical-align: top;\n",
              "    }\n",
              "</style>\n",
              "<table border=\"1\" class=\"dataframe\">\n",
              "  <thead>\n",
              "    <tr style=\"text-align: right;\">\n",
              "      <th></th>\n",
              "      <th>A</th>\n",
              "      <th>B</th>\n",
              "      <th>C</th>\n",
              "      <th>D</th>\n",
              "      <th>F</th>\n",
              "    </tr>\n",
              "  </thead>\n",
              "  <tbody>\n",
              "    <tr>\n",
              "      <th>2013-01-01</th>\n",
              "      <td>0.000000</td>\n",
              "      <td>0.000000</td>\n",
              "      <td>-0.980324</td>\n",
              "      <td>5</td>\n",
              "      <td>NaN</td>\n",
              "    </tr>\n",
              "    <tr>\n",
              "      <th>2013-01-02</th>\n",
              "      <td>-2.870506</td>\n",
              "      <td>0.217154</td>\n",
              "      <td>0.484818</td>\n",
              "      <td>5</td>\n",
              "      <td>1.0</td>\n",
              "    </tr>\n",
              "    <tr>\n",
              "      <th>2013-01-03</th>\n",
              "      <td>-0.387578</td>\n",
              "      <td>0.036334</td>\n",
              "      <td>0.042390</td>\n",
              "      <td>5</td>\n",
              "      <td>2.0</td>\n",
              "    </tr>\n",
              "    <tr>\n",
              "      <th>2013-01-04</th>\n",
              "      <td>-0.494736</td>\n",
              "      <td>-0.380090</td>\n",
              "      <td>1.460528</td>\n",
              "      <td>5</td>\n",
              "      <td>3.0</td>\n",
              "    </tr>\n",
              "    <tr>\n",
              "      <th>2013-01-05</th>\n",
              "      <td>0.386847</td>\n",
              "      <td>0.885761</td>\n",
              "      <td>1.154757</td>\n",
              "      <td>5</td>\n",
              "      <td>4.0</td>\n",
              "    </tr>\n",
              "    <tr>\n",
              "      <th>2013-01-06</th>\n",
              "      <td>-0.262767</td>\n",
              "      <td>1.650756</td>\n",
              "      <td>0.824836</td>\n",
              "      <td>5</td>\n",
              "      <td>5.0</td>\n",
              "    </tr>\n",
              "  </tbody>\n",
              "</table>\n",
              "</div>"
            ],
            "text/plain": [
              "                   A         B         C  D    F\n",
              "2013-01-01  0.000000  0.000000 -0.980324  5  NaN\n",
              "2013-01-02 -2.870506  0.217154  0.484818  5  1.0\n",
              "2013-01-03 -0.387578  0.036334  0.042390  5  2.0\n",
              "2013-01-04 -0.494736 -0.380090  1.460528  5  3.0\n",
              "2013-01-05  0.386847  0.885761  1.154757  5  4.0\n",
              "2013-01-06 -0.262767  1.650756  0.824836  5  5.0"
            ]
          },
          "metadata": {
            "tags": []
          },
          "execution_count": 270
        }
      ]
    },
    {
      "cell_type": "code",
      "metadata": {
        "id": "ISWKH-_JOyV4",
        "colab_type": "code",
        "colab": {},
        "outputId": "3e6a85a4-21cf-4c4c-ec38-c41d5d771503"
      },
      "source": [
        "df.apply(lambda x: x.max() - x.min())"
      ],
      "execution_count": null,
      "outputs": [
        {
          "output_type": "execute_result",
          "data": {
            "text/plain": [
              "A    3.257353\n",
              "B    2.030846\n",
              "C    2.440853\n",
              "D    0.000000\n",
              "F    4.000000\n",
              "dtype: float64"
            ]
          },
          "metadata": {
            "tags": []
          },
          "execution_count": 271
        }
      ]
    },
    {
      "cell_type": "markdown",
      "metadata": {
        "id": "UAlo_1S7OyV5",
        "colab_type": "text"
      },
      "source": [
        "### Histogramming"
      ]
    },
    {
      "cell_type": "markdown",
      "metadata": {
        "id": "4zU00OgJOyV5",
        "colab_type": "text"
      },
      "source": [
        "Value counts (histogramming) / Mode\n",
        "\n",
        "The value_counts() Series method and top-level function computes a histogram of a 1D array of values. It can also be used as a function on regular arrays.\n",
        "\n"
      ]
    },
    {
      "cell_type": "code",
      "metadata": {
        "id": "dJZ57gNBOyV6",
        "colab_type": "code",
        "colab": {}
      },
      "source": [
        "s = pd.Series(np.random.randint(0, 7, size=10))"
      ],
      "execution_count": null,
      "outputs": []
    },
    {
      "cell_type": "code",
      "metadata": {
        "id": "eAbD0GCUOyV7",
        "colab_type": "code",
        "colab": {},
        "outputId": "2c915f96-b2f2-47a4-fda7-88888451a7a3"
      },
      "source": [
        "s"
      ],
      "execution_count": null,
      "outputs": [
        {
          "output_type": "execute_result",
          "data": {
            "text/plain": [
              "0    0\n",
              "1    2\n",
              "2    6\n",
              "3    4\n",
              "4    5\n",
              "5    3\n",
              "6    5\n",
              "7    4\n",
              "8    3\n",
              "9    3\n",
              "dtype: int64"
            ]
          },
          "metadata": {
            "tags": []
          },
          "execution_count": 273
        }
      ]
    },
    {
      "cell_type": "code",
      "metadata": {
        "id": "UMqFgJZlOyV9",
        "colab_type": "code",
        "colab": {},
        "outputId": "29ce2a23-7d31-4e37-dc0e-0342e8b40ab4"
      },
      "source": [
        "s.value_counts()"
      ],
      "execution_count": null,
      "outputs": [
        {
          "output_type": "execute_result",
          "data": {
            "text/plain": [
              "3    3\n",
              "5    2\n",
              "4    2\n",
              "6    1\n",
              "2    1\n",
              "0    1\n",
              "dtype: int64"
            ]
          },
          "metadata": {
            "tags": []
          },
          "execution_count": 274
        }
      ]
    },
    {
      "cell_type": "markdown",
      "metadata": {
        "id": "t78wv6u2OyV-",
        "colab_type": "text"
      },
      "source": [
        "Continuous values can be discretized using the cut() (bins based on values) and qcut() (bins based on sample quantiles) functions"
      ]
    },
    {
      "cell_type": "code",
      "metadata": {
        "id": "Dwif0QYxOyV-",
        "colab_type": "code",
        "colab": {},
        "outputId": "aa053ab9-7f81-43ca-83c4-9b3b9e662629"
      },
      "source": [
        "factor = pd.cut(s, 4)\n",
        "factor"
      ],
      "execution_count": null,
      "outputs": [
        {
          "output_type": "execute_result",
          "data": {
            "text/plain": [
              "0    (-0.006, 1.5]\n",
              "1       (1.5, 3.0]\n",
              "2       (4.5, 6.0]\n",
              "3       (3.0, 4.5]\n",
              "4       (4.5, 6.0]\n",
              "5       (1.5, 3.0]\n",
              "6       (4.5, 6.0]\n",
              "7       (3.0, 4.5]\n",
              "8       (1.5, 3.0]\n",
              "9       (1.5, 3.0]\n",
              "dtype: category\n",
              "Categories (4, interval[float64]): [(-0.006, 1.5] < (1.5, 3.0] < (3.0, 4.5] < (4.5, 6.0]]"
            ]
          },
          "metadata": {
            "tags": []
          },
          "execution_count": 275
        }
      ]
    },
    {
      "cell_type": "markdown",
      "metadata": {
        "id": "YUIbPFuLOyV_",
        "colab_type": "text"
      },
      "source": [
        "### String Methods"
      ]
    },
    {
      "cell_type": "markdown",
      "metadata": {
        "id": "m-v-LZKKOyV_",
        "colab_type": "text"
      },
      "source": [
        "Series is equipped with a set of string processing methods in the `str` attribute that make it easy to operate on each element of the array, as in the code snippet below. Note that pattern-matching in `str` generally uses [regular expressions](https://docs.python.org/2/library/re.html) by default (and in \n",
        "some cases always uses them). See more at [Vectorized String Methods](http://pandas.pydata.org/pandas-docs/stable/text.html#text-string-methods)."
      ]
    },
    {
      "cell_type": "code",
      "metadata": {
        "id": "vNcnR1NVOyV_",
        "colab_type": "code",
        "colab": {}
      },
      "source": [
        "s = pd.Series(['A', 'B', 'C', 'Aaba', 'Baca', np.nan, 'CABA', 'dog', 'cat'])"
      ],
      "execution_count": null,
      "outputs": []
    },
    {
      "cell_type": "code",
      "metadata": {
        "id": "20XAnm5fOyWA",
        "colab_type": "code",
        "colab": {},
        "outputId": "142bb1f7-7aa5-44a2-f51c-d3cb4a782ca8"
      },
      "source": [
        "s"
      ],
      "execution_count": null,
      "outputs": [
        {
          "output_type": "execute_result",
          "data": {
            "text/plain": [
              "0       A\n",
              "1       B\n",
              "2       C\n",
              "3    Aaba\n",
              "4    Baca\n",
              "5     NaN\n",
              "6    CABA\n",
              "7     dog\n",
              "8     cat\n",
              "dtype: object"
            ]
          },
          "metadata": {
            "tags": []
          },
          "execution_count": 277
        }
      ]
    },
    {
      "cell_type": "code",
      "metadata": {
        "id": "3p2eVfHtOyWB",
        "colab_type": "code",
        "colab": {},
        "outputId": "8f58e061-c0ac-4c9c-a72e-abd40cef3b10"
      },
      "source": [
        "s.str.lower()"
      ],
      "execution_count": null,
      "outputs": [
        {
          "output_type": "execute_result",
          "data": {
            "text/plain": [
              "0       a\n",
              "1       b\n",
              "2       c\n",
              "3    aaba\n",
              "4    baca\n",
              "5     NaN\n",
              "6    caba\n",
              "7     dog\n",
              "8     cat\n",
              "dtype: object"
            ]
          },
          "metadata": {
            "tags": []
          },
          "execution_count": 278
        }
      ]
    },
    {
      "cell_type": "code",
      "metadata": {
        "id": "I72N13y6OyWC",
        "colab_type": "code",
        "colab": {},
        "outputId": "f140e664-9641-4f67-df71-83534cae1ef7"
      },
      "source": [
        "s.str[:1]"
      ],
      "execution_count": null,
      "outputs": [
        {
          "output_type": "execute_result",
          "data": {
            "text/plain": [
              "0      A\n",
              "1      B\n",
              "2      C\n",
              "3      A\n",
              "4      B\n",
              "5    NaN\n",
              "6      C\n",
              "7      d\n",
              "8      c\n",
              "dtype: object"
            ]
          },
          "metadata": {
            "tags": []
          },
          "execution_count": 279
        }
      ]
    },
    {
      "cell_type": "markdown",
      "metadata": {
        "id": "Q4MbvkL6OyWD",
        "colab_type": "text"
      },
      "source": [
        "## Merge"
      ]
    },
    {
      "cell_type": "markdown",
      "metadata": {
        "id": "tNzyhXNlOyWD",
        "colab_type": "text"
      },
      "source": [
        "pandas provides various facilities for easily combining together Series, DataFrame, and Panel objects with various kinds of set logic for the indexes and relational algebra functionality in the case of join / merge-type operations."
      ]
    },
    {
      "cell_type": "markdown",
      "metadata": {
        "id": "3Q5sb3fdOyWD",
        "colab_type": "text"
      },
      "source": [
        "Merge, join, and concatenate: pandas provides various facilities for easily combining together Series, DataFrame, and Panel objects with various kinds of set logic for the indexes and relational algebra functionality in the case of join / merge-type operations.\n",
        "\n",
        "\n",
        "Concatenating objects: The concat function (in the main pandas namespace) does all of the heavy lifting of performing concatenation operations along an axis while performing optional set logic (union or intersection) of the indexes (if any) on the other axes."
      ]
    },
    {
      "cell_type": "markdown",
      "metadata": {
        "id": "7Q1V4fleOyWE",
        "colab_type": "text"
      },
      "source": [
        "Concatenating pandas objects together with [concat()](http://pandas.pydata.org/pandas-docs/stable/generated/pandas.concat.html#pandas.concat):"
      ]
    },
    {
      "cell_type": "code",
      "metadata": {
        "id": "JH7VXob5OyWE",
        "colab_type": "code",
        "colab": {}
      },
      "source": [
        "df = pd.DataFrame(np.random.randn(10, 4))"
      ],
      "execution_count": null,
      "outputs": []
    },
    {
      "cell_type": "code",
      "metadata": {
        "scrolled": true,
        "id": "9EfdNP8bOyWF",
        "colab_type": "code",
        "colab": {},
        "outputId": "4c584e0c-7d0a-4ad4-a0a9-a59acfc7990f"
      },
      "source": [
        "df"
      ],
      "execution_count": null,
      "outputs": [
        {
          "output_type": "execute_result",
          "data": {
            "text/html": [
              "<div>\n",
              "<style>\n",
              "    .dataframe thead tr:only-child th {\n",
              "        text-align: right;\n",
              "    }\n",
              "\n",
              "    .dataframe thead th {\n",
              "        text-align: left;\n",
              "    }\n",
              "\n",
              "    .dataframe tbody tr th {\n",
              "        vertical-align: top;\n",
              "    }\n",
              "</style>\n",
              "<table border=\"1\" class=\"dataframe\">\n",
              "  <thead>\n",
              "    <tr style=\"text-align: right;\">\n",
              "      <th></th>\n",
              "      <th>0</th>\n",
              "      <th>1</th>\n",
              "      <th>2</th>\n",
              "      <th>3</th>\n",
              "    </tr>\n",
              "  </thead>\n",
              "  <tbody>\n",
              "    <tr>\n",
              "      <th>0</th>\n",
              "      <td>-1.258845</td>\n",
              "      <td>-0.287124</td>\n",
              "      <td>-0.725084</td>\n",
              "      <td>1.463954</td>\n",
              "    </tr>\n",
              "    <tr>\n",
              "      <th>1</th>\n",
              "      <td>1.478295</td>\n",
              "      <td>-0.030161</td>\n",
              "      <td>1.337668</td>\n",
              "      <td>0.138429</td>\n",
              "    </tr>\n",
              "    <tr>\n",
              "      <th>2</th>\n",
              "      <td>-0.924888</td>\n",
              "      <td>1.133481</td>\n",
              "      <td>1.032108</td>\n",
              "      <td>-0.339191</td>\n",
              "    </tr>\n",
              "    <tr>\n",
              "      <th>3</th>\n",
              "      <td>1.350089</td>\n",
              "      <td>0.189304</td>\n",
              "      <td>0.370229</td>\n",
              "      <td>1.125966</td>\n",
              "    </tr>\n",
              "    <tr>\n",
              "      <th>4</th>\n",
              "      <td>-1.086512</td>\n",
              "      <td>-0.177314</td>\n",
              "      <td>0.046515</td>\n",
              "      <td>-0.614069</td>\n",
              "    </tr>\n",
              "    <tr>\n",
              "      <th>5</th>\n",
              "      <td>-0.043136</td>\n",
              "      <td>0.622721</td>\n",
              "      <td>0.223118</td>\n",
              "      <td>-0.153041</td>\n",
              "    </tr>\n",
              "    <tr>\n",
              "      <th>6</th>\n",
              "      <td>1.014491</td>\n",
              "      <td>-0.429454</td>\n",
              "      <td>1.307389</td>\n",
              "      <td>-1.341243</td>\n",
              "    </tr>\n",
              "    <tr>\n",
              "      <th>7</th>\n",
              "      <td>-0.038516</td>\n",
              "      <td>-1.270768</td>\n",
              "      <td>-0.638445</td>\n",
              "      <td>-1.178283</td>\n",
              "    </tr>\n",
              "    <tr>\n",
              "      <th>8</th>\n",
              "      <td>-0.857054</td>\n",
              "      <td>-0.070965</td>\n",
              "      <td>-0.554265</td>\n",
              "      <td>0.773626</td>\n",
              "    </tr>\n",
              "    <tr>\n",
              "      <th>9</th>\n",
              "      <td>-1.080785</td>\n",
              "      <td>0.861443</td>\n",
              "      <td>-0.355410</td>\n",
              "      <td>1.095660</td>\n",
              "    </tr>\n",
              "  </tbody>\n",
              "</table>\n",
              "</div>"
            ],
            "text/plain": [
              "          0         1         2         3\n",
              "0 -1.258845 -0.287124 -0.725084  1.463954\n",
              "1  1.478295 -0.030161  1.337668  0.138429\n",
              "2 -0.924888  1.133481  1.032108 -0.339191\n",
              "3  1.350089  0.189304  0.370229  1.125966\n",
              "4 -1.086512 -0.177314  0.046515 -0.614069\n",
              "5 -0.043136  0.622721  0.223118 -0.153041\n",
              "6  1.014491 -0.429454  1.307389 -1.341243\n",
              "7 -0.038516 -1.270768 -0.638445 -1.178283\n",
              "8 -0.857054 -0.070965 -0.554265  0.773626\n",
              "9 -1.080785  0.861443 -0.355410  1.095660"
            ]
          },
          "metadata": {
            "tags": []
          },
          "execution_count": 281
        }
      ]
    },
    {
      "cell_type": "code",
      "metadata": {
        "id": "wpJLU6mnOyWG",
        "colab_type": "code",
        "colab": {}
      },
      "source": [
        "# break it into pieces\n",
        "pieces = [df[:3], df[3:7], df[7:]]"
      ],
      "execution_count": null,
      "outputs": []
    },
    {
      "cell_type": "code",
      "metadata": {
        "id": "xckeM9ixOyWH",
        "colab_type": "code",
        "colab": {},
        "outputId": "f453861c-5d36-4c0e-efb0-411b9b970370"
      },
      "source": [
        "pieces"
      ],
      "execution_count": null,
      "outputs": [
        {
          "output_type": "execute_result",
          "data": {
            "text/plain": [
              "[          0         1         2         3\n",
              " 0 -1.258845 -0.287124 -0.725084  1.463954\n",
              " 1  1.478295 -0.030161  1.337668  0.138429\n",
              " 2 -0.924888  1.133481  1.032108 -0.339191,\n",
              "           0         1         2         3\n",
              " 3  1.350089  0.189304  0.370229  1.125966\n",
              " 4 -1.086512 -0.177314  0.046515 -0.614069\n",
              " 5 -0.043136  0.622721  0.223118 -0.153041\n",
              " 6  1.014491 -0.429454  1.307389 -1.341243,\n",
              "           0         1         2         3\n",
              " 7 -0.038516 -1.270768 -0.638445 -1.178283\n",
              " 8 -0.857054 -0.070965 -0.554265  0.773626\n",
              " 9 -1.080785  0.861443 -0.355410  1.095660]"
            ]
          },
          "metadata": {
            "tags": []
          },
          "execution_count": 283
        }
      ]
    },
    {
      "cell_type": "code",
      "metadata": {
        "id": "Su8okqyEOyWI",
        "colab_type": "code",
        "colab": {},
        "outputId": "4cbb34a0-c3a7-4e60-a5e1-e6bea7558f95"
      },
      "source": [
        "pd.concat(pieces)"
      ],
      "execution_count": null,
      "outputs": [
        {
          "output_type": "execute_result",
          "data": {
            "text/html": [
              "<div>\n",
              "<style>\n",
              "    .dataframe thead tr:only-child th {\n",
              "        text-align: right;\n",
              "    }\n",
              "\n",
              "    .dataframe thead th {\n",
              "        text-align: left;\n",
              "    }\n",
              "\n",
              "    .dataframe tbody tr th {\n",
              "        vertical-align: top;\n",
              "    }\n",
              "</style>\n",
              "<table border=\"1\" class=\"dataframe\">\n",
              "  <thead>\n",
              "    <tr style=\"text-align: right;\">\n",
              "      <th></th>\n",
              "      <th>0</th>\n",
              "      <th>1</th>\n",
              "      <th>2</th>\n",
              "      <th>3</th>\n",
              "    </tr>\n",
              "  </thead>\n",
              "  <tbody>\n",
              "    <tr>\n",
              "      <th>0</th>\n",
              "      <td>-1.258845</td>\n",
              "      <td>-0.287124</td>\n",
              "      <td>-0.725084</td>\n",
              "      <td>1.463954</td>\n",
              "    </tr>\n",
              "    <tr>\n",
              "      <th>1</th>\n",
              "      <td>1.478295</td>\n",
              "      <td>-0.030161</td>\n",
              "      <td>1.337668</td>\n",
              "      <td>0.138429</td>\n",
              "    </tr>\n",
              "    <tr>\n",
              "      <th>2</th>\n",
              "      <td>-0.924888</td>\n",
              "      <td>1.133481</td>\n",
              "      <td>1.032108</td>\n",
              "      <td>-0.339191</td>\n",
              "    </tr>\n",
              "    <tr>\n",
              "      <th>3</th>\n",
              "      <td>1.350089</td>\n",
              "      <td>0.189304</td>\n",
              "      <td>0.370229</td>\n",
              "      <td>1.125966</td>\n",
              "    </tr>\n",
              "    <tr>\n",
              "      <th>4</th>\n",
              "      <td>-1.086512</td>\n",
              "      <td>-0.177314</td>\n",
              "      <td>0.046515</td>\n",
              "      <td>-0.614069</td>\n",
              "    </tr>\n",
              "    <tr>\n",
              "      <th>5</th>\n",
              "      <td>-0.043136</td>\n",
              "      <td>0.622721</td>\n",
              "      <td>0.223118</td>\n",
              "      <td>-0.153041</td>\n",
              "    </tr>\n",
              "    <tr>\n",
              "      <th>6</th>\n",
              "      <td>1.014491</td>\n",
              "      <td>-0.429454</td>\n",
              "      <td>1.307389</td>\n",
              "      <td>-1.341243</td>\n",
              "    </tr>\n",
              "    <tr>\n",
              "      <th>7</th>\n",
              "      <td>-0.038516</td>\n",
              "      <td>-1.270768</td>\n",
              "      <td>-0.638445</td>\n",
              "      <td>-1.178283</td>\n",
              "    </tr>\n",
              "    <tr>\n",
              "      <th>8</th>\n",
              "      <td>-0.857054</td>\n",
              "      <td>-0.070965</td>\n",
              "      <td>-0.554265</td>\n",
              "      <td>0.773626</td>\n",
              "    </tr>\n",
              "    <tr>\n",
              "      <th>9</th>\n",
              "      <td>-1.080785</td>\n",
              "      <td>0.861443</td>\n",
              "      <td>-0.355410</td>\n",
              "      <td>1.095660</td>\n",
              "    </tr>\n",
              "  </tbody>\n",
              "</table>\n",
              "</div>"
            ],
            "text/plain": [
              "          0         1         2         3\n",
              "0 -1.258845 -0.287124 -0.725084  1.463954\n",
              "1  1.478295 -0.030161  1.337668  0.138429\n",
              "2 -0.924888  1.133481  1.032108 -0.339191\n",
              "3  1.350089  0.189304  0.370229  1.125966\n",
              "4 -1.086512 -0.177314  0.046515 -0.614069\n",
              "5 -0.043136  0.622721  0.223118 -0.153041\n",
              "6  1.014491 -0.429454  1.307389 -1.341243\n",
              "7 -0.038516 -1.270768 -0.638445 -1.178283\n",
              "8 -0.857054 -0.070965 -0.554265  0.773626\n",
              "9 -1.080785  0.861443 -0.355410  1.095660"
            ]
          },
          "metadata": {
            "tags": []
          },
          "execution_count": 284
        }
      ]
    },
    {
      "cell_type": "code",
      "metadata": {
        "id": "K7OfkLBzOyWJ",
        "colab_type": "code",
        "colab": {}
      },
      "source": [
        ""
      ],
      "execution_count": null,
      "outputs": []
    },
    {
      "cell_type": "markdown",
      "metadata": {
        "id": "Eruk9xPyOyWK",
        "colab_type": "text"
      },
      "source": [
        "### Join"
      ]
    },
    {
      "cell_type": "markdown",
      "metadata": {
        "id": "JwbI9yUEOyWK",
        "colab_type": "text"
      },
      "source": [
        "SQL style merges. See the [Database style joining](http://pandas.pydata.org/pandas-docs/stable/merging.html#merging-join)"
      ]
    },
    {
      "cell_type": "code",
      "metadata": {
        "id": "GgeWVEf-OyWL",
        "colab_type": "code",
        "colab": {}
      },
      "source": [
        "left = pd.DataFrame({'key': ['foo', 'foo'], 'lval': [1, 2]})"
      ],
      "execution_count": null,
      "outputs": []
    },
    {
      "cell_type": "code",
      "metadata": {
        "id": "NjJSLFhROyWM",
        "colab_type": "code",
        "colab": {}
      },
      "source": [
        "right = pd.DataFrame({'key': ['foo', 'foo'], 'rval': [4, 5]})"
      ],
      "execution_count": null,
      "outputs": []
    },
    {
      "cell_type": "code",
      "metadata": {
        "id": "-9ueQ5ryOyWQ",
        "colab_type": "code",
        "colab": {},
        "outputId": "c4839940-5272-4b7c-f635-bbe16906744a"
      },
      "source": [
        "left"
      ],
      "execution_count": null,
      "outputs": [
        {
          "output_type": "execute_result",
          "data": {
            "text/html": [
              "<div>\n",
              "<style>\n",
              "    .dataframe thead tr:only-child th {\n",
              "        text-align: right;\n",
              "    }\n",
              "\n",
              "    .dataframe thead th {\n",
              "        text-align: left;\n",
              "    }\n",
              "\n",
              "    .dataframe tbody tr th {\n",
              "        vertical-align: top;\n",
              "    }\n",
              "</style>\n",
              "<table border=\"1\" class=\"dataframe\">\n",
              "  <thead>\n",
              "    <tr style=\"text-align: right;\">\n",
              "      <th></th>\n",
              "      <th>key</th>\n",
              "      <th>lval</th>\n",
              "    </tr>\n",
              "  </thead>\n",
              "  <tbody>\n",
              "    <tr>\n",
              "      <th>0</th>\n",
              "      <td>foo</td>\n",
              "      <td>1</td>\n",
              "    </tr>\n",
              "    <tr>\n",
              "      <th>1</th>\n",
              "      <td>foo</td>\n",
              "      <td>2</td>\n",
              "    </tr>\n",
              "  </tbody>\n",
              "</table>\n",
              "</div>"
            ],
            "text/plain": [
              "   key  lval\n",
              "0  foo     1\n",
              "1  foo     2"
            ]
          },
          "metadata": {
            "tags": []
          },
          "execution_count": 77
        }
      ]
    },
    {
      "cell_type": "code",
      "metadata": {
        "id": "GCZgCYe1OyWR",
        "colab_type": "code",
        "colab": {},
        "outputId": "a60932dc-886c-4be0-97ad-f6678e93e64b"
      },
      "source": [
        "right"
      ],
      "execution_count": null,
      "outputs": [
        {
          "output_type": "execute_result",
          "data": {
            "text/html": [
              "<div>\n",
              "<style>\n",
              "    .dataframe thead tr:only-child th {\n",
              "        text-align: right;\n",
              "    }\n",
              "\n",
              "    .dataframe thead th {\n",
              "        text-align: left;\n",
              "    }\n",
              "\n",
              "    .dataframe tbody tr th {\n",
              "        vertical-align: top;\n",
              "    }\n",
              "</style>\n",
              "<table border=\"1\" class=\"dataframe\">\n",
              "  <thead>\n",
              "    <tr style=\"text-align: right;\">\n",
              "      <th></th>\n",
              "      <th>key</th>\n",
              "      <th>rval</th>\n",
              "    </tr>\n",
              "  </thead>\n",
              "  <tbody>\n",
              "    <tr>\n",
              "      <th>0</th>\n",
              "      <td>foo</td>\n",
              "      <td>4</td>\n",
              "    </tr>\n",
              "    <tr>\n",
              "      <th>1</th>\n",
              "      <td>foo</td>\n",
              "      <td>5</td>\n",
              "    </tr>\n",
              "  </tbody>\n",
              "</table>\n",
              "</div>"
            ],
            "text/plain": [
              "   key  rval\n",
              "0  foo     4\n",
              "1  foo     5"
            ]
          },
          "metadata": {
            "tags": []
          },
          "execution_count": 78
        }
      ]
    },
    {
      "cell_type": "code",
      "metadata": {
        "id": "r7xvfrGHOyWT",
        "colab_type": "code",
        "colab": {},
        "outputId": "d76905d0-c282-4cd8-d120-a4f519387598"
      },
      "source": [
        "pd.merge(left, right, on='key')"
      ],
      "execution_count": null,
      "outputs": [
        {
          "output_type": "execute_result",
          "data": {
            "text/html": [
              "<div>\n",
              "<style>\n",
              "    .dataframe thead tr:only-child th {\n",
              "        text-align: right;\n",
              "    }\n",
              "\n",
              "    .dataframe thead th {\n",
              "        text-align: left;\n",
              "    }\n",
              "\n",
              "    .dataframe tbody tr th {\n",
              "        vertical-align: top;\n",
              "    }\n",
              "</style>\n",
              "<table border=\"1\" class=\"dataframe\">\n",
              "  <thead>\n",
              "    <tr style=\"text-align: right;\">\n",
              "      <th></th>\n",
              "      <th>key</th>\n",
              "      <th>lval</th>\n",
              "      <th>rval</th>\n",
              "    </tr>\n",
              "  </thead>\n",
              "  <tbody>\n",
              "    <tr>\n",
              "      <th>0</th>\n",
              "      <td>foo</td>\n",
              "      <td>1</td>\n",
              "      <td>4</td>\n",
              "    </tr>\n",
              "    <tr>\n",
              "      <th>1</th>\n",
              "      <td>foo</td>\n",
              "      <td>1</td>\n",
              "      <td>5</td>\n",
              "    </tr>\n",
              "    <tr>\n",
              "      <th>2</th>\n",
              "      <td>foo</td>\n",
              "      <td>2</td>\n",
              "      <td>4</td>\n",
              "    </tr>\n",
              "    <tr>\n",
              "      <th>3</th>\n",
              "      <td>foo</td>\n",
              "      <td>2</td>\n",
              "      <td>5</td>\n",
              "    </tr>\n",
              "  </tbody>\n",
              "</table>\n",
              "</div>"
            ],
            "text/plain": [
              "   key  lval  rval\n",
              "0  foo     1     4\n",
              "1  foo     1     5\n",
              "2  foo     2     4\n",
              "3  foo     2     5"
            ]
          },
          "metadata": {
            "tags": []
          },
          "execution_count": 79
        }
      ]
    },
    {
      "cell_type": "markdown",
      "metadata": {
        "id": "fJK0tsZtOyWV",
        "colab_type": "text"
      },
      "source": [
        "Another example that can be given is:"
      ]
    },
    {
      "cell_type": "code",
      "metadata": {
        "id": "JlXsXaWIOyWV",
        "colab_type": "code",
        "colab": {}
      },
      "source": [
        "left = pd.DataFrame({'key': ['foo', 'bar'], 'lval': [1, 2]})"
      ],
      "execution_count": null,
      "outputs": []
    },
    {
      "cell_type": "code",
      "metadata": {
        "id": "mjIopBF3OyWX",
        "colab_type": "code",
        "colab": {}
      },
      "source": [
        "right = pd.DataFrame({'key': ['foo', 'bar'], 'rval': [4, 5]})"
      ],
      "execution_count": null,
      "outputs": []
    },
    {
      "cell_type": "code",
      "metadata": {
        "id": "fXPUZ70oOyWc",
        "colab_type": "code",
        "colab": {},
        "outputId": "6af1e98e-41fc-4f3e-ca51-07ebd38e3531"
      },
      "source": [
        "left"
      ],
      "execution_count": null,
      "outputs": [
        {
          "output_type": "execute_result",
          "data": {
            "text/html": [
              "<div>\n",
              "<style>\n",
              "    .dataframe thead tr:only-child th {\n",
              "        text-align: right;\n",
              "    }\n",
              "\n",
              "    .dataframe thead th {\n",
              "        text-align: left;\n",
              "    }\n",
              "\n",
              "    .dataframe tbody tr th {\n",
              "        vertical-align: top;\n",
              "    }\n",
              "</style>\n",
              "<table border=\"1\" class=\"dataframe\">\n",
              "  <thead>\n",
              "    <tr style=\"text-align: right;\">\n",
              "      <th></th>\n",
              "      <th>key</th>\n",
              "      <th>lval</th>\n",
              "    </tr>\n",
              "  </thead>\n",
              "  <tbody>\n",
              "    <tr>\n",
              "      <th>0</th>\n",
              "      <td>foo</td>\n",
              "      <td>1</td>\n",
              "    </tr>\n",
              "    <tr>\n",
              "      <th>1</th>\n",
              "      <td>bar</td>\n",
              "      <td>2</td>\n",
              "    </tr>\n",
              "  </tbody>\n",
              "</table>\n",
              "</div>"
            ],
            "text/plain": [
              "   key  lval\n",
              "0  foo     1\n",
              "1  bar     2"
            ]
          },
          "metadata": {
            "tags": []
          },
          "execution_count": 82
        }
      ]
    },
    {
      "cell_type": "code",
      "metadata": {
        "id": "jaDW2nNJOyWe",
        "colab_type": "code",
        "colab": {},
        "outputId": "d6f97eee-43fd-436a-9c30-68784efaf220"
      },
      "source": [
        "right"
      ],
      "execution_count": null,
      "outputs": [
        {
          "output_type": "execute_result",
          "data": {
            "text/html": [
              "<div>\n",
              "<style>\n",
              "    .dataframe thead tr:only-child th {\n",
              "        text-align: right;\n",
              "    }\n",
              "\n",
              "    .dataframe thead th {\n",
              "        text-align: left;\n",
              "    }\n",
              "\n",
              "    .dataframe tbody tr th {\n",
              "        vertical-align: top;\n",
              "    }\n",
              "</style>\n",
              "<table border=\"1\" class=\"dataframe\">\n",
              "  <thead>\n",
              "    <tr style=\"text-align: right;\">\n",
              "      <th></th>\n",
              "      <th>key</th>\n",
              "      <th>rval</th>\n",
              "    </tr>\n",
              "  </thead>\n",
              "  <tbody>\n",
              "    <tr>\n",
              "      <th>0</th>\n",
              "      <td>foo</td>\n",
              "      <td>4</td>\n",
              "    </tr>\n",
              "    <tr>\n",
              "      <th>1</th>\n",
              "      <td>bar</td>\n",
              "      <td>5</td>\n",
              "    </tr>\n",
              "  </tbody>\n",
              "</table>\n",
              "</div>"
            ],
            "text/plain": [
              "   key  rval\n",
              "0  foo     4\n",
              "1  bar     5"
            ]
          },
          "metadata": {
            "tags": []
          },
          "execution_count": 83
        }
      ]
    },
    {
      "cell_type": "code",
      "metadata": {
        "id": "pAe65wDiOyWf",
        "colab_type": "code",
        "colab": {},
        "outputId": "f212f90c-d9c7-4350-a9eb-928c9f6dd0ba"
      },
      "source": [
        "pd.merge(left, right, on='key')"
      ],
      "execution_count": null,
      "outputs": [
        {
          "output_type": "execute_result",
          "data": {
            "text/html": [
              "<div>\n",
              "<style>\n",
              "    .dataframe thead tr:only-child th {\n",
              "        text-align: right;\n",
              "    }\n",
              "\n",
              "    .dataframe thead th {\n",
              "        text-align: left;\n",
              "    }\n",
              "\n",
              "    .dataframe tbody tr th {\n",
              "        vertical-align: top;\n",
              "    }\n",
              "</style>\n",
              "<table border=\"1\" class=\"dataframe\">\n",
              "  <thead>\n",
              "    <tr style=\"text-align: right;\">\n",
              "      <th></th>\n",
              "      <th>key</th>\n",
              "      <th>lval</th>\n",
              "      <th>rval</th>\n",
              "    </tr>\n",
              "  </thead>\n",
              "  <tbody>\n",
              "    <tr>\n",
              "      <th>0</th>\n",
              "      <td>foo</td>\n",
              "      <td>1</td>\n",
              "      <td>4</td>\n",
              "    </tr>\n",
              "    <tr>\n",
              "      <th>1</th>\n",
              "      <td>bar</td>\n",
              "      <td>2</td>\n",
              "      <td>5</td>\n",
              "    </tr>\n",
              "  </tbody>\n",
              "</table>\n",
              "</div>"
            ],
            "text/plain": [
              "   key  lval  rval\n",
              "0  foo     1     4\n",
              "1  bar     2     5"
            ]
          },
          "metadata": {
            "tags": []
          },
          "execution_count": 84
        }
      ]
    },
    {
      "cell_type": "code",
      "metadata": {
        "id": "4sv9rIucOyWg",
        "colab_type": "code",
        "colab": {}
      },
      "source": [
        "?pd.merge"
      ],
      "execution_count": null,
      "outputs": []
    },
    {
      "cell_type": "markdown",
      "metadata": {
        "id": "O9ueNm2oOyWi",
        "colab_type": "text"
      },
      "source": [
        "### Append"
      ]
    },
    {
      "cell_type": "markdown",
      "metadata": {
        "id": "lNxj3axZOyWi",
        "colab_type": "text"
      },
      "source": [
        "\n",
        "Append rows to a dataframe. See the [Appending](http://pandas.pydata.org/pandas-docs/stable/merging.html#merging-concatenation)"
      ]
    },
    {
      "cell_type": "code",
      "metadata": {
        "id": "j1PFwrSGOyWi",
        "colab_type": "code",
        "colab": {}
      },
      "source": [
        "import pandas as pd\n",
        "import numpy as np\n",
        "df = pd.DataFrame(np.random.randn(8, 4), columns=['A','B','C','D'])"
      ],
      "execution_count": null,
      "outputs": []
    },
    {
      "cell_type": "code",
      "metadata": {
        "id": "wdLJIF2JOyWk",
        "colab_type": "code",
        "colab": {},
        "outputId": "3845f3f5-e78d-41d0-fe32-4260db9b81dd"
      },
      "source": [
        "df"
      ],
      "execution_count": null,
      "outputs": [
        {
          "output_type": "execute_result",
          "data": {
            "text/html": [
              "<div>\n",
              "<style>\n",
              "    .dataframe thead tr:only-child th {\n",
              "        text-align: right;\n",
              "    }\n",
              "\n",
              "    .dataframe thead th {\n",
              "        text-align: left;\n",
              "    }\n",
              "\n",
              "    .dataframe tbody tr th {\n",
              "        vertical-align: top;\n",
              "    }\n",
              "</style>\n",
              "<table border=\"1\" class=\"dataframe\">\n",
              "  <thead>\n",
              "    <tr style=\"text-align: right;\">\n",
              "      <th></th>\n",
              "      <th>A</th>\n",
              "      <th>B</th>\n",
              "      <th>C</th>\n",
              "      <th>D</th>\n",
              "    </tr>\n",
              "  </thead>\n",
              "  <tbody>\n",
              "    <tr>\n",
              "      <th>0</th>\n",
              "      <td>-0.050969</td>\n",
              "      <td>-0.230839</td>\n",
              "      <td>0.587465</td>\n",
              "      <td>0.119463</td>\n",
              "    </tr>\n",
              "    <tr>\n",
              "      <th>1</th>\n",
              "      <td>-0.650235</td>\n",
              "      <td>0.693693</td>\n",
              "      <td>0.669976</td>\n",
              "      <td>-1.093893</td>\n",
              "    </tr>\n",
              "    <tr>\n",
              "      <th>2</th>\n",
              "      <td>1.191912</td>\n",
              "      <td>-0.719873</td>\n",
              "      <td>0.449083</td>\n",
              "      <td>-0.310600</td>\n",
              "    </tr>\n",
              "    <tr>\n",
              "      <th>3</th>\n",
              "      <td>1.026465</td>\n",
              "      <td>1.142196</td>\n",
              "      <td>-0.162748</td>\n",
              "      <td>-0.828337</td>\n",
              "    </tr>\n",
              "    <tr>\n",
              "      <th>4</th>\n",
              "      <td>1.008653</td>\n",
              "      <td>0.356559</td>\n",
              "      <td>-1.528269</td>\n",
              "      <td>1.123334</td>\n",
              "    </tr>\n",
              "    <tr>\n",
              "      <th>5</th>\n",
              "      <td>-0.016790</td>\n",
              "      <td>-1.208461</td>\n",
              "      <td>0.750253</td>\n",
              "      <td>0.569110</td>\n",
              "    </tr>\n",
              "    <tr>\n",
              "      <th>6</th>\n",
              "      <td>-1.942585</td>\n",
              "      <td>0.508046</td>\n",
              "      <td>-1.141188</td>\n",
              "      <td>0.825953</td>\n",
              "    </tr>\n",
              "    <tr>\n",
              "      <th>7</th>\n",
              "      <td>-0.963863</td>\n",
              "      <td>0.148196</td>\n",
              "      <td>-0.100454</td>\n",
              "      <td>-2.589276</td>\n",
              "    </tr>\n",
              "  </tbody>\n",
              "</table>\n",
              "</div>"
            ],
            "text/plain": [
              "          A         B         C         D\n",
              "0 -0.050969 -0.230839  0.587465  0.119463\n",
              "1 -0.650235  0.693693  0.669976 -1.093893\n",
              "2  1.191912 -0.719873  0.449083 -0.310600\n",
              "3  1.026465  1.142196 -0.162748 -0.828337\n",
              "4  1.008653  0.356559 -1.528269  1.123334\n",
              "5 -0.016790 -1.208461  0.750253  0.569110\n",
              "6 -1.942585  0.508046 -1.141188  0.825953\n",
              "7 -0.963863  0.148196 -0.100454 -2.589276"
            ]
          },
          "metadata": {
            "tags": []
          },
          "execution_count": 13
        }
      ]
    },
    {
      "cell_type": "code",
      "metadata": {
        "id": "8RpYD_qBOyWl",
        "colab_type": "code",
        "colab": {}
      },
      "source": [
        "s = df.iloc[3]"
      ],
      "execution_count": null,
      "outputs": []
    },
    {
      "cell_type": "code",
      "metadata": {
        "id": "c3YZaIRtOyWm",
        "colab_type": "code",
        "colab": {},
        "outputId": "d0fa9099-3bba-43b7-eea1-66dfccee9993"
      },
      "source": [
        "s"
      ],
      "execution_count": null,
      "outputs": [
        {
          "output_type": "execute_result",
          "data": {
            "text/plain": [
              "A    1.026465\n",
              "B    1.142196\n",
              "C   -0.162748\n",
              "D   -0.828337\n",
              "Name: 3, dtype: float64"
            ]
          },
          "metadata": {
            "tags": []
          },
          "execution_count": 18
        }
      ]
    },
    {
      "cell_type": "code",
      "metadata": {
        "scrolled": true,
        "id": "r3AunKAmOyWn",
        "colab_type": "code",
        "colab": {},
        "outputId": "a68ea93c-1762-4b0a-ece5-74fabd6a0f25"
      },
      "source": [
        "df=df.append(s, ignore_index=False)\n",
        "df"
      ],
      "execution_count": null,
      "outputs": [
        {
          "output_type": "execute_result",
          "data": {
            "text/html": [
              "<div>\n",
              "<style>\n",
              "    .dataframe thead tr:only-child th {\n",
              "        text-align: right;\n",
              "    }\n",
              "\n",
              "    .dataframe thead th {\n",
              "        text-align: left;\n",
              "    }\n",
              "\n",
              "    .dataframe tbody tr th {\n",
              "        vertical-align: top;\n",
              "    }\n",
              "</style>\n",
              "<table border=\"1\" class=\"dataframe\">\n",
              "  <thead>\n",
              "    <tr style=\"text-align: right;\">\n",
              "      <th></th>\n",
              "      <th>A</th>\n",
              "      <th>B</th>\n",
              "      <th>C</th>\n",
              "      <th>D</th>\n",
              "    </tr>\n",
              "  </thead>\n",
              "  <tbody>\n",
              "    <tr>\n",
              "      <th>0</th>\n",
              "      <td>-0.050969</td>\n",
              "      <td>-0.230839</td>\n",
              "      <td>0.587465</td>\n",
              "      <td>0.119463</td>\n",
              "    </tr>\n",
              "    <tr>\n",
              "      <th>1</th>\n",
              "      <td>-0.650235</td>\n",
              "      <td>0.693693</td>\n",
              "      <td>0.669976</td>\n",
              "      <td>-1.093893</td>\n",
              "    </tr>\n",
              "    <tr>\n",
              "      <th>2</th>\n",
              "      <td>1.191912</td>\n",
              "      <td>-0.719873</td>\n",
              "      <td>0.449083</td>\n",
              "      <td>-0.310600</td>\n",
              "    </tr>\n",
              "    <tr>\n",
              "      <th>3</th>\n",
              "      <td>1.026465</td>\n",
              "      <td>1.142196</td>\n",
              "      <td>-0.162748</td>\n",
              "      <td>-0.828337</td>\n",
              "    </tr>\n",
              "    <tr>\n",
              "      <th>4</th>\n",
              "      <td>1.008653</td>\n",
              "      <td>0.356559</td>\n",
              "      <td>-1.528269</td>\n",
              "      <td>1.123334</td>\n",
              "    </tr>\n",
              "    <tr>\n",
              "      <th>5</th>\n",
              "      <td>-0.016790</td>\n",
              "      <td>-1.208461</td>\n",
              "      <td>0.750253</td>\n",
              "      <td>0.569110</td>\n",
              "    </tr>\n",
              "    <tr>\n",
              "      <th>6</th>\n",
              "      <td>-1.942585</td>\n",
              "      <td>0.508046</td>\n",
              "      <td>-1.141188</td>\n",
              "      <td>0.825953</td>\n",
              "    </tr>\n",
              "    <tr>\n",
              "      <th>7</th>\n",
              "      <td>-0.963863</td>\n",
              "      <td>0.148196</td>\n",
              "      <td>-0.100454</td>\n",
              "      <td>-2.589276</td>\n",
              "    </tr>\n",
              "    <tr>\n",
              "      <th>8</th>\n",
              "      <td>1.026465</td>\n",
              "      <td>1.142196</td>\n",
              "      <td>-0.162748</td>\n",
              "      <td>-0.828337</td>\n",
              "    </tr>\n",
              "    <tr>\n",
              "      <th>9</th>\n",
              "      <td>1.026465</td>\n",
              "      <td>1.142196</td>\n",
              "      <td>-0.162748</td>\n",
              "      <td>-0.828337</td>\n",
              "    </tr>\n",
              "    <tr>\n",
              "      <th>3</th>\n",
              "      <td>1.026465</td>\n",
              "      <td>1.142196</td>\n",
              "      <td>-0.162748</td>\n",
              "      <td>-0.828337</td>\n",
              "    </tr>\n",
              "    <tr>\n",
              "      <th>3</th>\n",
              "      <td>1.026465</td>\n",
              "      <td>1.142196</td>\n",
              "      <td>-0.162748</td>\n",
              "      <td>-0.828337</td>\n",
              "    </tr>\n",
              "  </tbody>\n",
              "</table>\n",
              "</div>"
            ],
            "text/plain": [
              "          A         B         C         D\n",
              "0 -0.050969 -0.230839  0.587465  0.119463\n",
              "1 -0.650235  0.693693  0.669976 -1.093893\n",
              "2  1.191912 -0.719873  0.449083 -0.310600\n",
              "3  1.026465  1.142196 -0.162748 -0.828337\n",
              "4  1.008653  0.356559 -1.528269  1.123334\n",
              "5 -0.016790 -1.208461  0.750253  0.569110\n",
              "6 -1.942585  0.508046 -1.141188  0.825953\n",
              "7 -0.963863  0.148196 -0.100454 -2.589276\n",
              "8  1.026465  1.142196 -0.162748 -0.828337\n",
              "9  1.026465  1.142196 -0.162748 -0.828337\n",
              "3  1.026465  1.142196 -0.162748 -0.828337\n",
              "3  1.026465  1.142196 -0.162748 -0.828337"
            ]
          },
          "metadata": {
            "tags": []
          },
          "execution_count": 26
        }
      ]
    },
    {
      "cell_type": "code",
      "metadata": {
        "id": "nkmpiQh4OyWo",
        "colab_type": "code",
        "colab": {},
        "outputId": "9e5c016c-8228-441a-c239-da79b1aad515"
      },
      "source": [
        "df"
      ],
      "execution_count": null,
      "outputs": [
        {
          "output_type": "execute_result",
          "data": {
            "text/html": [
              "<div>\n",
              "<style>\n",
              "    .dataframe thead tr:only-child th {\n",
              "        text-align: right;\n",
              "    }\n",
              "\n",
              "    .dataframe thead th {\n",
              "        text-align: left;\n",
              "    }\n",
              "\n",
              "    .dataframe tbody tr th {\n",
              "        vertical-align: top;\n",
              "    }\n",
              "</style>\n",
              "<table border=\"1\" class=\"dataframe\">\n",
              "  <thead>\n",
              "    <tr style=\"text-align: right;\">\n",
              "      <th></th>\n",
              "      <th>A</th>\n",
              "      <th>B</th>\n",
              "      <th>C</th>\n",
              "      <th>D</th>\n",
              "    </tr>\n",
              "  </thead>\n",
              "  <tbody>\n",
              "    <tr>\n",
              "      <th>0</th>\n",
              "      <td>-0.050969</td>\n",
              "      <td>-0.230839</td>\n",
              "      <td>0.587465</td>\n",
              "      <td>0.119463</td>\n",
              "    </tr>\n",
              "    <tr>\n",
              "      <th>1</th>\n",
              "      <td>-0.650235</td>\n",
              "      <td>0.693693</td>\n",
              "      <td>0.669976</td>\n",
              "      <td>-1.093893</td>\n",
              "    </tr>\n",
              "    <tr>\n",
              "      <th>2</th>\n",
              "      <td>1.191912</td>\n",
              "      <td>-0.719873</td>\n",
              "      <td>0.449083</td>\n",
              "      <td>-0.310600</td>\n",
              "    </tr>\n",
              "    <tr>\n",
              "      <th>3</th>\n",
              "      <td>1.026465</td>\n",
              "      <td>1.142196</td>\n",
              "      <td>-0.162748</td>\n",
              "      <td>-0.828337</td>\n",
              "    </tr>\n",
              "    <tr>\n",
              "      <th>4</th>\n",
              "      <td>1.008653</td>\n",
              "      <td>0.356559</td>\n",
              "      <td>-1.528269</td>\n",
              "      <td>1.123334</td>\n",
              "    </tr>\n",
              "    <tr>\n",
              "      <th>5</th>\n",
              "      <td>-0.016790</td>\n",
              "      <td>-1.208461</td>\n",
              "      <td>0.750253</td>\n",
              "      <td>0.569110</td>\n",
              "    </tr>\n",
              "    <tr>\n",
              "      <th>6</th>\n",
              "      <td>-1.942585</td>\n",
              "      <td>0.508046</td>\n",
              "      <td>-1.141188</td>\n",
              "      <td>0.825953</td>\n",
              "    </tr>\n",
              "    <tr>\n",
              "      <th>7</th>\n",
              "      <td>-0.963863</td>\n",
              "      <td>0.148196</td>\n",
              "      <td>-0.100454</td>\n",
              "      <td>-2.589276</td>\n",
              "    </tr>\n",
              "  </tbody>\n",
              "</table>\n",
              "</div>"
            ],
            "text/plain": [
              "          A         B         C         D\n",
              "0 -0.050969 -0.230839  0.587465  0.119463\n",
              "1 -0.650235  0.693693  0.669976 -1.093893\n",
              "2  1.191912 -0.719873  0.449083 -0.310600\n",
              "3  1.026465  1.142196 -0.162748 -0.828337\n",
              "4  1.008653  0.356559 -1.528269  1.123334\n",
              "5 -0.016790 -1.208461  0.750253  0.569110\n",
              "6 -1.942585  0.508046 -1.141188  0.825953\n",
              "7 -0.963863  0.148196 -0.100454 -2.589276"
            ]
          },
          "metadata": {
            "tags": []
          },
          "execution_count": 22
        }
      ]
    },
    {
      "cell_type": "markdown",
      "metadata": {
        "id": "m8SPwdefOyWq",
        "colab_type": "text"
      },
      "source": [
        "## Grouping"
      ]
    },
    {
      "cell_type": "markdown",
      "metadata": {
        "id": "7lmIp5D2OyWq",
        "colab_type": "text"
      },
      "source": [
        "By “group by” we are referring to a process involving one or more of the following steps\n",
        "\n",
        " * **Splitting** the data into groups based on some criteria\n",
        " * **Applying** a function to each group independently\n",
        " * **Combining** the results into a data structure\n",
        "\n",
        "See the [Grouping section](http://pandas.pydata.org/pandas-docs/stable/groupby.html#groupby)"
      ]
    },
    {
      "cell_type": "code",
      "metadata": {
        "id": "l0ofWN14OyWq",
        "colab_type": "code",
        "colab": {}
      },
      "source": [
        "df = pd.DataFrame({'A' : ['foo', 'bar', 'foo', 'bar',\n",
        "                          'foo', 'bar', 'foo', 'foo'],\n",
        "                   'B' : ['one', 'one', 'two', 'three',\n",
        "                          'two', 'two', 'one', 'three'],\n",
        "                   'C' : np.random.randn(8),\n",
        "                   'D' : np.random.randn(8)})"
      ],
      "execution_count": null,
      "outputs": []
    },
    {
      "cell_type": "code",
      "metadata": {
        "id": "u-yDcRqLOyWs",
        "colab_type": "code",
        "colab": {},
        "outputId": "c680ca8b-8b07-426f-b40d-1a3f91a524bc"
      },
      "source": [
        "df"
      ],
      "execution_count": null,
      "outputs": [
        {
          "output_type": "execute_result",
          "data": {
            "text/html": [
              "<div>\n",
              "<style>\n",
              "    .dataframe thead tr:only-child th {\n",
              "        text-align: right;\n",
              "    }\n",
              "\n",
              "    .dataframe thead th {\n",
              "        text-align: left;\n",
              "    }\n",
              "\n",
              "    .dataframe tbody tr th {\n",
              "        vertical-align: top;\n",
              "    }\n",
              "</style>\n",
              "<table border=\"1\" class=\"dataframe\">\n",
              "  <thead>\n",
              "    <tr style=\"text-align: right;\">\n",
              "      <th></th>\n",
              "      <th>A</th>\n",
              "      <th>B</th>\n",
              "      <th>C</th>\n",
              "      <th>D</th>\n",
              "    </tr>\n",
              "  </thead>\n",
              "  <tbody>\n",
              "    <tr>\n",
              "      <th>0</th>\n",
              "      <td>foo</td>\n",
              "      <td>one</td>\n",
              "      <td>0.061861</td>\n",
              "      <td>0.780983</td>\n",
              "    </tr>\n",
              "    <tr>\n",
              "      <th>1</th>\n",
              "      <td>bar</td>\n",
              "      <td>one</td>\n",
              "      <td>0.996212</td>\n",
              "      <td>0.957314</td>\n",
              "    </tr>\n",
              "    <tr>\n",
              "      <th>2</th>\n",
              "      <td>foo</td>\n",
              "      <td>two</td>\n",
              "      <td>-0.478911</td>\n",
              "      <td>-1.242836</td>\n",
              "    </tr>\n",
              "    <tr>\n",
              "      <th>3</th>\n",
              "      <td>bar</td>\n",
              "      <td>three</td>\n",
              "      <td>0.789902</td>\n",
              "      <td>0.113690</td>\n",
              "    </tr>\n",
              "    <tr>\n",
              "      <th>4</th>\n",
              "      <td>foo</td>\n",
              "      <td>two</td>\n",
              "      <td>2.116625</td>\n",
              "      <td>0.200766</td>\n",
              "    </tr>\n",
              "    <tr>\n",
              "      <th>5</th>\n",
              "      <td>bar</td>\n",
              "      <td>two</td>\n",
              "      <td>-1.141650</td>\n",
              "      <td>0.109027</td>\n",
              "    </tr>\n",
              "    <tr>\n",
              "      <th>6</th>\n",
              "      <td>foo</td>\n",
              "      <td>one</td>\n",
              "      <td>-0.308300</td>\n",
              "      <td>-0.245292</td>\n",
              "    </tr>\n",
              "    <tr>\n",
              "      <th>7</th>\n",
              "      <td>foo</td>\n",
              "      <td>three</td>\n",
              "      <td>0.008658</td>\n",
              "      <td>1.062505</td>\n",
              "    </tr>\n",
              "  </tbody>\n",
              "</table>\n",
              "</div>"
            ],
            "text/plain": [
              "     A      B         C         D\n",
              "0  foo    one  0.061861  0.780983\n",
              "1  bar    one  0.996212  0.957314\n",
              "2  foo    two -0.478911 -1.242836\n",
              "3  bar  three  0.789902  0.113690\n",
              "4  foo    two  2.116625  0.200766\n",
              "5  bar    two -1.141650  0.109027\n",
              "6  foo    one -0.308300 -0.245292\n",
              "7  foo  three  0.008658  1.062505"
            ]
          },
          "metadata": {
            "tags": []
          },
          "execution_count": 28
        }
      ]
    },
    {
      "cell_type": "markdown",
      "metadata": {
        "id": "Ft2VUfL8OyWt",
        "colab_type": "text"
      },
      "source": [
        "Grouping and then applying a function `sum` to the resulting groups."
      ]
    },
    {
      "cell_type": "code",
      "metadata": {
        "id": "Emqe9XD7OyWt",
        "colab_type": "code",
        "colab": {},
        "outputId": "f10a738e-3d13-4dc1-d3b1-0232eac2d195"
      },
      "source": [
        "df.groupby('A').sum()"
      ],
      "execution_count": null,
      "outputs": [
        {
          "output_type": "execute_result",
          "data": {
            "text/html": [
              "<div>\n",
              "<style>\n",
              "    .dataframe thead tr:only-child th {\n",
              "        text-align: right;\n",
              "    }\n",
              "\n",
              "    .dataframe thead th {\n",
              "        text-align: left;\n",
              "    }\n",
              "\n",
              "    .dataframe tbody tr th {\n",
              "        vertical-align: top;\n",
              "    }\n",
              "</style>\n",
              "<table border=\"1\" class=\"dataframe\">\n",
              "  <thead>\n",
              "    <tr style=\"text-align: right;\">\n",
              "      <th></th>\n",
              "      <th>C</th>\n",
              "      <th>D</th>\n",
              "    </tr>\n",
              "    <tr>\n",
              "      <th>A</th>\n",
              "      <th></th>\n",
              "      <th></th>\n",
              "    </tr>\n",
              "  </thead>\n",
              "  <tbody>\n",
              "    <tr>\n",
              "      <th>bar</th>\n",
              "      <td>0.644464</td>\n",
              "      <td>1.180031</td>\n",
              "    </tr>\n",
              "    <tr>\n",
              "      <th>foo</th>\n",
              "      <td>1.399933</td>\n",
              "      <td>0.556126</td>\n",
              "    </tr>\n",
              "  </tbody>\n",
              "</table>\n",
              "</div>"
            ],
            "text/plain": [
              "            C         D\n",
              "A                      \n",
              "bar  0.644464  1.180031\n",
              "foo  1.399933  0.556126"
            ]
          },
          "metadata": {
            "tags": []
          },
          "execution_count": 29
        }
      ]
    },
    {
      "cell_type": "markdown",
      "metadata": {
        "id": "NjyDA5t9OyWu",
        "colab_type": "text"
      },
      "source": [
        "Grouping by multiple columns forms a hierarchical index, which we then apply the function."
      ]
    },
    {
      "cell_type": "code",
      "metadata": {
        "id": "mkqnq-fZOyWv",
        "colab_type": "code",
        "colab": {},
        "outputId": "bc89fb3a-d770-4e7a-b38e-ec7f041ae2df"
      },
      "source": [
        "df.groupby(['A','B']).sum()"
      ],
      "execution_count": null,
      "outputs": [
        {
          "output_type": "execute_result",
          "data": {
            "text/html": [
              "<div>\n",
              "<style>\n",
              "    .dataframe thead tr:only-child th {\n",
              "        text-align: right;\n",
              "    }\n",
              "\n",
              "    .dataframe thead th {\n",
              "        text-align: left;\n",
              "    }\n",
              "\n",
              "    .dataframe tbody tr th {\n",
              "        vertical-align: top;\n",
              "    }\n",
              "</style>\n",
              "<table border=\"1\" class=\"dataframe\">\n",
              "  <thead>\n",
              "    <tr style=\"text-align: right;\">\n",
              "      <th></th>\n",
              "      <th></th>\n",
              "      <th>C</th>\n",
              "      <th>D</th>\n",
              "    </tr>\n",
              "    <tr>\n",
              "      <th>A</th>\n",
              "      <th>B</th>\n",
              "      <th></th>\n",
              "      <th></th>\n",
              "    </tr>\n",
              "  </thead>\n",
              "  <tbody>\n",
              "    <tr>\n",
              "      <th rowspan=\"3\" valign=\"top\">bar</th>\n",
              "      <th>one</th>\n",
              "      <td>0.996212</td>\n",
              "      <td>0.957314</td>\n",
              "    </tr>\n",
              "    <tr>\n",
              "      <th>three</th>\n",
              "      <td>0.789902</td>\n",
              "      <td>0.113690</td>\n",
              "    </tr>\n",
              "    <tr>\n",
              "      <th>two</th>\n",
              "      <td>-1.141650</td>\n",
              "      <td>0.109027</td>\n",
              "    </tr>\n",
              "    <tr>\n",
              "      <th rowspan=\"3\" valign=\"top\">foo</th>\n",
              "      <th>one</th>\n",
              "      <td>-0.246439</td>\n",
              "      <td>0.535691</td>\n",
              "    </tr>\n",
              "    <tr>\n",
              "      <th>three</th>\n",
              "      <td>0.008658</td>\n",
              "      <td>1.062505</td>\n",
              "    </tr>\n",
              "    <tr>\n",
              "      <th>two</th>\n",
              "      <td>1.637714</td>\n",
              "      <td>-1.042070</td>\n",
              "    </tr>\n",
              "  </tbody>\n",
              "</table>\n",
              "</div>"
            ],
            "text/plain": [
              "                  C         D\n",
              "A   B                        \n",
              "bar one    0.996212  0.957314\n",
              "    three  0.789902  0.113690\n",
              "    two   -1.141650  0.109027\n",
              "foo one   -0.246439  0.535691\n",
              "    three  0.008658  1.062505\n",
              "    two    1.637714 -1.042070"
            ]
          },
          "metadata": {
            "tags": []
          },
          "execution_count": 32
        }
      ]
    },
    {
      "cell_type": "markdown",
      "metadata": {
        "id": "rAmb2kqLOyWw",
        "colab_type": "text"
      },
      "source": [
        "## Reshaping"
      ]
    },
    {
      "cell_type": "markdown",
      "metadata": {
        "id": "tZkdqBr7OyWw",
        "colab_type": "text"
      },
      "source": [
        "(a) Hierarchical indexing (MultiIndex)\n",
        "\n",
        "Hierarchical / Multi-level indexing is very exciting as it opens the door to some quite sophisticated data analysis and manipulation, especially for working with higher dimensional data. In essence, it enables in storing and manipulating data with an arbitrary number of dimensions in lower dimensional data structures like Series (1d) and DataFrame (2d).\n",
        "\n",
        "In this section, we will see what “hierarchical” indexing is and how it integrates with all of the pandas indexing functionality described above and in prior sections. \n",
        "\n",
        "\n",
        "(b) Reshaping by stacking and unstacking\n",
        "\n",
        "Closely related to the pivot function are the related stack and unstack functions currently available on Series and DataFrame. These functions are designed to work together with MultiIndex objects. Here are essentially what these functions do:\n",
        "\n",
        "        (1) stack: “pivot” a level of the (possibly hierarchical) column labels, returning a DataFrame with an index with a new inner-most level of row labels.\n",
        "        (2) unstack: inverse operation from stack: “pivot” a level of the (possibly hierarchical) row index to the column axis, producing a reshaped DataFrame with a new inner-most level of column labels.\n",
        "\n"
      ]
    },
    {
      "cell_type": "markdown",
      "metadata": {
        "id": "oLdKbv2OOyWw",
        "colab_type": "text"
      },
      "source": [
        "### Stack"
      ]
    },
    {
      "cell_type": "code",
      "metadata": {
        "id": "Rwo25gcYOyWw",
        "colab_type": "code",
        "colab": {}
      },
      "source": [
        "tuples = list(zip(*[['bar', 'bar', 'baz', 'baz',\n",
        "                     'foo', 'foo', 'qux', 'qux'],\n",
        "                    ['one', 'two', 'one', 'two',\n",
        "                     'one', 'two', 'one', 'two']]))"
      ],
      "execution_count": null,
      "outputs": []
    },
    {
      "cell_type": "code",
      "metadata": {
        "id": "hHKZgtVnOyWy",
        "colab_type": "code",
        "colab": {},
        "outputId": "02f0a350-da0a-440d-faba-107e93b074df"
      },
      "source": [
        "#import pandas as pd\n",
        "tuples"
      ],
      "execution_count": null,
      "outputs": [
        {
          "output_type": "execute_result",
          "data": {
            "text/plain": [
              "[('bar', 'one'),\n",
              " ('bar', 'two'),\n",
              " ('baz', 'one'),\n",
              " ('baz', 'two'),\n",
              " ('foo', 'one'),\n",
              " ('foo', 'two'),\n",
              " ('qux', 'one'),\n",
              " ('qux', 'two')]"
            ]
          },
          "metadata": {
            "tags": []
          },
          "execution_count": 38
        }
      ]
    },
    {
      "cell_type": "code",
      "metadata": {
        "id": "fnEsjfRhOyWz",
        "colab_type": "code",
        "colab": {}
      },
      "source": [
        "index = pd.MultiIndex.from_tuples(tuples, names=['first', 'second'])"
      ],
      "execution_count": null,
      "outputs": []
    },
    {
      "cell_type": "code",
      "metadata": {
        "id": "PiplA782OyW1",
        "colab_type": "code",
        "colab": {}
      },
      "source": [
        "?pd.MultiIndex"
      ],
      "execution_count": null,
      "outputs": []
    },
    {
      "cell_type": "code",
      "metadata": {
        "id": "4xTabcqhOyW2",
        "colab_type": "code",
        "colab": {},
        "outputId": "c939258d-f395-4114-821b-bf437e9b3e0f"
      },
      "source": [
        "#import numpy as np\n",
        "index"
      ],
      "execution_count": null,
      "outputs": [
        {
          "output_type": "execute_result",
          "data": {
            "text/plain": [
              "MultiIndex(levels=[['bar', 'baz', 'foo', 'qux'], ['one', 'two']],\n",
              "           labels=[[0, 0, 1, 1, 2, 2, 3, 3], [0, 1, 0, 1, 0, 1, 0, 1]],\n",
              "           names=['first', 'second'])"
            ]
          },
          "metadata": {
            "tags": []
          },
          "execution_count": 52
        }
      ]
    },
    {
      "cell_type": "code",
      "metadata": {
        "id": "HehoGByeOyW3",
        "colab_type": "code",
        "colab": {},
        "outputId": "9d6ba87d-f777-4764-ba12-be8822b97b0d"
      },
      "source": [
        "df = pd.DataFrame(np.random.randn(8, 2), index=index, columns=['A', 'B'])\n",
        "df"
      ],
      "execution_count": null,
      "outputs": [
        {
          "output_type": "execute_result",
          "data": {
            "text/html": [
              "<div>\n",
              "<style>\n",
              "    .dataframe thead tr:only-child th {\n",
              "        text-align: right;\n",
              "    }\n",
              "\n",
              "    .dataframe thead th {\n",
              "        text-align: left;\n",
              "    }\n",
              "\n",
              "    .dataframe tbody tr th {\n",
              "        vertical-align: top;\n",
              "    }\n",
              "</style>\n",
              "<table border=\"1\" class=\"dataframe\">\n",
              "  <thead>\n",
              "    <tr style=\"text-align: right;\">\n",
              "      <th></th>\n",
              "      <th></th>\n",
              "      <th>A</th>\n",
              "      <th>B</th>\n",
              "    </tr>\n",
              "    <tr>\n",
              "      <th>first</th>\n",
              "      <th>second</th>\n",
              "      <th></th>\n",
              "      <th></th>\n",
              "    </tr>\n",
              "  </thead>\n",
              "  <tbody>\n",
              "    <tr>\n",
              "      <th rowspan=\"2\" valign=\"top\">bar</th>\n",
              "      <th>one</th>\n",
              "      <td>-1.425216</td>\n",
              "      <td>0.095005</td>\n",
              "    </tr>\n",
              "    <tr>\n",
              "      <th>two</th>\n",
              "      <td>0.984996</td>\n",
              "      <td>-0.411228</td>\n",
              "    </tr>\n",
              "    <tr>\n",
              "      <th rowspan=\"2\" valign=\"top\">baz</th>\n",
              "      <th>one</th>\n",
              "      <td>0.875365</td>\n",
              "      <td>0.251576</td>\n",
              "    </tr>\n",
              "    <tr>\n",
              "      <th>two</th>\n",
              "      <td>1.924422</td>\n",
              "      <td>-0.770440</td>\n",
              "    </tr>\n",
              "    <tr>\n",
              "      <th rowspan=\"2\" valign=\"top\">foo</th>\n",
              "      <th>one</th>\n",
              "      <td>1.024129</td>\n",
              "      <td>0.675890</td>\n",
              "    </tr>\n",
              "    <tr>\n",
              "      <th>two</th>\n",
              "      <td>0.002004</td>\n",
              "      <td>0.747027</td>\n",
              "    </tr>\n",
              "    <tr>\n",
              "      <th rowspan=\"2\" valign=\"top\">qux</th>\n",
              "      <th>one</th>\n",
              "      <td>-0.707409</td>\n",
              "      <td>0.206118</td>\n",
              "    </tr>\n",
              "    <tr>\n",
              "      <th>two</th>\n",
              "      <td>1.449192</td>\n",
              "      <td>0.101318</td>\n",
              "    </tr>\n",
              "  </tbody>\n",
              "</table>\n",
              "</div>"
            ],
            "text/plain": [
              "                     A         B\n",
              "first second                    \n",
              "bar   one    -1.425216  0.095005\n",
              "      two     0.984996 -0.411228\n",
              "baz   one     0.875365  0.251576\n",
              "      two     1.924422 -0.770440\n",
              "foo   one     1.024129  0.675890\n",
              "      two     0.002004  0.747027\n",
              "qux   one    -0.707409  0.206118\n",
              "      two     1.449192  0.101318"
            ]
          },
          "metadata": {
            "tags": []
          },
          "execution_count": 45
        }
      ]
    },
    {
      "cell_type": "code",
      "metadata": {
        "id": "2bDYBA2wOyW4",
        "colab_type": "code",
        "colab": {}
      },
      "source": [
        "df2 = df[:4]"
      ],
      "execution_count": null,
      "outputs": []
    },
    {
      "cell_type": "code",
      "metadata": {
        "id": "dhra5_1iOyW5",
        "colab_type": "code",
        "colab": {},
        "outputId": "cff5a69d-f074-4264-b1dd-4f628337c6d8"
      },
      "source": [
        "df2"
      ],
      "execution_count": null,
      "outputs": [
        {
          "output_type": "execute_result",
          "data": {
            "text/html": [
              "<div>\n",
              "<style>\n",
              "    .dataframe thead tr:only-child th {\n",
              "        text-align: right;\n",
              "    }\n",
              "\n",
              "    .dataframe thead th {\n",
              "        text-align: left;\n",
              "    }\n",
              "\n",
              "    .dataframe tbody tr th {\n",
              "        vertical-align: top;\n",
              "    }\n",
              "</style>\n",
              "<table border=\"1\" class=\"dataframe\">\n",
              "  <thead>\n",
              "    <tr style=\"text-align: right;\">\n",
              "      <th></th>\n",
              "      <th></th>\n",
              "      <th>A</th>\n",
              "      <th>B</th>\n",
              "    </tr>\n",
              "    <tr>\n",
              "      <th>first</th>\n",
              "      <th>second</th>\n",
              "      <th></th>\n",
              "      <th></th>\n",
              "    </tr>\n",
              "  </thead>\n",
              "  <tbody>\n",
              "    <tr>\n",
              "      <th rowspan=\"2\" valign=\"top\">bar</th>\n",
              "      <th>one</th>\n",
              "      <td>-1.425216</td>\n",
              "      <td>0.095005</td>\n",
              "    </tr>\n",
              "    <tr>\n",
              "      <th>two</th>\n",
              "      <td>0.984996</td>\n",
              "      <td>-0.411228</td>\n",
              "    </tr>\n",
              "    <tr>\n",
              "      <th rowspan=\"2\" valign=\"top\">baz</th>\n",
              "      <th>one</th>\n",
              "      <td>0.875365</td>\n",
              "      <td>0.251576</td>\n",
              "    </tr>\n",
              "    <tr>\n",
              "      <th>two</th>\n",
              "      <td>1.924422</td>\n",
              "      <td>-0.770440</td>\n",
              "    </tr>\n",
              "  </tbody>\n",
              "</table>\n",
              "</div>"
            ],
            "text/plain": [
              "                     A         B\n",
              "first second                    \n",
              "bar   one    -1.425216  0.095005\n",
              "      two     0.984996 -0.411228\n",
              "baz   one     0.875365  0.251576\n",
              "      two     1.924422 -0.770440"
            ]
          },
          "metadata": {
            "tags": []
          },
          "execution_count": 47
        }
      ]
    },
    {
      "cell_type": "markdown",
      "metadata": {
        "id": "ybXvP3iiOyW5",
        "colab_type": "text"
      },
      "source": [
        "The [stack()](http://pandas.pydata.org/pandas-docs/stable/generated/pandas.DataFrame.stack.html#pandas.DataFrame.stack) method “compresses” a level in the DataFrame’s columns."
      ]
    },
    {
      "cell_type": "code",
      "metadata": {
        "id": "7xK2ivqtOyW6",
        "colab_type": "code",
        "colab": {}
      },
      "source": [
        "stacked = df2.stack()"
      ],
      "execution_count": null,
      "outputs": []
    },
    {
      "cell_type": "code",
      "metadata": {
        "id": "7DqBOhOGOyW6",
        "colab_type": "code",
        "colab": {},
        "outputId": "115f6b19-f195-4ec2-fcfa-b4a754716ccb"
      },
      "source": [
        "stacked"
      ],
      "execution_count": null,
      "outputs": [
        {
          "output_type": "execute_result",
          "data": {
            "text/plain": [
              "first  second   \n",
              "bar    one     A   -1.425216\n",
              "               B    0.095005\n",
              "       two     A    0.984996\n",
              "               B   -0.411228\n",
              "baz    one     A    0.875365\n",
              "               B    0.251576\n",
              "       two     A    1.924422\n",
              "               B   -0.770440\n",
              "dtype: float64"
            ]
          },
          "metadata": {
            "tags": []
          },
          "execution_count": 54
        }
      ]
    },
    {
      "cell_type": "markdown",
      "metadata": {
        "id": "y0tpxzzsOyW-",
        "colab_type": "text"
      },
      "source": [
        "With a “stacked” DataFrame or Series (having a `MultiIndex` as the `index`), the inverse operation of [stack()](http://pandas.pydata.org/pandas-docs/stable/generated/pandas.DataFrame.stack.html#pandas.DataFrame.stack) is [unstack()](http://pandas.pydata.org/pandas-docs/stable/generated/pandas.DataFrame.unstack.html#pandas.DataFrame.unstack), which by default unstacks the last level:"
      ]
    },
    {
      "cell_type": "code",
      "metadata": {
        "id": "Cj3bePzROyW-",
        "colab_type": "code",
        "colab": {},
        "outputId": "bb3f2c4c-7875-4e32-8076-09061e7d0666"
      },
      "source": [
        "stacked.unstack()"
      ],
      "execution_count": null,
      "outputs": [
        {
          "output_type": "execute_result",
          "data": {
            "text/html": [
              "<div>\n",
              "<style>\n",
              "    .dataframe thead tr:only-child th {\n",
              "        text-align: right;\n",
              "    }\n",
              "\n",
              "    .dataframe thead th {\n",
              "        text-align: left;\n",
              "    }\n",
              "\n",
              "    .dataframe tbody tr th {\n",
              "        vertical-align: top;\n",
              "    }\n",
              "</style>\n",
              "<table border=\"1\" class=\"dataframe\">\n",
              "  <thead>\n",
              "    <tr style=\"text-align: right;\">\n",
              "      <th></th>\n",
              "      <th></th>\n",
              "      <th>A</th>\n",
              "      <th>B</th>\n",
              "    </tr>\n",
              "    <tr>\n",
              "      <th>first</th>\n",
              "      <th>second</th>\n",
              "      <th></th>\n",
              "      <th></th>\n",
              "    </tr>\n",
              "  </thead>\n",
              "  <tbody>\n",
              "    <tr>\n",
              "      <th rowspan=\"2\" valign=\"top\">bar</th>\n",
              "      <th>one</th>\n",
              "      <td>-1.425216</td>\n",
              "      <td>0.095005</td>\n",
              "    </tr>\n",
              "    <tr>\n",
              "      <th>two</th>\n",
              "      <td>0.984996</td>\n",
              "      <td>-0.411228</td>\n",
              "    </tr>\n",
              "    <tr>\n",
              "      <th rowspan=\"2\" valign=\"top\">baz</th>\n",
              "      <th>one</th>\n",
              "      <td>0.875365</td>\n",
              "      <td>0.251576</td>\n",
              "    </tr>\n",
              "    <tr>\n",
              "      <th>two</th>\n",
              "      <td>1.924422</td>\n",
              "      <td>-0.770440</td>\n",
              "    </tr>\n",
              "  </tbody>\n",
              "</table>\n",
              "</div>"
            ],
            "text/plain": [
              "                     A         B\n",
              "first second                    \n",
              "bar   one    -1.425216  0.095005\n",
              "      two     0.984996 -0.411228\n",
              "baz   one     0.875365  0.251576\n",
              "      two     1.924422 -0.770440"
            ]
          },
          "metadata": {
            "tags": []
          },
          "execution_count": 56
        }
      ]
    },
    {
      "cell_type": "code",
      "metadata": {
        "id": "NsTHzINHOyW_",
        "colab_type": "code",
        "colab": {},
        "outputId": "6b303a54-ab80-4c4e-cdfc-c0ac31b1b5b3"
      },
      "source": [
        "stacked.unstack(1)"
      ],
      "execution_count": null,
      "outputs": [
        {
          "output_type": "execute_result",
          "data": {
            "text/html": [
              "<div>\n",
              "<style>\n",
              "    .dataframe thead tr:only-child th {\n",
              "        text-align: right;\n",
              "    }\n",
              "\n",
              "    .dataframe thead th {\n",
              "        text-align: left;\n",
              "    }\n",
              "\n",
              "    .dataframe tbody tr th {\n",
              "        vertical-align: top;\n",
              "    }\n",
              "</style>\n",
              "<table border=\"1\" class=\"dataframe\">\n",
              "  <thead>\n",
              "    <tr style=\"text-align: right;\">\n",
              "      <th></th>\n",
              "      <th>second</th>\n",
              "      <th>one</th>\n",
              "      <th>two</th>\n",
              "    </tr>\n",
              "    <tr>\n",
              "      <th>first</th>\n",
              "      <th></th>\n",
              "      <th></th>\n",
              "      <th></th>\n",
              "    </tr>\n",
              "  </thead>\n",
              "  <tbody>\n",
              "    <tr>\n",
              "      <th rowspan=\"2\" valign=\"top\">bar</th>\n",
              "      <th>A</th>\n",
              "      <td>1.903801</td>\n",
              "      <td>0.133329</td>\n",
              "    </tr>\n",
              "    <tr>\n",
              "      <th>B</th>\n",
              "      <td>-0.361344</td>\n",
              "      <td>0.097334</td>\n",
              "    </tr>\n",
              "    <tr>\n",
              "      <th rowspan=\"2\" valign=\"top\">baz</th>\n",
              "      <th>A</th>\n",
              "      <td>-0.672019</td>\n",
              "      <td>-0.789218</td>\n",
              "    </tr>\n",
              "    <tr>\n",
              "      <th>B</th>\n",
              "      <td>1.669237</td>\n",
              "      <td>-0.889878</td>\n",
              "    </tr>\n",
              "  </tbody>\n",
              "</table>\n",
              "</div>"
            ],
            "text/plain": [
              "second        one       two\n",
              "first                      \n",
              "bar   A  1.903801  0.133329\n",
              "      B -0.361344  0.097334\n",
              "baz   A -0.672019 -0.789218\n",
              "      B  1.669237 -0.889878"
            ]
          },
          "metadata": {
            "tags": []
          },
          "execution_count": 315
        }
      ]
    },
    {
      "cell_type": "code",
      "metadata": {
        "id": "GpxnBoiIOyXA",
        "colab_type": "code",
        "colab": {},
        "outputId": "cbc0a67d-bebc-42a7-bb86-5b93790463db"
      },
      "source": [
        "stacked.unstack(0)"
      ],
      "execution_count": null,
      "outputs": [
        {
          "output_type": "execute_result",
          "data": {
            "text/html": [
              "<div>\n",
              "<style>\n",
              "    .dataframe thead tr:only-child th {\n",
              "        text-align: right;\n",
              "    }\n",
              "\n",
              "    .dataframe thead th {\n",
              "        text-align: left;\n",
              "    }\n",
              "\n",
              "    .dataframe tbody tr th {\n",
              "        vertical-align: top;\n",
              "    }\n",
              "</style>\n",
              "<table border=\"1\" class=\"dataframe\">\n",
              "  <thead>\n",
              "    <tr style=\"text-align: right;\">\n",
              "      <th></th>\n",
              "      <th>first</th>\n",
              "      <th>bar</th>\n",
              "      <th>baz</th>\n",
              "    </tr>\n",
              "    <tr>\n",
              "      <th>second</th>\n",
              "      <th></th>\n",
              "      <th></th>\n",
              "      <th></th>\n",
              "    </tr>\n",
              "  </thead>\n",
              "  <tbody>\n",
              "    <tr>\n",
              "      <th rowspan=\"2\" valign=\"top\">one</th>\n",
              "      <th>A</th>\n",
              "      <td>-1.425216</td>\n",
              "      <td>0.875365</td>\n",
              "    </tr>\n",
              "    <tr>\n",
              "      <th>B</th>\n",
              "      <td>0.095005</td>\n",
              "      <td>0.251576</td>\n",
              "    </tr>\n",
              "    <tr>\n",
              "      <th rowspan=\"2\" valign=\"top\">two</th>\n",
              "      <th>A</th>\n",
              "      <td>0.984996</td>\n",
              "      <td>1.924422</td>\n",
              "    </tr>\n",
              "    <tr>\n",
              "      <th>B</th>\n",
              "      <td>-0.411228</td>\n",
              "      <td>-0.770440</td>\n",
              "    </tr>\n",
              "  </tbody>\n",
              "</table>\n",
              "</div>"
            ],
            "text/plain": [
              "first          bar       baz\n",
              "second                      \n",
              "one    A -1.425216  0.875365\n",
              "       B  0.095005  0.251576\n",
              "two    A  0.984996  1.924422\n",
              "       B -0.411228 -0.770440"
            ]
          },
          "metadata": {
            "tags": []
          },
          "execution_count": 57
        }
      ]
    },
    {
      "cell_type": "markdown",
      "metadata": {
        "id": "33i6TgBkOyXB",
        "colab_type": "text"
      },
      "source": [
        "### Pivot Tables"
      ]
    },
    {
      "cell_type": "markdown",
      "metadata": {
        "collapsed": true,
        "id": "Kbl7OmFuOyXB",
        "colab_type": "text"
      },
      "source": [
        "Pivot tables\n",
        "\n",
        "While pivot provides general purpose pivoting of DataFrames with various data types (strings, numerics, etc.), Pandas also provides the pivot_table function for pivoting with aggregation of numeric data.\n",
        "\n",
        "The function pandas.pivot_table can be used to create spreadsheet-style pivot tables. See the cookbook for some advanced strategies\n",
        "\n",
        "\n",
        "It takes a number of arguments\n",
        "\n",
        "data: A DataFrame object\n",
        "\n",
        "values: a column or a list of columns to aggregate.\n",
        "\n",
        "index: a column, Grouper, array which has the same length as data, or list of them. Keys to group by on the pivot table index. If an array is passed, it is being used as the same manner as column values.\n",
        "\n",
        "columns: a column, Grouper, array which has the same length as data, or list of them. Keys to group by on the pivot table column. If an array is passed, it is being used as the same manner as column values.\n",
        "\n",
        "aggfunc: function to use for aggregation, defaulting to numpy.mean\n"
      ]
    },
    {
      "cell_type": "code",
      "metadata": {
        "id": "37CaqPGEOyXB",
        "colab_type": "code",
        "colab": {}
      },
      "source": [
        "df = pd.DataFrame({'A' : ['one', 'one', 'two', 'three'] * 3,\n",
        "                   'B' : ['A', 'B', 'C'] * 4,\n",
        "                   'C' : ['foo', 'foo', 'foo', 'bar', 'bar', 'bar'] * 2,\n",
        "                   'D' : np.random.randn(12),\n",
        "                   'E' : np.random.randn(12)})"
      ],
      "execution_count": null,
      "outputs": []
    },
    {
      "cell_type": "code",
      "metadata": {
        "id": "lcWqhn2sOyXC",
        "colab_type": "code",
        "colab": {},
        "outputId": "06ed36e5-448f-4e0d-d0db-3ce0589ff632"
      },
      "source": [
        "df"
      ],
      "execution_count": null,
      "outputs": [
        {
          "output_type": "execute_result",
          "data": {
            "text/html": [
              "<div>\n",
              "<style>\n",
              "    .dataframe thead tr:only-child th {\n",
              "        text-align: right;\n",
              "    }\n",
              "\n",
              "    .dataframe thead th {\n",
              "        text-align: left;\n",
              "    }\n",
              "\n",
              "    .dataframe tbody tr th {\n",
              "        vertical-align: top;\n",
              "    }\n",
              "</style>\n",
              "<table border=\"1\" class=\"dataframe\">\n",
              "  <thead>\n",
              "    <tr style=\"text-align: right;\">\n",
              "      <th></th>\n",
              "      <th>A</th>\n",
              "      <th>B</th>\n",
              "      <th>C</th>\n",
              "      <th>D</th>\n",
              "      <th>E</th>\n",
              "    </tr>\n",
              "  </thead>\n",
              "  <tbody>\n",
              "    <tr>\n",
              "      <th>0</th>\n",
              "      <td>one</td>\n",
              "      <td>A</td>\n",
              "      <td>foo</td>\n",
              "      <td>-0.188370</td>\n",
              "      <td>-2.107173</td>\n",
              "    </tr>\n",
              "    <tr>\n",
              "      <th>1</th>\n",
              "      <td>one</td>\n",
              "      <td>B</td>\n",
              "      <td>foo</td>\n",
              "      <td>-0.549835</td>\n",
              "      <td>0.405292</td>\n",
              "    </tr>\n",
              "    <tr>\n",
              "      <th>2</th>\n",
              "      <td>two</td>\n",
              "      <td>C</td>\n",
              "      <td>foo</td>\n",
              "      <td>0.761894</td>\n",
              "      <td>0.281325</td>\n",
              "    </tr>\n",
              "    <tr>\n",
              "      <th>3</th>\n",
              "      <td>three</td>\n",
              "      <td>A</td>\n",
              "      <td>bar</td>\n",
              "      <td>-1.241787</td>\n",
              "      <td>-1.097825</td>\n",
              "    </tr>\n",
              "    <tr>\n",
              "      <th>4</th>\n",
              "      <td>one</td>\n",
              "      <td>B</td>\n",
              "      <td>bar</td>\n",
              "      <td>0.949345</td>\n",
              "      <td>-0.448089</td>\n",
              "    </tr>\n",
              "    <tr>\n",
              "      <th>5</th>\n",
              "      <td>one</td>\n",
              "      <td>C</td>\n",
              "      <td>bar</td>\n",
              "      <td>0.193920</td>\n",
              "      <td>-1.114379</td>\n",
              "    </tr>\n",
              "    <tr>\n",
              "      <th>6</th>\n",
              "      <td>two</td>\n",
              "      <td>A</td>\n",
              "      <td>foo</td>\n",
              "      <td>-0.106633</td>\n",
              "      <td>0.017669</td>\n",
              "    </tr>\n",
              "    <tr>\n",
              "      <th>7</th>\n",
              "      <td>three</td>\n",
              "      <td>B</td>\n",
              "      <td>foo</td>\n",
              "      <td>-0.241404</td>\n",
              "      <td>0.502581</td>\n",
              "    </tr>\n",
              "    <tr>\n",
              "      <th>8</th>\n",
              "      <td>one</td>\n",
              "      <td>C</td>\n",
              "      <td>foo</td>\n",
              "      <td>-0.808015</td>\n",
              "      <td>-0.297333</td>\n",
              "    </tr>\n",
              "    <tr>\n",
              "      <th>9</th>\n",
              "      <td>one</td>\n",
              "      <td>A</td>\n",
              "      <td>bar</td>\n",
              "      <td>0.634453</td>\n",
              "      <td>0.017315</td>\n",
              "    </tr>\n",
              "    <tr>\n",
              "      <th>10</th>\n",
              "      <td>two</td>\n",
              "      <td>B</td>\n",
              "      <td>bar</td>\n",
              "      <td>-1.454151</td>\n",
              "      <td>-0.861176</td>\n",
              "    </tr>\n",
              "    <tr>\n",
              "      <th>11</th>\n",
              "      <td>three</td>\n",
              "      <td>C</td>\n",
              "      <td>bar</td>\n",
              "      <td>-0.836088</td>\n",
              "      <td>-0.103425</td>\n",
              "    </tr>\n",
              "  </tbody>\n",
              "</table>\n",
              "</div>"
            ],
            "text/plain": [
              "        A  B    C         D         E\n",
              "0     one  A  foo -0.188370 -2.107173\n",
              "1     one  B  foo -0.549835  0.405292\n",
              "2     two  C  foo  0.761894  0.281325\n",
              "3   three  A  bar -1.241787 -1.097825\n",
              "4     one  B  bar  0.949345 -0.448089\n",
              "5     one  C  bar  0.193920 -1.114379\n",
              "6     two  A  foo -0.106633  0.017669\n",
              "7   three  B  foo -0.241404  0.502581\n",
              "8     one  C  foo -0.808015 -0.297333\n",
              "9     one  A  bar  0.634453  0.017315\n",
              "10    two  B  bar -1.454151 -0.861176\n",
              "11  three  C  bar -0.836088 -0.103425"
            ]
          },
          "metadata": {
            "tags": []
          },
          "execution_count": 318
        }
      ]
    },
    {
      "cell_type": "markdown",
      "metadata": {
        "id": "NXFQFmPVOyXD",
        "colab_type": "text"
      },
      "source": [
        "We can produce pivot tables from this data very easily:"
      ]
    },
    {
      "cell_type": "code",
      "metadata": {
        "id": "hN2pqmQ8OyXD",
        "colab_type": "code",
        "colab": {},
        "outputId": "715c8042-e87b-40ed-8c4e-0f9ee2569968"
      },
      "source": [
        "pd.pivot_table(df, values='D', index=['A', 'B'], columns=['C'])"
      ],
      "execution_count": null,
      "outputs": [
        {
          "output_type": "execute_result",
          "data": {
            "text/html": [
              "<div>\n",
              "<style>\n",
              "    .dataframe thead tr:only-child th {\n",
              "        text-align: right;\n",
              "    }\n",
              "\n",
              "    .dataframe thead th {\n",
              "        text-align: left;\n",
              "    }\n",
              "\n",
              "    .dataframe tbody tr th {\n",
              "        vertical-align: top;\n",
              "    }\n",
              "</style>\n",
              "<table border=\"1\" class=\"dataframe\">\n",
              "  <thead>\n",
              "    <tr style=\"text-align: right;\">\n",
              "      <th></th>\n",
              "      <th>C</th>\n",
              "      <th>bar</th>\n",
              "      <th>foo</th>\n",
              "    </tr>\n",
              "    <tr>\n",
              "      <th>A</th>\n",
              "      <th>B</th>\n",
              "      <th></th>\n",
              "      <th></th>\n",
              "    </tr>\n",
              "  </thead>\n",
              "  <tbody>\n",
              "    <tr>\n",
              "      <th rowspan=\"3\" valign=\"top\">one</th>\n",
              "      <th>A</th>\n",
              "      <td>1.955326</td>\n",
              "      <td>-0.871793</td>\n",
              "    </tr>\n",
              "    <tr>\n",
              "      <th>B</th>\n",
              "      <td>0.551127</td>\n",
              "      <td>0.257538</td>\n",
              "    </tr>\n",
              "    <tr>\n",
              "      <th>C</th>\n",
              "      <td>-0.287334</td>\n",
              "      <td>-0.582648</td>\n",
              "    </tr>\n",
              "    <tr>\n",
              "      <th rowspan=\"3\" valign=\"top\">three</th>\n",
              "      <th>A</th>\n",
              "      <td>0.717226</td>\n",
              "      <td>NaN</td>\n",
              "    </tr>\n",
              "    <tr>\n",
              "      <th>B</th>\n",
              "      <td>NaN</td>\n",
              "      <td>1.580430</td>\n",
              "    </tr>\n",
              "    <tr>\n",
              "      <th>C</th>\n",
              "      <td>-0.083479</td>\n",
              "      <td>NaN</td>\n",
              "    </tr>\n",
              "    <tr>\n",
              "      <th rowspan=\"3\" valign=\"top\">two</th>\n",
              "      <th>A</th>\n",
              "      <td>NaN</td>\n",
              "      <td>0.552461</td>\n",
              "    </tr>\n",
              "    <tr>\n",
              "      <th>B</th>\n",
              "      <td>-0.549861</td>\n",
              "      <td>NaN</td>\n",
              "    </tr>\n",
              "    <tr>\n",
              "      <th>C</th>\n",
              "      <td>NaN</td>\n",
              "      <td>-0.675128</td>\n",
              "    </tr>\n",
              "  </tbody>\n",
              "</table>\n",
              "</div>"
            ],
            "text/plain": [
              "C             bar       foo\n",
              "A     B                    \n",
              "one   A  1.955326 -0.871793\n",
              "      B  0.551127  0.257538\n",
              "      C -0.287334 -0.582648\n",
              "three A  0.717226       NaN\n",
              "      B       NaN  1.580430\n",
              "      C -0.083479       NaN\n",
              "two   A       NaN  0.552461\n",
              "      B -0.549861       NaN\n",
              "      C       NaN -0.675128"
            ]
          },
          "metadata": {
            "tags": []
          },
          "execution_count": 64
        }
      ]
    },
    {
      "cell_type": "code",
      "metadata": {
        "id": "svFm3bHVOyXF",
        "colab_type": "code",
        "colab": {}
      },
      "source": [
        "?pd.pivot_table"
      ],
      "execution_count": null,
      "outputs": []
    },
    {
      "cell_type": "markdown",
      "metadata": {
        "id": "C_W-vuogOyXH",
        "colab_type": "text"
      },
      "source": [
        "## Let Us benchmark Pandas performance"
      ]
    },
    {
      "cell_type": "code",
      "metadata": {
        "id": "Huq8vsbcOyXH",
        "colab_type": "code",
        "colab": {},
        "outputId": "c68abfc7-cd14-4610-c89f-4b12cdd4e4ba"
      },
      "source": [
        "#this creates a big series of random numbers\n",
        "s = pd.Series(np.random.randint(0,1000,10000))\n",
        "s.head()"
      ],
      "execution_count": null,
      "outputs": [
        {
          "output_type": "execute_result",
          "data": {
            "text/plain": [
              "0    404\n",
              "1    348\n",
              "2    472\n",
              "3    749\n",
              "4     21\n",
              "dtype: int64"
            ]
          },
          "metadata": {
            "tags": []
          },
          "execution_count": 66
        }
      ]
    },
    {
      "cell_type": "code",
      "metadata": {
        "scrolled": true,
        "id": "rXnAycapOyXI",
        "colab_type": "code",
        "colab": {},
        "outputId": "a4c5e51a-de3c-43e3-9f1f-454aa9779d49"
      },
      "source": [
        "len(s)"
      ],
      "execution_count": null,
      "outputs": [
        {
          "output_type": "execute_result",
          "data": {
            "text/plain": [
              "10000"
            ]
          },
          "metadata": {
            "tags": []
          },
          "execution_count": 93
        }
      ]
    },
    {
      "cell_type": "code",
      "metadata": {
        "id": "fRKdqnQrOyXJ",
        "colab_type": "code",
        "colab": {},
        "outputId": "59cdfb47-e264-437b-9535-4ab1719e8472"
      },
      "source": [
        "%%timeit -n 100\n",
        "summary = 0\n",
        "for item in s:\n",
        "    summary+=item"
      ],
      "execution_count": null,
      "outputs": [
        {
          "output_type": "stream",
          "text": [
            "7.22 ms ± 221 µs per loop (mean ± std. dev. of 7 runs, 100 loops each)\n"
          ],
          "name": "stdout"
        }
      ]
    },
    {
      "cell_type": "code",
      "metadata": {
        "id": "stOID7YhOyXK",
        "colab_type": "code",
        "colab": {},
        "outputId": "fc5c63e0-c2d6-48d4-87a6-bbd4b8d11118"
      },
      "source": [
        "%%timeit -n 100\n",
        "summary = np.sum(s)"
      ],
      "execution_count": null,
      "outputs": [
        {
          "output_type": "stream",
          "text": [
            "360 µs ± 34.6 µs per loop (mean ± std. dev. of 7 runs, 100 loops each)\n"
          ],
          "name": "stdout"
        }
      ]
    },
    {
      "cell_type": "code",
      "metadata": {
        "id": "hQa1FY1GOyXK",
        "colab_type": "code",
        "colab": {},
        "outputId": "2e881cb5-0e30-4c33-b130-5345ba714ccb"
      },
      "source": [
        "s+=2 #adds two to each item in s using broadcasting\n",
        "s.head()"
      ],
      "execution_count": null,
      "outputs": [
        {
          "output_type": "execute_result",
          "data": {
            "text/plain": [
              "0    406\n",
              "1    350\n",
              "2    474\n",
              "3    751\n",
              "4     23\n",
              "dtype: int64"
            ]
          },
          "metadata": {
            "tags": []
          },
          "execution_count": 69
        }
      ]
    },
    {
      "cell_type": "code",
      "metadata": {
        "id": "v7Hohr5rOyXN",
        "colab_type": "code",
        "colab": {},
        "outputId": "43bb2475-1344-4b95-8a2b-4ea6d9835e96"
      },
      "source": [
        "for label, value in s.iteritems():\n",
        "    s.set_value(label, value+2)\n",
        "s.head()"
      ],
      "execution_count": null,
      "outputs": [
        {
          "output_type": "execute_result",
          "data": {
            "text/plain": [
              "0    371\n",
              "1     31\n",
              "2    706\n",
              "3    196\n",
              "4    491\n",
              "dtype: int64"
            ]
          },
          "metadata": {
            "tags": []
          },
          "execution_count": 97
        }
      ]
    },
    {
      "cell_type": "code",
      "metadata": {
        "id": "v1HTUXkbOyXT",
        "colab_type": "code",
        "colab": {},
        "outputId": "98a9b46f-333a-4322-f969-7a05d1ad428c"
      },
      "source": [
        "%%timeit -n 10\n",
        "s = pd.Series(np.random.randint(0,1000,10000))\n",
        "for label, value in s.iteritems():\n",
        "    s.loc[label]= value+2"
      ],
      "execution_count": null,
      "outputs": [
        {
          "output_type": "stream",
          "text": [
            "2.24 s ± 16.4 ms per loop (mean ± std. dev. of 7 runs, 10 loops each)\n"
          ],
          "name": "stdout"
        }
      ]
    },
    {
      "cell_type": "code",
      "metadata": {
        "id": "9eGCuzgXOyXV",
        "colab_type": "code",
        "colab": {},
        "outputId": "eb40b497-1612-4089-cb5b-177b71748189"
      },
      "source": [
        "%%timeit -n 10\n",
        "s = pd.Series(np.random.randint(0,1000,10000))\n",
        "s+=2\n"
      ],
      "execution_count": null,
      "outputs": [
        {
          "output_type": "stream",
          "text": [
            "1.1 ms ± 201 µs per loop (mean ± std. dev. of 7 runs, 10 loops each)\n"
          ],
          "name": "stdout"
        }
      ]
    },
    {
      "cell_type": "markdown",
      "metadata": {
        "id": "lm8JziYZOyXY",
        "colab_type": "text"
      },
      "source": [
        "## Time Series / Date Functionality in Pandas"
      ]
    },
    {
      "cell_type": "markdown",
      "metadata": {
        "id": "hZyy4pcyOyXY",
        "colab_type": "text"
      },
      "source": [
        "Time Series / Date functionality\n",
        "\n",
        "pandas has proven very successful as a tool for working with time series data, especially in the financial data analysis space. Using the NumPy datetime64 and timedelta64 dtypes, we have consolidated a large number of features from other Python libraries like scikits.timeseries as well as created a tremendous amount of new functionality for manipulating time series data.\n",
        "\n",
        "In working with time series data, we will frequently seek to:\n",
        "\n",
        "        (a) generate sequences of fixed-frequency dates and time spans\n",
        "        (b) conform or convert time series to a particular frequency\n",
        "        (c) compute “relative” dates based on various non-standard time increments (e.g. 5 business days before the last business day of the year), or “roll” dates forward or backward\n",
        "\n",
        "pandas provides a relatively compact and self-contained set of tools for performing the above tasks."
      ]
    },
    {
      "cell_type": "code",
      "metadata": {
        "id": "R2vjEG-hOyXY",
        "colab_type": "code",
        "colab": {}
      },
      "source": [
        "import pandas as pd\n",
        "import numpy as np"
      ],
      "execution_count": null,
      "outputs": []
    },
    {
      "cell_type": "markdown",
      "metadata": {
        "id": "4NtiyAVkOyXa",
        "colab_type": "text"
      },
      "source": [
        "### Timestamp"
      ]
    },
    {
      "cell_type": "code",
      "metadata": {
        "id": "xwaXHtCGOyXa",
        "colab_type": "code",
        "colab": {},
        "outputId": "079bfa3b-fee4-4d93-87c1-ba1ff54e97b2"
      },
      "source": [
        "pd.Timestamp('9/1/2016 10:05AM')"
      ],
      "execution_count": null,
      "outputs": [
        {
          "output_type": "execute_result",
          "data": {
            "text/plain": [
              "Timestamp('2016-09-01 10:05:00')"
            ]
          },
          "metadata": {
            "tags": []
          },
          "execution_count": 72
        }
      ]
    },
    {
      "cell_type": "markdown",
      "metadata": {
        "id": "LdAFTQv4OyXb",
        "colab_type": "text"
      },
      "source": [
        "### Period"
      ]
    },
    {
      "cell_type": "code",
      "metadata": {
        "id": "uxLMMI4sOyXb",
        "colab_type": "code",
        "colab": {},
        "outputId": "fa95c208-8476-482e-dca3-64e8eca40c51"
      },
      "source": [
        "pd.Period('1/2016')"
      ],
      "execution_count": null,
      "outputs": [
        {
          "output_type": "execute_result",
          "data": {
            "text/plain": [
              "Period('2016-01', 'M')"
            ]
          },
          "metadata": {
            "tags": []
          },
          "execution_count": 326
        }
      ]
    },
    {
      "cell_type": "code",
      "metadata": {
        "id": "XSValIRAOyXc",
        "colab_type": "code",
        "colab": {},
        "outputId": "0a6b1701-4b7d-4a94-89ff-4b8c778f638e"
      },
      "source": [
        "pd.Period('3/5/2016')"
      ],
      "execution_count": null,
      "outputs": [
        {
          "output_type": "execute_result",
          "data": {
            "text/plain": [
              "Period('2016-03-05', 'D')"
            ]
          },
          "metadata": {
            "tags": []
          },
          "execution_count": 327
        }
      ]
    },
    {
      "cell_type": "markdown",
      "metadata": {
        "id": "bke5KFqhOyXi",
        "colab_type": "text"
      },
      "source": [
        "### DatetimeIndex"
      ]
    },
    {
      "cell_type": "code",
      "metadata": {
        "scrolled": true,
        "id": "BSO-MKzXOyXi",
        "colab_type": "code",
        "colab": {},
        "outputId": "a5828577-bf09-4b75-e703-800ab7a404ec"
      },
      "source": [
        "t1 = pd.Series(list('abc'), [pd.Timestamp('2016-09-01'), pd.Timestamp('2016-09-02'), pd.Timestamp('2016-09-03')])\n",
        "t1"
      ],
      "execution_count": null,
      "outputs": [
        {
          "output_type": "execute_result",
          "data": {
            "text/plain": [
              "2016-09-01    a\n",
              "2016-09-02    b\n",
              "2016-09-03    c\n",
              "dtype: object"
            ]
          },
          "metadata": {
            "tags": []
          },
          "execution_count": 74
        }
      ]
    },
    {
      "cell_type": "code",
      "metadata": {
        "id": "L0YUavkIOyXi",
        "colab_type": "code",
        "colab": {},
        "outputId": "c69bd2f7-0890-41d4-c85a-27d6264ec3c1"
      },
      "source": [
        "t1.index"
      ],
      "execution_count": null,
      "outputs": [
        {
          "output_type": "execute_result",
          "data": {
            "text/plain": [
              "DatetimeIndex(['2016-09-01', '2016-09-02', '2016-09-03'], dtype='datetime64[ns]', freq=None)"
            ]
          },
          "metadata": {
            "tags": []
          },
          "execution_count": 75
        }
      ]
    },
    {
      "cell_type": "code",
      "metadata": {
        "id": "5siN-QN9OyXj",
        "colab_type": "code",
        "colab": {},
        "outputId": "c69c00b2-7736-49c7-9f0e-bf5089e7e8a7"
      },
      "source": [
        "type(t1.index)"
      ],
      "execution_count": null,
      "outputs": [
        {
          "output_type": "execute_result",
          "data": {
            "text/plain": [
              "pandas.core.indexes.datetimes.DatetimeIndex"
            ]
          },
          "metadata": {
            "tags": []
          },
          "execution_count": 76
        }
      ]
    },
    {
      "cell_type": "markdown",
      "metadata": {
        "id": "8PeW6SGmOyXm",
        "colab_type": "text"
      },
      "source": [
        "### PeriodIndex"
      ]
    },
    {
      "cell_type": "code",
      "metadata": {
        "id": "7hUP5jwROyXn",
        "colab_type": "code",
        "colab": {},
        "outputId": "a6d5b346-94bf-4577-f99c-15c99c40dffe"
      },
      "source": [
        "t2 = pd.Series(list('def'), [pd.Period('2016-09'), pd.Period('2016-10'), pd.Period('2016-11')])\n",
        "t2"
      ],
      "execution_count": null,
      "outputs": [
        {
          "output_type": "execute_result",
          "data": {
            "text/plain": [
              "2016-09    d\n",
              "2016-10    e\n",
              "2016-11    f\n",
              "Freq: M, dtype: object"
            ]
          },
          "metadata": {
            "tags": []
          },
          "execution_count": 78
        }
      ]
    },
    {
      "cell_type": "code",
      "metadata": {
        "id": "Q8451MtVOyXo",
        "colab_type": "code",
        "colab": {},
        "outputId": "7e3fea0c-56fa-4b69-c412-ca2a17b297fd"
      },
      "source": [
        "type(t2.index)"
      ],
      "execution_count": null,
      "outputs": [
        {
          "output_type": "execute_result",
          "data": {
            "text/plain": [
              "pandas.core.indexes.period.PeriodIndex"
            ]
          },
          "metadata": {
            "tags": []
          },
          "execution_count": 79
        }
      ]
    },
    {
      "cell_type": "markdown",
      "metadata": {
        "id": "bSUTIiQuOyXt",
        "colab_type": "text"
      },
      "source": [
        "### Converting to Datetime"
      ]
    },
    {
      "cell_type": "code",
      "metadata": {
        "id": "ppknDTOnOyXu",
        "colab_type": "code",
        "colab": {},
        "outputId": "330ab791-232d-400d-d2dc-92935fba4c50"
      },
      "source": [
        "d1 = ['2 June 2013', 'Aug 29, 2014', '2015-06-26', '7/12/16']\n",
        "ts3 = pd.DataFrame(np.random.randint(10, 100, (4,2)), index=d1, columns=list('ab'))\n",
        "ts3"
      ],
      "execution_count": null,
      "outputs": [
        {
          "output_type": "execute_result",
          "data": {
            "text/html": [
              "<div>\n",
              "<style>\n",
              "    .dataframe thead tr:only-child th {\n",
              "        text-align: right;\n",
              "    }\n",
              "\n",
              "    .dataframe thead th {\n",
              "        text-align: left;\n",
              "    }\n",
              "\n",
              "    .dataframe tbody tr th {\n",
              "        vertical-align: top;\n",
              "    }\n",
              "</style>\n",
              "<table border=\"1\" class=\"dataframe\">\n",
              "  <thead>\n",
              "    <tr style=\"text-align: right;\">\n",
              "      <th></th>\n",
              "      <th>a</th>\n",
              "      <th>b</th>\n",
              "    </tr>\n",
              "  </thead>\n",
              "  <tbody>\n",
              "    <tr>\n",
              "      <th>2 June 2013</th>\n",
              "      <td>66</td>\n",
              "      <td>82</td>\n",
              "    </tr>\n",
              "    <tr>\n",
              "      <th>Aug 29, 2014</th>\n",
              "      <td>40</td>\n",
              "      <td>28</td>\n",
              "    </tr>\n",
              "    <tr>\n",
              "      <th>2015-06-26</th>\n",
              "      <td>65</td>\n",
              "      <td>69</td>\n",
              "    </tr>\n",
              "    <tr>\n",
              "      <th>7/12/16</th>\n",
              "      <td>47</td>\n",
              "      <td>71</td>\n",
              "    </tr>\n",
              "  </tbody>\n",
              "</table>\n",
              "</div>"
            ],
            "text/plain": [
              "               a   b\n",
              "2 June 2013   66  82\n",
              "Aug 29, 2014  40  28\n",
              "2015-06-26    65  69\n",
              "7/12/16       47  71"
            ]
          },
          "metadata": {
            "tags": []
          },
          "execution_count": 80
        }
      ]
    },
    {
      "cell_type": "code",
      "metadata": {
        "id": "mF872YvvOyXu",
        "colab_type": "code",
        "colab": {},
        "outputId": "a099c375-b155-4122-de83-619ad0836e9f"
      },
      "source": [
        "type(ts3.index)"
      ],
      "execution_count": null,
      "outputs": [
        {
          "output_type": "execute_result",
          "data": {
            "text/plain": [
              "pandas.core.indexes.base.Index"
            ]
          },
          "metadata": {
            "tags": []
          },
          "execution_count": 81
        }
      ]
    },
    {
      "cell_type": "code",
      "metadata": {
        "id": "kY5Ol3pQOyXv",
        "colab_type": "code",
        "colab": {},
        "outputId": "83af6c17-3ebc-42d8-f188-36decc805de1"
      },
      "source": [
        "ts3.index = pd.to_datetime(ts3.index)\n",
        "ts3"
      ],
      "execution_count": null,
      "outputs": [
        {
          "output_type": "execute_result",
          "data": {
            "text/html": [
              "<div>\n",
              "<style>\n",
              "    .dataframe thead tr:only-child th {\n",
              "        text-align: right;\n",
              "    }\n",
              "\n",
              "    .dataframe thead th {\n",
              "        text-align: left;\n",
              "    }\n",
              "\n",
              "    .dataframe tbody tr th {\n",
              "        vertical-align: top;\n",
              "    }\n",
              "</style>\n",
              "<table border=\"1\" class=\"dataframe\">\n",
              "  <thead>\n",
              "    <tr style=\"text-align: right;\">\n",
              "      <th></th>\n",
              "      <th>a</th>\n",
              "      <th>b</th>\n",
              "    </tr>\n",
              "  </thead>\n",
              "  <tbody>\n",
              "    <tr>\n",
              "      <th>2013-06-02</th>\n",
              "      <td>78</td>\n",
              "      <td>15</td>\n",
              "    </tr>\n",
              "    <tr>\n",
              "      <th>2014-08-29</th>\n",
              "      <td>76</td>\n",
              "      <td>65</td>\n",
              "    </tr>\n",
              "    <tr>\n",
              "      <th>2015-06-26</th>\n",
              "      <td>81</td>\n",
              "      <td>89</td>\n",
              "    </tr>\n",
              "    <tr>\n",
              "      <th>2016-07-12</th>\n",
              "      <td>44</td>\n",
              "      <td>12</td>\n",
              "    </tr>\n",
              "  </tbody>\n",
              "</table>\n",
              "</div>"
            ],
            "text/plain": [
              "             a   b\n",
              "2013-06-02  78  15\n",
              "2014-08-29  76  65\n",
              "2015-06-26  81  89\n",
              "2016-07-12  44  12"
            ]
          },
          "metadata": {
            "tags": []
          },
          "execution_count": 335
        }
      ]
    },
    {
      "cell_type": "code",
      "metadata": {
        "id": "MeO4dLXhOyXw",
        "colab_type": "code",
        "colab": {},
        "outputId": "41e0ed45-088d-4ae7-aa4d-254f7ff8fbed"
      },
      "source": [
        "pd.to_datetime('4.7.12', dayfirst=True)"
      ],
      "execution_count": null,
      "outputs": [
        {
          "output_type": "execute_result",
          "data": {
            "text/plain": [
              "Timestamp('2012-04-07 00:00:00')"
            ]
          },
          "metadata": {
            "tags": []
          },
          "execution_count": 85
        }
      ]
    },
    {
      "cell_type": "code",
      "metadata": {
        "id": "XbZmlt0oOyXz",
        "colab_type": "code",
        "colab": {}
      },
      "source": [
        "?pd.to_datetime"
      ],
      "execution_count": null,
      "outputs": []
    },
    {
      "cell_type": "markdown",
      "metadata": {
        "id": "Xk0WGordOyX0",
        "colab_type": "text"
      },
      "source": [
        "### Timedeltas"
      ]
    },
    {
      "cell_type": "code",
      "metadata": {
        "id": "cpY-2kRIOyX0",
        "colab_type": "code",
        "colab": {},
        "outputId": "3a2f86dc-6789-4582-d99c-282d938550ff"
      },
      "source": [
        "pd.Timestamp('9/3/2016')-pd.Timestamp('9/1/2016')"
      ],
      "execution_count": null,
      "outputs": [
        {
          "output_type": "execute_result",
          "data": {
            "text/plain": [
              "Timedelta('2 days 00:00:00')"
            ]
          },
          "metadata": {
            "tags": []
          },
          "execution_count": 339
        }
      ]
    },
    {
      "cell_type": "code",
      "metadata": {
        "id": "m-wuMLfuOyX1",
        "colab_type": "code",
        "colab": {},
        "outputId": "2e6f6e9b-a8e0-4180-ba64-58eaff3db3a3"
      },
      "source": [
        "pd.Timestamp('9/2/2016 8:10AM') + pd.Timedelta('12D 3H')"
      ],
      "execution_count": null,
      "outputs": [
        {
          "output_type": "execute_result",
          "data": {
            "text/plain": [
              "Timestamp('2016-09-14 11:10:00')"
            ]
          },
          "metadata": {
            "tags": []
          },
          "execution_count": 86
        }
      ]
    },
    {
      "cell_type": "markdown",
      "metadata": {
        "id": "35MtFeC_OyX2",
        "colab_type": "text"
      },
      "source": [
        "### Working with Dates in a Dataframe"
      ]
    },
    {
      "cell_type": "code",
      "metadata": {
        "id": "JSTsOALhOyX2",
        "colab_type": "code",
        "colab": {},
        "outputId": "23d80606-80d3-4c08-87c3-ae8de5fd7d7c"
      },
      "source": [
        "dates = pd.date_range('10-01-2016', periods=9, freq='2W-SUN')\n",
        "dates"
      ],
      "execution_count": null,
      "outputs": [
        {
          "output_type": "execute_result",
          "data": {
            "text/plain": [
              "DatetimeIndex(['2016-10-02', '2016-10-16', '2016-10-30', '2016-11-13',\n",
              "               '2016-11-27', '2016-12-11', '2016-12-25', '2017-01-08',\n",
              "               '2017-01-22'],\n",
              "              dtype='datetime64[ns]', freq='2W-SUN')"
            ]
          },
          "metadata": {
            "tags": []
          },
          "execution_count": 87
        }
      ]
    },
    {
      "cell_type": "code",
      "metadata": {
        "id": "gJ7rX1TjOyX3",
        "colab_type": "code",
        "colab": {},
        "outputId": "d78d8e38-19de-46b1-cba0-b30bd5309b22"
      },
      "source": [
        "df = pd.DataFrame({'Count 1': 100 + np.random.randint(-5, 10, 9).cumsum(),\n",
        "                  'Count 2': 120 + np.random.randint(-5, 10, 9)}, index=dates)\n",
        "df"
      ],
      "execution_count": null,
      "outputs": [
        {
          "output_type": "execute_result",
          "data": {
            "text/html": [
              "<div>\n",
              "<style>\n",
              "    .dataframe thead tr:only-child th {\n",
              "        text-align: right;\n",
              "    }\n",
              "\n",
              "    .dataframe thead th {\n",
              "        text-align: left;\n",
              "    }\n",
              "\n",
              "    .dataframe tbody tr th {\n",
              "        vertical-align: top;\n",
              "    }\n",
              "</style>\n",
              "<table border=\"1\" class=\"dataframe\">\n",
              "  <thead>\n",
              "    <tr style=\"text-align: right;\">\n",
              "      <th></th>\n",
              "      <th>Count 1</th>\n",
              "      <th>Count 2</th>\n",
              "    </tr>\n",
              "  </thead>\n",
              "  <tbody>\n",
              "    <tr>\n",
              "      <th>2016-10-02</th>\n",
              "      <td>107</td>\n",
              "      <td>124</td>\n",
              "    </tr>\n",
              "    <tr>\n",
              "      <th>2016-10-16</th>\n",
              "      <td>102</td>\n",
              "      <td>124</td>\n",
              "    </tr>\n",
              "    <tr>\n",
              "      <th>2016-10-30</th>\n",
              "      <td>104</td>\n",
              "      <td>123</td>\n",
              "    </tr>\n",
              "    <tr>\n",
              "      <th>2016-11-13</th>\n",
              "      <td>113</td>\n",
              "      <td>118</td>\n",
              "    </tr>\n",
              "    <tr>\n",
              "      <th>2016-11-27</th>\n",
              "      <td>111</td>\n",
              "      <td>116</td>\n",
              "    </tr>\n",
              "    <tr>\n",
              "      <th>2016-12-11</th>\n",
              "      <td>116</td>\n",
              "      <td>125</td>\n",
              "    </tr>\n",
              "    <tr>\n",
              "      <th>2016-12-25</th>\n",
              "      <td>122</td>\n",
              "      <td>128</td>\n",
              "    </tr>\n",
              "    <tr>\n",
              "      <th>2017-01-08</th>\n",
              "      <td>125</td>\n",
              "      <td>121</td>\n",
              "    </tr>\n",
              "    <tr>\n",
              "      <th>2017-01-22</th>\n",
              "      <td>125</td>\n",
              "      <td>121</td>\n",
              "    </tr>\n",
              "  </tbody>\n",
              "</table>\n",
              "</div>"
            ],
            "text/plain": [
              "            Count 1  Count 2\n",
              "2016-10-02      107      124\n",
              "2016-10-16      102      124\n",
              "2016-10-30      104      123\n",
              "2016-11-13      113      118\n",
              "2016-11-27      111      116\n",
              "2016-12-11      116      125\n",
              "2016-12-25      122      128\n",
              "2017-01-08      125      121\n",
              "2017-01-22      125      121"
            ]
          },
          "metadata": {
            "tags": []
          },
          "execution_count": 91
        }
      ]
    },
    {
      "cell_type": "code",
      "metadata": {
        "id": "AXzVORrGOyX4",
        "colab_type": "code",
        "colab": {},
        "outputId": "7f517a24-4391-4f79-c75a-001729567d01"
      },
      "source": [
        "df.index.weekday_name"
      ],
      "execution_count": null,
      "outputs": [
        {
          "output_type": "execute_result",
          "data": {
            "text/plain": [
              "Index(['Sunday', 'Sunday', 'Sunday', 'Sunday', 'Sunday', 'Sunday', 'Sunday',\n",
              "       'Sunday', 'Sunday'],\n",
              "      dtype='object')"
            ]
          },
          "metadata": {
            "tags": []
          },
          "execution_count": 89
        }
      ]
    },
    {
      "cell_type": "code",
      "metadata": {
        "id": "0gAfRb5yOyX5",
        "colab_type": "code",
        "colab": {}
      },
      "source": [
        "#df.index.month_name()"
      ],
      "execution_count": null,
      "outputs": []
    },
    {
      "cell_type": "code",
      "metadata": {
        "id": "EDvqPWD1OyX6",
        "colab_type": "code",
        "colab": {},
        "outputId": "13b07078-5d9c-44db-d20d-e0ae880a4eef"
      },
      "source": [
        "df.index.day"
      ],
      "execution_count": null,
      "outputs": [
        {
          "output_type": "execute_result",
          "data": {
            "text/plain": [
              "Int64Index([2, 16, 30, 13, 27, 11, 25, 8, 22], dtype='int64')"
            ]
          },
          "metadata": {
            "tags": []
          },
          "execution_count": 90
        }
      ]
    },
    {
      "cell_type": "code",
      "metadata": {
        "id": "AXhb3GmcOyX6",
        "colab_type": "code",
        "colab": {},
        "outputId": "8b22be71-809c-443a-ac0b-c0566b2241f4"
      },
      "source": [
        "df.diff()"
      ],
      "execution_count": null,
      "outputs": [
        {
          "output_type": "execute_result",
          "data": {
            "text/html": [
              "<div>\n",
              "<style>\n",
              "    .dataframe thead tr:only-child th {\n",
              "        text-align: right;\n",
              "    }\n",
              "\n",
              "    .dataframe thead th {\n",
              "        text-align: left;\n",
              "    }\n",
              "\n",
              "    .dataframe tbody tr th {\n",
              "        vertical-align: top;\n",
              "    }\n",
              "</style>\n",
              "<table border=\"1\" class=\"dataframe\">\n",
              "  <thead>\n",
              "    <tr style=\"text-align: right;\">\n",
              "      <th></th>\n",
              "      <th>Count 1</th>\n",
              "      <th>Count 2</th>\n",
              "    </tr>\n",
              "  </thead>\n",
              "  <tbody>\n",
              "    <tr>\n",
              "      <th>2016-10-02</th>\n",
              "      <td>NaN</td>\n",
              "      <td>NaN</td>\n",
              "    </tr>\n",
              "    <tr>\n",
              "      <th>2016-10-16</th>\n",
              "      <td>-5.0</td>\n",
              "      <td>0.0</td>\n",
              "    </tr>\n",
              "    <tr>\n",
              "      <th>2016-10-30</th>\n",
              "      <td>2.0</td>\n",
              "      <td>-1.0</td>\n",
              "    </tr>\n",
              "    <tr>\n",
              "      <th>2016-11-13</th>\n",
              "      <td>9.0</td>\n",
              "      <td>-5.0</td>\n",
              "    </tr>\n",
              "    <tr>\n",
              "      <th>2016-11-27</th>\n",
              "      <td>-2.0</td>\n",
              "      <td>-2.0</td>\n",
              "    </tr>\n",
              "    <tr>\n",
              "      <th>2016-12-11</th>\n",
              "      <td>5.0</td>\n",
              "      <td>9.0</td>\n",
              "    </tr>\n",
              "    <tr>\n",
              "      <th>2016-12-25</th>\n",
              "      <td>6.0</td>\n",
              "      <td>3.0</td>\n",
              "    </tr>\n",
              "    <tr>\n",
              "      <th>2017-01-08</th>\n",
              "      <td>3.0</td>\n",
              "      <td>-7.0</td>\n",
              "    </tr>\n",
              "    <tr>\n",
              "      <th>2017-01-22</th>\n",
              "      <td>0.0</td>\n",
              "      <td>0.0</td>\n",
              "    </tr>\n",
              "  </tbody>\n",
              "</table>\n",
              "</div>"
            ],
            "text/plain": [
              "            Count 1  Count 2\n",
              "2016-10-02      NaN      NaN\n",
              "2016-10-16     -5.0      0.0\n",
              "2016-10-30      2.0     -1.0\n",
              "2016-11-13      9.0     -5.0\n",
              "2016-11-27     -2.0     -2.0\n",
              "2016-12-11      5.0      9.0\n",
              "2016-12-25      6.0      3.0\n",
              "2017-01-08      3.0     -7.0\n",
              "2017-01-22      0.0      0.0"
            ]
          },
          "metadata": {
            "tags": []
          },
          "execution_count": 92
        }
      ]
    },
    {
      "cell_type": "code",
      "metadata": {
        "id": "RoufpzA-OyX7",
        "colab_type": "code",
        "colab": {},
        "outputId": "7b3a1ebd-39d9-42a4-9170-9af5400b37da"
      },
      "source": [
        "df.resample('M').mean()"
      ],
      "execution_count": null,
      "outputs": [
        {
          "output_type": "execute_result",
          "data": {
            "text/html": [
              "<div>\n",
              "<style>\n",
              "    .dataframe thead tr:only-child th {\n",
              "        text-align: right;\n",
              "    }\n",
              "\n",
              "    .dataframe thead th {\n",
              "        text-align: left;\n",
              "    }\n",
              "\n",
              "    .dataframe tbody tr th {\n",
              "        vertical-align: top;\n",
              "    }\n",
              "</style>\n",
              "<table border=\"1\" class=\"dataframe\">\n",
              "  <thead>\n",
              "    <tr style=\"text-align: right;\">\n",
              "      <th></th>\n",
              "      <th>Count 1</th>\n",
              "      <th>Count 2</th>\n",
              "    </tr>\n",
              "  </thead>\n",
              "  <tbody>\n",
              "    <tr>\n",
              "      <th>2016-10-31</th>\n",
              "      <td>104.333333</td>\n",
              "      <td>123.666667</td>\n",
              "    </tr>\n",
              "    <tr>\n",
              "      <th>2016-11-30</th>\n",
              "      <td>112.000000</td>\n",
              "      <td>117.000000</td>\n",
              "    </tr>\n",
              "    <tr>\n",
              "      <th>2016-12-31</th>\n",
              "      <td>119.000000</td>\n",
              "      <td>126.500000</td>\n",
              "    </tr>\n",
              "    <tr>\n",
              "      <th>2017-01-31</th>\n",
              "      <td>125.000000</td>\n",
              "      <td>121.000000</td>\n",
              "    </tr>\n",
              "  </tbody>\n",
              "</table>\n",
              "</div>"
            ],
            "text/plain": [
              "               Count 1     Count 2\n",
              "2016-10-31  104.333333  123.666667\n",
              "2016-11-30  112.000000  117.000000\n",
              "2016-12-31  119.000000  126.500000\n",
              "2017-01-31  125.000000  121.000000"
            ]
          },
          "metadata": {
            "tags": []
          },
          "execution_count": 95
        }
      ]
    },
    {
      "cell_type": "code",
      "metadata": {
        "id": "GLpunOtzOyX8",
        "colab_type": "code",
        "colab": {},
        "outputId": "d65c0c03-c8e3-442e-9e14-1de8bc79ff92"
      },
      "source": [
        "df['2017']"
      ],
      "execution_count": null,
      "outputs": [
        {
          "output_type": "execute_result",
          "data": {
            "text/html": [
              "<div>\n",
              "<style>\n",
              "    .dataframe thead tr:only-child th {\n",
              "        text-align: right;\n",
              "    }\n",
              "\n",
              "    .dataframe thead th {\n",
              "        text-align: left;\n",
              "    }\n",
              "\n",
              "    .dataframe tbody tr th {\n",
              "        vertical-align: top;\n",
              "    }\n",
              "</style>\n",
              "<table border=\"1\" class=\"dataframe\">\n",
              "  <thead>\n",
              "    <tr style=\"text-align: right;\">\n",
              "      <th></th>\n",
              "      <th>Count 1</th>\n",
              "      <th>Count 2</th>\n",
              "    </tr>\n",
              "  </thead>\n",
              "  <tbody>\n",
              "    <tr>\n",
              "      <th>2017-01-08</th>\n",
              "      <td>125</td>\n",
              "      <td>121</td>\n",
              "    </tr>\n",
              "    <tr>\n",
              "      <th>2017-01-22</th>\n",
              "      <td>125</td>\n",
              "      <td>121</td>\n",
              "    </tr>\n",
              "  </tbody>\n",
              "</table>\n",
              "</div>"
            ],
            "text/plain": [
              "            Count 1  Count 2\n",
              "2017-01-08      125      121\n",
              "2017-01-22      125      121"
            ]
          },
          "metadata": {
            "tags": []
          },
          "execution_count": 96
        }
      ]
    },
    {
      "cell_type": "code",
      "metadata": {
        "id": "v0bOfRz4OyX-",
        "colab_type": "code",
        "colab": {},
        "outputId": "70a1067a-25e2-4efa-eec4-edbcaf2a0ef8"
      },
      "source": [
        "df['2016-12']"
      ],
      "execution_count": null,
      "outputs": [
        {
          "output_type": "execute_result",
          "data": {
            "text/html": [
              "<div>\n",
              "<style>\n",
              "    .dataframe thead tr:only-child th {\n",
              "        text-align: right;\n",
              "    }\n",
              "\n",
              "    .dataframe thead th {\n",
              "        text-align: left;\n",
              "    }\n",
              "\n",
              "    .dataframe tbody tr th {\n",
              "        vertical-align: top;\n",
              "    }\n",
              "</style>\n",
              "<table border=\"1\" class=\"dataframe\">\n",
              "  <thead>\n",
              "    <tr style=\"text-align: right;\">\n",
              "      <th></th>\n",
              "      <th>Count 1</th>\n",
              "      <th>Count 2</th>\n",
              "    </tr>\n",
              "  </thead>\n",
              "  <tbody>\n",
              "    <tr>\n",
              "      <th>2016-12-11</th>\n",
              "      <td>98</td>\n",
              "      <td>125</td>\n",
              "    </tr>\n",
              "    <tr>\n",
              "      <th>2016-12-25</th>\n",
              "      <td>94</td>\n",
              "      <td>126</td>\n",
              "    </tr>\n",
              "  </tbody>\n",
              "</table>\n",
              "</div>"
            ],
            "text/plain": [
              "            Count 1  Count 2\n",
              "2016-12-11       98      125\n",
              "2016-12-25       94      126"
            ]
          },
          "metadata": {
            "tags": []
          },
          "execution_count": 360
        }
      ]
    },
    {
      "cell_type": "code",
      "metadata": {
        "id": "RQPZdJneOyX-",
        "colab_type": "code",
        "colab": {},
        "outputId": "609105ff-a460-409e-9135-7a1849ffd66d"
      },
      "source": [
        "df['2016-12':]"
      ],
      "execution_count": null,
      "outputs": [
        {
          "output_type": "execute_result",
          "data": {
            "text/html": [
              "<div>\n",
              "<style>\n",
              "    .dataframe thead tr:only-child th {\n",
              "        text-align: right;\n",
              "    }\n",
              "\n",
              "    .dataframe thead th {\n",
              "        text-align: left;\n",
              "    }\n",
              "\n",
              "    .dataframe tbody tr th {\n",
              "        vertical-align: top;\n",
              "    }\n",
              "</style>\n",
              "<table border=\"1\" class=\"dataframe\">\n",
              "  <thead>\n",
              "    <tr style=\"text-align: right;\">\n",
              "      <th></th>\n",
              "      <th>Count 1</th>\n",
              "      <th>Count 2</th>\n",
              "    </tr>\n",
              "  </thead>\n",
              "  <tbody>\n",
              "    <tr>\n",
              "      <th>2016-12-11</th>\n",
              "      <td>98</td>\n",
              "      <td>125</td>\n",
              "    </tr>\n",
              "    <tr>\n",
              "      <th>2016-12-25</th>\n",
              "      <td>94</td>\n",
              "      <td>126</td>\n",
              "    </tr>\n",
              "    <tr>\n",
              "      <th>2017-01-08</th>\n",
              "      <td>98</td>\n",
              "      <td>115</td>\n",
              "    </tr>\n",
              "    <tr>\n",
              "      <th>2017-01-22</th>\n",
              "      <td>101</td>\n",
              "      <td>124</td>\n",
              "    </tr>\n",
              "  </tbody>\n",
              "</table>\n",
              "</div>"
            ],
            "text/plain": [
              "            Count 1  Count 2\n",
              "2016-12-11       98      125\n",
              "2016-12-25       94      126\n",
              "2017-01-08       98      115\n",
              "2017-01-22      101      124"
            ]
          },
          "metadata": {
            "tags": []
          },
          "execution_count": 361
        }
      ]
    },
    {
      "cell_type": "markdown",
      "metadata": {
        "id": "id4Ks1fvOyX_",
        "colab_type": "text"
      },
      "source": [
        "## Categoricals"
      ]
    },
    {
      "cell_type": "markdown",
      "metadata": {
        "id": "QtpwNLxdOyX_",
        "colab_type": "text"
      },
      "source": [
        "Categorical Data\n",
        "\n",
        "Categoricals are a pandas data type, which correspond to categorical variables in statistics: a variable, which can take on only a limited, and usually fixed, number of possible values (categories; levels in R). Examples are gender, social class, blood types, country affiliations, observation time or ratings via Likert scales.\n",
        "\n",
        "In contrast to statistical categorical variables, categorical data might have an order (e.g. ‘strongly agree’ vs ‘agree’ or ‘first observation’ vs. ‘second observation’), but numerical operations (additions, divisions, ...) are not possible.\n",
        "\n",
        "All values of categorical data are either in categories or np.nan. Order is defined by the order of categories, not lexical order of the values. Internally, the data structure consists of a categories array and an integer array of codes which point to the real value in the categories array.\n",
        "\n",
        "The categorical data type is useful in the following cases:\n",
        "\n",
        "    (a) A string variable consisting of only a few different values. Converting such a string variable to a categorical variable will save some memory, see here.\n",
        "    (b) The lexical order of a variable is not the same as the logical order (“one”, “two”, “three”). By converting to a categorical and specifying an order on the categories, sorting and min/max will use the logical order instead of the lexical order, see here.\n",
        "    (c) As a signal to other python libraries that this column should be treated as a categorical variable (e.g. to use suitable statistical methods or plot types).\n",
        "\n",
        "\n",
        "\n",
        "See also [API documentation](http://pandas.pydata.org/pandas-docs/stable/api.html#api-categorical)."
      ]
    },
    {
      "cell_type": "code",
      "metadata": {
        "id": "M8XhKzZaOyX_",
        "colab_type": "code",
        "colab": {},
        "outputId": "b8663a80-013e-4801-9b25-f36bfc14edec"
      },
      "source": [
        "import pandas as pd\n",
        "df = pd.DataFrame({\"id\":[1,2,3,4,5,6], \"raw_grade\":['a', 'b', 'b', 'a', 'a', 'e']})\n",
        "df"
      ],
      "execution_count": null,
      "outputs": [
        {
          "output_type": "execute_result",
          "data": {
            "text/html": [
              "<div>\n",
              "<style>\n",
              "    .dataframe thead tr:only-child th {\n",
              "        text-align: right;\n",
              "    }\n",
              "\n",
              "    .dataframe thead th {\n",
              "        text-align: left;\n",
              "    }\n",
              "\n",
              "    .dataframe tbody tr th {\n",
              "        vertical-align: top;\n",
              "    }\n",
              "</style>\n",
              "<table border=\"1\" class=\"dataframe\">\n",
              "  <thead>\n",
              "    <tr style=\"text-align: right;\">\n",
              "      <th></th>\n",
              "      <th>id</th>\n",
              "      <th>raw_grade</th>\n",
              "    </tr>\n",
              "  </thead>\n",
              "  <tbody>\n",
              "    <tr>\n",
              "      <th>0</th>\n",
              "      <td>1</td>\n",
              "      <td>a</td>\n",
              "    </tr>\n",
              "    <tr>\n",
              "      <th>1</th>\n",
              "      <td>2</td>\n",
              "      <td>b</td>\n",
              "    </tr>\n",
              "    <tr>\n",
              "      <th>2</th>\n",
              "      <td>3</td>\n",
              "      <td>b</td>\n",
              "    </tr>\n",
              "    <tr>\n",
              "      <th>3</th>\n",
              "      <td>4</td>\n",
              "      <td>a</td>\n",
              "    </tr>\n",
              "    <tr>\n",
              "      <th>4</th>\n",
              "      <td>5</td>\n",
              "      <td>a</td>\n",
              "    </tr>\n",
              "    <tr>\n",
              "      <th>5</th>\n",
              "      <td>6</td>\n",
              "      <td>e</td>\n",
              "    </tr>\n",
              "  </tbody>\n",
              "</table>\n",
              "</div>"
            ],
            "text/plain": [
              "   id raw_grade\n",
              "0   1         a\n",
              "1   2         b\n",
              "2   3         b\n",
              "3   4         a\n",
              "4   5         a\n",
              "5   6         e"
            ]
          },
          "metadata": {
            "tags": []
          },
          "execution_count": 125
        }
      ]
    },
    {
      "cell_type": "markdown",
      "metadata": {
        "id": "8JsCdYvkOyYC",
        "colab_type": "text"
      },
      "source": [
        "Convert the raw grades to a categorical data type."
      ]
    },
    {
      "cell_type": "code",
      "metadata": {
        "id": "JeRDgA0bOyYC",
        "colab_type": "code",
        "colab": {}
      },
      "source": [
        "df[\"grade\"] = df[\"raw_grade\"].astype(\"category\")"
      ],
      "execution_count": null,
      "outputs": []
    },
    {
      "cell_type": "code",
      "metadata": {
        "scrolled": true,
        "id": "AznM0QbNOyYE",
        "colab_type": "code",
        "colab": {},
        "outputId": "23b4f1f9-ab1b-426f-fedf-8ea67632dc5d"
      },
      "source": [
        "df[\"grade\"]"
      ],
      "execution_count": null,
      "outputs": [
        {
          "output_type": "execute_result",
          "data": {
            "text/plain": [
              "0    a\n",
              "1    b\n",
              "2    b\n",
              "3    a\n",
              "4    a\n",
              "5    e\n",
              "Name: grade, dtype: category\n",
              "Categories (3, object): [a, b, e]"
            ]
          },
          "metadata": {
            "tags": []
          },
          "execution_count": 127
        }
      ]
    },
    {
      "cell_type": "code",
      "metadata": {
        "id": "CZ7ObH5hOyYE",
        "colab_type": "code",
        "colab": {},
        "outputId": "8168bbb7-68c3-4d5d-f9f8-3ac227f52428"
      },
      "source": [
        "df[\"grade\"].cat.categories"
      ],
      "execution_count": null,
      "outputs": [
        {
          "output_type": "execute_result",
          "data": {
            "text/plain": [
              "Index(['a', 'b', 'e'], dtype='object')"
            ]
          },
          "metadata": {
            "tags": []
          },
          "execution_count": 128
        }
      ]
    },
    {
      "cell_type": "markdown",
      "metadata": {
        "id": "Wis8XGy6OyYF",
        "colab_type": "text"
      },
      "source": [
        "Rename the categories to more meaningful names (assigning to `Series.cat.categories` is inplace!)"
      ]
    },
    {
      "cell_type": "code",
      "metadata": {
        "id": "DSIuE8NNOyYF",
        "colab_type": "code",
        "colab": {}
      },
      "source": [
        "df[\"grade\"].cat.categories = [\"very good\", \"good\", \"very bad\"]"
      ],
      "execution_count": null,
      "outputs": []
    },
    {
      "cell_type": "code",
      "metadata": {
        "id": "l6ukhX2oOyYG",
        "colab_type": "code",
        "colab": {},
        "outputId": "c30b69ef-9f7c-4ecc-bfdb-6042d68d2781"
      },
      "source": [
        "df[\"grade\"].cat.categories"
      ],
      "execution_count": null,
      "outputs": [
        {
          "output_type": "execute_result",
          "data": {
            "text/plain": [
              "Index(['very good', 'good', 'very bad'], dtype='object')"
            ]
          },
          "metadata": {
            "tags": []
          },
          "execution_count": 130
        }
      ]
    },
    {
      "cell_type": "code",
      "metadata": {
        "id": "TzLyjEnfOyYG",
        "colab_type": "code",
        "colab": {},
        "outputId": "837f3302-adc3-4c93-f975-cf4c343f32ee"
      },
      "source": [
        "df"
      ],
      "execution_count": null,
      "outputs": [
        {
          "output_type": "execute_result",
          "data": {
            "text/html": [
              "<div>\n",
              "<style>\n",
              "    .dataframe thead tr:only-child th {\n",
              "        text-align: right;\n",
              "    }\n",
              "\n",
              "    .dataframe thead th {\n",
              "        text-align: left;\n",
              "    }\n",
              "\n",
              "    .dataframe tbody tr th {\n",
              "        vertical-align: top;\n",
              "    }\n",
              "</style>\n",
              "<table border=\"1\" class=\"dataframe\">\n",
              "  <thead>\n",
              "    <tr style=\"text-align: right;\">\n",
              "      <th></th>\n",
              "      <th>id</th>\n",
              "      <th>raw_grade</th>\n",
              "      <th>grade</th>\n",
              "    </tr>\n",
              "  </thead>\n",
              "  <tbody>\n",
              "    <tr>\n",
              "      <th>0</th>\n",
              "      <td>1</td>\n",
              "      <td>a</td>\n",
              "      <td>very good</td>\n",
              "    </tr>\n",
              "    <tr>\n",
              "      <th>1</th>\n",
              "      <td>2</td>\n",
              "      <td>b</td>\n",
              "      <td>good</td>\n",
              "    </tr>\n",
              "    <tr>\n",
              "      <th>2</th>\n",
              "      <td>3</td>\n",
              "      <td>b</td>\n",
              "      <td>good</td>\n",
              "    </tr>\n",
              "    <tr>\n",
              "      <th>3</th>\n",
              "      <td>4</td>\n",
              "      <td>a</td>\n",
              "      <td>very good</td>\n",
              "    </tr>\n",
              "    <tr>\n",
              "      <th>4</th>\n",
              "      <td>5</td>\n",
              "      <td>a</td>\n",
              "      <td>very good</td>\n",
              "    </tr>\n",
              "    <tr>\n",
              "      <th>5</th>\n",
              "      <td>6</td>\n",
              "      <td>e</td>\n",
              "      <td>very bad</td>\n",
              "    </tr>\n",
              "  </tbody>\n",
              "</table>\n",
              "</div>"
            ],
            "text/plain": [
              "   id raw_grade      grade\n",
              "0   1         a  very good\n",
              "1   2         b       good\n",
              "2   3         b       good\n",
              "3   4         a  very good\n",
              "4   5         a  very good\n",
              "5   6         e   very bad"
            ]
          },
          "metadata": {
            "tags": []
          },
          "execution_count": 131
        }
      ]
    },
    {
      "cell_type": "markdown",
      "metadata": {
        "id": "kYtBymN_OyYK",
        "colab_type": "text"
      },
      "source": [
        "Reorder the categories and simultaneously add the missing categories (methods under `Series .cat` return a new `Series` per default)."
      ]
    },
    {
      "cell_type": "code",
      "metadata": {
        "id": "FXN5bSeZOyYK",
        "colab_type": "code",
        "colab": {}
      },
      "source": [
        "df[\"grade\"] = df[\"grade\"].cat.set_categories([\"very bad\", \"bad\", \"medium\", \"good\", \"very good\"])"
      ],
      "execution_count": null,
      "outputs": []
    },
    {
      "cell_type": "code",
      "metadata": {
        "id": "keefmgLpOyYL",
        "colab_type": "code",
        "colab": {},
        "outputId": "4ec87d92-58f0-47e5-9747-0eb3db02e140"
      },
      "source": [
        "df"
      ],
      "execution_count": null,
      "outputs": [
        {
          "output_type": "execute_result",
          "data": {
            "text/html": [
              "<div>\n",
              "<style>\n",
              "    .dataframe thead tr:only-child th {\n",
              "        text-align: right;\n",
              "    }\n",
              "\n",
              "    .dataframe thead th {\n",
              "        text-align: left;\n",
              "    }\n",
              "\n",
              "    .dataframe tbody tr th {\n",
              "        vertical-align: top;\n",
              "    }\n",
              "</style>\n",
              "<table border=\"1\" class=\"dataframe\">\n",
              "  <thead>\n",
              "    <tr style=\"text-align: right;\">\n",
              "      <th></th>\n",
              "      <th>id</th>\n",
              "      <th>raw_grade</th>\n",
              "      <th>grade</th>\n",
              "    </tr>\n",
              "  </thead>\n",
              "  <tbody>\n",
              "    <tr>\n",
              "      <th>0</th>\n",
              "      <td>1</td>\n",
              "      <td>a</td>\n",
              "      <td>very good</td>\n",
              "    </tr>\n",
              "    <tr>\n",
              "      <th>1</th>\n",
              "      <td>2</td>\n",
              "      <td>b</td>\n",
              "      <td>good</td>\n",
              "    </tr>\n",
              "    <tr>\n",
              "      <th>2</th>\n",
              "      <td>3</td>\n",
              "      <td>b</td>\n",
              "      <td>good</td>\n",
              "    </tr>\n",
              "    <tr>\n",
              "      <th>3</th>\n",
              "      <td>4</td>\n",
              "      <td>a</td>\n",
              "      <td>very good</td>\n",
              "    </tr>\n",
              "    <tr>\n",
              "      <th>4</th>\n",
              "      <td>5</td>\n",
              "      <td>a</td>\n",
              "      <td>very good</td>\n",
              "    </tr>\n",
              "    <tr>\n",
              "      <th>5</th>\n",
              "      <td>6</td>\n",
              "      <td>e</td>\n",
              "      <td>very bad</td>\n",
              "    </tr>\n",
              "  </tbody>\n",
              "</table>\n",
              "</div>"
            ],
            "text/plain": [
              "   id raw_grade      grade\n",
              "0   1         a  very good\n",
              "1   2         b       good\n",
              "2   3         b       good\n",
              "3   4         a  very good\n",
              "4   5         a  very good\n",
              "5   6         e   very bad"
            ]
          },
          "metadata": {
            "tags": []
          },
          "execution_count": 133
        }
      ]
    },
    {
      "cell_type": "markdown",
      "metadata": {
        "id": "7zNCQR6cOyYM",
        "colab_type": "text"
      },
      "source": [
        "Sorting is per order in the categories, not lexical order."
      ]
    },
    {
      "cell_type": "code",
      "metadata": {
        "id": "J2MomXZ3OyYM",
        "colab_type": "code",
        "colab": {},
        "outputId": "6d9db1fc-c740-43b7-c01b-fcb7c523138a"
      },
      "source": [
        "df.sort_values(by=\"raw_grade\")"
      ],
      "execution_count": null,
      "outputs": [
        {
          "output_type": "execute_result",
          "data": {
            "text/html": [
              "<div>\n",
              "<style>\n",
              "    .dataframe thead tr:only-child th {\n",
              "        text-align: right;\n",
              "    }\n",
              "\n",
              "    .dataframe thead th {\n",
              "        text-align: left;\n",
              "    }\n",
              "\n",
              "    .dataframe tbody tr th {\n",
              "        vertical-align: top;\n",
              "    }\n",
              "</style>\n",
              "<table border=\"1\" class=\"dataframe\">\n",
              "  <thead>\n",
              "    <tr style=\"text-align: right;\">\n",
              "      <th></th>\n",
              "      <th>id</th>\n",
              "      <th>raw_grade</th>\n",
              "      <th>grade</th>\n",
              "    </tr>\n",
              "  </thead>\n",
              "  <tbody>\n",
              "    <tr>\n",
              "      <th>0</th>\n",
              "      <td>1</td>\n",
              "      <td>a</td>\n",
              "      <td>very good</td>\n",
              "    </tr>\n",
              "    <tr>\n",
              "      <th>3</th>\n",
              "      <td>4</td>\n",
              "      <td>a</td>\n",
              "      <td>very good</td>\n",
              "    </tr>\n",
              "    <tr>\n",
              "      <th>4</th>\n",
              "      <td>5</td>\n",
              "      <td>a</td>\n",
              "      <td>very good</td>\n",
              "    </tr>\n",
              "    <tr>\n",
              "      <th>1</th>\n",
              "      <td>2</td>\n",
              "      <td>b</td>\n",
              "      <td>good</td>\n",
              "    </tr>\n",
              "    <tr>\n",
              "      <th>2</th>\n",
              "      <td>3</td>\n",
              "      <td>b</td>\n",
              "      <td>good</td>\n",
              "    </tr>\n",
              "    <tr>\n",
              "      <th>5</th>\n",
              "      <td>6</td>\n",
              "      <td>e</td>\n",
              "      <td>very bad</td>\n",
              "    </tr>\n",
              "  </tbody>\n",
              "</table>\n",
              "</div>"
            ],
            "text/plain": [
              "   id raw_grade      grade\n",
              "0   1         a  very good\n",
              "3   4         a  very good\n",
              "4   5         a  very good\n",
              "1   2         b       good\n",
              "2   3         b       good\n",
              "5   6         e   very bad"
            ]
          },
          "metadata": {
            "tags": []
          },
          "execution_count": 134
        }
      ]
    },
    {
      "cell_type": "markdown",
      "metadata": {
        "id": "73ZLrnByOyYN",
        "colab_type": "text"
      },
      "source": [
        "Grouping by a categorical column shows also empty categories."
      ]
    },
    {
      "cell_type": "code",
      "metadata": {
        "id": "_0P5N6UTOyYO",
        "colab_type": "code",
        "colab": {},
        "outputId": "20aa199f-8b0e-4fe9-d5db-c04005c3fb93"
      },
      "source": [
        "df.groupby(\"grade\").size()"
      ],
      "execution_count": null,
      "outputs": [
        {
          "output_type": "execute_result",
          "data": {
            "text/plain": [
              "grade\n",
              "very bad     1\n",
              "bad          0\n",
              "medium       0\n",
              "good         2\n",
              "very good    3\n",
              "dtype: int64"
            ]
          },
          "metadata": {
            "tags": []
          },
          "execution_count": 136
        }
      ]
    },
    {
      "cell_type": "markdown",
      "metadata": {
        "id": "4BHy8MNDOyYP",
        "colab_type": "text"
      },
      "source": [
        "## Plotting"
      ]
    },
    {
      "cell_type": "markdown",
      "metadata": {
        "id": "1PhiOpahOyYP",
        "colab_type": "text"
      },
      "source": [
        "[Plotting](http://pandas.pydata.org/pandas-docs/stable/visualization.html#visualization) docs."
      ]
    },
    {
      "cell_type": "code",
      "metadata": {
        "id": "ZMv2kPDVOyYP",
        "colab_type": "code",
        "colab": {}
      },
      "source": [
        "%matplotlib inline"
      ],
      "execution_count": null,
      "outputs": []
    },
    {
      "cell_type": "code",
      "metadata": {
        "id": "lcNnoTkIOyYR",
        "colab_type": "code",
        "colab": {}
      },
      "source": [
        "ts = pd.Series(np.random.randn(1000), index=pd.date_range('1/1/2000', periods=1000))"
      ],
      "execution_count": null,
      "outputs": []
    },
    {
      "cell_type": "code",
      "metadata": {
        "id": "UgO1WnZcOyYR",
        "colab_type": "code",
        "colab": {}
      },
      "source": [
        "ts = ts.cumsum()"
      ],
      "execution_count": null,
      "outputs": []
    },
    {
      "cell_type": "code",
      "metadata": {
        "id": "RMxP3wIiOyYU",
        "colab_type": "code",
        "colab": {},
        "outputId": "ce7ff489-84d5-4993-f91f-258d66bb91f1"
      },
      "source": [
        "ts.plot()"
      ],
      "execution_count": null,
      "outputs": [
        {
          "output_type": "execute_result",
          "data": {
            "text/plain": [
              "<matplotlib.axes._subplots.AxesSubplot at 0x7efbc10e3b00>"
            ]
          },
          "metadata": {
            "tags": []
          },
          "execution_count": 149
        },
        {
          "output_type": "display_data",
          "data": {
            "image/png": "[encoded data removed]",
            "text/plain": [
              "<matplotlib.figure.Figure at 0x7efbc44818d0>"
            ]
          },
          "metadata": {
            "tags": []
          }
        }
      ]
    },
    {
      "cell_type": "markdown",
      "metadata": {
        "id": "tjJBQuUeOyYW",
        "colab_type": "text"
      },
      "source": [
        "On DataFrame, [plot()](http://pandas.pydata.org/pandas-docs/stable/generated/pandas.DataFrame.plot.html#pandas.DataFrame.plot) is a convenience to plot all of the columns with labels:"
      ]
    },
    {
      "cell_type": "code",
      "metadata": {
        "id": "c2pYhOwIOyYW",
        "colab_type": "code",
        "colab": {}
      },
      "source": [
        "df = pd.DataFrame(np.random.randn(1000, 4), index=ts.index,\n",
        "                  columns=['A', 'B', 'C', 'D'])"
      ],
      "execution_count": null,
      "outputs": []
    },
    {
      "cell_type": "code",
      "metadata": {
        "id": "iF6MwreWOyYX",
        "colab_type": "code",
        "colab": {}
      },
      "source": [
        "df = df.cumsum()"
      ],
      "execution_count": null,
      "outputs": []
    },
    {
      "cell_type": "code",
      "metadata": {
        "id": "csF0MUMYOyYZ",
        "colab_type": "code",
        "colab": {},
        "outputId": "404e45a4-5c39-4c50-9ff9-fc0781826410"
      },
      "source": [
        "plt.figure(); df.plot(); plt.legend(loc='best')"
      ],
      "execution_count": null,
      "outputs": [
        {
          "output_type": "execute_result",
          "data": {
            "text/plain": [
              "<matplotlib.legend.Legend at 0x7efbc1938898>"
            ]
          },
          "metadata": {
            "tags": []
          },
          "execution_count": 152
        },
        {
          "output_type": "display_data",
          "data": {
            "text/plain": [
              "<matplotlib.figure.Figure at 0x7efbc10efeb8>"
            ]
          },
          "metadata": {
            "tags": []
          }
        },
        {
          "output_type": "display_data",
          "data": {
            "image/png": "[encoded data removed]",
            "text/plain": [
              "<matplotlib.figure.Figure at 0x7efbc10ef128>"
            ]
          },
          "metadata": {
            "tags": []
          }
        }
      ]
    },
    {
      "cell_type": "markdown",
      "metadata": {
        "id": "uyvdRf2IOyYZ",
        "colab_type": "text"
      },
      "source": [
        "## Getting Data In/Out "
      ]
    },
    {
      "cell_type": "markdown",
      "metadata": {
        "id": "SpwgeQzxOyYa",
        "colab_type": "text"
      },
      "source": [
        "### CSV"
      ]
    },
    {
      "cell_type": "markdown",
      "metadata": {
        "id": "_xYaC7MDOyYa",
        "colab_type": "text"
      },
      "source": [
        "Writing to CSV format\n",
        "\n",
        "The Series and DataFrame objects have an instance method to_csv which allows storing the contents of the object as a comma-separated-values file. The function takes a number of arguments. Only the first is required.\n",
        "\n",
        "        path_or_buf: A string path to the file to write or a StringIO\n",
        "        sep : Field delimiter for the output file (default ”,”)\n",
        "        na_rep: A string representation of a missing value (default ‘’)\n",
        "        float_format: Format string for floating point numbers\n",
        "        cols: Columns to write (default None)\n",
        "        header: Whether to write out the column names (default True)\n",
        "        index: whether to write row (index) names (default True)\n",
        "        index_label: Column label(s) for index column(s) if desired. If None (default), and header and index are True, then the index names are used. (A sequence should be given if the DataFrame uses MultiIndex).\n",
        "        mode : Python write mode, default ‘w’\n",
        "        encoding: a string representing the encoding to use if the contents are non-ASCII, for python versions prior to 3\n",
        "        line_terminator: Character sequence denoting line end (default ‘\\n’)\n",
        "        quoting: Set quoting rules as in csv module (default csv.QUOTE_MINIMAL). Note that if you have set a float_format then floats are converted to strings and csv.QUOTE_NONNUMERIC will treat them as non-numeric\n",
        "        quotechar: Character used to quote fields (default ‘”’)\n",
        "        doublequote: Control quoting of quotechar in fields (default True)\n",
        "        escapechar: Character used to escape sep and quotechar when appropriate (default None)\n",
        "        chunksize: Number of rows to write at a time\n",
        "        tupleize_cols: If False (default), write as a list of tuples, otherwise write in an expanded line format suitable for read_csv\n",
        "        date_format: Format string for datetime objects\n",
        "\n",
        "\n",
        "[Writing to a csv file](http://pandas.pydata.org/pandas-docs/stable/io.html#io-store-in-csv)"
      ]
    },
    {
      "cell_type": "code",
      "metadata": {
        "id": "R3ytImwAOyYa",
        "colab_type": "code",
        "colab": {}
      },
      "source": [
        "df.to_csv('foo.csv')"
      ],
      "execution_count": null,
      "outputs": []
    },
    {
      "cell_type": "markdown",
      "metadata": {
        "id": "iS8OXKroOyYb",
        "colab_type": "text"
      },
      "source": [
        "The two workhorse functions for reading text files (a.k.a. flat files) are read_csv() and read_table(). They both use the same parsing code to intelligently convert tabular data into a DataFrame object. See the cookbook for some advanced strategies.\n",
        "\n",
        "[Reading from a csv file](http://pandas.pydata.org/pandas-docs/stable/io.html#io-read-csv-table)"
      ]
    },
    {
      "cell_type": "code",
      "metadata": {
        "id": "c_zMw-ASOyYb",
        "colab_type": "code",
        "colab": {}
      },
      "source": [
        "newdf=pd.read_csv('foo.csv')"
      ],
      "execution_count": null,
      "outputs": []
    },
    {
      "cell_type": "code",
      "metadata": {
        "id": "RDK4GAWQOyYc",
        "colab_type": "code",
        "colab": {},
        "outputId": "476f6dc8-cd53-41bb-adbc-8e039f6347b0"
      },
      "source": [
        "newdf"
      ],
      "execution_count": null,
      "outputs": [
        {
          "output_type": "execute_result",
          "data": {
            "text/html": [
              "<div>\n",
              "<style>\n",
              "    .dataframe thead tr:only-child th {\n",
              "        text-align: right;\n",
              "    }\n",
              "\n",
              "    .dataframe thead th {\n",
              "        text-align: left;\n",
              "    }\n",
              "\n",
              "    .dataframe tbody tr th {\n",
              "        vertical-align: top;\n",
              "    }\n",
              "</style>\n",
              "<table border=\"1\" class=\"dataframe\">\n",
              "  <thead>\n",
              "    <tr style=\"text-align: right;\">\n",
              "      <th></th>\n",
              "      <th>Unnamed: 0</th>\n",
              "      <th>A</th>\n",
              "      <th>B</th>\n",
              "      <th>C</th>\n",
              "      <th>D</th>\n",
              "    </tr>\n",
              "  </thead>\n",
              "  <tbody>\n",
              "    <tr>\n",
              "      <th>0</th>\n",
              "      <td>2000-01-01</td>\n",
              "      <td>0.159289</td>\n",
              "      <td>-0.834674</td>\n",
              "      <td>0.879521</td>\n",
              "      <td>-0.088670</td>\n",
              "    </tr>\n",
              "    <tr>\n",
              "      <th>1</th>\n",
              "      <td>2000-01-02</td>\n",
              "      <td>-1.169677</td>\n",
              "      <td>-0.453124</td>\n",
              "      <td>1.602149</td>\n",
              "      <td>0.537449</td>\n",
              "    </tr>\n",
              "    <tr>\n",
              "      <th>2</th>\n",
              "      <td>2000-01-03</td>\n",
              "      <td>-2.419471</td>\n",
              "      <td>0.887075</td>\n",
              "      <td>1.514057</td>\n",
              "      <td>0.935858</td>\n",
              "    </tr>\n",
              "    <tr>\n",
              "      <th>3</th>\n",
              "      <td>2000-01-04</td>\n",
              "      <td>-0.998314</td>\n",
              "      <td>0.959830</td>\n",
              "      <td>1.294099</td>\n",
              "      <td>0.975728</td>\n",
              "    </tr>\n",
              "    <tr>\n",
              "      <th>4</th>\n",
              "      <td>2000-01-05</td>\n",
              "      <td>-1.486350</td>\n",
              "      <td>0.326752</td>\n",
              "      <td>1.055620</td>\n",
              "      <td>-0.084655</td>\n",
              "    </tr>\n",
              "    <tr>\n",
              "      <th>5</th>\n",
              "      <td>2000-01-06</td>\n",
              "      <td>-2.125197</td>\n",
              "      <td>-0.485260</td>\n",
              "      <td>0.742344</td>\n",
              "      <td>-0.852899</td>\n",
              "    </tr>\n",
              "    <tr>\n",
              "      <th>6</th>\n",
              "      <td>2000-01-07</td>\n",
              "      <td>-1.409750</td>\n",
              "      <td>-0.236801</td>\n",
              "      <td>1.570997</td>\n",
              "      <td>0.041638</td>\n",
              "    </tr>\n",
              "    <tr>\n",
              "      <th>7</th>\n",
              "      <td>2000-01-08</td>\n",
              "      <td>-2.413501</td>\n",
              "      <td>-1.167158</td>\n",
              "      <td>0.982975</td>\n",
              "      <td>-2.069047</td>\n",
              "    </tr>\n",
              "    <tr>\n",
              "      <th>8</th>\n",
              "      <td>2000-01-09</td>\n",
              "      <td>-2.867913</td>\n",
              "      <td>0.566193</td>\n",
              "      <td>0.525930</td>\n",
              "      <td>-2.422093</td>\n",
              "    </tr>\n",
              "    <tr>\n",
              "      <th>9</th>\n",
              "      <td>2000-01-10</td>\n",
              "      <td>-2.005503</td>\n",
              "      <td>1.618491</td>\n",
              "      <td>1.548367</td>\n",
              "      <td>-3.545626</td>\n",
              "    </tr>\n",
              "    <tr>\n",
              "      <th>10</th>\n",
              "      <td>2000-01-11</td>\n",
              "      <td>-1.807773</td>\n",
              "      <td>0.242595</td>\n",
              "      <td>0.521050</td>\n",
              "      <td>-4.505144</td>\n",
              "    </tr>\n",
              "    <tr>\n",
              "      <th>11</th>\n",
              "      <td>2000-01-12</td>\n",
              "      <td>-1.565391</td>\n",
              "      <td>0.065530</td>\n",
              "      <td>-0.062178</td>\n",
              "      <td>-5.994898</td>\n",
              "    </tr>\n",
              "    <tr>\n",
              "      <th>12</th>\n",
              "      <td>2000-01-13</td>\n",
              "      <td>-1.516537</td>\n",
              "      <td>1.286118</td>\n",
              "      <td>0.101796</td>\n",
              "      <td>-4.969527</td>\n",
              "    </tr>\n",
              "    <tr>\n",
              "      <th>13</th>\n",
              "      <td>2000-01-14</td>\n",
              "      <td>-2.470235</td>\n",
              "      <td>0.712518</td>\n",
              "      <td>0.732606</td>\n",
              "      <td>-3.685280</td>\n",
              "    </tr>\n",
              "    <tr>\n",
              "      <th>14</th>\n",
              "      <td>2000-01-15</td>\n",
              "      <td>-4.017440</td>\n",
              "      <td>-1.211989</td>\n",
              "      <td>0.256830</td>\n",
              "      <td>-2.575973</td>\n",
              "    </tr>\n",
              "    <tr>\n",
              "      <th>15</th>\n",
              "      <td>2000-01-16</td>\n",
              "      <td>-3.052793</td>\n",
              "      <td>-1.362946</td>\n",
              "      <td>0.507152</td>\n",
              "      <td>-1.502589</td>\n",
              "    </tr>\n",
              "    <tr>\n",
              "      <th>16</th>\n",
              "      <td>2000-01-17</td>\n",
              "      <td>-2.256978</td>\n",
              "      <td>-1.227463</td>\n",
              "      <td>0.553572</td>\n",
              "      <td>-0.714931</td>\n",
              "    </tr>\n",
              "    <tr>\n",
              "      <th>17</th>\n",
              "      <td>2000-01-18</td>\n",
              "      <td>-1.223344</td>\n",
              "      <td>-0.486639</td>\n",
              "      <td>-0.894250</td>\n",
              "      <td>-0.781692</td>\n",
              "    </tr>\n",
              "    <tr>\n",
              "      <th>18</th>\n",
              "      <td>2000-01-19</td>\n",
              "      <td>-0.833489</td>\n",
              "      <td>-1.141328</td>\n",
              "      <td>-0.936045</td>\n",
              "      <td>0.237287</td>\n",
              "    </tr>\n",
              "    <tr>\n",
              "      <th>19</th>\n",
              "      <td>2000-01-20</td>\n",
              "      <td>0.238519</td>\n",
              "      <td>-2.558474</td>\n",
              "      <td>-0.411310</td>\n",
              "      <td>0.278322</td>\n",
              "    </tr>\n",
              "    <tr>\n",
              "      <th>20</th>\n",
              "      <td>2000-01-21</td>\n",
              "      <td>0.837171</td>\n",
              "      <td>-2.563392</td>\n",
              "      <td>-1.522109</td>\n",
              "      <td>0.626577</td>\n",
              "    </tr>\n",
              "    <tr>\n",
              "      <th>21</th>\n",
              "      <td>2000-01-22</td>\n",
              "      <td>1.752439</td>\n",
              "      <td>-2.489649</td>\n",
              "      <td>-3.128773</td>\n",
              "      <td>0.376718</td>\n",
              "    </tr>\n",
              "    <tr>\n",
              "      <th>22</th>\n",
              "      <td>2000-01-23</td>\n",
              "      <td>1.795133</td>\n",
              "      <td>-4.888111</td>\n",
              "      <td>-3.535233</td>\n",
              "      <td>0.090902</td>\n",
              "    </tr>\n",
              "    <tr>\n",
              "      <th>23</th>\n",
              "      <td>2000-01-24</td>\n",
              "      <td>1.899897</td>\n",
              "      <td>-4.155057</td>\n",
              "      <td>-3.515173</td>\n",
              "      <td>-1.366440</td>\n",
              "    </tr>\n",
              "    <tr>\n",
              "      <th>24</th>\n",
              "      <td>2000-01-25</td>\n",
              "      <td>2.272443</td>\n",
              "      <td>-2.863324</td>\n",
              "      <td>-1.948715</td>\n",
              "      <td>-1.076953</td>\n",
              "    </tr>\n",
              "    <tr>\n",
              "      <th>25</th>\n",
              "      <td>2000-01-26</td>\n",
              "      <td>1.206743</td>\n",
              "      <td>-3.620194</td>\n",
              "      <td>-1.772809</td>\n",
              "      <td>-1.301778</td>\n",
              "    </tr>\n",
              "    <tr>\n",
              "      <th>26</th>\n",
              "      <td>2000-01-27</td>\n",
              "      <td>0.025988</td>\n",
              "      <td>-3.061023</td>\n",
              "      <td>-2.050738</td>\n",
              "      <td>-0.681358</td>\n",
              "    </tr>\n",
              "    <tr>\n",
              "      <th>27</th>\n",
              "      <td>2000-01-28</td>\n",
              "      <td>0.287589</td>\n",
              "      <td>-4.844976</td>\n",
              "      <td>-0.853958</td>\n",
              "      <td>-1.570390</td>\n",
              "    </tr>\n",
              "    <tr>\n",
              "      <th>28</th>\n",
              "      <td>2000-01-29</td>\n",
              "      <td>0.343514</td>\n",
              "      <td>-5.497924</td>\n",
              "      <td>0.105798</td>\n",
              "      <td>2.437834</td>\n",
              "    </tr>\n",
              "    <tr>\n",
              "      <th>29</th>\n",
              "      <td>2000-01-30</td>\n",
              "      <td>-0.025585</td>\n",
              "      <td>-4.506263</td>\n",
              "      <td>2.089250</td>\n",
              "      <td>2.140733</td>\n",
              "    </tr>\n",
              "    <tr>\n",
              "      <th>...</th>\n",
              "      <td>...</td>\n",
              "      <td>...</td>\n",
              "      <td>...</td>\n",
              "      <td>...</td>\n",
              "      <td>...</td>\n",
              "    </tr>\n",
              "    <tr>\n",
              "      <th>970</th>\n",
              "      <td>2002-08-28</td>\n",
              "      <td>-24.934832</td>\n",
              "      <td>15.631354</td>\n",
              "      <td>-21.438222</td>\n",
              "      <td>-16.382565</td>\n",
              "    </tr>\n",
              "    <tr>\n",
              "      <th>971</th>\n",
              "      <td>2002-08-29</td>\n",
              "      <td>-24.313687</td>\n",
              "      <td>16.783022</td>\n",
              "      <td>-23.661939</td>\n",
              "      <td>-15.636062</td>\n",
              "    </tr>\n",
              "    <tr>\n",
              "      <th>972</th>\n",
              "      <td>2002-08-30</td>\n",
              "      <td>-25.174445</td>\n",
              "      <td>17.280037</td>\n",
              "      <td>-23.057775</td>\n",
              "      <td>-16.584311</td>\n",
              "    </tr>\n",
              "    <tr>\n",
              "      <th>973</th>\n",
              "      <td>2002-08-31</td>\n",
              "      <td>-25.491624</td>\n",
              "      <td>16.458106</td>\n",
              "      <td>-23.896947</td>\n",
              "      <td>-18.467130</td>\n",
              "    </tr>\n",
              "    <tr>\n",
              "      <th>974</th>\n",
              "      <td>2002-09-01</td>\n",
              "      <td>-24.493729</td>\n",
              "      <td>16.300800</td>\n",
              "      <td>-24.046997</td>\n",
              "      <td>-17.870847</td>\n",
              "    </tr>\n",
              "    <tr>\n",
              "      <th>975</th>\n",
              "      <td>2002-09-02</td>\n",
              "      <td>-23.970623</td>\n",
              "      <td>14.410378</td>\n",
              "      <td>-24.954648</td>\n",
              "      <td>-18.726822</td>\n",
              "    </tr>\n",
              "    <tr>\n",
              "      <th>976</th>\n",
              "      <td>2002-09-03</td>\n",
              "      <td>-23.864239</td>\n",
              "      <td>14.760982</td>\n",
              "      <td>-24.341063</td>\n",
              "      <td>-18.749626</td>\n",
              "    </tr>\n",
              "    <tr>\n",
              "      <th>977</th>\n",
              "      <td>2002-09-04</td>\n",
              "      <td>-22.467344</td>\n",
              "      <td>14.933600</td>\n",
              "      <td>-24.539353</td>\n",
              "      <td>-19.586642</td>\n",
              "    </tr>\n",
              "    <tr>\n",
              "      <th>978</th>\n",
              "      <td>2002-09-05</td>\n",
              "      <td>-22.972988</td>\n",
              "      <td>13.883879</td>\n",
              "      <td>-24.737110</td>\n",
              "      <td>-19.585934</td>\n",
              "    </tr>\n",
              "    <tr>\n",
              "      <th>979</th>\n",
              "      <td>2002-09-06</td>\n",
              "      <td>-23.708683</td>\n",
              "      <td>13.387072</td>\n",
              "      <td>-23.335044</td>\n",
              "      <td>-19.656454</td>\n",
              "    </tr>\n",
              "    <tr>\n",
              "      <th>980</th>\n",
              "      <td>2002-09-07</td>\n",
              "      <td>-22.803577</td>\n",
              "      <td>13.311808</td>\n",
              "      <td>-23.278205</td>\n",
              "      <td>-19.296013</td>\n",
              "    </tr>\n",
              "    <tr>\n",
              "      <th>981</th>\n",
              "      <td>2002-09-08</td>\n",
              "      <td>-23.342164</td>\n",
              "      <td>13.995577</td>\n",
              "      <td>-22.523494</td>\n",
              "      <td>-18.429657</td>\n",
              "    </tr>\n",
              "    <tr>\n",
              "      <th>982</th>\n",
              "      <td>2002-09-09</td>\n",
              "      <td>-23.527517</td>\n",
              "      <td>13.059844</td>\n",
              "      <td>-22.164545</td>\n",
              "      <td>-18.938220</td>\n",
              "    </tr>\n",
              "    <tr>\n",
              "      <th>983</th>\n",
              "      <td>2002-09-10</td>\n",
              "      <td>-24.079515</td>\n",
              "      <td>13.742730</td>\n",
              "      <td>-21.909069</td>\n",
              "      <td>-18.583892</td>\n",
              "    </tr>\n",
              "    <tr>\n",
              "      <th>984</th>\n",
              "      <td>2002-09-11</td>\n",
              "      <td>-23.158338</td>\n",
              "      <td>14.283777</td>\n",
              "      <td>-24.222140</td>\n",
              "      <td>-18.875317</td>\n",
              "    </tr>\n",
              "    <tr>\n",
              "      <th>985</th>\n",
              "      <td>2002-09-12</td>\n",
              "      <td>-22.700871</td>\n",
              "      <td>14.770806</td>\n",
              "      <td>-23.608821</td>\n",
              "      <td>-19.112741</td>\n",
              "    </tr>\n",
              "    <tr>\n",
              "      <th>986</th>\n",
              "      <td>2002-09-13</td>\n",
              "      <td>-22.781031</td>\n",
              "      <td>15.488402</td>\n",
              "      <td>-24.026760</td>\n",
              "      <td>-19.169800</td>\n",
              "    </tr>\n",
              "    <tr>\n",
              "      <th>987</th>\n",
              "      <td>2002-09-14</td>\n",
              "      <td>-19.883210</td>\n",
              "      <td>16.204934</td>\n",
              "      <td>-25.930639</td>\n",
              "      <td>-18.395013</td>\n",
              "    </tr>\n",
              "    <tr>\n",
              "      <th>988</th>\n",
              "      <td>2002-09-15</td>\n",
              "      <td>-20.441595</td>\n",
              "      <td>17.317916</td>\n",
              "      <td>-26.671227</td>\n",
              "      <td>-17.088304</td>\n",
              "    </tr>\n",
              "    <tr>\n",
              "      <th>989</th>\n",
              "      <td>2002-09-16</td>\n",
              "      <td>-20.703301</td>\n",
              "      <td>17.172545</td>\n",
              "      <td>-26.950598</td>\n",
              "      <td>-17.291671</td>\n",
              "    </tr>\n",
              "    <tr>\n",
              "      <th>990</th>\n",
              "      <td>2002-09-17</td>\n",
              "      <td>-21.251034</td>\n",
              "      <td>16.399112</td>\n",
              "      <td>-25.593823</td>\n",
              "      <td>-17.020772</td>\n",
              "    </tr>\n",
              "    <tr>\n",
              "      <th>991</th>\n",
              "      <td>2002-09-18</td>\n",
              "      <td>-19.054374</td>\n",
              "      <td>15.157013</td>\n",
              "      <td>-24.453993</td>\n",
              "      <td>-18.181569</td>\n",
              "    </tr>\n",
              "    <tr>\n",
              "      <th>992</th>\n",
              "      <td>2002-09-19</td>\n",
              "      <td>-19.257707</td>\n",
              "      <td>15.066368</td>\n",
              "      <td>-25.414583</td>\n",
              "      <td>-20.231970</td>\n",
              "    </tr>\n",
              "    <tr>\n",
              "      <th>993</th>\n",
              "      <td>2002-09-20</td>\n",
              "      <td>-17.837895</td>\n",
              "      <td>16.431793</td>\n",
              "      <td>-26.491234</td>\n",
              "      <td>-18.782325</td>\n",
              "    </tr>\n",
              "    <tr>\n",
              "      <th>994</th>\n",
              "      <td>2002-09-21</td>\n",
              "      <td>-19.327121</td>\n",
              "      <td>16.483964</td>\n",
              "      <td>-26.280902</td>\n",
              "      <td>-19.155780</td>\n",
              "    </tr>\n",
              "    <tr>\n",
              "      <th>995</th>\n",
              "      <td>2002-09-22</td>\n",
              "      <td>-18.812614</td>\n",
              "      <td>17.342830</td>\n",
              "      <td>-25.827007</td>\n",
              "      <td>-19.339118</td>\n",
              "    </tr>\n",
              "    <tr>\n",
              "      <th>996</th>\n",
              "      <td>2002-09-23</td>\n",
              "      <td>-20.574929</td>\n",
              "      <td>16.400248</td>\n",
              "      <td>-25.582003</td>\n",
              "      <td>-18.419763</td>\n",
              "    </tr>\n",
              "    <tr>\n",
              "      <th>997</th>\n",
              "      <td>2002-09-24</td>\n",
              "      <td>-21.147594</td>\n",
              "      <td>17.336977</td>\n",
              "      <td>-26.370541</td>\n",
              "      <td>-17.431353</td>\n",
              "    </tr>\n",
              "    <tr>\n",
              "      <th>998</th>\n",
              "      <td>2002-09-25</td>\n",
              "      <td>-19.645122</td>\n",
              "      <td>17.712402</td>\n",
              "      <td>-26.555177</td>\n",
              "      <td>-17.196731</td>\n",
              "    </tr>\n",
              "    <tr>\n",
              "      <th>999</th>\n",
              "      <td>2002-09-26</td>\n",
              "      <td>-20.227397</td>\n",
              "      <td>18.351601</td>\n",
              "      <td>-26.420830</td>\n",
              "      <td>-17.429732</td>\n",
              "    </tr>\n",
              "  </tbody>\n",
              "</table>\n",
              "<p>1000 rows × 5 columns</p>\n",
              "</div>"
            ],
            "text/plain": [
              "     Unnamed: 0          A          B          C          D\n",
              "0    2000-01-01   0.159289  -0.834674   0.879521  -0.088670\n",
              "1    2000-01-02  -1.169677  -0.453124   1.602149   0.537449\n",
              "2    2000-01-03  -2.419471   0.887075   1.514057   0.935858\n",
              "3    2000-01-04  -0.998314   0.959830   1.294099   0.975728\n",
              "4    2000-01-05  -1.486350   0.326752   1.055620  -0.084655\n",
              "5    2000-01-06  -2.125197  -0.485260   0.742344  -0.852899\n",
              "6    2000-01-07  -1.409750  -0.236801   1.570997   0.041638\n",
              "7    2000-01-08  -2.413501  -1.167158   0.982975  -2.069047\n",
              "8    2000-01-09  -2.867913   0.566193   0.525930  -2.422093\n",
              "9    2000-01-10  -2.005503   1.618491   1.548367  -3.545626\n",
              "10   2000-01-11  -1.807773   0.242595   0.521050  -4.505144\n",
              "11   2000-01-12  -1.565391   0.065530  -0.062178  -5.994898\n",
              "12   2000-01-13  -1.516537   1.286118   0.101796  -4.969527\n",
              "13   2000-01-14  -2.470235   0.712518   0.732606  -3.685280\n",
              "14   2000-01-15  -4.017440  -1.211989   0.256830  -2.575973\n",
              "15   2000-01-16  -3.052793  -1.362946   0.507152  -1.502589\n",
              "16   2000-01-17  -2.256978  -1.227463   0.553572  -0.714931\n",
              "17   2000-01-18  -1.223344  -0.486639  -0.894250  -0.781692\n",
              "18   2000-01-19  -0.833489  -1.141328  -0.936045   0.237287\n",
              "19   2000-01-20   0.238519  -2.558474  -0.411310   0.278322\n",
              "20   2000-01-21   0.837171  -2.563392  -1.522109   0.626577\n",
              "21   2000-01-22   1.752439  -2.489649  -3.128773   0.376718\n",
              "22   2000-01-23   1.795133  -4.888111  -3.535233   0.090902\n",
              "23   2000-01-24   1.899897  -4.155057  -3.515173  -1.366440\n",
              "24   2000-01-25   2.272443  -2.863324  -1.948715  -1.076953\n",
              "25   2000-01-26   1.206743  -3.620194  -1.772809  -1.301778\n",
              "26   2000-01-27   0.025988  -3.061023  -2.050738  -0.681358\n",
              "27   2000-01-28   0.287589  -4.844976  -0.853958  -1.570390\n",
              "28   2000-01-29   0.343514  -5.497924   0.105798   2.437834\n",
              "29   2000-01-30  -0.025585  -4.506263   2.089250   2.140733\n",
              "..          ...        ...        ...        ...        ...\n",
              "970  2002-08-28 -24.934832  15.631354 -21.438222 -16.382565\n",
              "971  2002-08-29 -24.313687  16.783022 -23.661939 -15.636062\n",
              "972  2002-08-30 -25.174445  17.280037 -23.057775 -16.584311\n",
              "973  2002-08-31 -25.491624  16.458106 -23.896947 -18.467130\n",
              "974  2002-09-01 -24.493729  16.300800 -24.046997 -17.870847\n",
              "975  2002-09-02 -23.970623  14.410378 -24.954648 -18.726822\n",
              "976  2002-09-03 -23.864239  14.760982 -24.341063 -18.749626\n",
              "977  2002-09-04 -22.467344  14.933600 -24.539353 -19.586642\n",
              "978  2002-09-05 -22.972988  13.883879 -24.737110 -19.585934\n",
              "979  2002-09-06 -23.708683  13.387072 -23.335044 -19.656454\n",
              "980  2002-09-07 -22.803577  13.311808 -23.278205 -19.296013\n",
              "981  2002-09-08 -23.342164  13.995577 -22.523494 -18.429657\n",
              "982  2002-09-09 -23.527517  13.059844 -22.164545 -18.938220\n",
              "983  2002-09-10 -24.079515  13.742730 -21.909069 -18.583892\n",
              "984  2002-09-11 -23.158338  14.283777 -24.222140 -18.875317\n",
              "985  2002-09-12 -22.700871  14.770806 -23.608821 -19.112741\n",
              "986  2002-09-13 -22.781031  15.488402 -24.026760 -19.169800\n",
              "987  2002-09-14 -19.883210  16.204934 -25.930639 -18.395013\n",
              "988  2002-09-15 -20.441595  17.317916 -26.671227 -17.088304\n",
              "989  2002-09-16 -20.703301  17.172545 -26.950598 -17.291671\n",
              "990  2002-09-17 -21.251034  16.399112 -25.593823 -17.020772\n",
              "991  2002-09-18 -19.054374  15.157013 -24.453993 -18.181569\n",
              "992  2002-09-19 -19.257707  15.066368 -25.414583 -20.231970\n",
              "993  2002-09-20 -17.837895  16.431793 -26.491234 -18.782325\n",
              "994  2002-09-21 -19.327121  16.483964 -26.280902 -19.155780\n",
              "995  2002-09-22 -18.812614  17.342830 -25.827007 -19.339118\n",
              "996  2002-09-23 -20.574929  16.400248 -25.582003 -18.419763\n",
              "997  2002-09-24 -21.147594  17.336977 -26.370541 -17.431353\n",
              "998  2002-09-25 -19.645122  17.712402 -26.555177 -17.196731\n",
              "999  2002-09-26 -20.227397  18.351601 -26.420830 -17.429732\n",
              "\n",
              "[1000 rows x 5 columns]"
            ]
          },
          "metadata": {
            "tags": []
          },
          "execution_count": 432
        }
      ]
    },
    {
      "cell_type": "code",
      "metadata": {
        "id": "MgkTeUFpOyYd",
        "colab_type": "code",
        "colab": {}
      },
      "source": [
        "?pd.read_csv"
      ],
      "execution_count": null,
      "outputs": []
    },
    {
      "cell_type": "markdown",
      "metadata": {
        "id": "pckXGq-SOyYe",
        "colab_type": "text"
      },
      "source": [
        "### HDF5"
      ]
    },
    {
      "cell_type": "markdown",
      "metadata": {
        "id": "0r_jKBSROyYe",
        "colab_type": "text"
      },
      "source": [
        "Reading and writing to [HDFStores](http://pandas.pydata.org/pandas-docs/stable/io.html#io-hdf5)\n",
        "\n",
        "HDF5 on Wikipedia: [HDF5 Wiki](https://en.wikipedia.org/wiki/Hierarchical_Data_Format)"
      ]
    },
    {
      "cell_type": "markdown",
      "metadata": {
        "id": "5XS2KFBLOyYf",
        "colab_type": "text"
      },
      "source": [
        "Writing to a HDF5 Store"
      ]
    },
    {
      "cell_type": "code",
      "metadata": {
        "id": "gSF1NtzQOyYf",
        "colab_type": "code",
        "colab": {}
      },
      "source": [
        "df.to_hdf('foo.h5','df')"
      ],
      "execution_count": null,
      "outputs": []
    },
    {
      "cell_type": "markdown",
      "metadata": {
        "id": "MjsoeF1ROyYg",
        "colab_type": "text"
      },
      "source": [
        "Reading from a HDF5 Store"
      ]
    },
    {
      "cell_type": "code",
      "metadata": {
        "id": "OkBaQA84OyYg",
        "colab_type": "code",
        "colab": {},
        "outputId": "caf3126d-a4de-45c8-f88b-fc2b2a12a747"
      },
      "source": [
        "pd.read_hdf('foo.h5','df')"
      ],
      "execution_count": null,
      "outputs": [
        {
          "output_type": "execute_result",
          "data": {
            "text/html": [
              "<div>\n",
              "<style>\n",
              "    .dataframe thead tr:only-child th {\n",
              "        text-align: right;\n",
              "    }\n",
              "\n",
              "    .dataframe thead th {\n",
              "        text-align: left;\n",
              "    }\n",
              "\n",
              "    .dataframe tbody tr th {\n",
              "        vertical-align: top;\n",
              "    }\n",
              "</style>\n",
              "<table border=\"1\" class=\"dataframe\">\n",
              "  <thead>\n",
              "    <tr style=\"text-align: right;\">\n",
              "      <th></th>\n",
              "      <th>A</th>\n",
              "      <th>B</th>\n",
              "      <th>C</th>\n",
              "      <th>D</th>\n",
              "    </tr>\n",
              "  </thead>\n",
              "  <tbody>\n",
              "    <tr>\n",
              "      <th>2000-01-01</th>\n",
              "      <td>0.159289</td>\n",
              "      <td>-0.834674</td>\n",
              "      <td>0.879521</td>\n",
              "      <td>-0.088670</td>\n",
              "    </tr>\n",
              "    <tr>\n",
              "      <th>2000-01-02</th>\n",
              "      <td>-1.169677</td>\n",
              "      <td>-0.453124</td>\n",
              "      <td>1.602149</td>\n",
              "      <td>0.537449</td>\n",
              "    </tr>\n",
              "    <tr>\n",
              "      <th>2000-01-03</th>\n",
              "      <td>-2.419471</td>\n",
              "      <td>0.887075</td>\n",
              "      <td>1.514057</td>\n",
              "      <td>0.935858</td>\n",
              "    </tr>\n",
              "    <tr>\n",
              "      <th>2000-01-04</th>\n",
              "      <td>-0.998314</td>\n",
              "      <td>0.959830</td>\n",
              "      <td>1.294099</td>\n",
              "      <td>0.975728</td>\n",
              "    </tr>\n",
              "    <tr>\n",
              "      <th>2000-01-05</th>\n",
              "      <td>-1.486350</td>\n",
              "      <td>0.326752</td>\n",
              "      <td>1.055620</td>\n",
              "      <td>-0.084655</td>\n",
              "    </tr>\n",
              "    <tr>\n",
              "      <th>2000-01-06</th>\n",
              "      <td>-2.125197</td>\n",
              "      <td>-0.485260</td>\n",
              "      <td>0.742344</td>\n",
              "      <td>-0.852899</td>\n",
              "    </tr>\n",
              "    <tr>\n",
              "      <th>2000-01-07</th>\n",
              "      <td>-1.409750</td>\n",
              "      <td>-0.236801</td>\n",
              "      <td>1.570997</td>\n",
              "      <td>0.041638</td>\n",
              "    </tr>\n",
              "    <tr>\n",
              "      <th>2000-01-08</th>\n",
              "      <td>-2.413501</td>\n",
              "      <td>-1.167158</td>\n",
              "      <td>0.982975</td>\n",
              "      <td>-2.069047</td>\n",
              "    </tr>\n",
              "    <tr>\n",
              "      <th>2000-01-09</th>\n",
              "      <td>-2.867913</td>\n",
              "      <td>0.566193</td>\n",
              "      <td>0.525930</td>\n",
              "      <td>-2.422093</td>\n",
              "    </tr>\n",
              "    <tr>\n",
              "      <th>2000-01-10</th>\n",
              "      <td>-2.005503</td>\n",
              "      <td>1.618491</td>\n",
              "      <td>1.548367</td>\n",
              "      <td>-3.545626</td>\n",
              "    </tr>\n",
              "    <tr>\n",
              "      <th>2000-01-11</th>\n",
              "      <td>-1.807773</td>\n",
              "      <td>0.242595</td>\n",
              "      <td>0.521050</td>\n",
              "      <td>-4.505144</td>\n",
              "    </tr>\n",
              "    <tr>\n",
              "      <th>2000-01-12</th>\n",
              "      <td>-1.565391</td>\n",
              "      <td>0.065530</td>\n",
              "      <td>-0.062178</td>\n",
              "      <td>-5.994898</td>\n",
              "    </tr>\n",
              "    <tr>\n",
              "      <th>2000-01-13</th>\n",
              "      <td>-1.516537</td>\n",
              "      <td>1.286118</td>\n",
              "      <td>0.101796</td>\n",
              "      <td>-4.969527</td>\n",
              "    </tr>\n",
              "    <tr>\n",
              "      <th>2000-01-14</th>\n",
              "      <td>-2.470235</td>\n",
              "      <td>0.712518</td>\n",
              "      <td>0.732606</td>\n",
              "      <td>-3.685280</td>\n",
              "    </tr>\n",
              "    <tr>\n",
              "      <th>2000-01-15</th>\n",
              "      <td>-4.017440</td>\n",
              "      <td>-1.211989</td>\n",
              "      <td>0.256830</td>\n",
              "      <td>-2.575973</td>\n",
              "    </tr>\n",
              "    <tr>\n",
              "      <th>2000-01-16</th>\n",
              "      <td>-3.052793</td>\n",
              "      <td>-1.362946</td>\n",
              "      <td>0.507152</td>\n",
              "      <td>-1.502589</td>\n",
              "    </tr>\n",
              "    <tr>\n",
              "      <th>2000-01-17</th>\n",
              "      <td>-2.256978</td>\n",
              "      <td>-1.227463</td>\n",
              "      <td>0.553572</td>\n",
              "      <td>-0.714931</td>\n",
              "    </tr>\n",
              "    <tr>\n",
              "      <th>2000-01-18</th>\n",
              "      <td>-1.223344</td>\n",
              "      <td>-0.486639</td>\n",
              "      <td>-0.894250</td>\n",
              "      <td>-0.781692</td>\n",
              "    </tr>\n",
              "    <tr>\n",
              "      <th>2000-01-19</th>\n",
              "      <td>-0.833489</td>\n",
              "      <td>-1.141328</td>\n",
              "      <td>-0.936045</td>\n",
              "      <td>0.237287</td>\n",
              "    </tr>\n",
              "    <tr>\n",
              "      <th>2000-01-20</th>\n",
              "      <td>0.238519</td>\n",
              "      <td>-2.558474</td>\n",
              "      <td>-0.411310</td>\n",
              "      <td>0.278322</td>\n",
              "    </tr>\n",
              "    <tr>\n",
              "      <th>2000-01-21</th>\n",
              "      <td>0.837171</td>\n",
              "      <td>-2.563392</td>\n",
              "      <td>-1.522109</td>\n",
              "      <td>0.626577</td>\n",
              "    </tr>\n",
              "    <tr>\n",
              "      <th>2000-01-22</th>\n",
              "      <td>1.752439</td>\n",
              "      <td>-2.489649</td>\n",
              "      <td>-3.128773</td>\n",
              "      <td>0.376718</td>\n",
              "    </tr>\n",
              "    <tr>\n",
              "      <th>2000-01-23</th>\n",
              "      <td>1.795133</td>\n",
              "      <td>-4.888111</td>\n",
              "      <td>-3.535233</td>\n",
              "      <td>0.090902</td>\n",
              "    </tr>\n",
              "    <tr>\n",
              "      <th>2000-01-24</th>\n",
              "      <td>1.899897</td>\n",
              "      <td>-4.155057</td>\n",
              "      <td>-3.515173</td>\n",
              "      <td>-1.366440</td>\n",
              "    </tr>\n",
              "    <tr>\n",
              "      <th>2000-01-25</th>\n",
              "      <td>2.272443</td>\n",
              "      <td>-2.863324</td>\n",
              "      <td>-1.948715</td>\n",
              "      <td>-1.076953</td>\n",
              "    </tr>\n",
              "    <tr>\n",
              "      <th>2000-01-26</th>\n",
              "      <td>1.206743</td>\n",
              "      <td>-3.620194</td>\n",
              "      <td>-1.772809</td>\n",
              "      <td>-1.301778</td>\n",
              "    </tr>\n",
              "    <tr>\n",
              "      <th>2000-01-27</th>\n",
              "      <td>0.025988</td>\n",
              "      <td>-3.061023</td>\n",
              "      <td>-2.050738</td>\n",
              "      <td>-0.681358</td>\n",
              "    </tr>\n",
              "    <tr>\n",
              "      <th>2000-01-28</th>\n",
              "      <td>0.287589</td>\n",
              "      <td>-4.844976</td>\n",
              "      <td>-0.853958</td>\n",
              "      <td>-1.570390</td>\n",
              "    </tr>\n",
              "    <tr>\n",
              "      <th>2000-01-29</th>\n",
              "      <td>0.343514</td>\n",
              "      <td>-5.497924</td>\n",
              "      <td>0.105798</td>\n",
              "      <td>2.437834</td>\n",
              "    </tr>\n",
              "    <tr>\n",
              "      <th>2000-01-30</th>\n",
              "      <td>-0.025585</td>\n",
              "      <td>-4.506263</td>\n",
              "      <td>2.089250</td>\n",
              "      <td>2.140733</td>\n",
              "    </tr>\n",
              "    <tr>\n",
              "      <th>...</th>\n",
              "      <td>...</td>\n",
              "      <td>...</td>\n",
              "      <td>...</td>\n",
              "      <td>...</td>\n",
              "    </tr>\n",
              "    <tr>\n",
              "      <th>2002-08-28</th>\n",
              "      <td>-24.934832</td>\n",
              "      <td>15.631354</td>\n",
              "      <td>-21.438222</td>\n",
              "      <td>-16.382565</td>\n",
              "    </tr>\n",
              "    <tr>\n",
              "      <th>2002-08-29</th>\n",
              "      <td>-24.313687</td>\n",
              "      <td>16.783022</td>\n",
              "      <td>-23.661939</td>\n",
              "      <td>-15.636062</td>\n",
              "    </tr>\n",
              "    <tr>\n",
              "      <th>2002-08-30</th>\n",
              "      <td>-25.174445</td>\n",
              "      <td>17.280037</td>\n",
              "      <td>-23.057775</td>\n",
              "      <td>-16.584311</td>\n",
              "    </tr>\n",
              "    <tr>\n",
              "      <th>2002-08-31</th>\n",
              "      <td>-25.491624</td>\n",
              "      <td>16.458106</td>\n",
              "      <td>-23.896947</td>\n",
              "      <td>-18.467130</td>\n",
              "    </tr>\n",
              "    <tr>\n",
              "      <th>2002-09-01</th>\n",
              "      <td>-24.493729</td>\n",
              "      <td>16.300800</td>\n",
              "      <td>-24.046997</td>\n",
              "      <td>-17.870847</td>\n",
              "    </tr>\n",
              "    <tr>\n",
              "      <th>2002-09-02</th>\n",
              "      <td>-23.970623</td>\n",
              "      <td>14.410378</td>\n",
              "      <td>-24.954648</td>\n",
              "      <td>-18.726822</td>\n",
              "    </tr>\n",
              "    <tr>\n",
              "      <th>2002-09-03</th>\n",
              "      <td>-23.864239</td>\n",
              "      <td>14.760982</td>\n",
              "      <td>-24.341063</td>\n",
              "      <td>-18.749626</td>\n",
              "    </tr>\n",
              "    <tr>\n",
              "      <th>2002-09-04</th>\n",
              "      <td>-22.467344</td>\n",
              "      <td>14.933600</td>\n",
              "      <td>-24.539353</td>\n",
              "      <td>-19.586642</td>\n",
              "    </tr>\n",
              "    <tr>\n",
              "      <th>2002-09-05</th>\n",
              "      <td>-22.972988</td>\n",
              "      <td>13.883879</td>\n",
              "      <td>-24.737110</td>\n",
              "      <td>-19.585934</td>\n",
              "    </tr>\n",
              "    <tr>\n",
              "      <th>2002-09-06</th>\n",
              "      <td>-23.708683</td>\n",
              "      <td>13.387072</td>\n",
              "      <td>-23.335044</td>\n",
              "      <td>-19.656454</td>\n",
              "    </tr>\n",
              "    <tr>\n",
              "      <th>2002-09-07</th>\n",
              "      <td>-22.803577</td>\n",
              "      <td>13.311808</td>\n",
              "      <td>-23.278205</td>\n",
              "      <td>-19.296013</td>\n",
              "    </tr>\n",
              "    <tr>\n",
              "      <th>2002-09-08</th>\n",
              "      <td>-23.342164</td>\n",
              "      <td>13.995577</td>\n",
              "      <td>-22.523494</td>\n",
              "      <td>-18.429657</td>\n",
              "    </tr>\n",
              "    <tr>\n",
              "      <th>2002-09-09</th>\n",
              "      <td>-23.527517</td>\n",
              "      <td>13.059844</td>\n",
              "      <td>-22.164545</td>\n",
              "      <td>-18.938220</td>\n",
              "    </tr>\n",
              "    <tr>\n",
              "      <th>2002-09-10</th>\n",
              "      <td>-24.079515</td>\n",
              "      <td>13.742730</td>\n",
              "      <td>-21.909069</td>\n",
              "      <td>-18.583892</td>\n",
              "    </tr>\n",
              "    <tr>\n",
              "      <th>2002-09-11</th>\n",
              "      <td>-23.158338</td>\n",
              "      <td>14.283777</td>\n",
              "      <td>-24.222140</td>\n",
              "      <td>-18.875317</td>\n",
              "    </tr>\n",
              "    <tr>\n",
              "      <th>2002-09-12</th>\n",
              "      <td>-22.700871</td>\n",
              "      <td>14.770806</td>\n",
              "      <td>-23.608821</td>\n",
              "      <td>-19.112741</td>\n",
              "    </tr>\n",
              "    <tr>\n",
              "      <th>2002-09-13</th>\n",
              "      <td>-22.781031</td>\n",
              "      <td>15.488402</td>\n",
              "      <td>-24.026760</td>\n",
              "      <td>-19.169800</td>\n",
              "    </tr>\n",
              "    <tr>\n",
              "      <th>2002-09-14</th>\n",
              "      <td>-19.883210</td>\n",
              "      <td>16.204934</td>\n",
              "      <td>-25.930639</td>\n",
              "      <td>-18.395013</td>\n",
              "    </tr>\n",
              "    <tr>\n",
              "      <th>2002-09-15</th>\n",
              "      <td>-20.441595</td>\n",
              "      <td>17.317916</td>\n",
              "      <td>-26.671227</td>\n",
              "      <td>-17.088304</td>\n",
              "    </tr>\n",
              "    <tr>\n",
              "      <th>2002-09-16</th>\n",
              "      <td>-20.703301</td>\n",
              "      <td>17.172545</td>\n",
              "      <td>-26.950598</td>\n",
              "      <td>-17.291671</td>\n",
              "    </tr>\n",
              "    <tr>\n",
              "      <th>2002-09-17</th>\n",
              "      <td>-21.251034</td>\n",
              "      <td>16.399112</td>\n",
              "      <td>-25.593823</td>\n",
              "      <td>-17.020772</td>\n",
              "    </tr>\n",
              "    <tr>\n",
              "      <th>2002-09-18</th>\n",
              "      <td>-19.054374</td>\n",
              "      <td>15.157013</td>\n",
              "      <td>-24.453993</td>\n",
              "      <td>-18.181569</td>\n",
              "    </tr>\n",
              "    <tr>\n",
              "      <th>2002-09-19</th>\n",
              "      <td>-19.257707</td>\n",
              "      <td>15.066368</td>\n",
              "      <td>-25.414583</td>\n",
              "      <td>-20.231970</td>\n",
              "    </tr>\n",
              "    <tr>\n",
              "      <th>2002-09-20</th>\n",
              "      <td>-17.837895</td>\n",
              "      <td>16.431793</td>\n",
              "      <td>-26.491234</td>\n",
              "      <td>-18.782325</td>\n",
              "    </tr>\n",
              "    <tr>\n",
              "      <th>2002-09-21</th>\n",
              "      <td>-19.327121</td>\n",
              "      <td>16.483964</td>\n",
              "      <td>-26.280902</td>\n",
              "      <td>-19.155780</td>\n",
              "    </tr>\n",
              "    <tr>\n",
              "      <th>2002-09-22</th>\n",
              "      <td>-18.812614</td>\n",
              "      <td>17.342830</td>\n",
              "      <td>-25.827007</td>\n",
              "      <td>-19.339118</td>\n",
              "    </tr>\n",
              "    <tr>\n",
              "      <th>2002-09-23</th>\n",
              "      <td>-20.574929</td>\n",
              "      <td>16.400248</td>\n",
              "      <td>-25.582003</td>\n",
              "      <td>-18.419763</td>\n",
              "    </tr>\n",
              "    <tr>\n",
              "      <th>2002-09-24</th>\n",
              "      <td>-21.147594</td>\n",
              "      <td>17.336977</td>\n",
              "      <td>-26.370541</td>\n",
              "      <td>-17.431353</td>\n",
              "    </tr>\n",
              "    <tr>\n",
              "      <th>2002-09-25</th>\n",
              "      <td>-19.645122</td>\n",
              "      <td>17.712402</td>\n",
              "      <td>-26.555177</td>\n",
              "      <td>-17.196731</td>\n",
              "    </tr>\n",
              "    <tr>\n",
              "      <th>2002-09-26</th>\n",
              "      <td>-20.227397</td>\n",
              "      <td>18.351601</td>\n",
              "      <td>-26.420830</td>\n",
              "      <td>-17.429732</td>\n",
              "    </tr>\n",
              "  </tbody>\n",
              "</table>\n",
              "<p>1000 rows × 4 columns</p>\n",
              "</div>"
            ],
            "text/plain": [
              "                    A          B          C          D\n",
              "2000-01-01   0.159289  -0.834674   0.879521  -0.088670\n",
              "2000-01-02  -1.169677  -0.453124   1.602149   0.537449\n",
              "2000-01-03  -2.419471   0.887075   1.514057   0.935858\n",
              "2000-01-04  -0.998314   0.959830   1.294099   0.975728\n",
              "2000-01-05  -1.486350   0.326752   1.055620  -0.084655\n",
              "2000-01-06  -2.125197  -0.485260   0.742344  -0.852899\n",
              "2000-01-07  -1.409750  -0.236801   1.570997   0.041638\n",
              "2000-01-08  -2.413501  -1.167158   0.982975  -2.069047\n",
              "2000-01-09  -2.867913   0.566193   0.525930  -2.422093\n",
              "2000-01-10  -2.005503   1.618491   1.548367  -3.545626\n",
              "2000-01-11  -1.807773   0.242595   0.521050  -4.505144\n",
              "2000-01-12  -1.565391   0.065530  -0.062178  -5.994898\n",
              "2000-01-13  -1.516537   1.286118   0.101796  -4.969527\n",
              "2000-01-14  -2.470235   0.712518   0.732606  -3.685280\n",
              "2000-01-15  -4.017440  -1.211989   0.256830  -2.575973\n",
              "2000-01-16  -3.052793  -1.362946   0.507152  -1.502589\n",
              "2000-01-17  -2.256978  -1.227463   0.553572  -0.714931\n",
              "2000-01-18  -1.223344  -0.486639  -0.894250  -0.781692\n",
              "2000-01-19  -0.833489  -1.141328  -0.936045   0.237287\n",
              "2000-01-20   0.238519  -2.558474  -0.411310   0.278322\n",
              "2000-01-21   0.837171  -2.563392  -1.522109   0.626577\n",
              "2000-01-22   1.752439  -2.489649  -3.128773   0.376718\n",
              "2000-01-23   1.795133  -4.888111  -3.535233   0.090902\n",
              "2000-01-24   1.899897  -4.155057  -3.515173  -1.366440\n",
              "2000-01-25   2.272443  -2.863324  -1.948715  -1.076953\n",
              "2000-01-26   1.206743  -3.620194  -1.772809  -1.301778\n",
              "2000-01-27   0.025988  -3.061023  -2.050738  -0.681358\n",
              "2000-01-28   0.287589  -4.844976  -0.853958  -1.570390\n",
              "2000-01-29   0.343514  -5.497924   0.105798   2.437834\n",
              "2000-01-30  -0.025585  -4.506263   2.089250   2.140733\n",
              "...               ...        ...        ...        ...\n",
              "2002-08-28 -24.934832  15.631354 -21.438222 -16.382565\n",
              "2002-08-29 -24.313687  16.783022 -23.661939 -15.636062\n",
              "2002-08-30 -25.174445  17.280037 -23.057775 -16.584311\n",
              "2002-08-31 -25.491624  16.458106 -23.896947 -18.467130\n",
              "2002-09-01 -24.493729  16.300800 -24.046997 -17.870847\n",
              "2002-09-02 -23.970623  14.410378 -24.954648 -18.726822\n",
              "2002-09-03 -23.864239  14.760982 -24.341063 -18.749626\n",
              "2002-09-04 -22.467344  14.933600 -24.539353 -19.586642\n",
              "2002-09-05 -22.972988  13.883879 -24.737110 -19.585934\n",
              "2002-09-06 -23.708683  13.387072 -23.335044 -19.656454\n",
              "2002-09-07 -22.803577  13.311808 -23.278205 -19.296013\n",
              "2002-09-08 -23.342164  13.995577 -22.523494 -18.429657\n",
              "2002-09-09 -23.527517  13.059844 -22.164545 -18.938220\n",
              "2002-09-10 -24.079515  13.742730 -21.909069 -18.583892\n",
              "2002-09-11 -23.158338  14.283777 -24.222140 -18.875317\n",
              "2002-09-12 -22.700871  14.770806 -23.608821 -19.112741\n",
              "2002-09-13 -22.781031  15.488402 -24.026760 -19.169800\n",
              "2002-09-14 -19.883210  16.204934 -25.930639 -18.395013\n",
              "2002-09-15 -20.441595  17.317916 -26.671227 -17.088304\n",
              "2002-09-16 -20.703301  17.172545 -26.950598 -17.291671\n",
              "2002-09-17 -21.251034  16.399112 -25.593823 -17.020772\n",
              "2002-09-18 -19.054374  15.157013 -24.453993 -18.181569\n",
              "2002-09-19 -19.257707  15.066368 -25.414583 -20.231970\n",
              "2002-09-20 -17.837895  16.431793 -26.491234 -18.782325\n",
              "2002-09-21 -19.327121  16.483964 -26.280902 -19.155780\n",
              "2002-09-22 -18.812614  17.342830 -25.827007 -19.339118\n",
              "2002-09-23 -20.574929  16.400248 -25.582003 -18.419763\n",
              "2002-09-24 -21.147594  17.336977 -26.370541 -17.431353\n",
              "2002-09-25 -19.645122  17.712402 -26.555177 -17.196731\n",
              "2002-09-26 -20.227397  18.351601 -26.420830 -17.429732\n",
              "\n",
              "[1000 rows x 4 columns]"
            ]
          },
          "metadata": {
            "tags": []
          },
          "execution_count": 437
        }
      ]
    },
    {
      "cell_type": "markdown",
      "metadata": {
        "id": "jCC16vRFOyYh",
        "colab_type": "text"
      },
      "source": [
        "### Excel"
      ]
    },
    {
      "cell_type": "markdown",
      "metadata": {
        "id": "SfXBz5_7OyYh",
        "colab_type": "text"
      },
      "source": [
        "Excel files\n",
        "\n",
        "The read_excel() method can read Excel 2003 (.xls) and Excel 2007+ (.xlsx) files using the xlrd Python module. The to_excel() instance method is used for saving a DataFrame to Excel. Generally the semantics are similar to working with csv data\n",
        "\n",
        "Reading and writing to [MS Excel](http://pandas.pydata.org/pandas-docs/stable/io.html#io-excel)"
      ]
    },
    {
      "cell_type": "markdown",
      "metadata": {
        "id": "jv0YLGneOyYh",
        "colab_type": "text"
      },
      "source": [
        "Writing to an excel file"
      ]
    },
    {
      "cell_type": "code",
      "metadata": {
        "id": "HkxvsevIOyYh",
        "colab_type": "code",
        "colab": {}
      },
      "source": [
        "df.to_excel('foo.xlsx', sheet_name='Sheet1')"
      ],
      "execution_count": null,
      "outputs": []
    },
    {
      "cell_type": "markdown",
      "metadata": {
        "id": "dpe6dBMVOyYi",
        "colab_type": "text"
      },
      "source": [
        "Reading from an excel file"
      ]
    },
    {
      "cell_type": "code",
      "metadata": {
        "scrolled": false,
        "id": "8C1aoWJmOyYi",
        "colab_type": "code",
        "colab": {},
        "outputId": "ab5f645a-1b91-4efa-bc21-60ea64fe1d49"
      },
      "source": [
        "pd.read_excel('foo.xlsx', 'Sheet1', index_col=None, na_values=['NA'])"
      ],
      "execution_count": null,
      "outputs": [
        {
          "output_type": "execute_result",
          "data": {
            "text/html": [
              "<div>\n",
              "<style>\n",
              "    .dataframe thead tr:only-child th {\n",
              "        text-align: right;\n",
              "    }\n",
              "\n",
              "    .dataframe thead th {\n",
              "        text-align: left;\n",
              "    }\n",
              "\n",
              "    .dataframe tbody tr th {\n",
              "        vertical-align: top;\n",
              "    }\n",
              "</style>\n",
              "<table border=\"1\" class=\"dataframe\">\n",
              "  <thead>\n",
              "    <tr style=\"text-align: right;\">\n",
              "      <th></th>\n",
              "      <th>A</th>\n",
              "      <th>B</th>\n",
              "      <th>C</th>\n",
              "      <th>D</th>\n",
              "    </tr>\n",
              "  </thead>\n",
              "  <tbody>\n",
              "    <tr>\n",
              "      <th>2000-01-01</th>\n",
              "      <td>0.159289</td>\n",
              "      <td>-0.834674</td>\n",
              "      <td>0.879521</td>\n",
              "      <td>-0.088670</td>\n",
              "    </tr>\n",
              "    <tr>\n",
              "      <th>2000-01-02</th>\n",
              "      <td>-1.169677</td>\n",
              "      <td>-0.453124</td>\n",
              "      <td>1.602149</td>\n",
              "      <td>0.537449</td>\n",
              "    </tr>\n",
              "    <tr>\n",
              "      <th>2000-01-03</th>\n",
              "      <td>-2.419471</td>\n",
              "      <td>0.887075</td>\n",
              "      <td>1.514057</td>\n",
              "      <td>0.935858</td>\n",
              "    </tr>\n",
              "    <tr>\n",
              "      <th>2000-01-04</th>\n",
              "      <td>-0.998314</td>\n",
              "      <td>0.959830</td>\n",
              "      <td>1.294099</td>\n",
              "      <td>0.975728</td>\n",
              "    </tr>\n",
              "    <tr>\n",
              "      <th>2000-01-05</th>\n",
              "      <td>-1.486350</td>\n",
              "      <td>0.326752</td>\n",
              "      <td>1.055620</td>\n",
              "      <td>-0.084655</td>\n",
              "    </tr>\n",
              "    <tr>\n",
              "      <th>2000-01-06</th>\n",
              "      <td>-2.125197</td>\n",
              "      <td>-0.485260</td>\n",
              "      <td>0.742344</td>\n",
              "      <td>-0.852899</td>\n",
              "    </tr>\n",
              "    <tr>\n",
              "      <th>2000-01-07</th>\n",
              "      <td>-1.409750</td>\n",
              "      <td>-0.236801</td>\n",
              "      <td>1.570997</td>\n",
              "      <td>0.041638</td>\n",
              "    </tr>\n",
              "    <tr>\n",
              "      <th>2000-01-08</th>\n",
              "      <td>-2.413501</td>\n",
              "      <td>-1.167158</td>\n",
              "      <td>0.982975</td>\n",
              "      <td>-2.069047</td>\n",
              "    </tr>\n",
              "    <tr>\n",
              "      <th>2000-01-09</th>\n",
              "      <td>-2.867913</td>\n",
              "      <td>0.566193</td>\n",
              "      <td>0.525930</td>\n",
              "      <td>-2.422093</td>\n",
              "    </tr>\n",
              "    <tr>\n",
              "      <th>2000-01-10</th>\n",
              "      <td>-2.005503</td>\n",
              "      <td>1.618491</td>\n",
              "      <td>1.548367</td>\n",
              "      <td>-3.545626</td>\n",
              "    </tr>\n",
              "    <tr>\n",
              "      <th>2000-01-11</th>\n",
              "      <td>-1.807773</td>\n",
              "      <td>0.242595</td>\n",
              "      <td>0.521050</td>\n",
              "      <td>-4.505144</td>\n",
              "    </tr>\n",
              "    <tr>\n",
              "      <th>2000-01-12</th>\n",
              "      <td>-1.565391</td>\n",
              "      <td>0.065530</td>\n",
              "      <td>-0.062178</td>\n",
              "      <td>-5.994898</td>\n",
              "    </tr>\n",
              "    <tr>\n",
              "      <th>2000-01-13</th>\n",
              "      <td>-1.516537</td>\n",
              "      <td>1.286118</td>\n",
              "      <td>0.101796</td>\n",
              "      <td>-4.969527</td>\n",
              "    </tr>\n",
              "    <tr>\n",
              "      <th>2000-01-14</th>\n",
              "      <td>-2.470235</td>\n",
              "      <td>0.712518</td>\n",
              "      <td>0.732606</td>\n",
              "      <td>-3.685280</td>\n",
              "    </tr>\n",
              "    <tr>\n",
              "      <th>2000-01-15</th>\n",
              "      <td>-4.017440</td>\n",
              "      <td>-1.211989</td>\n",
              "      <td>0.256830</td>\n",
              "      <td>-2.575973</td>\n",
              "    </tr>\n",
              "    <tr>\n",
              "      <th>2000-01-16</th>\n",
              "      <td>-3.052793</td>\n",
              "      <td>-1.362946</td>\n",
              "      <td>0.507152</td>\n",
              "      <td>-1.502589</td>\n",
              "    </tr>\n",
              "    <tr>\n",
              "      <th>2000-01-17</th>\n",
              "      <td>-2.256978</td>\n",
              "      <td>-1.227463</td>\n",
              "      <td>0.553572</td>\n",
              "      <td>-0.714931</td>\n",
              "    </tr>\n",
              "    <tr>\n",
              "      <th>2000-01-18</th>\n",
              "      <td>-1.223344</td>\n",
              "      <td>-0.486639</td>\n",
              "      <td>-0.894250</td>\n",
              "      <td>-0.781692</td>\n",
              "    </tr>\n",
              "    <tr>\n",
              "      <th>2000-01-19</th>\n",
              "      <td>-0.833489</td>\n",
              "      <td>-1.141328</td>\n",
              "      <td>-0.936045</td>\n",
              "      <td>0.237287</td>\n",
              "    </tr>\n",
              "    <tr>\n",
              "      <th>2000-01-20</th>\n",
              "      <td>0.238519</td>\n",
              "      <td>-2.558474</td>\n",
              "      <td>-0.411310</td>\n",
              "      <td>0.278322</td>\n",
              "    </tr>\n",
              "    <tr>\n",
              "      <th>2000-01-21</th>\n",
              "      <td>0.837171</td>\n",
              "      <td>-2.563392</td>\n",
              "      <td>-1.522109</td>\n",
              "      <td>0.626577</td>\n",
              "    </tr>\n",
              "    <tr>\n",
              "      <th>2000-01-22</th>\n",
              "      <td>1.752439</td>\n",
              "      <td>-2.489649</td>\n",
              "      <td>-3.128773</td>\n",
              "      <td>0.376718</td>\n",
              "    </tr>\n",
              "    <tr>\n",
              "      <th>2000-01-23</th>\n",
              "      <td>1.795133</td>\n",
              "      <td>-4.888111</td>\n",
              "      <td>-3.535233</td>\n",
              "      <td>0.090902</td>\n",
              "    </tr>\n",
              "    <tr>\n",
              "      <th>2000-01-24</th>\n",
              "      <td>1.899897</td>\n",
              "      <td>-4.155057</td>\n",
              "      <td>-3.515173</td>\n",
              "      <td>-1.366440</td>\n",
              "    </tr>\n",
              "    <tr>\n",
              "      <th>2000-01-25</th>\n",
              "      <td>2.272443</td>\n",
              "      <td>-2.863324</td>\n",
              "      <td>-1.948715</td>\n",
              "      <td>-1.076953</td>\n",
              "    </tr>\n",
              "    <tr>\n",
              "      <th>2000-01-26</th>\n",
              "      <td>1.206743</td>\n",
              "      <td>-3.620194</td>\n",
              "      <td>-1.772809</td>\n",
              "      <td>-1.301778</td>\n",
              "    </tr>\n",
              "    <tr>\n",
              "      <th>2000-01-27</th>\n",
              "      <td>0.025988</td>\n",
              "      <td>-3.061023</td>\n",
              "      <td>-2.050738</td>\n",
              "      <td>-0.681358</td>\n",
              "    </tr>\n",
              "    <tr>\n",
              "      <th>2000-01-28</th>\n",
              "      <td>0.287589</td>\n",
              "      <td>-4.844976</td>\n",
              "      <td>-0.853958</td>\n",
              "      <td>-1.570390</td>\n",
              "    </tr>\n",
              "    <tr>\n",
              "      <th>2000-01-29</th>\n",
              "      <td>0.343514</td>\n",
              "      <td>-5.497924</td>\n",
              "      <td>0.105798</td>\n",
              "      <td>2.437834</td>\n",
              "    </tr>\n",
              "    <tr>\n",
              "      <th>2000-01-30</th>\n",
              "      <td>-0.025585</td>\n",
              "      <td>-4.506263</td>\n",
              "      <td>2.089250</td>\n",
              "      <td>2.140733</td>\n",
              "    </tr>\n",
              "    <tr>\n",
              "      <th>...</th>\n",
              "      <td>...</td>\n",
              "      <td>...</td>\n",
              "      <td>...</td>\n",
              "      <td>...</td>\n",
              "    </tr>\n",
              "    <tr>\n",
              "      <th>2002-08-28</th>\n",
              "      <td>-24.934832</td>\n",
              "      <td>15.631354</td>\n",
              "      <td>-21.438222</td>\n",
              "      <td>-16.382565</td>\n",
              "    </tr>\n",
              "    <tr>\n",
              "      <th>2002-08-29</th>\n",
              "      <td>-24.313687</td>\n",
              "      <td>16.783022</td>\n",
              "      <td>-23.661939</td>\n",
              "      <td>-15.636062</td>\n",
              "    </tr>\n",
              "    <tr>\n",
              "      <th>2002-08-30</th>\n",
              "      <td>-25.174445</td>\n",
              "      <td>17.280037</td>\n",
              "      <td>-23.057775</td>\n",
              "      <td>-16.584311</td>\n",
              "    </tr>\n",
              "    <tr>\n",
              "      <th>2002-08-31</th>\n",
              "      <td>-25.491624</td>\n",
              "      <td>16.458106</td>\n",
              "      <td>-23.896947</td>\n",
              "      <td>-18.467130</td>\n",
              "    </tr>\n",
              "    <tr>\n",
              "      <th>2002-09-01</th>\n",
              "      <td>-24.493729</td>\n",
              "      <td>16.300800</td>\n",
              "      <td>-24.046997</td>\n",
              "      <td>-17.870847</td>\n",
              "    </tr>\n",
              "    <tr>\n",
              "      <th>2002-09-02</th>\n",
              "      <td>-23.970623</td>\n",
              "      <td>14.410378</td>\n",
              "      <td>-24.954648</td>\n",
              "      <td>-18.726822</td>\n",
              "    </tr>\n",
              "    <tr>\n",
              "      <th>2002-09-03</th>\n",
              "      <td>-23.864239</td>\n",
              "      <td>14.760982</td>\n",
              "      <td>-24.341063</td>\n",
              "      <td>-18.749626</td>\n",
              "    </tr>\n",
              "    <tr>\n",
              "      <th>2002-09-04</th>\n",
              "      <td>-22.467344</td>\n",
              "      <td>14.933600</td>\n",
              "      <td>-24.539353</td>\n",
              "      <td>-19.586642</td>\n",
              "    </tr>\n",
              "    <tr>\n",
              "      <th>2002-09-05</th>\n",
              "      <td>-22.972988</td>\n",
              "      <td>13.883879</td>\n",
              "      <td>-24.737110</td>\n",
              "      <td>-19.585934</td>\n",
              "    </tr>\n",
              "    <tr>\n",
              "      <th>2002-09-06</th>\n",
              "      <td>-23.708683</td>\n",
              "      <td>13.387072</td>\n",
              "      <td>-23.335044</td>\n",
              "      <td>-19.656454</td>\n",
              "    </tr>\n",
              "    <tr>\n",
              "      <th>2002-09-07</th>\n",
              "      <td>-22.803577</td>\n",
              "      <td>13.311808</td>\n",
              "      <td>-23.278205</td>\n",
              "      <td>-19.296013</td>\n",
              "    </tr>\n",
              "    <tr>\n",
              "      <th>2002-09-08</th>\n",
              "      <td>-23.342164</td>\n",
              "      <td>13.995577</td>\n",
              "      <td>-22.523494</td>\n",
              "      <td>-18.429657</td>\n",
              "    </tr>\n",
              "    <tr>\n",
              "      <th>2002-09-09</th>\n",
              "      <td>-23.527517</td>\n",
              "      <td>13.059844</td>\n",
              "      <td>-22.164545</td>\n",
              "      <td>-18.938220</td>\n",
              "    </tr>\n",
              "    <tr>\n",
              "      <th>2002-09-10</th>\n",
              "      <td>-24.079515</td>\n",
              "      <td>13.742730</td>\n",
              "      <td>-21.909069</td>\n",
              "      <td>-18.583892</td>\n",
              "    </tr>\n",
              "    <tr>\n",
              "      <th>2002-09-11</th>\n",
              "      <td>-23.158338</td>\n",
              "      <td>14.283777</td>\n",
              "      <td>-24.222140</td>\n",
              "      <td>-18.875317</td>\n",
              "    </tr>\n",
              "    <tr>\n",
              "      <th>2002-09-12</th>\n",
              "      <td>-22.700871</td>\n",
              "      <td>14.770806</td>\n",
              "      <td>-23.608821</td>\n",
              "      <td>-19.112741</td>\n",
              "    </tr>\n",
              "    <tr>\n",
              "      <th>2002-09-13</th>\n",
              "      <td>-22.781031</td>\n",
              "      <td>15.488402</td>\n",
              "      <td>-24.026760</td>\n",
              "      <td>-19.169800</td>\n",
              "    </tr>\n",
              "    <tr>\n",
              "      <th>2002-09-14</th>\n",
              "      <td>-19.883210</td>\n",
              "      <td>16.204934</td>\n",
              "      <td>-25.930639</td>\n",
              "      <td>-18.395013</td>\n",
              "    </tr>\n",
              "    <tr>\n",
              "      <th>2002-09-15</th>\n",
              "      <td>-20.441595</td>\n",
              "      <td>17.317916</td>\n",
              "      <td>-26.671227</td>\n",
              "      <td>-17.088304</td>\n",
              "    </tr>\n",
              "    <tr>\n",
              "      <th>2002-09-16</th>\n",
              "      <td>-20.703301</td>\n",
              "      <td>17.172545</td>\n",
              "      <td>-26.950598</td>\n",
              "      <td>-17.291671</td>\n",
              "    </tr>\n",
              "    <tr>\n",
              "      <th>2002-09-17</th>\n",
              "      <td>-21.251034</td>\n",
              "      <td>16.399112</td>\n",
              "      <td>-25.593823</td>\n",
              "      <td>-17.020772</td>\n",
              "    </tr>\n",
              "    <tr>\n",
              "      <th>2002-09-18</th>\n",
              "      <td>-19.054374</td>\n",
              "      <td>15.157013</td>\n",
              "      <td>-24.453993</td>\n",
              "      <td>-18.181569</td>\n",
              "    </tr>\n",
              "    <tr>\n",
              "      <th>2002-09-19</th>\n",
              "      <td>-19.257707</td>\n",
              "      <td>15.066368</td>\n",
              "      <td>-25.414583</td>\n",
              "      <td>-20.231970</td>\n",
              "    </tr>\n",
              "    <tr>\n",
              "      <th>2002-09-20</th>\n",
              "      <td>-17.837895</td>\n",
              "      <td>16.431793</td>\n",
              "      <td>-26.491234</td>\n",
              "      <td>-18.782325</td>\n",
              "    </tr>\n",
              "    <tr>\n",
              "      <th>2002-09-21</th>\n",
              "      <td>-19.327121</td>\n",
              "      <td>16.483964</td>\n",
              "      <td>-26.280902</td>\n",
              "      <td>-19.155780</td>\n",
              "    </tr>\n",
              "    <tr>\n",
              "      <th>2002-09-22</th>\n",
              "      <td>-18.812614</td>\n",
              "      <td>17.342830</td>\n",
              "      <td>-25.827007</td>\n",
              "      <td>-19.339118</td>\n",
              "    </tr>\n",
              "    <tr>\n",
              "      <th>2002-09-23</th>\n",
              "      <td>-20.574929</td>\n",
              "      <td>16.400248</td>\n",
              "      <td>-25.582003</td>\n",
              "      <td>-18.419763</td>\n",
              "    </tr>\n",
              "    <tr>\n",
              "      <th>2002-09-24</th>\n",
              "      <td>-21.147594</td>\n",
              "      <td>17.336977</td>\n",
              "      <td>-26.370541</td>\n",
              "      <td>-17.431353</td>\n",
              "    </tr>\n",
              "    <tr>\n",
              "      <th>2002-09-25</th>\n",
              "      <td>-19.645122</td>\n",
              "      <td>17.712402</td>\n",
              "      <td>-26.555177</td>\n",
              "      <td>-17.196731</td>\n",
              "    </tr>\n",
              "    <tr>\n",
              "      <th>2002-09-26</th>\n",
              "      <td>-20.227397</td>\n",
              "      <td>18.351601</td>\n",
              "      <td>-26.420830</td>\n",
              "      <td>-17.429732</td>\n",
              "    </tr>\n",
              "  </tbody>\n",
              "</table>\n",
              "<p>1000 rows × 4 columns</p>\n",
              "</div>"
            ],
            "text/plain": [
              "                    A          B          C          D\n",
              "2000-01-01   0.159289  -0.834674   0.879521  -0.088670\n",
              "2000-01-02  -1.169677  -0.453124   1.602149   0.537449\n",
              "2000-01-03  -2.419471   0.887075   1.514057   0.935858\n",
              "2000-01-04  -0.998314   0.959830   1.294099   0.975728\n",
              "2000-01-05  -1.486350   0.326752   1.055620  -0.084655\n",
              "2000-01-06  -2.125197  -0.485260   0.742344  -0.852899\n",
              "2000-01-07  -1.409750  -0.236801   1.570997   0.041638\n",
              "2000-01-08  -2.413501  -1.167158   0.982975  -2.069047\n",
              "2000-01-09  -2.867913   0.566193   0.525930  -2.422093\n",
              "2000-01-10  -2.005503   1.618491   1.548367  -3.545626\n",
              "2000-01-11  -1.807773   0.242595   0.521050  -4.505144\n",
              "2000-01-12  -1.565391   0.065530  -0.062178  -5.994898\n",
              "2000-01-13  -1.516537   1.286118   0.101796  -4.969527\n",
              "2000-01-14  -2.470235   0.712518   0.732606  -3.685280\n",
              "2000-01-15  -4.017440  -1.211989   0.256830  -2.575973\n",
              "2000-01-16  -3.052793  -1.362946   0.507152  -1.502589\n",
              "2000-01-17  -2.256978  -1.227463   0.553572  -0.714931\n",
              "2000-01-18  -1.223344  -0.486639  -0.894250  -0.781692\n",
              "2000-01-19  -0.833489  -1.141328  -0.936045   0.237287\n",
              "2000-01-20   0.238519  -2.558474  -0.411310   0.278322\n",
              "2000-01-21   0.837171  -2.563392  -1.522109   0.626577\n",
              "2000-01-22   1.752439  -2.489649  -3.128773   0.376718\n",
              "2000-01-23   1.795133  -4.888111  -3.535233   0.090902\n",
              "2000-01-24   1.899897  -4.155057  -3.515173  -1.366440\n",
              "2000-01-25   2.272443  -2.863324  -1.948715  -1.076953\n",
              "2000-01-26   1.206743  -3.620194  -1.772809  -1.301778\n",
              "2000-01-27   0.025988  -3.061023  -2.050738  -0.681358\n",
              "2000-01-28   0.287589  -4.844976  -0.853958  -1.570390\n",
              "2000-01-29   0.343514  -5.497924   0.105798   2.437834\n",
              "2000-01-30  -0.025585  -4.506263   2.089250   2.140733\n",
              "...               ...        ...        ...        ...\n",
              "2002-08-28 -24.934832  15.631354 -21.438222 -16.382565\n",
              "2002-08-29 -24.313687  16.783022 -23.661939 -15.636062\n",
              "2002-08-30 -25.174445  17.280037 -23.057775 -16.584311\n",
              "2002-08-31 -25.491624  16.458106 -23.896947 -18.467130\n",
              "2002-09-01 -24.493729  16.300800 -24.046997 -17.870847\n",
              "2002-09-02 -23.970623  14.410378 -24.954648 -18.726822\n",
              "2002-09-03 -23.864239  14.760982 -24.341063 -18.749626\n",
              "2002-09-04 -22.467344  14.933600 -24.539353 -19.586642\n",
              "2002-09-05 -22.972988  13.883879 -24.737110 -19.585934\n",
              "2002-09-06 -23.708683  13.387072 -23.335044 -19.656454\n",
              "2002-09-07 -22.803577  13.311808 -23.278205 -19.296013\n",
              "2002-09-08 -23.342164  13.995577 -22.523494 -18.429657\n",
              "2002-09-09 -23.527517  13.059844 -22.164545 -18.938220\n",
              "2002-09-10 -24.079515  13.742730 -21.909069 -18.583892\n",
              "2002-09-11 -23.158338  14.283777 -24.222140 -18.875317\n",
              "2002-09-12 -22.700871  14.770806 -23.608821 -19.112741\n",
              "2002-09-13 -22.781031  15.488402 -24.026760 -19.169800\n",
              "2002-09-14 -19.883210  16.204934 -25.930639 -18.395013\n",
              "2002-09-15 -20.441595  17.317916 -26.671227 -17.088304\n",
              "2002-09-16 -20.703301  17.172545 -26.950598 -17.291671\n",
              "2002-09-17 -21.251034  16.399112 -25.593823 -17.020772\n",
              "2002-09-18 -19.054374  15.157013 -24.453993 -18.181569\n",
              "2002-09-19 -19.257707  15.066368 -25.414583 -20.231970\n",
              "2002-09-20 -17.837895  16.431793 -26.491234 -18.782325\n",
              "2002-09-21 -19.327121  16.483964 -26.280902 -19.155780\n",
              "2002-09-22 -18.812614  17.342830 -25.827007 -19.339118\n",
              "2002-09-23 -20.574929  16.400248 -25.582003 -18.419763\n",
              "2002-09-24 -21.147594  17.336977 -26.370541 -17.431353\n",
              "2002-09-25 -19.645122  17.712402 -26.555177 -17.196731\n",
              "2002-09-26 -20.227397  18.351601 -26.420830 -17.429732\n",
              "\n",
              "[1000 rows x 4 columns]"
            ]
          },
          "metadata": {
            "tags": []
          },
          "execution_count": 439
        }
      ]
    },
    {
      "cell_type": "code",
      "metadata": {
        "id": "N7uIzNvSOyYj",
        "colab_type": "code",
        "colab": {},
        "outputId": "25e7c8f4-a978-462b-b8aa-4194e97399b9"
      },
      "source": [
        "df.sort_values(\"A\", ascending=False)[:3]"
      ],
      "execution_count": null,
      "outputs": [
        {
          "output_type": "execute_result",
          "data": {
            "text/html": [
              "<div>\n",
              "<style>\n",
              "    .dataframe thead tr:only-child th {\n",
              "        text-align: right;\n",
              "    }\n",
              "\n",
              "    .dataframe thead th {\n",
              "        text-align: left;\n",
              "    }\n",
              "\n",
              "    .dataframe tbody tr th {\n",
              "        vertical-align: top;\n",
              "    }\n",
              "</style>\n",
              "<table border=\"1\" class=\"dataframe\">\n",
              "  <thead>\n",
              "    <tr style=\"text-align: right;\">\n",
              "      <th></th>\n",
              "      <th>A</th>\n",
              "      <th>B</th>\n",
              "      <th>C</th>\n",
              "      <th>D</th>\n",
              "    </tr>\n",
              "  </thead>\n",
              "  <tbody>\n",
              "    <tr>\n",
              "      <th>2002-06-01</th>\n",
              "      <td>55.633638</td>\n",
              "      <td>-20.711792</td>\n",
              "      <td>40.573787</td>\n",
              "      <td>20.174827</td>\n",
              "    </tr>\n",
              "    <tr>\n",
              "      <th>2002-05-31</th>\n",
              "      <td>55.002346</td>\n",
              "      <td>-20.610562</td>\n",
              "      <td>39.012345</td>\n",
              "      <td>19.729755</td>\n",
              "    </tr>\n",
              "    <tr>\n",
              "      <th>2002-05-30</th>\n",
              "      <td>54.792034</td>\n",
              "      <td>-20.433434</td>\n",
              "      <td>39.403346</td>\n",
              "      <td>18.716132</td>\n",
              "    </tr>\n",
              "  </tbody>\n",
              "</table>\n",
              "</div>"
            ],
            "text/plain": [
              "                    A          B          C          D\n",
              "2002-06-01  55.633638 -20.711792  40.573787  20.174827\n",
              "2002-05-31  55.002346 -20.610562  39.012345  19.729755\n",
              "2002-05-30  54.792034 -20.433434  39.403346  18.716132"
            ]
          },
          "metadata": {
            "tags": []
          },
          "execution_count": 161
        }
      ]
    },
    {
      "cell_type": "code",
      "metadata": {
        "id": "UFmnShlmOyYk",
        "colab_type": "code",
        "colab": {},
        "outputId": "f690072a-3e62-40f5-c54d-0143dbfbf21f"
      },
      "source": [
        "df.nlargest(3,\"A\")"
      ],
      "execution_count": null,
      "outputs": [
        {
          "output_type": "execute_result",
          "data": {
            "text/html": [
              "<div>\n",
              "<style>\n",
              "    .dataframe thead tr:only-child th {\n",
              "        text-align: right;\n",
              "    }\n",
              "\n",
              "    .dataframe thead th {\n",
              "        text-align: left;\n",
              "    }\n",
              "\n",
              "    .dataframe tbody tr th {\n",
              "        vertical-align: top;\n",
              "    }\n",
              "</style>\n",
              "<table border=\"1\" class=\"dataframe\">\n",
              "  <thead>\n",
              "    <tr style=\"text-align: right;\">\n",
              "      <th></th>\n",
              "      <th>A</th>\n",
              "      <th>B</th>\n",
              "      <th>C</th>\n",
              "      <th>D</th>\n",
              "    </tr>\n",
              "  </thead>\n",
              "  <tbody>\n",
              "    <tr>\n",
              "      <th>2002-06-01</th>\n",
              "      <td>55.633638</td>\n",
              "      <td>-20.711792</td>\n",
              "      <td>40.573787</td>\n",
              "      <td>20.174827</td>\n",
              "    </tr>\n",
              "    <tr>\n",
              "      <th>2002-05-31</th>\n",
              "      <td>55.002346</td>\n",
              "      <td>-20.610562</td>\n",
              "      <td>39.012345</td>\n",
              "      <td>19.729755</td>\n",
              "    </tr>\n",
              "    <tr>\n",
              "      <th>2002-05-30</th>\n",
              "      <td>54.792034</td>\n",
              "      <td>-20.433434</td>\n",
              "      <td>39.403346</td>\n",
              "      <td>18.716132</td>\n",
              "    </tr>\n",
              "  </tbody>\n",
              "</table>\n",
              "</div>"
            ],
            "text/plain": [
              "                    A          B          C          D\n",
              "2002-06-01  55.633638 -20.711792  40.573787  20.174827\n",
              "2002-05-31  55.002346 -20.610562  39.012345  19.729755\n",
              "2002-05-30  54.792034 -20.433434  39.403346  18.716132"
            ]
          },
          "metadata": {
            "tags": []
          },
          "execution_count": 154
        }
      ]
    },
    {
      "cell_type": "code",
      "metadata": {
        "id": "gnZp5bGwOyYl",
        "colab_type": "code",
        "colab": {},
        "outputId": "2c5ae106-a251-4e74-88cb-086c6840de4e"
      },
      "source": [
        "!pip install PyTable"
      ],
      "execution_count": null,
      "outputs": [
        {
          "output_type": "stream",
          "text": [
            "Collecting PyTable\n",
            "  Using cached https://files.pythonhosted.org/packages/10/5e/bf835ddc7130ed7ec42f18a6af42990a5430280f88c1249d1aa8c38735b1/pytable-0.8.23a.tar.gz\n",
            "Collecting basicproperty>=0.6.9a (from PyTable)\n",
            "\u001b[31m  Could not find a version that satisfies the requirement basicproperty>=0.6.9a (from PyTable) (from versions: )\u001b[0m\n",
            "\u001b[31mNo matching distribution found for basicproperty>=0.6.9a (from PyTable)\u001b[0m\n",
            "\u001b[33mYou are using pip version 9.0.1, however version 18.1 is available.\n",
            "You should consider upgrading via the 'pip install --upgrade pip' command.\u001b[0m\n"
          ],
          "name": "stdout"
        }
      ]
    },
    {
      "cell_type": "code",
      "metadata": {
        "id": "Vk50ZJKZOyYm",
        "colab_type": "code",
        "colab": {}
      },
      "source": [
        ""
      ],
      "execution_count": null,
      "outputs": []
    }
  ]
}