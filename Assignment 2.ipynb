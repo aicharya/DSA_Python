{
  "nbformat": 4,
  "nbformat_minor": 0,
  "metadata": {
    "anaconda-cloud": {},
    "coursera": {
      "course_slug": "python-data-analysis",
      "graded_item_id": "tHmgx",
      "launcher_item_id": "Um6Bz",
      "part_id": "OQsnr"
    },
    "kernelspec": {
      "display_name": "Python 3",
      "language": "python",
      "name": "python3"
    },
    "language_info": {
      "codemirror_mode": {
        "name": "ipython",
        "version": 3
      },
      "file_extension": ".py",
      "mimetype": "text/x-python",
      "name": "python",
      "nbconvert_exporter": "python",
      "pygments_lexer": "ipython3",
      "version": "3.5.2"
    },
    "colab": {
      "name": "Assignment 2.ipynb",
      "provenance": []
    }
  },
  "cells": [
    {
      "cell_type": "markdown",
      "metadata": {
        "id": "tly_C8ekAcYY",
        "colab_type": "text"
      },
      "source": [
        "---\n",
        "\n",
        "_You are currently looking at **version 1.2** of this notebook. To download notebooks and datafiles, as well as get help on Jupyter notebooks in the Coursera platform, visit the [Jupyter Notebook FAQ](https://www.coursera.org/learn/python-data-analysis/resources/0dhYG) course resource._\n",
        "\n",
        "---"
      ]
    },
    {
      "cell_type": "code",
      "metadata": {
        "id": "z-RIWmLgBNvg",
        "colab_type": "code",
        "colab": {
          "base_uri": "https://localhost:8080/",
          "height": 141
        },
        "outputId": "486fe8a5-f083-462c-9c51-8db3a7ca8c3c"
      },
      "source": [
        "!git clone https://github.com/aicharya/DSA_Python"
      ],
      "execution_count": 1,
      "outputs": [
        {
          "output_type": "stream",
          "text": [
            "Cloning into 'DSA_Python'...\n",
            "remote: Enumerating objects: 111, done.\u001b[K\n",
            "remote: Counting objects: 100% (111/111), done.\u001b[K\n",
            "remote: Compressing objects: 100% (109/109), done.\u001b[K\n",
            "remote: Total 111 (delta 46), reused 0 (delta 0), pack-reused 0\u001b[K\n",
            "Receiving objects: 100% (111/111), 1.58 MiB | 3.64 MiB/s, done.\n",
            "Resolving deltas: 100% (46/46), done.\n"
          ],
          "name": "stdout"
        }
      ]
    },
    {
      "cell_type": "code",
      "metadata": {
        "id": "d4roCwLsBeAa",
        "colab_type": "code",
        "colab": {
          "base_uri": "https://localhost:8080/",
          "height": 461
        },
        "outputId": "d8d83801-f7b5-4adf-9257-b3ec5884a4c2"
      },
      "source": [
        "import os\n",
        "os.chdir(\"DSA_Python\")\n",
        "os.listdir()"
      ],
      "execution_count": 2,
      "outputs": [
        {
          "output_type": "execute_result",
          "data": {
            "text/plain": [
              "['DSA_Python_23May2020.ipynb',\n",
              " 'Exercise-01 _NumPy_Oct_2019.ipynb',\n",
              " 'README.md',\n",
              " '.git',\n",
              " 'DSA_Python_06JUNE2020.ipynb',\n",
              " 'DSA_Python_24May2020.ipynb',\n",
              " 'PandasTutorial.ipynb',\n",
              " 'filter.py',\n",
              " 'olympics.csv',\n",
              " 'breast_cancer.csv',\n",
              " 'DSA_Python_10MAY2020.ipynb',\n",
              " 'Bicycle_Train.csv',\n",
              " 'iris.csv',\n",
              " 'DSAops.py',\n",
              " 'Bicycle_Test.csv',\n",
              " 'class01.py',\n",
              " 'boston_house_prices.csv',\n",
              " 'DSA_Python_17MAY2020.ipynb',\n",
              " 'Pandas Tutorial (Updated-Jul 2020).ipynb',\n",
              " 'NumPy.ipynb',\n",
              " 'map.py',\n",
              " 'wine_data.csv',\n",
              " 'census.csv',\n",
              " 'Assignment 2.ipynb',\n",
              " 'person.py']"
            ]
          },
          "metadata": {
            "tags": []
          },
          "execution_count": 2
        }
      ]
    },
    {
      "cell_type": "code",
      "metadata": {
        "id": "AAgwI5L0BgNM",
        "colab_type": "code",
        "colab": {
          "base_uri": "https://localhost:8080/",
          "height": 212
        },
        "outputId": "4a731ef6-8d6e-4e46-fc97-750a0964af2f"
      },
      "source": [
        "!ls"
      ],
      "execution_count": null,
      "outputs": [
        {
          "output_type": "stream",
          "text": [
            "'Assignment 2.ipynb'\t       DSA_Python_24May2020.ipynb\n",
            " Bicycle_Test.csv\t      'Exercise-01 _NumPy_Oct_2019.ipynb'\n",
            " Bicycle_Train.csv\t       filter.py\n",
            " boston_house_prices.csv       iris.csv\n",
            " breast_cancer.csv\t       map.py\n",
            " class01.py\t\t       NumPy.ipynb\n",
            " DSAops.py\t\t       olympics.csv\n",
            " DSA_Python_06JUNE2020.ipynb   PandasTutorial.ipynb\n",
            " DSA_Python_10MAY2020.ipynb    person.py\n",
            " DSA_Python_17MAY2020.ipynb    README.md\n",
            " DSA_Python_23May2020.ipynb    wine_data.csv\n"
          ],
          "name": "stdout"
        }
      ]
    },
    {
      "cell_type": "markdown",
      "metadata": {
        "id": "nQKSHrpyAcYZ",
        "colab_type": "text"
      },
      "source": [
        "# Assignment 2 - Pandas Introduction\n",
        "All questions are weighted the same in this assignment.\n",
        "## Part 1\n",
        "The following code loads the olympics dataset (olympics.csv), which was derrived from the Wikipedia entry on [All Time Olympic Games Medals](https://en.wikipedia.org/wiki/All-time_Olympic_Games_medal_table), and does some basic data cleaning. \n",
        "\n",
        "The columns are organized as # of Summer games, Summer medals, # of Winter games, Winter medals, total # number of games, total # of medals. Use this dataset to answer the questions below."
      ]
    },
    {
      "cell_type": "code",
      "metadata": {
        "id": "SwtOHRa6G02R",
        "colab_type": "code",
        "colab": {}
      },
      "source": [
        "import pandas as pd\n",
        "\n",
        "df = pd.read_csv('olympics.csv', index_col=0)"
      ],
      "execution_count": 3,
      "outputs": []
    },
    {
      "cell_type": "code",
      "metadata": {
        "id": "Vfj7G8ddIE1n",
        "colab_type": "code",
        "colab": {
          "base_uri": "https://localhost:8080/",
          "height": 227
        },
        "outputId": "e8608294-b174-4612-db09-e687ab73cb3a"
      },
      "source": [
        "df.head()"
      ],
      "execution_count": 4,
      "outputs": [
        {
          "output_type": "execute_result",
          "data": {
            "text/html": [
              "<div>\n",
              "<style scoped>\n",
              "    .dataframe tbody tr th:only-of-type {\n",
              "        vertical-align: middle;\n",
              "    }\n",
              "\n",
              "    .dataframe tbody tr th {\n",
              "        vertical-align: top;\n",
              "    }\n",
              "\n",
              "    .dataframe thead th {\n",
              "        text-align: right;\n",
              "    }\n",
              "</style>\n",
              "<table border=\"1\" class=\"dataframe\">\n",
              "  <thead>\n",
              "    <tr style=\"text-align: right;\">\n",
              "      <th></th>\n",
              "      <th>1</th>\n",
              "      <th>2</th>\n",
              "      <th>3</th>\n",
              "      <th>4</th>\n",
              "      <th>5</th>\n",
              "      <th>6</th>\n",
              "      <th>7</th>\n",
              "      <th>8</th>\n",
              "      <th>9</th>\n",
              "      <th>10</th>\n",
              "      <th>11</th>\n",
              "      <th>12</th>\n",
              "      <th>13</th>\n",
              "      <th>14</th>\n",
              "      <th>15</th>\n",
              "    </tr>\n",
              "    <tr>\n",
              "      <th>0</th>\n",
              "      <th></th>\n",
              "      <th></th>\n",
              "      <th></th>\n",
              "      <th></th>\n",
              "      <th></th>\n",
              "      <th></th>\n",
              "      <th></th>\n",
              "      <th></th>\n",
              "      <th></th>\n",
              "      <th></th>\n",
              "      <th></th>\n",
              "      <th></th>\n",
              "      <th></th>\n",
              "      <th></th>\n",
              "      <th></th>\n",
              "    </tr>\n",
              "  </thead>\n",
              "  <tbody>\n",
              "    <tr>\n",
              "      <th>NaN</th>\n",
              "      <td>№ Summer</td>\n",
              "      <td>01 !</td>\n",
              "      <td>02 !</td>\n",
              "      <td>03 !</td>\n",
              "      <td>Total</td>\n",
              "      <td>№ Winter</td>\n",
              "      <td>01 !</td>\n",
              "      <td>02 !</td>\n",
              "      <td>03 !</td>\n",
              "      <td>Total</td>\n",
              "      <td>№ Games</td>\n",
              "      <td>01 !</td>\n",
              "      <td>02 !</td>\n",
              "      <td>03 !</td>\n",
              "      <td>Combined total</td>\n",
              "    </tr>\n",
              "    <tr>\n",
              "      <th>Afghanistan (AFG)</th>\n",
              "      <td>13</td>\n",
              "      <td>0</td>\n",
              "      <td>0</td>\n",
              "      <td>2</td>\n",
              "      <td>2</td>\n",
              "      <td>0</td>\n",
              "      <td>0</td>\n",
              "      <td>0</td>\n",
              "      <td>0</td>\n",
              "      <td>0</td>\n",
              "      <td>13</td>\n",
              "      <td>0</td>\n",
              "      <td>0</td>\n",
              "      <td>2</td>\n",
              "      <td>2</td>\n",
              "    </tr>\n",
              "    <tr>\n",
              "      <th>Algeria (ALG)</th>\n",
              "      <td>12</td>\n",
              "      <td>5</td>\n",
              "      <td>2</td>\n",
              "      <td>8</td>\n",
              "      <td>15</td>\n",
              "      <td>3</td>\n",
              "      <td>0</td>\n",
              "      <td>0</td>\n",
              "      <td>0</td>\n",
              "      <td>0</td>\n",
              "      <td>15</td>\n",
              "      <td>5</td>\n",
              "      <td>2</td>\n",
              "      <td>8</td>\n",
              "      <td>15</td>\n",
              "    </tr>\n",
              "    <tr>\n",
              "      <th>Argentina (ARG)</th>\n",
              "      <td>23</td>\n",
              "      <td>18</td>\n",
              "      <td>24</td>\n",
              "      <td>28</td>\n",
              "      <td>70</td>\n",
              "      <td>18</td>\n",
              "      <td>0</td>\n",
              "      <td>0</td>\n",
              "      <td>0</td>\n",
              "      <td>0</td>\n",
              "      <td>41</td>\n",
              "      <td>18</td>\n",
              "      <td>24</td>\n",
              "      <td>28</td>\n",
              "      <td>70</td>\n",
              "    </tr>\n",
              "    <tr>\n",
              "      <th>Armenia (ARM)</th>\n",
              "      <td>5</td>\n",
              "      <td>1</td>\n",
              "      <td>2</td>\n",
              "      <td>9</td>\n",
              "      <td>12</td>\n",
              "      <td>6</td>\n",
              "      <td>0</td>\n",
              "      <td>0</td>\n",
              "      <td>0</td>\n",
              "      <td>0</td>\n",
              "      <td>11</td>\n",
              "      <td>1</td>\n",
              "      <td>2</td>\n",
              "      <td>9</td>\n",
              "      <td>12</td>\n",
              "    </tr>\n",
              "  </tbody>\n",
              "</table>\n",
              "</div>"
            ],
            "text/plain": [
              "                          1     2     3     4  ...    12    13    14              15\n",
              "0                                              ...                                  \n",
              "NaN                № Summer  01 !  02 !  03 !  ...  01 !  02 !  03 !  Combined total\n",
              "Afghanistan (AFG)        13     0     0     2  ...     0     0     2               2\n",
              "Algeria (ALG)            12     5     2     8  ...     5     2     8              15\n",
              "Argentina (ARG)          23    18    24    28  ...    18    24    28              70\n",
              "Armenia (ARM)             5     1     2     9  ...     1     2     9              12\n",
              "\n",
              "[5 rows x 15 columns]"
            ]
          },
          "metadata": {
            "tags": []
          },
          "execution_count": 4
        }
      ]
    },
    {
      "cell_type": "code",
      "metadata": {
        "id": "EqkoHOJRI8cd",
        "colab_type": "code",
        "colab": {}
      },
      "source": [
        "df = pd.read_csv('olympics.csv', index_col=0, skiprows=1)"
      ],
      "execution_count": 5,
      "outputs": []
    },
    {
      "cell_type": "code",
      "metadata": {
        "id": "jPdgvqB0I-eL",
        "colab_type": "code",
        "colab": {
          "base_uri": "https://localhost:8080/",
          "height": 231
        },
        "outputId": "38413689-c22b-49cc-dcfb-f87cbe29e1d2"
      },
      "source": [
        "df.head()"
      ],
      "execution_count": 6,
      "outputs": [
        {
          "output_type": "execute_result",
          "data": {
            "text/html": [
              "<div>\n",
              "<style scoped>\n",
              "    .dataframe tbody tr th:only-of-type {\n",
              "        vertical-align: middle;\n",
              "    }\n",
              "\n",
              "    .dataframe tbody tr th {\n",
              "        vertical-align: top;\n",
              "    }\n",
              "\n",
              "    .dataframe thead th {\n",
              "        text-align: right;\n",
              "    }\n",
              "</style>\n",
              "<table border=\"1\" class=\"dataframe\">\n",
              "  <thead>\n",
              "    <tr style=\"text-align: right;\">\n",
              "      <th></th>\n",
              "      <th>№ Summer</th>\n",
              "      <th>01 !</th>\n",
              "      <th>02 !</th>\n",
              "      <th>03 !</th>\n",
              "      <th>Total</th>\n",
              "      <th>№ Winter</th>\n",
              "      <th>01 !.1</th>\n",
              "      <th>02 !.1</th>\n",
              "      <th>03 !.1</th>\n",
              "      <th>Total.1</th>\n",
              "      <th>№ Games</th>\n",
              "      <th>01 !.2</th>\n",
              "      <th>02 !.2</th>\n",
              "      <th>03 !.2</th>\n",
              "      <th>Combined total</th>\n",
              "    </tr>\n",
              "  </thead>\n",
              "  <tbody>\n",
              "    <tr>\n",
              "      <th>Afghanistan (AFG)</th>\n",
              "      <td>13</td>\n",
              "      <td>0</td>\n",
              "      <td>0</td>\n",
              "      <td>2</td>\n",
              "      <td>2</td>\n",
              "      <td>0</td>\n",
              "      <td>0</td>\n",
              "      <td>0</td>\n",
              "      <td>0</td>\n",
              "      <td>0</td>\n",
              "      <td>13</td>\n",
              "      <td>0</td>\n",
              "      <td>0</td>\n",
              "      <td>2</td>\n",
              "      <td>2</td>\n",
              "    </tr>\n",
              "    <tr>\n",
              "      <th>Algeria (ALG)</th>\n",
              "      <td>12</td>\n",
              "      <td>5</td>\n",
              "      <td>2</td>\n",
              "      <td>8</td>\n",
              "      <td>15</td>\n",
              "      <td>3</td>\n",
              "      <td>0</td>\n",
              "      <td>0</td>\n",
              "      <td>0</td>\n",
              "      <td>0</td>\n",
              "      <td>15</td>\n",
              "      <td>5</td>\n",
              "      <td>2</td>\n",
              "      <td>8</td>\n",
              "      <td>15</td>\n",
              "    </tr>\n",
              "    <tr>\n",
              "      <th>Argentina (ARG)</th>\n",
              "      <td>23</td>\n",
              "      <td>18</td>\n",
              "      <td>24</td>\n",
              "      <td>28</td>\n",
              "      <td>70</td>\n",
              "      <td>18</td>\n",
              "      <td>0</td>\n",
              "      <td>0</td>\n",
              "      <td>0</td>\n",
              "      <td>0</td>\n",
              "      <td>41</td>\n",
              "      <td>18</td>\n",
              "      <td>24</td>\n",
              "      <td>28</td>\n",
              "      <td>70</td>\n",
              "    </tr>\n",
              "    <tr>\n",
              "      <th>Armenia (ARM)</th>\n",
              "      <td>5</td>\n",
              "      <td>1</td>\n",
              "      <td>2</td>\n",
              "      <td>9</td>\n",
              "      <td>12</td>\n",
              "      <td>6</td>\n",
              "      <td>0</td>\n",
              "      <td>0</td>\n",
              "      <td>0</td>\n",
              "      <td>0</td>\n",
              "      <td>11</td>\n",
              "      <td>1</td>\n",
              "      <td>2</td>\n",
              "      <td>9</td>\n",
              "      <td>12</td>\n",
              "    </tr>\n",
              "    <tr>\n",
              "      <th>Australasia (ANZ) [ANZ]</th>\n",
              "      <td>2</td>\n",
              "      <td>3</td>\n",
              "      <td>4</td>\n",
              "      <td>5</td>\n",
              "      <td>12</td>\n",
              "      <td>0</td>\n",
              "      <td>0</td>\n",
              "      <td>0</td>\n",
              "      <td>0</td>\n",
              "      <td>0</td>\n",
              "      <td>2</td>\n",
              "      <td>3</td>\n",
              "      <td>4</td>\n",
              "      <td>5</td>\n",
              "      <td>12</td>\n",
              "    </tr>\n",
              "  </tbody>\n",
              "</table>\n",
              "</div>"
            ],
            "text/plain": [
              "                         № Summer  01 !  02 !  ...  02 !.2  03 !.2  Combined total\n",
              "Afghanistan (AFG)              13     0     0  ...       0       2               2\n",
              "Algeria (ALG)                  12     5     2  ...       2       8              15\n",
              "Argentina (ARG)                23    18    24  ...      24      28              70\n",
              "Armenia (ARM)                   5     1     2  ...       2       9              12\n",
              "Australasia (ANZ) [ANZ]         2     3     4  ...       4       5              12\n",
              "\n",
              "[5 rows x 15 columns]"
            ]
          },
          "metadata": {
            "tags": []
          },
          "execution_count": 6
        }
      ]
    },
    {
      "cell_type": "code",
      "metadata": {
        "id": "4rBYrmN0Hm1a",
        "colab_type": "code",
        "colab": {}
      },
      "source": [
        "?pd.read_csv"
      ],
      "execution_count": null,
      "outputs": []
    },
    {
      "cell_type": "code",
      "metadata": {
        "id": "MiZ_G-yqG4yQ",
        "colab_type": "code",
        "colab": {
          "base_uri": "https://localhost:8080/",
          "height": 87
        },
        "outputId": "eb749ca2-694f-4695-fa5e-34b301db4efd"
      },
      "source": [
        "df.columns"
      ],
      "execution_count": 7,
      "outputs": [
        {
          "output_type": "execute_result",
          "data": {
            "text/plain": [
              "Index(['№ Summer', '01 !', '02 !', '03 !', 'Total', '№ Winter', '01 !.1',\n",
              "       '02 !.1', '03 !.1', 'Total.1', '№ Games', '01 !.2', '02 !.2', '03 !.2',\n",
              "       'Combined total'],\n",
              "      dtype='object')"
            ]
          },
          "metadata": {
            "tags": []
          },
          "execution_count": 7
        }
      ]
    },
    {
      "cell_type": "code",
      "metadata": {
        "id": "pQ0a4MwPHctJ",
        "colab_type": "code",
        "colab": {}
      },
      "source": [
        "?df.rename"
      ],
      "execution_count": null,
      "outputs": []
    },
    {
      "cell_type": "code",
      "metadata": {
        "nbgrader": {
          "grade": false,
          "grade_id": "1",
          "locked": false,
          "solution": false
        },
        "id": "JLFEC6MGAcYZ",
        "colab_type": "code",
        "colab": {
          "base_uri": "https://localhost:8080/",
          "height": 234
        },
        "outputId": "f23d5364-3bea-4e7e-d37f-f862578c094b"
      },
      "source": [
        "\n",
        "\n",
        "for col in df.columns:\n",
        "    if col[:2]=='01':\n",
        "        df.rename(columns={col:'Gold'+col[4:]}, inplace=True)\n",
        "    if col[:2]=='02':\n",
        "        df.rename(columns={col:'Silver'+col[4:]}, inplace=True)\n",
        "    if col[:2]=='03':\n",
        "        df.rename(columns={col:'Bronze'+col[4:]}, inplace=True)\n",
        "    if col[:1]=='№':\n",
        "        df.rename(columns={col:'#'+col[1:]}, inplace=True)\n",
        "\n",
        "names_ids = df.index.str.split('\\s\\(') # split the index by '('\n",
        "\n",
        "df.index = names_ids.str[0] # the [0] element is the country name (new index) \n",
        "df['ID'] = names_ids.str[1].str[:3] # the [1] element is the abbreviation or ID (take first 3 characters from that)\n",
        "\n",
        "df = df.drop('Totals')\n",
        "df.head()"
      ],
      "execution_count": 8,
      "outputs": [
        {
          "output_type": "execute_result",
          "data": {
            "text/html": [
              "<div>\n",
              "<style scoped>\n",
              "    .dataframe tbody tr th:only-of-type {\n",
              "        vertical-align: middle;\n",
              "    }\n",
              "\n",
              "    .dataframe tbody tr th {\n",
              "        vertical-align: top;\n",
              "    }\n",
              "\n",
              "    .dataframe thead th {\n",
              "        text-align: right;\n",
              "    }\n",
              "</style>\n",
              "<table border=\"1\" class=\"dataframe\">\n",
              "  <thead>\n",
              "    <tr style=\"text-align: right;\">\n",
              "      <th></th>\n",
              "      <th># Summer</th>\n",
              "      <th>Gold</th>\n",
              "      <th>Silver</th>\n",
              "      <th>Bronze</th>\n",
              "      <th>Total</th>\n",
              "      <th># Winter</th>\n",
              "      <th>Gold.1</th>\n",
              "      <th>Silver.1</th>\n",
              "      <th>Bronze.1</th>\n",
              "      <th>Total.1</th>\n",
              "      <th># Games</th>\n",
              "      <th>Gold.2</th>\n",
              "      <th>Silver.2</th>\n",
              "      <th>Bronze.2</th>\n",
              "      <th>Combined total</th>\n",
              "      <th>ID</th>\n",
              "    </tr>\n",
              "  </thead>\n",
              "  <tbody>\n",
              "    <tr>\n",
              "      <th>Afghanistan</th>\n",
              "      <td>13</td>\n",
              "      <td>0</td>\n",
              "      <td>0</td>\n",
              "      <td>2</td>\n",
              "      <td>2</td>\n",
              "      <td>0</td>\n",
              "      <td>0</td>\n",
              "      <td>0</td>\n",
              "      <td>0</td>\n",
              "      <td>0</td>\n",
              "      <td>13</td>\n",
              "      <td>0</td>\n",
              "      <td>0</td>\n",
              "      <td>2</td>\n",
              "      <td>2</td>\n",
              "      <td>AFG</td>\n",
              "    </tr>\n",
              "    <tr>\n",
              "      <th>Algeria</th>\n",
              "      <td>12</td>\n",
              "      <td>5</td>\n",
              "      <td>2</td>\n",
              "      <td>8</td>\n",
              "      <td>15</td>\n",
              "      <td>3</td>\n",
              "      <td>0</td>\n",
              "      <td>0</td>\n",
              "      <td>0</td>\n",
              "      <td>0</td>\n",
              "      <td>15</td>\n",
              "      <td>5</td>\n",
              "      <td>2</td>\n",
              "      <td>8</td>\n",
              "      <td>15</td>\n",
              "      <td>ALG</td>\n",
              "    </tr>\n",
              "    <tr>\n",
              "      <th>Argentina</th>\n",
              "      <td>23</td>\n",
              "      <td>18</td>\n",
              "      <td>24</td>\n",
              "      <td>28</td>\n",
              "      <td>70</td>\n",
              "      <td>18</td>\n",
              "      <td>0</td>\n",
              "      <td>0</td>\n",
              "      <td>0</td>\n",
              "      <td>0</td>\n",
              "      <td>41</td>\n",
              "      <td>18</td>\n",
              "      <td>24</td>\n",
              "      <td>28</td>\n",
              "      <td>70</td>\n",
              "      <td>ARG</td>\n",
              "    </tr>\n",
              "    <tr>\n",
              "      <th>Armenia</th>\n",
              "      <td>5</td>\n",
              "      <td>1</td>\n",
              "      <td>2</td>\n",
              "      <td>9</td>\n",
              "      <td>12</td>\n",
              "      <td>6</td>\n",
              "      <td>0</td>\n",
              "      <td>0</td>\n",
              "      <td>0</td>\n",
              "      <td>0</td>\n",
              "      <td>11</td>\n",
              "      <td>1</td>\n",
              "      <td>2</td>\n",
              "      <td>9</td>\n",
              "      <td>12</td>\n",
              "      <td>ARM</td>\n",
              "    </tr>\n",
              "    <tr>\n",
              "      <th>Australasia</th>\n",
              "      <td>2</td>\n",
              "      <td>3</td>\n",
              "      <td>4</td>\n",
              "      <td>5</td>\n",
              "      <td>12</td>\n",
              "      <td>0</td>\n",
              "      <td>0</td>\n",
              "      <td>0</td>\n",
              "      <td>0</td>\n",
              "      <td>0</td>\n",
              "      <td>2</td>\n",
              "      <td>3</td>\n",
              "      <td>4</td>\n",
              "      <td>5</td>\n",
              "      <td>12</td>\n",
              "      <td>ANZ</td>\n",
              "    </tr>\n",
              "  </tbody>\n",
              "</table>\n",
              "</div>"
            ],
            "text/plain": [
              "             # Summer  Gold  Silver  ...  Bronze.2  Combined total   ID\n",
              "Afghanistan        13     0       0  ...         2               2  AFG\n",
              "Algeria            12     5       2  ...         8              15  ALG\n",
              "Argentina          23    18      24  ...        28              70  ARG\n",
              "Armenia             5     1       2  ...         9              12  ARM\n",
              "Australasia         2     3       4  ...         5              12  ANZ\n",
              "\n",
              "[5 rows x 16 columns]"
            ]
          },
          "metadata": {
            "tags": []
          },
          "execution_count": 8
        }
      ]
    },
    {
      "cell_type": "code",
      "metadata": {
        "id": "XSmAjXEXOznr",
        "colab_type": "code",
        "colab": {
          "base_uri": "https://localhost:8080/",
          "height": 141
        },
        "outputId": "a40a5b82-499a-46f0-8199-7720ff745901"
      },
      "source": [
        "df.index"
      ],
      "execution_count": 9,
      "outputs": [
        {
          "output_type": "execute_result",
          "data": {
            "text/plain": [
              "Index(['Afghanistan', 'Algeria', 'Argentina', 'Armenia', 'Australasia',\n",
              "       'Australia', 'Austria', 'Azerbaijan', 'Bahamas', 'Bahrain',\n",
              "       ...\n",
              "       'Uruguay', 'Uzbekistan', 'Venezuela', 'Vietnam', 'Virgin Islands',\n",
              "       'Yugoslavia', 'Independent Olympic Participants', 'Zambia', 'Zimbabwe',\n",
              "       'Mixed team'],\n",
              "      dtype='object', length=146)"
            ]
          },
          "metadata": {
            "tags": []
          },
          "execution_count": 9
        }
      ]
    },
    {
      "cell_type": "markdown",
      "metadata": {
        "id": "-zWgmIg0AcYd",
        "colab_type": "text"
      },
      "source": [
        "### Question 0 (Example)\n",
        "\n",
        "What is the first country in df?\n",
        "\n",
        "*This function should return a Series.*"
      ]
    },
    {
      "cell_type": "code",
      "metadata": {
        "id": "XUeDPocHAcYd",
        "colab_type": "code",
        "colab": {
          "base_uri": "https://localhost:8080/",
          "height": 318
        },
        "outputId": "25e89d4b-7c0e-4813-bf49-24f707be4c04"
      },
      "source": [
        "# You should write your whole answer within the function provided. The autograder will call\n",
        "# this function and compare the return value against the correct solution value\n",
        "def answer_zero():\n",
        "    # This function returns the row for Afghanistan, which is a Series object. The assignment\n",
        "    # question description will tell you the general format the autograder is expecting\n",
        "    return df.iloc[0]\n",
        "\n",
        "# You can examine what your function returns by calling it in the cell. If you have questions\n",
        "# about the assignment formats, check out the discussion forums for any FAQs\n",
        "answer_zero() "
      ],
      "execution_count": 10,
      "outputs": [
        {
          "output_type": "execute_result",
          "data": {
            "text/plain": [
              "# Summer           13\n",
              "Gold                0\n",
              "Silver              0\n",
              "Bronze              2\n",
              "Total               2\n",
              "# Winter            0\n",
              "Gold.1              0\n",
              "Silver.1            0\n",
              "Bronze.1            0\n",
              "Total.1             0\n",
              "# Games            13\n",
              "Gold.2              0\n",
              "Silver.2            0\n",
              "Bronze.2            2\n",
              "Combined total      2\n",
              "ID                AFG\n",
              "Name: Afghanistan, dtype: object"
            ]
          },
          "metadata": {
            "tags": []
          },
          "execution_count": 10
        }
      ]
    },
    {
      "cell_type": "markdown",
      "metadata": {
        "id": "RSgIrd7LAcYg",
        "colab_type": "text"
      },
      "source": [
        "### Question 1\n",
        "Which country has won the most gold medals in summer games?\n",
        "\n",
        "*This function should return a single string value.*"
      ]
    },
    {
      "cell_type": "code",
      "metadata": {
        "nbgrader": {
          "grade": false,
          "locked": false,
          "solution": false
        },
        "id": "m3o2ScugAcYg",
        "colab_type": "code",
        "colab": {
          "base_uri": "https://localhost:8080/",
          "height": 35
        },
        "outputId": "c6a27df4-0611-4663-83c2-c9dfcb6fa352"
      },
      "source": [
        "def answer_one():\n",
        "    return df.Gold.idxmax()\n",
        "\n",
        "answer_one()"
      ],
      "execution_count": 11,
      "outputs": [
        {
          "output_type": "execute_result",
          "data": {
            "application/vnd.google.colaboratory.intrinsic": {
              "type": "string"
            },
            "text/plain": [
              "'United States'"
            ]
          },
          "metadata": {
            "tags": []
          },
          "execution_count": 11
        }
      ]
    },
    {
      "cell_type": "markdown",
      "metadata": {
        "id": "EAPpRkKHAcYi",
        "colab_type": "text"
      },
      "source": [
        "### Question 2\n",
        "Which country had the biggest difference between their summer and winter gold medal counts?\n",
        "\n",
        "*This function should return a single string value.*"
      ]
    },
    {
      "cell_type": "code",
      "metadata": {
        "id": "eAafmuHLXrUJ",
        "colab_type": "code",
        "colab": {
          "base_uri": "https://localhost:8080/",
          "height": 35
        },
        "outputId": "4cbaddba-c711-496d-88a9-8b8784686025"
      },
      "source": [
        "sDiffScores = df.Gold - df[\"Gold.1\"]\n",
        "df.index[sDiffScores.argmax()]"
      ],
      "execution_count": 12,
      "outputs": [
        {
          "output_type": "execute_result",
          "data": {
            "application/vnd.google.colaboratory.intrinsic": {
              "type": "string"
            },
            "text/plain": [
              "'United States'"
            ]
          },
          "metadata": {
            "tags": []
          },
          "execution_count": 12
        }
      ]
    },
    {
      "cell_type": "code",
      "metadata": {
        "id": "gnBrrsv3EAnG",
        "colab_type": "code",
        "colab": {
          "base_uri": "https://localhost:8080/",
          "height": 35
        },
        "outputId": "ec473f4c-bf02-4462-bf40-6fca47950d32"
      },
      "source": [
        "sDiffScores.idxmax()"
      ],
      "execution_count": 13,
      "outputs": [
        {
          "output_type": "execute_result",
          "data": {
            "application/vnd.google.colaboratory.intrinsic": {
              "type": "string"
            },
            "text/plain": [
              "'United States'"
            ]
          },
          "metadata": {
            "tags": []
          },
          "execution_count": 13
        }
      ]
    },
    {
      "cell_type": "code",
      "metadata": {
        "id": "vdUpwy74D8Vc",
        "colab_type": "code",
        "colab": {}
      },
      "source": [
        ""
      ],
      "execution_count": null,
      "outputs": []
    },
    {
      "cell_type": "code",
      "metadata": {
        "id": "1N3ONlxUAcYj",
        "colab_type": "code",
        "colab": {
          "base_uri": "https://localhost:8080/",
          "height": 35
        },
        "outputId": "ecc78d3a-9501-496e-a507-d7c244ec103a"
      },
      "source": [
        "def answer_two():\n",
        "  sDiffScores = df.Gold - df[\"Gold.1\"]\n",
        "  return sDiffScores.idxmax()\n",
        "  #return df.index[sDiffScores.argmax()]\n",
        "  #return \"YOUR ANSWER HERE\"\n",
        "\n",
        "answer_two()"
      ],
      "execution_count": 14,
      "outputs": [
        {
          "output_type": "execute_result",
          "data": {
            "application/vnd.google.colaboratory.intrinsic": {
              "type": "string"
            },
            "text/plain": [
              "'United States'"
            ]
          },
          "metadata": {
            "tags": []
          },
          "execution_count": 14
        }
      ]
    },
    {
      "cell_type": "markdown",
      "metadata": {
        "id": "m_deQ9QYAcYl",
        "colab_type": "text"
      },
      "source": [
        "### Question 3\n",
        "Which country has the biggest difference between their summer gold medal counts and winter gold medal counts relative to their total gold medal count? \n",
        "\n",
        "$$\\frac{Summer~Gold - Winter~Gold}{Total~Gold}$$\n",
        "\n",
        "Only include countries that have won at least 1 gold in both summer and winter.\n",
        "\n",
        "*This function should return a single string value.*"
      ]
    },
    {
      "cell_type": "code",
      "metadata": {
        "id": "yzO7JPs_Y6Bo",
        "colab_type": "code",
        "colab": {
          "base_uri": "https://localhost:8080/",
          "height": 35
        },
        "outputId": "e15263bd-4ead-4220-bf09-a657d44da86e"
      },
      "source": [
        "df2 = df[ (df.Gold > 0) & (df[\"Gold.1\"] > 0) ]\n",
        "sDiffScores = ( df2.Gold - df2[\"Gold.1\"] ) / df2[\"Gold.2\"]\t\n",
        "sDiffScores.idxmax()\n"
      ],
      "execution_count": 18,
      "outputs": [
        {
          "output_type": "execute_result",
          "data": {
            "application/vnd.google.colaboratory.intrinsic": {
              "type": "string"
            },
            "text/plain": [
              "'Bulgaria'"
            ]
          },
          "metadata": {
            "tags": []
          },
          "execution_count": 18
        }
      ]
    },
    {
      "cell_type": "code",
      "metadata": {
        "id": "ce_4tZ1NAcYl",
        "colab_type": "code",
        "colab": {
          "base_uri": "https://localhost:8080/",
          "height": 35
        },
        "outputId": "de0dbacd-94bc-4ce0-b9c0-ba5d7517ce82"
      },
      "source": [
        "def answer_three():\n",
        "  sDiffScores = ( df.Gold - df[\"Gold.1\"] ) / df[\"Gold.2\"]\n",
        "  return df.index[sDiffScores.argmax()]\n",
        "  #return \"YOUR ANSWER HERE\"\n",
        "\n",
        "answer_three()"
      ],
      "execution_count": null,
      "outputs": [
        {
          "output_type": "execute_result",
          "data": {
            "application/vnd.google.colaboratory.intrinsic": {
              "type": "string"
            },
            "text/plain": [
              "'Algeria'"
            ]
          },
          "metadata": {
            "tags": []
          },
          "execution_count": 49
        }
      ]
    },
    {
      "cell_type": "markdown",
      "metadata": {
        "id": "WeIrADb8AcYo",
        "colab_type": "text"
      },
      "source": [
        "### Question 4\n",
        "Write a function that creates a Series called \"Points\" which is a weighted value where each gold medal (`Gold.2`) counts for 3 points, silver medals (`Silver.2`) for 2 points, and bronze medals (`Bronze.2`) for 1 point. The function should return only the column (a Series object) which you created.\n",
        "\n",
        "*This function should return a Series named `Points` of length 146*"
      ]
    },
    {
      "cell_type": "code",
      "metadata": {
        "id": "4rSVtuBMICMX",
        "colab_type": "code",
        "colab": {
          "base_uri": "https://localhost:8080/",
          "height": 406
        },
        "outputId": "e979193c-916a-4e42-9f01-85ca5d2d99c4"
      },
      "source": [
        "df[ [\"Gold.2\", \"Silver.2\", \"Bronze.2\"] ]"
      ],
      "execution_count": 31,
      "outputs": [
        {
          "output_type": "execute_result",
          "data": {
            "text/html": [
              "<div>\n",
              "<style scoped>\n",
              "    .dataframe tbody tr th:only-of-type {\n",
              "        vertical-align: middle;\n",
              "    }\n",
              "\n",
              "    .dataframe tbody tr th {\n",
              "        vertical-align: top;\n",
              "    }\n",
              "\n",
              "    .dataframe thead th {\n",
              "        text-align: right;\n",
              "    }\n",
              "</style>\n",
              "<table border=\"1\" class=\"dataframe\">\n",
              "  <thead>\n",
              "    <tr style=\"text-align: right;\">\n",
              "      <th></th>\n",
              "      <th>Gold.2</th>\n",
              "      <th>Silver.2</th>\n",
              "      <th>Bronze.2</th>\n",
              "    </tr>\n",
              "  </thead>\n",
              "  <tbody>\n",
              "    <tr>\n",
              "      <th>Afghanistan</th>\n",
              "      <td>0</td>\n",
              "      <td>0</td>\n",
              "      <td>2</td>\n",
              "    </tr>\n",
              "    <tr>\n",
              "      <th>Algeria</th>\n",
              "      <td>5</td>\n",
              "      <td>2</td>\n",
              "      <td>8</td>\n",
              "    </tr>\n",
              "    <tr>\n",
              "      <th>Argentina</th>\n",
              "      <td>18</td>\n",
              "      <td>24</td>\n",
              "      <td>28</td>\n",
              "    </tr>\n",
              "    <tr>\n",
              "      <th>Armenia</th>\n",
              "      <td>1</td>\n",
              "      <td>2</td>\n",
              "      <td>9</td>\n",
              "    </tr>\n",
              "    <tr>\n",
              "      <th>Australasia</th>\n",
              "      <td>3</td>\n",
              "      <td>4</td>\n",
              "      <td>5</td>\n",
              "    </tr>\n",
              "    <tr>\n",
              "      <th>...</th>\n",
              "      <td>...</td>\n",
              "      <td>...</td>\n",
              "      <td>...</td>\n",
              "    </tr>\n",
              "    <tr>\n",
              "      <th>Yugoslavia</th>\n",
              "      <td>26</td>\n",
              "      <td>32</td>\n",
              "      <td>29</td>\n",
              "    </tr>\n",
              "    <tr>\n",
              "      <th>Independent Olympic Participants</th>\n",
              "      <td>0</td>\n",
              "      <td>1</td>\n",
              "      <td>2</td>\n",
              "    </tr>\n",
              "    <tr>\n",
              "      <th>Zambia</th>\n",
              "      <td>0</td>\n",
              "      <td>1</td>\n",
              "      <td>1</td>\n",
              "    </tr>\n",
              "    <tr>\n",
              "      <th>Zimbabwe</th>\n",
              "      <td>3</td>\n",
              "      <td>4</td>\n",
              "      <td>1</td>\n",
              "    </tr>\n",
              "    <tr>\n",
              "      <th>Mixed team</th>\n",
              "      <td>8</td>\n",
              "      <td>5</td>\n",
              "      <td>4</td>\n",
              "    </tr>\n",
              "  </tbody>\n",
              "</table>\n",
              "<p>146 rows × 3 columns</p>\n",
              "</div>"
            ],
            "text/plain": [
              "                                  Gold.2  Silver.2  Bronze.2\n",
              "Afghanistan                            0         0         2\n",
              "Algeria                                5         2         8\n",
              "Argentina                             18        24        28\n",
              "Armenia                                1         2         9\n",
              "Australasia                            3         4         5\n",
              "...                                  ...       ...       ...\n",
              "Yugoslavia                            26        32        29\n",
              "Independent Olympic Participants       0         1         2\n",
              "Zambia                                 0         1         1\n",
              "Zimbabwe                               3         4         1\n",
              "Mixed team                             8         5         4\n",
              "\n",
              "[146 rows x 3 columns]"
            ]
          },
          "metadata": {
            "tags": []
          },
          "execution_count": 31
        }
      ]
    },
    {
      "cell_type": "code",
      "metadata": {
        "id": "P4kSM1wbG7nQ",
        "colab_type": "code",
        "colab": {
          "base_uri": "https://localhost:8080/",
          "height": 230
        },
        "outputId": "a5d87520-fbd2-443b-916b-cac4bc480503"
      },
      "source": [
        "df3 = df[ [\"Gold.2\", \"Silver.2\", \"Bronze.2\"] ] * [ 3, 2, 1 ]\n",
        "df[\"Points\"] =  df3.sum(axis=1)"
      ],
      "execution_count": 33,
      "outputs": [
        {
          "output_type": "execute_result",
          "data": {
            "text/plain": [
              "Afghanistan                           2\n",
              "Algeria                              27\n",
              "Argentina                           130\n",
              "Armenia                              16\n",
              "Australasia                          22\n",
              "                                   ... \n",
              "Yugoslavia                          171\n",
              "Independent Olympic Participants      4\n",
              "Zambia                                3\n",
              "Zimbabwe                             18\n",
              "Mixed team                           38\n",
              "Length: 146, dtype: int64"
            ]
          },
          "metadata": {
            "tags": []
          },
          "execution_count": 33
        }
      ]
    },
    {
      "cell_type": "code",
      "metadata": {
        "id": "2i1YuIR_J2Cv",
        "colab_type": "code",
        "colab": {}
      },
      "source": [
        "def answer_four_v2():\n",
        "  df['Points'] = df['Gold.2']*3 + df['Silver.2']*2 + df['Bronze.2']\n",
        "  return df['Points']\n"
      ],
      "execution_count": 45,
      "outputs": []
    },
    {
      "cell_type": "code",
      "metadata": {
        "id": "ZgL0aIc6KJgO",
        "colab_type": "code",
        "colab": {
          "base_uri": "https://localhost:8080/",
          "height": 34
        },
        "outputId": "92751312-37c1-4033-f79e-40f774768e30"
      },
      "source": [
        "%%timeit 100\n",
        "answer_four_v2()"
      ],
      "execution_count": 46,
      "outputs": [
        {
          "output_type": "stream",
          "text": [
            "1000 loops, best of 3: 879 µs per loop\n"
          ],
          "name": "stdout"
        }
      ]
    },
    {
      "cell_type": "code",
      "metadata": {
        "id": "vQnACp1LKKzF",
        "colab_type": "code",
        "colab": {
          "base_uri": "https://localhost:8080/",
          "height": 34
        },
        "outputId": "e3dfd07d-7ffe-4caf-9911-2dd4ff691fe8"
      },
      "source": [
        "875*1000 "
      ],
      "execution_count": 39,
      "outputs": [
        {
          "output_type": "execute_result",
          "data": {
            "text/plain": [
              "875000"
            ]
          },
          "metadata": {
            "tags": []
          },
          "execution_count": 39
        }
      ]
    },
    {
      "cell_type": "code",
      "metadata": {
        "id": "VVyhQl4lAcYq",
        "colab_type": "code",
        "colab": {}
      },
      "source": [
        "import numpy as np\n",
        "def answer_four():\n",
        "  df3 = df[ [\"Gold.2\", \"Silver.2\", \"Bronze.2\"] ] * np.array( [3, 2, 1])\n",
        "  df[\"Points\"] =  df3.sum(axis=1)\n",
        "  return df[\"Points\"]\n",
        "\n",
        "#answer_four()"
      ],
      "execution_count": 43,
      "outputs": []
    },
    {
      "cell_type": "code",
      "metadata": {
        "id": "AJi0QOKnKZKP",
        "colab_type": "code",
        "colab": {
          "base_uri": "https://localhost:8080/",
          "height": 34
        },
        "outputId": "61e7756d-baf2-4c79-b93e-51b7ef9570f8"
      },
      "source": [
        "%%timeit 100\n",
        "answer_four()\n"
      ],
      "execution_count": 44,
      "outputs": [
        {
          "output_type": "stream",
          "text": [
            "100 loops, best of 3: 2.54 ms per loop\n"
          ],
          "name": "stdout"
        }
      ]
    },
    {
      "cell_type": "code",
      "metadata": {
        "id": "tD4gPm6kKFbL",
        "colab_type": "code",
        "colab": {
          "base_uri": "https://localhost:8080/",
          "height": 34
        },
        "outputId": "b9d119cb-e20d-46b6-e413-7174b350ed4c"
      },
      "source": [
        "2.56 / 1000 * 100"
      ],
      "execution_count": 40,
      "outputs": [
        {
          "output_type": "execute_result",
          "data": {
            "text/plain": [
              "0.256"
            ]
          },
          "metadata": {
            "tags": []
          },
          "execution_count": 40
        }
      ]
    },
    {
      "cell_type": "markdown",
      "metadata": {
        "id": "vl80U2OvAcYt",
        "colab_type": "text"
      },
      "source": [
        "## Part 2\n",
        "For the next set of questions, we will be using census data from the [United States Census Bureau](http://www.census.gov/popest/data/counties/totals/2015/CO-EST2015-alldata.html). Counties are political and geographic subdivisions of states in the United States. This dataset contains population data for counties and states in the US from 2010 to 2015. [See this document](http://www.census.gov/popest/data/counties/totals/2015/files/CO-EST2015-alldata.pdf) for a description of the variable names.\n",
        "\n",
        "The census dataset (census.csv) should be loaded as census_df. Answer questions using this as appropriate.\n",
        "\n",
        "### Question 5\n",
        "Which state has the most counties in it? (hint: consider the sumlevel key carefully! You'll need this for future questions too...)\n",
        "\n",
        "*This function should return a single string value.*"
      ]
    },
    {
      "cell_type": "code",
      "metadata": {
        "id": "wwLgJDamAcYu",
        "colab_type": "code",
        "colab": {
          "base_uri": "https://localhost:8080/",
          "height": 790
        },
        "outputId": "031cde90-4e66-4a1e-f483-e4a4cd5c174a"
      },
      "source": [
        "\n",
        "census_df = pd.read_csv('census.csv')\n",
        "!ls\n",
        "census_df"
      ],
      "execution_count": 55,
      "outputs": [
        {
          "output_type": "stream",
          "text": [
            "'Assignment 2.ipynb'\t       DSA_Python_24May2020.ipynb\n",
            " Bicycle_Test.csv\t      'Exercise-01 _NumPy_Oct_2019.ipynb'\n",
            " Bicycle_Train.csv\t       filter.py\n",
            " boston_house_prices.csv       iris.csv\n",
            " breast_cancer.csv\t       map.py\n",
            " census.csv\t\t       NumPy.ipynb\n",
            " class01.py\t\t       olympics.csv\n",
            " DSAops.py\t\t       PandasTutorial.ipynb\n",
            " DSA_Python_06JUNE2020.ipynb  'Pandas Tutorial (Updated-Jul 2020).ipynb'\n",
            " DSA_Python_10MAY2020.ipynb    person.py\n",
            " DSA_Python_17MAY2020.ipynb    README.md\n",
            " DSA_Python_23May2020.ipynb    wine_data.csv\n"
          ],
          "name": "stdout"
        },
        {
          "output_type": "execute_result",
          "data": {
            "text/html": [
              "<div>\n",
              "<style scoped>\n",
              "    .dataframe tbody tr th:only-of-type {\n",
              "        vertical-align: middle;\n",
              "    }\n",
              "\n",
              "    .dataframe tbody tr th {\n",
              "        vertical-align: top;\n",
              "    }\n",
              "\n",
              "    .dataframe thead th {\n",
              "        text-align: right;\n",
              "    }\n",
              "</style>\n",
              "<table border=\"1\" class=\"dataframe\">\n",
              "  <thead>\n",
              "    <tr style=\"text-align: right;\">\n",
              "      <th></th>\n",
              "      <th>SUMLEV</th>\n",
              "      <th>REGION</th>\n",
              "      <th>DIVISION</th>\n",
              "      <th>STATE</th>\n",
              "      <th>COUNTY</th>\n",
              "      <th>STNAME</th>\n",
              "      <th>CTYNAME</th>\n",
              "      <th>CENSUS2010POP</th>\n",
              "      <th>ESTIMATESBASE2010</th>\n",
              "      <th>POPESTIMATE2010</th>\n",
              "      <th>POPESTIMATE2011</th>\n",
              "      <th>POPESTIMATE2012</th>\n",
              "      <th>POPESTIMATE2013</th>\n",
              "      <th>POPESTIMATE2014</th>\n",
              "      <th>POPESTIMATE2015</th>\n",
              "      <th>NPOPCHG_2010</th>\n",
              "      <th>NPOPCHG_2011</th>\n",
              "      <th>NPOPCHG_2012</th>\n",
              "      <th>NPOPCHG_2013</th>\n",
              "      <th>NPOPCHG_2014</th>\n",
              "      <th>NPOPCHG_2015</th>\n",
              "      <th>BIRTHS2010</th>\n",
              "      <th>BIRTHS2011</th>\n",
              "      <th>BIRTHS2012</th>\n",
              "      <th>BIRTHS2013</th>\n",
              "      <th>BIRTHS2014</th>\n",
              "      <th>BIRTHS2015</th>\n",
              "      <th>DEATHS2010</th>\n",
              "      <th>DEATHS2011</th>\n",
              "      <th>DEATHS2012</th>\n",
              "      <th>DEATHS2013</th>\n",
              "      <th>DEATHS2014</th>\n",
              "      <th>DEATHS2015</th>\n",
              "      <th>NATURALINC2010</th>\n",
              "      <th>NATURALINC2011</th>\n",
              "      <th>NATURALINC2012</th>\n",
              "      <th>NATURALINC2013</th>\n",
              "      <th>NATURALINC2014</th>\n",
              "      <th>NATURALINC2015</th>\n",
              "      <th>INTERNATIONALMIG2010</th>\n",
              "      <th>...</th>\n",
              "      <th>RESIDUAL2013</th>\n",
              "      <th>RESIDUAL2014</th>\n",
              "      <th>RESIDUAL2015</th>\n",
              "      <th>GQESTIMATESBASE2010</th>\n",
              "      <th>GQESTIMATES2010</th>\n",
              "      <th>GQESTIMATES2011</th>\n",
              "      <th>GQESTIMATES2012</th>\n",
              "      <th>GQESTIMATES2013</th>\n",
              "      <th>GQESTIMATES2014</th>\n",
              "      <th>GQESTIMATES2015</th>\n",
              "      <th>RBIRTH2011</th>\n",
              "      <th>RBIRTH2012</th>\n",
              "      <th>RBIRTH2013</th>\n",
              "      <th>RBIRTH2014</th>\n",
              "      <th>RBIRTH2015</th>\n",
              "      <th>RDEATH2011</th>\n",
              "      <th>RDEATH2012</th>\n",
              "      <th>RDEATH2013</th>\n",
              "      <th>RDEATH2014</th>\n",
              "      <th>RDEATH2015</th>\n",
              "      <th>RNATURALINC2011</th>\n",
              "      <th>RNATURALINC2012</th>\n",
              "      <th>RNATURALINC2013</th>\n",
              "      <th>RNATURALINC2014</th>\n",
              "      <th>RNATURALINC2015</th>\n",
              "      <th>RINTERNATIONALMIG2011</th>\n",
              "      <th>RINTERNATIONALMIG2012</th>\n",
              "      <th>RINTERNATIONALMIG2013</th>\n",
              "      <th>RINTERNATIONALMIG2014</th>\n",
              "      <th>RINTERNATIONALMIG2015</th>\n",
              "      <th>RDOMESTICMIG2011</th>\n",
              "      <th>RDOMESTICMIG2012</th>\n",
              "      <th>RDOMESTICMIG2013</th>\n",
              "      <th>RDOMESTICMIG2014</th>\n",
              "      <th>RDOMESTICMIG2015</th>\n",
              "      <th>RNETMIG2011</th>\n",
              "      <th>RNETMIG2012</th>\n",
              "      <th>RNETMIG2013</th>\n",
              "      <th>RNETMIG2014</th>\n",
              "      <th>RNETMIG2015</th>\n",
              "    </tr>\n",
              "  </thead>\n",
              "  <tbody>\n",
              "    <tr>\n",
              "      <th>0</th>\n",
              "      <td>40</td>\n",
              "      <td>3</td>\n",
              "      <td>6</td>\n",
              "      <td>1</td>\n",
              "      <td>0</td>\n",
              "      <td>Alabama</td>\n",
              "      <td>Alabama</td>\n",
              "      <td>4779736</td>\n",
              "      <td>4780127</td>\n",
              "      <td>4785161</td>\n",
              "      <td>4801108</td>\n",
              "      <td>4816089</td>\n",
              "      <td>4830533</td>\n",
              "      <td>4846411</td>\n",
              "      <td>4858979</td>\n",
              "      <td>5034</td>\n",
              "      <td>15947</td>\n",
              "      <td>14981</td>\n",
              "      <td>14444</td>\n",
              "      <td>15878</td>\n",
              "      <td>12568</td>\n",
              "      <td>14226</td>\n",
              "      <td>59689</td>\n",
              "      <td>59062</td>\n",
              "      <td>57938</td>\n",
              "      <td>58334</td>\n",
              "      <td>58305</td>\n",
              "      <td>11089</td>\n",
              "      <td>48811</td>\n",
              "      <td>48357</td>\n",
              "      <td>50843</td>\n",
              "      <td>50228</td>\n",
              "      <td>50330</td>\n",
              "      <td>3137</td>\n",
              "      <td>10878</td>\n",
              "      <td>10705</td>\n",
              "      <td>7095</td>\n",
              "      <td>8106</td>\n",
              "      <td>7975</td>\n",
              "      <td>1357</td>\n",
              "      <td>...</td>\n",
              "      <td>677</td>\n",
              "      <td>-573</td>\n",
              "      <td>1135</td>\n",
              "      <td>116185</td>\n",
              "      <td>116212</td>\n",
              "      <td>115560</td>\n",
              "      <td>115666</td>\n",
              "      <td>116963</td>\n",
              "      <td>119088</td>\n",
              "      <td>119599</td>\n",
              "      <td>12.453020</td>\n",
              "      <td>12.282581</td>\n",
              "      <td>12.012080</td>\n",
              "      <td>12.056286</td>\n",
              "      <td>12.014973</td>\n",
              "      <td>10.183524</td>\n",
              "      <td>10.056360</td>\n",
              "      <td>10.541099</td>\n",
              "      <td>10.380963</td>\n",
              "      <td>10.371556</td>\n",
              "      <td>2.269496</td>\n",
              "      <td>2.226220</td>\n",
              "      <td>1.470981</td>\n",
              "      <td>1.675322</td>\n",
              "      <td>1.643417</td>\n",
              "      <td>1.027720</td>\n",
              "      <td>1.019840</td>\n",
              "      <td>1.002216</td>\n",
              "      <td>1.142716</td>\n",
              "      <td>1.179963</td>\n",
              "      <td>0.002295</td>\n",
              "      <td>-0.193196</td>\n",
              "      <td>0.381066</td>\n",
              "      <td>0.582002</td>\n",
              "      <td>-0.467369</td>\n",
              "      <td>1.030015</td>\n",
              "      <td>0.826644</td>\n",
              "      <td>1.383282</td>\n",
              "      <td>1.724718</td>\n",
              "      <td>0.712594</td>\n",
              "    </tr>\n",
              "    <tr>\n",
              "      <th>1</th>\n",
              "      <td>50</td>\n",
              "      <td>3</td>\n",
              "      <td>6</td>\n",
              "      <td>1</td>\n",
              "      <td>1</td>\n",
              "      <td>Alabama</td>\n",
              "      <td>Autauga County</td>\n",
              "      <td>54571</td>\n",
              "      <td>54571</td>\n",
              "      <td>54660</td>\n",
              "      <td>55253</td>\n",
              "      <td>55175</td>\n",
              "      <td>55038</td>\n",
              "      <td>55290</td>\n",
              "      <td>55347</td>\n",
              "      <td>89</td>\n",
              "      <td>593</td>\n",
              "      <td>-78</td>\n",
              "      <td>-137</td>\n",
              "      <td>252</td>\n",
              "      <td>57</td>\n",
              "      <td>151</td>\n",
              "      <td>636</td>\n",
              "      <td>615</td>\n",
              "      <td>574</td>\n",
              "      <td>623</td>\n",
              "      <td>600</td>\n",
              "      <td>152</td>\n",
              "      <td>507</td>\n",
              "      <td>558</td>\n",
              "      <td>583</td>\n",
              "      <td>504</td>\n",
              "      <td>467</td>\n",
              "      <td>-1</td>\n",
              "      <td>129</td>\n",
              "      <td>57</td>\n",
              "      <td>-9</td>\n",
              "      <td>119</td>\n",
              "      <td>133</td>\n",
              "      <td>33</td>\n",
              "      <td>...</td>\n",
              "      <td>22</td>\n",
              "      <td>-10</td>\n",
              "      <td>45</td>\n",
              "      <td>455</td>\n",
              "      <td>455</td>\n",
              "      <td>455</td>\n",
              "      <td>455</td>\n",
              "      <td>455</td>\n",
              "      <td>455</td>\n",
              "      <td>455</td>\n",
              "      <td>11.572789</td>\n",
              "      <td>11.138479</td>\n",
              "      <td>10.416194</td>\n",
              "      <td>11.293597</td>\n",
              "      <td>10.846281</td>\n",
              "      <td>9.225478</td>\n",
              "      <td>10.106133</td>\n",
              "      <td>10.579514</td>\n",
              "      <td>9.136393</td>\n",
              "      <td>8.442022</td>\n",
              "      <td>2.347311</td>\n",
              "      <td>1.032347</td>\n",
              "      <td>-0.163320</td>\n",
              "      <td>2.157204</td>\n",
              "      <td>2.404259</td>\n",
              "      <td>0.363924</td>\n",
              "      <td>0.289782</td>\n",
              "      <td>0.290347</td>\n",
              "      <td>0.326300</td>\n",
              "      <td>0.343466</td>\n",
              "      <td>7.242091</td>\n",
              "      <td>-2.915927</td>\n",
              "      <td>-3.012349</td>\n",
              "      <td>2.265971</td>\n",
              "      <td>-2.530799</td>\n",
              "      <td>7.606016</td>\n",
              "      <td>-2.626146</td>\n",
              "      <td>-2.722002</td>\n",
              "      <td>2.592270</td>\n",
              "      <td>-2.187333</td>\n",
              "    </tr>\n",
              "    <tr>\n",
              "      <th>2</th>\n",
              "      <td>50</td>\n",
              "      <td>3</td>\n",
              "      <td>6</td>\n",
              "      <td>1</td>\n",
              "      <td>3</td>\n",
              "      <td>Alabama</td>\n",
              "      <td>Baldwin County</td>\n",
              "      <td>182265</td>\n",
              "      <td>182265</td>\n",
              "      <td>183193</td>\n",
              "      <td>186659</td>\n",
              "      <td>190396</td>\n",
              "      <td>195126</td>\n",
              "      <td>199713</td>\n",
              "      <td>203709</td>\n",
              "      <td>928</td>\n",
              "      <td>3466</td>\n",
              "      <td>3737</td>\n",
              "      <td>4730</td>\n",
              "      <td>4587</td>\n",
              "      <td>3996</td>\n",
              "      <td>517</td>\n",
              "      <td>2187</td>\n",
              "      <td>2092</td>\n",
              "      <td>2160</td>\n",
              "      <td>2186</td>\n",
              "      <td>2240</td>\n",
              "      <td>532</td>\n",
              "      <td>1825</td>\n",
              "      <td>1879</td>\n",
              "      <td>1902</td>\n",
              "      <td>2044</td>\n",
              "      <td>1992</td>\n",
              "      <td>-15</td>\n",
              "      <td>362</td>\n",
              "      <td>213</td>\n",
              "      <td>258</td>\n",
              "      <td>142</td>\n",
              "      <td>248</td>\n",
              "      <td>69</td>\n",
              "      <td>...</td>\n",
              "      <td>91</td>\n",
              "      <td>434</td>\n",
              "      <td>58</td>\n",
              "      <td>2307</td>\n",
              "      <td>2307</td>\n",
              "      <td>2307</td>\n",
              "      <td>2249</td>\n",
              "      <td>2304</td>\n",
              "      <td>2308</td>\n",
              "      <td>2309</td>\n",
              "      <td>11.826352</td>\n",
              "      <td>11.096524</td>\n",
              "      <td>11.205586</td>\n",
              "      <td>11.072868</td>\n",
              "      <td>11.104997</td>\n",
              "      <td>9.868812</td>\n",
              "      <td>9.966716</td>\n",
              "      <td>9.867141</td>\n",
              "      <td>10.353587</td>\n",
              "      <td>9.875515</td>\n",
              "      <td>1.957540</td>\n",
              "      <td>1.129809</td>\n",
              "      <td>1.338445</td>\n",
              "      <td>0.719281</td>\n",
              "      <td>1.229482</td>\n",
              "      <td>1.011215</td>\n",
              "      <td>0.912334</td>\n",
              "      <td>0.881921</td>\n",
              "      <td>1.073855</td>\n",
              "      <td>1.095627</td>\n",
              "      <td>14.832960</td>\n",
              "      <td>17.647293</td>\n",
              "      <td>21.845705</td>\n",
              "      <td>19.243287</td>\n",
              "      <td>17.197872</td>\n",
              "      <td>15.844176</td>\n",
              "      <td>18.559627</td>\n",
              "      <td>22.727626</td>\n",
              "      <td>20.317142</td>\n",
              "      <td>18.293499</td>\n",
              "    </tr>\n",
              "    <tr>\n",
              "      <th>3</th>\n",
              "      <td>50</td>\n",
              "      <td>3</td>\n",
              "      <td>6</td>\n",
              "      <td>1</td>\n",
              "      <td>5</td>\n",
              "      <td>Alabama</td>\n",
              "      <td>Barbour County</td>\n",
              "      <td>27457</td>\n",
              "      <td>27457</td>\n",
              "      <td>27341</td>\n",
              "      <td>27226</td>\n",
              "      <td>27159</td>\n",
              "      <td>26973</td>\n",
              "      <td>26815</td>\n",
              "      <td>26489</td>\n",
              "      <td>-116</td>\n",
              "      <td>-115</td>\n",
              "      <td>-67</td>\n",
              "      <td>-186</td>\n",
              "      <td>-158</td>\n",
              "      <td>-326</td>\n",
              "      <td>70</td>\n",
              "      <td>335</td>\n",
              "      <td>300</td>\n",
              "      <td>283</td>\n",
              "      <td>260</td>\n",
              "      <td>269</td>\n",
              "      <td>128</td>\n",
              "      <td>319</td>\n",
              "      <td>291</td>\n",
              "      <td>294</td>\n",
              "      <td>310</td>\n",
              "      <td>309</td>\n",
              "      <td>-58</td>\n",
              "      <td>16</td>\n",
              "      <td>9</td>\n",
              "      <td>-11</td>\n",
              "      <td>-50</td>\n",
              "      <td>-40</td>\n",
              "      <td>2</td>\n",
              "      <td>...</td>\n",
              "      <td>19</td>\n",
              "      <td>-1</td>\n",
              "      <td>-5</td>\n",
              "      <td>3193</td>\n",
              "      <td>3193</td>\n",
              "      <td>3382</td>\n",
              "      <td>3388</td>\n",
              "      <td>3389</td>\n",
              "      <td>3353</td>\n",
              "      <td>3352</td>\n",
              "      <td>12.278483</td>\n",
              "      <td>11.032454</td>\n",
              "      <td>10.455923</td>\n",
              "      <td>9.667584</td>\n",
              "      <td>10.093051</td>\n",
              "      <td>11.692048</td>\n",
              "      <td>10.701480</td>\n",
              "      <td>10.862337</td>\n",
              "      <td>11.526735</td>\n",
              "      <td>11.593877</td>\n",
              "      <td>0.586435</td>\n",
              "      <td>0.330974</td>\n",
              "      <td>-0.406414</td>\n",
              "      <td>-1.859151</td>\n",
              "      <td>-1.500825</td>\n",
              "      <td>-0.146609</td>\n",
              "      <td>-0.257424</td>\n",
              "      <td>-0.110840</td>\n",
              "      <td>-0.074366</td>\n",
              "      <td>0.000000</td>\n",
              "      <td>-4.728132</td>\n",
              "      <td>-2.500690</td>\n",
              "      <td>-7.056824</td>\n",
              "      <td>-3.904217</td>\n",
              "      <td>-10.543299</td>\n",
              "      <td>-4.874741</td>\n",
              "      <td>-2.758113</td>\n",
              "      <td>-7.167664</td>\n",
              "      <td>-3.978583</td>\n",
              "      <td>-10.543299</td>\n",
              "    </tr>\n",
              "    <tr>\n",
              "      <th>4</th>\n",
              "      <td>50</td>\n",
              "      <td>3</td>\n",
              "      <td>6</td>\n",
              "      <td>1</td>\n",
              "      <td>7</td>\n",
              "      <td>Alabama</td>\n",
              "      <td>Bibb County</td>\n",
              "      <td>22915</td>\n",
              "      <td>22919</td>\n",
              "      <td>22861</td>\n",
              "      <td>22733</td>\n",
              "      <td>22642</td>\n",
              "      <td>22512</td>\n",
              "      <td>22549</td>\n",
              "      <td>22583</td>\n",
              "      <td>-58</td>\n",
              "      <td>-128</td>\n",
              "      <td>-91</td>\n",
              "      <td>-130</td>\n",
              "      <td>37</td>\n",
              "      <td>34</td>\n",
              "      <td>44</td>\n",
              "      <td>266</td>\n",
              "      <td>245</td>\n",
              "      <td>259</td>\n",
              "      <td>247</td>\n",
              "      <td>253</td>\n",
              "      <td>34</td>\n",
              "      <td>278</td>\n",
              "      <td>237</td>\n",
              "      <td>281</td>\n",
              "      <td>211</td>\n",
              "      <td>223</td>\n",
              "      <td>10</td>\n",
              "      <td>-12</td>\n",
              "      <td>8</td>\n",
              "      <td>-22</td>\n",
              "      <td>36</td>\n",
              "      <td>30</td>\n",
              "      <td>2</td>\n",
              "      <td>...</td>\n",
              "      <td>14</td>\n",
              "      <td>-16</td>\n",
              "      <td>-21</td>\n",
              "      <td>2224</td>\n",
              "      <td>2224</td>\n",
              "      <td>2224</td>\n",
              "      <td>2224</td>\n",
              "      <td>2224</td>\n",
              "      <td>2233</td>\n",
              "      <td>2236</td>\n",
              "      <td>11.668202</td>\n",
              "      <td>10.798898</td>\n",
              "      <td>11.471852</td>\n",
              "      <td>10.962917</td>\n",
              "      <td>11.211557</td>\n",
              "      <td>12.194587</td>\n",
              "      <td>10.446281</td>\n",
              "      <td>12.446295</td>\n",
              "      <td>9.365083</td>\n",
              "      <td>9.882124</td>\n",
              "      <td>-0.526385</td>\n",
              "      <td>0.352617</td>\n",
              "      <td>-0.974443</td>\n",
              "      <td>1.597834</td>\n",
              "      <td>1.329434</td>\n",
              "      <td>0.438654</td>\n",
              "      <td>0.705234</td>\n",
              "      <td>0.797272</td>\n",
              "      <td>0.932070</td>\n",
              "      <td>0.930604</td>\n",
              "      <td>-5.527043</td>\n",
              "      <td>-5.068871</td>\n",
              "      <td>-6.201001</td>\n",
              "      <td>-0.177537</td>\n",
              "      <td>0.177258</td>\n",
              "      <td>-5.088389</td>\n",
              "      <td>-4.363636</td>\n",
              "      <td>-5.403729</td>\n",
              "      <td>0.754533</td>\n",
              "      <td>1.107861</td>\n",
              "    </tr>\n",
              "    <tr>\n",
              "      <th>...</th>\n",
              "      <td>...</td>\n",
              "      <td>...</td>\n",
              "      <td>...</td>\n",
              "      <td>...</td>\n",
              "      <td>...</td>\n",
              "      <td>...</td>\n",
              "      <td>...</td>\n",
              "      <td>...</td>\n",
              "      <td>...</td>\n",
              "      <td>...</td>\n",
              "      <td>...</td>\n",
              "      <td>...</td>\n",
              "      <td>...</td>\n",
              "      <td>...</td>\n",
              "      <td>...</td>\n",
              "      <td>...</td>\n",
              "      <td>...</td>\n",
              "      <td>...</td>\n",
              "      <td>...</td>\n",
              "      <td>...</td>\n",
              "      <td>...</td>\n",
              "      <td>...</td>\n",
              "      <td>...</td>\n",
              "      <td>...</td>\n",
              "      <td>...</td>\n",
              "      <td>...</td>\n",
              "      <td>...</td>\n",
              "      <td>...</td>\n",
              "      <td>...</td>\n",
              "      <td>...</td>\n",
              "      <td>...</td>\n",
              "      <td>...</td>\n",
              "      <td>...</td>\n",
              "      <td>...</td>\n",
              "      <td>...</td>\n",
              "      <td>...</td>\n",
              "      <td>...</td>\n",
              "      <td>...</td>\n",
              "      <td>...</td>\n",
              "      <td>...</td>\n",
              "      <td>...</td>\n",
              "      <td>...</td>\n",
              "      <td>...</td>\n",
              "      <td>...</td>\n",
              "      <td>...</td>\n",
              "      <td>...</td>\n",
              "      <td>...</td>\n",
              "      <td>...</td>\n",
              "      <td>...</td>\n",
              "      <td>...</td>\n",
              "      <td>...</td>\n",
              "      <td>...</td>\n",
              "      <td>...</td>\n",
              "      <td>...</td>\n",
              "      <td>...</td>\n",
              "      <td>...</td>\n",
              "      <td>...</td>\n",
              "      <td>...</td>\n",
              "      <td>...</td>\n",
              "      <td>...</td>\n",
              "      <td>...</td>\n",
              "      <td>...</td>\n",
              "      <td>...</td>\n",
              "      <td>...</td>\n",
              "      <td>...</td>\n",
              "      <td>...</td>\n",
              "      <td>...</td>\n",
              "      <td>...</td>\n",
              "      <td>...</td>\n",
              "      <td>...</td>\n",
              "      <td>...</td>\n",
              "      <td>...</td>\n",
              "      <td>...</td>\n",
              "      <td>...</td>\n",
              "      <td>...</td>\n",
              "      <td>...</td>\n",
              "      <td>...</td>\n",
              "      <td>...</td>\n",
              "      <td>...</td>\n",
              "      <td>...</td>\n",
              "      <td>...</td>\n",
              "    </tr>\n",
              "    <tr>\n",
              "      <th>3188</th>\n",
              "      <td>50</td>\n",
              "      <td>4</td>\n",
              "      <td>8</td>\n",
              "      <td>56</td>\n",
              "      <td>37</td>\n",
              "      <td>Wyoming</td>\n",
              "      <td>Sweetwater County</td>\n",
              "      <td>43806</td>\n",
              "      <td>43806</td>\n",
              "      <td>43593</td>\n",
              "      <td>44041</td>\n",
              "      <td>45104</td>\n",
              "      <td>45162</td>\n",
              "      <td>44925</td>\n",
              "      <td>44626</td>\n",
              "      <td>-213</td>\n",
              "      <td>448</td>\n",
              "      <td>1063</td>\n",
              "      <td>58</td>\n",
              "      <td>-237</td>\n",
              "      <td>-299</td>\n",
              "      <td>167</td>\n",
              "      <td>640</td>\n",
              "      <td>595</td>\n",
              "      <td>657</td>\n",
              "      <td>629</td>\n",
              "      <td>620</td>\n",
              "      <td>76</td>\n",
              "      <td>251</td>\n",
              "      <td>273</td>\n",
              "      <td>296</td>\n",
              "      <td>246</td>\n",
              "      <td>262</td>\n",
              "      <td>91</td>\n",
              "      <td>389</td>\n",
              "      <td>322</td>\n",
              "      <td>361</td>\n",
              "      <td>383</td>\n",
              "      <td>358</td>\n",
              "      <td>5</td>\n",
              "      <td>...</td>\n",
              "      <td>-64</td>\n",
              "      <td>14</td>\n",
              "      <td>-27</td>\n",
              "      <td>679</td>\n",
              "      <td>679</td>\n",
              "      <td>694</td>\n",
              "      <td>697</td>\n",
              "      <td>731</td>\n",
              "      <td>671</td>\n",
              "      <td>672</td>\n",
              "      <td>14.606203</td>\n",
              "      <td>13.349038</td>\n",
              "      <td>14.556976</td>\n",
              "      <td>13.964279</td>\n",
              "      <td>13.846858</td>\n",
              "      <td>5.728370</td>\n",
              "      <td>6.124853</td>\n",
              "      <td>6.558394</td>\n",
              "      <td>5.461387</td>\n",
              "      <td>5.851414</td>\n",
              "      <td>8.877833</td>\n",
              "      <td>7.224185</td>\n",
              "      <td>7.998582</td>\n",
              "      <td>8.502892</td>\n",
              "      <td>7.995444</td>\n",
              "      <td>0.182578</td>\n",
              "      <td>0.000000</td>\n",
              "      <td>0.044313</td>\n",
              "      <td>0.177606</td>\n",
              "      <td>0.178669</td>\n",
              "      <td>1.072643</td>\n",
              "      <td>16.243199</td>\n",
              "      <td>-5.339774</td>\n",
              "      <td>-14.252889</td>\n",
              "      <td>-14.248864</td>\n",
              "      <td>1.255221</td>\n",
              "      <td>16.243199</td>\n",
              "      <td>-5.295460</td>\n",
              "      <td>-14.075283</td>\n",
              "      <td>-14.070195</td>\n",
              "    </tr>\n",
              "    <tr>\n",
              "      <th>3189</th>\n",
              "      <td>50</td>\n",
              "      <td>4</td>\n",
              "      <td>8</td>\n",
              "      <td>56</td>\n",
              "      <td>39</td>\n",
              "      <td>Wyoming</td>\n",
              "      <td>Teton County</td>\n",
              "      <td>21294</td>\n",
              "      <td>21294</td>\n",
              "      <td>21297</td>\n",
              "      <td>21482</td>\n",
              "      <td>21697</td>\n",
              "      <td>22347</td>\n",
              "      <td>22905</td>\n",
              "      <td>23125</td>\n",
              "      <td>3</td>\n",
              "      <td>185</td>\n",
              "      <td>215</td>\n",
              "      <td>650</td>\n",
              "      <td>558</td>\n",
              "      <td>220</td>\n",
              "      <td>76</td>\n",
              "      <td>259</td>\n",
              "      <td>230</td>\n",
              "      <td>261</td>\n",
              "      <td>249</td>\n",
              "      <td>269</td>\n",
              "      <td>10</td>\n",
              "      <td>87</td>\n",
              "      <td>61</td>\n",
              "      <td>97</td>\n",
              "      <td>68</td>\n",
              "      <td>76</td>\n",
              "      <td>66</td>\n",
              "      <td>172</td>\n",
              "      <td>169</td>\n",
              "      <td>164</td>\n",
              "      <td>181</td>\n",
              "      <td>193</td>\n",
              "      <td>5</td>\n",
              "      <td>...</td>\n",
              "      <td>20</td>\n",
              "      <td>8</td>\n",
              "      <td>-8</td>\n",
              "      <td>271</td>\n",
              "      <td>271</td>\n",
              "      <td>271</td>\n",
              "      <td>270</td>\n",
              "      <td>268</td>\n",
              "      <td>268</td>\n",
              "      <td>267</td>\n",
              "      <td>12.108745</td>\n",
              "      <td>10.653327</td>\n",
              "      <td>11.851785</td>\n",
              "      <td>11.005038</td>\n",
              "      <td>11.688030</td>\n",
              "      <td>4.067416</td>\n",
              "      <td>2.825448</td>\n",
              "      <td>4.404686</td>\n",
              "      <td>3.005392</td>\n",
              "      <td>3.302194</td>\n",
              "      <td>8.041329</td>\n",
              "      <td>7.827879</td>\n",
              "      <td>7.447098</td>\n",
              "      <td>7.999646</td>\n",
              "      <td>8.385835</td>\n",
              "      <td>2.244092</td>\n",
              "      <td>1.435883</td>\n",
              "      <td>1.634729</td>\n",
              "      <td>2.165650</td>\n",
              "      <td>2.085596</td>\n",
              "      <td>-1.589565</td>\n",
              "      <td>0.972695</td>\n",
              "      <td>19.525929</td>\n",
              "      <td>14.143021</td>\n",
              "      <td>-0.564849</td>\n",
              "      <td>0.654527</td>\n",
              "      <td>2.408578</td>\n",
              "      <td>21.160658</td>\n",
              "      <td>16.308671</td>\n",
              "      <td>1.520747</td>\n",
              "    </tr>\n",
              "    <tr>\n",
              "      <th>3190</th>\n",
              "      <td>50</td>\n",
              "      <td>4</td>\n",
              "      <td>8</td>\n",
              "      <td>56</td>\n",
              "      <td>41</td>\n",
              "      <td>Wyoming</td>\n",
              "      <td>Uinta County</td>\n",
              "      <td>21118</td>\n",
              "      <td>21118</td>\n",
              "      <td>21102</td>\n",
              "      <td>20912</td>\n",
              "      <td>20989</td>\n",
              "      <td>21022</td>\n",
              "      <td>20903</td>\n",
              "      <td>20822</td>\n",
              "      <td>-16</td>\n",
              "      <td>-190</td>\n",
              "      <td>77</td>\n",
              "      <td>33</td>\n",
              "      <td>-119</td>\n",
              "      <td>-81</td>\n",
              "      <td>73</td>\n",
              "      <td>324</td>\n",
              "      <td>311</td>\n",
              "      <td>316</td>\n",
              "      <td>316</td>\n",
              "      <td>316</td>\n",
              "      <td>49</td>\n",
              "      <td>139</td>\n",
              "      <td>115</td>\n",
              "      <td>136</td>\n",
              "      <td>130</td>\n",
              "      <td>137</td>\n",
              "      <td>24</td>\n",
              "      <td>185</td>\n",
              "      <td>196</td>\n",
              "      <td>180</td>\n",
              "      <td>186</td>\n",
              "      <td>179</td>\n",
              "      <td>2</td>\n",
              "      <td>...</td>\n",
              "      <td>11</td>\n",
              "      <td>4</td>\n",
              "      <td>3</td>\n",
              "      <td>270</td>\n",
              "      <td>270</td>\n",
              "      <td>245</td>\n",
              "      <td>236</td>\n",
              "      <td>254</td>\n",
              "      <td>254</td>\n",
              "      <td>254</td>\n",
              "      <td>15.423430</td>\n",
              "      <td>14.844514</td>\n",
              "      <td>15.043679</td>\n",
              "      <td>15.074538</td>\n",
              "      <td>15.146794</td>\n",
              "      <td>6.616842</td>\n",
              "      <td>5.489129</td>\n",
              "      <td>6.474495</td>\n",
              "      <td>6.201550</td>\n",
              "      <td>6.566806</td>\n",
              "      <td>8.806588</td>\n",
              "      <td>9.355385</td>\n",
              "      <td>8.569184</td>\n",
              "      <td>8.872987</td>\n",
              "      <td>8.579988</td>\n",
              "      <td>-0.380825</td>\n",
              "      <td>-0.620510</td>\n",
              "      <td>-0.618886</td>\n",
              "      <td>-0.524747</td>\n",
              "      <td>-0.479329</td>\n",
              "      <td>-17.755986</td>\n",
              "      <td>-4.916350</td>\n",
              "      <td>-6.902954</td>\n",
              "      <td>-14.215862</td>\n",
              "      <td>-12.127022</td>\n",
              "      <td>-18.136812</td>\n",
              "      <td>-5.536861</td>\n",
              "      <td>-7.521840</td>\n",
              "      <td>-14.740608</td>\n",
              "      <td>-12.606351</td>\n",
              "    </tr>\n",
              "    <tr>\n",
              "      <th>3191</th>\n",
              "      <td>50</td>\n",
              "      <td>4</td>\n",
              "      <td>8</td>\n",
              "      <td>56</td>\n",
              "      <td>43</td>\n",
              "      <td>Wyoming</td>\n",
              "      <td>Washakie County</td>\n",
              "      <td>8533</td>\n",
              "      <td>8533</td>\n",
              "      <td>8545</td>\n",
              "      <td>8469</td>\n",
              "      <td>8443</td>\n",
              "      <td>8443</td>\n",
              "      <td>8316</td>\n",
              "      <td>8328</td>\n",
              "      <td>12</td>\n",
              "      <td>-76</td>\n",
              "      <td>-26</td>\n",
              "      <td>0</td>\n",
              "      <td>-127</td>\n",
              "      <td>12</td>\n",
              "      <td>26</td>\n",
              "      <td>108</td>\n",
              "      <td>90</td>\n",
              "      <td>95</td>\n",
              "      <td>96</td>\n",
              "      <td>90</td>\n",
              "      <td>34</td>\n",
              "      <td>79</td>\n",
              "      <td>105</td>\n",
              "      <td>77</td>\n",
              "      <td>70</td>\n",
              "      <td>79</td>\n",
              "      <td>-8</td>\n",
              "      <td>29</td>\n",
              "      <td>-15</td>\n",
              "      <td>18</td>\n",
              "      <td>26</td>\n",
              "      <td>11</td>\n",
              "      <td>1</td>\n",
              "      <td>...</td>\n",
              "      <td>1</td>\n",
              "      <td>-2</td>\n",
              "      <td>-11</td>\n",
              "      <td>140</td>\n",
              "      <td>140</td>\n",
              "      <td>140</td>\n",
              "      <td>140</td>\n",
              "      <td>140</td>\n",
              "      <td>140</td>\n",
              "      <td>140</td>\n",
              "      <td>12.695427</td>\n",
              "      <td>10.643330</td>\n",
              "      <td>11.251925</td>\n",
              "      <td>11.456531</td>\n",
              "      <td>10.814708</td>\n",
              "      <td>9.286470</td>\n",
              "      <td>12.417219</td>\n",
              "      <td>9.119981</td>\n",
              "      <td>8.353720</td>\n",
              "      <td>9.492910</td>\n",
              "      <td>3.408957</td>\n",
              "      <td>-1.773888</td>\n",
              "      <td>2.131944</td>\n",
              "      <td>3.102810</td>\n",
              "      <td>1.321798</td>\n",
              "      <td>-0.352651</td>\n",
              "      <td>-0.354778</td>\n",
              "      <td>-0.236883</td>\n",
              "      <td>-0.238678</td>\n",
              "      <td>-0.240327</td>\n",
              "      <td>-11.637475</td>\n",
              "      <td>-0.827815</td>\n",
              "      <td>-2.013502</td>\n",
              "      <td>-17.781491</td>\n",
              "      <td>1.682288</td>\n",
              "      <td>-11.990126</td>\n",
              "      <td>-1.182592</td>\n",
              "      <td>-2.250385</td>\n",
              "      <td>-18.020168</td>\n",
              "      <td>1.441961</td>\n",
              "    </tr>\n",
              "    <tr>\n",
              "      <th>3192</th>\n",
              "      <td>50</td>\n",
              "      <td>4</td>\n",
              "      <td>8</td>\n",
              "      <td>56</td>\n",
              "      <td>45</td>\n",
              "      <td>Wyoming</td>\n",
              "      <td>Weston County</td>\n",
              "      <td>7208</td>\n",
              "      <td>7208</td>\n",
              "      <td>7181</td>\n",
              "      <td>7114</td>\n",
              "      <td>7065</td>\n",
              "      <td>7160</td>\n",
              "      <td>7185</td>\n",
              "      <td>7234</td>\n",
              "      <td>-27</td>\n",
              "      <td>-67</td>\n",
              "      <td>-49</td>\n",
              "      <td>95</td>\n",
              "      <td>25</td>\n",
              "      <td>49</td>\n",
              "      <td>26</td>\n",
              "      <td>81</td>\n",
              "      <td>74</td>\n",
              "      <td>93</td>\n",
              "      <td>77</td>\n",
              "      <td>79</td>\n",
              "      <td>9</td>\n",
              "      <td>71</td>\n",
              "      <td>67</td>\n",
              "      <td>77</td>\n",
              "      <td>70</td>\n",
              "      <td>77</td>\n",
              "      <td>17</td>\n",
              "      <td>10</td>\n",
              "      <td>7</td>\n",
              "      <td>16</td>\n",
              "      <td>7</td>\n",
              "      <td>2</td>\n",
              "      <td>1</td>\n",
              "      <td>...</td>\n",
              "      <td>-9</td>\n",
              "      <td>7</td>\n",
              "      <td>-3</td>\n",
              "      <td>313</td>\n",
              "      <td>313</td>\n",
              "      <td>313</td>\n",
              "      <td>313</td>\n",
              "      <td>323</td>\n",
              "      <td>318</td>\n",
              "      <td>317</td>\n",
              "      <td>11.332634</td>\n",
              "      <td>10.437972</td>\n",
              "      <td>13.075571</td>\n",
              "      <td>10.735448</td>\n",
              "      <td>10.957764</td>\n",
              "      <td>9.933543</td>\n",
              "      <td>9.450596</td>\n",
              "      <td>10.826011</td>\n",
              "      <td>9.759498</td>\n",
              "      <td>10.680352</td>\n",
              "      <td>1.399091</td>\n",
              "      <td>0.987376</td>\n",
              "      <td>2.249561</td>\n",
              "      <td>0.975950</td>\n",
              "      <td>0.277412</td>\n",
              "      <td>-0.279818</td>\n",
              "      <td>0.000000</td>\n",
              "      <td>0.000000</td>\n",
              "      <td>0.000000</td>\n",
              "      <td>0.000000</td>\n",
              "      <td>-11.752361</td>\n",
              "      <td>-8.040059</td>\n",
              "      <td>12.372583</td>\n",
              "      <td>1.533635</td>\n",
              "      <td>6.935294</td>\n",
              "      <td>-12.032179</td>\n",
              "      <td>-8.040059</td>\n",
              "      <td>12.372583</td>\n",
              "      <td>1.533635</td>\n",
              "      <td>6.935294</td>\n",
              "    </tr>\n",
              "  </tbody>\n",
              "</table>\n",
              "<p>3193 rows × 100 columns</p>\n",
              "</div>"
            ],
            "text/plain": [
              "      SUMLEV  REGION  DIVISION  ...  RNETMIG2013  RNETMIG2014 RNETMIG2015\n",
              "0         40       3         6  ...     1.383282     1.724718    0.712594\n",
              "1         50       3         6  ...    -2.722002     2.592270   -2.187333\n",
              "2         50       3         6  ...    22.727626    20.317142   18.293499\n",
              "3         50       3         6  ...    -7.167664    -3.978583  -10.543299\n",
              "4         50       3         6  ...    -5.403729     0.754533    1.107861\n",
              "...      ...     ...       ...  ...          ...          ...         ...\n",
              "3188      50       4         8  ...    -5.295460   -14.075283  -14.070195\n",
              "3189      50       4         8  ...    21.160658    16.308671    1.520747\n",
              "3190      50       4         8  ...    -7.521840   -14.740608  -12.606351\n",
              "3191      50       4         8  ...    -2.250385   -18.020168    1.441961\n",
              "3192      50       4         8  ...    12.372583     1.533635    6.935294\n",
              "\n",
              "[3193 rows x 100 columns]"
            ]
          },
          "metadata": {
            "tags": []
          },
          "execution_count": 55
        }
      ]
    },
    {
      "cell_type": "code",
      "metadata": {
        "id": "lS80CoffMdk2",
        "colab_type": "code",
        "colab": {
          "base_uri": "https://localhost:8080/",
          "height": 35
        },
        "outputId": "5aeffa16-a1ac-4b32-9ad3-fbf48b589ad5"
      },
      "source": [
        "county_df = census_df[ census_df[\"SUMLEV\"] == 50 ]\n",
        "county_df[\"STNAME\"].value_counts().idxmax()"
      ],
      "execution_count": 59,
      "outputs": [
        {
          "output_type": "execute_result",
          "data": {
            "application/vnd.google.colaboratory.intrinsic": {
              "type": "string"
            },
            "text/plain": [
              "'Texas'"
            ]
          },
          "metadata": {
            "tags": []
          },
          "execution_count": 59
        }
      ]
    },
    {
      "cell_type": "code",
      "metadata": {
        "id": "p9npdFDeAcYw",
        "colab_type": "code",
        "colab": {
          "base_uri": "https://localhost:8080/",
          "height": 35
        },
        "outputId": "29b066f8-0cb1-4683-d7ba-60648cc8de64"
      },
      "source": [
        "def answer_five():\n",
        "  county_df = census_df[ census_df[\"SUMLEV\"] != 40 ]\n",
        "  return county_df[\"STNAME\"].value_counts().idxmax()\n",
        "  #return \"YOUR ANSWER HERE\"\n",
        "\n",
        "answer_five()"
      ],
      "execution_count": 63,
      "outputs": [
        {
          "output_type": "execute_result",
          "data": {
            "application/vnd.google.colaboratory.intrinsic": {
              "type": "string"
            },
            "text/plain": [
              "'Texas'"
            ]
          },
          "metadata": {
            "tags": []
          },
          "execution_count": 63
        }
      ]
    },
    {
      "cell_type": "code",
      "metadata": {
        "id": "dzIBoVtBQkdn",
        "colab_type": "code",
        "colab": {
          "base_uri": "https://localhost:8080/",
          "height": 34
        },
        "outputId": "0dd64d53-099c-40e7-e898-7c18953711a7"
      },
      "source": [
        "%%timeit 100\n",
        "answer_five()"
      ],
      "execution_count": 64,
      "outputs": [
        {
          "output_type": "stream",
          "text": [
            "100 loops, best of 3: 2.57 ms per loop\n"
          ],
          "name": "stdout"
        }
      ]
    },
    {
      "cell_type": "code",
      "metadata": {
        "id": "BX9ElVjZQXlb",
        "colab_type": "code",
        "colab": {
          "base_uri": "https://localhost:8080/",
          "height": 35
        },
        "outputId": "4a9296c4-3845-42b0-ff6e-1fdb5803eabb"
      },
      "source": [
        "def answer_five_v2():\n",
        "  county_df = census_df[ census_df[\"STNAME\"] != census_df[\"CTYNAME\"] ]\n",
        "  return county_df[\"STNAME\"].value_counts().idxmax()\n",
        "  #return \"YOUR ANSWER HERE\"\n",
        "\n",
        "answer_five_v2()"
      ],
      "execution_count": 65,
      "outputs": [
        {
          "output_type": "execute_result",
          "data": {
            "application/vnd.google.colaboratory.intrinsic": {
              "type": "string"
            },
            "text/plain": [
              "'Texas'"
            ]
          },
          "metadata": {
            "tags": []
          },
          "execution_count": 65
        }
      ]
    },
    {
      "cell_type": "code",
      "metadata": {
        "id": "7V6JqEjXQpe7",
        "colab_type": "code",
        "colab": {
          "base_uri": "https://localhost:8080/",
          "height": 34
        },
        "outputId": "6840966e-020e-4c60-8233-b87083e25426"
      },
      "source": [
        "%%timeit 100\n",
        "answer_five_v2()"
      ],
      "execution_count": 66,
      "outputs": [
        {
          "output_type": "stream",
          "text": [
            "100 loops, best of 3: 2.74 ms per loop\n"
          ],
          "name": "stdout"
        }
      ]
    },
    {
      "cell_type": "markdown",
      "metadata": {
        "id": "zNWGsagLAcYz",
        "colab_type": "text"
      },
      "source": [
        "### Question 6\n",
        "Only looking at the three most populous counties for each state, what are the three most populous states (in order of highest population to lowest population)? Use `CENSUS2010POP`.\n",
        "\n",
        "*This function should return a list of string values.*"
      ]
    },
    {
      "cell_type": "code",
      "metadata": {
        "id": "55iXWiSzRQSd",
        "colab_type": "code",
        "colab": {
          "base_uri": "https://localhost:8080/",
          "height": 34
        },
        "outputId": "cf295014-ad7d-488b-f83c-d5e56ef96965"
      },
      "source": [
        "county_df = census_df[ census_df[\"SUMLEV\"] != 40 ]\n",
        "states = county_df.groupby(\"STNAME\").apply( lambda state : state.nlargest(3, \"CENSUS2010POP\").sum() ).nlargest(3, \"CENSUS2010POP\").index\n",
        "list(states)"
      ],
      "execution_count": 75,
      "outputs": [
        {
          "output_type": "execute_result",
          "data": {
            "text/plain": [
              "['California', 'Texas', 'Illinois']"
            ]
          },
          "metadata": {
            "tags": []
          },
          "execution_count": 75
        }
      ]
    },
    {
      "cell_type": "markdown",
      "metadata": {
        "id": "o4Mo5EtvRnnz",
        "colab_type": "text"
      },
      "source": [
        ""
      ]
    },
    {
      "cell_type": "code",
      "metadata": {
        "id": "cMzUXCu9AcYz",
        "colab_type": "code",
        "colab": {
          "base_uri": "https://localhost:8080/",
          "height": 34
        },
        "outputId": "7f1b3ad1-8799-41d9-84ec-463a281d4410"
      },
      "source": [
        "def answer_six():\n",
        "  county_df = census_df[ census_df[\"SUMLEV\"] != 40 ]\n",
        "  states = county_df.groupby(\"STNAME\").apply( lambda state : state.nlargest(3, \"CENSUS2010POP\").sum() ).nlargest(3, \"CENSUS2010POP\").index\n",
        "  return list(states)\n",
        "  # return \"YOUR ANSWER HERE\"\n",
        "\n",
        "answer_six()"
      ],
      "execution_count": 76,
      "outputs": [
        {
          "output_type": "execute_result",
          "data": {
            "text/plain": [
              "['California', 'Texas', 'Illinois']"
            ]
          },
          "metadata": {
            "tags": []
          },
          "execution_count": 76
        }
      ]
    },
    {
      "cell_type": "code",
      "metadata": {
        "id": "mkpbp0v9XfoU",
        "colab_type": "code",
        "colab": {
          "base_uri": "https://localhost:8080/",
          "height": 34
        },
        "outputId": "77f575b2-752c-4353-c8b9-86d4bd46f673"
      },
      "source": [
        "%%timeit 100\n",
        "answer_six()"
      ],
      "execution_count": 78,
      "outputs": [
        {
          "output_type": "stream",
          "text": [
            "10 loops, best of 3: 160 ms per loop\n"
          ],
          "name": "stdout"
        }
      ]
    },
    {
      "cell_type": "code",
      "metadata": {
        "id": "2l2w2CMEWVNJ",
        "colab_type": "code",
        "colab": {
          "base_uri": "https://localhost:8080/",
          "height": 34
        },
        "outputId": "d0f35ce4-43d8-4054-c804-0de4da187e45"
      },
      "source": [
        "def answer_six_v2():\n",
        "  copy_df = census_df[ census_df.SUMLEV == 50 ] [[\"CENSUS2010POP\", \"STNAME\"]].copy()\n",
        "  copy_df = copy_df.groupby([\"STNAME\"]).apply(lambda counties : counties.nlargest(3, \"CENSUS2010POP\" ))\n",
        "  mylist = list( copy_df.CENSUS2010POP.groupby([\"STNAME\"]).apply(sum).nlargest(3).index )\n",
        "  return mylist\n",
        "\n",
        "answer_six_v2()"
      ],
      "execution_count": 77,
      "outputs": [
        {
          "output_type": "execute_result",
          "data": {
            "text/plain": [
              "['California', 'Texas', 'Illinois']"
            ]
          },
          "metadata": {
            "tags": []
          },
          "execution_count": 77
        }
      ]
    },
    {
      "cell_type": "code",
      "metadata": {
        "id": "GPBvoNoHXoay",
        "colab_type": "code",
        "colab": {
          "base_uri": "https://localhost:8080/",
          "height": 34
        },
        "outputId": "7e991ae8-7214-4e1d-9ff6-566808796acd"
      },
      "source": [
        "%%timeit 100\n",
        "answer_six_v2()"
      ],
      "execution_count": 79,
      "outputs": [
        {
          "output_type": "stream",
          "text": [
            "10 loops, best of 3: 90.7 ms per loop\n"
          ],
          "name": "stdout"
        }
      ]
    },
    {
      "cell_type": "markdown",
      "metadata": {
        "id": "GEFEis3xAcY1",
        "colab_type": "text"
      },
      "source": [
        "### Question 7\n",
        "Which county has had the largest absolute change in population within the period 2010-2015? (Hint: population values are stored in columns POPESTIMATE2010 through POPESTIMATE2015, you need to consider all six columns.)\n",
        "\n",
        "e.g. If County Population in the 5 year period is 100, 120, 80, 105, 100, 130, then its largest change in the period would be |130-80| = 50.\n",
        "\n",
        "*This function should return a single string value.*"
      ]
    },
    {
      "cell_type": "code",
      "metadata": {
        "id": "WmJpaLHiUTtl",
        "colab_type": "code",
        "colab": {
          "base_uri": "https://localhost:8080/",
          "height": 35
        },
        "outputId": "a0cff503-0339-4389-d2a1-d4c6b6a507fe"
      },
      "source": [
        "county_df = census_df[ census_df[\"SUMLEV\"] != 40 ]\n",
        "pop_df = county_df[ [\"STNAME\", \"CTYNAME\", \"POPESTIMATE2010\", \"POPESTIMATE2011\", \"POPESTIMATE2012\", \"POPESTIMATE2013\", \"POPESTIMATE2014\", \"POPESTIMATE2015\"] ]\n",
        "r_df = pop_df.max(axis=1) - pop_df.min(axis=1)\n",
        "countyIdx = r_df.idxmax()\n",
        "county_df.iloc[countyIdx][\"CTYNAME\"]\n"
      ],
      "execution_count": 98,
      "outputs": [
        {
          "output_type": "execute_result",
          "data": {
            "application/vnd.google.colaboratory.intrinsic": {
              "type": "string"
            },
            "text/plain": [
              "'Leon County'"
            ]
          },
          "metadata": {
            "tags": []
          },
          "execution_count": 98
        }
      ]
    },
    {
      "cell_type": "code",
      "metadata": {
        "id": "isL9jJY3Zr7Q",
        "colab_type": "code",
        "colab": {
          "base_uri": "https://localhost:8080/",
          "height": 230
        },
        "outputId": "199cfbc5-1bf3-4452-c0d6-d131d9e26c60"
      },
      "source": [
        "pop_df.apply( lambda county : county.max() , axis = 1 )"
      ],
      "execution_count": 89,
      "outputs": [
        {
          "output_type": "execute_result",
          "data": {
            "text/plain": [
              "1        55347\n",
              "2       203709\n",
              "3        27341\n",
              "4        22861\n",
              "5        57776\n",
              "         ...  \n",
              "3188     45162\n",
              "3189     23125\n",
              "3190     21102\n",
              "3191      8545\n",
              "3192      7234\n",
              "Length: 3142, dtype: int64"
            ]
          },
          "metadata": {
            "tags": []
          },
          "execution_count": 89
        }
      ]
    },
    {
      "cell_type": "code",
      "metadata": {
        "id": "kKjSGcqpbI7f",
        "colab_type": "code",
        "colab": {
          "base_uri": "https://localhost:8080/",
          "height": 230
        },
        "outputId": "d8723ef2-9cab-4737-9f59-65f0c0b3dc15"
      },
      "source": [
        "pop_df.max(axis=1)"
      ],
      "execution_count": 94,
      "outputs": [
        {
          "output_type": "execute_result",
          "data": {
            "text/plain": [
              "1        55347\n",
              "2       203709\n",
              "3        27341\n",
              "4        22861\n",
              "5        57776\n",
              "         ...  \n",
              "3188     45162\n",
              "3189     23125\n",
              "3190     21102\n",
              "3191      8545\n",
              "3192      7234\n",
              "Length: 3142, dtype: int64"
            ]
          },
          "metadata": {
            "tags": []
          },
          "execution_count": 94
        }
      ]
    },
    {
      "cell_type": "code",
      "metadata": {
        "id": "Jr25kxi8AcY1",
        "colab_type": "code",
        "colab": {
          "base_uri": "https://localhost:8080/",
          "height": 35
        },
        "outputId": "51cb47fa-99ea-45a1-d8db-5e2b107417ef"
      },
      "source": [
        "def answer_seven():\n",
        "  county_df = census_df[ census_df[\"SUMLEV\"] != 40 ]\n",
        "  pop_df = county_df[ [\"STNAME\", \"CTYNAME\", \"POPESTIMATE2010\", \"POPESTIMATE2011\", \"POPESTIMATE2012\", \"POPESTIMATE2013\", \"POPESTIMATE2014\", \"POPESTIMATE2015\"] ]\n",
        "  r_df = pop_df.max(axis=1) - pop_df.min(axis=1)\n",
        "  countyIdx = r_df.idxmax()\n",
        "  return county_df.iloc[countyIdx][\"CTYNAME\"]\n",
        "  # return \"YOUR ANSWER HERE\"\n",
        "\n",
        "answer_seven()"
      ],
      "execution_count": 101,
      "outputs": [
        {
          "output_type": "execute_result",
          "data": {
            "application/vnd.google.colaboratory.intrinsic": {
              "type": "string"
            },
            "text/plain": [
              "'Leon County'"
            ]
          },
          "metadata": {
            "tags": []
          },
          "execution_count": 101
        }
      ]
    },
    {
      "cell_type": "markdown",
      "metadata": {
        "id": "Ppy_jufTAcY3",
        "colab_type": "text"
      },
      "source": [
        "### Question 8\n",
        "In this datafile, the United States is broken up into four regions using the \"REGION\" column. \n",
        "\n",
        "Create a query that finds the counties that belong to regions 1 or 2, whose name starts with 'Washington', and whose POPESTIMATE2015 was greater than their POPESTIMATE 2014.\n",
        "\n",
        "*This function should return a 5x2 DataFrame with the columns = ['STNAME', 'CTYNAME'] and the same index ID as the census_df (sorted ascending by index).*"
      ]
    },
    {
      "cell_type": "code",
      "metadata": {
        "id": "d6eet4GSdbUc",
        "colab_type": "code",
        "colab": {
          "base_uri": "https://localhost:8080/",
          "height": 197
        },
        "outputId": "3a6740e2-cb98-4284-9df3-bc71b968a59a"
      },
      "source": [
        "filtered_df = census_df[ (census_df[\"SUMLEV\"] != 40) & ((census_df[\"REGION\"] == 1) | (census_df[\"REGION\"] == 2)) & (census_df[\"POPESTIMATE2015\"]  > census_df[\"POPESTIMATE2014\"]) & (census_df[\"CTYNAME\"].apply(lambda ctyName : ctyName.startswith(\"Washington\")))  ]\n",
        "filtered_df[  ['STNAME', 'CTYNAME'] ]"
      ],
      "execution_count": 104,
      "outputs": [
        {
          "output_type": "execute_result",
          "data": {
            "text/html": [
              "<div>\n",
              "<style scoped>\n",
              "    .dataframe tbody tr th:only-of-type {\n",
              "        vertical-align: middle;\n",
              "    }\n",
              "\n",
              "    .dataframe tbody tr th {\n",
              "        vertical-align: top;\n",
              "    }\n",
              "\n",
              "    .dataframe thead th {\n",
              "        text-align: right;\n",
              "    }\n",
              "</style>\n",
              "<table border=\"1\" class=\"dataframe\">\n",
              "  <thead>\n",
              "    <tr style=\"text-align: right;\">\n",
              "      <th></th>\n",
              "      <th>STNAME</th>\n",
              "      <th>CTYNAME</th>\n",
              "    </tr>\n",
              "  </thead>\n",
              "  <tbody>\n",
              "    <tr>\n",
              "      <th>896</th>\n",
              "      <td>Iowa</td>\n",
              "      <td>Washington County</td>\n",
              "    </tr>\n",
              "    <tr>\n",
              "      <th>1419</th>\n",
              "      <td>Minnesota</td>\n",
              "      <td>Washington County</td>\n",
              "    </tr>\n",
              "    <tr>\n",
              "      <th>2345</th>\n",
              "      <td>Pennsylvania</td>\n",
              "      <td>Washington County</td>\n",
              "    </tr>\n",
              "    <tr>\n",
              "      <th>2355</th>\n",
              "      <td>Rhode Island</td>\n",
              "      <td>Washington County</td>\n",
              "    </tr>\n",
              "    <tr>\n",
              "      <th>3163</th>\n",
              "      <td>Wisconsin</td>\n",
              "      <td>Washington County</td>\n",
              "    </tr>\n",
              "  </tbody>\n",
              "</table>\n",
              "</div>"
            ],
            "text/plain": [
              "            STNAME            CTYNAME\n",
              "896           Iowa  Washington County\n",
              "1419     Minnesota  Washington County\n",
              "2345  Pennsylvania  Washington County\n",
              "2355  Rhode Island  Washington County\n",
              "3163     Wisconsin  Washington County"
            ]
          },
          "metadata": {
            "tags": []
          },
          "execution_count": 104
        }
      ]
    },
    {
      "cell_type": "code",
      "metadata": {
        "id": "Pgl7GswuAcY3",
        "colab_type": "code",
        "colab": {}
      },
      "source": [
        "def answer_eight():\n",
        "  \n",
        "  return \"YOUR ANSWER HERE\""
      ],
      "execution_count": null,
      "outputs": []
    }
  ]
}