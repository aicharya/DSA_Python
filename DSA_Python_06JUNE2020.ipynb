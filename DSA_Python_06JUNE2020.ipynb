{
  "nbformat": 4,
  "nbformat_minor": 0,
  "metadata": {
    "colab": {
      "name": "DSA_Python_06JUNE2020.ipynb",
      "provenance": [],
      "authorship_tag": "ABX9TyPFPDU/aWtG7TswJQ6b9G1x",
      "include_colab_link": true
    },
    "kernelspec": {
      "name": "python3",
      "display_name": "Python 3"
    }
  },
  "cells": [
    {
      "cell_type": "markdown",
      "metadata": {
        "id": "view-in-github",
        "colab_type": "text"
      },
      "source": [
        "<a href=\"https://colab.research.google.com/github/aicharya/DSA_Python/blob/master/DSA_Python_06JUNE2020.ipynb\" target=\"_parent\"><img src=\"https://colab.research.google.com/assets/colab-badge.svg\" alt=\"Open In Colab\"/></a>"
      ]
    },
    {
      "cell_type": "markdown",
      "metadata": {
        "id": "vyx7gfoxTdZt",
        "colab_type": "text"
      },
      "source": [
        "numpy\n",
        "\n",
        "- discussed pip\n",
        "- discussed jupyter\n",
        "- discussed julyterlab\n"
      ]
    },
    {
      "cell_type": "code",
      "metadata": {
        "id": "fsL1oKzlTdv1",
        "colab_type": "code",
        "colab": {}
      },
      "source": [
        ""
      ],
      "execution_count": 0,
      "outputs": []
    }
  ]
}