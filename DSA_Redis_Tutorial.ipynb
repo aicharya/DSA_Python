{
  "nbformat": 4,
  "nbformat_minor": 0,
  "metadata": {
    "colab": {
      "name": "DSA Redis Tutorial.ipynb",
      "provenance": [],
      "collapsed_sections": [],
      "include_colab_link": true
    },
    "kernelspec": {
      "name": "python3",
      "display_name": "Python 3"
    }
  },
  "cells": [
    {
      "cell_type": "markdown",
      "metadata": {
        "id": "view-in-github",
        "colab_type": "text"
      },
      "source": [
        "<a href=\"https://colab.research.google.com/github/aicharya/DSA_Python/blob/master/DSA_Redis_Tutorial.ipynb\" target=\"_parent\"><img src=\"https://colab.research.google.com/assets/colab-badge.svg\" alt=\"Open In Colab\"/></a>"
      ]
    },
    {
      "cell_type": "markdown",
      "metadata": {
        "id": "EpneRM8cOK7d",
        "colab_type": "text"
      },
      "source": [
        "# [Data Science Academy](https://datascience.one)\n",
        "[https://datascience.one](https://datascience.one)\n",
        "\n",
        "\n",
        "Link to this Jupyter NoteBook: https://bit.ly/DSARedisAug2020\n"
      ]
    },
    {
      "cell_type": "code",
      "metadata": {
        "id": "ofVvB9e_AKe_",
        "colab_type": "code",
        "colab": {
          "base_uri": "https://localhost:8080/",
          "height": 125
        },
        "outputId": "2ef0ed7e-4e09-4ce4-b6de-eab976004646"
      },
      "source": [
        "!pip3 install redis"
      ],
      "execution_count": 1,
      "outputs": [
        {
          "output_type": "stream",
          "text": [
            "Collecting redis\n",
            "\u001b[?25l  Downloading https://files.pythonhosted.org/packages/a7/7c/24fb0511df653cf1a5d938d8f5d19802a88cef255706fdda242ff97e91b7/redis-3.5.3-py2.py3-none-any.whl (72kB)\n",
            "\r\u001b[K     |████▌                           | 10kB 18.3MB/s eta 0:00:01\r\u001b[K     |█████████                       | 20kB 1.7MB/s eta 0:00:01\r\u001b[K     |█████████████▋                  | 30kB 2.2MB/s eta 0:00:01\r\u001b[K     |██████████████████▏             | 40kB 2.5MB/s eta 0:00:01\r\u001b[K     |██████████████████████▊         | 51kB 2.0MB/s eta 0:00:01\r\u001b[K     |███████████████████████████▎    | 61kB 2.3MB/s eta 0:00:01\r\u001b[K     |███████████████████████████████▉| 71kB 2.5MB/s eta 0:00:01\r\u001b[K     |████████████████████████████████| 81kB 2.3MB/s \n",
            "\u001b[?25hInstalling collected packages: redis\n",
            "Successfully installed redis-3.5.3\n"
          ],
          "name": "stdout"
        }
      ]
    },
    {
      "cell_type": "code",
      "metadata": {
        "id": "3kk5bgnLAR2M",
        "colab_type": "code",
        "colab": {}
      },
      "source": [
        "import redis\n",
        "\n",
        "r = redis.Redis(\n",
        "    host='redis-13110.c228.us-central1-1.gce.cloud.redislabs.com',\n",
        "    port=13110, \n",
        "    password='Q9kNCZ9KxpjzlDiiY2NcpldVPQlwU083')"
      ],
      "execution_count": 4,
      "outputs": []
    },
    {
      "cell_type": "markdown",
      "metadata": {
        "id": "ADGDoMNYPoYD",
        "colab_type": "text"
      },
      "source": [
        "#### Reading and Writing Data"
      ]
    },
    {
      "cell_type": "code",
      "metadata": {
        "id": "g6GCoXkCFFwz",
        "colab_type": "code",
        "colab": {
          "base_uri": "https://localhost:8080/",
          "height": 34
        },
        "outputId": "32df552b-9909-407a-d34f-ac7026a34ed7"
      },
      "source": [
        "r.set('Name', 'Mimosa')\n",
        "value = r.get('Name')\n",
        "print(value)"
      ],
      "execution_count": 6,
      "outputs": [
        {
          "output_type": "stream",
          "text": [
            "b'Mimosa'\n"
          ],
          "name": "stdout"
        }
      ]
    },
    {
      "cell_type": "markdown",
      "metadata": {
        "id": "L5jRYAeRBZaY",
        "colab_type": "text"
      },
      "source": [
        "#### Deleting element"
      ]
    },
    {
      "cell_type": "code",
      "metadata": {
        "id": "S5BVFbrSBLn1",
        "colab_type": "code",
        "colab": {
          "base_uri": "https://localhost:8080/",
          "height": 34
        },
        "outputId": "c0cbe53b-0c4c-4617-dc2d-05796e23abe6"
      },
      "source": [
        "r.delete('Name')"
      ],
      "execution_count": 7,
      "outputs": [
        {
          "output_type": "execute_result",
          "data": {
            "text/plain": [
              "1"
            ]
          },
          "metadata": {
            "tags": []
          },
          "execution_count": 7
        }
      ]
    },
    {
      "cell_type": "code",
      "metadata": {
        "id": "bKi0Z3X_jCtm",
        "colab_type": "code",
        "colab": {
          "base_uri": "https://localhost:8080/",
          "height": 34
        },
        "outputId": "e670ddaf-0a9b-433a-acc2-ab60ad458ef3"
      },
      "source": [
        "value = r.get('Name')\n",
        "print(value)"
      ],
      "execution_count": 8,
      "outputs": [
        {
          "output_type": "stream",
          "text": [
            "None\n"
          ],
          "name": "stdout"
        }
      ]
    },
    {
      "cell_type": "code",
      "metadata": {
        "id": "CvsZo_VZSOKA",
        "colab_type": "code",
        "colab": {
          "base_uri": "https://localhost:8080/",
          "height": 35
        },
        "outputId": "0b1904bf-9702-4dca-90f1-d4ed4bf656d4"
      },
      "source": [
        "capitals = {}\n",
        "capitals[\"Name\"] = \"Mimosa\"\n",
        "capitals[\"Place\"] = \"SamoMi\"\n",
        "capitals.get(\"Place\")"
      ],
      "execution_count": 10,
      "outputs": [
        {
          "output_type": "execute_result",
          "data": {
            "application/vnd.google.colaboratory.intrinsic+json": {
              "type": "string"
            },
            "text/plain": [
              "'SamoMi'"
            ]
          },
          "metadata": {
            "tags": []
          },
          "execution_count": 10
        }
      ]
    },
    {
      "cell_type": "markdown",
      "metadata": {
        "id": "LMNEY6GRP0BB",
        "colab_type": "text"
      },
      "source": [
        "#### incr/decr\n",
        "\n",
        "- The incr/decr increments/decrements the number stored at key by one.\n",
        "\n",
        "- If the key does not exist, it is set to 0 before performing the operation."
      ]
    },
    {
      "cell_type": "code",
      "metadata": {
        "id": "VVF4cTwcFRB1",
        "colab_type": "code",
        "colab": {
          "base_uri": "https://localhost:8080/",
          "height": 34
        },
        "outputId": "ab1ec791-20b0-446a-f063-b1606327abab"
      },
      "source": [
        "r.set('count',1)"
      ],
      "execution_count": 11,
      "outputs": [
        {
          "output_type": "execute_result",
          "data": {
            "text/plain": [
              "True"
            ]
          },
          "metadata": {
            "tags": []
          },
          "execution_count": 11
        }
      ]
    },
    {
      "cell_type": "code",
      "metadata": {
        "id": "9dyNjYMcP_uE",
        "colab_type": "code",
        "colab": {
          "base_uri": "https://localhost:8080/",
          "height": 34
        },
        "outputId": "f663d7d4-1752-4db5-d696-34539c8f9c65"
      },
      "source": [
        "r.incr('count')"
      ],
      "execution_count": 20,
      "outputs": [
        {
          "output_type": "execute_result",
          "data": {
            "text/plain": [
              "2"
            ]
          },
          "metadata": {
            "tags": []
          },
          "execution_count": 20
        }
      ]
    },
    {
      "cell_type": "code",
      "metadata": {
        "id": "RsDt1tctQGVL",
        "colab_type": "code",
        "colab": {
          "base_uri": "https://localhost:8080/",
          "height": 34
        },
        "outputId": "64c42307-8da2-411c-acd1-9db66adca0b5"
      },
      "source": [
        "\n",
        "r.incr('count')"
      ],
      "execution_count": 21,
      "outputs": [
        {
          "output_type": "execute_result",
          "data": {
            "text/plain": [
              "3"
            ]
          },
          "metadata": {
            "tags": []
          },
          "execution_count": 21
        }
      ]
    },
    {
      "cell_type": "code",
      "metadata": {
        "id": "bPxyi0QCQIVh",
        "colab_type": "code",
        "colab": {
          "base_uri": "https://localhost:8080/",
          "height": 34
        },
        "outputId": "a919f4f2-1d40-4aa9-9b55-a92c5a392b46"
      },
      "source": [
        "\n",
        "r.decr('count')"
      ],
      "execution_count": 22,
      "outputs": [
        {
          "output_type": "execute_result",
          "data": {
            "text/plain": [
              "2"
            ]
          },
          "metadata": {
            "tags": []
          },
          "execution_count": 22
        }
      ]
    },
    {
      "cell_type": "code",
      "metadata": {
        "id": "2xXOxIPuQJxm",
        "colab_type": "code",
        "colab": {
          "base_uri": "https://localhost:8080/",
          "height": 34
        },
        "outputId": "1b638c06-2e76-49f9-c4f4-0a7160b1d0fd"
      },
      "source": [
        "r.get('count')"
      ],
      "execution_count": 23,
      "outputs": [
        {
          "output_type": "execute_result",
          "data": {
            "text/plain": [
              "b'2'"
            ]
          },
          "metadata": {
            "tags": []
          },
          "execution_count": 23
        }
      ]
    },
    {
      "cell_type": "code",
      "metadata": {
        "id": "B4_qknBqQLUF",
        "colab_type": "code",
        "colab": {
          "base_uri": "https://localhost:8080/",
          "height": 34
        },
        "outputId": "99215cdf-6d8a-437e-e25d-214b57d293e2"
      },
      "source": [
        "r.set('count',123456789012345678901234567890)"
      ],
      "execution_count": 24,
      "outputs": [
        {
          "output_type": "execute_result",
          "data": {
            "text/plain": [
              "True"
            ]
          },
          "metadata": {
            "tags": []
          },
          "execution_count": 24
        }
      ]
    },
    {
      "cell_type": "markdown",
      "metadata": {
        "id": "U3taKGtSQRuJ",
        "colab_type": "text"
      },
      "source": [
        "#### rpush, llen, and lindex\n",
        "The rpush inserts all the specified values at the tail of the list stored at key.\n",
        "\n",
        "The llen returns the length of the list stored at key.\n",
        "\n",
        "The lindex returns the element at index index in the list stored at key. The index is zero-based, so 0 means the first element, 1 the second element and so on. \n",
        "The LPOP command removes an element from the head of a Redis list and returns the value of it.\n"
      ]
    },
    {
      "cell_type": "code",
      "metadata": {
        "id": "66_hWdM-QN-F",
        "colab_type": "code",
        "colab": {
          "base_uri": "https://localhost:8080/",
          "height": 34
        },
        "outputId": "99207d80-d511-4e18-8f38-9f675e16ca82"
      },
      "source": [
        "r.rpush('list', 'uno')"
      ],
      "execution_count": 25,
      "outputs": [
        {
          "output_type": "execute_result",
          "data": {
            "text/plain": [
              "1"
            ]
          },
          "metadata": {
            "tags": []
          },
          "execution_count": 25
        }
      ]
    },
    {
      "cell_type": "code",
      "metadata": {
        "id": "KGazpT4bQexo",
        "colab_type": "code",
        "colab": {
          "base_uri": "https://localhost:8080/",
          "height": 34
        },
        "outputId": "baca2108-8983-4b2f-eb13-4c7569663c84"
      },
      "source": [
        "r.rpush('list', 'dos')"
      ],
      "execution_count": 26,
      "outputs": [
        {
          "output_type": "execute_result",
          "data": {
            "text/plain": [
              "2"
            ]
          },
          "metadata": {
            "tags": []
          },
          "execution_count": 26
        }
      ]
    },
    {
      "cell_type": "code",
      "metadata": {
        "id": "KEOSYafYQgza",
        "colab_type": "code",
        "colab": {
          "base_uri": "https://localhost:8080/",
          "height": 34
        },
        "outputId": "34e8d2fe-8c1d-44ce-e9d1-69ae200c0fa7"
      },
      "source": [
        "r.rpush('list', 'tres')"
      ],
      "execution_count": 27,
      "outputs": [
        {
          "output_type": "execute_result",
          "data": {
            "text/plain": [
              "3"
            ]
          },
          "metadata": {
            "tags": []
          },
          "execution_count": 27
        }
      ]
    },
    {
      "cell_type": "code",
      "metadata": {
        "id": "0iLjTMngQlTg",
        "colab_type": "code",
        "colab": {
          "base_uri": "https://localhost:8080/",
          "height": 34
        },
        "outputId": "46df3fc3-1afd-4972-d022-8dcf22020ccb"
      },
      "source": [
        "r.rpush('list', 'cuatro')"
      ],
      "execution_count": 28,
      "outputs": [
        {
          "output_type": "execute_result",
          "data": {
            "text/plain": [
              "4"
            ]
          },
          "metadata": {
            "tags": []
          },
          "execution_count": 28
        }
      ]
    },
    {
      "cell_type": "code",
      "metadata": {
        "id": "uy3-9pKyQn_z",
        "colab_type": "code",
        "colab": {
          "base_uri": "https://localhost:8080/",
          "height": 34
        },
        "outputId": "75b222a9-167a-466e-ea67-f9d24e44bd76"
      },
      "source": [
        "r.llen('list')"
      ],
      "execution_count": 29,
      "outputs": [
        {
          "output_type": "execute_result",
          "data": {
            "text/plain": [
              "4"
            ]
          },
          "metadata": {
            "tags": []
          },
          "execution_count": 29
        }
      ]
    },
    {
      "cell_type": "code",
      "metadata": {
        "id": "s7PwlrwIQqJd",
        "colab_type": "code",
        "colab": {
          "base_uri": "https://localhost:8080/",
          "height": 34
        },
        "outputId": "63f3176e-c27f-4119-ee74-5c6c0e0e82a2"
      },
      "source": [
        "r.lindex('list', 3)"
      ],
      "execution_count": 30,
      "outputs": [
        {
          "output_type": "execute_result",
          "data": {
            "text/plain": [
              "b'cuatro'"
            ]
          },
          "metadata": {
            "tags": []
          },
          "execution_count": 30
        }
      ]
    },
    {
      "cell_type": "code",
      "metadata": {
        "id": "e_HAkhoyrpXX",
        "colab_type": "code",
        "colab": {
          "base_uri": "https://localhost:8080/",
          "height": 34
        },
        "outputId": "e76dfea4-dbd7-4c16-bd30-f135b5e3c994"
      },
      "source": [
        "r.rpush('fruits', 'apple')\n",
        "r.rpush('fruits', 'orange')\n",
        "r.rpush('fruits', 'grapes')\n",
        "r.rpush('fruits', 'berry')\n",
        "r.rpush('fruits', 'cherry')\n",
        "r.lpush('fruits', 'leftApple')"
      ],
      "execution_count": 41,
      "outputs": [
        {
          "output_type": "execute_result",
          "data": {
            "text/plain": [
              "6"
            ]
          },
          "metadata": {
            "tags": []
          },
          "execution_count": 41
        }
      ]
    },
    {
      "cell_type": "code",
      "metadata": {
        "id": "E6DTQyrTr2UJ",
        "colab_type": "code",
        "colab": {
          "base_uri": "https://localhost:8080/",
          "height": 34
        },
        "outputId": "670490a5-e561-4365-a0c9-d05c7f0595f4"
      },
      "source": [
        "r.llen('fruits')"
      ],
      "execution_count": 33,
      "outputs": [
        {
          "output_type": "execute_result",
          "data": {
            "text/plain": [
              "5"
            ]
          },
          "metadata": {
            "tags": []
          },
          "execution_count": 33
        }
      ]
    },
    {
      "cell_type": "code",
      "metadata": {
        "id": "W7lhyeA0r4pq",
        "colab_type": "code",
        "colab": {
          "base_uri": "https://localhost:8080/",
          "height": 34
        },
        "outputId": "b01b1214-4382-4121-9f7a-9eb92514d1ff"
      },
      "source": [
        "r.lindex('fruits', 3)"
      ],
      "execution_count": 34,
      "outputs": [
        {
          "output_type": "execute_result",
          "data": {
            "text/plain": [
              "b'berry'"
            ]
          },
          "metadata": {
            "tags": []
          },
          "execution_count": 34
        }
      ]
    },
    {
      "cell_type": "markdown",
      "metadata": {
        "id": "cvgdws8JzRv8",
        "colab_type": "text"
      },
      "source": [
        "#### To display all elements in a list"
      ]
    },
    {
      "cell_type": "code",
      "metadata": {
        "id": "Imx_h8TFyLlh",
        "colab_type": "code",
        "colab": {
          "base_uri": "https://localhost:8080/",
          "height": 87
        },
        "outputId": "0f136b7a-4007-4ff0-abad-092520c57322"
      },
      "source": [
        "while(r.llen('list')!=0):\n",
        "\n",
        "    print(r.lpop('list'))"
      ],
      "execution_count": 35,
      "outputs": [
        {
          "output_type": "stream",
          "text": [
            "b'uno'\n",
            "b'dos'\n",
            "b'tres'\n",
            "b'cuatro'\n"
          ],
          "name": "stdout"
        }
      ]
    },
    {
      "cell_type": "code",
      "metadata": {
        "id": "w3FJeyk73w01",
        "colab_type": "code",
        "colab": {
          "base_uri": "https://localhost:8080/",
          "height": 123
        },
        "outputId": "b2108cca-1c48-46a0-a017-5144811c2141"
      },
      "source": [
        "while(r.llen('fruits')!=0):\n",
        "\n",
        "    print(r.rpop('fruits'))"
      ],
      "execution_count": 42,
      "outputs": [
        {
          "output_type": "stream",
          "text": [
            "b'cherry'\n",
            "b'berry'\n",
            "b'grapes'\n",
            "b'orange'\n",
            "b'apple'\n",
            "b'leftApple'\n"
          ],
          "name": "stdout"
        }
      ]
    },
    {
      "cell_type": "markdown",
      "metadata": {
        "id": "k-q4PqymNRrY",
        "colab_type": "text"
      },
      "source": [
        "#### Inserting list of values together"
      ]
    },
    {
      "cell_type": "code",
      "metadata": {
        "id": "H8K9whPt33rO",
        "colab_type": "code",
        "colab": {
          "base_uri": "https://localhost:8080/",
          "height": 34
        },
        "outputId": "c278719e-ed1a-4197-c914-ffb2b9836bd8"
      },
      "source": [
        "r.rpush('rlist', 1, 2, 3, 4, 5, 6, 7, 8, 9)"
      ],
      "execution_count": 43,
      "outputs": [
        {
          "output_type": "execute_result",
          "data": {
            "text/plain": [
              "9"
            ]
          },
          "metadata": {
            "tags": []
          },
          "execution_count": 43
        }
      ]
    },
    {
      "cell_type": "code",
      "metadata": {
        "id": "NjZVVrX8NWU5",
        "colab_type": "code",
        "colab": {
          "base_uri": "https://localhost:8080/",
          "height": 34
        },
        "outputId": "f1b90b21-e450-4b69-88d4-f1f0e118ef95"
      },
      "source": [
        "r.lrange('rlist', 0, 4)"
      ],
      "execution_count": 44,
      "outputs": [
        {
          "output_type": "execute_result",
          "data": {
            "text/plain": [
              "[b'1', b'2', b'3', b'4', b'5']"
            ]
          },
          "metadata": {
            "tags": []
          },
          "execution_count": 44
        }
      ]
    },
    {
      "cell_type": "code",
      "metadata": {
        "id": "LrzDK8mGNbAj",
        "colab_type": "code",
        "colab": {}
      },
      "source": [
        ""
      ],
      "execution_count": null,
      "outputs": []
    }
  ]
}