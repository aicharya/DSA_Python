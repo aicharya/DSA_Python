{
  "nbformat": 4,
  "nbformat_minor": 0,
  "metadata": {
    "colab": {
      "name": "DSA Redis Tutorial.ipynb",
      "provenance": [],
      "collapsed_sections": [],
      "include_colab_link": true
    },
    "kernelspec": {
      "name": "python3",
      "display_name": "Python 3"
    }
  },
  "cells": [
    {
      "cell_type": "markdown",
      "metadata": {
        "id": "view-in-github",
        "colab_type": "text"
      },
      "source": [
        "<a href=\"https://colab.research.google.com/github/aicharya/DSA_Python/blob/master/DSA_Redis_Tutorial.ipynb\" target=\"_parent\"><img src=\"https://colab.research.google.com/assets/colab-badge.svg\" alt=\"Open In Colab\"/></a>"
      ]
    },
    {
      "cell_type": "markdown",
      "metadata": {
        "id": "EpneRM8cOK7d",
        "colab_type": "text"
      },
      "source": [
        "# [Data Science Academy](https://datascience.one)\n",
        "[https://datascience.one](https://datascience.one)\n",
        "\n",
        "\n",
        "Link to this Jupyter NoteBook: https://bit.ly/DSARedisAug2020\n"
      ]
    },
    {
      "cell_type": "code",
      "metadata": {
        "id": "ofVvB9e_AKe_",
        "colab_type": "code",
        "colab": {
          "base_uri": "https://localhost:8080/",
          "height": 124
        },
        "outputId": "1e7de5ab-0da7-482d-d107-306621b4db2c"
      },
      "source": [
        "!pip3 install redis"
      ],
      "execution_count": null,
      "outputs": [
        {
          "output_type": "stream",
          "text": [
            "Collecting redis\n",
            "\u001b[?25l  Downloading https://files.pythonhosted.org/packages/a7/7c/24fb0511df653cf1a5d938d8f5d19802a88cef255706fdda242ff97e91b7/redis-3.5.3-py2.py3-none-any.whl (72kB)\n",
            "\r\u001b[K     |████▌                           | 10kB 17.5MB/s eta 0:00:01\r\u001b[K     |█████████                       | 20kB 6.3MB/s eta 0:00:01\r\u001b[K     |█████████████▋                  | 30kB 6.9MB/s eta 0:00:01\r\u001b[K     |██████████████████▏             | 40kB 8.2MB/s eta 0:00:01\r\u001b[K     |██████████████████████▊         | 51kB 6.7MB/s eta 0:00:01\r\u001b[K     |███████████████████████████▎    | 61kB 7.1MB/s eta 0:00:01\r\u001b[K     |███████████████████████████████▉| 71kB 7.9MB/s eta 0:00:01\r\u001b[K     |████████████████████████████████| 81kB 4.8MB/s \n",
            "\u001b[?25hInstalling collected packages: redis\n",
            "Successfully installed redis-3.5.3\n"
          ],
          "name": "stdout"
        }
      ]
    },
    {
      "cell_type": "code",
      "metadata": {
        "id": "3kk5bgnLAR2M",
        "colab_type": "code",
        "colab": {}
      },
      "source": [
        "import redis\n",
        "\n",
        "r = redis.Redis(\n",
        "    host='redis-18938.c10.us-east-1-3.ec2.cloud.redislabs.com',\n",
        "    port=18938, \n",
        "    password='J8caL8E2XubiVdea1hXzLd58jwo0rFqy')"
      ],
      "execution_count": null,
      "outputs": []
    },
    {
      "cell_type": "markdown",
      "metadata": {
        "id": "ADGDoMNYPoYD",
        "colab_type": "text"
      },
      "source": [
        "#### Reading and Writing Data"
      ]
    },
    {
      "cell_type": "code",
      "metadata": {
        "id": "g6GCoXkCFFwz",
        "colab_type": "code",
        "colab": {
          "base_uri": "https://localhost:8080/",
          "height": 34
        },
        "outputId": "7d3799d5-c59c-43d0-8bad-9b6fd34e0d5c"
      },
      "source": [
        "r.set('Name', 'DSA')\n",
        "value = r.get('Name')\n",
        "print(value)"
      ],
      "execution_count": null,
      "outputs": [
        {
          "output_type": "stream",
          "text": [
            "b'DSA'\n"
          ],
          "name": "stdout"
        }
      ]
    },
    {
      "cell_type": "markdown",
      "metadata": {
        "id": "L5jRYAeRBZaY",
        "colab_type": "text"
      },
      "source": [
        "#### Deleting element"
      ]
    },
    {
      "cell_type": "code",
      "metadata": {
        "id": "S5BVFbrSBLn1",
        "colab_type": "code",
        "colab": {
          "base_uri": "https://localhost:8080/",
          "height": 34
        },
        "outputId": "5a4a8970-4009-47fc-b3dd-0ad7dd4a1500"
      },
      "source": [
        "r.delete('Name')"
      ],
      "execution_count": null,
      "outputs": [
        {
          "output_type": "execute_result",
          "data": {
            "text/plain": [
              "1"
            ]
          },
          "metadata": {
            "tags": []
          },
          "execution_count": 5
        }
      ]
    },
    {
      "cell_type": "code",
      "metadata": {
        "id": "CvsZo_VZSOKA",
        "colab_type": "code",
        "colab": {
          "base_uri": "https://localhost:8080/",
          "height": 35
        },
        "outputId": "4dac6ce2-aa21-46ca-fcc2-33029c8c7ca5"
      },
      "source": [
        "capitals = {}\n",
        "capitals[\"Name\"] = \"DSA\"\n",
        "capitals[\"Place\"] = \"Trivandrum\"\n",
        "capitals.get(\"Place\")"
      ],
      "execution_count": null,
      "outputs": [
        {
          "output_type": "execute_result",
          "data": {
            "application/vnd.google.colaboratory.intrinsic+json": {
              "type": "string"
            },
            "text/plain": [
              "'Trivandrum'"
            ]
          },
          "metadata": {
            "tags": []
          },
          "execution_count": 6
        }
      ]
    },
    {
      "cell_type": "markdown",
      "metadata": {
        "id": "LMNEY6GRP0BB",
        "colab_type": "text"
      },
      "source": [
        "#### incr/decr\n",
        "\n",
        "- The incr/decr increments/decrements the number stored at key by one.\n",
        "\n",
        "- If the key does not exist, it is set to 0 before performing the operation."
      ]
    },
    {
      "cell_type": "code",
      "metadata": {
        "id": "VVF4cTwcFRB1",
        "colab_type": "code",
        "colab": {
          "base_uri": "https://localhost:8080/",
          "height": 34
        },
        "outputId": "4dfe9450-588b-4826-8b7e-2a42a1875db5"
      },
      "source": [
        "r.set('count',1)"
      ],
      "execution_count": null,
      "outputs": [
        {
          "output_type": "execute_result",
          "data": {
            "text/plain": [
              "True"
            ]
          },
          "metadata": {
            "tags": []
          },
          "execution_count": 34
        }
      ]
    },
    {
      "cell_type": "code",
      "metadata": {
        "id": "9dyNjYMcP_uE",
        "colab_type": "code",
        "colab": {
          "base_uri": "https://localhost:8080/",
          "height": 34
        },
        "outputId": "a1449598-bb22-4471-9e7c-b1870e6605f9"
      },
      "source": [
        "r.incr('count')"
      ],
      "execution_count": null,
      "outputs": [
        {
          "output_type": "execute_result",
          "data": {
            "text/plain": [
              "2"
            ]
          },
          "metadata": {
            "tags": []
          },
          "execution_count": 35
        }
      ]
    },
    {
      "cell_type": "code",
      "metadata": {
        "id": "RsDt1tctQGVL",
        "colab_type": "code",
        "colab": {
          "base_uri": "https://localhost:8080/",
          "height": 34
        },
        "outputId": "197a6220-e755-437c-ca3a-75afee1d71e9"
      },
      "source": [
        "\n",
        "r.incr('count')"
      ],
      "execution_count": null,
      "outputs": [
        {
          "output_type": "execute_result",
          "data": {
            "text/plain": [
              "3"
            ]
          },
          "metadata": {
            "tags": []
          },
          "execution_count": 36
        }
      ]
    },
    {
      "cell_type": "code",
      "metadata": {
        "id": "bPxyi0QCQIVh",
        "colab_type": "code",
        "colab": {
          "base_uri": "https://localhost:8080/",
          "height": 34
        },
        "outputId": "5a7407b4-c1e5-4d01-9537-96401ecaccd5"
      },
      "source": [
        "\n",
        "r.decr('count')"
      ],
      "execution_count": null,
      "outputs": [
        {
          "output_type": "execute_result",
          "data": {
            "text/plain": [
              "2"
            ]
          },
          "metadata": {
            "tags": []
          },
          "execution_count": 37
        }
      ]
    },
    {
      "cell_type": "code",
      "metadata": {
        "id": "2xXOxIPuQJxm",
        "colab_type": "code",
        "colab": {
          "base_uri": "https://localhost:8080/",
          "height": 34
        },
        "outputId": "635cef7a-2f0c-4f61-d118-77b8b6dcc5cc"
      },
      "source": [
        "r.get('count')"
      ],
      "execution_count": null,
      "outputs": [
        {
          "output_type": "execute_result",
          "data": {
            "text/plain": [
              "b'2'"
            ]
          },
          "metadata": {
            "tags": []
          },
          "execution_count": 38
        }
      ]
    },
    {
      "cell_type": "code",
      "metadata": {
        "id": "B4_qknBqQLUF",
        "colab_type": "code",
        "colab": {
          "base_uri": "https://localhost:8080/",
          "height": 34
        },
        "outputId": "1f00a19a-c3ed-489d-dac1-21a41e994845"
      },
      "source": [
        "r.set('count',123456789012345678901234567890)"
      ],
      "execution_count": null,
      "outputs": [
        {
          "output_type": "execute_result",
          "data": {
            "text/plain": [
              "True"
            ]
          },
          "metadata": {
            "tags": []
          },
          "execution_count": 39
        }
      ]
    },
    {
      "cell_type": "markdown",
      "metadata": {
        "id": "U3taKGtSQRuJ",
        "colab_type": "text"
      },
      "source": [
        "#### rpush, llen, and lindex\n",
        "The rpush inserts all the specified values at the tail of the list stored at key.\n",
        "\n",
        "The llen returns the length of the list stored at key.\n",
        "\n",
        "The lindex returns the element at index index in the list stored at key. The index is zero-based, so 0 means the first element, 1 the second element and so on. \n",
        "The LPOP command removes an element from the head of a Redis list and returns the value of it.\n"
      ]
    },
    {
      "cell_type": "code",
      "metadata": {
        "id": "66_hWdM-QN-F",
        "colab_type": "code",
        "colab": {
          "base_uri": "https://localhost:8080/",
          "height": 34
        },
        "outputId": "cf96fc36-726f-4f02-b2cf-c25082f1c856"
      },
      "source": [
        "r.rpush('list', 'uno')"
      ],
      "execution_count": null,
      "outputs": [
        {
          "output_type": "execute_result",
          "data": {
            "text/plain": [
              "1"
            ]
          },
          "metadata": {
            "tags": []
          },
          "execution_count": 71
        }
      ]
    },
    {
      "cell_type": "code",
      "metadata": {
        "id": "KGazpT4bQexo",
        "colab_type": "code",
        "colab": {
          "base_uri": "https://localhost:8080/",
          "height": 34
        },
        "outputId": "3c429d0a-2d76-474b-fcf3-04900bbe4ec8"
      },
      "source": [
        "r.rpush('list', 'dos')"
      ],
      "execution_count": null,
      "outputs": [
        {
          "output_type": "execute_result",
          "data": {
            "text/plain": [
              "2"
            ]
          },
          "metadata": {
            "tags": []
          },
          "execution_count": 72
        }
      ]
    },
    {
      "cell_type": "code",
      "metadata": {
        "id": "KEOSYafYQgza",
        "colab_type": "code",
        "colab": {
          "base_uri": "https://localhost:8080/",
          "height": 34
        },
        "outputId": "d4182c80-33b6-4520-8238-66b3d4a3baeb"
      },
      "source": [
        "r.rpush('list', 'tres')"
      ],
      "execution_count": null,
      "outputs": [
        {
          "output_type": "execute_result",
          "data": {
            "text/plain": [
              "3"
            ]
          },
          "metadata": {
            "tags": []
          },
          "execution_count": 73
        }
      ]
    },
    {
      "cell_type": "code",
      "metadata": {
        "id": "0iLjTMngQlTg",
        "colab_type": "code",
        "colab": {
          "base_uri": "https://localhost:8080/",
          "height": 34
        },
        "outputId": "acb610ec-6ebb-4eb8-82b5-be217c3ce064"
      },
      "source": [
        "r.rpush('list', 'cuatro')"
      ],
      "execution_count": null,
      "outputs": [
        {
          "output_type": "execute_result",
          "data": {
            "text/plain": [
              "4"
            ]
          },
          "metadata": {
            "tags": []
          },
          "execution_count": 74
        }
      ]
    },
    {
      "cell_type": "code",
      "metadata": {
        "id": "uy3-9pKyQn_z",
        "colab_type": "code",
        "colab": {
          "base_uri": "https://localhost:8080/",
          "height": 34
        },
        "outputId": "a68115bf-dd98-41ad-ed49-6906d9b37857"
      },
      "source": [
        "r.llen('list')"
      ],
      "execution_count": null,
      "outputs": [
        {
          "output_type": "execute_result",
          "data": {
            "text/plain": [
              "4"
            ]
          },
          "metadata": {
            "tags": []
          },
          "execution_count": 75
        }
      ]
    },
    {
      "cell_type": "code",
      "metadata": {
        "id": "s7PwlrwIQqJd",
        "colab_type": "code",
        "colab": {
          "base_uri": "https://localhost:8080/",
          "height": 34
        },
        "outputId": "f0e0ba19-7797-46e5-e64c-f22030bb87ad"
      },
      "source": [
        "r.lindex('list', 3)"
      ],
      "execution_count": null,
      "outputs": [
        {
          "output_type": "execute_result",
          "data": {
            "text/plain": [
              "b'cuatro'"
            ]
          },
          "metadata": {
            "tags": []
          },
          "execution_count": 76
        }
      ]
    },
    {
      "cell_type": "markdown",
      "metadata": {
        "id": "cvgdws8JzRv8",
        "colab_type": "text"
      },
      "source": [
        "#### To display all elements in a list"
      ]
    },
    {
      "cell_type": "code",
      "metadata": {
        "id": "Imx_h8TFyLlh",
        "colab_type": "code",
        "colab": {
          "base_uri": "https://localhost:8080/",
          "height": 86
        },
        "outputId": "901ff9cc-c8a8-411f-f171-bcaaeb45a049"
      },
      "source": [
        "while(r.llen('list')!=0):\n",
        "\n",
        "    print(r.lpop('list'))"
      ],
      "execution_count": null,
      "outputs": [
        {
          "output_type": "stream",
          "text": [
            "b'uno'\n",
            "b'dos'\n",
            "b'tres'\n",
            "b'cuatro'\n"
          ],
          "name": "stdout"
        }
      ]
    },
    {
      "cell_type": "code",
      "metadata": {
        "id": "w3FJeyk73w01",
        "colab_type": "code",
        "colab": {
          "base_uri": "https://localhost:8080/",
          "height": 86
        },
        "outputId": "897990d6-0392-453e-edf6-2cd4b3e55409"
      },
      "source": [
        "while(r.llen('list')!=0):\n",
        "\n",
        "    print(r.rpop('list'))"
      ],
      "execution_count": null,
      "outputs": [
        {
          "output_type": "stream",
          "text": [
            "b'cuatro'\n",
            "b'tres'\n",
            "b'dos'\n",
            "b'uno'\n"
          ],
          "name": "stdout"
        }
      ]
    },
    {
      "cell_type": "markdown",
      "metadata": {
        "id": "k-q4PqymNRrY",
        "colab_type": "text"
      },
      "source": [
        "#### Inserting list of values together"
      ]
    },
    {
      "cell_type": "code",
      "metadata": {
        "id": "H8K9whPt33rO",
        "colab_type": "code",
        "colab": {
          "base_uri": "https://localhost:8080/",
          "height": 34
        },
        "outputId": "980fc6da-ce40-409a-b52b-516d32f30f22"
      },
      "source": [
        "r.rpush('rlist', 1, 2, 3, 4, 5, 6, 7, 8, 9)"
      ],
      "execution_count": null,
      "outputs": [
        {
          "output_type": "execute_result",
          "data": {
            "text/plain": [
              "9"
            ]
          },
          "metadata": {
            "tags": []
          },
          "execution_count": 82
        }
      ]
    },
    {
      "cell_type": "code",
      "metadata": {
        "id": "NjZVVrX8NWU5",
        "colab_type": "code",
        "colab": {
          "base_uri": "https://localhost:8080/",
          "height": 34
        },
        "outputId": "89030b67-317f-4031-87f3-9ec19b1e4893"
      },
      "source": [
        "r.lrange('rlist', 0, 4)"
      ],
      "execution_count": null,
      "outputs": [
        {
          "output_type": "execute_result",
          "data": {
            "text/plain": [
              "[b'1', b'2', b'3', b'4', b'5']"
            ]
          },
          "metadata": {
            "tags": []
          },
          "execution_count": 83
        }
      ]
    },
    {
      "cell_type": "code",
      "metadata": {
        "id": "LrzDK8mGNbAj",
        "colab_type": "code",
        "colab": {}
      },
      "source": [
        ""
      ],
      "execution_count": null,
      "outputs": []
    }
  ]
}