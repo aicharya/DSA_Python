{
  "nbformat": 4,
  "nbformat_minor": 0,
  "metadata": {
    "colab": {
      "name": "DSA_Python_10MAY2020.ipynb",
      "provenance": [],
      "authorship_tag": "ABX9TyN6yOmmO8Lma76+IP4ZkPe6",
      "include_colab_link": true
    },
    "kernelspec": {
      "name": "python3",
      "display_name": "Python 3"
    }
  },
  "cells": [
    {
      "cell_type": "markdown",
      "metadata": {
        "id": "view-in-github",
        "colab_type": "text"
      },
      "source": [
        "<a href=\"https://colab.research.google.com/github/aicharya/DSA_Python/blob/master/DSA_Python_10MAY2020.ipynb\" target=\"_parent\"><img src=\"https://colab.research.google.com/assets/colab-badge.svg\" alt=\"Open In Colab\"/></a>"
      ]
    },
    {
      "cell_type": "code",
      "metadata": {
        "id": "MPv1NFgJ0VYE",
        "colab_type": "code",
        "colab": {}
      },
      "source": [
        "_=\"this is a string\""
      ],
      "execution_count": 0,
      "outputs": []
    }
  ]
}