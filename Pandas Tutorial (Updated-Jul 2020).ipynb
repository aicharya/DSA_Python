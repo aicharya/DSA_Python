{
 "cells": [
  {
   "cell_type": "markdown",
   "metadata": {},
   "source": [
    "# Pandas Tutorial Concise Version"
   ]
  },
  {
   "cell_type": "code",
   "execution_count": 1,
   "metadata": {
    "scrolled": false
   },
   "outputs": [],
   "source": [
    "#!pip   install pandas matplotlib sklearn scipy --user"
   ]
  },
  {
   "cell_type": "code",
   "execution_count": 71,
   "metadata": {},
   "outputs": [],
   "source": [
    "import numpy\n",
    "#numpy.__version__"
   ]
  },
  {
   "cell_type": "code",
   "execution_count": 72,
   "metadata": {},
   "outputs": [],
   "source": [
    "#import pandas"
   ]
  },
  {
   "cell_type": "code",
   "execution_count": 73,
   "metadata": {
    "scrolled": true
   },
   "outputs": [],
   "source": [
    "import pandas as pd\n",
    "import numpy as np\n",
    "import matplotlib.pyplot as plt"
   ]
  },
  {
   "cell_type": "markdown",
   "metadata": {},
   "source": [
    "## Object Creation -  Series"
   ]
  },
  {
   "cell_type": "markdown",
   "metadata": {},
   "source": [
    "Creating a Series by passing a list of values, letting pandas create a default integer index:"
   ]
  },
  {
   "cell_type": "markdown",
   "metadata": {},
   "source": [
    "\n",
    "class pandas.Series(data=None, index=None, dtype=None, name=None, copy=False, fastpath=False)\n",
    "\n",
    "One-dimensional ndarray with axis labels (including time series).\n",
    "\n",
    "Labels need not be unique but must be a hashable type. The object supports both integer- and label-based indexing and provides a host of methods for performing operations involving the index. Statistical methods from ndarray have been overridden to automatically exclude missing data (currently represented as NaN).\n",
    "\n",
    "Operations between Series (+, -, /, , *) align values based on their associated index values– they need not be the same length. The result index will be the sorted union of the two indexes.\n",
    "    \n",
    "Parameters:\t\n",
    "\n",
    "data : array-like, dict, or scalar value: Contains data stored in Series\n",
    "\n",
    "index : array-like or Index (1d): Values must be hashable and have the same length as data. Non-unique index values are allowed. Will default to RangeIndex(len(data)) if not provided. If both a dict and index sequence are used, the index will override the keys found in the dict.\n",
    "\n",
    "dtype : numpy.dtype or None: If None, dtype will be inferred\n",
    "\n",
    "copy : boolean, default False: Copy input data\n",
    "\n",
    "\n",
    "For more refer: https://pandas.pydata.org/pandas-docs/stable/generated/pandas.Series.html#pandas.Series\n"
   ]
  },
  {
   "cell_type": "code",
   "execution_count": 74,
   "metadata": {},
   "outputs": [],
   "source": [
    "?pd.Series"
   ]
  },
  {
   "cell_type": "code",
   "execution_count": 75,
   "metadata": {},
   "outputs": [
    {
     "data": {
      "text/plain": [
       "0    1.0\n",
       "1    3.0\n",
       "2    5.0\n",
       "3    6.0\n",
       "4    8.0\n",
       "Name: myseries, dtype: float32"
      ]
     },
     "execution_count": 75,
     "metadata": {},
     "output_type": "execute_result"
    }
   ],
   "source": [
    "s = pd.Series(data=[1,3,5, 6,8], name=\"myseries\", dtype=np.float32)\n",
    "s"
   ]
  },
  {
   "cell_type": "code",
   "execution_count": 76,
   "metadata": {},
   "outputs": [
    {
     "data": {
      "text/plain": [
       "pandas.core.series.Series"
      ]
     },
     "execution_count": 76,
     "metadata": {},
     "output_type": "execute_result"
    }
   ],
   "source": [
    "type(s)"
   ]
  },
  {
   "cell_type": "code",
   "execution_count": 77,
   "metadata": {},
   "outputs": [
    {
     "data": {
      "text/plain": [
       "0    0\n",
       "1    1\n",
       "2    2\n",
       "3    3\n",
       "4    4\n",
       "5    5\n",
       "6    6\n",
       "7    7\n",
       "8    8\n",
       "9    9\n",
       "dtype: int64"
      ]
     },
     "execution_count": 77,
     "metadata": {},
     "output_type": "execute_result"
    }
   ],
   "source": [
    " pd.Series(data=np.arange(10))"
   ]
  },
  {
   "cell_type": "code",
   "execution_count": 78,
   "metadata": {},
   "outputs": [],
   "source": [
    "s = pd.Series([1,3,5,np.nan, 6,8])"
   ]
  },
  {
   "cell_type": "code",
   "execution_count": 79,
   "metadata": {},
   "outputs": [
    {
     "data": {
      "text/plain": [
       "0    1.0\n",
       "1    3.0\n",
       "2    5.0\n",
       "3    NaN\n",
       "4    6.0\n",
       "5    8.0\n",
       "dtype: float64"
      ]
     },
     "execution_count": 79,
     "metadata": {},
     "output_type": "execute_result"
    }
   ],
   "source": [
    "s"
   ]
  },
  {
   "cell_type": "code",
   "execution_count": 80,
   "metadata": {},
   "outputs": [
    {
     "name": "stdout",
     "output_type": "stream",
     "text": [
      "India         1.0\n",
      "Pakistan      3.0\n",
      "Bangladesh    5.0\n",
      "Srilanka      NaN\n",
      "China         6.0\n",
      "Nepal         8.0\n",
      "Name: myseries, dtype: float64\n"
     ]
    }
   ],
   "source": [
    "ind1=[\"India\",\"Pakistan\",\"Bangladesh\",\"Srilanka\",\"China\",\"Nepal\"]\n",
    "\n",
    "s2 = pd.Series(data=[1,3,5,np.nan,6,8], index=ind1, name=\"myseries\")\n",
    "print(s2)"
   ]
  },
  {
   "cell_type": "code",
   "execution_count": 81,
   "metadata": {},
   "outputs": [
    {
     "data": {
      "text/plain": [
       "Index(['India', 'Pakistan', 'Bangladesh', 'Srilanka', 'China', 'Nepal'], dtype='object')"
      ]
     },
     "execution_count": 81,
     "metadata": {},
     "output_type": "execute_result"
    }
   ],
   "source": [
    "s2.index"
   ]
  },
  {
   "cell_type": "code",
   "execution_count": 82,
   "metadata": {},
   "outputs": [
    {
     "data": {
      "text/plain": [
       "array([ 1.,  3.,  5., nan,  6.,  8.])"
      ]
     },
     "execution_count": 82,
     "metadata": {},
     "output_type": "execute_result"
    }
   ],
   "source": [
    "s2.values"
   ]
  },
  {
   "cell_type": "code",
   "execution_count": 83,
   "metadata": {},
   "outputs": [
    {
     "data": {
      "text/plain": [
       "'myseries'"
      ]
     },
     "execution_count": 83,
     "metadata": {},
     "output_type": "execute_result"
    }
   ],
   "source": [
    "s2.name"
   ]
  },
  {
   "cell_type": "code",
   "execution_count": 84,
   "metadata": {},
   "outputs": [
    {
     "data": {
      "text/plain": [
       "pandas.core.indexes.base.Index"
      ]
     },
     "execution_count": 84,
     "metadata": {},
     "output_type": "execute_result"
    }
   ],
   "source": [
    "type(s2.index)"
   ]
  },
  {
   "cell_type": "markdown",
   "metadata": {},
   "source": [
    "## Object Creation - DataFrame"
   ]
  },
  {
   "cell_type": "markdown",
   "metadata": {},
   "source": [
    "pandas.DataFrame\n",
    "\n",
    "class pandas.DataFrame(data=None, index=None, columns=None, dtype=None, copy=False)\n",
    "\n",
    "Two-dimensional size-mutable, potentially heterogeneous tabular data structure with labeled axes (rows and columns). Arithmetic operations align on both row and column labels. Can be thought of as a dict-like container for Series objects. The primary pandas data structure\n",
    "    \n",
    "  \n",
    "Parameters:\t\n",
    "\n",
    "data : numpy ndarray (structured or homogeneous), dict, or DataFrame: Dict can contain Series, arrays, constants, or list-like objects\n",
    "\n",
    "index : Index or array-like: Index to use for resulting frame. Will default to np.arange(n) if no indexing information part of input data and no index provided\n",
    "\n",
    "columns : Index or array-like: Column labels to use for resulting frame. Will default to np.arange(n) if no column labels are provided\n",
    "\n",
    "dtype : dtype, default None: Data type to force. Only a single dtype is allowed. If None, infer\n",
    "\n",
    "copy : boolean, default False: Copy data from inputs. Only affects DataFrame / 2d ndarray input\n",
    "\n",
    "For more refer: https://pandas.pydata.org/pandas-docs/stable/generated/pandas.DataFrame.html#pandas.DataFrame\n"
   ]
  },
  {
   "cell_type": "markdown",
   "metadata": {},
   "source": [
    "Creating a DataFrame by passing a numpy array, with a datetime index and labeled columns:"
   ]
  },
  {
   "cell_type": "code",
   "execution_count": 85,
   "metadata": {
    "scrolled": true
   },
   "outputs": [
    {
     "data": {
      "text/plain": [
       "DatetimeIndex(['2013-01-01', '2013-01-02', '2013-01-03', '2013-01-04',\n",
       "               '2013-01-05', '2013-01-06'],\n",
       "              dtype='datetime64[ns]', freq='D')"
      ]
     },
     "execution_count": 85,
     "metadata": {},
     "output_type": "execute_result"
    }
   ],
   "source": [
    "dates = pd.date_range('20130101', periods=6)\n",
    "dates"
   ]
  },
  {
   "cell_type": "code",
   "execution_count": 86,
   "metadata": {
    "scrolled": false
   },
   "outputs": [
    {
     "data": {
      "text/plain": [
       "array([[-0.0256227 , -0.80776448, -1.09746405, -0.46965965],\n",
       "       [ 1.37254019, -1.97854995, -0.11782726,  1.1679694 ],\n",
       "       [ 0.41481685, -0.09688098, -0.89517848,  0.57674865],\n",
       "       [ 0.14233164,  0.51191882, -0.17589186, -0.52778907],\n",
       "       [ 0.82420126,  0.17789168, -0.79327727, -1.3889476 ],\n",
       "       [-1.6539378 ,  0.49247953,  0.05280423,  1.11277962]])"
      ]
     },
     "execution_count": 86,
     "metadata": {},
     "output_type": "execute_result"
    }
   ],
   "source": [
    "np.random.randn(6,4)"
   ]
  },
  {
   "cell_type": "code",
   "execution_count": 87,
   "metadata": {},
   "outputs": [
    {
     "data": {
      "text/plain": [
       "['A', 'B', 'C', 'D']"
      ]
     },
     "execution_count": 87,
     "metadata": {},
     "output_type": "execute_result"
    }
   ],
   "source": [
    "list('ABCD')"
   ]
  },
  {
   "cell_type": "code",
   "execution_count": 88,
   "metadata": {},
   "outputs": [],
   "source": [
    "?pd.DataFrame"
   ]
  },
  {
   "cell_type": "code",
   "execution_count": 89,
   "metadata": {
    "scrolled": true
   },
   "outputs": [
    {
     "data": {
      "text/html": [
       "<div>\n",
       "<style scoped>\n",
       "    .dataframe tbody tr th:only-of-type {\n",
       "        vertical-align: middle;\n",
       "    }\n",
       "\n",
       "    .dataframe tbody tr th {\n",
       "        vertical-align: top;\n",
       "    }\n",
       "\n",
       "    .dataframe thead th {\n",
       "        text-align: right;\n",
       "    }\n",
       "</style>\n",
       "<table border=\"1\" class=\"dataframe\">\n",
       "  <thead>\n",
       "    <tr style=\"text-align: right;\">\n",
       "      <th></th>\n",
       "      <th>A</th>\n",
       "      <th>B</th>\n",
       "      <th>C</th>\n",
       "      <th>D</th>\n",
       "    </tr>\n",
       "  </thead>\n",
       "  <tbody>\n",
       "    <tr>\n",
       "      <th>2013-01-01</th>\n",
       "      <td>-0.312851</td>\n",
       "      <td>0.540862</td>\n",
       "      <td>0.279680</td>\n",
       "      <td>1.233861</td>\n",
       "    </tr>\n",
       "    <tr>\n",
       "      <th>2013-01-02</th>\n",
       "      <td>1.286976</td>\n",
       "      <td>0.587120</td>\n",
       "      <td>1.805363</td>\n",
       "      <td>-0.615997</td>\n",
       "    </tr>\n",
       "    <tr>\n",
       "      <th>2013-01-03</th>\n",
       "      <td>2.139396</td>\n",
       "      <td>0.876003</td>\n",
       "      <td>0.308157</td>\n",
       "      <td>-0.328186</td>\n",
       "    </tr>\n",
       "    <tr>\n",
       "      <th>2013-01-04</th>\n",
       "      <td>0.494930</td>\n",
       "      <td>1.274901</td>\n",
       "      <td>-0.317435</td>\n",
       "      <td>-0.193408</td>\n",
       "    </tr>\n",
       "    <tr>\n",
       "      <th>2013-01-05</th>\n",
       "      <td>-0.271722</td>\n",
       "      <td>-0.007324</td>\n",
       "      <td>-0.404277</td>\n",
       "      <td>0.314469</td>\n",
       "    </tr>\n",
       "    <tr>\n",
       "      <th>2013-01-06</th>\n",
       "      <td>-0.320006</td>\n",
       "      <td>-0.516964</td>\n",
       "      <td>-0.302451</td>\n",
       "      <td>0.489650</td>\n",
       "    </tr>\n",
       "  </tbody>\n",
       "</table>\n",
       "</div>"
      ],
      "text/plain": [
       "                   A         B         C         D\n",
       "2013-01-01 -0.312851  0.540862  0.279680  1.233861\n",
       "2013-01-02  1.286976  0.587120  1.805363 -0.615997\n",
       "2013-01-03  2.139396  0.876003  0.308157 -0.328186\n",
       "2013-01-04  0.494930  1.274901 -0.317435 -0.193408\n",
       "2013-01-05 -0.271722 -0.007324 -0.404277  0.314469\n",
       "2013-01-06 -0.320006 -0.516964 -0.302451  0.489650"
      ]
     },
     "execution_count": 89,
     "metadata": {},
     "output_type": "execute_result"
    }
   ],
   "source": [
    "df = pd.DataFrame(data=np.random.randn(6,4), index=dates,columns=list('ABCD'))\n",
    "df"
   ]
  },
  {
   "cell_type": "code",
   "execution_count": 90,
   "metadata": {},
   "outputs": [],
   "source": [
    "dict1={'a':\"john\",'b':[0,1,1], \"c\":[\"foo\",\"bar\",\"bar\"]}"
   ]
  },
  {
   "cell_type": "code",
   "execution_count": 91,
   "metadata": {},
   "outputs": [],
   "source": [
    "df01=pd.DataFrame(dict1)"
   ]
  },
  {
   "cell_type": "code",
   "execution_count": 92,
   "metadata": {
    "scrolled": false
   },
   "outputs": [
    {
     "data": {
      "text/html": [
       "<div>\n",
       "<style scoped>\n",
       "    .dataframe tbody tr th:only-of-type {\n",
       "        vertical-align: middle;\n",
       "    }\n",
       "\n",
       "    .dataframe tbody tr th {\n",
       "        vertical-align: top;\n",
       "    }\n",
       "\n",
       "    .dataframe thead th {\n",
       "        text-align: right;\n",
       "    }\n",
       "</style>\n",
       "<table border=\"1\" class=\"dataframe\">\n",
       "  <thead>\n",
       "    <tr style=\"text-align: right;\">\n",
       "      <th></th>\n",
       "      <th>a</th>\n",
       "      <th>b</th>\n",
       "      <th>c</th>\n",
       "    </tr>\n",
       "  </thead>\n",
       "  <tbody>\n",
       "    <tr>\n",
       "      <th>0</th>\n",
       "      <td>john</td>\n",
       "      <td>0</td>\n",
       "      <td>foo</td>\n",
       "    </tr>\n",
       "    <tr>\n",
       "      <th>1</th>\n",
       "      <td>john</td>\n",
       "      <td>1</td>\n",
       "      <td>bar</td>\n",
       "    </tr>\n",
       "    <tr>\n",
       "      <th>2</th>\n",
       "      <td>john</td>\n",
       "      <td>1</td>\n",
       "      <td>bar</td>\n",
       "    </tr>\n",
       "  </tbody>\n",
       "</table>\n",
       "</div>"
      ],
      "text/plain": [
       "      a  b    c\n",
       "0  john  0  foo\n",
       "1  john  1  bar\n",
       "2  john  1  bar"
      ]
     },
     "execution_count": 92,
     "metadata": {},
     "output_type": "execute_result"
    }
   ],
   "source": [
    "df01"
   ]
  },
  {
   "cell_type": "code",
   "execution_count": 93,
   "metadata": {},
   "outputs": [],
   "source": [
    "#pd.Series(1,index=list(range(4)),dtype='float32')"
   ]
  },
  {
   "cell_type": "markdown",
   "metadata": {},
   "source": [
    "Creating a `DataFrame` by passing a dict of objects that can be converted to series-like."
   ]
  },
  {
   "cell_type": "code",
   "execution_count": 94,
   "metadata": {},
   "outputs": [],
   "source": [
    "import pandas as pd\n",
    "import numpy as np\n",
    "df2 = pd.DataFrame(data={'A' : 1,\n",
    "                    'B' : pd.Timestamp('20130102'),\n",
    "                    'C' : pd.Series(1,index=list(range(4)),dtype='float32'),\n",
    "                    'D' : np.array([3] * 4,dtype='int32'),\n",
    "                    'E' : pd.Categorical([\"test\",\"train\",\"test\",\"train\"]),\n",
    "                    'F' : 'foo' })"
   ]
  },
  {
   "cell_type": "code",
   "execution_count": 95,
   "metadata": {},
   "outputs": [
    {
     "data": {
      "text/plain": [
       "1    1.0\n",
       "2    1.0\n",
       "3    1.0\n",
       "4    1.0\n",
       "dtype: float32"
      ]
     },
     "execution_count": 95,
     "metadata": {},
     "output_type": "execute_result"
    }
   ],
   "source": [
    "pd.Series(1,index=list(range(1,5)),dtype='float32')"
   ]
  },
  {
   "cell_type": "code",
   "execution_count": 96,
   "metadata": {},
   "outputs": [
    {
     "data": {
      "text/html": [
       "<div>\n",
       "<style scoped>\n",
       "    .dataframe tbody tr th:only-of-type {\n",
       "        vertical-align: middle;\n",
       "    }\n",
       "\n",
       "    .dataframe tbody tr th {\n",
       "        vertical-align: top;\n",
       "    }\n",
       "\n",
       "    .dataframe thead th {\n",
       "        text-align: right;\n",
       "    }\n",
       "</style>\n",
       "<table border=\"1\" class=\"dataframe\">\n",
       "  <thead>\n",
       "    <tr style=\"text-align: right;\">\n",
       "      <th></th>\n",
       "      <th>A</th>\n",
       "      <th>B</th>\n",
       "      <th>C</th>\n",
       "      <th>D</th>\n",
       "      <th>E</th>\n",
       "      <th>F</th>\n",
       "    </tr>\n",
       "  </thead>\n",
       "  <tbody>\n",
       "    <tr>\n",
       "      <th>0</th>\n",
       "      <td>1</td>\n",
       "      <td>2013-01-02</td>\n",
       "      <td>1.0</td>\n",
       "      <td>3</td>\n",
       "      <td>test</td>\n",
       "      <td>foo</td>\n",
       "    </tr>\n",
       "    <tr>\n",
       "      <th>1</th>\n",
       "      <td>1</td>\n",
       "      <td>2013-01-02</td>\n",
       "      <td>1.0</td>\n",
       "      <td>3</td>\n",
       "      <td>train</td>\n",
       "      <td>foo</td>\n",
       "    </tr>\n",
       "    <tr>\n",
       "      <th>2</th>\n",
       "      <td>1</td>\n",
       "      <td>2013-01-02</td>\n",
       "      <td>1.0</td>\n",
       "      <td>3</td>\n",
       "      <td>test</td>\n",
       "      <td>foo</td>\n",
       "    </tr>\n",
       "    <tr>\n",
       "      <th>3</th>\n",
       "      <td>1</td>\n",
       "      <td>2013-01-02</td>\n",
       "      <td>1.0</td>\n",
       "      <td>3</td>\n",
       "      <td>train</td>\n",
       "      <td>foo</td>\n",
       "    </tr>\n",
       "  </tbody>\n",
       "</table>\n",
       "</div>"
      ],
      "text/plain": [
       "   A          B    C  D      E    F\n",
       "0  1 2013-01-02  1.0  3   test  foo\n",
       "1  1 2013-01-02  1.0  3  train  foo\n",
       "2  1 2013-01-02  1.0  3   test  foo\n",
       "3  1 2013-01-02  1.0  3  train  foo"
      ]
     },
     "execution_count": 96,
     "metadata": {},
     "output_type": "execute_result"
    }
   ],
   "source": [
    "df2"
   ]
  },
  {
   "cell_type": "markdown",
   "metadata": {},
   "source": [
    "Having specific [dtypes](http://pandas.pydata.org/pandas-docs/stable/basics.html#basics-dtypes)"
   ]
  },
  {
   "cell_type": "code",
   "execution_count": 97,
   "metadata": {},
   "outputs": [
    {
     "data": {
      "text/plain": [
       "A             int64\n",
       "B    datetime64[ns]\n",
       "C           float32\n",
       "D             int32\n",
       "E          category\n",
       "F            object\n",
       "dtype: object"
      ]
     },
     "execution_count": 97,
     "metadata": {},
     "output_type": "execute_result"
    }
   ],
   "source": [
    "df2.dtypes"
   ]
  },
  {
   "cell_type": "markdown",
   "metadata": {},
   "source": [
    "If you’re using IPython, tab completion for column names (as well as public attributes) is automatically enabled. Here’s a subset of the attributes that will be completed:"
   ]
  },
  {
   "cell_type": "code",
   "execution_count": 98,
   "metadata": {},
   "outputs": [],
   "source": [
    "#df2."
   ]
  },
  {
   "cell_type": "markdown",
   "metadata": {},
   "source": [
    "```\n",
    "df2.<TAB>\n",
    "\n",
    "df2.A                  df2.boxplot\n",
    "df2.abs                df2.C\n",
    "df2.add                df2.clip\n",
    "df2.add_prefix         df2.clip_lower\n",
    "df2.add_suffix         df2.clip_upper\n",
    "df2.align              df2.columns\n",
    "df2.all                df2.combine\n",
    "df2.any                df2.combineAdd\n",
    "df2.append             df2.combine_first\n",
    "df2.apply              df2.combineMult\n",
    "df2.applymap           df2.compound\n",
    "df2.as_blocks          df2.consolidate\n",
    "df2.asfreq             df2.convert_objects\n",
    "df2.as_matrix          df2.copy\n",
    "df2.astype             df2.corr\n",
    "df2.at                 df2.corrwith\n",
    "df2.at_time            df2.count\n",
    "df2.axes               df2.cov\n",
    "df2.B                  df2.cummax\n",
    "df2.between_time       df2.cummin\n",
    "df2.bfill              df2.cumprod\n",
    "df2.blocks             df2.cumsum\n",
    "df2.bool               df2.D\n",
    "```"
   ]
  },
  {
   "cell_type": "markdown",
   "metadata": {},
   "source": [
    "As you can see, the columns A, B, C, and D are automatically tab completed. E is there as well; the rest of the attributes have been truncated for brevity."
   ]
  },
  {
   "cell_type": "markdown",
   "metadata": {},
   "source": [
    "## Viewing Data"
   ]
  },
  {
   "cell_type": "markdown",
   "metadata": {},
   "source": [
    "Seeing the top & bottom rows of the frame"
   ]
  },
  {
   "cell_type": "code",
   "execution_count": 99,
   "metadata": {
    "scrolled": true
   },
   "outputs": [
    {
     "data": {
      "text/html": [
       "<div>\n",
       "<style scoped>\n",
       "    .dataframe tbody tr th:only-of-type {\n",
       "        vertical-align: middle;\n",
       "    }\n",
       "\n",
       "    .dataframe tbody tr th {\n",
       "        vertical-align: top;\n",
       "    }\n",
       "\n",
       "    .dataframe thead th {\n",
       "        text-align: right;\n",
       "    }\n",
       "</style>\n",
       "<table border=\"1\" class=\"dataframe\">\n",
       "  <thead>\n",
       "    <tr style=\"text-align: right;\">\n",
       "      <th></th>\n",
       "      <th>A</th>\n",
       "      <th>B</th>\n",
       "      <th>C</th>\n",
       "      <th>D</th>\n",
       "    </tr>\n",
       "  </thead>\n",
       "  <tbody>\n",
       "    <tr>\n",
       "      <th>2013-01-01</th>\n",
       "      <td>-0.312851</td>\n",
       "      <td>0.540862</td>\n",
       "      <td>0.279680</td>\n",
       "      <td>1.233861</td>\n",
       "    </tr>\n",
       "    <tr>\n",
       "      <th>2013-01-02</th>\n",
       "      <td>1.286976</td>\n",
       "      <td>0.587120</td>\n",
       "      <td>1.805363</td>\n",
       "      <td>-0.615997</td>\n",
       "    </tr>\n",
       "    <tr>\n",
       "      <th>2013-01-03</th>\n",
       "      <td>2.139396</td>\n",
       "      <td>0.876003</td>\n",
       "      <td>0.308157</td>\n",
       "      <td>-0.328186</td>\n",
       "    </tr>\n",
       "    <tr>\n",
       "      <th>2013-01-04</th>\n",
       "      <td>0.494930</td>\n",
       "      <td>1.274901</td>\n",
       "      <td>-0.317435</td>\n",
       "      <td>-0.193408</td>\n",
       "    </tr>\n",
       "    <tr>\n",
       "      <th>2013-01-05</th>\n",
       "      <td>-0.271722</td>\n",
       "      <td>-0.007324</td>\n",
       "      <td>-0.404277</td>\n",
       "      <td>0.314469</td>\n",
       "    </tr>\n",
       "  </tbody>\n",
       "</table>\n",
       "</div>"
      ],
      "text/plain": [
       "                   A         B         C         D\n",
       "2013-01-01 -0.312851  0.540862  0.279680  1.233861\n",
       "2013-01-02  1.286976  0.587120  1.805363 -0.615997\n",
       "2013-01-03  2.139396  0.876003  0.308157 -0.328186\n",
       "2013-01-04  0.494930  1.274901 -0.317435 -0.193408\n",
       "2013-01-05 -0.271722 -0.007324 -0.404277  0.314469"
      ]
     },
     "execution_count": 99,
     "metadata": {},
     "output_type": "execute_result"
    }
   ],
   "source": [
    "df.head()"
   ]
  },
  {
   "cell_type": "code",
   "execution_count": 100,
   "metadata": {
    "scrolled": true
   },
   "outputs": [
    {
     "data": {
      "text/html": [
       "<div>\n",
       "<style scoped>\n",
       "    .dataframe tbody tr th:only-of-type {\n",
       "        vertical-align: middle;\n",
       "    }\n",
       "\n",
       "    .dataframe tbody tr th {\n",
       "        vertical-align: top;\n",
       "    }\n",
       "\n",
       "    .dataframe thead th {\n",
       "        text-align: right;\n",
       "    }\n",
       "</style>\n",
       "<table border=\"1\" class=\"dataframe\">\n",
       "  <thead>\n",
       "    <tr style=\"text-align: right;\">\n",
       "      <th></th>\n",
       "      <th>A</th>\n",
       "      <th>B</th>\n",
       "      <th>C</th>\n",
       "      <th>D</th>\n",
       "    </tr>\n",
       "  </thead>\n",
       "  <tbody>\n",
       "    <tr>\n",
       "      <th>2013-01-05</th>\n",
       "      <td>-0.271722</td>\n",
       "      <td>-0.007324</td>\n",
       "      <td>-0.404277</td>\n",
       "      <td>0.314469</td>\n",
       "    </tr>\n",
       "    <tr>\n",
       "      <th>2013-01-06</th>\n",
       "      <td>-0.320006</td>\n",
       "      <td>-0.516964</td>\n",
       "      <td>-0.302451</td>\n",
       "      <td>0.489650</td>\n",
       "    </tr>\n",
       "  </tbody>\n",
       "</table>\n",
       "</div>"
      ],
      "text/plain": [
       "                   A         B         C         D\n",
       "2013-01-05 -0.271722 -0.007324 -0.404277  0.314469\n",
       "2013-01-06 -0.320006 -0.516964 -0.302451  0.489650"
      ]
     },
     "execution_count": 100,
     "metadata": {},
     "output_type": "execute_result"
    }
   ],
   "source": [
    "df.tail(2)"
   ]
  },
  {
   "cell_type": "code",
   "execution_count": 101,
   "metadata": {},
   "outputs": [
    {
     "data": {
      "text/html": [
       "<div>\n",
       "<style scoped>\n",
       "    .dataframe tbody tr th:only-of-type {\n",
       "        vertical-align: middle;\n",
       "    }\n",
       "\n",
       "    .dataframe tbody tr th {\n",
       "        vertical-align: top;\n",
       "    }\n",
       "\n",
       "    .dataframe thead th {\n",
       "        text-align: right;\n",
       "    }\n",
       "</style>\n",
       "<table border=\"1\" class=\"dataframe\">\n",
       "  <thead>\n",
       "    <tr style=\"text-align: right;\">\n",
       "      <th></th>\n",
       "      <th>A</th>\n",
       "      <th>B</th>\n",
       "      <th>C</th>\n",
       "      <th>D</th>\n",
       "    </tr>\n",
       "  </thead>\n",
       "  <tbody>\n",
       "    <tr>\n",
       "      <th>2013-01-01</th>\n",
       "      <td>-0.312851</td>\n",
       "      <td>0.540862</td>\n",
       "      <td>0.279680</td>\n",
       "      <td>1.233861</td>\n",
       "    </tr>\n",
       "    <tr>\n",
       "      <th>2013-01-02</th>\n",
       "      <td>1.286976</td>\n",
       "      <td>0.587120</td>\n",
       "      <td>1.805363</td>\n",
       "      <td>-0.615997</td>\n",
       "    </tr>\n",
       "    <tr>\n",
       "      <th>2013-01-03</th>\n",
       "      <td>2.139396</td>\n",
       "      <td>0.876003</td>\n",
       "      <td>0.308157</td>\n",
       "      <td>-0.328186</td>\n",
       "    </tr>\n",
       "    <tr>\n",
       "      <th>2013-01-04</th>\n",
       "      <td>0.494930</td>\n",
       "      <td>1.274901</td>\n",
       "      <td>-0.317435</td>\n",
       "      <td>-0.193408</td>\n",
       "    </tr>\n",
       "    <tr>\n",
       "      <th>2013-01-05</th>\n",
       "      <td>-0.271722</td>\n",
       "      <td>-0.007324</td>\n",
       "      <td>-0.404277</td>\n",
       "      <td>0.314469</td>\n",
       "    </tr>\n",
       "    <tr>\n",
       "      <th>2013-01-06</th>\n",
       "      <td>-0.320006</td>\n",
       "      <td>-0.516964</td>\n",
       "      <td>-0.302451</td>\n",
       "      <td>0.489650</td>\n",
       "    </tr>\n",
       "  </tbody>\n",
       "</table>\n",
       "</div>"
      ],
      "text/plain": [
       "                   A         B         C         D\n",
       "2013-01-01 -0.312851  0.540862  0.279680  1.233861\n",
       "2013-01-02  1.286976  0.587120  1.805363 -0.615997\n",
       "2013-01-03  2.139396  0.876003  0.308157 -0.328186\n",
       "2013-01-04  0.494930  1.274901 -0.317435 -0.193408\n",
       "2013-01-05 -0.271722 -0.007324 -0.404277  0.314469\n",
       "2013-01-06 -0.320006 -0.516964 -0.302451  0.489650"
      ]
     },
     "execution_count": 101,
     "metadata": {},
     "output_type": "execute_result"
    }
   ],
   "source": [
    "df"
   ]
  },
  {
   "cell_type": "markdown",
   "metadata": {},
   "source": [
    "Display the index, columns, and the underlying numpy data"
   ]
  },
  {
   "cell_type": "code",
   "execution_count": 102,
   "metadata": {},
   "outputs": [
    {
     "data": {
      "text/plain": [
       "DatetimeIndex(['2013-01-01', '2013-01-02', '2013-01-03', '2013-01-04',\n",
       "               '2013-01-05', '2013-01-06'],\n",
       "              dtype='datetime64[ns]', freq='D')"
      ]
     },
     "execution_count": 102,
     "metadata": {},
     "output_type": "execute_result"
    }
   ],
   "source": [
    "df.index"
   ]
  },
  {
   "cell_type": "code",
   "execution_count": 103,
   "metadata": {},
   "outputs": [
    {
     "data": {
      "text/plain": [
       "Index(['A', 'B', 'C', 'D'], dtype='object')"
      ]
     },
     "execution_count": 103,
     "metadata": {},
     "output_type": "execute_result"
    }
   ],
   "source": [
    "df.columns"
   ]
  },
  {
   "cell_type": "code",
   "execution_count": 104,
   "metadata": {},
   "outputs": [
    {
     "data": {
      "text/plain": [
       "array([[-0.31285051,  0.54086236,  0.27967979,  1.23386137],\n",
       "       [ 1.28697612,  0.58712017,  1.80536251, -0.61599731],\n",
       "       [ 2.13939611,  0.87600257,  0.30815678, -0.32818599],\n",
       "       [ 0.49493024,  1.27490127, -0.3174348 , -0.19340823],\n",
       "       [-0.27172219, -0.00732365, -0.40427737,  0.31446889],\n",
       "       [-0.32000569, -0.51696373, -0.30245137,  0.4896502 ]])"
      ]
     },
     "execution_count": 104,
     "metadata": {},
     "output_type": "execute_result"
    }
   ],
   "source": [
    "df.values"
   ]
  },
  {
   "cell_type": "markdown",
   "metadata": {},
   "source": [
    "Describe shows a quick statistic summary of your data"
   ]
  },
  {
   "cell_type": "code",
   "execution_count": 105,
   "metadata": {},
   "outputs": [
    {
     "data": {
      "text/html": [
       "<div>\n",
       "<style scoped>\n",
       "    .dataframe tbody tr th:only-of-type {\n",
       "        vertical-align: middle;\n",
       "    }\n",
       "\n",
       "    .dataframe tbody tr th {\n",
       "        vertical-align: top;\n",
       "    }\n",
       "\n",
       "    .dataframe thead th {\n",
       "        text-align: right;\n",
       "    }\n",
       "</style>\n",
       "<table border=\"1\" class=\"dataframe\">\n",
       "  <thead>\n",
       "    <tr style=\"text-align: right;\">\n",
       "      <th></th>\n",
       "      <th>A</th>\n",
       "      <th>B</th>\n",
       "      <th>C</th>\n",
       "      <th>D</th>\n",
       "    </tr>\n",
       "  </thead>\n",
       "  <tbody>\n",
       "    <tr>\n",
       "      <th>count</th>\n",
       "      <td>6.000000</td>\n",
       "      <td>6.000000</td>\n",
       "      <td>6.000000</td>\n",
       "      <td>6.000000</td>\n",
       "    </tr>\n",
       "    <tr>\n",
       "      <th>mean</th>\n",
       "      <td>0.502787</td>\n",
       "      <td>0.459100</td>\n",
       "      <td>0.228173</td>\n",
       "      <td>0.150065</td>\n",
       "    </tr>\n",
       "    <tr>\n",
       "      <th>std</th>\n",
       "      <td>1.023291</td>\n",
       "      <td>0.637599</td>\n",
       "      <td>0.833765</td>\n",
       "      <td>0.670897</td>\n",
       "    </tr>\n",
       "    <tr>\n",
       "      <th>min</th>\n",
       "      <td>-0.320006</td>\n",
       "      <td>-0.516964</td>\n",
       "      <td>-0.404277</td>\n",
       "      <td>-0.615997</td>\n",
       "    </tr>\n",
       "    <tr>\n",
       "      <th>25%</th>\n",
       "      <td>-0.302568</td>\n",
       "      <td>0.129723</td>\n",
       "      <td>-0.313689</td>\n",
       "      <td>-0.294492</td>\n",
       "    </tr>\n",
       "    <tr>\n",
       "      <th>50%</th>\n",
       "      <td>0.111604</td>\n",
       "      <td>0.563991</td>\n",
       "      <td>-0.011386</td>\n",
       "      <td>0.060530</td>\n",
       "    </tr>\n",
       "    <tr>\n",
       "      <th>75%</th>\n",
       "      <td>1.088965</td>\n",
       "      <td>0.803782</td>\n",
       "      <td>0.301038</td>\n",
       "      <td>0.445855</td>\n",
       "    </tr>\n",
       "    <tr>\n",
       "      <th>max</th>\n",
       "      <td>2.139396</td>\n",
       "      <td>1.274901</td>\n",
       "      <td>1.805363</td>\n",
       "      <td>1.233861</td>\n",
       "    </tr>\n",
       "  </tbody>\n",
       "</table>\n",
       "</div>"
      ],
      "text/plain": [
       "              A         B         C         D\n",
       "count  6.000000  6.000000  6.000000  6.000000\n",
       "mean   0.502787  0.459100  0.228173  0.150065\n",
       "std    1.023291  0.637599  0.833765  0.670897\n",
       "min   -0.320006 -0.516964 -0.404277 -0.615997\n",
       "25%   -0.302568  0.129723 -0.313689 -0.294492\n",
       "50%    0.111604  0.563991 -0.011386  0.060530\n",
       "75%    1.088965  0.803782  0.301038  0.445855\n",
       "max    2.139396  1.274901  1.805363  1.233861"
      ]
     },
     "execution_count": 105,
     "metadata": {},
     "output_type": "execute_result"
    }
   ],
   "source": [
    "df.describe()"
   ]
  },
  {
   "cell_type": "code",
   "execution_count": 106,
   "metadata": {
    "scrolled": true
   },
   "outputs": [
    {
     "name": "stdout",
     "output_type": "stream",
     "text": [
      "<class 'pandas.core.frame.DataFrame'>\n",
      "Int64Index: 4 entries, 0 to 3\n",
      "Data columns (total 6 columns):\n",
      " #   Column  Non-Null Count  Dtype         \n",
      "---  ------  --------------  -----         \n",
      " 0   A       4 non-null      int64         \n",
      " 1   B       4 non-null      datetime64[ns]\n",
      " 2   C       4 non-null      float32       \n",
      " 3   D       4 non-null      int32         \n",
      " 4   E       4 non-null      category      \n",
      " 5   F       4 non-null      object        \n",
      "dtypes: category(1), datetime64[ns](1), float32(1), int32(1), int64(1), object(1)\n",
      "memory usage: 260.0+ bytes\n"
     ]
    }
   ],
   "source": [
    "df2.info()"
   ]
  },
  {
   "cell_type": "code",
   "execution_count": 107,
   "metadata": {},
   "outputs": [
    {
     "data": {
      "text/html": [
       "<div>\n",
       "<style scoped>\n",
       "    .dataframe tbody tr th:only-of-type {\n",
       "        vertical-align: middle;\n",
       "    }\n",
       "\n",
       "    .dataframe tbody tr th {\n",
       "        vertical-align: top;\n",
       "    }\n",
       "\n",
       "    .dataframe thead th {\n",
       "        text-align: right;\n",
       "    }\n",
       "</style>\n",
       "<table border=\"1\" class=\"dataframe\">\n",
       "  <thead>\n",
       "    <tr style=\"text-align: right;\">\n",
       "      <th></th>\n",
       "      <th>A</th>\n",
       "      <th>C</th>\n",
       "      <th>D</th>\n",
       "    </tr>\n",
       "  </thead>\n",
       "  <tbody>\n",
       "    <tr>\n",
       "      <th>count</th>\n",
       "      <td>4.0</td>\n",
       "      <td>4.0</td>\n",
       "      <td>4.0</td>\n",
       "    </tr>\n",
       "    <tr>\n",
       "      <th>mean</th>\n",
       "      <td>1.0</td>\n",
       "      <td>1.0</td>\n",
       "      <td>3.0</td>\n",
       "    </tr>\n",
       "    <tr>\n",
       "      <th>std</th>\n",
       "      <td>0.0</td>\n",
       "      <td>0.0</td>\n",
       "      <td>0.0</td>\n",
       "    </tr>\n",
       "    <tr>\n",
       "      <th>min</th>\n",
       "      <td>1.0</td>\n",
       "      <td>1.0</td>\n",
       "      <td>3.0</td>\n",
       "    </tr>\n",
       "    <tr>\n",
       "      <th>25%</th>\n",
       "      <td>1.0</td>\n",
       "      <td>1.0</td>\n",
       "      <td>3.0</td>\n",
       "    </tr>\n",
       "    <tr>\n",
       "      <th>50%</th>\n",
       "      <td>1.0</td>\n",
       "      <td>1.0</td>\n",
       "      <td>3.0</td>\n",
       "    </tr>\n",
       "    <tr>\n",
       "      <th>75%</th>\n",
       "      <td>1.0</td>\n",
       "      <td>1.0</td>\n",
       "      <td>3.0</td>\n",
       "    </tr>\n",
       "    <tr>\n",
       "      <th>max</th>\n",
       "      <td>1.0</td>\n",
       "      <td>1.0</td>\n",
       "      <td>3.0</td>\n",
       "    </tr>\n",
       "  </tbody>\n",
       "</table>\n",
       "</div>"
      ],
      "text/plain": [
       "         A    C    D\n",
       "count  4.0  4.0  4.0\n",
       "mean   1.0  1.0  3.0\n",
       "std    0.0  0.0  0.0\n",
       "min    1.0  1.0  3.0\n",
       "25%    1.0  1.0  3.0\n",
       "50%    1.0  1.0  3.0\n",
       "75%    1.0  1.0  3.0\n",
       "max    1.0  1.0  3.0"
      ]
     },
     "execution_count": 107,
     "metadata": {},
     "output_type": "execute_result"
    }
   ],
   "source": [
    "df2.describe()"
   ]
  },
  {
   "cell_type": "markdown",
   "metadata": {},
   "source": [
    "Transposing your data"
   ]
  },
  {
   "cell_type": "code",
   "execution_count": 108,
   "metadata": {
    "scrolled": true
   },
   "outputs": [
    {
     "data": {
      "text/html": [
       "<div>\n",
       "<style scoped>\n",
       "    .dataframe tbody tr th:only-of-type {\n",
       "        vertical-align: middle;\n",
       "    }\n",
       "\n",
       "    .dataframe tbody tr th {\n",
       "        vertical-align: top;\n",
       "    }\n",
       "\n",
       "    .dataframe thead th {\n",
       "        text-align: right;\n",
       "    }\n",
       "</style>\n",
       "<table border=\"1\" class=\"dataframe\">\n",
       "  <thead>\n",
       "    <tr style=\"text-align: right;\">\n",
       "      <th></th>\n",
       "      <th>2013-01-01</th>\n",
       "      <th>2013-01-02</th>\n",
       "      <th>2013-01-03</th>\n",
       "      <th>2013-01-04</th>\n",
       "      <th>2013-01-05</th>\n",
       "      <th>2013-01-06</th>\n",
       "    </tr>\n",
       "  </thead>\n",
       "  <tbody>\n",
       "    <tr>\n",
       "      <th>A</th>\n",
       "      <td>-0.312851</td>\n",
       "      <td>1.286976</td>\n",
       "      <td>2.139396</td>\n",
       "      <td>0.494930</td>\n",
       "      <td>-0.271722</td>\n",
       "      <td>-0.320006</td>\n",
       "    </tr>\n",
       "    <tr>\n",
       "      <th>B</th>\n",
       "      <td>0.540862</td>\n",
       "      <td>0.587120</td>\n",
       "      <td>0.876003</td>\n",
       "      <td>1.274901</td>\n",
       "      <td>-0.007324</td>\n",
       "      <td>-0.516964</td>\n",
       "    </tr>\n",
       "    <tr>\n",
       "      <th>C</th>\n",
       "      <td>0.279680</td>\n",
       "      <td>1.805363</td>\n",
       "      <td>0.308157</td>\n",
       "      <td>-0.317435</td>\n",
       "      <td>-0.404277</td>\n",
       "      <td>-0.302451</td>\n",
       "    </tr>\n",
       "    <tr>\n",
       "      <th>D</th>\n",
       "      <td>1.233861</td>\n",
       "      <td>-0.615997</td>\n",
       "      <td>-0.328186</td>\n",
       "      <td>-0.193408</td>\n",
       "      <td>0.314469</td>\n",
       "      <td>0.489650</td>\n",
       "    </tr>\n",
       "  </tbody>\n",
       "</table>\n",
       "</div>"
      ],
      "text/plain": [
       "   2013-01-01  2013-01-02  2013-01-03  2013-01-04  2013-01-05  2013-01-06\n",
       "A   -0.312851    1.286976    2.139396    0.494930   -0.271722   -0.320006\n",
       "B    0.540862    0.587120    0.876003    1.274901   -0.007324   -0.516964\n",
       "C    0.279680    1.805363    0.308157   -0.317435   -0.404277   -0.302451\n",
       "D    1.233861   -0.615997   -0.328186   -0.193408    0.314469    0.489650"
      ]
     },
     "execution_count": 108,
     "metadata": {},
     "output_type": "execute_result"
    }
   ],
   "source": [
    "df.T"
   ]
  },
  {
   "cell_type": "code",
   "execution_count": 109,
   "metadata": {
    "scrolled": true
   },
   "outputs": [
    {
     "data": {
      "text/html": [
       "<div>\n",
       "<style scoped>\n",
       "    .dataframe tbody tr th:only-of-type {\n",
       "        vertical-align: middle;\n",
       "    }\n",
       "\n",
       "    .dataframe tbody tr th {\n",
       "        vertical-align: top;\n",
       "    }\n",
       "\n",
       "    .dataframe thead th {\n",
       "        text-align: right;\n",
       "    }\n",
       "</style>\n",
       "<table border=\"1\" class=\"dataframe\">\n",
       "  <thead>\n",
       "    <tr style=\"text-align: right;\">\n",
       "      <th></th>\n",
       "      <th>A</th>\n",
       "      <th>B</th>\n",
       "      <th>C</th>\n",
       "      <th>D</th>\n",
       "    </tr>\n",
       "  </thead>\n",
       "  <tbody>\n",
       "    <tr>\n",
       "      <th>2013-01-01</th>\n",
       "      <td>-0.312851</td>\n",
       "      <td>0.540862</td>\n",
       "      <td>0.279680</td>\n",
       "      <td>1.233861</td>\n",
       "    </tr>\n",
       "    <tr>\n",
       "      <th>2013-01-02</th>\n",
       "      <td>1.286976</td>\n",
       "      <td>0.587120</td>\n",
       "      <td>1.805363</td>\n",
       "      <td>-0.615997</td>\n",
       "    </tr>\n",
       "    <tr>\n",
       "      <th>2013-01-03</th>\n",
       "      <td>2.139396</td>\n",
       "      <td>0.876003</td>\n",
       "      <td>0.308157</td>\n",
       "      <td>-0.328186</td>\n",
       "    </tr>\n",
       "    <tr>\n",
       "      <th>2013-01-04</th>\n",
       "      <td>0.494930</td>\n",
       "      <td>1.274901</td>\n",
       "      <td>-0.317435</td>\n",
       "      <td>-0.193408</td>\n",
       "    </tr>\n",
       "    <tr>\n",
       "      <th>2013-01-05</th>\n",
       "      <td>-0.271722</td>\n",
       "      <td>-0.007324</td>\n",
       "      <td>-0.404277</td>\n",
       "      <td>0.314469</td>\n",
       "    </tr>\n",
       "    <tr>\n",
       "      <th>2013-01-06</th>\n",
       "      <td>-0.320006</td>\n",
       "      <td>-0.516964</td>\n",
       "      <td>-0.302451</td>\n",
       "      <td>0.489650</td>\n",
       "    </tr>\n",
       "  </tbody>\n",
       "</table>\n",
       "</div>"
      ],
      "text/plain": [
       "                   A         B         C         D\n",
       "2013-01-01 -0.312851  0.540862  0.279680  1.233861\n",
       "2013-01-02  1.286976  0.587120  1.805363 -0.615997\n",
       "2013-01-03  2.139396  0.876003  0.308157 -0.328186\n",
       "2013-01-04  0.494930  1.274901 -0.317435 -0.193408\n",
       "2013-01-05 -0.271722 -0.007324 -0.404277  0.314469\n",
       "2013-01-06 -0.320006 -0.516964 -0.302451  0.489650"
      ]
     },
     "execution_count": 109,
     "metadata": {},
     "output_type": "execute_result"
    }
   ],
   "source": [
    "df"
   ]
  },
  {
   "cell_type": "markdown",
   "metadata": {},
   "source": [
    "Sorting by an axis"
   ]
  },
  {
   "cell_type": "code",
   "execution_count": 110,
   "metadata": {},
   "outputs": [
    {
     "data": {
      "text/plain": [
       "Index(['A', 'B', 'C', 'D'], dtype='object')"
      ]
     },
     "execution_count": 110,
     "metadata": {},
     "output_type": "execute_result"
    }
   ],
   "source": [
    "df.columns"
   ]
  },
  {
   "cell_type": "code",
   "execution_count": 111,
   "metadata": {
    "scrolled": false
   },
   "outputs": [
    {
     "data": {
      "text/html": [
       "<div>\n",
       "<style scoped>\n",
       "    .dataframe tbody tr th:only-of-type {\n",
       "        vertical-align: middle;\n",
       "    }\n",
       "\n",
       "    .dataframe tbody tr th {\n",
       "        vertical-align: top;\n",
       "    }\n",
       "\n",
       "    .dataframe thead th {\n",
       "        text-align: right;\n",
       "    }\n",
       "</style>\n",
       "<table border=\"1\" class=\"dataframe\">\n",
       "  <thead>\n",
       "    <tr style=\"text-align: right;\">\n",
       "      <th></th>\n",
       "      <th>A</th>\n",
       "      <th>B</th>\n",
       "      <th>C</th>\n",
       "      <th>D</th>\n",
       "    </tr>\n",
       "  </thead>\n",
       "  <tbody>\n",
       "    <tr>\n",
       "      <th>2013-01-06</th>\n",
       "      <td>-0.320006</td>\n",
       "      <td>-0.516964</td>\n",
       "      <td>-0.302451</td>\n",
       "      <td>0.489650</td>\n",
       "    </tr>\n",
       "    <tr>\n",
       "      <th>2013-01-05</th>\n",
       "      <td>-0.271722</td>\n",
       "      <td>-0.007324</td>\n",
       "      <td>-0.404277</td>\n",
       "      <td>0.314469</td>\n",
       "    </tr>\n",
       "    <tr>\n",
       "      <th>2013-01-04</th>\n",
       "      <td>0.494930</td>\n",
       "      <td>1.274901</td>\n",
       "      <td>-0.317435</td>\n",
       "      <td>-0.193408</td>\n",
       "    </tr>\n",
       "    <tr>\n",
       "      <th>2013-01-03</th>\n",
       "      <td>2.139396</td>\n",
       "      <td>0.876003</td>\n",
       "      <td>0.308157</td>\n",
       "      <td>-0.328186</td>\n",
       "    </tr>\n",
       "    <tr>\n",
       "      <th>2013-01-02</th>\n",
       "      <td>1.286976</td>\n",
       "      <td>0.587120</td>\n",
       "      <td>1.805363</td>\n",
       "      <td>-0.615997</td>\n",
       "    </tr>\n",
       "    <tr>\n",
       "      <th>2013-01-01</th>\n",
       "      <td>-0.312851</td>\n",
       "      <td>0.540862</td>\n",
       "      <td>0.279680</td>\n",
       "      <td>1.233861</td>\n",
       "    </tr>\n",
       "  </tbody>\n",
       "</table>\n",
       "</div>"
      ],
      "text/plain": [
       "                   A         B         C         D\n",
       "2013-01-06 -0.320006 -0.516964 -0.302451  0.489650\n",
       "2013-01-05 -0.271722 -0.007324 -0.404277  0.314469\n",
       "2013-01-04  0.494930  1.274901 -0.317435 -0.193408\n",
       "2013-01-03  2.139396  0.876003  0.308157 -0.328186\n",
       "2013-01-02  1.286976  0.587120  1.805363 -0.615997\n",
       "2013-01-01 -0.312851  0.540862  0.279680  1.233861"
      ]
     },
     "execution_count": 111,
     "metadata": {},
     "output_type": "execute_result"
    }
   ],
   "source": [
    "df.sort_index(axis=0, ascending=False)"
   ]
  },
  {
   "cell_type": "code",
   "execution_count": 112,
   "metadata": {},
   "outputs": [
    {
     "data": {
      "text/html": [
       "<div>\n",
       "<style scoped>\n",
       "    .dataframe tbody tr th:only-of-type {\n",
       "        vertical-align: middle;\n",
       "    }\n",
       "\n",
       "    .dataframe tbody tr th {\n",
       "        vertical-align: top;\n",
       "    }\n",
       "\n",
       "    .dataframe thead th {\n",
       "        text-align: right;\n",
       "    }\n",
       "</style>\n",
       "<table border=\"1\" class=\"dataframe\">\n",
       "  <thead>\n",
       "    <tr style=\"text-align: right;\">\n",
       "      <th></th>\n",
       "      <th>A</th>\n",
       "      <th>B</th>\n",
       "      <th>C</th>\n",
       "      <th>D</th>\n",
       "    </tr>\n",
       "  </thead>\n",
       "  <tbody>\n",
       "    <tr>\n",
       "      <th>2013-01-01</th>\n",
       "      <td>-0.312851</td>\n",
       "      <td>0.540862</td>\n",
       "      <td>0.279680</td>\n",
       "      <td>1.233861</td>\n",
       "    </tr>\n",
       "    <tr>\n",
       "      <th>2013-01-02</th>\n",
       "      <td>1.286976</td>\n",
       "      <td>0.587120</td>\n",
       "      <td>1.805363</td>\n",
       "      <td>-0.615997</td>\n",
       "    </tr>\n",
       "    <tr>\n",
       "      <th>2013-01-03</th>\n",
       "      <td>2.139396</td>\n",
       "      <td>0.876003</td>\n",
       "      <td>0.308157</td>\n",
       "      <td>-0.328186</td>\n",
       "    </tr>\n",
       "    <tr>\n",
       "      <th>2013-01-04</th>\n",
       "      <td>0.494930</td>\n",
       "      <td>1.274901</td>\n",
       "      <td>-0.317435</td>\n",
       "      <td>-0.193408</td>\n",
       "    </tr>\n",
       "    <tr>\n",
       "      <th>2013-01-05</th>\n",
       "      <td>-0.271722</td>\n",
       "      <td>-0.007324</td>\n",
       "      <td>-0.404277</td>\n",
       "      <td>0.314469</td>\n",
       "    </tr>\n",
       "    <tr>\n",
       "      <th>2013-01-06</th>\n",
       "      <td>-0.320006</td>\n",
       "      <td>-0.516964</td>\n",
       "      <td>-0.302451</td>\n",
       "      <td>0.489650</td>\n",
       "    </tr>\n",
       "  </tbody>\n",
       "</table>\n",
       "</div>"
      ],
      "text/plain": [
       "                   A         B         C         D\n",
       "2013-01-01 -0.312851  0.540862  0.279680  1.233861\n",
       "2013-01-02  1.286976  0.587120  1.805363 -0.615997\n",
       "2013-01-03  2.139396  0.876003  0.308157 -0.328186\n",
       "2013-01-04  0.494930  1.274901 -0.317435 -0.193408\n",
       "2013-01-05 -0.271722 -0.007324 -0.404277  0.314469\n",
       "2013-01-06 -0.320006 -0.516964 -0.302451  0.489650"
      ]
     },
     "execution_count": 112,
     "metadata": {},
     "output_type": "execute_result"
    }
   ],
   "source": [
    "df"
   ]
  },
  {
   "cell_type": "code",
   "execution_count": 113,
   "metadata": {},
   "outputs": [
    {
     "data": {
      "text/html": [
       "<div>\n",
       "<style scoped>\n",
       "    .dataframe tbody tr th:only-of-type {\n",
       "        vertical-align: middle;\n",
       "    }\n",
       "\n",
       "    .dataframe tbody tr th {\n",
       "        vertical-align: top;\n",
       "    }\n",
       "\n",
       "    .dataframe thead th {\n",
       "        text-align: right;\n",
       "    }\n",
       "</style>\n",
       "<table border=\"1\" class=\"dataframe\">\n",
       "  <thead>\n",
       "    <tr style=\"text-align: right;\">\n",
       "      <th></th>\n",
       "      <th>D</th>\n",
       "      <th>C</th>\n",
       "      <th>B</th>\n",
       "      <th>A</th>\n",
       "    </tr>\n",
       "  </thead>\n",
       "  <tbody>\n",
       "    <tr>\n",
       "      <th>2013-01-01</th>\n",
       "      <td>1.233861</td>\n",
       "      <td>0.279680</td>\n",
       "      <td>0.540862</td>\n",
       "      <td>-0.312851</td>\n",
       "    </tr>\n",
       "    <tr>\n",
       "      <th>2013-01-02</th>\n",
       "      <td>-0.615997</td>\n",
       "      <td>1.805363</td>\n",
       "      <td>0.587120</td>\n",
       "      <td>1.286976</td>\n",
       "    </tr>\n",
       "    <tr>\n",
       "      <th>2013-01-03</th>\n",
       "      <td>-0.328186</td>\n",
       "      <td>0.308157</td>\n",
       "      <td>0.876003</td>\n",
       "      <td>2.139396</td>\n",
       "    </tr>\n",
       "    <tr>\n",
       "      <th>2013-01-04</th>\n",
       "      <td>-0.193408</td>\n",
       "      <td>-0.317435</td>\n",
       "      <td>1.274901</td>\n",
       "      <td>0.494930</td>\n",
       "    </tr>\n",
       "    <tr>\n",
       "      <th>2013-01-05</th>\n",
       "      <td>0.314469</td>\n",
       "      <td>-0.404277</td>\n",
       "      <td>-0.007324</td>\n",
       "      <td>-0.271722</td>\n",
       "    </tr>\n",
       "    <tr>\n",
       "      <th>2013-01-06</th>\n",
       "      <td>0.489650</td>\n",
       "      <td>-0.302451</td>\n",
       "      <td>-0.516964</td>\n",
       "      <td>-0.320006</td>\n",
       "    </tr>\n",
       "  </tbody>\n",
       "</table>\n",
       "</div>"
      ],
      "text/plain": [
       "                   D         C         B         A\n",
       "2013-01-01  1.233861  0.279680  0.540862 -0.312851\n",
       "2013-01-02 -0.615997  1.805363  0.587120  1.286976\n",
       "2013-01-03 -0.328186  0.308157  0.876003  2.139396\n",
       "2013-01-04 -0.193408 -0.317435  1.274901  0.494930\n",
       "2013-01-05  0.314469 -0.404277 -0.007324 -0.271722\n",
       "2013-01-06  0.489650 -0.302451 -0.516964 -0.320006"
      ]
     },
     "execution_count": 113,
     "metadata": {},
     "output_type": "execute_result"
    }
   ],
   "source": [
    "df.sort_index(axis=1, ascending=False)"
   ]
  },
  {
   "cell_type": "code",
   "execution_count": 251,
   "metadata": {},
   "outputs": [
    {
     "data": {
      "text/html": [
       "<div>\n",
       "<style scoped>\n",
       "    .dataframe tbody tr th:only-of-type {\n",
       "        vertical-align: middle;\n",
       "    }\n",
       "\n",
       "    .dataframe tbody tr th {\n",
       "        vertical-align: top;\n",
       "    }\n",
       "\n",
       "    .dataframe thead th {\n",
       "        text-align: right;\n",
       "    }\n",
       "</style>\n",
       "<table border=\"1\" class=\"dataframe\">\n",
       "  <thead>\n",
       "    <tr style=\"text-align: right;\">\n",
       "      <th></th>\n",
       "      <th>A</th>\n",
       "      <th>B</th>\n",
       "      <th>C</th>\n",
       "      <th>D</th>\n",
       "      <th>F</th>\n",
       "    </tr>\n",
       "  </thead>\n",
       "  <tbody>\n",
       "    <tr>\n",
       "      <th>2013-01-01</th>\n",
       "      <td>0.000000</td>\n",
       "      <td>0.000000</td>\n",
       "      <td>0.279680</td>\n",
       "      <td>5</td>\n",
       "      <td>NaN</td>\n",
       "    </tr>\n",
       "    <tr>\n",
       "      <th>2013-01-02</th>\n",
       "      <td>1.286976</td>\n",
       "      <td>5871.201672</td>\n",
       "      <td>1.805363</td>\n",
       "      <td>5</td>\n",
       "      <td>1.0</td>\n",
       "    </tr>\n",
       "    <tr>\n",
       "      <th>2013-01-03</th>\n",
       "      <td>2.139396</td>\n",
       "      <td>8760.025681</td>\n",
       "      <td>0.308157</td>\n",
       "      <td>5</td>\n",
       "      <td>2.0</td>\n",
       "    </tr>\n",
       "    <tr>\n",
       "      <th>2013-01-04</th>\n",
       "      <td>0.494930</td>\n",
       "      <td>12749.012704</td>\n",
       "      <td>-0.317435</td>\n",
       "      <td>5</td>\n",
       "      <td>3.0</td>\n",
       "    </tr>\n",
       "    <tr>\n",
       "      <th>2013-01-05</th>\n",
       "      <td>-0.271722</td>\n",
       "      <td>-73.236451</td>\n",
       "      <td>-0.404277</td>\n",
       "      <td>5</td>\n",
       "      <td>4.0</td>\n",
       "    </tr>\n",
       "    <tr>\n",
       "      <th>2013-01-06</th>\n",
       "      <td>-0.320006</td>\n",
       "      <td>-5169.637261</td>\n",
       "      <td>-0.302451</td>\n",
       "      <td>5</td>\n",
       "      <td>5.0</td>\n",
       "    </tr>\n",
       "  </tbody>\n",
       "</table>\n",
       "</div>"
      ],
      "text/plain": [
       "                   A             B         C  D    F\n",
       "2013-01-01  0.000000      0.000000  0.279680  5  NaN\n",
       "2013-01-02  1.286976   5871.201672  1.805363  5  1.0\n",
       "2013-01-03  2.139396   8760.025681  0.308157  5  2.0\n",
       "2013-01-04  0.494930  12749.012704 -0.317435  5  3.0\n",
       "2013-01-05 -0.271722    -73.236451 -0.404277  5  4.0\n",
       "2013-01-06 -0.320006  -5169.637261 -0.302451  5  5.0"
      ]
     },
     "execution_count": 251,
     "metadata": {},
     "output_type": "execute_result"
    }
   ],
   "source": [
    "df"
   ]
  },
  {
   "cell_type": "code",
   "execution_count": 114,
   "metadata": {},
   "outputs": [],
   "source": [
    "#df.sort_values"
   ]
  },
  {
   "cell_type": "code",
   "execution_count": 252,
   "metadata": {},
   "outputs": [
    {
     "data": {
      "text/html": [
       "<div>\n",
       "<style scoped>\n",
       "    .dataframe tbody tr th:only-of-type {\n",
       "        vertical-align: middle;\n",
       "    }\n",
       "\n",
       "    .dataframe tbody tr th {\n",
       "        vertical-align: top;\n",
       "    }\n",
       "\n",
       "    .dataframe thead th {\n",
       "        text-align: right;\n",
       "    }\n",
       "</style>\n",
       "<table border=\"1\" class=\"dataframe\">\n",
       "  <thead>\n",
       "    <tr style=\"text-align: right;\">\n",
       "      <th></th>\n",
       "      <th>A</th>\n",
       "      <th>B</th>\n",
       "      <th>C</th>\n",
       "      <th>D</th>\n",
       "      <th>F</th>\n",
       "    </tr>\n",
       "  </thead>\n",
       "  <tbody>\n",
       "    <tr>\n",
       "      <th>2013-01-06</th>\n",
       "      <td>-0.320006</td>\n",
       "      <td>-5169.637261</td>\n",
       "      <td>-0.302451</td>\n",
       "      <td>5</td>\n",
       "      <td>5.0</td>\n",
       "    </tr>\n",
       "    <tr>\n",
       "      <th>2013-01-05</th>\n",
       "      <td>-0.271722</td>\n",
       "      <td>-73.236451</td>\n",
       "      <td>-0.404277</td>\n",
       "      <td>5</td>\n",
       "      <td>4.0</td>\n",
       "    </tr>\n",
       "    <tr>\n",
       "      <th>2013-01-01</th>\n",
       "      <td>0.000000</td>\n",
       "      <td>0.000000</td>\n",
       "      <td>0.279680</td>\n",
       "      <td>5</td>\n",
       "      <td>NaN</td>\n",
       "    </tr>\n",
       "    <tr>\n",
       "      <th>2013-01-04</th>\n",
       "      <td>0.494930</td>\n",
       "      <td>12749.012704</td>\n",
       "      <td>-0.317435</td>\n",
       "      <td>5</td>\n",
       "      <td>3.0</td>\n",
       "    </tr>\n",
       "    <tr>\n",
       "      <th>2013-01-02</th>\n",
       "      <td>1.286976</td>\n",
       "      <td>5871.201672</td>\n",
       "      <td>1.805363</td>\n",
       "      <td>5</td>\n",
       "      <td>1.0</td>\n",
       "    </tr>\n",
       "    <tr>\n",
       "      <th>2013-01-03</th>\n",
       "      <td>2.139396</td>\n",
       "      <td>8760.025681</td>\n",
       "      <td>0.308157</td>\n",
       "      <td>5</td>\n",
       "      <td>2.0</td>\n",
       "    </tr>\n",
       "  </tbody>\n",
       "</table>\n",
       "</div>"
      ],
      "text/plain": [
       "                   A             B         C  D    F\n",
       "2013-01-06 -0.320006  -5169.637261 -0.302451  5  5.0\n",
       "2013-01-05 -0.271722    -73.236451 -0.404277  5  4.0\n",
       "2013-01-01  0.000000      0.000000  0.279680  5  NaN\n",
       "2013-01-04  0.494930  12749.012704 -0.317435  5  3.0\n",
       "2013-01-02  1.286976   5871.201672  1.805363  5  1.0\n",
       "2013-01-03  2.139396   8760.025681  0.308157  5  2.0"
      ]
     },
     "execution_count": 252,
     "metadata": {},
     "output_type": "execute_result"
    }
   ],
   "source": [
    "df.sort_values(by='A' , ascending=True)"
   ]
  },
  {
   "cell_type": "code",
   "execution_count": 116,
   "metadata": {},
   "outputs": [
    {
     "data": {
      "text/html": [
       "<div>\n",
       "<style scoped>\n",
       "    .dataframe tbody tr th:only-of-type {\n",
       "        vertical-align: middle;\n",
       "    }\n",
       "\n",
       "    .dataframe tbody tr th {\n",
       "        vertical-align: top;\n",
       "    }\n",
       "\n",
       "    .dataframe thead th {\n",
       "        text-align: right;\n",
       "    }\n",
       "</style>\n",
       "<table border=\"1\" class=\"dataframe\">\n",
       "  <thead>\n",
       "    <tr style=\"text-align: right;\">\n",
       "      <th></th>\n",
       "      <th>A</th>\n",
       "      <th>B</th>\n",
       "      <th>C</th>\n",
       "      <th>D</th>\n",
       "    </tr>\n",
       "  </thead>\n",
       "  <tbody>\n",
       "    <tr>\n",
       "      <th>2013-01-01</th>\n",
       "      <td>-0.312851</td>\n",
       "      <td>0.540862</td>\n",
       "      <td>0.279680</td>\n",
       "      <td>1.233861</td>\n",
       "    </tr>\n",
       "    <tr>\n",
       "      <th>2013-01-02</th>\n",
       "      <td>1.286976</td>\n",
       "      <td>0.587120</td>\n",
       "      <td>1.805363</td>\n",
       "      <td>-0.615997</td>\n",
       "    </tr>\n",
       "    <tr>\n",
       "      <th>2013-01-03</th>\n",
       "      <td>2.139396</td>\n",
       "      <td>0.876003</td>\n",
       "      <td>0.308157</td>\n",
       "      <td>-0.328186</td>\n",
       "    </tr>\n",
       "    <tr>\n",
       "      <th>2013-01-04</th>\n",
       "      <td>0.494930</td>\n",
       "      <td>1.274901</td>\n",
       "      <td>-0.317435</td>\n",
       "      <td>-0.193408</td>\n",
       "    </tr>\n",
       "    <tr>\n",
       "      <th>2013-01-05</th>\n",
       "      <td>-0.271722</td>\n",
       "      <td>-0.007324</td>\n",
       "      <td>-0.404277</td>\n",
       "      <td>0.314469</td>\n",
       "    </tr>\n",
       "    <tr>\n",
       "      <th>2013-01-06</th>\n",
       "      <td>-0.320006</td>\n",
       "      <td>-0.516964</td>\n",
       "      <td>-0.302451</td>\n",
       "      <td>0.489650</td>\n",
       "    </tr>\n",
       "  </tbody>\n",
       "</table>\n",
       "</div>"
      ],
      "text/plain": [
       "                   A         B         C         D\n",
       "2013-01-01 -0.312851  0.540862  0.279680  1.233861\n",
       "2013-01-02  1.286976  0.587120  1.805363 -0.615997\n",
       "2013-01-03  2.139396  0.876003  0.308157 -0.328186\n",
       "2013-01-04  0.494930  1.274901 -0.317435 -0.193408\n",
       "2013-01-05 -0.271722 -0.007324 -0.404277  0.314469\n",
       "2013-01-06 -0.320006 -0.516964 -0.302451  0.489650"
      ]
     },
     "execution_count": 116,
     "metadata": {},
     "output_type": "execute_result"
    }
   ],
   "source": [
    "df"
   ]
  },
  {
   "cell_type": "markdown",
   "metadata": {},
   "source": [
    "Sorting by values"
   ]
  },
  {
   "cell_type": "code",
   "execution_count": 255,
   "metadata": {},
   "outputs": [
    {
     "data": {
      "text/html": [
       "<div>\n",
       "<style scoped>\n",
       "    .dataframe tbody tr th:only-of-type {\n",
       "        vertical-align: middle;\n",
       "    }\n",
       "\n",
       "    .dataframe tbody tr th {\n",
       "        vertical-align: top;\n",
       "    }\n",
       "\n",
       "    .dataframe thead th {\n",
       "        text-align: right;\n",
       "    }\n",
       "</style>\n",
       "<table border=\"1\" class=\"dataframe\">\n",
       "  <thead>\n",
       "    <tr style=\"text-align: right;\">\n",
       "      <th></th>\n",
       "      <th>A</th>\n",
       "      <th>B</th>\n",
       "      <th>C</th>\n",
       "      <th>D</th>\n",
       "      <th>F</th>\n",
       "      <th>X</th>\n",
       "    </tr>\n",
       "  </thead>\n",
       "  <tbody>\n",
       "    <tr>\n",
       "      <th>2013-01-01</th>\n",
       "      <td>0.000000</td>\n",
       "      <td>0.000000</td>\n",
       "      <td>0.279680</td>\n",
       "      <td>5</td>\n",
       "      <td>NaN</td>\n",
       "      <td>1</td>\n",
       "    </tr>\n",
       "    <tr>\n",
       "      <th>2013-01-02</th>\n",
       "      <td>1.286976</td>\n",
       "      <td>5871.201672</td>\n",
       "      <td>1.805363</td>\n",
       "      <td>5</td>\n",
       "      <td>1.0</td>\n",
       "      <td>1</td>\n",
       "    </tr>\n",
       "    <tr>\n",
       "      <th>2013-01-03</th>\n",
       "      <td>2.139396</td>\n",
       "      <td>8760.025681</td>\n",
       "      <td>0.308157</td>\n",
       "      <td>5</td>\n",
       "      <td>2.0</td>\n",
       "      <td>1</td>\n",
       "    </tr>\n",
       "    <tr>\n",
       "      <th>2013-01-04</th>\n",
       "      <td>0.494930</td>\n",
       "      <td>12749.012704</td>\n",
       "      <td>-0.317435</td>\n",
       "      <td>5</td>\n",
       "      <td>3.0</td>\n",
       "      <td>2</td>\n",
       "    </tr>\n",
       "    <tr>\n",
       "      <th>2013-01-05</th>\n",
       "      <td>-0.271722</td>\n",
       "      <td>-73.236451</td>\n",
       "      <td>-0.404277</td>\n",
       "      <td>5</td>\n",
       "      <td>4.0</td>\n",
       "      <td>2</td>\n",
       "    </tr>\n",
       "    <tr>\n",
       "      <th>2013-01-06</th>\n",
       "      <td>-0.320006</td>\n",
       "      <td>-5169.637261</td>\n",
       "      <td>-0.302451</td>\n",
       "      <td>5</td>\n",
       "      <td>5.0</td>\n",
       "      <td>2</td>\n",
       "    </tr>\n",
       "  </tbody>\n",
       "</table>\n",
       "</div>"
      ],
      "text/plain": [
       "                   A             B         C  D    F  X\n",
       "2013-01-01  0.000000      0.000000  0.279680  5  NaN  1\n",
       "2013-01-02  1.286976   5871.201672  1.805363  5  1.0  1\n",
       "2013-01-03  2.139396   8760.025681  0.308157  5  2.0  1\n",
       "2013-01-04  0.494930  12749.012704 -0.317435  5  3.0  2\n",
       "2013-01-05 -0.271722    -73.236451 -0.404277  5  4.0  2\n",
       "2013-01-06 -0.320006  -5169.637261 -0.302451  5  5.0  2"
      ]
     },
     "execution_count": 255,
     "metadata": {},
     "output_type": "execute_result"
    }
   ],
   "source": [
    "df[\"X\"]=[1,1,1,2,2,2]\n",
    "df"
   ]
  },
  {
   "cell_type": "code",
   "execution_count": 257,
   "metadata": {
    "scrolled": false
   },
   "outputs": [
    {
     "data": {
      "text/html": [
       "<div>\n",
       "<style scoped>\n",
       "    .dataframe tbody tr th:only-of-type {\n",
       "        vertical-align: middle;\n",
       "    }\n",
       "\n",
       "    .dataframe tbody tr th {\n",
       "        vertical-align: top;\n",
       "    }\n",
       "\n",
       "    .dataframe thead th {\n",
       "        text-align: right;\n",
       "    }\n",
       "</style>\n",
       "<table border=\"1\" class=\"dataframe\">\n",
       "  <thead>\n",
       "    <tr style=\"text-align: right;\">\n",
       "      <th></th>\n",
       "      <th>A</th>\n",
       "      <th>B</th>\n",
       "      <th>C</th>\n",
       "      <th>D</th>\n",
       "      <th>F</th>\n",
       "      <th>X</th>\n",
       "    </tr>\n",
       "  </thead>\n",
       "  <tbody>\n",
       "    <tr>\n",
       "      <th>2013-01-06</th>\n",
       "      <td>-0.320006</td>\n",
       "      <td>-5169.637261</td>\n",
       "      <td>-0.302451</td>\n",
       "      <td>5</td>\n",
       "      <td>5.0</td>\n",
       "      <td>2</td>\n",
       "    </tr>\n",
       "    <tr>\n",
       "      <th>2013-01-05</th>\n",
       "      <td>-0.271722</td>\n",
       "      <td>-73.236451</td>\n",
       "      <td>-0.404277</td>\n",
       "      <td>5</td>\n",
       "      <td>4.0</td>\n",
       "      <td>2</td>\n",
       "    </tr>\n",
       "    <tr>\n",
       "      <th>2013-01-04</th>\n",
       "      <td>0.494930</td>\n",
       "      <td>12749.012704</td>\n",
       "      <td>-0.317435</td>\n",
       "      <td>5</td>\n",
       "      <td>3.0</td>\n",
       "      <td>2</td>\n",
       "    </tr>\n",
       "    <tr>\n",
       "      <th>2013-01-01</th>\n",
       "      <td>0.000000</td>\n",
       "      <td>0.000000</td>\n",
       "      <td>0.279680</td>\n",
       "      <td>5</td>\n",
       "      <td>NaN</td>\n",
       "      <td>1</td>\n",
       "    </tr>\n",
       "    <tr>\n",
       "      <th>2013-01-02</th>\n",
       "      <td>1.286976</td>\n",
       "      <td>5871.201672</td>\n",
       "      <td>1.805363</td>\n",
       "      <td>5</td>\n",
       "      <td>1.0</td>\n",
       "      <td>1</td>\n",
       "    </tr>\n",
       "    <tr>\n",
       "      <th>2013-01-03</th>\n",
       "      <td>2.139396</td>\n",
       "      <td>8760.025681</td>\n",
       "      <td>0.308157</td>\n",
       "      <td>5</td>\n",
       "      <td>2.0</td>\n",
       "      <td>1</td>\n",
       "    </tr>\n",
       "  </tbody>\n",
       "</table>\n",
       "</div>"
      ],
      "text/plain": [
       "                   A             B         C  D    F  X\n",
       "2013-01-06 -0.320006  -5169.637261 -0.302451  5  5.0  2\n",
       "2013-01-05 -0.271722    -73.236451 -0.404277  5  4.0  2\n",
       "2013-01-04  0.494930  12749.012704 -0.317435  5  3.0  2\n",
       "2013-01-01  0.000000      0.000000  0.279680  5  NaN  1\n",
       "2013-01-02  1.286976   5871.201672  1.805363  5  1.0  1\n",
       "2013-01-03  2.139396   8760.025681  0.308157  5  2.0  1"
      ]
     },
     "execution_count": 257,
     "metadata": {},
     "output_type": "execute_result"
    }
   ],
   "source": [
    "df.sort_values(by=['X', 'B'] , ascending=[False, True])"
   ]
  },
  {
   "cell_type": "code",
   "execution_count": 118,
   "metadata": {},
   "outputs": [],
   "source": [
    "df.sort_values(by=['A', 'B'] , ascending=[True, False], inplace=True)"
   ]
  },
  {
   "cell_type": "code",
   "execution_count": 119,
   "metadata": {},
   "outputs": [],
   "source": [
    "#df=df.sort_values(by='B' , ascending=False, inplace=False)"
   ]
  },
  {
   "cell_type": "code",
   "execution_count": 120,
   "metadata": {},
   "outputs": [
    {
     "data": {
      "text/plain": [
       "'1.0.5'"
      ]
     },
     "execution_count": 120,
     "metadata": {},
     "output_type": "execute_result"
    }
   ],
   "source": [
    "pd.__version__"
   ]
  },
  {
   "cell_type": "code",
   "execution_count": 121,
   "metadata": {},
   "outputs": [],
   "source": [
    "?df.sort_values"
   ]
  },
  {
   "cell_type": "code",
   "execution_count": 122,
   "metadata": {},
   "outputs": [
    {
     "data": {
      "text/plain": [
       "Timestamp('2013-01-01 00:00:00', freq='D')"
      ]
     },
     "execution_count": 122,
     "metadata": {},
     "output_type": "execute_result"
    }
   ],
   "source": [
    "dates[0]"
   ]
  },
  {
   "cell_type": "code",
   "execution_count": 123,
   "metadata": {
    "scrolled": true
   },
   "outputs": [
    {
     "data": {
      "text/html": [
       "<div>\n",
       "<style scoped>\n",
       "    .dataframe tbody tr th:only-of-type {\n",
       "        vertical-align: middle;\n",
       "    }\n",
       "\n",
       "    .dataframe tbody tr th {\n",
       "        vertical-align: top;\n",
       "    }\n",
       "\n",
       "    .dataframe thead th {\n",
       "        text-align: right;\n",
       "    }\n",
       "</style>\n",
       "<table border=\"1\" class=\"dataframe\">\n",
       "  <thead>\n",
       "    <tr style=\"text-align: right;\">\n",
       "      <th></th>\n",
       "      <th>D</th>\n",
       "      <th>B</th>\n",
       "      <th>C</th>\n",
       "      <th>A</th>\n",
       "    </tr>\n",
       "  </thead>\n",
       "  <tbody>\n",
       "    <tr>\n",
       "      <th>2013-01-06</th>\n",
       "      <td>0.489650</td>\n",
       "      <td>-0.516964</td>\n",
       "      <td>-0.302451</td>\n",
       "      <td>-0.320006</td>\n",
       "    </tr>\n",
       "    <tr>\n",
       "      <th>2013-01-01</th>\n",
       "      <td>1.233861</td>\n",
       "      <td>0.540862</td>\n",
       "      <td>0.279680</td>\n",
       "      <td>-0.312851</td>\n",
       "    </tr>\n",
       "    <tr>\n",
       "      <th>2013-01-05</th>\n",
       "      <td>0.314469</td>\n",
       "      <td>-0.007324</td>\n",
       "      <td>-0.404277</td>\n",
       "      <td>-0.271722</td>\n",
       "    </tr>\n",
       "    <tr>\n",
       "      <th>2013-01-04</th>\n",
       "      <td>-0.193408</td>\n",
       "      <td>1.274901</td>\n",
       "      <td>-0.317435</td>\n",
       "      <td>0.494930</td>\n",
       "    </tr>\n",
       "    <tr>\n",
       "      <th>2013-01-02</th>\n",
       "      <td>-0.615997</td>\n",
       "      <td>0.587120</td>\n",
       "      <td>1.805363</td>\n",
       "      <td>1.286976</td>\n",
       "    </tr>\n",
       "    <tr>\n",
       "      <th>2013-01-03</th>\n",
       "      <td>-0.328186</td>\n",
       "      <td>0.876003</td>\n",
       "      <td>0.308157</td>\n",
       "      <td>2.139396</td>\n",
       "    </tr>\n",
       "  </tbody>\n",
       "</table>\n",
       "</div>"
      ],
      "text/plain": [
       "                   D         B         C         A\n",
       "2013-01-06  0.489650 -0.516964 -0.302451 -0.320006\n",
       "2013-01-01  1.233861  0.540862  0.279680 -0.312851\n",
       "2013-01-05  0.314469 -0.007324 -0.404277 -0.271722\n",
       "2013-01-04 -0.193408  1.274901 -0.317435  0.494930\n",
       "2013-01-02 -0.615997  0.587120  1.805363  1.286976\n",
       "2013-01-03 -0.328186  0.876003  0.308157  2.139396"
      ]
     },
     "execution_count": 123,
     "metadata": {},
     "output_type": "execute_result"
    }
   ],
   "source": [
    "df.sort_values(by=dates[0] , axis=1 ,ascending=False, inplace=False)"
   ]
  },
  {
   "cell_type": "code",
   "execution_count": 124,
   "metadata": {},
   "outputs": [
    {
     "ename": "ValueError",
     "evalue": "The index label '20130101' is not unique.",
     "output_type": "error",
     "traceback": [
      "\u001b[0;31m---------------------------------------------------------------------------\u001b[0m",
      "\u001b[0;31mValueError\u001b[0m                                Traceback (most recent call last)",
      "\u001b[0;32m<ipython-input-124-fe99e976bc2b>\u001b[0m in \u001b[0;36m<module>\u001b[0;34m\u001b[0m\n\u001b[0;32m----> 1\u001b[0;31m \u001b[0mdf\u001b[0m\u001b[0;34m.\u001b[0m\u001b[0msort_values\u001b[0m\u001b[0;34m(\u001b[0m\u001b[0mby\u001b[0m\u001b[0;34m=\u001b[0m\u001b[0;34m\"20130101\"\u001b[0m \u001b[0;34m,\u001b[0m \u001b[0maxis\u001b[0m\u001b[0;34m=\u001b[0m\u001b[0;36m1\u001b[0m \u001b[0;34m,\u001b[0m\u001b[0mascending\u001b[0m\u001b[0;34m=\u001b[0m\u001b[0;32mFalse\u001b[0m\u001b[0;34m,\u001b[0m \u001b[0minplace\u001b[0m\u001b[0;34m=\u001b[0m\u001b[0;32mFalse\u001b[0m\u001b[0;34m)\u001b[0m\u001b[0;34m\u001b[0m\u001b[0;34m\u001b[0m\u001b[0m\n\u001b[0m",
      "\u001b[0;32m~/.local/lib/python3.6/site-packages/pandas/core/frame.py\u001b[0m in \u001b[0;36msort_values\u001b[0;34m(self, by, axis, ascending, inplace, kind, na_position, ignore_index)\u001b[0m\n\u001b[1;32m   4925\u001b[0m \u001b[0;34m\u001b[0m\u001b[0m\n\u001b[1;32m   4926\u001b[0m             \u001b[0mby\u001b[0m \u001b[0;34m=\u001b[0m \u001b[0mby\u001b[0m\u001b[0;34m[\u001b[0m\u001b[0;36m0\u001b[0m\u001b[0;34m]\u001b[0m\u001b[0;34m\u001b[0m\u001b[0;34m\u001b[0m\u001b[0m\n\u001b[0;32m-> 4927\u001b[0;31m             \u001b[0mk\u001b[0m \u001b[0;34m=\u001b[0m \u001b[0mself\u001b[0m\u001b[0;34m.\u001b[0m\u001b[0m_get_label_or_level_values\u001b[0m\u001b[0;34m(\u001b[0m\u001b[0mby\u001b[0m\u001b[0;34m,\u001b[0m \u001b[0maxis\u001b[0m\u001b[0;34m=\u001b[0m\u001b[0maxis\u001b[0m\u001b[0;34m)\u001b[0m\u001b[0;34m\u001b[0m\u001b[0;34m\u001b[0m\u001b[0m\n\u001b[0m\u001b[1;32m   4928\u001b[0m \u001b[0;34m\u001b[0m\u001b[0m\n\u001b[1;32m   4929\u001b[0m             \u001b[0;32mif\u001b[0m \u001b[0misinstance\u001b[0m\u001b[0;34m(\u001b[0m\u001b[0mascending\u001b[0m\u001b[0;34m,\u001b[0m \u001b[0;34m(\u001b[0m\u001b[0mtuple\u001b[0m\u001b[0;34m,\u001b[0m \u001b[0mlist\u001b[0m\u001b[0;34m)\u001b[0m\u001b[0;34m)\u001b[0m\u001b[0;34m:\u001b[0m\u001b[0;34m\u001b[0m\u001b[0;34m\u001b[0m\u001b[0m\n",
      "\u001b[0;32m~/.local/lib/python3.6/site-packages/pandas/core/generic.py\u001b[0m in \u001b[0;36m_get_label_or_level_values\u001b[0;34m(self, key, axis)\u001b[0m\n\u001b[1;32m   1708\u001b[0m             raise ValueError(\n\u001b[1;32m   1709\u001b[0m                 (\n\u001b[0;32m-> 1710\u001b[0;31m                     \u001b[0;34mf\"The {label_axis_name} label '{key}' \"\u001b[0m\u001b[0;34m\u001b[0m\u001b[0;34m\u001b[0m\u001b[0m\n\u001b[0m\u001b[1;32m   1711\u001b[0m                     \u001b[0;34mf\"is not unique.{multi_message}\"\u001b[0m\u001b[0;34m\u001b[0m\u001b[0;34m\u001b[0m\u001b[0m\n\u001b[1;32m   1712\u001b[0m                 )\n",
      "\u001b[0;31mValueError\u001b[0m: The index label '20130101' is not unique."
     ]
    }
   ],
   "source": [
    "df.sort_values(by=\"20130101\" , axis=1 ,ascending=False, inplace=False)"
   ]
  },
  {
   "cell_type": "code",
   "execution_count": 125,
   "metadata": {},
   "outputs": [
    {
     "data": {
      "text/html": [
       "<div>\n",
       "<style scoped>\n",
       "    .dataframe tbody tr th:only-of-type {\n",
       "        vertical-align: middle;\n",
       "    }\n",
       "\n",
       "    .dataframe tbody tr th {\n",
       "        vertical-align: top;\n",
       "    }\n",
       "\n",
       "    .dataframe thead th {\n",
       "        text-align: right;\n",
       "    }\n",
       "</style>\n",
       "<table border=\"1\" class=\"dataframe\">\n",
       "  <thead>\n",
       "    <tr style=\"text-align: right;\">\n",
       "      <th></th>\n",
       "      <th>A</th>\n",
       "      <th>B</th>\n",
       "      <th>C</th>\n",
       "      <th>D</th>\n",
       "    </tr>\n",
       "  </thead>\n",
       "  <tbody>\n",
       "    <tr>\n",
       "      <th>2013-01-06</th>\n",
       "      <td>-0.320006</td>\n",
       "      <td>-0.516964</td>\n",
       "      <td>-0.302451</td>\n",
       "      <td>0.489650</td>\n",
       "    </tr>\n",
       "    <tr>\n",
       "      <th>2013-01-01</th>\n",
       "      <td>-0.312851</td>\n",
       "      <td>0.540862</td>\n",
       "      <td>0.279680</td>\n",
       "      <td>1.233861</td>\n",
       "    </tr>\n",
       "    <tr>\n",
       "      <th>2013-01-05</th>\n",
       "      <td>-0.271722</td>\n",
       "      <td>-0.007324</td>\n",
       "      <td>-0.404277</td>\n",
       "      <td>0.314469</td>\n",
       "    </tr>\n",
       "    <tr>\n",
       "      <th>2013-01-04</th>\n",
       "      <td>0.494930</td>\n",
       "      <td>1.274901</td>\n",
       "      <td>-0.317435</td>\n",
       "      <td>-0.193408</td>\n",
       "    </tr>\n",
       "    <tr>\n",
       "      <th>2013-01-02</th>\n",
       "      <td>1.286976</td>\n",
       "      <td>0.587120</td>\n",
       "      <td>1.805363</td>\n",
       "      <td>-0.615997</td>\n",
       "    </tr>\n",
       "    <tr>\n",
       "      <th>2013-01-03</th>\n",
       "      <td>2.139396</td>\n",
       "      <td>0.876003</td>\n",
       "      <td>0.308157</td>\n",
       "      <td>-0.328186</td>\n",
       "    </tr>\n",
       "  </tbody>\n",
       "</table>\n",
       "</div>"
      ],
      "text/plain": [
       "                   A         B         C         D\n",
       "2013-01-06 -0.320006 -0.516964 -0.302451  0.489650\n",
       "2013-01-01 -0.312851  0.540862  0.279680  1.233861\n",
       "2013-01-05 -0.271722 -0.007324 -0.404277  0.314469\n",
       "2013-01-04  0.494930  1.274901 -0.317435 -0.193408\n",
       "2013-01-02  1.286976  0.587120  1.805363 -0.615997\n",
       "2013-01-03  2.139396  0.876003  0.308157 -0.328186"
      ]
     },
     "execution_count": 125,
     "metadata": {},
     "output_type": "execute_result"
    }
   ],
   "source": [
    "df"
   ]
  },
  {
   "cell_type": "code",
   "execution_count": null,
   "metadata": {},
   "outputs": [],
   "source": []
  },
  {
   "cell_type": "markdown",
   "metadata": {},
   "source": [
    "## Selection"
   ]
  },
  {
   "cell_type": "markdown",
   "metadata": {},
   "source": [
    "**Note:** While standard Python / Numpy expressions for selecting and setting are intuitive and come in handy for interactive work, for production code, the optimized pandas data access methods, `.at`, `.iat`, `.loc`, `.iloc` and `.ix` are recommended."
   ]
  },
  {
   "cell_type": "markdown",
   "metadata": {},
   "source": [
    "See the indexing documentation [Indexing and Selecting Data](http://pandas.pydata.org/pandas-docs/stable/indexing.html#indexing) and [MultiIndex / Advanced Indexing](http://pandas.pydata.org/pandas-docs/stable/advanced.html#advanced)"
   ]
  },
  {
   "cell_type": "markdown",
   "metadata": {},
   "source": [
    "### Getting"
   ]
  },
  {
   "cell_type": "markdown",
   "metadata": {},
   "source": [
    "Selecting a single column, which yields a `Series`, equivalent to `df.A`"
   ]
  },
  {
   "cell_type": "code",
   "execution_count": 126,
   "metadata": {},
   "outputs": [
    {
     "data": {
      "text/html": [
       "<div>\n",
       "<style scoped>\n",
       "    .dataframe tbody tr th:only-of-type {\n",
       "        vertical-align: middle;\n",
       "    }\n",
       "\n",
       "    .dataframe tbody tr th {\n",
       "        vertical-align: top;\n",
       "    }\n",
       "\n",
       "    .dataframe thead th {\n",
       "        text-align: right;\n",
       "    }\n",
       "</style>\n",
       "<table border=\"1\" class=\"dataframe\">\n",
       "  <thead>\n",
       "    <tr style=\"text-align: right;\">\n",
       "      <th></th>\n",
       "      <th>A</th>\n",
       "      <th>B</th>\n",
       "      <th>C</th>\n",
       "      <th>D</th>\n",
       "    </tr>\n",
       "  </thead>\n",
       "  <tbody>\n",
       "    <tr>\n",
       "      <th>2013-01-01</th>\n",
       "      <td>-0.312851</td>\n",
       "      <td>0.540862</td>\n",
       "      <td>0.279680</td>\n",
       "      <td>1.233861</td>\n",
       "    </tr>\n",
       "    <tr>\n",
       "      <th>2013-01-02</th>\n",
       "      <td>1.286976</td>\n",
       "      <td>0.587120</td>\n",
       "      <td>1.805363</td>\n",
       "      <td>-0.615997</td>\n",
       "    </tr>\n",
       "    <tr>\n",
       "      <th>2013-01-03</th>\n",
       "      <td>2.139396</td>\n",
       "      <td>0.876003</td>\n",
       "      <td>0.308157</td>\n",
       "      <td>-0.328186</td>\n",
       "    </tr>\n",
       "    <tr>\n",
       "      <th>2013-01-04</th>\n",
       "      <td>0.494930</td>\n",
       "      <td>1.274901</td>\n",
       "      <td>-0.317435</td>\n",
       "      <td>-0.193408</td>\n",
       "    </tr>\n",
       "    <tr>\n",
       "      <th>2013-01-05</th>\n",
       "      <td>-0.271722</td>\n",
       "      <td>-0.007324</td>\n",
       "      <td>-0.404277</td>\n",
       "      <td>0.314469</td>\n",
       "    </tr>\n",
       "    <tr>\n",
       "      <th>2013-01-06</th>\n",
       "      <td>-0.320006</td>\n",
       "      <td>-0.516964</td>\n",
       "      <td>-0.302451</td>\n",
       "      <td>0.489650</td>\n",
       "    </tr>\n",
       "  </tbody>\n",
       "</table>\n",
       "</div>"
      ],
      "text/plain": [
       "                   A         B         C         D\n",
       "2013-01-01 -0.312851  0.540862  0.279680  1.233861\n",
       "2013-01-02  1.286976  0.587120  1.805363 -0.615997\n",
       "2013-01-03  2.139396  0.876003  0.308157 -0.328186\n",
       "2013-01-04  0.494930  1.274901 -0.317435 -0.193408\n",
       "2013-01-05 -0.271722 -0.007324 -0.404277  0.314469\n",
       "2013-01-06 -0.320006 -0.516964 -0.302451  0.489650"
      ]
     },
     "execution_count": 126,
     "metadata": {},
     "output_type": "execute_result"
    }
   ],
   "source": [
    "df.sort_index(inplace=True)\n",
    "df"
   ]
  },
  {
   "cell_type": "code",
   "execution_count": 127,
   "metadata": {},
   "outputs": [
    {
     "data": {
      "text/plain": [
       "2013-01-01   -0.312851\n",
       "2013-01-02    1.286976\n",
       "2013-01-03    2.139396\n",
       "2013-01-04    0.494930\n",
       "2013-01-05   -0.271722\n",
       "2013-01-06   -0.320006\n",
       "Name: A, dtype: float64"
      ]
     },
     "execution_count": 127,
     "metadata": {},
     "output_type": "execute_result"
    }
   ],
   "source": [
    "df.A"
   ]
  },
  {
   "cell_type": "code",
   "execution_count": 128,
   "metadata": {},
   "outputs": [
    {
     "data": {
      "text/plain": [
       "2013-01-01   -0.312851\n",
       "2013-01-02    1.286976\n",
       "2013-01-03    2.139396\n",
       "2013-01-04    0.494930\n",
       "2013-01-05   -0.271722\n",
       "2013-01-06   -0.320006\n",
       "Name: A, dtype: float64"
      ]
     },
     "execution_count": 128,
     "metadata": {},
     "output_type": "execute_result"
    }
   ],
   "source": [
    "df['A']"
   ]
  },
  {
   "cell_type": "code",
   "execution_count": 129,
   "metadata": {},
   "outputs": [
    {
     "data": {
      "text/plain": [
       "pandas.core.series.Series"
      ]
     },
     "execution_count": 129,
     "metadata": {},
     "output_type": "execute_result"
    }
   ],
   "source": [
    "type(df[\"A\"])"
   ]
  },
  {
   "cell_type": "code",
   "execution_count": 130,
   "metadata": {},
   "outputs": [
    {
     "data": {
      "text/html": [
       "<div>\n",
       "<style scoped>\n",
       "    .dataframe tbody tr th:only-of-type {\n",
       "        vertical-align: middle;\n",
       "    }\n",
       "\n",
       "    .dataframe tbody tr th {\n",
       "        vertical-align: top;\n",
       "    }\n",
       "\n",
       "    .dataframe thead th {\n",
       "        text-align: right;\n",
       "    }\n",
       "</style>\n",
       "<table border=\"1\" class=\"dataframe\">\n",
       "  <thead>\n",
       "    <tr style=\"text-align: right;\">\n",
       "      <th></th>\n",
       "      <th>A</th>\n",
       "      <th>B</th>\n",
       "      <th>C</th>\n",
       "      <th>D</th>\n",
       "    </tr>\n",
       "  </thead>\n",
       "  <tbody>\n",
       "    <tr>\n",
       "      <th>2013-01-01</th>\n",
       "      <td>-0.312851</td>\n",
       "      <td>0.540862</td>\n",
       "      <td>0.279680</td>\n",
       "      <td>1.233861</td>\n",
       "    </tr>\n",
       "    <tr>\n",
       "      <th>2013-01-02</th>\n",
       "      <td>1.286976</td>\n",
       "      <td>0.587120</td>\n",
       "      <td>1.805363</td>\n",
       "      <td>-0.615997</td>\n",
       "    </tr>\n",
       "    <tr>\n",
       "      <th>2013-01-03</th>\n",
       "      <td>2.139396</td>\n",
       "      <td>0.876003</td>\n",
       "      <td>0.308157</td>\n",
       "      <td>-0.328186</td>\n",
       "    </tr>\n",
       "    <tr>\n",
       "      <th>2013-01-04</th>\n",
       "      <td>0.494930</td>\n",
       "      <td>1.274901</td>\n",
       "      <td>-0.317435</td>\n",
       "      <td>-0.193408</td>\n",
       "    </tr>\n",
       "    <tr>\n",
       "      <th>2013-01-05</th>\n",
       "      <td>-0.271722</td>\n",
       "      <td>-0.007324</td>\n",
       "      <td>-0.404277</td>\n",
       "      <td>0.314469</td>\n",
       "    </tr>\n",
       "    <tr>\n",
       "      <th>2013-01-06</th>\n",
       "      <td>-0.320006</td>\n",
       "      <td>-0.516964</td>\n",
       "      <td>-0.302451</td>\n",
       "      <td>0.489650</td>\n",
       "    </tr>\n",
       "  </tbody>\n",
       "</table>\n",
       "</div>"
      ],
      "text/plain": [
       "                   A         B         C         D\n",
       "2013-01-01 -0.312851  0.540862  0.279680  1.233861\n",
       "2013-01-02  1.286976  0.587120  1.805363 -0.615997\n",
       "2013-01-03  2.139396  0.876003  0.308157 -0.328186\n",
       "2013-01-04  0.494930  1.274901 -0.317435 -0.193408\n",
       "2013-01-05 -0.271722 -0.007324 -0.404277  0.314469\n",
       "2013-01-06 -0.320006 -0.516964 -0.302451  0.489650"
      ]
     },
     "execution_count": 130,
     "metadata": {},
     "output_type": "execute_result"
    }
   ],
   "source": [
    "df"
   ]
  },
  {
   "cell_type": "markdown",
   "metadata": {},
   "source": [
    "Selecting via [], which slices the rows."
   ]
  },
  {
   "cell_type": "code",
   "execution_count": 131,
   "metadata": {},
   "outputs": [
    {
     "data": {
      "text/html": [
       "<div>\n",
       "<style scoped>\n",
       "    .dataframe tbody tr th:only-of-type {\n",
       "        vertical-align: middle;\n",
       "    }\n",
       "\n",
       "    .dataframe tbody tr th {\n",
       "        vertical-align: top;\n",
       "    }\n",
       "\n",
       "    .dataframe thead th {\n",
       "        text-align: right;\n",
       "    }\n",
       "</style>\n",
       "<table border=\"1\" class=\"dataframe\">\n",
       "  <thead>\n",
       "    <tr style=\"text-align: right;\">\n",
       "      <th></th>\n",
       "      <th>A</th>\n",
       "      <th>B</th>\n",
       "      <th>C</th>\n",
       "      <th>D</th>\n",
       "    </tr>\n",
       "  </thead>\n",
       "  <tbody>\n",
       "    <tr>\n",
       "      <th>2013-01-01</th>\n",
       "      <td>-0.312851</td>\n",
       "      <td>0.540862</td>\n",
       "      <td>0.279680</td>\n",
       "      <td>1.233861</td>\n",
       "    </tr>\n",
       "    <tr>\n",
       "      <th>2013-01-02</th>\n",
       "      <td>1.286976</td>\n",
       "      <td>0.587120</td>\n",
       "      <td>1.805363</td>\n",
       "      <td>-0.615997</td>\n",
       "    </tr>\n",
       "    <tr>\n",
       "      <th>2013-01-03</th>\n",
       "      <td>2.139396</td>\n",
       "      <td>0.876003</td>\n",
       "      <td>0.308157</td>\n",
       "      <td>-0.328186</td>\n",
       "    </tr>\n",
       "  </tbody>\n",
       "</table>\n",
       "</div>"
      ],
      "text/plain": [
       "                   A         B         C         D\n",
       "2013-01-01 -0.312851  0.540862  0.279680  1.233861\n",
       "2013-01-02  1.286976  0.587120  1.805363 -0.615997\n",
       "2013-01-03  2.139396  0.876003  0.308157 -0.328186"
      ]
     },
     "execution_count": 131,
     "metadata": {},
     "output_type": "execute_result"
    }
   ],
   "source": [
    "df[:3]"
   ]
  },
  {
   "cell_type": "code",
   "execution_count": 132,
   "metadata": {
    "scrolled": false
   },
   "outputs": [
    {
     "data": {
      "text/html": [
       "<div>\n",
       "<style scoped>\n",
       "    .dataframe tbody tr th:only-of-type {\n",
       "        vertical-align: middle;\n",
       "    }\n",
       "\n",
       "    .dataframe tbody tr th {\n",
       "        vertical-align: top;\n",
       "    }\n",
       "\n",
       "    .dataframe thead th {\n",
       "        text-align: right;\n",
       "    }\n",
       "</style>\n",
       "<table border=\"1\" class=\"dataframe\">\n",
       "  <thead>\n",
       "    <tr style=\"text-align: right;\">\n",
       "      <th></th>\n",
       "      <th>A</th>\n",
       "      <th>B</th>\n",
       "      <th>C</th>\n",
       "      <th>D</th>\n",
       "    </tr>\n",
       "  </thead>\n",
       "  <tbody>\n",
       "    <tr>\n",
       "      <th>2013-01-02</th>\n",
       "      <td>1.286976</td>\n",
       "      <td>0.587120</td>\n",
       "      <td>1.805363</td>\n",
       "      <td>-0.615997</td>\n",
       "    </tr>\n",
       "    <tr>\n",
       "      <th>2013-01-03</th>\n",
       "      <td>2.139396</td>\n",
       "      <td>0.876003</td>\n",
       "      <td>0.308157</td>\n",
       "      <td>-0.328186</td>\n",
       "    </tr>\n",
       "    <tr>\n",
       "      <th>2013-01-04</th>\n",
       "      <td>0.494930</td>\n",
       "      <td>1.274901</td>\n",
       "      <td>-0.317435</td>\n",
       "      <td>-0.193408</td>\n",
       "    </tr>\n",
       "  </tbody>\n",
       "</table>\n",
       "</div>"
      ],
      "text/plain": [
       "                   A         B         C         D\n",
       "2013-01-02  1.286976  0.587120  1.805363 -0.615997\n",
       "2013-01-03  2.139396  0.876003  0.308157 -0.328186\n",
       "2013-01-04  0.494930  1.274901 -0.317435 -0.193408"
      ]
     },
     "execution_count": 132,
     "metadata": {},
     "output_type": "execute_result"
    }
   ],
   "source": [
    "df['20130102':'20130104']"
   ]
  },
  {
   "cell_type": "code",
   "execution_count": 133,
   "metadata": {},
   "outputs": [
    {
     "data": {
      "text/plain": [
       "'1.0.5'"
      ]
     },
     "execution_count": 133,
     "metadata": {},
     "output_type": "execute_result"
    }
   ],
   "source": [
    "pd.__version__"
   ]
  },
  {
   "cell_type": "code",
   "execution_count": 134,
   "metadata": {},
   "outputs": [],
   "source": [
    "# df['20130104'] #works with'0.25.2' or above"
   ]
  },
  {
   "cell_type": "code",
   "execution_count": 135,
   "metadata": {},
   "outputs": [
    {
     "data": {
      "text/html": [
       "<div>\n",
       "<style scoped>\n",
       "    .dataframe tbody tr th:only-of-type {\n",
       "        vertical-align: middle;\n",
       "    }\n",
       "\n",
       "    .dataframe tbody tr th {\n",
       "        vertical-align: top;\n",
       "    }\n",
       "\n",
       "    .dataframe thead th {\n",
       "        text-align: right;\n",
       "    }\n",
       "</style>\n",
       "<table border=\"1\" class=\"dataframe\">\n",
       "  <thead>\n",
       "    <tr style=\"text-align: right;\">\n",
       "      <th></th>\n",
       "      <th>A</th>\n",
       "      <th>B</th>\n",
       "      <th>C</th>\n",
       "      <th>D</th>\n",
       "    </tr>\n",
       "  </thead>\n",
       "  <tbody>\n",
       "    <tr>\n",
       "      <th>2013-01-01</th>\n",
       "      <td>-0.312851</td>\n",
       "      <td>0.540862</td>\n",
       "      <td>0.279680</td>\n",
       "      <td>1.233861</td>\n",
       "    </tr>\n",
       "    <tr>\n",
       "      <th>2013-01-03</th>\n",
       "      <td>2.139396</td>\n",
       "      <td>0.876003</td>\n",
       "      <td>0.308157</td>\n",
       "      <td>-0.328186</td>\n",
       "    </tr>\n",
       "    <tr>\n",
       "      <th>2013-01-05</th>\n",
       "      <td>-0.271722</td>\n",
       "      <td>-0.007324</td>\n",
       "      <td>-0.404277</td>\n",
       "      <td>0.314469</td>\n",
       "    </tr>\n",
       "  </tbody>\n",
       "</table>\n",
       "</div>"
      ],
      "text/plain": [
       "                   A         B         C         D\n",
       "2013-01-01 -0.312851  0.540862  0.279680  1.233861\n",
       "2013-01-03  2.139396  0.876003  0.308157 -0.328186\n",
       "2013-01-05 -0.271722 -0.007324 -0.404277  0.314469"
      ]
     },
     "execution_count": 135,
     "metadata": {},
     "output_type": "execute_result"
    }
   ],
   "source": [
    "df[0::2]"
   ]
  },
  {
   "cell_type": "markdown",
   "metadata": {},
   "source": [
    "### Selecting by Label"
   ]
  },
  {
   "cell_type": "markdown",
   "metadata": {},
   "source": [
    "See more in [Selection by Label](http://pandas.pydata.org/pandas-docs/stable/indexing.html#indexing-label)"
   ]
  },
  {
   "cell_type": "markdown",
   "metadata": {},
   "source": [
    "For getting a cross section using a label"
   ]
  },
  {
   "cell_type": "code",
   "execution_count": 136,
   "metadata": {},
   "outputs": [],
   "source": [
    "?df.loc"
   ]
  },
  {
   "cell_type": "code",
   "execution_count": 137,
   "metadata": {},
   "outputs": [
    {
     "data": {
      "text/plain": [
       "Timestamp('2013-01-01 00:00:00', freq='D')"
      ]
     },
     "execution_count": 137,
     "metadata": {},
     "output_type": "execute_result"
    }
   ],
   "source": [
    "dates[0]"
   ]
  },
  {
   "cell_type": "code",
   "execution_count": 138,
   "metadata": {},
   "outputs": [
    {
     "data": {
      "text/plain": [
       "DatetimeIndex(['2013-01-01', '2013-01-02', '2013-01-03', '2013-01-04'], dtype='datetime64[ns]', freq='D')"
      ]
     },
     "execution_count": 138,
     "metadata": {},
     "output_type": "execute_result"
    }
   ],
   "source": [
    "dates[0:4]"
   ]
  },
  {
   "cell_type": "code",
   "execution_count": 139,
   "metadata": {
    "scrolled": false
   },
   "outputs": [
    {
     "data": {
      "text/html": [
       "<div>\n",
       "<style scoped>\n",
       "    .dataframe tbody tr th:only-of-type {\n",
       "        vertical-align: middle;\n",
       "    }\n",
       "\n",
       "    .dataframe tbody tr th {\n",
       "        vertical-align: top;\n",
       "    }\n",
       "\n",
       "    .dataframe thead th {\n",
       "        text-align: right;\n",
       "    }\n",
       "</style>\n",
       "<table border=\"1\" class=\"dataframe\">\n",
       "  <thead>\n",
       "    <tr style=\"text-align: right;\">\n",
       "      <th></th>\n",
       "      <th>A</th>\n",
       "      <th>B</th>\n",
       "      <th>C</th>\n",
       "      <th>D</th>\n",
       "    </tr>\n",
       "  </thead>\n",
       "  <tbody>\n",
       "    <tr>\n",
       "      <th>2013-01-01</th>\n",
       "      <td>-0.312851</td>\n",
       "      <td>0.540862</td>\n",
       "      <td>0.279680</td>\n",
       "      <td>1.233861</td>\n",
       "    </tr>\n",
       "    <tr>\n",
       "      <th>2013-01-02</th>\n",
       "      <td>1.286976</td>\n",
       "      <td>0.587120</td>\n",
       "      <td>1.805363</td>\n",
       "      <td>-0.615997</td>\n",
       "    </tr>\n",
       "    <tr>\n",
       "      <th>2013-01-03</th>\n",
       "      <td>2.139396</td>\n",
       "      <td>0.876003</td>\n",
       "      <td>0.308157</td>\n",
       "      <td>-0.328186</td>\n",
       "    </tr>\n",
       "    <tr>\n",
       "      <th>2013-01-04</th>\n",
       "      <td>0.494930</td>\n",
       "      <td>1.274901</td>\n",
       "      <td>-0.317435</td>\n",
       "      <td>-0.193408</td>\n",
       "    </tr>\n",
       "  </tbody>\n",
       "</table>\n",
       "</div>"
      ],
      "text/plain": [
       "                   A         B         C         D\n",
       "2013-01-01 -0.312851  0.540862  0.279680  1.233861\n",
       "2013-01-02  1.286976  0.587120  1.805363 -0.615997\n",
       "2013-01-03  2.139396  0.876003  0.308157 -0.328186\n",
       "2013-01-04  0.494930  1.274901 -0.317435 -0.193408"
      ]
     },
     "execution_count": 139,
     "metadata": {},
     "output_type": "execute_result"
    }
   ],
   "source": [
    "df.loc[dates[0:4]]"
   ]
  },
  {
   "cell_type": "code",
   "execution_count": 140,
   "metadata": {},
   "outputs": [],
   "source": [
    "#df.loc[dates[1],['C']]"
   ]
  },
  {
   "cell_type": "markdown",
   "metadata": {},
   "source": [
    "Selecting on a multi-axis by label"
   ]
  },
  {
   "cell_type": "code",
   "execution_count": 141,
   "metadata": {},
   "outputs": [
    {
     "data": {
      "text/plain": [
       "2013-01-01   -0.312851\n",
       "2013-01-02    1.286976\n",
       "2013-01-03    2.139396\n",
       "2013-01-04    0.494930\n",
       "2013-01-05   -0.271722\n",
       "2013-01-06   -0.320006\n",
       "Name: A, dtype: float64"
      ]
     },
     "execution_count": 141,
     "metadata": {},
     "output_type": "execute_result"
    }
   ],
   "source": [
    "df.loc[:,'A']"
   ]
  },
  {
   "cell_type": "markdown",
   "metadata": {},
   "source": [
    "Showing label slicing, both endpoints are included"
   ]
  },
  {
   "cell_type": "code",
   "execution_count": 142,
   "metadata": {
    "scrolled": true
   },
   "outputs": [
    {
     "data": {
      "text/html": [
       "<div>\n",
       "<style scoped>\n",
       "    .dataframe tbody tr th:only-of-type {\n",
       "        vertical-align: middle;\n",
       "    }\n",
       "\n",
       "    .dataframe tbody tr th {\n",
       "        vertical-align: top;\n",
       "    }\n",
       "\n",
       "    .dataframe thead th {\n",
       "        text-align: right;\n",
       "    }\n",
       "</style>\n",
       "<table border=\"1\" class=\"dataframe\">\n",
       "  <thead>\n",
       "    <tr style=\"text-align: right;\">\n",
       "      <th></th>\n",
       "      <th>A</th>\n",
       "      <th>B</th>\n",
       "    </tr>\n",
       "  </thead>\n",
       "  <tbody>\n",
       "    <tr>\n",
       "      <th>2013-01-02</th>\n",
       "      <td>1.286976</td>\n",
       "      <td>0.587120</td>\n",
       "    </tr>\n",
       "    <tr>\n",
       "      <th>2013-01-03</th>\n",
       "      <td>2.139396</td>\n",
       "      <td>0.876003</td>\n",
       "    </tr>\n",
       "    <tr>\n",
       "      <th>2013-01-04</th>\n",
       "      <td>0.494930</td>\n",
       "      <td>1.274901</td>\n",
       "    </tr>\n",
       "  </tbody>\n",
       "</table>\n",
       "</div>"
      ],
      "text/plain": [
       "                   A         B\n",
       "2013-01-02  1.286976  0.587120\n",
       "2013-01-03  2.139396  0.876003\n",
       "2013-01-04  0.494930  1.274901"
      ]
     },
     "execution_count": 142,
     "metadata": {},
     "output_type": "execute_result"
    }
   ],
   "source": [
    "df.loc['20130102':'20130104',['A','B']]"
   ]
  },
  {
   "cell_type": "markdown",
   "metadata": {},
   "source": [
    "Reduction in the dimensions of the returned object"
   ]
  },
  {
   "cell_type": "code",
   "execution_count": 143,
   "metadata": {},
   "outputs": [
    {
     "data": {
      "text/plain": [
       "A    1.286976\n",
       "B    0.587120\n",
       "Name: 2013-01-02 00:00:00, dtype: float64"
      ]
     },
     "execution_count": 143,
     "metadata": {},
     "output_type": "execute_result"
    }
   ],
   "source": [
    "df.loc['20130102',['A','B']]"
   ]
  },
  {
   "cell_type": "markdown",
   "metadata": {},
   "source": [
    "For getting a scalar value"
   ]
  },
  {
   "cell_type": "code",
   "execution_count": 144,
   "metadata": {},
   "outputs": [
    {
     "data": {
      "text/plain": [
       "-0.3128505082880235"
      ]
     },
     "execution_count": 144,
     "metadata": {},
     "output_type": "execute_result"
    }
   ],
   "source": [
    "df.loc[dates[0],'A']"
   ]
  },
  {
   "cell_type": "code",
   "execution_count": 145,
   "metadata": {},
   "outputs": [
    {
     "data": {
      "text/html": [
       "<div>\n",
       "<style scoped>\n",
       "    .dataframe tbody tr th:only-of-type {\n",
       "        vertical-align: middle;\n",
       "    }\n",
       "\n",
       "    .dataframe tbody tr th {\n",
       "        vertical-align: top;\n",
       "    }\n",
       "\n",
       "    .dataframe thead th {\n",
       "        text-align: right;\n",
       "    }\n",
       "</style>\n",
       "<table border=\"1\" class=\"dataframe\">\n",
       "  <thead>\n",
       "    <tr style=\"text-align: right;\">\n",
       "      <th></th>\n",
       "      <th>A</th>\n",
       "      <th>B</th>\n",
       "      <th>C</th>\n",
       "      <th>D</th>\n",
       "    </tr>\n",
       "  </thead>\n",
       "  <tbody>\n",
       "    <tr>\n",
       "      <th>2013-01-01</th>\n",
       "      <td>-0.312851</td>\n",
       "      <td>0.540862</td>\n",
       "      <td>0.279680</td>\n",
       "      <td>1.233861</td>\n",
       "    </tr>\n",
       "    <tr>\n",
       "      <th>2013-01-02</th>\n",
       "      <td>1.286976</td>\n",
       "      <td>0.587120</td>\n",
       "      <td>1.805363</td>\n",
       "      <td>-0.615997</td>\n",
       "    </tr>\n",
       "    <tr>\n",
       "      <th>2013-01-03</th>\n",
       "      <td>2.139396</td>\n",
       "      <td>0.876003</td>\n",
       "      <td>0.308157</td>\n",
       "      <td>-0.328186</td>\n",
       "    </tr>\n",
       "    <tr>\n",
       "      <th>2013-01-04</th>\n",
       "      <td>0.494930</td>\n",
       "      <td>1.274901</td>\n",
       "      <td>-0.317435</td>\n",
       "      <td>-0.193408</td>\n",
       "    </tr>\n",
       "    <tr>\n",
       "      <th>2013-01-05</th>\n",
       "      <td>-0.271722</td>\n",
       "      <td>-0.007324</td>\n",
       "      <td>-0.404277</td>\n",
       "      <td>0.314469</td>\n",
       "    </tr>\n",
       "    <tr>\n",
       "      <th>2013-01-06</th>\n",
       "      <td>-0.320006</td>\n",
       "      <td>-0.516964</td>\n",
       "      <td>-0.302451</td>\n",
       "      <td>0.489650</td>\n",
       "    </tr>\n",
       "  </tbody>\n",
       "</table>\n",
       "</div>"
      ],
      "text/plain": [
       "                   A         B         C         D\n",
       "2013-01-01 -0.312851  0.540862  0.279680  1.233861\n",
       "2013-01-02  1.286976  0.587120  1.805363 -0.615997\n",
       "2013-01-03  2.139396  0.876003  0.308157 -0.328186\n",
       "2013-01-04  0.494930  1.274901 -0.317435 -0.193408\n",
       "2013-01-05 -0.271722 -0.007324 -0.404277  0.314469\n",
       "2013-01-06 -0.320006 -0.516964 -0.302451  0.489650"
      ]
     },
     "execution_count": 145,
     "metadata": {},
     "output_type": "execute_result"
    }
   ],
   "source": [
    "df"
   ]
  },
  {
   "cell_type": "markdown",
   "metadata": {},
   "source": [
    "For getting fast access to a scalar (equiv to the prior method)"
   ]
  },
  {
   "cell_type": "code",
   "execution_count": 146,
   "metadata": {},
   "outputs": [
    {
     "data": {
      "text/plain": [
       "-0.3128505082880235"
      ]
     },
     "execution_count": 146,
     "metadata": {},
     "output_type": "execute_result"
    }
   ],
   "source": [
    "df.loc[dates[0],'A']"
   ]
  },
  {
   "cell_type": "code",
   "execution_count": 147,
   "metadata": {},
   "outputs": [
    {
     "data": {
      "text/plain": [
       "-0.3128505082880235"
      ]
     },
     "execution_count": 147,
     "metadata": {},
     "output_type": "execute_result"
    }
   ],
   "source": [
    "df.at[dates[0],'A']"
   ]
  },
  {
   "cell_type": "markdown",
   "metadata": {},
   "source": [
    "### Selection by position"
   ]
  },
  {
   "cell_type": "markdown",
   "metadata": {},
   "source": [
    "Pandas provides a suite of methods in order to get purely integer based indexing. The semantics follow closely python and numpy slicing. These are 0-based indexing. When slicing, the start bounds is included, while the upper bound is excluded. Trying to use a non-integer, even a valid label will raise an IndexError.\n",
    "\n",
    "The .iloc attribute is the primary access method. The following are valid inputs:\n",
    "\n",
    "    An integer e.g. 5\n",
    "    A list or array of integers [4, 3, 0]\n",
    "    A slice object with ints 1:7\n",
    "    A boolean array\n",
    "    A callable, see Selection By Callable\n"
   ]
  },
  {
   "cell_type": "code",
   "execution_count": 148,
   "metadata": {},
   "outputs": [
    {
     "data": {
      "text/html": [
       "<div>\n",
       "<style scoped>\n",
       "    .dataframe tbody tr th:only-of-type {\n",
       "        vertical-align: middle;\n",
       "    }\n",
       "\n",
       "    .dataframe tbody tr th {\n",
       "        vertical-align: top;\n",
       "    }\n",
       "\n",
       "    .dataframe thead th {\n",
       "        text-align: right;\n",
       "    }\n",
       "</style>\n",
       "<table border=\"1\" class=\"dataframe\">\n",
       "  <thead>\n",
       "    <tr style=\"text-align: right;\">\n",
       "      <th></th>\n",
       "      <th>A</th>\n",
       "      <th>B</th>\n",
       "      <th>C</th>\n",
       "      <th>D</th>\n",
       "    </tr>\n",
       "  </thead>\n",
       "  <tbody>\n",
       "    <tr>\n",
       "      <th>2013-01-01</th>\n",
       "      <td>-0.312851</td>\n",
       "      <td>0.540862</td>\n",
       "      <td>0.279680</td>\n",
       "      <td>1.233861</td>\n",
       "    </tr>\n",
       "    <tr>\n",
       "      <th>2013-01-02</th>\n",
       "      <td>1.286976</td>\n",
       "      <td>0.587120</td>\n",
       "      <td>1.805363</td>\n",
       "      <td>-0.615997</td>\n",
       "    </tr>\n",
       "    <tr>\n",
       "      <th>2013-01-03</th>\n",
       "      <td>2.139396</td>\n",
       "      <td>0.876003</td>\n",
       "      <td>0.308157</td>\n",
       "      <td>-0.328186</td>\n",
       "    </tr>\n",
       "    <tr>\n",
       "      <th>2013-01-04</th>\n",
       "      <td>0.494930</td>\n",
       "      <td>1.274901</td>\n",
       "      <td>-0.317435</td>\n",
       "      <td>-0.193408</td>\n",
       "    </tr>\n",
       "    <tr>\n",
       "      <th>2013-01-05</th>\n",
       "      <td>-0.271722</td>\n",
       "      <td>-0.007324</td>\n",
       "      <td>-0.404277</td>\n",
       "      <td>0.314469</td>\n",
       "    </tr>\n",
       "    <tr>\n",
       "      <th>2013-01-06</th>\n",
       "      <td>-0.320006</td>\n",
       "      <td>-0.516964</td>\n",
       "      <td>-0.302451</td>\n",
       "      <td>0.489650</td>\n",
       "    </tr>\n",
       "  </tbody>\n",
       "</table>\n",
       "</div>"
      ],
      "text/plain": [
       "                   A         B         C         D\n",
       "2013-01-01 -0.312851  0.540862  0.279680  1.233861\n",
       "2013-01-02  1.286976  0.587120  1.805363 -0.615997\n",
       "2013-01-03  2.139396  0.876003  0.308157 -0.328186\n",
       "2013-01-04  0.494930  1.274901 -0.317435 -0.193408\n",
       "2013-01-05 -0.271722 -0.007324 -0.404277  0.314469\n",
       "2013-01-06 -0.320006 -0.516964 -0.302451  0.489650"
      ]
     },
     "execution_count": 148,
     "metadata": {},
     "output_type": "execute_result"
    }
   ],
   "source": [
    "df"
   ]
  },
  {
   "cell_type": "markdown",
   "metadata": {},
   "source": [
    "Select via the position of the passed integers"
   ]
  },
  {
   "cell_type": "code",
   "execution_count": 149,
   "metadata": {
    "scrolled": true
   },
   "outputs": [
    {
     "data": {
      "text/plain": [
       "A    0.494930\n",
       "B    1.274901\n",
       "C   -0.317435\n",
       "D   -0.193408\n",
       "Name: 2013-01-04 00:00:00, dtype: float64"
      ]
     },
     "execution_count": 149,
     "metadata": {},
     "output_type": "execute_result"
    }
   ],
   "source": [
    "df.iloc[3]"
   ]
  },
  {
   "cell_type": "code",
   "execution_count": 150,
   "metadata": {},
   "outputs": [
    {
     "data": {
      "text/plain": [
       "pandas.core.series.Series"
      ]
     },
     "execution_count": 150,
     "metadata": {},
     "output_type": "execute_result"
    }
   ],
   "source": [
    "type(df.iloc[3])"
   ]
  },
  {
   "cell_type": "code",
   "execution_count": 151,
   "metadata": {},
   "outputs": [
    {
     "data": {
      "text/html": [
       "<div>\n",
       "<style scoped>\n",
       "    .dataframe tbody tr th:only-of-type {\n",
       "        vertical-align: middle;\n",
       "    }\n",
       "\n",
       "    .dataframe tbody tr th {\n",
       "        vertical-align: top;\n",
       "    }\n",
       "\n",
       "    .dataframe thead th {\n",
       "        text-align: right;\n",
       "    }\n",
       "</style>\n",
       "<table border=\"1\" class=\"dataframe\">\n",
       "  <thead>\n",
       "    <tr style=\"text-align: right;\">\n",
       "      <th></th>\n",
       "      <th>A</th>\n",
       "      <th>B</th>\n",
       "      <th>C</th>\n",
       "      <th>D</th>\n",
       "    </tr>\n",
       "  </thead>\n",
       "  <tbody>\n",
       "    <tr>\n",
       "      <th>2013-01-04</th>\n",
       "      <td>0.494930</td>\n",
       "      <td>1.274901</td>\n",
       "      <td>-0.317435</td>\n",
       "      <td>-0.193408</td>\n",
       "    </tr>\n",
       "    <tr>\n",
       "      <th>2013-01-05</th>\n",
       "      <td>-0.271722</td>\n",
       "      <td>-0.007324</td>\n",
       "      <td>-0.404277</td>\n",
       "      <td>0.314469</td>\n",
       "    </tr>\n",
       "    <tr>\n",
       "      <th>2013-01-06</th>\n",
       "      <td>-0.320006</td>\n",
       "      <td>-0.516964</td>\n",
       "      <td>-0.302451</td>\n",
       "      <td>0.489650</td>\n",
       "    </tr>\n",
       "  </tbody>\n",
       "</table>\n",
       "</div>"
      ],
      "text/plain": [
       "                   A         B         C         D\n",
       "2013-01-04  0.494930  1.274901 -0.317435 -0.193408\n",
       "2013-01-05 -0.271722 -0.007324 -0.404277  0.314469\n",
       "2013-01-06 -0.320006 -0.516964 -0.302451  0.489650"
      ]
     },
     "execution_count": 151,
     "metadata": {},
     "output_type": "execute_result"
    }
   ],
   "source": [
    "df.iloc[3:]"
   ]
  },
  {
   "cell_type": "markdown",
   "metadata": {},
   "source": [
    "By integer slices, acting similar to numpy/python"
   ]
  },
  {
   "cell_type": "code",
   "execution_count": 152,
   "metadata": {},
   "outputs": [
    {
     "data": {
      "text/html": [
       "<div>\n",
       "<style scoped>\n",
       "    .dataframe tbody tr th:only-of-type {\n",
       "        vertical-align: middle;\n",
       "    }\n",
       "\n",
       "    .dataframe tbody tr th {\n",
       "        vertical-align: top;\n",
       "    }\n",
       "\n",
       "    .dataframe thead th {\n",
       "        text-align: right;\n",
       "    }\n",
       "</style>\n",
       "<table border=\"1\" class=\"dataframe\">\n",
       "  <thead>\n",
       "    <tr style=\"text-align: right;\">\n",
       "      <th></th>\n",
       "      <th>A</th>\n",
       "      <th>B</th>\n",
       "    </tr>\n",
       "  </thead>\n",
       "  <tbody>\n",
       "    <tr>\n",
       "      <th>2013-01-04</th>\n",
       "      <td>0.494930</td>\n",
       "      <td>1.274901</td>\n",
       "    </tr>\n",
       "    <tr>\n",
       "      <th>2013-01-05</th>\n",
       "      <td>-0.271722</td>\n",
       "      <td>-0.007324</td>\n",
       "    </tr>\n",
       "  </tbody>\n",
       "</table>\n",
       "</div>"
      ],
      "text/plain": [
       "                   A         B\n",
       "2013-01-04  0.494930  1.274901\n",
       "2013-01-05 -0.271722 -0.007324"
      ]
     },
     "execution_count": 152,
     "metadata": {},
     "output_type": "execute_result"
    }
   ],
   "source": [
    "df.iloc[3:5,0:2]"
   ]
  },
  {
   "cell_type": "markdown",
   "metadata": {},
   "source": [
    "By lists of integer position locations, similar to the numpy/python style"
   ]
  },
  {
   "cell_type": "code",
   "execution_count": 153,
   "metadata": {},
   "outputs": [
    {
     "data": {
      "text/html": [
       "<div>\n",
       "<style scoped>\n",
       "    .dataframe tbody tr th:only-of-type {\n",
       "        vertical-align: middle;\n",
       "    }\n",
       "\n",
       "    .dataframe tbody tr th {\n",
       "        vertical-align: top;\n",
       "    }\n",
       "\n",
       "    .dataframe thead th {\n",
       "        text-align: right;\n",
       "    }\n",
       "</style>\n",
       "<table border=\"1\" class=\"dataframe\">\n",
       "  <thead>\n",
       "    <tr style=\"text-align: right;\">\n",
       "      <th></th>\n",
       "      <th>A</th>\n",
       "      <th>C</th>\n",
       "    </tr>\n",
       "  </thead>\n",
       "  <tbody>\n",
       "    <tr>\n",
       "      <th>2013-01-02</th>\n",
       "      <td>1.286976</td>\n",
       "      <td>1.805363</td>\n",
       "    </tr>\n",
       "    <tr>\n",
       "      <th>2013-01-03</th>\n",
       "      <td>2.139396</td>\n",
       "      <td>0.308157</td>\n",
       "    </tr>\n",
       "    <tr>\n",
       "      <th>2013-01-05</th>\n",
       "      <td>-0.271722</td>\n",
       "      <td>-0.404277</td>\n",
       "    </tr>\n",
       "  </tbody>\n",
       "</table>\n",
       "</div>"
      ],
      "text/plain": [
       "                   A         C\n",
       "2013-01-02  1.286976  1.805363\n",
       "2013-01-03  2.139396  0.308157\n",
       "2013-01-05 -0.271722 -0.404277"
      ]
     },
     "execution_count": 153,
     "metadata": {},
     "output_type": "execute_result"
    }
   ],
   "source": [
    "df.iloc[[1,2,4],[0,2]]"
   ]
  },
  {
   "cell_type": "markdown",
   "metadata": {},
   "source": [
    "For slicing rows explicitly"
   ]
  },
  {
   "cell_type": "code",
   "execution_count": 154,
   "metadata": {},
   "outputs": [
    {
     "data": {
      "text/html": [
       "<div>\n",
       "<style scoped>\n",
       "    .dataframe tbody tr th:only-of-type {\n",
       "        vertical-align: middle;\n",
       "    }\n",
       "\n",
       "    .dataframe tbody tr th {\n",
       "        vertical-align: top;\n",
       "    }\n",
       "\n",
       "    .dataframe thead th {\n",
       "        text-align: right;\n",
       "    }\n",
       "</style>\n",
       "<table border=\"1\" class=\"dataframe\">\n",
       "  <thead>\n",
       "    <tr style=\"text-align: right;\">\n",
       "      <th></th>\n",
       "      <th>A</th>\n",
       "      <th>B</th>\n",
       "      <th>C</th>\n",
       "      <th>D</th>\n",
       "    </tr>\n",
       "  </thead>\n",
       "  <tbody>\n",
       "    <tr>\n",
       "      <th>2013-01-02</th>\n",
       "      <td>1.286976</td>\n",
       "      <td>0.587120</td>\n",
       "      <td>1.805363</td>\n",
       "      <td>-0.615997</td>\n",
       "    </tr>\n",
       "    <tr>\n",
       "      <th>2013-01-03</th>\n",
       "      <td>2.139396</td>\n",
       "      <td>0.876003</td>\n",
       "      <td>0.308157</td>\n",
       "      <td>-0.328186</td>\n",
       "    </tr>\n",
       "  </tbody>\n",
       "</table>\n",
       "</div>"
      ],
      "text/plain": [
       "                   A         B         C         D\n",
       "2013-01-02  1.286976  0.587120  1.805363 -0.615997\n",
       "2013-01-03  2.139396  0.876003  0.308157 -0.328186"
      ]
     },
     "execution_count": 154,
     "metadata": {},
     "output_type": "execute_result"
    }
   ],
   "source": [
    "df.iloc[1:3,:]"
   ]
  },
  {
   "cell_type": "markdown",
   "metadata": {},
   "source": [
    "For slicing columns explicitly"
   ]
  },
  {
   "cell_type": "code",
   "execution_count": 155,
   "metadata": {
    "scrolled": true
   },
   "outputs": [
    {
     "data": {
      "text/html": [
       "<div>\n",
       "<style scoped>\n",
       "    .dataframe tbody tr th:only-of-type {\n",
       "        vertical-align: middle;\n",
       "    }\n",
       "\n",
       "    .dataframe tbody tr th {\n",
       "        vertical-align: top;\n",
       "    }\n",
       "\n",
       "    .dataframe thead th {\n",
       "        text-align: right;\n",
       "    }\n",
       "</style>\n",
       "<table border=\"1\" class=\"dataframe\">\n",
       "  <thead>\n",
       "    <tr style=\"text-align: right;\">\n",
       "      <th></th>\n",
       "      <th>B</th>\n",
       "      <th>C</th>\n",
       "    </tr>\n",
       "  </thead>\n",
       "  <tbody>\n",
       "    <tr>\n",
       "      <th>2013-01-01</th>\n",
       "      <td>0.540862</td>\n",
       "      <td>0.279680</td>\n",
       "    </tr>\n",
       "    <tr>\n",
       "      <th>2013-01-02</th>\n",
       "      <td>0.587120</td>\n",
       "      <td>1.805363</td>\n",
       "    </tr>\n",
       "    <tr>\n",
       "      <th>2013-01-03</th>\n",
       "      <td>0.876003</td>\n",
       "      <td>0.308157</td>\n",
       "    </tr>\n",
       "    <tr>\n",
       "      <th>2013-01-04</th>\n",
       "      <td>1.274901</td>\n",
       "      <td>-0.317435</td>\n",
       "    </tr>\n",
       "    <tr>\n",
       "      <th>2013-01-05</th>\n",
       "      <td>-0.007324</td>\n",
       "      <td>-0.404277</td>\n",
       "    </tr>\n",
       "    <tr>\n",
       "      <th>2013-01-06</th>\n",
       "      <td>-0.516964</td>\n",
       "      <td>-0.302451</td>\n",
       "    </tr>\n",
       "  </tbody>\n",
       "</table>\n",
       "</div>"
      ],
      "text/plain": [
       "                   B         C\n",
       "2013-01-01  0.540862  0.279680\n",
       "2013-01-02  0.587120  1.805363\n",
       "2013-01-03  0.876003  0.308157\n",
       "2013-01-04  1.274901 -0.317435\n",
       "2013-01-05 -0.007324 -0.404277\n",
       "2013-01-06 -0.516964 -0.302451"
      ]
     },
     "execution_count": 155,
     "metadata": {},
     "output_type": "execute_result"
    }
   ],
   "source": [
    "df.iloc[:,1:3]"
   ]
  },
  {
   "cell_type": "code",
   "execution_count": 156,
   "metadata": {},
   "outputs": [
    {
     "data": {
      "text/html": [
       "<div>\n",
       "<style scoped>\n",
       "    .dataframe tbody tr th:only-of-type {\n",
       "        vertical-align: middle;\n",
       "    }\n",
       "\n",
       "    .dataframe tbody tr th {\n",
       "        vertical-align: top;\n",
       "    }\n",
       "\n",
       "    .dataframe thead th {\n",
       "        text-align: right;\n",
       "    }\n",
       "</style>\n",
       "<table border=\"1\" class=\"dataframe\">\n",
       "  <thead>\n",
       "    <tr style=\"text-align: right;\">\n",
       "      <th></th>\n",
       "      <th>A</th>\n",
       "      <th>B</th>\n",
       "      <th>C</th>\n",
       "      <th>D</th>\n",
       "    </tr>\n",
       "  </thead>\n",
       "  <tbody>\n",
       "    <tr>\n",
       "      <th>2013-01-01</th>\n",
       "      <td>-0.312851</td>\n",
       "      <td>0.540862</td>\n",
       "      <td>0.279680</td>\n",
       "      <td>1.233861</td>\n",
       "    </tr>\n",
       "    <tr>\n",
       "      <th>2013-01-02</th>\n",
       "      <td>1.286976</td>\n",
       "      <td>0.587120</td>\n",
       "      <td>1.805363</td>\n",
       "      <td>-0.615997</td>\n",
       "    </tr>\n",
       "    <tr>\n",
       "      <th>2013-01-03</th>\n",
       "      <td>2.139396</td>\n",
       "      <td>0.876003</td>\n",
       "      <td>0.308157</td>\n",
       "      <td>-0.328186</td>\n",
       "    </tr>\n",
       "    <tr>\n",
       "      <th>2013-01-04</th>\n",
       "      <td>0.494930</td>\n",
       "      <td>1.274901</td>\n",
       "      <td>-0.317435</td>\n",
       "      <td>-0.193408</td>\n",
       "    </tr>\n",
       "    <tr>\n",
       "      <th>2013-01-05</th>\n",
       "      <td>-0.271722</td>\n",
       "      <td>-0.007324</td>\n",
       "      <td>-0.404277</td>\n",
       "      <td>0.314469</td>\n",
       "    </tr>\n",
       "    <tr>\n",
       "      <th>2013-01-06</th>\n",
       "      <td>-0.320006</td>\n",
       "      <td>-0.516964</td>\n",
       "      <td>-0.302451</td>\n",
       "      <td>0.489650</td>\n",
       "    </tr>\n",
       "  </tbody>\n",
       "</table>\n",
       "</div>"
      ],
      "text/plain": [
       "                   A         B         C         D\n",
       "2013-01-01 -0.312851  0.540862  0.279680  1.233861\n",
       "2013-01-02  1.286976  0.587120  1.805363 -0.615997\n",
       "2013-01-03  2.139396  0.876003  0.308157 -0.328186\n",
       "2013-01-04  0.494930  1.274901 -0.317435 -0.193408\n",
       "2013-01-05 -0.271722 -0.007324 -0.404277  0.314469\n",
       "2013-01-06 -0.320006 -0.516964 -0.302451  0.489650"
      ]
     },
     "execution_count": 156,
     "metadata": {},
     "output_type": "execute_result"
    }
   ],
   "source": [
    "df"
   ]
  },
  {
   "cell_type": "markdown",
   "metadata": {},
   "source": [
    "For getting a value explicitly"
   ]
  },
  {
   "cell_type": "code",
   "execution_count": 157,
   "metadata": {},
   "outputs": [
    {
     "data": {
      "text/plain": [
       "0.5871201671971592"
      ]
     },
     "execution_count": 157,
     "metadata": {},
     "output_type": "execute_result"
    }
   ],
   "source": [
    "df.iloc[1,1]"
   ]
  },
  {
   "cell_type": "markdown",
   "metadata": {},
   "source": [
    "For getting fast access to a scalar (equiv to the prior method)"
   ]
  },
  {
   "cell_type": "code",
   "execution_count": 158,
   "metadata": {},
   "outputs": [
    {
     "data": {
      "text/plain": [
       "0.5871201671971592"
      ]
     },
     "execution_count": 158,
     "metadata": {},
     "output_type": "execute_result"
    }
   ],
   "source": [
    "df.iat[1,1]"
   ]
  },
  {
   "cell_type": "code",
   "execution_count": 159,
   "metadata": {},
   "outputs": [],
   "source": [
    "#df.ix[1,1]"
   ]
  },
  {
   "cell_type": "markdown",
   "metadata": {},
   "source": [
    "### Boolean Indexing"
   ]
  },
  {
   "cell_type": "markdown",
   "metadata": {},
   "source": [
    "Using a single column’s values to select data."
   ]
  },
  {
   "cell_type": "code",
   "execution_count": 160,
   "metadata": {},
   "outputs": [
    {
     "data": {
      "text/html": [
       "<div>\n",
       "<style scoped>\n",
       "    .dataframe tbody tr th:only-of-type {\n",
       "        vertical-align: middle;\n",
       "    }\n",
       "\n",
       "    .dataframe tbody tr th {\n",
       "        vertical-align: top;\n",
       "    }\n",
       "\n",
       "    .dataframe thead th {\n",
       "        text-align: right;\n",
       "    }\n",
       "</style>\n",
       "<table border=\"1\" class=\"dataframe\">\n",
       "  <thead>\n",
       "    <tr style=\"text-align: right;\">\n",
       "      <th></th>\n",
       "      <th>A</th>\n",
       "      <th>B</th>\n",
       "      <th>C</th>\n",
       "      <th>D</th>\n",
       "    </tr>\n",
       "  </thead>\n",
       "  <tbody>\n",
       "    <tr>\n",
       "      <th>2013-01-01</th>\n",
       "      <td>-0.312851</td>\n",
       "      <td>0.540862</td>\n",
       "      <td>0.279680</td>\n",
       "      <td>1.233861</td>\n",
       "    </tr>\n",
       "    <tr>\n",
       "      <th>2013-01-02</th>\n",
       "      <td>1.286976</td>\n",
       "      <td>0.587120</td>\n",
       "      <td>1.805363</td>\n",
       "      <td>-0.615997</td>\n",
       "    </tr>\n",
       "    <tr>\n",
       "      <th>2013-01-03</th>\n",
       "      <td>2.139396</td>\n",
       "      <td>0.876003</td>\n",
       "      <td>0.308157</td>\n",
       "      <td>-0.328186</td>\n",
       "    </tr>\n",
       "    <tr>\n",
       "      <th>2013-01-04</th>\n",
       "      <td>0.494930</td>\n",
       "      <td>1.274901</td>\n",
       "      <td>-0.317435</td>\n",
       "      <td>-0.193408</td>\n",
       "    </tr>\n",
       "    <tr>\n",
       "      <th>2013-01-05</th>\n",
       "      <td>-0.271722</td>\n",
       "      <td>-0.007324</td>\n",
       "      <td>-0.404277</td>\n",
       "      <td>0.314469</td>\n",
       "    </tr>\n",
       "    <tr>\n",
       "      <th>2013-01-06</th>\n",
       "      <td>-0.320006</td>\n",
       "      <td>-0.516964</td>\n",
       "      <td>-0.302451</td>\n",
       "      <td>0.489650</td>\n",
       "    </tr>\n",
       "  </tbody>\n",
       "</table>\n",
       "</div>"
      ],
      "text/plain": [
       "                   A         B         C         D\n",
       "2013-01-01 -0.312851  0.540862  0.279680  1.233861\n",
       "2013-01-02  1.286976  0.587120  1.805363 -0.615997\n",
       "2013-01-03  2.139396  0.876003  0.308157 -0.328186\n",
       "2013-01-04  0.494930  1.274901 -0.317435 -0.193408\n",
       "2013-01-05 -0.271722 -0.007324 -0.404277  0.314469\n",
       "2013-01-06 -0.320006 -0.516964 -0.302451  0.489650"
      ]
     },
     "execution_count": 160,
     "metadata": {},
     "output_type": "execute_result"
    }
   ],
   "source": [
    "df"
   ]
  },
  {
   "cell_type": "code",
   "execution_count": 161,
   "metadata": {},
   "outputs": [
    {
     "data": {
      "text/plain": [
       "2013-01-01    False\n",
       "2013-01-02     True\n",
       "2013-01-03     True\n",
       "2013-01-04     True\n",
       "2013-01-05    False\n",
       "2013-01-06    False\n",
       "Name: A, dtype: bool"
      ]
     },
     "execution_count": 161,
     "metadata": {},
     "output_type": "execute_result"
    }
   ],
   "source": [
    "df.A > 0"
   ]
  },
  {
   "cell_type": "code",
   "execution_count": 162,
   "metadata": {
    "scrolled": false
   },
   "outputs": [
    {
     "data": {
      "text/html": [
       "<div>\n",
       "<style scoped>\n",
       "    .dataframe tbody tr th:only-of-type {\n",
       "        vertical-align: middle;\n",
       "    }\n",
       "\n",
       "    .dataframe tbody tr th {\n",
       "        vertical-align: top;\n",
       "    }\n",
       "\n",
       "    .dataframe thead th {\n",
       "        text-align: right;\n",
       "    }\n",
       "</style>\n",
       "<table border=\"1\" class=\"dataframe\">\n",
       "  <thead>\n",
       "    <tr style=\"text-align: right;\">\n",
       "      <th></th>\n",
       "      <th>A</th>\n",
       "      <th>B</th>\n",
       "      <th>C</th>\n",
       "      <th>D</th>\n",
       "    </tr>\n",
       "  </thead>\n",
       "  <tbody>\n",
       "    <tr>\n",
       "      <th>2013-01-02</th>\n",
       "      <td>1.286976</td>\n",
       "      <td>0.587120</td>\n",
       "      <td>1.805363</td>\n",
       "      <td>-0.615997</td>\n",
       "    </tr>\n",
       "    <tr>\n",
       "      <th>2013-01-03</th>\n",
       "      <td>2.139396</td>\n",
       "      <td>0.876003</td>\n",
       "      <td>0.308157</td>\n",
       "      <td>-0.328186</td>\n",
       "    </tr>\n",
       "    <tr>\n",
       "      <th>2013-01-04</th>\n",
       "      <td>0.494930</td>\n",
       "      <td>1.274901</td>\n",
       "      <td>-0.317435</td>\n",
       "      <td>-0.193408</td>\n",
       "    </tr>\n",
       "  </tbody>\n",
       "</table>\n",
       "</div>"
      ],
      "text/plain": [
       "                   A         B         C         D\n",
       "2013-01-02  1.286976  0.587120  1.805363 -0.615997\n",
       "2013-01-03  2.139396  0.876003  0.308157 -0.328186\n",
       "2013-01-04  0.494930  1.274901 -0.317435 -0.193408"
      ]
     },
     "execution_count": 162,
     "metadata": {},
     "output_type": "execute_result"
    }
   ],
   "source": [
    "df[df.A > 0]"
   ]
  },
  {
   "cell_type": "code",
   "execution_count": 163,
   "metadata": {},
   "outputs": [
    {
     "data": {
      "text/plain": [
       "True"
      ]
     },
     "execution_count": 163,
     "metadata": {},
     "output_type": "execute_result"
    }
   ],
   "source": [
    "True | True"
   ]
  },
  {
   "cell_type": "code",
   "execution_count": 164,
   "metadata": {},
   "outputs": [
    {
     "data": {
      "text/html": [
       "<div>\n",
       "<style scoped>\n",
       "    .dataframe tbody tr th:only-of-type {\n",
       "        vertical-align: middle;\n",
       "    }\n",
       "\n",
       "    .dataframe tbody tr th {\n",
       "        vertical-align: top;\n",
       "    }\n",
       "\n",
       "    .dataframe thead th {\n",
       "        text-align: right;\n",
       "    }\n",
       "</style>\n",
       "<table border=\"1\" class=\"dataframe\">\n",
       "  <thead>\n",
       "    <tr style=\"text-align: right;\">\n",
       "      <th></th>\n",
       "      <th>A</th>\n",
       "      <th>B</th>\n",
       "      <th>C</th>\n",
       "      <th>D</th>\n",
       "    </tr>\n",
       "  </thead>\n",
       "  <tbody>\n",
       "    <tr>\n",
       "      <th>2013-01-02</th>\n",
       "      <td>1.286976</td>\n",
       "      <td>0.587120</td>\n",
       "      <td>1.805363</td>\n",
       "      <td>-0.615997</td>\n",
       "    </tr>\n",
       "    <tr>\n",
       "      <th>2013-01-03</th>\n",
       "      <td>2.139396</td>\n",
       "      <td>0.876003</td>\n",
       "      <td>0.308157</td>\n",
       "      <td>-0.328186</td>\n",
       "    </tr>\n",
       "    <tr>\n",
       "      <th>2013-01-04</th>\n",
       "      <td>0.494930</td>\n",
       "      <td>1.274901</td>\n",
       "      <td>-0.317435</td>\n",
       "      <td>-0.193408</td>\n",
       "    </tr>\n",
       "  </tbody>\n",
       "</table>\n",
       "</div>"
      ],
      "text/plain": [
       "                   A         B         C         D\n",
       "2013-01-02  1.286976  0.587120  1.805363 -0.615997\n",
       "2013-01-03  2.139396  0.876003  0.308157 -0.328186\n",
       "2013-01-04  0.494930  1.274901 -0.317435 -0.193408"
      ]
     },
     "execution_count": 164,
     "metadata": {},
     "output_type": "execute_result"
    }
   ],
   "source": [
    "df[(df.A > 0) & (df.B>-1)]"
   ]
  },
  {
   "cell_type": "code",
   "execution_count": 165,
   "metadata": {
    "scrolled": true
   },
   "outputs": [
    {
     "data": {
      "text/html": [
       "<div>\n",
       "<style scoped>\n",
       "    .dataframe tbody tr th:only-of-type {\n",
       "        vertical-align: middle;\n",
       "    }\n",
       "\n",
       "    .dataframe tbody tr th {\n",
       "        vertical-align: top;\n",
       "    }\n",
       "\n",
       "    .dataframe thead th {\n",
       "        text-align: right;\n",
       "    }\n",
       "</style>\n",
       "<table border=\"1\" class=\"dataframe\">\n",
       "  <thead>\n",
       "    <tr style=\"text-align: right;\">\n",
       "      <th></th>\n",
       "      <th>A</th>\n",
       "      <th>B</th>\n",
       "      <th>C</th>\n",
       "      <th>D</th>\n",
       "    </tr>\n",
       "  </thead>\n",
       "  <tbody>\n",
       "    <tr>\n",
       "      <th>2013-01-01</th>\n",
       "      <td>-0.312851</td>\n",
       "      <td>0.540862</td>\n",
       "      <td>0.279680</td>\n",
       "      <td>1.233861</td>\n",
       "    </tr>\n",
       "    <tr>\n",
       "      <th>2013-01-02</th>\n",
       "      <td>1.286976</td>\n",
       "      <td>0.587120</td>\n",
       "      <td>1.805363</td>\n",
       "      <td>-0.615997</td>\n",
       "    </tr>\n",
       "    <tr>\n",
       "      <th>2013-01-03</th>\n",
       "      <td>2.139396</td>\n",
       "      <td>0.876003</td>\n",
       "      <td>0.308157</td>\n",
       "      <td>-0.328186</td>\n",
       "    </tr>\n",
       "    <tr>\n",
       "      <th>2013-01-04</th>\n",
       "      <td>0.494930</td>\n",
       "      <td>1.274901</td>\n",
       "      <td>-0.317435</td>\n",
       "      <td>-0.193408</td>\n",
       "    </tr>\n",
       "    <tr>\n",
       "      <th>2013-01-05</th>\n",
       "      <td>-0.271722</td>\n",
       "      <td>-0.007324</td>\n",
       "      <td>-0.404277</td>\n",
       "      <td>0.314469</td>\n",
       "    </tr>\n",
       "    <tr>\n",
       "      <th>2013-01-06</th>\n",
       "      <td>-0.320006</td>\n",
       "      <td>-0.516964</td>\n",
       "      <td>-0.302451</td>\n",
       "      <td>0.489650</td>\n",
       "    </tr>\n",
       "  </tbody>\n",
       "</table>\n",
       "</div>"
      ],
      "text/plain": [
       "                   A         B         C         D\n",
       "2013-01-01 -0.312851  0.540862  0.279680  1.233861\n",
       "2013-01-02  1.286976  0.587120  1.805363 -0.615997\n",
       "2013-01-03  2.139396  0.876003  0.308157 -0.328186\n",
       "2013-01-04  0.494930  1.274901 -0.317435 -0.193408\n",
       "2013-01-05 -0.271722 -0.007324 -0.404277  0.314469\n",
       "2013-01-06 -0.320006 -0.516964 -0.302451  0.489650"
      ]
     },
     "execution_count": 165,
     "metadata": {},
     "output_type": "execute_result"
    }
   ],
   "source": [
    "df[(df.A > 0) | (df.B>-1)]"
   ]
  },
  {
   "cell_type": "markdown",
   "metadata": {},
   "source": [
    "A `where` operation for getting."
   ]
  },
  {
   "cell_type": "code",
   "execution_count": 166,
   "metadata": {},
   "outputs": [
    {
     "data": {
      "text/html": [
       "<div>\n",
       "<style scoped>\n",
       "    .dataframe tbody tr th:only-of-type {\n",
       "        vertical-align: middle;\n",
       "    }\n",
       "\n",
       "    .dataframe tbody tr th {\n",
       "        vertical-align: top;\n",
       "    }\n",
       "\n",
       "    .dataframe thead th {\n",
       "        text-align: right;\n",
       "    }\n",
       "</style>\n",
       "<table border=\"1\" class=\"dataframe\">\n",
       "  <thead>\n",
       "    <tr style=\"text-align: right;\">\n",
       "      <th></th>\n",
       "      <th>A</th>\n",
       "      <th>B</th>\n",
       "      <th>C</th>\n",
       "      <th>D</th>\n",
       "    </tr>\n",
       "  </thead>\n",
       "  <tbody>\n",
       "    <tr>\n",
       "      <th>2013-01-01</th>\n",
       "      <td>False</td>\n",
       "      <td>True</td>\n",
       "      <td>True</td>\n",
       "      <td>True</td>\n",
       "    </tr>\n",
       "    <tr>\n",
       "      <th>2013-01-02</th>\n",
       "      <td>True</td>\n",
       "      <td>True</td>\n",
       "      <td>True</td>\n",
       "      <td>False</td>\n",
       "    </tr>\n",
       "    <tr>\n",
       "      <th>2013-01-03</th>\n",
       "      <td>True</td>\n",
       "      <td>True</td>\n",
       "      <td>True</td>\n",
       "      <td>False</td>\n",
       "    </tr>\n",
       "    <tr>\n",
       "      <th>2013-01-04</th>\n",
       "      <td>True</td>\n",
       "      <td>True</td>\n",
       "      <td>False</td>\n",
       "      <td>False</td>\n",
       "    </tr>\n",
       "    <tr>\n",
       "      <th>2013-01-05</th>\n",
       "      <td>False</td>\n",
       "      <td>False</td>\n",
       "      <td>False</td>\n",
       "      <td>True</td>\n",
       "    </tr>\n",
       "    <tr>\n",
       "      <th>2013-01-06</th>\n",
       "      <td>False</td>\n",
       "      <td>False</td>\n",
       "      <td>False</td>\n",
       "      <td>True</td>\n",
       "    </tr>\n",
       "  </tbody>\n",
       "</table>\n",
       "</div>"
      ],
      "text/plain": [
       "                A      B      C      D\n",
       "2013-01-01  False   True   True   True\n",
       "2013-01-02   True   True   True  False\n",
       "2013-01-03   True   True   True  False\n",
       "2013-01-04   True   True  False  False\n",
       "2013-01-05  False  False  False   True\n",
       "2013-01-06  False  False  False   True"
      ]
     },
     "execution_count": 166,
     "metadata": {},
     "output_type": "execute_result"
    }
   ],
   "source": [
    "df > 0"
   ]
  },
  {
   "cell_type": "code",
   "execution_count": 167,
   "metadata": {},
   "outputs": [
    {
     "data": {
      "text/html": [
       "<div>\n",
       "<style scoped>\n",
       "    .dataframe tbody tr th:only-of-type {\n",
       "        vertical-align: middle;\n",
       "    }\n",
       "\n",
       "    .dataframe tbody tr th {\n",
       "        vertical-align: top;\n",
       "    }\n",
       "\n",
       "    .dataframe thead th {\n",
       "        text-align: right;\n",
       "    }\n",
       "</style>\n",
       "<table border=\"1\" class=\"dataframe\">\n",
       "  <thead>\n",
       "    <tr style=\"text-align: right;\">\n",
       "      <th></th>\n",
       "      <th>A</th>\n",
       "      <th>B</th>\n",
       "      <th>C</th>\n",
       "      <th>D</th>\n",
       "    </tr>\n",
       "  </thead>\n",
       "  <tbody>\n",
       "    <tr>\n",
       "      <th>2013-01-01</th>\n",
       "      <td>NaN</td>\n",
       "      <td>0.540862</td>\n",
       "      <td>0.279680</td>\n",
       "      <td>1.233861</td>\n",
       "    </tr>\n",
       "    <tr>\n",
       "      <th>2013-01-02</th>\n",
       "      <td>1.286976</td>\n",
       "      <td>0.587120</td>\n",
       "      <td>1.805363</td>\n",
       "      <td>-0.615997</td>\n",
       "    </tr>\n",
       "    <tr>\n",
       "      <th>2013-01-03</th>\n",
       "      <td>2.139396</td>\n",
       "      <td>0.876003</td>\n",
       "      <td>0.308157</td>\n",
       "      <td>-0.328186</td>\n",
       "    </tr>\n",
       "    <tr>\n",
       "      <th>2013-01-04</th>\n",
       "      <td>0.494930</td>\n",
       "      <td>1.274901</td>\n",
       "      <td>-0.317435</td>\n",
       "      <td>-0.193408</td>\n",
       "    </tr>\n",
       "    <tr>\n",
       "      <th>2013-01-05</th>\n",
       "      <td>-0.271722</td>\n",
       "      <td>-0.007324</td>\n",
       "      <td>-0.404277</td>\n",
       "      <td>0.314469</td>\n",
       "    </tr>\n",
       "    <tr>\n",
       "      <th>2013-01-06</th>\n",
       "      <td>-0.320006</td>\n",
       "      <td>-0.516964</td>\n",
       "      <td>-0.302451</td>\n",
       "      <td>0.489650</td>\n",
       "    </tr>\n",
       "  </tbody>\n",
       "</table>\n",
       "</div>"
      ],
      "text/plain": [
       "                   A         B         C         D\n",
       "2013-01-01       NaN  0.540862  0.279680  1.233861\n",
       "2013-01-02  1.286976  0.587120  1.805363 -0.615997\n",
       "2013-01-03  2.139396  0.876003  0.308157 -0.328186\n",
       "2013-01-04  0.494930  1.274901 -0.317435 -0.193408\n",
       "2013-01-05 -0.271722 -0.007324 -0.404277  0.314469\n",
       "2013-01-06 -0.320006 -0.516964 -0.302451  0.489650"
      ]
     },
     "execution_count": 167,
     "metadata": {},
     "output_type": "execute_result"
    }
   ],
   "source": [
    "\n",
    "df.iloc[0,0]=np.nan\n",
    "\n",
    "df"
   ]
  },
  {
   "cell_type": "code",
   "execution_count": 168,
   "metadata": {},
   "outputs": [
    {
     "data": {
      "text/plain": [
       "False"
      ]
     },
     "execution_count": 168,
     "metadata": {},
     "output_type": "execute_result"
    }
   ],
   "source": [
    "df.iloc[0,0]==np.nan"
   ]
  },
  {
   "cell_type": "code",
   "execution_count": 169,
   "metadata": {},
   "outputs": [
    {
     "data": {
      "text/plain": [
       "False"
      ]
     },
     "execution_count": 169,
     "metadata": {},
     "output_type": "execute_result"
    }
   ],
   "source": [
    "np.nan==None"
   ]
  },
  {
   "cell_type": "code",
   "execution_count": 170,
   "metadata": {},
   "outputs": [
    {
     "data": {
      "text/plain": [
       "False"
      ]
     },
     "execution_count": 170,
     "metadata": {},
     "output_type": "execute_result"
    }
   ],
   "source": [
    "np.nan==np.nan"
   ]
  },
  {
   "cell_type": "code",
   "execution_count": 171,
   "metadata": {},
   "outputs": [
    {
     "data": {
      "text/plain": [
       "True"
      ]
     },
     "execution_count": 171,
     "metadata": {},
     "output_type": "execute_result"
    }
   ],
   "source": [
    "np.isnan(np.nan)"
   ]
  },
  {
   "cell_type": "code",
   "execution_count": 172,
   "metadata": {},
   "outputs": [
    {
     "data": {
      "text/plain": [
       "True"
      ]
     },
     "execution_count": 172,
     "metadata": {},
     "output_type": "execute_result"
    }
   ],
   "source": [
    "np.isnan(df.iloc[0,0])"
   ]
  },
  {
   "cell_type": "code",
   "execution_count": 173,
   "metadata": {},
   "outputs": [
    {
     "data": {
      "text/plain": [
       "True"
      ]
     },
     "execution_count": 173,
     "metadata": {},
     "output_type": "execute_result"
    }
   ],
   "source": [
    "np.isnan(df[df > 0].iloc[0,0])"
   ]
  },
  {
   "cell_type": "code",
   "execution_count": 174,
   "metadata": {},
   "outputs": [
    {
     "data": {
      "text/plain": [
       "nan"
      ]
     },
     "execution_count": 174,
     "metadata": {},
     "output_type": "execute_result"
    }
   ],
   "source": [
    "df[df > 0].iloc[0,0]"
   ]
  },
  {
   "cell_type": "code",
   "execution_count": 175,
   "metadata": {},
   "outputs": [
    {
     "data": {
      "text/plain": [
       "True"
      ]
     },
     "execution_count": 175,
     "metadata": {},
     "output_type": "execute_result"
    }
   ],
   "source": [
    "None==None"
   ]
  },
  {
   "cell_type": "markdown",
   "metadata": {},
   "source": [
    "### Using the isin() method for filtering:"
   ]
  },
  {
   "cell_type": "markdown",
   "metadata": {},
   "source": [
    "Series.isin(values)\n",
    "Return a boolean Series showing whether each element in the Series is exactly contained in the passed sequence of values.\n",
    "    \n",
    "    \n",
    "Parameters:\t\n",
    "\n",
    "values : set or list-like: The sequence of values to test. Passing in a single string will raise a TypeError. Instead, turn a single string into a list of one element.\n",
    "\n",
    "  \n",
    "Returns: isin : Series (bool dtype)\n",
    "\n",
    "Raises:\tTypeError: If values is a string\n",
    "\n"
   ]
  },
  {
   "cell_type": "code",
   "execution_count": 176,
   "metadata": {},
   "outputs": [
    {
     "data": {
      "text/html": [
       "<div>\n",
       "<style scoped>\n",
       "    .dataframe tbody tr th:only-of-type {\n",
       "        vertical-align: middle;\n",
       "    }\n",
       "\n",
       "    .dataframe tbody tr th {\n",
       "        vertical-align: top;\n",
       "    }\n",
       "\n",
       "    .dataframe thead th {\n",
       "        text-align: right;\n",
       "    }\n",
       "</style>\n",
       "<table border=\"1\" class=\"dataframe\">\n",
       "  <thead>\n",
       "    <tr style=\"text-align: right;\">\n",
       "      <th></th>\n",
       "      <th>A</th>\n",
       "      <th>B</th>\n",
       "      <th>C</th>\n",
       "      <th>D</th>\n",
       "    </tr>\n",
       "  </thead>\n",
       "  <tbody>\n",
       "    <tr>\n",
       "      <th>2013-01-01</th>\n",
       "      <td>NaN</td>\n",
       "      <td>0.540862</td>\n",
       "      <td>0.279680</td>\n",
       "      <td>1.233861</td>\n",
       "    </tr>\n",
       "    <tr>\n",
       "      <th>2013-01-02</th>\n",
       "      <td>1.286976</td>\n",
       "      <td>0.587120</td>\n",
       "      <td>1.805363</td>\n",
       "      <td>-0.615997</td>\n",
       "    </tr>\n",
       "    <tr>\n",
       "      <th>2013-01-03</th>\n",
       "      <td>2.139396</td>\n",
       "      <td>0.876003</td>\n",
       "      <td>0.308157</td>\n",
       "      <td>-0.328186</td>\n",
       "    </tr>\n",
       "    <tr>\n",
       "      <th>2013-01-04</th>\n",
       "      <td>0.494930</td>\n",
       "      <td>1.274901</td>\n",
       "      <td>-0.317435</td>\n",
       "      <td>-0.193408</td>\n",
       "    </tr>\n",
       "    <tr>\n",
       "      <th>2013-01-05</th>\n",
       "      <td>-0.271722</td>\n",
       "      <td>-0.007324</td>\n",
       "      <td>-0.404277</td>\n",
       "      <td>0.314469</td>\n",
       "    </tr>\n",
       "    <tr>\n",
       "      <th>2013-01-06</th>\n",
       "      <td>-0.320006</td>\n",
       "      <td>-0.516964</td>\n",
       "      <td>-0.302451</td>\n",
       "      <td>0.489650</td>\n",
       "    </tr>\n",
       "  </tbody>\n",
       "</table>\n",
       "</div>"
      ],
      "text/plain": [
       "                   A         B         C         D\n",
       "2013-01-01       NaN  0.540862  0.279680  1.233861\n",
       "2013-01-02  1.286976  0.587120  1.805363 -0.615997\n",
       "2013-01-03  2.139396  0.876003  0.308157 -0.328186\n",
       "2013-01-04  0.494930  1.274901 -0.317435 -0.193408\n",
       "2013-01-05 -0.271722 -0.007324 -0.404277  0.314469\n",
       "2013-01-06 -0.320006 -0.516964 -0.302451  0.489650"
      ]
     },
     "execution_count": 176,
     "metadata": {},
     "output_type": "execute_result"
    }
   ],
   "source": [
    "df"
   ]
  },
  {
   "cell_type": "code",
   "execution_count": 177,
   "metadata": {},
   "outputs": [],
   "source": [
    "df2 = df.copy()"
   ]
  },
  {
   "cell_type": "code",
   "execution_count": null,
   "metadata": {},
   "outputs": [],
   "source": []
  },
  {
   "cell_type": "code",
   "execution_count": 178,
   "metadata": {},
   "outputs": [],
   "source": [
    "df2['E'] = ['one', 'one','two','three','four','three']"
   ]
  },
  {
   "cell_type": "code",
   "execution_count": 179,
   "metadata": {
    "scrolled": true
   },
   "outputs": [],
   "source": [
    "df2[\"this is name column\"]=[\"athul\", \"ujjal\", \"ayshwer\", \"binu\", \"brijesh\", \"manoj\"]"
   ]
  },
  {
   "cell_type": "code",
   "execution_count": 180,
   "metadata": {},
   "outputs": [
    {
     "data": {
      "text/html": [
       "<div>\n",
       "<style scoped>\n",
       "    .dataframe tbody tr th:only-of-type {\n",
       "        vertical-align: middle;\n",
       "    }\n",
       "\n",
       "    .dataframe tbody tr th {\n",
       "        vertical-align: top;\n",
       "    }\n",
       "\n",
       "    .dataframe thead th {\n",
       "        text-align: right;\n",
       "    }\n",
       "</style>\n",
       "<table border=\"1\" class=\"dataframe\">\n",
       "  <thead>\n",
       "    <tr style=\"text-align: right;\">\n",
       "      <th></th>\n",
       "      <th>A</th>\n",
       "      <th>B</th>\n",
       "      <th>C</th>\n",
       "      <th>D</th>\n",
       "      <th>E</th>\n",
       "      <th>this is name column</th>\n",
       "    </tr>\n",
       "  </thead>\n",
       "  <tbody>\n",
       "    <tr>\n",
       "      <th>2013-01-01</th>\n",
       "      <td>NaN</td>\n",
       "      <td>0.540862</td>\n",
       "      <td>0.279680</td>\n",
       "      <td>1.233861</td>\n",
       "      <td>one</td>\n",
       "      <td>athul</td>\n",
       "    </tr>\n",
       "    <tr>\n",
       "      <th>2013-01-02</th>\n",
       "      <td>1.286976</td>\n",
       "      <td>0.587120</td>\n",
       "      <td>1.805363</td>\n",
       "      <td>-0.615997</td>\n",
       "      <td>one</td>\n",
       "      <td>ujjal</td>\n",
       "    </tr>\n",
       "    <tr>\n",
       "      <th>2013-01-03</th>\n",
       "      <td>2.139396</td>\n",
       "      <td>0.876003</td>\n",
       "      <td>0.308157</td>\n",
       "      <td>-0.328186</td>\n",
       "      <td>two</td>\n",
       "      <td>ayshwer</td>\n",
       "    </tr>\n",
       "    <tr>\n",
       "      <th>2013-01-04</th>\n",
       "      <td>0.494930</td>\n",
       "      <td>1.274901</td>\n",
       "      <td>-0.317435</td>\n",
       "      <td>-0.193408</td>\n",
       "      <td>three</td>\n",
       "      <td>binu</td>\n",
       "    </tr>\n",
       "    <tr>\n",
       "      <th>2013-01-05</th>\n",
       "      <td>-0.271722</td>\n",
       "      <td>-0.007324</td>\n",
       "      <td>-0.404277</td>\n",
       "      <td>0.314469</td>\n",
       "      <td>four</td>\n",
       "      <td>brijesh</td>\n",
       "    </tr>\n",
       "    <tr>\n",
       "      <th>2013-01-06</th>\n",
       "      <td>-0.320006</td>\n",
       "      <td>-0.516964</td>\n",
       "      <td>-0.302451</td>\n",
       "      <td>0.489650</td>\n",
       "      <td>three</td>\n",
       "      <td>manoj</td>\n",
       "    </tr>\n",
       "  </tbody>\n",
       "</table>\n",
       "</div>"
      ],
      "text/plain": [
       "                   A         B         C         D      E this is name column\n",
       "2013-01-01       NaN  0.540862  0.279680  1.233861    one               athul\n",
       "2013-01-02  1.286976  0.587120  1.805363 -0.615997    one               ujjal\n",
       "2013-01-03  2.139396  0.876003  0.308157 -0.328186    two             ayshwer\n",
       "2013-01-04  0.494930  1.274901 -0.317435 -0.193408  three                binu\n",
       "2013-01-05 -0.271722 -0.007324 -0.404277  0.314469   four             brijesh\n",
       "2013-01-06 -0.320006 -0.516964 -0.302451  0.489650  three               manoj"
      ]
     },
     "execution_count": 180,
     "metadata": {},
     "output_type": "execute_result"
    }
   ],
   "source": [
    "df2"
   ]
  },
  {
   "cell_type": "code",
   "execution_count": 181,
   "metadata": {},
   "outputs": [
    {
     "data": {
      "text/plain": [
       "2013-01-01    False\n",
       "2013-01-02    False\n",
       "2013-01-03     True\n",
       "2013-01-04    False\n",
       "2013-01-05     True\n",
       "2013-01-06    False\n",
       "Name: E, dtype: bool"
      ]
     },
     "execution_count": 181,
     "metadata": {},
     "output_type": "execute_result"
    }
   ],
   "source": [
    "df2['E'].isin(['two','four'])"
   ]
  },
  {
   "cell_type": "code",
   "execution_count": 182,
   "metadata": {},
   "outputs": [
    {
     "data": {
      "text/html": [
       "<div>\n",
       "<style scoped>\n",
       "    .dataframe tbody tr th:only-of-type {\n",
       "        vertical-align: middle;\n",
       "    }\n",
       "\n",
       "    .dataframe tbody tr th {\n",
       "        vertical-align: top;\n",
       "    }\n",
       "\n",
       "    .dataframe thead th {\n",
       "        text-align: right;\n",
       "    }\n",
       "</style>\n",
       "<table border=\"1\" class=\"dataframe\">\n",
       "  <thead>\n",
       "    <tr style=\"text-align: right;\">\n",
       "      <th></th>\n",
       "      <th>A</th>\n",
       "      <th>B</th>\n",
       "      <th>C</th>\n",
       "      <th>D</th>\n",
       "      <th>E</th>\n",
       "      <th>this is name column</th>\n",
       "    </tr>\n",
       "  </thead>\n",
       "  <tbody>\n",
       "    <tr>\n",
       "      <th>2013-01-03</th>\n",
       "      <td>2.139396</td>\n",
       "      <td>0.876003</td>\n",
       "      <td>0.308157</td>\n",
       "      <td>-0.328186</td>\n",
       "      <td>two</td>\n",
       "      <td>ayshwer</td>\n",
       "    </tr>\n",
       "    <tr>\n",
       "      <th>2013-01-05</th>\n",
       "      <td>-0.271722</td>\n",
       "      <td>-0.007324</td>\n",
       "      <td>-0.404277</td>\n",
       "      <td>0.314469</td>\n",
       "      <td>four</td>\n",
       "      <td>brijesh</td>\n",
       "    </tr>\n",
       "  </tbody>\n",
       "</table>\n",
       "</div>"
      ],
      "text/plain": [
       "                   A         B         C         D     E this is name column\n",
       "2013-01-03  2.139396  0.876003  0.308157 -0.328186   two             ayshwer\n",
       "2013-01-05 -0.271722 -0.007324 -0.404277  0.314469  four             brijesh"
      ]
     },
     "execution_count": 182,
     "metadata": {},
     "output_type": "execute_result"
    }
   ],
   "source": [
    "df2[df2['E'].isin(['two','four'])]"
   ]
  },
  {
   "cell_type": "code",
   "execution_count": 183,
   "metadata": {},
   "outputs": [
    {
     "data": {
      "text/html": [
       "<div>\n",
       "<style scoped>\n",
       "    .dataframe tbody tr th:only-of-type {\n",
       "        vertical-align: middle;\n",
       "    }\n",
       "\n",
       "    .dataframe tbody tr th {\n",
       "        vertical-align: top;\n",
       "    }\n",
       "\n",
       "    .dataframe thead th {\n",
       "        text-align: right;\n",
       "    }\n",
       "</style>\n",
       "<table border=\"1\" class=\"dataframe\">\n",
       "  <thead>\n",
       "    <tr style=\"text-align: right;\">\n",
       "      <th></th>\n",
       "      <th>A</th>\n",
       "      <th>B</th>\n",
       "      <th>C</th>\n",
       "      <th>D</th>\n",
       "      <th>E</th>\n",
       "      <th>this is name column</th>\n",
       "    </tr>\n",
       "  </thead>\n",
       "  <tbody>\n",
       "    <tr>\n",
       "      <th>2013-01-02</th>\n",
       "      <td>1.286976</td>\n",
       "      <td>0.587120</td>\n",
       "      <td>1.805363</td>\n",
       "      <td>-0.615997</td>\n",
       "      <td>one</td>\n",
       "      <td>ujjal</td>\n",
       "    </tr>\n",
       "    <tr>\n",
       "      <th>2013-01-03</th>\n",
       "      <td>2.139396</td>\n",
       "      <td>0.876003</td>\n",
       "      <td>0.308157</td>\n",
       "      <td>-0.328186</td>\n",
       "      <td>two</td>\n",
       "      <td>ayshwer</td>\n",
       "    </tr>\n",
       "    <tr>\n",
       "      <th>2013-01-05</th>\n",
       "      <td>-0.271722</td>\n",
       "      <td>-0.007324</td>\n",
       "      <td>-0.404277</td>\n",
       "      <td>0.314469</td>\n",
       "      <td>four</td>\n",
       "      <td>brijesh</td>\n",
       "    </tr>\n",
       "  </tbody>\n",
       "</table>\n",
       "</div>"
      ],
      "text/plain": [
       "                   A         B         C         D     E this is name column\n",
       "2013-01-02  1.286976  0.587120  1.805363 -0.615997   one               ujjal\n",
       "2013-01-03  2.139396  0.876003  0.308157 -0.328186   two             ayshwer\n",
       "2013-01-05 -0.271722 -0.007324 -0.404277  0.314469  four             brijesh"
      ]
     },
     "execution_count": 183,
     "metadata": {},
     "output_type": "execute_result"
    }
   ],
   "source": [
    "df2[(df2[\"A\"]>1) | (df2['E'].isin(['two','four']))]"
   ]
  },
  {
   "cell_type": "code",
   "execution_count": 184,
   "metadata": {},
   "outputs": [
    {
     "data": {
      "text/html": [
       "<div>\n",
       "<style scoped>\n",
       "    .dataframe tbody tr th:only-of-type {\n",
       "        vertical-align: middle;\n",
       "    }\n",
       "\n",
       "    .dataframe tbody tr th {\n",
       "        vertical-align: top;\n",
       "    }\n",
       "\n",
       "    .dataframe thead th {\n",
       "        text-align: right;\n",
       "    }\n",
       "</style>\n",
       "<table border=\"1\" class=\"dataframe\">\n",
       "  <thead>\n",
       "    <tr style=\"text-align: right;\">\n",
       "      <th></th>\n",
       "      <th>A</th>\n",
       "      <th>B</th>\n",
       "      <th>C</th>\n",
       "      <th>D</th>\n",
       "      <th>E</th>\n",
       "      <th>this is name column</th>\n",
       "    </tr>\n",
       "  </thead>\n",
       "  <tbody>\n",
       "    <tr>\n",
       "      <th>2013-01-03</th>\n",
       "      <td>2.139396</td>\n",
       "      <td>0.876003</td>\n",
       "      <td>0.308157</td>\n",
       "      <td>-0.328186</td>\n",
       "      <td>two</td>\n",
       "      <td>ayshwer</td>\n",
       "    </tr>\n",
       "  </tbody>\n",
       "</table>\n",
       "</div>"
      ],
      "text/plain": [
       "                   A         B         C         D    E this is name column\n",
       "2013-01-03  2.139396  0.876003  0.308157 -0.328186  two             ayshwer"
      ]
     },
     "execution_count": 184,
     "metadata": {},
     "output_type": "execute_result"
    }
   ],
   "source": [
    "df2[(df2[\"A\"]>1) & (df2['E'].isin(['two','four']))]"
   ]
  },
  {
   "cell_type": "markdown",
   "metadata": {},
   "source": [
    "### Setting"
   ]
  },
  {
   "cell_type": "markdown",
   "metadata": {},
   "source": [
    "Setting a new column automatically aligns the data by the indexes"
   ]
  },
  {
   "cell_type": "code",
   "execution_count": 185,
   "metadata": {
    "scrolled": true
   },
   "outputs": [
    {
     "data": {
      "text/html": [
       "<div>\n",
       "<style scoped>\n",
       "    .dataframe tbody tr th:only-of-type {\n",
       "        vertical-align: middle;\n",
       "    }\n",
       "\n",
       "    .dataframe tbody tr th {\n",
       "        vertical-align: top;\n",
       "    }\n",
       "\n",
       "    .dataframe thead th {\n",
       "        text-align: right;\n",
       "    }\n",
       "</style>\n",
       "<table border=\"1\" class=\"dataframe\">\n",
       "  <thead>\n",
       "    <tr style=\"text-align: right;\">\n",
       "      <th></th>\n",
       "      <th>A</th>\n",
       "      <th>B</th>\n",
       "      <th>C</th>\n",
       "      <th>D</th>\n",
       "    </tr>\n",
       "  </thead>\n",
       "  <tbody>\n",
       "    <tr>\n",
       "      <th>2013-01-01</th>\n",
       "      <td>NaN</td>\n",
       "      <td>0.540862</td>\n",
       "      <td>0.279680</td>\n",
       "      <td>1.233861</td>\n",
       "    </tr>\n",
       "    <tr>\n",
       "      <th>2013-01-02</th>\n",
       "      <td>1.286976</td>\n",
       "      <td>0.587120</td>\n",
       "      <td>1.805363</td>\n",
       "      <td>-0.615997</td>\n",
       "    </tr>\n",
       "    <tr>\n",
       "      <th>2013-01-03</th>\n",
       "      <td>2.139396</td>\n",
       "      <td>0.876003</td>\n",
       "      <td>0.308157</td>\n",
       "      <td>-0.328186</td>\n",
       "    </tr>\n",
       "    <tr>\n",
       "      <th>2013-01-04</th>\n",
       "      <td>0.494930</td>\n",
       "      <td>1.274901</td>\n",
       "      <td>-0.317435</td>\n",
       "      <td>-0.193408</td>\n",
       "    </tr>\n",
       "    <tr>\n",
       "      <th>2013-01-05</th>\n",
       "      <td>-0.271722</td>\n",
       "      <td>-0.007324</td>\n",
       "      <td>-0.404277</td>\n",
       "      <td>0.314469</td>\n",
       "    </tr>\n",
       "    <tr>\n",
       "      <th>2013-01-06</th>\n",
       "      <td>-0.320006</td>\n",
       "      <td>-0.516964</td>\n",
       "      <td>-0.302451</td>\n",
       "      <td>0.489650</td>\n",
       "    </tr>\n",
       "  </tbody>\n",
       "</table>\n",
       "</div>"
      ],
      "text/plain": [
       "                   A         B         C         D\n",
       "2013-01-01       NaN  0.540862  0.279680  1.233861\n",
       "2013-01-02  1.286976  0.587120  1.805363 -0.615997\n",
       "2013-01-03  2.139396  0.876003  0.308157 -0.328186\n",
       "2013-01-04  0.494930  1.274901 -0.317435 -0.193408\n",
       "2013-01-05 -0.271722 -0.007324 -0.404277  0.314469\n",
       "2013-01-06 -0.320006 -0.516964 -0.302451  0.489650"
      ]
     },
     "execution_count": 185,
     "metadata": {},
     "output_type": "execute_result"
    }
   ],
   "source": [
    "df"
   ]
  },
  {
   "cell_type": "code",
   "execution_count": 186,
   "metadata": {},
   "outputs": [],
   "source": [
    "#df=df.sort_index(ascending=False)"
   ]
  },
  {
   "cell_type": "code",
   "execution_count": 187,
   "metadata": {},
   "outputs": [],
   "source": [
    "#df.sort_index(inplace=True, ascending=False)\n",
    "#df"
   ]
  },
  {
   "cell_type": "code",
   "execution_count": 188,
   "metadata": {},
   "outputs": [],
   "source": [
    "s1 = pd.Series([1,2,3,4,5,6], index=pd.date_range('20130102', periods=6))"
   ]
  },
  {
   "cell_type": "code",
   "execution_count": 189,
   "metadata": {},
   "outputs": [
    {
     "data": {
      "text/plain": [
       "DatetimeIndex(['2013-01-02', '2013-01-03', '2013-01-04', '2013-01-05',\n",
       "               '2013-01-06', '2013-01-07'],\n",
       "              dtype='datetime64[ns]', freq='D')"
      ]
     },
     "execution_count": 189,
     "metadata": {},
     "output_type": "execute_result"
    }
   ],
   "source": [
    "pd.date_range('20130102', periods=6)"
   ]
  },
  {
   "cell_type": "code",
   "execution_count": 190,
   "metadata": {},
   "outputs": [
    {
     "data": {
      "text/plain": [
       "2013-01-02    1\n",
       "2013-01-03    2\n",
       "2013-01-04    3\n",
       "2013-01-05    4\n",
       "2013-01-06    5\n",
       "2013-01-07    6\n",
       "Freq: D, dtype: int64"
      ]
     },
     "execution_count": 190,
     "metadata": {},
     "output_type": "execute_result"
    }
   ],
   "source": [
    "s1"
   ]
  },
  {
   "cell_type": "code",
   "execution_count": 191,
   "metadata": {},
   "outputs": [],
   "source": [
    "df['F'] = s1"
   ]
  },
  {
   "cell_type": "code",
   "execution_count": 192,
   "metadata": {
    "scrolled": true
   },
   "outputs": [
    {
     "data": {
      "text/html": [
       "<div>\n",
       "<style scoped>\n",
       "    .dataframe tbody tr th:only-of-type {\n",
       "        vertical-align: middle;\n",
       "    }\n",
       "\n",
       "    .dataframe tbody tr th {\n",
       "        vertical-align: top;\n",
       "    }\n",
       "\n",
       "    .dataframe thead th {\n",
       "        text-align: right;\n",
       "    }\n",
       "</style>\n",
       "<table border=\"1\" class=\"dataframe\">\n",
       "  <thead>\n",
       "    <tr style=\"text-align: right;\">\n",
       "      <th></th>\n",
       "      <th>A</th>\n",
       "      <th>B</th>\n",
       "      <th>C</th>\n",
       "      <th>D</th>\n",
       "      <th>F</th>\n",
       "    </tr>\n",
       "  </thead>\n",
       "  <tbody>\n",
       "    <tr>\n",
       "      <th>2013-01-01</th>\n",
       "      <td>NaN</td>\n",
       "      <td>0.540862</td>\n",
       "      <td>0.279680</td>\n",
       "      <td>1.233861</td>\n",
       "      <td>NaN</td>\n",
       "    </tr>\n",
       "    <tr>\n",
       "      <th>2013-01-02</th>\n",
       "      <td>1.286976</td>\n",
       "      <td>0.587120</td>\n",
       "      <td>1.805363</td>\n",
       "      <td>-0.615997</td>\n",
       "      <td>1.0</td>\n",
       "    </tr>\n",
       "    <tr>\n",
       "      <th>2013-01-03</th>\n",
       "      <td>2.139396</td>\n",
       "      <td>0.876003</td>\n",
       "      <td>0.308157</td>\n",
       "      <td>-0.328186</td>\n",
       "      <td>2.0</td>\n",
       "    </tr>\n",
       "    <tr>\n",
       "      <th>2013-01-04</th>\n",
       "      <td>0.494930</td>\n",
       "      <td>1.274901</td>\n",
       "      <td>-0.317435</td>\n",
       "      <td>-0.193408</td>\n",
       "      <td>3.0</td>\n",
       "    </tr>\n",
       "    <tr>\n",
       "      <th>2013-01-05</th>\n",
       "      <td>-0.271722</td>\n",
       "      <td>-0.007324</td>\n",
       "      <td>-0.404277</td>\n",
       "      <td>0.314469</td>\n",
       "      <td>4.0</td>\n",
       "    </tr>\n",
       "    <tr>\n",
       "      <th>2013-01-06</th>\n",
       "      <td>-0.320006</td>\n",
       "      <td>-0.516964</td>\n",
       "      <td>-0.302451</td>\n",
       "      <td>0.489650</td>\n",
       "      <td>5.0</td>\n",
       "    </tr>\n",
       "  </tbody>\n",
       "</table>\n",
       "</div>"
      ],
      "text/plain": [
       "                   A         B         C         D    F\n",
       "2013-01-01       NaN  0.540862  0.279680  1.233861  NaN\n",
       "2013-01-02  1.286976  0.587120  1.805363 -0.615997  1.0\n",
       "2013-01-03  2.139396  0.876003  0.308157 -0.328186  2.0\n",
       "2013-01-04  0.494930  1.274901 -0.317435 -0.193408  3.0\n",
       "2013-01-05 -0.271722 -0.007324 -0.404277  0.314469  4.0\n",
       "2013-01-06 -0.320006 -0.516964 -0.302451  0.489650  5.0"
      ]
     },
     "execution_count": 192,
     "metadata": {},
     "output_type": "execute_result"
    }
   ],
   "source": [
    "df"
   ]
  },
  {
   "cell_type": "markdown",
   "metadata": {},
   "source": [
    "Setting values by label"
   ]
  },
  {
   "cell_type": "code",
   "execution_count": 193,
   "metadata": {},
   "outputs": [
    {
     "data": {
      "text/html": [
       "<div>\n",
       "<style scoped>\n",
       "    .dataframe tbody tr th:only-of-type {\n",
       "        vertical-align: middle;\n",
       "    }\n",
       "\n",
       "    .dataframe tbody tr th {\n",
       "        vertical-align: top;\n",
       "    }\n",
       "\n",
       "    .dataframe thead th {\n",
       "        text-align: right;\n",
       "    }\n",
       "</style>\n",
       "<table border=\"1\" class=\"dataframe\">\n",
       "  <thead>\n",
       "    <tr style=\"text-align: right;\">\n",
       "      <th></th>\n",
       "      <th>A</th>\n",
       "      <th>B</th>\n",
       "      <th>C</th>\n",
       "      <th>D</th>\n",
       "      <th>F</th>\n",
       "    </tr>\n",
       "  </thead>\n",
       "  <tbody>\n",
       "    <tr>\n",
       "      <th>2013-01-01</th>\n",
       "      <td>0.000000</td>\n",
       "      <td>0.540862</td>\n",
       "      <td>0.279680</td>\n",
       "      <td>1.233861</td>\n",
       "      <td>NaN</td>\n",
       "    </tr>\n",
       "    <tr>\n",
       "      <th>2013-01-02</th>\n",
       "      <td>1.286976</td>\n",
       "      <td>0.587120</td>\n",
       "      <td>1.805363</td>\n",
       "      <td>-0.615997</td>\n",
       "      <td>1.0</td>\n",
       "    </tr>\n",
       "    <tr>\n",
       "      <th>2013-01-03</th>\n",
       "      <td>2.139396</td>\n",
       "      <td>0.876003</td>\n",
       "      <td>0.308157</td>\n",
       "      <td>-0.328186</td>\n",
       "      <td>2.0</td>\n",
       "    </tr>\n",
       "    <tr>\n",
       "      <th>2013-01-04</th>\n",
       "      <td>0.494930</td>\n",
       "      <td>1.274901</td>\n",
       "      <td>-0.317435</td>\n",
       "      <td>-0.193408</td>\n",
       "      <td>3.0</td>\n",
       "    </tr>\n",
       "    <tr>\n",
       "      <th>2013-01-05</th>\n",
       "      <td>-0.271722</td>\n",
       "      <td>-0.007324</td>\n",
       "      <td>-0.404277</td>\n",
       "      <td>0.314469</td>\n",
       "      <td>4.0</td>\n",
       "    </tr>\n",
       "    <tr>\n",
       "      <th>2013-01-06</th>\n",
       "      <td>-0.320006</td>\n",
       "      <td>-0.516964</td>\n",
       "      <td>-0.302451</td>\n",
       "      <td>0.489650</td>\n",
       "      <td>5.0</td>\n",
       "    </tr>\n",
       "  </tbody>\n",
       "</table>\n",
       "</div>"
      ],
      "text/plain": [
       "                   A         B         C         D    F\n",
       "2013-01-01  0.000000  0.540862  0.279680  1.233861  NaN\n",
       "2013-01-02  1.286976  0.587120  1.805363 -0.615997  1.0\n",
       "2013-01-03  2.139396  0.876003  0.308157 -0.328186  2.0\n",
       "2013-01-04  0.494930  1.274901 -0.317435 -0.193408  3.0\n",
       "2013-01-05 -0.271722 -0.007324 -0.404277  0.314469  4.0\n",
       "2013-01-06 -0.320006 -0.516964 -0.302451  0.489650  5.0"
      ]
     },
     "execution_count": 193,
     "metadata": {},
     "output_type": "execute_result"
    }
   ],
   "source": [
    "df.at[dates[0],'A'] =0\n",
    "df"
   ]
  },
  {
   "cell_type": "markdown",
   "metadata": {},
   "source": [
    "Setting values by position"
   ]
  },
  {
   "cell_type": "code",
   "execution_count": 194,
   "metadata": {},
   "outputs": [
    {
     "data": {
      "text/html": [
       "<div>\n",
       "<style scoped>\n",
       "    .dataframe tbody tr th:only-of-type {\n",
       "        vertical-align: middle;\n",
       "    }\n",
       "\n",
       "    .dataframe tbody tr th {\n",
       "        vertical-align: top;\n",
       "    }\n",
       "\n",
       "    .dataframe thead th {\n",
       "        text-align: right;\n",
       "    }\n",
       "</style>\n",
       "<table border=\"1\" class=\"dataframe\">\n",
       "  <thead>\n",
       "    <tr style=\"text-align: right;\">\n",
       "      <th></th>\n",
       "      <th>A</th>\n",
       "      <th>B</th>\n",
       "      <th>C</th>\n",
       "      <th>D</th>\n",
       "      <th>F</th>\n",
       "    </tr>\n",
       "  </thead>\n",
       "  <tbody>\n",
       "    <tr>\n",
       "      <th>2013-01-01</th>\n",
       "      <td>0.000000</td>\n",
       "      <td>0.000000</td>\n",
       "      <td>0.279680</td>\n",
       "      <td>1.233861</td>\n",
       "      <td>NaN</td>\n",
       "    </tr>\n",
       "    <tr>\n",
       "      <th>2013-01-02</th>\n",
       "      <td>1.286976</td>\n",
       "      <td>0.587120</td>\n",
       "      <td>1.805363</td>\n",
       "      <td>-0.615997</td>\n",
       "      <td>1.0</td>\n",
       "    </tr>\n",
       "    <tr>\n",
       "      <th>2013-01-03</th>\n",
       "      <td>2.139396</td>\n",
       "      <td>0.876003</td>\n",
       "      <td>0.308157</td>\n",
       "      <td>-0.328186</td>\n",
       "      <td>2.0</td>\n",
       "    </tr>\n",
       "    <tr>\n",
       "      <th>2013-01-04</th>\n",
       "      <td>0.494930</td>\n",
       "      <td>1.274901</td>\n",
       "      <td>-0.317435</td>\n",
       "      <td>-0.193408</td>\n",
       "      <td>3.0</td>\n",
       "    </tr>\n",
       "    <tr>\n",
       "      <th>2013-01-05</th>\n",
       "      <td>-0.271722</td>\n",
       "      <td>-0.007324</td>\n",
       "      <td>-0.404277</td>\n",
       "      <td>0.314469</td>\n",
       "      <td>4.0</td>\n",
       "    </tr>\n",
       "    <tr>\n",
       "      <th>2013-01-06</th>\n",
       "      <td>-0.320006</td>\n",
       "      <td>-0.516964</td>\n",
       "      <td>-0.302451</td>\n",
       "      <td>0.489650</td>\n",
       "      <td>5.0</td>\n",
       "    </tr>\n",
       "  </tbody>\n",
       "</table>\n",
       "</div>"
      ],
      "text/plain": [
       "                   A         B         C         D    F\n",
       "2013-01-01  0.000000  0.000000  0.279680  1.233861  NaN\n",
       "2013-01-02  1.286976  0.587120  1.805363 -0.615997  1.0\n",
       "2013-01-03  2.139396  0.876003  0.308157 -0.328186  2.0\n",
       "2013-01-04  0.494930  1.274901 -0.317435 -0.193408  3.0\n",
       "2013-01-05 -0.271722 -0.007324 -0.404277  0.314469  4.0\n",
       "2013-01-06 -0.320006 -0.516964 -0.302451  0.489650  5.0"
      ]
     },
     "execution_count": 194,
     "metadata": {},
     "output_type": "execute_result"
    }
   ],
   "source": [
    "df.iat[0,1] = 0\n",
    "df"
   ]
  },
  {
   "cell_type": "markdown",
   "metadata": {},
   "source": [
    "Setting by assigning with a numpy array"
   ]
  },
  {
   "cell_type": "code",
   "execution_count": 195,
   "metadata": {},
   "outputs": [
    {
     "data": {
      "text/plain": [
       "6"
      ]
     },
     "execution_count": 195,
     "metadata": {},
     "output_type": "execute_result"
    }
   ],
   "source": [
    "len(df)"
   ]
  },
  {
   "cell_type": "code",
   "execution_count": 196,
   "metadata": {},
   "outputs": [
    {
     "data": {
      "text/plain": [
       "array([5, 5, 5, 5, 5, 5])"
      ]
     },
     "execution_count": 196,
     "metadata": {},
     "output_type": "execute_result"
    }
   ],
   "source": [
    "np.array([5] * len(df))"
   ]
  },
  {
   "cell_type": "code",
   "execution_count": 197,
   "metadata": {},
   "outputs": [],
   "source": [
    "df.loc[:,'D'] = np.array([5] * len(df))"
   ]
  },
  {
   "cell_type": "markdown",
   "metadata": {},
   "source": [
    "The result of the prior setting operations"
   ]
  },
  {
   "cell_type": "code",
   "execution_count": 198,
   "metadata": {
    "scrolled": false
   },
   "outputs": [
    {
     "data": {
      "text/html": [
       "<div>\n",
       "<style scoped>\n",
       "    .dataframe tbody tr th:only-of-type {\n",
       "        vertical-align: middle;\n",
       "    }\n",
       "\n",
       "    .dataframe tbody tr th {\n",
       "        vertical-align: top;\n",
       "    }\n",
       "\n",
       "    .dataframe thead th {\n",
       "        text-align: right;\n",
       "    }\n",
       "</style>\n",
       "<table border=\"1\" class=\"dataframe\">\n",
       "  <thead>\n",
       "    <tr style=\"text-align: right;\">\n",
       "      <th></th>\n",
       "      <th>A</th>\n",
       "      <th>B</th>\n",
       "      <th>C</th>\n",
       "      <th>D</th>\n",
       "      <th>F</th>\n",
       "    </tr>\n",
       "  </thead>\n",
       "  <tbody>\n",
       "    <tr>\n",
       "      <th>2013-01-01</th>\n",
       "      <td>0.000000</td>\n",
       "      <td>0.000000</td>\n",
       "      <td>0.279680</td>\n",
       "      <td>5</td>\n",
       "      <td>NaN</td>\n",
       "    </tr>\n",
       "    <tr>\n",
       "      <th>2013-01-02</th>\n",
       "      <td>1.286976</td>\n",
       "      <td>0.587120</td>\n",
       "      <td>1.805363</td>\n",
       "      <td>5</td>\n",
       "      <td>1.0</td>\n",
       "    </tr>\n",
       "    <tr>\n",
       "      <th>2013-01-03</th>\n",
       "      <td>2.139396</td>\n",
       "      <td>0.876003</td>\n",
       "      <td>0.308157</td>\n",
       "      <td>5</td>\n",
       "      <td>2.0</td>\n",
       "    </tr>\n",
       "    <tr>\n",
       "      <th>2013-01-04</th>\n",
       "      <td>0.494930</td>\n",
       "      <td>1.274901</td>\n",
       "      <td>-0.317435</td>\n",
       "      <td>5</td>\n",
       "      <td>3.0</td>\n",
       "    </tr>\n",
       "    <tr>\n",
       "      <th>2013-01-05</th>\n",
       "      <td>-0.271722</td>\n",
       "      <td>-0.007324</td>\n",
       "      <td>-0.404277</td>\n",
       "      <td>5</td>\n",
       "      <td>4.0</td>\n",
       "    </tr>\n",
       "    <tr>\n",
       "      <th>2013-01-06</th>\n",
       "      <td>-0.320006</td>\n",
       "      <td>-0.516964</td>\n",
       "      <td>-0.302451</td>\n",
       "      <td>5</td>\n",
       "      <td>5.0</td>\n",
       "    </tr>\n",
       "  </tbody>\n",
       "</table>\n",
       "</div>"
      ],
      "text/plain": [
       "                   A         B         C  D    F\n",
       "2013-01-01  0.000000  0.000000  0.279680  5  NaN\n",
       "2013-01-02  1.286976  0.587120  1.805363  5  1.0\n",
       "2013-01-03  2.139396  0.876003  0.308157  5  2.0\n",
       "2013-01-04  0.494930  1.274901 -0.317435  5  3.0\n",
       "2013-01-05 -0.271722 -0.007324 -0.404277  5  4.0\n",
       "2013-01-06 -0.320006 -0.516964 -0.302451  5  5.0"
      ]
     },
     "execution_count": 198,
     "metadata": {},
     "output_type": "execute_result"
    }
   ],
   "source": [
    "df"
   ]
  },
  {
   "cell_type": "markdown",
   "metadata": {},
   "source": [
    "A `where` operation with setting."
   ]
  },
  {
   "cell_type": "markdown",
   "metadata": {},
   "source": [
    "## Missing Data"
   ]
  },
  {
   "cell_type": "markdown",
   "metadata": {},
   "source": [
    "pandas primarily uses the value np.nan to represent missing data. It is by default not included in computations. \n",
    "\n",
    "By “missing” we simply mean NA (“not available”) or “not present for whatever reason”. Many data sets simply arrive with missing data, either because it exists and was not collected or it never existed. For example, in a collection of financial time series, some of the time series might start on different dates. Thus, values prior to the start date would generally be marked as missing.\n",
    "\n",
    "In pandas, one of the most common ways that missing data is introduced into a data set is by reindexing."
   ]
  },
  {
   "cell_type": "markdown",
   "metadata": {},
   "source": [
    "Reindexing allows you to change/add/delete the index on a specified axis. This returns a copy of the data."
   ]
  },
  {
   "cell_type": "code",
   "execution_count": 199,
   "metadata": {
    "scrolled": true
   },
   "outputs": [],
   "source": [
    "df.sort_index(inplace=True)"
   ]
  },
  {
   "cell_type": "code",
   "execution_count": 200,
   "metadata": {},
   "outputs": [
    {
     "data": {
      "text/html": [
       "<div>\n",
       "<style scoped>\n",
       "    .dataframe tbody tr th:only-of-type {\n",
       "        vertical-align: middle;\n",
       "    }\n",
       "\n",
       "    .dataframe tbody tr th {\n",
       "        vertical-align: top;\n",
       "    }\n",
       "\n",
       "    .dataframe thead th {\n",
       "        text-align: right;\n",
       "    }\n",
       "</style>\n",
       "<table border=\"1\" class=\"dataframe\">\n",
       "  <thead>\n",
       "    <tr style=\"text-align: right;\">\n",
       "      <th></th>\n",
       "      <th>A</th>\n",
       "      <th>B</th>\n",
       "      <th>C</th>\n",
       "      <th>D</th>\n",
       "      <th>F</th>\n",
       "    </tr>\n",
       "  </thead>\n",
       "  <tbody>\n",
       "    <tr>\n",
       "      <th>2013-01-01</th>\n",
       "      <td>0.000000</td>\n",
       "      <td>0.000000</td>\n",
       "      <td>0.279680</td>\n",
       "      <td>5</td>\n",
       "      <td>NaN</td>\n",
       "    </tr>\n",
       "    <tr>\n",
       "      <th>2013-01-02</th>\n",
       "      <td>1.286976</td>\n",
       "      <td>0.587120</td>\n",
       "      <td>1.805363</td>\n",
       "      <td>5</td>\n",
       "      <td>1.0</td>\n",
       "    </tr>\n",
       "    <tr>\n",
       "      <th>2013-01-03</th>\n",
       "      <td>2.139396</td>\n",
       "      <td>0.876003</td>\n",
       "      <td>0.308157</td>\n",
       "      <td>5</td>\n",
       "      <td>2.0</td>\n",
       "    </tr>\n",
       "    <tr>\n",
       "      <th>2013-01-04</th>\n",
       "      <td>0.494930</td>\n",
       "      <td>1.274901</td>\n",
       "      <td>-0.317435</td>\n",
       "      <td>5</td>\n",
       "      <td>3.0</td>\n",
       "    </tr>\n",
       "    <tr>\n",
       "      <th>2013-01-05</th>\n",
       "      <td>-0.271722</td>\n",
       "      <td>-0.007324</td>\n",
       "      <td>-0.404277</td>\n",
       "      <td>5</td>\n",
       "      <td>4.0</td>\n",
       "    </tr>\n",
       "    <tr>\n",
       "      <th>2013-01-06</th>\n",
       "      <td>-0.320006</td>\n",
       "      <td>-0.516964</td>\n",
       "      <td>-0.302451</td>\n",
       "      <td>5</td>\n",
       "      <td>5.0</td>\n",
       "    </tr>\n",
       "  </tbody>\n",
       "</table>\n",
       "</div>"
      ],
      "text/plain": [
       "                   A         B         C  D    F\n",
       "2013-01-01  0.000000  0.000000  0.279680  5  NaN\n",
       "2013-01-02  1.286976  0.587120  1.805363  5  1.0\n",
       "2013-01-03  2.139396  0.876003  0.308157  5  2.0\n",
       "2013-01-04  0.494930  1.274901 -0.317435  5  3.0\n",
       "2013-01-05 -0.271722 -0.007324 -0.404277  5  4.0\n",
       "2013-01-06 -0.320006 -0.516964 -0.302451  5  5.0"
      ]
     },
     "execution_count": 200,
     "metadata": {},
     "output_type": "execute_result"
    }
   ],
   "source": [
    "df"
   ]
  },
  {
   "cell_type": "code",
   "execution_count": 201,
   "metadata": {},
   "outputs": [
    {
     "data": {
      "text/plain": [
       "'df = pd.DataFrame(np.random.randn(6,4), index=dates,columns=list(\\'ABCD\\'))\\ns1 = pd.Series([1,2,3,4,5,6], index=pd.date_range(\\'20130102\\', periods=6))\\ndf[\"F\"]=s1'"
      ]
     },
     "execution_count": 201,
     "metadata": {},
     "output_type": "execute_result"
    }
   ],
   "source": [
    "'''df = pd.DataFrame(np.random.randn(6,4), index=dates,columns=list('ABCD'))\n",
    "s1 = pd.Series([1,2,3,4,5,6], index=pd.date_range('20130102', periods=6))\n",
    "df[\"F\"]=s1'''\n"
   ]
  },
  {
   "cell_type": "code",
   "execution_count": 202,
   "metadata": {},
   "outputs": [],
   "source": [
    "?df.reindex"
   ]
  },
  {
   "cell_type": "code",
   "execution_count": 203,
   "metadata": {},
   "outputs": [
    {
     "data": {
      "text/plain": [
       "['A', 'B', 'C', 'D', 'F', 'E']"
      ]
     },
     "execution_count": 203,
     "metadata": {},
     "output_type": "execute_result"
    }
   ],
   "source": [
    "list(df.columns) +[\"E\"]"
   ]
  },
  {
   "cell_type": "code",
   "execution_count": 204,
   "metadata": {},
   "outputs": [
    {
     "data": {
      "text/plain": [
       "DatetimeIndex(['2013-01-01', '2013-01-02', '2013-01-03', '2013-01-04',\n",
       "               '2013-01-05', '2013-01-06'],\n",
       "              dtype='datetime64[ns]', freq='D')"
      ]
     },
     "execution_count": 204,
     "metadata": {},
     "output_type": "execute_result"
    }
   ],
   "source": [
    "dates"
   ]
  },
  {
   "cell_type": "code",
   "execution_count": 205,
   "metadata": {},
   "outputs": [
    {
     "data": {
      "text/html": [
       "<div>\n",
       "<style scoped>\n",
       "    .dataframe tbody tr th:only-of-type {\n",
       "        vertical-align: middle;\n",
       "    }\n",
       "\n",
       "    .dataframe tbody tr th {\n",
       "        vertical-align: top;\n",
       "    }\n",
       "\n",
       "    .dataframe thead th {\n",
       "        text-align: right;\n",
       "    }\n",
       "</style>\n",
       "<table border=\"1\" class=\"dataframe\">\n",
       "  <thead>\n",
       "    <tr style=\"text-align: right;\">\n",
       "      <th></th>\n",
       "      <th>A</th>\n",
       "      <th>B</th>\n",
       "      <th>C</th>\n",
       "      <th>D</th>\n",
       "      <th>F</th>\n",
       "    </tr>\n",
       "  </thead>\n",
       "  <tbody>\n",
       "    <tr>\n",
       "      <th>2013-01-01</th>\n",
       "      <td>0.000000</td>\n",
       "      <td>0.000000</td>\n",
       "      <td>0.279680</td>\n",
       "      <td>5</td>\n",
       "      <td>NaN</td>\n",
       "    </tr>\n",
       "    <tr>\n",
       "      <th>2013-01-02</th>\n",
       "      <td>1.286976</td>\n",
       "      <td>0.587120</td>\n",
       "      <td>1.805363</td>\n",
       "      <td>5</td>\n",
       "      <td>1.0</td>\n",
       "    </tr>\n",
       "    <tr>\n",
       "      <th>2013-01-03</th>\n",
       "      <td>2.139396</td>\n",
       "      <td>0.876003</td>\n",
       "      <td>0.308157</td>\n",
       "      <td>5</td>\n",
       "      <td>2.0</td>\n",
       "    </tr>\n",
       "    <tr>\n",
       "      <th>2013-01-04</th>\n",
       "      <td>0.494930</td>\n",
       "      <td>1.274901</td>\n",
       "      <td>-0.317435</td>\n",
       "      <td>5</td>\n",
       "      <td>3.0</td>\n",
       "    </tr>\n",
       "    <tr>\n",
       "      <th>2013-01-05</th>\n",
       "      <td>-0.271722</td>\n",
       "      <td>-0.007324</td>\n",
       "      <td>-0.404277</td>\n",
       "      <td>5</td>\n",
       "      <td>4.0</td>\n",
       "    </tr>\n",
       "    <tr>\n",
       "      <th>2013-01-06</th>\n",
       "      <td>-0.320006</td>\n",
       "      <td>-0.516964</td>\n",
       "      <td>-0.302451</td>\n",
       "      <td>5</td>\n",
       "      <td>5.0</td>\n",
       "    </tr>\n",
       "  </tbody>\n",
       "</table>\n",
       "</div>"
      ],
      "text/plain": [
       "                   A         B         C  D    F\n",
       "2013-01-01  0.000000  0.000000  0.279680  5  NaN\n",
       "2013-01-02  1.286976  0.587120  1.805363  5  1.0\n",
       "2013-01-03  2.139396  0.876003  0.308157  5  2.0\n",
       "2013-01-04  0.494930  1.274901 -0.317435  5  3.0\n",
       "2013-01-05 -0.271722 -0.007324 -0.404277  5  4.0\n",
       "2013-01-06 -0.320006 -0.516964 -0.302451  5  5.0"
      ]
     },
     "execution_count": 205,
     "metadata": {},
     "output_type": "execute_result"
    }
   ],
   "source": [
    "df"
   ]
  },
  {
   "cell_type": "code",
   "execution_count": 206,
   "metadata": {},
   "outputs": [
    {
     "data": {
      "text/plain": [
       "Index(['A', 'B', 'C', 'D', 'F'], dtype='object')"
      ]
     },
     "execution_count": 206,
     "metadata": {},
     "output_type": "execute_result"
    }
   ],
   "source": [
    "df.columns"
   ]
  },
  {
   "cell_type": "code",
   "execution_count": 207,
   "metadata": {},
   "outputs": [],
   "source": [
    "#df.reindex(index=range(6), columns=list(df.columns) + ['E'])"
   ]
  },
  {
   "cell_type": "code",
   "execution_count": 208,
   "metadata": {},
   "outputs": [
    {
     "data": {
      "text/plain": [
       "DatetimeIndex(['2013-01-01', '2013-01-02', '2013-01-03', '2013-01-04'], dtype='datetime64[ns]', freq='D')"
      ]
     },
     "execution_count": 208,
     "metadata": {},
     "output_type": "execute_result"
    }
   ],
   "source": [
    "dates[0:4]"
   ]
  },
  {
   "cell_type": "code",
   "execution_count": 209,
   "metadata": {},
   "outputs": [],
   "source": [
    "dates3=pd.date_range(\"20130101\", periods=7)"
   ]
  },
  {
   "cell_type": "code",
   "execution_count": 217,
   "metadata": {
    "scrolled": true
   },
   "outputs": [
    {
     "data": {
      "text/html": [
       "<div>\n",
       "<style scoped>\n",
       "    .dataframe tbody tr th:only-of-type {\n",
       "        vertical-align: middle;\n",
       "    }\n",
       "\n",
       "    .dataframe tbody tr th {\n",
       "        vertical-align: top;\n",
       "    }\n",
       "\n",
       "    .dataframe thead th {\n",
       "        text-align: right;\n",
       "    }\n",
       "</style>\n",
       "<table border=\"1\" class=\"dataframe\">\n",
       "  <thead>\n",
       "    <tr style=\"text-align: right;\">\n",
       "      <th></th>\n",
       "      <th>A</th>\n",
       "      <th>B</th>\n",
       "      <th>C</th>\n",
       "      <th>D</th>\n",
       "      <th>F</th>\n",
       "      <th>E</th>\n",
       "    </tr>\n",
       "  </thead>\n",
       "  <tbody>\n",
       "    <tr>\n",
       "      <th>2013-01-01</th>\n",
       "      <td>0.000000</td>\n",
       "      <td>0.000000</td>\n",
       "      <td>0.279680</td>\n",
       "      <td>5</td>\n",
       "      <td>NaN</td>\n",
       "      <td>NaN</td>\n",
       "    </tr>\n",
       "    <tr>\n",
       "      <th>2013-01-02</th>\n",
       "      <td>1.286976</td>\n",
       "      <td>0.587120</td>\n",
       "      <td>1.805363</td>\n",
       "      <td>5</td>\n",
       "      <td>1.0</td>\n",
       "      <td>NaN</td>\n",
       "    </tr>\n",
       "    <tr>\n",
       "      <th>2013-01-03</th>\n",
       "      <td>2.139396</td>\n",
       "      <td>0.876003</td>\n",
       "      <td>0.308157</td>\n",
       "      <td>5</td>\n",
       "      <td>2.0</td>\n",
       "      <td>NaN</td>\n",
       "    </tr>\n",
       "    <tr>\n",
       "      <th>2013-01-04</th>\n",
       "      <td>0.494930</td>\n",
       "      <td>1.274901</td>\n",
       "      <td>-0.317435</td>\n",
       "      <td>5</td>\n",
       "      <td>3.0</td>\n",
       "      <td>NaN</td>\n",
       "    </tr>\n",
       "  </tbody>\n",
       "</table>\n",
       "</div>"
      ],
      "text/plain": [
       "                   A         B         C  D    F   E\n",
       "2013-01-01  0.000000  0.000000  0.279680  5  NaN NaN\n",
       "2013-01-02  1.286976  0.587120  1.805363  5  1.0 NaN\n",
       "2013-01-03  2.139396  0.876003  0.308157  5  2.0 NaN\n",
       "2013-01-04  0.494930  1.274901 -0.317435  5  3.0 NaN"
      ]
     },
     "execution_count": 217,
     "metadata": {},
     "output_type": "execute_result"
    }
   ],
   "source": [
    "df.reindex(index=dates[0:4], columns=list(df.columns) + ['E'])"
   ]
  },
  {
   "cell_type": "code",
   "execution_count": 218,
   "metadata": {},
   "outputs": [
    {
     "data": {
      "text/html": [
       "<div>\n",
       "<style scoped>\n",
       "    .dataframe tbody tr th:only-of-type {\n",
       "        vertical-align: middle;\n",
       "    }\n",
       "\n",
       "    .dataframe tbody tr th {\n",
       "        vertical-align: top;\n",
       "    }\n",
       "\n",
       "    .dataframe thead th {\n",
       "        text-align: right;\n",
       "    }\n",
       "</style>\n",
       "<table border=\"1\" class=\"dataframe\">\n",
       "  <thead>\n",
       "    <tr style=\"text-align: right;\">\n",
       "      <th></th>\n",
       "      <th>A</th>\n",
       "      <th>B</th>\n",
       "      <th>C</th>\n",
       "      <th>D</th>\n",
       "      <th>F</th>\n",
       "    </tr>\n",
       "  </thead>\n",
       "  <tbody>\n",
       "    <tr>\n",
       "      <th>2013-01-01</th>\n",
       "      <td>0.000000</td>\n",
       "      <td>0.000000</td>\n",
       "      <td>0.279680</td>\n",
       "      <td>5</td>\n",
       "      <td>NaN</td>\n",
       "    </tr>\n",
       "    <tr>\n",
       "      <th>2013-01-02</th>\n",
       "      <td>1.286976</td>\n",
       "      <td>0.587120</td>\n",
       "      <td>1.805363</td>\n",
       "      <td>5</td>\n",
       "      <td>1.0</td>\n",
       "    </tr>\n",
       "    <tr>\n",
       "      <th>2013-01-03</th>\n",
       "      <td>2.139396</td>\n",
       "      <td>0.876003</td>\n",
       "      <td>0.308157</td>\n",
       "      <td>5</td>\n",
       "      <td>2.0</td>\n",
       "    </tr>\n",
       "    <tr>\n",
       "      <th>2013-01-04</th>\n",
       "      <td>0.494930</td>\n",
       "      <td>1.274901</td>\n",
       "      <td>-0.317435</td>\n",
       "      <td>5</td>\n",
       "      <td>3.0</td>\n",
       "    </tr>\n",
       "    <tr>\n",
       "      <th>2013-01-05</th>\n",
       "      <td>-0.271722</td>\n",
       "      <td>-0.007324</td>\n",
       "      <td>-0.404277</td>\n",
       "      <td>5</td>\n",
       "      <td>4.0</td>\n",
       "    </tr>\n",
       "    <tr>\n",
       "      <th>2013-01-06</th>\n",
       "      <td>-0.320006</td>\n",
       "      <td>-0.516964</td>\n",
       "      <td>-0.302451</td>\n",
       "      <td>5</td>\n",
       "      <td>5.0</td>\n",
       "    </tr>\n",
       "  </tbody>\n",
       "</table>\n",
       "</div>"
      ],
      "text/plain": [
       "                   A         B         C  D    F\n",
       "2013-01-01  0.000000  0.000000  0.279680  5  NaN\n",
       "2013-01-02  1.286976  0.587120  1.805363  5  1.0\n",
       "2013-01-03  2.139396  0.876003  0.308157  5  2.0\n",
       "2013-01-04  0.494930  1.274901 -0.317435  5  3.0\n",
       "2013-01-05 -0.271722 -0.007324 -0.404277  5  4.0\n",
       "2013-01-06 -0.320006 -0.516964 -0.302451  5  5.0"
      ]
     },
     "execution_count": 218,
     "metadata": {},
     "output_type": "execute_result"
    }
   ],
   "source": [
    "df"
   ]
  },
  {
   "cell_type": "code",
   "execution_count": 219,
   "metadata": {},
   "outputs": [
    {
     "data": {
      "text/html": [
       "<div>\n",
       "<style scoped>\n",
       "    .dataframe tbody tr th:only-of-type {\n",
       "        vertical-align: middle;\n",
       "    }\n",
       "\n",
       "    .dataframe tbody tr th {\n",
       "        vertical-align: top;\n",
       "    }\n",
       "\n",
       "    .dataframe thead th {\n",
       "        text-align: right;\n",
       "    }\n",
       "</style>\n",
       "<table border=\"1\" class=\"dataframe\">\n",
       "  <thead>\n",
       "    <tr style=\"text-align: right;\">\n",
       "      <th></th>\n",
       "      <th>A</th>\n",
       "      <th>B</th>\n",
       "      <th>C</th>\n",
       "      <th>D</th>\n",
       "      <th>F</th>\n",
       "      <th>E</th>\n",
       "    </tr>\n",
       "  </thead>\n",
       "  <tbody>\n",
       "    <tr>\n",
       "      <th>2013-01-01</th>\n",
       "      <td>0.000000</td>\n",
       "      <td>0.000000</td>\n",
       "      <td>0.279680</td>\n",
       "      <td>5</td>\n",
       "      <td>NaN</td>\n",
       "      <td>NaN</td>\n",
       "    </tr>\n",
       "    <tr>\n",
       "      <th>2013-01-02</th>\n",
       "      <td>1.286976</td>\n",
       "      <td>0.587120</td>\n",
       "      <td>1.805363</td>\n",
       "      <td>5</td>\n",
       "      <td>1.0</td>\n",
       "      <td>NaN</td>\n",
       "    </tr>\n",
       "    <tr>\n",
       "      <th>2013-01-03</th>\n",
       "      <td>2.139396</td>\n",
       "      <td>0.876003</td>\n",
       "      <td>0.308157</td>\n",
       "      <td>5</td>\n",
       "      <td>2.0</td>\n",
       "      <td>NaN</td>\n",
       "    </tr>\n",
       "    <tr>\n",
       "      <th>2013-01-04</th>\n",
       "      <td>0.494930</td>\n",
       "      <td>1.274901</td>\n",
       "      <td>-0.317435</td>\n",
       "      <td>5</td>\n",
       "      <td>3.0</td>\n",
       "      <td>NaN</td>\n",
       "    </tr>\n",
       "  </tbody>\n",
       "</table>\n",
       "</div>"
      ],
      "text/plain": [
       "                   A         B         C  D    F   E\n",
       "2013-01-01  0.000000  0.000000  0.279680  5  NaN NaN\n",
       "2013-01-02  1.286976  0.587120  1.805363  5  1.0 NaN\n",
       "2013-01-03  2.139396  0.876003  0.308157  5  2.0 NaN\n",
       "2013-01-04  0.494930  1.274901 -0.317435  5  3.0 NaN"
      ]
     },
     "execution_count": 219,
     "metadata": {},
     "output_type": "execute_result"
    }
   ],
   "source": [
    "df1=df.reindex(index=dates[0:4], columns=list(df.columns) + ['E'])\n",
    "df1"
   ]
  },
  {
   "cell_type": "code",
   "execution_count": 220,
   "metadata": {},
   "outputs": [],
   "source": [
    "df1.loc[dates[0]:dates[1],'E'] = 1"
   ]
  },
  {
   "cell_type": "code",
   "execution_count": 221,
   "metadata": {},
   "outputs": [
    {
     "data": {
      "text/html": [
       "<div>\n",
       "<style scoped>\n",
       "    .dataframe tbody tr th:only-of-type {\n",
       "        vertical-align: middle;\n",
       "    }\n",
       "\n",
       "    .dataframe tbody tr th {\n",
       "        vertical-align: top;\n",
       "    }\n",
       "\n",
       "    .dataframe thead th {\n",
       "        text-align: right;\n",
       "    }\n",
       "</style>\n",
       "<table border=\"1\" class=\"dataframe\">\n",
       "  <thead>\n",
       "    <tr style=\"text-align: right;\">\n",
       "      <th></th>\n",
       "      <th>A</th>\n",
       "      <th>B</th>\n",
       "      <th>C</th>\n",
       "      <th>D</th>\n",
       "      <th>F</th>\n",
       "      <th>E</th>\n",
       "    </tr>\n",
       "  </thead>\n",
       "  <tbody>\n",
       "    <tr>\n",
       "      <th>2013-01-01</th>\n",
       "      <td>0.000000</td>\n",
       "      <td>0.000000</td>\n",
       "      <td>0.279680</td>\n",
       "      <td>5</td>\n",
       "      <td>NaN</td>\n",
       "      <td>1.0</td>\n",
       "    </tr>\n",
       "    <tr>\n",
       "      <th>2013-01-02</th>\n",
       "      <td>1.286976</td>\n",
       "      <td>0.587120</td>\n",
       "      <td>1.805363</td>\n",
       "      <td>5</td>\n",
       "      <td>1.0</td>\n",
       "      <td>1.0</td>\n",
       "    </tr>\n",
       "    <tr>\n",
       "      <th>2013-01-03</th>\n",
       "      <td>2.139396</td>\n",
       "      <td>0.876003</td>\n",
       "      <td>0.308157</td>\n",
       "      <td>5</td>\n",
       "      <td>2.0</td>\n",
       "      <td>NaN</td>\n",
       "    </tr>\n",
       "    <tr>\n",
       "      <th>2013-01-04</th>\n",
       "      <td>0.494930</td>\n",
       "      <td>1.274901</td>\n",
       "      <td>-0.317435</td>\n",
       "      <td>5</td>\n",
       "      <td>3.0</td>\n",
       "      <td>NaN</td>\n",
       "    </tr>\n",
       "  </tbody>\n",
       "</table>\n",
       "</div>"
      ],
      "text/plain": [
       "                   A         B         C  D    F    E\n",
       "2013-01-01  0.000000  0.000000  0.279680  5  NaN  1.0\n",
       "2013-01-02  1.286976  0.587120  1.805363  5  1.0  1.0\n",
       "2013-01-03  2.139396  0.876003  0.308157  5  2.0  NaN\n",
       "2013-01-04  0.494930  1.274901 -0.317435  5  3.0  NaN"
      ]
     },
     "execution_count": 221,
     "metadata": {},
     "output_type": "execute_result"
    }
   ],
   "source": [
    "df1"
   ]
  },
  {
   "cell_type": "markdown",
   "metadata": {},
   "source": [
    "To drop any rows that have missing data."
   ]
  },
  {
   "cell_type": "code",
   "execution_count": 225,
   "metadata": {},
   "outputs": [],
   "source": [
    "?df1.dropna"
   ]
  },
  {
   "cell_type": "code",
   "execution_count": 226,
   "metadata": {},
   "outputs": [
    {
     "data": {
      "text/html": [
       "<div>\n",
       "<style scoped>\n",
       "    .dataframe tbody tr th:only-of-type {\n",
       "        vertical-align: middle;\n",
       "    }\n",
       "\n",
       "    .dataframe tbody tr th {\n",
       "        vertical-align: top;\n",
       "    }\n",
       "\n",
       "    .dataframe thead th {\n",
       "        text-align: right;\n",
       "    }\n",
       "</style>\n",
       "<table border=\"1\" class=\"dataframe\">\n",
       "  <thead>\n",
       "    <tr style=\"text-align: right;\">\n",
       "      <th></th>\n",
       "      <th>A</th>\n",
       "      <th>B</th>\n",
       "      <th>C</th>\n",
       "      <th>D</th>\n",
       "      <th>F</th>\n",
       "      <th>E</th>\n",
       "    </tr>\n",
       "  </thead>\n",
       "  <tbody>\n",
       "    <tr>\n",
       "      <th>2013-01-02</th>\n",
       "      <td>1.286976</td>\n",
       "      <td>0.58712</td>\n",
       "      <td>1.805363</td>\n",
       "      <td>5</td>\n",
       "      <td>1.0</td>\n",
       "      <td>1.0</td>\n",
       "    </tr>\n",
       "  </tbody>\n",
       "</table>\n",
       "</div>"
      ],
      "text/plain": [
       "                   A        B         C  D    F    E\n",
       "2013-01-02  1.286976  0.58712  1.805363  5  1.0  1.0"
      ]
     },
     "execution_count": 226,
     "metadata": {},
     "output_type": "execute_result"
    }
   ],
   "source": [
    "df1.dropna(how='any')"
   ]
  },
  {
   "cell_type": "code",
   "execution_count": 227,
   "metadata": {},
   "outputs": [
    {
     "data": {
      "text/html": [
       "<div>\n",
       "<style scoped>\n",
       "    .dataframe tbody tr th:only-of-type {\n",
       "        vertical-align: middle;\n",
       "    }\n",
       "\n",
       "    .dataframe tbody tr th {\n",
       "        vertical-align: top;\n",
       "    }\n",
       "\n",
       "    .dataframe thead th {\n",
       "        text-align: right;\n",
       "    }\n",
       "</style>\n",
       "<table border=\"1\" class=\"dataframe\">\n",
       "  <thead>\n",
       "    <tr style=\"text-align: right;\">\n",
       "      <th></th>\n",
       "      <th>A</th>\n",
       "      <th>B</th>\n",
       "      <th>C</th>\n",
       "      <th>D</th>\n",
       "      <th>F</th>\n",
       "      <th>E</th>\n",
       "    </tr>\n",
       "  </thead>\n",
       "  <tbody>\n",
       "    <tr>\n",
       "      <th>2013-01-01</th>\n",
       "      <td>0.000000</td>\n",
       "      <td>0.000000</td>\n",
       "      <td>0.279680</td>\n",
       "      <td>5</td>\n",
       "      <td>NaN</td>\n",
       "      <td>1.0</td>\n",
       "    </tr>\n",
       "    <tr>\n",
       "      <th>2013-01-02</th>\n",
       "      <td>1.286976</td>\n",
       "      <td>0.587120</td>\n",
       "      <td>1.805363</td>\n",
       "      <td>5</td>\n",
       "      <td>1.0</td>\n",
       "      <td>1.0</td>\n",
       "    </tr>\n",
       "    <tr>\n",
       "      <th>2013-01-03</th>\n",
       "      <td>2.139396</td>\n",
       "      <td>0.876003</td>\n",
       "      <td>0.308157</td>\n",
       "      <td>5</td>\n",
       "      <td>2.0</td>\n",
       "      <td>NaN</td>\n",
       "    </tr>\n",
       "    <tr>\n",
       "      <th>2013-01-04</th>\n",
       "      <td>0.494930</td>\n",
       "      <td>1.274901</td>\n",
       "      <td>-0.317435</td>\n",
       "      <td>5</td>\n",
       "      <td>3.0</td>\n",
       "      <td>NaN</td>\n",
       "    </tr>\n",
       "  </tbody>\n",
       "</table>\n",
       "</div>"
      ],
      "text/plain": [
       "                   A         B         C  D    F    E\n",
       "2013-01-01  0.000000  0.000000  0.279680  5  NaN  1.0\n",
       "2013-01-02  1.286976  0.587120  1.805363  5  1.0  1.0\n",
       "2013-01-03  2.139396  0.876003  0.308157  5  2.0  NaN\n",
       "2013-01-04  0.494930  1.274901 -0.317435  5  3.0  NaN"
      ]
     },
     "execution_count": 227,
     "metadata": {},
     "output_type": "execute_result"
    }
   ],
   "source": [
    "df1"
   ]
  },
  {
   "cell_type": "code",
   "execution_count": 228,
   "metadata": {},
   "outputs": [
    {
     "data": {
      "text/html": [
       "<div>\n",
       "<style scoped>\n",
       "    .dataframe tbody tr th:only-of-type {\n",
       "        vertical-align: middle;\n",
       "    }\n",
       "\n",
       "    .dataframe tbody tr th {\n",
       "        vertical-align: top;\n",
       "    }\n",
       "\n",
       "    .dataframe thead th {\n",
       "        text-align: right;\n",
       "    }\n",
       "</style>\n",
       "<table border=\"1\" class=\"dataframe\">\n",
       "  <thead>\n",
       "    <tr style=\"text-align: right;\">\n",
       "      <th></th>\n",
       "      <th>A</th>\n",
       "      <th>B</th>\n",
       "      <th>C</th>\n",
       "      <th>D</th>\n",
       "    </tr>\n",
       "  </thead>\n",
       "  <tbody>\n",
       "    <tr>\n",
       "      <th>2013-01-01</th>\n",
       "      <td>0.000000</td>\n",
       "      <td>0.000000</td>\n",
       "      <td>0.279680</td>\n",
       "      <td>5</td>\n",
       "    </tr>\n",
       "    <tr>\n",
       "      <th>2013-01-02</th>\n",
       "      <td>1.286976</td>\n",
       "      <td>0.587120</td>\n",
       "      <td>1.805363</td>\n",
       "      <td>5</td>\n",
       "    </tr>\n",
       "    <tr>\n",
       "      <th>2013-01-03</th>\n",
       "      <td>2.139396</td>\n",
       "      <td>0.876003</td>\n",
       "      <td>0.308157</td>\n",
       "      <td>5</td>\n",
       "    </tr>\n",
       "    <tr>\n",
       "      <th>2013-01-04</th>\n",
       "      <td>0.494930</td>\n",
       "      <td>1.274901</td>\n",
       "      <td>-0.317435</td>\n",
       "      <td>5</td>\n",
       "    </tr>\n",
       "  </tbody>\n",
       "</table>\n",
       "</div>"
      ],
      "text/plain": [
       "                   A         B         C  D\n",
       "2013-01-01  0.000000  0.000000  0.279680  5\n",
       "2013-01-02  1.286976  0.587120  1.805363  5\n",
       "2013-01-03  2.139396  0.876003  0.308157  5\n",
       "2013-01-04  0.494930  1.274901 -0.317435  5"
      ]
     },
     "execution_count": 228,
     "metadata": {},
     "output_type": "execute_result"
    }
   ],
   "source": [
    "df1.dropna(how='any', axis=1)"
   ]
  },
  {
   "cell_type": "code",
   "execution_count": 125,
   "metadata": {
    "scrolled": false
   },
   "outputs": [
    {
     "data": {
      "text/html": [
       "<div>\n",
       "<style scoped>\n",
       "    .dataframe tbody tr th:only-of-type {\n",
       "        vertical-align: middle;\n",
       "    }\n",
       "\n",
       "    .dataframe tbody tr th {\n",
       "        vertical-align: top;\n",
       "    }\n",
       "\n",
       "    .dataframe thead th {\n",
       "        text-align: right;\n",
       "    }\n",
       "</style>\n",
       "<table border=\"1\" class=\"dataframe\">\n",
       "  <thead>\n",
       "    <tr style=\"text-align: right;\">\n",
       "      <th></th>\n",
       "      <th>A</th>\n",
       "      <th>B</th>\n",
       "      <th>C</th>\n",
       "      <th>D</th>\n",
       "      <th>F</th>\n",
       "      <th>E</th>\n",
       "    </tr>\n",
       "  </thead>\n",
       "  <tbody>\n",
       "    <tr>\n",
       "      <th>2013-01-01</th>\n",
       "      <td>0.000000</td>\n",
       "      <td>1.351203</td>\n",
       "      <td>0.239896</td>\n",
       "      <td>5</td>\n",
       "      <td>NaN</td>\n",
       "      <td>1.0</td>\n",
       "    </tr>\n",
       "    <tr>\n",
       "      <th>2013-01-02</th>\n",
       "      <td>-0.079022</td>\n",
       "      <td>-1.117805</td>\n",
       "      <td>0.237695</td>\n",
       "      <td>5</td>\n",
       "      <td>1.0</td>\n",
       "      <td>1.0</td>\n",
       "    </tr>\n",
       "    <tr>\n",
       "      <th>2013-01-03</th>\n",
       "      <td>0.520116</td>\n",
       "      <td>0.452025</td>\n",
       "      <td>-0.427301</td>\n",
       "      <td>5</td>\n",
       "      <td>2.0</td>\n",
       "      <td>NaN</td>\n",
       "    </tr>\n",
       "    <tr>\n",
       "      <th>2013-01-04</th>\n",
       "      <td>NaN</td>\n",
       "      <td>0.000000</td>\n",
       "      <td>-0.124239</td>\n",
       "      <td>5</td>\n",
       "      <td>3.0</td>\n",
       "      <td>NaN</td>\n",
       "    </tr>\n",
       "  </tbody>\n",
       "</table>\n",
       "</div>"
      ],
      "text/plain": [
       "                   A         B         C  D    F    E\n",
       "2013-01-01  0.000000  1.351203  0.239896  5  NaN  1.0\n",
       "2013-01-02 -0.079022 -1.117805  0.237695  5  1.0  1.0\n",
       "2013-01-03  0.520116  0.452025 -0.427301  5  2.0  NaN\n",
       "2013-01-04       NaN  0.000000 -0.124239  5  3.0  NaN"
      ]
     },
     "execution_count": 125,
     "metadata": {},
     "output_type": "execute_result"
    }
   ],
   "source": [
    "df1"
   ]
  },
  {
   "cell_type": "code",
   "execution_count": 229,
   "metadata": {
    "scrolled": true
   },
   "outputs": [
    {
     "data": {
      "text/html": [
       "<div>\n",
       "<style scoped>\n",
       "    .dataframe tbody tr th:only-of-type {\n",
       "        vertical-align: middle;\n",
       "    }\n",
       "\n",
       "    .dataframe tbody tr th {\n",
       "        vertical-align: top;\n",
       "    }\n",
       "\n",
       "    .dataframe thead th {\n",
       "        text-align: right;\n",
       "    }\n",
       "</style>\n",
       "<table border=\"1\" class=\"dataframe\">\n",
       "  <thead>\n",
       "    <tr style=\"text-align: right;\">\n",
       "      <th></th>\n",
       "      <th>A</th>\n",
       "      <th>B</th>\n",
       "      <th>C</th>\n",
       "      <th>D</th>\n",
       "      <th>F</th>\n",
       "    </tr>\n",
       "  </thead>\n",
       "  <tbody>\n",
       "    <tr>\n",
       "      <th>2013-01-01</th>\n",
       "      <td>0.000000</td>\n",
       "      <td>0.000000</td>\n",
       "      <td>0.279680</td>\n",
       "      <td>5</td>\n",
       "      <td>NaN</td>\n",
       "    </tr>\n",
       "    <tr>\n",
       "      <th>2013-01-02</th>\n",
       "      <td>1.286976</td>\n",
       "      <td>NaN</td>\n",
       "      <td>1.805363</td>\n",
       "      <td>5</td>\n",
       "      <td>1.0</td>\n",
       "    </tr>\n",
       "    <tr>\n",
       "      <th>2013-01-03</th>\n",
       "      <td>2.139396</td>\n",
       "      <td>NaN</td>\n",
       "      <td>0.308157</td>\n",
       "      <td>5</td>\n",
       "      <td>2.0</td>\n",
       "    </tr>\n",
       "    <tr>\n",
       "      <th>2013-01-04</th>\n",
       "      <td>0.494930</td>\n",
       "      <td>1.274901</td>\n",
       "      <td>-0.317435</td>\n",
       "      <td>5</td>\n",
       "      <td>3.0</td>\n",
       "    </tr>\n",
       "    <tr>\n",
       "      <th>2013-01-05</th>\n",
       "      <td>-0.271722</td>\n",
       "      <td>-0.007324</td>\n",
       "      <td>-0.404277</td>\n",
       "      <td>5</td>\n",
       "      <td>4.0</td>\n",
       "    </tr>\n",
       "    <tr>\n",
       "      <th>2013-01-06</th>\n",
       "      <td>-0.320006</td>\n",
       "      <td>-0.516964</td>\n",
       "      <td>-0.302451</td>\n",
       "      <td>5</td>\n",
       "      <td>5.0</td>\n",
       "    </tr>\n",
       "  </tbody>\n",
       "</table>\n",
       "</div>"
      ],
      "text/plain": [
       "                   A         B         C  D    F\n",
       "2013-01-01  0.000000  0.000000  0.279680  5  NaN\n",
       "2013-01-02  1.286976       NaN  1.805363  5  1.0\n",
       "2013-01-03  2.139396       NaN  0.308157  5  2.0\n",
       "2013-01-04  0.494930  1.274901 -0.317435  5  3.0\n",
       "2013-01-05 -0.271722 -0.007324 -0.404277  5  4.0\n",
       "2013-01-06 -0.320006 -0.516964 -0.302451  5  5.0"
      ]
     },
     "execution_count": 229,
     "metadata": {},
     "output_type": "execute_result"
    }
   ],
   "source": [
    "df3=df.copy()\n",
    "df3.iloc[1:3,1]=np.nan\n",
    "df3"
   ]
  },
  {
   "cell_type": "code",
   "execution_count": 232,
   "metadata": {},
   "outputs": [
    {
     "data": {
      "text/html": [
       "<div>\n",
       "<style scoped>\n",
       "    .dataframe tbody tr th:only-of-type {\n",
       "        vertical-align: middle;\n",
       "    }\n",
       "\n",
       "    .dataframe tbody tr th {\n",
       "        vertical-align: top;\n",
       "    }\n",
       "\n",
       "    .dataframe thead th {\n",
       "        text-align: right;\n",
       "    }\n",
       "</style>\n",
       "<table border=\"1\" class=\"dataframe\">\n",
       "  <thead>\n",
       "    <tr style=\"text-align: right;\">\n",
       "      <th></th>\n",
       "      <th>A</th>\n",
       "      <th>B</th>\n",
       "      <th>C</th>\n",
       "      <th>D</th>\n",
       "      <th>F</th>\n",
       "    </tr>\n",
       "  </thead>\n",
       "  <tbody>\n",
       "    <tr>\n",
       "      <th>2013-01-01</th>\n",
       "      <td>0.000000</td>\n",
       "      <td>0.000000</td>\n",
       "      <td>0.279680</td>\n",
       "      <td>5</td>\n",
       "      <td>1.0</td>\n",
       "    </tr>\n",
       "    <tr>\n",
       "      <th>2013-01-02</th>\n",
       "      <td>1.286976</td>\n",
       "      <td>1.274901</td>\n",
       "      <td>1.805363</td>\n",
       "      <td>5</td>\n",
       "      <td>1.0</td>\n",
       "    </tr>\n",
       "    <tr>\n",
       "      <th>2013-01-03</th>\n",
       "      <td>2.139396</td>\n",
       "      <td>1.274901</td>\n",
       "      <td>0.308157</td>\n",
       "      <td>5</td>\n",
       "      <td>2.0</td>\n",
       "    </tr>\n",
       "    <tr>\n",
       "      <th>2013-01-04</th>\n",
       "      <td>0.494930</td>\n",
       "      <td>1.274901</td>\n",
       "      <td>-0.317435</td>\n",
       "      <td>5</td>\n",
       "      <td>3.0</td>\n",
       "    </tr>\n",
       "    <tr>\n",
       "      <th>2013-01-05</th>\n",
       "      <td>-0.271722</td>\n",
       "      <td>-0.007324</td>\n",
       "      <td>-0.404277</td>\n",
       "      <td>5</td>\n",
       "      <td>4.0</td>\n",
       "    </tr>\n",
       "    <tr>\n",
       "      <th>2013-01-06</th>\n",
       "      <td>-0.320006</td>\n",
       "      <td>-0.516964</td>\n",
       "      <td>-0.302451</td>\n",
       "      <td>5</td>\n",
       "      <td>5.0</td>\n",
       "    </tr>\n",
       "  </tbody>\n",
       "</table>\n",
       "</div>"
      ],
      "text/plain": [
       "                   A         B         C  D    F\n",
       "2013-01-01  0.000000  0.000000  0.279680  5  1.0\n",
       "2013-01-02  1.286976  1.274901  1.805363  5  1.0\n",
       "2013-01-03  2.139396  1.274901  0.308157  5  2.0\n",
       "2013-01-04  0.494930  1.274901 -0.317435  5  3.0\n",
       "2013-01-05 -0.271722 -0.007324 -0.404277  5  4.0\n",
       "2013-01-06 -0.320006 -0.516964 -0.302451  5  5.0"
      ]
     },
     "execution_count": 232,
     "metadata": {},
     "output_type": "execute_result"
    }
   ],
   "source": [
    "df3.fillna(method=\"bfill\")"
   ]
  },
  {
   "cell_type": "code",
   "execution_count": 233,
   "metadata": {},
   "outputs": [],
   "source": [
    "?df3.fillna"
   ]
  },
  {
   "cell_type": "code",
   "execution_count": 234,
   "metadata": {
    "scrolled": true
   },
   "outputs": [
    {
     "data": {
      "text/html": [
       "<div>\n",
       "<style scoped>\n",
       "    .dataframe tbody tr th:only-of-type {\n",
       "        vertical-align: middle;\n",
       "    }\n",
       "\n",
       "    .dataframe tbody tr th {\n",
       "        vertical-align: top;\n",
       "    }\n",
       "\n",
       "    .dataframe thead th {\n",
       "        text-align: right;\n",
       "    }\n",
       "</style>\n",
       "<table border=\"1\" class=\"dataframe\">\n",
       "  <thead>\n",
       "    <tr style=\"text-align: right;\">\n",
       "      <th></th>\n",
       "      <th>A</th>\n",
       "      <th>B</th>\n",
       "      <th>C</th>\n",
       "      <th>D</th>\n",
       "      <th>F</th>\n",
       "      <th>E</th>\n",
       "    </tr>\n",
       "  </thead>\n",
       "  <tbody>\n",
       "    <tr>\n",
       "      <th>2013-01-01</th>\n",
       "      <td>0.000000</td>\n",
       "      <td>0.000000</td>\n",
       "      <td>0.279680</td>\n",
       "      <td>5</td>\n",
       "      <td>NaN</td>\n",
       "      <td>1.0</td>\n",
       "    </tr>\n",
       "    <tr>\n",
       "      <th>2013-01-02</th>\n",
       "      <td>1.286976</td>\n",
       "      <td>0.587120</td>\n",
       "      <td>1.805363</td>\n",
       "      <td>5</td>\n",
       "      <td>1.0</td>\n",
       "      <td>1.0</td>\n",
       "    </tr>\n",
       "    <tr>\n",
       "      <th>2013-01-03</th>\n",
       "      <td>2.139396</td>\n",
       "      <td>0.876003</td>\n",
       "      <td>0.308157</td>\n",
       "      <td>5</td>\n",
       "      <td>2.0</td>\n",
       "      <td>NaN</td>\n",
       "    </tr>\n",
       "    <tr>\n",
       "      <th>2013-01-04</th>\n",
       "      <td>0.494930</td>\n",
       "      <td>1.274901</td>\n",
       "      <td>-0.317435</td>\n",
       "      <td>5</td>\n",
       "      <td>3.0</td>\n",
       "      <td>NaN</td>\n",
       "    </tr>\n",
       "  </tbody>\n",
       "</table>\n",
       "</div>"
      ],
      "text/plain": [
       "                   A         B         C  D    F    E\n",
       "2013-01-01  0.000000  0.000000  0.279680  5  NaN  1.0\n",
       "2013-01-02  1.286976  0.587120  1.805363  5  1.0  1.0\n",
       "2013-01-03  2.139396  0.876003  0.308157  5  2.0  NaN\n",
       "2013-01-04  0.494930  1.274901 -0.317435  5  3.0  NaN"
      ]
     },
     "execution_count": 234,
     "metadata": {},
     "output_type": "execute_result"
    }
   ],
   "source": [
    "df1"
   ]
  },
  {
   "cell_type": "markdown",
   "metadata": {},
   "source": [
    "Filling missin data"
   ]
  },
  {
   "cell_type": "code",
   "execution_count": 235,
   "metadata": {
    "scrolled": true
   },
   "outputs": [
    {
     "data": {
      "text/html": [
       "<div>\n",
       "<style scoped>\n",
       "    .dataframe tbody tr th:only-of-type {\n",
       "        vertical-align: middle;\n",
       "    }\n",
       "\n",
       "    .dataframe tbody tr th {\n",
       "        vertical-align: top;\n",
       "    }\n",
       "\n",
       "    .dataframe thead th {\n",
       "        text-align: right;\n",
       "    }\n",
       "</style>\n",
       "<table border=\"1\" class=\"dataframe\">\n",
       "  <thead>\n",
       "    <tr style=\"text-align: right;\">\n",
       "      <th></th>\n",
       "      <th>A</th>\n",
       "      <th>B</th>\n",
       "      <th>C</th>\n",
       "      <th>D</th>\n",
       "      <th>F</th>\n",
       "      <th>E</th>\n",
       "    </tr>\n",
       "  </thead>\n",
       "  <tbody>\n",
       "    <tr>\n",
       "      <th>2013-01-01</th>\n",
       "      <td>0.000000</td>\n",
       "      <td>0.000000</td>\n",
       "      <td>0.279680</td>\n",
       "      <td>5</td>\n",
       "      <td>5.0</td>\n",
       "      <td>1.0</td>\n",
       "    </tr>\n",
       "    <tr>\n",
       "      <th>2013-01-02</th>\n",
       "      <td>1.286976</td>\n",
       "      <td>0.587120</td>\n",
       "      <td>1.805363</td>\n",
       "      <td>5</td>\n",
       "      <td>1.0</td>\n",
       "      <td>1.0</td>\n",
       "    </tr>\n",
       "    <tr>\n",
       "      <th>2013-01-03</th>\n",
       "      <td>2.139396</td>\n",
       "      <td>0.876003</td>\n",
       "      <td>0.308157</td>\n",
       "      <td>5</td>\n",
       "      <td>2.0</td>\n",
       "      <td>5.0</td>\n",
       "    </tr>\n",
       "    <tr>\n",
       "      <th>2013-01-04</th>\n",
       "      <td>0.494930</td>\n",
       "      <td>1.274901</td>\n",
       "      <td>-0.317435</td>\n",
       "      <td>5</td>\n",
       "      <td>3.0</td>\n",
       "      <td>5.0</td>\n",
       "    </tr>\n",
       "  </tbody>\n",
       "</table>\n",
       "</div>"
      ],
      "text/plain": [
       "                   A         B         C  D    F    E\n",
       "2013-01-01  0.000000  0.000000  0.279680  5  5.0  1.0\n",
       "2013-01-02  1.286976  0.587120  1.805363  5  1.0  1.0\n",
       "2013-01-03  2.139396  0.876003  0.308157  5  2.0  5.0\n",
       "2013-01-04  0.494930  1.274901 -0.317435  5  3.0  5.0"
      ]
     },
     "execution_count": 235,
     "metadata": {},
     "output_type": "execute_result"
    }
   ],
   "source": [
    "df1.fillna(value=5)"
   ]
  },
  {
   "cell_type": "code",
   "execution_count": 131,
   "metadata": {},
   "outputs": [],
   "source": [
    "?df1.fillna"
   ]
  },
  {
   "cell_type": "code",
   "execution_count": 238,
   "metadata": {},
   "outputs": [
    {
     "data": {
      "text/html": [
       "<div>\n",
       "<style scoped>\n",
       "    .dataframe tbody tr th:only-of-type {\n",
       "        vertical-align: middle;\n",
       "    }\n",
       "\n",
       "    .dataframe tbody tr th {\n",
       "        vertical-align: top;\n",
       "    }\n",
       "\n",
       "    .dataframe thead th {\n",
       "        text-align: right;\n",
       "    }\n",
       "</style>\n",
       "<table border=\"1\" class=\"dataframe\">\n",
       "  <thead>\n",
       "    <tr style=\"text-align: right;\">\n",
       "      <th></th>\n",
       "      <th>A</th>\n",
       "      <th>B</th>\n",
       "      <th>C</th>\n",
       "      <th>D</th>\n",
       "      <th>F</th>\n",
       "    </tr>\n",
       "  </thead>\n",
       "  <tbody>\n",
       "    <tr>\n",
       "      <th>2013-01-01</th>\n",
       "      <td>0.000000</td>\n",
       "      <td>0.000000</td>\n",
       "      <td>0.279680</td>\n",
       "      <td>5</td>\n",
       "      <td>NaN</td>\n",
       "    </tr>\n",
       "    <tr>\n",
       "      <th>2013-01-02</th>\n",
       "      <td>1.286976</td>\n",
       "      <td>NaN</td>\n",
       "      <td>1.805363</td>\n",
       "      <td>5</td>\n",
       "      <td>1.0</td>\n",
       "    </tr>\n",
       "    <tr>\n",
       "      <th>2013-01-03</th>\n",
       "      <td>2.139396</td>\n",
       "      <td>NaN</td>\n",
       "      <td>0.308157</td>\n",
       "      <td>5</td>\n",
       "      <td>2.0</td>\n",
       "    </tr>\n",
       "    <tr>\n",
       "      <th>2013-01-04</th>\n",
       "      <td>0.494930</td>\n",
       "      <td>1.274901</td>\n",
       "      <td>-0.317435</td>\n",
       "      <td>5</td>\n",
       "      <td>3.0</td>\n",
       "    </tr>\n",
       "    <tr>\n",
       "      <th>2013-01-05</th>\n",
       "      <td>-0.271722</td>\n",
       "      <td>-0.007324</td>\n",
       "      <td>-0.404277</td>\n",
       "      <td>5</td>\n",
       "      <td>4.0</td>\n",
       "    </tr>\n",
       "    <tr>\n",
       "      <th>2013-01-06</th>\n",
       "      <td>-0.320006</td>\n",
       "      <td>-0.516964</td>\n",
       "      <td>-0.302451</td>\n",
       "      <td>5</td>\n",
       "      <td>5.0</td>\n",
       "    </tr>\n",
       "  </tbody>\n",
       "</table>\n",
       "</div>"
      ],
      "text/plain": [
       "                   A         B         C  D    F\n",
       "2013-01-01  0.000000  0.000000  0.279680  5  NaN\n",
       "2013-01-02  1.286976       NaN  1.805363  5  1.0\n",
       "2013-01-03  2.139396       NaN  0.308157  5  2.0\n",
       "2013-01-04  0.494930  1.274901 -0.317435  5  3.0\n",
       "2013-01-05 -0.271722 -0.007324 -0.404277  5  4.0\n",
       "2013-01-06 -0.320006 -0.516964 -0.302451  5  5.0"
      ]
     },
     "execution_count": 238,
     "metadata": {},
     "output_type": "execute_result"
    }
   ],
   "source": [
    "df3"
   ]
  },
  {
   "cell_type": "code",
   "execution_count": 237,
   "metadata": {},
   "outputs": [
    {
     "data": {
      "text/html": [
       "<div>\n",
       "<style scoped>\n",
       "    .dataframe tbody tr th:only-of-type {\n",
       "        vertical-align: middle;\n",
       "    }\n",
       "\n",
       "    .dataframe tbody tr th {\n",
       "        vertical-align: top;\n",
       "    }\n",
       "\n",
       "    .dataframe thead th {\n",
       "        text-align: right;\n",
       "    }\n",
       "</style>\n",
       "<table border=\"1\" class=\"dataframe\">\n",
       "  <thead>\n",
       "    <tr style=\"text-align: right;\">\n",
       "      <th></th>\n",
       "      <th>A</th>\n",
       "      <th>B</th>\n",
       "      <th>C</th>\n",
       "      <th>D</th>\n",
       "      <th>F</th>\n",
       "    </tr>\n",
       "  </thead>\n",
       "  <tbody>\n",
       "    <tr>\n",
       "      <th>2013-01-01</th>\n",
       "      <td>0.000000</td>\n",
       "      <td>0.000000</td>\n",
       "      <td>0.279680</td>\n",
       "      <td>5</td>\n",
       "      <td>NaN</td>\n",
       "    </tr>\n",
       "    <tr>\n",
       "      <th>2013-01-02</th>\n",
       "      <td>1.286976</td>\n",
       "      <td>0.000000</td>\n",
       "      <td>1.805363</td>\n",
       "      <td>5</td>\n",
       "      <td>1.0</td>\n",
       "    </tr>\n",
       "    <tr>\n",
       "      <th>2013-01-03</th>\n",
       "      <td>2.139396</td>\n",
       "      <td>0.000000</td>\n",
       "      <td>0.308157</td>\n",
       "      <td>5</td>\n",
       "      <td>2.0</td>\n",
       "    </tr>\n",
       "    <tr>\n",
       "      <th>2013-01-04</th>\n",
       "      <td>0.494930</td>\n",
       "      <td>1.274901</td>\n",
       "      <td>-0.317435</td>\n",
       "      <td>5</td>\n",
       "      <td>3.0</td>\n",
       "    </tr>\n",
       "    <tr>\n",
       "      <th>2013-01-05</th>\n",
       "      <td>-0.271722</td>\n",
       "      <td>-0.007324</td>\n",
       "      <td>-0.404277</td>\n",
       "      <td>5</td>\n",
       "      <td>4.0</td>\n",
       "    </tr>\n",
       "    <tr>\n",
       "      <th>2013-01-06</th>\n",
       "      <td>-0.320006</td>\n",
       "      <td>-0.516964</td>\n",
       "      <td>-0.302451</td>\n",
       "      <td>5</td>\n",
       "      <td>5.0</td>\n",
       "    </tr>\n",
       "  </tbody>\n",
       "</table>\n",
       "</div>"
      ],
      "text/plain": [
       "                   A         B         C  D    F\n",
       "2013-01-01  0.000000  0.000000  0.279680  5  NaN\n",
       "2013-01-02  1.286976  0.000000  1.805363  5  1.0\n",
       "2013-01-03  2.139396  0.000000  0.308157  5  2.0\n",
       "2013-01-04  0.494930  1.274901 -0.317435  5  3.0\n",
       "2013-01-05 -0.271722 -0.007324 -0.404277  5  4.0\n",
       "2013-01-06 -0.320006 -0.516964 -0.302451  5  5.0"
      ]
     },
     "execution_count": 237,
     "metadata": {},
     "output_type": "execute_result"
    }
   ],
   "source": [
    "df3.fillna(method=\"ffill\")"
   ]
  },
  {
   "cell_type": "code",
   "execution_count": 133,
   "metadata": {
    "scrolled": false
   },
   "outputs": [
    {
     "data": {
      "text/html": [
       "<div>\n",
       "<style scoped>\n",
       "    .dataframe tbody tr th:only-of-type {\n",
       "        vertical-align: middle;\n",
       "    }\n",
       "\n",
       "    .dataframe tbody tr th {\n",
       "        vertical-align: top;\n",
       "    }\n",
       "\n",
       "    .dataframe thead th {\n",
       "        text-align: right;\n",
       "    }\n",
       "</style>\n",
       "<table border=\"1\" class=\"dataframe\">\n",
       "  <thead>\n",
       "    <tr style=\"text-align: right;\">\n",
       "      <th></th>\n",
       "      <th>A</th>\n",
       "      <th>B</th>\n",
       "      <th>C</th>\n",
       "      <th>D</th>\n",
       "      <th>F</th>\n",
       "    </tr>\n",
       "  </thead>\n",
       "  <tbody>\n",
       "    <tr>\n",
       "      <th>2013-01-01</th>\n",
       "      <td>0.000000</td>\n",
       "      <td>1.351203</td>\n",
       "      <td>0.239896</td>\n",
       "      <td>5</td>\n",
       "      <td>NaN</td>\n",
       "    </tr>\n",
       "    <tr>\n",
       "      <th>2013-01-02</th>\n",
       "      <td>-0.079022</td>\n",
       "      <td>NaN</td>\n",
       "      <td>NaN</td>\n",
       "      <td>5</td>\n",
       "      <td>1.0</td>\n",
       "    </tr>\n",
       "    <tr>\n",
       "      <th>2013-01-03</th>\n",
       "      <td>0.520116</td>\n",
       "      <td>NaN</td>\n",
       "      <td>NaN</td>\n",
       "      <td>5</td>\n",
       "      <td>2.0</td>\n",
       "    </tr>\n",
       "    <tr>\n",
       "      <th>2013-01-04</th>\n",
       "      <td>NaN</td>\n",
       "      <td>0.000000</td>\n",
       "      <td>-0.124239</td>\n",
       "      <td>5</td>\n",
       "      <td>3.0</td>\n",
       "    </tr>\n",
       "    <tr>\n",
       "      <th>2013-01-05</th>\n",
       "      <td>-1.751503</td>\n",
       "      <td>0.246934</td>\n",
       "      <td>-1.676786</td>\n",
       "      <td>5</td>\n",
       "      <td>4.0</td>\n",
       "    </tr>\n",
       "    <tr>\n",
       "      <th>2013-01-06</th>\n",
       "      <td>-0.318204</td>\n",
       "      <td>0.018773</td>\n",
       "      <td>0.310749</td>\n",
       "      <td>5</td>\n",
       "      <td>5.0</td>\n",
       "    </tr>\n",
       "  </tbody>\n",
       "</table>\n",
       "</div>"
      ],
      "text/plain": [
       "                   A         B         C  D    F\n",
       "2013-01-01  0.000000  1.351203  0.239896  5  NaN\n",
       "2013-01-02 -0.079022       NaN       NaN  5  1.0\n",
       "2013-01-03  0.520116       NaN       NaN  5  2.0\n",
       "2013-01-04       NaN  0.000000 -0.124239  5  3.0\n",
       "2013-01-05 -1.751503  0.246934 -1.676786  5  4.0\n",
       "2013-01-06 -0.318204  0.018773  0.310749  5  5.0"
      ]
     },
     "execution_count": 133,
     "metadata": {},
     "output_type": "execute_result"
    }
   ],
   "source": [
    "df3=df.copy()\n",
    "df3.iloc[1:3,1:3]=np.nan\n",
    "df3"
   ]
  },
  {
   "cell_type": "code",
   "execution_count": 134,
   "metadata": {
    "scrolled": true
   },
   "outputs": [
    {
     "data": {
      "text/html": [
       "<div>\n",
       "<style scoped>\n",
       "    .dataframe tbody tr th:only-of-type {\n",
       "        vertical-align: middle;\n",
       "    }\n",
       "\n",
       "    .dataframe tbody tr th {\n",
       "        vertical-align: top;\n",
       "    }\n",
       "\n",
       "    .dataframe thead th {\n",
       "        text-align: right;\n",
       "    }\n",
       "</style>\n",
       "<table border=\"1\" class=\"dataframe\">\n",
       "  <thead>\n",
       "    <tr style=\"text-align: right;\">\n",
       "      <th></th>\n",
       "      <th>A</th>\n",
       "      <th>B</th>\n",
       "      <th>C</th>\n",
       "      <th>D</th>\n",
       "      <th>F</th>\n",
       "    </tr>\n",
       "  </thead>\n",
       "  <tbody>\n",
       "    <tr>\n",
       "      <th>2013-01-01</th>\n",
       "      <td>0.000000</td>\n",
       "      <td>1.351203</td>\n",
       "      <td>0.239896</td>\n",
       "      <td>5</td>\n",
       "      <td>1.0</td>\n",
       "    </tr>\n",
       "    <tr>\n",
       "      <th>2013-01-02</th>\n",
       "      <td>-0.079022</td>\n",
       "      <td>0.000000</td>\n",
       "      <td>-0.124239</td>\n",
       "      <td>5</td>\n",
       "      <td>1.0</td>\n",
       "    </tr>\n",
       "    <tr>\n",
       "      <th>2013-01-03</th>\n",
       "      <td>0.520116</td>\n",
       "      <td>0.000000</td>\n",
       "      <td>-0.124239</td>\n",
       "      <td>5</td>\n",
       "      <td>2.0</td>\n",
       "    </tr>\n",
       "    <tr>\n",
       "      <th>2013-01-04</th>\n",
       "      <td>-1.751503</td>\n",
       "      <td>0.000000</td>\n",
       "      <td>-0.124239</td>\n",
       "      <td>5</td>\n",
       "      <td>3.0</td>\n",
       "    </tr>\n",
       "    <tr>\n",
       "      <th>2013-01-05</th>\n",
       "      <td>-1.751503</td>\n",
       "      <td>0.246934</td>\n",
       "      <td>-1.676786</td>\n",
       "      <td>5</td>\n",
       "      <td>4.0</td>\n",
       "    </tr>\n",
       "    <tr>\n",
       "      <th>2013-01-06</th>\n",
       "      <td>-0.318204</td>\n",
       "      <td>0.018773</td>\n",
       "      <td>0.310749</td>\n",
       "      <td>5</td>\n",
       "      <td>5.0</td>\n",
       "    </tr>\n",
       "  </tbody>\n",
       "</table>\n",
       "</div>"
      ],
      "text/plain": [
       "                   A         B         C  D    F\n",
       "2013-01-01  0.000000  1.351203  0.239896  5  1.0\n",
       "2013-01-02 -0.079022  0.000000 -0.124239  5  1.0\n",
       "2013-01-03  0.520116  0.000000 -0.124239  5  2.0\n",
       "2013-01-04 -1.751503  0.000000 -0.124239  5  3.0\n",
       "2013-01-05 -1.751503  0.246934 -1.676786  5  4.0\n",
       "2013-01-06 -0.318204  0.018773  0.310749  5  5.0"
      ]
     },
     "execution_count": 134,
     "metadata": {},
     "output_type": "execute_result"
    }
   ],
   "source": [
    "df3.fillna(method=\"bfill\")"
   ]
  },
  {
   "cell_type": "code",
   "execution_count": 135,
   "metadata": {},
   "outputs": [
    {
     "data": {
      "text/html": [
       "<div>\n",
       "<style scoped>\n",
       "    .dataframe tbody tr th:only-of-type {\n",
       "        vertical-align: middle;\n",
       "    }\n",
       "\n",
       "    .dataframe tbody tr th {\n",
       "        vertical-align: top;\n",
       "    }\n",
       "\n",
       "    .dataframe thead th {\n",
       "        text-align: right;\n",
       "    }\n",
       "</style>\n",
       "<table border=\"1\" class=\"dataframe\">\n",
       "  <thead>\n",
       "    <tr style=\"text-align: right;\">\n",
       "      <th></th>\n",
       "      <th>A</th>\n",
       "      <th>B</th>\n",
       "      <th>C</th>\n",
       "      <th>D</th>\n",
       "      <th>F</th>\n",
       "    </tr>\n",
       "  </thead>\n",
       "  <tbody>\n",
       "    <tr>\n",
       "      <th>2013-01-01</th>\n",
       "      <td>0.000000</td>\n",
       "      <td>1.351203</td>\n",
       "      <td>0.239896</td>\n",
       "      <td>5</td>\n",
       "      <td>NaN</td>\n",
       "    </tr>\n",
       "    <tr>\n",
       "      <th>2013-01-02</th>\n",
       "      <td>-0.079022</td>\n",
       "      <td>NaN</td>\n",
       "      <td>NaN</td>\n",
       "      <td>5</td>\n",
       "      <td>1.0</td>\n",
       "    </tr>\n",
       "    <tr>\n",
       "      <th>2013-01-03</th>\n",
       "      <td>0.520116</td>\n",
       "      <td>NaN</td>\n",
       "      <td>NaN</td>\n",
       "      <td>5</td>\n",
       "      <td>2.0</td>\n",
       "    </tr>\n",
       "    <tr>\n",
       "      <th>2013-01-04</th>\n",
       "      <td>NaN</td>\n",
       "      <td>0.000000</td>\n",
       "      <td>-0.124239</td>\n",
       "      <td>5</td>\n",
       "      <td>3.0</td>\n",
       "    </tr>\n",
       "    <tr>\n",
       "      <th>2013-01-05</th>\n",
       "      <td>-1.751503</td>\n",
       "      <td>0.246934</td>\n",
       "      <td>-1.676786</td>\n",
       "      <td>5</td>\n",
       "      <td>4.0</td>\n",
       "    </tr>\n",
       "    <tr>\n",
       "      <th>2013-01-06</th>\n",
       "      <td>-0.318204</td>\n",
       "      <td>0.018773</td>\n",
       "      <td>0.310749</td>\n",
       "      <td>5</td>\n",
       "      <td>5.0</td>\n",
       "    </tr>\n",
       "  </tbody>\n",
       "</table>\n",
       "</div>"
      ],
      "text/plain": [
       "                   A         B         C  D    F\n",
       "2013-01-01  0.000000  1.351203  0.239896  5  NaN\n",
       "2013-01-02 -0.079022       NaN       NaN  5  1.0\n",
       "2013-01-03  0.520116       NaN       NaN  5  2.0\n",
       "2013-01-04       NaN  0.000000 -0.124239  5  3.0\n",
       "2013-01-05 -1.751503  0.246934 -1.676786  5  4.0\n",
       "2013-01-06 -0.318204  0.018773  0.310749  5  5.0"
      ]
     },
     "execution_count": 135,
     "metadata": {},
     "output_type": "execute_result"
    }
   ],
   "source": [
    "df3"
   ]
  },
  {
   "cell_type": "code",
   "execution_count": 136,
   "metadata": {},
   "outputs": [
    {
     "data": {
      "text/html": [
       "<div>\n",
       "<style scoped>\n",
       "    .dataframe tbody tr th:only-of-type {\n",
       "        vertical-align: middle;\n",
       "    }\n",
       "\n",
       "    .dataframe tbody tr th {\n",
       "        vertical-align: top;\n",
       "    }\n",
       "\n",
       "    .dataframe thead th {\n",
       "        text-align: right;\n",
       "    }\n",
       "</style>\n",
       "<table border=\"1\" class=\"dataframe\">\n",
       "  <thead>\n",
       "    <tr style=\"text-align: right;\">\n",
       "      <th></th>\n",
       "      <th>A</th>\n",
       "      <th>B</th>\n",
       "      <th>C</th>\n",
       "      <th>D</th>\n",
       "      <th>F</th>\n",
       "    </tr>\n",
       "  </thead>\n",
       "  <tbody>\n",
       "    <tr>\n",
       "      <th>2013-01-01</th>\n",
       "      <td>0.000000</td>\n",
       "      <td>1.351203</td>\n",
       "      <td>0.239896</td>\n",
       "      <td>5</td>\n",
       "      <td>NaN</td>\n",
       "    </tr>\n",
       "    <tr>\n",
       "      <th>2013-01-02</th>\n",
       "      <td>-0.079022</td>\n",
       "      <td>1.351203</td>\n",
       "      <td>0.239896</td>\n",
       "      <td>5</td>\n",
       "      <td>1.0</td>\n",
       "    </tr>\n",
       "    <tr>\n",
       "      <th>2013-01-03</th>\n",
       "      <td>0.520116</td>\n",
       "      <td>1.351203</td>\n",
       "      <td>0.239896</td>\n",
       "      <td>5</td>\n",
       "      <td>2.0</td>\n",
       "    </tr>\n",
       "    <tr>\n",
       "      <th>2013-01-04</th>\n",
       "      <td>0.520116</td>\n",
       "      <td>0.000000</td>\n",
       "      <td>-0.124239</td>\n",
       "      <td>5</td>\n",
       "      <td>3.0</td>\n",
       "    </tr>\n",
       "    <tr>\n",
       "      <th>2013-01-05</th>\n",
       "      <td>-1.751503</td>\n",
       "      <td>0.246934</td>\n",
       "      <td>-1.676786</td>\n",
       "      <td>5</td>\n",
       "      <td>4.0</td>\n",
       "    </tr>\n",
       "    <tr>\n",
       "      <th>2013-01-06</th>\n",
       "      <td>-0.318204</td>\n",
       "      <td>0.018773</td>\n",
       "      <td>0.310749</td>\n",
       "      <td>5</td>\n",
       "      <td>5.0</td>\n",
       "    </tr>\n",
       "  </tbody>\n",
       "</table>\n",
       "</div>"
      ],
      "text/plain": [
       "                   A         B         C  D    F\n",
       "2013-01-01  0.000000  1.351203  0.239896  5  NaN\n",
       "2013-01-02 -0.079022  1.351203  0.239896  5  1.0\n",
       "2013-01-03  0.520116  1.351203  0.239896  5  2.0\n",
       "2013-01-04  0.520116  0.000000 -0.124239  5  3.0\n",
       "2013-01-05 -1.751503  0.246934 -1.676786  5  4.0\n",
       "2013-01-06 -0.318204  0.018773  0.310749  5  5.0"
      ]
     },
     "execution_count": 136,
     "metadata": {},
     "output_type": "execute_result"
    }
   ],
   "source": [
    "df3.fillna(method=\"ffill\")"
   ]
  },
  {
   "cell_type": "code",
   "execution_count": 137,
   "metadata": {},
   "outputs": [
    {
     "data": {
      "text/html": [
       "<div>\n",
       "<style scoped>\n",
       "    .dataframe tbody tr th:only-of-type {\n",
       "        vertical-align: middle;\n",
       "    }\n",
       "\n",
       "    .dataframe tbody tr th {\n",
       "        vertical-align: top;\n",
       "    }\n",
       "\n",
       "    .dataframe thead th {\n",
       "        text-align: right;\n",
       "    }\n",
       "</style>\n",
       "<table border=\"1\" class=\"dataframe\">\n",
       "  <thead>\n",
       "    <tr style=\"text-align: right;\">\n",
       "      <th></th>\n",
       "      <th>A</th>\n",
       "      <th>B</th>\n",
       "      <th>C</th>\n",
       "      <th>D</th>\n",
       "      <th>F</th>\n",
       "      <th>E</th>\n",
       "    </tr>\n",
       "  </thead>\n",
       "  <tbody>\n",
       "    <tr>\n",
       "      <th>2013-01-01</th>\n",
       "      <td>False</td>\n",
       "      <td>False</td>\n",
       "      <td>False</td>\n",
       "      <td>False</td>\n",
       "      <td>True</td>\n",
       "      <td>False</td>\n",
       "    </tr>\n",
       "    <tr>\n",
       "      <th>2013-01-02</th>\n",
       "      <td>False</td>\n",
       "      <td>False</td>\n",
       "      <td>False</td>\n",
       "      <td>False</td>\n",
       "      <td>False</td>\n",
       "      <td>False</td>\n",
       "    </tr>\n",
       "    <tr>\n",
       "      <th>2013-01-03</th>\n",
       "      <td>False</td>\n",
       "      <td>False</td>\n",
       "      <td>False</td>\n",
       "      <td>False</td>\n",
       "      <td>False</td>\n",
       "      <td>True</td>\n",
       "    </tr>\n",
       "    <tr>\n",
       "      <th>2013-01-04</th>\n",
       "      <td>True</td>\n",
       "      <td>False</td>\n",
       "      <td>False</td>\n",
       "      <td>False</td>\n",
       "      <td>False</td>\n",
       "      <td>True</td>\n",
       "    </tr>\n",
       "  </tbody>\n",
       "</table>\n",
       "</div>"
      ],
      "text/plain": [
       "                A      B      C      D      F      E\n",
       "2013-01-01  False  False  False  False   True  False\n",
       "2013-01-02  False  False  False  False  False  False\n",
       "2013-01-03  False  False  False  False  False   True\n",
       "2013-01-04   True  False  False  False  False   True"
      ]
     },
     "execution_count": 137,
     "metadata": {},
     "output_type": "execute_result"
    }
   ],
   "source": [
    "pd.isnull(df1)"
   ]
  },
  {
   "cell_type": "markdown",
   "metadata": {},
   "source": [
    "To get the boolean mask where values are `nan`"
   ]
  },
  {
   "cell_type": "code",
   "execution_count": 138,
   "metadata": {},
   "outputs": [
    {
     "data": {
      "text/html": [
       "<div>\n",
       "<style scoped>\n",
       "    .dataframe tbody tr th:only-of-type {\n",
       "        vertical-align: middle;\n",
       "    }\n",
       "\n",
       "    .dataframe tbody tr th {\n",
       "        vertical-align: top;\n",
       "    }\n",
       "\n",
       "    .dataframe thead th {\n",
       "        text-align: right;\n",
       "    }\n",
       "</style>\n",
       "<table border=\"1\" class=\"dataframe\">\n",
       "  <thead>\n",
       "    <tr style=\"text-align: right;\">\n",
       "      <th></th>\n",
       "      <th>A</th>\n",
       "      <th>B</th>\n",
       "      <th>C</th>\n",
       "      <th>D</th>\n",
       "      <th>F</th>\n",
       "      <th>E</th>\n",
       "    </tr>\n",
       "  </thead>\n",
       "  <tbody>\n",
       "    <tr>\n",
       "      <th>2013-01-01</th>\n",
       "      <td>False</td>\n",
       "      <td>False</td>\n",
       "      <td>False</td>\n",
       "      <td>False</td>\n",
       "      <td>True</td>\n",
       "      <td>False</td>\n",
       "    </tr>\n",
       "    <tr>\n",
       "      <th>2013-01-02</th>\n",
       "      <td>False</td>\n",
       "      <td>False</td>\n",
       "      <td>False</td>\n",
       "      <td>False</td>\n",
       "      <td>False</td>\n",
       "      <td>False</td>\n",
       "    </tr>\n",
       "    <tr>\n",
       "      <th>2013-01-03</th>\n",
       "      <td>False</td>\n",
       "      <td>False</td>\n",
       "      <td>False</td>\n",
       "      <td>False</td>\n",
       "      <td>False</td>\n",
       "      <td>True</td>\n",
       "    </tr>\n",
       "    <tr>\n",
       "      <th>2013-01-04</th>\n",
       "      <td>True</td>\n",
       "      <td>False</td>\n",
       "      <td>False</td>\n",
       "      <td>False</td>\n",
       "      <td>False</td>\n",
       "      <td>True</td>\n",
       "    </tr>\n",
       "  </tbody>\n",
       "</table>\n",
       "</div>"
      ],
      "text/plain": [
       "                A      B      C      D      F      E\n",
       "2013-01-01  False  False  False  False   True  False\n",
       "2013-01-02  False  False  False  False  False  False\n",
       "2013-01-03  False  False  False  False  False   True\n",
       "2013-01-04   True  False  False  False  False   True"
      ]
     },
     "execution_count": 138,
     "metadata": {},
     "output_type": "execute_result"
    }
   ],
   "source": [
    "pd.isnull(df1)"
   ]
  },
  {
   "cell_type": "markdown",
   "metadata": {},
   "source": [
    "## Operations"
   ]
  },
  {
   "cell_type": "markdown",
   "metadata": {},
   "source": [
    "Flexible binary operations\n",
    "\n",
    "With binary operations between pandas data structures, there are two key points of interest:\n",
    "\n",
    "(a) Broadcasting behavior between higher- (e.g. DataFrame) and lower-dimensional (e.g. Series) objects.\n",
    "\n",
    "(b) Missing data in computations\n",
    "\n",
    "Matching / broadcasting behavior\n",
    "\n",
    "DataFrame has the methods add(), sub(), mul(), div() and related functions radd(), rsub(), etc., for carrying out binary operations. For broadcasting behavior, Series input is of primary interest. Using these functions, you can use to either match on the index or columns via the axis keyword:"
   ]
  },
  {
   "cell_type": "code",
   "execution_count": 139,
   "metadata": {},
   "outputs": [
    {
     "data": {
      "text/html": [
       "<div>\n",
       "<style scoped>\n",
       "    .dataframe tbody tr th:only-of-type {\n",
       "        vertical-align: middle;\n",
       "    }\n",
       "\n",
       "    .dataframe tbody tr th {\n",
       "        vertical-align: top;\n",
       "    }\n",
       "\n",
       "    .dataframe thead th {\n",
       "        text-align: right;\n",
       "    }\n",
       "</style>\n",
       "<table border=\"1\" class=\"dataframe\">\n",
       "  <thead>\n",
       "    <tr style=\"text-align: right;\">\n",
       "      <th></th>\n",
       "      <th>A</th>\n",
       "      <th>B</th>\n",
       "      <th>C</th>\n",
       "      <th>D</th>\n",
       "      <th>F</th>\n",
       "    </tr>\n",
       "  </thead>\n",
       "  <tbody>\n",
       "    <tr>\n",
       "      <th>2013-01-01</th>\n",
       "      <td>0.000000</td>\n",
       "      <td>1.351203</td>\n",
       "      <td>0.239896</td>\n",
       "      <td>5</td>\n",
       "      <td>NaN</td>\n",
       "    </tr>\n",
       "    <tr>\n",
       "      <th>2013-01-02</th>\n",
       "      <td>-0.079022</td>\n",
       "      <td>-1.117805</td>\n",
       "      <td>0.237695</td>\n",
       "      <td>5</td>\n",
       "      <td>1.0</td>\n",
       "    </tr>\n",
       "    <tr>\n",
       "      <th>2013-01-03</th>\n",
       "      <td>0.520116</td>\n",
       "      <td>0.452025</td>\n",
       "      <td>-0.427301</td>\n",
       "      <td>5</td>\n",
       "      <td>2.0</td>\n",
       "    </tr>\n",
       "    <tr>\n",
       "      <th>2013-01-04</th>\n",
       "      <td>NaN</td>\n",
       "      <td>0.000000</td>\n",
       "      <td>-0.124239</td>\n",
       "      <td>5</td>\n",
       "      <td>3.0</td>\n",
       "    </tr>\n",
       "    <tr>\n",
       "      <th>2013-01-05</th>\n",
       "      <td>-1.751503</td>\n",
       "      <td>0.246934</td>\n",
       "      <td>-1.676786</td>\n",
       "      <td>5</td>\n",
       "      <td>4.0</td>\n",
       "    </tr>\n",
       "    <tr>\n",
       "      <th>2013-01-06</th>\n",
       "      <td>-0.318204</td>\n",
       "      <td>0.018773</td>\n",
       "      <td>0.310749</td>\n",
       "      <td>5</td>\n",
       "      <td>5.0</td>\n",
       "    </tr>\n",
       "  </tbody>\n",
       "</table>\n",
       "</div>"
      ],
      "text/plain": [
       "                   A         B         C  D    F\n",
       "2013-01-01  0.000000  1.351203  0.239896  5  NaN\n",
       "2013-01-02 -0.079022 -1.117805  0.237695  5  1.0\n",
       "2013-01-03  0.520116  0.452025 -0.427301  5  2.0\n",
       "2013-01-04       NaN  0.000000 -0.124239  5  3.0\n",
       "2013-01-05 -1.751503  0.246934 -1.676786  5  4.0\n",
       "2013-01-06 -0.318204  0.018773  0.310749  5  5.0"
      ]
     },
     "execution_count": 139,
     "metadata": {},
     "output_type": "execute_result"
    }
   ],
   "source": [
    "df"
   ]
  },
  {
   "cell_type": "markdown",
   "metadata": {},
   "source": [
    "### Stats"
   ]
  },
  {
   "cell_type": "markdown",
   "metadata": {},
   "source": [
    "Operations in general exclude missing data."
   ]
  },
  {
   "cell_type": "markdown",
   "metadata": {},
   "source": [
    "Performing a descriptive statistic"
   ]
  },
  {
   "cell_type": "code",
   "execution_count": 140,
   "metadata": {},
   "outputs": [
    {
     "data": {
      "text/plain": [
       "A   -0.325723\n",
       "B    0.158522\n",
       "C   -0.239998\n",
       "D    5.000000\n",
       "F    3.000000\n",
       "dtype: float64"
      ]
     },
     "execution_count": 140,
     "metadata": {},
     "output_type": "execute_result"
    }
   ],
   "source": [
    "df.mean(axis=0)"
   ]
  },
  {
   "cell_type": "code",
   "execution_count": 141,
   "metadata": {
    "scrolled": true
   },
   "outputs": [
    {
     "data": {
      "text/plain": [
       "2013-01-01     6.591099\n",
       "2013-01-02     5.040868\n",
       "2013-01-03     7.544840\n",
       "2013-01-04     7.875761\n",
       "2013-01-05     5.818645\n",
       "2013-01-06    10.011318\n",
       "dtype: float64"
      ]
     },
     "execution_count": 141,
     "metadata": {},
     "output_type": "execute_result"
    }
   ],
   "source": [
    "df.sum(axis=1)"
   ]
  },
  {
   "cell_type": "code",
   "execution_count": 142,
   "metadata": {},
   "outputs": [
    {
     "data": {
      "text/plain": [
       "2013-01-01     6.591099\n",
       "2013-01-02     5.040868\n",
       "2013-01-03     7.544840\n",
       "2013-01-04     7.875761\n",
       "2013-01-05     5.818645\n",
       "2013-01-06    10.011318\n",
       "dtype: float64"
      ]
     },
     "execution_count": 142,
     "metadata": {},
     "output_type": "execute_result"
    }
   ],
   "source": [
    "df.sum(1)"
   ]
  },
  {
   "cell_type": "markdown",
   "metadata": {},
   "source": [
    "Same operation on the other axis"
   ]
  },
  {
   "cell_type": "code",
   "execution_count": 143,
   "metadata": {},
   "outputs": [
    {
     "data": {
      "text/plain": [
       "2013-01-01    1.647775\n",
       "2013-01-02    1.008174\n",
       "2013-01-03    1.508968\n",
       "2013-01-04    1.968940\n",
       "2013-01-05    1.163729\n",
       "2013-01-06    2.002264\n",
       "dtype: float64"
      ]
     },
     "execution_count": 143,
     "metadata": {},
     "output_type": "execute_result"
    }
   ],
   "source": [
    "df.mean(1)\n"
   ]
  },
  {
   "cell_type": "markdown",
   "metadata": {},
   "source": [
    "Operating with objects that have different dimensionality and need alignment. In addition, pandas automatically broadcasts along the specified dimension."
   ]
  },
  {
   "cell_type": "code",
   "execution_count": 144,
   "metadata": {},
   "outputs": [],
   "source": [
    "s = pd.Series([1,3,5,np.nan,6,8], index=dates).shift(2)"
   ]
  },
  {
   "cell_type": "code",
   "execution_count": 145,
   "metadata": {
    "scrolled": true
   },
   "outputs": [
    {
     "data": {
      "text/plain": [
       "2013-01-01    NaN\n",
       "2013-01-02    NaN\n",
       "2013-01-03    1.0\n",
       "2013-01-04    3.0\n",
       "2013-01-05    5.0\n",
       "2013-01-06    NaN\n",
       "Freq: D, dtype: float64"
      ]
     },
     "execution_count": 145,
     "metadata": {},
     "output_type": "execute_result"
    }
   ],
   "source": [
    "s"
   ]
  },
  {
   "cell_type": "code",
   "execution_count": 146,
   "metadata": {},
   "outputs": [
    {
     "data": {
      "text/html": [
       "<div>\n",
       "<style scoped>\n",
       "    .dataframe tbody tr th:only-of-type {\n",
       "        vertical-align: middle;\n",
       "    }\n",
       "\n",
       "    .dataframe tbody tr th {\n",
       "        vertical-align: top;\n",
       "    }\n",
       "\n",
       "    .dataframe thead th {\n",
       "        text-align: right;\n",
       "    }\n",
       "</style>\n",
       "<table border=\"1\" class=\"dataframe\">\n",
       "  <thead>\n",
       "    <tr style=\"text-align: right;\">\n",
       "      <th></th>\n",
       "      <th>A</th>\n",
       "      <th>B</th>\n",
       "      <th>C</th>\n",
       "      <th>D</th>\n",
       "      <th>F</th>\n",
       "    </tr>\n",
       "  </thead>\n",
       "  <tbody>\n",
       "    <tr>\n",
       "      <th>2013-01-01</th>\n",
       "      <td>0.000000</td>\n",
       "      <td>1.351203</td>\n",
       "      <td>0.239896</td>\n",
       "      <td>5</td>\n",
       "      <td>NaN</td>\n",
       "    </tr>\n",
       "    <tr>\n",
       "      <th>2013-01-02</th>\n",
       "      <td>-0.079022</td>\n",
       "      <td>-1.117805</td>\n",
       "      <td>0.237695</td>\n",
       "      <td>5</td>\n",
       "      <td>1.0</td>\n",
       "    </tr>\n",
       "    <tr>\n",
       "      <th>2013-01-03</th>\n",
       "      <td>0.520116</td>\n",
       "      <td>0.452025</td>\n",
       "      <td>-0.427301</td>\n",
       "      <td>5</td>\n",
       "      <td>2.0</td>\n",
       "    </tr>\n",
       "    <tr>\n",
       "      <th>2013-01-04</th>\n",
       "      <td>NaN</td>\n",
       "      <td>0.000000</td>\n",
       "      <td>-0.124239</td>\n",
       "      <td>5</td>\n",
       "      <td>3.0</td>\n",
       "    </tr>\n",
       "    <tr>\n",
       "      <th>2013-01-05</th>\n",
       "      <td>-1.751503</td>\n",
       "      <td>0.246934</td>\n",
       "      <td>-1.676786</td>\n",
       "      <td>5</td>\n",
       "      <td>4.0</td>\n",
       "    </tr>\n",
       "    <tr>\n",
       "      <th>2013-01-06</th>\n",
       "      <td>-0.318204</td>\n",
       "      <td>0.018773</td>\n",
       "      <td>0.310749</td>\n",
       "      <td>5</td>\n",
       "      <td>5.0</td>\n",
       "    </tr>\n",
       "  </tbody>\n",
       "</table>\n",
       "</div>"
      ],
      "text/plain": [
       "                   A         B         C  D    F\n",
       "2013-01-01  0.000000  1.351203  0.239896  5  NaN\n",
       "2013-01-02 -0.079022 -1.117805  0.237695  5  1.0\n",
       "2013-01-03  0.520116  0.452025 -0.427301  5  2.0\n",
       "2013-01-04       NaN  0.000000 -0.124239  5  3.0\n",
       "2013-01-05 -1.751503  0.246934 -1.676786  5  4.0\n",
       "2013-01-06 -0.318204  0.018773  0.310749  5  5.0"
      ]
     },
     "execution_count": 146,
     "metadata": {},
     "output_type": "execute_result"
    }
   ],
   "source": [
    "df"
   ]
  },
  {
   "cell_type": "code",
   "execution_count": 147,
   "metadata": {
    "scrolled": true
   },
   "outputs": [
    {
     "data": {
      "text/html": [
       "<div>\n",
       "<style scoped>\n",
       "    .dataframe tbody tr th:only-of-type {\n",
       "        vertical-align: middle;\n",
       "    }\n",
       "\n",
       "    .dataframe tbody tr th {\n",
       "        vertical-align: top;\n",
       "    }\n",
       "\n",
       "    .dataframe thead th {\n",
       "        text-align: right;\n",
       "    }\n",
       "</style>\n",
       "<table border=\"1\" class=\"dataframe\">\n",
       "  <thead>\n",
       "    <tr style=\"text-align: right;\">\n",
       "      <th></th>\n",
       "      <th>A</th>\n",
       "      <th>B</th>\n",
       "      <th>C</th>\n",
       "      <th>D</th>\n",
       "      <th>F</th>\n",
       "    </tr>\n",
       "  </thead>\n",
       "  <tbody>\n",
       "    <tr>\n",
       "      <th>2013-01-01</th>\n",
       "      <td>NaN</td>\n",
       "      <td>NaN</td>\n",
       "      <td>NaN</td>\n",
       "      <td>NaN</td>\n",
       "      <td>NaN</td>\n",
       "    </tr>\n",
       "    <tr>\n",
       "      <th>2013-01-02</th>\n",
       "      <td>NaN</td>\n",
       "      <td>NaN</td>\n",
       "      <td>NaN</td>\n",
       "      <td>NaN</td>\n",
       "      <td>NaN</td>\n",
       "    </tr>\n",
       "    <tr>\n",
       "      <th>2013-01-03</th>\n",
       "      <td>-0.479884</td>\n",
       "      <td>-0.547975</td>\n",
       "      <td>-1.427301</td>\n",
       "      <td>4.0</td>\n",
       "      <td>1.0</td>\n",
       "    </tr>\n",
       "    <tr>\n",
       "      <th>2013-01-04</th>\n",
       "      <td>NaN</td>\n",
       "      <td>-3.000000</td>\n",
       "      <td>-3.124239</td>\n",
       "      <td>2.0</td>\n",
       "      <td>0.0</td>\n",
       "    </tr>\n",
       "    <tr>\n",
       "      <th>2013-01-05</th>\n",
       "      <td>-6.751503</td>\n",
       "      <td>-4.753066</td>\n",
       "      <td>-6.676786</td>\n",
       "      <td>0.0</td>\n",
       "      <td>-1.0</td>\n",
       "    </tr>\n",
       "    <tr>\n",
       "      <th>2013-01-06</th>\n",
       "      <td>NaN</td>\n",
       "      <td>NaN</td>\n",
       "      <td>NaN</td>\n",
       "      <td>NaN</td>\n",
       "      <td>NaN</td>\n",
       "    </tr>\n",
       "  </tbody>\n",
       "</table>\n",
       "</div>"
      ],
      "text/plain": [
       "                   A         B         C    D    F\n",
       "2013-01-01       NaN       NaN       NaN  NaN  NaN\n",
       "2013-01-02       NaN       NaN       NaN  NaN  NaN\n",
       "2013-01-03 -0.479884 -0.547975 -1.427301  4.0  1.0\n",
       "2013-01-04       NaN -3.000000 -3.124239  2.0  0.0\n",
       "2013-01-05 -6.751503 -4.753066 -6.676786  0.0 -1.0\n",
       "2013-01-06       NaN       NaN       NaN  NaN  NaN"
      ]
     },
     "execution_count": 147,
     "metadata": {},
     "output_type": "execute_result"
    }
   ],
   "source": [
    "df.sub(s, axis='index')"
   ]
  },
  {
   "cell_type": "code",
   "execution_count": 148,
   "metadata": {},
   "outputs": [],
   "source": [
    "?df.sub"
   ]
  },
  {
   "cell_type": "code",
   "execution_count": 149,
   "metadata": {},
   "outputs": [
    {
     "data": {
      "text/html": [
       "<div>\n",
       "<style scoped>\n",
       "    .dataframe tbody tr th:only-of-type {\n",
       "        vertical-align: middle;\n",
       "    }\n",
       "\n",
       "    .dataframe tbody tr th {\n",
       "        vertical-align: top;\n",
       "    }\n",
       "\n",
       "    .dataframe thead th {\n",
       "        text-align: right;\n",
       "    }\n",
       "</style>\n",
       "<table border=\"1\" class=\"dataframe\">\n",
       "  <thead>\n",
       "    <tr style=\"text-align: right;\">\n",
       "      <th></th>\n",
       "      <th>A</th>\n",
       "      <th>B</th>\n",
       "      <th>C</th>\n",
       "      <th>D</th>\n",
       "      <th>F</th>\n",
       "    </tr>\n",
       "  </thead>\n",
       "  <tbody>\n",
       "    <tr>\n",
       "      <th>2013-01-01</th>\n",
       "      <td>0.000000</td>\n",
       "      <td>1.351203</td>\n",
       "      <td>0.239896</td>\n",
       "      <td>5</td>\n",
       "      <td>NaN</td>\n",
       "    </tr>\n",
       "    <tr>\n",
       "      <th>2013-01-02</th>\n",
       "      <td>-0.079022</td>\n",
       "      <td>-1.117805</td>\n",
       "      <td>0.237695</td>\n",
       "      <td>5</td>\n",
       "      <td>1.0</td>\n",
       "    </tr>\n",
       "    <tr>\n",
       "      <th>2013-01-03</th>\n",
       "      <td>0.520116</td>\n",
       "      <td>0.452025</td>\n",
       "      <td>-0.427301</td>\n",
       "      <td>5</td>\n",
       "      <td>2.0</td>\n",
       "    </tr>\n",
       "    <tr>\n",
       "      <th>2013-01-04</th>\n",
       "      <td>NaN</td>\n",
       "      <td>0.000000</td>\n",
       "      <td>-0.124239</td>\n",
       "      <td>5</td>\n",
       "      <td>3.0</td>\n",
       "    </tr>\n",
       "    <tr>\n",
       "      <th>2013-01-05</th>\n",
       "      <td>-1.751503</td>\n",
       "      <td>0.246934</td>\n",
       "      <td>-1.676786</td>\n",
       "      <td>5</td>\n",
       "      <td>4.0</td>\n",
       "    </tr>\n",
       "    <tr>\n",
       "      <th>2013-01-06</th>\n",
       "      <td>-0.318204</td>\n",
       "      <td>0.018773</td>\n",
       "      <td>0.310749</td>\n",
       "      <td>5</td>\n",
       "      <td>5.0</td>\n",
       "    </tr>\n",
       "  </tbody>\n",
       "</table>\n",
       "</div>"
      ],
      "text/plain": [
       "                   A         B         C  D    F\n",
       "2013-01-01  0.000000  1.351203  0.239896  5  NaN\n",
       "2013-01-02 -0.079022 -1.117805  0.237695  5  1.0\n",
       "2013-01-03  0.520116  0.452025 -0.427301  5  2.0\n",
       "2013-01-04       NaN  0.000000 -0.124239  5  3.0\n",
       "2013-01-05 -1.751503  0.246934 -1.676786  5  4.0\n",
       "2013-01-06 -0.318204  0.018773  0.310749  5  5.0"
      ]
     },
     "execution_count": 149,
     "metadata": {},
     "output_type": "execute_result"
    }
   ],
   "source": [
    "df"
   ]
  },
  {
   "cell_type": "code",
   "execution_count": 150,
   "metadata": {},
   "outputs": [
    {
     "data": {
      "text/plain": [
       "A    1\n",
       "B    3\n",
       "C    5\n",
       "D    6\n",
       "F    8\n",
       "dtype: int64"
      ]
     },
     "execution_count": 150,
     "metadata": {},
     "output_type": "execute_result"
    }
   ],
   "source": [
    "s2 = pd.Series([1,3,5,6,8], index=list(\"ABCDF\"))\n",
    "s2"
   ]
  },
  {
   "cell_type": "code",
   "execution_count": 151,
   "metadata": {
    "scrolled": false
   },
   "outputs": [
    {
     "data": {
      "text/html": [
       "<div>\n",
       "<style scoped>\n",
       "    .dataframe tbody tr th:only-of-type {\n",
       "        vertical-align: middle;\n",
       "    }\n",
       "\n",
       "    .dataframe tbody tr th {\n",
       "        vertical-align: top;\n",
       "    }\n",
       "\n",
       "    .dataframe thead th {\n",
       "        text-align: right;\n",
       "    }\n",
       "</style>\n",
       "<table border=\"1\" class=\"dataframe\">\n",
       "  <thead>\n",
       "    <tr style=\"text-align: right;\">\n",
       "      <th></th>\n",
       "      <th>A</th>\n",
       "      <th>B</th>\n",
       "      <th>C</th>\n",
       "      <th>D</th>\n",
       "      <th>F</th>\n",
       "    </tr>\n",
       "  </thead>\n",
       "  <tbody>\n",
       "    <tr>\n",
       "      <th>2013-01-01</th>\n",
       "      <td>-1.000000</td>\n",
       "      <td>-1.648797</td>\n",
       "      <td>-4.760104</td>\n",
       "      <td>-1</td>\n",
       "      <td>NaN</td>\n",
       "    </tr>\n",
       "    <tr>\n",
       "      <th>2013-01-02</th>\n",
       "      <td>-1.079022</td>\n",
       "      <td>-4.117805</td>\n",
       "      <td>-4.762305</td>\n",
       "      <td>-1</td>\n",
       "      <td>-7.0</td>\n",
       "    </tr>\n",
       "    <tr>\n",
       "      <th>2013-01-03</th>\n",
       "      <td>-0.479884</td>\n",
       "      <td>-2.547975</td>\n",
       "      <td>-5.427301</td>\n",
       "      <td>-1</td>\n",
       "      <td>-6.0</td>\n",
       "    </tr>\n",
       "    <tr>\n",
       "      <th>2013-01-04</th>\n",
       "      <td>NaN</td>\n",
       "      <td>-3.000000</td>\n",
       "      <td>-5.124239</td>\n",
       "      <td>-1</td>\n",
       "      <td>-5.0</td>\n",
       "    </tr>\n",
       "    <tr>\n",
       "      <th>2013-01-05</th>\n",
       "      <td>-2.751503</td>\n",
       "      <td>-2.753066</td>\n",
       "      <td>-6.676786</td>\n",
       "      <td>-1</td>\n",
       "      <td>-4.0</td>\n",
       "    </tr>\n",
       "    <tr>\n",
       "      <th>2013-01-06</th>\n",
       "      <td>-1.318204</td>\n",
       "      <td>-2.981227</td>\n",
       "      <td>-4.689251</td>\n",
       "      <td>-1</td>\n",
       "      <td>-3.0</td>\n",
       "    </tr>\n",
       "  </tbody>\n",
       "</table>\n",
       "</div>"
      ],
      "text/plain": [
       "                   A         B         C  D    F\n",
       "2013-01-01 -1.000000 -1.648797 -4.760104 -1  NaN\n",
       "2013-01-02 -1.079022 -4.117805 -4.762305 -1 -7.0\n",
       "2013-01-03 -0.479884 -2.547975 -5.427301 -1 -6.0\n",
       "2013-01-04       NaN -3.000000 -5.124239 -1 -5.0\n",
       "2013-01-05 -2.751503 -2.753066 -6.676786 -1 -4.0\n",
       "2013-01-06 -1.318204 -2.981227 -4.689251 -1 -3.0"
      ]
     },
     "execution_count": 151,
     "metadata": {},
     "output_type": "execute_result"
    }
   ],
   "source": [
    "df.sub(s2)"
   ]
  },
  {
   "cell_type": "code",
   "execution_count": 152,
   "metadata": {},
   "outputs": [],
   "source": [
    "s = pd.Series([1,3,5,np.nan,6,8], index=dates)"
   ]
  },
  {
   "cell_type": "code",
   "execution_count": 241,
   "metadata": {},
   "outputs": [
    {
     "data": {
      "text/html": [
       "<div>\n",
       "<style scoped>\n",
       "    .dataframe tbody tr th:only-of-type {\n",
       "        vertical-align: middle;\n",
       "    }\n",
       "\n",
       "    .dataframe tbody tr th {\n",
       "        vertical-align: top;\n",
       "    }\n",
       "\n",
       "    .dataframe thead th {\n",
       "        text-align: right;\n",
       "    }\n",
       "</style>\n",
       "<table border=\"1\" class=\"dataframe\">\n",
       "  <thead>\n",
       "    <tr style=\"text-align: right;\">\n",
       "      <th></th>\n",
       "      <th>A</th>\n",
       "      <th>B</th>\n",
       "      <th>C</th>\n",
       "      <th>D</th>\n",
       "      <th>F</th>\n",
       "    </tr>\n",
       "  </thead>\n",
       "  <tbody>\n",
       "    <tr>\n",
       "      <th>2013-01-01</th>\n",
       "      <td>0.000000</td>\n",
       "      <td>0.000000</td>\n",
       "      <td>0.279680</td>\n",
       "      <td>5</td>\n",
       "      <td>NaN</td>\n",
       "    </tr>\n",
       "    <tr>\n",
       "      <th>2013-01-02</th>\n",
       "      <td>1.286976</td>\n",
       "      <td>5871.201672</td>\n",
       "      <td>1.805363</td>\n",
       "      <td>5</td>\n",
       "      <td>1.0</td>\n",
       "    </tr>\n",
       "    <tr>\n",
       "      <th>2013-01-03</th>\n",
       "      <td>2.139396</td>\n",
       "      <td>8760.025681</td>\n",
       "      <td>0.308157</td>\n",
       "      <td>5</td>\n",
       "      <td>2.0</td>\n",
       "    </tr>\n",
       "    <tr>\n",
       "      <th>2013-01-04</th>\n",
       "      <td>0.494930</td>\n",
       "      <td>12749.012704</td>\n",
       "      <td>-0.317435</td>\n",
       "      <td>5</td>\n",
       "      <td>3.0</td>\n",
       "    </tr>\n",
       "    <tr>\n",
       "      <th>2013-01-05</th>\n",
       "      <td>-0.271722</td>\n",
       "      <td>-73.236451</td>\n",
       "      <td>-0.404277</td>\n",
       "      <td>5</td>\n",
       "      <td>4.0</td>\n",
       "    </tr>\n",
       "    <tr>\n",
       "      <th>2013-01-06</th>\n",
       "      <td>-0.320006</td>\n",
       "      <td>-5169.637261</td>\n",
       "      <td>-0.302451</td>\n",
       "      <td>5</td>\n",
       "      <td>5.0</td>\n",
       "    </tr>\n",
       "  </tbody>\n",
       "</table>\n",
       "</div>"
      ],
      "text/plain": [
       "                   A             B         C  D    F\n",
       "2013-01-01  0.000000      0.000000  0.279680  5  NaN\n",
       "2013-01-02  1.286976   5871.201672  1.805363  5  1.0\n",
       "2013-01-03  2.139396   8760.025681  0.308157  5  2.0\n",
       "2013-01-04  0.494930  12749.012704 -0.317435  5  3.0\n",
       "2013-01-05 -0.271722    -73.236451 -0.404277  5  4.0\n",
       "2013-01-06 -0.320006  -5169.637261 -0.302451  5  5.0"
      ]
     },
     "execution_count": 241,
     "metadata": {},
     "output_type": "execute_result"
    }
   ],
   "source": [
    "df.B*=100\n",
    "df"
   ]
  },
  {
   "cell_type": "markdown",
   "metadata": {},
   "source": [
    "### Apply"
   ]
  },
  {
   "cell_type": "markdown",
   "metadata": {},
   "source": [
    "Applying functions to the data"
   ]
  },
  {
   "cell_type": "code",
   "execution_count": 153,
   "metadata": {
    "scrolled": true
   },
   "outputs": [
    {
     "data": {
      "text/html": [
       "<div>\n",
       "<style scoped>\n",
       "    .dataframe tbody tr th:only-of-type {\n",
       "        vertical-align: middle;\n",
       "    }\n",
       "\n",
       "    .dataframe tbody tr th {\n",
       "        vertical-align: top;\n",
       "    }\n",
       "\n",
       "    .dataframe thead th {\n",
       "        text-align: right;\n",
       "    }\n",
       "</style>\n",
       "<table border=\"1\" class=\"dataframe\">\n",
       "  <thead>\n",
       "    <tr style=\"text-align: right;\">\n",
       "      <th></th>\n",
       "      <th>A</th>\n",
       "      <th>B</th>\n",
       "      <th>C</th>\n",
       "      <th>D</th>\n",
       "      <th>F</th>\n",
       "    </tr>\n",
       "  </thead>\n",
       "  <tbody>\n",
       "    <tr>\n",
       "      <th>2013-01-01</th>\n",
       "      <td>0.000000</td>\n",
       "      <td>1.351203</td>\n",
       "      <td>0.239896</td>\n",
       "      <td>5</td>\n",
       "      <td>NaN</td>\n",
       "    </tr>\n",
       "    <tr>\n",
       "      <th>2013-01-02</th>\n",
       "      <td>-0.079022</td>\n",
       "      <td>-1.117805</td>\n",
       "      <td>0.237695</td>\n",
       "      <td>5</td>\n",
       "      <td>1.0</td>\n",
       "    </tr>\n",
       "    <tr>\n",
       "      <th>2013-01-03</th>\n",
       "      <td>0.520116</td>\n",
       "      <td>0.452025</td>\n",
       "      <td>-0.427301</td>\n",
       "      <td>5</td>\n",
       "      <td>2.0</td>\n",
       "    </tr>\n",
       "    <tr>\n",
       "      <th>2013-01-04</th>\n",
       "      <td>NaN</td>\n",
       "      <td>0.000000</td>\n",
       "      <td>-0.124239</td>\n",
       "      <td>5</td>\n",
       "      <td>3.0</td>\n",
       "    </tr>\n",
       "    <tr>\n",
       "      <th>2013-01-05</th>\n",
       "      <td>-1.751503</td>\n",
       "      <td>0.246934</td>\n",
       "      <td>-1.676786</td>\n",
       "      <td>5</td>\n",
       "      <td>4.0</td>\n",
       "    </tr>\n",
       "    <tr>\n",
       "      <th>2013-01-06</th>\n",
       "      <td>-0.318204</td>\n",
       "      <td>0.018773</td>\n",
       "      <td>0.310749</td>\n",
       "      <td>5</td>\n",
       "      <td>5.0</td>\n",
       "    </tr>\n",
       "  </tbody>\n",
       "</table>\n",
       "</div>"
      ],
      "text/plain": [
       "                   A         B         C  D    F\n",
       "2013-01-01  0.000000  1.351203  0.239896  5  NaN\n",
       "2013-01-02 -0.079022 -1.117805  0.237695  5  1.0\n",
       "2013-01-03  0.520116  0.452025 -0.427301  5  2.0\n",
       "2013-01-04       NaN  0.000000 -0.124239  5  3.0\n",
       "2013-01-05 -1.751503  0.246934 -1.676786  5  4.0\n",
       "2013-01-06 -0.318204  0.018773  0.310749  5  5.0"
      ]
     },
     "execution_count": 153,
     "metadata": {},
     "output_type": "execute_result"
    }
   ],
   "source": [
    "df"
   ]
  },
  {
   "cell_type": "code",
   "execution_count": 244,
   "metadata": {},
   "outputs": [
    {
     "data": {
      "text/plain": [
       "A        3.329575\n",
       "B    22137.366345\n",
       "C        1.369036\n",
       "D       30.000000\n",
       "F             NaN\n",
       "dtype: float64"
      ]
     },
     "execution_count": 244,
     "metadata": {},
     "output_type": "execute_result"
    }
   ],
   "source": [
    "df.apply(sum)"
   ]
  },
  {
   "cell_type": "code",
   "execution_count": 243,
   "metadata": {},
   "outputs": [
    {
     "data": {
      "text/html": [
       "<div>\n",
       "<style scoped>\n",
       "    .dataframe tbody tr th:only-of-type {\n",
       "        vertical-align: middle;\n",
       "    }\n",
       "\n",
       "    .dataframe tbody tr th {\n",
       "        vertical-align: top;\n",
       "    }\n",
       "\n",
       "    .dataframe thead th {\n",
       "        text-align: right;\n",
       "    }\n",
       "</style>\n",
       "<table border=\"1\" class=\"dataframe\">\n",
       "  <thead>\n",
       "    <tr style=\"text-align: right;\">\n",
       "      <th></th>\n",
       "      <th>A</th>\n",
       "      <th>B</th>\n",
       "      <th>C</th>\n",
       "      <th>D</th>\n",
       "      <th>F</th>\n",
       "    </tr>\n",
       "  </thead>\n",
       "  <tbody>\n",
       "    <tr>\n",
       "      <th>2013-01-01</th>\n",
       "      <td>0.000000</td>\n",
       "      <td>0.000000</td>\n",
       "      <td>0.276048</td>\n",
       "      <td>-0.958924</td>\n",
       "      <td>NaN</td>\n",
       "    </tr>\n",
       "    <tr>\n",
       "      <th>2013-01-02</th>\n",
       "      <td>0.959993</td>\n",
       "      <td>0.421408</td>\n",
       "      <td>0.972615</td>\n",
       "      <td>-0.958924</td>\n",
       "      <td>0.841471</td>\n",
       "    </tr>\n",
       "    <tr>\n",
       "      <th>2013-01-03</th>\n",
       "      <td>0.842656</td>\n",
       "      <td>0.953717</td>\n",
       "      <td>0.303303</td>\n",
       "      <td>-0.958924</td>\n",
       "      <td>0.909297</td>\n",
       "    </tr>\n",
       "    <tr>\n",
       "      <th>2013-01-04</th>\n",
       "      <td>0.474970</td>\n",
       "      <td>0.416612</td>\n",
       "      <td>-0.312131</td>\n",
       "      <td>-0.958924</td>\n",
       "      <td>0.141120</td>\n",
       "    </tr>\n",
       "    <tr>\n",
       "      <th>2013-01-05</th>\n",
       "      <td>-0.268391</td>\n",
       "      <td>0.830397</td>\n",
       "      <td>-0.393354</td>\n",
       "      <td>-0.958924</td>\n",
       "      <td>-0.756802</td>\n",
       "    </tr>\n",
       "    <tr>\n",
       "      <th>2013-01-06</th>\n",
       "      <td>-0.314572</td>\n",
       "      <td>0.989281</td>\n",
       "      <td>-0.297861</td>\n",
       "      <td>-0.958924</td>\n",
       "      <td>-0.958924</td>\n",
       "    </tr>\n",
       "  </tbody>\n",
       "</table>\n",
       "</div>"
      ],
      "text/plain": [
       "                   A         B         C         D         F\n",
       "2013-01-01  0.000000  0.000000  0.276048 -0.958924       NaN\n",
       "2013-01-02  0.959993  0.421408  0.972615 -0.958924  0.841471\n",
       "2013-01-03  0.842656  0.953717  0.303303 -0.958924  0.909297\n",
       "2013-01-04  0.474970  0.416612 -0.312131 -0.958924  0.141120\n",
       "2013-01-05 -0.268391  0.830397 -0.393354 -0.958924 -0.756802\n",
       "2013-01-06 -0.314572  0.989281 -0.297861 -0.958924 -0.958924"
      ]
     },
     "execution_count": 243,
     "metadata": {},
     "output_type": "execute_result"
    }
   ],
   "source": [
    "df.apply(np.sin)"
   ]
  },
  {
   "cell_type": "code",
   "execution_count": 247,
   "metadata": {},
   "outputs": [
    {
     "data": {
      "text/html": [
       "<div>\n",
       "<style scoped>\n",
       "    .dataframe tbody tr th:only-of-type {\n",
       "        vertical-align: middle;\n",
       "    }\n",
       "\n",
       "    .dataframe tbody tr th {\n",
       "        vertical-align: top;\n",
       "    }\n",
       "\n",
       "    .dataframe thead th {\n",
       "        text-align: right;\n",
       "    }\n",
       "</style>\n",
       "<table border=\"1\" class=\"dataframe\">\n",
       "  <thead>\n",
       "    <tr style=\"text-align: right;\">\n",
       "      <th></th>\n",
       "      <th>A</th>\n",
       "      <th>B</th>\n",
       "      <th>C</th>\n",
       "      <th>D</th>\n",
       "      <th>F</th>\n",
       "    </tr>\n",
       "  </thead>\n",
       "  <tbody>\n",
       "    <tr>\n",
       "      <th>2013-01-01</th>\n",
       "      <td>0.000000</td>\n",
       "      <td>0.000000e+00</td>\n",
       "      <td>0.078221</td>\n",
       "      <td>25</td>\n",
       "      <td>NaN</td>\n",
       "    </tr>\n",
       "    <tr>\n",
       "      <th>2013-01-02</th>\n",
       "      <td>1.656308</td>\n",
       "      <td>3.447101e+07</td>\n",
       "      <td>3.259334</td>\n",
       "      <td>25</td>\n",
       "      <td>1.0</td>\n",
       "    </tr>\n",
       "    <tr>\n",
       "      <th>2013-01-03</th>\n",
       "      <td>4.577016</td>\n",
       "      <td>7.673805e+07</td>\n",
       "      <td>0.094961</td>\n",
       "      <td>25</td>\n",
       "      <td>4.0</td>\n",
       "    </tr>\n",
       "    <tr>\n",
       "      <th>2013-01-04</th>\n",
       "      <td>0.244956</td>\n",
       "      <td>1.625373e+08</td>\n",
       "      <td>0.100765</td>\n",
       "      <td>25</td>\n",
       "      <td>9.0</td>\n",
       "    </tr>\n",
       "    <tr>\n",
       "      <th>2013-01-05</th>\n",
       "      <td>0.073833</td>\n",
       "      <td>5.363578e+03</td>\n",
       "      <td>0.163440</td>\n",
       "      <td>25</td>\n",
       "      <td>16.0</td>\n",
       "    </tr>\n",
       "    <tr>\n",
       "      <th>2013-01-06</th>\n",
       "      <td>0.102404</td>\n",
       "      <td>2.672515e+07</td>\n",
       "      <td>0.091477</td>\n",
       "      <td>25</td>\n",
       "      <td>25.0</td>\n",
       "    </tr>\n",
       "  </tbody>\n",
       "</table>\n",
       "</div>"
      ],
      "text/plain": [
       "                   A             B         C   D     F\n",
       "2013-01-01  0.000000  0.000000e+00  0.078221  25   NaN\n",
       "2013-01-02  1.656308  3.447101e+07  3.259334  25   1.0\n",
       "2013-01-03  4.577016  7.673805e+07  0.094961  25   4.0\n",
       "2013-01-04  0.244956  1.625373e+08  0.100765  25   9.0\n",
       "2013-01-05  0.073833  5.363578e+03  0.163440  25  16.0\n",
       "2013-01-06  0.102404  2.672515e+07  0.091477  25  25.0"
      ]
     },
     "execution_count": 247,
     "metadata": {},
     "output_type": "execute_result"
    }
   ],
   "source": [
    "df.apply(lambda x:x**2)"
   ]
  },
  {
   "cell_type": "code",
   "execution_count": 155,
   "metadata": {
    "scrolled": false
   },
   "outputs": [
    {
     "data": {
      "text/plain": [
       "2013-01-01          NaN\n",
       "2013-01-02     5.040868\n",
       "2013-01-03     7.544840\n",
       "2013-01-04          NaN\n",
       "2013-01-05     5.818645\n",
       "2013-01-06    10.011318\n",
       "dtype: float64"
      ]
     },
     "execution_count": 155,
     "metadata": {},
     "output_type": "execute_result"
    }
   ],
   "source": [
    "df.apply(func=sum,axis=1)"
   ]
  },
  {
   "cell_type": "code",
   "execution_count": 245,
   "metadata": {},
   "outputs": [],
   "source": [
    "?df.apply"
   ]
  },
  {
   "cell_type": "code",
   "execution_count": 156,
   "metadata": {
    "scrolled": true
   },
   "outputs": [
    {
     "data": {
      "text/plain": [
       "2013-01-01    0.000000\n",
       "2013-01-02   -0.078940\n",
       "2013-01-03    0.496981\n",
       "2013-01-04         NaN\n",
       "2013-01-05   -0.983717\n",
       "2013-01-06   -0.312861\n",
       "Name: A, dtype: float64"
      ]
     },
     "execution_count": 156,
     "metadata": {},
     "output_type": "execute_result"
    }
   ],
   "source": [
    "np.sin(df.A)\n"
   ]
  },
  {
   "cell_type": "code",
   "execution_count": 249,
   "metadata": {},
   "outputs": [
    {
     "data": {
      "text/html": [
       "<div>\n",
       "<style scoped>\n",
       "    .dataframe tbody tr th:only-of-type {\n",
       "        vertical-align: middle;\n",
       "    }\n",
       "\n",
       "    .dataframe tbody tr th {\n",
       "        vertical-align: top;\n",
       "    }\n",
       "\n",
       "    .dataframe thead th {\n",
       "        text-align: right;\n",
       "    }\n",
       "</style>\n",
       "<table border=\"1\" class=\"dataframe\">\n",
       "  <thead>\n",
       "    <tr style=\"text-align: right;\">\n",
       "      <th></th>\n",
       "      <th>A</th>\n",
       "      <th>B</th>\n",
       "      <th>C</th>\n",
       "      <th>D</th>\n",
       "      <th>F</th>\n",
       "    </tr>\n",
       "  </thead>\n",
       "  <tbody>\n",
       "    <tr>\n",
       "      <th>2013-01-01</th>\n",
       "      <td>0.000000</td>\n",
       "      <td>0.000000</td>\n",
       "      <td>0.279680</td>\n",
       "      <td>5</td>\n",
       "      <td>NaN</td>\n",
       "    </tr>\n",
       "    <tr>\n",
       "      <th>2013-01-02</th>\n",
       "      <td>1.286976</td>\n",
       "      <td>5871.201672</td>\n",
       "      <td>1.805363</td>\n",
       "      <td>5</td>\n",
       "      <td>1.0</td>\n",
       "    </tr>\n",
       "    <tr>\n",
       "      <th>2013-01-03</th>\n",
       "      <td>2.139396</td>\n",
       "      <td>8760.025681</td>\n",
       "      <td>0.308157</td>\n",
       "      <td>5</td>\n",
       "      <td>2.0</td>\n",
       "    </tr>\n",
       "    <tr>\n",
       "      <th>2013-01-04</th>\n",
       "      <td>0.494930</td>\n",
       "      <td>12749.012704</td>\n",
       "      <td>-0.317435</td>\n",
       "      <td>5</td>\n",
       "      <td>3.0</td>\n",
       "    </tr>\n",
       "    <tr>\n",
       "      <th>2013-01-05</th>\n",
       "      <td>-0.271722</td>\n",
       "      <td>-73.236451</td>\n",
       "      <td>-0.404277</td>\n",
       "      <td>5</td>\n",
       "      <td>4.0</td>\n",
       "    </tr>\n",
       "    <tr>\n",
       "      <th>2013-01-06</th>\n",
       "      <td>-0.320006</td>\n",
       "      <td>-5169.637261</td>\n",
       "      <td>-0.302451</td>\n",
       "      <td>5</td>\n",
       "      <td>5.0</td>\n",
       "    </tr>\n",
       "  </tbody>\n",
       "</table>\n",
       "</div>"
      ],
      "text/plain": [
       "                   A             B         C  D    F\n",
       "2013-01-01  0.000000      0.000000  0.279680  5  NaN\n",
       "2013-01-02  1.286976   5871.201672  1.805363  5  1.0\n",
       "2013-01-03  2.139396   8760.025681  0.308157  5  2.0\n",
       "2013-01-04  0.494930  12749.012704 -0.317435  5  3.0\n",
       "2013-01-05 -0.271722    -73.236451 -0.404277  5  4.0\n",
       "2013-01-06 -0.320006  -5169.637261 -0.302451  5  5.0"
      ]
     },
     "execution_count": 249,
     "metadata": {},
     "output_type": "execute_result"
    }
   ],
   "source": [
    "df"
   ]
  },
  {
   "cell_type": "code",
   "execution_count": 248,
   "metadata": {},
   "outputs": [
    {
     "data": {
      "text/html": [
       "<div>\n",
       "<style scoped>\n",
       "    .dataframe tbody tr th:only-of-type {\n",
       "        vertical-align: middle;\n",
       "    }\n",
       "\n",
       "    .dataframe tbody tr th {\n",
       "        vertical-align: top;\n",
       "    }\n",
       "\n",
       "    .dataframe thead th {\n",
       "        text-align: right;\n",
       "    }\n",
       "</style>\n",
       "<table border=\"1\" class=\"dataframe\">\n",
       "  <thead>\n",
       "    <tr style=\"text-align: right;\">\n",
       "      <th></th>\n",
       "      <th>A</th>\n",
       "      <th>B</th>\n",
       "      <th>C</th>\n",
       "      <th>D</th>\n",
       "      <th>F</th>\n",
       "    </tr>\n",
       "  </thead>\n",
       "  <tbody>\n",
       "    <tr>\n",
       "      <th>2013-01-01</th>\n",
       "      <td>0.000000</td>\n",
       "      <td>0.000000</td>\n",
       "      <td>0.279680</td>\n",
       "      <td>5</td>\n",
       "      <td>NaN</td>\n",
       "    </tr>\n",
       "    <tr>\n",
       "      <th>2013-01-02</th>\n",
       "      <td>1.286976</td>\n",
       "      <td>5871.201672</td>\n",
       "      <td>2.085042</td>\n",
       "      <td>10</td>\n",
       "      <td>1.0</td>\n",
       "    </tr>\n",
       "    <tr>\n",
       "      <th>2013-01-03</th>\n",
       "      <td>3.426372</td>\n",
       "      <td>14631.227353</td>\n",
       "      <td>2.393199</td>\n",
       "      <td>15</td>\n",
       "      <td>3.0</td>\n",
       "    </tr>\n",
       "    <tr>\n",
       "      <th>2013-01-04</th>\n",
       "      <td>3.921302</td>\n",
       "      <td>27380.240057</td>\n",
       "      <td>2.075764</td>\n",
       "      <td>20</td>\n",
       "      <td>6.0</td>\n",
       "    </tr>\n",
       "    <tr>\n",
       "      <th>2013-01-05</th>\n",
       "      <td>3.649580</td>\n",
       "      <td>27307.003606</td>\n",
       "      <td>1.671487</td>\n",
       "      <td>25</td>\n",
       "      <td>10.0</td>\n",
       "    </tr>\n",
       "    <tr>\n",
       "      <th>2013-01-06</th>\n",
       "      <td>3.329575</td>\n",
       "      <td>22137.366345</td>\n",
       "      <td>1.369036</td>\n",
       "      <td>30</td>\n",
       "      <td>15.0</td>\n",
       "    </tr>\n",
       "  </tbody>\n",
       "</table>\n",
       "</div>"
      ],
      "text/plain": [
       "                   A             B         C   D     F\n",
       "2013-01-01  0.000000      0.000000  0.279680   5   NaN\n",
       "2013-01-02  1.286976   5871.201672  2.085042  10   1.0\n",
       "2013-01-03  3.426372  14631.227353  2.393199  15   3.0\n",
       "2013-01-04  3.921302  27380.240057  2.075764  20   6.0\n",
       "2013-01-05  3.649580  27307.003606  1.671487  25  10.0\n",
       "2013-01-06  3.329575  22137.366345  1.369036  30  15.0"
      ]
     },
     "execution_count": 248,
     "metadata": {},
     "output_type": "execute_result"
    }
   ],
   "source": [
    "df.apply(np.cumsum)"
   ]
  },
  {
   "cell_type": "code",
   "execution_count": 159,
   "metadata": {},
   "outputs": [
    {
     "data": {
      "text/plain": [
       "'def iterDF(dataFrame01):\\n    list01=[]\\n    for i in dataFrame01:\\n        \\n        print(i, dataFrame01[i].sum())\\n        list01.append(dataFrame01[i].sum())\\n    return \\n\\niterDF(df)\\n'"
      ]
     },
     "execution_count": 159,
     "metadata": {},
     "output_type": "execute_result"
    }
   ],
   "source": [
    "'''def iterDF(dataFrame01):\n",
    "    list01=[]\n",
    "    for i in dataFrame01:\n",
    "        \n",
    "        print(i, dataFrame01[i].sum())\n",
    "        list01.append(dataFrame01[i].sum())\n",
    "    return \n",
    "\n",
    "iterDF(df)\n",
    "'''\n",
    "    \n",
    "        \n",
    "        "
   ]
  },
  {
   "cell_type": "code",
   "execution_count": 160,
   "metadata": {
    "scrolled": true
   },
   "outputs": [
    {
     "data": {
      "text/plain": [
       "2013-01-01     6.591099\n",
       "2013-01-02     5.040868\n",
       "2013-01-03     7.544840\n",
       "2013-01-04     7.875761\n",
       "2013-01-05     5.818645\n",
       "2013-01-06    10.011318\n",
       "dtype: float64"
      ]
     },
     "execution_count": 160,
     "metadata": {},
     "output_type": "execute_result"
    }
   ],
   "source": [
    "df.apply(np.sum, axis=1)"
   ]
  },
  {
   "cell_type": "code",
   "execution_count": 161,
   "metadata": {
    "scrolled": true
   },
   "outputs": [],
   "source": [
    "?df.apply"
   ]
  },
  {
   "cell_type": "code",
   "execution_count": 162,
   "metadata": {},
   "outputs": [
    {
     "data": {
      "text/html": [
       "<div>\n",
       "<style scoped>\n",
       "    .dataframe tbody tr th:only-of-type {\n",
       "        vertical-align: middle;\n",
       "    }\n",
       "\n",
       "    .dataframe tbody tr th {\n",
       "        vertical-align: top;\n",
       "    }\n",
       "\n",
       "    .dataframe thead th {\n",
       "        text-align: right;\n",
       "    }\n",
       "</style>\n",
       "<table border=\"1\" class=\"dataframe\">\n",
       "  <thead>\n",
       "    <tr style=\"text-align: right;\">\n",
       "      <th></th>\n",
       "      <th>A</th>\n",
       "      <th>B</th>\n",
       "      <th>C</th>\n",
       "      <th>D</th>\n",
       "      <th>F</th>\n",
       "    </tr>\n",
       "  </thead>\n",
       "  <tbody>\n",
       "    <tr>\n",
       "      <th>2013-01-01</th>\n",
       "      <td>0.000000</td>\n",
       "      <td>1.351203</td>\n",
       "      <td>0.239896</td>\n",
       "      <td>5</td>\n",
       "      <td>NaN</td>\n",
       "    </tr>\n",
       "    <tr>\n",
       "      <th>2013-01-02</th>\n",
       "      <td>-0.079022</td>\n",
       "      <td>-1.117805</td>\n",
       "      <td>0.237695</td>\n",
       "      <td>5</td>\n",
       "      <td>1.0</td>\n",
       "    </tr>\n",
       "    <tr>\n",
       "      <th>2013-01-03</th>\n",
       "      <td>0.520116</td>\n",
       "      <td>0.452025</td>\n",
       "      <td>-0.427301</td>\n",
       "      <td>5</td>\n",
       "      <td>2.0</td>\n",
       "    </tr>\n",
       "    <tr>\n",
       "      <th>2013-01-04</th>\n",
       "      <td>NaN</td>\n",
       "      <td>0.000000</td>\n",
       "      <td>-0.124239</td>\n",
       "      <td>5</td>\n",
       "      <td>3.0</td>\n",
       "    </tr>\n",
       "    <tr>\n",
       "      <th>2013-01-05</th>\n",
       "      <td>-1.751503</td>\n",
       "      <td>0.246934</td>\n",
       "      <td>-1.676786</td>\n",
       "      <td>5</td>\n",
       "      <td>4.0</td>\n",
       "    </tr>\n",
       "    <tr>\n",
       "      <th>2013-01-06</th>\n",
       "      <td>-0.318204</td>\n",
       "      <td>0.018773</td>\n",
       "      <td>0.310749</td>\n",
       "      <td>5</td>\n",
       "      <td>5.0</td>\n",
       "    </tr>\n",
       "  </tbody>\n",
       "</table>\n",
       "</div>"
      ],
      "text/plain": [
       "                   A         B         C  D    F\n",
       "2013-01-01  0.000000  1.351203  0.239896  5  NaN\n",
       "2013-01-02 -0.079022 -1.117805  0.237695  5  1.0\n",
       "2013-01-03  0.520116  0.452025 -0.427301  5  2.0\n",
       "2013-01-04       NaN  0.000000 -0.124239  5  3.0\n",
       "2013-01-05 -1.751503  0.246934 -1.676786  5  4.0\n",
       "2013-01-06 -0.318204  0.018773  0.310749  5  5.0"
      ]
     },
     "execution_count": 162,
     "metadata": {},
     "output_type": "execute_result"
    }
   ],
   "source": [
    "df"
   ]
  },
  {
   "cell_type": "code",
   "execution_count": 163,
   "metadata": {},
   "outputs": [
    {
     "data": {
      "text/plain": [
       "2.2716188803017863"
      ]
     },
     "execution_count": 163,
     "metadata": {},
     "output_type": "execute_result"
    }
   ],
   "source": [
    "df.iloc[:,0].max()- df.iloc[:,0].min()"
   ]
  },
  {
   "cell_type": "code",
   "execution_count": 164,
   "metadata": {
    "scrolled": false
   },
   "outputs": [
    {
     "data": {
      "text/plain": [
       "2013-01-01    5.000000\n",
       "2013-01-02    6.117805\n",
       "2013-01-03    5.427301\n",
       "2013-01-04    5.124239\n",
       "2013-01-05    6.751503\n",
       "2013-01-06    5.318204\n",
       "dtype: float64"
      ]
     },
     "execution_count": 164,
     "metadata": {},
     "output_type": "execute_result"
    }
   ],
   "source": [
    "df.apply(lambda x: x.max() - x.min(), axis=1)"
   ]
  },
  {
   "cell_type": "code",
   "execution_count": 165,
   "metadata": {
    "scrolled": false
   },
   "outputs": [
    {
     "data": {
      "text/plain": [
       "A    2.271619\n",
       "B    2.469009\n",
       "C    1.987535\n",
       "D    0.000000\n",
       "F    4.000000\n",
       "dtype: float64"
      ]
     },
     "execution_count": 165,
     "metadata": {},
     "output_type": "execute_result"
    }
   ],
   "source": [
    "df.apply(lambda x: x.max() - x.min(), axis=0)"
   ]
  },
  {
   "cell_type": "code",
   "execution_count": 166,
   "metadata": {},
   "outputs": [
    {
     "name": "stdout",
     "output_type": "stream",
     "text": [
      "2.2716188803017863\n",
      "2.46900859059706\n",
      "1.9875350525020772\n",
      "0\n",
      "4.0\n"
     ]
    }
   ],
   "source": [
    "\n",
    "def func(a):\n",
    "        print( a.max()-a.min())\n",
    "for i in df.columns:\n",
    "    func(df[i])\n",
    "    \n",
    "\n",
    "        \n",
    "    "
   ]
  },
  {
   "cell_type": "code",
   "execution_count": 167,
   "metadata": {},
   "outputs": [
    {
     "data": {
      "text/html": [
       "<div>\n",
       "<style scoped>\n",
       "    .dataframe tbody tr th:only-of-type {\n",
       "        vertical-align: middle;\n",
       "    }\n",
       "\n",
       "    .dataframe tbody tr th {\n",
       "        vertical-align: top;\n",
       "    }\n",
       "\n",
       "    .dataframe thead th {\n",
       "        text-align: right;\n",
       "    }\n",
       "</style>\n",
       "<table border=\"1\" class=\"dataframe\">\n",
       "  <thead>\n",
       "    <tr style=\"text-align: right;\">\n",
       "      <th></th>\n",
       "      <th>A</th>\n",
       "      <th>B</th>\n",
       "      <th>C</th>\n",
       "      <th>D</th>\n",
       "      <th>F</th>\n",
       "    </tr>\n",
       "  </thead>\n",
       "  <tbody>\n",
       "    <tr>\n",
       "      <th>2013-01-01</th>\n",
       "      <td>1.000000</td>\n",
       "      <td>2.351203</td>\n",
       "      <td>1.239896</td>\n",
       "      <td>6</td>\n",
       "      <td>NaN</td>\n",
       "    </tr>\n",
       "    <tr>\n",
       "      <th>2013-01-02</th>\n",
       "      <td>0.920978</td>\n",
       "      <td>-0.117805</td>\n",
       "      <td>1.237695</td>\n",
       "      <td>6</td>\n",
       "      <td>2.0</td>\n",
       "    </tr>\n",
       "    <tr>\n",
       "      <th>2013-01-03</th>\n",
       "      <td>1.520116</td>\n",
       "      <td>1.452025</td>\n",
       "      <td>0.572699</td>\n",
       "      <td>6</td>\n",
       "      <td>3.0</td>\n",
       "    </tr>\n",
       "    <tr>\n",
       "      <th>2013-01-04</th>\n",
       "      <td>NaN</td>\n",
       "      <td>1.000000</td>\n",
       "      <td>0.875761</td>\n",
       "      <td>6</td>\n",
       "      <td>4.0</td>\n",
       "    </tr>\n",
       "    <tr>\n",
       "      <th>2013-01-05</th>\n",
       "      <td>-0.751503</td>\n",
       "      <td>1.246934</td>\n",
       "      <td>-0.676786</td>\n",
       "      <td>6</td>\n",
       "      <td>5.0</td>\n",
       "    </tr>\n",
       "    <tr>\n",
       "      <th>2013-01-06</th>\n",
       "      <td>0.681796</td>\n",
       "      <td>1.018773</td>\n",
       "      <td>1.310749</td>\n",
       "      <td>6</td>\n",
       "      <td>6.0</td>\n",
       "    </tr>\n",
       "  </tbody>\n",
       "</table>\n",
       "</div>"
      ],
      "text/plain": [
       "                   A         B         C  D    F\n",
       "2013-01-01  1.000000  2.351203  1.239896  6  NaN\n",
       "2013-01-02  0.920978 -0.117805  1.237695  6  2.0\n",
       "2013-01-03  1.520116  1.452025  0.572699  6  3.0\n",
       "2013-01-04       NaN  1.000000  0.875761  6  4.0\n",
       "2013-01-05 -0.751503  1.246934 -0.676786  6  5.0\n",
       "2013-01-06  0.681796  1.018773  1.310749  6  6.0"
      ]
     },
     "execution_count": 167,
     "metadata": {},
     "output_type": "execute_result"
    }
   ],
   "source": [
    "df.apply(lambda x:x+1)"
   ]
  },
  {
   "cell_type": "code",
   "execution_count": 168,
   "metadata": {},
   "outputs": [
    {
     "data": {
      "text/html": [
       "<div>\n",
       "<style scoped>\n",
       "    .dataframe tbody tr th:only-of-type {\n",
       "        vertical-align: middle;\n",
       "    }\n",
       "\n",
       "    .dataframe tbody tr th {\n",
       "        vertical-align: top;\n",
       "    }\n",
       "\n",
       "    .dataframe thead th {\n",
       "        text-align: right;\n",
       "    }\n",
       "</style>\n",
       "<table border=\"1\" class=\"dataframe\">\n",
       "  <thead>\n",
       "    <tr style=\"text-align: right;\">\n",
       "      <th></th>\n",
       "      <th>A</th>\n",
       "      <th>B</th>\n",
       "      <th>C</th>\n",
       "      <th>D</th>\n",
       "      <th>F</th>\n",
       "    </tr>\n",
       "  </thead>\n",
       "  <tbody>\n",
       "    <tr>\n",
       "      <th>2013-01-01</th>\n",
       "      <td>0.000000</td>\n",
       "      <td>1.351203</td>\n",
       "      <td>0.239896</td>\n",
       "      <td>5</td>\n",
       "      <td>NaN</td>\n",
       "    </tr>\n",
       "    <tr>\n",
       "      <th>2013-01-02</th>\n",
       "      <td>-0.079022</td>\n",
       "      <td>-1.117805</td>\n",
       "      <td>0.237695</td>\n",
       "      <td>5</td>\n",
       "      <td>1.0</td>\n",
       "    </tr>\n",
       "    <tr>\n",
       "      <th>2013-01-03</th>\n",
       "      <td>0.520116</td>\n",
       "      <td>0.452025</td>\n",
       "      <td>-0.427301</td>\n",
       "      <td>5</td>\n",
       "      <td>2.0</td>\n",
       "    </tr>\n",
       "    <tr>\n",
       "      <th>2013-01-04</th>\n",
       "      <td>NaN</td>\n",
       "      <td>0.000000</td>\n",
       "      <td>-0.124239</td>\n",
       "      <td>5</td>\n",
       "      <td>3.0</td>\n",
       "    </tr>\n",
       "    <tr>\n",
       "      <th>2013-01-05</th>\n",
       "      <td>-1.751503</td>\n",
       "      <td>0.246934</td>\n",
       "      <td>-1.676786</td>\n",
       "      <td>5</td>\n",
       "      <td>4.0</td>\n",
       "    </tr>\n",
       "    <tr>\n",
       "      <th>2013-01-06</th>\n",
       "      <td>-0.318204</td>\n",
       "      <td>0.018773</td>\n",
       "      <td>0.310749</td>\n",
       "      <td>5</td>\n",
       "      <td>5.0</td>\n",
       "    </tr>\n",
       "  </tbody>\n",
       "</table>\n",
       "</div>"
      ],
      "text/plain": [
       "                   A         B         C  D    F\n",
       "2013-01-01  0.000000  1.351203  0.239896  5  NaN\n",
       "2013-01-02 -0.079022 -1.117805  0.237695  5  1.0\n",
       "2013-01-03  0.520116  0.452025 -0.427301  5  2.0\n",
       "2013-01-04       NaN  0.000000 -0.124239  5  3.0\n",
       "2013-01-05 -1.751503  0.246934 -1.676786  5  4.0\n",
       "2013-01-06 -0.318204  0.018773  0.310749  5  5.0"
      ]
     },
     "execution_count": 168,
     "metadata": {},
     "output_type": "execute_result"
    }
   ],
   "source": [
    "df"
   ]
  },
  {
   "cell_type": "code",
   "execution_count": 169,
   "metadata": {},
   "outputs": [
    {
     "data": {
      "text/html": [
       "<div>\n",
       "<style scoped>\n",
       "    .dataframe tbody tr th:only-of-type {\n",
       "        vertical-align: middle;\n",
       "    }\n",
       "\n",
       "    .dataframe tbody tr th {\n",
       "        vertical-align: top;\n",
       "    }\n",
       "\n",
       "    .dataframe thead th {\n",
       "        text-align: right;\n",
       "    }\n",
       "</style>\n",
       "<table border=\"1\" class=\"dataframe\">\n",
       "  <thead>\n",
       "    <tr style=\"text-align: right;\">\n",
       "      <th></th>\n",
       "      <th>A</th>\n",
       "      <th>B</th>\n",
       "      <th>C</th>\n",
       "      <th>D</th>\n",
       "      <th>F</th>\n",
       "    </tr>\n",
       "  </thead>\n",
       "  <tbody>\n",
       "    <tr>\n",
       "      <th>2013-01-01</th>\n",
       "      <td>0.000000</td>\n",
       "      <td>1.162413</td>\n",
       "      <td>0.489792</td>\n",
       "      <td>2.236068</td>\n",
       "      <td>NaN</td>\n",
       "    </tr>\n",
       "    <tr>\n",
       "      <th>2013-01-02</th>\n",
       "      <td>NaN</td>\n",
       "      <td>NaN</td>\n",
       "      <td>0.487540</td>\n",
       "      <td>2.236068</td>\n",
       "      <td>1.000000</td>\n",
       "    </tr>\n",
       "    <tr>\n",
       "      <th>2013-01-03</th>\n",
       "      <td>0.721191</td>\n",
       "      <td>0.672328</td>\n",
       "      <td>NaN</td>\n",
       "      <td>2.236068</td>\n",
       "      <td>1.414214</td>\n",
       "    </tr>\n",
       "    <tr>\n",
       "      <th>2013-01-04</th>\n",
       "      <td>NaN</td>\n",
       "      <td>0.000000</td>\n",
       "      <td>NaN</td>\n",
       "      <td>2.236068</td>\n",
       "      <td>1.732051</td>\n",
       "    </tr>\n",
       "    <tr>\n",
       "      <th>2013-01-05</th>\n",
       "      <td>NaN</td>\n",
       "      <td>0.496925</td>\n",
       "      <td>NaN</td>\n",
       "      <td>2.236068</td>\n",
       "      <td>2.000000</td>\n",
       "    </tr>\n",
       "    <tr>\n",
       "      <th>2013-01-06</th>\n",
       "      <td>NaN</td>\n",
       "      <td>0.137014</td>\n",
       "      <td>0.557449</td>\n",
       "      <td>2.236068</td>\n",
       "      <td>2.236068</td>\n",
       "    </tr>\n",
       "  </tbody>\n",
       "</table>\n",
       "</div>"
      ],
      "text/plain": [
       "                   A         B         C         D         F\n",
       "2013-01-01  0.000000  1.162413  0.489792  2.236068       NaN\n",
       "2013-01-02       NaN       NaN  0.487540  2.236068  1.000000\n",
       "2013-01-03  0.721191  0.672328       NaN  2.236068  1.414214\n",
       "2013-01-04       NaN  0.000000       NaN  2.236068  1.732051\n",
       "2013-01-05       NaN  0.496925       NaN  2.236068  2.000000\n",
       "2013-01-06       NaN  0.137014  0.557449  2.236068  2.236068"
      ]
     },
     "execution_count": 169,
     "metadata": {},
     "output_type": "execute_result"
    }
   ],
   "source": [
    "df.apply(np.sqrt, axis=0)"
   ]
  },
  {
   "cell_type": "code",
   "execution_count": 170,
   "metadata": {},
   "outputs": [],
   "source": [
    "#df.apply(lambda x: x + s, axis=0)"
   ]
  },
  {
   "cell_type": "markdown",
   "metadata": {},
   "source": [
    "### Histogramming"
   ]
  },
  {
   "cell_type": "markdown",
   "metadata": {},
   "source": [
    "Value counts (histogramming) / Mode\n",
    "\n",
    "The value_counts() Series method and top-level function computes a histogram of a 1D array of values. It can also be used as a function on regular arrays.\n",
    "\n"
   ]
  },
  {
   "cell_type": "code",
   "execution_count": 258,
   "metadata": {},
   "outputs": [],
   "source": [
    "s = pd.Series(np.random.randint(0, 7, size=10))"
   ]
  },
  {
   "cell_type": "code",
   "execution_count": 259,
   "metadata": {},
   "outputs": [
    {
     "data": {
      "text/plain": [
       "0    3\n",
       "1    2\n",
       "2    4\n",
       "3    4\n",
       "4    6\n",
       "5    0\n",
       "6    6\n",
       "7    1\n",
       "8    1\n",
       "9    6\n",
       "dtype: int64"
      ]
     },
     "execution_count": 259,
     "metadata": {},
     "output_type": "execute_result"
    }
   ],
   "source": [
    "s"
   ]
  },
  {
   "cell_type": "code",
   "execution_count": 261,
   "metadata": {
    "scrolled": true
   },
   "outputs": [
    {
     "data": {
      "text/plain": [
       "6    3\n",
       "4    2\n",
       "1    2\n",
       "3    1\n",
       "2    1\n",
       "0    1\n",
       "dtype: int64"
      ]
     },
     "execution_count": 261,
     "metadata": {},
     "output_type": "execute_result"
    }
   ],
   "source": [
    "s.value_counts()"
   ]
  },
  {
   "cell_type": "code",
   "execution_count": 262,
   "metadata": {},
   "outputs": [
    {
     "data": {
      "text/plain": [
       "0    3\n",
       "1    2\n",
       "2    4\n",
       "3    4\n",
       "4    6\n",
       "5    0\n",
       "6    6\n",
       "7    1\n",
       "8    1\n",
       "9    6\n",
       "dtype: int64"
      ]
     },
     "execution_count": 262,
     "metadata": {},
     "output_type": "execute_result"
    }
   ],
   "source": [
    "s"
   ]
  },
  {
   "cell_type": "markdown",
   "metadata": {},
   "source": [
    "Continuous values can be discretized using the cut() (bins based on values) and qcut() (bins based on sample quantiles) functions"
   ]
  },
  {
   "cell_type": "code",
   "execution_count": 263,
   "metadata": {},
   "outputs": [
    {
     "data": {
      "text/plain": [
       "0    3\n",
       "1    2\n",
       "2    4\n",
       "3    4\n",
       "4    6\n",
       "5    0\n",
       "6    6\n",
       "7    1\n",
       "8    1\n",
       "9    6\n",
       "dtype: int64"
      ]
     },
     "execution_count": 263,
     "metadata": {},
     "output_type": "execute_result"
    }
   ],
   "source": [
    "s"
   ]
  },
  {
   "cell_type": "code",
   "execution_count": 266,
   "metadata": {
    "scrolled": true
   },
   "outputs": [
    {
     "data": {
      "text/plain": [
       "0       (2.4, 3.6]\n",
       "1       (1.2, 2.4]\n",
       "2       (3.6, 4.8]\n",
       "3       (3.6, 4.8]\n",
       "4       (4.8, 6.0]\n",
       "5    (-0.006, 1.2]\n",
       "6       (4.8, 6.0]\n",
       "7    (-0.006, 1.2]\n",
       "8    (-0.006, 1.2]\n",
       "9       (4.8, 6.0]\n",
       "dtype: category\n",
       "Categories (5, interval[float64]): [(-0.006, 1.2] < (1.2, 2.4] < (2.4, 3.6] < (3.6, 4.8] < (4.8, 6.0]]"
      ]
     },
     "execution_count": 266,
     "metadata": {},
     "output_type": "execute_result"
    }
   ],
   "source": [
    "factor = pd.cut(s, 5)\n",
    "factor\n",
    "#factor.value_counts()"
   ]
  },
  {
   "cell_type": "code",
   "execution_count": 267,
   "metadata": {},
   "outputs": [
    {
     "data": {
      "text/plain": [
       "(4.8, 6.0]       3\n",
       "(-0.006, 1.2]    3\n",
       "(3.6, 4.8]       2\n",
       "(2.4, 3.6]       1\n",
       "(1.2, 2.4]       1\n",
       "dtype: int64"
      ]
     },
     "execution_count": 267,
     "metadata": {},
     "output_type": "execute_result"
    }
   ],
   "source": [
    "factor.value_counts()"
   ]
  },
  {
   "cell_type": "code",
   "execution_count": 177,
   "metadata": {},
   "outputs": [],
   "source": [
    "?pd.cut"
   ]
  },
  {
   "cell_type": "markdown",
   "metadata": {},
   "source": [
    "### String Methods"
   ]
  },
  {
   "cell_type": "markdown",
   "metadata": {},
   "source": [
    "Series is equipped with a set of string processing methods in the `str` attribute that make it easy to operate on each element of the array, as in the code snippet below. Note that pattern-matching in `str` generally uses [regular expressions](https://docs.python.org/2/library/re.html) by default (and in \n",
    "some cases always uses them). See more at [Vectorized String Methods](http://pandas.pydata.org/pandas-docs/stable/text.html#text-string-methods)."
   ]
  },
  {
   "cell_type": "code",
   "execution_count": 268,
   "metadata": {},
   "outputs": [],
   "source": [
    "s = pd.Series(['A', 'B', 'C', 'Aaba', 'Baca', np.nan, 'CABA', 'dog', 'cat'])"
   ]
  },
  {
   "cell_type": "code",
   "execution_count": 269,
   "metadata": {},
   "outputs": [
    {
     "data": {
      "text/plain": [
       "0       A\n",
       "1       B\n",
       "2       C\n",
       "3    Aaba\n",
       "4    Baca\n",
       "5     NaN\n",
       "6    CABA\n",
       "7     dog\n",
       "8     cat\n",
       "dtype: object"
      ]
     },
     "execution_count": 269,
     "metadata": {},
     "output_type": "execute_result"
    }
   ],
   "source": [
    "s"
   ]
  },
  {
   "cell_type": "code",
   "execution_count": 272,
   "metadata": {},
   "outputs": [
    {
     "data": {
      "text/plain": [
       "'DATASCIENCE'"
      ]
     },
     "execution_count": 272,
     "metadata": {},
     "output_type": "execute_result"
    }
   ],
   "source": [
    "\"datascience\".upper()"
   ]
  },
  {
   "cell_type": "code",
   "execution_count": 273,
   "metadata": {},
   "outputs": [
    {
     "data": {
      "text/plain": [
       "0     True\n",
       "1    False\n",
       "2    False\n",
       "3    False\n",
       "4    False\n",
       "5      NaN\n",
       "6     True\n",
       "7    False\n",
       "8    False\n",
       "dtype: object"
      ]
     },
     "execution_count": 273,
     "metadata": {},
     "output_type": "execute_result"
    }
   ],
   "source": [
    "s.str.endswith(\"A\")"
   ]
  },
  {
   "cell_type": "code",
   "execution_count": 274,
   "metadata": {
    "scrolled": true
   },
   "outputs": [
    {
     "data": {
      "text/plain": [
       "0       a\n",
       "1       b\n",
       "2       c\n",
       "3    aaba\n",
       "4    baca\n",
       "5     NaN\n",
       "6    caba\n",
       "7     dog\n",
       "8     cat\n",
       "dtype: object"
      ]
     },
     "execution_count": 274,
     "metadata": {},
     "output_type": "execute_result"
    }
   ],
   "source": [
    "s.str.lower()"
   ]
  },
  {
   "cell_type": "code",
   "execution_count": 275,
   "metadata": {},
   "outputs": [
    {
     "data": {
      "text/plain": [
       "0     True\n",
       "1    False\n",
       "2    False\n",
       "3     True\n",
       "4     True\n",
       "5      NaN\n",
       "6     True\n",
       "7    False\n",
       "8    False\n",
       "dtype: object"
      ]
     },
     "execution_count": 275,
     "metadata": {},
     "output_type": "execute_result"
    }
   ],
   "source": [
    "s.str.lower().str.endswith(\"a\")"
   ]
  },
  {
   "cell_type": "code",
   "execution_count": 184,
   "metadata": {
    "scrolled": false
   },
   "outputs": [
    {
     "data": {
      "text/plain": [
       "0       a\n",
       "1       b\n",
       "2       c\n",
       "3    aaba\n",
       "4    baca\n",
       "5     NaN\n",
       "6    caba\n",
       "7     dog\n",
       "8     cat\n",
       "dtype: object"
      ]
     },
     "execution_count": 184,
     "metadata": {},
     "output_type": "execute_result"
    }
   ],
   "source": [
    "s.str.lower()"
   ]
  },
  {
   "cell_type": "code",
   "execution_count": 185,
   "metadata": {},
   "outputs": [
    {
     "data": {
      "text/plain": [
       "0       A\n",
       "1       B\n",
       "2       C\n",
       "3    Aaba\n",
       "4    Baca\n",
       "5     NaN\n",
       "6    CABA\n",
       "7     dog\n",
       "8     cat\n",
       "dtype: object"
      ]
     },
     "execution_count": 185,
     "metadata": {},
     "output_type": "execute_result"
    }
   ],
   "source": [
    "s"
   ]
  },
  {
   "cell_type": "code",
   "execution_count": 186,
   "metadata": {
    "scrolled": true
   },
   "outputs": [
    {
     "data": {
      "text/plain": [
       "0    0.0\n",
       "1   -1.0\n",
       "2   -1.0\n",
       "3    0.0\n",
       "4   -1.0\n",
       "5    NaN\n",
       "6    1.0\n",
       "7   -1.0\n",
       "8   -1.0\n",
       "dtype: float64"
      ]
     },
     "execution_count": 186,
     "metadata": {},
     "output_type": "execute_result"
    }
   ],
   "source": [
    "s.str.find(\"A\")"
   ]
  },
  {
   "cell_type": "code",
   "execution_count": 187,
   "metadata": {},
   "outputs": [
    {
     "data": {
      "text/plain": [
       "0         AAA\n",
       "1           B\n",
       "2           C\n",
       "3      AAAaba\n",
       "4        Baca\n",
       "5         NaN\n",
       "6    CAAABAAA\n",
       "7         dog\n",
       "8         cat\n",
       "dtype: object"
      ]
     },
     "execution_count": 187,
     "metadata": {},
     "output_type": "execute_result"
    }
   ],
   "source": [
    "s.str.replace(\"A\", \"AAA\")"
   ]
  },
  {
   "cell_type": "code",
   "execution_count": 188,
   "metadata": {},
   "outputs": [],
   "source": [
    "dfSTR=pd.DataFrame({\"str1\": list(\"ABCD\")   , \"str2\":list(\"CDEF\") })"
   ]
  },
  {
   "cell_type": "code",
   "execution_count": 189,
   "metadata": {},
   "outputs": [
    {
     "data": {
      "text/html": [
       "<div>\n",
       "<style scoped>\n",
       "    .dataframe tbody tr th:only-of-type {\n",
       "        vertical-align: middle;\n",
       "    }\n",
       "\n",
       "    .dataframe tbody tr th {\n",
       "        vertical-align: top;\n",
       "    }\n",
       "\n",
       "    .dataframe thead th {\n",
       "        text-align: right;\n",
       "    }\n",
       "</style>\n",
       "<table border=\"1\" class=\"dataframe\">\n",
       "  <thead>\n",
       "    <tr style=\"text-align: right;\">\n",
       "      <th></th>\n",
       "      <th>str1</th>\n",
       "      <th>str2</th>\n",
       "      <th>str2modif</th>\n",
       "    </tr>\n",
       "  </thead>\n",
       "  <tbody>\n",
       "    <tr>\n",
       "      <th>0</th>\n",
       "      <td>A</td>\n",
       "      <td>C</td>\n",
       "      <td>c</td>\n",
       "    </tr>\n",
       "    <tr>\n",
       "      <th>1</th>\n",
       "      <td>B</td>\n",
       "      <td>D</td>\n",
       "      <td>d</td>\n",
       "    </tr>\n",
       "    <tr>\n",
       "      <th>2</th>\n",
       "      <td>C</td>\n",
       "      <td>E</td>\n",
       "      <td>e</td>\n",
       "    </tr>\n",
       "    <tr>\n",
       "      <th>3</th>\n",
       "      <td>D</td>\n",
       "      <td>F</td>\n",
       "      <td>f</td>\n",
       "    </tr>\n",
       "  </tbody>\n",
       "</table>\n",
       "</div>"
      ],
      "text/plain": [
       "  str1 str2 str2modif\n",
       "0    A    C         c\n",
       "1    B    D         d\n",
       "2    C    E         e\n",
       "3    D    F         f"
      ]
     },
     "execution_count": 189,
     "metadata": {},
     "output_type": "execute_result"
    }
   ],
   "source": [
    "dfSTR[\"str2modif\"]=dfSTR[\"str2\"].str.lower()\n",
    "dfSTR"
   ]
  },
  {
   "cell_type": "markdown",
   "metadata": {},
   "source": [
    "## Merge"
   ]
  },
  {
   "cell_type": "markdown",
   "metadata": {},
   "source": [
    "pandas provides various facilities for easily combining together Series, DataFrame, and Panel objects with various kinds of set logic for the indexes and relational algebra functionality in the case of join / merge-type operations."
   ]
  },
  {
   "cell_type": "markdown",
   "metadata": {},
   "source": [
    "Merge, join, and concatenate: pandas provides various facilities for easily combining together Series, DataFrame, and Panel objects with various kinds of set logic for the indexes and relational algebra functionality in the case of join / merge-type operations.\n",
    "\n",
    "\n",
    "Concatenating objects: The concat function (in the main pandas namespace) does all of the heavy lifting of performing concatenation operations along an axis while performing optional set logic (union or intersection) of the indexes (if any) on the other axes."
   ]
  },
  {
   "cell_type": "markdown",
   "metadata": {},
   "source": [
    "Concatenating pandas objects together with [concat()](http://pandas.pydata.org/pandas-docs/stable/generated/pandas.concat.html#pandas.concat):"
   ]
  },
  {
   "cell_type": "code",
   "execution_count": 14,
   "metadata": {},
   "outputs": [],
   "source": [
    "import pandas as pd\n",
    "import numpy as np\n",
    "df = pd.DataFrame(np.random.randn(10, 4))"
   ]
  },
  {
   "cell_type": "code",
   "execution_count": 15,
   "metadata": {
    "scrolled": false
   },
   "outputs": [
    {
     "data": {
      "text/html": [
       "<div>\n",
       "<style scoped>\n",
       "    .dataframe tbody tr th:only-of-type {\n",
       "        vertical-align: middle;\n",
       "    }\n",
       "\n",
       "    .dataframe tbody tr th {\n",
       "        vertical-align: top;\n",
       "    }\n",
       "\n",
       "    .dataframe thead th {\n",
       "        text-align: right;\n",
       "    }\n",
       "</style>\n",
       "<table border=\"1\" class=\"dataframe\">\n",
       "  <thead>\n",
       "    <tr style=\"text-align: right;\">\n",
       "      <th></th>\n",
       "      <th>0</th>\n",
       "      <th>1</th>\n",
       "      <th>2</th>\n",
       "      <th>3</th>\n",
       "    </tr>\n",
       "  </thead>\n",
       "  <tbody>\n",
       "    <tr>\n",
       "      <th>0</th>\n",
       "      <td>0.946781</td>\n",
       "      <td>-1.475463</td>\n",
       "      <td>0.102267</td>\n",
       "      <td>1.225419</td>\n",
       "    </tr>\n",
       "    <tr>\n",
       "      <th>1</th>\n",
       "      <td>-0.458956</td>\n",
       "      <td>0.001300</td>\n",
       "      <td>0.726455</td>\n",
       "      <td>-1.688017</td>\n",
       "    </tr>\n",
       "    <tr>\n",
       "      <th>2</th>\n",
       "      <td>0.656732</td>\n",
       "      <td>0.355895</td>\n",
       "      <td>0.556335</td>\n",
       "      <td>1.095040</td>\n",
       "    </tr>\n",
       "    <tr>\n",
       "      <th>3</th>\n",
       "      <td>0.709537</td>\n",
       "      <td>-1.589741</td>\n",
       "      <td>0.097680</td>\n",
       "      <td>2.471441</td>\n",
       "    </tr>\n",
       "    <tr>\n",
       "      <th>4</th>\n",
       "      <td>0.314926</td>\n",
       "      <td>-0.966215</td>\n",
       "      <td>-0.973645</td>\n",
       "      <td>0.702403</td>\n",
       "    </tr>\n",
       "    <tr>\n",
       "      <th>5</th>\n",
       "      <td>-0.188686</td>\n",
       "      <td>-0.372258</td>\n",
       "      <td>0.040537</td>\n",
       "      <td>0.496963</td>\n",
       "    </tr>\n",
       "    <tr>\n",
       "      <th>6</th>\n",
       "      <td>0.077331</td>\n",
       "      <td>0.500083</td>\n",
       "      <td>0.472720</td>\n",
       "      <td>0.716224</td>\n",
       "    </tr>\n",
       "    <tr>\n",
       "      <th>7</th>\n",
       "      <td>0.495744</td>\n",
       "      <td>-0.480587</td>\n",
       "      <td>0.805836</td>\n",
       "      <td>-0.212111</td>\n",
       "    </tr>\n",
       "    <tr>\n",
       "      <th>8</th>\n",
       "      <td>-0.324066</td>\n",
       "      <td>-0.662484</td>\n",
       "      <td>-0.594502</td>\n",
       "      <td>0.718447</td>\n",
       "    </tr>\n",
       "    <tr>\n",
       "      <th>9</th>\n",
       "      <td>0.887019</td>\n",
       "      <td>-0.069993</td>\n",
       "      <td>-0.747354</td>\n",
       "      <td>0.488328</td>\n",
       "    </tr>\n",
       "  </tbody>\n",
       "</table>\n",
       "</div>"
      ],
      "text/plain": [
       "          0         1         2         3\n",
       "0  0.946781 -1.475463  0.102267  1.225419\n",
       "1 -0.458956  0.001300  0.726455 -1.688017\n",
       "2  0.656732  0.355895  0.556335  1.095040\n",
       "3  0.709537 -1.589741  0.097680  2.471441\n",
       "4  0.314926 -0.966215 -0.973645  0.702403\n",
       "5 -0.188686 -0.372258  0.040537  0.496963\n",
       "6  0.077331  0.500083  0.472720  0.716224\n",
       "7  0.495744 -0.480587  0.805836 -0.212111\n",
       "8 -0.324066 -0.662484 -0.594502  0.718447\n",
       "9  0.887019 -0.069993 -0.747354  0.488328"
      ]
     },
     "execution_count": 15,
     "metadata": {},
     "output_type": "execute_result"
    }
   ],
   "source": [
    "df"
   ]
  },
  {
   "cell_type": "code",
   "execution_count": 16,
   "metadata": {},
   "outputs": [
    {
     "data": {
      "text/html": [
       "<div>\n",
       "<style scoped>\n",
       "    .dataframe tbody tr th:only-of-type {\n",
       "        vertical-align: middle;\n",
       "    }\n",
       "\n",
       "    .dataframe tbody tr th {\n",
       "        vertical-align: top;\n",
       "    }\n",
       "\n",
       "    .dataframe thead th {\n",
       "        text-align: right;\n",
       "    }\n",
       "</style>\n",
       "<table border=\"1\" class=\"dataframe\">\n",
       "  <thead>\n",
       "    <tr style=\"text-align: right;\">\n",
       "      <th></th>\n",
       "      <th>0</th>\n",
       "      <th>1</th>\n",
       "      <th>2</th>\n",
       "      <th>3</th>\n",
       "    </tr>\n",
       "  </thead>\n",
       "  <tbody>\n",
       "    <tr>\n",
       "      <th>3</th>\n",
       "      <td>0.709537</td>\n",
       "      <td>-1.589741</td>\n",
       "      <td>0.097680</td>\n",
       "      <td>2.471441</td>\n",
       "    </tr>\n",
       "    <tr>\n",
       "      <th>4</th>\n",
       "      <td>0.314926</td>\n",
       "      <td>-0.966215</td>\n",
       "      <td>-0.973645</td>\n",
       "      <td>0.702403</td>\n",
       "    </tr>\n",
       "    <tr>\n",
       "      <th>5</th>\n",
       "      <td>-0.188686</td>\n",
       "      <td>-0.372258</td>\n",
       "      <td>0.040537</td>\n",
       "      <td>0.496963</td>\n",
       "    </tr>\n",
       "    <tr>\n",
       "      <th>6</th>\n",
       "      <td>0.077331</td>\n",
       "      <td>0.500083</td>\n",
       "      <td>0.472720</td>\n",
       "      <td>0.716224</td>\n",
       "    </tr>\n",
       "  </tbody>\n",
       "</table>\n",
       "</div>"
      ],
      "text/plain": [
       "          0         1         2         3\n",
       "3  0.709537 -1.589741  0.097680  2.471441\n",
       "4  0.314926 -0.966215 -0.973645  0.702403\n",
       "5 -0.188686 -0.372258  0.040537  0.496963\n",
       "6  0.077331  0.500083  0.472720  0.716224"
      ]
     },
     "execution_count": 16,
     "metadata": {},
     "output_type": "execute_result"
    }
   ],
   "source": [
    "df[3:7]"
   ]
  },
  {
   "cell_type": "code",
   "execution_count": 17,
   "metadata": {},
   "outputs": [],
   "source": [
    "# break it into pieces\n",
    "pieces = [df[:3], df[3:7], df[7:]]"
   ]
  },
  {
   "cell_type": "code",
   "execution_count": 18,
   "metadata": {
    "scrolled": true
   },
   "outputs": [
    {
     "data": {
      "text/plain": [
       "[          0         1         2         3\n",
       " 0  0.946781 -1.475463  0.102267  1.225419\n",
       " 1 -0.458956  0.001300  0.726455 -1.688017\n",
       " 2  0.656732  0.355895  0.556335  1.095040,\n",
       "           0         1         2         3\n",
       " 3  0.709537 -1.589741  0.097680  2.471441\n",
       " 4  0.314926 -0.966215 -0.973645  0.702403\n",
       " 5 -0.188686 -0.372258  0.040537  0.496963\n",
       " 6  0.077331  0.500083  0.472720  0.716224,\n",
       "           0         1         2         3\n",
       " 7  0.495744 -0.480587  0.805836 -0.212111\n",
       " 8 -0.324066 -0.662484 -0.594502  0.718447\n",
       " 9  0.887019 -0.069993 -0.747354  0.488328]"
      ]
     },
     "execution_count": 18,
     "metadata": {},
     "output_type": "execute_result"
    }
   ],
   "source": [
    "pieces"
   ]
  },
  {
   "cell_type": "code",
   "execution_count": 19,
   "metadata": {
    "scrolled": true
   },
   "outputs": [
    {
     "data": {
      "text/html": [
       "<div>\n",
       "<style scoped>\n",
       "    .dataframe tbody tr th:only-of-type {\n",
       "        vertical-align: middle;\n",
       "    }\n",
       "\n",
       "    .dataframe tbody tr th {\n",
       "        vertical-align: top;\n",
       "    }\n",
       "\n",
       "    .dataframe thead th {\n",
       "        text-align: right;\n",
       "    }\n",
       "</style>\n",
       "<table border=\"1\" class=\"dataframe\">\n",
       "  <thead>\n",
       "    <tr style=\"text-align: right;\">\n",
       "      <th></th>\n",
       "      <th>0</th>\n",
       "      <th>1</th>\n",
       "      <th>2</th>\n",
       "      <th>3</th>\n",
       "    </tr>\n",
       "  </thead>\n",
       "  <tbody>\n",
       "    <tr>\n",
       "      <th>0</th>\n",
       "      <td>0.946781</td>\n",
       "      <td>-1.475463</td>\n",
       "      <td>0.102267</td>\n",
       "      <td>1.225419</td>\n",
       "    </tr>\n",
       "    <tr>\n",
       "      <th>1</th>\n",
       "      <td>-0.458956</td>\n",
       "      <td>0.001300</td>\n",
       "      <td>0.726455</td>\n",
       "      <td>-1.688017</td>\n",
       "    </tr>\n",
       "    <tr>\n",
       "      <th>2</th>\n",
       "      <td>0.656732</td>\n",
       "      <td>0.355895</td>\n",
       "      <td>0.556335</td>\n",
       "      <td>1.095040</td>\n",
       "    </tr>\n",
       "    <tr>\n",
       "      <th>3</th>\n",
       "      <td>0.709537</td>\n",
       "      <td>-1.589741</td>\n",
       "      <td>0.097680</td>\n",
       "      <td>2.471441</td>\n",
       "    </tr>\n",
       "    <tr>\n",
       "      <th>4</th>\n",
       "      <td>0.314926</td>\n",
       "      <td>-0.966215</td>\n",
       "      <td>-0.973645</td>\n",
       "      <td>0.702403</td>\n",
       "    </tr>\n",
       "    <tr>\n",
       "      <th>5</th>\n",
       "      <td>-0.188686</td>\n",
       "      <td>-0.372258</td>\n",
       "      <td>0.040537</td>\n",
       "      <td>0.496963</td>\n",
       "    </tr>\n",
       "    <tr>\n",
       "      <th>6</th>\n",
       "      <td>0.077331</td>\n",
       "      <td>0.500083</td>\n",
       "      <td>0.472720</td>\n",
       "      <td>0.716224</td>\n",
       "    </tr>\n",
       "    <tr>\n",
       "      <th>7</th>\n",
       "      <td>0.495744</td>\n",
       "      <td>-0.480587</td>\n",
       "      <td>0.805836</td>\n",
       "      <td>-0.212111</td>\n",
       "    </tr>\n",
       "    <tr>\n",
       "      <th>8</th>\n",
       "      <td>-0.324066</td>\n",
       "      <td>-0.662484</td>\n",
       "      <td>-0.594502</td>\n",
       "      <td>0.718447</td>\n",
       "    </tr>\n",
       "    <tr>\n",
       "      <th>9</th>\n",
       "      <td>0.887019</td>\n",
       "      <td>-0.069993</td>\n",
       "      <td>-0.747354</td>\n",
       "      <td>0.488328</td>\n",
       "    </tr>\n",
       "  </tbody>\n",
       "</table>\n",
       "</div>"
      ],
      "text/plain": [
       "          0         1         2         3\n",
       "0  0.946781 -1.475463  0.102267  1.225419\n",
       "1 -0.458956  0.001300  0.726455 -1.688017\n",
       "2  0.656732  0.355895  0.556335  1.095040\n",
       "3  0.709537 -1.589741  0.097680  2.471441\n",
       "4  0.314926 -0.966215 -0.973645  0.702403\n",
       "5 -0.188686 -0.372258  0.040537  0.496963\n",
       "6  0.077331  0.500083  0.472720  0.716224\n",
       "7  0.495744 -0.480587  0.805836 -0.212111\n",
       "8 -0.324066 -0.662484 -0.594502  0.718447\n",
       "9  0.887019 -0.069993 -0.747354  0.488328"
      ]
     },
     "execution_count": 19,
     "metadata": {},
     "output_type": "execute_result"
    }
   ],
   "source": [
    "pd.concat(pieces)"
   ]
  },
  {
   "cell_type": "code",
   "execution_count": 20,
   "metadata": {
    "scrolled": true
   },
   "outputs": [
    {
     "data": {
      "text/html": [
       "<div>\n",
       "<style scoped>\n",
       "    .dataframe tbody tr th:only-of-type {\n",
       "        vertical-align: middle;\n",
       "    }\n",
       "\n",
       "    .dataframe tbody tr th {\n",
       "        vertical-align: top;\n",
       "    }\n",
       "\n",
       "    .dataframe thead th {\n",
       "        text-align: right;\n",
       "    }\n",
       "</style>\n",
       "<table border=\"1\" class=\"dataframe\">\n",
       "  <thead>\n",
       "    <tr style=\"text-align: right;\">\n",
       "      <th></th>\n",
       "      <th>0</th>\n",
       "      <th>1</th>\n",
       "      <th>2</th>\n",
       "      <th>3</th>\n",
       "      <th>0</th>\n",
       "      <th>1</th>\n",
       "      <th>2</th>\n",
       "      <th>3</th>\n",
       "      <th>0</th>\n",
       "      <th>1</th>\n",
       "      <th>2</th>\n",
       "      <th>3</th>\n",
       "    </tr>\n",
       "  </thead>\n",
       "  <tbody>\n",
       "    <tr>\n",
       "      <th>0</th>\n",
       "      <td>0.946781</td>\n",
       "      <td>-1.475463</td>\n",
       "      <td>0.102267</td>\n",
       "      <td>1.225419</td>\n",
       "      <td>NaN</td>\n",
       "      <td>NaN</td>\n",
       "      <td>NaN</td>\n",
       "      <td>NaN</td>\n",
       "      <td>NaN</td>\n",
       "      <td>NaN</td>\n",
       "      <td>NaN</td>\n",
       "      <td>NaN</td>\n",
       "    </tr>\n",
       "    <tr>\n",
       "      <th>1</th>\n",
       "      <td>-0.458956</td>\n",
       "      <td>0.001300</td>\n",
       "      <td>0.726455</td>\n",
       "      <td>-1.688017</td>\n",
       "      <td>NaN</td>\n",
       "      <td>NaN</td>\n",
       "      <td>NaN</td>\n",
       "      <td>NaN</td>\n",
       "      <td>NaN</td>\n",
       "      <td>NaN</td>\n",
       "      <td>NaN</td>\n",
       "      <td>NaN</td>\n",
       "    </tr>\n",
       "    <tr>\n",
       "      <th>2</th>\n",
       "      <td>0.656732</td>\n",
       "      <td>0.355895</td>\n",
       "      <td>0.556335</td>\n",
       "      <td>1.095040</td>\n",
       "      <td>NaN</td>\n",
       "      <td>NaN</td>\n",
       "      <td>NaN</td>\n",
       "      <td>NaN</td>\n",
       "      <td>NaN</td>\n",
       "      <td>NaN</td>\n",
       "      <td>NaN</td>\n",
       "      <td>NaN</td>\n",
       "    </tr>\n",
       "    <tr>\n",
       "      <th>3</th>\n",
       "      <td>NaN</td>\n",
       "      <td>NaN</td>\n",
       "      <td>NaN</td>\n",
       "      <td>NaN</td>\n",
       "      <td>0.709537</td>\n",
       "      <td>-1.589741</td>\n",
       "      <td>0.097680</td>\n",
       "      <td>2.471441</td>\n",
       "      <td>NaN</td>\n",
       "      <td>NaN</td>\n",
       "      <td>NaN</td>\n",
       "      <td>NaN</td>\n",
       "    </tr>\n",
       "    <tr>\n",
       "      <th>4</th>\n",
       "      <td>NaN</td>\n",
       "      <td>NaN</td>\n",
       "      <td>NaN</td>\n",
       "      <td>NaN</td>\n",
       "      <td>0.314926</td>\n",
       "      <td>-0.966215</td>\n",
       "      <td>-0.973645</td>\n",
       "      <td>0.702403</td>\n",
       "      <td>NaN</td>\n",
       "      <td>NaN</td>\n",
       "      <td>NaN</td>\n",
       "      <td>NaN</td>\n",
       "    </tr>\n",
       "    <tr>\n",
       "      <th>5</th>\n",
       "      <td>NaN</td>\n",
       "      <td>NaN</td>\n",
       "      <td>NaN</td>\n",
       "      <td>NaN</td>\n",
       "      <td>-0.188686</td>\n",
       "      <td>-0.372258</td>\n",
       "      <td>0.040537</td>\n",
       "      <td>0.496963</td>\n",
       "      <td>NaN</td>\n",
       "      <td>NaN</td>\n",
       "      <td>NaN</td>\n",
       "      <td>NaN</td>\n",
       "    </tr>\n",
       "    <tr>\n",
       "      <th>6</th>\n",
       "      <td>NaN</td>\n",
       "      <td>NaN</td>\n",
       "      <td>NaN</td>\n",
       "      <td>NaN</td>\n",
       "      <td>0.077331</td>\n",
       "      <td>0.500083</td>\n",
       "      <td>0.472720</td>\n",
       "      <td>0.716224</td>\n",
       "      <td>NaN</td>\n",
       "      <td>NaN</td>\n",
       "      <td>NaN</td>\n",
       "      <td>NaN</td>\n",
       "    </tr>\n",
       "    <tr>\n",
       "      <th>7</th>\n",
       "      <td>NaN</td>\n",
       "      <td>NaN</td>\n",
       "      <td>NaN</td>\n",
       "      <td>NaN</td>\n",
       "      <td>NaN</td>\n",
       "      <td>NaN</td>\n",
       "      <td>NaN</td>\n",
       "      <td>NaN</td>\n",
       "      <td>0.495744</td>\n",
       "      <td>-0.480587</td>\n",
       "      <td>0.805836</td>\n",
       "      <td>-0.212111</td>\n",
       "    </tr>\n",
       "    <tr>\n",
       "      <th>8</th>\n",
       "      <td>NaN</td>\n",
       "      <td>NaN</td>\n",
       "      <td>NaN</td>\n",
       "      <td>NaN</td>\n",
       "      <td>NaN</td>\n",
       "      <td>NaN</td>\n",
       "      <td>NaN</td>\n",
       "      <td>NaN</td>\n",
       "      <td>-0.324066</td>\n",
       "      <td>-0.662484</td>\n",
       "      <td>-0.594502</td>\n",
       "      <td>0.718447</td>\n",
       "    </tr>\n",
       "    <tr>\n",
       "      <th>9</th>\n",
       "      <td>NaN</td>\n",
       "      <td>NaN</td>\n",
       "      <td>NaN</td>\n",
       "      <td>NaN</td>\n",
       "      <td>NaN</td>\n",
       "      <td>NaN</td>\n",
       "      <td>NaN</td>\n",
       "      <td>NaN</td>\n",
       "      <td>0.887019</td>\n",
       "      <td>-0.069993</td>\n",
       "      <td>-0.747354</td>\n",
       "      <td>0.488328</td>\n",
       "    </tr>\n",
       "  </tbody>\n",
       "</table>\n",
       "</div>"
      ],
      "text/plain": [
       "          0         1         2         3         0         1         2  \\\n",
       "0  0.946781 -1.475463  0.102267  1.225419       NaN       NaN       NaN   \n",
       "1 -0.458956  0.001300  0.726455 -1.688017       NaN       NaN       NaN   \n",
       "2  0.656732  0.355895  0.556335  1.095040       NaN       NaN       NaN   \n",
       "3       NaN       NaN       NaN       NaN  0.709537 -1.589741  0.097680   \n",
       "4       NaN       NaN       NaN       NaN  0.314926 -0.966215 -0.973645   \n",
       "5       NaN       NaN       NaN       NaN -0.188686 -0.372258  0.040537   \n",
       "6       NaN       NaN       NaN       NaN  0.077331  0.500083  0.472720   \n",
       "7       NaN       NaN       NaN       NaN       NaN       NaN       NaN   \n",
       "8       NaN       NaN       NaN       NaN       NaN       NaN       NaN   \n",
       "9       NaN       NaN       NaN       NaN       NaN       NaN       NaN   \n",
       "\n",
       "          3         0         1         2         3  \n",
       "0       NaN       NaN       NaN       NaN       NaN  \n",
       "1       NaN       NaN       NaN       NaN       NaN  \n",
       "2       NaN       NaN       NaN       NaN       NaN  \n",
       "3  2.471441       NaN       NaN       NaN       NaN  \n",
       "4  0.702403       NaN       NaN       NaN       NaN  \n",
       "5  0.496963       NaN       NaN       NaN       NaN  \n",
       "6  0.716224       NaN       NaN       NaN       NaN  \n",
       "7       NaN  0.495744 -0.480587  0.805836 -0.212111  \n",
       "8       NaN -0.324066 -0.662484 -0.594502  0.718447  \n",
       "9       NaN  0.887019 -0.069993 -0.747354  0.488328  "
      ]
     },
     "execution_count": 20,
     "metadata": {},
     "output_type": "execute_result"
    }
   ],
   "source": [
    "pd.concat(pieces, axis=1)"
   ]
  },
  {
   "cell_type": "code",
   "execution_count": 21,
   "metadata": {},
   "outputs": [
    {
     "data": {
      "text/html": [
       "<div>\n",
       "<style scoped>\n",
       "    .dataframe tbody tr th:only-of-type {\n",
       "        vertical-align: middle;\n",
       "    }\n",
       "\n",
       "    .dataframe tbody tr th {\n",
       "        vertical-align: top;\n",
       "    }\n",
       "\n",
       "    .dataframe thead th {\n",
       "        text-align: right;\n",
       "    }\n",
       "</style>\n",
       "<table border=\"1\" class=\"dataframe\">\n",
       "  <thead>\n",
       "    <tr style=\"text-align: right;\">\n",
       "      <th></th>\n",
       "      <th>0</th>\n",
       "      <th>1</th>\n",
       "      <th>2</th>\n",
       "      <th>3</th>\n",
       "    </tr>\n",
       "  </thead>\n",
       "  <tbody>\n",
       "    <tr>\n",
       "      <th>0</th>\n",
       "      <td>0.946781</td>\n",
       "      <td>-1.475463</td>\n",
       "      <td>0.102267</td>\n",
       "      <td>1.225419</td>\n",
       "    </tr>\n",
       "    <tr>\n",
       "      <th>1</th>\n",
       "      <td>-0.458956</td>\n",
       "      <td>0.001300</td>\n",
       "      <td>0.726455</td>\n",
       "      <td>-1.688017</td>\n",
       "    </tr>\n",
       "    <tr>\n",
       "      <th>2</th>\n",
       "      <td>0.656732</td>\n",
       "      <td>0.355895</td>\n",
       "      <td>0.556335</td>\n",
       "      <td>1.095040</td>\n",
       "    </tr>\n",
       "    <tr>\n",
       "      <th>3</th>\n",
       "      <td>0.709537</td>\n",
       "      <td>-1.589741</td>\n",
       "      <td>0.097680</td>\n",
       "      <td>2.471441</td>\n",
       "    </tr>\n",
       "    <tr>\n",
       "      <th>4</th>\n",
       "      <td>0.314926</td>\n",
       "      <td>-0.966215</td>\n",
       "      <td>-0.973645</td>\n",
       "      <td>0.702403</td>\n",
       "    </tr>\n",
       "    <tr>\n",
       "      <th>5</th>\n",
       "      <td>-0.188686</td>\n",
       "      <td>-0.372258</td>\n",
       "      <td>0.040537</td>\n",
       "      <td>0.496963</td>\n",
       "    </tr>\n",
       "    <tr>\n",
       "      <th>6</th>\n",
       "      <td>0.077331</td>\n",
       "      <td>0.500083</td>\n",
       "      <td>0.472720</td>\n",
       "      <td>0.716224</td>\n",
       "    </tr>\n",
       "    <tr>\n",
       "      <th>7</th>\n",
       "      <td>0.495744</td>\n",
       "      <td>-0.480587</td>\n",
       "      <td>0.805836</td>\n",
       "      <td>-0.212111</td>\n",
       "    </tr>\n",
       "    <tr>\n",
       "      <th>8</th>\n",
       "      <td>-0.324066</td>\n",
       "      <td>-0.662484</td>\n",
       "      <td>-0.594502</td>\n",
       "      <td>0.718447</td>\n",
       "    </tr>\n",
       "    <tr>\n",
       "      <th>9</th>\n",
       "      <td>0.887019</td>\n",
       "      <td>-0.069993</td>\n",
       "      <td>-0.747354</td>\n",
       "      <td>0.488328</td>\n",
       "    </tr>\n",
       "  </tbody>\n",
       "</table>\n",
       "</div>"
      ],
      "text/plain": [
       "          0         1         2         3\n",
       "0  0.946781 -1.475463  0.102267  1.225419\n",
       "1 -0.458956  0.001300  0.726455 -1.688017\n",
       "2  0.656732  0.355895  0.556335  1.095040\n",
       "3  0.709537 -1.589741  0.097680  2.471441\n",
       "4  0.314926 -0.966215 -0.973645  0.702403\n",
       "5 -0.188686 -0.372258  0.040537  0.496963\n",
       "6  0.077331  0.500083  0.472720  0.716224\n",
       "7  0.495744 -0.480587  0.805836 -0.212111\n",
       "8 -0.324066 -0.662484 -0.594502  0.718447\n",
       "9  0.887019 -0.069993 -0.747354  0.488328"
      ]
     },
     "execution_count": 21,
     "metadata": {},
     "output_type": "execute_result"
    }
   ],
   "source": [
    "df"
   ]
  },
  {
   "cell_type": "code",
   "execution_count": 22,
   "metadata": {},
   "outputs": [
    {
     "data": {
      "text/html": [
       "<div>\n",
       "<style scoped>\n",
       "    .dataframe tbody tr th:only-of-type {\n",
       "        vertical-align: middle;\n",
       "    }\n",
       "\n",
       "    .dataframe tbody tr th {\n",
       "        vertical-align: top;\n",
       "    }\n",
       "\n",
       "    .dataframe thead th {\n",
       "        text-align: right;\n",
       "    }\n",
       "</style>\n",
       "<table border=\"1\" class=\"dataframe\">\n",
       "  <thead>\n",
       "    <tr style=\"text-align: right;\">\n",
       "      <th></th>\n",
       "      <th></th>\n",
       "      <th>0</th>\n",
       "      <th>1</th>\n",
       "      <th>2</th>\n",
       "      <th>3</th>\n",
       "    </tr>\n",
       "  </thead>\n",
       "  <tbody>\n",
       "    <tr>\n",
       "      <th rowspan=\"3\" valign=\"top\">a</th>\n",
       "      <th>0</th>\n",
       "      <td>0.946781</td>\n",
       "      <td>-1.475463</td>\n",
       "      <td>0.102267</td>\n",
       "      <td>1.225419</td>\n",
       "    </tr>\n",
       "    <tr>\n",
       "      <th>1</th>\n",
       "      <td>-0.458956</td>\n",
       "      <td>0.001300</td>\n",
       "      <td>0.726455</td>\n",
       "      <td>-1.688017</td>\n",
       "    </tr>\n",
       "    <tr>\n",
       "      <th>2</th>\n",
       "      <td>0.656732</td>\n",
       "      <td>0.355895</td>\n",
       "      <td>0.556335</td>\n",
       "      <td>1.095040</td>\n",
       "    </tr>\n",
       "    <tr>\n",
       "      <th rowspan=\"4\" valign=\"top\">b</th>\n",
       "      <th>3</th>\n",
       "      <td>0.709537</td>\n",
       "      <td>-1.589741</td>\n",
       "      <td>0.097680</td>\n",
       "      <td>2.471441</td>\n",
       "    </tr>\n",
       "    <tr>\n",
       "      <th>4</th>\n",
       "      <td>0.314926</td>\n",
       "      <td>-0.966215</td>\n",
       "      <td>-0.973645</td>\n",
       "      <td>0.702403</td>\n",
       "    </tr>\n",
       "    <tr>\n",
       "      <th>5</th>\n",
       "      <td>-0.188686</td>\n",
       "      <td>-0.372258</td>\n",
       "      <td>0.040537</td>\n",
       "      <td>0.496963</td>\n",
       "    </tr>\n",
       "    <tr>\n",
       "      <th>6</th>\n",
       "      <td>0.077331</td>\n",
       "      <td>0.500083</td>\n",
       "      <td>0.472720</td>\n",
       "      <td>0.716224</td>\n",
       "    </tr>\n",
       "    <tr>\n",
       "      <th rowspan=\"3\" valign=\"top\">c</th>\n",
       "      <th>7</th>\n",
       "      <td>0.495744</td>\n",
       "      <td>-0.480587</td>\n",
       "      <td>0.805836</td>\n",
       "      <td>-0.212111</td>\n",
       "    </tr>\n",
       "    <tr>\n",
       "      <th>8</th>\n",
       "      <td>-0.324066</td>\n",
       "      <td>-0.662484</td>\n",
       "      <td>-0.594502</td>\n",
       "      <td>0.718447</td>\n",
       "    </tr>\n",
       "    <tr>\n",
       "      <th>9</th>\n",
       "      <td>0.887019</td>\n",
       "      <td>-0.069993</td>\n",
       "      <td>-0.747354</td>\n",
       "      <td>0.488328</td>\n",
       "    </tr>\n",
       "  </tbody>\n",
       "</table>\n",
       "</div>"
      ],
      "text/plain": [
       "            0         1         2         3\n",
       "a 0  0.946781 -1.475463  0.102267  1.225419\n",
       "  1 -0.458956  0.001300  0.726455 -1.688017\n",
       "  2  0.656732  0.355895  0.556335  1.095040\n",
       "b 3  0.709537 -1.589741  0.097680  2.471441\n",
       "  4  0.314926 -0.966215 -0.973645  0.702403\n",
       "  5 -0.188686 -0.372258  0.040537  0.496963\n",
       "  6  0.077331  0.500083  0.472720  0.716224\n",
       "c 7  0.495744 -0.480587  0.805836 -0.212111\n",
       "  8 -0.324066 -0.662484 -0.594502  0.718447\n",
       "  9  0.887019 -0.069993 -0.747354  0.488328"
      ]
     },
     "execution_count": 22,
     "metadata": {},
     "output_type": "execute_result"
    }
   ],
   "source": [
    "pieces = {\"a\":df[:3], \"b\": df[3:7], \"c\": df[7:]}\n",
    "pd.concat(pieces, axis=0)"
   ]
  },
  {
   "cell_type": "markdown",
   "metadata": {},
   "source": [
    "### Join"
   ]
  },
  {
   "cell_type": "markdown",
   "metadata": {},
   "source": [
    "SQL style merges. See the [Database style joining](http://pandas.pydata.org/pandas-docs/stable/merging.html#merging-join)"
   ]
  },
  {
   "cell_type": "code",
   "execution_count": 23,
   "metadata": {},
   "outputs": [],
   "source": [
    "left = pd.DataFrame({'key': ['foo', 'foo'], 'lval': [1, 2]})"
   ]
  },
  {
   "cell_type": "code",
   "execution_count": 24,
   "metadata": {},
   "outputs": [],
   "source": [
    "right = pd.DataFrame({'key': ['foo', 'foo'], 'rval': [4, 5]})"
   ]
  },
  {
   "cell_type": "code",
   "execution_count": 25,
   "metadata": {},
   "outputs": [
    {
     "data": {
      "text/html": [
       "<div>\n",
       "<style scoped>\n",
       "    .dataframe tbody tr th:only-of-type {\n",
       "        vertical-align: middle;\n",
       "    }\n",
       "\n",
       "    .dataframe tbody tr th {\n",
       "        vertical-align: top;\n",
       "    }\n",
       "\n",
       "    .dataframe thead th {\n",
       "        text-align: right;\n",
       "    }\n",
       "</style>\n",
       "<table border=\"1\" class=\"dataframe\">\n",
       "  <thead>\n",
       "    <tr style=\"text-align: right;\">\n",
       "      <th></th>\n",
       "      <th>key</th>\n",
       "      <th>lval</th>\n",
       "    </tr>\n",
       "  </thead>\n",
       "  <tbody>\n",
       "    <tr>\n",
       "      <th>0</th>\n",
       "      <td>foo</td>\n",
       "      <td>1</td>\n",
       "    </tr>\n",
       "    <tr>\n",
       "      <th>1</th>\n",
       "      <td>foo</td>\n",
       "      <td>2</td>\n",
       "    </tr>\n",
       "  </tbody>\n",
       "</table>\n",
       "</div>"
      ],
      "text/plain": [
       "   key  lval\n",
       "0  foo     1\n",
       "1  foo     2"
      ]
     },
     "execution_count": 25,
     "metadata": {},
     "output_type": "execute_result"
    }
   ],
   "source": [
    "left"
   ]
  },
  {
   "cell_type": "code",
   "execution_count": 26,
   "metadata": {},
   "outputs": [
    {
     "data": {
      "text/html": [
       "<div>\n",
       "<style scoped>\n",
       "    .dataframe tbody tr th:only-of-type {\n",
       "        vertical-align: middle;\n",
       "    }\n",
       "\n",
       "    .dataframe tbody tr th {\n",
       "        vertical-align: top;\n",
       "    }\n",
       "\n",
       "    .dataframe thead th {\n",
       "        text-align: right;\n",
       "    }\n",
       "</style>\n",
       "<table border=\"1\" class=\"dataframe\">\n",
       "  <thead>\n",
       "    <tr style=\"text-align: right;\">\n",
       "      <th></th>\n",
       "      <th>key</th>\n",
       "      <th>rval</th>\n",
       "    </tr>\n",
       "  </thead>\n",
       "  <tbody>\n",
       "    <tr>\n",
       "      <th>0</th>\n",
       "      <td>foo</td>\n",
       "      <td>4</td>\n",
       "    </tr>\n",
       "    <tr>\n",
       "      <th>1</th>\n",
       "      <td>foo</td>\n",
       "      <td>5</td>\n",
       "    </tr>\n",
       "  </tbody>\n",
       "</table>\n",
       "</div>"
      ],
      "text/plain": [
       "   key  rval\n",
       "0  foo     4\n",
       "1  foo     5"
      ]
     },
     "execution_count": 26,
     "metadata": {},
     "output_type": "execute_result"
    }
   ],
   "source": [
    "right"
   ]
  },
  {
   "cell_type": "code",
   "execution_count": 27,
   "metadata": {},
   "outputs": [
    {
     "data": {
      "text/html": [
       "<div>\n",
       "<style scoped>\n",
       "    .dataframe tbody tr th:only-of-type {\n",
       "        vertical-align: middle;\n",
       "    }\n",
       "\n",
       "    .dataframe tbody tr th {\n",
       "        vertical-align: top;\n",
       "    }\n",
       "\n",
       "    .dataframe thead th {\n",
       "        text-align: right;\n",
       "    }\n",
       "</style>\n",
       "<table border=\"1\" class=\"dataframe\">\n",
       "  <thead>\n",
       "    <tr style=\"text-align: right;\">\n",
       "      <th></th>\n",
       "      <th>key</th>\n",
       "      <th>lval</th>\n",
       "      <th>rval</th>\n",
       "    </tr>\n",
       "  </thead>\n",
       "  <tbody>\n",
       "    <tr>\n",
       "      <th>0</th>\n",
       "      <td>foo</td>\n",
       "      <td>1</td>\n",
       "      <td>4</td>\n",
       "    </tr>\n",
       "    <tr>\n",
       "      <th>1</th>\n",
       "      <td>foo</td>\n",
       "      <td>1</td>\n",
       "      <td>5</td>\n",
       "    </tr>\n",
       "    <tr>\n",
       "      <th>2</th>\n",
       "      <td>foo</td>\n",
       "      <td>2</td>\n",
       "      <td>4</td>\n",
       "    </tr>\n",
       "    <tr>\n",
       "      <th>3</th>\n",
       "      <td>foo</td>\n",
       "      <td>2</td>\n",
       "      <td>5</td>\n",
       "    </tr>\n",
       "  </tbody>\n",
       "</table>\n",
       "</div>"
      ],
      "text/plain": [
       "   key  lval  rval\n",
       "0  foo     1     4\n",
       "1  foo     1     5\n",
       "2  foo     2     4\n",
       "3  foo     2     5"
      ]
     },
     "execution_count": 27,
     "metadata": {},
     "output_type": "execute_result"
    }
   ],
   "source": [
    "pd.merge(left, right, on='key')"
   ]
  },
  {
   "cell_type": "markdown",
   "metadata": {},
   "source": [
    "Another example that can be given is:"
   ]
  },
  {
   "cell_type": "code",
   "execution_count": 28,
   "metadata": {},
   "outputs": [],
   "source": [
    "left = pd.DataFrame({'key': ['foo', 'bar'], 'lval': [1, 2]})"
   ]
  },
  {
   "cell_type": "code",
   "execution_count": 29,
   "metadata": {},
   "outputs": [],
   "source": [
    "right = pd.DataFrame({'key': ['foo', 'bar'], 'rval': [4, 5]})"
   ]
  },
  {
   "cell_type": "code",
   "execution_count": 30,
   "metadata": {},
   "outputs": [
    {
     "data": {
      "text/html": [
       "<div>\n",
       "<style scoped>\n",
       "    .dataframe tbody tr th:only-of-type {\n",
       "        vertical-align: middle;\n",
       "    }\n",
       "\n",
       "    .dataframe tbody tr th {\n",
       "        vertical-align: top;\n",
       "    }\n",
       "\n",
       "    .dataframe thead th {\n",
       "        text-align: right;\n",
       "    }\n",
       "</style>\n",
       "<table border=\"1\" class=\"dataframe\">\n",
       "  <thead>\n",
       "    <tr style=\"text-align: right;\">\n",
       "      <th></th>\n",
       "      <th>key</th>\n",
       "      <th>lval</th>\n",
       "    </tr>\n",
       "  </thead>\n",
       "  <tbody>\n",
       "    <tr>\n",
       "      <th>0</th>\n",
       "      <td>foo</td>\n",
       "      <td>1</td>\n",
       "    </tr>\n",
       "    <tr>\n",
       "      <th>1</th>\n",
       "      <td>bar</td>\n",
       "      <td>2</td>\n",
       "    </tr>\n",
       "  </tbody>\n",
       "</table>\n",
       "</div>"
      ],
      "text/plain": [
       "   key  lval\n",
       "0  foo     1\n",
       "1  bar     2"
      ]
     },
     "execution_count": 30,
     "metadata": {},
     "output_type": "execute_result"
    }
   ],
   "source": [
    "left"
   ]
  },
  {
   "cell_type": "code",
   "execution_count": 31,
   "metadata": {},
   "outputs": [
    {
     "data": {
      "text/html": [
       "<div>\n",
       "<style scoped>\n",
       "    .dataframe tbody tr th:only-of-type {\n",
       "        vertical-align: middle;\n",
       "    }\n",
       "\n",
       "    .dataframe tbody tr th {\n",
       "        vertical-align: top;\n",
       "    }\n",
       "\n",
       "    .dataframe thead th {\n",
       "        text-align: right;\n",
       "    }\n",
       "</style>\n",
       "<table border=\"1\" class=\"dataframe\">\n",
       "  <thead>\n",
       "    <tr style=\"text-align: right;\">\n",
       "      <th></th>\n",
       "      <th>key</th>\n",
       "      <th>rval</th>\n",
       "    </tr>\n",
       "  </thead>\n",
       "  <tbody>\n",
       "    <tr>\n",
       "      <th>0</th>\n",
       "      <td>foo</td>\n",
       "      <td>4</td>\n",
       "    </tr>\n",
       "    <tr>\n",
       "      <th>1</th>\n",
       "      <td>bar</td>\n",
       "      <td>5</td>\n",
       "    </tr>\n",
       "  </tbody>\n",
       "</table>\n",
       "</div>"
      ],
      "text/plain": [
       "   key  rval\n",
       "0  foo     4\n",
       "1  bar     5"
      ]
     },
     "execution_count": 31,
     "metadata": {},
     "output_type": "execute_result"
    }
   ],
   "source": [
    "right"
   ]
  },
  {
   "cell_type": "code",
   "execution_count": 32,
   "metadata": {},
   "outputs": [
    {
     "data": {
      "text/html": [
       "<div>\n",
       "<style scoped>\n",
       "    .dataframe tbody tr th:only-of-type {\n",
       "        vertical-align: middle;\n",
       "    }\n",
       "\n",
       "    .dataframe tbody tr th {\n",
       "        vertical-align: top;\n",
       "    }\n",
       "\n",
       "    .dataframe thead th {\n",
       "        text-align: right;\n",
       "    }\n",
       "</style>\n",
       "<table border=\"1\" class=\"dataframe\">\n",
       "  <thead>\n",
       "    <tr style=\"text-align: right;\">\n",
       "      <th></th>\n",
       "      <th>key</th>\n",
       "      <th>lval</th>\n",
       "      <th>rval</th>\n",
       "    </tr>\n",
       "  </thead>\n",
       "  <tbody>\n",
       "    <tr>\n",
       "      <th>0</th>\n",
       "      <td>foo</td>\n",
       "      <td>1</td>\n",
       "      <td>4</td>\n",
       "    </tr>\n",
       "    <tr>\n",
       "      <th>1</th>\n",
       "      <td>bar</td>\n",
       "      <td>2</td>\n",
       "      <td>5</td>\n",
       "    </tr>\n",
       "  </tbody>\n",
       "</table>\n",
       "</div>"
      ],
      "text/plain": [
       "   key  lval  rval\n",
       "0  foo     1     4\n",
       "1  bar     2     5"
      ]
     },
     "execution_count": 32,
     "metadata": {},
     "output_type": "execute_result"
    }
   ],
   "source": [
    "pd.merge(left, right, on='key')"
   ]
  },
  {
   "cell_type": "code",
   "execution_count": 33,
   "metadata": {},
   "outputs": [],
   "source": [
    "?pd.merge"
   ]
  },
  {
   "cell_type": "markdown",
   "metadata": {},
   "source": [
    "### Append"
   ]
  },
  {
   "cell_type": "markdown",
   "metadata": {},
   "source": [
    "\n",
    "Append rows to a dataframe. See the [Appending](http://pandas.pydata.org/pandas-docs/stable/merging.html#merging-concatenation)"
   ]
  },
  {
   "cell_type": "code",
   "execution_count": 55,
   "metadata": {},
   "outputs": [],
   "source": [
    "import pandas as pd\n",
    "import numpy as np\n",
    "df = pd.DataFrame(np.random.randn(8, 4), columns=['A','B','C','D'])"
   ]
  },
  {
   "cell_type": "code",
   "execution_count": 56,
   "metadata": {},
   "outputs": [
    {
     "data": {
      "text/html": [
       "<div>\n",
       "<style scoped>\n",
       "    .dataframe tbody tr th:only-of-type {\n",
       "        vertical-align: middle;\n",
       "    }\n",
       "\n",
       "    .dataframe tbody tr th {\n",
       "        vertical-align: top;\n",
       "    }\n",
       "\n",
       "    .dataframe thead th {\n",
       "        text-align: right;\n",
       "    }\n",
       "</style>\n",
       "<table border=\"1\" class=\"dataframe\">\n",
       "  <thead>\n",
       "    <tr style=\"text-align: right;\">\n",
       "      <th></th>\n",
       "      <th>A</th>\n",
       "      <th>B</th>\n",
       "      <th>C</th>\n",
       "      <th>D</th>\n",
       "    </tr>\n",
       "  </thead>\n",
       "  <tbody>\n",
       "    <tr>\n",
       "      <th>0</th>\n",
       "      <td>0.598771</td>\n",
       "      <td>0.654492</td>\n",
       "      <td>-0.573881</td>\n",
       "      <td>-1.330530</td>\n",
       "    </tr>\n",
       "    <tr>\n",
       "      <th>1</th>\n",
       "      <td>0.386083</td>\n",
       "      <td>0.093520</td>\n",
       "      <td>0.299498</td>\n",
       "      <td>0.148244</td>\n",
       "    </tr>\n",
       "    <tr>\n",
       "      <th>2</th>\n",
       "      <td>0.101055</td>\n",
       "      <td>0.795410</td>\n",
       "      <td>-0.365883</td>\n",
       "      <td>0.972259</td>\n",
       "    </tr>\n",
       "    <tr>\n",
       "      <th>3</th>\n",
       "      <td>0.477025</td>\n",
       "      <td>1.015595</td>\n",
       "      <td>0.535475</td>\n",
       "      <td>0.669795</td>\n",
       "    </tr>\n",
       "    <tr>\n",
       "      <th>4</th>\n",
       "      <td>0.873077</td>\n",
       "      <td>-0.432912</td>\n",
       "      <td>-1.047811</td>\n",
       "      <td>-0.697537</td>\n",
       "    </tr>\n",
       "    <tr>\n",
       "      <th>5</th>\n",
       "      <td>0.745212</td>\n",
       "      <td>-0.739773</td>\n",
       "      <td>-1.165442</td>\n",
       "      <td>2.797824</td>\n",
       "    </tr>\n",
       "    <tr>\n",
       "      <th>6</th>\n",
       "      <td>-0.329840</td>\n",
       "      <td>2.445985</td>\n",
       "      <td>-0.218093</td>\n",
       "      <td>0.273908</td>\n",
       "    </tr>\n",
       "    <tr>\n",
       "      <th>7</th>\n",
       "      <td>1.124096</td>\n",
       "      <td>-0.612062</td>\n",
       "      <td>1.483983</td>\n",
       "      <td>-0.608833</td>\n",
       "    </tr>\n",
       "  </tbody>\n",
       "</table>\n",
       "</div>"
      ],
      "text/plain": [
       "          A         B         C         D\n",
       "0  0.598771  0.654492 -0.573881 -1.330530\n",
       "1  0.386083  0.093520  0.299498  0.148244\n",
       "2  0.101055  0.795410 -0.365883  0.972259\n",
       "3  0.477025  1.015595  0.535475  0.669795\n",
       "4  0.873077 -0.432912 -1.047811 -0.697537\n",
       "5  0.745212 -0.739773 -1.165442  2.797824\n",
       "6 -0.329840  2.445985 -0.218093  0.273908\n",
       "7  1.124096 -0.612062  1.483983 -0.608833"
      ]
     },
     "execution_count": 56,
     "metadata": {},
     "output_type": "execute_result"
    }
   ],
   "source": [
    "df"
   ]
  },
  {
   "cell_type": "code",
   "execution_count": 57,
   "metadata": {},
   "outputs": [],
   "source": [
    "s = df.iloc[3]"
   ]
  },
  {
   "cell_type": "code",
   "execution_count": 58,
   "metadata": {
    "scrolled": true
   },
   "outputs": [
    {
     "data": {
      "text/plain": [
       "A    0.477025\n",
       "B    1.015595\n",
       "C    0.535475\n",
       "D    0.669795\n",
       "Name: 3, dtype: float64"
      ]
     },
     "execution_count": 58,
     "metadata": {},
     "output_type": "execute_result"
    }
   ],
   "source": [
    "s"
   ]
  },
  {
   "cell_type": "code",
   "execution_count": 59,
   "metadata": {
    "scrolled": true
   },
   "outputs": [
    {
     "data": {
      "text/html": [
       "<div>\n",
       "<style scoped>\n",
       "    .dataframe tbody tr th:only-of-type {\n",
       "        vertical-align: middle;\n",
       "    }\n",
       "\n",
       "    .dataframe tbody tr th {\n",
       "        vertical-align: top;\n",
       "    }\n",
       "\n",
       "    .dataframe thead th {\n",
       "        text-align: right;\n",
       "    }\n",
       "</style>\n",
       "<table border=\"1\" class=\"dataframe\">\n",
       "  <thead>\n",
       "    <tr style=\"text-align: right;\">\n",
       "      <th></th>\n",
       "      <th>A</th>\n",
       "      <th>B</th>\n",
       "      <th>C</th>\n",
       "      <th>D</th>\n",
       "    </tr>\n",
       "  </thead>\n",
       "  <tbody>\n",
       "    <tr>\n",
       "      <th>0</th>\n",
       "      <td>0.598771</td>\n",
       "      <td>0.654492</td>\n",
       "      <td>-0.573881</td>\n",
       "      <td>-1.330530</td>\n",
       "    </tr>\n",
       "    <tr>\n",
       "      <th>1</th>\n",
       "      <td>0.386083</td>\n",
       "      <td>0.093520</td>\n",
       "      <td>0.299498</td>\n",
       "      <td>0.148244</td>\n",
       "    </tr>\n",
       "    <tr>\n",
       "      <th>2</th>\n",
       "      <td>0.101055</td>\n",
       "      <td>0.795410</td>\n",
       "      <td>-0.365883</td>\n",
       "      <td>0.972259</td>\n",
       "    </tr>\n",
       "    <tr>\n",
       "      <th>3</th>\n",
       "      <td>0.477025</td>\n",
       "      <td>1.015595</td>\n",
       "      <td>0.535475</td>\n",
       "      <td>0.669795</td>\n",
       "    </tr>\n",
       "    <tr>\n",
       "      <th>4</th>\n",
       "      <td>0.873077</td>\n",
       "      <td>-0.432912</td>\n",
       "      <td>-1.047811</td>\n",
       "      <td>-0.697537</td>\n",
       "    </tr>\n",
       "    <tr>\n",
       "      <th>5</th>\n",
       "      <td>0.745212</td>\n",
       "      <td>-0.739773</td>\n",
       "      <td>-1.165442</td>\n",
       "      <td>2.797824</td>\n",
       "    </tr>\n",
       "    <tr>\n",
       "      <th>6</th>\n",
       "      <td>-0.329840</td>\n",
       "      <td>2.445985</td>\n",
       "      <td>-0.218093</td>\n",
       "      <td>0.273908</td>\n",
       "    </tr>\n",
       "    <tr>\n",
       "      <th>7</th>\n",
       "      <td>1.124096</td>\n",
       "      <td>-0.612062</td>\n",
       "      <td>1.483983</td>\n",
       "      <td>-0.608833</td>\n",
       "    </tr>\n",
       "    <tr>\n",
       "      <th>8</th>\n",
       "      <td>0.477025</td>\n",
       "      <td>1.015595</td>\n",
       "      <td>0.535475</td>\n",
       "      <td>0.669795</td>\n",
       "    </tr>\n",
       "  </tbody>\n",
       "</table>\n",
       "</div>"
      ],
      "text/plain": [
       "          A         B         C         D\n",
       "0  0.598771  0.654492 -0.573881 -1.330530\n",
       "1  0.386083  0.093520  0.299498  0.148244\n",
       "2  0.101055  0.795410 -0.365883  0.972259\n",
       "3  0.477025  1.015595  0.535475  0.669795\n",
       "4  0.873077 -0.432912 -1.047811 -0.697537\n",
       "5  0.745212 -0.739773 -1.165442  2.797824\n",
       "6 -0.329840  2.445985 -0.218093  0.273908\n",
       "7  1.124096 -0.612062  1.483983 -0.608833\n",
       "8  0.477025  1.015595  0.535475  0.669795"
      ]
     },
     "execution_count": 59,
     "metadata": {},
     "output_type": "execute_result"
    }
   ],
   "source": [
    "df=df.append(s, ignore_index=True)\n",
    "df"
   ]
  },
  {
   "cell_type": "code",
   "execution_count": 63,
   "metadata": {
    "scrolled": true
   },
   "outputs": [],
   "source": [
    "df=df.append(s, ignore_index=False)\n"
   ]
  },
  {
   "cell_type": "code",
   "execution_count": 64,
   "metadata": {},
   "outputs": [
    {
     "data": {
      "text/html": [
       "<div>\n",
       "<style scoped>\n",
       "    .dataframe tbody tr th:only-of-type {\n",
       "        vertical-align: middle;\n",
       "    }\n",
       "\n",
       "    .dataframe tbody tr th {\n",
       "        vertical-align: top;\n",
       "    }\n",
       "\n",
       "    .dataframe thead th {\n",
       "        text-align: right;\n",
       "    }\n",
       "</style>\n",
       "<table border=\"1\" class=\"dataframe\">\n",
       "  <thead>\n",
       "    <tr style=\"text-align: right;\">\n",
       "      <th></th>\n",
       "      <th>A</th>\n",
       "      <th>B</th>\n",
       "      <th>C</th>\n",
       "      <th>D</th>\n",
       "    </tr>\n",
       "  </thead>\n",
       "  <tbody>\n",
       "    <tr>\n",
       "      <th>0</th>\n",
       "      <td>0.598771</td>\n",
       "      <td>0.654492</td>\n",
       "      <td>-0.573881</td>\n",
       "      <td>-1.330530</td>\n",
       "    </tr>\n",
       "    <tr>\n",
       "      <th>1</th>\n",
       "      <td>0.386083</td>\n",
       "      <td>0.093520</td>\n",
       "      <td>0.299498</td>\n",
       "      <td>0.148244</td>\n",
       "    </tr>\n",
       "    <tr>\n",
       "      <th>2</th>\n",
       "      <td>0.101055</td>\n",
       "      <td>0.795410</td>\n",
       "      <td>-0.365883</td>\n",
       "      <td>0.972259</td>\n",
       "    </tr>\n",
       "    <tr>\n",
       "      <th>3</th>\n",
       "      <td>0.477025</td>\n",
       "      <td>1.015595</td>\n",
       "      <td>0.535475</td>\n",
       "      <td>0.669795</td>\n",
       "    </tr>\n",
       "    <tr>\n",
       "      <th>4</th>\n",
       "      <td>0.873077</td>\n",
       "      <td>-0.432912</td>\n",
       "      <td>-1.047811</td>\n",
       "      <td>-0.697537</td>\n",
       "    </tr>\n",
       "    <tr>\n",
       "      <th>5</th>\n",
       "      <td>0.745212</td>\n",
       "      <td>-0.739773</td>\n",
       "      <td>-1.165442</td>\n",
       "      <td>2.797824</td>\n",
       "    </tr>\n",
       "    <tr>\n",
       "      <th>6</th>\n",
       "      <td>-0.329840</td>\n",
       "      <td>2.445985</td>\n",
       "      <td>-0.218093</td>\n",
       "      <td>0.273908</td>\n",
       "    </tr>\n",
       "    <tr>\n",
       "      <th>7</th>\n",
       "      <td>1.124096</td>\n",
       "      <td>-0.612062</td>\n",
       "      <td>1.483983</td>\n",
       "      <td>-0.608833</td>\n",
       "    </tr>\n",
       "    <tr>\n",
       "      <th>8</th>\n",
       "      <td>0.477025</td>\n",
       "      <td>1.015595</td>\n",
       "      <td>0.535475</td>\n",
       "      <td>0.669795</td>\n",
       "    </tr>\n",
       "    <tr>\n",
       "      <th>3</th>\n",
       "      <td>0.477025</td>\n",
       "      <td>1.015595</td>\n",
       "      <td>0.535475</td>\n",
       "      <td>0.669795</td>\n",
       "    </tr>\n",
       "    <tr>\n",
       "      <th>3</th>\n",
       "      <td>0.477025</td>\n",
       "      <td>1.015595</td>\n",
       "      <td>0.535475</td>\n",
       "      <td>0.669795</td>\n",
       "    </tr>\n",
       "  </tbody>\n",
       "</table>\n",
       "</div>"
      ],
      "text/plain": [
       "          A         B         C         D\n",
       "0  0.598771  0.654492 -0.573881 -1.330530\n",
       "1  0.386083  0.093520  0.299498  0.148244\n",
       "2  0.101055  0.795410 -0.365883  0.972259\n",
       "3  0.477025  1.015595  0.535475  0.669795\n",
       "4  0.873077 -0.432912 -1.047811 -0.697537\n",
       "5  0.745212 -0.739773 -1.165442  2.797824\n",
       "6 -0.329840  2.445985 -0.218093  0.273908\n",
       "7  1.124096 -0.612062  1.483983 -0.608833\n",
       "8  0.477025  1.015595  0.535475  0.669795\n",
       "3  0.477025  1.015595  0.535475  0.669795\n",
       "3  0.477025  1.015595  0.535475  0.669795"
      ]
     },
     "execution_count": 64,
     "metadata": {},
     "output_type": "execute_result"
    }
   ],
   "source": [
    "df"
   ]
  },
  {
   "cell_type": "markdown",
   "metadata": {},
   "source": [
    "## Grouping"
   ]
  },
  {
   "cell_type": "markdown",
   "metadata": {},
   "source": [
    "By “group by” we are referring to a process involving one or more of the following steps\n",
    "\n",
    " * **Splitting** the data into groups based on some criteria\n",
    " * **Applying** a function to each group independently\n",
    " * **Combining** the results into a data structure\n",
    "\n",
    "See the [Grouping section](http://pandas.pydata.org/pandas-docs/stable/groupby.html#groupby)"
   ]
  },
  {
   "cell_type": "code",
   "execution_count": 276,
   "metadata": {},
   "outputs": [],
   "source": [
    "df = pd.DataFrame({'A' : ['foo', 'bar', 'foo', 'bar',\n",
    "                          'foo', 'bar', 'foo', 'foo'],\n",
    "                   'B' : ['one', 'one', 'two', 'three',\n",
    "                          'two', 'two', 'one', 'three'],\n",
    "                   'C' : np.random.randn(8),\n",
    "                   'D' : np.random.randn(8)})"
   ]
  },
  {
   "cell_type": "code",
   "execution_count": 282,
   "metadata": {},
   "outputs": [
    {
     "data": {
      "text/html": [
       "<div>\n",
       "<style scoped>\n",
       "    .dataframe tbody tr th:only-of-type {\n",
       "        vertical-align: middle;\n",
       "    }\n",
       "\n",
       "    .dataframe tbody tr th {\n",
       "        vertical-align: top;\n",
       "    }\n",
       "\n",
       "    .dataframe thead th {\n",
       "        text-align: right;\n",
       "    }\n",
       "</style>\n",
       "<table border=\"1\" class=\"dataframe\">\n",
       "  <thead>\n",
       "    <tr style=\"text-align: right;\">\n",
       "      <th></th>\n",
       "      <th>A</th>\n",
       "      <th>B</th>\n",
       "      <th>C</th>\n",
       "      <th>D</th>\n",
       "    </tr>\n",
       "  </thead>\n",
       "  <tbody>\n",
       "    <tr>\n",
       "      <th>0</th>\n",
       "      <td>foo</td>\n",
       "      <td>one</td>\n",
       "      <td>-0.088976</td>\n",
       "      <td>0.896882</td>\n",
       "    </tr>\n",
       "    <tr>\n",
       "      <th>1</th>\n",
       "      <td>bar</td>\n",
       "      <td>one</td>\n",
       "      <td>-1.797992</td>\n",
       "      <td>0.704474</td>\n",
       "    </tr>\n",
       "    <tr>\n",
       "      <th>2</th>\n",
       "      <td>foo</td>\n",
       "      <td>two</td>\n",
       "      <td>2.502527</td>\n",
       "      <td>1.441254</td>\n",
       "    </tr>\n",
       "    <tr>\n",
       "      <th>3</th>\n",
       "      <td>bar</td>\n",
       "      <td>three</td>\n",
       "      <td>0.882135</td>\n",
       "      <td>0.328632</td>\n",
       "    </tr>\n",
       "    <tr>\n",
       "      <th>4</th>\n",
       "      <td>foo</td>\n",
       "      <td>two</td>\n",
       "      <td>0.473995</td>\n",
       "      <td>-0.750083</td>\n",
       "    </tr>\n",
       "    <tr>\n",
       "      <th>5</th>\n",
       "      <td>bar</td>\n",
       "      <td>two</td>\n",
       "      <td>-0.308624</td>\n",
       "      <td>0.622474</td>\n",
       "    </tr>\n",
       "    <tr>\n",
       "      <th>6</th>\n",
       "      <td>foo</td>\n",
       "      <td>one</td>\n",
       "      <td>1.049922</td>\n",
       "      <td>1.448687</td>\n",
       "    </tr>\n",
       "    <tr>\n",
       "      <th>7</th>\n",
       "      <td>foo</td>\n",
       "      <td>three</td>\n",
       "      <td>-1.252240</td>\n",
       "      <td>1.051540</td>\n",
       "    </tr>\n",
       "  </tbody>\n",
       "</table>\n",
       "</div>"
      ],
      "text/plain": [
       "     A      B         C         D\n",
       "0  foo    one -0.088976  0.896882\n",
       "1  bar    one -1.797992  0.704474\n",
       "2  foo    two  2.502527  1.441254\n",
       "3  bar  three  0.882135  0.328632\n",
       "4  foo    two  0.473995 -0.750083\n",
       "5  bar    two -0.308624  0.622474\n",
       "6  foo    one  1.049922  1.448687\n",
       "7  foo  three -1.252240  1.051540"
      ]
     },
     "execution_count": 282,
     "metadata": {},
     "output_type": "execute_result"
    }
   ],
   "source": [
    "df"
   ]
  },
  {
   "cell_type": "markdown",
   "metadata": {},
   "source": [
    "Grouping and then applying a function `sum` to the resulting groups."
   ]
  },
  {
   "cell_type": "code",
   "execution_count": 278,
   "metadata": {
    "scrolled": false
   },
   "outputs": [
    {
     "data": {
      "text/html": [
       "<div>\n",
       "<style scoped>\n",
       "    .dataframe tbody tr th:only-of-type {\n",
       "        vertical-align: middle;\n",
       "    }\n",
       "\n",
       "    .dataframe tbody tr th {\n",
       "        vertical-align: top;\n",
       "    }\n",
       "\n",
       "    .dataframe thead th {\n",
       "        text-align: right;\n",
       "    }\n",
       "</style>\n",
       "<table border=\"1\" class=\"dataframe\">\n",
       "  <thead>\n",
       "    <tr style=\"text-align: right;\">\n",
       "      <th></th>\n",
       "      <th>C</th>\n",
       "      <th>D</th>\n",
       "    </tr>\n",
       "    <tr>\n",
       "      <th>A</th>\n",
       "      <th></th>\n",
       "      <th></th>\n",
       "    </tr>\n",
       "  </thead>\n",
       "  <tbody>\n",
       "    <tr>\n",
       "      <th>bar</th>\n",
       "      <td>-1.224482</td>\n",
       "      <td>1.655581</td>\n",
       "    </tr>\n",
       "    <tr>\n",
       "      <th>foo</th>\n",
       "      <td>2.685227</td>\n",
       "      <td>4.088279</td>\n",
       "    </tr>\n",
       "  </tbody>\n",
       "</table>\n",
       "</div>"
      ],
      "text/plain": [
       "            C         D\n",
       "A                      \n",
       "bar -1.224482  1.655581\n",
       "foo  2.685227  4.088279"
      ]
     },
     "execution_count": 278,
     "metadata": {},
     "output_type": "execute_result"
    }
   ],
   "source": [
    "df.groupby('A').sum()"
   ]
  },
  {
   "cell_type": "code",
   "execution_count": 279,
   "metadata": {},
   "outputs": [
    {
     "data": {
      "text/html": [
       "<div>\n",
       "<style scoped>\n",
       "    .dataframe tbody tr th:only-of-type {\n",
       "        vertical-align: middle;\n",
       "    }\n",
       "\n",
       "    .dataframe tbody tr th {\n",
       "        vertical-align: top;\n",
       "    }\n",
       "\n",
       "    .dataframe thead th {\n",
       "        text-align: right;\n",
       "    }\n",
       "</style>\n",
       "<table border=\"1\" class=\"dataframe\">\n",
       "  <thead>\n",
       "    <tr style=\"text-align: right;\">\n",
       "      <th></th>\n",
       "      <th>A</th>\n",
       "      <th>B</th>\n",
       "      <th>C</th>\n",
       "      <th>D</th>\n",
       "    </tr>\n",
       "  </thead>\n",
       "  <tbody>\n",
       "    <tr>\n",
       "      <th>4</th>\n",
       "      <td>foo</td>\n",
       "      <td>two</td>\n",
       "      <td>0.473995</td>\n",
       "      <td>-0.750083</td>\n",
       "    </tr>\n",
       "    <tr>\n",
       "      <th>3</th>\n",
       "      <td>bar</td>\n",
       "      <td>three</td>\n",
       "      <td>0.882135</td>\n",
       "      <td>0.328632</td>\n",
       "    </tr>\n",
       "    <tr>\n",
       "      <th>5</th>\n",
       "      <td>bar</td>\n",
       "      <td>two</td>\n",
       "      <td>-0.308624</td>\n",
       "      <td>0.622474</td>\n",
       "    </tr>\n",
       "  </tbody>\n",
       "</table>\n",
       "</div>"
      ],
      "text/plain": [
       "     A      B         C         D\n",
       "4  foo    two  0.473995 -0.750083\n",
       "3  bar  three  0.882135  0.328632\n",
       "5  bar    two -0.308624  0.622474"
      ]
     },
     "execution_count": 279,
     "metadata": {},
     "output_type": "execute_result"
    }
   ],
   "source": [
    "df.nsmallest(3,\"D\")"
   ]
  },
  {
   "cell_type": "code",
   "execution_count": 281,
   "metadata": {},
   "outputs": [
    {
     "data": {
      "text/html": [
       "<div>\n",
       "<style scoped>\n",
       "    .dataframe tbody tr th:only-of-type {\n",
       "        vertical-align: middle;\n",
       "    }\n",
       "\n",
       "    .dataframe tbody tr th {\n",
       "        vertical-align: top;\n",
       "    }\n",
       "\n",
       "    .dataframe thead th {\n",
       "        text-align: right;\n",
       "    }\n",
       "</style>\n",
       "<table border=\"1\" class=\"dataframe\">\n",
       "  <thead>\n",
       "    <tr style=\"text-align: right;\">\n",
       "      <th></th>\n",
       "      <th>A</th>\n",
       "      <th>B</th>\n",
       "      <th>C</th>\n",
       "      <th>D</th>\n",
       "    </tr>\n",
       "  </thead>\n",
       "  <tbody>\n",
       "    <tr>\n",
       "      <th>1</th>\n",
       "      <td>bar</td>\n",
       "      <td>one</td>\n",
       "      <td>-1.797992</td>\n",
       "      <td>0.704474</td>\n",
       "    </tr>\n",
       "    <tr>\n",
       "      <th>5</th>\n",
       "      <td>bar</td>\n",
       "      <td>two</td>\n",
       "      <td>-0.308624</td>\n",
       "      <td>0.622474</td>\n",
       "    </tr>\n",
       "    <tr>\n",
       "      <th>3</th>\n",
       "      <td>bar</td>\n",
       "      <td>three</td>\n",
       "      <td>0.882135</td>\n",
       "      <td>0.328632</td>\n",
       "    </tr>\n",
       "  </tbody>\n",
       "</table>\n",
       "</div>"
      ],
      "text/plain": [
       "     A      B         C         D\n",
       "1  bar    one -1.797992  0.704474\n",
       "5  bar    two -0.308624  0.622474\n",
       "3  bar  three  0.882135  0.328632"
      ]
     },
     "execution_count": 281,
     "metadata": {},
     "output_type": "execute_result"
    }
   ],
   "source": [
    "df[df.A==\"bar\"].nlargest(3,\"D\")"
   ]
  },
  {
   "cell_type": "code",
   "execution_count": 283,
   "metadata": {},
   "outputs": [
    {
     "data": {
      "text/html": [
       "<div>\n",
       "<style scoped>\n",
       "    .dataframe tbody tr th:only-of-type {\n",
       "        vertical-align: middle;\n",
       "    }\n",
       "\n",
       "    .dataframe tbody tr th {\n",
       "        vertical-align: top;\n",
       "    }\n",
       "\n",
       "    .dataframe thead th {\n",
       "        text-align: right;\n",
       "    }\n",
       "</style>\n",
       "<table border=\"1\" class=\"dataframe\">\n",
       "  <thead>\n",
       "    <tr style=\"text-align: right;\">\n",
       "      <th></th>\n",
       "      <th>A</th>\n",
       "      <th>B</th>\n",
       "      <th>C</th>\n",
       "      <th>D</th>\n",
       "    </tr>\n",
       "  </thead>\n",
       "  <tbody>\n",
       "    <tr>\n",
       "      <th>0</th>\n",
       "      <td>foo</td>\n",
       "      <td>one</td>\n",
       "      <td>-0.088976</td>\n",
       "      <td>0.896882</td>\n",
       "    </tr>\n",
       "    <tr>\n",
       "      <th>1</th>\n",
       "      <td>bar</td>\n",
       "      <td>one</td>\n",
       "      <td>-1.797992</td>\n",
       "      <td>0.704474</td>\n",
       "    </tr>\n",
       "    <tr>\n",
       "      <th>2</th>\n",
       "      <td>foo</td>\n",
       "      <td>two</td>\n",
       "      <td>2.502527</td>\n",
       "      <td>1.441254</td>\n",
       "    </tr>\n",
       "    <tr>\n",
       "      <th>3</th>\n",
       "      <td>bar</td>\n",
       "      <td>three</td>\n",
       "      <td>0.882135</td>\n",
       "      <td>0.328632</td>\n",
       "    </tr>\n",
       "    <tr>\n",
       "      <th>4</th>\n",
       "      <td>foo</td>\n",
       "      <td>two</td>\n",
       "      <td>0.473995</td>\n",
       "      <td>-0.750083</td>\n",
       "    </tr>\n",
       "    <tr>\n",
       "      <th>5</th>\n",
       "      <td>bar</td>\n",
       "      <td>two</td>\n",
       "      <td>-0.308624</td>\n",
       "      <td>0.622474</td>\n",
       "    </tr>\n",
       "    <tr>\n",
       "      <th>6</th>\n",
       "      <td>foo</td>\n",
       "      <td>one</td>\n",
       "      <td>1.049922</td>\n",
       "      <td>1.448687</td>\n",
       "    </tr>\n",
       "    <tr>\n",
       "      <th>7</th>\n",
       "      <td>foo</td>\n",
       "      <td>three</td>\n",
       "      <td>-1.252240</td>\n",
       "      <td>1.051540</td>\n",
       "    </tr>\n",
       "  </tbody>\n",
       "</table>\n",
       "</div>"
      ],
      "text/plain": [
       "     A      B         C         D\n",
       "0  foo    one -0.088976  0.896882\n",
       "1  bar    one -1.797992  0.704474\n",
       "2  foo    two  2.502527  1.441254\n",
       "3  bar  three  0.882135  0.328632\n",
       "4  foo    two  0.473995 -0.750083\n",
       "5  bar    two -0.308624  0.622474\n",
       "6  foo    one  1.049922  1.448687\n",
       "7  foo  three -1.252240  1.051540"
      ]
     },
     "execution_count": 283,
     "metadata": {},
     "output_type": "execute_result"
    }
   ],
   "source": [
    "df"
   ]
  },
  {
   "cell_type": "code",
   "execution_count": 284,
   "metadata": {},
   "outputs": [
    {
     "data": {
      "text/html": [
       "<div>\n",
       "<style scoped>\n",
       "    .dataframe tbody tr th:only-of-type {\n",
       "        vertical-align: middle;\n",
       "    }\n",
       "\n",
       "    .dataframe tbody tr th {\n",
       "        vertical-align: top;\n",
       "    }\n",
       "\n",
       "    .dataframe thead th {\n",
       "        text-align: right;\n",
       "    }\n",
       "</style>\n",
       "<table border=\"1\" class=\"dataframe\">\n",
       "  <thead>\n",
       "    <tr style=\"text-align: right;\">\n",
       "      <th></th>\n",
       "      <th></th>\n",
       "      <th>A</th>\n",
       "      <th>B</th>\n",
       "      <th>C</th>\n",
       "      <th>D</th>\n",
       "    </tr>\n",
       "    <tr>\n",
       "      <th>A</th>\n",
       "      <th></th>\n",
       "      <th></th>\n",
       "      <th></th>\n",
       "      <th></th>\n",
       "      <th></th>\n",
       "    </tr>\n",
       "  </thead>\n",
       "  <tbody>\n",
       "    <tr>\n",
       "      <th rowspan=\"2\" valign=\"top\">bar</th>\n",
       "      <th>1</th>\n",
       "      <td>bar</td>\n",
       "      <td>one</td>\n",
       "      <td>-1.797992</td>\n",
       "      <td>0.704474</td>\n",
       "    </tr>\n",
       "    <tr>\n",
       "      <th>5</th>\n",
       "      <td>bar</td>\n",
       "      <td>two</td>\n",
       "      <td>-0.308624</td>\n",
       "      <td>0.622474</td>\n",
       "    </tr>\n",
       "    <tr>\n",
       "      <th rowspan=\"2\" valign=\"top\">foo</th>\n",
       "      <th>6</th>\n",
       "      <td>foo</td>\n",
       "      <td>one</td>\n",
       "      <td>1.049922</td>\n",
       "      <td>1.448687</td>\n",
       "    </tr>\n",
       "    <tr>\n",
       "      <th>2</th>\n",
       "      <td>foo</td>\n",
       "      <td>two</td>\n",
       "      <td>2.502527</td>\n",
       "      <td>1.441254</td>\n",
       "    </tr>\n",
       "  </tbody>\n",
       "</table>\n",
       "</div>"
      ],
      "text/plain": [
       "         A    B         C         D\n",
       "A                                  \n",
       "bar 1  bar  one -1.797992  0.704474\n",
       "    5  bar  two -0.308624  0.622474\n",
       "foo 6  foo  one  1.049922  1.448687\n",
       "    2  foo  two  2.502527  1.441254"
      ]
     },
     "execution_count": 284,
     "metadata": {},
     "output_type": "execute_result"
    }
   ],
   "source": [
    "df.groupby('A').apply(lambda x: x.nlargest(2,\"D\"))"
   ]
  },
  {
   "cell_type": "code",
   "execution_count": 85,
   "metadata": {},
   "outputs": [
    {
     "name": "stdout",
     "output_type": "stream",
     "text": [
      "('bar',      A      B         C         D\n",
      "1  bar    one  0.055688 -0.803696\n",
      "3  bar  three -0.318777  0.173990\n",
      "5  bar    two -1.041514 -0.674729)\n",
      "\n",
      "\n",
      "('foo',      A      B         C         D\n",
      "0  foo    one  1.620740 -0.662487\n",
      "2  foo    two -2.776705  0.275431\n",
      "4  foo    two  0.888842  0.103015\n",
      "6  foo    one -2.064497 -1.024868\n",
      "7  foo  three -0.097591  0.836759)\n",
      "\n",
      "\n"
     ]
    }
   ],
   "source": [
    "for i in df.groupby('A'):\n",
    "    print(i)\n",
    "    print(\"\\n\")"
   ]
  },
  {
   "cell_type": "code",
   "execution_count": 88,
   "metadata": {},
   "outputs": [
    {
     "data": {
      "text/html": [
       "<div>\n",
       "<style scoped>\n",
       "    .dataframe tbody tr th:only-of-type {\n",
       "        vertical-align: middle;\n",
       "    }\n",
       "\n",
       "    .dataframe tbody tr th {\n",
       "        vertical-align: top;\n",
       "    }\n",
       "\n",
       "    .dataframe thead th {\n",
       "        text-align: right;\n",
       "    }\n",
       "</style>\n",
       "<table border=\"1\" class=\"dataframe\">\n",
       "  <thead>\n",
       "    <tr style=\"text-align: right;\">\n",
       "      <th></th>\n",
       "      <th>A</th>\n",
       "      <th>B</th>\n",
       "      <th>C</th>\n",
       "      <th>D</th>\n",
       "    </tr>\n",
       "  </thead>\n",
       "  <tbody>\n",
       "    <tr>\n",
       "      <th>0</th>\n",
       "      <td>foo</td>\n",
       "      <td>one</td>\n",
       "      <td>1.620740</td>\n",
       "      <td>-0.662487</td>\n",
       "    </tr>\n",
       "    <tr>\n",
       "      <th>4</th>\n",
       "      <td>foo</td>\n",
       "      <td>two</td>\n",
       "      <td>0.888842</td>\n",
       "      <td>0.103015</td>\n",
       "    </tr>\n",
       "  </tbody>\n",
       "</table>\n",
       "</div>"
      ],
      "text/plain": [
       "     A    B         C         D\n",
       "0  foo  one  1.620740 -0.662487\n",
       "4  foo  two  0.888842  0.103015"
      ]
     },
     "execution_count": 88,
     "metadata": {},
     "output_type": "execute_result"
    }
   ],
   "source": [
    "df.nlargest(2,\"D\")"
   ]
  },
  {
   "cell_type": "markdown",
   "metadata": {},
   "source": [
    "Grouping by multiple columns forms a hierarchical index, which we then apply the function."
   ]
  },
  {
   "cell_type": "code",
   "execution_count": 89,
   "metadata": {},
   "outputs": [
    {
     "data": {
      "text/html": [
       "<div>\n",
       "<style scoped>\n",
       "    .dataframe tbody tr th:only-of-type {\n",
       "        vertical-align: middle;\n",
       "    }\n",
       "\n",
       "    .dataframe tbody tr th {\n",
       "        vertical-align: top;\n",
       "    }\n",
       "\n",
       "    .dataframe thead th {\n",
       "        text-align: right;\n",
       "    }\n",
       "</style>\n",
       "<table border=\"1\" class=\"dataframe\">\n",
       "  <thead>\n",
       "    <tr style=\"text-align: right;\">\n",
       "      <th></th>\n",
       "      <th></th>\n",
       "      <th>C</th>\n",
       "      <th>D</th>\n",
       "    </tr>\n",
       "    <tr>\n",
       "      <th>A</th>\n",
       "      <th>B</th>\n",
       "      <th></th>\n",
       "      <th></th>\n",
       "    </tr>\n",
       "  </thead>\n",
       "  <tbody>\n",
       "    <tr>\n",
       "      <th rowspan=\"3\" valign=\"top\">bar</th>\n",
       "      <th>one</th>\n",
       "      <td>0.055688</td>\n",
       "      <td>-0.803696</td>\n",
       "    </tr>\n",
       "    <tr>\n",
       "      <th>three</th>\n",
       "      <td>-0.318777</td>\n",
       "      <td>0.173990</td>\n",
       "    </tr>\n",
       "    <tr>\n",
       "      <th>two</th>\n",
       "      <td>-1.041514</td>\n",
       "      <td>-0.674729</td>\n",
       "    </tr>\n",
       "    <tr>\n",
       "      <th rowspan=\"3\" valign=\"top\">foo</th>\n",
       "      <th>one</th>\n",
       "      <td>-0.443757</td>\n",
       "      <td>-1.687355</td>\n",
       "    </tr>\n",
       "    <tr>\n",
       "      <th>three</th>\n",
       "      <td>-0.097591</td>\n",
       "      <td>0.836759</td>\n",
       "    </tr>\n",
       "    <tr>\n",
       "      <th>two</th>\n",
       "      <td>-1.887864</td>\n",
       "      <td>0.378446</td>\n",
       "    </tr>\n",
       "  </tbody>\n",
       "</table>\n",
       "</div>"
      ],
      "text/plain": [
       "                  C         D\n",
       "A   B                        \n",
       "bar one    0.055688 -0.803696\n",
       "    three -0.318777  0.173990\n",
       "    two   -1.041514 -0.674729\n",
       "foo one   -0.443757 -1.687355\n",
       "    three -0.097591  0.836759\n",
       "    two   -1.887864  0.378446"
      ]
     },
     "execution_count": 89,
     "metadata": {},
     "output_type": "execute_result"
    }
   ],
   "source": [
    "df.groupby(['A','B']).sum()"
   ]
  },
  {
   "cell_type": "code",
   "execution_count": 96,
   "metadata": {},
   "outputs": [
    {
     "data": {
      "text/plain": [
       "MultiIndex(levels=[['bar', 'foo'], ['one', 'three', 'two']],\n",
       "           codes=[[0, 0, 0, 1, 1, 1], [0, 1, 2, 0, 1, 2]],\n",
       "           names=['A', 'B'])"
      ]
     },
     "execution_count": 96,
     "metadata": {},
     "output_type": "execute_result"
    }
   ],
   "source": [
    "df.groupby(['A','B']).sum().index"
   ]
  },
  {
   "cell_type": "markdown",
   "metadata": {},
   "source": [
    "## Reshaping"
   ]
  },
  {
   "cell_type": "markdown",
   "metadata": {},
   "source": [
    "(a) Hierarchical indexing (MultiIndex)\n",
    "\n",
    "Hierarchical / Multi-level indexing is very exciting as it opens the door to some quite sophisticated data analysis and manipulation, especially for working with higher dimensional data. In essence, it enables in storing and manipulating data with an arbitrary number of dimensions in lower dimensional data structures like Series (1d) and DataFrame (2d).\n",
    "\n",
    "In this section, we will see what “hierarchical” indexing is and how it integrates with all of the pandas indexing functionality described above and in prior sections. \n",
    "\n",
    "\n",
    "(b) Reshaping by stacking and unstacking\n",
    "\n",
    "Closely related to the pivot function are the related stack and unstack functions currently available on Series and DataFrame. These functions are designed to work together with MultiIndex objects. Here are essentially what these functions do:\n",
    "\n",
    "        (1) stack: “pivot” a level of the (possibly hierarchical) column labels, returning a DataFrame with an index with a new inner-most level of row labels.\n",
    "        (2) unstack: inverse operation from stack: “pivot” a level of the (possibly hierarchical) row index to the column axis, producing a reshaped DataFrame with a new inner-most level of column labels.\n",
    "\n"
   ]
  },
  {
   "cell_type": "markdown",
   "metadata": {},
   "source": [
    "### Stack"
   ]
  },
  {
   "cell_type": "code",
   "execution_count": 99,
   "metadata": {},
   "outputs": [],
   "source": [
    "tuples = list(zip(*[['bar', 'bar', 'baz', 'baz',\n",
    "                     'foo', 'foo', 'qux', 'qux'],\n",
    "                    ['one', 'two', 'one', 'two',\n",
    "                     'one', 'two', 'one', 'two']]))"
   ]
  },
  {
   "cell_type": "code",
   "execution_count": 103,
   "metadata": {},
   "outputs": [
    {
     "data": {
      "text/plain": [
       "[(1, 'a'), (2, 'b'), (3, 'c'), (4, 'd')]"
      ]
     },
     "execution_count": 103,
     "metadata": {},
     "output_type": "execute_result"
    }
   ],
   "source": [
    "list(zip([1,2,3,4],[\"a\",\"b\",\"c\",\"d\"]))"
   ]
  },
  {
   "cell_type": "code",
   "execution_count": 104,
   "metadata": {},
   "outputs": [
    {
     "data": {
      "text/plain": [
       "[('bar', 'one'),\n",
       " ('bar', 'two'),\n",
       " ('baz', 'one'),\n",
       " ('baz', 'two'),\n",
       " ('foo', 'one'),\n",
       " ('foo', 'two'),\n",
       " ('qux', 'one'),\n",
       " ('qux', 'two')]"
      ]
     },
     "execution_count": 104,
     "metadata": {},
     "output_type": "execute_result"
    }
   ],
   "source": [
    "#import pandas as pd\n",
    "tuples"
   ]
  },
  {
   "cell_type": "code",
   "execution_count": 107,
   "metadata": {},
   "outputs": [],
   "source": [
    "index = pd.MultiIndex.from_tuples(tuples, names=['first', 'second'])"
   ]
  },
  {
   "cell_type": "code",
   "execution_count": 108,
   "metadata": {},
   "outputs": [],
   "source": [
    "?pd.MultiIndex"
   ]
  },
  {
   "cell_type": "code",
   "execution_count": 109,
   "metadata": {
    "scrolled": true
   },
   "outputs": [
    {
     "data": {
      "text/plain": [
       "MultiIndex(levels=[['bar', 'baz', 'foo', 'qux'], ['one', 'two']],\n",
       "           codes=[[0, 0, 1, 1, 2, 2, 3, 3], [0, 1, 0, 1, 0, 1, 0, 1]],\n",
       "           names=['first', 'second'])"
      ]
     },
     "execution_count": 109,
     "metadata": {},
     "output_type": "execute_result"
    }
   ],
   "source": [
    "#import numpy as np\n",
    "index"
   ]
  },
  {
   "cell_type": "code",
   "execution_count": 111,
   "metadata": {},
   "outputs": [
    {
     "data": {
      "text/plain": [
       "array([[-1.53390694, -0.29266205],\n",
       "       [-0.82674987, -0.25856151],\n",
       "       [ 1.42383827, -0.00973922],\n",
       "       [ 0.91748207, -0.78777008],\n",
       "       [-0.11804091,  1.00887396],\n",
       "       [-0.96564657, -0.64657003],\n",
       "       [-0.02325685,  0.1100093 ],\n",
       "       [-0.44599591,  0.41649196]])"
      ]
     },
     "execution_count": 111,
     "metadata": {},
     "output_type": "execute_result"
    }
   ],
   "source": [
    "np.random.randn(8, 2)"
   ]
  },
  {
   "cell_type": "code",
   "execution_count": 112,
   "metadata": {},
   "outputs": [
    {
     "data": {
      "text/html": [
       "<div>\n",
       "<style scoped>\n",
       "    .dataframe tbody tr th:only-of-type {\n",
       "        vertical-align: middle;\n",
       "    }\n",
       "\n",
       "    .dataframe tbody tr th {\n",
       "        vertical-align: top;\n",
       "    }\n",
       "\n",
       "    .dataframe thead th {\n",
       "        text-align: right;\n",
       "    }\n",
       "</style>\n",
       "<table border=\"1\" class=\"dataframe\">\n",
       "  <thead>\n",
       "    <tr style=\"text-align: right;\">\n",
       "      <th></th>\n",
       "      <th></th>\n",
       "      <th>A</th>\n",
       "      <th>B</th>\n",
       "    </tr>\n",
       "    <tr>\n",
       "      <th>first</th>\n",
       "      <th>second</th>\n",
       "      <th></th>\n",
       "      <th></th>\n",
       "    </tr>\n",
       "  </thead>\n",
       "  <tbody>\n",
       "    <tr>\n",
       "      <th rowspan=\"2\" valign=\"top\">bar</th>\n",
       "      <th>one</th>\n",
       "      <td>1.236566</td>\n",
       "      <td>-0.283995</td>\n",
       "    </tr>\n",
       "    <tr>\n",
       "      <th>two</th>\n",
       "      <td>-1.449644</td>\n",
       "      <td>-0.016543</td>\n",
       "    </tr>\n",
       "    <tr>\n",
       "      <th rowspan=\"2\" valign=\"top\">baz</th>\n",
       "      <th>one</th>\n",
       "      <td>-0.511808</td>\n",
       "      <td>0.941265</td>\n",
       "    </tr>\n",
       "    <tr>\n",
       "      <th>two</th>\n",
       "      <td>-0.889762</td>\n",
       "      <td>0.463479</td>\n",
       "    </tr>\n",
       "    <tr>\n",
       "      <th rowspan=\"2\" valign=\"top\">foo</th>\n",
       "      <th>one</th>\n",
       "      <td>-0.170418</td>\n",
       "      <td>-0.521613</td>\n",
       "    </tr>\n",
       "    <tr>\n",
       "      <th>two</th>\n",
       "      <td>2.604810</td>\n",
       "      <td>-0.232238</td>\n",
       "    </tr>\n",
       "    <tr>\n",
       "      <th rowspan=\"2\" valign=\"top\">qux</th>\n",
       "      <th>one</th>\n",
       "      <td>1.703476</td>\n",
       "      <td>-1.456780</td>\n",
       "    </tr>\n",
       "    <tr>\n",
       "      <th>two</th>\n",
       "      <td>-0.923696</td>\n",
       "      <td>-1.403052</td>\n",
       "    </tr>\n",
       "  </tbody>\n",
       "</table>\n",
       "</div>"
      ],
      "text/plain": [
       "                     A         B\n",
       "first second                    \n",
       "bar   one     1.236566 -0.283995\n",
       "      two    -1.449644 -0.016543\n",
       "baz   one    -0.511808  0.941265\n",
       "      two    -0.889762  0.463479\n",
       "foo   one    -0.170418 -0.521613\n",
       "      two     2.604810 -0.232238\n",
       "qux   one     1.703476 -1.456780\n",
       "      two    -0.923696 -1.403052"
      ]
     },
     "execution_count": 112,
     "metadata": {},
     "output_type": "execute_result"
    }
   ],
   "source": [
    "df = pd.DataFrame(np.random.randn(8, 2), index=index, columns=['A', 'B'])\n",
    "df"
   ]
  },
  {
   "cell_type": "code",
   "execution_count": 113,
   "metadata": {
    "scrolled": true
   },
   "outputs": [
    {
     "data": {
      "text/html": [
       "<div>\n",
       "<style scoped>\n",
       "    .dataframe tbody tr th:only-of-type {\n",
       "        vertical-align: middle;\n",
       "    }\n",
       "\n",
       "    .dataframe tbody tr th {\n",
       "        vertical-align: top;\n",
       "    }\n",
       "\n",
       "    .dataframe thead th {\n",
       "        text-align: right;\n",
       "    }\n",
       "</style>\n",
       "<table border=\"1\" class=\"dataframe\">\n",
       "  <thead>\n",
       "    <tr style=\"text-align: right;\">\n",
       "      <th></th>\n",
       "      <th>A</th>\n",
       "      <th>B</th>\n",
       "    </tr>\n",
       "    <tr>\n",
       "      <th>second</th>\n",
       "      <th></th>\n",
       "      <th></th>\n",
       "    </tr>\n",
       "  </thead>\n",
       "  <tbody>\n",
       "    <tr>\n",
       "      <th>one</th>\n",
       "      <td>1.236566</td>\n",
       "      <td>-0.283995</td>\n",
       "    </tr>\n",
       "    <tr>\n",
       "      <th>two</th>\n",
       "      <td>-1.449644</td>\n",
       "      <td>-0.016543</td>\n",
       "    </tr>\n",
       "  </tbody>\n",
       "</table>\n",
       "</div>"
      ],
      "text/plain": [
       "               A         B\n",
       "second                    \n",
       "one     1.236566 -0.283995\n",
       "two    -1.449644 -0.016543"
      ]
     },
     "execution_count": 113,
     "metadata": {},
     "output_type": "execute_result"
    }
   ],
   "source": [
    "df.loc[\"bar\"]"
   ]
  },
  {
   "cell_type": "code",
   "execution_count": 114,
   "metadata": {},
   "outputs": [
    {
     "data": {
      "text/plain": [
       "A   -0.923696\n",
       "B   -1.403052\n",
       "Name: (qux, two), dtype: float64"
      ]
     },
     "execution_count": 114,
     "metadata": {},
     "output_type": "execute_result"
    }
   ],
   "source": [
    "df.loc[(\"qux\",\"two\")]"
   ]
  },
  {
   "cell_type": "code",
   "execution_count": 223,
   "metadata": {},
   "outputs": [
    {
     "data": {
      "text/plain": [
       "first  second\n",
       "qux    two      -0.939302\n",
       "Name: A, dtype: float64"
      ]
     },
     "execution_count": 223,
     "metadata": {},
     "output_type": "execute_result"
    }
   ],
   "source": [
    "df.loc[[(\"qux\",\"two\")],\"A\"]"
   ]
  },
  {
   "cell_type": "markdown",
   "metadata": {},
   "source": [
    "The [stack()](http://pandas.pydata.org/pandas-docs/stable/generated/pandas.DataFrame.stack.html#pandas.DataFrame.stack) method “compresses” a level in the DataFrame’s columns."
   ]
  },
  {
   "cell_type": "code",
   "execution_count": 119,
   "metadata": {},
   "outputs": [],
   "source": [
    "df2 = df[:4]"
   ]
  },
  {
   "cell_type": "code",
   "execution_count": 120,
   "metadata": {},
   "outputs": [
    {
     "data": {
      "text/html": [
       "<div>\n",
       "<style scoped>\n",
       "    .dataframe tbody tr th:only-of-type {\n",
       "        vertical-align: middle;\n",
       "    }\n",
       "\n",
       "    .dataframe tbody tr th {\n",
       "        vertical-align: top;\n",
       "    }\n",
       "\n",
       "    .dataframe thead th {\n",
       "        text-align: right;\n",
       "    }\n",
       "</style>\n",
       "<table border=\"1\" class=\"dataframe\">\n",
       "  <thead>\n",
       "    <tr style=\"text-align: right;\">\n",
       "      <th></th>\n",
       "      <th></th>\n",
       "      <th>A</th>\n",
       "      <th>B</th>\n",
       "    </tr>\n",
       "    <tr>\n",
       "      <th>first</th>\n",
       "      <th>second</th>\n",
       "      <th></th>\n",
       "      <th></th>\n",
       "    </tr>\n",
       "  </thead>\n",
       "  <tbody>\n",
       "    <tr>\n",
       "      <th rowspan=\"2\" valign=\"top\">bar</th>\n",
       "      <th>one</th>\n",
       "      <td>1.236566</td>\n",
       "      <td>-0.283995</td>\n",
       "    </tr>\n",
       "    <tr>\n",
       "      <th>two</th>\n",
       "      <td>-1.449644</td>\n",
       "      <td>-0.016543</td>\n",
       "    </tr>\n",
       "    <tr>\n",
       "      <th rowspan=\"2\" valign=\"top\">baz</th>\n",
       "      <th>one</th>\n",
       "      <td>-0.511808</td>\n",
       "      <td>0.941265</td>\n",
       "    </tr>\n",
       "    <tr>\n",
       "      <th>two</th>\n",
       "      <td>-0.889762</td>\n",
       "      <td>0.463479</td>\n",
       "    </tr>\n",
       "  </tbody>\n",
       "</table>\n",
       "</div>"
      ],
      "text/plain": [
       "                     A         B\n",
       "first second                    \n",
       "bar   one     1.236566 -0.283995\n",
       "      two    -1.449644 -0.016543\n",
       "baz   one    -0.511808  0.941265\n",
       "      two    -0.889762  0.463479"
      ]
     },
     "execution_count": 120,
     "metadata": {},
     "output_type": "execute_result"
    }
   ],
   "source": [
    "df2"
   ]
  },
  {
   "cell_type": "code",
   "execution_count": 121,
   "metadata": {},
   "outputs": [],
   "source": [
    "stacked = df2.stack()"
   ]
  },
  {
   "cell_type": "code",
   "execution_count": 122,
   "metadata": {},
   "outputs": [
    {
     "data": {
      "text/plain": [
       "first  second   \n",
       "bar    one     A    1.236566\n",
       "               B   -0.283995\n",
       "       two     A   -1.449644\n",
       "               B   -0.016543\n",
       "baz    one     A   -0.511808\n",
       "               B    0.941265\n",
       "       two     A   -0.889762\n",
       "               B    0.463479\n",
       "dtype: float64"
      ]
     },
     "execution_count": 122,
     "metadata": {},
     "output_type": "execute_result"
    }
   ],
   "source": [
    "stacked"
   ]
  },
  {
   "cell_type": "markdown",
   "metadata": {},
   "source": [
    "With a “stacked” DataFrame or Series (having a `MultiIndex` as the `index`), the inverse operation of [stack()](http://pandas.pydata.org/pandas-docs/stable/generated/pandas.DataFrame.stack.html#pandas.DataFrame.stack) is [unstack()](http://pandas.pydata.org/pandas-docs/stable/generated/pandas.DataFrame.unstack.html#pandas.DataFrame.unstack), which by default unstacks the last level:"
   ]
  },
  {
   "cell_type": "code",
   "execution_count": 123,
   "metadata": {},
   "outputs": [
    {
     "data": {
      "text/html": [
       "<div>\n",
       "<style scoped>\n",
       "    .dataframe tbody tr th:only-of-type {\n",
       "        vertical-align: middle;\n",
       "    }\n",
       "\n",
       "    .dataframe tbody tr th {\n",
       "        vertical-align: top;\n",
       "    }\n",
       "\n",
       "    .dataframe thead th {\n",
       "        text-align: right;\n",
       "    }\n",
       "</style>\n",
       "<table border=\"1\" class=\"dataframe\">\n",
       "  <thead>\n",
       "    <tr style=\"text-align: right;\">\n",
       "      <th></th>\n",
       "      <th></th>\n",
       "      <th>A</th>\n",
       "      <th>B</th>\n",
       "    </tr>\n",
       "    <tr>\n",
       "      <th>first</th>\n",
       "      <th>second</th>\n",
       "      <th></th>\n",
       "      <th></th>\n",
       "    </tr>\n",
       "  </thead>\n",
       "  <tbody>\n",
       "    <tr>\n",
       "      <th rowspan=\"2\" valign=\"top\">bar</th>\n",
       "      <th>one</th>\n",
       "      <td>1.236566</td>\n",
       "      <td>-0.283995</td>\n",
       "    </tr>\n",
       "    <tr>\n",
       "      <th>two</th>\n",
       "      <td>-1.449644</td>\n",
       "      <td>-0.016543</td>\n",
       "    </tr>\n",
       "    <tr>\n",
       "      <th rowspan=\"2\" valign=\"top\">baz</th>\n",
       "      <th>one</th>\n",
       "      <td>-0.511808</td>\n",
       "      <td>0.941265</td>\n",
       "    </tr>\n",
       "    <tr>\n",
       "      <th>two</th>\n",
       "      <td>-0.889762</td>\n",
       "      <td>0.463479</td>\n",
       "    </tr>\n",
       "  </tbody>\n",
       "</table>\n",
       "</div>"
      ],
      "text/plain": [
       "                     A         B\n",
       "first second                    \n",
       "bar   one     1.236566 -0.283995\n",
       "      two    -1.449644 -0.016543\n",
       "baz   one    -0.511808  0.941265\n",
       "      two    -0.889762  0.463479"
      ]
     },
     "execution_count": 123,
     "metadata": {},
     "output_type": "execute_result"
    }
   ],
   "source": [
    "stacked.unstack()"
   ]
  },
  {
   "cell_type": "code",
   "execution_count": 124,
   "metadata": {
    "scrolled": true
   },
   "outputs": [
    {
     "data": {
      "text/html": [
       "<div>\n",
       "<style scoped>\n",
       "    .dataframe tbody tr th:only-of-type {\n",
       "        vertical-align: middle;\n",
       "    }\n",
       "\n",
       "    .dataframe tbody tr th {\n",
       "        vertical-align: top;\n",
       "    }\n",
       "\n",
       "    .dataframe thead th {\n",
       "        text-align: right;\n",
       "    }\n",
       "</style>\n",
       "<table border=\"1\" class=\"dataframe\">\n",
       "  <thead>\n",
       "    <tr style=\"text-align: right;\">\n",
       "      <th></th>\n",
       "      <th>second</th>\n",
       "      <th>one</th>\n",
       "      <th>two</th>\n",
       "    </tr>\n",
       "    <tr>\n",
       "      <th>first</th>\n",
       "      <th></th>\n",
       "      <th></th>\n",
       "      <th></th>\n",
       "    </tr>\n",
       "  </thead>\n",
       "  <tbody>\n",
       "    <tr>\n",
       "      <th rowspan=\"2\" valign=\"top\">bar</th>\n",
       "      <th>A</th>\n",
       "      <td>1.236566</td>\n",
       "      <td>-1.449644</td>\n",
       "    </tr>\n",
       "    <tr>\n",
       "      <th>B</th>\n",
       "      <td>-0.283995</td>\n",
       "      <td>-0.016543</td>\n",
       "    </tr>\n",
       "    <tr>\n",
       "      <th rowspan=\"2\" valign=\"top\">baz</th>\n",
       "      <th>A</th>\n",
       "      <td>-0.511808</td>\n",
       "      <td>-0.889762</td>\n",
       "    </tr>\n",
       "    <tr>\n",
       "      <th>B</th>\n",
       "      <td>0.941265</td>\n",
       "      <td>0.463479</td>\n",
       "    </tr>\n",
       "  </tbody>\n",
       "</table>\n",
       "</div>"
      ],
      "text/plain": [
       "second        one       two\n",
       "first                      \n",
       "bar   A  1.236566 -1.449644\n",
       "      B -0.283995 -0.016543\n",
       "baz   A -0.511808 -0.889762\n",
       "      B  0.941265  0.463479"
      ]
     },
     "execution_count": 124,
     "metadata": {},
     "output_type": "execute_result"
    }
   ],
   "source": [
    "stacked.unstack(1)"
   ]
  },
  {
   "cell_type": "code",
   "execution_count": 125,
   "metadata": {},
   "outputs": [
    {
     "data": {
      "text/html": [
       "<div>\n",
       "<style scoped>\n",
       "    .dataframe tbody tr th:only-of-type {\n",
       "        vertical-align: middle;\n",
       "    }\n",
       "\n",
       "    .dataframe tbody tr th {\n",
       "        vertical-align: top;\n",
       "    }\n",
       "\n",
       "    .dataframe thead th {\n",
       "        text-align: right;\n",
       "    }\n",
       "</style>\n",
       "<table border=\"1\" class=\"dataframe\">\n",
       "  <thead>\n",
       "    <tr style=\"text-align: right;\">\n",
       "      <th></th>\n",
       "      <th>first</th>\n",
       "      <th>bar</th>\n",
       "      <th>baz</th>\n",
       "    </tr>\n",
       "    <tr>\n",
       "      <th>second</th>\n",
       "      <th></th>\n",
       "      <th></th>\n",
       "      <th></th>\n",
       "    </tr>\n",
       "  </thead>\n",
       "  <tbody>\n",
       "    <tr>\n",
       "      <th rowspan=\"2\" valign=\"top\">one</th>\n",
       "      <th>A</th>\n",
       "      <td>1.236566</td>\n",
       "      <td>-0.511808</td>\n",
       "    </tr>\n",
       "    <tr>\n",
       "      <th>B</th>\n",
       "      <td>-0.283995</td>\n",
       "      <td>0.941265</td>\n",
       "    </tr>\n",
       "    <tr>\n",
       "      <th rowspan=\"2\" valign=\"top\">two</th>\n",
       "      <th>A</th>\n",
       "      <td>-1.449644</td>\n",
       "      <td>-0.889762</td>\n",
       "    </tr>\n",
       "    <tr>\n",
       "      <th>B</th>\n",
       "      <td>-0.016543</td>\n",
       "      <td>0.463479</td>\n",
       "    </tr>\n",
       "  </tbody>\n",
       "</table>\n",
       "</div>"
      ],
      "text/plain": [
       "first          bar       baz\n",
       "second                      \n",
       "one    A  1.236566 -0.511808\n",
       "       B -0.283995  0.941265\n",
       "two    A -1.449644 -0.889762\n",
       "       B -0.016543  0.463479"
      ]
     },
     "execution_count": 125,
     "metadata": {},
     "output_type": "execute_result"
    }
   ],
   "source": [
    "stacked.unstack(0)"
   ]
  },
  {
   "cell_type": "code",
   "execution_count": 126,
   "metadata": {},
   "outputs": [
    {
     "data": {
      "text/html": [
       "<div>\n",
       "<style scoped>\n",
       "    .dataframe tbody tr th:only-of-type {\n",
       "        vertical-align: middle;\n",
       "    }\n",
       "\n",
       "    .dataframe tbody tr th {\n",
       "        vertical-align: top;\n",
       "    }\n",
       "\n",
       "    .dataframe thead tr th {\n",
       "        text-align: left;\n",
       "    }\n",
       "\n",
       "    .dataframe thead tr:last-of-type th {\n",
       "        text-align: right;\n",
       "    }\n",
       "</style>\n",
       "<table border=\"1\" class=\"dataframe\">\n",
       "  <thead>\n",
       "    <tr>\n",
       "      <th>first</th>\n",
       "      <th colspan=\"2\" halign=\"left\">bar</th>\n",
       "      <th colspan=\"2\" halign=\"left\">baz</th>\n",
       "    </tr>\n",
       "    <tr>\n",
       "      <th></th>\n",
       "      <th>A</th>\n",
       "      <th>B</th>\n",
       "      <th>A</th>\n",
       "      <th>B</th>\n",
       "    </tr>\n",
       "    <tr>\n",
       "      <th>second</th>\n",
       "      <th></th>\n",
       "      <th></th>\n",
       "      <th></th>\n",
       "      <th></th>\n",
       "    </tr>\n",
       "  </thead>\n",
       "  <tbody>\n",
       "    <tr>\n",
       "      <th>one</th>\n",
       "      <td>1.236566</td>\n",
       "      <td>-0.283995</td>\n",
       "      <td>-0.511808</td>\n",
       "      <td>0.941265</td>\n",
       "    </tr>\n",
       "    <tr>\n",
       "      <th>two</th>\n",
       "      <td>-1.449644</td>\n",
       "      <td>-0.016543</td>\n",
       "      <td>-0.889762</td>\n",
       "      <td>0.463479</td>\n",
       "    </tr>\n",
       "  </tbody>\n",
       "</table>\n",
       "</div>"
      ],
      "text/plain": [
       "first        bar                 baz          \n",
       "               A         B         A         B\n",
       "second                                        \n",
       "one     1.236566 -0.283995 -0.511808  0.941265\n",
       "two    -1.449644 -0.016543 -0.889762  0.463479"
      ]
     },
     "execution_count": 126,
     "metadata": {},
     "output_type": "execute_result"
    }
   ],
   "source": [
    "stacked.unstack((0,2))"
   ]
  },
  {
   "cell_type": "markdown",
   "metadata": {},
   "source": [
    "### Pivot Tables"
   ]
  },
  {
   "cell_type": "markdown",
   "metadata": {
    "collapsed": true
   },
   "source": [
    "Pivot tables\n",
    "\n",
    "While pivot provides general purpose pivoting of DataFrames with various data types (strings, numerics, etc.), Pandas also provides the pivot_table function for pivoting with aggregation of numeric data.\n",
    "\n",
    "The function pandas.pivot_table can be used to create spreadsheet-style pivot tables. See the cookbook for some advanced strategies\n",
    "\n",
    "\n",
    "It takes a number of arguments\n",
    "\n",
    "data: A DataFrame object\n",
    "\n",
    "values: a column or a list of columns to aggregate.\n",
    "\n",
    "index: a column, Grouper, array which has the same length as data, or list of them. Keys to group by on the pivot table index. If an array is passed, it is being used as the same manner as column values.\n",
    "\n",
    "columns: a column, Grouper, array which has the same length as data, or list of them. Keys to group by on the pivot table column. If an array is passed, it is being used as the same manner as column values.\n",
    "\n",
    "aggfunc: function to use for aggregation, defaulting to numpy.mean\n"
   ]
  },
  {
   "cell_type": "code",
   "execution_count": 50,
   "metadata": {},
   "outputs": [],
   "source": [
    "df = pd.DataFrame({'A' : ['one', 'one', 'two', 'three'] * 3,\n",
    "                   'B' : ['A', 'B', 'C'] * 4,\n",
    "                   'C' : ['foo', 'foo', 'foo', 'bar', 'bar', 'bar'] * 2,\n",
    "                   'D' : np.random.randn(12),\n",
    "                   'E' : np.random.randn(12)})"
   ]
  },
  {
   "cell_type": "code",
   "execution_count": 51,
   "metadata": {
    "scrolled": false
   },
   "outputs": [
    {
     "data": {
      "text/html": [
       "<div>\n",
       "<style scoped>\n",
       "    .dataframe tbody tr th:only-of-type {\n",
       "        vertical-align: middle;\n",
       "    }\n",
       "\n",
       "    .dataframe tbody tr th {\n",
       "        vertical-align: top;\n",
       "    }\n",
       "\n",
       "    .dataframe thead th {\n",
       "        text-align: right;\n",
       "    }\n",
       "</style>\n",
       "<table border=\"1\" class=\"dataframe\">\n",
       "  <thead>\n",
       "    <tr style=\"text-align: right;\">\n",
       "      <th></th>\n",
       "      <th>A</th>\n",
       "      <th>B</th>\n",
       "      <th>C</th>\n",
       "      <th>D</th>\n",
       "      <th>E</th>\n",
       "    </tr>\n",
       "  </thead>\n",
       "  <tbody>\n",
       "    <tr>\n",
       "      <th>0</th>\n",
       "      <td>one</td>\n",
       "      <td>A</td>\n",
       "      <td>foo</td>\n",
       "      <td>-0.471373</td>\n",
       "      <td>-0.010015</td>\n",
       "    </tr>\n",
       "    <tr>\n",
       "      <th>1</th>\n",
       "      <td>one</td>\n",
       "      <td>B</td>\n",
       "      <td>foo</td>\n",
       "      <td>-1.008797</td>\n",
       "      <td>-0.220902</td>\n",
       "    </tr>\n",
       "    <tr>\n",
       "      <th>2</th>\n",
       "      <td>two</td>\n",
       "      <td>C</td>\n",
       "      <td>foo</td>\n",
       "      <td>-0.763792</td>\n",
       "      <td>-0.965570</td>\n",
       "    </tr>\n",
       "    <tr>\n",
       "      <th>3</th>\n",
       "      <td>three</td>\n",
       "      <td>A</td>\n",
       "      <td>bar</td>\n",
       "      <td>-1.239721</td>\n",
       "      <td>1.312892</td>\n",
       "    </tr>\n",
       "    <tr>\n",
       "      <th>4</th>\n",
       "      <td>one</td>\n",
       "      <td>B</td>\n",
       "      <td>bar</td>\n",
       "      <td>0.430461</td>\n",
       "      <td>-0.368795</td>\n",
       "    </tr>\n",
       "    <tr>\n",
       "      <th>5</th>\n",
       "      <td>one</td>\n",
       "      <td>C</td>\n",
       "      <td>bar</td>\n",
       "      <td>0.155934</td>\n",
       "      <td>-0.266148</td>\n",
       "    </tr>\n",
       "    <tr>\n",
       "      <th>6</th>\n",
       "      <td>two</td>\n",
       "      <td>A</td>\n",
       "      <td>foo</td>\n",
       "      <td>1.122175</td>\n",
       "      <td>-1.283969</td>\n",
       "    </tr>\n",
       "    <tr>\n",
       "      <th>7</th>\n",
       "      <td>three</td>\n",
       "      <td>B</td>\n",
       "      <td>foo</td>\n",
       "      <td>0.015820</td>\n",
       "      <td>-0.042421</td>\n",
       "    </tr>\n",
       "    <tr>\n",
       "      <th>8</th>\n",
       "      <td>one</td>\n",
       "      <td>C</td>\n",
       "      <td>foo</td>\n",
       "      <td>-0.807528</td>\n",
       "      <td>-0.766421</td>\n",
       "    </tr>\n",
       "    <tr>\n",
       "      <th>9</th>\n",
       "      <td>one</td>\n",
       "      <td>A</td>\n",
       "      <td>bar</td>\n",
       "      <td>1.331077</td>\n",
       "      <td>0.041456</td>\n",
       "    </tr>\n",
       "    <tr>\n",
       "      <th>10</th>\n",
       "      <td>two</td>\n",
       "      <td>B</td>\n",
       "      <td>bar</td>\n",
       "      <td>-1.497472</td>\n",
       "      <td>-0.069447</td>\n",
       "    </tr>\n",
       "    <tr>\n",
       "      <th>11</th>\n",
       "      <td>three</td>\n",
       "      <td>C</td>\n",
       "      <td>bar</td>\n",
       "      <td>0.436621</td>\n",
       "      <td>0.191391</td>\n",
       "    </tr>\n",
       "  </tbody>\n",
       "</table>\n",
       "</div>"
      ],
      "text/plain": [
       "        A  B    C         D         E\n",
       "0     one  A  foo -0.471373 -0.010015\n",
       "1     one  B  foo -1.008797 -0.220902\n",
       "2     two  C  foo -0.763792 -0.965570\n",
       "3   three  A  bar -1.239721  1.312892\n",
       "4     one  B  bar  0.430461 -0.368795\n",
       "5     one  C  bar  0.155934 -0.266148\n",
       "6     two  A  foo  1.122175 -1.283969\n",
       "7   three  B  foo  0.015820 -0.042421\n",
       "8     one  C  foo -0.807528 -0.766421\n",
       "9     one  A  bar  1.331077  0.041456\n",
       "10    two  B  bar -1.497472 -0.069447\n",
       "11  three  C  bar  0.436621  0.191391"
      ]
     },
     "execution_count": 51,
     "metadata": {},
     "output_type": "execute_result"
    }
   ],
   "source": [
    "df"
   ]
  },
  {
   "cell_type": "markdown",
   "metadata": {},
   "source": [
    "We can produce pivot tables from this data very easily:"
   ]
  },
  {
   "cell_type": "code",
   "execution_count": 134,
   "metadata": {},
   "outputs": [],
   "source": [
    "?pd.pivot_table"
   ]
  },
  {
   "cell_type": "code",
   "execution_count": 54,
   "metadata": {
    "scrolled": true
   },
   "outputs": [
    {
     "data": {
      "text/html": [
       "<div>\n",
       "<style scoped>\n",
       "    .dataframe tbody tr th:only-of-type {\n",
       "        vertical-align: middle;\n",
       "    }\n",
       "\n",
       "    .dataframe tbody tr th {\n",
       "        vertical-align: top;\n",
       "    }\n",
       "\n",
       "    .dataframe thead th {\n",
       "        text-align: right;\n",
       "    }\n",
       "</style>\n",
       "<table border=\"1\" class=\"dataframe\">\n",
       "  <thead>\n",
       "    <tr style=\"text-align: right;\">\n",
       "      <th></th>\n",
       "      <th>C</th>\n",
       "      <th>bar</th>\n",
       "      <th>foo</th>\n",
       "    </tr>\n",
       "    <tr>\n",
       "      <th>B</th>\n",
       "      <th>A</th>\n",
       "      <th></th>\n",
       "      <th></th>\n",
       "    </tr>\n",
       "  </thead>\n",
       "  <tbody>\n",
       "    <tr>\n",
       "      <th rowspan=\"3\" valign=\"top\">A</th>\n",
       "      <th>one</th>\n",
       "      <td>1.331077</td>\n",
       "      <td>-0.471373</td>\n",
       "    </tr>\n",
       "    <tr>\n",
       "      <th>three</th>\n",
       "      <td>-1.239721</td>\n",
       "      <td>NaN</td>\n",
       "    </tr>\n",
       "    <tr>\n",
       "      <th>two</th>\n",
       "      <td>NaN</td>\n",
       "      <td>1.122175</td>\n",
       "    </tr>\n",
       "    <tr>\n",
       "      <th rowspan=\"3\" valign=\"top\">B</th>\n",
       "      <th>one</th>\n",
       "      <td>0.430461</td>\n",
       "      <td>-1.008797</td>\n",
       "    </tr>\n",
       "    <tr>\n",
       "      <th>three</th>\n",
       "      <td>NaN</td>\n",
       "      <td>0.015820</td>\n",
       "    </tr>\n",
       "    <tr>\n",
       "      <th>two</th>\n",
       "      <td>-1.497472</td>\n",
       "      <td>NaN</td>\n",
       "    </tr>\n",
       "    <tr>\n",
       "      <th rowspan=\"3\" valign=\"top\">C</th>\n",
       "      <th>one</th>\n",
       "      <td>0.155934</td>\n",
       "      <td>-0.807528</td>\n",
       "    </tr>\n",
       "    <tr>\n",
       "      <th>three</th>\n",
       "      <td>0.436621</td>\n",
       "      <td>NaN</td>\n",
       "    </tr>\n",
       "    <tr>\n",
       "      <th>two</th>\n",
       "      <td>NaN</td>\n",
       "      <td>-0.763792</td>\n",
       "    </tr>\n",
       "  </tbody>\n",
       "</table>\n",
       "</div>"
      ],
      "text/plain": [
       "C             bar       foo\n",
       "B A                        \n",
       "A one    1.331077 -0.471373\n",
       "  three -1.239721       NaN\n",
       "  two         NaN  1.122175\n",
       "B one    0.430461 -1.008797\n",
       "  three       NaN  0.015820\n",
       "  two   -1.497472       NaN\n",
       "C one    0.155934 -0.807528\n",
       "  three  0.436621       NaN\n",
       "  two         NaN -0.763792"
      ]
     },
     "execution_count": 54,
     "metadata": {},
     "output_type": "execute_result"
    }
   ],
   "source": [
    "pd.pivot_table(df, values='D', index=[ 'B', 'A'], columns=['C'], aggfunc=\"sum\")"
   ]
  },
  {
   "cell_type": "code",
   "execution_count": 58,
   "metadata": {},
   "outputs": [],
   "source": [
    "#pd.pivot_table(df, values='D', index=[ 'B', 'A'], columns=['C'], aggfunc=\"sum\").loc[\"C\", \"three\"]"
   ]
  },
  {
   "cell_type": "code",
   "execution_count": 59,
   "metadata": {
    "scrolled": true
   },
   "outputs": [],
   "source": [
    "df2=df.append(df)"
   ]
  },
  {
   "cell_type": "code",
   "execution_count": 64,
   "metadata": {},
   "outputs": [
    {
     "data": {
      "text/html": [
       "<div>\n",
       "<style scoped>\n",
       "    .dataframe tbody tr th:only-of-type {\n",
       "        vertical-align: middle;\n",
       "    }\n",
       "\n",
       "    .dataframe tbody tr th {\n",
       "        vertical-align: top;\n",
       "    }\n",
       "\n",
       "    .dataframe thead th {\n",
       "        text-align: right;\n",
       "    }\n",
       "</style>\n",
       "<table border=\"1\" class=\"dataframe\">\n",
       "  <thead>\n",
       "    <tr style=\"text-align: right;\">\n",
       "      <th></th>\n",
       "      <th>C</th>\n",
       "      <th>bar</th>\n",
       "      <th>foo</th>\n",
       "    </tr>\n",
       "    <tr>\n",
       "      <th>A</th>\n",
       "      <th>B</th>\n",
       "      <th></th>\n",
       "      <th></th>\n",
       "    </tr>\n",
       "  </thead>\n",
       "  <tbody>\n",
       "    <tr>\n",
       "      <th rowspan=\"3\" valign=\"top\">one</th>\n",
       "      <th>A</th>\n",
       "      <td>2.662154</td>\n",
       "      <td>-0.942745</td>\n",
       "    </tr>\n",
       "    <tr>\n",
       "      <th>B</th>\n",
       "      <td>0.860922</td>\n",
       "      <td>-2.017595</td>\n",
       "    </tr>\n",
       "    <tr>\n",
       "      <th>C</th>\n",
       "      <td>0.311868</td>\n",
       "      <td>-1.615057</td>\n",
       "    </tr>\n",
       "    <tr>\n",
       "      <th rowspan=\"3\" valign=\"top\">three</th>\n",
       "      <th>A</th>\n",
       "      <td>-2.479442</td>\n",
       "      <td>NaN</td>\n",
       "    </tr>\n",
       "    <tr>\n",
       "      <th>B</th>\n",
       "      <td>NaN</td>\n",
       "      <td>0.031639</td>\n",
       "    </tr>\n",
       "    <tr>\n",
       "      <th>C</th>\n",
       "      <td>0.873242</td>\n",
       "      <td>NaN</td>\n",
       "    </tr>\n",
       "    <tr>\n",
       "      <th rowspan=\"3\" valign=\"top\">two</th>\n",
       "      <th>A</th>\n",
       "      <td>NaN</td>\n",
       "      <td>2.244350</td>\n",
       "    </tr>\n",
       "    <tr>\n",
       "      <th>B</th>\n",
       "      <td>-2.994944</td>\n",
       "      <td>NaN</td>\n",
       "    </tr>\n",
       "    <tr>\n",
       "      <th>C</th>\n",
       "      <td>NaN</td>\n",
       "      <td>-1.527584</td>\n",
       "    </tr>\n",
       "  </tbody>\n",
       "</table>\n",
       "</div>"
      ],
      "text/plain": [
       "C             bar       foo\n",
       "A     B                    \n",
       "one   A  2.662154 -0.942745\n",
       "      B  0.860922 -2.017595\n",
       "      C  0.311868 -1.615057\n",
       "three A -2.479442       NaN\n",
       "      B       NaN  0.031639\n",
       "      C  0.873242       NaN\n",
       "two   A       NaN  2.244350\n",
       "      B -2.994944       NaN\n",
       "      C       NaN -1.527584"
      ]
     },
     "execution_count": 64,
     "metadata": {},
     "output_type": "execute_result"
    }
   ],
   "source": [
    "pd.pivot_table(df2, values='D', index=['A', 'B'], columns=['C'], aggfunc=\"sum\")"
   ]
  },
  {
   "cell_type": "markdown",
   "metadata": {},
   "source": [
    "## Let Us benchmark Pandas performance"
   ]
  },
  {
   "cell_type": "markdown",
   "metadata": {},
   "source": [
    "#### Let us look at some Magic Function before that "
   ]
  },
  {
   "cell_type": "code",
   "execution_count": 65,
   "metadata": {},
   "outputs": [],
   "source": [
    "import pandas as pd\n",
    "import numpy as np"
   ]
  },
  {
   "cell_type": "code",
   "execution_count": 66,
   "metadata": {
    "scrolled": true
   },
   "outputs": [
    {
     "data": {
      "application/json": {
       "cell": {
        "!": "OSMagics",
        "HTML": "Other",
        "SVG": "Other",
        "bash": "Other",
        "capture": "ExecutionMagics",
        "debug": "ExecutionMagics",
        "file": "Other",
        "html": "DisplayMagics",
        "javascript": "DisplayMagics",
        "js": "DisplayMagics",
        "latex": "DisplayMagics",
        "markdown": "DisplayMagics",
        "perl": "Other",
        "prun": "ExecutionMagics",
        "pypy": "Other",
        "python": "Other",
        "python2": "Other",
        "python3": "Other",
        "ruby": "Other",
        "script": "ScriptMagics",
        "sh": "Other",
        "svg": "DisplayMagics",
        "sx": "OSMagics",
        "system": "OSMagics",
        "time": "ExecutionMagics",
        "timeit": "ExecutionMagics",
        "writefile": "OSMagics"
       },
       "line": {
        "alias": "OSMagics",
        "alias_magic": "BasicMagics",
        "autocall": "AutoMagics",
        "automagic": "AutoMagics",
        "autosave": "KernelMagics",
        "bookmark": "OSMagics",
        "cat": "Other",
        "cd": "OSMagics",
        "clear": "KernelMagics",
        "colors": "BasicMagics",
        "config": "ConfigMagics",
        "connect_info": "KernelMagics",
        "cp": "Other",
        "debug": "ExecutionMagics",
        "dhist": "OSMagics",
        "dirs": "OSMagics",
        "doctest_mode": "BasicMagics",
        "ed": "Other",
        "edit": "KernelMagics",
        "env": "OSMagics",
        "gui": "BasicMagics",
        "hist": "Other",
        "history": "HistoryMagics",
        "killbgscripts": "ScriptMagics",
        "ldir": "Other",
        "less": "KernelMagics",
        "lf": "Other",
        "lk": "Other",
        "ll": "Other",
        "load": "CodeMagics",
        "load_ext": "ExtensionMagics",
        "loadpy": "CodeMagics",
        "logoff": "LoggingMagics",
        "logon": "LoggingMagics",
        "logstart": "LoggingMagics",
        "logstate": "LoggingMagics",
        "logstop": "LoggingMagics",
        "ls": "Other",
        "lsmagic": "BasicMagics",
        "lx": "Other",
        "macro": "ExecutionMagics",
        "magic": "BasicMagics",
        "man": "KernelMagics",
        "matplotlib": "PylabMagics",
        "mkdir": "Other",
        "more": "KernelMagics",
        "mv": "Other",
        "notebook": "BasicMagics",
        "page": "BasicMagics",
        "pastebin": "CodeMagics",
        "pdb": "ExecutionMagics",
        "pdef": "NamespaceMagics",
        "pdoc": "NamespaceMagics",
        "pfile": "NamespaceMagics",
        "pinfo": "NamespaceMagics",
        "pinfo2": "NamespaceMagics",
        "pip": "BasicMagics",
        "popd": "OSMagics",
        "pprint": "BasicMagics",
        "precision": "BasicMagics",
        "profile": "BasicMagics",
        "prun": "ExecutionMagics",
        "psearch": "NamespaceMagics",
        "psource": "NamespaceMagics",
        "pushd": "OSMagics",
        "pwd": "OSMagics",
        "pycat": "OSMagics",
        "pylab": "PylabMagics",
        "qtconsole": "KernelMagics",
        "quickref": "BasicMagics",
        "recall": "HistoryMagics",
        "rehashx": "OSMagics",
        "reload_ext": "ExtensionMagics",
        "rep": "Other",
        "rerun": "HistoryMagics",
        "reset": "NamespaceMagics",
        "reset_selective": "NamespaceMagics",
        "rm": "Other",
        "rmdir": "Other",
        "run": "ExecutionMagics",
        "save": "CodeMagics",
        "sc": "OSMagics",
        "set_env": "OSMagics",
        "store": "StoreMagics",
        "sx": "OSMagics",
        "system": "OSMagics",
        "tb": "ExecutionMagics",
        "time": "ExecutionMagics",
        "timeit": "ExecutionMagics",
        "unalias": "OSMagics",
        "unload_ext": "ExtensionMagics",
        "who": "NamespaceMagics",
        "who_ls": "NamespaceMagics",
        "whos": "NamespaceMagics",
        "xdel": "NamespaceMagics",
        "xmode": "BasicMagics"
       }
      },
      "text/plain": [
       "Available line magics:\n",
       "%alias  %alias_magic  %autocall  %automagic  %autosave  %bookmark  %cat  %cd  %clear  %colors  %config  %connect_info  %cp  %debug  %dhist  %dirs  %doctest_mode  %ed  %edit  %env  %gui  %hist  %history  %killbgscripts  %ldir  %less  %lf  %lk  %ll  %load  %load_ext  %loadpy  %logoff  %logon  %logstart  %logstate  %logstop  %ls  %lsmagic  %lx  %macro  %magic  %man  %matplotlib  %mkdir  %more  %mv  %notebook  %page  %pastebin  %pdb  %pdef  %pdoc  %pfile  %pinfo  %pinfo2  %popd  %pprint  %precision  %profile  %prun  %psearch  %psource  %pushd  %pwd  %pycat  %pylab  %qtconsole  %quickref  %recall  %rehashx  %reload_ext  %rep  %rerun  %reset  %reset_selective  %rm  %rmdir  %run  %save  %sc  %set_env  %store  %sx  %system  %tb  %time  %timeit  %unalias  %unload_ext  %who  %who_ls  %whos  %xdel  %xmode\n",
       "\n",
       "Available cell magics:\n",
       "%%!  %%HTML  %%SVG  %%bash  %%capture  %%debug  %%file  %%html  %%javascript  %%js  %%latex  %%markdown  %%perl  %%prun  %%pypy  %%python  %%python2  %%python3  %%ruby  %%script  %%sh  %%svg  %%sx  %%system  %%time  %%timeit  %%writefile\n",
       "\n",
       "Automagic is ON, % prefix IS NOT needed for line magics."
      ]
     },
     "execution_count": 66,
     "metadata": {},
     "output_type": "execute_result"
    }
   ],
   "source": [
    "%lsmagic"
   ]
  },
  {
   "cell_type": "code",
   "execution_count": 70,
   "metadata": {},
   "outputs": [
    {
     "name": "stdout",
     "output_type": "stream",
     "text": [
      "01 SKLearn V2 - (Intro, Regression, and Classification Basics).ipynb\r\n",
      "\u001b[0m\u001b[01;31m01 SKLearn V2 - (Intro, Regression, and Classification Basics).ipynb.zip\u001b[0m\r\n",
      "02 SKLearn - Model Evaluation Allianz.ipynb\r\n",
      "02 SKLearn V2  - Model Evaluation and Unsupervised Machine Learning.ipynb\r\n",
      "\u001b[01;31m02 SKLearn V2  - Model Evaluation and Unsupervised Machine Learning.ipynb.zip\u001b[0m\r\n",
      "a.brij\r\n",
      "adspy_shared_utilities.py\r\n",
      "\u001b[01;31madspy_shared_utilities.py.zip\u001b[0m\r\n",
      "adspy_temp.dot\r\n",
      "anita.pkl\r\n",
      "a.npy\r\n",
      "\u001b[01;35mcat.0.jpg\u001b[0m\r\n",
      "CommViolPredUnnormalizedData.txt\r\n",
      "CommViolPredUnnormalizedData.txt.1\r\n",
      "CommViolPredUnnormalizedData.txt.2\r\n",
      "Day 2- Simplified RIET Regression & Classification.ipynb\r\n",
      "dfJBLLIB.pkl\r\n",
      "dfNew.pkl\r\n",
      "df.pkl\r\n",
      "Exercise-01 _NumPy_August_2018.ipynb\r\n",
      "ey2.txt\r\n",
      "ey.py\r\n",
      "ey.txt\r\n",
      "Face_recognition_olivetti_Data.ipynb\r\n",
      "\u001b[01;34mfiles_for_sharing\u001b[0m/\r\n",
      "\u001b[01;31mfiles_for_sharing.zip\u001b[0m\r\n",
      "foo.csv\r\n",
      "foo.h5\r\n",
      "foo.xlsx\r\n",
      "fruit_data_with_colors (copy).csv\r\n",
      "fruit_data_with_colors.txt\r\n",
      "\u001b[01;32mgrades.csv\u001b[0m*\r\n",
      "hypothesis_testing.ipynb\r\n",
      "Keras - CNN and LSTM assignment.ipynb\r\n",
      "\u001b[01;34mMichU\u001b[0m/\r\n",
      "ML Assignment1 Answers.ipynb\r\n",
      "ML Assignment1.ipynb\r\n",
      "My Notebook 5dec2019.ipynb\r\n",
      "myPycode.py\r\n",
      "\u001b[01;34mmyTestProj\u001b[0m/\r\n",
      "newFile.txt\r\n",
      "\u001b[01;35mnew.png\u001b[0m\r\n",
      "NumPy Tutorial - Notebook(Allianz).ipynb\r\n",
      "NumPy Tutorial - Notebook(Dec2019).ipynb\r\n",
      "old 01 SKLearn - (Intro, Regression, and Classification Basics).ipynb\r\n",
      "old 02 SKLearn  - Model Evaluation and Unsupervised Machine Learning.ipynb\r\n",
      "\u001b[01;35molivettiFace.png\u001b[0m\r\n",
      "\u001b[01;34mPandas\u001b[0m/\r\n",
      "Pandas Tutorial (Updated-Jun 2019) (Allianz).ipynb\r\n",
      "Pandas Tutorial (Updated-Jun 2019).ipynb\r\n",
      "Pandas Tutorial (Updated-May 2018).ipynb\r\n",
      "\u001b[01;34m__pycache__\u001b[0m/\r\n",
      "\u001b[01;34mSKlearn\u001b[0m/\r\n",
      "SKLearn - (Intro, Regression, and Classification Basics).ipynb\r\n",
      "\u001b[01;31mSKLearn_Module1.zip\u001b[0m\r\n",
      "Temp Module+2.ipynb\r\n",
      "test.py\r\n",
      "Unsupervised Learning.ipynb\r\n",
      "Untitled10.ipynb\r\n",
      "Untitled11.ipynb\r\n",
      "Untitled12.ipynb\r\n",
      "Untitled13.ipynb\r\n",
      "Untitled1.ipynb\r\n",
      "Untitled2.ipynb\r\n",
      "Untitled3.ipynb\r\n",
      "Untitled4.ipynb\r\n",
      "Untitled5.ipynb\r\n",
      "Untitled6.ipynb\r\n",
      "Untitled7.ipynb\r\n",
      "Untitled8.ipynb\r\n",
      "Untitled9.ipynb\r\n",
      "Untitled.ipynb\r\n",
      "\u001b[01;31mzip.tar.gz\u001b[0m\r\n"
     ]
    }
   ],
   "source": [
    "%ls\n"
   ]
  },
  {
   "cell_type": "code",
   "execution_count": 210,
   "metadata": {},
   "outputs": [],
   "source": [
    "#%pastebin ey.py"
   ]
  },
  {
   "cell_type": "code",
   "execution_count": 198,
   "metadata": {},
   "outputs": [
    {
     "name": "stdout",
     "output_type": "stream",
     "text": [
      "Overwriting ey.py\n"
     ]
    }
   ],
   "source": [
    "%%writefile ey.py\n",
    "print(\"hello world\")\n",
    "print(1+1)\n",
    "\n",
    "#this is just some text"
   ]
  },
  {
   "cell_type": "code",
   "execution_count": null,
   "metadata": {},
   "outputs": [],
   "source": [
    "# %load ey.py\n",
    "print(\"hello world\")\n",
    "print(1+1)\n",
    "\n",
    "#this is just some text"
   ]
  },
  {
   "cell_type": "code",
   "execution_count": 197,
   "metadata": {},
   "outputs": [
    {
     "name": "stdout",
     "output_type": "stream",
     "text": [
      "ey.py  ey.txt\r\n"
     ]
    }
   ],
   "source": [
    "!dir ey.*"
   ]
  },
  {
   "cell_type": "code",
   "execution_count": 167,
   "metadata": {},
   "outputs": [
    {
     "name": "stdout",
     "output_type": "stream",
     "text": [
      "executed a line magic function\n"
     ]
    }
   ],
   "source": [
    "%cp ey.txt ey2.txt\n",
    "print(\"executed a line magic function\")"
   ]
  },
  {
   "cell_type": "code",
   "execution_count": 169,
   "metadata": {},
   "outputs": [
    {
     "name": "stdout",
     "output_type": "stream",
     "text": [
      "hello world\n",
      "2\n"
     ]
    }
   ],
   "source": [
    "#import ey"
   ]
  },
  {
   "cell_type": "code",
   "execution_count": 175,
   "metadata": {},
   "outputs": [
    {
     "data": {
      "text/markdown": [
       "#### this is a header"
      ],
      "text/plain": [
       "<IPython.core.display.Markdown object>"
      ]
     },
     "metadata": {},
     "output_type": "display_data"
    }
   ],
   "source": [
    "%%markdown\n",
    "#### this is a header"
   ]
  },
  {
   "cell_type": "code",
   "execution_count": 173,
   "metadata": {},
   "outputs": [],
   "source": [
    "#%pastebin  ey.py"
   ]
  },
  {
   "cell_type": "markdown",
   "metadata": {},
   "source": [
    "#### Let us benchmark to see how fast is Pandas"
   ]
  },
  {
   "cell_type": "code",
   "execution_count": 211,
   "metadata": {},
   "outputs": [
    {
     "data": {
      "text/plain": [
       "0    230\n",
       "1     98\n",
       "2    643\n",
       "3    191\n",
       "4    475\n",
       "dtype: int64"
      ]
     },
     "execution_count": 211,
     "metadata": {},
     "output_type": "execute_result"
    }
   ],
   "source": [
    "#this creates a big series of random numbers\n",
    "s = pd.Series(np.random.randint(0,1000,10000))\n",
    "s.head()"
   ]
  },
  {
   "cell_type": "code",
   "execution_count": 212,
   "metadata": {},
   "outputs": [
    {
     "data": {
      "text/plain": [
       "10000"
      ]
     },
     "execution_count": 212,
     "metadata": {},
     "output_type": "execute_result"
    }
   ],
   "source": [
    "len(s)"
   ]
  },
  {
   "cell_type": "code",
   "execution_count": 213,
   "metadata": {},
   "outputs": [
    {
     "name": "stdout",
     "output_type": "stream",
     "text": [
      "4.33 ms ± 96.7 µs per loop (mean ± std. dev. of 7 runs, 100 loops each)\n"
     ]
    }
   ],
   "source": [
    "%%timeit -n 100\n",
    "summary = 0\n",
    "for item in s:\n",
    "    summary+=item"
   ]
  },
  {
   "cell_type": "code",
   "execution_count": 214,
   "metadata": {},
   "outputs": [
    {
     "name": "stdout",
     "output_type": "stream",
     "text": [
      "499 µs ± 54.4 µs per loop (mean ± std. dev. of 7 runs, 100 loops each)\n"
     ]
    }
   ],
   "source": [
    "%%timeit -n 100\n",
    "summary = np.sum(s)"
   ]
  },
  {
   "cell_type": "code",
   "execution_count": 215,
   "metadata": {},
   "outputs": [
    {
     "data": {
      "text/plain": [
       "0    232\n",
       "1    100\n",
       "2    645\n",
       "3    193\n",
       "4    477\n",
       "dtype: int64"
      ]
     },
     "execution_count": 215,
     "metadata": {},
     "output_type": "execute_result"
    }
   ],
   "source": [
    "s+=2 #adds two to each item in s using broadcasting\n",
    "s.head()"
   ]
  },
  {
   "cell_type": "code",
   "execution_count": 216,
   "metadata": {},
   "outputs": [
    {
     "name": "stderr",
     "output_type": "stream",
     "text": [
      "/usr/local/lib/python3.5/dist-packages/ipykernel_launcher.py:2: FutureWarning: set_value is deprecated and will be removed in a future release. Please use .at[] or .iat[] accessors instead\n",
      "  \n"
     ]
    },
    {
     "data": {
      "text/plain": [
       "0    234\n",
       "1    102\n",
       "2    647\n",
       "3    195\n",
       "4    479\n",
       "dtype: int64"
      ]
     },
     "execution_count": 216,
     "metadata": {},
     "output_type": "execute_result"
    }
   ],
   "source": [
    "for label, value in s.iteritems():\n",
    "    s.set_value(label, value+2)\n",
    "s.head()"
   ]
  },
  {
   "cell_type": "code",
   "execution_count": 291,
   "metadata": {},
   "outputs": [
    {
     "name": "stdout",
     "output_type": "stream",
     "text": [
      "1.41 ms ± 427 µs per loop (mean ± std. dev. of 7 runs, 10 loops each)\n"
     ]
    }
   ],
   "source": [
    "%%timeit -n 10\n",
    "s = pd.Series(np.random.randint(0,1000,10000))\n",
    "for label, value in s.iteritems():\n",
    "    s.loc[label]= value+2"
   ]
  },
  {
   "cell_type": "code",
   "execution_count": null,
   "metadata": {},
   "outputs": [],
   "source": [
    "%%timeit -n 10\n",
    "s = pd.Series(np.random.randint(0,1000,10000))\n",
    "s+=2\n"
   ]
  },
  {
   "cell_type": "markdown",
   "metadata": {},
   "source": [
    "## Time Series / Date Functionality in Pandas"
   ]
  },
  {
   "cell_type": "markdown",
   "metadata": {},
   "source": [
    "Time Series / Date functionality\n",
    "\n",
    "pandas has proven very successful as a tool for working with time series data, especially in the financial data analysis space. Using the NumPy datetime64 and timedelta64 dtypes, we have consolidated a large number of features from other Python libraries like scikits.timeseries as well as created a tremendous amount of new functionality for manipulating time series data.\n",
    "\n",
    "In working with time series data, we will frequently seek to:\n",
    "\n",
    "        (a) generate sequences of fixed-frequency dates and time spans\n",
    "        (b) conform or convert time series to a particular frequency\n",
    "        (c) compute “relative” dates based on various non-standard time increments (e.g. 5 business days before the last business day of the year), or “roll” dates forward or backward\n",
    "\n",
    "pandas provides a relatively compact and self-contained set of tools for performing the above tasks."
   ]
  },
  {
   "cell_type": "code",
   "execution_count": 240,
   "metadata": {},
   "outputs": [],
   "source": [
    "import pandas as pd\n",
    "import numpy as np"
   ]
  },
  {
   "cell_type": "code",
   "execution_count": 153,
   "metadata": {},
   "outputs": [],
   "source": [
    "#import time\n",
    "#time.time()"
   ]
  },
  {
   "cell_type": "markdown",
   "metadata": {},
   "source": [
    "### Timestamp"
   ]
  },
  {
   "cell_type": "code",
   "execution_count": 135,
   "metadata": {},
   "outputs": [
    {
     "data": {
      "text/plain": [
       "Timestamp('2016-09-01 10:05:00')"
      ]
     },
     "execution_count": 135,
     "metadata": {},
     "output_type": "execute_result"
    }
   ],
   "source": [
    "pd.Timestamp('9/1/2016 10:05AM')"
   ]
  },
  {
   "cell_type": "markdown",
   "metadata": {},
   "source": [
    "### Period"
   ]
  },
  {
   "cell_type": "code",
   "execution_count": 154,
   "metadata": {},
   "outputs": [
    {
     "data": {
      "text/plain": [
       "Period('2016-01', 'M')"
      ]
     },
     "execution_count": 154,
     "metadata": {},
     "output_type": "execute_result"
    }
   ],
   "source": [
    "pd.Period('1/2016')"
   ]
  },
  {
   "cell_type": "code",
   "execution_count": 243,
   "metadata": {},
   "outputs": [],
   "source": [
    "?pd.Period('3/5/2016'"
   ]
  },
  {
   "cell_type": "markdown",
   "metadata": {},
   "source": [
    "### DatetimeIndex"
   ]
  },
  {
   "cell_type": "code",
   "execution_count": 157,
   "metadata": {
    "scrolled": true
   },
   "outputs": [
    {
     "data": {
      "text/plain": [
       "2016-09-01    a\n",
       "2016-09-02    b\n",
       "2016-09-03    c\n",
       "dtype: object"
      ]
     },
     "execution_count": 157,
     "metadata": {},
     "output_type": "execute_result"
    }
   ],
   "source": [
    "t1 = pd.Series(list('abc'), [pd.Timestamp('2016-09-01'), pd.Timestamp('2016-09-02'), pd.Timestamp('2016-09-03')])\n",
    "t1"
   ]
  },
  {
   "cell_type": "code",
   "execution_count": 245,
   "metadata": {},
   "outputs": [
    {
     "data": {
      "text/plain": [
       "DatetimeIndex(['2016-09-01', '2016-09-02', '2016-09-03'], dtype='datetime64[ns]', freq=None)"
      ]
     },
     "execution_count": 245,
     "metadata": {},
     "output_type": "execute_result"
    }
   ],
   "source": [
    "t1.index"
   ]
  },
  {
   "cell_type": "code",
   "execution_count": 246,
   "metadata": {},
   "outputs": [
    {
     "data": {
      "text/plain": [
       "pandas.core.indexes.datetimes.DatetimeIndex"
      ]
     },
     "execution_count": 246,
     "metadata": {},
     "output_type": "execute_result"
    }
   ],
   "source": [
    "type(t1.index)"
   ]
  },
  {
   "cell_type": "markdown",
   "metadata": {},
   "source": [
    "### PeriodIndex"
   ]
  },
  {
   "cell_type": "code",
   "execution_count": 247,
   "metadata": {},
   "outputs": [
    {
     "data": {
      "text/plain": [
       "2016-09    d\n",
       "2016-10    e\n",
       "2016-11    f\n",
       "Freq: M, dtype: object"
      ]
     },
     "execution_count": 247,
     "metadata": {},
     "output_type": "execute_result"
    }
   ],
   "source": [
    "t2 = pd.Series(list('def'), [pd.Period('2016-09'), pd.Period('2016-10'), pd.Period('2016-11')])\n",
    "t2"
   ]
  },
  {
   "cell_type": "code",
   "execution_count": 248,
   "metadata": {},
   "outputs": [
    {
     "data": {
      "text/plain": [
       "pandas.core.indexes.period.PeriodIndex"
      ]
     },
     "execution_count": 248,
     "metadata": {},
     "output_type": "execute_result"
    }
   ],
   "source": [
    "type(t2.index)"
   ]
  },
  {
   "cell_type": "markdown",
   "metadata": {},
   "source": [
    "### Converting to Datetime"
   ]
  },
  {
   "cell_type": "code",
   "execution_count": 160,
   "metadata": {},
   "outputs": [
    {
     "data": {
      "text/html": [
       "<div>\n",
       "<style scoped>\n",
       "    .dataframe tbody tr th:only-of-type {\n",
       "        vertical-align: middle;\n",
       "    }\n",
       "\n",
       "    .dataframe tbody tr th {\n",
       "        vertical-align: top;\n",
       "    }\n",
       "\n",
       "    .dataframe thead th {\n",
       "        text-align: right;\n",
       "    }\n",
       "</style>\n",
       "<table border=\"1\" class=\"dataframe\">\n",
       "  <thead>\n",
       "    <tr style=\"text-align: right;\">\n",
       "      <th></th>\n",
       "      <th>a</th>\n",
       "      <th>b</th>\n",
       "    </tr>\n",
       "  </thead>\n",
       "  <tbody>\n",
       "    <tr>\n",
       "      <th>2 June 2013</th>\n",
       "      <td>29</td>\n",
       "      <td>73</td>\n",
       "    </tr>\n",
       "    <tr>\n",
       "      <th>Aug 29, 2014</th>\n",
       "      <td>88</td>\n",
       "      <td>44</td>\n",
       "    </tr>\n",
       "    <tr>\n",
       "      <th>2015-06-26</th>\n",
       "      <td>25</td>\n",
       "      <td>54</td>\n",
       "    </tr>\n",
       "    <tr>\n",
       "      <th>7/12/16</th>\n",
       "      <td>29</td>\n",
       "      <td>24</td>\n",
       "    </tr>\n",
       "  </tbody>\n",
       "</table>\n",
       "</div>"
      ],
      "text/plain": [
       "               a   b\n",
       "2 June 2013   29  73\n",
       "Aug 29, 2014  88  44\n",
       "2015-06-26    25  54\n",
       "7/12/16       29  24"
      ]
     },
     "execution_count": 160,
     "metadata": {},
     "output_type": "execute_result"
    }
   ],
   "source": [
    "d1 = ['2 June 2013', 'Aug 29, 2014', '2015-06-26', '7/12/16']\n",
    "ts3 = pd.DataFrame(np.random.randint(10, 100, (4,2)), index=d1, columns=list('ab'))\n",
    "ts3"
   ]
  },
  {
   "cell_type": "code",
   "execution_count": 250,
   "metadata": {},
   "outputs": [
    {
     "data": {
      "text/plain": [
       "pandas.core.indexes.base.Index"
      ]
     },
     "execution_count": 250,
     "metadata": {},
     "output_type": "execute_result"
    }
   ],
   "source": [
    "type(ts3.index)"
   ]
  },
  {
   "cell_type": "code",
   "execution_count": 164,
   "metadata": {},
   "outputs": [
    {
     "data": {
      "text/html": [
       "<div>\n",
       "<style scoped>\n",
       "    .dataframe tbody tr th:only-of-type {\n",
       "        vertical-align: middle;\n",
       "    }\n",
       "\n",
       "    .dataframe tbody tr th {\n",
       "        vertical-align: top;\n",
       "    }\n",
       "\n",
       "    .dataframe thead th {\n",
       "        text-align: right;\n",
       "    }\n",
       "</style>\n",
       "<table border=\"1\" class=\"dataframe\">\n",
       "  <thead>\n",
       "    <tr style=\"text-align: right;\">\n",
       "      <th></th>\n",
       "      <th>a</th>\n",
       "      <th>b</th>\n",
       "    </tr>\n",
       "  </thead>\n",
       "  <tbody>\n",
       "    <tr>\n",
       "      <th>2013-06-02</th>\n",
       "      <td>29</td>\n",
       "      <td>73</td>\n",
       "    </tr>\n",
       "    <tr>\n",
       "      <th>2014-08-29</th>\n",
       "      <td>88</td>\n",
       "      <td>44</td>\n",
       "    </tr>\n",
       "    <tr>\n",
       "      <th>2015-06-26</th>\n",
       "      <td>25</td>\n",
       "      <td>54</td>\n",
       "    </tr>\n",
       "    <tr>\n",
       "      <th>2016-07-12</th>\n",
       "      <td>29</td>\n",
       "      <td>24</td>\n",
       "    </tr>\n",
       "  </tbody>\n",
       "</table>\n",
       "</div>"
      ],
      "text/plain": [
       "             a   b\n",
       "2013-06-02  29  73\n",
       "2014-08-29  88  44\n",
       "2015-06-26  25  54\n",
       "2016-07-12  29  24"
      ]
     },
     "execution_count": 164,
     "metadata": {},
     "output_type": "execute_result"
    }
   ],
   "source": [
    "ts3.index = pd.to_datetime(ts3.index)\n",
    "ts3"
   ]
  },
  {
   "cell_type": "code",
   "execution_count": 252,
   "metadata": {},
   "outputs": [
    {
     "data": {
      "text/plain": [
       "Timestamp('2012-07-04 00:00:00')"
      ]
     },
     "execution_count": 252,
     "metadata": {},
     "output_type": "execute_result"
    }
   ],
   "source": [
    "pd.to_datetime('4.7.12', dayfirst=True)"
   ]
  },
  {
   "cell_type": "code",
   "execution_count": 165,
   "metadata": {},
   "outputs": [],
   "source": [
    "?pd.to_datetime"
   ]
  },
  {
   "cell_type": "markdown",
   "metadata": {},
   "source": [
    "### Timedeltas"
   ]
  },
  {
   "cell_type": "code",
   "execution_count": 254,
   "metadata": {},
   "outputs": [
    {
     "data": {
      "text/plain": [
       "Timedelta('2 days 00:00:00')"
      ]
     },
     "execution_count": 254,
     "metadata": {},
     "output_type": "execute_result"
    }
   ],
   "source": [
    "pd.Timestamp('9/3/2016')-pd.Timestamp('9/1/2016')"
   ]
  },
  {
   "cell_type": "code",
   "execution_count": 255,
   "metadata": {},
   "outputs": [
    {
     "data": {
      "text/plain": [
       "Timestamp('2016-09-14 11:10:00')"
      ]
     },
     "execution_count": 255,
     "metadata": {},
     "output_type": "execute_result"
    }
   ],
   "source": [
    "pd.Timestamp('9/2/2016 8:10AM') + pd.Timedelta('12D 3H')"
   ]
  },
  {
   "cell_type": "markdown",
   "metadata": {},
   "source": [
    "### Working with Dates in a Dataframe"
   ]
  },
  {
   "cell_type": "code",
   "execution_count": 256,
   "metadata": {},
   "outputs": [
    {
     "data": {
      "text/plain": [
       "DatetimeIndex(['2016-10-02', '2016-10-16', '2016-10-30', '2016-11-13',\n",
       "               '2016-11-27', '2016-12-11', '2016-12-25', '2017-01-08',\n",
       "               '2017-01-22'],\n",
       "              dtype='datetime64[ns]', freq='2W-SUN')"
      ]
     },
     "execution_count": 256,
     "metadata": {},
     "output_type": "execute_result"
    }
   ],
   "source": [
    "dates = pd.date_range('10-01-2016', periods=9, freq='2W-SUN')\n",
    "dates"
   ]
  },
  {
   "cell_type": "code",
   "execution_count": 257,
   "metadata": {},
   "outputs": [
    {
     "data": {
      "text/html": [
       "<div>\n",
       "<style scoped>\n",
       "    .dataframe tbody tr th:only-of-type {\n",
       "        vertical-align: middle;\n",
       "    }\n",
       "\n",
       "    .dataframe tbody tr th {\n",
       "        vertical-align: top;\n",
       "    }\n",
       "\n",
       "    .dataframe thead th {\n",
       "        text-align: right;\n",
       "    }\n",
       "</style>\n",
       "<table border=\"1\" class=\"dataframe\">\n",
       "  <thead>\n",
       "    <tr style=\"text-align: right;\">\n",
       "      <th></th>\n",
       "      <th>Count 1</th>\n",
       "      <th>Count 2</th>\n",
       "    </tr>\n",
       "  </thead>\n",
       "  <tbody>\n",
       "    <tr>\n",
       "      <th>2016-10-02</th>\n",
       "      <td>104</td>\n",
       "      <td>124</td>\n",
       "    </tr>\n",
       "    <tr>\n",
       "      <th>2016-10-16</th>\n",
       "      <td>110</td>\n",
       "      <td>129</td>\n",
       "    </tr>\n",
       "    <tr>\n",
       "      <th>2016-10-30</th>\n",
       "      <td>117</td>\n",
       "      <td>121</td>\n",
       "    </tr>\n",
       "    <tr>\n",
       "      <th>2016-11-13</th>\n",
       "      <td>114</td>\n",
       "      <td>121</td>\n",
       "    </tr>\n",
       "    <tr>\n",
       "      <th>2016-11-27</th>\n",
       "      <td>120</td>\n",
       "      <td>118</td>\n",
       "    </tr>\n",
       "    <tr>\n",
       "      <th>2016-12-11</th>\n",
       "      <td>115</td>\n",
       "      <td>120</td>\n",
       "    </tr>\n",
       "    <tr>\n",
       "      <th>2016-12-25</th>\n",
       "      <td>122</td>\n",
       "      <td>125</td>\n",
       "    </tr>\n",
       "    <tr>\n",
       "      <th>2017-01-08</th>\n",
       "      <td>127</td>\n",
       "      <td>125</td>\n",
       "    </tr>\n",
       "    <tr>\n",
       "      <th>2017-01-22</th>\n",
       "      <td>126</td>\n",
       "      <td>129</td>\n",
       "    </tr>\n",
       "  </tbody>\n",
       "</table>\n",
       "</div>"
      ],
      "text/plain": [
       "            Count 1  Count 2\n",
       "2016-10-02      104      124\n",
       "2016-10-16      110      129\n",
       "2016-10-30      117      121\n",
       "2016-11-13      114      121\n",
       "2016-11-27      120      118\n",
       "2016-12-11      115      120\n",
       "2016-12-25      122      125\n",
       "2017-01-08      127      125\n",
       "2017-01-22      126      129"
      ]
     },
     "execution_count": 257,
     "metadata": {},
     "output_type": "execute_result"
    }
   ],
   "source": [
    "df = pd.DataFrame({'Count 1': 100 + np.random.randint(-5, 10, 9).cumsum(),\n",
    "                  'Count 2': 120 + np.random.randint(-5, 10, 9)}, index=dates)\n",
    "df"
   ]
  },
  {
   "cell_type": "code",
   "execution_count": 258,
   "metadata": {},
   "outputs": [
    {
     "data": {
      "text/plain": [
       "Index(['Sunday', 'Sunday', 'Sunday', 'Sunday', 'Sunday', 'Sunday', 'Sunday',\n",
       "       'Sunday', 'Sunday'],\n",
       "      dtype='object')"
      ]
     },
     "execution_count": 258,
     "metadata": {},
     "output_type": "execute_result"
    }
   ],
   "source": [
    "df.index.weekday_name"
   ]
  },
  {
   "cell_type": "code",
   "execution_count": 259,
   "metadata": {},
   "outputs": [],
   "source": [
    "#df.index.month_name()"
   ]
  },
  {
   "cell_type": "code",
   "execution_count": 260,
   "metadata": {},
   "outputs": [
    {
     "data": {
      "text/plain": [
       "Int64Index([2, 16, 30, 13, 27, 11, 25, 8, 22], dtype='int64')"
      ]
     },
     "execution_count": 260,
     "metadata": {},
     "output_type": "execute_result"
    }
   ],
   "source": [
    "df.index.day"
   ]
  },
  {
   "cell_type": "code",
   "execution_count": 261,
   "metadata": {},
   "outputs": [
    {
     "data": {
      "text/html": [
       "<div>\n",
       "<style scoped>\n",
       "    .dataframe tbody tr th:only-of-type {\n",
       "        vertical-align: middle;\n",
       "    }\n",
       "\n",
       "    .dataframe tbody tr th {\n",
       "        vertical-align: top;\n",
       "    }\n",
       "\n",
       "    .dataframe thead th {\n",
       "        text-align: right;\n",
       "    }\n",
       "</style>\n",
       "<table border=\"1\" class=\"dataframe\">\n",
       "  <thead>\n",
       "    <tr style=\"text-align: right;\">\n",
       "      <th></th>\n",
       "      <th>Count 1</th>\n",
       "      <th>Count 2</th>\n",
       "    </tr>\n",
       "  </thead>\n",
       "  <tbody>\n",
       "    <tr>\n",
       "      <th>2016-10-02</th>\n",
       "      <td>NaN</td>\n",
       "      <td>NaN</td>\n",
       "    </tr>\n",
       "    <tr>\n",
       "      <th>2016-10-16</th>\n",
       "      <td>6.0</td>\n",
       "      <td>5.0</td>\n",
       "    </tr>\n",
       "    <tr>\n",
       "      <th>2016-10-30</th>\n",
       "      <td>7.0</td>\n",
       "      <td>-8.0</td>\n",
       "    </tr>\n",
       "    <tr>\n",
       "      <th>2016-11-13</th>\n",
       "      <td>-3.0</td>\n",
       "      <td>0.0</td>\n",
       "    </tr>\n",
       "    <tr>\n",
       "      <th>2016-11-27</th>\n",
       "      <td>6.0</td>\n",
       "      <td>-3.0</td>\n",
       "    </tr>\n",
       "    <tr>\n",
       "      <th>2016-12-11</th>\n",
       "      <td>-5.0</td>\n",
       "      <td>2.0</td>\n",
       "    </tr>\n",
       "    <tr>\n",
       "      <th>2016-12-25</th>\n",
       "      <td>7.0</td>\n",
       "      <td>5.0</td>\n",
       "    </tr>\n",
       "    <tr>\n",
       "      <th>2017-01-08</th>\n",
       "      <td>5.0</td>\n",
       "      <td>0.0</td>\n",
       "    </tr>\n",
       "    <tr>\n",
       "      <th>2017-01-22</th>\n",
       "      <td>-1.0</td>\n",
       "      <td>4.0</td>\n",
       "    </tr>\n",
       "  </tbody>\n",
       "</table>\n",
       "</div>"
      ],
      "text/plain": [
       "            Count 1  Count 2\n",
       "2016-10-02      NaN      NaN\n",
       "2016-10-16      6.0      5.0\n",
       "2016-10-30      7.0     -8.0\n",
       "2016-11-13     -3.0      0.0\n",
       "2016-11-27      6.0     -3.0\n",
       "2016-12-11     -5.0      2.0\n",
       "2016-12-25      7.0      5.0\n",
       "2017-01-08      5.0      0.0\n",
       "2017-01-22     -1.0      4.0"
      ]
     },
     "execution_count": 261,
     "metadata": {},
     "output_type": "execute_result"
    }
   ],
   "source": [
    "df.diff()"
   ]
  },
  {
   "cell_type": "code",
   "execution_count": 262,
   "metadata": {},
   "outputs": [
    {
     "data": {
      "text/html": [
       "<div>\n",
       "<style scoped>\n",
       "    .dataframe tbody tr th:only-of-type {\n",
       "        vertical-align: middle;\n",
       "    }\n",
       "\n",
       "    .dataframe tbody tr th {\n",
       "        vertical-align: top;\n",
       "    }\n",
       "\n",
       "    .dataframe thead th {\n",
       "        text-align: right;\n",
       "    }\n",
       "</style>\n",
       "<table border=\"1\" class=\"dataframe\">\n",
       "  <thead>\n",
       "    <tr style=\"text-align: right;\">\n",
       "      <th></th>\n",
       "      <th>Count 1</th>\n",
       "      <th>Count 2</th>\n",
       "    </tr>\n",
       "  </thead>\n",
       "  <tbody>\n",
       "    <tr>\n",
       "      <th>2016-10-31</th>\n",
       "      <td>110.333333</td>\n",
       "      <td>124.666667</td>\n",
       "    </tr>\n",
       "    <tr>\n",
       "      <th>2016-11-30</th>\n",
       "      <td>117.000000</td>\n",
       "      <td>119.500000</td>\n",
       "    </tr>\n",
       "    <tr>\n",
       "      <th>2016-12-31</th>\n",
       "      <td>118.500000</td>\n",
       "      <td>122.500000</td>\n",
       "    </tr>\n",
       "    <tr>\n",
       "      <th>2017-01-31</th>\n",
       "      <td>126.500000</td>\n",
       "      <td>127.000000</td>\n",
       "    </tr>\n",
       "  </tbody>\n",
       "</table>\n",
       "</div>"
      ],
      "text/plain": [
       "               Count 1     Count 2\n",
       "2016-10-31  110.333333  124.666667\n",
       "2016-11-30  117.000000  119.500000\n",
       "2016-12-31  118.500000  122.500000\n",
       "2017-01-31  126.500000  127.000000"
      ]
     },
     "execution_count": 262,
     "metadata": {},
     "output_type": "execute_result"
    }
   ],
   "source": [
    "df.resample('M').mean()"
   ]
  },
  {
   "cell_type": "code",
   "execution_count": 263,
   "metadata": {},
   "outputs": [
    {
     "data": {
      "text/html": [
       "<div>\n",
       "<style scoped>\n",
       "    .dataframe tbody tr th:only-of-type {\n",
       "        vertical-align: middle;\n",
       "    }\n",
       "\n",
       "    .dataframe tbody tr th {\n",
       "        vertical-align: top;\n",
       "    }\n",
       "\n",
       "    .dataframe thead th {\n",
       "        text-align: right;\n",
       "    }\n",
       "</style>\n",
       "<table border=\"1\" class=\"dataframe\">\n",
       "  <thead>\n",
       "    <tr style=\"text-align: right;\">\n",
       "      <th></th>\n",
       "      <th>Count 1</th>\n",
       "      <th>Count 2</th>\n",
       "    </tr>\n",
       "  </thead>\n",
       "  <tbody>\n",
       "    <tr>\n",
       "      <th>2017-01-08</th>\n",
       "      <td>127</td>\n",
       "      <td>125</td>\n",
       "    </tr>\n",
       "    <tr>\n",
       "      <th>2017-01-22</th>\n",
       "      <td>126</td>\n",
       "      <td>129</td>\n",
       "    </tr>\n",
       "  </tbody>\n",
       "</table>\n",
       "</div>"
      ],
      "text/plain": [
       "            Count 1  Count 2\n",
       "2017-01-08      127      125\n",
       "2017-01-22      126      129"
      ]
     },
     "execution_count": 263,
     "metadata": {},
     "output_type": "execute_result"
    }
   ],
   "source": [
    "df['2017']"
   ]
  },
  {
   "cell_type": "code",
   "execution_count": 264,
   "metadata": {},
   "outputs": [
    {
     "data": {
      "text/html": [
       "<div>\n",
       "<style scoped>\n",
       "    .dataframe tbody tr th:only-of-type {\n",
       "        vertical-align: middle;\n",
       "    }\n",
       "\n",
       "    .dataframe tbody tr th {\n",
       "        vertical-align: top;\n",
       "    }\n",
       "\n",
       "    .dataframe thead th {\n",
       "        text-align: right;\n",
       "    }\n",
       "</style>\n",
       "<table border=\"1\" class=\"dataframe\">\n",
       "  <thead>\n",
       "    <tr style=\"text-align: right;\">\n",
       "      <th></th>\n",
       "      <th>Count 1</th>\n",
       "      <th>Count 2</th>\n",
       "    </tr>\n",
       "  </thead>\n",
       "  <tbody>\n",
       "    <tr>\n",
       "      <th>2016-12-11</th>\n",
       "      <td>115</td>\n",
       "      <td>120</td>\n",
       "    </tr>\n",
       "    <tr>\n",
       "      <th>2016-12-25</th>\n",
       "      <td>122</td>\n",
       "      <td>125</td>\n",
       "    </tr>\n",
       "  </tbody>\n",
       "</table>\n",
       "</div>"
      ],
      "text/plain": [
       "            Count 1  Count 2\n",
       "2016-12-11      115      120\n",
       "2016-12-25      122      125"
      ]
     },
     "execution_count": 264,
     "metadata": {},
     "output_type": "execute_result"
    }
   ],
   "source": [
    "df['2016-12']"
   ]
  },
  {
   "cell_type": "code",
   "execution_count": 265,
   "metadata": {},
   "outputs": [
    {
     "data": {
      "text/html": [
       "<div>\n",
       "<style scoped>\n",
       "    .dataframe tbody tr th:only-of-type {\n",
       "        vertical-align: middle;\n",
       "    }\n",
       "\n",
       "    .dataframe tbody tr th {\n",
       "        vertical-align: top;\n",
       "    }\n",
       "\n",
       "    .dataframe thead th {\n",
       "        text-align: right;\n",
       "    }\n",
       "</style>\n",
       "<table border=\"1\" class=\"dataframe\">\n",
       "  <thead>\n",
       "    <tr style=\"text-align: right;\">\n",
       "      <th></th>\n",
       "      <th>Count 1</th>\n",
       "      <th>Count 2</th>\n",
       "    </tr>\n",
       "  </thead>\n",
       "  <tbody>\n",
       "    <tr>\n",
       "      <th>2016-12-11</th>\n",
       "      <td>115</td>\n",
       "      <td>120</td>\n",
       "    </tr>\n",
       "    <tr>\n",
       "      <th>2016-12-25</th>\n",
       "      <td>122</td>\n",
       "      <td>125</td>\n",
       "    </tr>\n",
       "    <tr>\n",
       "      <th>2017-01-08</th>\n",
       "      <td>127</td>\n",
       "      <td>125</td>\n",
       "    </tr>\n",
       "    <tr>\n",
       "      <th>2017-01-22</th>\n",
       "      <td>126</td>\n",
       "      <td>129</td>\n",
       "    </tr>\n",
       "  </tbody>\n",
       "</table>\n",
       "</div>"
      ],
      "text/plain": [
       "            Count 1  Count 2\n",
       "2016-12-11      115      120\n",
       "2016-12-25      122      125\n",
       "2017-01-08      127      125\n",
       "2017-01-22      126      129"
      ]
     },
     "execution_count": 265,
     "metadata": {},
     "output_type": "execute_result"
    }
   ],
   "source": [
    "df['2016-12':]"
   ]
  },
  {
   "cell_type": "markdown",
   "metadata": {},
   "source": [
    "## Categoricals"
   ]
  },
  {
   "cell_type": "markdown",
   "metadata": {},
   "source": [
    "Categorical Data\n",
    "\n",
    "Categoricals are a pandas data type, which correspond to categorical variables in statistics: a variable, which can take on only a limited, and usually fixed, number of possible values (categories; levels in R). Examples are gender, social class, blood types, country affiliations, observation time or ratings via Likert scales.\n",
    "\n",
    "In contrast to statistical categorical variables, categorical data might have an order (e.g. ‘strongly agree’ vs ‘agree’ or ‘first observation’ vs. ‘second observation’), but numerical operations (additions, divisions, ...) are not possible.\n",
    "\n",
    "All values of categorical data are either in categories or np.nan. Order is defined by the order of categories, not lexical order of the values. Internally, the data structure consists of a categories array and an integer array of codes which point to the real value in the categories array.\n",
    "\n",
    "The categorical data type is useful in the following cases:\n",
    "\n",
    "    (a) A string variable consisting of only a few different values. Converting such a string variable to a categorical variable will save some memory, see here.\n",
    "    (b) The lexical order of a variable is not the same as the logical order (“one”, “two”, “three”). By converting to a categorical and specifying an order on the categories, sorting and min/max will use the logical order instead of the lexical order, see here.\n",
    "    (c) As a signal to other python libraries that this column should be treated as a categorical variable (e.g. to use suitable statistical methods or plot types).\n",
    "\n",
    "\n",
    "\n",
    "See also [API documentation](http://pandas.pydata.org/pandas-docs/stable/api.html#api-categorical)."
   ]
  },
  {
   "cell_type": "code",
   "execution_count": 35,
   "metadata": {},
   "outputs": [
    {
     "data": {
      "text/html": [
       "<div>\n",
       "<style scoped>\n",
       "    .dataframe tbody tr th:only-of-type {\n",
       "        vertical-align: middle;\n",
       "    }\n",
       "\n",
       "    .dataframe tbody tr th {\n",
       "        vertical-align: top;\n",
       "    }\n",
       "\n",
       "    .dataframe thead th {\n",
       "        text-align: right;\n",
       "    }\n",
       "</style>\n",
       "<table border=\"1\" class=\"dataframe\">\n",
       "  <thead>\n",
       "    <tr style=\"text-align: right;\">\n",
       "      <th></th>\n",
       "      <th>id</th>\n",
       "      <th>raw_grade</th>\n",
       "    </tr>\n",
       "  </thead>\n",
       "  <tbody>\n",
       "    <tr>\n",
       "      <th>0</th>\n",
       "      <td>1</td>\n",
       "      <td>a</td>\n",
       "    </tr>\n",
       "    <tr>\n",
       "      <th>1</th>\n",
       "      <td>2</td>\n",
       "      <td>b</td>\n",
       "    </tr>\n",
       "    <tr>\n",
       "      <th>2</th>\n",
       "      <td>3</td>\n",
       "      <td>b</td>\n",
       "    </tr>\n",
       "    <tr>\n",
       "      <th>3</th>\n",
       "      <td>4</td>\n",
       "      <td>a</td>\n",
       "    </tr>\n",
       "    <tr>\n",
       "      <th>4</th>\n",
       "      <td>5</td>\n",
       "      <td>a</td>\n",
       "    </tr>\n",
       "    <tr>\n",
       "      <th>5</th>\n",
       "      <td>6</td>\n",
       "      <td>e</td>\n",
       "    </tr>\n",
       "    <tr>\n",
       "      <th>6</th>\n",
       "      <td>7</td>\n",
       "      <td>c</td>\n",
       "    </tr>\n",
       "  </tbody>\n",
       "</table>\n",
       "</div>"
      ],
      "text/plain": [
       "   id raw_grade\n",
       "0   1         a\n",
       "1   2         b\n",
       "2   3         b\n",
       "3   4         a\n",
       "4   5         a\n",
       "5   6         e\n",
       "6   7         c"
      ]
     },
     "execution_count": 35,
     "metadata": {},
     "output_type": "execute_result"
    }
   ],
   "source": [
    "import pandas as pd\n",
    "df = pd.DataFrame({\"id\":[1,2,3,4,5,6,7], \"raw_grade\":['a', 'b', 'b', 'a', 'a', 'e', \"c\"]})\n",
    "df"
   ]
  },
  {
   "cell_type": "markdown",
   "metadata": {},
   "source": [
    "Convert the raw grades to a categorical data type."
   ]
  },
  {
   "cell_type": "code",
   "execution_count": 36,
   "metadata": {},
   "outputs": [],
   "source": [
    "df[\"grade\"] = df[\"raw_grade\"].astype(\"category\")"
   ]
  },
  {
   "cell_type": "code",
   "execution_count": 37,
   "metadata": {},
   "outputs": [
    {
     "data": {
      "text/html": [
       "<div>\n",
       "<style scoped>\n",
       "    .dataframe tbody tr th:only-of-type {\n",
       "        vertical-align: middle;\n",
       "    }\n",
       "\n",
       "    .dataframe tbody tr th {\n",
       "        vertical-align: top;\n",
       "    }\n",
       "\n",
       "    .dataframe thead th {\n",
       "        text-align: right;\n",
       "    }\n",
       "</style>\n",
       "<table border=\"1\" class=\"dataframe\">\n",
       "  <thead>\n",
       "    <tr style=\"text-align: right;\">\n",
       "      <th></th>\n",
       "      <th>id</th>\n",
       "      <th>raw_grade</th>\n",
       "      <th>grade</th>\n",
       "    </tr>\n",
       "  </thead>\n",
       "  <tbody>\n",
       "    <tr>\n",
       "      <th>0</th>\n",
       "      <td>1</td>\n",
       "      <td>a</td>\n",
       "      <td>a</td>\n",
       "    </tr>\n",
       "    <tr>\n",
       "      <th>1</th>\n",
       "      <td>2</td>\n",
       "      <td>b</td>\n",
       "      <td>b</td>\n",
       "    </tr>\n",
       "    <tr>\n",
       "      <th>2</th>\n",
       "      <td>3</td>\n",
       "      <td>b</td>\n",
       "      <td>b</td>\n",
       "    </tr>\n",
       "    <tr>\n",
       "      <th>3</th>\n",
       "      <td>4</td>\n",
       "      <td>a</td>\n",
       "      <td>a</td>\n",
       "    </tr>\n",
       "    <tr>\n",
       "      <th>4</th>\n",
       "      <td>5</td>\n",
       "      <td>a</td>\n",
       "      <td>a</td>\n",
       "    </tr>\n",
       "    <tr>\n",
       "      <th>5</th>\n",
       "      <td>6</td>\n",
       "      <td>e</td>\n",
       "      <td>e</td>\n",
       "    </tr>\n",
       "    <tr>\n",
       "      <th>6</th>\n",
       "      <td>7</td>\n",
       "      <td>c</td>\n",
       "      <td>c</td>\n",
       "    </tr>\n",
       "  </tbody>\n",
       "</table>\n",
       "</div>"
      ],
      "text/plain": [
       "   id raw_grade grade\n",
       "0   1         a     a\n",
       "1   2         b     b\n",
       "2   3         b     b\n",
       "3   4         a     a\n",
       "4   5         a     a\n",
       "5   6         e     e\n",
       "6   7         c     c"
      ]
     },
     "execution_count": 37,
     "metadata": {},
     "output_type": "execute_result"
    }
   ],
   "source": [
    "df"
   ]
  },
  {
   "cell_type": "code",
   "execution_count": 38,
   "metadata": {
    "scrolled": true
   },
   "outputs": [
    {
     "data": {
      "text/plain": [
       "0    a\n",
       "1    b\n",
       "2    b\n",
       "3    a\n",
       "4    a\n",
       "5    e\n",
       "6    c\n",
       "Name: grade, dtype: category\n",
       "Categories (4, object): [a, b, c, e]"
      ]
     },
     "execution_count": 38,
     "metadata": {},
     "output_type": "execute_result"
    }
   ],
   "source": [
    "df[\"grade\"]"
   ]
  },
  {
   "cell_type": "code",
   "execution_count": 39,
   "metadata": {},
   "outputs": [
    {
     "data": {
      "text/plain": [
       "Index(['a', 'b', 'c', 'e'], dtype='object')"
      ]
     },
     "execution_count": 39,
     "metadata": {},
     "output_type": "execute_result"
    }
   ],
   "source": [
    "df[\"grade\"].cat.categories"
   ]
  },
  {
   "cell_type": "markdown",
   "metadata": {},
   "source": [
    "Rename the categories to more meaningful names (assigning to `Series.cat.categories` is inplace!)"
   ]
  },
  {
   "cell_type": "code",
   "execution_count": 40,
   "metadata": {},
   "outputs": [],
   "source": [
    "df[\"grade\"].cat.categories = [\"very good\", \"good\",\"very bad\",  \"medium\"]"
   ]
  },
  {
   "cell_type": "code",
   "execution_count": 41,
   "metadata": {},
   "outputs": [
    {
     "data": {
      "text/plain": [
       "Index(['very good', 'good', 'very bad', 'medium'], dtype='object')"
      ]
     },
     "execution_count": 41,
     "metadata": {},
     "output_type": "execute_result"
    }
   ],
   "source": [
    "df[\"grade\"].cat.categories"
   ]
  },
  {
   "cell_type": "code",
   "execution_count": 42,
   "metadata": {},
   "outputs": [
    {
     "data": {
      "text/html": [
       "<div>\n",
       "<style scoped>\n",
       "    .dataframe tbody tr th:only-of-type {\n",
       "        vertical-align: middle;\n",
       "    }\n",
       "\n",
       "    .dataframe tbody tr th {\n",
       "        vertical-align: top;\n",
       "    }\n",
       "\n",
       "    .dataframe thead th {\n",
       "        text-align: right;\n",
       "    }\n",
       "</style>\n",
       "<table border=\"1\" class=\"dataframe\">\n",
       "  <thead>\n",
       "    <tr style=\"text-align: right;\">\n",
       "      <th></th>\n",
       "      <th>id</th>\n",
       "      <th>raw_grade</th>\n",
       "      <th>grade</th>\n",
       "    </tr>\n",
       "  </thead>\n",
       "  <tbody>\n",
       "    <tr>\n",
       "      <th>0</th>\n",
       "      <td>1</td>\n",
       "      <td>a</td>\n",
       "      <td>very good</td>\n",
       "    </tr>\n",
       "    <tr>\n",
       "      <th>1</th>\n",
       "      <td>2</td>\n",
       "      <td>b</td>\n",
       "      <td>good</td>\n",
       "    </tr>\n",
       "    <tr>\n",
       "      <th>2</th>\n",
       "      <td>3</td>\n",
       "      <td>b</td>\n",
       "      <td>good</td>\n",
       "    </tr>\n",
       "    <tr>\n",
       "      <th>3</th>\n",
       "      <td>4</td>\n",
       "      <td>a</td>\n",
       "      <td>very good</td>\n",
       "    </tr>\n",
       "    <tr>\n",
       "      <th>4</th>\n",
       "      <td>5</td>\n",
       "      <td>a</td>\n",
       "      <td>very good</td>\n",
       "    </tr>\n",
       "    <tr>\n",
       "      <th>5</th>\n",
       "      <td>6</td>\n",
       "      <td>e</td>\n",
       "      <td>medium</td>\n",
       "    </tr>\n",
       "    <tr>\n",
       "      <th>6</th>\n",
       "      <td>7</td>\n",
       "      <td>c</td>\n",
       "      <td>very bad</td>\n",
       "    </tr>\n",
       "  </tbody>\n",
       "</table>\n",
       "</div>"
      ],
      "text/plain": [
       "   id raw_grade      grade\n",
       "0   1         a  very good\n",
       "1   2         b       good\n",
       "2   3         b       good\n",
       "3   4         a  very good\n",
       "4   5         a  very good\n",
       "5   6         e     medium\n",
       "6   7         c   very bad"
      ]
     },
     "execution_count": 42,
     "metadata": {},
     "output_type": "execute_result"
    }
   ],
   "source": [
    "df"
   ]
  },
  {
   "cell_type": "markdown",
   "metadata": {},
   "source": [
    "Reorder the categories and simultaneously add the missing categories (methods under `Series .cat` return a new `Series` per default)."
   ]
  },
  {
   "cell_type": "code",
   "execution_count": 45,
   "metadata": {},
   "outputs": [],
   "source": [
    "df[\"grade\"] = df[\"grade\"].cat.set_categories([\"very bad\", \"bad\", \"medium\", \"good\", \"very good\"])"
   ]
  },
  {
   "cell_type": "code",
   "execution_count": 48,
   "metadata": {},
   "outputs": [
    {
     "data": {
      "text/html": [
       "<div>\n",
       "<style scoped>\n",
       "    .dataframe tbody tr th:only-of-type {\n",
       "        vertical-align: middle;\n",
       "    }\n",
       "\n",
       "    .dataframe tbody tr th {\n",
       "        vertical-align: top;\n",
       "    }\n",
       "\n",
       "    .dataframe thead th {\n",
       "        text-align: right;\n",
       "    }\n",
       "</style>\n",
       "<table border=\"1\" class=\"dataframe\">\n",
       "  <thead>\n",
       "    <tr style=\"text-align: right;\">\n",
       "      <th></th>\n",
       "      <th>id</th>\n",
       "      <th>raw_grade</th>\n",
       "      <th>grade</th>\n",
       "    </tr>\n",
       "  </thead>\n",
       "  <tbody>\n",
       "    <tr>\n",
       "      <th>0</th>\n",
       "      <td>1</td>\n",
       "      <td>a</td>\n",
       "      <td>very good</td>\n",
       "    </tr>\n",
       "    <tr>\n",
       "      <th>1</th>\n",
       "      <td>2</td>\n",
       "      <td>b</td>\n",
       "      <td>good</td>\n",
       "    </tr>\n",
       "    <tr>\n",
       "      <th>2</th>\n",
       "      <td>3</td>\n",
       "      <td>b</td>\n",
       "      <td>good</td>\n",
       "    </tr>\n",
       "    <tr>\n",
       "      <th>3</th>\n",
       "      <td>4</td>\n",
       "      <td>a</td>\n",
       "      <td>very good</td>\n",
       "    </tr>\n",
       "    <tr>\n",
       "      <th>4</th>\n",
       "      <td>5</td>\n",
       "      <td>a</td>\n",
       "      <td>very good</td>\n",
       "    </tr>\n",
       "    <tr>\n",
       "      <th>5</th>\n",
       "      <td>6</td>\n",
       "      <td>e</td>\n",
       "      <td>medium</td>\n",
       "    </tr>\n",
       "    <tr>\n",
       "      <th>6</th>\n",
       "      <td>7</td>\n",
       "      <td>c</td>\n",
       "      <td>very bad</td>\n",
       "    </tr>\n",
       "  </tbody>\n",
       "</table>\n",
       "</div>"
      ],
      "text/plain": [
       "   id raw_grade      grade\n",
       "0   1         a  very good\n",
       "1   2         b       good\n",
       "2   3         b       good\n",
       "3   4         a  very good\n",
       "4   5         a  very good\n",
       "5   6         e     medium\n",
       "6   7         c   very bad"
      ]
     },
     "execution_count": 48,
     "metadata": {},
     "output_type": "execute_result"
    }
   ],
   "source": [
    "df"
   ]
  },
  {
   "cell_type": "markdown",
   "metadata": {},
   "source": [
    "Sorting is per order in the categories, not lexical order."
   ]
  },
  {
   "cell_type": "code",
   "execution_count": 49,
   "metadata": {
    "scrolled": true
   },
   "outputs": [
    {
     "data": {
      "text/html": [
       "<div>\n",
       "<style scoped>\n",
       "    .dataframe tbody tr th:only-of-type {\n",
       "        vertical-align: middle;\n",
       "    }\n",
       "\n",
       "    .dataframe tbody tr th {\n",
       "        vertical-align: top;\n",
       "    }\n",
       "\n",
       "    .dataframe thead th {\n",
       "        text-align: right;\n",
       "    }\n",
       "</style>\n",
       "<table border=\"1\" class=\"dataframe\">\n",
       "  <thead>\n",
       "    <tr style=\"text-align: right;\">\n",
       "      <th></th>\n",
       "      <th>id</th>\n",
       "      <th>raw_grade</th>\n",
       "      <th>grade</th>\n",
       "    </tr>\n",
       "  </thead>\n",
       "  <tbody>\n",
       "    <tr>\n",
       "      <th>6</th>\n",
       "      <td>7</td>\n",
       "      <td>c</td>\n",
       "      <td>very bad</td>\n",
       "    </tr>\n",
       "    <tr>\n",
       "      <th>5</th>\n",
       "      <td>6</td>\n",
       "      <td>e</td>\n",
       "      <td>medium</td>\n",
       "    </tr>\n",
       "    <tr>\n",
       "      <th>1</th>\n",
       "      <td>2</td>\n",
       "      <td>b</td>\n",
       "      <td>good</td>\n",
       "    </tr>\n",
       "    <tr>\n",
       "      <th>2</th>\n",
       "      <td>3</td>\n",
       "      <td>b</td>\n",
       "      <td>good</td>\n",
       "    </tr>\n",
       "    <tr>\n",
       "      <th>0</th>\n",
       "      <td>1</td>\n",
       "      <td>a</td>\n",
       "      <td>very good</td>\n",
       "    </tr>\n",
       "    <tr>\n",
       "      <th>3</th>\n",
       "      <td>4</td>\n",
       "      <td>a</td>\n",
       "      <td>very good</td>\n",
       "    </tr>\n",
       "    <tr>\n",
       "      <th>4</th>\n",
       "      <td>5</td>\n",
       "      <td>a</td>\n",
       "      <td>very good</td>\n",
       "    </tr>\n",
       "  </tbody>\n",
       "</table>\n",
       "</div>"
      ],
      "text/plain": [
       "   id raw_grade      grade\n",
       "6   7         c   very bad\n",
       "5   6         e     medium\n",
       "1   2         b       good\n",
       "2   3         b       good\n",
       "0   1         a  very good\n",
       "3   4         a  very good\n",
       "4   5         a  very good"
      ]
     },
     "execution_count": 49,
     "metadata": {},
     "output_type": "execute_result"
    }
   ],
   "source": [
    "df.sort_values(by=\"grade\")"
   ]
  },
  {
   "cell_type": "code",
   "execution_count": 277,
   "metadata": {},
   "outputs": [
    {
     "data": {
      "text/plain": [
       "pandas.core.series.Series"
      ]
     },
     "execution_count": 277,
     "metadata": {},
     "output_type": "execute_result"
    }
   ],
   "source": [
    "type(df.grade)"
   ]
  },
  {
   "cell_type": "markdown",
   "metadata": {},
   "source": [
    "Grouping by a categorical column shows also empty categories."
   ]
  },
  {
   "cell_type": "code",
   "execution_count": 278,
   "metadata": {
    "scrolled": true
   },
   "outputs": [
    {
     "data": {
      "text/plain": [
       "grade\n",
       "very bad     1\n",
       "bad          0\n",
       "medium       1\n",
       "good         2\n",
       "very good    3\n",
       "dtype: int64"
      ]
     },
     "execution_count": 278,
     "metadata": {},
     "output_type": "execute_result"
    }
   ],
   "source": [
    "df.groupby(\"grade\").size()"
   ]
  },
  {
   "cell_type": "code",
   "execution_count": 279,
   "metadata": {},
   "outputs": [],
   "source": [
    "?pd.DataFrame().cat.set_categories("
   ]
  },
  {
   "cell_type": "markdown",
   "metadata": {},
   "source": [
    "## Plotting"
   ]
  },
  {
   "cell_type": "markdown",
   "metadata": {},
   "source": [
    "[Plotting](http://pandas.pydata.org/pandas-docs/stable/visualization.html#visualization) docs."
   ]
  },
  {
   "cell_type": "code",
   "execution_count": 86,
   "metadata": {},
   "outputs": [
    {
     "ename": "KeyError",
     "evalue": "'inline\"\"'",
     "output_type": "error",
     "traceback": [
      "\u001b[0;31m---------------------------------------------------------------------------\u001b[0m",
      "\u001b[0;31mKeyError\u001b[0m                                  Traceback (most recent call last)",
      "\u001b[0;32m<ipython-input-86-4a0f6f7cd1c6>\u001b[0m in \u001b[0;36m<module>\u001b[0;34m()\u001b[0m\n\u001b[1;32m      2\u001b[0m \u001b[0;32mimport\u001b[0m \u001b[0mnumpy\u001b[0m \u001b[0;32mas\u001b[0m \u001b[0mnp\u001b[0m\u001b[0;34m\u001b[0m\u001b[0m\n\u001b[1;32m      3\u001b[0m \u001b[0;32mfrom\u001b[0m \u001b[0mmatplotlib\u001b[0m \u001b[0;32mimport\u001b[0m \u001b[0mpyplot\u001b[0m \u001b[0;32mas\u001b[0m \u001b[0mplt\u001b[0m\u001b[0;34m\u001b[0m\u001b[0m\n\u001b[0;32m----> 4\u001b[0;31m \u001b[0mget_ipython\u001b[0m\u001b[0;34m(\u001b[0m\u001b[0;34m)\u001b[0m\u001b[0;34m.\u001b[0m\u001b[0mrun_line_magic\u001b[0m\u001b[0;34m(\u001b[0m\u001b[0;34m'matplotlib'\u001b[0m\u001b[0;34m,\u001b[0m \u001b[0;34m'inline\"\"'\u001b[0m\u001b[0;34m)\u001b[0m\u001b[0;34m\u001b[0m\u001b[0m\n\u001b[0m",
      "\u001b[0;32m/usr/local/lib/python3.5/dist-packages/IPython/core/interactiveshell.py\u001b[0m in \u001b[0;36mrun_line_magic\u001b[0;34m(self, magic_name, line, _stack_depth)\u001b[0m\n\u001b[1;32m   2093\u001b[0m                 \u001b[0mkwargs\u001b[0m\u001b[0;34m[\u001b[0m\u001b[0;34m'local_ns'\u001b[0m\u001b[0;34m]\u001b[0m \u001b[0;34m=\u001b[0m \u001b[0msys\u001b[0m\u001b[0;34m.\u001b[0m\u001b[0m_getframe\u001b[0m\u001b[0;34m(\u001b[0m\u001b[0mstack_depth\u001b[0m\u001b[0;34m)\u001b[0m\u001b[0;34m.\u001b[0m\u001b[0mf_locals\u001b[0m\u001b[0;34m\u001b[0m\u001b[0m\n\u001b[1;32m   2094\u001b[0m             \u001b[0;32mwith\u001b[0m \u001b[0mself\u001b[0m\u001b[0;34m.\u001b[0m\u001b[0mbuiltin_trap\u001b[0m\u001b[0;34m:\u001b[0m\u001b[0;34m\u001b[0m\u001b[0m\n\u001b[0;32m-> 2095\u001b[0;31m                 \u001b[0mresult\u001b[0m \u001b[0;34m=\u001b[0m \u001b[0mfn\u001b[0m\u001b[0;34m(\u001b[0m\u001b[0;34m*\u001b[0m\u001b[0margs\u001b[0m\u001b[0;34m,\u001b[0m\u001b[0;34m**\u001b[0m\u001b[0mkwargs\u001b[0m\u001b[0;34m)\u001b[0m\u001b[0;34m\u001b[0m\u001b[0m\n\u001b[0m\u001b[1;32m   2096\u001b[0m             \u001b[0;32mreturn\u001b[0m \u001b[0mresult\u001b[0m\u001b[0;34m\u001b[0m\u001b[0m\n\u001b[1;32m   2097\u001b[0m \u001b[0;34m\u001b[0m\u001b[0m\n",
      "\u001b[0;32m</usr/local/lib/python3.5/dist-packages/decorator.py:decorator-gen-107>\u001b[0m in \u001b[0;36mmatplotlib\u001b[0;34m(self, line)\u001b[0m\n",
      "\u001b[0;32m/usr/local/lib/python3.5/dist-packages/IPython/core/magic.py\u001b[0m in \u001b[0;36m<lambda>\u001b[0;34m(f, *a, **k)\u001b[0m\n\u001b[1;32m    185\u001b[0m     \u001b[0;31m# but it's overkill for just that one bit of state.\u001b[0m\u001b[0;34m\u001b[0m\u001b[0;34m\u001b[0m\u001b[0m\n\u001b[1;32m    186\u001b[0m     \u001b[0;32mdef\u001b[0m \u001b[0mmagic_deco\u001b[0m\u001b[0;34m(\u001b[0m\u001b[0marg\u001b[0m\u001b[0;34m)\u001b[0m\u001b[0;34m:\u001b[0m\u001b[0;34m\u001b[0m\u001b[0m\n\u001b[0;32m--> 187\u001b[0;31m         \u001b[0mcall\u001b[0m \u001b[0;34m=\u001b[0m \u001b[0;32mlambda\u001b[0m \u001b[0mf\u001b[0m\u001b[0;34m,\u001b[0m \u001b[0;34m*\u001b[0m\u001b[0ma\u001b[0m\u001b[0;34m,\u001b[0m \u001b[0;34m**\u001b[0m\u001b[0mk\u001b[0m\u001b[0;34m:\u001b[0m \u001b[0mf\u001b[0m\u001b[0;34m(\u001b[0m\u001b[0;34m*\u001b[0m\u001b[0ma\u001b[0m\u001b[0;34m,\u001b[0m \u001b[0;34m**\u001b[0m\u001b[0mk\u001b[0m\u001b[0;34m)\u001b[0m\u001b[0;34m\u001b[0m\u001b[0m\n\u001b[0m\u001b[1;32m    188\u001b[0m \u001b[0;34m\u001b[0m\u001b[0m\n\u001b[1;32m    189\u001b[0m         \u001b[0;32mif\u001b[0m \u001b[0mcallable\u001b[0m\u001b[0;34m(\u001b[0m\u001b[0marg\u001b[0m\u001b[0;34m)\u001b[0m\u001b[0;34m:\u001b[0m\u001b[0;34m\u001b[0m\u001b[0m\n",
      "\u001b[0;32m/usr/local/lib/python3.5/dist-packages/IPython/core/magics/pylab.py\u001b[0m in \u001b[0;36mmatplotlib\u001b[0;34m(self, line)\u001b[0m\n\u001b[1;32m     97\u001b[0m             \u001b[0mprint\u001b[0m\u001b[0;34m(\u001b[0m\u001b[0;34m\"Available matplotlib backends: %s\"\u001b[0m \u001b[0;34m%\u001b[0m \u001b[0mbackends_list\u001b[0m\u001b[0;34m)\u001b[0m\u001b[0;34m\u001b[0m\u001b[0m\n\u001b[1;32m     98\u001b[0m         \u001b[0;32melse\u001b[0m\u001b[0;34m:\u001b[0m\u001b[0;34m\u001b[0m\u001b[0m\n\u001b[0;32m---> 99\u001b[0;31m             \u001b[0mgui\u001b[0m\u001b[0;34m,\u001b[0m \u001b[0mbackend\u001b[0m \u001b[0;34m=\u001b[0m \u001b[0mself\u001b[0m\u001b[0;34m.\u001b[0m\u001b[0mshell\u001b[0m\u001b[0;34m.\u001b[0m\u001b[0menable_matplotlib\u001b[0m\u001b[0;34m(\u001b[0m\u001b[0margs\u001b[0m\u001b[0;34m.\u001b[0m\u001b[0mgui\u001b[0m\u001b[0;34m)\u001b[0m\u001b[0;34m\u001b[0m\u001b[0m\n\u001b[0m\u001b[1;32m    100\u001b[0m             \u001b[0mself\u001b[0m\u001b[0;34m.\u001b[0m\u001b[0m_show_matplotlib_backend\u001b[0m\u001b[0;34m(\u001b[0m\u001b[0margs\u001b[0m\u001b[0;34m.\u001b[0m\u001b[0mgui\u001b[0m\u001b[0;34m,\u001b[0m \u001b[0mbackend\u001b[0m\u001b[0;34m)\u001b[0m\u001b[0;34m\u001b[0m\u001b[0m\n\u001b[1;32m    101\u001b[0m \u001b[0;34m\u001b[0m\u001b[0m\n",
      "\u001b[0;32m/usr/local/lib/python3.5/dist-packages/IPython/core/interactiveshell.py\u001b[0m in \u001b[0;36menable_matplotlib\u001b[0;34m(self, gui)\u001b[0m\n\u001b[1;32m   2964\u001b[0m         \"\"\"\n\u001b[1;32m   2965\u001b[0m         \u001b[0;32mfrom\u001b[0m \u001b[0mIPython\u001b[0m\u001b[0;34m.\u001b[0m\u001b[0mcore\u001b[0m \u001b[0;32mimport\u001b[0m \u001b[0mpylabtools\u001b[0m \u001b[0;32mas\u001b[0m \u001b[0mpt\u001b[0m\u001b[0;34m\u001b[0m\u001b[0m\n\u001b[0;32m-> 2966\u001b[0;31m         \u001b[0mgui\u001b[0m\u001b[0;34m,\u001b[0m \u001b[0mbackend\u001b[0m \u001b[0;34m=\u001b[0m \u001b[0mpt\u001b[0m\u001b[0;34m.\u001b[0m\u001b[0mfind_gui_and_backend\u001b[0m\u001b[0;34m(\u001b[0m\u001b[0mgui\u001b[0m\u001b[0;34m,\u001b[0m \u001b[0mself\u001b[0m\u001b[0;34m.\u001b[0m\u001b[0mpylab_gui_select\u001b[0m\u001b[0;34m)\u001b[0m\u001b[0;34m\u001b[0m\u001b[0m\n\u001b[0m\u001b[1;32m   2967\u001b[0m \u001b[0;34m\u001b[0m\u001b[0m\n\u001b[1;32m   2968\u001b[0m         \u001b[0;32mif\u001b[0m \u001b[0mgui\u001b[0m \u001b[0;34m!=\u001b[0m \u001b[0;34m'inline'\u001b[0m\u001b[0;34m:\u001b[0m\u001b[0;34m\u001b[0m\u001b[0m\n",
      "\u001b[0;32m/usr/local/lib/python3.5/dist-packages/IPython/core/pylabtools.py\u001b[0m in \u001b[0;36mfind_gui_and_backend\u001b[0;34m(gui, gui_select)\u001b[0m\n\u001b[1;32m    272\u001b[0m     \u001b[0;32mif\u001b[0m \u001b[0mgui\u001b[0m \u001b[0;32mand\u001b[0m \u001b[0mgui\u001b[0m \u001b[0;34m!=\u001b[0m \u001b[0;34m'auto'\u001b[0m\u001b[0;34m:\u001b[0m\u001b[0;34m\u001b[0m\u001b[0m\n\u001b[1;32m    273\u001b[0m         \u001b[0;31m# select backend based on requested gui\u001b[0m\u001b[0;34m\u001b[0m\u001b[0;34m\u001b[0m\u001b[0m\n\u001b[0;32m--> 274\u001b[0;31m         \u001b[0mbackend\u001b[0m \u001b[0;34m=\u001b[0m \u001b[0mbackends\u001b[0m\u001b[0;34m[\u001b[0m\u001b[0mgui\u001b[0m\u001b[0;34m]\u001b[0m\u001b[0;34m\u001b[0m\u001b[0m\n\u001b[0m\u001b[1;32m    275\u001b[0m         \u001b[0;32mif\u001b[0m \u001b[0mgui\u001b[0m \u001b[0;34m==\u001b[0m \u001b[0;34m'agg'\u001b[0m\u001b[0;34m:\u001b[0m\u001b[0;34m\u001b[0m\u001b[0m\n\u001b[1;32m    276\u001b[0m             \u001b[0mgui\u001b[0m \u001b[0;34m=\u001b[0m \u001b[0;32mNone\u001b[0m\u001b[0;34m\u001b[0m\u001b[0m\n",
      "\u001b[0;31mKeyError\u001b[0m: 'inline\"\"'"
     ]
    }
   ],
   "source": [
    "import pandas as pd\n",
    "import numpy as np\n",
    "from matplotlib import pyplot as plt\n",
    "%matplotlib inline\"\"\n"
   ]
  },
  {
   "cell_type": "code",
   "execution_count": null,
   "metadata": {},
   "outputs": [],
   "source": [
    "ts = pd.Series(np.random.randn(1000), index=pd.date_range('1/1/2000', periods=1000))"
   ]
  },
  {
   "cell_type": "code",
   "execution_count": null,
   "metadata": {},
   "outputs": [],
   "source": [
    "ts = ts.cumsum()"
   ]
  },
  {
   "cell_type": "code",
   "execution_count": null,
   "metadata": {},
   "outputs": [],
   "source": [
    "ts.head()"
   ]
  },
  {
   "cell_type": "code",
   "execution_count": 87,
   "metadata": {
    "scrolled": true
   },
   "outputs": [
    {
     "data": {
      "text/plain": [
       "<matplotlib.axes._subplots.AxesSubplot at 0x7efbbb2e2860>"
      ]
     },
     "execution_count": 87,
     "metadata": {},
     "output_type": "execute_result"
    },
    {
     "data": {
      "image/png": "[encoded data removed]",
      "text/plain": [
       "<matplotlib.figure.Figure at 0x7efbbb32cf98>"
      ]
     },
     "metadata": {},
     "output_type": "display_data"
    }
   ],
   "source": [
    "ts.plot()"
   ]
  },
  {
   "cell_type": "markdown",
   "metadata": {},
   "source": [
    "On DataFrame, [plot()](http://pandas.pydata.org/pandas-docs/stable/generated/pandas.DataFrame.plot.html#pandas.DataFrame.plot) is a convenience to plot all of the columns with labels:"
   ]
  },
  {
   "cell_type": "code",
   "execution_count": 88,
   "metadata": {},
   "outputs": [],
   "source": [
    "df = pd.DataFrame(np.random.randn(1000, 4), index=ts.index,\n",
    "                  columns=['A', 'B', 'C', 'D'])"
   ]
  },
  {
   "cell_type": "code",
   "execution_count": 89,
   "metadata": {},
   "outputs": [],
   "source": [
    "df = df.cumsum()"
   ]
  },
  {
   "cell_type": "code",
   "execution_count": 90,
   "metadata": {},
   "outputs": [
    {
     "data": {
      "text/plain": [
       "<matplotlib.legend.Legend at 0x7efbbb264da0>"
      ]
     },
     "execution_count": 90,
     "metadata": {},
     "output_type": "execute_result"
    },
    {
     "data": {
      "text/plain": [
       "<matplotlib.figure.Figure at 0x7efbbb280780>"
      ]
     },
     "metadata": {},
     "output_type": "display_data"
    },
    {
     "data": {
      "image/png": "[encoded data removed]",
      "text/plain": [
       "<matplotlib.figure.Figure at 0x7efbbb2726d8>"
      ]
     },
     "metadata": {},
     "output_type": "display_data"
    }
   ],
   "source": [
    "plt.figure(); df.plot(); plt.legend(loc='best')"
   ]
  },
  {
   "cell_type": "markdown",
   "metadata": {},
   "source": [
    "## Getting Data In/Out "
   ]
  },
  {
   "cell_type": "markdown",
   "metadata": {},
   "source": [
    "### CSV"
   ]
  },
  {
   "cell_type": "markdown",
   "metadata": {},
   "source": [
    "Writing to CSV format\n",
    "\n",
    "The Series and DataFrame objects have an instance method to_csv which allows storing the contents of the object as a comma-separated-values file. The function takes a number of arguments. Only the first is required.\n",
    "\n",
    "        path_or_buf: A string path to the file to write or a StringIO\n",
    "        sep : Field delimiter for the output file (default ”,”)\n",
    "        na_rep: A string representation of a missing value (default ‘’)\n",
    "        float_format: Format string for floating point numbers\n",
    "        cols: Columns to write (default None)\n",
    "        header: Whether to write out the column names (default True)\n",
    "        index: whether to write row (index) names (default True)\n",
    "        index_label: Column label(s) for index column(s) if desired. If None (default), and header and index are True, then the index names are used. (A sequence should be given if the DataFrame uses MultiIndex).\n",
    "        mode : Python write mode, default ‘w’\n",
    "        encoding: a string representing the encoding to use if the contents are non-ASCII, for python versions prior to 3\n",
    "        line_terminator: Character sequence denoting line end (default ‘\\n’)\n",
    "        quoting: Set quoting rules as in csv module (default csv.QUOTE_MINIMAL). Note that if you have set a float_format then floats are converted to strings and csv.QUOTE_NONNUMERIC will treat them as non-numeric\n",
    "        quotechar: Character used to quote fields (default ‘”’)\n",
    "        doublequote: Control quoting of quotechar in fields (default True)\n",
    "        escapechar: Character used to escape sep and quotechar when appropriate (default None)\n",
    "        chunksize: Number of rows to write at a time\n",
    "        tupleize_cols: If False (default), write as a list of tuples, otherwise write in an expanded line format suitable for read_csv\n",
    "        date_format: Format string for datetime objects\n",
    "\n",
    "\n",
    "[Writing to a csv file](http://pandas.pydata.org/pandas-docs/stable/io.html#io-store-in-csv)"
   ]
  },
  {
   "cell_type": "code",
   "execution_count": 91,
   "metadata": {
    "scrolled": true
   },
   "outputs": [
    {
     "data": {
      "text/html": [
       "<div>\n",
       "<style scoped>\n",
       "    .dataframe tbody tr th:only-of-type {\n",
       "        vertical-align: middle;\n",
       "    }\n",
       "\n",
       "    .dataframe tbody tr th {\n",
       "        vertical-align: top;\n",
       "    }\n",
       "\n",
       "    .dataframe thead th {\n",
       "        text-align: right;\n",
       "    }\n",
       "</style>\n",
       "<table border=\"1\" class=\"dataframe\">\n",
       "  <thead>\n",
       "    <tr style=\"text-align: right;\">\n",
       "      <th></th>\n",
       "      <th>A</th>\n",
       "      <th>B</th>\n",
       "      <th>C</th>\n",
       "      <th>D</th>\n",
       "    </tr>\n",
       "  </thead>\n",
       "  <tbody>\n",
       "    <tr>\n",
       "      <th>2000-01-01</th>\n",
       "      <td>-0.127297</td>\n",
       "      <td>-0.036697</td>\n",
       "      <td>-0.366001</td>\n",
       "      <td>0.859951</td>\n",
       "    </tr>\n",
       "    <tr>\n",
       "      <th>2000-01-02</th>\n",
       "      <td>-0.509426</td>\n",
       "      <td>-0.694011</td>\n",
       "      <td>-2.553637</td>\n",
       "      <td>1.790968</td>\n",
       "    </tr>\n",
       "    <tr>\n",
       "      <th>2000-01-03</th>\n",
       "      <td>0.936207</td>\n",
       "      <td>1.171523</td>\n",
       "      <td>-3.040390</td>\n",
       "      <td>2.020786</td>\n",
       "    </tr>\n",
       "    <tr>\n",
       "      <th>2000-01-04</th>\n",
       "      <td>-0.775132</td>\n",
       "      <td>2.334156</td>\n",
       "      <td>-2.428936</td>\n",
       "      <td>2.217549</td>\n",
       "    </tr>\n",
       "    <tr>\n",
       "      <th>2000-01-05</th>\n",
       "      <td>-0.381700</td>\n",
       "      <td>4.579322</td>\n",
       "      <td>-3.818270</td>\n",
       "      <td>2.925151</td>\n",
       "    </tr>\n",
       "    <tr>\n",
       "      <th>2000-01-06</th>\n",
       "      <td>0.031855</td>\n",
       "      <td>3.401856</td>\n",
       "      <td>-5.271056</td>\n",
       "      <td>2.914184</td>\n",
       "    </tr>\n",
       "    <tr>\n",
       "      <th>2000-01-07</th>\n",
       "      <td>-0.170904</td>\n",
       "      <td>4.649061</td>\n",
       "      <td>-4.835470</td>\n",
       "      <td>2.967669</td>\n",
       "    </tr>\n",
       "    <tr>\n",
       "      <th>2000-01-08</th>\n",
       "      <td>0.813577</td>\n",
       "      <td>4.437420</td>\n",
       "      <td>-4.969147</td>\n",
       "      <td>4.212718</td>\n",
       "    </tr>\n",
       "    <tr>\n",
       "      <th>2000-01-09</th>\n",
       "      <td>1.790477</td>\n",
       "      <td>3.617887</td>\n",
       "      <td>-3.938806</td>\n",
       "      <td>5.250009</td>\n",
       "    </tr>\n",
       "    <tr>\n",
       "      <th>2000-01-10</th>\n",
       "      <td>0.897555</td>\n",
       "      <td>3.791072</td>\n",
       "      <td>-1.499658</td>\n",
       "      <td>4.960802</td>\n",
       "    </tr>\n",
       "    <tr>\n",
       "      <th>2000-01-11</th>\n",
       "      <td>0.734271</td>\n",
       "      <td>2.610351</td>\n",
       "      <td>-2.356969</td>\n",
       "      <td>3.630978</td>\n",
       "    </tr>\n",
       "    <tr>\n",
       "      <th>2000-01-12</th>\n",
       "      <td>3.650877</td>\n",
       "      <td>1.837484</td>\n",
       "      <td>-1.271693</td>\n",
       "      <td>2.798705</td>\n",
       "    </tr>\n",
       "    <tr>\n",
       "      <th>2000-01-13</th>\n",
       "      <td>3.860225</td>\n",
       "      <td>2.423608</td>\n",
       "      <td>-1.293610</td>\n",
       "      <td>3.729481</td>\n",
       "    </tr>\n",
       "    <tr>\n",
       "      <th>2000-01-14</th>\n",
       "      <td>2.938228</td>\n",
       "      <td>2.222507</td>\n",
       "      <td>-1.655292</td>\n",
       "      <td>4.931608</td>\n",
       "    </tr>\n",
       "    <tr>\n",
       "      <th>2000-01-15</th>\n",
       "      <td>3.083397</td>\n",
       "      <td>2.894247</td>\n",
       "      <td>0.681842</td>\n",
       "      <td>3.274668</td>\n",
       "    </tr>\n",
       "    <tr>\n",
       "      <th>2000-01-16</th>\n",
       "      <td>3.434886</td>\n",
       "      <td>1.603027</td>\n",
       "      <td>1.228757</td>\n",
       "      <td>3.802740</td>\n",
       "    </tr>\n",
       "    <tr>\n",
       "      <th>2000-01-17</th>\n",
       "      <td>4.688889</td>\n",
       "      <td>0.491268</td>\n",
       "      <td>2.257539</td>\n",
       "      <td>4.117593</td>\n",
       "    </tr>\n",
       "    <tr>\n",
       "      <th>2000-01-18</th>\n",
       "      <td>4.056129</td>\n",
       "      <td>1.531437</td>\n",
       "      <td>0.136550</td>\n",
       "      <td>5.547445</td>\n",
       "    </tr>\n",
       "    <tr>\n",
       "      <th>2000-01-19</th>\n",
       "      <td>2.943047</td>\n",
       "      <td>0.061561</td>\n",
       "      <td>0.694771</td>\n",
       "      <td>5.205979</td>\n",
       "    </tr>\n",
       "    <tr>\n",
       "      <th>2000-01-20</th>\n",
       "      <td>6.017844</td>\n",
       "      <td>1.140859</td>\n",
       "      <td>0.036769</td>\n",
       "      <td>4.646338</td>\n",
       "    </tr>\n",
       "    <tr>\n",
       "      <th>2000-01-21</th>\n",
       "      <td>5.392093</td>\n",
       "      <td>0.933548</td>\n",
       "      <td>-0.200993</td>\n",
       "      <td>4.796017</td>\n",
       "    </tr>\n",
       "    <tr>\n",
       "      <th>2000-01-22</th>\n",
       "      <td>5.575033</td>\n",
       "      <td>1.646109</td>\n",
       "      <td>-0.379493</td>\n",
       "      <td>6.375403</td>\n",
       "    </tr>\n",
       "    <tr>\n",
       "      <th>2000-01-23</th>\n",
       "      <td>6.025203</td>\n",
       "      <td>0.611150</td>\n",
       "      <td>-0.174184</td>\n",
       "      <td>5.393046</td>\n",
       "    </tr>\n",
       "    <tr>\n",
       "      <th>2000-01-24</th>\n",
       "      <td>7.137116</td>\n",
       "      <td>1.581517</td>\n",
       "      <td>-0.663293</td>\n",
       "      <td>6.798821</td>\n",
       "    </tr>\n",
       "    <tr>\n",
       "      <th>2000-01-25</th>\n",
       "      <td>9.653104</td>\n",
       "      <td>2.716096</td>\n",
       "      <td>-0.194717</td>\n",
       "      <td>8.026327</td>\n",
       "    </tr>\n",
       "    <tr>\n",
       "      <th>2000-01-26</th>\n",
       "      <td>10.042870</td>\n",
       "      <td>1.740201</td>\n",
       "      <td>-0.056695</td>\n",
       "      <td>8.960674</td>\n",
       "    </tr>\n",
       "    <tr>\n",
       "      <th>2000-01-27</th>\n",
       "      <td>11.142226</td>\n",
       "      <td>-0.343164</td>\n",
       "      <td>0.100298</td>\n",
       "      <td>6.972185</td>\n",
       "    </tr>\n",
       "    <tr>\n",
       "      <th>2000-01-28</th>\n",
       "      <td>10.894471</td>\n",
       "      <td>-0.137358</td>\n",
       "      <td>0.071301</td>\n",
       "      <td>6.550098</td>\n",
       "    </tr>\n",
       "    <tr>\n",
       "      <th>2000-01-29</th>\n",
       "      <td>10.982878</td>\n",
       "      <td>-1.049496</td>\n",
       "      <td>-0.124590</td>\n",
       "      <td>7.667939</td>\n",
       "    </tr>\n",
       "    <tr>\n",
       "      <th>2000-01-30</th>\n",
       "      <td>11.147467</td>\n",
       "      <td>-1.021136</td>\n",
       "      <td>-1.036807</td>\n",
       "      <td>9.043374</td>\n",
       "    </tr>\n",
       "    <tr>\n",
       "      <th>...</th>\n",
       "      <td>...</td>\n",
       "      <td>...</td>\n",
       "      <td>...</td>\n",
       "      <td>...</td>\n",
       "    </tr>\n",
       "    <tr>\n",
       "      <th>2002-08-28</th>\n",
       "      <td>-33.535172</td>\n",
       "      <td>-15.360614</td>\n",
       "      <td>11.071018</td>\n",
       "      <td>79.411606</td>\n",
       "    </tr>\n",
       "    <tr>\n",
       "      <th>2002-08-29</th>\n",
       "      <td>-30.505855</td>\n",
       "      <td>-14.915618</td>\n",
       "      <td>11.790781</td>\n",
       "      <td>79.426516</td>\n",
       "    </tr>\n",
       "    <tr>\n",
       "      <th>2002-08-30</th>\n",
       "      <td>-30.328693</td>\n",
       "      <td>-15.753611</td>\n",
       "      <td>10.868805</td>\n",
       "      <td>79.657413</td>\n",
       "    </tr>\n",
       "    <tr>\n",
       "      <th>2002-08-31</th>\n",
       "      <td>-29.685136</td>\n",
       "      <td>-16.564591</td>\n",
       "      <td>11.810640</td>\n",
       "      <td>81.526485</td>\n",
       "    </tr>\n",
       "    <tr>\n",
       "      <th>2002-09-01</th>\n",
       "      <td>-29.386844</td>\n",
       "      <td>-16.674714</td>\n",
       "      <td>9.684236</td>\n",
       "      <td>80.479214</td>\n",
       "    </tr>\n",
       "    <tr>\n",
       "      <th>2002-09-02</th>\n",
       "      <td>-27.977552</td>\n",
       "      <td>-19.150391</td>\n",
       "      <td>10.760205</td>\n",
       "      <td>79.698379</td>\n",
       "    </tr>\n",
       "    <tr>\n",
       "      <th>2002-09-03</th>\n",
       "      <td>-28.587264</td>\n",
       "      <td>-17.766588</td>\n",
       "      <td>10.787495</td>\n",
       "      <td>78.983015</td>\n",
       "    </tr>\n",
       "    <tr>\n",
       "      <th>2002-09-04</th>\n",
       "      <td>-26.781292</td>\n",
       "      <td>-16.424366</td>\n",
       "      <td>12.257290</td>\n",
       "      <td>79.960600</td>\n",
       "    </tr>\n",
       "    <tr>\n",
       "      <th>2002-09-05</th>\n",
       "      <td>-28.136025</td>\n",
       "      <td>-16.256169</td>\n",
       "      <td>11.064153</td>\n",
       "      <td>80.436504</td>\n",
       "    </tr>\n",
       "    <tr>\n",
       "      <th>2002-09-06</th>\n",
       "      <td>-27.458294</td>\n",
       "      <td>-15.703623</td>\n",
       "      <td>9.349760</td>\n",
       "      <td>81.264216</td>\n",
       "    </tr>\n",
       "    <tr>\n",
       "      <th>2002-09-07</th>\n",
       "      <td>-27.767196</td>\n",
       "      <td>-14.379317</td>\n",
       "      <td>9.895615</td>\n",
       "      <td>81.054867</td>\n",
       "    </tr>\n",
       "    <tr>\n",
       "      <th>2002-09-08</th>\n",
       "      <td>-27.600053</td>\n",
       "      <td>-14.205927</td>\n",
       "      <td>10.481010</td>\n",
       "      <td>80.949831</td>\n",
       "    </tr>\n",
       "    <tr>\n",
       "      <th>2002-09-09</th>\n",
       "      <td>-27.542051</td>\n",
       "      <td>-14.806789</td>\n",
       "      <td>12.271672</td>\n",
       "      <td>80.366387</td>\n",
       "    </tr>\n",
       "    <tr>\n",
       "      <th>2002-09-10</th>\n",
       "      <td>-27.517582</td>\n",
       "      <td>-15.249765</td>\n",
       "      <td>11.714427</td>\n",
       "      <td>79.312604</td>\n",
       "    </tr>\n",
       "    <tr>\n",
       "      <th>2002-09-11</th>\n",
       "      <td>-27.863636</td>\n",
       "      <td>-14.696204</td>\n",
       "      <td>11.515323</td>\n",
       "      <td>77.816953</td>\n",
       "    </tr>\n",
       "    <tr>\n",
       "      <th>2002-09-12</th>\n",
       "      <td>-27.238029</td>\n",
       "      <td>-16.313440</td>\n",
       "      <td>11.478188</td>\n",
       "      <td>77.373775</td>\n",
       "    </tr>\n",
       "    <tr>\n",
       "      <th>2002-09-13</th>\n",
       "      <td>-26.726260</td>\n",
       "      <td>-18.192318</td>\n",
       "      <td>12.931955</td>\n",
       "      <td>79.646104</td>\n",
       "    </tr>\n",
       "    <tr>\n",
       "      <th>2002-09-14</th>\n",
       "      <td>-26.439677</td>\n",
       "      <td>-18.916614</td>\n",
       "      <td>13.880922</td>\n",
       "      <td>80.497815</td>\n",
       "    </tr>\n",
       "    <tr>\n",
       "      <th>2002-09-15</th>\n",
       "      <td>-27.015827</td>\n",
       "      <td>-18.763946</td>\n",
       "      <td>12.588943</td>\n",
       "      <td>81.382674</td>\n",
       "    </tr>\n",
       "    <tr>\n",
       "      <th>2002-09-16</th>\n",
       "      <td>-26.901065</td>\n",
       "      <td>-18.176901</td>\n",
       "      <td>11.843035</td>\n",
       "      <td>80.489337</td>\n",
       "    </tr>\n",
       "    <tr>\n",
       "      <th>2002-09-17</th>\n",
       "      <td>-27.061159</td>\n",
       "      <td>-15.999773</td>\n",
       "      <td>12.442081</td>\n",
       "      <td>78.518210</td>\n",
       "    </tr>\n",
       "    <tr>\n",
       "      <th>2002-09-18</th>\n",
       "      <td>-27.452337</td>\n",
       "      <td>-16.868925</td>\n",
       "      <td>11.922304</td>\n",
       "      <td>79.177697</td>\n",
       "    </tr>\n",
       "    <tr>\n",
       "      <th>2002-09-19</th>\n",
       "      <td>-28.094518</td>\n",
       "      <td>-16.435245</td>\n",
       "      <td>11.605946</td>\n",
       "      <td>79.672637</td>\n",
       "    </tr>\n",
       "    <tr>\n",
       "      <th>2002-09-20</th>\n",
       "      <td>-27.664938</td>\n",
       "      <td>-16.310864</td>\n",
       "      <td>11.849712</td>\n",
       "      <td>78.033144</td>\n",
       "    </tr>\n",
       "    <tr>\n",
       "      <th>2002-09-21</th>\n",
       "      <td>-27.156811</td>\n",
       "      <td>-14.738592</td>\n",
       "      <td>12.361652</td>\n",
       "      <td>79.315975</td>\n",
       "    </tr>\n",
       "    <tr>\n",
       "      <th>2002-09-22</th>\n",
       "      <td>-27.203639</td>\n",
       "      <td>-15.614958</td>\n",
       "      <td>11.997366</td>\n",
       "      <td>80.193823</td>\n",
       "    </tr>\n",
       "    <tr>\n",
       "      <th>2002-09-23</th>\n",
       "      <td>-27.841413</td>\n",
       "      <td>-15.257708</td>\n",
       "      <td>13.121717</td>\n",
       "      <td>79.590900</td>\n",
       "    </tr>\n",
       "    <tr>\n",
       "      <th>2002-09-24</th>\n",
       "      <td>-29.285276</td>\n",
       "      <td>-15.506318</td>\n",
       "      <td>12.627699</td>\n",
       "      <td>81.048985</td>\n",
       "    </tr>\n",
       "    <tr>\n",
       "      <th>2002-09-25</th>\n",
       "      <td>-28.813032</td>\n",
       "      <td>-16.292024</td>\n",
       "      <td>12.672487</td>\n",
       "      <td>78.848283</td>\n",
       "    </tr>\n",
       "    <tr>\n",
       "      <th>2002-09-26</th>\n",
       "      <td>-29.416626</td>\n",
       "      <td>-16.455754</td>\n",
       "      <td>12.470520</td>\n",
       "      <td>79.399592</td>\n",
       "    </tr>\n",
       "  </tbody>\n",
       "</table>\n",
       "<p>1000 rows × 4 columns</p>\n",
       "</div>"
      ],
      "text/plain": [
       "                    A          B          C          D\n",
       "2000-01-01  -0.127297  -0.036697  -0.366001   0.859951\n",
       "2000-01-02  -0.509426  -0.694011  -2.553637   1.790968\n",
       "2000-01-03   0.936207   1.171523  -3.040390   2.020786\n",
       "2000-01-04  -0.775132   2.334156  -2.428936   2.217549\n",
       "2000-01-05  -0.381700   4.579322  -3.818270   2.925151\n",
       "2000-01-06   0.031855   3.401856  -5.271056   2.914184\n",
       "2000-01-07  -0.170904   4.649061  -4.835470   2.967669\n",
       "2000-01-08   0.813577   4.437420  -4.969147   4.212718\n",
       "2000-01-09   1.790477   3.617887  -3.938806   5.250009\n",
       "2000-01-10   0.897555   3.791072  -1.499658   4.960802\n",
       "2000-01-11   0.734271   2.610351  -2.356969   3.630978\n",
       "2000-01-12   3.650877   1.837484  -1.271693   2.798705\n",
       "2000-01-13   3.860225   2.423608  -1.293610   3.729481\n",
       "2000-01-14   2.938228   2.222507  -1.655292   4.931608\n",
       "2000-01-15   3.083397   2.894247   0.681842   3.274668\n",
       "2000-01-16   3.434886   1.603027   1.228757   3.802740\n",
       "2000-01-17   4.688889   0.491268   2.257539   4.117593\n",
       "2000-01-18   4.056129   1.531437   0.136550   5.547445\n",
       "2000-01-19   2.943047   0.061561   0.694771   5.205979\n",
       "2000-01-20   6.017844   1.140859   0.036769   4.646338\n",
       "2000-01-21   5.392093   0.933548  -0.200993   4.796017\n",
       "2000-01-22   5.575033   1.646109  -0.379493   6.375403\n",
       "2000-01-23   6.025203   0.611150  -0.174184   5.393046\n",
       "2000-01-24   7.137116   1.581517  -0.663293   6.798821\n",
       "2000-01-25   9.653104   2.716096  -0.194717   8.026327\n",
       "2000-01-26  10.042870   1.740201  -0.056695   8.960674\n",
       "2000-01-27  11.142226  -0.343164   0.100298   6.972185\n",
       "2000-01-28  10.894471  -0.137358   0.071301   6.550098\n",
       "2000-01-29  10.982878  -1.049496  -0.124590   7.667939\n",
       "2000-01-30  11.147467  -1.021136  -1.036807   9.043374\n",
       "...               ...        ...        ...        ...\n",
       "2002-08-28 -33.535172 -15.360614  11.071018  79.411606\n",
       "2002-08-29 -30.505855 -14.915618  11.790781  79.426516\n",
       "2002-08-30 -30.328693 -15.753611  10.868805  79.657413\n",
       "2002-08-31 -29.685136 -16.564591  11.810640  81.526485\n",
       "2002-09-01 -29.386844 -16.674714   9.684236  80.479214\n",
       "2002-09-02 -27.977552 -19.150391  10.760205  79.698379\n",
       "2002-09-03 -28.587264 -17.766588  10.787495  78.983015\n",
       "2002-09-04 -26.781292 -16.424366  12.257290  79.960600\n",
       "2002-09-05 -28.136025 -16.256169  11.064153  80.436504\n",
       "2002-09-06 -27.458294 -15.703623   9.349760  81.264216\n",
       "2002-09-07 -27.767196 -14.379317   9.895615  81.054867\n",
       "2002-09-08 -27.600053 -14.205927  10.481010  80.949831\n",
       "2002-09-09 -27.542051 -14.806789  12.271672  80.366387\n",
       "2002-09-10 -27.517582 -15.249765  11.714427  79.312604\n",
       "2002-09-11 -27.863636 -14.696204  11.515323  77.816953\n",
       "2002-09-12 -27.238029 -16.313440  11.478188  77.373775\n",
       "2002-09-13 -26.726260 -18.192318  12.931955  79.646104\n",
       "2002-09-14 -26.439677 -18.916614  13.880922  80.497815\n",
       "2002-09-15 -27.015827 -18.763946  12.588943  81.382674\n",
       "2002-09-16 -26.901065 -18.176901  11.843035  80.489337\n",
       "2002-09-17 -27.061159 -15.999773  12.442081  78.518210\n",
       "2002-09-18 -27.452337 -16.868925  11.922304  79.177697\n",
       "2002-09-19 -28.094518 -16.435245  11.605946  79.672637\n",
       "2002-09-20 -27.664938 -16.310864  11.849712  78.033144\n",
       "2002-09-21 -27.156811 -14.738592  12.361652  79.315975\n",
       "2002-09-22 -27.203639 -15.614958  11.997366  80.193823\n",
       "2002-09-23 -27.841413 -15.257708  13.121717  79.590900\n",
       "2002-09-24 -29.285276 -15.506318  12.627699  81.048985\n",
       "2002-09-25 -28.813032 -16.292024  12.672487  78.848283\n",
       "2002-09-26 -29.416626 -16.455754  12.470520  79.399592\n",
       "\n",
       "[1000 rows x 4 columns]"
      ]
     },
     "execution_count": 91,
     "metadata": {},
     "output_type": "execute_result"
    }
   ],
   "source": [
    "df"
   ]
  },
  {
   "cell_type": "code",
   "execution_count": 92,
   "metadata": {},
   "outputs": [],
   "source": [
    "df.to_csv('foo.csv')\n",
    "#!ls -la foo.csv"
   ]
  },
  {
   "cell_type": "code",
   "execution_count": 95,
   "metadata": {},
   "outputs": [
    {
     "data": {
      "text/plain": [
       "'/home/brijesh/Documents/Data Science Academy/DSAFC2019Feb23/Python/NumPy, SKlearn etc'"
      ]
     },
     "execution_count": 95,
     "metadata": {},
     "output_type": "execute_result"
    }
   ],
   "source": [
    "pwd()"
   ]
  },
  {
   "cell_type": "code",
   "execution_count": 93,
   "metadata": {},
   "outputs": [
    {
     "name": "stdout",
     "output_type": "stream",
     "text": [
      ",A,B,C,D\r\n",
      "2000-01-01,-0.12729701591346138,-0.03669657443555438,-0.3660014654187059,0.859950567644321\r\n",
      "2000-01-02,-0.5094259726440629,-0.6940112609685557,-2.553637289918653,1.790968499714162\r\n",
      "2000-01-03,0.9362066816915364,1.171522526682892,-3.040389740920724,2.020786303713344\r\n",
      "2000-01-04,-0.7751315441587232,2.3341556672120936,-2.428936203920877,2.217549396643502\r\n",
      "2000-01-05,-0.3817003041345026,4.579322080200648,-3.818269578910137,2.925150727368319\r\n",
      "2000-01-06,0.03185549639950214,3.4018560228111605,-5.2710562028210886,2.9141843352728674\r\n",
      "2000-01-07,-0.1709035830911691,4.649061299045249,-4.835469541587816,2.9676688551253876\r\n",
      "2000-01-08,0.8135774124557471,4.437419503777769,-4.969146592661576,4.212718456038852\r\n",
      "2000-01-09,1.7904766738784108,3.617887063005445,-3.9388062139807105,5.2500085455102\r\n",
      "2000-01-10,0.897554825336113,3.791071881344406,-1.4996580873911327,4.9608018799396305\r\n",
      "2000-01-11,0.7342714499252001,2.6103513051417195,-2.356968850644441,3.63097805802529\r\n",
      "2000-01-12,3.650876884183165,1.8374838889250489,-1.2716933958098018,2.7987051683411237\r\n",
      "2000-01-13,3.8602251213649956,2.4236076227288486,-1.2936098623796686,3.7294809835174156\r\n",
      "2000-01-14,2.9382283031344643,2.2225074632081814,-1.6552921814812886,4.931608485819263\r\n",
      "2000-01-15,3.083397049044514,2.894246713265645,0.6818421955834231,3.2746677061944993\r\n",
      "2000-01-16,3.434886329912916,1.6030270692978472,1.228757204705384,3.802740055151806\r\n",
      "2000-01-17,4.688888660675343,0.4912676898490129,2.257538500098396,4.117593453352603\r\n",
      "2000-01-18,4.0561293250410975,1.531436794371786,0.13655026069420062,5.547444511194338\r\n",
      "2000-01-19,2.9430466652718774,0.061561228277424496,0.6947707757503052,5.205978945104569\r\n",
      "2000-01-20,6.017844019938913,1.1408587515032487,0.03676915484962906,4.646337777406252\r\n",
      "2000-01-21,5.392092711902146,0.9335478602566484,-0.200992750200152,4.796016647638857\r\n",
      "2000-01-22,5.57503311830053,1.6461086100702689,-0.37949265137660815,6.375403085493228\r\n",
      "2000-01-23,6.025203376411566,0.6111498599869554,-0.1741840828003691,5.393045776705224\r\n",
      "2000-01-24,7.137115888896936,1.5815166327392245,-0.663293442324434,6.798820936293792\r\n",
      "2000-01-25,9.653104201390203,2.7160956484218293,-0.19471665764508045,8.026326771935747\r\n",
      "2000-01-26,10.042869876096157,1.7402010727622041,-0.0566950109123133,8.960673528768757\r\n",
      "2000-01-27,11.142226208081174,-0.3431642213237396,0.10029796337519467,6.972184947858658\r\n",
      "2000-01-28,10.894471072813987,-0.1373580795947277,0.0713011322333788,6.550097561431968\r\n",
      "2000-01-29,10.982878403596377,-1.0494957563551943,-0.12459003627909152,7.6679388994290285\r\n",
      "2000-01-30,11.147466519451854,-1.0211363160102915,-1.0368067368976484,9.043374408331971\r\n",
      "2000-01-31,11.589783929007737,-0.7022162566197443,-1.425333266263634,9.909125335453627\r\n",
      "2000-02-01,9.663166806184684,-1.216255991872302,-1.0542028933558962,9.683561691725403\r\n",
      "2000-02-02,8.766483448690115,0.050886930384538065,-1.3697850793318465,9.2633074981315\r\n",
      "2000-02-03,8.58365245986159,0.5347666691945137,-0.8161055250508978,10.308589832860708\r\n",
      "2000-02-04,9.28876078778905,-0.460457082130319,-1.7754902542285056,10.803663793123908\r\n",
      "2000-02-05,10.31353292793063,-0.8950980920608683,-1.8598511856715583,9.40899640320392\r\n",
      "2000-02-06,11.190876228108351,1.0339120226711147,-2.382553112731434,10.421552793390335\r\n",
      "2000-02-07,11.272618497886473,2.9489776752499632,-1.9424427100031547,11.144564897852776\r\n",
      "2000-02-08,11.474086647912797,2.7542856704471497,-1.2560606521444129,9.79002799726618\r\n",
      "2000-02-09,11.566835435516412,1.5391881022390665,0.0032873097692502906,11.150372354439007\r\n",
      "2000-02-10,10.03585545558943,2.6254729983837186,1.2562691815893092,10.514775965530939\r\n",
      "2000-02-11,11.232364228761606,1.4596026212701154,0.3585309733922315,8.899601364379338\r\n",
      "2000-02-12,11.381766662557014,0.3623848002020238,0.4410381714363075,9.863925164816473\r\n",
      "2000-02-13,9.96119706639595,-1.0544148414291512,-0.9299335635852609,9.421478775593156\r\n",
      "2000-02-14,11.213120957594603,-1.0427839594430124,-0.39494617686185496,11.068122132973018\r\n",
      "2000-02-15,9.37336075386148,1.490683226430032,-0.040036330908746864,11.542067974245478\r\n",
      "2000-02-16,8.671188955402371,2.4100294357245318,0.5963875100307914,12.078346939382518\r\n",
      "2000-02-17,11.097989635303836,2.1293961125324943,1.5051230670988485,12.355697847290129\r\n",
      "2000-02-18,10.498869780622005,2.7475719189080787,2.0539170533210402,13.488136364449504\r\n",
      "2000-02-19,10.174557306430186,2.19667616371191,3.4894826308559974,13.936612007736354\r\n",
      "2000-02-20,10.195198225494641,3.326530951328418,4.177195438156077,16.015976543389147\r\n",
      "2000-02-21,10.876827536430136,0.8803140410349877,5.06228598802461,15.91663493807812\r\n",
      "2000-02-22,9.080530881738936,-0.45589102685220295,3.474981040378036,15.87837909439315\r\n",
      "2000-02-23,9.362005426372116,1.425757016401358,2.1677931000097823,16.979910588955832\r\n",
      "2000-02-24,8.194267413747529,0.8937701529872323,0.9649885591758711,15.901592535809572\r\n",
      "2000-02-25,7.194310726087684,2.1005489225735805,1.32213892250495,15.786298120774747\r\n",
      "2000-02-26,6.593691484888057,2.0730936937831284,1.5603606229053906,16.161873193173\r\n",
      "2000-02-27,5.336261248911786,3.4964857863581535,0.9817932446381153,16.695525649117183\r\n",
      "2000-02-28,5.318106118004846,3.1120290886051816,-0.8742286734039267,16.78511708222825\r\n",
      "2000-02-29,5.0840490482534735,4.157061292332691,-0.06980141427007247,16.433266173615383\r\n",
      "2000-03-01,4.304836435477178,4.378374419304931,-0.13033157479404697,16.56891565019587\r\n",
      "2000-03-02,4.435694446444548,2.6660701527751147,-0.46410902849490054,18.36478371391049\r\n",
      "2000-03-03,4.858347279366629,3.146032560832252,-0.39674667446818634,18.592376091114577\r\n",
      "2000-03-04,4.595371648671033,2.764490169901558,-0.8768257046044116,19.463191692679963\r\n",
      "2000-03-05,3.8173272398074767,2.2579466536325343,0.6373202223739557,18.842086655229675\r\n",
      "2000-03-06,4.142766713538237,2.517788618423592,2.061293130634127,20.1948254085326\r\n",
      "2000-03-07,4.831759119405906,2.035975406438009,2.0049040452095612,19.896723637756846\r\n",
      "2000-03-08,3.330330183276584,1.412452880380019,2.624430106415584,19.37201360476148\r\n",
      "2000-03-09,3.9968046081082846,0.21082783620161982,2.482162777280821,19.68629681234807\r\n",
      "2000-03-10,3.6015658703671924,-1.6870399134776963,2.0262190632517916,18.91423310669569\r\n",
      "2000-03-11,3.271101481649746,-1.205812786330587,3.7556320275866133,19.01632534522917\r\n",
      "2000-03-12,4.436083751760418,-1.399292730876004,3.8473094219718065,19.547269935913285\r\n",
      "2000-03-13,5.6824961943087455,-1.943242462946687,4.563870446222175,20.188634589613553\r\n",
      "2000-03-14,6.901776597415788,-1.7616474295581497,5.507381958241255,20.815950650247917\r\n",
      "2000-03-15,8.319178030032115,-0.6165281451182871,5.689109123935222,19.35585839600365\r\n",
      "2000-03-16,6.977110649589117,-1.7693516311069126,7.345256722116249,18.28981540277582\r\n",
      "2000-03-17,6.954569048428164,-2.9606753444944305,8.442807675185037,17.671923264395485\r\n",
      "2000-03-18,6.979004898953351,-3.3037492757377267,10.162886166642648,17.64173111109371\r\n",
      "2000-03-19,7.973376187473983,-4.420650467001535,12.376444391172381,20.64091721500195\r\n",
      "2000-03-20,7.783232859472259,-4.452306470818258,12.260908484363853,20.345850510229837\r\n",
      "2000-03-21,7.536268301583313,-4.543286344463808,11.123865227805243,19.077366939827968\r\n",
      "2000-03-22,7.319904697555448,-5.196002277860354,11.287570651276683,18.756996957109155\r\n",
      "2000-03-23,7.491803389889015,-5.096849891675641,10.387919930063266,18.099618457264857\r\n",
      "2000-03-24,8.427140855212869,-6.0760448985145805,10.965924054660878,18.431210397843078\r\n",
      "2000-03-25,7.719620822813575,-6.722182251901168,11.466731924005776,18.699120691795848\r\n",
      "2000-03-26,6.821945959680647,-6.668515875836961,9.011814742090955,18.41046942431785\r\n",
      "2000-03-27,5.264302457486778,-5.820247762181378,8.342115447440836,19.439698211327766\r\n",
      "2000-03-28,5.107903987934776,-3.7830277291313665,8.30792221092664,19.27621992612401\r\n",
      "2000-03-29,7.573973216152238,-5.75568391380268,9.059103899325304,19.126361372461698\r\n",
      "2000-03-30,7.87644592368737,-5.212489737758368,11.33097622587991,19.533227806488128\r\n",
      "2000-03-31,8.760039349762812,-5.253105437886106,11.157411624836994,19.1638810922689\r\n",
      "2000-04-01,8.635312560307913,-6.031111678838787,11.121825779427343,18.088383166555836\r\n",
      "2000-04-02,10.671946320515742,-7.156384338808489,10.503552734464291,18.948319358506573\r\n",
      "2000-04-03,10.34504283265359,-7.706078399994404,10.673892474162006,16.158620216242618\r\n",
      "2000-04-04,12.604445180249535,-7.161592292107583,12.702944410576158,16.121036197329836\r\n",
      "2000-04-05,12.999691825490444,-7.084107612268292,13.876539149881802,17.216954368014164\r\n",
      "2000-04-06,13.653042769831575,-6.92538264796343,14.48871940608046,15.825033948436786\r\n",
      "2000-04-07,12.53418743308771,-5.20117989396206,16.028477911604515,16.39205113851039\r\n",
      "2000-04-08,12.67360928095498,-5.142828430215902,16.683573245487537,15.443714513650024\r\n",
      "2000-04-09,11.63083705459848,-3.63608728910112,15.506981496341872,17.034831377920668\r\n",
      "2000-04-10,11.567956024763234,-3.8781144993291297,15.530883755060076,17.310016104404855\r\n",
      "2000-04-11,11.480580686915447,-3.7458524161965903,16.757144379398774,17.455797839612952\r\n",
      "2000-04-12,10.368465401079058,-3.4370128166349176,15.424746951595568,18.242527437520312\r\n",
      "2000-04-13,11.385376312227685,-3.290665317521466,13.579861810899896,17.64837975213321\r\n",
      "2000-04-14,10.841960640353598,-4.661765123130896,13.805945134186945,16.997050761417196\r\n",
      "2000-04-15,9.683723486999805,-3.7410444188172387,13.34179996032736,16.142675274203345\r\n",
      "2000-04-16,11.41327104884432,-2.604655785842588,13.998523108819972,15.096118996918346\r\n",
      "2000-04-17,10.259004831224903,-4.03359767161136,15.888371821599765,15.022544699665906\r\n",
      "2000-04-18,10.212004038727379,-3.0558163909638356,16.728404712455156,14.340954447454708\r\n",
      "2000-04-19,11.095848905378928,-3.489633643040749,18.52333809956713,14.932991041709471\r\n",
      "2000-04-20,9.740855662805867,-4.598350404919986,18.96455783212003,14.58183686737308\r\n",
      "2000-04-21,7.4148775866333505,-4.850533065638578,19.37786235531398,15.49703390228405\r\n",
      "2000-04-22,7.018046928852435,-6.279918602497099,20.255866683917805,16.540853493790895\r\n",
      "2000-04-23,6.409572645757335,-7.140384159334673,19.515090810606853,16.19832027600549\r\n",
      "2000-04-24,7.306743721803348,-6.7086289568679325,18.182353825755108,17.41231589765136\r\n",
      "2000-04-25,7.950951166685295,-7.255509399368571,18.571795810407078,17.003123015838725\r\n",
      "2000-04-26,6.701384575215959,-7.86253650772279,18.432055541595048,16.632470045418234\r\n",
      "2000-04-27,5.7264157328350995,-8.885401586877105,17.006417886056724,16.531783669494715\r\n",
      "2000-04-28,5.8007836348025785,-8.747108876420585,16.15694366890375,16.889775734077826\r\n",
      "2000-04-29,4.892978062966004,-9.595106586994168,16.984948689153274,15.610679914618483\r\n",
      "2000-04-30,6.1250128473739185,-10.54982552270609,16.99418289721075,14.992676588832584\r\n",
      "2000-05-01,5.498901838313094,-12.540729915144878,16.47605984622419,15.045170760989425\r\n",
      "2000-05-02,4.485450766207513,-14.230501716887302,16.1094699603808,14.061556732119126\r\n",
      "2000-05-03,5.130686250258834,-15.065844845759488,15.026485633097678,12.780172402785162\r\n",
      "2000-05-04,6.500262939352096,-15.620043437601021,13.866538812109114,13.672526132135522\r\n",
      "2000-05-05,5.933111493190552,-16.617142886623853,14.393298961089375,14.979165744608148\r\n",
      "2000-05-06,4.876362767228062,-15.844915282756725,14.904647834226862,14.771561303850207\r\n",
      "2000-05-07,4.22540285521358,-18.068563676829715,16.173780624856903,14.480460301689531\r\n",
      "2000-05-08,4.579917260977728,-17.918313245023384,15.918974442487949,15.429326585731628\r\n",
      "2000-05-09,4.263076303534888,-17.616165255870943,15.741636869274842,15.556087981392016\r\n",
      "2000-05-10,3.565717726680882,-17.281844609214534,15.182479406153341,14.452893539268548\r\n",
      "2000-05-11,3.190975654365966,-15.61934853915414,17.392035831686343,15.393485832011686\r\n",
      "2000-05-12,1.9639078001435584,-14.459947594257573,14.837384213627235,14.590490542585485\r\n",
      "2000-05-13,2.9634782724376176,-15.1510542802032,14.883521602963777,14.484671017760409\r\n",
      "2000-05-14,2.0443926508027146,-16.1992091586747,15.030041075265519,16.442609314202322\r\n",
      "2000-05-15,2.5116727969670913,-16.724702446810088,16.017378048295104,17.119326400217158\r\n",
      "2000-05-16,3.7163784229458194,-17.661113405339147,16.618994417442302,19.34321463078591\r\n",
      "2000-05-17,2.5698120092136154,-16.979116905021975,17.111126312647798,19.209355272468407\r\n",
      "2000-05-18,0.8458255877895735,-16.585798613215157,15.487740843974073,18.713038279224175\r\n",
      "2000-05-19,0.9838893656559063,-16.536554960568722,15.196046531130579,18.543672297282622\r\n",
      "2000-05-20,2.35957720531454,-17.911057801146306,16.212379019488385,18.756958554182578\r\n",
      "2000-05-21,3.3762193789263435,-16.912012827688066,16.731616003803992,18.037148053380935\r\n",
      "2000-05-22,3.1720567295204734,-18.298141610991763,16.936051419666896,17.715669119012208\r\n",
      "2000-05-23,3.1198964918770278,-18.355130475679974,16.14428059139619,18.164046019013355\r\n",
      "2000-05-24,2.2581887784577277,-19.044326912866776,16.252374890357608,19.109380819212866\r\n",
      "2000-05-25,3.530474158829902,-18.437969008644124,17.970503643344294,17.677623749235224\r\n",
      "2000-05-26,3.8247259421200615,-18.276474270422398,18.186346044926257,18.139775904547395\r\n",
      "2000-05-27,2.3672428892336352,-17.95286926941326,18.384351880636927,19.43551396262195\r\n",
      "2000-05-28,1.5295723295120442,-18.88680370565046,17.686604403484868,20.120917427249235\r\n",
      "2000-05-29,0.34469659616328063,-18.122689622809098,16.91130992106902,19.344071878118715\r\n",
      "2000-05-30,-0.5349456289944653,-17.4942606826886,16.429399278320243,18.42139872601705\r\n",
      "2000-05-31,1.5794323976219151,-17.84433688168021,16.047050336554268,19.86831169499116\r\n",
      "2000-06-01,1.784172818978949,-17.74419950772691,16.708280178539024,19.467130758116266\r\n",
      "2000-06-02,0.6831091454817699,-17.85110734693354,17.237650056474642,18.142707741130753\r\n",
      "2000-06-03,0.22870823118824785,-17.41745248480245,15.236438430685125,17.9156639968761\r\n",
      "2000-06-04,0.1030367486921401,-17.096278071584948,14.95897995700076,18.081893561599276\r\n",
      "2000-06-05,-0.4655307688203747,-16.914354554308034,14.71311786095896,18.726493727989308\r\n",
      "2000-06-06,-1.183760026321412,-17.241345087472464,15.57218295278413,18.780255949205063\r\n",
      "2000-06-07,-0.41501203640277384,-18.58700528592979,14.417689726086145,18.63918625784624\r\n",
      "2000-06-08,0.8909635138455467,-18.80186355520265,14.2151390878315,18.47584075744906\r\n",
      "2000-06-09,-1.1094227107241004,-19.72494640497538,15.42714022679225,17.221818344369602\r\n",
      "2000-06-10,-0.2811087681785399,-19.22153515327155,16.261647051736293,16.072488079103152\r\n",
      "2000-06-11,-2.4648785589825386,-18.312865448229516,14.975543991976503,15.932213892943713\r\n",
      "2000-06-12,-3.142672149657942,-16.077153545768102,15.288523391603446,16.558361133166606\r\n",
      "2000-06-13,-3.591732725433965,-15.861458277919555,16.195048414035426,17.714086940538692\r\n",
      "2000-06-14,-4.206416946163153,-14.762607184773511,15.205466013393117,18.744316416531728\r\n",
      "2000-06-15,-5.1240481346734885,-15.213737642164396,16.25214175462865,20.447317582493795\r\n",
      "2000-06-16,-4.659142687113534,-16.406300898550988,15.468778070724124,19.819325472722955\r\n",
      "2000-06-17,-4.1491014736789955,-15.838608757642287,16.821217223174916,18.952981391061375\r\n",
      "2000-06-18,-4.559955268274154,-16.113924950824213,17.181171899382292,19.86944398753185\r\n",
      "2000-06-19,-4.377956442286305,-18.268442249883655,18.483666190579605,19.18777501068894\r\n",
      "2000-06-20,-3.5410612813293207,-18.40637237931942,17.746685133475236,18.016670648280172\r\n",
      "2000-06-21,-2.6461129761558233,-18.45065966463859,16.385626228226197,17.251723643475543\r\n",
      "2000-06-22,-2.1835132913924844,-19.219689332101304,16.315994259391687,16.932823367018557\r\n",
      "2000-06-23,-1.7666159034853792,-19.69080113737909,16.094736442717668,17.73564314858296\r\n",
      "2000-06-24,-2.6168097385387084,-20.404910893892364,16.063716299927894,16.492459897518106\r\n",
      "2000-06-25,-3.3623373306140074,-19.45462422885283,16.133910968494924,16.070276436208406\r\n",
      "2000-06-26,-2.0425336759749744,-19.354430568532422,15.230098193604487,15.862359399889652\r\n",
      "2000-06-27,-2.939113151465182,-20.6044644905705,16.86317838887219,15.165905647305078\r\n",
      "2000-06-28,-2.731950294373201,-21.769562578564997,17.838388631622376,16.449603756136455\r\n",
      "2000-06-29,-0.7323420871543049,-21.16718290514039,17.729894713621217,16.943202113897005\r\n",
      "2000-06-30,-0.9100194069215732,-21.353631006212026,18.627000248787276,15.998981654516692\r\n",
      "2000-07-01,-0.13346740441082483,-19.596375345287235,17.78726849886144,15.28331438672094\r\n",
      "2000-07-02,-0.5196661489045691,-19.08360640917311,16.2743135485991,16.625885778986763\r\n",
      "2000-07-03,-1.2140287545502848,-18.816358071886032,16.31665136649655,16.967616312855377\r\n",
      "2000-07-04,0.45529842641898477,-19.310299052421925,15.561820188494494,16.568687336308404\r\n",
      "2000-07-05,1.0010020221555915,-19.609593639686846,15.356656111678406,17.815413523798476\r\n",
      "2000-07-06,1.9749698585728184,-21.097216446795958,13.634170165365685,18.01968526837942\r\n",
      "2000-07-07,1.7719357309603976,-21.289262158721932,13.799551045033727,18.760012027271276\r\n",
      "2000-07-08,0.9601609038593437,-20.78487584041342,15.571512506098816,18.016005858617373\r\n",
      "2000-07-09,0.12095727535097267,-20.174802436622397,15.147295056923397,18.48937946738541\r\n",
      "2000-07-10,-1.3343536246783152,-19.163371296747126,16.29132847571192,18.109932916128265\r\n",
      "2000-07-11,-0.6002340920796057,-19.823659692064325,17.568713731149547,18.18698438175734\r\n",
      "2000-07-12,0.39037088724843694,-19.735703425589122,18.699881256672732,16.55710361418768\r\n",
      "2000-07-13,-0.36798615898041465,-18.703749479217883,18.668468580084,17.270077594704407\r\n",
      "2000-07-14,-2.9451884971770683,-16.94445845793393,18.78411953951718,16.094943278061997\r\n",
      "2000-07-15,-0.9252119798355598,-17.672110437550405,19.71660396968363,16.75136218297869\r\n",
      "2000-07-16,1.6824382125825688,-18.015116181889834,20.48413221542559,16.2423699347329\r\n",
      "2000-07-17,1.101663937661276,-18.955316718363605,20.966528873240286,16.839862254229516\r\n",
      "2000-07-18,0.7833381248912996,-19.58950788675564,21.44247762267884,16.88375116745984\r\n",
      "2000-07-19,0.505880725274947,-20.538514468118986,18.74902074808492,16.668884559911355\r\n",
      "2000-07-20,-0.42885624448697257,-20.039924327773114,17.95199857033569,17.893886450706095\r\n",
      "2000-07-21,-0.8937556117281362,-20.886813984313584,17.538593237417466,19.21678809722046\r\n",
      "2000-07-22,-1.0070763291933411,-20.249693859534485,18.859528410208917,20.218285306392406\r\n",
      "2000-07-23,0.7643794368067895,-22.749234806643322,17.871951580723284,20.040779340096307\r\n",
      "2000-07-24,1.4426542000053035,-21.311561535961985,17.296179939764105,20.115281932181787\r\n",
      "2000-07-25,1.249247685589288,-20.652319665085926,16.186779617971165,20.723671603616808\r\n",
      "2000-07-26,0.382574245638016,-20.68542457213587,17.030668355119673,20.611622908799212\r\n",
      "2000-07-27,-0.16211101121508031,-19.381894441443404,17.378895132624905,21.216182821008942\r\n",
      "2000-07-28,-0.8763151849756129,-19.377216410994613,17.04309065103968,20.658581104193985\r\n",
      "2000-07-29,-0.847542403208052,-18.396981702304068,17.534333457631526,20.34985710847936\r\n",
      "2000-07-30,-0.7153924031297985,-19.07079698791858,16.27927344667144,20.267843159614422\r\n",
      "2000-07-31,0.5745415604291366,-19.817291976707963,16.16355968759492,19.803611494609587\r\n",
      "2000-08-01,2.3573318097082003,-20.13934533680241,16.635317169173074,19.066040364474812\r\n",
      "2000-08-02,2.5619703082615204,-20.864614602964288,16.063743069122484,18.5681925915649\r\n",
      "2000-08-03,3.089434817112836,-19.83945989702753,16.0156266477337,17.381994571340485\r\n",
      "2000-08-04,4.774915959388667,-19.7050078440246,17.782509017141997,18.728438256482363\r\n",
      "2000-08-05,3.319663942472887,-18.889967115782355,17.830346562191973,17.89242199598909\r\n",
      "2000-08-06,4.076688061057346,-19.03512796680149,16.307479925453972,17.59229926361614\r\n",
      "2000-08-07,3.3668591151344516,-18.284188680516394,15.923605714590533,18.704353940108902\r\n",
      "2000-08-08,2.2007785558916337,-19.132042868856864,14.106215390511235,16.236433736306733\r\n",
      "2000-08-09,1.2823114970934983,-19.43666645493034,14.719360332269769,16.262878140404545\r\n",
      "2000-08-10,-0.7830781633206945,-19.11258226118496,16.823497544241263,16.738752878278245\r\n",
      "2000-08-11,-2.4501989966168827,-19.54603765261795,17.220114664640384,16.034430301054627\r\n",
      "2000-08-12,-2.4109066918035524,-18.05904425795505,17.77410417324281,14.760454689339326\r\n",
      "2000-08-13,-3.809258598457667,-17.812074416768834,17.860007450528517,15.206800160983585\r\n",
      "2000-08-14,-3.988941522009817,-16.20817969780764,19.092846391278435,16.623986549071457\r\n",
      "2000-08-15,-2.294230763859142,-15.985299567132468,20.16624552974436,15.061575681074295\r\n",
      "2000-08-16,-3.1195414195082125,-17.135567843256524,20.187073518632143,14.142133903650475\r\n",
      "2000-08-17,-3.926318188537495,-17.813120199260077,19.495349212912288,15.829549707114316\r\n",
      "2000-08-18,-5.559700790419022,-19.482969207114174,21.157366350322437,15.814171396979804\r\n",
      "2000-08-19,-6.1580819745745,-19.47474908386869,20.631790286870718,15.509005884547113\r\n",
      "2000-08-20,-5.849341775647447,-21.071363252222135,19.21991253876176,16.015674948024774\r\n",
      "2000-08-21,-7.458232617486416,-20.88728670893741,18.588515774905098,16.395016476797757\r\n",
      "2000-08-22,-7.4342415903352315,-20.008098788086652,17.39031066823672,16.696219058351875\r\n",
      "2000-08-23,-7.849189082627664,-20.340716868676395,15.800363043765387,17.23873486809834\r\n",
      "2000-08-24,-7.4106474076545155,-20.030064636199697,14.66341086343968,17.30426788474182\r\n",
      "2000-08-25,-7.158932153624548,-20.51069446772866,15.161770863066733,17.76621198346749\r\n",
      "2000-08-26,-7.1665886419501,-19.004023330187007,13.811480579152564,16.232172331104056\r\n",
      "2000-08-27,-5.2589023159301975,-18.955971858248972,15.347465357493506,17.136150703069813\r\n",
      "2000-08-28,-6.842528729215315,-20.001317284577006,18.58322920652556,18.200401281747403\r\n",
      "2000-08-29,-5.630990432123831,-20.50783119875186,19.498293716468,18.145285139625106\r\n",
      "2000-08-30,-5.8026234583029375,-21.60842873584726,20.087723760222243,18.174362647463585\r\n",
      "2000-08-31,-5.5296836435416346,-23.814774806992556,20.5811293344133,18.274877832501556\r\n",
      "2000-09-01,-6.579584951952522,-24.158687800748364,19.189627528632503,18.606324406635697\r\n",
      "2000-09-02,-5.739241975427581,-24.982844876189283,20.40376480075447,18.755463010949995\r\n",
      "2000-09-03,-3.9267580359579144,-24.780821908155982,19.27795983183783,16.738208819178\r\n",
      "2000-09-04,-4.703482191303036,-24.21034833674142,20.290607775210244,16.150792182364118\r\n",
      "2000-09-05,-3.028191767123318,-25.594779237355382,21.25756295540561,14.77707848492936\r\n",
      "2000-09-06,-2.4525559207602616,-26.565771775314595,22.910559107319784,15.875416592094634\r\n",
      "2000-09-07,-2.2499107049094946,-25.448162011742184,23.019251443581034,15.198552708053507\r\n",
      "2000-09-08,-2.3681960581715873,-24.30916486944011,21.72682521911818,15.59169362107528\r\n",
      "2000-09-09,-0.8090044747391465,-23.63685740411544,20.239956468779265,15.575495136062653\r\n",
      "2000-09-10,-1.1259037442819835,-22.744541129294472,19.51397385423678,16.22422944752563\r\n",
      "2000-09-11,1.5998229276239113,-22.769259600235504,19.235249111213868,16.054019931498612\r\n",
      "2000-09-12,0.2407425348620047,-23.869195783168593,19.978682287038744,15.35124591206236\r\n",
      "2000-09-13,1.180022611758564,-23.92511237316848,20.3513885565137,14.626023094039493\r\n",
      "2000-09-14,0.5571297965036585,-24.263255171049767,20.575298773299973,15.547758935266524\r\n",
      "2000-09-15,-1.019709476913007,-25.52184338436377,20.67432653438447,13.71887526043563\r\n",
      "2000-09-16,-1.057944287614415,-25.064417139689375,19.69827133486127,12.751379055279246\r\n",
      "2000-09-17,-1.9587906216810809,-24.542916175986427,20.504113352447817,12.875070617057258\r\n",
      "2000-09-18,-1.1876349929391292,-23.299029774745474,19.96657815003797,14.113402989443726\r\n",
      "2000-09-19,-2.039944636296344,-23.93521861705088,16.89524693875709,13.211235577277693\r\n",
      "2000-09-20,-3.2495325061133187,-23.448280062128717,15.027280920103642,14.457909335488491\r\n",
      "2000-09-21,-2.045955332469468,-22.443661198410155,15.607194886371417,13.068477034389915\r\n",
      "2000-09-22,-0.8692704289417952,-24.349432330674503,15.770136192103541,12.570910632822901\r\n",
      "2000-09-23,-1.048846988306631,-22.964304235538687,13.274684722150747,13.417868389493481\r\n",
      "2000-09-24,-1.6907846234466963,-22.520502774191755,13.758806263974291,15.660168711558937\r\n",
      "2000-09-25,-2.5242777561056684,-22.881609594285628,13.881957929500404,15.150049153237587\r\n",
      "2000-09-26,-0.11278817283061926,-22.77509516136769,13.867194793635017,15.715329472598576\r\n",
      "2000-09-27,-0.31371343880866476,-22.329898071818747,13.190442650713068,16.049804962178623\r\n",
      "2000-09-28,1.9376245498088691,-22.39777018412528,14.027907786742157,16.070984831030312\r\n",
      "2000-09-29,2.087900684911477,-22.367175667197824,12.3135312435777,16.97664594415916\r\n",
      "2000-09-30,2.4875746417417868,-21.19060848092815,11.19408884548526,17.306972829918195\r\n",
      "2000-10-01,3.1460120186146936,-20.479317378476328,10.134470934125927,18.404891448574734\r\n",
      "2000-10-02,3.1666852170364295,-21.059415180873483,9.935607823481512,19.220749157341135\r\n",
      "2000-10-03,2.6986614602901327,-20.468348911481243,10.654695325812535,20.351989458931634\r\n",
      "2000-10-04,1.846058646885441,-20.08232854853637,10.257323321896543,20.393048157077406\r\n",
      "2000-10-05,0.3614624580849892,-20.951457437168987,8.175281315933589,21.269462702049374\r\n",
      "2000-10-06,0.9029167472006783,-22.969511640767006,10.0048624492882,19.018810848146003\r\n",
      "2000-10-07,0.03931001942265555,-21.196192604558096,9.63124595201585,17.50027391278776\r\n",
      "2000-10-08,0.40955324518384506,-19.499025104560154,9.929891062418642,16.63844417985935\r\n",
      "2000-10-09,-0.6156508876765563,-19.52208652478354,10.378461123162419,16.997620682682882\r\n",
      "2000-10-10,-0.4030178870836243,-19.636769641851025,8.99999029848189,16.295928327477597\r\n",
      "2000-10-11,-0.9821368856350184,-20.747088122888925,10.379238060178189,16.28022061136886\r\n",
      "2000-10-12,0.37951406296090806,-21.63876977782683,9.444287669024114,18.90156035479724\r\n",
      "2000-10-13,0.42470924577786967,-21.600531416022772,8.190472699070385,18.52815607612209\r\n",
      "2000-10-14,0.7378903955266425,-20.006832499252567,7.979092622307394,19.301948323620863\r\n",
      "2000-10-15,2.634066653580499,-20.039482413704235,9.351531933497313,18.33960309921363\r\n",
      "2000-10-16,3.2002282020981325,-20.132784300098383,9.39426474730234,19.51148618241375\r\n",
      "2000-10-17,2.4490325669183974,-20.359850718609025,8.831324180113356,20.569521767031368\r\n",
      "2000-10-18,3.1315389953434556,-18.494629862260798,10.920340208363045,18.921883375764892\r\n",
      "2000-10-19,2.587177949136261,-17.583517116263643,12.306660259643472,19.724850880388377\r\n",
      "2000-10-20,3.0391311725182257,-17.30911289326913,14.76558323948132,20.389620605326154\r\n",
      "2000-10-21,3.008333012555751,-16.31069058728484,14.80218463153844,18.858874155584353\r\n",
      "2000-10-22,4.67384299709367,-16.15088945908124,14.57275093961854,19.78527908223913\r\n",
      "2000-10-23,5.016662995007858,-18.00379120628666,15.233921320826113,20.280739392393386\r\n",
      "2000-10-24,4.922923870554373,-18.90230003428173,15.473149229356304,21.284686493932135\r\n",
      "2000-10-25,6.0702335127397085,-18.96786721840936,15.752972895614626,20.342534325714016\r\n",
      "2000-10-26,6.206775998917314,-19.15322508396792,14.763380373611117,19.591960580300917\r\n",
      "2000-10-27,7.096246829411917,-19.386848393015367,15.949526921383884,19.032675966298914\r\n",
      "2000-10-28,7.492372395468422,-20.61682582202558,16.993440932240127,19.714707177652464\r\n",
      "2000-10-29,6.272250242695906,-22.083625812271002,16.1158808081741,20.37301144294423\r\n",
      "2000-10-30,5.765158924689289,-21.91185136404078,15.430365193776506,19.327349514928176\r\n",
      "2000-10-31,5.838042775792554,-21.562177817211342,15.371315303411734,19.413623124106415\r\n",
      "2000-11-01,4.784360145315767,-22.775191413363785,16.787815464045963,19.445700142061437\r\n",
      "2000-11-02,3.0301618540329267,-23.23540703521345,18.669357410381924,18.548348985409472\r\n",
      "2000-11-03,1.7760801128347907,-22.44387882351323,19.358175200012585,19.660544528576146\r\n",
      "2000-11-04,3.2564779406788746,-21.94246222525319,19.308843550283406,18.1817048332111\r\n",
      "2000-11-05,2.4975336788156306,-22.929569266414983,20.530385386875164,18.34979490369423\r\n",
      "2000-11-06,1.4951839236114053,-20.805470841746008,20.70993159456198,17.646520624558818\r\n",
      "2000-11-07,2.689995390608332,-21.070632148144938,22.85967103568722,18.033883715132365\r\n",
      "2000-11-08,4.944665721528467,-23.17050062037092,21.81717537535416,18.758209575704118\r\n",
      "2000-11-09,4.42571936971534,-23.190700944467405,22.269454505824545,19.3667877144615\r\n",
      "2000-11-10,4.220367962077943,-23.745660818875937,23.373161332203647,21.22077119430128\r\n",
      "2000-11-11,4.253980490299792,-22.547819592715605,24.348174510517357,21.414515540357947\r\n",
      "2000-11-12,3.3946723374209467,-21.191797605990473,25.016621750697155,21.268297197954947\r\n",
      "2000-11-13,2.7410004559719416,-20.4477325524492,24.79223804717711,21.88504387321441\r\n",
      "2000-11-14,2.871950358048988,-20.402775417842157,25.035437485945653,20.918859811871968\r\n",
      "2000-11-15,1.4524807864582034,-20.486285204935502,25.963686463929264,22.342451240681633\r\n",
      "2000-11-16,1.8231112536639003,-22.14455520941704,26.654801581884136,23.090069257353917\r\n",
      "2000-11-17,2.1877156936061604,-21.20483459834881,27.821106776726005,23.32256548569401\r\n",
      "2000-11-18,0.9799629342317238,-19.97927877448369,27.5108147741779,23.530607524267758\r\n",
      "2000-11-19,0.9455622362342945,-19.37300269343931,27.06517393618099,23.710085733713992\r\n",
      "2000-11-20,1.1667046971381583,-19.12245901693889,25.38888599852714,24.966749187695633\r\n",
      "2000-11-21,2.676498226968101,-19.162933309133216,25.4874133765857,25.82709590038461\r\n",
      "2000-11-22,1.680539729213312,-20.476983410437356,25.79739185384305,26.802045335643815\r\n",
      "2000-11-23,0.39586373106125605,-20.873307680717247,26.208182250742322,28.134716806997826\r\n",
      "2000-11-24,0.8426811149320964,-20.676546315980637,24.8012065467496,29.377501871137703\r\n",
      "2000-11-25,1.925918837284211,-21.623750494240312,22.86706276046352,29.496140507848448\r\n",
      "2000-11-26,2.560785697879913,-19.754712202997172,22.785747116217507,29.207299126187593\r\n",
      "2000-11-27,0.994552018411786,-20.6185333511898,22.65474656600989,27.84010423043955\r\n",
      "2000-11-28,2.287767786919167,-19.763530320914807,25.03417870293428,29.24353181021521\r\n",
      "2000-11-29,2.2549422033005615,-19.650270354001034,23.477123932542753,29.517565026868784\r\n",
      "2000-11-30,0.4798893292022317,-17.95353600307172,23.459872794259578,28.022245403540122\r\n",
      "2000-12-01,1.5888632282160589,-18.03355845966098,23.87374527785089,27.627174486812613\r\n",
      "2000-12-02,1.6637231735763214,-19.086738456493936,23.846057325098243,30.316502367394285\r\n",
      "2000-12-03,-0.002362720025481879,-18.199512812880535,22.138237555421814,29.597294955244116\r\n",
      "2000-12-04,-0.6661546162629595,-18.059529748997516,22.11584405425142,29.997661307342657\r\n",
      "2000-12-05,0.8610683471026905,-18.307428345071006,21.931271926638317,28.989491130257157\r\n",
      "2000-12-06,1.4177085758486578,-18.293121909132328,19.45056102375233,28.551987348637365\r\n",
      "2000-12-07,2.452945169758756,-18.331806845378885,20.342517045671936,27.39554467555647\r\n",
      "2000-12-08,3.7928959996933673,-17.793541299171785,22.08624025646867,28.846910404738104\r\n",
      "2000-12-09,4.682944483520756,-16.305302841671242,23.072421785205762,29.172151830976137\r\n",
      "2000-12-10,5.091680728300513,-18.900877835391775,23.66984338720523,28.738405413328785\r\n",
      "2000-12-11,3.8267554647218933,-19.993874849116253,25.435503405986804,29.01418606169328\r\n",
      "2000-12-12,3.3821615905196256,-21.579133891916786,25.98747278677263,29.2722356512685\r\n",
      "2000-12-13,3.582826450744786,-21.49916028833646,27.551335619701867,27.27874334891475\r\n",
      "2000-12-14,5.837626843149753,-22.89109335590436,28.40864239856254,27.936731742408732\r\n",
      "2000-12-15,5.598714905217749,-22.505623787307577,27.242333334942085,27.91226336594905\r\n",
      "2000-12-16,5.37484075552655,-23.39357543274496,28.00392933148834,28.47735733597828\r\n",
      "2000-12-17,5.6989877542404255,-23.029421691537767,29.156649489111615,28.031282072449958\r\n",
      "2000-12-18,5.21843564431497,-22.281838165349267,30.232797463312618,27.332813967782407\r\n",
      "2000-12-19,4.930841537459326,-22.773511018310494,29.12308111851626,28.91631767824251\r\n",
      "2000-12-20,5.5792024508393885,-23.65376656803405,29.576196111768997,29.064437177451506\r\n",
      "2000-12-21,7.022001833765362,-24.10570305043045,30.352372754971935,28.50642486396817\r\n",
      "2000-12-22,6.609783187327817,-25.119023349801477,30.432620095526033,28.868940098358383\r\n",
      "2000-12-23,6.934838916358072,-24.285326126903502,30.83479451687123,28.823814817706612\r\n",
      "2000-12-24,7.205815216110923,-25.27113477017551,29.31339097602794,29.135797082339508\r\n",
      "2000-12-25,8.369594304301152,-25.13604426197062,29.473444826878325,28.97729798119738\r\n",
      "2000-12-26,7.465038485352769,-25.925448806462676,31.47799520791376,29.081780662005585\r\n",
      "2000-12-27,6.418921165396623,-25.478862482696034,34.11749849018767,28.659346981734817\r\n",
      "2000-12-28,5.692007085781958,-27.3011659192691,33.21897378614733,28.43160538212254\r\n",
      "2000-12-29,4.809658230030708,-28.05546647803325,33.45926251081052,28.128804903907202\r\n",
      "2000-12-30,4.866293363344681,-26.620900957293856,33.83082279825441,28.334536333219432\r\n",
      "2000-12-31,4.637980779787402,-26.348557195301733,33.73427487146467,29.14271401038797\r\n",
      "2001-01-01,4.853308294538537,-26.436117909505782,32.75563671437033,29.98090632686569\r\n",
      "2001-01-02,4.6753678919008275,-26.87966648825905,33.592104876763756,30.556018092322184\r\n",
      "2001-01-03,5.582762082610295,-25.996048031683532,32.586616837832814,31.944074802336715\r\n",
      "2001-01-04,5.589037198739609,-26.234230978702012,32.92575279395628,31.213138857548884\r\n",
      "2001-01-05,5.951600597092011,-24.180551637683152,33.364565122183784,31.04983250369921\r\n",
      "2001-01-06,7.229225505472947,-24.006181841108845,30.448167477680382,30.87083974579989\r\n",
      "2001-01-07,7.564455999752814,-24.747352087890164,29.694070162899266,30.763796645357928\r\n",
      "2001-01-08,6.943825306928,-26.232484074722194,29.817266583669834,31.016145996487776\r\n",
      "2001-01-09,8.035695374811826,-25.33621657929407,30.899556954319525,32.0485499111953\r\n",
      "2001-01-10,6.357204796309401,-24.851801452335405,29.910701527677958,32.35831665365311\r\n",
      "2001-01-11,6.511007397704453,-24.813654113265798,30.13743462319694,32.83117733773172\r\n",
      "2001-01-12,5.55429758752708,-24.149835241803363,30.30229473181997,32.212656800219044\r\n",
      "2001-01-13,6.97344924390586,-25.201790703089664,30.30120763358252,32.72950999351268\r\n",
      "2001-01-14,7.244178888380867,-26.784918590796917,30.1873801762082,33.50767408816102\r\n",
      "2001-01-15,8.737254392440628,-26.296478934647965,31.121489136474292,32.63039585974667\r\n",
      "2001-01-16,8.174024151267204,-26.579911140162324,30.30848904800037,32.13932690648281\r\n",
      "2001-01-17,7.922616458097784,-26.183601163046546,29.728021669795442,30.69487520953351\r\n",
      "2001-01-18,8.46651219876508,-25.91692040471804,27.851570867822062,31.975869136454143\r\n",
      "2001-01-19,8.36681283795403,-25.826359726444657,30.28213337808028,30.190789879877187\r\n",
      "2001-01-20,8.647239050787485,-25.66952459826031,31.675481150092114,32.40664150799388\r\n",
      "2001-01-21,7.357004900715945,-22.973972727923446,30.88442087519237,31.20724283723205\r\n",
      "2001-01-22,5.904473455174509,-22.71717423123393,29.40731459591305,32.323613199687465\r\n",
      "2001-01-23,5.243891105401766,-23.100180178687506,31.066116359657897,30.907059815783903\r\n",
      "2001-01-24,5.798705285243713,-22.670603052484953,29.947628636498298,31.676681584166587\r\n",
      "2001-01-25,6.052378248674472,-22.55597666084423,28.952286075476596,32.21723041438891\r\n",
      "2001-01-26,5.546964161798207,-22.19204338659725,29.24525090811986,34.319753343723306\r\n",
      "2001-01-27,7.367970765816914,-23.51979805858403,29.908944467977534,33.92196465455236\r\n",
      "2001-01-28,5.917013840656608,-22.047938152290122,30.817848861553273,34.15311918743578\r\n",
      "2001-01-29,6.610519919161834,-21.76367541158916,31.544144280381264,35.22354337562674\r\n",
      "2001-01-30,6.9409326961001305,-20.55507970239274,29.801125962472774,35.280612914940924\r\n",
      "2001-01-31,8.076882705056569,-19.541961521378028,29.521913687053207,34.94867369197919\r\n",
      "2001-02-01,7.996432028445284,-20.735242198540607,31.391678997624453,36.137026311967894\r\n",
      "2001-02-02,8.523429101586778,-20.250518720317295,29.37666015524824,36.708114828477996\r\n",
      "2001-02-03,8.459124832797986,-18.18013244891158,30.6054242286773,36.08584659068193\r\n",
      "2001-02-04,8.047394576476954,-16.654025788828044,29.42685824190108,39.164331048831706\r\n",
      "2001-02-05,6.569302424570111,-16.22493694332928,29.706298038017177,39.776073051316025\r\n",
      "2001-02-06,7.160068125064746,-16.916828534213256,32.41967197649598,38.55798313845638\r\n",
      "2001-02-07,9.968542159515383,-15.814019995228831,32.266874463950536,39.30203172701105\r\n",
      "2001-02-08,9.049301804473696,-15.994246535072849,34.38980285531464,39.83465430325779\r\n",
      "2001-02-09,10.413684312758157,-16.32682211408784,34.41370477383661,37.921208849492665\r\n",
      "2001-02-10,11.371127274722166,-17.117944415256897,35.15327752153112,39.44264543153189\r\n",
      "2001-02-11,10.530724676972058,-17.67538680356681,33.45013043612772,40.31971077430586\r\n",
      "2001-02-12,13.705592890244558,-16.979272734000563,33.728808269752264,41.711591401258914\r\n",
      "2001-02-13,15.740639042790047,-17.86140367222301,33.01365606901326,44.011896845037576\r\n",
      "2001-02-14,13.512643374912859,-17.858855086155682,33.05396960377272,41.64471298375077\r\n",
      "2001-02-15,10.774972291626083,-17.84102264310961,33.26117626954528,41.24596061321217\r\n",
      "2001-02-16,10.436348471046173,-18.602226290605774,33.88105259193754,40.82345357963358\r\n",
      "2001-02-17,9.821430390283513,-18.771905061285302,34.97259236645068,40.828447770276306\r\n",
      "2001-02-18,10.408477166654432,-17.925117025504086,34.81991907636556,41.34619728996385\r\n",
      "2001-02-19,9.422086913598616,-18.214097561532824,34.06051670625772,41.159734949077844\r\n",
      "2001-02-20,9.002197602343802,-17.234386215893622,33.04969804161231,42.00448210556833\r\n",
      "2001-02-21,10.89885528058156,-16.785251486628944,32.55626589375212,42.63048778622353\r\n",
      "2001-02-22,9.476304571271807,-17.200241167631656,32.137403615839894,43.53394041312737\r\n",
      "2001-02-23,9.550836978521707,-15.68204723731429,31.35743990146058,42.71813372709598\r\n",
      "2001-02-24,8.817936844259766,-14.339910545671387,30.721982298520906,42.00068536839982\r\n",
      "2001-02-25,8.092714665128428,-15.172506606316011,30.853887304257512,42.70722334457882\r\n",
      "2001-02-26,10.008268026137678,-14.061380302443753,31.262149039376798,42.3917511296841\r\n",
      "2001-02-27,12.839335205827815,-15.276496562934089,30.5625790517362,42.386355701150734\r\n",
      "2001-02-28,13.839078122672671,-14.832026131678395,29.104130758574787,42.543480388068915\r\n",
      "2001-03-01,13.525791079472626,-14.240737147477965,30.54514738429579,43.35515184655218\r\n",
      "2001-03-02,14.400510493660523,-13.67677028827975,30.32262521222888,43.50913453590907\r\n",
      "2001-03-03,15.191596577408715,-13.804171875191107,30.17053125764511,44.67555694228632\r\n",
      "2001-03-04,15.736429548431175,-13.994936669282113,32.2692118752349,44.18757508134588\r\n",
      "2001-03-05,15.896267196686672,-14.48701545466707,31.39860653187275,45.82460026687966\r\n",
      "2001-03-06,17.469983213622584,-14.106698988324228,31.87452482700205,46.07406362350389\r\n",
      "2001-03-07,17.153739094525324,-14.248617764955444,32.53034077793249,44.88885686701478\r\n",
      "2001-03-08,16.812020992510416,-16.110557196130756,33.46060520822288,44.40235248661794\r\n",
      "2001-03-09,17.10221395625495,-16.45343612420312,35.32847781802791,43.84667319715502\r\n",
      "2001-03-10,16.459415947405226,-17.2274826379493,35.585007771954594,42.946959223707225\r\n",
      "2001-03-11,17.611360876408504,-16.53376747035559,35.87526174442112,42.28952967900124\r\n",
      "2001-03-12,18.273984958076184,-15.546040997308857,36.180589973898705,41.30391225817917\r\n",
      "2001-03-13,16.507559301923585,-14.116636216574761,37.7912625251522,41.83529804213505\r\n",
      "2001-03-14,17.33587750957682,-14.829604634164953,38.76212761023647,41.86486941429065\r\n",
      "2001-03-15,17.73923182082389,-16.409826403456925,38.74860244819802,43.88208447264692\r\n",
      "2001-03-16,17.519243029737527,-17.80108905470431,39.173159040568606,43.94266795620001\r\n",
      "2001-03-17,18.620803884408524,-19.128500354940726,39.640814679599124,44.418202635219124\r\n",
      "2001-03-18,17.65811589634935,-18.01231366009799,40.761938476627016,43.3268247328259\r\n",
      "2001-03-19,17.594839780417093,-15.537242615735309,40.68780885061454,41.87556537238381\r\n",
      "2001-03-20,17.51791020983838,-14.603052058734285,39.320158407547304,41.93474177004449\r\n",
      "2001-03-21,16.161289748181822,-14.902455060044087,39.93413569811805,40.96468513100063\r\n",
      "2001-03-22,18.594119413776603,-15.822699475667864,38.87542637519006,41.055553584910605\r\n",
      "2001-03-23,18.26702780155821,-16.328273809195696,38.510204722985826,40.321530454978664\r\n",
      "2001-03-24,18.622316062406306,-16.619322885049655,39.650235794389694,39.24013931240171\r\n",
      "2001-03-25,18.89567694798308,-17.888044167425715,41.26811130612707,40.944952641069946\r\n",
      "2001-03-26,19.8559974349006,-16.797969796951794,41.20558924410623,41.943543499851906\r\n",
      "2001-03-27,18.04360796028669,-16.649194541731738,43.54736116601252,41.676711718970175\r\n",
      "2001-03-28,18.723618598181982,-16.88643045137843,44.5330351748818,42.866094412855325\r\n",
      "2001-03-29,20.129958449770864,-17.989391604879888,44.95673981003711,44.015224317232786\r\n",
      "2001-03-30,18.751926124958473,-18.889390316315787,45.54722415457421,45.502175028065615\r\n",
      "2001-03-31,17.792485306421543,-19.0377503626583,44.976435753426955,45.02453604400706\r\n",
      "2001-04-01,20.6636643287765,-19.090083707247658,44.94667181790355,45.78169776224793\r\n",
      "2001-04-02,21.6653861034548,-19.67838053283652,44.17340346999629,45.198154643419386\r\n",
      "2001-04-03,20.71912493137315,-19.832448811439082,45.214860697168284,45.85315980627447\r\n",
      "2001-04-04,20.11137460253173,-19.953552409791666,46.79348481387007,47.110031327501716\r\n",
      "2001-04-05,20.875283679388737,-20.01808328092417,45.89221219891138,48.197198161011336\r\n",
      "2001-04-06,21.6834371528871,-19.859498729032435,46.50103196757251,48.133854728183685\r\n",
      "2001-04-07,22.223728753671736,-21.16384831440749,45.943335204171895,49.103869852680454\r\n",
      "2001-04-08,21.62517981791464,-21.17824276023402,45.96238106799365,49.21000570264414\r\n",
      "2001-04-09,22.220273100852626,-20.81316402807716,45.364158340732594,48.88392509901998\r\n",
      "2001-04-10,21.881916767334445,-19.919625624869852,43.73300359105466,49.52198317821649\r\n",
      "2001-04-11,20.410961229222817,-17.60185434831316,44.882207236909544,49.16922722970219\r\n",
      "2001-04-12,20.18998575968185,-17.99858287533595,46.28352698534933,49.398521035251925\r\n",
      "2001-04-13,21.493865991643222,-18.49827897007909,46.7624418624848,50.22120719057707\r\n",
      "2001-04-14,19.858572622311844,-17.885564084406514,47.8445313863185,51.40636976429739\r\n",
      "2001-04-15,18.899134259296076,-18.35050188725012,48.571138577314905,50.45015033524862\r\n",
      "2001-04-16,18.05155832389921,-19.089447524275368,49.30024852573494,50.36567637758114\r\n",
      "2001-04-17,17.150958323086844,-20.143911916977686,48.716506400886644,51.39037586950336\r\n",
      "2001-04-18,17.975865015272614,-19.450860594419016,48.20323959736162,53.25175689849784\r\n",
      "2001-04-19,17.614004806571828,-19.086908000685256,49.87390172680366,51.90484486895465\r\n",
      "2001-04-20,17.619307602348112,-18.012803233499806,49.70812281648542,52.24012031674329\r\n",
      "2001-04-21,18.15180942241508,-17.60799091330727,48.17856839404927,51.811853060273535\r\n",
      "2001-04-22,18.606715692017016,-17.475417782117386,48.9743470993396,51.965393019054495\r\n",
      "2001-04-23,19.11596755369576,-17.928997199193443,48.8201148061393,50.77218202955371\r\n",
      "2001-04-24,17.576230156187737,-17.18761782036314,48.7318916380091,50.34407167829388\r\n",
      "2001-04-25,18.512351136251993,-17.659603353863982,48.10421233145792,51.97979043401092\r\n",
      "2001-04-26,17.325926097124057,-18.763112356409188,47.30377303941706,51.287987945259225\r\n",
      "2001-04-27,16.916744297355454,-20.861916021715636,46.427863109174965,50.38879540319954\r\n",
      "2001-04-28,17.74479464359102,-20.43861664421501,45.64199785249262,50.31281961284138\r\n",
      "2001-04-29,17.69126303809913,-18.51985662145444,45.18415222788223,50.31927964045816\r\n",
      "2001-04-30,19.03612738249696,-18.369691426744172,45.38570744361524,51.077812497635364\r\n",
      "2001-05-01,18.948984058364548,-17.262518622982828,44.77368230862389,50.60860928633488\r\n",
      "2001-05-02,18.973823145121457,-14.828043145972096,43.71356294375233,50.618359377045884\r\n",
      "2001-05-03,17.562870617863936,-15.757665247750042,43.47429088796377,50.13084528715929\r\n",
      "2001-05-04,18.49853242368453,-14.769853877043387,41.60811147939898,49.94603050078301\r\n",
      "2001-05-05,16.691836973911926,-14.525156456519905,42.28192001689455,49.570823340839915\r\n",
      "2001-05-06,16.31725791702111,-15.311672671381457,42.15069601838204,49.40701414790853\r\n",
      "2001-05-07,16.41438081796937,-14.17864917352386,41.25576599801839,48.897693833854454\r\n",
      "2001-05-08,14.922612133079182,-14.863096873592033,41.85000137194774,49.35852658082669\r\n",
      "2001-05-09,14.981200724394578,-14.858455654541427,42.6187988409993,48.78177052791118\r\n",
      "2001-05-10,14.155011130192957,-14.81825519282502,42.93862739816708,48.26934706706312\r\n",
      "2001-05-11,14.088409768611784,-14.631408125362716,42.12346238769167,47.97554980581261\r\n",
      "2001-05-12,14.139139236783775,-13.627641404346091,43.307506335226,48.76985687491639\r\n",
      "2001-05-13,13.753492534236225,-14.899606233694485,42.20244024491623,48.695087495398\r\n",
      "2001-05-14,12.700531609909216,-12.339769365278281,41.543666424796896,49.01964896969074\r\n",
      "2001-05-15,11.731878574384083,-12.811706221125924,41.78795777592076,49.35591956128271\r\n",
      "2001-05-16,11.798011645245044,-11.79228035336021,42.3125021217631,49.396459388771284\r\n",
      "2001-05-17,10.529354790616795,-13.539707314191087,42.6894146802195,49.73072653717836\r\n",
      "2001-05-18,9.695011592713422,-14.005795160495975,42.43418262797304,48.945550133011686\r\n",
      "2001-05-19,9.862931961664076,-13.419962271742223,43.914313122276575,49.399738102149655\r\n",
      "2001-05-20,9.168260247672585,-12.905452615339975,42.89006890276127,49.20029451000682\r\n",
      "2001-05-21,8.703841241250265,-15.400423353196972,44.16946895435339,47.76478645897432\r\n",
      "2001-05-22,9.478879980663612,-15.071993789267207,46.03044631095512,47.910882277876325\r\n",
      "2001-05-23,8.87415240612135,-15.575095726711655,46.00735572833679,47.262047643130686\r\n",
      "2001-05-24,10.299805779151452,-17.0081467014598,47.37767941326031,47.52270528677144\r\n",
      "2001-05-25,10.835971635222927,-19.418450334160628,45.987155596180045,47.753668520463854\r\n",
      "2001-05-26,11.151902231081595,-20.3926713528921,44.99917089959454,46.23072172787626\r\n",
      "2001-05-27,10.89563981037101,-20.10880869077432,44.146239110830706,45.61108326375337\r\n",
      "2001-05-28,11.097924129667394,-18.78401774023255,43.91223163950034,45.894003313384985\r\n",
      "2001-05-29,11.376850042404541,-19.79490507346276,44.00891266831916,45.89445828389946\r\n",
      "2001-05-30,11.373818145411636,-20.878243908046844,43.28900737611755,45.17280210862324\r\n",
      "2001-05-31,10.15666770226314,-20.555126068911232,42.57498533759448,46.17098992343851\r\n",
      "2001-06-01,10.978429711684088,-22.748165256000675,43.31812470573323,46.049368976519844\r\n",
      "2001-06-02,10.279449572555613,-23.968187227689068,42.836066024391314,46.87761924214542\r\n",
      "2001-06-03,9.600209661134539,-24.436988694234657,44.02055154414022,47.83275350897051\r\n",
      "2001-06-04,9.276308301597286,-22.910595936521922,44.87128748437131,49.35735260136947\r\n",
      "2001-06-05,8.12375496435591,-24.461249752200033,45.33509213785917,49.91677407583718\r\n",
      "2001-06-06,9.271397983500426,-24.915133440994488,45.50957261468839,50.24930675768455\r\n",
      "2001-06-07,9.259791140015142,-25.82819700714118,45.39007137395742,50.02273767808946\r\n",
      "2001-06-08,9.513067483097702,-25.49258283896329,45.78478789184311,50.457372824776314\r\n",
      "2001-06-09,10.44098734450187,-27.743119263583157,42.288027298024446,51.55293999694614\r\n",
      "2001-06-10,8.415324656409611,-26.468771016189287,44.480172524839965,51.89809051476498\r\n",
      "2001-06-11,9.140862947530193,-25.224187457181937,44.153713208125495,51.28686299946191\r\n",
      "2001-06-12,6.7711285709587,-26.38845570475445,42.90342406053732,53.66266875591012\r\n",
      "2001-06-13,4.820445244728191,-25.295094167353543,43.13989926026798,56.25437870425678\r\n",
      "2001-06-14,3.988918760229032,-27.297646887129766,43.6277870249456,56.685151749227124\r\n",
      "2001-06-15,3.961880920970125,-28.40816970194828,42.84243641168129,57.73643992884381\r\n",
      "2001-06-16,3.6130823103793457,-28.059617803175332,42.477640377037766,57.82494805703173\r\n",
      "2001-06-17,2.493731415385529,-27.007924462062423,42.556823374314284,57.996850065777174\r\n",
      "2001-06-18,1.9188719149934068,-27.23640137638478,44.198012758633006,57.893260917125865\r\n",
      "2001-06-19,2.870488674234996,-27.765147645041093,42.50955090323677,58.3592580886323\r\n",
      "2001-06-20,0.9110002009815232,-26.286990137573504,42.07743668315932,57.514584658365955\r\n",
      "2001-06-21,0.18966511237212103,-26.829109506428367,42.583520148503794,57.404202779166994\r\n",
      "2001-06-22,0.3170927309816725,-25.61026668896844,42.95375776568965,57.50757156027894\r\n",
      "2001-06-23,1.462165221470354,-26.412904813467534,43.04490960441935,59.02871151032142\r\n",
      "2001-06-24,1.0265258299127415,-25.414813340230406,42.656345563254895,59.53309052411232\r\n",
      "2001-06-25,0.8988651247478461,-26.232203293012883,43.23630096225066,58.92423169440793\r\n",
      "2001-06-26,1.9839839417412402,-25.51342459119278,42.66504810743749,59.591409519992816\r\n",
      "2001-06-27,3.0557235585767613,-24.125250984386252,41.47268420047127,60.560966071306794\r\n",
      "2001-06-28,3.2764631118039063,-23.94587430920049,41.41848114707453,60.80538960073087\r\n",
      "2001-06-29,3.1469899762122044,-22.13355721875998,40.07819711906539,61.437875927651056\r\n",
      "2001-06-30,1.9603283749169496,-22.26557087976285,40.28369571147143,62.21238040482718\r\n",
      "2001-07-01,1.1859989996200007,-22.76721938534413,39.87103911163225,60.84403366139871\r\n",
      "2001-07-02,1.705117063014048,-23.983209799793432,40.8769987403547,60.31789837367751\r\n",
      "2001-07-03,1.9300240294078845,-23.63515938114914,40.02708415622452,61.700012677529585\r\n",
      "2001-07-04,1.343383459557706,-23.86879633733444,40.11002021619078,62.31935217205497\r\n",
      "2001-07-05,-1.1978872648280017,-22.69934892819395,43.369544192349345,60.32131429795375\r\n",
      "2001-07-06,-1.1746239909029583,-22.520043226288376,42.262228119513566,59.90534564107189\r\n",
      "2001-07-07,-1.2894377139455446,-21.216943478403007,41.02777412413311,58.67456029789695\r\n",
      "2001-07-08,-2.148055009763497,-22.4130028967867,39.975570933010765,58.31297839584073\r\n",
      "2001-07-09,-1.4398023241667839,-23.474833858457597,40.65164918878322,58.384594872070444\r\n",
      "2001-07-10,-3.182898584600921,-23.921403150909104,38.102482294084425,57.964236335323164\r\n",
      "2001-07-11,-3.736517440996953,-23.552714530267515,40.82087361677221,58.68502728483376\r\n",
      "2001-07-12,-3.4100835930360245,-21.958815324879463,40.9868891307916,59.75821080264967\r\n",
      "2001-07-13,-3.8604065754751242,-21.879064158662988,42.85845152532982,59.51558893237092\r\n",
      "2001-07-14,-2.5525259366451705,-23.616112634481173,41.566530461639466,60.747340181498345\r\n",
      "2001-07-15,-2.028268741487322,-22.148339480254,41.35152790589101,60.715098397422196\r\n",
      "2001-07-16,-3.0153189280199597,-21.326750312921803,39.698579975157855,60.278607803798934\r\n",
      "2001-07-17,-2.6071573853718153,-21.79641752718214,39.07976942987457,59.52939036030366\r\n",
      "2001-07-18,-2.8310292751596817,-22.255307581013284,40.81738035612944,58.55081335232673\r\n",
      "2001-07-19,-1.6098694983606452,-20.659748321678077,42.53348084962719,58.608700870355\r\n",
      "2001-07-20,-2.531172723191099,-19.747729131168136,42.80589123172853,59.236126011466574\r\n",
      "2001-07-21,-2.8880009595907246,-19.654574009114906,42.01733772749484,58.648621642228875\r\n",
      "2001-07-22,-3.3025250713840606,-19.834989124694825,40.935224985958435,59.54368969010469\r\n",
      "2001-07-23,-2.8820103088309064,-21.562120815531628,41.7853036163227,58.37404770153456\r\n",
      "2001-07-24,-3.6210615125358543,-22.161244965023982,40.7383198136618,59.01223999687903\r\n",
      "2001-07-25,-1.3336325769861772,-22.130041204000218,40.60635431796486,59.068293138593546\r\n",
      "2001-07-26,-1.5105086938494374,-23.950532769312165,40.149020787805235,57.78959278335483\r\n",
      "2001-07-27,-1.7800693642755525,-22.96522055371649,39.53667792250233,56.25657108157872\r\n",
      "2001-07-28,-0.8554201201000886,-22.80673264162834,39.56765599257207,56.856598304442635\r\n",
      "2001-07-29,-1.4166685012501468,-20.93575168251453,39.807760526761186,56.51124266242325\r\n",
      "2001-07-30,-3.8588498291447437,-22.79016062096774,39.256327870498794,56.2076471031733\r\n",
      "2001-07-31,-3.657922553808061,-22.1336209949869,40.076714747023104,56.19615767479031\r\n",
      "2001-08-01,-4.338203588109465,-20.796717870697307,40.51646236513998,56.25549295252769\r\n",
      "2001-08-02,-3.2641633208680227,-21.571351222071264,39.46991608072487,56.877278229798144\r\n",
      "2001-08-03,-4.6793274170969905,-22.31591438318983,39.341475949709164,57.42601092112406\r\n",
      "2001-08-04,-4.655945421954303,-21.390344807771122,37.889213088966095,59.36602825269286\r\n",
      "2001-08-05,-6.529546971286212,-21.35375875455322,39.191027443040355,59.53875740067414\r\n",
      "2001-08-06,-8.535096460417547,-20.358880161097154,39.9116604111941,60.30203533747472\r\n",
      "2001-08-07,-9.231294162427105,-21.559558976330187,40.885749215043035,61.56517015477963\r\n",
      "2001-08-08,-8.700984989312483,-20.005445892793023,40.861108256982526,61.92737956977843\r\n",
      "2001-08-09,-8.076553110454997,-20.859457723966393,39.82610313446631,61.888387476472396\r\n",
      "2001-08-10,-7.594260700639321,-19.514125344226613,39.67567323628855,62.49819395577577\r\n",
      "2001-08-11,-6.057186888055497,-19.274039917914653,41.12608140583378,62.51084530106439\r\n",
      "2001-08-12,-4.048795886759761,-21.27743832751244,42.14131206387558,61.14332945644649\r\n",
      "2001-08-13,-3.454645849541917,-21.75677787901685,42.29727155181873,62.40878391134462\r\n",
      "2001-08-14,-4.8967323638472955,-21.348013635913826,41.43131282172488,62.716132520232726\r\n",
      "2001-08-15,-5.449962400920238,-21.460720099719033,41.336135980571,61.0740497042512\r\n",
      "2001-08-16,-5.009504366326036,-22.57498149954092,41.59862433514306,61.07324717440201\r\n",
      "2001-08-17,-4.49834853001444,-24.979020037317948,41.426123683411184,60.969598754417426\r\n",
      "2001-08-18,-4.331212127357197,-25.23744221591055,40.02171234287443,62.53943768028906\r\n",
      "2001-08-19,-3.0911961919144777,-27.204115610660683,39.95043475621082,62.04029583938449\r\n",
      "2001-08-20,-3.4222867140529845,-25.846645769882624,39.72577584228031,59.36660658171915\r\n",
      "2001-08-21,-5.436600027533958,-25.543675584790254,38.72594629309951,59.348940076555046\r\n",
      "2001-08-22,-6.066262951257087,-24.775900175211113,38.11718065060267,60.325989463181195\r\n",
      "2001-08-23,-5.690437625130303,-25.09501405642794,36.953971125359,59.95437667296316\r\n",
      "2001-08-24,-6.1811576942126445,-26.134964580768102,38.74036804949569,60.788909191654405\r\n",
      "2001-08-25,-6.203486326949395,-26.893354476007246,39.17406597130225,60.84624535659076\r\n",
      "2001-08-26,-6.204616196203303,-26.3513434866912,38.4525237591488,62.572595152467784\r\n",
      "2001-08-27,-4.317666442551528,-27.70161418173993,38.45383880030126,62.134849109652386\r\n",
      "2001-08-28,-3.1799160655822734,-26.37788383327627,36.69916375478554,61.91900093275261\r\n",
      "2001-08-29,-4.599637170376354,-24.345766613002635,37.39390931203474,60.11531278296096\r\n",
      "2001-08-30,-6.380102889945263,-26.974122543773202,37.041106619616436,59.73236691973548\r\n",
      "2001-08-31,-6.534089912055874,-26.388865019685568,35.44114238395006,58.32066602102701\r\n",
      "2001-09-01,-6.712714347808077,-26.67585135330107,34.43017405299474,58.76608054255702\r\n",
      "2001-09-02,-7.45940002027119,-27.213070373000253,35.07734430181885,59.94130745152194\r\n",
      "2001-09-03,-7.10934815336792,-27.144122963357624,35.71032204539878,59.531968507523416\r\n",
      "2001-09-04,-8.66029259230968,-26.524841417665836,36.420408996385014,58.80443944837407\r\n",
      "2001-09-05,-7.042224784991866,-25.56135818157702,36.09725713895413,58.4284181770961\r\n",
      "2001-09-06,-7.311130549242489,-25.901706812489703,34.58277703357919,57.11102783617333\r\n",
      "2001-09-07,-5.389195883388935,-25.14608850617071,35.499018682441196,57.44229400613503\r\n",
      "2001-09-08,-5.349571681448071,-26.928881651616592,35.570643158368235,57.74284796872103\r\n",
      "2001-09-09,-4.754683317801524,-27.220044018402444,35.193122906179724,57.59796330190876\r\n",
      "2001-09-10,-6.842936151681373,-27.612296181917316,35.54055367568383,56.51589943465637\r\n",
      "2001-09-11,-7.641257731586536,-26.594320858207833,35.29178205365615,56.643501675552976\r\n",
      "2001-09-12,-7.262314636798464,-25.021525334039712,36.31970380513049,58.00187343539259\r\n",
      "2001-09-13,-7.351605573227844,-23.491465242438743,36.92923703884524,59.346285785170835\r\n",
      "2001-09-14,-8.67577048288246,-21.734406422718514,35.46204756117568,59.86541979719271\r\n",
      "2001-09-15,-9.101302995808345,-21.619517944555152,34.09201659650548,58.86432390962152\r\n",
      "2001-09-16,-9.922542062804222,-22.373516355921574,35.60536009311524,57.81360627679562\r\n",
      "2001-09-17,-12.0357322122423,-24.399763972426566,35.3029885298838,56.58718987091919\r\n",
      "2001-09-18,-11.993508736889249,-24.061120393364746,35.450530783089974,55.851119215014144\r\n",
      "2001-09-19,-10.74367648510788,-25.55144655344482,34.74391192727585,56.69466051300392\r\n",
      "2001-09-20,-10.388940771384005,-26.90293777556296,34.67720007202757,56.14252735854748\r\n",
      "2001-09-21,-10.031894940263127,-26.037559205900994,36.29824169606963,57.42280851680969\r\n",
      "2001-09-22,-10.188616215153155,-24.108465999173653,34.35983246509108,58.258811976683\r\n",
      "2001-09-23,-10.51621502891737,-24.390158398352483,34.14214392584863,59.38323387991461\r\n",
      "2001-09-24,-10.346332949058029,-23.353897151788342,34.67166189491241,59.20480194070765\r\n",
      "2001-09-25,-10.105587997948204,-23.76478608025406,33.016359621105934,57.633196102015994\r\n",
      "2001-09-26,-9.204408436465469,-25.072685479247532,33.72901265452189,58.77496713036191\r\n",
      "2001-09-27,-10.556471708178831,-24.8090504363705,34.571608026176676,58.206090299157026\r\n",
      "2001-09-28,-10.853112032088072,-24.277574881670557,35.75169338215622,58.53580874088726\r\n",
      "2001-09-29,-9.644767640364849,-24.75768308336352,35.59184109894268,59.099283430456516\r\n",
      "2001-09-30,-10.131188793009075,-24.597281594142995,35.94503655824798,59.08286271938003\r\n",
      "2001-10-01,-10.093239397871569,-24.794951264602165,37.92231274225021,59.42128062689424\r\n",
      "2001-10-02,-11.315988643178613,-23.571087415173672,38.12193025038222,58.50178399815218\r\n",
      "2001-10-03,-10.856379517670078,-22.142993342102976,37.46501894141696,58.908277147218534\r\n",
      "2001-10-04,-11.290395439242346,-21.83984345056614,37.33930083413713,60.737388091088924\r\n",
      "2001-10-05,-10.93203047977229,-23.4747781328829,36.65624878780458,62.46045184763056\r\n",
      "2001-10-06,-10.60278451720471,-23.90989373717634,38.51152552874314,61.19899988397016\r\n",
      "2001-10-07,-10.321678628985271,-24.870128112628663,37.45018273593364,60.8953459988133\r\n",
      "2001-10-08,-9.647335280881336,-25.582745182743388,36.591385445594874,60.762638034672406\r\n",
      "2001-10-09,-9.768501986541164,-27.041171749953943,37.739615630178676,60.18889695662613\r\n",
      "2001-10-10,-9.70313069381178,-25.923042076646354,39.83785829691231,59.40164624072022\r\n",
      "2001-10-11,-10.80180371628106,-25.976751967288745,37.14800907222384,60.808988746026635\r\n",
      "2001-10-12,-11.504610346679424,-26.704150617792354,36.35025448115798,61.9294193509296\r\n",
      "2001-10-13,-10.955154890941524,-25.569048729222697,37.875742656491255,62.263028381680165\r\n",
      "2001-10-14,-11.033282957452,-26.63665754554479,39.457922007673886,62.72435174414713\r\n",
      "2001-10-15,-10.999352102919607,-26.099350607058728,39.466203388805724,64.11178347684483\r\n",
      "2001-10-16,-11.89715178642172,-25.6642405828357,38.08097184012481,64.97431241758251\r\n",
      "2001-10-17,-11.582216413056221,-26.431758000951163,39.90504343970751,64.0877529145418\r\n",
      "2001-10-18,-13.202067593889861,-25.99842542630329,37.500637367011805,64.4987951590371\r\n",
      "2001-10-19,-13.289358901273879,-26.666384957237895,38.753138129490985,64.61472670188127\r\n",
      "2001-10-20,-12.9326135628179,-27.39249655317269,39.198308888544126,64.9841115526232\r\n",
      "2001-10-21,-12.912301052426354,-26.87709258450447,37.97994848021452,64.74543023359612\r\n",
      "2001-10-22,-12.759651472993284,-27.86292968804323,38.260650047016384,65.2757346398531\r\n",
      "2001-10-23,-13.34315645219209,-26.558469853396538,37.480319605109955,66.20148161366991\r\n",
      "2001-10-24,-11.073028006133823,-28.426693263926147,37.94354348408758,66.83008651202738\r\n",
      "2001-10-25,-11.989270940810725,-27.640702687684612,38.238600974877194,66.94391174082581\r\n",
      "2001-10-26,-12.46165551545348,-27.831893195396326,37.96835297411538,68.21592553731188\r\n",
      "2001-10-27,-11.167261977841543,-28.765637613954382,37.00251497549193,66.89036531606384\r\n",
      "2001-10-28,-11.16401558708527,-29.80376502620988,36.03707507812762,66.65697786450899\r\n",
      "2001-10-29,-12.070605091326401,-30.161165394083977,33.67263178284398,65.83411585472011\r\n",
      "2001-10-30,-13.048872388011459,-29.540644363792637,32.16298620463831,66.73740115723061\r\n",
      "2001-10-31,-12.7054136059182,-31.35471494080527,33.52843265718541,66.73706291321182\r\n",
      "2001-11-01,-12.340057586458325,-30.98362868947771,31.410760351304337,65.69466071275104\r\n",
      "2001-11-02,-11.835289606157769,-31.02882618591744,31.340207447727426,65.66146317596164\r\n",
      "2001-11-03,-12.335191271848283,-31.900584470097673,31.89700351909744,65.91207608991031\r\n",
      "2001-11-04,-14.432597299846465,-30.039489687646306,32.1436727480088,65.46280858420074\r\n",
      "2001-11-05,-14.515966799726563,-31.06514617896268,31.9192957235827,64.46499570790063\r\n",
      "2001-11-06,-14.693221111379092,-31.35387255958817,31.428473957530354,65.12002647239176\r\n",
      "2001-11-07,-14.45705371729601,-30.202211679887014,32.24505032358716,65.24592728508534\r\n",
      "2001-11-08,-14.402249785327072,-30.50200111613613,31.212187882793394,63.428301985744476\r\n",
      "2001-11-09,-14.076546193192424,-30.27681518113227,29.31464013956858,60.290388535443185\r\n",
      "2001-11-10,-14.754338023582083,-28.099519396091907,29.20384797409072,59.5074612926374\r\n",
      "2001-11-11,-15.026756028373633,-27.1247775312516,28.18407863682112,60.45390134577568\r\n",
      "2001-11-12,-15.62576611007612,-26.784705816098977,29.573437682397156,62.62256564254176\r\n",
      "2001-11-13,-15.083546010792126,-27.173518444769282,30.242131956756477,61.61528205699003\r\n",
      "2001-11-14,-13.97948978197752,-27.05407157728377,30.675123470858214,62.75561140761921\r\n",
      "2001-11-15,-12.16063023002451,-27.94784562261469,30.27652595837489,62.1475981425224\r\n",
      "2001-11-16,-11.87655680114263,-27.9211582176625,28.994225049475922,60.25936013421472\r\n",
      "2001-11-17,-10.156884709923755,-27.67465826926265,29.766902083637024,61.23911057809912\r\n",
      "2001-11-18,-10.833812855729004,-26.903495235978614,29.17863937756086,60.358925215896946\r\n",
      "2001-11-19,-10.753282160628592,-27.658249156782965,29.3382667173003,60.49996069820224\r\n",
      "2001-11-20,-12.291768080775869,-27.849749069167693,29.096649051989715,59.718847548268805\r\n",
      "2001-11-21,-12.324848427824831,-28.397865745655526,29.823892683801585,61.22741206762272\r\n",
      "2001-11-22,-12.468430676364342,-28.363479742643197,31.05129347209006,60.24361521228369\r\n",
      "2001-11-23,-11.697983475749524,-28.842958300691343,32.32158780617544,59.359392109499915\r\n",
      "2001-11-24,-13.257072780383465,-29.546183800894493,32.027994074495844,59.91501510262761\r\n",
      "2001-11-25,-14.400898444708165,-31.527469621531395,31.57645096409916,59.46532621474955\r\n",
      "2001-11-26,-15.069166752942325,-30.31067363182521,31.04318187674582,60.09856847749974\r\n",
      "2001-11-27,-14.723651329165412,-29.554265832317686,30.905389061281827,58.976963827533325\r\n",
      "2001-11-28,-12.278425289031846,-29.073702926968437,30.759000620254806,59.11163984926969\r\n",
      "2001-11-29,-12.29342096995128,-29.25681352867107,30.275768704949055,58.542833758269424\r\n",
      "2001-11-30,-12.46746059236461,-29.781443752835376,31.933770524419177,58.99569596077885\r\n",
      "2001-12-01,-12.904442952441721,-28.410729217600704,31.269028422369015,59.72071703553428\r\n",
      "2001-12-02,-12.231726370358505,-27.368889148937058,33.29782327815113,58.86297997490493\r\n",
      "2001-12-03,-12.409223395560083,-28.01230625505747,33.482910918779154,58.77276221313929\r\n",
      "2001-12-04,-11.008549040524628,-28.454536760792106,34.716174102821896,59.68806591152633\r\n",
      "2001-12-05,-8.96320854710197,-28.5861241798052,34.879533379237664,59.853177271868454\r\n",
      "2001-12-06,-8.253703082841756,-28.963132570257972,34.27052918106816,58.18846507652172\r\n",
      "2001-12-07,-7.4550278545095665,-28.743206366613098,35.11861181091875,57.255336687145665\r\n",
      "2001-12-08,-6.905231430534251,-27.24741386910454,35.84889070284805,55.980576676968944\r\n",
      "2001-12-09,-7.375014044372741,-26.87955276757773,34.228048123368666,57.91470483104072\r\n",
      "2001-12-10,-7.217731412277619,-26.23699044049783,34.0489720796872,58.03957894238646\r\n",
      "2001-12-11,-9.99083776808069,-26.33450695240706,34.45561209117964,57.62828242365085\r\n",
      "2001-12-12,-12.158223827718583,-26.3621008991638,34.261283073866984,55.9856270360591\r\n",
      "2001-12-13,-12.224397526855666,-26.020851024802557,34.70206854435686,55.508703693683955\r\n",
      "2001-12-14,-13.501424511757927,-24.173507383160846,33.898186752116864,57.63064243318433\r\n",
      "2001-12-15,-13.07152646584888,-23.669917088725963,32.98598627244801,58.019050769242845\r\n",
      "2001-12-16,-13.603917623718994,-24.169357544689554,33.85731548967529,58.43539962298297\r\n",
      "2001-12-17,-13.8947308135304,-24.108869317181238,33.80612379452657,57.24094158402093\r\n",
      "2001-12-18,-12.599653296954507,-24.687855450889813,32.5008040620216,56.75363657051297\r\n",
      "2001-12-19,-14.940600762038368,-26.162335869133145,30.7948268531973,57.066719585105034\r\n",
      "2001-12-20,-14.140865086124364,-27.103948241883188,31.039409368491974,56.862632732859694\r\n",
      "2001-12-21,-14.022725194903101,-27.790330189982313,30.867037107946548,57.796281709964084\r\n",
      "2001-12-22,-11.988084827436092,-27.291735488990206,30.23532483139903,57.60623106821428\r\n",
      "2001-12-23,-11.656927886849905,-27.272365151882845,31.56112242369473,57.3185764920884\r\n",
      "2001-12-24,-11.279602255434236,-26.367692272879662,30.70418397221279,57.56775384791654\r\n",
      "2001-12-25,-10.6151049172293,-26.09469890214616,30.224243182033856,57.07588715798486\r\n",
      "2001-12-26,-11.471346058785649,-25.321272739789126,30.883015055343062,57.35309351942842\r\n",
      "2001-12-27,-13.036852065170226,-25.975104079058397,30.38172346794442,58.558428113424206\r\n",
      "2001-12-28,-13.89865647339766,-26.685285915792356,29.821812626481773,58.80552690185356\r\n",
      "2001-12-29,-14.120273512533535,-26.58579128334726,32.38400717987117,59.407628558656555\r\n",
      "2001-12-30,-14.841659578784975,-27.625007063855634,33.258483870481875,58.84572221253413\r\n",
      "2001-12-31,-13.790326874270855,-28.79308439051957,34.58235551600493,58.15302368494834\r\n",
      "2002-01-01,-15.516694419263917,-27.769971784873093,34.18611245859404,59.39807451251351\r\n",
      "2002-01-02,-16.230230494465392,-29.38622906122694,33.947586065150894,60.699933467622934\r\n",
      "2002-01-03,-16.400606540609243,-28.376951480213567,34.6433753664496,60.14576628282226\r\n",
      "2002-01-04,-15.342677586621498,-30.84608065154424,35.482690932009774,60.895943377445676\r\n",
      "2002-01-05,-15.312679430854521,-30.145983148909025,35.420085281301404,60.02014708139228\r\n",
      "2002-01-06,-15.206795147206742,-30.141555236621308,35.84086880600255,59.58963706150276\r\n",
      "2002-01-07,-14.607744420887029,-29.648828823387014,36.836542403200966,59.31592330882028\r\n",
      "2002-01-08,-12.590514416724083,-30.380577148836586,36.17235899103031,60.051508274211734\r\n",
      "2002-01-09,-11.620196460192194,-32.75279554163827,35.31192408774305,60.24065505771754\r\n",
      "2002-01-10,-11.775673484384098,-30.739213276350625,36.51129465876966,59.01119837002054\r\n",
      "2002-01-11,-11.565449646765964,-31.635470023370882,35.983234002611695,58.65318115015873\r\n",
      "2002-01-12,-10.43995793246909,-31.845090815884497,35.853510455892724,59.673146554613545\r\n",
      "2002-01-13,-11.51334280073241,-31.225977890326075,35.912286768568976,60.62988255127199\r\n",
      "2002-01-14,-12.157823466242045,-30.88569314821614,36.973340964061116,61.40755408789238\r\n",
      "2002-01-15,-12.510845727270716,-29.067703006750513,36.64383746761347,62.20228524559864\r\n",
      "2002-01-16,-13.401067613998592,-27.93082637859782,35.922747897141726,60.95920262646053\r\n",
      "2002-01-17,-12.797282143672263,-27.389839508208144,35.50914526725962,62.33238561260011\r\n",
      "2002-01-18,-11.444575891682181,-27.54835585974008,36.19367510124087,63.402131020922276\r\n",
      "2002-01-19,-10.822944991102085,-26.37578732124966,35.396774173779264,62.30547579373561\r\n",
      "2002-01-20,-11.49110236375039,-25.656633774477537,35.18329591965619,63.2985704665668\r\n",
      "2002-01-21,-11.009593683333014,-24.891409905383878,34.61868632512484,63.665173535038036\r\n",
      "2002-01-22,-12.885040572004215,-25.494170180445956,34.20414336501198,63.41701971948705\r\n",
      "2002-01-23,-12.813703010281309,-25.005652430967675,34.61343842766595,63.884959293044815\r\n",
      "2002-01-24,-13.219230772729656,-24.91312910847822,35.31672155790507,65.42989411894662\r\n",
      "2002-01-25,-11.345749180105027,-23.625095754339814,35.62947315049138,64.3255399264589\r\n",
      "2002-01-26,-12.65332537459843,-24.070711950446103,36.55672726093822,63.15955494284132\r\n",
      "2002-01-27,-12.651941847847793,-23.885529499962217,37.2978790314769,63.70590741939015\r\n",
      "2002-01-28,-13.237155201983109,-24.104450430226564,37.06388914295631,64.35301359772235\r\n",
      "2002-01-29,-13.986412329256225,-23.706699535086326,38.25741556657172,64.92083012579296\r\n",
      "2002-01-30,-14.15748092265389,-23.24066108365725,38.456393757535515,64.48189181860934\r\n",
      "2002-01-31,-13.979265864432444,-23.120802484601942,38.694019861013274,64.01553170161044\r\n",
      "2002-02-01,-13.77696025899304,-23.449400655553436,37.782801514463365,64.13981749020073\r\n",
      "2002-02-02,-13.705108550642361,-22.338862045297613,36.962915668318566,65.15446318542318\r\n",
      "2002-02-03,-15.232163719812752,-21.470484310724665,37.35595888189661,65.95953989500251\r\n",
      "2002-02-04,-16.690764175604254,-21.454790024609228,38.836384563679005,64.25081502197875\r\n",
      "2002-02-05,-16.773396102001502,-21.260026096681578,36.84747046065246,63.74563097311796\r\n",
      "2002-02-06,-15.94106169045683,-21.728384210730894,36.9875132128446,64.75906959790295\r\n",
      "2002-02-07,-15.464600722226564,-21.935167807629576,36.86670490994633,63.00709790104538\r\n",
      "2002-02-08,-17.50808711147041,-21.46643119764729,35.76091486528879,62.44078095255728\r\n",
      "2002-02-09,-17.722063195657924,-20.721967164334664,37.43064130870873,60.838286189237344\r\n",
      "2002-02-10,-18.4713879057552,-20.73532454031359,37.276448539631836,60.7371058397413\r\n",
      "2002-02-11,-17.81384064966569,-21.493497103699127,40.556092435917535,60.56074204687843\r\n",
      "2002-02-12,-18.889187169252768,-21.555706727330943,40.66334559805681,60.463648286678215\r\n",
      "2002-02-13,-19.813245180223745,-21.065927633203927,40.32700348235084,60.493934428049066\r\n",
      "2002-02-14,-18.979303582591452,-20.899913095782363,41.36193087626004,60.455255339131114\r\n",
      "2002-02-15,-21.199761937067034,-22.521502649009797,41.24140451544872,61.267702016106675\r\n",
      "2002-02-16,-19.301442206978496,-21.690914089646952,40.3020224690776,61.628039584124224\r\n",
      "2002-02-17,-19.15085982191587,-22.33529301039207,39.41785587267258,62.69299206723942\r\n",
      "2002-02-18,-20.598715256221272,-21.563658538136686,39.26087036317132,61.2347364461587\r\n",
      "2002-02-19,-21.011791056630752,-19.36121948849113,39.03591611499515,61.71676048008935\r\n",
      "2002-02-20,-21.41467498476551,-19.537042889742,39.07492690154286,59.49992172694973\r\n",
      "2002-02-21,-21.280676495658714,-20.351682004781903,40.44771386957887,58.89767142842667\r\n",
      "2002-02-22,-22.355681135636893,-20.9738693569944,38.47146010488804,58.871502347259614\r\n",
      "2002-02-23,-23.29220911740728,-19.938166863052636,38.39366829646256,59.30042283381392\r\n",
      "2002-02-24,-23.175272051257448,-20.608605571579485,36.869883043031734,60.42117180079105\r\n",
      "2002-02-25,-22.929495828476977,-18.557486863312153,38.20278940510689,60.75989122840904\r\n",
      "2002-02-26,-24.125643816119318,-20.169054928789407,38.95634513832899,60.07938401551931\r\n",
      "2002-02-27,-25.007072325781344,-18.800813692858757,37.96260844116274,59.25888786823001\r\n",
      "2002-02-28,-25.682594708676255,-19.079244525655824,39.54109978309382,59.3553107674049\r\n",
      "2002-03-01,-24.996683787703088,-19.843258783510432,38.391962087401176,59.62297449173778\r\n",
      "2002-03-02,-25.032901494737672,-20.718344900640716,37.5465925233973,61.04121734678148\r\n",
      "2002-03-03,-26.8598317727649,-21.232540475940443,36.59244114310581,62.30333865531926\r\n",
      "2002-03-04,-27.24910110624449,-20.377103713218496,37.32122657638161,60.919696721381875\r\n",
      "2002-03-05,-28.675645181044853,-19.211362275970977,38.82538734477334,60.15381149198269\r\n",
      "2002-03-06,-30.188500859044908,-17.775470820726454,37.504591950678886,59.053170710278316\r\n",
      "2002-03-07,-31.334408380592887,-18.563654432033456,36.17415620115362,59.26916041883166\r\n",
      "2002-03-08,-32.039687759718255,-18.292143597710712,36.46026747319296,60.05545570796326\r\n",
      "2002-03-09,-29.899185274393794,-19.815589106121447,37.49444231581759,60.46545585045357\r\n",
      "2002-03-10,-28.701979438674947,-20.25623874036879,38.51716038557472,57.815282738469406\r\n",
      "2002-03-11,-28.910872163269715,-22.341556418635356,40.11799567966767,57.23253182908762\r\n",
      "2002-03-12,-28.982729510577663,-22.71501828780413,39.58114952565763,57.99192947280767\r\n",
      "2002-03-13,-28.20643359255275,-23.46499869822599,40.94038692332015,57.51439650917275\r\n",
      "2002-03-14,-27.232745349531676,-23.65278911547483,40.34481047616226,58.46591700883536\r\n",
      "2002-03-15,-26.675578255840158,-24.881636338764267,40.39483081642197,59.95868263262372\r\n",
      "2002-03-16,-26.897916335909464,-25.17698733367762,39.253719810908294,60.69441001709945\r\n",
      "2002-03-17,-27.12085700857929,-27.093492978955798,38.628021456560774,60.450471221032025\r\n",
      "2002-03-18,-27.99411560995528,-28.22927456861325,37.6585899244161,59.99730490624867\r\n",
      "2002-03-19,-27.01368353845857,-29.29300125279294,36.529309407560824,60.82180731535684\r\n",
      "2002-03-20,-27.877345296716186,-29.11639020084623,34.77373240478755,60.006033381650354\r\n",
      "2002-03-21,-28.231493173572186,-29.14490040449187,33.63086779157541,60.86151358696151\r\n",
      "2002-03-22,-28.819519858180115,-28.149288844755123,35.58333828445231,61.99504690310403\r\n",
      "2002-03-23,-27.19226271911815,-28.3235596785817,36.1826276070706,61.70706521614583\r\n",
      "2002-03-24,-27.212917465015625,-29.069026225771925,37.1646888156512,62.583490073486246\r\n",
      "2002-03-25,-27.76113984180498,-28.934768937384856,36.34815204958869,62.71594352512734\r\n",
      "2002-03-26,-27.147474183350248,-27.084745529046103,36.482560912210964,63.268693985278844\r\n",
      "2002-03-27,-29.2500735394113,-26.19897030548637,34.25488372707903,63.78946859967027\r\n",
      "2002-03-28,-28.54456453339414,-27.254163687366763,34.3807788675194,63.6867178343334\r\n",
      "2002-03-29,-28.045134834465333,-25.7419024536353,33.985862923912364,62.87465266730911\r\n",
      "2002-03-30,-28.41203987931798,-24.76757094329199,32.68377525340205,60.724363264534695\r\n",
      "2002-03-31,-28.494574132250264,-26.268691921010713,31.779021705706715,61.58427349590526\r\n",
      "2002-04-01,-29.523223814199323,-25.68439730276043,31.954749793867894,60.09161159112927\r\n",
      "2002-04-02,-30.65663595309356,-25.116362459967863,31.947227609328415,60.3917302790523\r\n",
      "2002-04-03,-30.606705583160554,-25.760858373822078,32.26073242942093,61.565329279641915\r\n",
      "2002-04-04,-29.09182209291673,-25.259129900194104,32.84339164452919,61.77331143553956\r\n",
      "2002-04-05,-30.00977187622701,-24.15992637282275,32.229643550606355,60.741308348494414\r\n",
      "2002-04-06,-28.546437335023125,-24.202955360267527,33.25648930646003,60.24053000104958\r\n",
      "2002-04-07,-27.922840551414037,-24.42977111177318,35.10629341630218,59.78756010841299\r\n",
      "2002-04-08,-26.44989847924142,-25.521268009883812,33.625242916235656,58.767086512622235\r\n",
      "2002-04-09,-27.527833784352534,-24.80410641174226,33.3516317805008,58.419653595483474\r\n",
      "2002-04-10,-28.55365807697983,-25.479270921609412,32.404996384213185,60.30048122482884\r\n",
      "2002-04-11,-27.95755432207617,-25.46313024371266,32.90579414142819,60.48540663742474\r\n",
      "2002-04-12,-29.044887036858558,-25.219133048012946,32.10556833465178,61.71350245587986\r\n",
      "2002-04-13,-29.461340287800592,-25.349061647482365,28.662056527229886,58.40973197415618\r\n",
      "2002-04-14,-30.720728929181497,-27.236390883408333,28.343852330791254,58.998208545555\r\n",
      "2002-04-15,-31.848205301539732,-27.104578405806933,28.141610466421835,56.57116492750192\r\n",
      "2002-04-16,-31.82817281944122,-27.25149624500138,27.96226271654615,56.4974145416352\r\n",
      "2002-04-17,-30.159442625242573,-25.480386428695887,27.414652475011994,55.81748046549638\r\n",
      "2002-04-18,-30.635188112579367,-24.765476250667515,27.67216918331392,56.51329474756136\r\n",
      "2002-04-19,-28.000563453611683,-26.081450483744042,28.205519109622692,58.2748309854651\r\n",
      "2002-04-20,-27.620481240445447,-26.468210934623357,27.51975086980486,58.780072052367984\r\n",
      "2002-04-21,-27.27513331950423,-26.08690131824332,26.84647643457894,59.0820276679159\r\n",
      "2002-04-22,-28.045010964542303,-26.59001154974831,26.484838865332748,58.903288810331205\r\n",
      "2002-04-23,-27.158882349348033,-27.295216115306765,26.06942417219859,59.17694200422408\r\n",
      "2002-04-24,-26.177874445987822,-28.19012394375353,24.987188074497354,58.85527713590576\r\n",
      "2002-04-25,-24.37957867498315,-28.46307317453906,25.25785274294786,59.006621061272426\r\n",
      "2002-04-26,-24.061215121777835,-28.671562073669094,25.9529377457567,57.592554657977516\r\n",
      "2002-04-27,-24.939501943642195,-29.063859116001275,26.623536984360907,57.12851214959725\r\n",
      "2002-04-28,-25.962033159898102,-27.924074583953136,28.040458343200534,57.023828596687224\r\n",
      "2002-04-29,-26.821088336168746,-28.155986309753185,28.145954658239837,56.79775283519797\r\n",
      "2002-04-30,-28.18149804695525,-29.146157852029326,27.314411935759505,57.06600594827166\r\n",
      "2002-05-01,-27.901585397186636,-30.12589959986225,27.925716199093856,57.930902213095294\r\n",
      "2002-05-02,-28.564062157340565,-27.724524629540863,27.71264673912777,57.66974003895945\r\n",
      "2002-05-03,-30.710277678866994,-27.48987120990585,28.382596957572705,59.04307773130458\r\n",
      "2002-05-04,-30.160579617000433,-28.11466858986237,28.346341098792138,59.055377209875374\r\n",
      "2002-05-05,-29.11127875162154,-26.836083155069694,27.969405423244105,60.40479387707179\r\n",
      "2002-05-06,-29.234304390163288,-28.25479765046898,29.50481740333454,60.16720118209483\r\n",
      "2002-05-07,-24.78060072880728,-27.66068586761776,27.92772494556859,60.67320938289707\r\n",
      "2002-05-08,-23.76455624899893,-27.460641232274586,28.952271083796496,59.88392120327815\r\n",
      "2002-05-09,-23.413149079140023,-27.19970994311547,28.32464753338947,60.243170804876954\r\n",
      "2002-05-10,-24.384130783264613,-27.221008768400548,29.293823577025552,59.838276860069946\r\n",
      "2002-05-11,-23.846749273730328,-26.032145904866763,28.449421331756014,60.22811756908446\r\n",
      "2002-05-12,-24.825454400989287,-25.006612093572777,26.781048395120287,60.58034059913732\r\n",
      "2002-05-13,-25.5220400725174,-25.923097977230416,27.081167311772912,62.427594460828644\r\n",
      "2002-05-14,-25.87374745102149,-24.53817224291614,26.774279085439236,62.91888975276852\r\n",
      "2002-05-15,-27.418596347108,-23.44137637528853,26.52211189883592,63.21071090722392\r\n",
      "2002-05-16,-25.94851570739921,-24.981062965513274,26.179536141165045,63.98568275557632\r\n",
      "2002-05-17,-27.54157626321858,-24.597616152645752,25.511549541059924,63.01611906290591\r\n",
      "2002-05-18,-26.76809646785031,-24.438170404001752,26.055582514613786,63.166185482912255\r\n",
      "2002-05-19,-25.488523340944568,-25.502274886198375,27.493562810755627,62.91759240151843\r\n",
      "2002-05-20,-24.5102394720747,-26.0131933101652,26.237060648252818,63.422960932242006\r\n",
      "2002-05-21,-24.249444115166586,-26.171719343308016,26.14533247238131,65.45944145380854\r\n",
      "2002-05-22,-25.243205647821036,-26.84752582982262,24.634961984067193,68.6480641983412\r\n",
      "2002-05-23,-25.537271877119437,-26.540356534551577,23.986543770458493,67.79786706902446\r\n",
      "2002-05-24,-23.376717925398342,-25.157592237440863,24.754597811004743,69.33433464804577\r\n",
      "2002-05-25,-24.585439672394216,-26.511055320462695,25.376476609048577,70.99019422756616\r\n",
      "2002-05-26,-24.657190477483372,-26.860323689154434,25.354187100178052,70.83763884617566\r\n",
      "2002-05-27,-26.355878631996593,-25.326132035524658,26.018494214762335,71.95468880941313\r\n",
      "2002-05-28,-26.787548231952865,-26.547562026779126,25.547100921672328,73.96031030590431\r\n",
      "2002-05-29,-24.852005046452994,-25.07871377629713,26.761323203393324,74.55645833617066\r\n",
      "2002-05-30,-26.264541488650618,-25.999408419648265,26.472916409617586,75.42554017626283\r\n",
      "2002-05-31,-27.003347450944506,-26.069448011349213,27.024001085918552,76.81675811087337\r\n",
      "2002-06-01,-25.396885819923046,-26.236732846540356,25.82742530821454,77.44112493206072\r\n",
      "2002-06-02,-27.519583339026312,-26.21066905072214,24.777551835565994,77.00815448888395\r\n",
      "2002-06-03,-27.09858391522527,-25.84320906701282,22.71412222264965,77.19269744791382\r\n",
      "2002-06-04,-27.844434943215518,-26.10702819462892,22.63610560286365,76.43142182458406\r\n",
      "2002-06-05,-27.744510629095874,-26.53062296482707,21.821654735798642,76.40366098701956\r\n",
      "2002-06-06,-26.071399549739624,-25.846046253597287,19.52799412578801,75.55392271431471\r\n",
      "2002-06-07,-25.834168129958215,-25.292385230596363,20.47609070452832,75.5379391053387\r\n",
      "2002-06-08,-26.92320590255909,-25.870126774453308,20.11150140062319,76.7237022682163\r\n",
      "2002-06-09,-27.512555234865722,-26.471821986797007,19.881689180014824,77.17922720290235\r\n",
      "2002-06-10,-27.116313787227824,-26.334171538195175,19.568515835218754,77.56046338650211\r\n",
      "2002-06-11,-26.97440831952434,-25.3538133428882,19.869803190885353,78.66818891642917\r\n",
      "2002-06-12,-29.283679951260115,-27.24690052639,20.16351417889433,78.2931024814652\r\n",
      "2002-06-13,-31.755647829001596,-28.166851642370677,19.109259450073534,80.11392932033996\r\n",
      "2002-06-14,-33.09645915396559,-29.22674567547716,18.168772618559867,79.76961826682302\r\n",
      "2002-06-15,-33.66794680509616,-28.849455891279106,17.31132564214355,80.46304730404069\r\n",
      "2002-06-16,-35.0973659694991,-28.25096963783785,17.188057076409812,80.37879182573796\r\n",
      "2002-06-17,-34.50712908185942,-28.662891003941738,18.42957237207782,79.86515280186678\r\n",
      "2002-06-18,-35.84822067809547,-29.355748196541896,17.740979904229114,81.5632083600269\r\n",
      "2002-06-19,-36.161547072952736,-28.852862923816552,17.385179514585293,80.14517867229853\r\n",
      "2002-06-20,-36.01324008063863,-27.611315666814583,17.519002569022206,78.44931283263035\r\n",
      "2002-06-21,-36.33794964178417,-26.981096159032187,17.621413935199236,78.38392794731968\r\n",
      "2002-06-22,-36.89162223675808,-26.892125227262433,17.636814447243886,77.43553576149439\r\n",
      "2002-06-23,-36.303993232314916,-28.35544930673353,19.41412401244979,76.86936844037086\r\n",
      "2002-06-24,-35.83848461105982,-27.750586740654704,19.30220473398277,75.21549407437188\r\n",
      "2002-06-25,-36.85085023369656,-27.515432872745617,18.4840718143917,74.21818161377733\r\n",
      "2002-06-26,-39.4885888346596,-27.896745527122988,19.19935093876171,75.22966492446784\r\n",
      "2002-06-27,-39.88499988694704,-29.415343883850667,19.35391635910653,74.70248650620962\r\n",
      "2002-06-28,-41.73117876667678,-29.133306626304343,19.229704941112225,75.07065701429518\r\n",
      "2002-06-29,-43.09896916057383,-28.966350029156096,17.773229873073277,74.8915694017814\r\n",
      "2002-06-30,-43.58023853858891,-29.957345793636957,16.53492592410008,74.00290991133194\r\n",
      "2002-07-01,-43.96762256708161,-28.499973004969647,18.66509559639173,73.6913313195169\r\n",
      "2002-07-02,-43.09215458536835,-28.367239786170952,19.529188876524234,72.48547237079032\r\n",
      "2002-07-03,-43.55635836678886,-27.039689054851078,18.848592268311386,72.40160823189643\r\n",
      "2002-07-04,-43.13161961296171,-26.54239918015004,17.005833229241226,71.84298759704008\r\n",
      "2002-07-05,-43.35929555862801,-25.927789390530865,17.324744181082572,71.94938761597835\r\n",
      "2002-07-06,-41.7170150060988,-28.48181023567974,15.245659118860384,71.9802631801594\r\n",
      "2002-07-07,-40.77265109200531,-27.641871685298156,13.74924770357727,72.476040525244\r\n",
      "2002-07-08,-41.89428611774774,-28.2755084312821,13.28224879588436,73.10177224493998\r\n",
      "2002-07-09,-40.9561450628765,-28.970100436778594,12.585581439838636,71.54477476901688\r\n",
      "2002-07-10,-41.802582405331066,-29.07628867201384,13.609915363043307,71.72111928929992\r\n",
      "2002-07-11,-42.04996672596149,-28.393890927597507,12.183255972246876,70.03865505851584\r\n",
      "2002-07-12,-39.242051791296916,-29.944289337095935,11.731397158824642,71.25993175827541\r\n",
      "2002-07-13,-38.58301983033842,-30.561811894926283,11.834455627122766,71.51383632990982\r\n",
      "2002-07-14,-38.3775500408621,-28.93972239368215,12.915903011149483,72.30184821226217\r\n",
      "2002-07-15,-37.188371330169524,-27.358699253151087,12.512046822229767,72.41098831378595\r\n",
      "2002-07-16,-34.62778920250867,-27.923689403971316,11.415993599560943,70.41151051796922\r\n",
      "2002-07-17,-35.261475258733576,-27.303614354622425,11.699812733864599,71.48873596627021\r\n",
      "2002-07-18,-34.6075793606,-26.89969643042582,10.933114484530886,71.82767948912334\r\n",
      "2002-07-19,-35.55316214861612,-23.664293535929772,11.471718822954037,70.14284263668738\r\n",
      "2002-07-20,-37.14446335831447,-24.74517287334979,11.315823900356298,70.79268868390913\r\n",
      "2002-07-21,-36.6256589625444,-25.57366290225781,11.139615972924584,70.77645672941719\r\n",
      "2002-07-22,-36.38738116638447,-25.506583129866993,12.113499056998677,70.45666013179392\r\n",
      "2002-07-23,-37.672252677937244,-25.522043808391473,11.962126056791938,70.49215161204965\r\n",
      "2002-07-24,-36.70954429156831,-25.1568409903537,9.814285056387124,71.52395471229242\r\n",
      "2002-07-25,-37.98321520336231,-24.913003829819466,8.91847087679539,72.6168150001317\r\n",
      "2002-07-26,-35.95737654458189,-24.51283326240422,9.539149963763345,72.61825575645278\r\n",
      "2002-07-27,-36.857041295066345,-25.380689810120362,9.909253880867405,73.92824468961811\r\n",
      "2002-07-28,-36.84625246800678,-27.26801510028559,8.926714923579146,74.04991674825372\r\n",
      "2002-07-29,-37.83996685349593,-26.732406840540545,8.929186325141213,74.09667182693741\r\n",
      "2002-07-30,-38.14175418345003,-26.240107115555073,9.589016805033047,72.87975240865282\r\n",
      "2002-07-31,-38.04876486222007,-26.89296325727064,9.36103305438659,73.05114230301257\r\n",
      "2002-08-01,-37.7468016601764,-25.219091261724124,9.047869930264936,72.40934940802589\r\n",
      "2002-08-02,-36.908865417007654,-24.454001199938908,8.245315789135617,73.51297080661561\r\n",
      "2002-08-03,-36.42559575984988,-23.636622237571515,7.155736572895307,74.70211458986267\r\n",
      "2002-08-04,-35.0446990757491,-22.93955764992037,6.323353382125121,74.15075977249582\r\n",
      "2002-08-05,-35.50341328552868,-23.22573379068388,6.436017697772386,74.84041222657433\r\n",
      "2002-08-06,-34.94630283806172,-23.57278156389544,6.51591030081127,75.00032860115742\r\n",
      "2002-08-07,-34.18138456344426,-22.860618304463753,5.903079316719056,75.94276107220927\r\n",
      "2002-08-08,-33.5271568496442,-22.753530356271135,6.286616087055615,75.55405354204666\r\n",
      "2002-08-09,-34.58811903590004,-22.660573893120414,7.477609552721544,75.01424140861717\r\n",
      "2002-08-10,-33.67660580059691,-23.49422662658278,7.070205372884752,74.53033098075247\r\n",
      "2002-08-11,-32.764348978888115,-23.04676770527156,7.802546904663853,74.40850861862383\r\n",
      "2002-08-12,-34.520920076978136,-23.21682557750241,7.11012459776497,74.38834632746112\r\n",
      "2002-08-13,-34.57971227135116,-22.61847548157908,5.911669692147655,73.88579502973728\r\n",
      "2002-08-14,-34.419161562529574,-21.315073744492544,6.026831040260915,75.88451088760216\r\n",
      "2002-08-15,-34.8917385622438,-22.74210000840343,5.354199309849056,74.64997292246707\r\n",
      "2002-08-16,-33.22235198230883,-20.773640213813255,6.254021050170836,75.63087660759518\r\n",
      "2002-08-17,-34.11324365370272,-21.196916551698408,7.902804934589136,76.47772902134136\r\n",
      "2002-08-18,-34.04599337930451,-20.519675734389224,7.2730249469089125,76.95915666084926\r\n",
      "2002-08-19,-35.879121545645276,-19.246648478716498,6.923725434858795,78.14093115357878\r\n",
      "2002-08-20,-35.41488201148812,-18.728549719581547,6.816652013674483,78.87093945080515\r\n",
      "2002-08-21,-33.291335509279236,-18.218477770999762,5.956499678153393,79.35023882438\r\n",
      "2002-08-22,-31.975000711986898,-16.932065528246056,6.399698356391061,80.45031756757783\r\n",
      "2002-08-23,-33.49622499898691,-16.12910459778924,6.446997212307664,80.09122362395199\r\n",
      "2002-08-24,-34.734559251020215,-16.64523841253845,6.511874067872954,78.93089633631945\r\n",
      "2002-08-25,-33.70817966625702,-16.423431962993746,9.058191860292288,78.7542628965184\r\n",
      "2002-08-26,-33.287459729936714,-17.409870760652908,10.040285734387014,79.38082500514139\r\n",
      "2002-08-27,-33.47577728562014,-16.85021571781622,11.100221689161847,80.3997360260077\r\n",
      "2002-08-28,-33.53517173568075,-15.360613630415543,11.071018385610374,79.41160582191321\r\n",
      "2002-08-29,-30.505855106237714,-14.915617714037868,11.790780747488396,79.42651626351376\r\n",
      "2002-08-30,-30.328693298073997,-15.753611109812635,10.86880546731603,79.65741331413203\r\n",
      "2002-08-31,-29.68513581354182,-16.564590917002672,11.810640329569559,81.52648452217964\r\n",
      "2002-09-01,-29.386844051325014,-16.674714430165288,9.68423568914599,80.4792136799903\r\n",
      "2002-09-02,-27.977552296760535,-19.150390531588464,10.760204993202583,79.69837942061355\r\n",
      "2002-09-03,-28.58726385359721,-17.76658812033464,10.787495141653118,78.98301546433117\r\n",
      "2002-09-04,-26.78129167622429,-16.424365967910084,12.257289577097549,79.9606004349163\r\n",
      "2002-09-05,-28.136025118157146,-16.256168857926916,11.064153201202615,80.43650440341453\r\n",
      "2002-09-06,-27.458294297471557,-15.703623475224092,9.34976007542454,81.26421627352894\r\n",
      "2002-09-07,-27.76719575647106,-14.379317468438659,9.895615377297515,81.05486729308791\r\n",
      "2002-09-08,-27.60005325242658,-14.205926703562383,10.481009647056153,80.94983100659375\r\n",
      "2002-09-09,-27.542051058527864,-14.806788827469866,12.2716716540314,80.36638682635892\r\n",
      "2002-09-10,-27.51758193963684,-15.249765473367537,11.714427071946261,79.3126037379373\r\n",
      "2002-09-11,-27.86363561614498,-14.696204069480995,11.515323484816639,77.81695272048306\r\n",
      "2002-09-12,-27.23802899913487,-16.313439573149168,11.478188079830792,77.3737754268142\r\n",
      "2002-09-13,-26.726259994862204,-18.19231781993758,12.931954602893367,79.64610405944472\r\n",
      "2002-09-14,-26.439676709299988,-18.916614149534194,13.880921566281772,80.49781468663144\r\n",
      "2002-09-15,-27.015826891698083,-18.76394642197487,12.588942880410913,81.38267431195847\r\n",
      "2002-09-16,-26.90106503477132,-18.176900693972904,11.843035359911454,80.48933698339555\r\n",
      "2002-09-17,-27.061158599260846,-15.999772778571925,12.442081251779591,78.51821033466736\r\n",
      "2002-09-18,-27.452337415050597,-16.868925192700306,11.922303655390962,79.17769733614504\r\n",
      "2002-09-19,-28.09451767334097,-16.43524464578481,11.605946228419512,79.6726369570027\r\n",
      "2002-09-20,-27.66493807296573,-16.310863890442796,11.849712449044434,78.03314364030759\r\n",
      "2002-09-21,-27.156810530472587,-14.738592238127024,12.361651973854988,79.31597452174881\r\n",
      "2002-09-22,-27.20363893806888,-15.61495765037101,11.997366086141938,80.19382273277235\r\n",
      "2002-09-23,-27.84141341287159,-15.257708498935031,13.121717142475674,79.59089985902848\r\n",
      "2002-09-24,-29.285275768028917,-15.506318467090983,12.627699458530833,81.04898545593932\r\n",
      "2002-09-25,-28.813032466631608,-16.292023825804915,12.672486696658448,78.84828327669052\r\n",
      "2002-09-26,-29.41662559603026,-16.455753832484596,12.470519723198949,79.39959246918909\r\n"
     ]
    }
   ],
   "source": [
    "#cat foo.csv"
   ]
  },
  {
   "cell_type": "code",
   "execution_count": 96,
   "metadata": {},
   "outputs": [],
   "source": [
    "#(df.A+df.B)/5"
   ]
  },
  {
   "cell_type": "markdown",
   "metadata": {},
   "source": [
    "The two workhorse functions for reading text files (a.k.a. flat files) are read_csv() and read_table(). They both use the same parsing code to intelligently convert tabular data into a DataFrame object. See the cookbook for some advanced strategies.\n",
    "\n",
    "[Reading from a csv file](http://pandas.pydata.org/pandas-docs/stable/io.html#io-read-csv-table)"
   ]
  },
  {
   "cell_type": "code",
   "execution_count": 305,
   "metadata": {},
   "outputs": [
    {
     "data": {
      "text/html": [
       "<div>\n",
       "<style scoped>\n",
       "    .dataframe tbody tr th:only-of-type {\n",
       "        vertical-align: middle;\n",
       "    }\n",
       "\n",
       "    .dataframe tbody tr th {\n",
       "        vertical-align: top;\n",
       "    }\n",
       "\n",
       "    .dataframe thead th {\n",
       "        text-align: right;\n",
       "    }\n",
       "</style>\n",
       "<table border=\"1\" class=\"dataframe\">\n",
       "  <thead>\n",
       "    <tr style=\"text-align: right;\">\n",
       "      <th></th>\n",
       "      <th>Unnamed: 0</th>\n",
       "      <th>A</th>\n",
       "      <th>B</th>\n",
       "      <th>C</th>\n",
       "      <th>D</th>\n",
       "    </tr>\n",
       "  </thead>\n",
       "  <tbody>\n",
       "    <tr>\n",
       "      <th>0</th>\n",
       "      <td>2000-01-01</td>\n",
       "      <td>-1.276466</td>\n",
       "      <td>1.508149</td>\n",
       "      <td>-0.004353</td>\n",
       "      <td>1.005216</td>\n",
       "    </tr>\n",
       "    <tr>\n",
       "      <th>1</th>\n",
       "      <td>2000-01-02</td>\n",
       "      <td>-1.063518</td>\n",
       "      <td>0.169168</td>\n",
       "      <td>-0.486092</td>\n",
       "      <td>0.730616</td>\n",
       "    </tr>\n",
       "    <tr>\n",
       "      <th>2</th>\n",
       "      <td>2000-01-03</td>\n",
       "      <td>-2.057501</td>\n",
       "      <td>0.999597</td>\n",
       "      <td>0.052878</td>\n",
       "      <td>1.823356</td>\n",
       "    </tr>\n",
       "    <tr>\n",
       "      <th>3</th>\n",
       "      <td>2000-01-04</td>\n",
       "      <td>-1.879145</td>\n",
       "      <td>0.338128</td>\n",
       "      <td>-0.800917</td>\n",
       "      <td>2.973871</td>\n",
       "    </tr>\n",
       "    <tr>\n",
       "      <th>4</th>\n",
       "      <td>2000-01-05</td>\n",
       "      <td>-2.248119</td>\n",
       "      <td>2.294348</td>\n",
       "      <td>-1.520508</td>\n",
       "      <td>4.578526</td>\n",
       "    </tr>\n",
       "    <tr>\n",
       "      <th>5</th>\n",
       "      <td>2000-01-06</td>\n",
       "      <td>-1.452117</td>\n",
       "      <td>2.175981</td>\n",
       "      <td>-0.566876</td>\n",
       "      <td>5.138843</td>\n",
       "    </tr>\n",
       "    <tr>\n",
       "      <th>6</th>\n",
       "      <td>2000-01-07</td>\n",
       "      <td>-1.203629</td>\n",
       "      <td>3.507788</td>\n",
       "      <td>-0.329449</td>\n",
       "      <td>3.980121</td>\n",
       "    </tr>\n",
       "    <tr>\n",
       "      <th>7</th>\n",
       "      <td>2000-01-08</td>\n",
       "      <td>-1.904816</td>\n",
       "      <td>3.812790</td>\n",
       "      <td>1.185672</td>\n",
       "      <td>3.435628</td>\n",
       "    </tr>\n",
       "    <tr>\n",
       "      <th>8</th>\n",
       "      <td>2000-01-09</td>\n",
       "      <td>-2.070088</td>\n",
       "      <td>2.248446</td>\n",
       "      <td>0.388254</td>\n",
       "      <td>4.328378</td>\n",
       "    </tr>\n",
       "    <tr>\n",
       "      <th>9</th>\n",
       "      <td>2000-01-10</td>\n",
       "      <td>-1.519811</td>\n",
       "      <td>2.047381</td>\n",
       "      <td>1.587393</td>\n",
       "      <td>4.613047</td>\n",
       "    </tr>\n",
       "    <tr>\n",
       "      <th>10</th>\n",
       "      <td>2000-01-11</td>\n",
       "      <td>-2.438681</td>\n",
       "      <td>1.623465</td>\n",
       "      <td>2.083471</td>\n",
       "      <td>5.665188</td>\n",
       "    </tr>\n",
       "    <tr>\n",
       "      <th>11</th>\n",
       "      <td>2000-01-12</td>\n",
       "      <td>-1.807617</td>\n",
       "      <td>3.810674</td>\n",
       "      <td>1.573379</td>\n",
       "      <td>3.177038</td>\n",
       "    </tr>\n",
       "    <tr>\n",
       "      <th>12</th>\n",
       "      <td>2000-01-13</td>\n",
       "      <td>-1.816944</td>\n",
       "      <td>3.409246</td>\n",
       "      <td>1.762144</td>\n",
       "      <td>4.071810</td>\n",
       "    </tr>\n",
       "    <tr>\n",
       "      <th>13</th>\n",
       "      <td>2000-01-14</td>\n",
       "      <td>-2.427884</td>\n",
       "      <td>4.037387</td>\n",
       "      <td>3.358583</td>\n",
       "      <td>4.271437</td>\n",
       "    </tr>\n",
       "    <tr>\n",
       "      <th>14</th>\n",
       "      <td>2000-01-15</td>\n",
       "      <td>-0.691046</td>\n",
       "      <td>4.831259</td>\n",
       "      <td>5.133212</td>\n",
       "      <td>3.715626</td>\n",
       "    </tr>\n",
       "    <tr>\n",
       "      <th>15</th>\n",
       "      <td>2000-01-16</td>\n",
       "      <td>-2.779611</td>\n",
       "      <td>4.979844</td>\n",
       "      <td>2.619693</td>\n",
       "      <td>3.845921</td>\n",
       "    </tr>\n",
       "    <tr>\n",
       "      <th>16</th>\n",
       "      <td>2000-01-17</td>\n",
       "      <td>-2.569962</td>\n",
       "      <td>4.593879</td>\n",
       "      <td>3.637262</td>\n",
       "      <td>2.995551</td>\n",
       "    </tr>\n",
       "    <tr>\n",
       "      <th>17</th>\n",
       "      <td>2000-01-18</td>\n",
       "      <td>-3.829632</td>\n",
       "      <td>5.445004</td>\n",
       "      <td>4.233461</td>\n",
       "      <td>3.030768</td>\n",
       "    </tr>\n",
       "    <tr>\n",
       "      <th>18</th>\n",
       "      <td>2000-01-19</td>\n",
       "      <td>-4.299502</td>\n",
       "      <td>4.743986</td>\n",
       "      <td>4.826911</td>\n",
       "      <td>2.858537</td>\n",
       "    </tr>\n",
       "    <tr>\n",
       "      <th>19</th>\n",
       "      <td>2000-01-20</td>\n",
       "      <td>-5.287050</td>\n",
       "      <td>4.799992</td>\n",
       "      <td>3.025408</td>\n",
       "      <td>3.166784</td>\n",
       "    </tr>\n",
       "    <tr>\n",
       "      <th>20</th>\n",
       "      <td>2000-01-21</td>\n",
       "      <td>-4.481893</td>\n",
       "      <td>5.999532</td>\n",
       "      <td>3.782007</td>\n",
       "      <td>3.261080</td>\n",
       "    </tr>\n",
       "    <tr>\n",
       "      <th>21</th>\n",
       "      <td>2000-01-22</td>\n",
       "      <td>-5.723734</td>\n",
       "      <td>6.712301</td>\n",
       "      <td>1.252425</td>\n",
       "      <td>4.071991</td>\n",
       "    </tr>\n",
       "    <tr>\n",
       "      <th>22</th>\n",
       "      <td>2000-01-23</td>\n",
       "      <td>-6.800319</td>\n",
       "      <td>5.199413</td>\n",
       "      <td>0.727643</td>\n",
       "      <td>3.034285</td>\n",
       "    </tr>\n",
       "    <tr>\n",
       "      <th>23</th>\n",
       "      <td>2000-01-24</td>\n",
       "      <td>-6.268333</td>\n",
       "      <td>5.093706</td>\n",
       "      <td>0.862093</td>\n",
       "      <td>2.058628</td>\n",
       "    </tr>\n",
       "    <tr>\n",
       "      <th>24</th>\n",
       "      <td>2000-01-25</td>\n",
       "      <td>-7.636528</td>\n",
       "      <td>4.757744</td>\n",
       "      <td>1.046888</td>\n",
       "      <td>1.246763</td>\n",
       "    </tr>\n",
       "    <tr>\n",
       "      <th>25</th>\n",
       "      <td>2000-01-26</td>\n",
       "      <td>-7.053353</td>\n",
       "      <td>5.228926</td>\n",
       "      <td>2.476561</td>\n",
       "      <td>0.575485</td>\n",
       "    </tr>\n",
       "    <tr>\n",
       "      <th>26</th>\n",
       "      <td>2000-01-27</td>\n",
       "      <td>-7.256067</td>\n",
       "      <td>5.652269</td>\n",
       "      <td>1.652764</td>\n",
       "      <td>0.369069</td>\n",
       "    </tr>\n",
       "    <tr>\n",
       "      <th>27</th>\n",
       "      <td>2000-01-28</td>\n",
       "      <td>-7.094347</td>\n",
       "      <td>6.870135</td>\n",
       "      <td>1.175749</td>\n",
       "      <td>-0.674334</td>\n",
       "    </tr>\n",
       "    <tr>\n",
       "      <th>28</th>\n",
       "      <td>2000-01-29</td>\n",
       "      <td>-8.155013</td>\n",
       "      <td>7.221060</td>\n",
       "      <td>-1.009665</td>\n",
       "      <td>-0.076147</td>\n",
       "    </tr>\n",
       "    <tr>\n",
       "      <th>29</th>\n",
       "      <td>2000-01-30</td>\n",
       "      <td>-8.293486</td>\n",
       "      <td>7.713020</td>\n",
       "      <td>0.275192</td>\n",
       "      <td>-0.326537</td>\n",
       "    </tr>\n",
       "    <tr>\n",
       "      <th>...</th>\n",
       "      <td>...</td>\n",
       "      <td>...</td>\n",
       "      <td>...</td>\n",
       "      <td>...</td>\n",
       "      <td>...</td>\n",
       "    </tr>\n",
       "    <tr>\n",
       "      <th>970</th>\n",
       "      <td>2002-08-28</td>\n",
       "      <td>26.039445</td>\n",
       "      <td>-11.997062</td>\n",
       "      <td>-28.610901</td>\n",
       "      <td>-26.617905</td>\n",
       "    </tr>\n",
       "    <tr>\n",
       "      <th>971</th>\n",
       "      <td>2002-08-29</td>\n",
       "      <td>27.558913</td>\n",
       "      <td>-13.198277</td>\n",
       "      <td>-29.437092</td>\n",
       "      <td>-27.143036</td>\n",
       "    </tr>\n",
       "    <tr>\n",
       "      <th>972</th>\n",
       "      <td>2002-08-30</td>\n",
       "      <td>27.804120</td>\n",
       "      <td>-12.860405</td>\n",
       "      <td>-29.844235</td>\n",
       "      <td>-26.179039</td>\n",
       "    </tr>\n",
       "    <tr>\n",
       "      <th>973</th>\n",
       "      <td>2002-08-31</td>\n",
       "      <td>27.468077</td>\n",
       "      <td>-12.777146</td>\n",
       "      <td>-28.447514</td>\n",
       "      <td>-24.128971</td>\n",
       "    </tr>\n",
       "    <tr>\n",
       "      <th>974</th>\n",
       "      <td>2002-09-01</td>\n",
       "      <td>26.883832</td>\n",
       "      <td>-12.490856</td>\n",
       "      <td>-28.934696</td>\n",
       "      <td>-25.382193</td>\n",
       "    </tr>\n",
       "    <tr>\n",
       "      <th>975</th>\n",
       "      <td>2002-09-02</td>\n",
       "      <td>26.918541</td>\n",
       "      <td>-14.637393</td>\n",
       "      <td>-28.924223</td>\n",
       "      <td>-25.512028</td>\n",
       "    </tr>\n",
       "    <tr>\n",
       "      <th>976</th>\n",
       "      <td>2002-09-03</td>\n",
       "      <td>26.086202</td>\n",
       "      <td>-16.109005</td>\n",
       "      <td>-27.882164</td>\n",
       "      <td>-25.027350</td>\n",
       "    </tr>\n",
       "    <tr>\n",
       "      <th>977</th>\n",
       "      <td>2002-09-04</td>\n",
       "      <td>26.265869</td>\n",
       "      <td>-13.547778</td>\n",
       "      <td>-27.712898</td>\n",
       "      <td>-24.417484</td>\n",
       "    </tr>\n",
       "    <tr>\n",
       "      <th>978</th>\n",
       "      <td>2002-09-05</td>\n",
       "      <td>27.376515</td>\n",
       "      <td>-12.571797</td>\n",
       "      <td>-27.574668</td>\n",
       "      <td>-24.019851</td>\n",
       "    </tr>\n",
       "    <tr>\n",
       "      <th>979</th>\n",
       "      <td>2002-09-06</td>\n",
       "      <td>29.050529</td>\n",
       "      <td>-12.697950</td>\n",
       "      <td>-27.086502</td>\n",
       "      <td>-23.777862</td>\n",
       "    </tr>\n",
       "    <tr>\n",
       "      <th>980</th>\n",
       "      <td>2002-09-07</td>\n",
       "      <td>29.895919</td>\n",
       "      <td>-12.921678</td>\n",
       "      <td>-24.820010</td>\n",
       "      <td>-23.839063</td>\n",
       "    </tr>\n",
       "    <tr>\n",
       "      <th>981</th>\n",
       "      <td>2002-09-08</td>\n",
       "      <td>30.256215</td>\n",
       "      <td>-14.464784</td>\n",
       "      <td>-24.119366</td>\n",
       "      <td>-23.969856</td>\n",
       "    </tr>\n",
       "    <tr>\n",
       "      <th>982</th>\n",
       "      <td>2002-09-09</td>\n",
       "      <td>31.398610</td>\n",
       "      <td>-12.719923</td>\n",
       "      <td>-23.975165</td>\n",
       "      <td>-23.229123</td>\n",
       "    </tr>\n",
       "    <tr>\n",
       "      <th>983</th>\n",
       "      <td>2002-09-10</td>\n",
       "      <td>31.906672</td>\n",
       "      <td>-13.494978</td>\n",
       "      <td>-23.167250</td>\n",
       "      <td>-24.250323</td>\n",
       "    </tr>\n",
       "    <tr>\n",
       "      <th>984</th>\n",
       "      <td>2002-09-11</td>\n",
       "      <td>32.803338</td>\n",
       "      <td>-13.141184</td>\n",
       "      <td>-22.838791</td>\n",
       "      <td>-23.700049</td>\n",
       "    </tr>\n",
       "    <tr>\n",
       "      <th>985</th>\n",
       "      <td>2002-09-12</td>\n",
       "      <td>32.958104</td>\n",
       "      <td>-13.016301</td>\n",
       "      <td>-23.349211</td>\n",
       "      <td>-22.990149</td>\n",
       "    </tr>\n",
       "    <tr>\n",
       "      <th>986</th>\n",
       "      <td>2002-09-13</td>\n",
       "      <td>32.714261</td>\n",
       "      <td>-12.525905</td>\n",
       "      <td>-23.751447</td>\n",
       "      <td>-23.231841</td>\n",
       "    </tr>\n",
       "    <tr>\n",
       "      <th>987</th>\n",
       "      <td>2002-09-14</td>\n",
       "      <td>33.084583</td>\n",
       "      <td>-13.589648</td>\n",
       "      <td>-23.872450</td>\n",
       "      <td>-22.504546</td>\n",
       "    </tr>\n",
       "    <tr>\n",
       "      <th>988</th>\n",
       "      <td>2002-09-15</td>\n",
       "      <td>35.492477</td>\n",
       "      <td>-13.008747</td>\n",
       "      <td>-23.550310</td>\n",
       "      <td>-21.772264</td>\n",
       "    </tr>\n",
       "    <tr>\n",
       "      <th>989</th>\n",
       "      <td>2002-09-16</td>\n",
       "      <td>36.512130</td>\n",
       "      <td>-11.421452</td>\n",
       "      <td>-24.213715</td>\n",
       "      <td>-23.291021</td>\n",
       "    </tr>\n",
       "    <tr>\n",
       "      <th>990</th>\n",
       "      <td>2002-09-17</td>\n",
       "      <td>35.929819</td>\n",
       "      <td>-12.361166</td>\n",
       "      <td>-23.920515</td>\n",
       "      <td>-21.857705</td>\n",
       "    </tr>\n",
       "    <tr>\n",
       "      <th>991</th>\n",
       "      <td>2002-09-18</td>\n",
       "      <td>34.049273</td>\n",
       "      <td>-12.538601</td>\n",
       "      <td>-22.399191</td>\n",
       "      <td>-22.091326</td>\n",
       "    </tr>\n",
       "    <tr>\n",
       "      <th>992</th>\n",
       "      <td>2002-09-19</td>\n",
       "      <td>35.090432</td>\n",
       "      <td>-13.503382</td>\n",
       "      <td>-22.032364</td>\n",
       "      <td>-22.770450</td>\n",
       "    </tr>\n",
       "    <tr>\n",
       "      <th>993</th>\n",
       "      <td>2002-09-20</td>\n",
       "      <td>35.066312</td>\n",
       "      <td>-15.078455</td>\n",
       "      <td>-21.343949</td>\n",
       "      <td>-22.314419</td>\n",
       "    </tr>\n",
       "    <tr>\n",
       "      <th>994</th>\n",
       "      <td>2002-09-21</td>\n",
       "      <td>34.100108</td>\n",
       "      <td>-15.458113</td>\n",
       "      <td>-20.911389</td>\n",
       "      <td>-21.901052</td>\n",
       "    </tr>\n",
       "    <tr>\n",
       "      <th>995</th>\n",
       "      <td>2002-09-22</td>\n",
       "      <td>34.650719</td>\n",
       "      <td>-14.870973</td>\n",
       "      <td>-21.057814</td>\n",
       "      <td>-19.281535</td>\n",
       "    </tr>\n",
       "    <tr>\n",
       "      <th>996</th>\n",
       "      <td>2002-09-23</td>\n",
       "      <td>35.271387</td>\n",
       "      <td>-13.088233</td>\n",
       "      <td>-19.532101</td>\n",
       "      <td>-18.982131</td>\n",
       "    </tr>\n",
       "    <tr>\n",
       "      <th>997</th>\n",
       "      <td>2002-09-24</td>\n",
       "      <td>38.070547</td>\n",
       "      <td>-12.031363</td>\n",
       "      <td>-19.800160</td>\n",
       "      <td>-18.690634</td>\n",
       "    </tr>\n",
       "    <tr>\n",
       "      <th>998</th>\n",
       "      <td>2002-09-25</td>\n",
       "      <td>36.850852</td>\n",
       "      <td>-15.126490</td>\n",
       "      <td>-18.845801</td>\n",
       "      <td>-18.808651</td>\n",
       "    </tr>\n",
       "    <tr>\n",
       "      <th>999</th>\n",
       "      <td>2002-09-26</td>\n",
       "      <td>36.457665</td>\n",
       "      <td>-15.304787</td>\n",
       "      <td>-18.883935</td>\n",
       "      <td>-18.965713</td>\n",
       "    </tr>\n",
       "  </tbody>\n",
       "</table>\n",
       "<p>1000 rows × 5 columns</p>\n",
       "</div>"
      ],
      "text/plain": [
       "     Unnamed: 0          A          B          C          D\n",
       "0    2000-01-01  -1.276466   1.508149  -0.004353   1.005216\n",
       "1    2000-01-02  -1.063518   0.169168  -0.486092   0.730616\n",
       "2    2000-01-03  -2.057501   0.999597   0.052878   1.823356\n",
       "3    2000-01-04  -1.879145   0.338128  -0.800917   2.973871\n",
       "4    2000-01-05  -2.248119   2.294348  -1.520508   4.578526\n",
       "5    2000-01-06  -1.452117   2.175981  -0.566876   5.138843\n",
       "6    2000-01-07  -1.203629   3.507788  -0.329449   3.980121\n",
       "7    2000-01-08  -1.904816   3.812790   1.185672   3.435628\n",
       "8    2000-01-09  -2.070088   2.248446   0.388254   4.328378\n",
       "9    2000-01-10  -1.519811   2.047381   1.587393   4.613047\n",
       "10   2000-01-11  -2.438681   1.623465   2.083471   5.665188\n",
       "11   2000-01-12  -1.807617   3.810674   1.573379   3.177038\n",
       "12   2000-01-13  -1.816944   3.409246   1.762144   4.071810\n",
       "13   2000-01-14  -2.427884   4.037387   3.358583   4.271437\n",
       "14   2000-01-15  -0.691046   4.831259   5.133212   3.715626\n",
       "15   2000-01-16  -2.779611   4.979844   2.619693   3.845921\n",
       "16   2000-01-17  -2.569962   4.593879   3.637262   2.995551\n",
       "17   2000-01-18  -3.829632   5.445004   4.233461   3.030768\n",
       "18   2000-01-19  -4.299502   4.743986   4.826911   2.858537\n",
       "19   2000-01-20  -5.287050   4.799992   3.025408   3.166784\n",
       "20   2000-01-21  -4.481893   5.999532   3.782007   3.261080\n",
       "21   2000-01-22  -5.723734   6.712301   1.252425   4.071991\n",
       "22   2000-01-23  -6.800319   5.199413   0.727643   3.034285\n",
       "23   2000-01-24  -6.268333   5.093706   0.862093   2.058628\n",
       "24   2000-01-25  -7.636528   4.757744   1.046888   1.246763\n",
       "25   2000-01-26  -7.053353   5.228926   2.476561   0.575485\n",
       "26   2000-01-27  -7.256067   5.652269   1.652764   0.369069\n",
       "27   2000-01-28  -7.094347   6.870135   1.175749  -0.674334\n",
       "28   2000-01-29  -8.155013   7.221060  -1.009665  -0.076147\n",
       "29   2000-01-30  -8.293486   7.713020   0.275192  -0.326537\n",
       "..          ...        ...        ...        ...        ...\n",
       "970  2002-08-28  26.039445 -11.997062 -28.610901 -26.617905\n",
       "971  2002-08-29  27.558913 -13.198277 -29.437092 -27.143036\n",
       "972  2002-08-30  27.804120 -12.860405 -29.844235 -26.179039\n",
       "973  2002-08-31  27.468077 -12.777146 -28.447514 -24.128971\n",
       "974  2002-09-01  26.883832 -12.490856 -28.934696 -25.382193\n",
       "975  2002-09-02  26.918541 -14.637393 -28.924223 -25.512028\n",
       "976  2002-09-03  26.086202 -16.109005 -27.882164 -25.027350\n",
       "977  2002-09-04  26.265869 -13.547778 -27.712898 -24.417484\n",
       "978  2002-09-05  27.376515 -12.571797 -27.574668 -24.019851\n",
       "979  2002-09-06  29.050529 -12.697950 -27.086502 -23.777862\n",
       "980  2002-09-07  29.895919 -12.921678 -24.820010 -23.839063\n",
       "981  2002-09-08  30.256215 -14.464784 -24.119366 -23.969856\n",
       "982  2002-09-09  31.398610 -12.719923 -23.975165 -23.229123\n",
       "983  2002-09-10  31.906672 -13.494978 -23.167250 -24.250323\n",
       "984  2002-09-11  32.803338 -13.141184 -22.838791 -23.700049\n",
       "985  2002-09-12  32.958104 -13.016301 -23.349211 -22.990149\n",
       "986  2002-09-13  32.714261 -12.525905 -23.751447 -23.231841\n",
       "987  2002-09-14  33.084583 -13.589648 -23.872450 -22.504546\n",
       "988  2002-09-15  35.492477 -13.008747 -23.550310 -21.772264\n",
       "989  2002-09-16  36.512130 -11.421452 -24.213715 -23.291021\n",
       "990  2002-09-17  35.929819 -12.361166 -23.920515 -21.857705\n",
       "991  2002-09-18  34.049273 -12.538601 -22.399191 -22.091326\n",
       "992  2002-09-19  35.090432 -13.503382 -22.032364 -22.770450\n",
       "993  2002-09-20  35.066312 -15.078455 -21.343949 -22.314419\n",
       "994  2002-09-21  34.100108 -15.458113 -20.911389 -21.901052\n",
       "995  2002-09-22  34.650719 -14.870973 -21.057814 -19.281535\n",
       "996  2002-09-23  35.271387 -13.088233 -19.532101 -18.982131\n",
       "997  2002-09-24  38.070547 -12.031363 -19.800160 -18.690634\n",
       "998  2002-09-25  36.850852 -15.126490 -18.845801 -18.808651\n",
       "999  2002-09-26  36.457665 -15.304787 -18.883935 -18.965713\n",
       "\n",
       "[1000 rows x 5 columns]"
      ]
     },
     "execution_count": 305,
     "metadata": {},
     "output_type": "execute_result"
    }
   ],
   "source": [
    "pd.read_csv('foo.csv')"
   ]
  },
  {
   "cell_type": "code",
   "execution_count": 306,
   "metadata": {},
   "outputs": [],
   "source": [
    "newdf=pd.read_csv('foo.csv', index_col=0)"
   ]
  },
  {
   "cell_type": "code",
   "execution_count": 307,
   "metadata": {
    "scrolled": true
   },
   "outputs": [
    {
     "data": {
      "text/html": [
       "<div>\n",
       "<style scoped>\n",
       "    .dataframe tbody tr th:only-of-type {\n",
       "        vertical-align: middle;\n",
       "    }\n",
       "\n",
       "    .dataframe tbody tr th {\n",
       "        vertical-align: top;\n",
       "    }\n",
       "\n",
       "    .dataframe thead th {\n",
       "        text-align: right;\n",
       "    }\n",
       "</style>\n",
       "<table border=\"1\" class=\"dataframe\">\n",
       "  <thead>\n",
       "    <tr style=\"text-align: right;\">\n",
       "      <th></th>\n",
       "      <th>A</th>\n",
       "      <th>B</th>\n",
       "      <th>C</th>\n",
       "      <th>D</th>\n",
       "    </tr>\n",
       "  </thead>\n",
       "  <tbody>\n",
       "    <tr>\n",
       "      <th>2000-01-01</th>\n",
       "      <td>-1.276466</td>\n",
       "      <td>1.508149</td>\n",
       "      <td>-0.004353</td>\n",
       "      <td>1.005216</td>\n",
       "    </tr>\n",
       "    <tr>\n",
       "      <th>2000-01-02</th>\n",
       "      <td>-1.063518</td>\n",
       "      <td>0.169168</td>\n",
       "      <td>-0.486092</td>\n",
       "      <td>0.730616</td>\n",
       "    </tr>\n",
       "    <tr>\n",
       "      <th>2000-01-03</th>\n",
       "      <td>-2.057501</td>\n",
       "      <td>0.999597</td>\n",
       "      <td>0.052878</td>\n",
       "      <td>1.823356</td>\n",
       "    </tr>\n",
       "    <tr>\n",
       "      <th>2000-01-04</th>\n",
       "      <td>-1.879145</td>\n",
       "      <td>0.338128</td>\n",
       "      <td>-0.800917</td>\n",
       "      <td>2.973871</td>\n",
       "    </tr>\n",
       "    <tr>\n",
       "      <th>2000-01-05</th>\n",
       "      <td>-2.248119</td>\n",
       "      <td>2.294348</td>\n",
       "      <td>-1.520508</td>\n",
       "      <td>4.578526</td>\n",
       "    </tr>\n",
       "    <tr>\n",
       "      <th>2000-01-06</th>\n",
       "      <td>-1.452117</td>\n",
       "      <td>2.175981</td>\n",
       "      <td>-0.566876</td>\n",
       "      <td>5.138843</td>\n",
       "    </tr>\n",
       "    <tr>\n",
       "      <th>2000-01-07</th>\n",
       "      <td>-1.203629</td>\n",
       "      <td>3.507788</td>\n",
       "      <td>-0.329449</td>\n",
       "      <td>3.980121</td>\n",
       "    </tr>\n",
       "    <tr>\n",
       "      <th>2000-01-08</th>\n",
       "      <td>-1.904816</td>\n",
       "      <td>3.812790</td>\n",
       "      <td>1.185672</td>\n",
       "      <td>3.435628</td>\n",
       "    </tr>\n",
       "    <tr>\n",
       "      <th>2000-01-09</th>\n",
       "      <td>-2.070088</td>\n",
       "      <td>2.248446</td>\n",
       "      <td>0.388254</td>\n",
       "      <td>4.328378</td>\n",
       "    </tr>\n",
       "    <tr>\n",
       "      <th>2000-01-10</th>\n",
       "      <td>-1.519811</td>\n",
       "      <td>2.047381</td>\n",
       "      <td>1.587393</td>\n",
       "      <td>4.613047</td>\n",
       "    </tr>\n",
       "    <tr>\n",
       "      <th>2000-01-11</th>\n",
       "      <td>-2.438681</td>\n",
       "      <td>1.623465</td>\n",
       "      <td>2.083471</td>\n",
       "      <td>5.665188</td>\n",
       "    </tr>\n",
       "    <tr>\n",
       "      <th>2000-01-12</th>\n",
       "      <td>-1.807617</td>\n",
       "      <td>3.810674</td>\n",
       "      <td>1.573379</td>\n",
       "      <td>3.177038</td>\n",
       "    </tr>\n",
       "    <tr>\n",
       "      <th>2000-01-13</th>\n",
       "      <td>-1.816944</td>\n",
       "      <td>3.409246</td>\n",
       "      <td>1.762144</td>\n",
       "      <td>4.071810</td>\n",
       "    </tr>\n",
       "    <tr>\n",
       "      <th>2000-01-14</th>\n",
       "      <td>-2.427884</td>\n",
       "      <td>4.037387</td>\n",
       "      <td>3.358583</td>\n",
       "      <td>4.271437</td>\n",
       "    </tr>\n",
       "    <tr>\n",
       "      <th>2000-01-15</th>\n",
       "      <td>-0.691046</td>\n",
       "      <td>4.831259</td>\n",
       "      <td>5.133212</td>\n",
       "      <td>3.715626</td>\n",
       "    </tr>\n",
       "    <tr>\n",
       "      <th>2000-01-16</th>\n",
       "      <td>-2.779611</td>\n",
       "      <td>4.979844</td>\n",
       "      <td>2.619693</td>\n",
       "      <td>3.845921</td>\n",
       "    </tr>\n",
       "    <tr>\n",
       "      <th>2000-01-17</th>\n",
       "      <td>-2.569962</td>\n",
       "      <td>4.593879</td>\n",
       "      <td>3.637262</td>\n",
       "      <td>2.995551</td>\n",
       "    </tr>\n",
       "    <tr>\n",
       "      <th>2000-01-18</th>\n",
       "      <td>-3.829632</td>\n",
       "      <td>5.445004</td>\n",
       "      <td>4.233461</td>\n",
       "      <td>3.030768</td>\n",
       "    </tr>\n",
       "    <tr>\n",
       "      <th>2000-01-19</th>\n",
       "      <td>-4.299502</td>\n",
       "      <td>4.743986</td>\n",
       "      <td>4.826911</td>\n",
       "      <td>2.858537</td>\n",
       "    </tr>\n",
       "    <tr>\n",
       "      <th>2000-01-20</th>\n",
       "      <td>-5.287050</td>\n",
       "      <td>4.799992</td>\n",
       "      <td>3.025408</td>\n",
       "      <td>3.166784</td>\n",
       "    </tr>\n",
       "    <tr>\n",
       "      <th>2000-01-21</th>\n",
       "      <td>-4.481893</td>\n",
       "      <td>5.999532</td>\n",
       "      <td>3.782007</td>\n",
       "      <td>3.261080</td>\n",
       "    </tr>\n",
       "    <tr>\n",
       "      <th>2000-01-22</th>\n",
       "      <td>-5.723734</td>\n",
       "      <td>6.712301</td>\n",
       "      <td>1.252425</td>\n",
       "      <td>4.071991</td>\n",
       "    </tr>\n",
       "    <tr>\n",
       "      <th>2000-01-23</th>\n",
       "      <td>-6.800319</td>\n",
       "      <td>5.199413</td>\n",
       "      <td>0.727643</td>\n",
       "      <td>3.034285</td>\n",
       "    </tr>\n",
       "    <tr>\n",
       "      <th>2000-01-24</th>\n",
       "      <td>-6.268333</td>\n",
       "      <td>5.093706</td>\n",
       "      <td>0.862093</td>\n",
       "      <td>2.058628</td>\n",
       "    </tr>\n",
       "    <tr>\n",
       "      <th>2000-01-25</th>\n",
       "      <td>-7.636528</td>\n",
       "      <td>4.757744</td>\n",
       "      <td>1.046888</td>\n",
       "      <td>1.246763</td>\n",
       "    </tr>\n",
       "    <tr>\n",
       "      <th>2000-01-26</th>\n",
       "      <td>-7.053353</td>\n",
       "      <td>5.228926</td>\n",
       "      <td>2.476561</td>\n",
       "      <td>0.575485</td>\n",
       "    </tr>\n",
       "    <tr>\n",
       "      <th>2000-01-27</th>\n",
       "      <td>-7.256067</td>\n",
       "      <td>5.652269</td>\n",
       "      <td>1.652764</td>\n",
       "      <td>0.369069</td>\n",
       "    </tr>\n",
       "    <tr>\n",
       "      <th>2000-01-28</th>\n",
       "      <td>-7.094347</td>\n",
       "      <td>6.870135</td>\n",
       "      <td>1.175749</td>\n",
       "      <td>-0.674334</td>\n",
       "    </tr>\n",
       "    <tr>\n",
       "      <th>2000-01-29</th>\n",
       "      <td>-8.155013</td>\n",
       "      <td>7.221060</td>\n",
       "      <td>-1.009665</td>\n",
       "      <td>-0.076147</td>\n",
       "    </tr>\n",
       "    <tr>\n",
       "      <th>2000-01-30</th>\n",
       "      <td>-8.293486</td>\n",
       "      <td>7.713020</td>\n",
       "      <td>0.275192</td>\n",
       "      <td>-0.326537</td>\n",
       "    </tr>\n",
       "    <tr>\n",
       "      <th>...</th>\n",
       "      <td>...</td>\n",
       "      <td>...</td>\n",
       "      <td>...</td>\n",
       "      <td>...</td>\n",
       "    </tr>\n",
       "    <tr>\n",
       "      <th>2002-08-28</th>\n",
       "      <td>26.039445</td>\n",
       "      <td>-11.997062</td>\n",
       "      <td>-28.610901</td>\n",
       "      <td>-26.617905</td>\n",
       "    </tr>\n",
       "    <tr>\n",
       "      <th>2002-08-29</th>\n",
       "      <td>27.558913</td>\n",
       "      <td>-13.198277</td>\n",
       "      <td>-29.437092</td>\n",
       "      <td>-27.143036</td>\n",
       "    </tr>\n",
       "    <tr>\n",
       "      <th>2002-08-30</th>\n",
       "      <td>27.804120</td>\n",
       "      <td>-12.860405</td>\n",
       "      <td>-29.844235</td>\n",
       "      <td>-26.179039</td>\n",
       "    </tr>\n",
       "    <tr>\n",
       "      <th>2002-08-31</th>\n",
       "      <td>27.468077</td>\n",
       "      <td>-12.777146</td>\n",
       "      <td>-28.447514</td>\n",
       "      <td>-24.128971</td>\n",
       "    </tr>\n",
       "    <tr>\n",
       "      <th>2002-09-01</th>\n",
       "      <td>26.883832</td>\n",
       "      <td>-12.490856</td>\n",
       "      <td>-28.934696</td>\n",
       "      <td>-25.382193</td>\n",
       "    </tr>\n",
       "    <tr>\n",
       "      <th>2002-09-02</th>\n",
       "      <td>26.918541</td>\n",
       "      <td>-14.637393</td>\n",
       "      <td>-28.924223</td>\n",
       "      <td>-25.512028</td>\n",
       "    </tr>\n",
       "    <tr>\n",
       "      <th>2002-09-03</th>\n",
       "      <td>26.086202</td>\n",
       "      <td>-16.109005</td>\n",
       "      <td>-27.882164</td>\n",
       "      <td>-25.027350</td>\n",
       "    </tr>\n",
       "    <tr>\n",
       "      <th>2002-09-04</th>\n",
       "      <td>26.265869</td>\n",
       "      <td>-13.547778</td>\n",
       "      <td>-27.712898</td>\n",
       "      <td>-24.417484</td>\n",
       "    </tr>\n",
       "    <tr>\n",
       "      <th>2002-09-05</th>\n",
       "      <td>27.376515</td>\n",
       "      <td>-12.571797</td>\n",
       "      <td>-27.574668</td>\n",
       "      <td>-24.019851</td>\n",
       "    </tr>\n",
       "    <tr>\n",
       "      <th>2002-09-06</th>\n",
       "      <td>29.050529</td>\n",
       "      <td>-12.697950</td>\n",
       "      <td>-27.086502</td>\n",
       "      <td>-23.777862</td>\n",
       "    </tr>\n",
       "    <tr>\n",
       "      <th>2002-09-07</th>\n",
       "      <td>29.895919</td>\n",
       "      <td>-12.921678</td>\n",
       "      <td>-24.820010</td>\n",
       "      <td>-23.839063</td>\n",
       "    </tr>\n",
       "    <tr>\n",
       "      <th>2002-09-08</th>\n",
       "      <td>30.256215</td>\n",
       "      <td>-14.464784</td>\n",
       "      <td>-24.119366</td>\n",
       "      <td>-23.969856</td>\n",
       "    </tr>\n",
       "    <tr>\n",
       "      <th>2002-09-09</th>\n",
       "      <td>31.398610</td>\n",
       "      <td>-12.719923</td>\n",
       "      <td>-23.975165</td>\n",
       "      <td>-23.229123</td>\n",
       "    </tr>\n",
       "    <tr>\n",
       "      <th>2002-09-10</th>\n",
       "      <td>31.906672</td>\n",
       "      <td>-13.494978</td>\n",
       "      <td>-23.167250</td>\n",
       "      <td>-24.250323</td>\n",
       "    </tr>\n",
       "    <tr>\n",
       "      <th>2002-09-11</th>\n",
       "      <td>32.803338</td>\n",
       "      <td>-13.141184</td>\n",
       "      <td>-22.838791</td>\n",
       "      <td>-23.700049</td>\n",
       "    </tr>\n",
       "    <tr>\n",
       "      <th>2002-09-12</th>\n",
       "      <td>32.958104</td>\n",
       "      <td>-13.016301</td>\n",
       "      <td>-23.349211</td>\n",
       "      <td>-22.990149</td>\n",
       "    </tr>\n",
       "    <tr>\n",
       "      <th>2002-09-13</th>\n",
       "      <td>32.714261</td>\n",
       "      <td>-12.525905</td>\n",
       "      <td>-23.751447</td>\n",
       "      <td>-23.231841</td>\n",
       "    </tr>\n",
       "    <tr>\n",
       "      <th>2002-09-14</th>\n",
       "      <td>33.084583</td>\n",
       "      <td>-13.589648</td>\n",
       "      <td>-23.872450</td>\n",
       "      <td>-22.504546</td>\n",
       "    </tr>\n",
       "    <tr>\n",
       "      <th>2002-09-15</th>\n",
       "      <td>35.492477</td>\n",
       "      <td>-13.008747</td>\n",
       "      <td>-23.550310</td>\n",
       "      <td>-21.772264</td>\n",
       "    </tr>\n",
       "    <tr>\n",
       "      <th>2002-09-16</th>\n",
       "      <td>36.512130</td>\n",
       "      <td>-11.421452</td>\n",
       "      <td>-24.213715</td>\n",
       "      <td>-23.291021</td>\n",
       "    </tr>\n",
       "    <tr>\n",
       "      <th>2002-09-17</th>\n",
       "      <td>35.929819</td>\n",
       "      <td>-12.361166</td>\n",
       "      <td>-23.920515</td>\n",
       "      <td>-21.857705</td>\n",
       "    </tr>\n",
       "    <tr>\n",
       "      <th>2002-09-18</th>\n",
       "      <td>34.049273</td>\n",
       "      <td>-12.538601</td>\n",
       "      <td>-22.399191</td>\n",
       "      <td>-22.091326</td>\n",
       "    </tr>\n",
       "    <tr>\n",
       "      <th>2002-09-19</th>\n",
       "      <td>35.090432</td>\n",
       "      <td>-13.503382</td>\n",
       "      <td>-22.032364</td>\n",
       "      <td>-22.770450</td>\n",
       "    </tr>\n",
       "    <tr>\n",
       "      <th>2002-09-20</th>\n",
       "      <td>35.066312</td>\n",
       "      <td>-15.078455</td>\n",
       "      <td>-21.343949</td>\n",
       "      <td>-22.314419</td>\n",
       "    </tr>\n",
       "    <tr>\n",
       "      <th>2002-09-21</th>\n",
       "      <td>34.100108</td>\n",
       "      <td>-15.458113</td>\n",
       "      <td>-20.911389</td>\n",
       "      <td>-21.901052</td>\n",
       "    </tr>\n",
       "    <tr>\n",
       "      <th>2002-09-22</th>\n",
       "      <td>34.650719</td>\n",
       "      <td>-14.870973</td>\n",
       "      <td>-21.057814</td>\n",
       "      <td>-19.281535</td>\n",
       "    </tr>\n",
       "    <tr>\n",
       "      <th>2002-09-23</th>\n",
       "      <td>35.271387</td>\n",
       "      <td>-13.088233</td>\n",
       "      <td>-19.532101</td>\n",
       "      <td>-18.982131</td>\n",
       "    </tr>\n",
       "    <tr>\n",
       "      <th>2002-09-24</th>\n",
       "      <td>38.070547</td>\n",
       "      <td>-12.031363</td>\n",
       "      <td>-19.800160</td>\n",
       "      <td>-18.690634</td>\n",
       "    </tr>\n",
       "    <tr>\n",
       "      <th>2002-09-25</th>\n",
       "      <td>36.850852</td>\n",
       "      <td>-15.126490</td>\n",
       "      <td>-18.845801</td>\n",
       "      <td>-18.808651</td>\n",
       "    </tr>\n",
       "    <tr>\n",
       "      <th>2002-09-26</th>\n",
       "      <td>36.457665</td>\n",
       "      <td>-15.304787</td>\n",
       "      <td>-18.883935</td>\n",
       "      <td>-18.965713</td>\n",
       "    </tr>\n",
       "  </tbody>\n",
       "</table>\n",
       "<p>1000 rows × 4 columns</p>\n",
       "</div>"
      ],
      "text/plain": [
       "                    A          B          C          D\n",
       "2000-01-01  -1.276466   1.508149  -0.004353   1.005216\n",
       "2000-01-02  -1.063518   0.169168  -0.486092   0.730616\n",
       "2000-01-03  -2.057501   0.999597   0.052878   1.823356\n",
       "2000-01-04  -1.879145   0.338128  -0.800917   2.973871\n",
       "2000-01-05  -2.248119   2.294348  -1.520508   4.578526\n",
       "2000-01-06  -1.452117   2.175981  -0.566876   5.138843\n",
       "2000-01-07  -1.203629   3.507788  -0.329449   3.980121\n",
       "2000-01-08  -1.904816   3.812790   1.185672   3.435628\n",
       "2000-01-09  -2.070088   2.248446   0.388254   4.328378\n",
       "2000-01-10  -1.519811   2.047381   1.587393   4.613047\n",
       "2000-01-11  -2.438681   1.623465   2.083471   5.665188\n",
       "2000-01-12  -1.807617   3.810674   1.573379   3.177038\n",
       "2000-01-13  -1.816944   3.409246   1.762144   4.071810\n",
       "2000-01-14  -2.427884   4.037387   3.358583   4.271437\n",
       "2000-01-15  -0.691046   4.831259   5.133212   3.715626\n",
       "2000-01-16  -2.779611   4.979844   2.619693   3.845921\n",
       "2000-01-17  -2.569962   4.593879   3.637262   2.995551\n",
       "2000-01-18  -3.829632   5.445004   4.233461   3.030768\n",
       "2000-01-19  -4.299502   4.743986   4.826911   2.858537\n",
       "2000-01-20  -5.287050   4.799992   3.025408   3.166784\n",
       "2000-01-21  -4.481893   5.999532   3.782007   3.261080\n",
       "2000-01-22  -5.723734   6.712301   1.252425   4.071991\n",
       "2000-01-23  -6.800319   5.199413   0.727643   3.034285\n",
       "2000-01-24  -6.268333   5.093706   0.862093   2.058628\n",
       "2000-01-25  -7.636528   4.757744   1.046888   1.246763\n",
       "2000-01-26  -7.053353   5.228926   2.476561   0.575485\n",
       "2000-01-27  -7.256067   5.652269   1.652764   0.369069\n",
       "2000-01-28  -7.094347   6.870135   1.175749  -0.674334\n",
       "2000-01-29  -8.155013   7.221060  -1.009665  -0.076147\n",
       "2000-01-30  -8.293486   7.713020   0.275192  -0.326537\n",
       "...               ...        ...        ...        ...\n",
       "2002-08-28  26.039445 -11.997062 -28.610901 -26.617905\n",
       "2002-08-29  27.558913 -13.198277 -29.437092 -27.143036\n",
       "2002-08-30  27.804120 -12.860405 -29.844235 -26.179039\n",
       "2002-08-31  27.468077 -12.777146 -28.447514 -24.128971\n",
       "2002-09-01  26.883832 -12.490856 -28.934696 -25.382193\n",
       "2002-09-02  26.918541 -14.637393 -28.924223 -25.512028\n",
       "2002-09-03  26.086202 -16.109005 -27.882164 -25.027350\n",
       "2002-09-04  26.265869 -13.547778 -27.712898 -24.417484\n",
       "2002-09-05  27.376515 -12.571797 -27.574668 -24.019851\n",
       "2002-09-06  29.050529 -12.697950 -27.086502 -23.777862\n",
       "2002-09-07  29.895919 -12.921678 -24.820010 -23.839063\n",
       "2002-09-08  30.256215 -14.464784 -24.119366 -23.969856\n",
       "2002-09-09  31.398610 -12.719923 -23.975165 -23.229123\n",
       "2002-09-10  31.906672 -13.494978 -23.167250 -24.250323\n",
       "2002-09-11  32.803338 -13.141184 -22.838791 -23.700049\n",
       "2002-09-12  32.958104 -13.016301 -23.349211 -22.990149\n",
       "2002-09-13  32.714261 -12.525905 -23.751447 -23.231841\n",
       "2002-09-14  33.084583 -13.589648 -23.872450 -22.504546\n",
       "2002-09-15  35.492477 -13.008747 -23.550310 -21.772264\n",
       "2002-09-16  36.512130 -11.421452 -24.213715 -23.291021\n",
       "2002-09-17  35.929819 -12.361166 -23.920515 -21.857705\n",
       "2002-09-18  34.049273 -12.538601 -22.399191 -22.091326\n",
       "2002-09-19  35.090432 -13.503382 -22.032364 -22.770450\n",
       "2002-09-20  35.066312 -15.078455 -21.343949 -22.314419\n",
       "2002-09-21  34.100108 -15.458113 -20.911389 -21.901052\n",
       "2002-09-22  34.650719 -14.870973 -21.057814 -19.281535\n",
       "2002-09-23  35.271387 -13.088233 -19.532101 -18.982131\n",
       "2002-09-24  38.070547 -12.031363 -19.800160 -18.690634\n",
       "2002-09-25  36.850852 -15.126490 -18.845801 -18.808651\n",
       "2002-09-26  36.457665 -15.304787 -18.883935 -18.965713\n",
       "\n",
       "[1000 rows x 4 columns]"
      ]
     },
     "execution_count": 307,
     "metadata": {},
     "output_type": "execute_result"
    }
   ],
   "source": [
    "newdf"
   ]
  },
  {
   "cell_type": "code",
   "execution_count": 293,
   "metadata": {},
   "outputs": [
    {
     "data": {
      "text/html": [
       "<div>\n",
       "<style scoped>\n",
       "    .dataframe tbody tr th:only-of-type {\n",
       "        vertical-align: middle;\n",
       "    }\n",
       "\n",
       "    .dataframe tbody tr th {\n",
       "        vertical-align: top;\n",
       "    }\n",
       "\n",
       "    .dataframe thead th {\n",
       "        text-align: right;\n",
       "    }\n",
       "</style>\n",
       "<table border=\"1\" class=\"dataframe\">\n",
       "  <thead>\n",
       "    <tr style=\"text-align: right;\">\n",
       "      <th></th>\n",
       "      <th>A</th>\n",
       "      <th>B</th>\n",
       "      <th>C</th>\n",
       "      <th>D</th>\n",
       "    </tr>\n",
       "  </thead>\n",
       "  <tbody>\n",
       "    <tr>\n",
       "      <th>2000-01-01</th>\n",
       "      <td>-1.276466</td>\n",
       "      <td>1.508149</td>\n",
       "      <td>-0.004353</td>\n",
       "      <td>1.005216</td>\n",
       "    </tr>\n",
       "    <tr>\n",
       "      <th>2000-01-02</th>\n",
       "      <td>-1.063518</td>\n",
       "      <td>0.169168</td>\n",
       "      <td>-0.486092</td>\n",
       "      <td>0.730616</td>\n",
       "    </tr>\n",
       "    <tr>\n",
       "      <th>2000-01-03</th>\n",
       "      <td>-2.057501</td>\n",
       "      <td>0.999597</td>\n",
       "      <td>0.052878</td>\n",
       "      <td>1.823356</td>\n",
       "    </tr>\n",
       "    <tr>\n",
       "      <th>2000-01-04</th>\n",
       "      <td>-1.879145</td>\n",
       "      <td>0.338128</td>\n",
       "      <td>-0.800917</td>\n",
       "      <td>2.973871</td>\n",
       "    </tr>\n",
       "    <tr>\n",
       "      <th>2000-01-05</th>\n",
       "      <td>-2.248119</td>\n",
       "      <td>2.294348</td>\n",
       "      <td>-1.520508</td>\n",
       "      <td>4.578526</td>\n",
       "    </tr>\n",
       "    <tr>\n",
       "      <th>2000-01-06</th>\n",
       "      <td>-1.452117</td>\n",
       "      <td>2.175981</td>\n",
       "      <td>-0.566876</td>\n",
       "      <td>5.138843</td>\n",
       "    </tr>\n",
       "    <tr>\n",
       "      <th>2000-01-07</th>\n",
       "      <td>-1.203629</td>\n",
       "      <td>3.507788</td>\n",
       "      <td>-0.329449</td>\n",
       "      <td>3.980121</td>\n",
       "    </tr>\n",
       "    <tr>\n",
       "      <th>2000-01-08</th>\n",
       "      <td>-1.904816</td>\n",
       "      <td>3.812790</td>\n",
       "      <td>1.185672</td>\n",
       "      <td>3.435628</td>\n",
       "    </tr>\n",
       "    <tr>\n",
       "      <th>2000-01-09</th>\n",
       "      <td>-2.070088</td>\n",
       "      <td>2.248446</td>\n",
       "      <td>0.388254</td>\n",
       "      <td>4.328378</td>\n",
       "    </tr>\n",
       "    <tr>\n",
       "      <th>2000-01-10</th>\n",
       "      <td>-1.519811</td>\n",
       "      <td>2.047381</td>\n",
       "      <td>1.587393</td>\n",
       "      <td>4.613047</td>\n",
       "    </tr>\n",
       "    <tr>\n",
       "      <th>2000-01-11</th>\n",
       "      <td>-2.438681</td>\n",
       "      <td>1.623465</td>\n",
       "      <td>2.083471</td>\n",
       "      <td>5.665188</td>\n",
       "    </tr>\n",
       "    <tr>\n",
       "      <th>2000-01-12</th>\n",
       "      <td>-1.807617</td>\n",
       "      <td>3.810674</td>\n",
       "      <td>1.573379</td>\n",
       "      <td>3.177038</td>\n",
       "    </tr>\n",
       "    <tr>\n",
       "      <th>2000-01-13</th>\n",
       "      <td>-1.816944</td>\n",
       "      <td>3.409246</td>\n",
       "      <td>1.762144</td>\n",
       "      <td>4.071810</td>\n",
       "    </tr>\n",
       "    <tr>\n",
       "      <th>2000-01-14</th>\n",
       "      <td>-2.427884</td>\n",
       "      <td>4.037387</td>\n",
       "      <td>3.358583</td>\n",
       "      <td>4.271437</td>\n",
       "    </tr>\n",
       "    <tr>\n",
       "      <th>2000-01-15</th>\n",
       "      <td>-0.691046</td>\n",
       "      <td>4.831259</td>\n",
       "      <td>5.133212</td>\n",
       "      <td>3.715626</td>\n",
       "    </tr>\n",
       "    <tr>\n",
       "      <th>2000-01-16</th>\n",
       "      <td>-2.779611</td>\n",
       "      <td>4.979844</td>\n",
       "      <td>2.619693</td>\n",
       "      <td>3.845921</td>\n",
       "    </tr>\n",
       "    <tr>\n",
       "      <th>2000-01-17</th>\n",
       "      <td>-2.569962</td>\n",
       "      <td>4.593879</td>\n",
       "      <td>3.637262</td>\n",
       "      <td>2.995551</td>\n",
       "    </tr>\n",
       "    <tr>\n",
       "      <th>2000-01-18</th>\n",
       "      <td>-3.829632</td>\n",
       "      <td>5.445004</td>\n",
       "      <td>4.233461</td>\n",
       "      <td>3.030768</td>\n",
       "    </tr>\n",
       "    <tr>\n",
       "      <th>2000-01-19</th>\n",
       "      <td>-4.299502</td>\n",
       "      <td>4.743986</td>\n",
       "      <td>4.826911</td>\n",
       "      <td>2.858537</td>\n",
       "    </tr>\n",
       "    <tr>\n",
       "      <th>2000-01-20</th>\n",
       "      <td>-5.287050</td>\n",
       "      <td>4.799992</td>\n",
       "      <td>3.025408</td>\n",
       "      <td>3.166784</td>\n",
       "    </tr>\n",
       "    <tr>\n",
       "      <th>2000-01-21</th>\n",
       "      <td>-4.481893</td>\n",
       "      <td>5.999532</td>\n",
       "      <td>3.782007</td>\n",
       "      <td>3.261080</td>\n",
       "    </tr>\n",
       "    <tr>\n",
       "      <th>2000-01-22</th>\n",
       "      <td>-5.723734</td>\n",
       "      <td>6.712301</td>\n",
       "      <td>1.252425</td>\n",
       "      <td>4.071991</td>\n",
       "    </tr>\n",
       "    <tr>\n",
       "      <th>2000-01-23</th>\n",
       "      <td>-6.800319</td>\n",
       "      <td>5.199413</td>\n",
       "      <td>0.727643</td>\n",
       "      <td>3.034285</td>\n",
       "    </tr>\n",
       "    <tr>\n",
       "      <th>2000-01-24</th>\n",
       "      <td>-6.268333</td>\n",
       "      <td>5.093706</td>\n",
       "      <td>0.862093</td>\n",
       "      <td>2.058628</td>\n",
       "    </tr>\n",
       "    <tr>\n",
       "      <th>2000-01-25</th>\n",
       "      <td>-7.636528</td>\n",
       "      <td>4.757744</td>\n",
       "      <td>1.046888</td>\n",
       "      <td>1.246763</td>\n",
       "    </tr>\n",
       "    <tr>\n",
       "      <th>2000-01-26</th>\n",
       "      <td>-7.053353</td>\n",
       "      <td>5.228926</td>\n",
       "      <td>2.476561</td>\n",
       "      <td>0.575485</td>\n",
       "    </tr>\n",
       "    <tr>\n",
       "      <th>2000-01-27</th>\n",
       "      <td>-7.256067</td>\n",
       "      <td>5.652269</td>\n",
       "      <td>1.652764</td>\n",
       "      <td>0.369069</td>\n",
       "    </tr>\n",
       "    <tr>\n",
       "      <th>2000-01-28</th>\n",
       "      <td>-7.094347</td>\n",
       "      <td>6.870135</td>\n",
       "      <td>1.175749</td>\n",
       "      <td>-0.674334</td>\n",
       "    </tr>\n",
       "    <tr>\n",
       "      <th>2000-01-29</th>\n",
       "      <td>-8.155013</td>\n",
       "      <td>7.221060</td>\n",
       "      <td>-1.009665</td>\n",
       "      <td>-0.076147</td>\n",
       "    </tr>\n",
       "    <tr>\n",
       "      <th>2000-01-30</th>\n",
       "      <td>-8.293486</td>\n",
       "      <td>7.713020</td>\n",
       "      <td>0.275192</td>\n",
       "      <td>-0.326537</td>\n",
       "    </tr>\n",
       "    <tr>\n",
       "      <th>...</th>\n",
       "      <td>...</td>\n",
       "      <td>...</td>\n",
       "      <td>...</td>\n",
       "      <td>...</td>\n",
       "    </tr>\n",
       "    <tr>\n",
       "      <th>2002-08-28</th>\n",
       "      <td>26.039445</td>\n",
       "      <td>-11.997062</td>\n",
       "      <td>-28.610901</td>\n",
       "      <td>-26.617905</td>\n",
       "    </tr>\n",
       "    <tr>\n",
       "      <th>2002-08-29</th>\n",
       "      <td>27.558913</td>\n",
       "      <td>-13.198277</td>\n",
       "      <td>-29.437092</td>\n",
       "      <td>-27.143036</td>\n",
       "    </tr>\n",
       "    <tr>\n",
       "      <th>2002-08-30</th>\n",
       "      <td>27.804120</td>\n",
       "      <td>-12.860405</td>\n",
       "      <td>-29.844235</td>\n",
       "      <td>-26.179039</td>\n",
       "    </tr>\n",
       "    <tr>\n",
       "      <th>2002-08-31</th>\n",
       "      <td>27.468077</td>\n",
       "      <td>-12.777146</td>\n",
       "      <td>-28.447514</td>\n",
       "      <td>-24.128971</td>\n",
       "    </tr>\n",
       "    <tr>\n",
       "      <th>2002-09-01</th>\n",
       "      <td>26.883832</td>\n",
       "      <td>-12.490856</td>\n",
       "      <td>-28.934696</td>\n",
       "      <td>-25.382193</td>\n",
       "    </tr>\n",
       "    <tr>\n",
       "      <th>2002-09-02</th>\n",
       "      <td>26.918541</td>\n",
       "      <td>-14.637393</td>\n",
       "      <td>-28.924223</td>\n",
       "      <td>-25.512028</td>\n",
       "    </tr>\n",
       "    <tr>\n",
       "      <th>2002-09-03</th>\n",
       "      <td>26.086202</td>\n",
       "      <td>-16.109005</td>\n",
       "      <td>-27.882164</td>\n",
       "      <td>-25.027350</td>\n",
       "    </tr>\n",
       "    <tr>\n",
       "      <th>2002-09-04</th>\n",
       "      <td>26.265869</td>\n",
       "      <td>-13.547778</td>\n",
       "      <td>-27.712898</td>\n",
       "      <td>-24.417484</td>\n",
       "    </tr>\n",
       "    <tr>\n",
       "      <th>2002-09-05</th>\n",
       "      <td>27.376515</td>\n",
       "      <td>-12.571797</td>\n",
       "      <td>-27.574668</td>\n",
       "      <td>-24.019851</td>\n",
       "    </tr>\n",
       "    <tr>\n",
       "      <th>2002-09-06</th>\n",
       "      <td>29.050529</td>\n",
       "      <td>-12.697950</td>\n",
       "      <td>-27.086502</td>\n",
       "      <td>-23.777862</td>\n",
       "    </tr>\n",
       "    <tr>\n",
       "      <th>2002-09-07</th>\n",
       "      <td>29.895919</td>\n",
       "      <td>-12.921678</td>\n",
       "      <td>-24.820010</td>\n",
       "      <td>-23.839063</td>\n",
       "    </tr>\n",
       "    <tr>\n",
       "      <th>2002-09-08</th>\n",
       "      <td>30.256215</td>\n",
       "      <td>-14.464784</td>\n",
       "      <td>-24.119366</td>\n",
       "      <td>-23.969856</td>\n",
       "    </tr>\n",
       "    <tr>\n",
       "      <th>2002-09-09</th>\n",
       "      <td>31.398610</td>\n",
       "      <td>-12.719923</td>\n",
       "      <td>-23.975165</td>\n",
       "      <td>-23.229123</td>\n",
       "    </tr>\n",
       "    <tr>\n",
       "      <th>2002-09-10</th>\n",
       "      <td>31.906672</td>\n",
       "      <td>-13.494978</td>\n",
       "      <td>-23.167250</td>\n",
       "      <td>-24.250323</td>\n",
       "    </tr>\n",
       "    <tr>\n",
       "      <th>2002-09-11</th>\n",
       "      <td>32.803338</td>\n",
       "      <td>-13.141184</td>\n",
       "      <td>-22.838791</td>\n",
       "      <td>-23.700049</td>\n",
       "    </tr>\n",
       "    <tr>\n",
       "      <th>2002-09-12</th>\n",
       "      <td>32.958104</td>\n",
       "      <td>-13.016301</td>\n",
       "      <td>-23.349211</td>\n",
       "      <td>-22.990149</td>\n",
       "    </tr>\n",
       "    <tr>\n",
       "      <th>2002-09-13</th>\n",
       "      <td>32.714261</td>\n",
       "      <td>-12.525905</td>\n",
       "      <td>-23.751447</td>\n",
       "      <td>-23.231841</td>\n",
       "    </tr>\n",
       "    <tr>\n",
       "      <th>2002-09-14</th>\n",
       "      <td>33.084583</td>\n",
       "      <td>-13.589648</td>\n",
       "      <td>-23.872450</td>\n",
       "      <td>-22.504546</td>\n",
       "    </tr>\n",
       "    <tr>\n",
       "      <th>2002-09-15</th>\n",
       "      <td>35.492477</td>\n",
       "      <td>-13.008747</td>\n",
       "      <td>-23.550310</td>\n",
       "      <td>-21.772264</td>\n",
       "    </tr>\n",
       "    <tr>\n",
       "      <th>2002-09-16</th>\n",
       "      <td>36.512130</td>\n",
       "      <td>-11.421452</td>\n",
       "      <td>-24.213715</td>\n",
       "      <td>-23.291021</td>\n",
       "    </tr>\n",
       "    <tr>\n",
       "      <th>2002-09-17</th>\n",
       "      <td>35.929819</td>\n",
       "      <td>-12.361166</td>\n",
       "      <td>-23.920515</td>\n",
       "      <td>-21.857705</td>\n",
       "    </tr>\n",
       "    <tr>\n",
       "      <th>2002-09-18</th>\n",
       "      <td>34.049273</td>\n",
       "      <td>-12.538601</td>\n",
       "      <td>-22.399191</td>\n",
       "      <td>-22.091326</td>\n",
       "    </tr>\n",
       "    <tr>\n",
       "      <th>2002-09-19</th>\n",
       "      <td>35.090432</td>\n",
       "      <td>-13.503382</td>\n",
       "      <td>-22.032364</td>\n",
       "      <td>-22.770450</td>\n",
       "    </tr>\n",
       "    <tr>\n",
       "      <th>2002-09-20</th>\n",
       "      <td>35.066312</td>\n",
       "      <td>-15.078455</td>\n",
       "      <td>-21.343949</td>\n",
       "      <td>-22.314419</td>\n",
       "    </tr>\n",
       "    <tr>\n",
       "      <th>2002-09-21</th>\n",
       "      <td>34.100108</td>\n",
       "      <td>-15.458113</td>\n",
       "      <td>-20.911389</td>\n",
       "      <td>-21.901052</td>\n",
       "    </tr>\n",
       "    <tr>\n",
       "      <th>2002-09-22</th>\n",
       "      <td>34.650719</td>\n",
       "      <td>-14.870973</td>\n",
       "      <td>-21.057814</td>\n",
       "      <td>-19.281535</td>\n",
       "    </tr>\n",
       "    <tr>\n",
       "      <th>2002-09-23</th>\n",
       "      <td>35.271387</td>\n",
       "      <td>-13.088233</td>\n",
       "      <td>-19.532101</td>\n",
       "      <td>-18.982131</td>\n",
       "    </tr>\n",
       "    <tr>\n",
       "      <th>2002-09-24</th>\n",
       "      <td>38.070547</td>\n",
       "      <td>-12.031363</td>\n",
       "      <td>-19.800160</td>\n",
       "      <td>-18.690634</td>\n",
       "    </tr>\n",
       "    <tr>\n",
       "      <th>2002-09-25</th>\n",
       "      <td>36.850852</td>\n",
       "      <td>-15.126490</td>\n",
       "      <td>-18.845801</td>\n",
       "      <td>-18.808651</td>\n",
       "    </tr>\n",
       "    <tr>\n",
       "      <th>2002-09-26</th>\n",
       "      <td>36.457665</td>\n",
       "      <td>-15.304787</td>\n",
       "      <td>-18.883935</td>\n",
       "      <td>-18.965713</td>\n",
       "    </tr>\n",
       "  </tbody>\n",
       "</table>\n",
       "<p>1000 rows × 4 columns</p>\n",
       "</div>"
      ],
      "text/plain": [
       "                    A          B          C          D\n",
       "2000-01-01  -1.276466   1.508149  -0.004353   1.005216\n",
       "2000-01-02  -1.063518   0.169168  -0.486092   0.730616\n",
       "2000-01-03  -2.057501   0.999597   0.052878   1.823356\n",
       "2000-01-04  -1.879145   0.338128  -0.800917   2.973871\n",
       "2000-01-05  -2.248119   2.294348  -1.520508   4.578526\n",
       "2000-01-06  -1.452117   2.175981  -0.566876   5.138843\n",
       "2000-01-07  -1.203629   3.507788  -0.329449   3.980121\n",
       "2000-01-08  -1.904816   3.812790   1.185672   3.435628\n",
       "2000-01-09  -2.070088   2.248446   0.388254   4.328378\n",
       "2000-01-10  -1.519811   2.047381   1.587393   4.613047\n",
       "2000-01-11  -2.438681   1.623465   2.083471   5.665188\n",
       "2000-01-12  -1.807617   3.810674   1.573379   3.177038\n",
       "2000-01-13  -1.816944   3.409246   1.762144   4.071810\n",
       "2000-01-14  -2.427884   4.037387   3.358583   4.271437\n",
       "2000-01-15  -0.691046   4.831259   5.133212   3.715626\n",
       "2000-01-16  -2.779611   4.979844   2.619693   3.845921\n",
       "2000-01-17  -2.569962   4.593879   3.637262   2.995551\n",
       "2000-01-18  -3.829632   5.445004   4.233461   3.030768\n",
       "2000-01-19  -4.299502   4.743986   4.826911   2.858537\n",
       "2000-01-20  -5.287050   4.799992   3.025408   3.166784\n",
       "2000-01-21  -4.481893   5.999532   3.782007   3.261080\n",
       "2000-01-22  -5.723734   6.712301   1.252425   4.071991\n",
       "2000-01-23  -6.800319   5.199413   0.727643   3.034285\n",
       "2000-01-24  -6.268333   5.093706   0.862093   2.058628\n",
       "2000-01-25  -7.636528   4.757744   1.046888   1.246763\n",
       "2000-01-26  -7.053353   5.228926   2.476561   0.575485\n",
       "2000-01-27  -7.256067   5.652269   1.652764   0.369069\n",
       "2000-01-28  -7.094347   6.870135   1.175749  -0.674334\n",
       "2000-01-29  -8.155013   7.221060  -1.009665  -0.076147\n",
       "2000-01-30  -8.293486   7.713020   0.275192  -0.326537\n",
       "...               ...        ...        ...        ...\n",
       "2002-08-28  26.039445 -11.997062 -28.610901 -26.617905\n",
       "2002-08-29  27.558913 -13.198277 -29.437092 -27.143036\n",
       "2002-08-30  27.804120 -12.860405 -29.844235 -26.179039\n",
       "2002-08-31  27.468077 -12.777146 -28.447514 -24.128971\n",
       "2002-09-01  26.883832 -12.490856 -28.934696 -25.382193\n",
       "2002-09-02  26.918541 -14.637393 -28.924223 -25.512028\n",
       "2002-09-03  26.086202 -16.109005 -27.882164 -25.027350\n",
       "2002-09-04  26.265869 -13.547778 -27.712898 -24.417484\n",
       "2002-09-05  27.376515 -12.571797 -27.574668 -24.019851\n",
       "2002-09-06  29.050529 -12.697950 -27.086502 -23.777862\n",
       "2002-09-07  29.895919 -12.921678 -24.820010 -23.839063\n",
       "2002-09-08  30.256215 -14.464784 -24.119366 -23.969856\n",
       "2002-09-09  31.398610 -12.719923 -23.975165 -23.229123\n",
       "2002-09-10  31.906672 -13.494978 -23.167250 -24.250323\n",
       "2002-09-11  32.803338 -13.141184 -22.838791 -23.700049\n",
       "2002-09-12  32.958104 -13.016301 -23.349211 -22.990149\n",
       "2002-09-13  32.714261 -12.525905 -23.751447 -23.231841\n",
       "2002-09-14  33.084583 -13.589648 -23.872450 -22.504546\n",
       "2002-09-15  35.492477 -13.008747 -23.550310 -21.772264\n",
       "2002-09-16  36.512130 -11.421452 -24.213715 -23.291021\n",
       "2002-09-17  35.929819 -12.361166 -23.920515 -21.857705\n",
       "2002-09-18  34.049273 -12.538601 -22.399191 -22.091326\n",
       "2002-09-19  35.090432 -13.503382 -22.032364 -22.770450\n",
       "2002-09-20  35.066312 -15.078455 -21.343949 -22.314419\n",
       "2002-09-21  34.100108 -15.458113 -20.911389 -21.901052\n",
       "2002-09-22  34.650719 -14.870973 -21.057814 -19.281535\n",
       "2002-09-23  35.271387 -13.088233 -19.532101 -18.982131\n",
       "2002-09-24  38.070547 -12.031363 -19.800160 -18.690634\n",
       "2002-09-25  36.850852 -15.126490 -18.845801 -18.808651\n",
       "2002-09-26  36.457665 -15.304787 -18.883935 -18.965713\n",
       "\n",
       "[1000 rows x 4 columns]"
      ]
     },
     "execution_count": 293,
     "metadata": {},
     "output_type": "execute_result"
    }
   ],
   "source": [
    "df"
   ]
  },
  {
   "cell_type": "code",
   "execution_count": 97,
   "metadata": {},
   "outputs": [],
   "source": [
    "?pd.read_csv"
   ]
  },
  {
   "cell_type": "markdown",
   "metadata": {},
   "source": [
    "### HDF5"
   ]
  },
  {
   "cell_type": "markdown",
   "metadata": {},
   "source": [
    "Reading and writing to [HDFStores](http://pandas.pydata.org/pandas-docs/stable/io.html#io-hdf5)\n",
    "\n",
    "HDF5 on Wikipedia: [HDF5 Wiki](https://en.wikipedia.org/wiki/Hierarchical_Data_Format)"
   ]
  },
  {
   "cell_type": "markdown",
   "metadata": {},
   "source": [
    "Writing to a HDF5 Store"
   ]
  },
  {
   "cell_type": "code",
   "execution_count": 99,
   "metadata": {},
   "outputs": [],
   "source": [
    "df.to_hdf('foo.h5','df')"
   ]
  },
  {
   "cell_type": "markdown",
   "metadata": {},
   "source": [
    "Reading from a HDF5 Store"
   ]
  },
  {
   "cell_type": "code",
   "execution_count": 309,
   "metadata": {
    "scrolled": false
   },
   "outputs": [
    {
     "data": {
      "text/html": [
       "<div>\n",
       "<style scoped>\n",
       "    .dataframe tbody tr th:only-of-type {\n",
       "        vertical-align: middle;\n",
       "    }\n",
       "\n",
       "    .dataframe tbody tr th {\n",
       "        vertical-align: top;\n",
       "    }\n",
       "\n",
       "    .dataframe thead th {\n",
       "        text-align: right;\n",
       "    }\n",
       "</style>\n",
       "<table border=\"1\" class=\"dataframe\">\n",
       "  <thead>\n",
       "    <tr style=\"text-align: right;\">\n",
       "      <th></th>\n",
       "      <th>A</th>\n",
       "      <th>B</th>\n",
       "      <th>C</th>\n",
       "      <th>D</th>\n",
       "    </tr>\n",
       "  </thead>\n",
       "  <tbody>\n",
       "    <tr>\n",
       "      <th>2000-01-01</th>\n",
       "      <td>-1.276466</td>\n",
       "      <td>1.508149</td>\n",
       "      <td>-0.004353</td>\n",
       "      <td>1.005216</td>\n",
       "    </tr>\n",
       "    <tr>\n",
       "      <th>2000-01-02</th>\n",
       "      <td>-1.063518</td>\n",
       "      <td>0.169168</td>\n",
       "      <td>-0.486092</td>\n",
       "      <td>0.730616</td>\n",
       "    </tr>\n",
       "    <tr>\n",
       "      <th>2000-01-03</th>\n",
       "      <td>-2.057501</td>\n",
       "      <td>0.999597</td>\n",
       "      <td>0.052878</td>\n",
       "      <td>1.823356</td>\n",
       "    </tr>\n",
       "    <tr>\n",
       "      <th>2000-01-04</th>\n",
       "      <td>-1.879145</td>\n",
       "      <td>0.338128</td>\n",
       "      <td>-0.800917</td>\n",
       "      <td>2.973871</td>\n",
       "    </tr>\n",
       "    <tr>\n",
       "      <th>2000-01-05</th>\n",
       "      <td>-2.248119</td>\n",
       "      <td>2.294348</td>\n",
       "      <td>-1.520508</td>\n",
       "      <td>4.578526</td>\n",
       "    </tr>\n",
       "    <tr>\n",
       "      <th>2000-01-06</th>\n",
       "      <td>-1.452117</td>\n",
       "      <td>2.175981</td>\n",
       "      <td>-0.566876</td>\n",
       "      <td>5.138843</td>\n",
       "    </tr>\n",
       "    <tr>\n",
       "      <th>2000-01-07</th>\n",
       "      <td>-1.203629</td>\n",
       "      <td>3.507788</td>\n",
       "      <td>-0.329449</td>\n",
       "      <td>3.980121</td>\n",
       "    </tr>\n",
       "    <tr>\n",
       "      <th>2000-01-08</th>\n",
       "      <td>-1.904816</td>\n",
       "      <td>3.812790</td>\n",
       "      <td>1.185672</td>\n",
       "      <td>3.435628</td>\n",
       "    </tr>\n",
       "    <tr>\n",
       "      <th>2000-01-09</th>\n",
       "      <td>-2.070088</td>\n",
       "      <td>2.248446</td>\n",
       "      <td>0.388254</td>\n",
       "      <td>4.328378</td>\n",
       "    </tr>\n",
       "    <tr>\n",
       "      <th>2000-01-10</th>\n",
       "      <td>-1.519811</td>\n",
       "      <td>2.047381</td>\n",
       "      <td>1.587393</td>\n",
       "      <td>4.613047</td>\n",
       "    </tr>\n",
       "    <tr>\n",
       "      <th>2000-01-11</th>\n",
       "      <td>-2.438681</td>\n",
       "      <td>1.623465</td>\n",
       "      <td>2.083471</td>\n",
       "      <td>5.665188</td>\n",
       "    </tr>\n",
       "    <tr>\n",
       "      <th>2000-01-12</th>\n",
       "      <td>-1.807617</td>\n",
       "      <td>3.810674</td>\n",
       "      <td>1.573379</td>\n",
       "      <td>3.177038</td>\n",
       "    </tr>\n",
       "    <tr>\n",
       "      <th>2000-01-13</th>\n",
       "      <td>-1.816944</td>\n",
       "      <td>3.409246</td>\n",
       "      <td>1.762144</td>\n",
       "      <td>4.071810</td>\n",
       "    </tr>\n",
       "    <tr>\n",
       "      <th>2000-01-14</th>\n",
       "      <td>-2.427884</td>\n",
       "      <td>4.037387</td>\n",
       "      <td>3.358583</td>\n",
       "      <td>4.271437</td>\n",
       "    </tr>\n",
       "    <tr>\n",
       "      <th>2000-01-15</th>\n",
       "      <td>-0.691046</td>\n",
       "      <td>4.831259</td>\n",
       "      <td>5.133212</td>\n",
       "      <td>3.715626</td>\n",
       "    </tr>\n",
       "    <tr>\n",
       "      <th>2000-01-16</th>\n",
       "      <td>-2.779611</td>\n",
       "      <td>4.979844</td>\n",
       "      <td>2.619693</td>\n",
       "      <td>3.845921</td>\n",
       "    </tr>\n",
       "    <tr>\n",
       "      <th>2000-01-17</th>\n",
       "      <td>-2.569962</td>\n",
       "      <td>4.593879</td>\n",
       "      <td>3.637262</td>\n",
       "      <td>2.995551</td>\n",
       "    </tr>\n",
       "    <tr>\n",
       "      <th>2000-01-18</th>\n",
       "      <td>-3.829632</td>\n",
       "      <td>5.445004</td>\n",
       "      <td>4.233461</td>\n",
       "      <td>3.030768</td>\n",
       "    </tr>\n",
       "    <tr>\n",
       "      <th>2000-01-19</th>\n",
       "      <td>-4.299502</td>\n",
       "      <td>4.743986</td>\n",
       "      <td>4.826911</td>\n",
       "      <td>2.858537</td>\n",
       "    </tr>\n",
       "    <tr>\n",
       "      <th>2000-01-20</th>\n",
       "      <td>-5.287050</td>\n",
       "      <td>4.799992</td>\n",
       "      <td>3.025408</td>\n",
       "      <td>3.166784</td>\n",
       "    </tr>\n",
       "    <tr>\n",
       "      <th>2000-01-21</th>\n",
       "      <td>-4.481893</td>\n",
       "      <td>5.999532</td>\n",
       "      <td>3.782007</td>\n",
       "      <td>3.261080</td>\n",
       "    </tr>\n",
       "    <tr>\n",
       "      <th>2000-01-22</th>\n",
       "      <td>-5.723734</td>\n",
       "      <td>6.712301</td>\n",
       "      <td>1.252425</td>\n",
       "      <td>4.071991</td>\n",
       "    </tr>\n",
       "    <tr>\n",
       "      <th>2000-01-23</th>\n",
       "      <td>-6.800319</td>\n",
       "      <td>5.199413</td>\n",
       "      <td>0.727643</td>\n",
       "      <td>3.034285</td>\n",
       "    </tr>\n",
       "    <tr>\n",
       "      <th>2000-01-24</th>\n",
       "      <td>-6.268333</td>\n",
       "      <td>5.093706</td>\n",
       "      <td>0.862093</td>\n",
       "      <td>2.058628</td>\n",
       "    </tr>\n",
       "    <tr>\n",
       "      <th>2000-01-25</th>\n",
       "      <td>-7.636528</td>\n",
       "      <td>4.757744</td>\n",
       "      <td>1.046888</td>\n",
       "      <td>1.246763</td>\n",
       "    </tr>\n",
       "    <tr>\n",
       "      <th>2000-01-26</th>\n",
       "      <td>-7.053353</td>\n",
       "      <td>5.228926</td>\n",
       "      <td>2.476561</td>\n",
       "      <td>0.575485</td>\n",
       "    </tr>\n",
       "    <tr>\n",
       "      <th>2000-01-27</th>\n",
       "      <td>-7.256067</td>\n",
       "      <td>5.652269</td>\n",
       "      <td>1.652764</td>\n",
       "      <td>0.369069</td>\n",
       "    </tr>\n",
       "    <tr>\n",
       "      <th>2000-01-28</th>\n",
       "      <td>-7.094347</td>\n",
       "      <td>6.870135</td>\n",
       "      <td>1.175749</td>\n",
       "      <td>-0.674334</td>\n",
       "    </tr>\n",
       "    <tr>\n",
       "      <th>2000-01-29</th>\n",
       "      <td>-8.155013</td>\n",
       "      <td>7.221060</td>\n",
       "      <td>-1.009665</td>\n",
       "      <td>-0.076147</td>\n",
       "    </tr>\n",
       "    <tr>\n",
       "      <th>2000-01-30</th>\n",
       "      <td>-8.293486</td>\n",
       "      <td>7.713020</td>\n",
       "      <td>0.275192</td>\n",
       "      <td>-0.326537</td>\n",
       "    </tr>\n",
       "    <tr>\n",
       "      <th>...</th>\n",
       "      <td>...</td>\n",
       "      <td>...</td>\n",
       "      <td>...</td>\n",
       "      <td>...</td>\n",
       "    </tr>\n",
       "    <tr>\n",
       "      <th>2002-08-28</th>\n",
       "      <td>26.039445</td>\n",
       "      <td>-11.997062</td>\n",
       "      <td>-28.610901</td>\n",
       "      <td>-26.617905</td>\n",
       "    </tr>\n",
       "    <tr>\n",
       "      <th>2002-08-29</th>\n",
       "      <td>27.558913</td>\n",
       "      <td>-13.198277</td>\n",
       "      <td>-29.437092</td>\n",
       "      <td>-27.143036</td>\n",
       "    </tr>\n",
       "    <tr>\n",
       "      <th>2002-08-30</th>\n",
       "      <td>27.804120</td>\n",
       "      <td>-12.860405</td>\n",
       "      <td>-29.844235</td>\n",
       "      <td>-26.179039</td>\n",
       "    </tr>\n",
       "    <tr>\n",
       "      <th>2002-08-31</th>\n",
       "      <td>27.468077</td>\n",
       "      <td>-12.777146</td>\n",
       "      <td>-28.447514</td>\n",
       "      <td>-24.128971</td>\n",
       "    </tr>\n",
       "    <tr>\n",
       "      <th>2002-09-01</th>\n",
       "      <td>26.883832</td>\n",
       "      <td>-12.490856</td>\n",
       "      <td>-28.934696</td>\n",
       "      <td>-25.382193</td>\n",
       "    </tr>\n",
       "    <tr>\n",
       "      <th>2002-09-02</th>\n",
       "      <td>26.918541</td>\n",
       "      <td>-14.637393</td>\n",
       "      <td>-28.924223</td>\n",
       "      <td>-25.512028</td>\n",
       "    </tr>\n",
       "    <tr>\n",
       "      <th>2002-09-03</th>\n",
       "      <td>26.086202</td>\n",
       "      <td>-16.109005</td>\n",
       "      <td>-27.882164</td>\n",
       "      <td>-25.027350</td>\n",
       "    </tr>\n",
       "    <tr>\n",
       "      <th>2002-09-04</th>\n",
       "      <td>26.265869</td>\n",
       "      <td>-13.547778</td>\n",
       "      <td>-27.712898</td>\n",
       "      <td>-24.417484</td>\n",
       "    </tr>\n",
       "    <tr>\n",
       "      <th>2002-09-05</th>\n",
       "      <td>27.376515</td>\n",
       "      <td>-12.571797</td>\n",
       "      <td>-27.574668</td>\n",
       "      <td>-24.019851</td>\n",
       "    </tr>\n",
       "    <tr>\n",
       "      <th>2002-09-06</th>\n",
       "      <td>29.050529</td>\n",
       "      <td>-12.697950</td>\n",
       "      <td>-27.086502</td>\n",
       "      <td>-23.777862</td>\n",
       "    </tr>\n",
       "    <tr>\n",
       "      <th>2002-09-07</th>\n",
       "      <td>29.895919</td>\n",
       "      <td>-12.921678</td>\n",
       "      <td>-24.820010</td>\n",
       "      <td>-23.839063</td>\n",
       "    </tr>\n",
       "    <tr>\n",
       "      <th>2002-09-08</th>\n",
       "      <td>30.256215</td>\n",
       "      <td>-14.464784</td>\n",
       "      <td>-24.119366</td>\n",
       "      <td>-23.969856</td>\n",
       "    </tr>\n",
       "    <tr>\n",
       "      <th>2002-09-09</th>\n",
       "      <td>31.398610</td>\n",
       "      <td>-12.719923</td>\n",
       "      <td>-23.975165</td>\n",
       "      <td>-23.229123</td>\n",
       "    </tr>\n",
       "    <tr>\n",
       "      <th>2002-09-10</th>\n",
       "      <td>31.906672</td>\n",
       "      <td>-13.494978</td>\n",
       "      <td>-23.167250</td>\n",
       "      <td>-24.250323</td>\n",
       "    </tr>\n",
       "    <tr>\n",
       "      <th>2002-09-11</th>\n",
       "      <td>32.803338</td>\n",
       "      <td>-13.141184</td>\n",
       "      <td>-22.838791</td>\n",
       "      <td>-23.700049</td>\n",
       "    </tr>\n",
       "    <tr>\n",
       "      <th>2002-09-12</th>\n",
       "      <td>32.958104</td>\n",
       "      <td>-13.016301</td>\n",
       "      <td>-23.349211</td>\n",
       "      <td>-22.990149</td>\n",
       "    </tr>\n",
       "    <tr>\n",
       "      <th>2002-09-13</th>\n",
       "      <td>32.714261</td>\n",
       "      <td>-12.525905</td>\n",
       "      <td>-23.751447</td>\n",
       "      <td>-23.231841</td>\n",
       "    </tr>\n",
       "    <tr>\n",
       "      <th>2002-09-14</th>\n",
       "      <td>33.084583</td>\n",
       "      <td>-13.589648</td>\n",
       "      <td>-23.872450</td>\n",
       "      <td>-22.504546</td>\n",
       "    </tr>\n",
       "    <tr>\n",
       "      <th>2002-09-15</th>\n",
       "      <td>35.492477</td>\n",
       "      <td>-13.008747</td>\n",
       "      <td>-23.550310</td>\n",
       "      <td>-21.772264</td>\n",
       "    </tr>\n",
       "    <tr>\n",
       "      <th>2002-09-16</th>\n",
       "      <td>36.512130</td>\n",
       "      <td>-11.421452</td>\n",
       "      <td>-24.213715</td>\n",
       "      <td>-23.291021</td>\n",
       "    </tr>\n",
       "    <tr>\n",
       "      <th>2002-09-17</th>\n",
       "      <td>35.929819</td>\n",
       "      <td>-12.361166</td>\n",
       "      <td>-23.920515</td>\n",
       "      <td>-21.857705</td>\n",
       "    </tr>\n",
       "    <tr>\n",
       "      <th>2002-09-18</th>\n",
       "      <td>34.049273</td>\n",
       "      <td>-12.538601</td>\n",
       "      <td>-22.399191</td>\n",
       "      <td>-22.091326</td>\n",
       "    </tr>\n",
       "    <tr>\n",
       "      <th>2002-09-19</th>\n",
       "      <td>35.090432</td>\n",
       "      <td>-13.503382</td>\n",
       "      <td>-22.032364</td>\n",
       "      <td>-22.770450</td>\n",
       "    </tr>\n",
       "    <tr>\n",
       "      <th>2002-09-20</th>\n",
       "      <td>35.066312</td>\n",
       "      <td>-15.078455</td>\n",
       "      <td>-21.343949</td>\n",
       "      <td>-22.314419</td>\n",
       "    </tr>\n",
       "    <tr>\n",
       "      <th>2002-09-21</th>\n",
       "      <td>34.100108</td>\n",
       "      <td>-15.458113</td>\n",
       "      <td>-20.911389</td>\n",
       "      <td>-21.901052</td>\n",
       "    </tr>\n",
       "    <tr>\n",
       "      <th>2002-09-22</th>\n",
       "      <td>34.650719</td>\n",
       "      <td>-14.870973</td>\n",
       "      <td>-21.057814</td>\n",
       "      <td>-19.281535</td>\n",
       "    </tr>\n",
       "    <tr>\n",
       "      <th>2002-09-23</th>\n",
       "      <td>35.271387</td>\n",
       "      <td>-13.088233</td>\n",
       "      <td>-19.532101</td>\n",
       "      <td>-18.982131</td>\n",
       "    </tr>\n",
       "    <tr>\n",
       "      <th>2002-09-24</th>\n",
       "      <td>38.070547</td>\n",
       "      <td>-12.031363</td>\n",
       "      <td>-19.800160</td>\n",
       "      <td>-18.690634</td>\n",
       "    </tr>\n",
       "    <tr>\n",
       "      <th>2002-09-25</th>\n",
       "      <td>36.850852</td>\n",
       "      <td>-15.126490</td>\n",
       "      <td>-18.845801</td>\n",
       "      <td>-18.808651</td>\n",
       "    </tr>\n",
       "    <tr>\n",
       "      <th>2002-09-26</th>\n",
       "      <td>36.457665</td>\n",
       "      <td>-15.304787</td>\n",
       "      <td>-18.883935</td>\n",
       "      <td>-18.965713</td>\n",
       "    </tr>\n",
       "  </tbody>\n",
       "</table>\n",
       "<p>1000 rows × 4 columns</p>\n",
       "</div>"
      ],
      "text/plain": [
       "                    A          B          C          D\n",
       "2000-01-01  -1.276466   1.508149  -0.004353   1.005216\n",
       "2000-01-02  -1.063518   0.169168  -0.486092   0.730616\n",
       "2000-01-03  -2.057501   0.999597   0.052878   1.823356\n",
       "2000-01-04  -1.879145   0.338128  -0.800917   2.973871\n",
       "2000-01-05  -2.248119   2.294348  -1.520508   4.578526\n",
       "2000-01-06  -1.452117   2.175981  -0.566876   5.138843\n",
       "2000-01-07  -1.203629   3.507788  -0.329449   3.980121\n",
       "2000-01-08  -1.904816   3.812790   1.185672   3.435628\n",
       "2000-01-09  -2.070088   2.248446   0.388254   4.328378\n",
       "2000-01-10  -1.519811   2.047381   1.587393   4.613047\n",
       "2000-01-11  -2.438681   1.623465   2.083471   5.665188\n",
       "2000-01-12  -1.807617   3.810674   1.573379   3.177038\n",
       "2000-01-13  -1.816944   3.409246   1.762144   4.071810\n",
       "2000-01-14  -2.427884   4.037387   3.358583   4.271437\n",
       "2000-01-15  -0.691046   4.831259   5.133212   3.715626\n",
       "2000-01-16  -2.779611   4.979844   2.619693   3.845921\n",
       "2000-01-17  -2.569962   4.593879   3.637262   2.995551\n",
       "2000-01-18  -3.829632   5.445004   4.233461   3.030768\n",
       "2000-01-19  -4.299502   4.743986   4.826911   2.858537\n",
       "2000-01-20  -5.287050   4.799992   3.025408   3.166784\n",
       "2000-01-21  -4.481893   5.999532   3.782007   3.261080\n",
       "2000-01-22  -5.723734   6.712301   1.252425   4.071991\n",
       "2000-01-23  -6.800319   5.199413   0.727643   3.034285\n",
       "2000-01-24  -6.268333   5.093706   0.862093   2.058628\n",
       "2000-01-25  -7.636528   4.757744   1.046888   1.246763\n",
       "2000-01-26  -7.053353   5.228926   2.476561   0.575485\n",
       "2000-01-27  -7.256067   5.652269   1.652764   0.369069\n",
       "2000-01-28  -7.094347   6.870135   1.175749  -0.674334\n",
       "2000-01-29  -8.155013   7.221060  -1.009665  -0.076147\n",
       "2000-01-30  -8.293486   7.713020   0.275192  -0.326537\n",
       "...               ...        ...        ...        ...\n",
       "2002-08-28  26.039445 -11.997062 -28.610901 -26.617905\n",
       "2002-08-29  27.558913 -13.198277 -29.437092 -27.143036\n",
       "2002-08-30  27.804120 -12.860405 -29.844235 -26.179039\n",
       "2002-08-31  27.468077 -12.777146 -28.447514 -24.128971\n",
       "2002-09-01  26.883832 -12.490856 -28.934696 -25.382193\n",
       "2002-09-02  26.918541 -14.637393 -28.924223 -25.512028\n",
       "2002-09-03  26.086202 -16.109005 -27.882164 -25.027350\n",
       "2002-09-04  26.265869 -13.547778 -27.712898 -24.417484\n",
       "2002-09-05  27.376515 -12.571797 -27.574668 -24.019851\n",
       "2002-09-06  29.050529 -12.697950 -27.086502 -23.777862\n",
       "2002-09-07  29.895919 -12.921678 -24.820010 -23.839063\n",
       "2002-09-08  30.256215 -14.464784 -24.119366 -23.969856\n",
       "2002-09-09  31.398610 -12.719923 -23.975165 -23.229123\n",
       "2002-09-10  31.906672 -13.494978 -23.167250 -24.250323\n",
       "2002-09-11  32.803338 -13.141184 -22.838791 -23.700049\n",
       "2002-09-12  32.958104 -13.016301 -23.349211 -22.990149\n",
       "2002-09-13  32.714261 -12.525905 -23.751447 -23.231841\n",
       "2002-09-14  33.084583 -13.589648 -23.872450 -22.504546\n",
       "2002-09-15  35.492477 -13.008747 -23.550310 -21.772264\n",
       "2002-09-16  36.512130 -11.421452 -24.213715 -23.291021\n",
       "2002-09-17  35.929819 -12.361166 -23.920515 -21.857705\n",
       "2002-09-18  34.049273 -12.538601 -22.399191 -22.091326\n",
       "2002-09-19  35.090432 -13.503382 -22.032364 -22.770450\n",
       "2002-09-20  35.066312 -15.078455 -21.343949 -22.314419\n",
       "2002-09-21  34.100108 -15.458113 -20.911389 -21.901052\n",
       "2002-09-22  34.650719 -14.870973 -21.057814 -19.281535\n",
       "2002-09-23  35.271387 -13.088233 -19.532101 -18.982131\n",
       "2002-09-24  38.070547 -12.031363 -19.800160 -18.690634\n",
       "2002-09-25  36.850852 -15.126490 -18.845801 -18.808651\n",
       "2002-09-26  36.457665 -15.304787 -18.883935 -18.965713\n",
       "\n",
       "[1000 rows x 4 columns]"
      ]
     },
     "execution_count": 309,
     "metadata": {},
     "output_type": "execute_result"
    }
   ],
   "source": [
    "pd.read_hdf('foo.h5','df')"
   ]
  },
  {
   "cell_type": "code",
   "execution_count": 310,
   "metadata": {},
   "outputs": [],
   "source": [
    "?pd.read_csv"
   ]
  },
  {
   "cell_type": "markdown",
   "metadata": {},
   "source": [
    "### Excel"
   ]
  },
  {
   "cell_type": "markdown",
   "metadata": {},
   "source": [
    "Excel files\n",
    "\n",
    "The read_excel() method can read Excel 2003 (.xls) and Excel 2007+ (.xlsx) files using the xlrd Python module. The to_excel() instance method is used for saving a DataFrame to Excel. Generally the semantics are similar to working with csv data\n",
    "\n",
    "Reading and writing to [MS Excel](http://pandas.pydata.org/pandas-docs/stable/io.html#io-excel)"
   ]
  },
  {
   "cell_type": "markdown",
   "metadata": {},
   "source": [
    "Writing to an excel file"
   ]
  },
  {
   "cell_type": "code",
   "execution_count": 311,
   "metadata": {},
   "outputs": [],
   "source": [
    "df.to_excel('foo.xlsx', sheet_name='Sheet1')"
   ]
  },
  {
   "cell_type": "markdown",
   "metadata": {},
   "source": [
    "Reading from an excel file"
   ]
  },
  {
   "cell_type": "code",
   "execution_count": null,
   "metadata": {
    "scrolled": false
   },
   "outputs": [],
   "source": [
    "pd.read_excel('foo.xlsx', 'Sheet1', index_col=None, na_values=['NA'])"
   ]
  },
  {
   "cell_type": "code",
   "execution_count": null,
   "metadata": {},
   "outputs": [],
   "source": [
    "df.sort_values(\"A\", ascending=False)[:3]"
   ]
  },
  {
   "cell_type": "code",
   "execution_count": null,
   "metadata": {},
   "outputs": [],
   "source": [
    "df.nlargest(3,\"A\")"
   ]
  },
  {
   "cell_type": "code",
   "execution_count": null,
   "metadata": {},
   "outputs": [],
   "source": [
    "!pip3 install tables --upgrade -U"
   ]
  },
  {
   "cell_type": "code",
   "execution_count": null,
   "metadata": {},
   "outputs": [],
   "source": [
    "!pip3 install numpy -U"
   ]
  },
  {
   "cell_type": "code",
   "execution_count": 313,
   "metadata": {},
   "outputs": [],
   "source": [
    "import pickle"
   ]
  },
  {
   "cell_type": "code",
   "execution_count": 314,
   "metadata": {},
   "outputs": [],
   "source": [
    "myfile=open(\"df.pkl\", \"wb\")"
   ]
  },
  {
   "cell_type": "code",
   "execution_count": 315,
   "metadata": {},
   "outputs": [],
   "source": [
    "pickle.dump(df, myfile)"
   ]
  },
  {
   "cell_type": "code",
   "execution_count": 318,
   "metadata": {},
   "outputs": [],
   "source": [
    "myfile.close()"
   ]
  },
  {
   "cell_type": "code",
   "execution_count": 319,
   "metadata": {},
   "outputs": [],
   "source": [
    "myfile=open(\"df.pkl\", \"rb\")"
   ]
  },
  {
   "cell_type": "code",
   "execution_count": 321,
   "metadata": {},
   "outputs": [],
   "source": [
    "dfNew=pickle.load(myfile)"
   ]
  },
  {
   "cell_type": "code",
   "execution_count": 322,
   "metadata": {},
   "outputs": [
    {
     "data": {
      "text/html": [
       "<div>\n",
       "<style scoped>\n",
       "    .dataframe tbody tr th:only-of-type {\n",
       "        vertical-align: middle;\n",
       "    }\n",
       "\n",
       "    .dataframe tbody tr th {\n",
       "        vertical-align: top;\n",
       "    }\n",
       "\n",
       "    .dataframe thead th {\n",
       "        text-align: right;\n",
       "    }\n",
       "</style>\n",
       "<table border=\"1\" class=\"dataframe\">\n",
       "  <thead>\n",
       "    <tr style=\"text-align: right;\">\n",
       "      <th></th>\n",
       "      <th>A</th>\n",
       "      <th>B</th>\n",
       "      <th>C</th>\n",
       "      <th>D</th>\n",
       "    </tr>\n",
       "  </thead>\n",
       "  <tbody>\n",
       "    <tr>\n",
       "      <th>2000-01-01</th>\n",
       "      <td>-1.276466</td>\n",
       "      <td>1.508149</td>\n",
       "      <td>-0.004353</td>\n",
       "      <td>1.005216</td>\n",
       "    </tr>\n",
       "    <tr>\n",
       "      <th>2000-01-02</th>\n",
       "      <td>-1.063518</td>\n",
       "      <td>0.169168</td>\n",
       "      <td>-0.486092</td>\n",
       "      <td>0.730616</td>\n",
       "    </tr>\n",
       "    <tr>\n",
       "      <th>2000-01-03</th>\n",
       "      <td>-2.057501</td>\n",
       "      <td>0.999597</td>\n",
       "      <td>0.052878</td>\n",
       "      <td>1.823356</td>\n",
       "    </tr>\n",
       "    <tr>\n",
       "      <th>2000-01-04</th>\n",
       "      <td>-1.879145</td>\n",
       "      <td>0.338128</td>\n",
       "      <td>-0.800917</td>\n",
       "      <td>2.973871</td>\n",
       "    </tr>\n",
       "    <tr>\n",
       "      <th>2000-01-05</th>\n",
       "      <td>-2.248119</td>\n",
       "      <td>2.294348</td>\n",
       "      <td>-1.520508</td>\n",
       "      <td>4.578526</td>\n",
       "    </tr>\n",
       "    <tr>\n",
       "      <th>2000-01-06</th>\n",
       "      <td>-1.452117</td>\n",
       "      <td>2.175981</td>\n",
       "      <td>-0.566876</td>\n",
       "      <td>5.138843</td>\n",
       "    </tr>\n",
       "    <tr>\n",
       "      <th>2000-01-07</th>\n",
       "      <td>-1.203629</td>\n",
       "      <td>3.507788</td>\n",
       "      <td>-0.329449</td>\n",
       "      <td>3.980121</td>\n",
       "    </tr>\n",
       "    <tr>\n",
       "      <th>2000-01-08</th>\n",
       "      <td>-1.904816</td>\n",
       "      <td>3.812790</td>\n",
       "      <td>1.185672</td>\n",
       "      <td>3.435628</td>\n",
       "    </tr>\n",
       "    <tr>\n",
       "      <th>2000-01-09</th>\n",
       "      <td>-2.070088</td>\n",
       "      <td>2.248446</td>\n",
       "      <td>0.388254</td>\n",
       "      <td>4.328378</td>\n",
       "    </tr>\n",
       "    <tr>\n",
       "      <th>2000-01-10</th>\n",
       "      <td>-1.519811</td>\n",
       "      <td>2.047381</td>\n",
       "      <td>1.587393</td>\n",
       "      <td>4.613047</td>\n",
       "    </tr>\n",
       "    <tr>\n",
       "      <th>2000-01-11</th>\n",
       "      <td>-2.438681</td>\n",
       "      <td>1.623465</td>\n",
       "      <td>2.083471</td>\n",
       "      <td>5.665188</td>\n",
       "    </tr>\n",
       "    <tr>\n",
       "      <th>2000-01-12</th>\n",
       "      <td>-1.807617</td>\n",
       "      <td>3.810674</td>\n",
       "      <td>1.573379</td>\n",
       "      <td>3.177038</td>\n",
       "    </tr>\n",
       "    <tr>\n",
       "      <th>2000-01-13</th>\n",
       "      <td>-1.816944</td>\n",
       "      <td>3.409246</td>\n",
       "      <td>1.762144</td>\n",
       "      <td>4.071810</td>\n",
       "    </tr>\n",
       "    <tr>\n",
       "      <th>2000-01-14</th>\n",
       "      <td>-2.427884</td>\n",
       "      <td>4.037387</td>\n",
       "      <td>3.358583</td>\n",
       "      <td>4.271437</td>\n",
       "    </tr>\n",
       "    <tr>\n",
       "      <th>2000-01-15</th>\n",
       "      <td>-0.691046</td>\n",
       "      <td>4.831259</td>\n",
       "      <td>5.133212</td>\n",
       "      <td>3.715626</td>\n",
       "    </tr>\n",
       "    <tr>\n",
       "      <th>2000-01-16</th>\n",
       "      <td>-2.779611</td>\n",
       "      <td>4.979844</td>\n",
       "      <td>2.619693</td>\n",
       "      <td>3.845921</td>\n",
       "    </tr>\n",
       "    <tr>\n",
       "      <th>2000-01-17</th>\n",
       "      <td>-2.569962</td>\n",
       "      <td>4.593879</td>\n",
       "      <td>3.637262</td>\n",
       "      <td>2.995551</td>\n",
       "    </tr>\n",
       "    <tr>\n",
       "      <th>2000-01-18</th>\n",
       "      <td>-3.829632</td>\n",
       "      <td>5.445004</td>\n",
       "      <td>4.233461</td>\n",
       "      <td>3.030768</td>\n",
       "    </tr>\n",
       "    <tr>\n",
       "      <th>2000-01-19</th>\n",
       "      <td>-4.299502</td>\n",
       "      <td>4.743986</td>\n",
       "      <td>4.826911</td>\n",
       "      <td>2.858537</td>\n",
       "    </tr>\n",
       "    <tr>\n",
       "      <th>2000-01-20</th>\n",
       "      <td>-5.287050</td>\n",
       "      <td>4.799992</td>\n",
       "      <td>3.025408</td>\n",
       "      <td>3.166784</td>\n",
       "    </tr>\n",
       "    <tr>\n",
       "      <th>2000-01-21</th>\n",
       "      <td>-4.481893</td>\n",
       "      <td>5.999532</td>\n",
       "      <td>3.782007</td>\n",
       "      <td>3.261080</td>\n",
       "    </tr>\n",
       "    <tr>\n",
       "      <th>2000-01-22</th>\n",
       "      <td>-5.723734</td>\n",
       "      <td>6.712301</td>\n",
       "      <td>1.252425</td>\n",
       "      <td>4.071991</td>\n",
       "    </tr>\n",
       "    <tr>\n",
       "      <th>2000-01-23</th>\n",
       "      <td>-6.800319</td>\n",
       "      <td>5.199413</td>\n",
       "      <td>0.727643</td>\n",
       "      <td>3.034285</td>\n",
       "    </tr>\n",
       "    <tr>\n",
       "      <th>2000-01-24</th>\n",
       "      <td>-6.268333</td>\n",
       "      <td>5.093706</td>\n",
       "      <td>0.862093</td>\n",
       "      <td>2.058628</td>\n",
       "    </tr>\n",
       "    <tr>\n",
       "      <th>2000-01-25</th>\n",
       "      <td>-7.636528</td>\n",
       "      <td>4.757744</td>\n",
       "      <td>1.046888</td>\n",
       "      <td>1.246763</td>\n",
       "    </tr>\n",
       "    <tr>\n",
       "      <th>2000-01-26</th>\n",
       "      <td>-7.053353</td>\n",
       "      <td>5.228926</td>\n",
       "      <td>2.476561</td>\n",
       "      <td>0.575485</td>\n",
       "    </tr>\n",
       "    <tr>\n",
       "      <th>2000-01-27</th>\n",
       "      <td>-7.256067</td>\n",
       "      <td>5.652269</td>\n",
       "      <td>1.652764</td>\n",
       "      <td>0.369069</td>\n",
       "    </tr>\n",
       "    <tr>\n",
       "      <th>2000-01-28</th>\n",
       "      <td>-7.094347</td>\n",
       "      <td>6.870135</td>\n",
       "      <td>1.175749</td>\n",
       "      <td>-0.674334</td>\n",
       "    </tr>\n",
       "    <tr>\n",
       "      <th>2000-01-29</th>\n",
       "      <td>-8.155013</td>\n",
       "      <td>7.221060</td>\n",
       "      <td>-1.009665</td>\n",
       "      <td>-0.076147</td>\n",
       "    </tr>\n",
       "    <tr>\n",
       "      <th>2000-01-30</th>\n",
       "      <td>-8.293486</td>\n",
       "      <td>7.713020</td>\n",
       "      <td>0.275192</td>\n",
       "      <td>-0.326537</td>\n",
       "    </tr>\n",
       "    <tr>\n",
       "      <th>...</th>\n",
       "      <td>...</td>\n",
       "      <td>...</td>\n",
       "      <td>...</td>\n",
       "      <td>...</td>\n",
       "    </tr>\n",
       "    <tr>\n",
       "      <th>2002-08-28</th>\n",
       "      <td>26.039445</td>\n",
       "      <td>-11.997062</td>\n",
       "      <td>-28.610901</td>\n",
       "      <td>-26.617905</td>\n",
       "    </tr>\n",
       "    <tr>\n",
       "      <th>2002-08-29</th>\n",
       "      <td>27.558913</td>\n",
       "      <td>-13.198277</td>\n",
       "      <td>-29.437092</td>\n",
       "      <td>-27.143036</td>\n",
       "    </tr>\n",
       "    <tr>\n",
       "      <th>2002-08-30</th>\n",
       "      <td>27.804120</td>\n",
       "      <td>-12.860405</td>\n",
       "      <td>-29.844235</td>\n",
       "      <td>-26.179039</td>\n",
       "    </tr>\n",
       "    <tr>\n",
       "      <th>2002-08-31</th>\n",
       "      <td>27.468077</td>\n",
       "      <td>-12.777146</td>\n",
       "      <td>-28.447514</td>\n",
       "      <td>-24.128971</td>\n",
       "    </tr>\n",
       "    <tr>\n",
       "      <th>2002-09-01</th>\n",
       "      <td>26.883832</td>\n",
       "      <td>-12.490856</td>\n",
       "      <td>-28.934696</td>\n",
       "      <td>-25.382193</td>\n",
       "    </tr>\n",
       "    <tr>\n",
       "      <th>2002-09-02</th>\n",
       "      <td>26.918541</td>\n",
       "      <td>-14.637393</td>\n",
       "      <td>-28.924223</td>\n",
       "      <td>-25.512028</td>\n",
       "    </tr>\n",
       "    <tr>\n",
       "      <th>2002-09-03</th>\n",
       "      <td>26.086202</td>\n",
       "      <td>-16.109005</td>\n",
       "      <td>-27.882164</td>\n",
       "      <td>-25.027350</td>\n",
       "    </tr>\n",
       "    <tr>\n",
       "      <th>2002-09-04</th>\n",
       "      <td>26.265869</td>\n",
       "      <td>-13.547778</td>\n",
       "      <td>-27.712898</td>\n",
       "      <td>-24.417484</td>\n",
       "    </tr>\n",
       "    <tr>\n",
       "      <th>2002-09-05</th>\n",
       "      <td>27.376515</td>\n",
       "      <td>-12.571797</td>\n",
       "      <td>-27.574668</td>\n",
       "      <td>-24.019851</td>\n",
       "    </tr>\n",
       "    <tr>\n",
       "      <th>2002-09-06</th>\n",
       "      <td>29.050529</td>\n",
       "      <td>-12.697950</td>\n",
       "      <td>-27.086502</td>\n",
       "      <td>-23.777862</td>\n",
       "    </tr>\n",
       "    <tr>\n",
       "      <th>2002-09-07</th>\n",
       "      <td>29.895919</td>\n",
       "      <td>-12.921678</td>\n",
       "      <td>-24.820010</td>\n",
       "      <td>-23.839063</td>\n",
       "    </tr>\n",
       "    <tr>\n",
       "      <th>2002-09-08</th>\n",
       "      <td>30.256215</td>\n",
       "      <td>-14.464784</td>\n",
       "      <td>-24.119366</td>\n",
       "      <td>-23.969856</td>\n",
       "    </tr>\n",
       "    <tr>\n",
       "      <th>2002-09-09</th>\n",
       "      <td>31.398610</td>\n",
       "      <td>-12.719923</td>\n",
       "      <td>-23.975165</td>\n",
       "      <td>-23.229123</td>\n",
       "    </tr>\n",
       "    <tr>\n",
       "      <th>2002-09-10</th>\n",
       "      <td>31.906672</td>\n",
       "      <td>-13.494978</td>\n",
       "      <td>-23.167250</td>\n",
       "      <td>-24.250323</td>\n",
       "    </tr>\n",
       "    <tr>\n",
       "      <th>2002-09-11</th>\n",
       "      <td>32.803338</td>\n",
       "      <td>-13.141184</td>\n",
       "      <td>-22.838791</td>\n",
       "      <td>-23.700049</td>\n",
       "    </tr>\n",
       "    <tr>\n",
       "      <th>2002-09-12</th>\n",
       "      <td>32.958104</td>\n",
       "      <td>-13.016301</td>\n",
       "      <td>-23.349211</td>\n",
       "      <td>-22.990149</td>\n",
       "    </tr>\n",
       "    <tr>\n",
       "      <th>2002-09-13</th>\n",
       "      <td>32.714261</td>\n",
       "      <td>-12.525905</td>\n",
       "      <td>-23.751447</td>\n",
       "      <td>-23.231841</td>\n",
       "    </tr>\n",
       "    <tr>\n",
       "      <th>2002-09-14</th>\n",
       "      <td>33.084583</td>\n",
       "      <td>-13.589648</td>\n",
       "      <td>-23.872450</td>\n",
       "      <td>-22.504546</td>\n",
       "    </tr>\n",
       "    <tr>\n",
       "      <th>2002-09-15</th>\n",
       "      <td>35.492477</td>\n",
       "      <td>-13.008747</td>\n",
       "      <td>-23.550310</td>\n",
       "      <td>-21.772264</td>\n",
       "    </tr>\n",
       "    <tr>\n",
       "      <th>2002-09-16</th>\n",
       "      <td>36.512130</td>\n",
       "      <td>-11.421452</td>\n",
       "      <td>-24.213715</td>\n",
       "      <td>-23.291021</td>\n",
       "    </tr>\n",
       "    <tr>\n",
       "      <th>2002-09-17</th>\n",
       "      <td>35.929819</td>\n",
       "      <td>-12.361166</td>\n",
       "      <td>-23.920515</td>\n",
       "      <td>-21.857705</td>\n",
       "    </tr>\n",
       "    <tr>\n",
       "      <th>2002-09-18</th>\n",
       "      <td>34.049273</td>\n",
       "      <td>-12.538601</td>\n",
       "      <td>-22.399191</td>\n",
       "      <td>-22.091326</td>\n",
       "    </tr>\n",
       "    <tr>\n",
       "      <th>2002-09-19</th>\n",
       "      <td>35.090432</td>\n",
       "      <td>-13.503382</td>\n",
       "      <td>-22.032364</td>\n",
       "      <td>-22.770450</td>\n",
       "    </tr>\n",
       "    <tr>\n",
       "      <th>2002-09-20</th>\n",
       "      <td>35.066312</td>\n",
       "      <td>-15.078455</td>\n",
       "      <td>-21.343949</td>\n",
       "      <td>-22.314419</td>\n",
       "    </tr>\n",
       "    <tr>\n",
       "      <th>2002-09-21</th>\n",
       "      <td>34.100108</td>\n",
       "      <td>-15.458113</td>\n",
       "      <td>-20.911389</td>\n",
       "      <td>-21.901052</td>\n",
       "    </tr>\n",
       "    <tr>\n",
       "      <th>2002-09-22</th>\n",
       "      <td>34.650719</td>\n",
       "      <td>-14.870973</td>\n",
       "      <td>-21.057814</td>\n",
       "      <td>-19.281535</td>\n",
       "    </tr>\n",
       "    <tr>\n",
       "      <th>2002-09-23</th>\n",
       "      <td>35.271387</td>\n",
       "      <td>-13.088233</td>\n",
       "      <td>-19.532101</td>\n",
       "      <td>-18.982131</td>\n",
       "    </tr>\n",
       "    <tr>\n",
       "      <th>2002-09-24</th>\n",
       "      <td>38.070547</td>\n",
       "      <td>-12.031363</td>\n",
       "      <td>-19.800160</td>\n",
       "      <td>-18.690634</td>\n",
       "    </tr>\n",
       "    <tr>\n",
       "      <th>2002-09-25</th>\n",
       "      <td>36.850852</td>\n",
       "      <td>-15.126490</td>\n",
       "      <td>-18.845801</td>\n",
       "      <td>-18.808651</td>\n",
       "    </tr>\n",
       "    <tr>\n",
       "      <th>2002-09-26</th>\n",
       "      <td>36.457665</td>\n",
       "      <td>-15.304787</td>\n",
       "      <td>-18.883935</td>\n",
       "      <td>-18.965713</td>\n",
       "    </tr>\n",
       "  </tbody>\n",
       "</table>\n",
       "<p>1000 rows × 4 columns</p>\n",
       "</div>"
      ],
      "text/plain": [
       "                    A          B          C          D\n",
       "2000-01-01  -1.276466   1.508149  -0.004353   1.005216\n",
       "2000-01-02  -1.063518   0.169168  -0.486092   0.730616\n",
       "2000-01-03  -2.057501   0.999597   0.052878   1.823356\n",
       "2000-01-04  -1.879145   0.338128  -0.800917   2.973871\n",
       "2000-01-05  -2.248119   2.294348  -1.520508   4.578526\n",
       "2000-01-06  -1.452117   2.175981  -0.566876   5.138843\n",
       "2000-01-07  -1.203629   3.507788  -0.329449   3.980121\n",
       "2000-01-08  -1.904816   3.812790   1.185672   3.435628\n",
       "2000-01-09  -2.070088   2.248446   0.388254   4.328378\n",
       "2000-01-10  -1.519811   2.047381   1.587393   4.613047\n",
       "2000-01-11  -2.438681   1.623465   2.083471   5.665188\n",
       "2000-01-12  -1.807617   3.810674   1.573379   3.177038\n",
       "2000-01-13  -1.816944   3.409246   1.762144   4.071810\n",
       "2000-01-14  -2.427884   4.037387   3.358583   4.271437\n",
       "2000-01-15  -0.691046   4.831259   5.133212   3.715626\n",
       "2000-01-16  -2.779611   4.979844   2.619693   3.845921\n",
       "2000-01-17  -2.569962   4.593879   3.637262   2.995551\n",
       "2000-01-18  -3.829632   5.445004   4.233461   3.030768\n",
       "2000-01-19  -4.299502   4.743986   4.826911   2.858537\n",
       "2000-01-20  -5.287050   4.799992   3.025408   3.166784\n",
       "2000-01-21  -4.481893   5.999532   3.782007   3.261080\n",
       "2000-01-22  -5.723734   6.712301   1.252425   4.071991\n",
       "2000-01-23  -6.800319   5.199413   0.727643   3.034285\n",
       "2000-01-24  -6.268333   5.093706   0.862093   2.058628\n",
       "2000-01-25  -7.636528   4.757744   1.046888   1.246763\n",
       "2000-01-26  -7.053353   5.228926   2.476561   0.575485\n",
       "2000-01-27  -7.256067   5.652269   1.652764   0.369069\n",
       "2000-01-28  -7.094347   6.870135   1.175749  -0.674334\n",
       "2000-01-29  -8.155013   7.221060  -1.009665  -0.076147\n",
       "2000-01-30  -8.293486   7.713020   0.275192  -0.326537\n",
       "...               ...        ...        ...        ...\n",
       "2002-08-28  26.039445 -11.997062 -28.610901 -26.617905\n",
       "2002-08-29  27.558913 -13.198277 -29.437092 -27.143036\n",
       "2002-08-30  27.804120 -12.860405 -29.844235 -26.179039\n",
       "2002-08-31  27.468077 -12.777146 -28.447514 -24.128971\n",
       "2002-09-01  26.883832 -12.490856 -28.934696 -25.382193\n",
       "2002-09-02  26.918541 -14.637393 -28.924223 -25.512028\n",
       "2002-09-03  26.086202 -16.109005 -27.882164 -25.027350\n",
       "2002-09-04  26.265869 -13.547778 -27.712898 -24.417484\n",
       "2002-09-05  27.376515 -12.571797 -27.574668 -24.019851\n",
       "2002-09-06  29.050529 -12.697950 -27.086502 -23.777862\n",
       "2002-09-07  29.895919 -12.921678 -24.820010 -23.839063\n",
       "2002-09-08  30.256215 -14.464784 -24.119366 -23.969856\n",
       "2002-09-09  31.398610 -12.719923 -23.975165 -23.229123\n",
       "2002-09-10  31.906672 -13.494978 -23.167250 -24.250323\n",
       "2002-09-11  32.803338 -13.141184 -22.838791 -23.700049\n",
       "2002-09-12  32.958104 -13.016301 -23.349211 -22.990149\n",
       "2002-09-13  32.714261 -12.525905 -23.751447 -23.231841\n",
       "2002-09-14  33.084583 -13.589648 -23.872450 -22.504546\n",
       "2002-09-15  35.492477 -13.008747 -23.550310 -21.772264\n",
       "2002-09-16  36.512130 -11.421452 -24.213715 -23.291021\n",
       "2002-09-17  35.929819 -12.361166 -23.920515 -21.857705\n",
       "2002-09-18  34.049273 -12.538601 -22.399191 -22.091326\n",
       "2002-09-19  35.090432 -13.503382 -22.032364 -22.770450\n",
       "2002-09-20  35.066312 -15.078455 -21.343949 -22.314419\n",
       "2002-09-21  34.100108 -15.458113 -20.911389 -21.901052\n",
       "2002-09-22  34.650719 -14.870973 -21.057814 -19.281535\n",
       "2002-09-23  35.271387 -13.088233 -19.532101 -18.982131\n",
       "2002-09-24  38.070547 -12.031363 -19.800160 -18.690634\n",
       "2002-09-25  36.850852 -15.126490 -18.845801 -18.808651\n",
       "2002-09-26  36.457665 -15.304787 -18.883935 -18.965713\n",
       "\n",
       "[1000 rows x 4 columns]"
      ]
     },
     "execution_count": 322,
     "metadata": {},
     "output_type": "execute_result"
    }
   ],
   "source": [
    "dfNew"
   ]
  },
  {
   "cell_type": "code",
   "execution_count": 323,
   "metadata": {},
   "outputs": [],
   "source": [
    "df.to_pickle(\"dfNew.pkl\")"
   ]
  },
  {
   "cell_type": "code",
   "execution_count": 325,
   "metadata": {},
   "outputs": [],
   "source": [
    "from joblib import dump, load"
   ]
  },
  {
   "cell_type": "code",
   "execution_count": 326,
   "metadata": {},
   "outputs": [
    {
     "data": {
      "text/plain": [
       "['dfJBLLIB.pkl']"
      ]
     },
     "execution_count": 326,
     "metadata": {},
     "output_type": "execute_result"
    }
   ],
   "source": [
    "dump(df, \"dfJBLLIB.pkl\")"
   ]
  },
  {
   "cell_type": "code",
   "execution_count": 327,
   "metadata": {},
   "outputs": [
    {
     "data": {
      "text/html": [
       "<div>\n",
       "<style scoped>\n",
       "    .dataframe tbody tr th:only-of-type {\n",
       "        vertical-align: middle;\n",
       "    }\n",
       "\n",
       "    .dataframe tbody tr th {\n",
       "        vertical-align: top;\n",
       "    }\n",
       "\n",
       "    .dataframe thead th {\n",
       "        text-align: right;\n",
       "    }\n",
       "</style>\n",
       "<table border=\"1\" class=\"dataframe\">\n",
       "  <thead>\n",
       "    <tr style=\"text-align: right;\">\n",
       "      <th></th>\n",
       "      <th>A</th>\n",
       "      <th>B</th>\n",
       "      <th>C</th>\n",
       "      <th>D</th>\n",
       "    </tr>\n",
       "  </thead>\n",
       "  <tbody>\n",
       "    <tr>\n",
       "      <th>2000-01-01</th>\n",
       "      <td>-1.276466</td>\n",
       "      <td>1.508149</td>\n",
       "      <td>-0.004353</td>\n",
       "      <td>1.005216</td>\n",
       "    </tr>\n",
       "    <tr>\n",
       "      <th>2000-01-02</th>\n",
       "      <td>-1.063518</td>\n",
       "      <td>0.169168</td>\n",
       "      <td>-0.486092</td>\n",
       "      <td>0.730616</td>\n",
       "    </tr>\n",
       "    <tr>\n",
       "      <th>2000-01-03</th>\n",
       "      <td>-2.057501</td>\n",
       "      <td>0.999597</td>\n",
       "      <td>0.052878</td>\n",
       "      <td>1.823356</td>\n",
       "    </tr>\n",
       "    <tr>\n",
       "      <th>2000-01-04</th>\n",
       "      <td>-1.879145</td>\n",
       "      <td>0.338128</td>\n",
       "      <td>-0.800917</td>\n",
       "      <td>2.973871</td>\n",
       "    </tr>\n",
       "    <tr>\n",
       "      <th>2000-01-05</th>\n",
       "      <td>-2.248119</td>\n",
       "      <td>2.294348</td>\n",
       "      <td>-1.520508</td>\n",
       "      <td>4.578526</td>\n",
       "    </tr>\n",
       "    <tr>\n",
       "      <th>2000-01-06</th>\n",
       "      <td>-1.452117</td>\n",
       "      <td>2.175981</td>\n",
       "      <td>-0.566876</td>\n",
       "      <td>5.138843</td>\n",
       "    </tr>\n",
       "    <tr>\n",
       "      <th>2000-01-07</th>\n",
       "      <td>-1.203629</td>\n",
       "      <td>3.507788</td>\n",
       "      <td>-0.329449</td>\n",
       "      <td>3.980121</td>\n",
       "    </tr>\n",
       "    <tr>\n",
       "      <th>2000-01-08</th>\n",
       "      <td>-1.904816</td>\n",
       "      <td>3.812790</td>\n",
       "      <td>1.185672</td>\n",
       "      <td>3.435628</td>\n",
       "    </tr>\n",
       "    <tr>\n",
       "      <th>2000-01-09</th>\n",
       "      <td>-2.070088</td>\n",
       "      <td>2.248446</td>\n",
       "      <td>0.388254</td>\n",
       "      <td>4.328378</td>\n",
       "    </tr>\n",
       "    <tr>\n",
       "      <th>2000-01-10</th>\n",
       "      <td>-1.519811</td>\n",
       "      <td>2.047381</td>\n",
       "      <td>1.587393</td>\n",
       "      <td>4.613047</td>\n",
       "    </tr>\n",
       "    <tr>\n",
       "      <th>2000-01-11</th>\n",
       "      <td>-2.438681</td>\n",
       "      <td>1.623465</td>\n",
       "      <td>2.083471</td>\n",
       "      <td>5.665188</td>\n",
       "    </tr>\n",
       "    <tr>\n",
       "      <th>2000-01-12</th>\n",
       "      <td>-1.807617</td>\n",
       "      <td>3.810674</td>\n",
       "      <td>1.573379</td>\n",
       "      <td>3.177038</td>\n",
       "    </tr>\n",
       "    <tr>\n",
       "      <th>2000-01-13</th>\n",
       "      <td>-1.816944</td>\n",
       "      <td>3.409246</td>\n",
       "      <td>1.762144</td>\n",
       "      <td>4.071810</td>\n",
       "    </tr>\n",
       "    <tr>\n",
       "      <th>2000-01-14</th>\n",
       "      <td>-2.427884</td>\n",
       "      <td>4.037387</td>\n",
       "      <td>3.358583</td>\n",
       "      <td>4.271437</td>\n",
       "    </tr>\n",
       "    <tr>\n",
       "      <th>2000-01-15</th>\n",
       "      <td>-0.691046</td>\n",
       "      <td>4.831259</td>\n",
       "      <td>5.133212</td>\n",
       "      <td>3.715626</td>\n",
       "    </tr>\n",
       "    <tr>\n",
       "      <th>2000-01-16</th>\n",
       "      <td>-2.779611</td>\n",
       "      <td>4.979844</td>\n",
       "      <td>2.619693</td>\n",
       "      <td>3.845921</td>\n",
       "    </tr>\n",
       "    <tr>\n",
       "      <th>2000-01-17</th>\n",
       "      <td>-2.569962</td>\n",
       "      <td>4.593879</td>\n",
       "      <td>3.637262</td>\n",
       "      <td>2.995551</td>\n",
       "    </tr>\n",
       "    <tr>\n",
       "      <th>2000-01-18</th>\n",
       "      <td>-3.829632</td>\n",
       "      <td>5.445004</td>\n",
       "      <td>4.233461</td>\n",
       "      <td>3.030768</td>\n",
       "    </tr>\n",
       "    <tr>\n",
       "      <th>2000-01-19</th>\n",
       "      <td>-4.299502</td>\n",
       "      <td>4.743986</td>\n",
       "      <td>4.826911</td>\n",
       "      <td>2.858537</td>\n",
       "    </tr>\n",
       "    <tr>\n",
       "      <th>2000-01-20</th>\n",
       "      <td>-5.287050</td>\n",
       "      <td>4.799992</td>\n",
       "      <td>3.025408</td>\n",
       "      <td>3.166784</td>\n",
       "    </tr>\n",
       "    <tr>\n",
       "      <th>2000-01-21</th>\n",
       "      <td>-4.481893</td>\n",
       "      <td>5.999532</td>\n",
       "      <td>3.782007</td>\n",
       "      <td>3.261080</td>\n",
       "    </tr>\n",
       "    <tr>\n",
       "      <th>2000-01-22</th>\n",
       "      <td>-5.723734</td>\n",
       "      <td>6.712301</td>\n",
       "      <td>1.252425</td>\n",
       "      <td>4.071991</td>\n",
       "    </tr>\n",
       "    <tr>\n",
       "      <th>2000-01-23</th>\n",
       "      <td>-6.800319</td>\n",
       "      <td>5.199413</td>\n",
       "      <td>0.727643</td>\n",
       "      <td>3.034285</td>\n",
       "    </tr>\n",
       "    <tr>\n",
       "      <th>2000-01-24</th>\n",
       "      <td>-6.268333</td>\n",
       "      <td>5.093706</td>\n",
       "      <td>0.862093</td>\n",
       "      <td>2.058628</td>\n",
       "    </tr>\n",
       "    <tr>\n",
       "      <th>2000-01-25</th>\n",
       "      <td>-7.636528</td>\n",
       "      <td>4.757744</td>\n",
       "      <td>1.046888</td>\n",
       "      <td>1.246763</td>\n",
       "    </tr>\n",
       "    <tr>\n",
       "      <th>2000-01-26</th>\n",
       "      <td>-7.053353</td>\n",
       "      <td>5.228926</td>\n",
       "      <td>2.476561</td>\n",
       "      <td>0.575485</td>\n",
       "    </tr>\n",
       "    <tr>\n",
       "      <th>2000-01-27</th>\n",
       "      <td>-7.256067</td>\n",
       "      <td>5.652269</td>\n",
       "      <td>1.652764</td>\n",
       "      <td>0.369069</td>\n",
       "    </tr>\n",
       "    <tr>\n",
       "      <th>2000-01-28</th>\n",
       "      <td>-7.094347</td>\n",
       "      <td>6.870135</td>\n",
       "      <td>1.175749</td>\n",
       "      <td>-0.674334</td>\n",
       "    </tr>\n",
       "    <tr>\n",
       "      <th>2000-01-29</th>\n",
       "      <td>-8.155013</td>\n",
       "      <td>7.221060</td>\n",
       "      <td>-1.009665</td>\n",
       "      <td>-0.076147</td>\n",
       "    </tr>\n",
       "    <tr>\n",
       "      <th>2000-01-30</th>\n",
       "      <td>-8.293486</td>\n",
       "      <td>7.713020</td>\n",
       "      <td>0.275192</td>\n",
       "      <td>-0.326537</td>\n",
       "    </tr>\n",
       "    <tr>\n",
       "      <th>...</th>\n",
       "      <td>...</td>\n",
       "      <td>...</td>\n",
       "      <td>...</td>\n",
       "      <td>...</td>\n",
       "    </tr>\n",
       "    <tr>\n",
       "      <th>2002-08-28</th>\n",
       "      <td>26.039445</td>\n",
       "      <td>-11.997062</td>\n",
       "      <td>-28.610901</td>\n",
       "      <td>-26.617905</td>\n",
       "    </tr>\n",
       "    <tr>\n",
       "      <th>2002-08-29</th>\n",
       "      <td>27.558913</td>\n",
       "      <td>-13.198277</td>\n",
       "      <td>-29.437092</td>\n",
       "      <td>-27.143036</td>\n",
       "    </tr>\n",
       "    <tr>\n",
       "      <th>2002-08-30</th>\n",
       "      <td>27.804120</td>\n",
       "      <td>-12.860405</td>\n",
       "      <td>-29.844235</td>\n",
       "      <td>-26.179039</td>\n",
       "    </tr>\n",
       "    <tr>\n",
       "      <th>2002-08-31</th>\n",
       "      <td>27.468077</td>\n",
       "      <td>-12.777146</td>\n",
       "      <td>-28.447514</td>\n",
       "      <td>-24.128971</td>\n",
       "    </tr>\n",
       "    <tr>\n",
       "      <th>2002-09-01</th>\n",
       "      <td>26.883832</td>\n",
       "      <td>-12.490856</td>\n",
       "      <td>-28.934696</td>\n",
       "      <td>-25.382193</td>\n",
       "    </tr>\n",
       "    <tr>\n",
       "      <th>2002-09-02</th>\n",
       "      <td>26.918541</td>\n",
       "      <td>-14.637393</td>\n",
       "      <td>-28.924223</td>\n",
       "      <td>-25.512028</td>\n",
       "    </tr>\n",
       "    <tr>\n",
       "      <th>2002-09-03</th>\n",
       "      <td>26.086202</td>\n",
       "      <td>-16.109005</td>\n",
       "      <td>-27.882164</td>\n",
       "      <td>-25.027350</td>\n",
       "    </tr>\n",
       "    <tr>\n",
       "      <th>2002-09-04</th>\n",
       "      <td>26.265869</td>\n",
       "      <td>-13.547778</td>\n",
       "      <td>-27.712898</td>\n",
       "      <td>-24.417484</td>\n",
       "    </tr>\n",
       "    <tr>\n",
       "      <th>2002-09-05</th>\n",
       "      <td>27.376515</td>\n",
       "      <td>-12.571797</td>\n",
       "      <td>-27.574668</td>\n",
       "      <td>-24.019851</td>\n",
       "    </tr>\n",
       "    <tr>\n",
       "      <th>2002-09-06</th>\n",
       "      <td>29.050529</td>\n",
       "      <td>-12.697950</td>\n",
       "      <td>-27.086502</td>\n",
       "      <td>-23.777862</td>\n",
       "    </tr>\n",
       "    <tr>\n",
       "      <th>2002-09-07</th>\n",
       "      <td>29.895919</td>\n",
       "      <td>-12.921678</td>\n",
       "      <td>-24.820010</td>\n",
       "      <td>-23.839063</td>\n",
       "    </tr>\n",
       "    <tr>\n",
       "      <th>2002-09-08</th>\n",
       "      <td>30.256215</td>\n",
       "      <td>-14.464784</td>\n",
       "      <td>-24.119366</td>\n",
       "      <td>-23.969856</td>\n",
       "    </tr>\n",
       "    <tr>\n",
       "      <th>2002-09-09</th>\n",
       "      <td>31.398610</td>\n",
       "      <td>-12.719923</td>\n",
       "      <td>-23.975165</td>\n",
       "      <td>-23.229123</td>\n",
       "    </tr>\n",
       "    <tr>\n",
       "      <th>2002-09-10</th>\n",
       "      <td>31.906672</td>\n",
       "      <td>-13.494978</td>\n",
       "      <td>-23.167250</td>\n",
       "      <td>-24.250323</td>\n",
       "    </tr>\n",
       "    <tr>\n",
       "      <th>2002-09-11</th>\n",
       "      <td>32.803338</td>\n",
       "      <td>-13.141184</td>\n",
       "      <td>-22.838791</td>\n",
       "      <td>-23.700049</td>\n",
       "    </tr>\n",
       "    <tr>\n",
       "      <th>2002-09-12</th>\n",
       "      <td>32.958104</td>\n",
       "      <td>-13.016301</td>\n",
       "      <td>-23.349211</td>\n",
       "      <td>-22.990149</td>\n",
       "    </tr>\n",
       "    <tr>\n",
       "      <th>2002-09-13</th>\n",
       "      <td>32.714261</td>\n",
       "      <td>-12.525905</td>\n",
       "      <td>-23.751447</td>\n",
       "      <td>-23.231841</td>\n",
       "    </tr>\n",
       "    <tr>\n",
       "      <th>2002-09-14</th>\n",
       "      <td>33.084583</td>\n",
       "      <td>-13.589648</td>\n",
       "      <td>-23.872450</td>\n",
       "      <td>-22.504546</td>\n",
       "    </tr>\n",
       "    <tr>\n",
       "      <th>2002-09-15</th>\n",
       "      <td>35.492477</td>\n",
       "      <td>-13.008747</td>\n",
       "      <td>-23.550310</td>\n",
       "      <td>-21.772264</td>\n",
       "    </tr>\n",
       "    <tr>\n",
       "      <th>2002-09-16</th>\n",
       "      <td>36.512130</td>\n",
       "      <td>-11.421452</td>\n",
       "      <td>-24.213715</td>\n",
       "      <td>-23.291021</td>\n",
       "    </tr>\n",
       "    <tr>\n",
       "      <th>2002-09-17</th>\n",
       "      <td>35.929819</td>\n",
       "      <td>-12.361166</td>\n",
       "      <td>-23.920515</td>\n",
       "      <td>-21.857705</td>\n",
       "    </tr>\n",
       "    <tr>\n",
       "      <th>2002-09-18</th>\n",
       "      <td>34.049273</td>\n",
       "      <td>-12.538601</td>\n",
       "      <td>-22.399191</td>\n",
       "      <td>-22.091326</td>\n",
       "    </tr>\n",
       "    <tr>\n",
       "      <th>2002-09-19</th>\n",
       "      <td>35.090432</td>\n",
       "      <td>-13.503382</td>\n",
       "      <td>-22.032364</td>\n",
       "      <td>-22.770450</td>\n",
       "    </tr>\n",
       "    <tr>\n",
       "      <th>2002-09-20</th>\n",
       "      <td>35.066312</td>\n",
       "      <td>-15.078455</td>\n",
       "      <td>-21.343949</td>\n",
       "      <td>-22.314419</td>\n",
       "    </tr>\n",
       "    <tr>\n",
       "      <th>2002-09-21</th>\n",
       "      <td>34.100108</td>\n",
       "      <td>-15.458113</td>\n",
       "      <td>-20.911389</td>\n",
       "      <td>-21.901052</td>\n",
       "    </tr>\n",
       "    <tr>\n",
       "      <th>2002-09-22</th>\n",
       "      <td>34.650719</td>\n",
       "      <td>-14.870973</td>\n",
       "      <td>-21.057814</td>\n",
       "      <td>-19.281535</td>\n",
       "    </tr>\n",
       "    <tr>\n",
       "      <th>2002-09-23</th>\n",
       "      <td>35.271387</td>\n",
       "      <td>-13.088233</td>\n",
       "      <td>-19.532101</td>\n",
       "      <td>-18.982131</td>\n",
       "    </tr>\n",
       "    <tr>\n",
       "      <th>2002-09-24</th>\n",
       "      <td>38.070547</td>\n",
       "      <td>-12.031363</td>\n",
       "      <td>-19.800160</td>\n",
       "      <td>-18.690634</td>\n",
       "    </tr>\n",
       "    <tr>\n",
       "      <th>2002-09-25</th>\n",
       "      <td>36.850852</td>\n",
       "      <td>-15.126490</td>\n",
       "      <td>-18.845801</td>\n",
       "      <td>-18.808651</td>\n",
       "    </tr>\n",
       "    <tr>\n",
       "      <th>2002-09-26</th>\n",
       "      <td>36.457665</td>\n",
       "      <td>-15.304787</td>\n",
       "      <td>-18.883935</td>\n",
       "      <td>-18.965713</td>\n",
       "    </tr>\n",
       "  </tbody>\n",
       "</table>\n",
       "<p>1000 rows × 4 columns</p>\n",
       "</div>"
      ],
      "text/plain": [
       "                    A          B          C          D\n",
       "2000-01-01  -1.276466   1.508149  -0.004353   1.005216\n",
       "2000-01-02  -1.063518   0.169168  -0.486092   0.730616\n",
       "2000-01-03  -2.057501   0.999597   0.052878   1.823356\n",
       "2000-01-04  -1.879145   0.338128  -0.800917   2.973871\n",
       "2000-01-05  -2.248119   2.294348  -1.520508   4.578526\n",
       "2000-01-06  -1.452117   2.175981  -0.566876   5.138843\n",
       "2000-01-07  -1.203629   3.507788  -0.329449   3.980121\n",
       "2000-01-08  -1.904816   3.812790   1.185672   3.435628\n",
       "2000-01-09  -2.070088   2.248446   0.388254   4.328378\n",
       "2000-01-10  -1.519811   2.047381   1.587393   4.613047\n",
       "2000-01-11  -2.438681   1.623465   2.083471   5.665188\n",
       "2000-01-12  -1.807617   3.810674   1.573379   3.177038\n",
       "2000-01-13  -1.816944   3.409246   1.762144   4.071810\n",
       "2000-01-14  -2.427884   4.037387   3.358583   4.271437\n",
       "2000-01-15  -0.691046   4.831259   5.133212   3.715626\n",
       "2000-01-16  -2.779611   4.979844   2.619693   3.845921\n",
       "2000-01-17  -2.569962   4.593879   3.637262   2.995551\n",
       "2000-01-18  -3.829632   5.445004   4.233461   3.030768\n",
       "2000-01-19  -4.299502   4.743986   4.826911   2.858537\n",
       "2000-01-20  -5.287050   4.799992   3.025408   3.166784\n",
       "2000-01-21  -4.481893   5.999532   3.782007   3.261080\n",
       "2000-01-22  -5.723734   6.712301   1.252425   4.071991\n",
       "2000-01-23  -6.800319   5.199413   0.727643   3.034285\n",
       "2000-01-24  -6.268333   5.093706   0.862093   2.058628\n",
       "2000-01-25  -7.636528   4.757744   1.046888   1.246763\n",
       "2000-01-26  -7.053353   5.228926   2.476561   0.575485\n",
       "2000-01-27  -7.256067   5.652269   1.652764   0.369069\n",
       "2000-01-28  -7.094347   6.870135   1.175749  -0.674334\n",
       "2000-01-29  -8.155013   7.221060  -1.009665  -0.076147\n",
       "2000-01-30  -8.293486   7.713020   0.275192  -0.326537\n",
       "...               ...        ...        ...        ...\n",
       "2002-08-28  26.039445 -11.997062 -28.610901 -26.617905\n",
       "2002-08-29  27.558913 -13.198277 -29.437092 -27.143036\n",
       "2002-08-30  27.804120 -12.860405 -29.844235 -26.179039\n",
       "2002-08-31  27.468077 -12.777146 -28.447514 -24.128971\n",
       "2002-09-01  26.883832 -12.490856 -28.934696 -25.382193\n",
       "2002-09-02  26.918541 -14.637393 -28.924223 -25.512028\n",
       "2002-09-03  26.086202 -16.109005 -27.882164 -25.027350\n",
       "2002-09-04  26.265869 -13.547778 -27.712898 -24.417484\n",
       "2002-09-05  27.376515 -12.571797 -27.574668 -24.019851\n",
       "2002-09-06  29.050529 -12.697950 -27.086502 -23.777862\n",
       "2002-09-07  29.895919 -12.921678 -24.820010 -23.839063\n",
       "2002-09-08  30.256215 -14.464784 -24.119366 -23.969856\n",
       "2002-09-09  31.398610 -12.719923 -23.975165 -23.229123\n",
       "2002-09-10  31.906672 -13.494978 -23.167250 -24.250323\n",
       "2002-09-11  32.803338 -13.141184 -22.838791 -23.700049\n",
       "2002-09-12  32.958104 -13.016301 -23.349211 -22.990149\n",
       "2002-09-13  32.714261 -12.525905 -23.751447 -23.231841\n",
       "2002-09-14  33.084583 -13.589648 -23.872450 -22.504546\n",
       "2002-09-15  35.492477 -13.008747 -23.550310 -21.772264\n",
       "2002-09-16  36.512130 -11.421452 -24.213715 -23.291021\n",
       "2002-09-17  35.929819 -12.361166 -23.920515 -21.857705\n",
       "2002-09-18  34.049273 -12.538601 -22.399191 -22.091326\n",
       "2002-09-19  35.090432 -13.503382 -22.032364 -22.770450\n",
       "2002-09-20  35.066312 -15.078455 -21.343949 -22.314419\n",
       "2002-09-21  34.100108 -15.458113 -20.911389 -21.901052\n",
       "2002-09-22  34.650719 -14.870973 -21.057814 -19.281535\n",
       "2002-09-23  35.271387 -13.088233 -19.532101 -18.982131\n",
       "2002-09-24  38.070547 -12.031363 -19.800160 -18.690634\n",
       "2002-09-25  36.850852 -15.126490 -18.845801 -18.808651\n",
       "2002-09-26  36.457665 -15.304787 -18.883935 -18.965713\n",
       "\n",
       "[1000 rows x 4 columns]"
      ]
     },
     "execution_count": 327,
     "metadata": {},
     "output_type": "execute_result"
    }
   ],
   "source": [
    "load(\"dfJBLLIB.pkl\")"
   ]
  },
  {
   "cell_type": "code",
   "execution_count": 100,
   "metadata": {},
   "outputs": [
    {
     "name": "stdout",
     "output_type": "stream",
     "text": [
      "Collecting table898s\n",
      "\u001b[31m  Could not find a version that satisfies the requirement table898s (from versions: )\u001b[0m\n",
      "\u001b[31mNo matching distribution found for table898s\u001b[0m\n",
      "\u001b[33mYou are using pip version 9.0.1, however version 20.0.2 is available.\n",
      "You should consider upgrading via the 'pip install --upgrade pip' command.\u001b[0m\n"
     ]
    }
   ],
   "source": [
    "!pip install tables -U"
   ]
  },
  {
   "cell_type": "code",
   "execution_count": null,
   "metadata": {},
   "outputs": [],
   "source": []
  }
 ],
 "metadata": {
  "kernelspec": {
   "display_name": "Python 3",
   "language": "python",
   "name": "python3"
  },
  "language_info": {
   "codemirror_mode": {
    "name": "ipython",
    "version": 3
   },
   "file_extension": ".py",
   "mimetype": "text/x-python",
   "name": "python",
   "nbconvert_exporter": "python",
   "pygments_lexer": "ipython3",
   "version": "3.6.9"
  }
 },
 "nbformat": 4,
 "nbformat_minor": 2
}
