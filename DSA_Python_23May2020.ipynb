{
  "nbformat": 4,
  "nbformat_minor": 0,
  "metadata": {
    "colab": {
      "name": "DSA_Python_23May2020.ipynb",
      "provenance": [],
      "authorship_tag": "ABX9TyMo+s+2z3Jpp2qo7aVeCQ4F",
      "include_colab_link": true
    },
    "kernelspec": {
      "name": "python3",
      "display_name": "Python 3"
    }
  },
  "cells": [
    {
      "cell_type": "markdown",
      "metadata": {
        "id": "view-in-github",
        "colab_type": "text"
      },
      "source": [
        "<a href=\"https://colab.research.google.com/github/aicharya/DSA_Python/blob/master/DSA_Python_23May2020.ipynb\" target=\"_parent\"><img src=\"https://colab.research.google.com/assets/colab-badge.svg\" alt=\"Open In Colab\"/></a>"
      ]
    },
    {
      "cell_type": "code",
      "metadata": {
        "id": "lxjfn1JMvh9y",
        "colab_type": "code",
        "colab": {}
      },
      "source": [
        "def divnum(a,b):\n",
        "  return a/b\n"
      ],
      "execution_count": 0,
      "outputs": []
    },
    {
      "cell_type": "code",
      "metadata": {
        "id": "uXr-44Grv4am",
        "colab_type": "code",
        "colab": {
          "base_uri": "https://localhost:8080/",
          "height": 34
        },
        "outputId": "42c67556-3c07-4b6a-9007-37125f8beabc"
      },
      "source": [
        "divnum(10,2)"
      ],
      "execution_count": 2,
      "outputs": [
        {
          "output_type": "execute_result",
          "data": {
            "text/plain": [
              "5.0"
            ]
          },
          "metadata": {
            "tags": []
          },
          "execution_count": 2
        }
      ]
    },
    {
      "cell_type": "code",
      "metadata": {
        "id": "QjLL34sgv8Lj",
        "colab_type": "code",
        "colab": {
          "base_uri": "https://localhost:8080/",
          "height": 34
        },
        "outputId": "1ed126b0-12d5-426b-871a-903846577c39"
      },
      "source": [
        "divnum(2,10)"
      ],
      "execution_count": 3,
      "outputs": [
        {
          "output_type": "execute_result",
          "data": {
            "text/plain": [
              "0.2"
            ]
          },
          "metadata": {
            "tags": []
          },
          "execution_count": 3
        }
      ]
    },
    {
      "cell_type": "code",
      "metadata": {
        "id": "R2cDUu4Fv-Ky",
        "colab_type": "code",
        "colab": {
          "base_uri": "https://localhost:8080/",
          "height": 34
        },
        "outputId": "d134c4be-36b6-4c5c-a866-dfd29c2e5fa2"
      },
      "source": [
        "divnum(a=10,b=2)"
      ],
      "execution_count": 4,
      "outputs": [
        {
          "output_type": "execute_result",
          "data": {
            "text/plain": [
              "5.0"
            ]
          },
          "metadata": {
            "tags": []
          },
          "execution_count": 4
        }
      ]
    },
    {
      "cell_type": "code",
      "metadata": {
        "id": "aPH__cf0wAwZ",
        "colab_type": "code",
        "colab": {
          "base_uri": "https://localhost:8080/",
          "height": 34
        },
        "outputId": "42f22db5-b32d-4a00-e417-92b85305b28d"
      },
      "source": [
        "divnum(b=2,a=10)"
      ],
      "execution_count": 5,
      "outputs": [
        {
          "output_type": "execute_result",
          "data": {
            "text/plain": [
              "5.0"
            ]
          },
          "metadata": {
            "tags": []
          },
          "execution_count": 5
        }
      ]
    },
    {
      "cell_type": "code",
      "metadata": {
        "id": "ZnxZ7bMewEWI",
        "colab_type": "code",
        "colab": {}
      },
      "source": [
        "import math\n",
        "sinOfA = math.sin(10)"
      ],
      "execution_count": 0,
      "outputs": []
    },
    {
      "cell_type": "code",
      "metadata": {
        "id": "zDM-wK25wScM",
        "colab_type": "code",
        "colab": {
          "base_uri": "https://localhost:8080/",
          "height": 34
        },
        "outputId": "ced505e6-5fe5-45e3-8ba2-1f690f66dc25"
      },
      "source": [
        "math.sin(10)"
      ],
      "execution_count": 7,
      "outputs": [
        {
          "output_type": "execute_result",
          "data": {
            "text/plain": [
              "-0.5440211108893698"
            ]
          },
          "metadata": {
            "tags": []
          },
          "execution_count": 7
        }
      ]
    },
    {
      "cell_type": "code",
      "metadata": {
        "id": "zZnfD-OfwU72",
        "colab_type": "code",
        "colab": {
          "base_uri": "https://localhost:8080/",
          "height": 34
        },
        "outputId": "e3f80e71-a4f6-49fa-b037-a6d38ac89955"
      },
      "source": [
        "type(sinOfA)"
      ],
      "execution_count": 10,
      "outputs": [
        {
          "output_type": "execute_result",
          "data": {
            "text/plain": [
              "float"
            ]
          },
          "metadata": {
            "tags": []
          },
          "execution_count": 10
        }
      ]
    },
    {
      "cell_type": "markdown",
      "metadata": {
        "id": "YlGhy6V61N_I",
        "colab_type": "text"
      },
      "source": [
        ""
      ]
    },
    {
      "cell_type": "code",
      "metadata": {
        "id": "LBifpK2NwnaK",
        "colab_type": "code",
        "colab": {}
      },
      "source": [
        "divVar = divnum(10,2)"
      ],
      "execution_count": 0,
      "outputs": []
    },
    {
      "cell_type": "code",
      "metadata": {
        "id": "bHV9juC2wswR",
        "colab_type": "code",
        "colab": {
          "base_uri": "https://localhost:8080/",
          "height": 34
        },
        "outputId": "bdf4f910-f561-4999-cb71-2ed90097ce43"
      },
      "source": [
        "divVar"
      ],
      "execution_count": 12,
      "outputs": [
        {
          "output_type": "execute_result",
          "data": {
            "text/plain": [
              "5.0"
            ]
          },
          "metadata": {
            "tags": []
          },
          "execution_count": 12
        }
      ]
    },
    {
      "cell_type": "code",
      "metadata": {
        "id": "4VdMA8t4wupW",
        "colab_type": "code",
        "colab": {
          "base_uri": "https://localhost:8080/",
          "height": 34
        },
        "outputId": "2d84b3fe-5071-408f-fa49-15c7de81f57c"
      },
      "source": [
        "type(divVar)"
      ],
      "execution_count": 14,
      "outputs": [
        {
          "output_type": "execute_result",
          "data": {
            "text/plain": [
              "float"
            ]
          },
          "metadata": {
            "tags": []
          },
          "execution_count": 14
        }
      ]
    },
    {
      "cell_type": "markdown",
      "metadata": {
        "id": "hsZOM7co1Og3",
        "colab_type": "text"
      },
      "source": [
        "Return dictionary"
      ]
    },
    {
      "cell_type": "code",
      "metadata": {
        "id": "SGJMKt-u087W",
        "colab_type": "code",
        "colab": {}
      },
      "source": [
        "def build_person(firstname, lastname):\n",
        "  person = { 'first' : firstname, 'last': lastname }\n",
        "  return person"
      ],
      "execution_count": 0,
      "outputs": []
    },
    {
      "cell_type": "code",
      "metadata": {
        "id": "L9LaitO11NYz",
        "colab_type": "code",
        "colab": {
          "base_uri": "https://localhost:8080/",
          "height": 34
        },
        "outputId": "825cd1c6-7cdb-4b7c-e7e2-fda7b918cd6d"
      },
      "source": [
        "build_person(\"binulal\", \"Narayanan\")"
      ],
      "execution_count": 18,
      "outputs": [
        {
          "output_type": "execute_result",
          "data": {
            "text/plain": [
              "{'first': 'binulal', 'last': 'Narayanan'}"
            ]
          },
          "metadata": {
            "tags": []
          },
          "execution_count": 18
        }
      ]
    },
    {
      "cell_type": "markdown",
      "metadata": {
        "id": "R0mldwN-1frv",
        "colab_type": "text"
      },
      "source": [
        "City, Country"
      ]
    },
    {
      "cell_type": "code",
      "metadata": {
        "id": "YkjMpZ-i1e61",
        "colab_type": "code",
        "colab": {}
      },
      "source": [
        "def city_country(city, country):\n",
        "  return \"{0}, {1}\".format(city, country)"
      ],
      "execution_count": 0,
      "outputs": []
    },
    {
      "cell_type": "code",
      "metadata": {
        "id": "7oRN_-gq1yA5",
        "colab_type": "code",
        "colab": {
          "base_uri": "https://localhost:8080/",
          "height": 34
        },
        "outputId": "a61354d5-7b3a-4d87-a9ff-c5b5f5c6f1f5"
      },
      "source": [
        "city_country(\"Bangalore\", \"India\")"
      ],
      "execution_count": 22,
      "outputs": [
        {
          "output_type": "execute_result",
          "data": {
            "text/plain": [
              "'Bangalore, India'"
            ]
          },
          "metadata": {
            "tags": []
          },
          "execution_count": 22
        }
      ]
    },
    {
      "cell_type": "code",
      "metadata": {
        "id": "jIy1FKTk18hR",
        "colab_type": "code",
        "colab": {
          "base_uri": "https://localhost:8080/",
          "height": 34
        },
        "outputId": "4600601f-f8fd-4662-a4cb-0341a43c14dd"
      },
      "source": [
        "city_country(\"Trivandrum\", \"India\")"
      ],
      "execution_count": 23,
      "outputs": [
        {
          "output_type": "execute_result",
          "data": {
            "text/plain": [
              "'Trivandrum, India'"
            ]
          },
          "metadata": {
            "tags": []
          },
          "execution_count": 23
        }
      ]
    },
    {
      "cell_type": "code",
      "metadata": {
        "id": "Rw2FAb4_2BSC",
        "colab_type": "code",
        "colab": {
          "base_uri": "https://localhost:8080/",
          "height": 34
        },
        "outputId": "51e43ee4-0276-488c-cc1d-bfefa6781dcd"
      },
      "source": [
        "city_country(\"Kochi\", \"India\")"
      ],
      "execution_count": 24,
      "outputs": [
        {
          "output_type": "execute_result",
          "data": {
            "text/plain": [
              "'Kochi, India'"
            ]
          },
          "metadata": {
            "tags": []
          },
          "execution_count": 24
        }
      ]
    },
    {
      "cell_type": "code",
      "metadata": {
        "id": "054h-_0-4pHO",
        "colab_type": "code",
        "colab": {}
      },
      "source": [
        "def greet_users(names):\n",
        "  for name in names:\n",
        "    msg = \"Hello, \" + name.title() + \"!\"\n",
        "    print(msg)"
      ],
      "execution_count": 0,
      "outputs": []
    },
    {
      "cell_type": "code",
      "metadata": {
        "id": "uVHzTL5A42AV",
        "colab_type": "code",
        "colab": {
          "base_uri": "https://localhost:8080/",
          "height": 123
        },
        "outputId": "ff2db3e8-a1c1-47e0-d404-8e1fc1c59598"
      },
      "source": [
        "usernames = [\"Rachel\", \"Ross\", \"Chandler\", \"Monica\", \"Pheobe\", \"Joey\"]\n",
        "greet_users(usernames)"
      ],
      "execution_count": 29,
      "outputs": [
        {
          "output_type": "stream",
          "text": [
            "Hello, Rachel!\n",
            "Hello, Ross!\n",
            "Hello, Chandler!\n",
            "Hello, Monica!\n",
            "Hello, Pheobe!\n",
            "Hello, Joey!\n"
          ],
          "name": "stdout"
        }
      ]
    },
    {
      "cell_type": "code",
      "metadata": {
        "id": "Et6LPnpg7u4q",
        "colab_type": "code",
        "colab": {}
      },
      "source": [
        "def printCompanyDetails(data):\n",
        "  for x, y in data.items():\n",
        "    print(\"This is the key: \" + x, \" This is the value: \" + y  )\n",
        "\n",
        "\n"
      ],
      "execution_count": 0,
      "outputs": []
    },
    {
      "cell_type": "code",
      "metadata": {
        "id": "0tSIxJrH8Ts8",
        "colab_type": "code",
        "colab": {
          "base_uri": "https://localhost:8080/",
          "height": 70
        },
        "outputId": "04b3de70-fd0f-4acb-ca5b-e4a68589176f"
      },
      "source": [
        "company1 = { \"name\": \"Binucus\", \"established\": \"2004\", \"Location\" : \"Trivandrum\"}\n",
        "printCompanyDetails(company1)"
      ],
      "execution_count": 34,
      "outputs": [
        {
          "output_type": "stream",
          "text": [
            "This is the key: name  This is the value: Binucus\n",
            "This is the key: established  This is the value: 2004\n",
            "This is the key: Location  This is the value: Trivanerum\n"
          ],
          "name": "stdout"
        }
      ]
    },
    {
      "cell_type": "code",
      "metadata": {
        "id": "Q2LuHpB-9QER",
        "colab_type": "code",
        "colab": {
          "base_uri": "https://localhost:8080/",
          "height": 34
        },
        "outputId": "70edaf86-13fd-4d41-ef07-8846f03a3f96"
      },
      "source": [
        "company1.items()"
      ],
      "execution_count": 35,
      "outputs": [
        {
          "output_type": "execute_result",
          "data": {
            "text/plain": [
              "dict_items([('name', 'Binucus'), ('established', '2004'), ('Location', 'Trivanerum')])"
            ]
          },
          "metadata": {
            "tags": []
          },
          "execution_count": 35
        }
      ]
    },
    {
      "cell_type": "code",
      "metadata": {
        "id": "jel3uYMd-meB",
        "colab_type": "code",
        "colab": {
          "base_uri": "https://localhost:8080/",
          "height": 70
        },
        "outputId": "684d93f7-7818-445e-9e5b-49a3802ad6bc"
      },
      "source": [
        "def printComp(d2):\n",
        "  for i,j in d2.items():\n",
        "    print(\"The Keys is {0}, The values is {1}\".format(i,j) )\n",
        "\n",
        "company2 = { \"name\": \"Binucus\", \"established\": 2004, \"Location\" : \"Trivandrum\"}\n",
        "printComp(company2)"
      ],
      "execution_count": 37,
      "outputs": [
        {
          "output_type": "stream",
          "text": [
            "The Keys is name, The values is Binucus\n",
            "The Keys is established, The values is 2004\n",
            "The Keys is Location, The values is Trivandrum\n"
          ],
          "name": "stdout"
        }
      ]
    },
    {
      "cell_type": "code",
      "metadata": {
        "id": "G_4S7s5jHK12",
        "colab_type": "code",
        "colab": {
          "base_uri": "https://localhost:8080/",
          "height": 133
        },
        "outputId": "5147a6e6-2cbf-4728-9d43-b79252e25772"
      },
      "source": [
        "ip=[002,003,004]"
      ],
      "execution_count": 38,
      "outputs": [
        {
          "output_type": "error",
          "ename": "SyntaxError",
          "evalue": "ignored",
          "traceback": [
            "\u001b[0;36m  File \u001b[0;32m\"<ipython-input-38-46b36b9e8573>\"\u001b[0;36m, line \u001b[0;32m1\u001b[0m\n\u001b[0;31m    ip=[002,003,004]\u001b[0m\n\u001b[0m          ^\u001b[0m\n\u001b[0;31mSyntaxError\u001b[0m\u001b[0;31m:\u001b[0m invalid token\n"
          ]
        }
      ]
    },
    {
      "cell_type": "code",
      "metadata": {
        "id": "1EYmSkPdIJ34",
        "colab_type": "code",
        "colab": {
          "base_uri": "https://localhost:8080/",
          "height": 133
        },
        "outputId": "c2091a78-7522-4137-8afd-144cf4e628aa"
      },
      "source": [
        "ip=[0o11,0o07,0o09]"
      ],
      "execution_count": 43,
      "outputs": [
        {
          "output_type": "error",
          "ename": "SyntaxError",
          "evalue": "ignored",
          "traceback": [
            "\u001b[0;36m  File \u001b[0;32m\"<ipython-input-43-f41cb26a8abf>\"\u001b[0;36m, line \u001b[0;32m1\u001b[0m\n\u001b[0;31m    ip=[0o11,0o07,0o09]\u001b[0m\n\u001b[0m                     ^\u001b[0m\n\u001b[0;31mSyntaxError\u001b[0m\u001b[0;31m:\u001b[0m invalid syntax\n"
          ]
        }
      ]
    },
    {
      "cell_type": "code",
      "metadata": {
        "id": "U77BLbX0IOKH",
        "colab_type": "code",
        "colab": {
          "base_uri": "https://localhost:8080/",
          "height": 70
        },
        "outputId": "fcfab80a-b983-436a-b9e4-42c69391c75e"
      },
      "source": [
        "for x in ip:\n",
        "  print(type(x))"
      ],
      "execution_count": 44,
      "outputs": [
        {
          "output_type": "stream",
          "text": [
            "<class 'int'>\n",
            "<class 'int'>\n",
            "<class 'int'>\n"
          ],
          "name": "stdout"
        }
      ]
    },
    {
      "cell_type": "code",
      "metadata": {
        "id": "VYXMVifsJOVL",
        "colab_type": "code",
        "colab": {}
      },
      "source": [
        "def fruits(*fruit):\n",
        "  print(fruit)"
      ],
      "execution_count": 0,
      "outputs": []
    },
    {
      "cell_type": "code",
      "metadata": {
        "id": "tJ2Qa0g7JVRG",
        "colab_type": "code",
        "colab": {}
      },
      "source": [
        "def addNum( *number ):\n",
        "  sum = 0\n",
        "  for num in number:\n",
        "    sum += num\n",
        "  print(sum)\n",
        "\n"
      ],
      "execution_count": 0,
      "outputs": []
    },
    {
      "cell_type": "code",
      "metadata": {
        "id": "V7oskY4kJ9A1",
        "colab_type": "code",
        "colab": {
          "base_uri": "https://localhost:8080/",
          "height": 34
        },
        "outputId": "264eca21-422d-4999-ea19-0ce05f59c2ad"
      },
      "source": [
        "fruits(\"apple\", \"orange\", \"pear\", \"grape\", \"banana\")"
      ],
      "execution_count": 46,
      "outputs": [
        {
          "output_type": "stream",
          "text": [
            "('apple', 'orange', 'pear', 'grape', 'banana')\n"
          ],
          "name": "stdout"
        }
      ]
    },
    {
      "cell_type": "code",
      "metadata": {
        "id": "NFVbgjG8KQw0",
        "colab_type": "code",
        "colab": {
          "base_uri": "https://localhost:8080/",
          "height": 34
        },
        "outputId": "822a1fae-8157-42e4-cb05-16eb7ee592ef"
      },
      "source": [
        "addNum(1,2,3,4,5,6)"
      ],
      "execution_count": 48,
      "outputs": [
        {
          "output_type": "stream",
          "text": [
            "21\n"
          ],
          "name": "stdout"
        }
      ]
    },
    {
      "cell_type": "code",
      "metadata": {
        "id": "GsDFRNHMNJ4V",
        "colab_type": "code",
        "colab": {}
      },
      "source": [
        "def addNum2(a, b, *nums):\n",
        "  sum = a + b\n",
        "  for num in nums:\n",
        "    sum += num\n",
        "  print(sum)"
      ],
      "execution_count": 0,
      "outputs": []
    },
    {
      "cell_type": "code",
      "metadata": {
        "id": "vyQcn90iNZKR",
        "colab_type": "code",
        "colab": {
          "base_uri": "https://localhost:8080/",
          "height": 34
        },
        "outputId": "3925ebb4-9326-41e3-93a6-59b7cb57472e"
      },
      "source": [
        "addNum2(1, 2, 3, 4 ,5 )"
      ],
      "execution_count": 53,
      "outputs": [
        {
          "output_type": "stream",
          "text": [
            "15\n"
          ],
          "name": "stdout"
        }
      ]
    },
    {
      "cell_type": "code",
      "metadata": {
        "id": "3x_efYTCOus_",
        "colab_type": "code",
        "colab": {
          "base_uri": "https://localhost:8080/",
          "height": 133
        },
        "outputId": "5bfa29ab-f296-4964-d880-7ebe3459e609"
      },
      "source": [
        "def addNum3(a=10, b, *c):\n",
        "  sum = a + b\n",
        "  for num in nums:\n",
        "    sum += num\n",
        "  print(sum)"
      ],
      "execution_count": 54,
      "outputs": [
        {
          "output_type": "error",
          "ename": "SyntaxError",
          "evalue": "ignored",
          "traceback": [
            "\u001b[0;36m  File \u001b[0;32m\"<ipython-input-54-8ee9d79e36a9>\"\u001b[0;36m, line \u001b[0;32m1\u001b[0m\n\u001b[0;31m    def addNum3(a=10, b, *c):\u001b[0m\n\u001b[0m               ^\u001b[0m\n\u001b[0;31mSyntaxError\u001b[0m\u001b[0;31m:\u001b[0m non-default argument follows default argument\n"
          ]
        }
      ]
    },
    {
      "cell_type": "code",
      "metadata": {
        "id": "KMJezloIO41o",
        "colab_type": "code",
        "colab": {}
      },
      "source": [
        "def addNum3(b, a=10,  *nums):\n",
        "  print(a)\n",
        "  print(b)\n",
        "  sum = a + b\n",
        "  for num in nums:\n",
        "    sum += num\n",
        "  print(sum)"
      ],
      "execution_count": 0,
      "outputs": []
    },
    {
      "cell_type": "code",
      "metadata": {
        "id": "9WzMYutHPBAv",
        "colab_type": "code",
        "colab": {
          "base_uri": "https://localhost:8080/",
          "height": 70
        },
        "outputId": "8e12fcab-05f6-40a4-851c-0c09218f0cb0"
      },
      "source": [
        "addNum3(1, 2, 3, 4 ,5 )"
      ],
      "execution_count": 66,
      "outputs": [
        {
          "output_type": "stream",
          "text": [
            "2\n",
            "1\n",
            "15\n"
          ],
          "name": "stdout"
        }
      ]
    },
    {
      "cell_type": "markdown",
      "metadata": {
        "id": "sq2DwVD1RUJl",
        "colab_type": "text"
      },
      "source": [
        ""
      ]
    },
    {
      "cell_type": "markdown",
      "metadata": {
        "id": "XPTE9GqhQog9",
        "colab_type": "text"
      },
      "source": [
        "https://www.python.org/dev/peps/pep-0468/"
      ]
    },
    {
      "cell_type": "markdown",
      "metadata": {
        "id": "UXtJwicrRVH-",
        "colab_type": "text"
      },
      "source": [
        "Keyword arguments"
      ]
    },
    {
      "cell_type": "code",
      "metadata": {
        "id": "ltxgdOfeQpbS",
        "colab_type": "code",
        "colab": {}
      },
      "source": [
        "def sample(first, last, **userinfo):\n",
        "  print(first)\n",
        "  print(last)\n",
        "  print(userinfo)\n",
        "\n",
        "  print(type(userinfo))\n"
      ],
      "execution_count": 0,
      "outputs": []
    },
    {
      "cell_type": "code",
      "metadata": {
        "id": "J1BFd7T6TAc0",
        "colab_type": "code",
        "colab": {
          "base_uri": "https://localhost:8080/",
          "height": 87
        },
        "outputId": "3277e46e-e2fb-4dff-83b0-6a2e49ce0bbd"
      },
      "source": [
        "sample(\"apple\", \"orange\", established = 2004, listed = 2005, location=\"Trivandrum\")"
      ],
      "execution_count": 76,
      "outputs": [
        {
          "output_type": "stream",
          "text": [
            "apple\n",
            "orange\n",
            "{'established': 2004, 'listed': 2005, 'location': 'Trivandrum'}\n",
            "<class 'dict'>\n"
          ],
          "name": "stdout"
        }
      ]
    },
    {
      "cell_type": "code",
      "metadata": {
        "id": "xLvGiwM0T2x1",
        "colab_type": "code",
        "colab": {}
      },
      "source": [
        "def sample2(first, last, **userinfo):\n",
        "  return(first, last, userinfo)"
      ],
      "execution_count": 0,
      "outputs": []
    },
    {
      "cell_type": "code",
      "metadata": {
        "id": "_nNW5XQ3UCE7",
        "colab_type": "code",
        "colab": {
          "base_uri": "https://localhost:8080/",
          "height": 70
        },
        "outputId": "88b8fd92-8c74-43c0-9312-563b4f27afd3"
      },
      "source": [
        "sample2(\"apple\", \"orange\", established = 2004, listed = 2005, location=\"Trivandrum\")"
      ],
      "execution_count": 79,
      "outputs": [
        {
          "output_type": "execute_result",
          "data": {
            "text/plain": [
              "('apple',\n",
              " 'orange',\n",
              " {'established': 2004, 'listed': 2005, 'location': 'Trivandrum'})"
            ]
          },
          "metadata": {
            "tags": []
          },
          "execution_count": 79
        }
      ]
    },
    {
      "cell_type": "code",
      "metadata": {
        "id": "VnFRShvuUc1D",
        "colab_type": "code",
        "colab": {}
      },
      "source": [
        "def sample3(first, last, userinfo):\n",
        "  return(first, last, userinfo)"
      ],
      "execution_count": 0,
      "outputs": []
    },
    {
      "cell_type": "code",
      "metadata": {
        "id": "OTrfMsc1UneI",
        "colab_type": "code",
        "colab": {
          "base_uri": "https://localhost:8080/",
          "height": 168
        },
        "outputId": "4da12719-fc30-4353-aaf1-cea9c6fe550e"
      },
      "source": [
        "sample3(\"Binulal\", \"Narayanan\", established = 2004, listed = 2005, location=\"Trivandrum\")"
      ],
      "execution_count": 84,
      "outputs": [
        {
          "output_type": "error",
          "ename": "TypeError",
          "evalue": "ignored",
          "traceback": [
            "\u001b[0;31m---------------------------------------------------------------------------\u001b[0m",
            "\u001b[0;31mTypeError\u001b[0m                                 Traceback (most recent call last)",
            "\u001b[0;32m<ipython-input-84-67604e338e59>\u001b[0m in \u001b[0;36m<module>\u001b[0;34m()\u001b[0m\n\u001b[0;32m----> 1\u001b[0;31m \u001b[0msample3\u001b[0m\u001b[0;34m(\u001b[0m\u001b[0;34m\"apple\"\u001b[0m\u001b[0;34m,\u001b[0m \u001b[0;34m\"orange\"\u001b[0m\u001b[0;34m,\u001b[0m \u001b[0mestablished\u001b[0m \u001b[0;34m=\u001b[0m \u001b[0;36m2004\u001b[0m\u001b[0;34m,\u001b[0m \u001b[0mlisted\u001b[0m \u001b[0;34m=\u001b[0m \u001b[0;36m2005\u001b[0m\u001b[0;34m,\u001b[0m \u001b[0mlocation\u001b[0m\u001b[0;34m=\u001b[0m\u001b[0;34m\"Trivandrum\"\u001b[0m\u001b[0;34m)\u001b[0m\u001b[0;34m\u001b[0m\u001b[0;34m\u001b[0m\u001b[0m\n\u001b[0m",
            "\u001b[0;31mTypeError\u001b[0m: sample3() got an unexpected keyword argument 'established'"
          ]
        }
      ]
    },
    {
      "cell_type": "code",
      "metadata": {
        "id": "o9UNyhY9UxtL",
        "colab_type": "code",
        "colab": {}
      },
      "source": [
        "def sample4(first, last, **userinfo):\n",
        "  profile = {}\n",
        "  profile[\"firstname\"] = first \n",
        "  profile[\"last\"] = last\n",
        "  for key, value in userinfo.items():\n",
        "    profile[key] = value\n",
        "  return profile"
      ],
      "execution_count": 0,
      "outputs": []
    },
    {
      "cell_type": "code",
      "metadata": {
        "id": "YkA6xoiEV1hF",
        "colab_type": "code",
        "colab": {
          "base_uri": "https://localhost:8080/",
          "height": 105
        },
        "outputId": "be7569f8-db49-4d86-fe22-37460d09e207"
      },
      "source": [
        "sample4(\"Binulal\", \"Narayanan\", established = 2004, listed = 2005, location=\"Trivandrum\")"
      ],
      "execution_count": 86,
      "outputs": [
        {
          "output_type": "execute_result",
          "data": {
            "text/plain": [
              "{'established': 2004,\n",
              " 'firstname': 'Binulal',\n",
              " 'last': 'Narayanan',\n",
              " 'listed': 2005,\n",
              " 'location': 'Trivandrum'}"
            ]
          },
          "metadata": {
            "tags": []
          },
          "execution_count": 86
        }
      ]
    }
  ]
}