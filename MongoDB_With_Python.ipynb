{
  "nbformat": 4,
  "nbformat_minor": 0,
  "metadata": {
    "colab": {
      "name": "MongoDB_With_Python.ipynb",
      "provenance": [],
      "collapsed_sections": [],
      "include_colab_link": true
    },
    "kernelspec": {
      "name": "python3",
      "display_name": "Python 3"
    }
  },
  "cells": [
    {
      "cell_type": "markdown",
      "metadata": {
        "id": "view-in-github",
        "colab_type": "text"
      },
      "source": [
        "<a href=\"https://colab.research.google.com/github/aicharya/DSA_Python/blob/master/MongoDB_With_Python.ipynb\" target=\"_parent\"><img src=\"https://colab.research.google.com/assets/colab-badge.svg\" alt=\"Open In Colab\"/></a>"
      ]
    },
    {
      "cell_type": "markdown",
      "metadata": {
        "id": "vqNX857OEfAi",
        "colab_type": "text"
      },
      "source": [
        "# Data Science Academy\n",
        "[https://datascience.one](https://datascience.one)"
      ]
    },
    {
      "cell_type": "code",
      "metadata": {
        "id": "UrlWiyMHsCpV",
        "colab_type": "code",
        "colab": {}
      },
      "source": [
        "import pymongo"
      ],
      "execution_count": null,
      "outputs": []
    },
    {
      "cell_type": "code",
      "metadata": {
        "id": "x5KjDb1VtFi4",
        "colab_type": "code",
        "colab": {}
      },
      "source": [
        "#!pip install dnspython"
      ],
      "execution_count": null,
      "outputs": []
    },
    {
      "cell_type": "code",
      "metadata": {
        "id": "gxfDxnzwsGxH",
        "colab_type": "code",
        "colab": {}
      },
      "source": [
        "client = pymongo.MongoClient(\"mongodb+srv://dsauser01:<password>@cluster0.may9g.mongodb.net/<dbname>?retryWrites=true&w=majority\")"
      ],
      "execution_count": null,
      "outputs": []
    },
    {
      "cell_type": "markdown",
      "metadata": {
        "id": "KrjGmkWWwcF7",
        "colab_type": "text"
      },
      "source": [
        "#### Check if Database Exists"
      ]
    },
    {
      "cell_type": "code",
      "metadata": {
        "id": "UVkKDtIuwmYJ",
        "colab_type": "code",
        "colab": {}
      },
      "source": [
        "dblist = client.list_database_names()"
      ],
      "execution_count": null,
      "outputs": []
    },
    {
      "cell_type": "code",
      "metadata": {
        "id": "ER95Mr8e-fsS",
        "colab_type": "code",
        "colab": {
          "base_uri": "https://localhost:8080/",
          "height": 34
        },
        "outputId": "39f6459c-571c-452e-8eb9-e47c1e0d9677"
      },
      "source": [
        "dblist"
      ],
      "execution_count": null,
      "outputs": [
        {
          "output_type": "execute_result",
          "data": {
            "text/plain": [
              "['dsadb01', 'admin', 'local']"
            ]
          },
          "metadata": {
            "tags": []
          },
          "execution_count": 16
        }
      ]
    },
    {
      "cell_type": "code",
      "metadata": {
        "id": "8kqRr0aE7hZ_",
        "colab_type": "code",
        "colab": {}
      },
      "source": [
        "\n",
        "mydb = client[\"dsauser01\"]\n",
        "mycol = mydb[\"dsacol\"]\n",
        "mydict = { \"name\": \"John\", \"address\": \"Highway 37\" }\n",
        "\n",
        "x = mycol.insert_one(mydict)"
      ],
      "execution_count": null,
      "outputs": []
    },
    {
      "cell_type": "markdown",
      "metadata": {
        "id": "fDSaobUW_0G4",
        "colab_type": "text"
      },
      "source": [
        "#### Insert  Many"
      ]
    },
    {
      "cell_type": "code",
      "metadata": {
        "id": "FcCuqwVj_qNx",
        "colab_type": "code",
        "colab": {
          "base_uri": "https://localhost:8080/",
          "height": 54
        },
        "outputId": "75331223-bca7-4f00-d33e-fa4ca358c600"
      },
      "source": [
        "mylist = [\n",
        "  { \"name\": \"Amy\", \"address\": \"Apple st 652\"},\n",
        "  { \"name\": \"Hannah\", \"address\": \"Mountain 21\"},\n",
        "  { \"name\": \"Michael\", \"address\": \"Valley 345\"},\n",
        "  { \"name\": \"Sandy\", \"address\": \"Ocean blvd 2\"},\n",
        "  { \"name\": \"Betty\", \"address\": \"Green Grass 1\"},\n",
        "  { \"name\": \"Richard\", \"address\": \"Sky st 331\"},\n",
        "  { \"name\": \"Susan\", \"address\": \"One way 98\"},\n",
        "  { \"name\": \"Vicky\", \"address\": \"Yellow Garden 2\"},\n",
        "  { \"name\": \"Ben\", \"address\": \"Park Lane 38\"},\n",
        "  { \"name\": \"William\", \"address\": \"Central st 954\"},\n",
        "  { \"name\": \"Chuck\", \"address\": \"Main Road 989\"},\n",
        "  { \"name\": \"Viola\", \"address\": \"Sideway 1633\"}\n",
        "]\n",
        "\n",
        "x = mycol.insert_many(mylist)\n",
        "\n",
        "#print list of the _id values of the inserted documents:\n",
        "print(x.inserted_ids) "
      ],
      "execution_count": null,
      "outputs": [
        {
          "output_type": "stream",
          "text": [
            "[ObjectId('5f1ba9d250c6b386e4e887a9'), ObjectId('5f1ba9d250c6b386e4e887aa'), ObjectId('5f1ba9d250c6b386e4e887ab'), ObjectId('5f1ba9d250c6b386e4e887ac'), ObjectId('5f1ba9d250c6b386e4e887ad'), ObjectId('5f1ba9d250c6b386e4e887ae'), ObjectId('5f1ba9d250c6b386e4e887af'), ObjectId('5f1ba9d250c6b386e4e887b0'), ObjectId('5f1ba9d250c6b386e4e887b1'), ObjectId('5f1ba9d250c6b386e4e887b2'), ObjectId('5f1ba9d250c6b386e4e887b3'), ObjectId('5f1ba9d250c6b386e4e887b4')]\n"
          ],
          "name": "stdout"
        }
      ]
    },
    {
      "cell_type": "markdown",
      "metadata": {
        "id": "leEhRAiNAM9-",
        "colab_type": "text"
      },
      "source": [
        "#### Select Data From A Collection\n",
        "Two Methods were used:\n",
        "- find_one()\n",
        "- find()"
      ]
    },
    {
      "cell_type": "markdown",
      "metadata": {
        "id": "l5lo6_YvAxri",
        "colab_type": "text"
      },
      "source": [
        "#### Display single record from database"
      ]
    },
    {
      "cell_type": "code",
      "metadata": {
        "id": "_sZC_OLB_62s",
        "colab_type": "code",
        "colab": {
          "base_uri": "https://localhost:8080/",
          "height": 34
        },
        "outputId": "0bb2a91a-b6f1-4f3f-97be-8c278061617f"
      },
      "source": [
        "x = mycol.find_one()\n",
        "\n",
        "print(x)"
      ],
      "execution_count": null,
      "outputs": [
        {
          "output_type": "stream",
          "text": [
            "{'_id': ObjectId('5f1ba58650c6b386e4e8879c'), 'name': 'John', 'address': 'Highway 37'}\n"
          ],
          "name": "stdout"
        }
      ]
    },
    {
      "cell_type": "markdown",
      "metadata": {
        "id": "n0Ph1KkGA8Sn",
        "colab_type": "text"
      },
      "source": [
        "#### Display all the records from a database"
      ]
    },
    {
      "cell_type": "code",
      "metadata": {
        "id": "9uTABDmgAI2T",
        "colab_type": "code",
        "colab": {
          "base_uri": "https://localhost:8080/",
          "height": 243
        },
        "outputId": "efc39a94-a008-44c1-8adf-00a8f2c802f1"
      },
      "source": [
        "for x in mycol.find():\n",
        "  print(x) "
      ],
      "execution_count": null,
      "outputs": [
        {
          "output_type": "stream",
          "text": [
            "{'_id': ObjectId('5f1ba58650c6b386e4e8879c'), 'name': 'John', 'address': 'Highway 37'}\n",
            "{'_id': ObjectId('5f1ba5ce50c6b386e4e8879d'), 'name': 'Amy', 'address': 'Apple st 652'}\n",
            "{'_id': ObjectId('5f1ba5ce50c6b386e4e8879e'), 'name': 'Hannah', 'address': 'Mountain 21'}\n",
            "{'_id': ObjectId('5f1ba5ce50c6b386e4e8879f'), 'name': 'Michael', 'address': 'Valley 345'}\n",
            "{'_id': ObjectId('5f1ba5ce50c6b386e4e887a0'), 'name': 'Sandy', 'address': 'Ocean blvd 2'}\n",
            "{'_id': ObjectId('5f1ba5ce50c6b386e4e887a1'), 'name': 'Betty', 'address': 'Green Grass 1'}\n",
            "{'_id': ObjectId('5f1ba5ce50c6b386e4e887a2'), 'name': 'Richard', 'address': 'Sky st 331'}\n",
            "{'_id': ObjectId('5f1ba5ce50c6b386e4e887a3'), 'name': 'Susan', 'address': 'One way 98'}\n",
            "{'_id': ObjectId('5f1ba5ce50c6b386e4e887a4'), 'name': 'Vicky', 'address': 'Yellow Garden 2'}\n",
            "{'_id': ObjectId('5f1ba5ce50c6b386e4e887a5'), 'name': 'Ben', 'address': 'Park Lane 38'}\n",
            "{'_id': ObjectId('5f1ba5ce50c6b386e4e887a6'), 'name': 'William', 'address': 'Central st 954'}\n",
            "{'_id': ObjectId('5f1ba5ce50c6b386e4e887a7'), 'name': 'Chuck', 'address': 'Main Road 989'}\n",
            "{'_id': ObjectId('5f1ba5ce50c6b386e4e887a8'), 'name': 'Viola', 'address': 'Sideway 1633'}\n"
          ],
          "name": "stdout"
        }
      ]
    },
    {
      "cell_type": "markdown",
      "metadata": {
        "id": "yChuhR2NBF59",
        "colab_type": "text"
      },
      "source": [
        "#### Return Only Some Fields"
      ]
    },
    {
      "cell_type": "code",
      "metadata": {
        "id": "kTd9Q_zqBBxC",
        "colab_type": "code",
        "colab": {
          "base_uri": "https://localhost:8080/",
          "height": 243
        },
        "outputId": "0917990c-c90f-4b16-9cf8-3537a9a83026"
      },
      "source": [
        "for x in mycol.find({},{ \"_id\": 0, \"name\": 1, \"address\": 1 }):\n",
        "  print(x) "
      ],
      "execution_count": null,
      "outputs": [
        {
          "output_type": "stream",
          "text": [
            "{'name': 'John', 'address': 'Highway 37'}\n",
            "{'name': 'Amy', 'address': 'Apple st 652'}\n",
            "{'name': 'Hannah', 'address': 'Mountain 21'}\n",
            "{'name': 'Michael', 'address': 'Valley 345'}\n",
            "{'name': 'Sandy', 'address': 'Ocean blvd 2'}\n",
            "{'name': 'Betty', 'address': 'Green Grass 1'}\n",
            "{'name': 'Richard', 'address': 'Sky st 331'}\n",
            "{'name': 'Susan', 'address': 'One way 98'}\n",
            "{'name': 'Vicky', 'address': 'Yellow Garden 2'}\n",
            "{'name': 'Ben', 'address': 'Park Lane 38'}\n",
            "{'name': 'William', 'address': 'Central st 954'}\n",
            "{'name': 'Chuck', 'address': 'Main Road 989'}\n",
            "{'name': 'Viola', 'address': 'Sideway 1633'}\n"
          ],
          "name": "stdout"
        }
      ]
    },
    {
      "cell_type": "markdown",
      "metadata": {
        "id": "B0jycqK0BrFv",
        "colab_type": "text"
      },
      "source": [
        "#### Filter the Result"
      ]
    },
    {
      "cell_type": "markdown",
      "metadata": {
        "id": "HsKTvtY1BtaI",
        "colab_type": "text"
      },
      "source": [
        "When finding documents in a collection, you can filter the result by using a query object.\n",
        "\n",
        "The first argument of the find() method is a query object, and is used to limit the search."
      ]
    },
    {
      "cell_type": "code",
      "metadata": {
        "id": "-ZU7ZiukBJXl",
        "colab_type": "code",
        "colab": {
          "base_uri": "https://localhost:8080/",
          "height": 34
        },
        "outputId": "b3cc5567-438f-4305-a5aa-7c090e90235e"
      },
      "source": [
        "myquery = { \"address\": \"Park Lane 38\" }\n",
        "\n",
        "mydoc = mycol.find(myquery)\n",
        "\n",
        "for x in mydoc:\n",
        "  print(x) "
      ],
      "execution_count": null,
      "outputs": [
        {
          "output_type": "stream",
          "text": [
            "{'_id': ObjectId('5f1ba5ce50c6b386e4e887a5'), 'name': 'Ben', 'address': 'Park Lane 38'}\n"
          ],
          "name": "stdout"
        }
      ]
    },
    {
      "cell_type": "code",
      "metadata": {
        "id": "O_fDMNLZB0wp",
        "colab_type": "code",
        "colab": {
          "base_uri": "https://localhost:8080/",
          "height": 52
        },
        "outputId": "7a612b6a-433c-442e-b1d2-10f757a44f04"
      },
      "source": [
        "\n",
        "myquery = { \"address\": { \"$regex\": \"^S\" } }\n",
        "\n",
        "mydoc = mycol.find(myquery)\n",
        "\n",
        "for x in mydoc:\n",
        "  print(x) "
      ],
      "execution_count": null,
      "outputs": [
        {
          "output_type": "stream",
          "text": [
            "{'_id': ObjectId('5f1ba5ce50c6b386e4e887a2'), 'name': 'Richard', 'address': 'Sky st 331'}\n",
            "{'_id': ObjectId('5f1ba5ce50c6b386e4e887a8'), 'name': 'Viola', 'address': 'Sideway 1633'}\n"
          ],
          "name": "stdout"
        }
      ]
    },
    {
      "cell_type": "markdown",
      "metadata": {
        "id": "MfVlFGYKCEQp",
        "colab_type": "text"
      },
      "source": [
        "#### Sort the Result"
      ]
    },
    {
      "cell_type": "markdown",
      "metadata": {
        "id": "vpZh-yy4CNFA",
        "colab_type": "text"
      },
      "source": [
        "- sort(\"name\", 1) #ascending\n",
        "- sort(\"name\", -1) #descending \n",
        "\n",
        "\n",
        "\n"
      ]
    },
    {
      "cell_type": "code",
      "metadata": {
        "id": "8j9sg7QNB-iZ",
        "colab_type": "code",
        "colab": {
          "base_uri": "https://localhost:8080/",
          "height": 243
        },
        "outputId": "f1485a90-e706-4f2c-c299-1b1ade8c4a75"
      },
      "source": [
        "mydoc = mycol.find().sort(\"name\")\n",
        "\n",
        "for x in mydoc:\n",
        "  print(x) "
      ],
      "execution_count": null,
      "outputs": [
        {
          "output_type": "stream",
          "text": [
            "{'_id': ObjectId('5f1ba5ce50c6b386e4e8879d'), 'name': 'Amy', 'address': 'Apple st 652'}\n",
            "{'_id': ObjectId('5f1ba5ce50c6b386e4e887a5'), 'name': 'Ben', 'address': 'Park Lane 38'}\n",
            "{'_id': ObjectId('5f1ba5ce50c6b386e4e887a1'), 'name': 'Betty', 'address': 'Green Grass 1'}\n",
            "{'_id': ObjectId('5f1ba5ce50c6b386e4e887a7'), 'name': 'Chuck', 'address': 'Main Road 989'}\n",
            "{'_id': ObjectId('5f1ba5ce50c6b386e4e8879e'), 'name': 'Hannah', 'address': 'Mountain 21'}\n",
            "{'_id': ObjectId('5f1ba58650c6b386e4e8879c'), 'name': 'John', 'address': 'Highway 37'}\n",
            "{'_id': ObjectId('5f1ba5ce50c6b386e4e8879f'), 'name': 'Michael', 'address': 'Valley 345'}\n",
            "{'_id': ObjectId('5f1ba5ce50c6b386e4e887a2'), 'name': 'Richard', 'address': 'Sky st 331'}\n",
            "{'_id': ObjectId('5f1ba5ce50c6b386e4e887a0'), 'name': 'Sandy', 'address': 'Ocean blvd 2'}\n",
            "{'_id': ObjectId('5f1ba5ce50c6b386e4e887a3'), 'name': 'Susan', 'address': 'One way 98'}\n",
            "{'_id': ObjectId('5f1ba5ce50c6b386e4e887a4'), 'name': 'Vicky', 'address': 'Yellow Garden 2'}\n",
            "{'_id': ObjectId('5f1ba5ce50c6b386e4e887a8'), 'name': 'Viola', 'address': 'Sideway 1633'}\n",
            "{'_id': ObjectId('5f1ba5ce50c6b386e4e887a6'), 'name': 'William', 'address': 'Central st 954'}\n"
          ],
          "name": "stdout"
        }
      ]
    },
    {
      "cell_type": "code",
      "metadata": {
        "id": "ECnJQHtSCIxZ",
        "colab_type": "code",
        "colab": {
          "base_uri": "https://localhost:8080/",
          "height": 243
        },
        "outputId": "4efbec3a-7347-4394-befe-1cc0ac63a3e8"
      },
      "source": [
        "mydoc = mycol.find().sort(\"name\",-1)\n",
        "\n",
        "for x in mydoc:\n",
        "  print(x) "
      ],
      "execution_count": null,
      "outputs": [
        {
          "output_type": "stream",
          "text": [
            "{'_id': ObjectId('5f1ba5ce50c6b386e4e887a6'), 'name': 'William', 'address': 'Central st 954'}\n",
            "{'_id': ObjectId('5f1ba5ce50c6b386e4e887a8'), 'name': 'Viola', 'address': 'Sideway 1633'}\n",
            "{'_id': ObjectId('5f1ba5ce50c6b386e4e887a4'), 'name': 'Vicky', 'address': 'Yellow Garden 2'}\n",
            "{'_id': ObjectId('5f1ba5ce50c6b386e4e887a3'), 'name': 'Susan', 'address': 'One way 98'}\n",
            "{'_id': ObjectId('5f1ba5ce50c6b386e4e887a0'), 'name': 'Sandy', 'address': 'Ocean blvd 2'}\n",
            "{'_id': ObjectId('5f1ba5ce50c6b386e4e887a2'), 'name': 'Richard', 'address': 'Sky st 331'}\n",
            "{'_id': ObjectId('5f1ba5ce50c6b386e4e8879f'), 'name': 'Michael', 'address': 'Valley 345'}\n",
            "{'_id': ObjectId('5f1ba58650c6b386e4e8879c'), 'name': 'John', 'address': 'Highway 37'}\n",
            "{'_id': ObjectId('5f1ba5ce50c6b386e4e8879e'), 'name': 'Hannah', 'address': 'Mountain 21'}\n",
            "{'_id': ObjectId('5f1ba5ce50c6b386e4e887a7'), 'name': 'Chuck', 'address': 'Main Road 989'}\n",
            "{'_id': ObjectId('5f1ba5ce50c6b386e4e887a1'), 'name': 'Betty', 'address': 'Green Grass 1'}\n",
            "{'_id': ObjectId('5f1ba5ce50c6b386e4e887a5'), 'name': 'Ben', 'address': 'Park Lane 38'}\n",
            "{'_id': ObjectId('5f1ba5ce50c6b386e4e8879d'), 'name': 'Amy', 'address': 'Apple st 652'}\n"
          ],
          "name": "stdout"
        }
      ]
    },
    {
      "cell_type": "code",
      "metadata": {
        "id": "D55KrnygCdIw",
        "colab_type": "code",
        "colab": {
          "base_uri": "https://localhost:8080/",
          "height": 34
        },
        "outputId": "92e80b38-0136-4306-ba35-e46a9cdbb0a3"
      },
      "source": [
        "myquery = { \"address\": \"Mountain 21\" }\n",
        "\n",
        "mycol.delete_one(myquery) "
      ],
      "execution_count": null,
      "outputs": [
        {
          "output_type": "execute_result",
          "data": {
            "text/plain": [
              "<pymongo.results.DeleteResult at 0x7f2e83583cc8>"
            ]
          },
          "metadata": {
            "tags": []
          },
          "execution_count": 32
        }
      ]
    },
    {
      "cell_type": "markdown",
      "metadata": {
        "id": "tBh66IYqDDyS",
        "colab_type": "text"
      },
      "source": [
        "#### Delete All Documents in a Collection"
      ]
    },
    {
      "cell_type": "markdown",
      "metadata": {
        "id": "-nmkdNh_DHlL",
        "colab_type": "text"
      },
      "source": [
        "To delete all documents in a collection, pass an empty query object to the delete_many() method:"
      ]
    },
    {
      "cell_type": "code",
      "metadata": {
        "id": "iiFvkeukCnUp",
        "colab_type": "code",
        "colab": {
          "base_uri": "https://localhost:8080/",
          "height": 34
        },
        "outputId": "0f6a5267-eb54-4a79-9bdc-de4a99be16ab"
      },
      "source": [
        "x = mycol.delete_many({})\n",
        "\n",
        "print(x.deleted_count, \" documents deleted.\") "
      ],
      "execution_count": null,
      "outputs": [
        {
          "output_type": "stream",
          "text": [
            "12  documents deleted.\n"
          ],
          "name": "stdout"
        }
      ]
    },
    {
      "cell_type": "markdown",
      "metadata": {
        "id": "Ci5j3C2zDXIO",
        "colab_type": "text"
      },
      "source": [
        "#### Update Record"
      ]
    },
    {
      "cell_type": "markdown",
      "metadata": {
        "id": "VwNBc77CDd_Z",
        "colab_type": "text"
      },
      "source": [
        "You can update a record, or document as it is called in MongoDB, by using the update_one() method.\n",
        "\n",
        "The first parameter of the update_one() method is a query object defining which document to update.The second parameter is an object defining the new values of the document."
      ]
    },
    {
      "cell_type": "code",
      "metadata": {
        "id": "EjZHcH3RDLFs",
        "colab_type": "code",
        "colab": {
          "base_uri": "https://localhost:8080/",
          "height": 225
        },
        "outputId": "c32af5f3-d7fd-40c8-8b59-8a2278755c93"
      },
      "source": [
        "myquery = { \"address\": \"Valley 345\" }\n",
        "newvalues = { \"$set\": { \"address\": \"Canyon 123\" } }\n",
        "\n",
        "mycol.update_one(myquery, newvalues)\n",
        "\n",
        "#print \"customers\" after the update:\n",
        "for x in mycol.find():\n",
        "  print(x) "
      ],
      "execution_count": null,
      "outputs": [
        {
          "output_type": "stream",
          "text": [
            "{'_id': ObjectId('5f1ba9d250c6b386e4e887a9'), 'name': 'Amy', 'address': 'Apple st 652'}\n",
            "{'_id': ObjectId('5f1ba9d250c6b386e4e887aa'), 'name': 'Hannah', 'address': 'Mountain 21'}\n",
            "{'_id': ObjectId('5f1ba9d250c6b386e4e887ab'), 'name': 'Michael', 'address': 'Canyon 123'}\n",
            "{'_id': ObjectId('5f1ba9d250c6b386e4e887ac'), 'name': 'Sandy', 'address': 'Ocean blvd 2'}\n",
            "{'_id': ObjectId('5f1ba9d250c6b386e4e887ad'), 'name': 'Betty', 'address': 'Green Grass 1'}\n",
            "{'_id': ObjectId('5f1ba9d250c6b386e4e887ae'), 'name': 'Richard', 'address': 'Sky st 331'}\n",
            "{'_id': ObjectId('5f1ba9d250c6b386e4e887af'), 'name': 'Susan', 'address': 'One way 98'}\n",
            "{'_id': ObjectId('5f1ba9d250c6b386e4e887b0'), 'name': 'Vicky', 'address': 'Yellow Garden 2'}\n",
            "{'_id': ObjectId('5f1ba9d250c6b386e4e887b1'), 'name': 'Ben', 'address': 'Park Lane 38'}\n",
            "{'_id': ObjectId('5f1ba9d250c6b386e4e887b2'), 'name': 'William', 'address': 'Central st 954'}\n",
            "{'_id': ObjectId('5f1ba9d250c6b386e4e887b3'), 'name': 'Chuck', 'address': 'Main Road 989'}\n",
            "{'_id': ObjectId('5f1ba9d250c6b386e4e887b4'), 'name': 'Viola', 'address': 'Sideway 1633'}\n"
          ],
          "name": "stdout"
        }
      ]
    },
    {
      "cell_type": "markdown",
      "metadata": {
        "id": "FMVhWBVED8An",
        "colab_type": "text"
      },
      "source": [
        "#### Update Many"
      ]
    },
    {
      "cell_type": "markdown",
      "metadata": {
        "id": "iO9LyoRlEAnq",
        "colab_type": "text"
      },
      "source": [
        "To update all documents that meets the criteria of the query, use the update_many() method."
      ]
    },
    {
      "cell_type": "code",
      "metadata": {
        "id": "YP021yNiDrzH",
        "colab_type": "code",
        "colab": {
          "base_uri": "https://localhost:8080/",
          "height": 34
        },
        "outputId": "7985dfc7-0898-4ac6-f13b-6f7403e3a0c5"
      },
      "source": [
        "\n",
        "myquery = { \"address\": { \"$regex\": \"^S\" } }\n",
        "newvalues = { \"$set\": { \"name\": \"Minnie\" } }\n",
        "\n",
        "x = mycol.update_many(myquery, newvalues)\n",
        "\n",
        "print(x.modified_count, \"documents updated.\") "
      ],
      "execution_count": null,
      "outputs": [
        {
          "output_type": "stream",
          "text": [
            "2 documents updated.\n"
          ],
          "name": "stdout"
        }
      ]
    },
    {
      "cell_type": "markdown",
      "metadata": {
        "id": "EqrjILvwENvf",
        "colab_type": "text"
      },
      "source": [
        "#### Limit the Result"
      ]
    },
    {
      "cell_type": "markdown",
      "metadata": {
        "id": "ZvyySU2aESOE",
        "colab_type": "text"
      },
      "source": [
        "To limit the result in MongoDB, we use the limit() method.\n",
        "\n",
        "The limit() method takes one parameter, a number defining how many documents to return."
      ]
    },
    {
      "cell_type": "code",
      "metadata": {
        "id": "UesYfpWtEE6m",
        "colab_type": "code",
        "colab": {
          "base_uri": "https://localhost:8080/",
          "height": 104
        },
        "outputId": "6081de53-52d1-466a-eba2-30a3bb236b30"
      },
      "source": [
        "myresult = mycol.find().limit(5)\n",
        "\n",
        "\n",
        "for x in myresult:\n",
        "  print(x) "
      ],
      "execution_count": null,
      "outputs": [
        {
          "output_type": "stream",
          "text": [
            "{'_id': ObjectId('5f1ba9d250c6b386e4e887a9'), 'name': 'Amy', 'address': 'Apple st 652'}\n",
            "{'_id': ObjectId('5f1ba9d250c6b386e4e887aa'), 'name': 'Hannah', 'address': 'Mountain 21'}\n",
            "{'_id': ObjectId('5f1ba9d250c6b386e4e887ab'), 'name': 'Michael', 'address': 'Canyon 123'}\n",
            "{'_id': ObjectId('5f1ba9d250c6b386e4e887ac'), 'name': 'Sandy', 'address': 'Ocean blvd 2'}\n",
            "{'_id': ObjectId('5f1ba9d250c6b386e4e887ad'), 'name': 'Betty', 'address': 'Green Grass 1'}\n"
          ],
          "name": "stdout"
        }
      ]
    },
    {
      "cell_type": "code",
      "metadata": {
        "id": "LDO7i_gIEXvh",
        "colab_type": "code",
        "colab": {}
      },
      "source": [
        ""
      ],
      "execution_count": null,
      "outputs": []
    }
  ]
}