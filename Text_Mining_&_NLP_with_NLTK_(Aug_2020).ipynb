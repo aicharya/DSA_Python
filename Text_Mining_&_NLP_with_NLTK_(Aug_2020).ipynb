{
  "nbformat": 4,
  "nbformat_minor": 0,
  "metadata": {
    "kernelspec": {
      "display_name": "Python 3",
      "language": "python",
      "name": "python3"
    },
    "language_info": {
      "codemirror_mode": {
        "name": "ipython",
        "version": 3
      },
      "file_extension": ".py",
      "mimetype": "text/x-python",
      "name": "python",
      "nbconvert_exporter": "python",
      "pygments_lexer": "ipython3",
      "version": "3.6.9"
    },
    "colab": {
      "name": "Text Mining & NLP with NLTK (Aug 2020).ipynb",
      "provenance": [],
      "include_colab_link": true
    }
  },
  "cells": [
    {
      "cell_type": "markdown",
      "metadata": {
        "id": "view-in-github",
        "colab_type": "text"
      },
      "source": [
        "<a href=\"https://colab.research.google.com/github/aicharya/DSA_Python/blob/master/Text_Mining_%26_NLP_with_NLTK_(Aug_2020).ipynb\" target=\"_parent\"><img src=\"https://colab.research.google.com/assets/colab-badge.svg\" alt=\"Open In Colab\"/></a>"
      ]
    },
    {
      "cell_type": "markdown",
      "metadata": {
        "id": "5ESyaSaKYze6",
        "colab_type": "text"
      },
      "source": [
        "# DataScienceAcademy                                 \n",
        "https://datascience.one\n",
        "\n",
        "\n",
        "Short Link to this notebook: https://bit.ly/DSAnltk\n",
        " \n",
        "\n",
        "## Introduction to Text Mining & Natural Language Processing \n",
        "#### -NLTK, SK-Learn\n"
      ]
    },
    {
      "cell_type": "markdown",
      "metadata": {
        "id": "47BG5XDdYze-",
        "colab_type": "text"
      },
      "source": [
        "# Working With Text"
      ]
    },
    {
      "cell_type": "code",
      "metadata": {
        "id": "cxO2BKkuYzfB",
        "colab_type": "code",
        "colab": {}
      },
      "source": [
        "# Install NLTK & Spacy\n",
        "#!pip3 install nltk spacy"
      ],
      "execution_count": null,
      "outputs": []
    },
    {
      "cell_type": "code",
      "metadata": {
        "id": "GqRwHfVub1O-",
        "colab_type": "code",
        "colab": {}
      },
      "source": [
        "import spacy\n",
        "import nltk"
      ],
      "execution_count": null,
      "outputs": []
    },
    {
      "cell_type": "markdown",
      "metadata": {
        "id": "ZGx1BC79Yzfh",
        "colab_type": "text"
      },
      "source": [
        "Download Raw data from: https://goo.gl/1Bxhns"
      ]
    },
    {
      "cell_type": "code",
      "metadata": {
        "id": "LAmop0v6Yzfl",
        "colab_type": "code",
        "colab": {}
      },
      "source": [
        "#!pip3 install nltk --user"
      ],
      "execution_count": null,
      "outputs": []
    },
    {
      "cell_type": "markdown",
      "metadata": {
        "id": "ETi6zH7RYzfw",
        "colab_type": "text"
      },
      "source": [
        "### Processing free-text"
      ]
    },
    {
      "cell_type": "code",
      "metadata": {
        "id": "uqA8CdCVYzfy",
        "colab_type": "code",
        "colab": {},
        "outputId": "9f7aadb7-ecfa-4147-b628-f8662695c39c"
      },
      "source": [
        "text5 = '\"Ethics are built right into the ideals and objectives of the United Nations\" \\\n",
        "#UNSG @ NY Society for Ethical Culture bit.ly/2guVelr'\n",
        "text6 = text5.split(' ')\n",
        "\n",
        "text6"
      ],
      "execution_count": null,
      "outputs": [
        {
          "output_type": "execute_result",
          "data": {
            "text/plain": [
              "['\"Ethics',\n",
              " 'are',\n",
              " 'built',\n",
              " 'right',\n",
              " 'into',\n",
              " 'the',\n",
              " 'ideals',\n",
              " 'and',\n",
              " 'objectives',\n",
              " 'of',\n",
              " 'the',\n",
              " 'United',\n",
              " 'Nations\"',\n",
              " '#UNSG',\n",
              " '@',\n",
              " 'NY',\n",
              " 'Society',\n",
              " 'for',\n",
              " 'Ethical',\n",
              " 'Culture',\n",
              " 'bit.ly/2guVelr']"
            ]
          },
          "metadata": {
            "tags": []
          },
          "execution_count": 14
        }
      ]
    },
    {
      "cell_type": "markdown",
      "metadata": {
        "id": "3iPK6rvsYzf-",
        "colab_type": "text"
      },
      "source": [
        "<br>\n",
        "Finding hastags:"
      ]
    },
    {
      "cell_type": "code",
      "metadata": {
        "id": "KXpMuzzhYzgA",
        "colab_type": "code",
        "colab": {},
        "outputId": "a94b492d-ce6b-4dc8-8ea0-f8f4ad1adbd4"
      },
      "source": [
        "[w for w in text6 if w.startswith('#')]"
      ],
      "execution_count": null,
      "outputs": [
        {
          "output_type": "execute_result",
          "data": {
            "text/plain": [
              "['#UNSG']"
            ]
          },
          "metadata": {
            "tags": []
          },
          "execution_count": 15
        }
      ]
    },
    {
      "cell_type": "code",
      "metadata": {
        "id": "H2wOqIhOYzgL",
        "colab_type": "code",
        "colab": {},
        "outputId": "f0acad6e-ce1d-4ded-f8ca-9d348f5f331f"
      },
      "source": [
        "\"brijesh\".startswith(\"bri\")"
      ],
      "execution_count": null,
      "outputs": [
        {
          "output_type": "execute_result",
          "data": {
            "text/plain": [
              "True"
            ]
          },
          "metadata": {
            "tags": []
          },
          "execution_count": 16
        }
      ]
    },
    {
      "cell_type": "markdown",
      "metadata": {
        "id": "auUolgiXYzgY",
        "colab_type": "text"
      },
      "source": [
        "<br>\n",
        "Finding callouts:"
      ]
    },
    {
      "cell_type": "code",
      "metadata": {
        "id": "MCoGkSjXYzga",
        "colab_type": "code",
        "colab": {}
      },
      "source": [
        "text7 = '@UN @UN_Women \"Ethics are built right into the ideals and objectives of the United Nations\" \\\n",
        "#UNSG @ NY Society for Ethical Culture bit.ly/2guVelr'\n",
        "text8 = text7.split(' ')"
      ],
      "execution_count": null,
      "outputs": []
    },
    {
      "cell_type": "code",
      "metadata": {
        "id": "VAvRTvAeYzgi",
        "colab_type": "code",
        "colab": {},
        "outputId": "7b97822c-e8dd-42c1-f2c7-cd0bf7190053"
      },
      "source": [
        "[w for w in text8 if w.startswith('@')]"
      ],
      "execution_count": null,
      "outputs": [
        {
          "output_type": "execute_result",
          "data": {
            "text/plain": [
              "['@UN', '@UN_Women', '@']"
            ]
          },
          "metadata": {
            "tags": []
          },
          "execution_count": 19
        }
      ]
    },
    {
      "cell_type": "markdown",
      "metadata": {
        "id": "SQ5JrrqsYzgq",
        "colab_type": "text"
      },
      "source": [
        "Regex Python: \n",
        "- https://docs.python.org/3.6/library/re.html\n",
        "\n",
        "- https://docs.python.org/3.6/howto/regex.html#regex-howto"
      ]
    },
    {
      "cell_type": "markdown",
      "metadata": {
        "id": "85zffmsFYzgs",
        "colab_type": "text"
      },
      "source": [
        "<br>\n",
        "\n",
        "We can use regular expressions to help us with more complex parsing. \n",
        "\n",
        "For example `'@[A-Za-z0-9_]+'` will return all words that: \n",
        "* start with `'@'` and are followed by at least one: \n",
        "* capital letter (`'A-Z'`)\n",
        "* lowercase letter (`'a-z'`) \n",
        "* number (`'0-9'`)\n",
        "* or underscore (`'_'`)"
      ]
    },
    {
      "cell_type": "code",
      "metadata": {
        "id": "NcNeny2NYzgu",
        "colab_type": "code",
        "colab": {},
        "outputId": "1fbf201c-7548-4eda-bacc-7c5ef5a00f9f"
      },
      "source": [
        "text8"
      ],
      "execution_count": null,
      "outputs": [
        {
          "output_type": "execute_result",
          "data": {
            "text/plain": [
              "['@UN',\n",
              " '@UN_Women',\n",
              " '\"Ethics',\n",
              " 'are',\n",
              " 'built',\n",
              " 'right',\n",
              " 'into',\n",
              " 'the',\n",
              " 'ideals',\n",
              " 'and',\n",
              " 'objectives',\n",
              " 'of',\n",
              " 'the',\n",
              " 'United',\n",
              " 'Nations\"',\n",
              " '#UNSG',\n",
              " '@',\n",
              " 'NY',\n",
              " 'Society',\n",
              " 'for',\n",
              " 'Ethical',\n",
              " 'Culture',\n",
              " 'bit.ly/2guVelr']"
            ]
          },
          "metadata": {
            "tags": []
          },
          "execution_count": 22
        }
      ]
    },
    {
      "cell_type": "code",
      "metadata": {
        "id": "87eAw8akYzg3",
        "colab_type": "code",
        "colab": {},
        "outputId": "a0ce32d0-f709-4411-c412-0a7a8dd913cb"
      },
      "source": [
        "import re # import re - a module that provides support for regular expressions\n",
        "\n",
        "[w for w in text8 if re.search('@[A-Za-z0-9_]+', w)]"
      ],
      "execution_count": null,
      "outputs": [
        {
          "output_type": "execute_result",
          "data": {
            "text/plain": [
              "['@UN', '@UN_Women']"
            ]
          },
          "metadata": {
            "tags": []
          },
          "execution_count": 45
        }
      ]
    },
    {
      "cell_type": "code",
      "metadata": {
        "id": "YqIJsERFYzhA",
        "colab_type": "code",
        "colab": {},
        "outputId": "e8fd5421-b655-4654-8ebc-f66ba9290ffb"
      },
      "source": [
        "[w for w in text8 if re.search('@[A-Za-z0-9_]*', w)]"
      ],
      "execution_count": null,
      "outputs": [
        {
          "output_type": "execute_result",
          "data": {
            "text/plain": [
              "['@UN', '@UN_Women', '@']"
            ]
          },
          "metadata": {
            "tags": []
          },
          "execution_count": 46
        }
      ]
    },
    {
      "cell_type": "code",
      "metadata": {
        "id": "jZAqNkf8YzhJ",
        "colab_type": "code",
        "colab": {}
      },
      "source": [
        "re.search('^[a-z0-9]+[\\._]?[a-z0-9]+[@]\\w+[.]\\w{2,3}$', \"brijesh@curvelogics.com\")"
      ],
      "execution_count": null,
      "outputs": []
    },
    {
      "cell_type": "code",
      "metadata": {
        "id": "KD-7ufX0YzhU",
        "colab_type": "code",
        "colab": {}
      },
      "source": [
        "re.search('^[a-z0-9]+[\\._]?[a-z0-9]+[@]\\w+[.]\\w+$', \"brije.sh@curvelogics.com\")"
      ],
      "execution_count": null,
      "outputs": []
    },
    {
      "cell_type": "code",
      "metadata": {
        "id": "5y4PJd3tYzhb",
        "colab_type": "code",
        "colab": {},
        "outputId": "c4aad20d-66a2-4f7b-e254-a0e46e377476"
      },
      "source": [
        "re.findall('ab+', \"a ab abb abcc acbb accc\")"
      ],
      "execution_count": null,
      "outputs": [
        {
          "output_type": "execute_result",
          "data": {
            "text/plain": [
              "['ab', 'abb', 'ab']"
            ]
          },
          "metadata": {
            "tags": []
          },
          "execution_count": 60
        }
      ]
    },
    {
      "cell_type": "code",
      "metadata": {
        "id": "P7KXpvuCYzhk",
        "colab_type": "code",
        "colab": {},
        "outputId": "5a8c0468-b437-4010-89c7-1f91a5a19730"
      },
      "source": [
        "re.findall('ac[b,c]+', \"a ab abb acbb accc\")"
      ],
      "execution_count": null,
      "outputs": [
        {
          "output_type": "execute_result",
          "data": {
            "text/plain": [
              "['acbb', 'accc']"
            ]
          },
          "metadata": {
            "tags": []
          },
          "execution_count": 64
        }
      ]
    },
    {
      "cell_type": "code",
      "metadata": {
        "id": "cQK37DI3Yzhu",
        "colab_type": "code",
        "colab": {},
        "outputId": "fe53b8dc-4cbc-41f4-9835-a4f4bc4c4248"
      },
      "source": [
        "re.findall('ac[^e]+', \"a ab abb acbb accc aceee acaa\")"
      ],
      "execution_count": null,
      "outputs": [
        {
          "output_type": "execute_result",
          "data": {
            "text/plain": [
              "['acbb accc ac acaa']"
            ]
          },
          "metadata": {
            "tags": []
          },
          "execution_count": 65
        }
      ]
    },
    {
      "cell_type": "code",
      "metadata": {
        "id": "U9n21tIkYzh1",
        "colab_type": "code",
        "colab": {},
        "outputId": "6f7e1756-b5f2-4c8d-aa09-53179a80b5e2"
      },
      "source": [
        "re.findall('^@[A-Za-z0-9_]+', \"@UN_Women @UN, @UN_Women. \\n@UN, @UN_Women___\")"
      ],
      "execution_count": null,
      "outputs": [
        {
          "output_type": "execute_result",
          "data": {
            "text/plain": [
              "['@UN_Women']"
            ]
          },
          "metadata": {
            "tags": []
          },
          "execution_count": 66
        }
      ]
    },
    {
      "cell_type": "markdown",
      "metadata": {
        "id": "K0WRLr2OYzh9",
        "colab_type": "text"
      },
      "source": [
        "# Working with Text Data in pandas"
      ]
    },
    {
      "cell_type": "code",
      "metadata": {
        "scrolled": true,
        "id": "guGXCr75Yzh-",
        "colab_type": "code",
        "colab": {},
        "outputId": "fc7d25fd-220f-418f-e6ec-345b7674aedf"
      },
      "source": [
        "import pandas as pd\n",
        "\n",
        "time_sentences = [\"Monday: The doctor's appointment is at 2:45pm.\", \n",
        "                  \"Tuesday: The dentist's appointment is at 11:30 am.\",\n",
        "                  \"Wednesday: At 7:00pm, there is a basketball game!\",\n",
        "                  \"Thursday: Be back home by 11:15 pm at the latest.\",\n",
        "                  \"Friday: Take the train at 08:10 am, arrive at 09:00am.\"]\n",
        "\n",
        "df = pd.DataFrame(time_sentences, columns=['text'])\n",
        "df"
      ],
      "execution_count": null,
      "outputs": [
        {
          "output_type": "execute_result",
          "data": {
            "text/html": [
              "<div>\n",
              "<style scoped>\n",
              "    .dataframe tbody tr th:only-of-type {\n",
              "        vertical-align: middle;\n",
              "    }\n",
              "\n",
              "    .dataframe tbody tr th {\n",
              "        vertical-align: top;\n",
              "    }\n",
              "\n",
              "    .dataframe thead th {\n",
              "        text-align: right;\n",
              "    }\n",
              "</style>\n",
              "<table border=\"1\" class=\"dataframe\">\n",
              "  <thead>\n",
              "    <tr style=\"text-align: right;\">\n",
              "      <th></th>\n",
              "      <th>text</th>\n",
              "    </tr>\n",
              "  </thead>\n",
              "  <tbody>\n",
              "    <tr>\n",
              "      <th>0</th>\n",
              "      <td>Monday: The doctor's appointment is at 2:45pm.</td>\n",
              "    </tr>\n",
              "    <tr>\n",
              "      <th>1</th>\n",
              "      <td>Tuesday: The dentist's appointment is at 11:30...</td>\n",
              "    </tr>\n",
              "    <tr>\n",
              "      <th>2</th>\n",
              "      <td>Wednesday: At 7:00pm, there is a basketball game!</td>\n",
              "    </tr>\n",
              "    <tr>\n",
              "      <th>3</th>\n",
              "      <td>Thursday: Be back home by 11:15 pm at the latest.</td>\n",
              "    </tr>\n",
              "    <tr>\n",
              "      <th>4</th>\n",
              "      <td>Friday: Take the train at 08:10 am, arrive at ...</td>\n",
              "    </tr>\n",
              "  </tbody>\n",
              "</table>\n",
              "</div>"
            ],
            "text/plain": [
              "                                                text\n",
              "0     Monday: The doctor's appointment is at 2:45pm.\n",
              "1  Tuesday: The dentist's appointment is at 11:30...\n",
              "2  Wednesday: At 7:00pm, there is a basketball game!\n",
              "3  Thursday: Be back home by 11:15 pm at the latest.\n",
              "4  Friday: Take the train at 08:10 am, arrive at ..."
            ]
          },
          "metadata": {
            "tags": []
          },
          "execution_count": 68
        }
      ]
    },
    {
      "cell_type": "code",
      "metadata": {
        "id": "N0A-aad2YziF",
        "colab_type": "code",
        "colab": {},
        "outputId": "e0d02ea7-b81c-4b6f-8ce7-6c000826c130"
      },
      "source": [
        "# find the number of characters for each string in df['text']\n",
        "df['text'].str.len()"
      ],
      "execution_count": null,
      "outputs": [
        {
          "output_type": "execute_result",
          "data": {
            "text/plain": [
              "0    46\n",
              "1    50\n",
              "2    49\n",
              "3    49\n",
              "4    54\n",
              "Name: text, dtype: int64"
            ]
          },
          "metadata": {
            "tags": []
          },
          "execution_count": 70
        }
      ]
    },
    {
      "cell_type": "code",
      "metadata": {
        "scrolled": true,
        "id": "JW8zEEWVYziN",
        "colab_type": "code",
        "colab": {},
        "outputId": "8911896f-6728-478f-e067-c33d50e115c6"
      },
      "source": [
        "# find the number of tokens for each string in df['text']\n",
        "df['text'].str.split().str.len()"
      ],
      "execution_count": null,
      "outputs": [
        {
          "output_type": "execute_result",
          "data": {
            "text/plain": [
              "0     7\n",
              "1     8\n",
              "2     8\n",
              "3    10\n",
              "4    10\n",
              "Name: text, dtype: int64"
            ]
          },
          "metadata": {
            "tags": []
          },
          "execution_count": 71
        }
      ]
    },
    {
      "cell_type": "code",
      "metadata": {
        "id": "OqyewVxkYziX",
        "colab_type": "code",
        "colab": {},
        "outputId": "75c4ad46-a36c-46e7-f450-3d96874edc05"
      },
      "source": [
        "df[\"text\"].str.swapcase()"
      ],
      "execution_count": null,
      "outputs": [
        {
          "output_type": "execute_result",
          "data": {
            "text/plain": [
              "0       mONDAY: tHE DOCTOR'S APPOINTMENT IS AT 2:45PM.\n",
              "1    tUESDAY: tHE DENTIST'S APPOINTMENT IS AT 11:30...\n",
              "2    wEDNESDAY: aT 7:00PM, THERE IS A BASKETBALL GAME!\n",
              "3    tHURSDAY: bE BACK HOME BY 11:15 PM AT THE LATEST.\n",
              "4    fRIDAY: tAKE THE TRAIN AT 08:10 AM, ARRIVE AT ...\n",
              "Name: text, dtype: object"
            ]
          },
          "metadata": {
            "tags": []
          },
          "execution_count": 25
        }
      ]
    },
    {
      "cell_type": "code",
      "metadata": {
        "scrolled": true,
        "id": "iiydv2RMYzie",
        "colab_type": "code",
        "colab": {},
        "outputId": "ca7c439a-8eb2-4b24-bd71-e271773513fa"
      },
      "source": [
        "# find which entries contain the word 'appointment'\n",
        "df['text'].str.contains('appointment')"
      ],
      "execution_count": null,
      "outputs": [
        {
          "output_type": "execute_result",
          "data": {
            "text/plain": [
              "0     True\n",
              "1     True\n",
              "2    False\n",
              "3    False\n",
              "4    False\n",
              "Name: text, dtype: bool"
            ]
          },
          "metadata": {
            "tags": []
          },
          "execution_count": 72
        }
      ]
    },
    {
      "cell_type": "code",
      "metadata": {
        "id": "0DzOMgDqYzin",
        "colab_type": "code",
        "colab": {}
      },
      "source": [
        "#df[\"text\"][4]"
      ],
      "execution_count": null,
      "outputs": []
    },
    {
      "cell_type": "code",
      "metadata": {
        "scrolled": true,
        "id": "ykgAji9bYziv",
        "colab_type": "code",
        "colab": {},
        "outputId": "0fb1cecf-c07a-4c5c-a400-a91a7504a5d1"
      },
      "source": [
        "# find how many times a digit occurs in each string\n",
        "df['text'].str.count(r'\\d')"
      ],
      "execution_count": null,
      "outputs": [
        {
          "output_type": "execute_result",
          "data": {
            "text/plain": [
              "0    3\n",
              "1    4\n",
              "2    3\n",
              "3    4\n",
              "4    8\n",
              "Name: text, dtype: int64"
            ]
          },
          "metadata": {
            "tags": []
          },
          "execution_count": 74
        }
      ]
    },
    {
      "cell_type": "code",
      "metadata": {
        "id": "OO3d35vsYzi3",
        "colab_type": "code",
        "colab": {},
        "outputId": "c683e622-dcfa-4bde-ca8d-206265cb16d7"
      },
      "source": [
        "df"
      ],
      "execution_count": null,
      "outputs": [
        {
          "output_type": "execute_result",
          "data": {
            "text/html": [
              "<div>\n",
              "<style scoped>\n",
              "    .dataframe tbody tr th:only-of-type {\n",
              "        vertical-align: middle;\n",
              "    }\n",
              "\n",
              "    .dataframe tbody tr th {\n",
              "        vertical-align: top;\n",
              "    }\n",
              "\n",
              "    .dataframe thead th {\n",
              "        text-align: right;\n",
              "    }\n",
              "</style>\n",
              "<table border=\"1\" class=\"dataframe\">\n",
              "  <thead>\n",
              "    <tr style=\"text-align: right;\">\n",
              "      <th></th>\n",
              "      <th>text</th>\n",
              "    </tr>\n",
              "  </thead>\n",
              "  <tbody>\n",
              "    <tr>\n",
              "      <th>0</th>\n",
              "      <td>Monday: The doctor's appointment is at 2:45pm.</td>\n",
              "    </tr>\n",
              "    <tr>\n",
              "      <th>1</th>\n",
              "      <td>Tuesday: The dentist's appointment is at 11:30...</td>\n",
              "    </tr>\n",
              "    <tr>\n",
              "      <th>2</th>\n",
              "      <td>Wednesday: At 7:00pm, there is a basketball game!</td>\n",
              "    </tr>\n",
              "    <tr>\n",
              "      <th>3</th>\n",
              "      <td>Thursday: Be back home by 11:15 pm at the latest.</td>\n",
              "    </tr>\n",
              "    <tr>\n",
              "      <th>4</th>\n",
              "      <td>Friday: Take the train at 08:10 am, arrive at ...</td>\n",
              "    </tr>\n",
              "  </tbody>\n",
              "</table>\n",
              "</div>"
            ],
            "text/plain": [
              "                                                text\n",
              "0     Monday: The doctor's appointment is at 2:45pm.\n",
              "1  Tuesday: The dentist's appointment is at 11:30...\n",
              "2  Wednesday: At 7:00pm, there is a basketball game!\n",
              "3  Thursday: Be back home by 11:15 pm at the latest.\n",
              "4  Friday: Take the train at 08:10 am, arrive at ..."
            ]
          },
          "metadata": {
            "tags": []
          },
          "execution_count": 75
        }
      ]
    },
    {
      "cell_type": "code",
      "metadata": {
        "id": "XzLgrUSTYzi8",
        "colab_type": "code",
        "colab": {},
        "outputId": "5ba5c1e9-8843-42ce-eaaa-0f4707c17576"
      },
      "source": [
        "# find all occurances of the digits\n",
        "df['text'].str.findall(r'\\d')"
      ],
      "execution_count": null,
      "outputs": [
        {
          "output_type": "execute_result",
          "data": {
            "text/plain": [
              "0                   [2, 4, 5]\n",
              "1                [1, 1, 3, 0]\n",
              "2                   [7, 0, 0]\n",
              "3                [1, 1, 1, 5]\n",
              "4    [0, 8, 1, 0, 0, 9, 0, 0]\n",
              "Name: text, dtype: object"
            ]
          },
          "metadata": {
            "tags": []
          },
          "execution_count": 30
        }
      ]
    },
    {
      "cell_type": "code",
      "metadata": {
        "id": "L7uUTxr5YzjF",
        "colab_type": "code",
        "colab": {},
        "outputId": "8f1c2a46-0113-42e1-ba8d-34f9c8f3b60f"
      },
      "source": [
        "# group and find the hours and minutes\n",
        "df['text'].str.findall(r'(\\d?\\d):(\\d\\d)')"
      ],
      "execution_count": null,
      "outputs": [
        {
          "output_type": "execute_result",
          "data": {
            "text/plain": [
              "0               [(2, 45)]\n",
              "1              [(11, 30)]\n",
              "2               [(7, 00)]\n",
              "3              [(11, 15)]\n",
              "4    [(08, 10), (09, 00)]\n",
              "Name: text, dtype: object"
            ]
          },
          "metadata": {
            "tags": []
          },
          "execution_count": 80
        }
      ]
    },
    {
      "cell_type": "code",
      "metadata": {
        "scrolled": true,
        "id": "z1Mgh_tTYzjL",
        "colab_type": "code",
        "colab": {},
        "outputId": "98095735-c660-46dd-a6cd-abde2f2188ae"
      },
      "source": [
        "# replace weekdays with '???'\n",
        "df['text'].str.replace(r'\\w+day\\b', '???')"
      ],
      "execution_count": null,
      "outputs": [
        {
          "output_type": "execute_result",
          "data": {
            "text/plain": [
              "0          ???: The doctor's appointment is at 2:45pm.\n",
              "1       ???: The dentist's appointment is at 11:30 am.\n",
              "2          ???: At 7:00pm, there is a basketball game!\n",
              "3         ???: Be back home by 11:15 pm at the latest.\n",
              "4    ???: Take the train at 08:10 am, arrive at 09:...\n",
              "Name: text, dtype: object"
            ]
          },
          "metadata": {
            "tags": []
          },
          "execution_count": 81
        }
      ]
    },
    {
      "cell_type": "code",
      "metadata": {
        "id": "JiqLcPqVYzjV",
        "colab_type": "code",
        "colab": {},
        "outputId": "86ef648a-6027-4c80-ffa0-8fb9c97d07d9"
      },
      "source": [
        "df['text'].str.findall(r'\\w+day\\b')"
      ],
      "execution_count": null,
      "outputs": [
        {
          "output_type": "execute_result",
          "data": {
            "text/plain": [
              "0       [Monday]\n",
              "1      [Tuesday]\n",
              "2    [Wednesday]\n",
              "3     [Thursday]\n",
              "4       [Friday]\n",
              "Name: text, dtype: object"
            ]
          },
          "metadata": {
            "tags": []
          },
          "execution_count": 82
        }
      ]
    },
    {
      "cell_type": "code",
      "metadata": {
        "id": "z6UkvbFUYzjb",
        "colab_type": "code",
        "colab": {},
        "outputId": "61bedc51-965d-4e6b-d59b-2501389b281b"
      },
      "source": [
        "# replace weekdays with 3 letter abbrevations\n",
        "df['text'].str.replace(r'(\\w+day\\b)', lambda x: x.groups()[0][:3])"
      ],
      "execution_count": null,
      "outputs": [
        {
          "output_type": "execute_result",
          "data": {
            "text/plain": [
              "0          Mon: The doctor's appointment is at 2:45pm.\n",
              "1       Tue: The dentist's appointment is at 11:30 am.\n",
              "2          Wed: At 7:00pm, there is a basketball game!\n",
              "3         Thu: Be back home by 11:15 pm at the latest.\n",
              "4    Fri: Take the train at 08:10 am, arrive at 09:...\n",
              "Name: text, dtype: object"
            ]
          },
          "metadata": {
            "tags": []
          },
          "execution_count": 34
        }
      ]
    },
    {
      "cell_type": "code",
      "metadata": {
        "id": "0K-FMl_wYzji",
        "colab_type": "code",
        "colab": {},
        "outputId": "1510202d-3d04-4c71-8fb9-73d44e1cae86"
      },
      "source": [
        "# create new columns from first match of extracted groups\n",
        "df['text'].str.extract(r'(\\d?\\d):(\\d\\d)')"
      ],
      "execution_count": null,
      "outputs": [
        {
          "output_type": "execute_result",
          "data": {
            "text/html": [
              "<div>\n",
              "<style scoped>\n",
              "    .dataframe tbody tr th:only-of-type {\n",
              "        vertical-align: middle;\n",
              "    }\n",
              "\n",
              "    .dataframe tbody tr th {\n",
              "        vertical-align: top;\n",
              "    }\n",
              "\n",
              "    .dataframe thead th {\n",
              "        text-align: right;\n",
              "    }\n",
              "</style>\n",
              "<table border=\"1\" class=\"dataframe\">\n",
              "  <thead>\n",
              "    <tr style=\"text-align: right;\">\n",
              "      <th></th>\n",
              "      <th>0</th>\n",
              "      <th>1</th>\n",
              "    </tr>\n",
              "  </thead>\n",
              "  <tbody>\n",
              "    <tr>\n",
              "      <th>0</th>\n",
              "      <td>2</td>\n",
              "      <td>45</td>\n",
              "    </tr>\n",
              "    <tr>\n",
              "      <th>1</th>\n",
              "      <td>11</td>\n",
              "      <td>30</td>\n",
              "    </tr>\n",
              "    <tr>\n",
              "      <th>2</th>\n",
              "      <td>7</td>\n",
              "      <td>00</td>\n",
              "    </tr>\n",
              "    <tr>\n",
              "      <th>3</th>\n",
              "      <td>11</td>\n",
              "      <td>15</td>\n",
              "    </tr>\n",
              "    <tr>\n",
              "      <th>4</th>\n",
              "      <td>08</td>\n",
              "      <td>10</td>\n",
              "    </tr>\n",
              "  </tbody>\n",
              "</table>\n",
              "</div>"
            ],
            "text/plain": [
              "    0   1\n",
              "0   2  45\n",
              "1  11  30\n",
              "2   7  00\n",
              "3  11  15\n",
              "4  08  10"
            ]
          },
          "metadata": {
            "tags": []
          },
          "execution_count": 83
        }
      ]
    },
    {
      "cell_type": "code",
      "metadata": {
        "scrolled": true,
        "id": "obeDSHnPYzjp",
        "colab_type": "code",
        "colab": {},
        "outputId": "aee6672b-902e-48a7-d573-0f692a487d8e"
      },
      "source": [
        "# extract the entire time, the hours, the minutes, and the period\n",
        "df['text'].str.extractall(r'((\\d?\\d):(\\d\\d) ?([ap]m))')"
      ],
      "execution_count": null,
      "outputs": [
        {
          "output_type": "execute_result",
          "data": {
            "text/html": [
              "<div>\n",
              "<style scoped>\n",
              "    .dataframe tbody tr th:only-of-type {\n",
              "        vertical-align: middle;\n",
              "    }\n",
              "\n",
              "    .dataframe tbody tr th {\n",
              "        vertical-align: top;\n",
              "    }\n",
              "\n",
              "    .dataframe thead th {\n",
              "        text-align: right;\n",
              "    }\n",
              "</style>\n",
              "<table border=\"1\" class=\"dataframe\">\n",
              "  <thead>\n",
              "    <tr style=\"text-align: right;\">\n",
              "      <th></th>\n",
              "      <th></th>\n",
              "      <th>0</th>\n",
              "      <th>1</th>\n",
              "      <th>2</th>\n",
              "      <th>3</th>\n",
              "    </tr>\n",
              "    <tr>\n",
              "      <th></th>\n",
              "      <th>match</th>\n",
              "      <th></th>\n",
              "      <th></th>\n",
              "      <th></th>\n",
              "      <th></th>\n",
              "    </tr>\n",
              "  </thead>\n",
              "  <tbody>\n",
              "    <tr>\n",
              "      <th>0</th>\n",
              "      <th>0</th>\n",
              "      <td>2:45pm</td>\n",
              "      <td>2</td>\n",
              "      <td>45</td>\n",
              "      <td>pm</td>\n",
              "    </tr>\n",
              "    <tr>\n",
              "      <th>1</th>\n",
              "      <th>0</th>\n",
              "      <td>11:30 am</td>\n",
              "      <td>11</td>\n",
              "      <td>30</td>\n",
              "      <td>am</td>\n",
              "    </tr>\n",
              "    <tr>\n",
              "      <th>2</th>\n",
              "      <th>0</th>\n",
              "      <td>7:00pm</td>\n",
              "      <td>7</td>\n",
              "      <td>00</td>\n",
              "      <td>pm</td>\n",
              "    </tr>\n",
              "    <tr>\n",
              "      <th>3</th>\n",
              "      <th>0</th>\n",
              "      <td>11:15 pm</td>\n",
              "      <td>11</td>\n",
              "      <td>15</td>\n",
              "      <td>pm</td>\n",
              "    </tr>\n",
              "    <tr>\n",
              "      <th rowspan=\"2\" valign=\"top\">4</th>\n",
              "      <th>0</th>\n",
              "      <td>08:10 am</td>\n",
              "      <td>08</td>\n",
              "      <td>10</td>\n",
              "      <td>am</td>\n",
              "    </tr>\n",
              "    <tr>\n",
              "      <th>1</th>\n",
              "      <td>09:00am</td>\n",
              "      <td>09</td>\n",
              "      <td>00</td>\n",
              "      <td>am</td>\n",
              "    </tr>\n",
              "  </tbody>\n",
              "</table>\n",
              "</div>"
            ],
            "text/plain": [
              "                0   1   2   3\n",
              "  match                      \n",
              "0 0        2:45pm   2  45  pm\n",
              "1 0      11:30 am  11  30  am\n",
              "2 0        7:00pm   7  00  pm\n",
              "3 0      11:15 pm  11  15  pm\n",
              "4 0      08:10 am  08  10  am\n",
              "  1       09:00am  09  00  am"
            ]
          },
          "metadata": {
            "tags": []
          },
          "execution_count": 84
        }
      ]
    },
    {
      "cell_type": "code",
      "metadata": {
        "id": "7Nk533LvYzjw",
        "colab_type": "code",
        "colab": {},
        "outputId": "8c9a23f2-267d-49f3-c89d-40436fd4eda9"
      },
      "source": [
        "# extract the entire time, the hours, the minutes, and the period with group names\n",
        "# ?P used to set name of groups here \n",
        "df['text'].str.extractall(r'(?P<time>(?P<hour>\\d?\\d):(?P<minute>\\d\\d) ?(?P<period>[ap]m))')"
      ],
      "execution_count": null,
      "outputs": [
        {
          "output_type": "execute_result",
          "data": {
            "text/html": [
              "<div>\n",
              "<style scoped>\n",
              "    .dataframe tbody tr th:only-of-type {\n",
              "        vertical-align: middle;\n",
              "    }\n",
              "\n",
              "    .dataframe tbody tr th {\n",
              "        vertical-align: top;\n",
              "    }\n",
              "\n",
              "    .dataframe thead th {\n",
              "        text-align: right;\n",
              "    }\n",
              "</style>\n",
              "<table border=\"1\" class=\"dataframe\">\n",
              "  <thead>\n",
              "    <tr style=\"text-align: right;\">\n",
              "      <th></th>\n",
              "      <th></th>\n",
              "      <th>time</th>\n",
              "      <th>hour</th>\n",
              "      <th>minute</th>\n",
              "      <th>period</th>\n",
              "    </tr>\n",
              "    <tr>\n",
              "      <th></th>\n",
              "      <th>match</th>\n",
              "      <th></th>\n",
              "      <th></th>\n",
              "      <th></th>\n",
              "      <th></th>\n",
              "    </tr>\n",
              "  </thead>\n",
              "  <tbody>\n",
              "    <tr>\n",
              "      <th>0</th>\n",
              "      <th>0</th>\n",
              "      <td>2:45pm</td>\n",
              "      <td>2</td>\n",
              "      <td>45</td>\n",
              "      <td>pm</td>\n",
              "    </tr>\n",
              "    <tr>\n",
              "      <th>1</th>\n",
              "      <th>0</th>\n",
              "      <td>11:30 am</td>\n",
              "      <td>11</td>\n",
              "      <td>30</td>\n",
              "      <td>am</td>\n",
              "    </tr>\n",
              "    <tr>\n",
              "      <th>2</th>\n",
              "      <th>0</th>\n",
              "      <td>7:00pm</td>\n",
              "      <td>7</td>\n",
              "      <td>00</td>\n",
              "      <td>pm</td>\n",
              "    </tr>\n",
              "    <tr>\n",
              "      <th>3</th>\n",
              "      <th>0</th>\n",
              "      <td>11:15 pm</td>\n",
              "      <td>11</td>\n",
              "      <td>15</td>\n",
              "      <td>pm</td>\n",
              "    </tr>\n",
              "    <tr>\n",
              "      <th rowspan=\"2\" valign=\"top\">4</th>\n",
              "      <th>0</th>\n",
              "      <td>08:10 am</td>\n",
              "      <td>08</td>\n",
              "      <td>10</td>\n",
              "      <td>am</td>\n",
              "    </tr>\n",
              "    <tr>\n",
              "      <th>1</th>\n",
              "      <td>09:00am</td>\n",
              "      <td>09</td>\n",
              "      <td>00</td>\n",
              "      <td>am</td>\n",
              "    </tr>\n",
              "  </tbody>\n",
              "</table>\n",
              "</div>"
            ],
            "text/plain": [
              "             time hour minute period\n",
              "  match                             \n",
              "0 0        2:45pm    2     45     pm\n",
              "1 0      11:30 am   11     30     am\n",
              "2 0        7:00pm    7     00     pm\n",
              "3 0      11:15 pm   11     15     pm\n",
              "4 0      08:10 am   08     10     am\n",
              "  1       09:00am   09     00     am"
            ]
          },
          "metadata": {
            "tags": []
          },
          "execution_count": 37
        }
      ]
    },
    {
      "cell_type": "markdown",
      "metadata": {
        "id": "Hp2dBYiWYzj3",
        "colab_type": "text"
      },
      "source": [
        "## Basic NLP Tasks with NLTK"
      ]
    },
    {
      "cell_type": "code",
      "metadata": {
        "id": "fsuhIQSiYzj4",
        "colab_type": "code",
        "colab": {},
        "outputId": "bb38da47-d1e2-48de-c3f6-9fccaac0014e"
      },
      "source": [
        "#!pip3 install nltk --user\n",
        "import nltk\n",
        "from nltk.book import *"
      ],
      "execution_count": null,
      "outputs": [
        {
          "output_type": "stream",
          "text": [
            "*** Introductory Examples for the NLTK Book ***\n",
            "Loading text1, ..., text9 and sent1, ..., sent9\n",
            "Type the name of the text or sentence to view it.\n",
            "Type: 'texts()' or 'sents()' to list the materials.\n",
            "text1: Moby Dick by Herman Melville 1851\n",
            "text2: Sense and Sensibility by Jane Austen 1811\n",
            "text3: The Book of Genesis\n",
            "text4: Inaugural Address Corpus\n",
            "text5: Chat Corpus\n",
            "text6: Monty Python and the Holy Grail\n",
            "text7: Wall Street Journal\n",
            "text8: Personals Corpus\n",
            "text9: The Man Who Was Thursday by G . K . Chesterton 1908\n"
          ],
          "name": "stdout"
        }
      ]
    },
    {
      "cell_type": "code",
      "metadata": {
        "id": "wgKkcUmdYzkA",
        "colab_type": "code",
        "colab": {},
        "outputId": "1011690d-ef46-4da4-b3f7-98ec1698beca"
      },
      "source": [
        "nltk.download(\"book\")"
      ],
      "execution_count": null,
      "outputs": [
        {
          "output_type": "stream",
          "text": [
            "[nltk_data] Downloading collection 'book'\n",
            "[nltk_data]    | \n",
            "[nltk_data]    | Downloading package abc to /home/brijesh/nltk_data...\n",
            "[nltk_data]    |   Package abc is already up-to-date!\n",
            "[nltk_data]    | Downloading package brown to\n",
            "[nltk_data]    |     /home/brijesh/nltk_data...\n",
            "[nltk_data]    |   Package brown is already up-to-date!\n",
            "[nltk_data]    | Downloading package chat80 to\n",
            "[nltk_data]    |     /home/brijesh/nltk_data...\n",
            "[nltk_data]    |   Package chat80 is already up-to-date!\n",
            "[nltk_data]    | Downloading package cmudict to\n",
            "[nltk_data]    |     /home/brijesh/nltk_data...\n",
            "[nltk_data]    |   Package cmudict is already up-to-date!\n",
            "[nltk_data]    | Downloading package conll2000 to\n",
            "[nltk_data]    |     /home/brijesh/nltk_data...\n",
            "[nltk_data]    |   Package conll2000 is already up-to-date!\n",
            "[nltk_data]    | Downloading package conll2002 to\n",
            "[nltk_data]    |     /home/brijesh/nltk_data...\n",
            "[nltk_data]    |   Package conll2002 is already up-to-date!\n",
            "[nltk_data]    | Downloading package dependency_treebank to\n",
            "[nltk_data]    |     /home/brijesh/nltk_data...\n",
            "[nltk_data]    |   Package dependency_treebank is already up-to-date!\n",
            "[nltk_data]    | Downloading package genesis to\n",
            "[nltk_data]    |     /home/brijesh/nltk_data...\n",
            "[nltk_data]    |   Package genesis is already up-to-date!\n",
            "[nltk_data]    | Downloading package gutenberg to\n",
            "[nltk_data]    |     /home/brijesh/nltk_data...\n",
            "[nltk_data]    |   Package gutenberg is already up-to-date!\n",
            "[nltk_data]    | Downloading package ieer to\n",
            "[nltk_data]    |     /home/brijesh/nltk_data...\n",
            "[nltk_data]    |   Package ieer is already up-to-date!\n",
            "[nltk_data]    | Downloading package inaugural to\n",
            "[nltk_data]    |     /home/brijesh/nltk_data...\n",
            "[nltk_data]    |   Package inaugural is already up-to-date!\n",
            "[nltk_data]    | Downloading package movie_reviews to\n",
            "[nltk_data]    |     /home/brijesh/nltk_data...\n",
            "[nltk_data]    |   Package movie_reviews is already up-to-date!\n",
            "[nltk_data]    | Downloading package nps_chat to\n",
            "[nltk_data]    |     /home/brijesh/nltk_data...\n",
            "[nltk_data]    |   Package nps_chat is already up-to-date!\n",
            "[nltk_data]    | Downloading package names to\n",
            "[nltk_data]    |     /home/brijesh/nltk_data...\n",
            "[nltk_data]    |   Package names is already up-to-date!\n",
            "[nltk_data]    | Downloading package ppattach to\n",
            "[nltk_data]    |     /home/brijesh/nltk_data...\n",
            "[nltk_data]    |   Package ppattach is already up-to-date!\n",
            "[nltk_data]    | Downloading package reuters to\n",
            "[nltk_data]    |     /home/brijesh/nltk_data...\n",
            "[nltk_data]    |   Package reuters is already up-to-date!\n",
            "[nltk_data]    | Downloading package senseval to\n",
            "[nltk_data]    |     /home/brijesh/nltk_data...\n",
            "[nltk_data]    |   Package senseval is already up-to-date!\n",
            "[nltk_data]    | Downloading package state_union to\n",
            "[nltk_data]    |     /home/brijesh/nltk_data...\n",
            "[nltk_data]    |   Package state_union is already up-to-date!\n",
            "[nltk_data]    | Downloading package stopwords to\n",
            "[nltk_data]    |     /home/brijesh/nltk_data...\n",
            "[nltk_data]    |   Package stopwords is already up-to-date!\n",
            "[nltk_data]    | Downloading package swadesh to\n",
            "[nltk_data]    |     /home/brijesh/nltk_data...\n",
            "[nltk_data]    |   Package swadesh is already up-to-date!\n",
            "[nltk_data]    | Downloading package timit to\n",
            "[nltk_data]    |     /home/brijesh/nltk_data...\n",
            "[nltk_data]    |   Package timit is already up-to-date!\n",
            "[nltk_data]    | Downloading package treebank to\n",
            "[nltk_data]    |     /home/brijesh/nltk_data...\n",
            "[nltk_data]    |   Package treebank is already up-to-date!\n",
            "[nltk_data]    | Downloading package toolbox to\n",
            "[nltk_data]    |     /home/brijesh/nltk_data...\n",
            "[nltk_data]    |   Package toolbox is already up-to-date!\n",
            "[nltk_data]    | Downloading package udhr to\n",
            "[nltk_data]    |     /home/brijesh/nltk_data...\n",
            "[nltk_data]    |   Package udhr is already up-to-date!\n",
            "[nltk_data]    | Downloading package udhr2 to\n",
            "[nltk_data]    |     /home/brijesh/nltk_data...\n",
            "[nltk_data]    |   Package udhr2 is already up-to-date!\n",
            "[nltk_data]    | Downloading package unicode_samples to\n",
            "[nltk_data]    |     /home/brijesh/nltk_data...\n",
            "[nltk_data]    |   Package unicode_samples is already up-to-date!\n",
            "[nltk_data]    | Downloading package webtext to\n",
            "[nltk_data]    |     /home/brijesh/nltk_data...\n",
            "[nltk_data]    |   Package webtext is already up-to-date!\n",
            "[nltk_data]    | Downloading package wordnet to\n",
            "[nltk_data]    |     /home/brijesh/nltk_data...\n",
            "[nltk_data]    |   Package wordnet is already up-to-date!\n",
            "[nltk_data]    | Downloading package wordnet_ic to\n",
            "[nltk_data]    |     /home/brijesh/nltk_data...\n",
            "[nltk_data]    |   Package wordnet_ic is already up-to-date!\n",
            "[nltk_data]    | Downloading package words to\n",
            "[nltk_data]    |     /home/brijesh/nltk_data...\n",
            "[nltk_data]    |   Package words is already up-to-date!\n",
            "[nltk_data]    | Downloading package maxent_treebank_pos_tagger to\n",
            "[nltk_data]    |     /home/brijesh/nltk_data...\n",
            "[nltk_data]    |   Package maxent_treebank_pos_tagger is already up-\n",
            "[nltk_data]    |       to-date!\n",
            "[nltk_data]    | Downloading package maxent_ne_chunker to\n",
            "[nltk_data]    |     /home/brijesh/nltk_data...\n",
            "[nltk_data]    |   Package maxent_ne_chunker is already up-to-date!\n",
            "[nltk_data]    | Downloading package universal_tagset to\n",
            "[nltk_data]    |     /home/brijesh/nltk_data...\n",
            "[nltk_data]    |   Package universal_tagset is already up-to-date!\n",
            "[nltk_data]    | Downloading package punkt to\n",
            "[nltk_data]    |     /home/brijesh/nltk_data...\n",
            "[nltk_data]    |   Package punkt is already up-to-date!\n",
            "[nltk_data]    | Downloading package book_grammars to\n",
            "[nltk_data]    |     /home/brijesh/nltk_data...\n",
            "[nltk_data]    |   Package book_grammars is already up-to-date!\n",
            "[nltk_data]    | Downloading package city_database to\n",
            "[nltk_data]    |     /home/brijesh/nltk_data...\n",
            "[nltk_data]    |   Package city_database is already up-to-date!\n",
            "[nltk_data]    | Downloading package tagsets to\n",
            "[nltk_data]    |     /home/brijesh/nltk_data...\n",
            "[nltk_data]    |   Package tagsets is already up-to-date!\n",
            "[nltk_data]    | Downloading package panlex_swadesh to\n",
            "[nltk_data]    |     /home/brijesh/nltk_data...\n",
            "[nltk_data]    |   Package panlex_swadesh is already up-to-date!\n",
            "[nltk_data]    | Downloading package averaged_perceptron_tagger to\n",
            "[nltk_data]    |     /home/brijesh/nltk_data...\n",
            "[nltk_data]    |   Package averaged_perceptron_tagger is already up-\n",
            "[nltk_data]    |       to-date!\n",
            "[nltk_data]    | \n",
            "[nltk_data]  Done downloading collection book\n"
          ],
          "name": "stderr"
        },
        {
          "output_type": "execute_result",
          "data": {
            "text/plain": [
              "True"
            ]
          },
          "metadata": {
            "tags": []
          },
          "execution_count": 4
        }
      ]
    },
    {
      "cell_type": "markdown",
      "metadata": {
        "id": "2B92sLMiYzkH",
        "colab_type": "text"
      },
      "source": [
        "### Counting vocabulary of words"
      ]
    },
    {
      "cell_type": "code",
      "metadata": {
        "id": "yBM6yRCFYzkJ",
        "colab_type": "code",
        "colab": {},
        "outputId": "9a87ba0c-b796-4f81-e7e9-e0053e2eef0c"
      },
      "source": [
        "texts()"
      ],
      "execution_count": null,
      "outputs": [
        {
          "output_type": "stream",
          "text": [
            "text1: Moby Dick by Herman Melville 1851\n",
            "text2: Sense and Sensibility by Jane Austen 1811\n",
            "text3: The Book of Genesis\n",
            "text4: Inaugural Address Corpus\n",
            "text5: Chat Corpus\n",
            "text6: Monty Python and the Holy Grail\n",
            "text7: Wall Street Journal\n",
            "text8: Personals Corpus\n",
            "text9: The Man Who Was Thursday by G . K . Chesterton 1908\n"
          ],
          "name": "stdout"
        }
      ]
    },
    {
      "cell_type": "code",
      "metadata": {
        "id": "VesFVEYOYzkN",
        "colab_type": "code",
        "colab": {},
        "outputId": "2aa58ea2-65a8-471a-eec1-aa616f7d9dca"
      },
      "source": [
        "sents()"
      ],
      "execution_count": null,
      "outputs": [
        {
          "output_type": "stream",
          "text": [
            "sent1: Call me Ishmael .\n",
            "sent2: The family of Dashwood had long been settled in Sussex .\n",
            "sent3: In the beginning God created the heaven and the earth .\n",
            "sent4: Fellow - Citizens of the Senate and of the House of Representatives :\n",
            "sent5: I have a problem with people PMing me to lol JOIN\n",
            "sent6: SCENE 1 : [ wind ] [ clop clop clop ] KING ARTHUR : Whoa there !\n",
            "sent7: Pierre Vinken , 61 years old , will join the board as a nonexecutive director Nov. 29 .\n",
            "sent8: 25 SEXY MALE , seeks attrac older single lady , for discreet encounters .\n",
            "sent9: THE suburb of Saffron Park lay on the sunset side of London , as red and ragged as a cloud of sunset .\n"
          ],
          "name": "stdout"
        }
      ]
    },
    {
      "cell_type": "code",
      "metadata": {
        "id": "VVV8SJMpYzkS",
        "colab_type": "code",
        "colab": {},
        "outputId": "8b563996-a055-4cd5-d65f-8f863a39826e"
      },
      "source": [
        "text7"
      ],
      "execution_count": null,
      "outputs": [
        {
          "output_type": "execute_result",
          "data": {
            "text/plain": [
              "<Text: Wall Street Journal>"
            ]
          },
          "metadata": {
            "tags": []
          },
          "execution_count": 7
        }
      ]
    },
    {
      "cell_type": "code",
      "metadata": {
        "id": "_HTHi2qQYzkY",
        "colab_type": "code",
        "colab": {},
        "outputId": "61736b02-2ad9-453e-a3b3-ab93ce859ea0"
      },
      "source": [
        "sent7"
      ],
      "execution_count": null,
      "outputs": [
        {
          "output_type": "execute_result",
          "data": {
            "text/plain": [
              "['Pierre',\n",
              " 'Vinken',\n",
              " ',',\n",
              " '61',\n",
              " 'years',\n",
              " 'old',\n",
              " ',',\n",
              " 'will',\n",
              " 'join',\n",
              " 'the',\n",
              " 'board',\n",
              " 'as',\n",
              " 'a',\n",
              " 'nonexecutive',\n",
              " 'director',\n",
              " 'Nov.',\n",
              " '29',\n",
              " '.']"
            ]
          },
          "metadata": {
            "tags": []
          },
          "execution_count": 8
        }
      ]
    },
    {
      "cell_type": "code",
      "metadata": {
        "id": "BD6dKH1nYzkc",
        "colab_type": "code",
        "colab": {},
        "outputId": "417a0125-4636-4dc0-add2-9e6ae0515551"
      },
      "source": [
        "len(sent7)"
      ],
      "execution_count": null,
      "outputs": [
        {
          "output_type": "execute_result",
          "data": {
            "text/plain": [
              "18"
            ]
          },
          "metadata": {
            "tags": []
          },
          "execution_count": 9
        }
      ]
    },
    {
      "cell_type": "code",
      "metadata": {
        "id": "1GXf0H1AYzkh",
        "colab_type": "code",
        "colab": {},
        "outputId": "617d0a1e-d558-4e6c-a1eb-d4f10a71b55b"
      },
      "source": [
        "len(text7)"
      ],
      "execution_count": null,
      "outputs": [
        {
          "output_type": "execute_result",
          "data": {
            "text/plain": [
              "100676"
            ]
          },
          "metadata": {
            "tags": []
          },
          "execution_count": 10
        }
      ]
    },
    {
      "cell_type": "code",
      "metadata": {
        "id": "DEoUbbqoYzkm",
        "colab_type": "code",
        "colab": {},
        "outputId": "d9e6f4ff-9aa1-4156-b719-c36153f8f147"
      },
      "source": [
        "len(set(text7))"
      ],
      "execution_count": null,
      "outputs": [
        {
          "output_type": "execute_result",
          "data": {
            "text/plain": [
              "12408"
            ]
          },
          "metadata": {
            "tags": []
          },
          "execution_count": 11
        }
      ]
    },
    {
      "cell_type": "code",
      "metadata": {
        "id": "4MwJvdP0Yzkr",
        "colab_type": "code",
        "colab": {},
        "outputId": "01f66efd-0766-4ae4-f414-c2e3f175e490"
      },
      "source": [
        "list(set(text7))[:10]"
      ],
      "execution_count": null,
      "outputs": [
        {
          "output_type": "execute_result",
          "data": {
            "text/plain": [
              "['99',\n",
              " '630.9',\n",
              " 'Gorbachev',\n",
              " 'hill',\n",
              " 'important',\n",
              " 'handed',\n",
              " 'options',\n",
              " '*-9',\n",
              " 'Oliver',\n",
              " 'Roman']"
            ]
          },
          "metadata": {
            "tags": []
          },
          "execution_count": 12
        }
      ]
    },
    {
      "cell_type": "markdown",
      "metadata": {
        "id": "fSI6t3flYzkw",
        "colab_type": "text"
      },
      "source": [
        "### Frequency of words"
      ]
    },
    {
      "cell_type": "code",
      "metadata": {
        "id": "yy4T8FP9Yzkw",
        "colab_type": "code",
        "colab": {},
        "outputId": "65f57e81-6a6c-4349-d162-4ae06cd01ed8"
      },
      "source": [
        "dist = FreqDist(text7)\n",
        "len(dist)"
      ],
      "execution_count": null,
      "outputs": [
        {
          "output_type": "execute_result",
          "data": {
            "text/plain": [
              "12408"
            ]
          },
          "metadata": {
            "tags": []
          },
          "execution_count": 13
        }
      ]
    },
    {
      "cell_type": "code",
      "metadata": {
        "id": "UsWZH6TiYzk3",
        "colab_type": "code",
        "colab": {}
      },
      "source": [
        "#len({\"brijesh\":2, \"an\":100})"
      ],
      "execution_count": null,
      "outputs": []
    },
    {
      "cell_type": "code",
      "metadata": {
        "id": "zyh17xC4Yzk8",
        "colab_type": "code",
        "colab": {},
        "outputId": "e56f56f1-0f8b-4865-b869-f808ff671a41"
      },
      "source": [
        "type(dist)"
      ],
      "execution_count": null,
      "outputs": [
        {
          "output_type": "execute_result",
          "data": {
            "text/plain": [
              "nltk.probability.FreqDist"
            ]
          },
          "metadata": {
            "tags": []
          },
          "execution_count": 15
        }
      ]
    },
    {
      "cell_type": "code",
      "metadata": {
        "id": "yZNY448VYzlA",
        "colab_type": "code",
        "colab": {}
      },
      "source": [
        "#dist"
      ],
      "execution_count": null,
      "outputs": []
    },
    {
      "cell_type": "code",
      "metadata": {
        "id": "bBS1f2njYzlG",
        "colab_type": "code",
        "colab": {},
        "outputId": "dd64bd3f-c480-4d91-cebb-8378e05a44c9"
      },
      "source": [
        "vocab1 = dist.keys()\n",
        "#vocab1\n",
        "# In Python 3 dict.keys() returns an iterable view instead of a list\n",
        "list(vocab1)[:10]"
      ],
      "execution_count": null,
      "outputs": [
        {
          "output_type": "execute_result",
          "data": {
            "text/plain": [
              "['Pierre', 'Vinken', ',', '61', 'years', 'old', 'will', 'join', 'the', 'board']"
            ]
          },
          "metadata": {
            "tags": []
          },
          "execution_count": 17
        }
      ]
    },
    {
      "cell_type": "code",
      "metadata": {
        "id": "XLYXAUEZYzlL",
        "colab_type": "code",
        "colab": {},
        "outputId": "900c251d-95bb-487b-a858-97a9ef90b257"
      },
      "source": [
        "dist['four']"
      ],
      "execution_count": null,
      "outputs": [
        {
          "output_type": "execute_result",
          "data": {
            "text/plain": [
              "20"
            ]
          },
          "metadata": {
            "tags": []
          },
          "execution_count": 18
        }
      ]
    },
    {
      "cell_type": "code",
      "metadata": {
        "id": "zel6kQfcYzlT",
        "colab_type": "code",
        "colab": {},
        "outputId": "337042dd-2b84-494d-91c2-ce625976c7c4"
      },
      "source": [
        "dist['refused']"
      ],
      "execution_count": null,
      "outputs": [
        {
          "output_type": "execute_result",
          "data": {
            "text/plain": [
              "7"
            ]
          },
          "metadata": {
            "tags": []
          },
          "execution_count": 19
        }
      ]
    },
    {
      "cell_type": "code",
      "metadata": {
        "id": "uLkKJFAZYzlX",
        "colab_type": "code",
        "colab": {},
        "outputId": "1b5eed28-1de7-4591-9f17-a2125542b47a"
      },
      "source": [
        "freqwords = [w for w in vocab1 if len(w) > 5 and dist[w] > 100]\n",
        "freqwords"
      ],
      "execution_count": null,
      "outputs": [
        {
          "output_type": "execute_result",
          "data": {
            "text/plain": [
              "['billion',\n",
              " 'company',\n",
              " 'president',\n",
              " 'because',\n",
              " 'market',\n",
              " 'million',\n",
              " 'shares',\n",
              " 'trading',\n",
              " 'program']"
            ]
          },
          "metadata": {
            "tags": []
          },
          "execution_count": 20
        }
      ]
    },
    {
      "cell_type": "code",
      "metadata": {
        "id": "lJPJCb2gYzlc",
        "colab_type": "code",
        "colab": {},
        "outputId": "f4c6abe0-ac59-474d-ce49-f9f6cfab0a67"
      },
      "source": [
        "[w for w in vocab1 if w.startswith(\"great\")]"
      ],
      "execution_count": null,
      "outputs": [
        {
          "output_type": "execute_result",
          "data": {
            "text/plain": [
              "['greater', 'great', 'greatly', 'greatest']"
            ]
          },
          "metadata": {
            "tags": []
          },
          "execution_count": 21
        }
      ]
    },
    {
      "cell_type": "code",
      "metadata": {
        "id": "irNskq3rYzlg",
        "colab_type": "code",
        "colab": {}
      },
      "source": [
        ""
      ],
      "execution_count": null,
      "outputs": []
    },
    {
      "cell_type": "markdown",
      "metadata": {
        "id": "1KDSdt1aYzlk",
        "colab_type": "text"
      },
      "source": [
        "### Normalization and stemming"
      ]
    },
    {
      "cell_type": "code",
      "metadata": {
        "id": "HlH29UQxYzlm",
        "colab_type": "code",
        "colab": {},
        "outputId": "e7fe4c22-27d7-4b18-e6ab-f2d6937c6b92"
      },
      "source": [
        "input1 = \"List listed lists listing listings\"\n",
        "words1 = input1.lower().split(' ')\n",
        "words1"
      ],
      "execution_count": null,
      "outputs": [
        {
          "output_type": "execute_result",
          "data": {
            "text/plain": [
              "['list', 'listed', 'lists', 'listing', 'listings']"
            ]
          },
          "metadata": {
            "tags": []
          },
          "execution_count": 22
        }
      ]
    },
    {
      "cell_type": "code",
      "metadata": {
        "id": "qbTYt-KNYzl_",
        "colab_type": "code",
        "colab": {},
        "outputId": "26f1d6ae-8ecd-435f-a3e4-a9d9a31f50c9"
      },
      "source": [
        "porter = nltk.PorterStemmer()\n",
        "[porter.stem(t) for t in words1]"
      ],
      "execution_count": null,
      "outputs": [
        {
          "output_type": "execute_result",
          "data": {
            "text/plain": [
              "['list', 'list', 'list', 'list', 'list']"
            ]
          },
          "metadata": {
            "tags": []
          },
          "execution_count": 23
        }
      ]
    },
    {
      "cell_type": "code",
      "metadata": {
        "id": "XcFghM5dYzmD",
        "colab_type": "code",
        "colab": {},
        "outputId": "c503b8de-4b10-4df9-f999-cc5104472b25"
      },
      "source": [
        "input1 = \"procedure procedural\"\n",
        "words1 = input1.lower().split(' ')\n",
        "words1\n",
        "[porter.stem(t) for t in words1]"
      ],
      "execution_count": null,
      "outputs": [
        {
          "output_type": "execute_result",
          "data": {
            "text/plain": [
              "['procedur', 'procedur']"
            ]
          },
          "metadata": {
            "tags": []
          },
          "execution_count": 24
        }
      ]
    },
    {
      "cell_type": "markdown",
      "metadata": {
        "id": "DDRLWg3sYzmH",
        "colab_type": "text"
      },
      "source": [
        "### Lemmatization"
      ]
    },
    {
      "cell_type": "code",
      "metadata": {
        "id": "jTEQS1LQYzmJ",
        "colab_type": "code",
        "colab": {},
        "outputId": "9bc3ae4a-cd84-4b73-f853-f4b1f40be693"
      },
      "source": [
        "udhr = nltk.corpus.udhr.words('English-Latin1')\n",
        "udhr[:20]"
      ],
      "execution_count": null,
      "outputs": [
        {
          "output_type": "execute_result",
          "data": {
            "text/plain": [
              "['Universal',\n",
              " 'Declaration',\n",
              " 'of',\n",
              " 'Human',\n",
              " 'Rights',\n",
              " 'Preamble',\n",
              " 'Whereas',\n",
              " 'recognition',\n",
              " 'of',\n",
              " 'the',\n",
              " 'inherent',\n",
              " 'dignity',\n",
              " 'and',\n",
              " 'of',\n",
              " 'the',\n",
              " 'equal',\n",
              " 'and',\n",
              " 'inalienable',\n",
              " 'rights',\n",
              " 'of']"
            ]
          },
          "metadata": {
            "tags": []
          },
          "execution_count": 25
        }
      ]
    },
    {
      "cell_type": "code",
      "metadata": {
        "scrolled": true,
        "id": "nB1-NXEPYzmL",
        "colab_type": "code",
        "colab": {},
        "outputId": "fb6276b7-a8c1-49ae-fbcd-dee8bc2f11c6"
      },
      "source": [
        "[porter.stem(t) for t in udhr[:20]] # Still Lemmatization"
      ],
      "execution_count": null,
      "outputs": [
        {
          "output_type": "execute_result",
          "data": {
            "text/plain": [
              "['univers',\n",
              " 'declar',\n",
              " 'of',\n",
              " 'human',\n",
              " 'right',\n",
              " 'preambl',\n",
              " 'wherea',\n",
              " 'recognit',\n",
              " 'of',\n",
              " 'the',\n",
              " 'inher',\n",
              " 'digniti',\n",
              " 'and',\n",
              " 'of',\n",
              " 'the',\n",
              " 'equal',\n",
              " 'and',\n",
              " 'inalien',\n",
              " 'right',\n",
              " 'of']"
            ]
          },
          "metadata": {
            "tags": []
          },
          "execution_count": 26
        }
      ]
    },
    {
      "cell_type": "code",
      "metadata": {
        "scrolled": true,
        "id": "WK5LuH2wYzmP",
        "colab_type": "code",
        "colab": {},
        "outputId": "12d77e6f-32ff-4573-d485-2e1c89a7d2de"
      },
      "source": [
        "udhr[:20]"
      ],
      "execution_count": null,
      "outputs": [
        {
          "output_type": "execute_result",
          "data": {
            "text/plain": [
              "['Universal',\n",
              " 'Declaration',\n",
              " 'of',\n",
              " 'Human',\n",
              " 'Rights',\n",
              " 'Preamble',\n",
              " 'Whereas',\n",
              " 'recognition',\n",
              " 'of',\n",
              " 'the',\n",
              " 'inherent',\n",
              " 'dignity',\n",
              " 'and',\n",
              " 'of',\n",
              " 'the',\n",
              " 'equal',\n",
              " 'and',\n",
              " 'inalienable',\n",
              " 'rights',\n",
              " 'of']"
            ]
          },
          "metadata": {
            "tags": []
          },
          "execution_count": 27
        }
      ]
    },
    {
      "cell_type": "markdown",
      "metadata": {
        "id": "ybpaCSKkYzmS",
        "colab_type": "text"
      },
      "source": [
        "https://en.wikipedia.org/wiki/WordNet\n",
        "\n",
        "https://wordnet.princeton.edu/"
      ]
    },
    {
      "cell_type": "code",
      "metadata": {
        "id": "1fdrkxEvYzmU",
        "colab_type": "code",
        "colab": {},
        "outputId": "de26aaa9-975d-412b-cdb8-a764441c4aef"
      },
      "source": [
        "WNlemma = nltk.WordNetLemmatizer()\n",
        "[WNlemma.lemmatize(t) for t in udhr[:20]]"
      ],
      "execution_count": null,
      "outputs": [
        {
          "output_type": "execute_result",
          "data": {
            "text/plain": [
              "['Universal',\n",
              " 'Declaration',\n",
              " 'of',\n",
              " 'Human',\n",
              " 'Rights',\n",
              " 'Preamble',\n",
              " 'Whereas',\n",
              " 'recognition',\n",
              " 'of',\n",
              " 'the',\n",
              " 'inherent',\n",
              " 'dignity',\n",
              " 'and',\n",
              " 'of',\n",
              " 'the',\n",
              " 'equal',\n",
              " 'and',\n",
              " 'inalienable',\n",
              " 'right',\n",
              " 'of']"
            ]
          },
          "metadata": {
            "tags": []
          },
          "execution_count": 28
        }
      ]
    },
    {
      "cell_type": "markdown",
      "metadata": {
        "id": "50fkXmHrYzmZ",
        "colab_type": "text"
      },
      "source": [
        "### Tokenization"
      ]
    },
    {
      "cell_type": "code",
      "metadata": {
        "id": "yUw2hGviYzmZ",
        "colab_type": "code",
        "colab": {},
        "outputId": "5bf3be8c-b655-4552-953c-cb5990766223"
      },
      "source": [
        "text11 = \"Children shouldn't drink a sugary drink before bed.\"\n",
        "text11.split(' ')"
      ],
      "execution_count": null,
      "outputs": [
        {
          "output_type": "execute_result",
          "data": {
            "text/plain": [
              "['Children', \"shouldn't\", 'drink', 'a', 'sugary', 'drink', 'before', 'bed.']"
            ]
          },
          "metadata": {
            "tags": []
          },
          "execution_count": 29
        }
      ]
    },
    {
      "cell_type": "code",
      "metadata": {
        "id": "aOJHS9wkYzmd",
        "colab_type": "code",
        "colab": {},
        "outputId": "e1ecb401-6ce7-4a47-9243-aa03bacde557"
      },
      "source": [
        "nltk.word_tokenize(text11)"
      ],
      "execution_count": null,
      "outputs": [
        {
          "output_type": "execute_result",
          "data": {
            "text/plain": [
              "['Children',\n",
              " 'should',\n",
              " \"n't\",\n",
              " 'drink',\n",
              " 'a',\n",
              " 'sugary',\n",
              " 'drink',\n",
              " 'before',\n",
              " 'bed',\n",
              " '.']"
            ]
          },
          "metadata": {
            "tags": []
          },
          "execution_count": 30
        }
      ]
    },
    {
      "cell_type": "code",
      "metadata": {
        "id": "FxgFubLcYzmg",
        "colab_type": "code",
        "colab": {},
        "outputId": "2fc38d2e-32ef-4deb-b1e7-431c86d6e0ae"
      },
      "source": [
        "text12 = \"This is the first sentence. A gallon of milk in the U.S. costs $2.99. Is this the third sentence? Yes, it is!\"\n",
        "sentences = nltk.sent_tokenize(text12)\n",
        "len(sentences)"
      ],
      "execution_count": null,
      "outputs": [
        {
          "output_type": "execute_result",
          "data": {
            "text/plain": [
              "4"
            ]
          },
          "metadata": {
            "tags": []
          },
          "execution_count": 31
        }
      ]
    },
    {
      "cell_type": "code",
      "metadata": {
        "id": "z6G3wb_LYzmk",
        "colab_type": "code",
        "colab": {},
        "outputId": "13475e6c-dd94-493e-83dd-19a2bc7b7a7b"
      },
      "source": [
        "text12.split(\".\")"
      ],
      "execution_count": null,
      "outputs": [
        {
          "output_type": "execute_result",
          "data": {
            "text/plain": [
              "['This is the first sentence',\n",
              " ' A gallon of milk in the U',\n",
              " 'S',\n",
              " ' costs $2',\n",
              " '99',\n",
              " ' Is this the third sentence? Yes, it is!']"
            ]
          },
          "metadata": {
            "tags": []
          },
          "execution_count": 32
        }
      ]
    },
    {
      "cell_type": "code",
      "metadata": {
        "id": "bZo8Ybz9Yzmo",
        "colab_type": "code",
        "colab": {},
        "outputId": "3b2fdb90-1554-4b17-954e-358bcf519ad4"
      },
      "source": [
        "sentences"
      ],
      "execution_count": null,
      "outputs": [
        {
          "output_type": "execute_result",
          "data": {
            "text/plain": [
              "['This is the first sentence.',\n",
              " 'A gallon of milk in the U.S. costs $2.99.',\n",
              " 'Is this the third sentence?',\n",
              " 'Yes, it is!']"
            ]
          },
          "metadata": {
            "tags": []
          },
          "execution_count": 33
        }
      ]
    },
    {
      "cell_type": "markdown",
      "metadata": {
        "id": "AuvnPP-sYzmu",
        "colab_type": "text"
      },
      "source": [
        "## Advanced NLP Tasks with NLTK"
      ]
    },
    {
      "cell_type": "markdown",
      "metadata": {
        "id": "Ls7lL86cYzmv",
        "colab_type": "text"
      },
      "source": [
        "### POS tagging"
      ]
    },
    {
      "cell_type": "markdown",
      "metadata": {
        "id": "ipgt3bj4Yzmv",
        "colab_type": "text"
      },
      "source": [
        "https://cs.nyu.edu/grishman/jet/guide/PennPOS.html"
      ]
    },
    {
      "cell_type": "code",
      "metadata": {
        "id": "cVYfBi1wYzmw",
        "colab_type": "code",
        "colab": {},
        "outputId": "0226f230-a458-4a53-9a65-30f03f625986"
      },
      "source": [
        "nltk.help.upenn_tagset('MD')"
      ],
      "execution_count": null,
      "outputs": [
        {
          "output_type": "stream",
          "text": [
            "MD: modal auxiliary\n",
            "    can cannot could couldn't dare may might must need ought shall should\n",
            "    shouldn't will would\n"
          ],
          "name": "stdout"
        }
      ]
    },
    {
      "cell_type": "code",
      "metadata": {
        "id": "fEU3ozlYYzm0",
        "colab_type": "code",
        "colab": {},
        "outputId": "ebdc8385-cab1-48b6-d929-aa103fb089bb"
      },
      "source": [
        "nltk.help.upenn_tagset('RB')"
      ],
      "execution_count": null,
      "outputs": [
        {
          "output_type": "stream",
          "text": [
            "RB: adverb\n",
            "    occasionally unabatingly maddeningly adventurously professedly\n",
            "    stirringly prominently technologically magisterially predominately\n",
            "    swiftly fiscally pitilessly ...\n"
          ],
          "name": "stdout"
        }
      ]
    },
    {
      "cell_type": "code",
      "metadata": {
        "id": "kVkVOdV1Yzm5",
        "colab_type": "code",
        "colab": {},
        "outputId": "95792c87-2245-4f67-db81-3853725d4676"
      },
      "source": [
        "text11"
      ],
      "execution_count": null,
      "outputs": [
        {
          "output_type": "execute_result",
          "data": {
            "text/plain": [
              "\"Children shouldn't drink a sugary drink before bed.\""
            ]
          },
          "metadata": {
            "tags": []
          },
          "execution_count": 36
        }
      ]
    },
    {
      "cell_type": "code",
      "metadata": {
        "id": "EAbIFXppYznD",
        "colab_type": "code",
        "colab": {},
        "outputId": "491790c7-79f9-410d-e21c-c30d2c2e1c12"
      },
      "source": [
        "text13=nltk.word_tokenize(text11)\n",
        "nltk.pos_tag(text13)"
      ],
      "execution_count": null,
      "outputs": [
        {
          "output_type": "execute_result",
          "data": {
            "text/plain": [
              "[('Children', 'NNP'),\n",
              " ('should', 'MD'),\n",
              " (\"n't\", 'RB'),\n",
              " ('drink', 'VB'),\n",
              " ('a', 'DT'),\n",
              " ('sugary', 'JJ'),\n",
              " ('drink', 'NN'),\n",
              " ('before', 'IN'),\n",
              " ('bed', 'NN'),\n",
              " ('.', '.')]"
            ]
          },
          "metadata": {
            "tags": []
          },
          "execution_count": 37
        }
      ]
    },
    {
      "cell_type": "code",
      "metadata": {
        "id": "CgTAD7RqYznH",
        "colab_type": "code",
        "colab": {},
        "outputId": "61bb7d0e-5e4b-4c78-d793-07a54b56bb61"
      },
      "source": [
        "text13"
      ],
      "execution_count": null,
      "outputs": [
        {
          "output_type": "execute_result",
          "data": {
            "text/plain": [
              "['Children',\n",
              " 'should',\n",
              " \"n't\",\n",
              " 'drink',\n",
              " 'a',\n",
              " 'sugary',\n",
              " 'drink',\n",
              " 'before',\n",
              " 'bed',\n",
              " '.']"
            ]
          },
          "metadata": {
            "tags": []
          },
          "execution_count": 38
        }
      ]
    },
    {
      "cell_type": "code",
      "metadata": {
        "id": "Pi0Dc-jPYznL",
        "colab_type": "code",
        "colab": {},
        "outputId": "cc94331e-c0d5-4262-814b-72b8631fe1f7"
      },
      "source": [
        "nltk.help.upenn_tagset('DT')"
      ],
      "execution_count": null,
      "outputs": [
        {
          "output_type": "stream",
          "text": [
            "DT: determiner\n",
            "    all an another any both del each either every half la many much nary\n",
            "    neither no some such that the them these this those\n"
          ],
          "name": "stdout"
        }
      ]
    },
    {
      "cell_type": "code",
      "metadata": {
        "scrolled": true,
        "id": "GxAb3x6MYznP",
        "colab_type": "code",
        "colab": {},
        "outputId": "1db75f4b-3c87-4dca-a646-3f00a2ec1718"
      },
      "source": [
        "text14 = nltk.word_tokenize(\"Visiting aunts can be a nuisance\")\n",
        "nltk.pos_tag(text14)"
      ],
      "execution_count": null,
      "outputs": [
        {
          "output_type": "execute_result",
          "data": {
            "text/plain": [
              "[('Visiting', 'VBG'),\n",
              " ('aunts', 'NNS'),\n",
              " ('can', 'MD'),\n",
              " ('be', 'VB'),\n",
              " ('a', 'DT'),\n",
              " ('nuisance', 'NN')]"
            ]
          },
          "metadata": {
            "tags": []
          },
          "execution_count": 40
        }
      ]
    },
    {
      "cell_type": "code",
      "metadata": {
        "scrolled": false,
        "id": "MaBNgwOhYznS",
        "colab_type": "code",
        "colab": {},
        "outputId": "5c60b71a-24ff-4db6-db55-2efb0d1c356a"
      },
      "source": [
        "nltk.help.upenn_tagset('VBG')"
      ],
      "execution_count": null,
      "outputs": [
        {
          "output_type": "stream",
          "text": [
            "VBG: verb, present participle or gerund\n",
            "    telegraphing stirring focusing angering judging stalling lactating\n",
            "    hankerin' alleging veering capping approaching traveling besieging\n",
            "    encrypting interrupting erasing wincing ...\n"
          ],
          "name": "stdout"
        }
      ]
    },
    {
      "cell_type": "markdown",
      "metadata": {
        "id": "3iH-q3HlYznW",
        "colab_type": "text"
      },
      "source": [
        "### POS tagging and parsing ambiguity"
      ]
    },
    {
      "cell_type": "code",
      "metadata": {
        "id": "WX8pe6E_YznX",
        "colab_type": "code",
        "colab": {},
        "outputId": "dd492717-4f7f-4d71-c8bd-461ddc4cb3bb"
      },
      "source": [
        "text18 = nltk.word_tokenize(\"The old man the boat\")\n",
        "nltk.pos_tag(text18)"
      ],
      "execution_count": null,
      "outputs": [
        {
          "output_type": "execute_result",
          "data": {
            "text/plain": [
              "[('The', 'DT'), ('old', 'JJ'), ('man', 'NN'), ('the', 'DT'), ('boat', 'NN')]"
            ]
          },
          "metadata": {
            "tags": []
          },
          "execution_count": 51
        }
      ]
    },
    {
      "cell_type": "code",
      "metadata": {
        "id": "VCZoG5uUYzna",
        "colab_type": "code",
        "colab": {},
        "outputId": "6bee870a-254e-4dc3-ff3e-93ff55c9f55e"
      },
      "source": [
        "nltk.help.upenn_tagset('DT')"
      ],
      "execution_count": null,
      "outputs": [
        {
          "output_type": "stream",
          "text": [
            "DT: determiner\n",
            "    all an another any both del each either every half la many much nary\n",
            "    neither no some such that the them these this those\n"
          ],
          "name": "stdout"
        }
      ]
    },
    {
      "cell_type": "code",
      "metadata": {
        "scrolled": true,
        "id": "Sc4bt2ACYznd",
        "colab_type": "code",
        "colab": {},
        "outputId": "dd9fae38-8d7f-42b3-8da9-ad480dc7a17e"
      },
      "source": [
        "text19 = nltk.word_tokenize(\"Colorless green ideas sleep furiously\")\n",
        "nltk.pos_tag(text19)"
      ],
      "execution_count": null,
      "outputs": [
        {
          "output_type": "execute_result",
          "data": {
            "text/plain": [
              "[('Colorless', 'NNP'),\n",
              " ('green', 'JJ'),\n",
              " ('ideas', 'NNS'),\n",
              " ('sleep', 'VBP'),\n",
              " ('furiously', 'RB')]"
            ]
          },
          "metadata": {
            "tags": []
          },
          "execution_count": 53
        }
      ]
    },
    {
      "cell_type": "markdown",
      "metadata": {
        "id": "jTPjdJw0Yzni",
        "colab_type": "text"
      },
      "source": [
        "### Identify named entities: Named Entity Recognition (NER)"
      ]
    },
    {
      "cell_type": "code",
      "metadata": {
        "id": "idzzMtk4Yznj",
        "colab_type": "code",
        "colab": {},
        "outputId": "68e92124-fec8-44e4-e04c-28d26ac718b6"
      },
      "source": [
        "import nltk \n",
        "#sentence = \"\"\"At eight o'clock on Thursday \n",
        "#morning Arthur didn't feel very good.\"\"\"\n",
        "\n",
        "#sentence=\"Rajesh travelled to Ladak, he had a great travel experience\"\n",
        "sentence=\"Sathya leads Microsoft inc\"\n",
        "sentence=\"Sathya is a great leader and he leads Microsoft inc\"\n",
        "\n",
        "#sentence=\"John leads Microsoft inc\"\n",
        "\n",
        "\n",
        "tokens = nltk.word_tokenize(sentence)\n",
        "tagged = nltk.pos_tag(tokens)\n",
        "entities = nltk.chunk.ne_chunk(tagged)\n",
        "entities"
      ],
      "execution_count": null,
      "outputs": [
        {
          "output_type": "execute_result",
          "data": {
            "image/png": "[encoded data removed]",
            "text/plain": [
              "Tree('S', [Tree('GPE', [('Sathya', 'NNP')]), ('is', 'VBZ'), ('a', 'DT'), ('great', 'JJ'), ('leader', 'NN'), ('and', 'CC'), ('he', 'PRP'), ('leads', 'VBZ'), Tree('ORGANIZATION', [('Microsoft', 'NNP')]), ('inc', 'NN')])"
            ]
          },
          "metadata": {
            "tags": []
          },
          "execution_count": 54
        }
      ]
    },
    {
      "cell_type": "code",
      "metadata": {
        "id": "jlghZAFgYznn",
        "colab_type": "code",
        "colab": {},
        "outputId": "71426b34-ad5b-4b85-bf76-fafcdf0e0217"
      },
      "source": [
        "?nltk.chunk.ne_chunk"
      ],
      "execution_count": null,
      "outputs": [
        {
          "output_type": "display_data",
          "data": {
            "text/plain": [
              "\u001b[0;31mSignature:\u001b[0m \u001b[0mnltk\u001b[0m\u001b[0;34m.\u001b[0m\u001b[0mchunk\u001b[0m\u001b[0;34m.\u001b[0m\u001b[0mne_chunk\u001b[0m\u001b[0;34m(\u001b[0m\u001b[0mtagged_tokens\u001b[0m\u001b[0;34m,\u001b[0m \u001b[0mbinary\u001b[0m\u001b[0;34m=\u001b[0m\u001b[0;32mFalse\u001b[0m\u001b[0;34m)\u001b[0m\u001b[0;34m\u001b[0m\u001b[0;34m\u001b[0m\u001b[0m\n",
              "\u001b[0;31mDocstring:\u001b[0m\n",
              "Use NLTK's currently recommended named entity chunker to\n",
              "chunk the given list of tagged tokens.\n",
              "\u001b[0;31mFile:\u001b[0m      ~/.local/lib/python3.6/site-packages/nltk/chunk/__init__.py\n",
              "\u001b[0;31mType:\u001b[0m      function\n"
            ]
          },
          "metadata": {
            "tags": []
          }
        }
      ]
    },
    {
      "cell_type": "markdown",
      "metadata": {
        "id": "yYLC8LukYzns",
        "colab_type": "text"
      },
      "source": [
        "# Case Study: Sentiment Analysis"
      ]
    },
    {
      "cell_type": "markdown",
      "metadata": {
        "id": "CSYFn3ZDYznt",
        "colab_type": "text"
      },
      "source": [
        "Raw data\n",
        "\n",
        "https://goo.gl/1Bxhns"
      ]
    },
    {
      "cell_type": "markdown",
      "metadata": {
        "id": "z1bIKYQ1Yznu",
        "colab_type": "text"
      },
      "source": [
        "### Data Prep"
      ]
    },
    {
      "cell_type": "code",
      "metadata": {
        "scrolled": true,
        "id": "mgAKFxaWYznu",
        "colab_type": "code",
        "colab": {},
        "outputId": "d4fd7648-9f2f-4830-d8b8-197e803a3fc9"
      },
      "source": [
        "import pandas as pd\n",
        "import numpy as np\n",
        "\n",
        "# Read in the data\n",
        "df = pd.read_csv('Amazon_Unlocked_Mobile.csv')\n",
        "#print(len(df))\n",
        "# Sample the data to speed up computation\n",
        "# Comment out this line to match with lecture\n",
        "df = df.sample(frac=0.1,  random_state=10)\n",
        "#print(len(df))\n",
        "\n",
        "df.head()"
      ],
      "execution_count": null,
      "outputs": [
        {
          "output_type": "execute_result",
          "data": {
            "text/html": [
              "<div>\n",
              "<style scoped>\n",
              "    .dataframe tbody tr th:only-of-type {\n",
              "        vertical-align: middle;\n",
              "    }\n",
              "\n",
              "    .dataframe tbody tr th {\n",
              "        vertical-align: top;\n",
              "    }\n",
              "\n",
              "    .dataframe thead th {\n",
              "        text-align: right;\n",
              "    }\n",
              "</style>\n",
              "<table border=\"1\" class=\"dataframe\">\n",
              "  <thead>\n",
              "    <tr style=\"text-align: right;\">\n",
              "      <th></th>\n",
              "      <th>Product Name</th>\n",
              "      <th>Brand Name</th>\n",
              "      <th>Price</th>\n",
              "      <th>Rating</th>\n",
              "      <th>Reviews</th>\n",
              "      <th>Review Votes</th>\n",
              "    </tr>\n",
              "  </thead>\n",
              "  <tbody>\n",
              "    <tr>\n",
              "      <th>394349</th>\n",
              "      <td>Sony XPERIA Z2 D6503 FACTORY UNLOCKED Internat...</td>\n",
              "      <td>NaN</td>\n",
              "      <td>244.95</td>\n",
              "      <td>5</td>\n",
              "      <td>Very good one! Better than Samsung S and iphon...</td>\n",
              "      <td>0.0</td>\n",
              "    </tr>\n",
              "    <tr>\n",
              "      <th>34377</th>\n",
              "      <td>Apple iPhone 5c 8GB (Pink) - Verizon Wireless</td>\n",
              "      <td>Apple</td>\n",
              "      <td>194.99</td>\n",
              "      <td>1</td>\n",
              "      <td>The phone needed a SIM card, would have been n...</td>\n",
              "      <td>1.0</td>\n",
              "    </tr>\n",
              "    <tr>\n",
              "      <th>248521</th>\n",
              "      <td>Motorola Droid RAZR MAXX XT912 M Verizon Smart...</td>\n",
              "      <td>Motorola</td>\n",
              "      <td>174.99</td>\n",
              "      <td>5</td>\n",
              "      <td>I was 3 months away from my upgrade and my Str...</td>\n",
              "      <td>3.0</td>\n",
              "    </tr>\n",
              "    <tr>\n",
              "      <th>167661</th>\n",
              "      <td>CNPGD [U.S. Office Extended Warranty] Smartwat...</td>\n",
              "      <td>CNPGD</td>\n",
              "      <td>49.99</td>\n",
              "      <td>1</td>\n",
              "      <td>an experience i want to forget</td>\n",
              "      <td>0.0</td>\n",
              "    </tr>\n",
              "    <tr>\n",
              "      <th>73287</th>\n",
              "      <td>Apple iPhone 7 Unlocked Phone 256 GB - US Vers...</td>\n",
              "      <td>Apple</td>\n",
              "      <td>922.00</td>\n",
              "      <td>5</td>\n",
              "      <td>GREAT PHONE WORK ACCORDING MY EXPECTATIONS.</td>\n",
              "      <td>1.0</td>\n",
              "    </tr>\n",
              "  </tbody>\n",
              "</table>\n",
              "</div>"
            ],
            "text/plain": [
              "                                             Product Name Brand Name   Price  \\\n",
              "394349  Sony XPERIA Z2 D6503 FACTORY UNLOCKED Internat...        NaN  244.95   \n",
              "34377       Apple iPhone 5c 8GB (Pink) - Verizon Wireless      Apple  194.99   \n",
              "248521  Motorola Droid RAZR MAXX XT912 M Verizon Smart...   Motorola  174.99   \n",
              "167661  CNPGD [U.S. Office Extended Warranty] Smartwat...      CNPGD   49.99   \n",
              "73287   Apple iPhone 7 Unlocked Phone 256 GB - US Vers...      Apple  922.00   \n",
              "\n",
              "        Rating                                            Reviews  \\\n",
              "394349       5  Very good one! Better than Samsung S and iphon...   \n",
              "34377        1  The phone needed a SIM card, would have been n...   \n",
              "248521       5  I was 3 months away from my upgrade and my Str...   \n",
              "167661       1                     an experience i want to forget   \n",
              "73287        5        GREAT PHONE WORK ACCORDING MY EXPECTATIONS.   \n",
              "\n",
              "        Review Votes  \n",
              "394349           0.0  \n",
              "34377            1.0  \n",
              "248521           3.0  \n",
              "167661           0.0  \n",
              "73287            1.0  "
            ]
          },
          "metadata": {
            "tags": []
          },
          "execution_count": 59
        }
      ]
    },
    {
      "cell_type": "code",
      "metadata": {
        "id": "nCyDpN8FYznz",
        "colab_type": "code",
        "colab": {}
      },
      "source": [
        "#df.to_csv(\"~/temp.csv\")"
      ],
      "execution_count": null,
      "outputs": []
    },
    {
      "cell_type": "code",
      "metadata": {
        "id": "C0zIW8TwYzn4",
        "colab_type": "code",
        "colab": {},
        "outputId": "7c7aaddb-a291-4e0a-83f1-322ac000b854"
      },
      "source": [
        "df[df['Rating'] != 3]"
      ],
      "execution_count": null,
      "outputs": [
        {
          "output_type": "execute_result",
          "data": {
            "text/html": [
              "<div>\n",
              "<style scoped>\n",
              "    .dataframe tbody tr th:only-of-type {\n",
              "        vertical-align: middle;\n",
              "    }\n",
              "\n",
              "    .dataframe tbody tr th {\n",
              "        vertical-align: top;\n",
              "    }\n",
              "\n",
              "    .dataframe thead th {\n",
              "        text-align: right;\n",
              "    }\n",
              "</style>\n",
              "<table border=\"1\" class=\"dataframe\">\n",
              "  <thead>\n",
              "    <tr style=\"text-align: right;\">\n",
              "      <th></th>\n",
              "      <th>Product Name</th>\n",
              "      <th>Brand Name</th>\n",
              "      <th>Price</th>\n",
              "      <th>Rating</th>\n",
              "      <th>Reviews</th>\n",
              "      <th>Review Votes</th>\n",
              "    </tr>\n",
              "  </thead>\n",
              "  <tbody>\n",
              "    <tr>\n",
              "      <th>394349</th>\n",
              "      <td>Sony XPERIA Z2 D6503 FACTORY UNLOCKED Internat...</td>\n",
              "      <td>NaN</td>\n",
              "      <td>244.95</td>\n",
              "      <td>5</td>\n",
              "      <td>Very good one! Better than Samsung S and iphon...</td>\n",
              "      <td>0.0</td>\n",
              "    </tr>\n",
              "    <tr>\n",
              "      <th>34377</th>\n",
              "      <td>Apple iPhone 5c 8GB (Pink) - Verizon Wireless</td>\n",
              "      <td>Apple</td>\n",
              "      <td>194.99</td>\n",
              "      <td>1</td>\n",
              "      <td>The phone needed a SIM card, would have been n...</td>\n",
              "      <td>1.0</td>\n",
              "    </tr>\n",
              "    <tr>\n",
              "      <th>248521</th>\n",
              "      <td>Motorola Droid RAZR MAXX XT912 M Verizon Smart...</td>\n",
              "      <td>Motorola</td>\n",
              "      <td>174.99</td>\n",
              "      <td>5</td>\n",
              "      <td>I was 3 months away from my upgrade and my Str...</td>\n",
              "      <td>3.0</td>\n",
              "    </tr>\n",
              "    <tr>\n",
              "      <th>167661</th>\n",
              "      <td>CNPGD [U.S. Office Extended Warranty] Smartwat...</td>\n",
              "      <td>CNPGD</td>\n",
              "      <td>49.99</td>\n",
              "      <td>1</td>\n",
              "      <td>an experience i want to forget</td>\n",
              "      <td>0.0</td>\n",
              "    </tr>\n",
              "    <tr>\n",
              "      <th>73287</th>\n",
              "      <td>Apple iPhone 7 Unlocked Phone 256 GB - US Vers...</td>\n",
              "      <td>Apple</td>\n",
              "      <td>922.00</td>\n",
              "      <td>5</td>\n",
              "      <td>GREAT PHONE WORK ACCORDING MY EXPECTATIONS.</td>\n",
              "      <td>1.0</td>\n",
              "    </tr>\n",
              "    <tr>\n",
              "      <th>277158</th>\n",
              "      <td>Nokia N8 Unlocked GSM Touch Screen Phone Featu...</td>\n",
              "      <td>Nokia</td>\n",
              "      <td>95.00</td>\n",
              "      <td>5</td>\n",
              "      <td>I fell in love with this phone because it did ...</td>\n",
              "      <td>0.0</td>\n",
              "    </tr>\n",
              "    <tr>\n",
              "      <th>100311</th>\n",
              "      <td>Blackberry Torch 2 9810 Unlocked Phone with 1....</td>\n",
              "      <td>BlackBerry</td>\n",
              "      <td>77.49</td>\n",
              "      <td>5</td>\n",
              "      <td>I am pleased with this Blackberry phone! The p...</td>\n",
              "      <td>0.0</td>\n",
              "    </tr>\n",
              "    <tr>\n",
              "      <th>251669</th>\n",
              "      <td>Motorola Moto E (1st Generation) - Black - 4 G...</td>\n",
              "      <td>Motorola</td>\n",
              "      <td>89.99</td>\n",
              "      <td>5</td>\n",
              "      <td>Great product, best value for money smartphone...</td>\n",
              "      <td>0.0</td>\n",
              "    </tr>\n",
              "    <tr>\n",
              "      <th>374058</th>\n",
              "      <td>Samsung Galaxy S7 Edge SM-G935F 32GB Factory U...</td>\n",
              "      <td>NaN</td>\n",
              "      <td>593.50</td>\n",
              "      <td>4</td>\n",
              "      <td>except samsung pay everything is good</td>\n",
              "      <td>0.0</td>\n",
              "    </tr>\n",
              "    <tr>\n",
              "      <th>279878</th>\n",
              "      <td>OtterBox 77-29864 Defender Series Hybrid Case ...</td>\n",
              "      <td>OtterBox</td>\n",
              "      <td>9.99</td>\n",
              "      <td>5</td>\n",
              "      <td>I've bought 3 no problems. Fast delivery.</td>\n",
              "      <td>0.0</td>\n",
              "    </tr>\n",
              "    <tr>\n",
              "      <th>406017</th>\n",
              "      <td>Verizon HTC Rezound 4G Android Smarphone - 8MP...</td>\n",
              "      <td>HTC</td>\n",
              "      <td>74.99</td>\n",
              "      <td>4</td>\n",
              "      <td>Great phone for the price...</td>\n",
              "      <td>0.0</td>\n",
              "    </tr>\n",
              "    <tr>\n",
              "      <th>302567</th>\n",
              "      <td>RCA M1 Unlocked Cell Phone, Dual Sim, 5Mp Came...</td>\n",
              "      <td>RCA</td>\n",
              "      <td>159.99</td>\n",
              "      <td>5</td>\n",
              "      <td>My mom is not good with new technoloy but this...</td>\n",
              "      <td>4.0</td>\n",
              "    </tr>\n",
              "    <tr>\n",
              "      <th>329596</th>\n",
              "      <td>Samsung Galaxy Note 5 SM-N9208 32GB 5.7-inch 4...</td>\n",
              "      <td>Samsung</td>\n",
              "      <td>135.00</td>\n",
              "      <td>4</td>\n",
              "      <td>The charger didnt work, I suppose that it mean...</td>\n",
              "      <td>2.0</td>\n",
              "    </tr>\n",
              "    <tr>\n",
              "      <th>338730</th>\n",
              "      <td>Samsung Galaxy S3 Mini GT-i8190 8GB Android Sm...</td>\n",
              "      <td>Samsung</td>\n",
              "      <td>125.85</td>\n",
              "      <td>5</td>\n",
              "      <td>I loved it and thanks so much because you made...</td>\n",
              "      <td>0.0</td>\n",
              "    </tr>\n",
              "    <tr>\n",
              "      <th>147470</th>\n",
              "      <td>BLU Studio C 5+5 Smartphone with Lollipop OS- ...</td>\n",
              "      <td>BLU</td>\n",
              "      <td>249.99</td>\n",
              "      <td>5</td>\n",
              "      <td>Amazing phone especially for the price. I love...</td>\n",
              "      <td>0.0</td>\n",
              "    </tr>\n",
              "    <tr>\n",
              "      <th>15676</th>\n",
              "      <td>Apple iPhone 4S 32GB White - Unlocked</td>\n",
              "      <td>NaN</td>\n",
              "      <td>155.00</td>\n",
              "      <td>5</td>\n",
              "      <td>thanks... excellent...love my iphone 4s used.</td>\n",
              "      <td>0.0</td>\n",
              "    </tr>\n",
              "    <tr>\n",
              "      <th>145953</th>\n",
              "      <td>BLU Studio C 5+5 LTE Smartphone - GSM Unlocked...</td>\n",
              "      <td>BLU</td>\n",
              "      <td>81.58</td>\n",
              "      <td>5</td>\n",
              "      <td>I purchase it for my friend, she like it alot ...</td>\n",
              "      <td>0.0</td>\n",
              "    </tr>\n",
              "    <tr>\n",
              "      <th>275165</th>\n",
              "      <td>Nokia Lumia 920 RM-820 32GB GSM 4G LTE Windows...</td>\n",
              "      <td>Nokia</td>\n",
              "      <td>99.99</td>\n",
              "      <td>1</td>\n",
              "      <td>I generally dont write reviews but this phone ...</td>\n",
              "      <td>0.0</td>\n",
              "    </tr>\n",
              "    <tr>\n",
              "      <th>318931</th>\n",
              "      <td>Samsung Galaxy J7 J700M 16GB Dual Sim LTE Unlo...</td>\n",
              "      <td>Samsung</td>\n",
              "      <td>227.14</td>\n",
              "      <td>1</td>\n",
              "      <td>I bought this phone for my mom and sent it to ...</td>\n",
              "      <td>4.0</td>\n",
              "    </tr>\n",
              "    <tr>\n",
              "      <th>184479</th>\n",
              "      <td>GreatCall Jitterbug5 Easy-to-Use Cell Phone an...</td>\n",
              "      <td>Jitterbug</td>\n",
              "      <td>99.90</td>\n",
              "      <td>5</td>\n",
              "      <td>got me going</td>\n",
              "      <td>3.0</td>\n",
              "    </tr>\n",
              "    <tr>\n",
              "      <th>240649</th>\n",
              "      <td>Microsoft Lumia 640 XL LTE Dual Sim Orange 8GB...</td>\n",
              "      <td>Microsoft</td>\n",
              "      <td>182.99</td>\n",
              "      <td>4</td>\n",
              "      <td>Happy to be back! I broke my Lumia 1520.3 and ...</td>\n",
              "      <td>7.0</td>\n",
              "    </tr>\n",
              "    <tr>\n",
              "      <th>363545</th>\n",
              "      <td>Samsung Galaxy S6 Edge Plus SM-G928C 32GB Fact...</td>\n",
              "      <td>samsung</td>\n",
              "      <td>650.00</td>\n",
              "      <td>5</td>\n",
              "      <td>This phone is amazing. Beautiful camera qualit...</td>\n",
              "      <td>3.0</td>\n",
              "    </tr>\n",
              "    <tr>\n",
              "      <th>251769</th>\n",
              "      <td>Motorola Moto E (1st Generation) - Black - 4 G...</td>\n",
              "      <td>Motorola</td>\n",
              "      <td>89.99</td>\n",
              "      <td>1</td>\n",
              "      <td>The cell didn't work more than one months. It ...</td>\n",
              "      <td>0.0</td>\n",
              "    </tr>\n",
              "    <tr>\n",
              "      <th>348205</th>\n",
              "      <td>Samsung Galaxy S5 G900A 16GB Unlocked GSM 4G L...</td>\n",
              "      <td>Samsung</td>\n",
              "      <td>228.98</td>\n",
              "      <td>1</td>\n",
              "      <td>The camera does not work</td>\n",
              "      <td>0.0</td>\n",
              "    </tr>\n",
              "    <tr>\n",
              "      <th>160090</th>\n",
              "      <td>BLU VIVO 5 Smartphone -5.5\" 4G LTE GSM Unlocke...</td>\n",
              "      <td>BLU</td>\n",
              "      <td>199.99</td>\n",
              "      <td>2</td>\n",
              "      <td>The phone looks nice and attractive but I can'...</td>\n",
              "      <td>0.0</td>\n",
              "    </tr>\n",
              "    <tr>\n",
              "      <th>86200</th>\n",
              "      <td>Blackberry 9530 Storm Unlocked For Any GSM Car...</td>\n",
              "      <td>BlackBerry</td>\n",
              "      <td>131.59</td>\n",
              "      <td>2</td>\n",
              "      <td>Storm 9530 purchase 3 wks ago not working anym...</td>\n",
              "      <td>0.0</td>\n",
              "    </tr>\n",
              "    <tr>\n",
              "      <th>126428</th>\n",
              "      <td>BLU Life 8 XL Smartphone - Unlocked - US GSM -...</td>\n",
              "      <td>BLU</td>\n",
              "      <td>101.91</td>\n",
              "      <td>4</td>\n",
              "      <td>person I bought it for thought it was a nice p...</td>\n",
              "      <td>0.0</td>\n",
              "    </tr>\n",
              "    <tr>\n",
              "      <th>227788</th>\n",
              "      <td>LG K7 unlocked smartphone, 8GB Black (U.S. War...</td>\n",
              "      <td>LG Electronics</td>\n",
              "      <td>79.99</td>\n",
              "      <td>1</td>\n",
              "      <td>The was wonderful but the power button stopped...</td>\n",
              "      <td>0.0</td>\n",
              "    </tr>\n",
              "    <tr>\n",
              "      <th>117917</th>\n",
              "      <td>BLU Energy X 2 - With 4000 mAh Super Battery -...</td>\n",
              "      <td>BLU</td>\n",
              "      <td>109.99</td>\n",
              "      <td>2</td>\n",
              "      <td>This phone has been pretty disappointing for m...</td>\n",
              "      <td>2.0</td>\n",
              "    </tr>\n",
              "    <tr>\n",
              "      <th>214362</th>\n",
              "      <td>Lg G Pro Lite Dual D686 Black (Factory Unlocke...</td>\n",
              "      <td>LG</td>\n",
              "      <td>199.00</td>\n",
              "      <td>4</td>\n",
              "      <td>This is a nice phone, only two things disappoi...</td>\n",
              "      <td>0.0</td>\n",
              "    </tr>\n",
              "    <tr>\n",
              "      <th>...</th>\n",
              "      <td>...</td>\n",
              "      <td>...</td>\n",
              "      <td>...</td>\n",
              "      <td>...</td>\n",
              "      <td>...</td>\n",
              "      <td>...</td>\n",
              "    </tr>\n",
              "    <tr>\n",
              "      <th>44543</th>\n",
              "      <td>Apple iPhone 5s 32GB (Silver) - AT&amp;T</td>\n",
              "      <td>Apple</td>\n",
              "      <td>43.95</td>\n",
              "      <td>5</td>\n",
              "      <td>Very good</td>\n",
              "      <td>0.0</td>\n",
              "    </tr>\n",
              "    <tr>\n",
              "      <th>74700</th>\n",
              "      <td>Apple iPhone SE Unlocked Phone - 64 GB Retail ...</td>\n",
              "      <td>Apple</td>\n",
              "      <td>505.99</td>\n",
              "      <td>5</td>\n",
              "      <td>good!</td>\n",
              "      <td>0.0</td>\n",
              "    </tr>\n",
              "    <tr>\n",
              "      <th>325426</th>\n",
              "      <td>Samsung Galaxy Note 3 N900V 32GB Unlocked GSM ...</td>\n",
              "      <td>NaN</td>\n",
              "      <td>379.99</td>\n",
              "      <td>4</td>\n",
              "      <td>Like it</td>\n",
              "      <td>0.0</td>\n",
              "    </tr>\n",
              "    <tr>\n",
              "      <th>46364</th>\n",
              "      <td>Apple iPhone 5s 32GB (Space Gray) - Verizon Wi...</td>\n",
              "      <td>Apple</td>\n",
              "      <td>49.00</td>\n",
              "      <td>5</td>\n",
              "      <td>Great</td>\n",
              "      <td>0.0</td>\n",
              "    </tr>\n",
              "    <tr>\n",
              "      <th>185038</th>\n",
              "      <td>HAWEEL H1 Pro, 5.0 inch 4G FDD LTE Android 6.0...</td>\n",
              "      <td>NaN</td>\n",
              "      <td>120.99</td>\n",
              "      <td>1</td>\n",
              "      <td>It won't even turn on. I put it on the charger...</td>\n",
              "      <td>1.0</td>\n",
              "    </tr>\n",
              "    <tr>\n",
              "      <th>60216</th>\n",
              "      <td>Apple iPhone 6 Plus Unlocked Cellphone, 16GB, ...</td>\n",
              "      <td>Apple</td>\n",
              "      <td>519.00</td>\n",
              "      <td>1</td>\n",
              "      <td>I didn't get a phone. I opened the package and...</td>\n",
              "      <td>53.0</td>\n",
              "    </tr>\n",
              "    <tr>\n",
              "      <th>278161</th>\n",
              "      <td>Note4 JYL Unlocked 3G Smartphone, 5.5-Inch HD ...</td>\n",
              "      <td>NaN</td>\n",
              "      <td>76.98</td>\n",
              "      <td>1</td>\n",
              "      <td>I received the phone in the mail and it is unl...</td>\n",
              "      <td>5.0</td>\n",
              "    </tr>\n",
              "    <tr>\n",
              "      <th>328129</th>\n",
              "      <td>Samsung Galaxy Note 4 SM-N910F 4G LTE White Fa...</td>\n",
              "      <td>Samsung</td>\n",
              "      <td>999.99</td>\n",
              "      <td>5</td>\n",
              "      <td>GOOD!!</td>\n",
              "      <td>0.0</td>\n",
              "    </tr>\n",
              "    <tr>\n",
              "      <th>952</th>\n",
              "      <td>5.5-Inch Unlocked Lenovo A850 3G Smartphone-(9...</td>\n",
              "      <td>NaN</td>\n",
              "      <td>161.06</td>\n",
              "      <td>4</td>\n",
              "      <td>Excelente.</td>\n",
              "      <td>0.0</td>\n",
              "    </tr>\n",
              "    <tr>\n",
              "      <th>72659</th>\n",
              "      <td>Apple iPhone 7 Plus Unlocked Phone 32 GB - US ...</td>\n",
              "      <td>Apple</td>\n",
              "      <td>914.99</td>\n",
              "      <td>5</td>\n",
              "      <td>Great as described</td>\n",
              "      <td>NaN</td>\n",
              "    </tr>\n",
              "    <tr>\n",
              "      <th>350525</th>\n",
              "      <td>Samsung Galaxy S5 Mini G800F 16GB 4G LTE Unloc...</td>\n",
              "      <td>NaN</td>\n",
              "      <td>489.00</td>\n",
              "      <td>5</td>\n",
              "      <td>Excelente, 100% recomendado.</td>\n",
              "      <td>0.0</td>\n",
              "    </tr>\n",
              "    <tr>\n",
              "      <th>182453</th>\n",
              "      <td>Figo Virtue 4.0 - Unlocked Dual Sim Smartphone...</td>\n",
              "      <td>FiGo</td>\n",
              "      <td>50.96</td>\n",
              "      <td>5</td>\n",
              "      <td>the phone worked great until my dog chewed it ...</td>\n",
              "      <td>5.0</td>\n",
              "    </tr>\n",
              "    <tr>\n",
              "      <th>227779</th>\n",
              "      <td>LG K10 K430T 16GB White, 5.3\", 13MP, Unlocked ...</td>\n",
              "      <td>LG</td>\n",
              "      <td>156.99</td>\n",
              "      <td>5</td>\n",
              "      <td>very good</td>\n",
              "      <td>0.0</td>\n",
              "    </tr>\n",
              "    <tr>\n",
              "      <th>193728</th>\n",
              "      <td>HTC One M7 Blue 32GB Unlocked Smart Phone 3/4G...</td>\n",
              "      <td>HTC</td>\n",
              "      <td>399.99</td>\n",
              "      <td>5</td>\n",
              "      <td>Love this phone, it's my third one not for the...</td>\n",
              "      <td>0.0</td>\n",
              "    </tr>\n",
              "    <tr>\n",
              "      <th>291754</th>\n",
              "      <td>PHONE VERIZON HTC ANDROID ERIS 1.5 OS; GOOGLE ...</td>\n",
              "      <td>HTC</td>\n",
              "      <td>15.55</td>\n",
              "      <td>1</td>\n",
              "      <td>THIS IS THE BIGGEST CRAP HEEP I HAVE EVER SEEN...</td>\n",
              "      <td>1.0</td>\n",
              "    </tr>\n",
              "    <tr>\n",
              "      <th>374817</th>\n",
              "      <td>Samsung Galaxy S7 Factory Unlocked Phone 32 GB...</td>\n",
              "      <td>Samsung</td>\n",
              "      <td>523.00</td>\n",
              "      <td>5</td>\n",
              "      <td>Good phone. Had what I requested. Came promptl...</td>\n",
              "      <td>0.0</td>\n",
              "    </tr>\n",
              "    <tr>\n",
              "      <th>376767</th>\n",
              "      <td>Samsung Gear S2 Classic SmartWatch - Black (Ce...</td>\n",
              "      <td>Samsung</td>\n",
              "      <td>199.99</td>\n",
              "      <td>4</td>\n",
              "      <td>I purchased this watch on 11/09/2016. I must s...</td>\n",
              "      <td>4.0</td>\n",
              "    </tr>\n",
              "    <tr>\n",
              "      <th>138488</th>\n",
              "      <td>BLU Studio 5.0 C HD Unlocked Cellphone, White</td>\n",
              "      <td>BLU</td>\n",
              "      <td>2000.00</td>\n",
              "      <td>2</td>\n",
              "      <td>This phone is ok for the money. It is somewhat...</td>\n",
              "      <td>2.0</td>\n",
              "    </tr>\n",
              "    <tr>\n",
              "      <th>238292</th>\n",
              "      <td>LG VX8350 Cell Phone, Bluetooth, Camera, Speak...</td>\n",
              "      <td>NaN</td>\n",
              "      <td>56.95</td>\n",
              "      <td>5</td>\n",
              "      <td>This didn't work out but the dealer was wonder...</td>\n",
              "      <td>2.0</td>\n",
              "    </tr>\n",
              "    <tr>\n",
              "      <th>102463</th>\n",
              "      <td>Blackberry Z10 16GB OS 10 GSM Unlocked Smartph...</td>\n",
              "      <td>BlackBerry</td>\n",
              "      <td>75.65</td>\n",
              "      <td>5</td>\n",
              "      <td>Ordered this for a friend of my husbands in Ma...</td>\n",
              "      <td>0.0</td>\n",
              "    </tr>\n",
              "    <tr>\n",
              "      <th>180085</th>\n",
              "      <td>CNPGD® S12 Smart Sync Call SMS Bluetooth Watch...</td>\n",
              "      <td>CNPGD</td>\n",
              "      <td>88.99</td>\n",
              "      <td>5</td>\n",
              "      <td>The item was shipped AMAZINGLY FAST!! I saw th...</td>\n",
              "      <td>0.0</td>\n",
              "    </tr>\n",
              "    <tr>\n",
              "      <th>82379</th>\n",
              "      <td>ASUS ZenFone 3 MAX 5.2-inch (2GB RAM, 16GB sto...</td>\n",
              "      <td>NaN</td>\n",
              "      <td>149.99</td>\n",
              "      <td>5</td>\n",
              "      <td>Faster, good quality camera and the fingerprin...</td>\n",
              "      <td>6.0</td>\n",
              "    </tr>\n",
              "    <tr>\n",
              "      <th>232360</th>\n",
              "      <td>LG Nexus 5X Unlocked Smartphone with 5.2-Inch ...</td>\n",
              "      <td>LG</td>\n",
              "      <td>399.00</td>\n",
              "      <td>5</td>\n",
              "      <td>Love the cell very good one in every thing</td>\n",
              "      <td>0.0</td>\n",
              "    </tr>\n",
              "    <tr>\n",
              "      <th>39160</th>\n",
              "      <td>Apple iPhone 5c Factory Unlocked Cellphone, 8G...</td>\n",
              "      <td>NaN</td>\n",
              "      <td>199.99</td>\n",
              "      <td>5</td>\n",
              "      <td>The Phone came unlocked &amp; its a sweet surprise...</td>\n",
              "      <td>0.0</td>\n",
              "    </tr>\n",
              "    <tr>\n",
              "      <th>231945</th>\n",
              "      <td>LG Nexus 5X Unlocked Smartphone - White 32GB (...</td>\n",
              "      <td>LG</td>\n",
              "      <td>399.00</td>\n",
              "      <td>1</td>\n",
              "      <td>Thus phone worked great for about 3 months. Th...</td>\n",
              "      <td>7.0</td>\n",
              "    </tr>\n",
              "    <tr>\n",
              "      <th>30001</th>\n",
              "      <td>Apple iPhone 5c 32GB (Blue) - AT&amp;T</td>\n",
              "      <td>Apple</td>\n",
              "      <td>274.95</td>\n",
              "      <td>5</td>\n",
              "      <td>What an upgrade compared to the iPhone 4. Goin...</td>\n",
              "      <td>7.0</td>\n",
              "    </tr>\n",
              "    <tr>\n",
              "      <th>313198</th>\n",
              "      <td>Samsung Galaxy Grand Prime DUOS G531H/DS - Gra...</td>\n",
              "      <td>Samsung</td>\n",
              "      <td>179.99</td>\n",
              "      <td>4</td>\n",
              "      <td>I liked it at first but is starting to lag alr...</td>\n",
              "      <td>0.0</td>\n",
              "    </tr>\n",
              "    <tr>\n",
              "      <th>138219</th>\n",
              "      <td>BLU Studio 5.0 C HD Unlocked Cellphone, White</td>\n",
              "      <td>BLU</td>\n",
              "      <td>2000.00</td>\n",
              "      <td>4</td>\n",
              "      <td>very nice</td>\n",
              "      <td>0.0</td>\n",
              "    </tr>\n",
              "    <tr>\n",
              "      <th>66571</th>\n",
              "      <td>Apple iPhone 6s 64 GB International Warranty U...</td>\n",
              "      <td>Apple</td>\n",
              "      <td>689.95</td>\n",
              "      <td>1</td>\n",
              "      <td>It is not a new one. The tagboard on the box w...</td>\n",
              "      <td>0.0</td>\n",
              "    </tr>\n",
              "    <tr>\n",
              "      <th>109303</th>\n",
              "      <td>BLU Dash J Unlocked Phone - Retail Packaging -...</td>\n",
              "      <td>BLU</td>\n",
              "      <td>39.99</td>\n",
              "      <td>1</td>\n",
              "      <td>This phone was truly a terrible purchase!! It ...</td>\n",
              "      <td>1.0</td>\n",
              "    </tr>\n",
              "  </tbody>\n",
              "</table>\n",
              "<p>38184 rows × 6 columns</p>\n",
              "</div>"
            ],
            "text/plain": [
              "                                             Product Name      Brand Name  \\\n",
              "394349  Sony XPERIA Z2 D6503 FACTORY UNLOCKED Internat...             NaN   \n",
              "34377       Apple iPhone 5c 8GB (Pink) - Verizon Wireless           Apple   \n",
              "248521  Motorola Droid RAZR MAXX XT912 M Verizon Smart...        Motorola   \n",
              "167661  CNPGD [U.S. Office Extended Warranty] Smartwat...           CNPGD   \n",
              "73287   Apple iPhone 7 Unlocked Phone 256 GB - US Vers...           Apple   \n",
              "277158  Nokia N8 Unlocked GSM Touch Screen Phone Featu...           Nokia   \n",
              "100311  Blackberry Torch 2 9810 Unlocked Phone with 1....      BlackBerry   \n",
              "251669  Motorola Moto E (1st Generation) - Black - 4 G...        Motorola   \n",
              "374058  Samsung Galaxy S7 Edge SM-G935F 32GB Factory U...             NaN   \n",
              "279878  OtterBox 77-29864 Defender Series Hybrid Case ...        OtterBox   \n",
              "406017  Verizon HTC Rezound 4G Android Smarphone - 8MP...             HTC   \n",
              "302567  RCA M1 Unlocked Cell Phone, Dual Sim, 5Mp Came...             RCA   \n",
              "329596  Samsung Galaxy Note 5 SM-N9208 32GB 5.7-inch 4...         Samsung   \n",
              "338730  Samsung Galaxy S3 Mini GT-i8190 8GB Android Sm...         Samsung   \n",
              "147470  BLU Studio C 5+5 Smartphone with Lollipop OS- ...             BLU   \n",
              "15676               Apple iPhone 4S 32GB White - Unlocked             NaN   \n",
              "145953  BLU Studio C 5+5 LTE Smartphone - GSM Unlocked...             BLU   \n",
              "275165  Nokia Lumia 920 RM-820 32GB GSM 4G LTE Windows...           Nokia   \n",
              "318931  Samsung Galaxy J7 J700M 16GB Dual Sim LTE Unlo...         Samsung   \n",
              "184479  GreatCall Jitterbug5 Easy-to-Use Cell Phone an...       Jitterbug   \n",
              "240649  Microsoft Lumia 640 XL LTE Dual Sim Orange 8GB...       Microsoft   \n",
              "363545  Samsung Galaxy S6 Edge Plus SM-G928C 32GB Fact...         samsung   \n",
              "251769  Motorola Moto E (1st Generation) - Black - 4 G...        Motorola   \n",
              "348205  Samsung Galaxy S5 G900A 16GB Unlocked GSM 4G L...         Samsung   \n",
              "160090  BLU VIVO 5 Smartphone -5.5\" 4G LTE GSM Unlocke...             BLU   \n",
              "86200   Blackberry 9530 Storm Unlocked For Any GSM Car...      BlackBerry   \n",
              "126428  BLU Life 8 XL Smartphone - Unlocked - US GSM -...             BLU   \n",
              "227788  LG K7 unlocked smartphone, 8GB Black (U.S. War...  LG Electronics   \n",
              "117917  BLU Energy X 2 - With 4000 mAh Super Battery -...             BLU   \n",
              "214362  Lg G Pro Lite Dual D686 Black (Factory Unlocke...              LG   \n",
              "...                                                   ...             ...   \n",
              "44543                Apple iPhone 5s 32GB (Silver) - AT&T           Apple   \n",
              "74700   Apple iPhone SE Unlocked Phone - 64 GB Retail ...           Apple   \n",
              "325426  Samsung Galaxy Note 3 N900V 32GB Unlocked GSM ...             NaN   \n",
              "46364   Apple iPhone 5s 32GB (Space Gray) - Verizon Wi...           Apple   \n",
              "185038  HAWEEL H1 Pro, 5.0 inch 4G FDD LTE Android 6.0...             NaN   \n",
              "60216   Apple iPhone 6 Plus Unlocked Cellphone, 16GB, ...           Apple   \n",
              "278161  Note4 JYL Unlocked 3G Smartphone, 5.5-Inch HD ...             NaN   \n",
              "328129  Samsung Galaxy Note 4 SM-N910F 4G LTE White Fa...         Samsung   \n",
              "952     5.5-Inch Unlocked Lenovo A850 3G Smartphone-(9...             NaN   \n",
              "72659   Apple iPhone 7 Plus Unlocked Phone 32 GB - US ...           Apple   \n",
              "350525  Samsung Galaxy S5 Mini G800F 16GB 4G LTE Unloc...             NaN   \n",
              "182453  Figo Virtue 4.0 - Unlocked Dual Sim Smartphone...            FiGo   \n",
              "227779  LG K10 K430T 16GB White, 5.3\", 13MP, Unlocked ...              LG   \n",
              "193728  HTC One M7 Blue 32GB Unlocked Smart Phone 3/4G...             HTC   \n",
              "291754  PHONE VERIZON HTC ANDROID ERIS 1.5 OS; GOOGLE ...             HTC   \n",
              "374817  Samsung Galaxy S7 Factory Unlocked Phone 32 GB...         Samsung   \n",
              "376767  Samsung Gear S2 Classic SmartWatch - Black (Ce...         Samsung   \n",
              "138488      BLU Studio 5.0 C HD Unlocked Cellphone, White             BLU   \n",
              "238292  LG VX8350 Cell Phone, Bluetooth, Camera, Speak...             NaN   \n",
              "102463  Blackberry Z10 16GB OS 10 GSM Unlocked Smartph...      BlackBerry   \n",
              "180085  CNPGD® S12 Smart Sync Call SMS Bluetooth Watch...           CNPGD   \n",
              "82379   ASUS ZenFone 3 MAX 5.2-inch (2GB RAM, 16GB sto...             NaN   \n",
              "232360  LG Nexus 5X Unlocked Smartphone with 5.2-Inch ...              LG   \n",
              "39160   Apple iPhone 5c Factory Unlocked Cellphone, 8G...             NaN   \n",
              "231945  LG Nexus 5X Unlocked Smartphone - White 32GB (...              LG   \n",
              "30001                  Apple iPhone 5c 32GB (Blue) - AT&T           Apple   \n",
              "313198  Samsung Galaxy Grand Prime DUOS G531H/DS - Gra...         Samsung   \n",
              "138219      BLU Studio 5.0 C HD Unlocked Cellphone, White             BLU   \n",
              "66571   Apple iPhone 6s 64 GB International Warranty U...           Apple   \n",
              "109303  BLU Dash J Unlocked Phone - Retail Packaging -...             BLU   \n",
              "\n",
              "          Price  Rating                                            Reviews  \\\n",
              "394349   244.95       5  Very good one! Better than Samsung S and iphon...   \n",
              "34377    194.99       1  The phone needed a SIM card, would have been n...   \n",
              "248521   174.99       5  I was 3 months away from my upgrade and my Str...   \n",
              "167661    49.99       1                     an experience i want to forget   \n",
              "73287    922.00       5        GREAT PHONE WORK ACCORDING MY EXPECTATIONS.   \n",
              "277158    95.00       5  I fell in love with this phone because it did ...   \n",
              "100311    77.49       5  I am pleased with this Blackberry phone! The p...   \n",
              "251669    89.99       5  Great product, best value for money smartphone...   \n",
              "374058   593.50       4              except samsung pay everything is good   \n",
              "279878     9.99       5          I've bought 3 no problems. Fast delivery.   \n",
              "406017    74.99       4                       Great phone for the price...   \n",
              "302567   159.99       5  My mom is not good with new technoloy but this...   \n",
              "329596   135.00       4  The charger didnt work, I suppose that it mean...   \n",
              "338730   125.85       5  I loved it and thanks so much because you made...   \n",
              "147470   249.99       5  Amazing phone especially for the price. I love...   \n",
              "15676    155.00       5      thanks... excellent...love my iphone 4s used.   \n",
              "145953    81.58       5  I purchase it for my friend, she like it alot ...   \n",
              "275165    99.99       1  I generally dont write reviews but this phone ...   \n",
              "318931   227.14       1  I bought this phone for my mom and sent it to ...   \n",
              "184479    99.90       5                                       got me going   \n",
              "240649   182.99       4  Happy to be back! I broke my Lumia 1520.3 and ...   \n",
              "363545   650.00       5  This phone is amazing. Beautiful camera qualit...   \n",
              "251769    89.99       1  The cell didn't work more than one months. It ...   \n",
              "348205   228.98       1                           The camera does not work   \n",
              "160090   199.99       2  The phone looks nice and attractive but I can'...   \n",
              "86200    131.59       2  Storm 9530 purchase 3 wks ago not working anym...   \n",
              "126428   101.91       4  person I bought it for thought it was a nice p...   \n",
              "227788    79.99       1  The was wonderful but the power button stopped...   \n",
              "117917   109.99       2  This phone has been pretty disappointing for m...   \n",
              "214362   199.00       4  This is a nice phone, only two things disappoi...   \n",
              "...         ...     ...                                                ...   \n",
              "44543     43.95       5                                          Very good   \n",
              "74700    505.99       5                                              good!   \n",
              "325426   379.99       4                                            Like it   \n",
              "46364     49.00       5                                              Great   \n",
              "185038   120.99       1  It won't even turn on. I put it on the charger...   \n",
              "60216    519.00       1  I didn't get a phone. I opened the package and...   \n",
              "278161    76.98       1  I received the phone in the mail and it is unl...   \n",
              "328129   999.99       5                                             GOOD!!   \n",
              "952      161.06       4                                         Excelente.   \n",
              "72659    914.99       5                                 Great as described   \n",
              "350525   489.00       5                       Excelente, 100% recomendado.   \n",
              "182453    50.96       5  the phone worked great until my dog chewed it ...   \n",
              "227779   156.99       5                                          very good   \n",
              "193728   399.99       5  Love this phone, it's my third one not for the...   \n",
              "291754    15.55       1  THIS IS THE BIGGEST CRAP HEEP I HAVE EVER SEEN...   \n",
              "374817   523.00       5  Good phone. Had what I requested. Came promptl...   \n",
              "376767   199.99       4  I purchased this watch on 11/09/2016. I must s...   \n",
              "138488  2000.00       2  This phone is ok for the money. It is somewhat...   \n",
              "238292    56.95       5  This didn't work out but the dealer was wonder...   \n",
              "102463    75.65       5  Ordered this for a friend of my husbands in Ma...   \n",
              "180085    88.99       5  The item was shipped AMAZINGLY FAST!! I saw th...   \n",
              "82379    149.99       5  Faster, good quality camera and the fingerprin...   \n",
              "232360   399.00       5         Love the cell very good one in every thing   \n",
              "39160    199.99       5  The Phone came unlocked & its a sweet surprise...   \n",
              "231945   399.00       1  Thus phone worked great for about 3 months. Th...   \n",
              "30001    274.95       5  What an upgrade compared to the iPhone 4. Goin...   \n",
              "313198   179.99       4  I liked it at first but is starting to lag alr...   \n",
              "138219  2000.00       4                                          very nice   \n",
              "66571    689.95       1  It is not a new one. The tagboard on the box w...   \n",
              "109303    39.99       1  This phone was truly a terrible purchase!! It ...   \n",
              "\n",
              "        Review Votes  \n",
              "394349           0.0  \n",
              "34377            1.0  \n",
              "248521           3.0  \n",
              "167661           0.0  \n",
              "73287            1.0  \n",
              "277158           0.0  \n",
              "100311           0.0  \n",
              "251669           0.0  \n",
              "374058           0.0  \n",
              "279878           0.0  \n",
              "406017           0.0  \n",
              "302567           4.0  \n",
              "329596           2.0  \n",
              "338730           0.0  \n",
              "147470           0.0  \n",
              "15676            0.0  \n",
              "145953           0.0  \n",
              "275165           0.0  \n",
              "318931           4.0  \n",
              "184479           3.0  \n",
              "240649           7.0  \n",
              "363545           3.0  \n",
              "251769           0.0  \n",
              "348205           0.0  \n",
              "160090           0.0  \n",
              "86200            0.0  \n",
              "126428           0.0  \n",
              "227788           0.0  \n",
              "117917           2.0  \n",
              "214362           0.0  \n",
              "...              ...  \n",
              "44543            0.0  \n",
              "74700            0.0  \n",
              "325426           0.0  \n",
              "46364            0.0  \n",
              "185038           1.0  \n",
              "60216           53.0  \n",
              "278161           5.0  \n",
              "328129           0.0  \n",
              "952              0.0  \n",
              "72659            NaN  \n",
              "350525           0.0  \n",
              "182453           5.0  \n",
              "227779           0.0  \n",
              "193728           0.0  \n",
              "291754           1.0  \n",
              "374817           0.0  \n",
              "376767           4.0  \n",
              "138488           2.0  \n",
              "238292           2.0  \n",
              "102463           0.0  \n",
              "180085           0.0  \n",
              "82379            6.0  \n",
              "232360           0.0  \n",
              "39160            0.0  \n",
              "231945           7.0  \n",
              "30001            7.0  \n",
              "313198           0.0  \n",
              "138219           0.0  \n",
              "66571            0.0  \n",
              "109303           1.0  \n",
              "\n",
              "[38184 rows x 6 columns]"
            ]
          },
          "metadata": {
            "tags": []
          },
          "execution_count": 7
        }
      ]
    },
    {
      "cell_type": "code",
      "metadata": {
        "id": "EDRfDfYhYzn7",
        "colab_type": "code",
        "colab": {},
        "outputId": "27fd418b-e176-4cdd-8138-5e2b041bd166"
      },
      "source": [
        "# Drop missing values\n",
        "df.dropna(inplace=True)\n",
        "\n",
        "# Remove any 'neutral' ratings equal to 3\n",
        "df = df[df['Rating'] != 3]\n",
        "\n",
        "# Encode 4s and 5s as 1 (rated positively)\n",
        "# Encode 1s and 2s as 0 (rated poorly)\n",
        "df['Positively Rated'] = np.where(df['Rating'] > 3, 1, 0)\n",
        "df.head(10)"
      ],
      "execution_count": null,
      "outputs": [
        {
          "output_type": "stream",
          "text": [
            "/usr/local/lib/python3.6/dist-packages/ipykernel_launcher.py:9: SettingWithCopyWarning: \n",
            "A value is trying to be set on a copy of a slice from a DataFrame.\n",
            "Try using .loc[row_indexer,col_indexer] = value instead\n",
            "\n",
            "See the caveats in the documentation: https://pandas.pydata.org/pandas-docs/stable/user_guide/indexing.html#returning-a-view-versus-a-copy\n",
            "  if __name__ == '__main__':\n"
          ],
          "name": "stderr"
        },
        {
          "output_type": "execute_result",
          "data": {
            "text/html": [
              "<div>\n",
              "<style scoped>\n",
              "    .dataframe tbody tr th:only-of-type {\n",
              "        vertical-align: middle;\n",
              "    }\n",
              "\n",
              "    .dataframe tbody tr th {\n",
              "        vertical-align: top;\n",
              "    }\n",
              "\n",
              "    .dataframe thead th {\n",
              "        text-align: right;\n",
              "    }\n",
              "</style>\n",
              "<table border=\"1\" class=\"dataframe\">\n",
              "  <thead>\n",
              "    <tr style=\"text-align: right;\">\n",
              "      <th></th>\n",
              "      <th>Product Name</th>\n",
              "      <th>Brand Name</th>\n",
              "      <th>Price</th>\n",
              "      <th>Rating</th>\n",
              "      <th>Reviews</th>\n",
              "      <th>Review Votes</th>\n",
              "      <th>Positively Rated</th>\n",
              "    </tr>\n",
              "  </thead>\n",
              "  <tbody>\n",
              "    <tr>\n",
              "      <th>34377</th>\n",
              "      <td>Apple iPhone 5c 8GB (Pink) - Verizon Wireless</td>\n",
              "      <td>Apple</td>\n",
              "      <td>194.99</td>\n",
              "      <td>1</td>\n",
              "      <td>The phone needed a SIM card, would have been n...</td>\n",
              "      <td>1.0</td>\n",
              "      <td>0</td>\n",
              "    </tr>\n",
              "    <tr>\n",
              "      <th>248521</th>\n",
              "      <td>Motorola Droid RAZR MAXX XT912 M Verizon Smart...</td>\n",
              "      <td>Motorola</td>\n",
              "      <td>174.99</td>\n",
              "      <td>5</td>\n",
              "      <td>I was 3 months away from my upgrade and my Str...</td>\n",
              "      <td>3.0</td>\n",
              "      <td>1</td>\n",
              "    </tr>\n",
              "    <tr>\n",
              "      <th>167661</th>\n",
              "      <td>CNPGD [U.S. Office Extended Warranty] Smartwat...</td>\n",
              "      <td>CNPGD</td>\n",
              "      <td>49.99</td>\n",
              "      <td>1</td>\n",
              "      <td>an experience i want to forget</td>\n",
              "      <td>0.0</td>\n",
              "      <td>0</td>\n",
              "    </tr>\n",
              "    <tr>\n",
              "      <th>73287</th>\n",
              "      <td>Apple iPhone 7 Unlocked Phone 256 GB - US Vers...</td>\n",
              "      <td>Apple</td>\n",
              "      <td>922.00</td>\n",
              "      <td>5</td>\n",
              "      <td>GREAT PHONE WORK ACCORDING MY EXPECTATIONS.</td>\n",
              "      <td>1.0</td>\n",
              "      <td>1</td>\n",
              "    </tr>\n",
              "    <tr>\n",
              "      <th>277158</th>\n",
              "      <td>Nokia N8 Unlocked GSM Touch Screen Phone Featu...</td>\n",
              "      <td>Nokia</td>\n",
              "      <td>95.00</td>\n",
              "      <td>5</td>\n",
              "      <td>I fell in love with this phone because it did ...</td>\n",
              "      <td>0.0</td>\n",
              "      <td>1</td>\n",
              "    </tr>\n",
              "    <tr>\n",
              "      <th>100311</th>\n",
              "      <td>Blackberry Torch 2 9810 Unlocked Phone with 1....</td>\n",
              "      <td>BlackBerry</td>\n",
              "      <td>77.49</td>\n",
              "      <td>5</td>\n",
              "      <td>I am pleased with this Blackberry phone! The p...</td>\n",
              "      <td>0.0</td>\n",
              "      <td>1</td>\n",
              "    </tr>\n",
              "    <tr>\n",
              "      <th>251669</th>\n",
              "      <td>Motorola Moto E (1st Generation) - Black - 4 G...</td>\n",
              "      <td>Motorola</td>\n",
              "      <td>89.99</td>\n",
              "      <td>5</td>\n",
              "      <td>Great product, best value for money smartphone...</td>\n",
              "      <td>0.0</td>\n",
              "      <td>1</td>\n",
              "    </tr>\n",
              "    <tr>\n",
              "      <th>279878</th>\n",
              "      <td>OtterBox 77-29864 Defender Series Hybrid Case ...</td>\n",
              "      <td>OtterBox</td>\n",
              "      <td>9.99</td>\n",
              "      <td>5</td>\n",
              "      <td>I've bought 3 no problems. Fast delivery.</td>\n",
              "      <td>0.0</td>\n",
              "      <td>1</td>\n",
              "    </tr>\n",
              "    <tr>\n",
              "      <th>406017</th>\n",
              "      <td>Verizon HTC Rezound 4G Android Smarphone - 8MP...</td>\n",
              "      <td>HTC</td>\n",
              "      <td>74.99</td>\n",
              "      <td>4</td>\n",
              "      <td>Great phone for the price...</td>\n",
              "      <td>0.0</td>\n",
              "      <td>1</td>\n",
              "    </tr>\n",
              "    <tr>\n",
              "      <th>302567</th>\n",
              "      <td>RCA M1 Unlocked Cell Phone, Dual Sim, 5Mp Came...</td>\n",
              "      <td>RCA</td>\n",
              "      <td>159.99</td>\n",
              "      <td>5</td>\n",
              "      <td>My mom is not good with new technoloy but this...</td>\n",
              "      <td>4.0</td>\n",
              "      <td>1</td>\n",
              "    </tr>\n",
              "  </tbody>\n",
              "</table>\n",
              "</div>"
            ],
            "text/plain": [
              "                                             Product Name  Brand Name   Price  \\\n",
              "34377       Apple iPhone 5c 8GB (Pink) - Verizon Wireless       Apple  194.99   \n",
              "248521  Motorola Droid RAZR MAXX XT912 M Verizon Smart...    Motorola  174.99   \n",
              "167661  CNPGD [U.S. Office Extended Warranty] Smartwat...       CNPGD   49.99   \n",
              "73287   Apple iPhone 7 Unlocked Phone 256 GB - US Vers...       Apple  922.00   \n",
              "277158  Nokia N8 Unlocked GSM Touch Screen Phone Featu...       Nokia   95.00   \n",
              "100311  Blackberry Torch 2 9810 Unlocked Phone with 1....  BlackBerry   77.49   \n",
              "251669  Motorola Moto E (1st Generation) - Black - 4 G...    Motorola   89.99   \n",
              "279878  OtterBox 77-29864 Defender Series Hybrid Case ...    OtterBox    9.99   \n",
              "406017  Verizon HTC Rezound 4G Android Smarphone - 8MP...         HTC   74.99   \n",
              "302567  RCA M1 Unlocked Cell Phone, Dual Sim, 5Mp Came...         RCA  159.99   \n",
              "\n",
              "        Rating                                            Reviews  \\\n",
              "34377        1  The phone needed a SIM card, would have been n...   \n",
              "248521       5  I was 3 months away from my upgrade and my Str...   \n",
              "167661       1                     an experience i want to forget   \n",
              "73287        5        GREAT PHONE WORK ACCORDING MY EXPECTATIONS.   \n",
              "277158       5  I fell in love with this phone because it did ...   \n",
              "100311       5  I am pleased with this Blackberry phone! The p...   \n",
              "251669       5  Great product, best value for money smartphone...   \n",
              "279878       5          I've bought 3 no problems. Fast delivery.   \n",
              "406017       4                       Great phone for the price...   \n",
              "302567       5  My mom is not good with new technoloy but this...   \n",
              "\n",
              "        Review Votes  Positively Rated  \n",
              "34377            1.0                 0  \n",
              "248521           3.0                 1  \n",
              "167661           0.0                 0  \n",
              "73287            1.0                 1  \n",
              "277158           0.0                 1  \n",
              "100311           0.0                 1  \n",
              "251669           0.0                 1  \n",
              "279878           0.0                 1  \n",
              "406017           0.0                 1  \n",
              "302567           4.0                 1  "
            ]
          },
          "metadata": {
            "tags": []
          },
          "execution_count": 63
        }
      ]
    },
    {
      "cell_type": "code",
      "metadata": {
        "id": "OSdWqVDhYzn-",
        "colab_type": "code",
        "colab": {},
        "outputId": "a3e56303-8894-4e1c-8b74-e42ce95e231d"
      },
      "source": [
        "# Most ratings are positive\n",
        "df['Positively Rated'].mean()"
      ],
      "execution_count": null,
      "outputs": [
        {
          "output_type": "execute_result",
          "data": {
            "text/plain": [
              "0.7471776686078667"
            ]
          },
          "metadata": {
            "tags": []
          },
          "execution_count": 64
        }
      ]
    },
    {
      "cell_type": "code",
      "metadata": {
        "id": "JEBX0rE4YzoB",
        "colab_type": "code",
        "colab": {}
      },
      "source": [
        "from sklearn.model_selection import train_test_split\n",
        "\n",
        "# Split data into training and test sets\n",
        "X_train, X_test, y_train, y_test = train_test_split(df['Reviews'], \n",
        "                                                    df['Positively Rated'], \n",
        "                                                    random_state=0)"
      ],
      "execution_count": null,
      "outputs": []
    },
    {
      "cell_type": "code",
      "metadata": {
        "id": "6TdP20QlYzoE",
        "colab_type": "code",
        "colab": {},
        "outputId": "8fa0af78-45f1-4388-fc50-2002e2f43c3c"
      },
      "source": [
        "len(df)"
      ],
      "execution_count": null,
      "outputs": [
        {
          "output_type": "execute_result",
          "data": {
            "text/plain": [
              "30737"
            ]
          },
          "metadata": {
            "tags": []
          },
          "execution_count": 66
        }
      ]
    },
    {
      "cell_type": "code",
      "metadata": {
        "id": "xN_FiGuEYzoI",
        "colab_type": "code",
        "colab": {},
        "outputId": "b2d5d909-2059-40ae-cd21-65d827db42a4"
      },
      "source": [
        "30737*.75"
      ],
      "execution_count": null,
      "outputs": [
        {
          "output_type": "execute_result",
          "data": {
            "text/plain": [
              "23052.75"
            ]
          },
          "metadata": {
            "tags": []
          },
          "execution_count": 12
        }
      ]
    },
    {
      "cell_type": "code",
      "metadata": {
        "id": "QoM1dchSYzoK",
        "colab_type": "code",
        "colab": {},
        "outputId": "890113dd-19d5-4198-96bf-9acb45aaff67"
      },
      "source": [
        "print('X_train first entry:\\n\\n', X_train.iloc[0])\n",
        "print('\\n\\nX_train shape: ', X_train.shape)"
      ],
      "execution_count": null,
      "outputs": [
        {
          "output_type": "stream",
          "text": [
            "X_train first entry:\n",
            "\n",
            " Everything about it is awesome!\n",
            "\n",
            "\n",
            "X_train shape:  (23052,)\n"
          ],
          "name": "stdout"
        }
      ]
    },
    {
      "cell_type": "markdown",
      "metadata": {
        "id": "R9N3q8tzYzoZ",
        "colab_type": "text"
      },
      "source": [
        "# CountVectorizer"
      ]
    },
    {
      "cell_type": "code",
      "metadata": {
        "id": "7pMnqz_oYzoZ",
        "colab_type": "code",
        "colab": {}
      },
      "source": [
        "import sklearn\n",
        "import pandas as pd\n",
        "import numpy as np"
      ],
      "execution_count": null,
      "outputs": []
    },
    {
      "cell_type": "code",
      "metadata": {
        "id": "JbtpWHeSYzoc",
        "colab_type": "code",
        "colab": {}
      },
      "source": [
        "from sklearn.feature_extraction.text import CountVectorizer\n",
        "\n",
        "# Fit the CountVectorizer to the training data\n",
        "vect = CountVectorizer().fit(X_train)"
      ],
      "execution_count": null,
      "outputs": []
    },
    {
      "cell_type": "code",
      "metadata": {
        "id": "182oGNQnYzoh",
        "colab_type": "code",
        "colab": {},
        "outputId": "450d1034-e3fe-48a8-e246-34afed9f5b22"
      },
      "source": [
        "vect"
      ],
      "execution_count": null,
      "outputs": [
        {
          "output_type": "execute_result",
          "data": {
            "text/plain": [
              "CountVectorizer(analyzer='word', binary=False, decode_error='strict',\n",
              "                dtype=<class 'numpy.int64'>, encoding='utf-8', input='content',\n",
              "                lowercase=True, max_df=1.0, max_features=None, min_df=1,\n",
              "                ngram_range=(1, 1), preprocessor=None, stop_words=None,\n",
              "                strip_accents=None, token_pattern='(?u)\\\\b\\\\w\\\\w+\\\\b',\n",
              "                tokenizer=None, vocabulary=None)"
            ]
          },
          "metadata": {
            "tags": []
          },
          "execution_count": 70
        }
      ]
    },
    {
      "cell_type": "code",
      "metadata": {
        "id": "swLsTo2JYzoj",
        "colab_type": "code",
        "colab": {},
        "outputId": "b4325dd4-b1a6-4a20-f892-9e4bd5f74cd3"
      },
      "source": [
        "vect.get_feature_names()[::2000]"
      ],
      "execution_count": null,
      "outputs": [
        {
          "output_type": "execute_result",
          "data": {
            "text/plain": [
              "['00',\n",
              " 'arroja',\n",
              " 'comapañias',\n",
              " 'dvds',\n",
              " 'golden',\n",
              " 'lands',\n",
              " 'oil',\n",
              " 'razonable',\n",
              " 'smallsliver',\n",
              " 'tweak']"
            ]
          },
          "metadata": {
            "tags": []
          },
          "execution_count": 72
        }
      ]
    },
    {
      "cell_type": "code",
      "metadata": {
        "id": "TuIYKM2NYzom",
        "colab_type": "code",
        "colab": {}
      },
      "source": [
        "#len([ x for x in vect.get_feature_names() if x.islower()])"
      ],
      "execution_count": null,
      "outputs": []
    },
    {
      "cell_type": "code",
      "metadata": {
        "id": "83yucl6ZYzor",
        "colab_type": "code",
        "colab": {},
        "outputId": "10248af1-b40e-4ca6-c181-720243625153"
      },
      "source": [
        "len(vect.get_feature_names())"
      ],
      "execution_count": null,
      "outputs": [
        {
          "output_type": "execute_result",
          "data": {
            "text/plain": [
              "19601"
            ]
          },
          "metadata": {
            "tags": []
          },
          "execution_count": 73
        }
      ]
    },
    {
      "cell_type": "code",
      "metadata": {
        "id": "lX9uKsZxYzou",
        "colab_type": "code",
        "colab": {},
        "outputId": "1d05bbde-f908-419e-d28d-cc6e9fafd742"
      },
      "source": [
        "# transform the documents in the training data to a document-term matrix\n",
        "X_train_vectorized = vect.transform(X_train)\n",
        "\n",
        "X_train_vectorized"
      ],
      "execution_count": null,
      "outputs": [
        {
          "output_type": "execute_result",
          "data": {
            "text/plain": [
              "<23052x19601 sparse matrix of type '<class 'numpy.int64'>'\n",
              "\twith 613289 stored elements in Compressed Sparse Row format>"
            ]
          },
          "metadata": {
            "tags": []
          },
          "execution_count": 102
        }
      ]
    },
    {
      "cell_type": "code",
      "metadata": {
        "id": "HH61xKutYzox",
        "colab_type": "code",
        "colab": {},
        "outputId": "838f2d5f-2ac7-45d8-dcbb-7263a93e8449"
      },
      "source": [
        "\n",
        "from sklearn.linear_model import LogisticRegression\n",
        "\n",
        "# Train the model\n",
        "model = LogisticRegression(solver=\"liblinear\")\n",
        "model.fit(X_train_vectorized, y_train)"
      ],
      "execution_count": null,
      "outputs": [
        {
          "output_type": "execute_result",
          "data": {
            "text/plain": [
              "LogisticRegression(C=1.0, class_weight=None, dual=False, fit_intercept=True,\n",
              "                   intercept_scaling=1, l1_ratio=None, max_iter=100,\n",
              "                   multi_class='auto', n_jobs=None, penalty='l2',\n",
              "                   random_state=None, solver='liblinear', tol=0.0001, verbose=0,\n",
              "                   warm_start=False)"
            ]
          },
          "metadata": {
            "tags": []
          },
          "execution_count": 103
        }
      ]
    },
    {
      "cell_type": "code",
      "metadata": {
        "id": "tyWszUtWYzo1",
        "colab_type": "code",
        "colab": {},
        "outputId": "60e9f235-2521-4663-baa0-0691bcb95760"
      },
      "source": [
        "from sklearn.metrics import roc_auc_score\n",
        "\n",
        "# Predict the transformed test documents\n",
        "predictions = model.predict(vect.transform(X_test))\n",
        "\n",
        "print('AUC: ', roc_auc_score(y_test, predictions))"
      ],
      "execution_count": null,
      "outputs": [
        {
          "output_type": "stream",
          "text": [
            "AUC:  0.8974332776669326\n"
          ],
          "name": "stdout"
        }
      ]
    },
    {
      "cell_type": "code",
      "metadata": {
        "scrolled": true,
        "id": "0OOp6tfPYzo3",
        "colab_type": "code",
        "colab": {},
        "outputId": "96216ed6-7aec-40d5-8193-eb4f71e5453c"
      },
      "source": [
        "# get the feature names as numpy array\n",
        "feature_names = np.array(vect.get_feature_names())\n",
        "\n",
        "# Sort the coefficients from the model\n",
        "sorted_coef_index = model.coef_[0].argsort()\n",
        "\n",
        "# Find the 10 smallest and 10 largest coefficients\n",
        "# The 10 largest coefficients are being indexed using [:-11:-1] \n",
        "# so the list returned is in order of largest to smallest\n",
        "print('Smallest Coefs:\\n{}\\n'.format(feature_names[sorted_coef_index[:10]]))\n",
        "print('Largest Coefs: \\n{}'.format(feature_names[sorted_coef_index[:-11:-1]]))"
      ],
      "execution_count": null,
      "outputs": [
        {
          "output_type": "stream",
          "text": [
            "Smallest Coefs:\n",
            "['not' 'slow' 'disappointed' 'worst' 'terrible' 'never' 'return' 'doesn'\n",
            " 'horrible' 'waste']\n",
            "\n",
            "Largest Coefs: \n",
            "['great' 'love' 'excellent' 'good' 'best' 'perfect' 'price' 'awesome'\n",
            " 'far' 'perfectly']\n"
          ],
          "name": "stdout"
        }
      ]
    },
    {
      "cell_type": "code",
      "metadata": {
        "id": "Y2cPiTZBYzo6",
        "colab_type": "code",
        "colab": {},
        "outputId": "f2379eb7-fffd-4894-aa67-c3178addf858"
      },
      "source": [
        " np.sort(model.coef_[0])[:10]"
      ],
      "execution_count": null,
      "outputs": [
        {
          "output_type": "execute_result",
          "data": {
            "text/plain": [
              "array([-8.71296322, -4.98955843, -4.30238244, -4.15276932, -4.0598151 ,\n",
              "       -4.00002566, -3.98630362, -3.8958822 , -3.73920797, -3.70796643])"
            ]
          },
          "metadata": {
            "tags": []
          },
          "execution_count": 117
        }
      ]
    },
    {
      "cell_type": "code",
      "metadata": {
        "id": "2EYrWkR2Yzo9",
        "colab_type": "code",
        "colab": {},
        "outputId": "5a7c3179-5e0f-470a-8e13-28d9ca28e6e1"
      },
      "source": [
        " np.sort(model.coef_[0])[:-11:-1]"
      ],
      "execution_count": null,
      "outputs": [
        {
          "output_type": "execute_result",
          "data": {
            "text/plain": [
              "array([10.1015186 ,  8.17068868,  5.97349197,  5.41103357,  5.34284637,\n",
              "        5.28926342,  4.61077643,  4.47882299,  4.39019126,  4.16128828])"
            ]
          },
          "metadata": {
            "tags": []
          },
          "execution_count": 118
        }
      ]
    },
    {
      "cell_type": "code",
      "metadata": {
        "id": "BoMhL2CkYzpA",
        "colab_type": "code",
        "colab": {}
      },
      "source": [
        ""
      ],
      "execution_count": null,
      "outputs": []
    },
    {
      "cell_type": "markdown",
      "metadata": {
        "id": "I-kRmQ97YzpD",
        "colab_type": "text"
      },
      "source": [
        "# Tfidf"
      ]
    },
    {
      "cell_type": "code",
      "metadata": {
        "id": "6V1C36A4YzpE",
        "colab_type": "code",
        "colab": {},
        "outputId": "2c68c457-de92-4d9b-b4d4-249643bb972d"
      },
      "source": [
        "from sklearn.feature_extraction.text import TfidfVectorizer\n",
        "\n",
        "# Fit the TfidfVectorizer to the training data specifiying a minimum document frequency of 5\n",
        "vect = TfidfVectorizer(min_df=5).fit(X_train)\n",
        "len(vect.get_feature_names())"
      ],
      "execution_count": null,
      "outputs": [
        {
          "output_type": "execute_result",
          "data": {
            "text/plain": [
              "5442"
            ]
          },
          "metadata": {
            "tags": []
          },
          "execution_count": 119
        }
      ]
    },
    {
      "cell_type": "code",
      "metadata": {
        "id": "9Vr-r7JgYzpI",
        "colab_type": "code",
        "colab": {}
      },
      "source": [
        "#? TfidfVectorizer"
      ],
      "execution_count": null,
      "outputs": []
    },
    {
      "cell_type": "code",
      "metadata": {
        "id": "lrq8n-kvYzpL",
        "colab_type": "code",
        "colab": {},
        "outputId": "36acdda2-8c58-45b7-95a6-38cf70fc3c3c"
      },
      "source": [
        "X_train_vectorized = vect.transform(X_train)\n",
        "\n",
        "model = LogisticRegression()\n",
        "model.fit(X_train_vectorized, y_train)\n",
        "\n",
        "predictions = model.predict(vect.transform(X_test))\n",
        "\n",
        "print('AUC: ', roc_auc_score(y_test, predictions))"
      ],
      "execution_count": null,
      "outputs": [
        {
          "output_type": "stream",
          "text": [
            "AUC:  0.889951006492175\n"
          ],
          "name": "stdout"
        }
      ]
    },
    {
      "cell_type": "code",
      "metadata": {
        "id": "dnc6ruoPYzpP",
        "colab_type": "code",
        "colab": {},
        "outputId": "0891cf6b-9291-491f-a124-0eafabf6da59"
      },
      "source": [
        "feature_names = np.array(vect.get_feature_names())\n",
        "\n",
        "sorted_tfidf_index = X_train_vectorized.max(0).toarray()[0].argsort()\n",
        "\n",
        "print('Smallest tfidf:\\n{}\\n'.format(feature_names[sorted_tfidf_index[:10]]))\n",
        "print('Largest tfidf: \\n{}'.format(feature_names[sorted_tfidf_index[:-11:-1]]))"
      ],
      "execution_count": null,
      "outputs": [
        {
          "output_type": "stream",
          "text": [
            "Smallest tfidf:\n",
            "['61' 'printer' 'approach' 'adjustment' 'consequences' 'length' 'emailing'\n",
            " 'degrees' 'handsfree' 'chipset']\n",
            "\n",
            "Largest tfidf: \n",
            "['unlocked' 'handy' 'useless' 'cheat' 'up' 'original' 'exelent' 'exelente'\n",
            " 'exellent' 'satisfied']\n"
          ],
          "name": "stdout"
        }
      ]
    },
    {
      "cell_type": "code",
      "metadata": {
        "id": "GqCk_rlQYzpj",
        "colab_type": "code",
        "colab": {},
        "outputId": "646aa321-e8d9-490f-c952-dd654d512eac"
      },
      "source": [
        "sorted_coef_index = model.coef_[0].argsort()\n",
        "\n",
        "print('Smallest Coefs:\\n{}\\n'.format(feature_names[sorted_coef_index[:10]]))\n",
        "print('Largest Coefs: \\n{}'.format(feature_names[sorted_coef_index[:-11:-1]]))"
      ],
      "execution_count": null,
      "outputs": [
        {
          "output_type": "stream",
          "text": [
            "Smallest Coefs:\n",
            "['not' 'slow' 'disappointed' 'worst' 'terrible' 'never' 'return' 'doesn'\n",
            " 'horrible' 'waste']\n",
            "\n",
            "Largest Coefs: \n",
            "['great' 'love' 'excellent' 'good' 'best' 'perfect' 'price' 'awesome'\n",
            " 'far' 'perfectly']\n"
          ],
          "name": "stdout"
        }
      ]
    },
    {
      "cell_type": "code",
      "metadata": {
        "id": "JUaMfWWyYzpo",
        "colab_type": "code",
        "colab": {},
        "outputId": "fcbd2fa3-9200-4c84-8e70-6bf83b7b9496"
      },
      "source": [
        "# These reviews are treated the same by our current model\n",
        "print(model.predict(vect.transform(['not an issue, phone is working',\n",
        "                                    'an issue, phone is not working'])))"
      ],
      "execution_count": null,
      "outputs": [
        {
          "output_type": "stream",
          "text": [
            "[0 0]\n"
          ],
          "name": "stdout"
        }
      ]
    },
    {
      "cell_type": "markdown",
      "metadata": {
        "id": "43p8FNbhYzpv",
        "colab_type": "text"
      },
      "source": [
        "# n-grams"
      ]
    },
    {
      "cell_type": "code",
      "metadata": {
        "id": "1hLRhxD0Yzpw",
        "colab_type": "code",
        "colab": {},
        "outputId": "bccdaf45-f6d5-4b1a-f693-028dd7698268"
      },
      "source": [
        "# Fit the CountVectorizer to the training data specifiying a minimum \n",
        "# document frequency of 5 and extracting 1-grams and 2-grams\n",
        "vect = CountVectorizer(min_df=5, ngram_range=(1,2)).fit(X_train)\n",
        "\n",
        "X_train_vectorized = vect.transform(X_train)\n",
        "\n",
        "len(vect.get_feature_names())"
      ],
      "execution_count": null,
      "outputs": [
        {
          "output_type": "execute_result",
          "data": {
            "text/plain": [
              "29072"
            ]
          },
          "metadata": {
            "tags": []
          },
          "execution_count": 128
        }
      ]
    },
    {
      "cell_type": "code",
      "metadata": {
        "id": "HNxCOPACYzpy",
        "colab_type": "code",
        "colab": {},
        "outputId": "3b31bb09-ebe8-4781-f665-15a7abad37c9"
      },
      "source": [
        "model = LogisticRegression(solver=\"liblinear\")\n",
        "model.fit(X_train_vectorized, y_train)\n",
        "\n",
        "predictions = model.predict(vect.transform(X_test))\n",
        "\n",
        "print('AUC: ', roc_auc_score(y_test, predictions))"
      ],
      "execution_count": null,
      "outputs": [
        {
          "output_type": "stream",
          "text": [
            "AUC:  0.9110661794597458\n"
          ],
          "name": "stdout"
        }
      ]
    },
    {
      "cell_type": "code",
      "metadata": {
        "id": "TeM6GOB3Yzp1",
        "colab_type": "code",
        "colab": {},
        "outputId": "fa24d835-d23e-4236-86d9-28c7cd6fd9a9"
      },
      "source": [
        "feature_names = np.array(vect.get_feature_names())\n",
        "\n",
        "sorted_coef_index = model.coef_[0].argsort()\n",
        "\n",
        "print('Smallest Coefs:\\n{}\\n'.format(feature_names[sorted_coef_index[:10]]))\n",
        "print('Largest Coefs: \\n{}'.format(feature_names[sorted_coef_index[:-11:-1]]))"
      ],
      "execution_count": null,
      "outputs": [
        {
          "output_type": "stream",
          "text": [
            "Smallest Coefs:\n",
            "['no good' 'junk' 'poor' 'slow' 'worst' 'broken' 'not good' 'terrible'\n",
            " 'defective' 'horrible']\n",
            "\n",
            "Largest Coefs: \n",
            "['excellent' 'excelente' 'excelent' 'perfect' 'great' 'love' 'awesome'\n",
            " 'no problems' 'good' 'best']\n"
          ],
          "name": "stdout"
        }
      ]
    },
    {
      "cell_type": "code",
      "metadata": {
        "id": "n4WCyaqlYzp4",
        "colab_type": "code",
        "colab": {},
        "outputId": "d34cb448-b8ab-474f-e46e-c8d78672a51d"
      },
      "source": [
        "# These reviews are now correctly identified\n",
        "print(model.predict(vect.transform(['not an issue, phone is working',\n",
        "                                    'an issue, phone is not working'])))"
      ],
      "execution_count": null,
      "outputs": [
        {
          "output_type": "stream",
          "text": [
            "[1 0]\n"
          ],
          "name": "stdout"
        }
      ]
    },
    {
      "cell_type": "code",
      "metadata": {
        "id": "2X_tvkmgYzp8",
        "colab_type": "code",
        "colab": {}
      },
      "source": [
        "myDiction={\"name\": \"john\", \"data\": np.arange(100).reshape(20,5)}"
      ],
      "execution_count": null,
      "outputs": []
    },
    {
      "cell_type": "code",
      "metadata": {
        "id": "t0J2QKjrYzp-",
        "colab_type": "code",
        "colab": {}
      },
      "source": [
        "import pickle"
      ],
      "execution_count": null,
      "outputs": []
    },
    {
      "cell_type": "code",
      "metadata": {
        "id": "STonNtdIYzqB",
        "colab_type": "code",
        "colab": {}
      },
      "source": [
        "myfile=open(\"data.pkl\", \"wb\")\n",
        "pickle.dump(myDiction, myfile)"
      ],
      "execution_count": null,
      "outputs": []
    },
    {
      "cell_type": "code",
      "metadata": {
        "id": "I28AFZ-bYzqE",
        "colab_type": "code",
        "colab": {}
      },
      "source": [
        "myfile.close()"
      ],
      "execution_count": null,
      "outputs": []
    },
    {
      "cell_type": "code",
      "metadata": {
        "id": "C-f_M7afYzqH",
        "colab_type": "code",
        "colab": {},
        "outputId": "42369c6b-2820-4481-c9be-87dd44fc51fb"
      },
      "source": [
        "!ls"
      ],
      "execution_count": null,
      "outputs": [
        {
          "output_type": "stream",
          "text": [
            "Amazon_Unlocked_Mobile.csv\n",
            "data.pkl\n",
            "dates.txt\n",
            "moby.txt\n",
            "mygrammar.cfg\n",
            "paraphrases.csv\n",
            "spam.csv\n",
            "temp.csv\n",
            "textMining\n",
            "TextMining_NLTK_Consolidated-Copy1.ipynb\n",
            "TextMining_NLTK_Consolidated_ModifApril2019WithDataLink.ipynb\n",
            "textMining.tar.gz\n",
            "TM_Data\n",
            "TM_Data.zip\n"
          ],
          "name": "stdout"
        }
      ]
    },
    {
      "cell_type": "code",
      "metadata": {
        "id": "qppfdC3sYzqJ",
        "colab_type": "code",
        "colab": {}
      },
      "source": [
        "myfile=open(\"mymodel.pkl\", \"wb\")\n",
        "pickle.dump([model,vect], myfile)\n",
        "myfile.close()\n",
        "\n"
      ],
      "execution_count": null,
      "outputs": []
    },
    {
      "cell_type": "code",
      "metadata": {
        "id": "F8PmX93ZYzqM",
        "colab_type": "code",
        "colab": {}
      },
      "source": [
        "from joblib import dump, load"
      ],
      "execution_count": null,
      "outputs": []
    },
    {
      "cell_type": "code",
      "metadata": {
        "id": "9hHyz2HPYzqO",
        "colab_type": "code",
        "colab": {},
        "outputId": "c8e1faa1-d331-4d00-eda3-d319cb00dd4d"
      },
      "source": [
        "dump([model,vect], \"modeVec.joblib\")"
      ],
      "execution_count": null,
      "outputs": [
        {
          "output_type": "execute_result",
          "data": {
            "text/plain": [
              "['modeVec.joblib']"
            ]
          },
          "metadata": {
            "tags": []
          },
          "execution_count": 51
        }
      ]
    },
    {
      "cell_type": "code",
      "metadata": {
        "id": "2CPBN9YCYzqR",
        "colab_type": "code",
        "colab": {}
      },
      "source": [
        "model1, vec1=load(\"modeVec.joblib\")"
      ],
      "execution_count": null,
      "outputs": []
    },
    {
      "cell_type": "code",
      "metadata": {
        "id": "rZ-8ZqbnYzqT",
        "colab_type": "code",
        "colab": {}
      },
      "source": [
        "mydata=np.arange(10)"
      ],
      "execution_count": null,
      "outputs": []
    },
    {
      "cell_type": "code",
      "metadata": {
        "id": "hhF-rdFOYzqW",
        "colab_type": "code",
        "colab": {},
        "outputId": "017bc724-0b7e-40cf-cd84-42be059d4601"
      },
      "source": [
        "np.save(mydata, \"mydata\")"
      ],
      "execution_count": null,
      "outputs": [
        {
          "output_type": "error",
          "ename": "TypeError",
          "evalue": "expected str, bytes or os.PathLike object, not ndarray",
          "traceback": [
            "\u001b[0;31m---------------------------------------------------------------------------\u001b[0m",
            "\u001b[0;31mAttributeError\u001b[0m                            Traceback (most recent call last)",
            "\u001b[0;32m/usr/local/lib/python3.5/dist-packages/numpy/compat/py3k.py\u001b[0m in \u001b[0;36mos_fspath\u001b[0;34m(path)\u001b[0m\n\u001b[1;32m    232\u001b[0m         \u001b[0;32mtry\u001b[0m\u001b[0;34m:\u001b[0m\u001b[0;34m\u001b[0m\u001b[0m\n\u001b[0;32m--> 233\u001b[0;31m             \u001b[0mpath_repr\u001b[0m \u001b[0;34m=\u001b[0m \u001b[0mpath_type\u001b[0m\u001b[0;34m.\u001b[0m\u001b[0m__fspath__\u001b[0m\u001b[0;34m(\u001b[0m\u001b[0mpath\u001b[0m\u001b[0;34m)\u001b[0m\u001b[0;34m\u001b[0m\u001b[0m\n\u001b[0m\u001b[1;32m    234\u001b[0m         \u001b[0;32mexcept\u001b[0m \u001b[0mAttributeError\u001b[0m\u001b[0;34m:\u001b[0m\u001b[0;34m\u001b[0m\u001b[0m\n",
            "\u001b[0;31mAttributeError\u001b[0m: type object 'numpy.ndarray' has no attribute '__fspath__'",
            "\nDuring handling of the above exception, another exception occurred:\n",
            "\u001b[0;31mTypeError\u001b[0m                                 Traceback (most recent call last)",
            "\u001b[0;32m<ipython-input-56-27ebf49d3c43>\u001b[0m in \u001b[0;36m<module>\u001b[0;34m()\u001b[0m\n\u001b[0;32m----> 1\u001b[0;31m \u001b[0mnp\u001b[0m\u001b[0;34m.\u001b[0m\u001b[0msave\u001b[0m\u001b[0;34m(\u001b[0m\u001b[0mmydata\u001b[0m\u001b[0;34m,\u001b[0m \u001b[0;34m\"mydata\"\u001b[0m\u001b[0;34m)\u001b[0m\u001b[0;34m\u001b[0m\u001b[0m\n\u001b[0m",
            "\u001b[0;32m<__array_function__ internals>\u001b[0m in \u001b[0;36msave\u001b[0;34m(*args, **kwargs)\u001b[0m\n",
            "\u001b[0;32m/usr/local/lib/python3.5/dist-packages/numpy/lib/npyio.py\u001b[0m in \u001b[0;36msave\u001b[0;34m(file, arr, allow_pickle, fix_imports)\u001b[0m\n\u001b[1;32m    525\u001b[0m         \u001b[0mfid\u001b[0m \u001b[0;34m=\u001b[0m \u001b[0mfile\u001b[0m\u001b[0;34m\u001b[0m\u001b[0m\n\u001b[1;32m    526\u001b[0m     \u001b[0;32melse\u001b[0m\u001b[0;34m:\u001b[0m\u001b[0;34m\u001b[0m\u001b[0m\n\u001b[0;32m--> 527\u001b[0;31m         \u001b[0mfile\u001b[0m \u001b[0;34m=\u001b[0m \u001b[0mos_fspath\u001b[0m\u001b[0;34m(\u001b[0m\u001b[0mfile\u001b[0m\u001b[0;34m)\u001b[0m\u001b[0;34m\u001b[0m\u001b[0m\n\u001b[0m\u001b[1;32m    528\u001b[0m         \u001b[0;32mif\u001b[0m \u001b[0;32mnot\u001b[0m \u001b[0mfile\u001b[0m\u001b[0;34m.\u001b[0m\u001b[0mendswith\u001b[0m\u001b[0;34m(\u001b[0m\u001b[0;34m'.npy'\u001b[0m\u001b[0;34m)\u001b[0m\u001b[0;34m:\u001b[0m\u001b[0;34m\u001b[0m\u001b[0m\n\u001b[1;32m    529\u001b[0m             \u001b[0mfile\u001b[0m \u001b[0;34m=\u001b[0m \u001b[0mfile\u001b[0m \u001b[0;34m+\u001b[0m \u001b[0;34m'.npy'\u001b[0m\u001b[0;34m\u001b[0m\u001b[0m\n",
            "\u001b[0;32m/usr/local/lib/python3.5/dist-packages/numpy/compat/py3k.py\u001b[0m in \u001b[0;36mos_fspath\u001b[0;34m(path)\u001b[0m\n\u001b[1;32m    239\u001b[0m             \u001b[0;32melse\u001b[0m\u001b[0;34m:\u001b[0m\u001b[0;34m\u001b[0m\u001b[0m\n\u001b[1;32m    240\u001b[0m                 raise TypeError(\"expected str, bytes or os.PathLike object, \"\n\u001b[0;32m--> 241\u001b[0;31m                                 \"not \" + path_type.__name__)\n\u001b[0m\u001b[1;32m    242\u001b[0m         \u001b[0;32mif\u001b[0m \u001b[0misinstance\u001b[0m\u001b[0;34m(\u001b[0m\u001b[0mpath_repr\u001b[0m\u001b[0;34m,\u001b[0m \u001b[0;34m(\u001b[0m\u001b[0mstr\u001b[0m\u001b[0;34m,\u001b[0m \u001b[0mbytes\u001b[0m\u001b[0;34m)\u001b[0m\u001b[0;34m)\u001b[0m\u001b[0;34m:\u001b[0m\u001b[0;34m\u001b[0m\u001b[0m\n\u001b[1;32m    243\u001b[0m             \u001b[0;32mreturn\u001b[0m \u001b[0mpath_repr\u001b[0m\u001b[0;34m\u001b[0m\u001b[0m\n",
            "\u001b[0;31mTypeError\u001b[0m: expected str, bytes or os.PathLike object, not ndarray"
          ]
        }
      ]
    },
    {
      "cell_type": "code",
      "metadata": {
        "id": "WO2yQE5bYzqa",
        "colab_type": "code",
        "colab": {}
      },
      "source": [
        ""
      ],
      "execution_count": null,
      "outputs": []
    }
  ]
}